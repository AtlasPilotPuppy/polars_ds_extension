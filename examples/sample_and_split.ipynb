{
 "cells": [
  {
   "cell_type": "markdown",
   "metadata": {},
   "source": [
    "# Sampling and Splitting"
   ]
  },
  {
   "cell_type": "markdown",
   "metadata": {},
   "source": [
    "## Sampling\n",
    "\n",
    "Sampling for basic tabular datasets. (Not designed for time series as of now.)"
   ]
  },
  {
   "cell_type": "code",
   "execution_count": 1,
   "metadata": {},
   "outputs": [],
   "source": [
    "import polars as pl\n",
    "import polars_ds as pds\n",
    "import polars_ds.sample as sa"
   ]
  },
  {
   "cell_type": "code",
   "execution_count": 2,
   "metadata": {},
   "outputs": [
    {
     "data": {
      "text/html": [
       "<div><style>\n",
       ".dataframe > thead > tr,\n",
       ".dataframe > tbody > tr {\n",
       "  text-align: right;\n",
       "  white-space: pre-wrap;\n",
       "}\n",
       "</style>\n",
       "<small>shape: (5, 8)</small><table border=\"1\" class=\"dataframe\"><thead><tr><th>row_num</th><th>uniform_1</th><th>uniform_2</th><th>exp</th><th>normal</th><th>fat_normal</th><th>flags</th><th>category</th></tr><tr><td>i64</td><td>f64</td><td>f64</td><td>f64</td><td>f64</td><td>f64</td><td>i32</td><td>str</td></tr></thead><tbody><tr><td>0</td><td>1.864966</td><td>0.983112</td><td>2.134098</td><td>0.201208</td><td>-510.167817</td><td>1</td><td>&quot;A&quot;</td></tr><tr><td>1</td><td>3.681365</td><td>0.072616</td><td>0.24552</td><td>-2.180395</td><td>-1230.797029</td><td>2</td><td>&quot;A&quot;</td></tr><tr><td>2</td><td>7.138163</td><td>0.068923</td><td>0.498513</td><td>-1.737763</td><td>-914.757436</td><td>2</td><td>&quot;A&quot;</td></tr><tr><td>3</td><td>9.2411</td><td>0.006129</td><td>0.670527</td><td>-1.500905</td><td>-1025.144372</td><td>1</td><td>&quot;A&quot;</td></tr><tr><td>4</td><td>7.874972</td><td>0.638764</td><td>2.159589</td><td>0.490217</td><td>1329.546535</td><td>0</td><td>&quot;A&quot;</td></tr></tbody></table></div>"
      ],
      "text/plain": [
       "shape: (5, 8)\n",
       "┌─────────┬───────────┬───────────┬──────────┬───────────┬──────────────┬───────┬──────────┐\n",
       "│ row_num ┆ uniform_1 ┆ uniform_2 ┆ exp      ┆ normal    ┆ fat_normal   ┆ flags ┆ category │\n",
       "│ ---     ┆ ---       ┆ ---       ┆ ---      ┆ ---       ┆ ---          ┆ ---   ┆ ---      │\n",
       "│ i64     ┆ f64       ┆ f64       ┆ f64      ┆ f64       ┆ f64          ┆ i32   ┆ str      │\n",
       "╞═════════╪═══════════╪═══════════╪══════════╪═══════════╪══════════════╪═══════╪══════════╡\n",
       "│ 0       ┆ 1.864966  ┆ 0.983112  ┆ 2.134098 ┆ 0.201208  ┆ -510.167817  ┆ 1     ┆ A        │\n",
       "│ 1       ┆ 3.681365  ┆ 0.072616  ┆ 0.24552  ┆ -2.180395 ┆ -1230.797029 ┆ 2     ┆ A        │\n",
       "│ 2       ┆ 7.138163  ┆ 0.068923  ┆ 0.498513 ┆ -1.737763 ┆ -914.757436  ┆ 2     ┆ A        │\n",
       "│ 3       ┆ 9.2411    ┆ 0.006129  ┆ 0.670527 ┆ -1.500905 ┆ -1025.144372 ┆ 1     ┆ A        │\n",
       "│ 4       ┆ 7.874972  ┆ 0.638764  ┆ 2.159589 ┆ 0.490217  ┆ 1329.546535  ┆ 0     ┆ A        │\n",
       "└─────────┴───────────┴───────────┴──────────┴───────────┴──────────────┴───────┴──────────┘"
      ]
     },
     "execution_count": 2,
     "metadata": {},
     "output_type": "execute_result"
    }
   ],
   "source": [
    "df = pds.random_data(size=100_000, n_cols = 0).with_columns(\n",
    "    pds.random(0.0, 12.0).alias(\"uniform_1\"),\n",
    "    pds.random(0.0, 1.0).alias(\"uniform_2\"),\n",
    "    pds.random_exp(0.5).alias(\"exp\"),\n",
    "    pds.random_normal(0.0, 1.0).alias(\"normal\"),\n",
    "    pds.random_normal(0.0, 1000.0).alias(\"fat_normal\"),\n",
    "    (pds.random_int(0, 3)).alias(\"flags\"),\n",
    "    pl.Series([\"A\"] * 30_000 + [\"B\"] * 30_000 + [\"C\"] * 40_000).alias(\"category\"),\n",
    ")\n",
    "df.head()"
   ]
  },
  {
   "cell_type": "code",
   "execution_count": 3,
   "metadata": {},
   "outputs": [
    {
     "data": {
      "text/plain": [
       "['row_num', 'fat_normal', 'flags']"
      ]
     },
     "execution_count": 3,
     "metadata": {},
     "output_type": "execute_result"
    }
   ],
   "source": [
    "sa.random_cols(df, 2, keep = [\"row_num\"])"
   ]
  },
  {
   "cell_type": "code",
   "execution_count": 4,
   "metadata": {},
   "outputs": [
    {
     "data": {
      "text/html": [
       "<div><style>\n",
       ".dataframe > thead > tr,\n",
       ".dataframe > tbody > tr {\n",
       "  text-align: right;\n",
       "  white-space: pre-wrap;\n",
       "}\n",
       "</style>\n",
       "<small>shape: (60_000, 8)</small><table border=\"1\" class=\"dataframe\"><thead><tr><th>row_num</th><th>uniform_1</th><th>uniform_2</th><th>exp</th><th>normal</th><th>fat_normal</th><th>flags</th><th>category</th></tr><tr><td>i64</td><td>f64</td><td>f64</td><td>f64</td><td>f64</td><td>f64</td><td>i32</td><td>str</td></tr></thead><tbody><tr><td>0</td><td>1.864966</td><td>0.983112</td><td>2.134098</td><td>0.201208</td><td>-510.167817</td><td>1</td><td>&quot;A&quot;</td></tr><tr><td>1</td><td>3.681365</td><td>0.072616</td><td>0.24552</td><td>-2.180395</td><td>-1230.797029</td><td>2</td><td>&quot;A&quot;</td></tr><tr><td>2</td><td>7.138163</td><td>0.068923</td><td>0.498513</td><td>-1.737763</td><td>-914.757436</td><td>2</td><td>&quot;A&quot;</td></tr><tr><td>4</td><td>7.874972</td><td>0.638764</td><td>2.159589</td><td>0.490217</td><td>1329.546535</td><td>0</td><td>&quot;A&quot;</td></tr><tr><td>5</td><td>1.479464</td><td>0.703649</td><td>0.48033</td><td>0.550675</td><td>186.879146</td><td>1</td><td>&quot;A&quot;</td></tr><tr><td>6</td><td>11.354059</td><td>0.881735</td><td>2.399495</td><td>-0.720839</td><td>-376.389466</td><td>2</td><td>&quot;A&quot;</td></tr><tr><td>7</td><td>7.981127</td><td>0.199884</td><td>0.335183</td><td>-0.223638</td><td>-168.936382</td><td>2</td><td>&quot;A&quot;</td></tr><tr><td>8</td><td>3.539316</td><td>0.618786</td><td>2.968125</td><td>-0.066433</td><td>3852.290115</td><td>0</td><td>&quot;A&quot;</td></tr><tr><td>12</td><td>2.881549</td><td>0.306653</td><td>1.828217</td><td>0.594723</td><td>1189.461612</td><td>0</td><td>&quot;A&quot;</td></tr><tr><td>13</td><td>11.286761</td><td>0.200552</td><td>4.836837</td><td>0.725427</td><td>-18.039201</td><td>2</td><td>&quot;A&quot;</td></tr><tr><td>16</td><td>7.879337</td><td>0.194351</td><td>1.395224</td><td>-1.621337</td><td>253.488052</td><td>0</td><td>&quot;A&quot;</td></tr><tr><td>17</td><td>6.88781</td><td>0.436873</td><td>2.56461</td><td>0.799571</td><td>-573.229085</td><td>2</td><td>&quot;A&quot;</td></tr><tr><td>&hellip;</td><td>&hellip;</td><td>&hellip;</td><td>&hellip;</td><td>&hellip;</td><td>&hellip;</td><td>&hellip;</td><td>&hellip;</td></tr><tr><td>99984</td><td>3.175364</td><td>0.521214</td><td>2.621609</td><td>-0.259841</td><td>-207.322052</td><td>1</td><td>&quot;C&quot;</td></tr><tr><td>99985</td><td>2.982497</td><td>0.046959</td><td>2.013501</td><td>-1.38318</td><td>-449.496094</td><td>0</td><td>&quot;C&quot;</td></tr><tr><td>99986</td><td>9.715497</td><td>0.173048</td><td>7.787587</td><td>0.031314</td><td>-745.802171</td><td>1</td><td>&quot;C&quot;</td></tr><tr><td>99987</td><td>0.464149</td><td>0.052577</td><td>0.251207</td><td>-0.550988</td><td>211.994715</td><td>1</td><td>&quot;C&quot;</td></tr><tr><td>99988</td><td>2.90002</td><td>0.140729</td><td>0.39061</td><td>0.420128</td><td>543.348445</td><td>0</td><td>&quot;C&quot;</td></tr><tr><td>99989</td><td>7.725916</td><td>0.608843</td><td>1.518604</td><td>0.872585</td><td>-1046.055152</td><td>1</td><td>&quot;C&quot;</td></tr><tr><td>99990</td><td>2.550447</td><td>0.136828</td><td>1.878146</td><td>-0.443894</td><td>1299.166574</td><td>1</td><td>&quot;C&quot;</td></tr><tr><td>99993</td><td>6.344932</td><td>0.91468</td><td>0.077694</td><td>0.667014</td><td>274.197044</td><td>1</td><td>&quot;C&quot;</td></tr><tr><td>99995</td><td>7.751136</td><td>0.991215</td><td>0.341938</td><td>0.74724</td><td>468.091164</td><td>1</td><td>&quot;C&quot;</td></tr><tr><td>99996</td><td>8.932153</td><td>0.149342</td><td>2.017135</td><td>0.254913</td><td>-1555.19188</td><td>0</td><td>&quot;C&quot;</td></tr><tr><td>99997</td><td>6.366458</td><td>0.825137</td><td>1.149404</td><td>-0.653029</td><td>211.288954</td><td>1</td><td>&quot;C&quot;</td></tr><tr><td>99999</td><td>5.021382</td><td>0.405893</td><td>2.745867</td><td>0.800525</td><td>1572.618783</td><td>1</td><td>&quot;C&quot;</td></tr></tbody></table></div>"
      ],
      "text/plain": [
       "shape: (60_000, 8)\n",
       "┌─────────┬───────────┬───────────┬──────────┬───────────┬──────────────┬───────┬──────────┐\n",
       "│ row_num ┆ uniform_1 ┆ uniform_2 ┆ exp      ┆ normal    ┆ fat_normal   ┆ flags ┆ category │\n",
       "│ ---     ┆ ---       ┆ ---       ┆ ---      ┆ ---       ┆ ---          ┆ ---   ┆ ---      │\n",
       "│ i64     ┆ f64       ┆ f64       ┆ f64      ┆ f64       ┆ f64          ┆ i32   ┆ str      │\n",
       "╞═════════╪═══════════╪═══════════╪══════════╪═══════════╪══════════════╪═══════╪══════════╡\n",
       "│ 0       ┆ 1.864966  ┆ 0.983112  ┆ 2.134098 ┆ 0.201208  ┆ -510.167817  ┆ 1     ┆ A        │\n",
       "│ 1       ┆ 3.681365  ┆ 0.072616  ┆ 0.24552  ┆ -2.180395 ┆ -1230.797029 ┆ 2     ┆ A        │\n",
       "│ 2       ┆ 7.138163  ┆ 0.068923  ┆ 0.498513 ┆ -1.737763 ┆ -914.757436  ┆ 2     ┆ A        │\n",
       "│ 4       ┆ 7.874972  ┆ 0.638764  ┆ 2.159589 ┆ 0.490217  ┆ 1329.546535  ┆ 0     ┆ A        │\n",
       "│ 5       ┆ 1.479464  ┆ 0.703649  ┆ 0.48033  ┆ 0.550675  ┆ 186.879146   ┆ 1     ┆ A        │\n",
       "│ …       ┆ …         ┆ …         ┆ …        ┆ …         ┆ …            ┆ …     ┆ …        │\n",
       "│ 99993   ┆ 6.344932  ┆ 0.91468   ┆ 0.077694 ┆ 0.667014  ┆ 274.197044   ┆ 1     ┆ C        │\n",
       "│ 99995   ┆ 7.751136  ┆ 0.991215  ┆ 0.341938 ┆ 0.74724   ┆ 468.091164   ┆ 1     ┆ C        │\n",
       "│ 99996   ┆ 8.932153  ┆ 0.149342  ┆ 2.017135 ┆ 0.254913  ┆ -1555.19188  ┆ 0     ┆ C        │\n",
       "│ 99997   ┆ 6.366458  ┆ 0.825137  ┆ 1.149404 ┆ -0.653029 ┆ 211.288954   ┆ 1     ┆ C        │\n",
       "│ 99999   ┆ 5.021382  ┆ 0.405893  ┆ 2.745867 ┆ 0.800525  ┆ 1572.618783  ┆ 1     ┆ C        │\n",
       "└─────────┴───────────┴───────────┴──────────┴───────────┴──────────────┴───────┴──────────┘"
      ]
     },
     "execution_count": 4,
     "metadata": {},
     "output_type": "execute_result"
    }
   ],
   "source": [
    "# Random Sample\n",
    "sa.sample(df, 0.6) # by ratio"
   ]
  },
  {
   "cell_type": "code",
   "execution_count": 5,
   "metadata": {},
   "outputs": [
    {
     "data": {
      "text/html": [
       "<div><style>\n",
       ".dataframe > thead > tr,\n",
       ".dataframe > tbody > tr {\n",
       "  text-align: right;\n",
       "  white-space: pre-wrap;\n",
       "}\n",
       "</style>\n",
       "<small>shape: (30_000, 8)</small><table border=\"1\" class=\"dataframe\"><thead><tr><th>row_num</th><th>uniform_1</th><th>uniform_2</th><th>exp</th><th>normal</th><th>fat_normal</th><th>flags</th><th>category</th></tr><tr><td>i64</td><td>f64</td><td>f64</td><td>f64</td><td>f64</td><td>f64</td><td>i32</td><td>str</td></tr></thead><tbody><tr><td>4</td><td>7.874972</td><td>0.638764</td><td>2.159589</td><td>0.490217</td><td>1329.546535</td><td>0</td><td>&quot;A&quot;</td></tr><tr><td>5</td><td>1.479464</td><td>0.703649</td><td>0.48033</td><td>0.550675</td><td>186.879146</td><td>1</td><td>&quot;A&quot;</td></tr><tr><td>6</td><td>11.354059</td><td>0.881735</td><td>2.399495</td><td>-0.720839</td><td>-376.389466</td><td>2</td><td>&quot;A&quot;</td></tr><tr><td>8</td><td>3.539316</td><td>0.618786</td><td>2.968125</td><td>-0.066433</td><td>3852.290115</td><td>0</td><td>&quot;A&quot;</td></tr><tr><td>12</td><td>2.881549</td><td>0.306653</td><td>1.828217</td><td>0.594723</td><td>1189.461612</td><td>0</td><td>&quot;A&quot;</td></tr><tr><td>13</td><td>11.286761</td><td>0.200552</td><td>4.836837</td><td>0.725427</td><td>-18.039201</td><td>2</td><td>&quot;A&quot;</td></tr><tr><td>22</td><td>2.833185</td><td>0.043957</td><td>3.999065</td><td>-0.735753</td><td>357.525422</td><td>2</td><td>&quot;A&quot;</td></tr><tr><td>25</td><td>11.359116</td><td>0.191183</td><td>0.703892</td><td>0.195382</td><td>-1028.061174</td><td>0</td><td>&quot;A&quot;</td></tr><tr><td>27</td><td>6.276564</td><td>0.892571</td><td>0.734094</td><td>0.648778</td><td>-1995.465652</td><td>0</td><td>&quot;A&quot;</td></tr><tr><td>32</td><td>11.959182</td><td>0.665287</td><td>2.574619</td><td>1.856659</td><td>-982.271182</td><td>1</td><td>&quot;A&quot;</td></tr><tr><td>34</td><td>6.493756</td><td>0.947386</td><td>1.745573</td><td>0.261902</td><td>598.127735</td><td>0</td><td>&quot;A&quot;</td></tr><tr><td>41</td><td>9.549829</td><td>0.69802</td><td>2.068939</td><td>-1.506053</td><td>57.884184</td><td>2</td><td>&quot;A&quot;</td></tr><tr><td>&hellip;</td><td>&hellip;</td><td>&hellip;</td><td>&hellip;</td><td>&hellip;</td><td>&hellip;</td><td>&hellip;</td><td>&hellip;</td></tr><tr><td>99965</td><td>8.612262</td><td>0.692854</td><td>3.455756</td><td>0.779895</td><td>433.966147</td><td>2</td><td>&quot;C&quot;</td></tr><tr><td>99966</td><td>3.343289</td><td>0.487011</td><td>3.656845</td><td>0.91173</td><td>870.313838</td><td>1</td><td>&quot;C&quot;</td></tr><tr><td>99968</td><td>4.45978</td><td>0.079741</td><td>3.194479</td><td>-0.210791</td><td>-843.718407</td><td>2</td><td>&quot;C&quot;</td></tr><tr><td>99971</td><td>9.711985</td><td>0.050049</td><td>0.078004</td><td>1.655786</td><td>-1371.070708</td><td>1</td><td>&quot;C&quot;</td></tr><tr><td>99972</td><td>1.047484</td><td>0.808619</td><td>0.347894</td><td>0.834854</td><td>-1020.64733</td><td>2</td><td>&quot;C&quot;</td></tr><tr><td>99977</td><td>8.589407</td><td>0.535741</td><td>0.131577</td><td>1.839748</td><td>-104.372155</td><td>1</td><td>&quot;C&quot;</td></tr><tr><td>99980</td><td>9.513081</td><td>0.958727</td><td>1.197324</td><td>2.042775</td><td>-1971.061272</td><td>1</td><td>&quot;C&quot;</td></tr><tr><td>99982</td><td>2.048097</td><td>0.19573</td><td>1.607711</td><td>0.141</td><td>-525.757109</td><td>1</td><td>&quot;C&quot;</td></tr><tr><td>99984</td><td>3.175364</td><td>0.521214</td><td>2.621609</td><td>-0.259841</td><td>-207.322052</td><td>1</td><td>&quot;C&quot;</td></tr><tr><td>99991</td><td>0.155865</td><td>0.938876</td><td>1.293072</td><td>-3.370048</td><td>677.127453</td><td>2</td><td>&quot;C&quot;</td></tr><tr><td>99995</td><td>7.751136</td><td>0.991215</td><td>0.341938</td><td>0.74724</td><td>468.091164</td><td>1</td><td>&quot;C&quot;</td></tr><tr><td>99997</td><td>6.366458</td><td>0.825137</td><td>1.149404</td><td>-0.653029</td><td>211.288954</td><td>1</td><td>&quot;C&quot;</td></tr></tbody></table></div>"
      ],
      "text/plain": [
       "shape: (30_000, 8)\n",
       "┌─────────┬───────────┬───────────┬──────────┬───────────┬─────────────┬───────┬──────────┐\n",
       "│ row_num ┆ uniform_1 ┆ uniform_2 ┆ exp      ┆ normal    ┆ fat_normal  ┆ flags ┆ category │\n",
       "│ ---     ┆ ---       ┆ ---       ┆ ---      ┆ ---       ┆ ---         ┆ ---   ┆ ---      │\n",
       "│ i64     ┆ f64       ┆ f64       ┆ f64      ┆ f64       ┆ f64         ┆ i32   ┆ str      │\n",
       "╞═════════╪═══════════╪═══════════╪══════════╪═══════════╪═════════════╪═══════╪══════════╡\n",
       "│ 4       ┆ 7.874972  ┆ 0.638764  ┆ 2.159589 ┆ 0.490217  ┆ 1329.546535 ┆ 0     ┆ A        │\n",
       "│ 5       ┆ 1.479464  ┆ 0.703649  ┆ 0.48033  ┆ 0.550675  ┆ 186.879146  ┆ 1     ┆ A        │\n",
       "│ 6       ┆ 11.354059 ┆ 0.881735  ┆ 2.399495 ┆ -0.720839 ┆ -376.389466 ┆ 2     ┆ A        │\n",
       "│ 8       ┆ 3.539316  ┆ 0.618786  ┆ 2.968125 ┆ -0.066433 ┆ 3852.290115 ┆ 0     ┆ A        │\n",
       "│ 12      ┆ 2.881549  ┆ 0.306653  ┆ 1.828217 ┆ 0.594723  ┆ 1189.461612 ┆ 0     ┆ A        │\n",
       "│ …       ┆ …         ┆ …         ┆ …        ┆ …         ┆ …           ┆ …     ┆ …        │\n",
       "│ 99982   ┆ 2.048097  ┆ 0.19573   ┆ 1.607711 ┆ 0.141     ┆ -525.757109 ┆ 1     ┆ C        │\n",
       "│ 99984   ┆ 3.175364  ┆ 0.521214  ┆ 2.621609 ┆ -0.259841 ┆ -207.322052 ┆ 1     ┆ C        │\n",
       "│ 99991   ┆ 0.155865  ┆ 0.938876  ┆ 1.293072 ┆ -3.370048 ┆ 677.127453  ┆ 2     ┆ C        │\n",
       "│ 99995   ┆ 7.751136  ┆ 0.991215  ┆ 0.341938 ┆ 0.74724   ┆ 468.091164  ┆ 1     ┆ C        │\n",
       "│ 99997   ┆ 6.366458  ┆ 0.825137  ┆ 1.149404 ┆ -0.653029 ┆ 211.288954  ┆ 1     ┆ C        │\n",
       "└─────────┴───────────┴───────────┴──────────┴───────────┴─────────────┴───────┴──────────┘"
      ]
     },
     "execution_count": 5,
     "metadata": {},
     "output_type": "execute_result"
    }
   ],
   "source": [
    "sa.sample(df, 30_000) # by count"
   ]
  },
  {
   "cell_type": "code",
   "execution_count": 6,
   "metadata": {},
   "outputs": [
    {
     "data": {
      "text/html": [
       "<div><style>\n",
       ".dataframe > thead > tr,\n",
       ".dataframe > tbody > tr {\n",
       "  text-align: right;\n",
       "  white-space: pre-wrap;\n",
       "}\n",
       "</style>\n",
       "<small>shape: (3, 2)</small><table border=\"1\" class=\"dataframe\"><thead><tr><th>flags</th><th>len</th></tr><tr><td>i32</td><td>u32</td></tr></thead><tbody><tr><td>0</td><td>33281</td></tr><tr><td>1</td><td>33469</td></tr><tr><td>2</td><td>33250</td></tr></tbody></table></div>"
      ],
      "text/plain": [
       "shape: (3, 2)\n",
       "┌───────┬───────┐\n",
       "│ flags ┆ len   │\n",
       "│ ---   ┆ ---   │\n",
       "│ i32   ┆ u32   │\n",
       "╞═══════╪═══════╡\n",
       "│ 0     ┆ 33281 │\n",
       "│ 1     ┆ 33469 │\n",
       "│ 2     ┆ 33250 │\n",
       "└───────┴───────┘"
      ]
     },
     "execution_count": 6,
     "metadata": {},
     "output_type": "execute_result"
    }
   ],
   "source": [
    "df.group_by(\"flags\").len().sort(\"flags\")"
   ]
  },
  {
   "cell_type": "code",
   "execution_count": 7,
   "metadata": {},
   "outputs": [
    {
     "data": {
      "text/html": [
       "<div><style>\n",
       ".dataframe > thead > tr,\n",
       ".dataframe > tbody > tr {\n",
       "  text-align: right;\n",
       "  white-space: pre-wrap;\n",
       "}\n",
       "</style>\n",
       "<small>shape: (3, 2)</small><table border=\"1\" class=\"dataframe\"><thead><tr><th>flags</th><th>len</th></tr><tr><td>i32</td><td>u32</td></tr></thead><tbody><tr><td>0</td><td>16641</td></tr><tr><td>1</td><td>33469</td></tr><tr><td>2</td><td>33250</td></tr></tbody></table></div>"
      ],
      "text/plain": [
       "shape: (3, 2)\n",
       "┌───────┬───────┐\n",
       "│ flags ┆ len   │\n",
       "│ ---   ┆ ---   │\n",
       "│ i32   ┆ u32   │\n",
       "╞═══════╪═══════╡\n",
       "│ 0     ┆ 16641 │\n",
       "│ 1     ┆ 33469 │\n",
       "│ 2     ┆ 33250 │\n",
       "└───────┴───────┘"
      ]
     },
     "execution_count": 7,
     "metadata": {},
     "output_type": "execute_result"
    }
   ],
   "source": [
    "# Downsample on one group\n",
    "sa1 = sa.downsample(\n",
    "    df, \n",
    "    (pl.col(\"flags\") == 0, 0.5)\n",
    ")\n",
    "sa1.group_by(\"flags\").len().sort(\"flags\")"
   ]
  },
  {
   "cell_type": "code",
   "execution_count": 8,
   "metadata": {},
   "outputs": [
    {
     "data": {
      "text/html": [
       "<div><style>\n",
       ".dataframe > thead > tr,\n",
       ".dataframe > tbody > tr {\n",
       "  text-align: right;\n",
       "  white-space: pre-wrap;\n",
       "}\n",
       "</style>\n",
       "<small>shape: (3, 2)</small><table border=\"1\" class=\"dataframe\"><thead><tr><th>flags</th><th>len</th></tr><tr><td>i32</td><td>u32</td></tr></thead><tbody><tr><td>0</td><td>16641</td></tr><tr><td>1</td><td>10041</td></tr><tr><td>2</td><td>13300</td></tr></tbody></table></div>"
      ],
      "text/plain": [
       "shape: (3, 2)\n",
       "┌───────┬───────┐\n",
       "│ flags ┆ len   │\n",
       "│ ---   ┆ ---   │\n",
       "│ i32   ┆ u32   │\n",
       "╞═══════╪═══════╡\n",
       "│ 0     ┆ 16641 │\n",
       "│ 1     ┆ 10041 │\n",
       "│ 2     ┆ 13300 │\n",
       "└───────┴───────┘"
      ]
     },
     "execution_count": 8,
     "metadata": {},
     "output_type": "execute_result"
    }
   ],
   "source": [
    "# Downsample on multiple groups\n",
    "sa2 = sa.downsample(\n",
    "    df, \n",
    "    [\n",
    "        (pl.col(\"flags\") == 0, 0.5),\n",
    "        (pl.col(\"flags\") == 1, 0.3),\n",
    "        (pl.col(\"flags\") == 2, 0.4),\n",
    "    ]\n",
    ")\n",
    "sa2.group_by(\"flags\").len().sort(\"flags\")"
   ]
  },
  {
   "cell_type": "code",
   "execution_count": 9,
   "metadata": {},
   "outputs": [
    {
     "data": {
      "text/html": [
       "<div><style>\n",
       ".dataframe > thead > tr,\n",
       ".dataframe > tbody > tr {\n",
       "  text-align: right;\n",
       "  white-space: pre-wrap;\n",
       "}\n",
       "</style>\n",
       "<small>shape: (3, 2)</small><table border=\"1\" class=\"dataframe\"><thead><tr><th>category</th><th>len</th></tr><tr><td>str</td><td>u32</td></tr></thead><tbody><tr><td>&quot;A&quot;</td><td>30000</td></tr><tr><td>&quot;B&quot;</td><td>30000</td></tr><tr><td>&quot;C&quot;</td><td>40000</td></tr></tbody></table></div>"
      ],
      "text/plain": [
       "shape: (3, 2)\n",
       "┌──────────┬───────┐\n",
       "│ category ┆ len   │\n",
       "│ ---      ┆ ---   │\n",
       "│ str      ┆ u32   │\n",
       "╞══════════╪═══════╡\n",
       "│ A        ┆ 30000 │\n",
       "│ B        ┆ 30000 │\n",
       "│ C        ┆ 40000 │\n",
       "└──────────┴───────┘"
      ]
     },
     "execution_count": 9,
     "metadata": {},
     "output_type": "execute_result"
    }
   ],
   "source": [
    "df.group_by(\"category\").len().sort(\"category\")"
   ]
  },
  {
   "cell_type": "code",
   "execution_count": 10,
   "metadata": {},
   "outputs": [
    {
     "data": {
      "text/html": [
       "<div><style>\n",
       ".dataframe > thead > tr,\n",
       ".dataframe > tbody > tr {\n",
       "  text-align: right;\n",
       "  white-space: pre-wrap;\n",
       "}\n",
       "</style>\n",
       "<small>shape: (3, 2)</small><table border=\"1\" class=\"dataframe\"><thead><tr><th>category</th><th>len</th></tr><tr><td>str</td><td>u32</td></tr></thead><tbody><tr><td>&quot;A&quot;</td><td>30000</td></tr><tr><td>&quot;B&quot;</td><td>30000</td></tr><tr><td>&quot;C&quot;</td><td>30000</td></tr></tbody></table></div>"
      ],
      "text/plain": [
       "shape: (3, 2)\n",
       "┌──────────┬───────┐\n",
       "│ category ┆ len   │\n",
       "│ ---      ┆ ---   │\n",
       "│ str      ┆ u32   │\n",
       "╞══════════╪═══════╡\n",
       "│ A        ┆ 30000 │\n",
       "│ B        ┆ 30000 │\n",
       "│ C        ┆ 30000 │\n",
       "└──────────┴───────┘"
      ]
     },
     "execution_count": 10,
     "metadata": {},
     "output_type": "execute_result"
    }
   ],
   "source": [
    "# Volume neutral by each category, will take the greatest possible value so that we get neutral volume.\n",
    "vn = sa.volume_neutral(\n",
    "    df,\n",
    "    by = pl.col(\"category\"),\n",
    ")\n",
    "vn.group_by(\"category\").len().sort(\"category\")"
   ]
  },
  {
   "cell_type": "code",
   "execution_count": 11,
   "metadata": {},
   "outputs": [
    {
     "data": {
      "text/html": [
       "<div><style>\n",
       ".dataframe > thead > tr,\n",
       ".dataframe > tbody > tr {\n",
       "  text-align: right;\n",
       "  white-space: pre-wrap;\n",
       "}\n",
       "</style>\n",
       "<small>shape: (3, 2)</small><table border=\"1\" class=\"dataframe\"><thead><tr><th>category</th><th>len</th></tr><tr><td>str</td><td>u32</td></tr></thead><tbody><tr><td>&quot;A&quot;</td><td>10000</td></tr><tr><td>&quot;B&quot;</td><td>10000</td></tr><tr><td>&quot;C&quot;</td><td>10000</td></tr></tbody></table></div>"
      ],
      "text/plain": [
       "shape: (3, 2)\n",
       "┌──────────┬───────┐\n",
       "│ category ┆ len   │\n",
       "│ ---      ┆ ---   │\n",
       "│ str      ┆ u32   │\n",
       "╞══════════╪═══════╡\n",
       "│ A        ┆ 10000 │\n",
       "│ B        ┆ 10000 │\n",
       "│ C        ┆ 10000 │\n",
       "└──────────┴───────┘"
      ]
     },
     "execution_count": 11,
     "metadata": {},
     "output_type": "execute_result"
    }
   ],
   "source": [
    "# Volume neutral (10_000) by each category\n",
    "vn = sa.volume_neutral(\n",
    "    df,\n",
    "    by = pl.col(\"category\"),\n",
    "    target_volume = 10_000\n",
    ")\n",
    "vn.group_by(\"category\").len().sort(\"category\")"
   ]
  },
  {
   "cell_type": "code",
   "execution_count": 12,
   "metadata": {},
   "outputs": [
    {
     "data": {
      "text/html": [
       "<div><style>\n",
       ".dataframe > thead > tr,\n",
       ".dataframe > tbody > tr {\n",
       "  text-align: right;\n",
       "  white-space: pre-wrap;\n",
       "}\n",
       "</style>\n",
       "<small>shape: (3, 2)</small><table border=\"1\" class=\"dataframe\"><thead><tr><th>category</th><th>len</th></tr><tr><td>str</td><td>u32</td></tr></thead><tbody><tr><td>&quot;A&quot;</td><td>10000</td></tr><tr><td>&quot;B&quot;</td><td>4249</td></tr><tr><td>&quot;C&quot;</td><td>5751</td></tr></tbody></table></div>"
      ],
      "text/plain": [
       "shape: (3, 2)\n",
       "┌──────────┬───────┐\n",
       "│ category ┆ len   │\n",
       "│ ---      ┆ ---   │\n",
       "│ str      ┆ u32   │\n",
       "╞══════════╪═══════╡\n",
       "│ A        ┆ 10000 │\n",
       "│ B        ┆ 4249  │\n",
       "│ C        ┆ 5751  │\n",
       "└──────────┴───────┘"
      ]
     },
     "execution_count": 12,
     "metadata": {},
     "output_type": "execute_result"
    }
   ],
   "source": [
    "# Volume neutral (10_000) by a more complicated condition\n",
    "vn = sa.volume_neutral(\n",
    "    df,\n",
    "    by = pl.col(\"category\") == \"A\",\n",
    "    target_volume = 10_000\n",
    ") # This makes sense because count for B + count for C = 10_000\n",
    "vn.group_by(\"category\").len().sort(\"category\")"
   ]
  },
  {
   "cell_type": "code",
   "execution_count": 13,
   "metadata": {},
   "outputs": [
    {
     "data": {
      "text/html": [
       "<div><style>\n",
       ".dataframe > thead > tr,\n",
       ".dataframe > tbody > tr {\n",
       "  text-align: right;\n",
       "  white-space: pre-wrap;\n",
       "}\n",
       "</style>\n",
       "<small>shape: (9, 3)</small><table border=\"1\" class=\"dataframe\"><thead><tr><th>category</th><th>flags</th><th>len</th></tr><tr><td>str</td><td>i32</td><td>u32</td></tr></thead><tbody><tr><td>&quot;A&quot;</td><td>0</td><td>9996</td></tr><tr><td>&quot;A&quot;</td><td>1</td><td>9996</td></tr><tr><td>&quot;A&quot;</td><td>2</td><td>9996</td></tr><tr><td>&quot;B&quot;</td><td>0</td><td>9970</td></tr><tr><td>&quot;B&quot;</td><td>1</td><td>9970</td></tr><tr><td>&quot;B&quot;</td><td>2</td><td>9970</td></tr><tr><td>&quot;C&quot;</td><td>0</td><td>13251</td></tr><tr><td>&quot;C&quot;</td><td>1</td><td>13251</td></tr><tr><td>&quot;C&quot;</td><td>2</td><td>13251</td></tr></tbody></table></div>"
      ],
      "text/plain": [
       "shape: (9, 3)\n",
       "┌──────────┬───────┬───────┐\n",
       "│ category ┆ flags ┆ len   │\n",
       "│ ---      ┆ ---   ┆ ---   │\n",
       "│ str      ┆ i32   ┆ u32   │\n",
       "╞══════════╪═══════╪═══════╡\n",
       "│ A        ┆ 0     ┆ 9996  │\n",
       "│ A        ┆ 1     ┆ 9996  │\n",
       "│ A        ┆ 2     ┆ 9996  │\n",
       "│ B        ┆ 0     ┆ 9970  │\n",
       "│ B        ┆ 1     ┆ 9970  │\n",
       "│ B        ┆ 2     ┆ 9970  │\n",
       "│ C        ┆ 0     ┆ 13251 │\n",
       "│ C        ┆ 1     ┆ 13251 │\n",
       "│ C        ┆ 2     ┆ 13251 │\n",
       "└──────────┴───────┴───────┘"
      ]
     },
     "execution_count": 13,
     "metadata": {},
     "output_type": "execute_result"
    }
   ],
   "source": [
    "# Volume neutral sample with a control level. Volume neutral happens under the category level, meaning\n",
    "# the volume for each flag in each category is neutral.\n",
    "vn = sa.volume_neutral(\n",
    "    df,\n",
    "    by = pl.col(\"flags\"),\n",
    "    control = pl.col(\"category\")\n",
    ") \n",
    "vn.group_by([\"category\", \"flags\"]).len().sort([\"category\", \"flags\"])"
   ]
  },
  {
   "cell_type": "code",
   "execution_count": 14,
   "metadata": {},
   "outputs": [
    {
     "data": {
      "text/html": [
       "<div><style>\n",
       ".dataframe > thead > tr,\n",
       ".dataframe > tbody > tr {\n",
       "  text-align: right;\n",
       "  white-space: pre-wrap;\n",
       "}\n",
       "</style>\n",
       "<small>shape: (9, 3)</small><table border=\"1\" class=\"dataframe\"><thead><tr><th>category</th><th>flags</th><th>len</th></tr><tr><td>str</td><td>i32</td><td>u32</td></tr></thead><tbody><tr><td>&quot;A&quot;</td><td>0</td><td>9996</td></tr><tr><td>&quot;A&quot;</td><td>1</td><td>9996</td></tr><tr><td>&quot;A&quot;</td><td>2</td><td>9996</td></tr><tr><td>&quot;B&quot;</td><td>0</td><td>9970</td></tr><tr><td>&quot;B&quot;</td><td>1</td><td>9970</td></tr><tr><td>&quot;B&quot;</td><td>2</td><td>9970</td></tr><tr><td>&quot;C&quot;</td><td>0</td><td>10000</td></tr><tr><td>&quot;C&quot;</td><td>1</td><td>10000</td></tr><tr><td>&quot;C&quot;</td><td>2</td><td>10000</td></tr></tbody></table></div>"
      ],
      "text/plain": [
       "shape: (9, 3)\n",
       "┌──────────┬───────┬───────┐\n",
       "│ category ┆ flags ┆ len   │\n",
       "│ ---      ┆ ---   ┆ ---   │\n",
       "│ str      ┆ i32   ┆ u32   │\n",
       "╞══════════╪═══════╪═══════╡\n",
       "│ A        ┆ 0     ┆ 9996  │\n",
       "│ A        ┆ 1     ┆ 9996  │\n",
       "│ A        ┆ 2     ┆ 9996  │\n",
       "│ B        ┆ 0     ┆ 9970  │\n",
       "│ B        ┆ 1     ┆ 9970  │\n",
       "│ B        ┆ 2     ┆ 9970  │\n",
       "│ C        ┆ 0     ┆ 10000 │\n",
       "│ C        ┆ 1     ┆ 10000 │\n",
       "│ C        ┆ 2     ┆ 10000 │\n",
       "└──────────┴───────┴───────┘"
      ]
     },
     "execution_count": 14,
     "metadata": {},
     "output_type": "execute_result"
    }
   ],
   "source": [
    "# We may not meet the target volume for all categories.\n",
    "vn = sa.volume_neutral(\n",
    "    df,\n",
    "    by = pl.col(\"flags\"),\n",
    "    control = pl.col(\"category\"),\n",
    "    target_volume= 10_000\n",
    ") # \n",
    "vn.group_by([\"category\", \"flags\"]).len().sort([\"category\", \"flags\"])"
   ]
  },
  {
   "cell_type": "markdown",
   "metadata": {},
   "source": [
    "## Splitting\n",
    "\n",
    "To be added..."
   ]
  },
  {
   "cell_type": "markdown",
   "metadata": {},
   "source": []
  },
  {
   "cell_type": "markdown",
   "metadata": {},
   "source": []
  }
 ],
 "metadata": {
  "kernelspec": {
   "display_name": ".venv",
   "language": "python",
   "name": "python3"
  },
  "language_info": {
   "codemirror_mode": {
    "name": "ipython",
    "version": 3
   },
   "file_extension": ".py",
   "mimetype": "text/x-python",
   "name": "python",
   "nbconvert_exporter": "python",
   "pygments_lexer": "ipython3",
   "version": "3.12.3"
  }
 },
 "nbformat": 4,
 "nbformat_minor": 2
}
