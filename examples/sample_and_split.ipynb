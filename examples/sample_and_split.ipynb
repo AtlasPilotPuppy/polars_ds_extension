{
 "cells": [
  {
   "cell_type": "markdown",
   "metadata": {},
   "source": [
    "# Sampling and Splitting"
   ]
  },
  {
   "cell_type": "markdown",
   "metadata": {},
   "source": [
    "## Sampling\n",
    "\n",
    "Sampling for basic tabular datasets. (Not designed for time series as of now.)"
   ]
  },
  {
   "cell_type": "code",
   "execution_count": 1,
   "metadata": {},
   "outputs": [],
   "source": [
    "import polars as pl\n",
    "import polars_ds as pds\n",
    "import polars_ds.sample as sa"
   ]
  },
  {
   "cell_type": "code",
   "execution_count": 2,
   "metadata": {},
   "outputs": [
    {
     "data": {
      "text/html": [
       "<div><style>\n",
       ".dataframe > thead > tr,\n",
       ".dataframe > tbody > tr {\n",
       "  text-align: right;\n",
       "  white-space: pre-wrap;\n",
       "}\n",
       "</style>\n",
       "<small>shape: (5, 8)</small><table border=\"1\" class=\"dataframe\"><thead><tr><th>row_num</th><th>uniform_1</th><th>uniform_2</th><th>exp</th><th>normal</th><th>fat_normal</th><th>flags</th><th>category</th></tr><tr><td>i64</td><td>f64</td><td>f64</td><td>f64</td><td>f64</td><td>f64</td><td>i32</td><td>str</td></tr></thead><tbody><tr><td>0</td><td>1.375634</td><td>0.919511</td><td>0.067392</td><td>-0.309129</td><td>-800.323135</td><td>2</td><td>&quot;A&quot;</td></tr><tr><td>1</td><td>2.659665</td><td>0.853205</td><td>3.206773</td><td>-0.350938</td><td>-1299.486949</td><td>2</td><td>&quot;A&quot;</td></tr><tr><td>2</td><td>4.643957</td><td>0.88178</td><td>0.819599</td><td>2.790163</td><td>-1608.589915</td><td>0</td><td>&quot;A&quot;</td></tr><tr><td>3</td><td>10.834849</td><td>0.95228</td><td>3.388264</td><td>0.117555</td><td>1010.71862</td><td>1</td><td>&quot;A&quot;</td></tr><tr><td>4</td><td>4.563482</td><td>0.589468</td><td>0.855739</td><td>-0.083827</td><td>-860.192229</td><td>2</td><td>&quot;A&quot;</td></tr></tbody></table></div>"
      ],
      "text/plain": [
       "shape: (5, 8)\n",
       "┌─────────┬───────────┬───────────┬──────────┬───────────┬──────────────┬───────┬──────────┐\n",
       "│ row_num ┆ uniform_1 ┆ uniform_2 ┆ exp      ┆ normal    ┆ fat_normal   ┆ flags ┆ category │\n",
       "│ ---     ┆ ---       ┆ ---       ┆ ---      ┆ ---       ┆ ---          ┆ ---   ┆ ---      │\n",
       "│ i64     ┆ f64       ┆ f64       ┆ f64      ┆ f64       ┆ f64          ┆ i32   ┆ str      │\n",
       "╞═════════╪═══════════╪═══════════╪══════════╪═══════════╪══════════════╪═══════╪══════════╡\n",
       "│ 0       ┆ 1.375634  ┆ 0.919511  ┆ 0.067392 ┆ -0.309129 ┆ -800.323135  ┆ 2     ┆ A        │\n",
       "│ 1       ┆ 2.659665  ┆ 0.853205  ┆ 3.206773 ┆ -0.350938 ┆ -1299.486949 ┆ 2     ┆ A        │\n",
       "│ 2       ┆ 4.643957  ┆ 0.88178   ┆ 0.819599 ┆ 2.790163  ┆ -1608.589915 ┆ 0     ┆ A        │\n",
       "│ 3       ┆ 10.834849 ┆ 0.95228   ┆ 3.388264 ┆ 0.117555  ┆ 1010.71862   ┆ 1     ┆ A        │\n",
       "│ 4       ┆ 4.563482  ┆ 0.589468  ┆ 0.855739 ┆ -0.083827 ┆ -860.192229  ┆ 2     ┆ A        │\n",
       "└─────────┴───────────┴───────────┴──────────┴───────────┴──────────────┴───────┴──────────┘"
      ]
     },
     "execution_count": 2,
     "metadata": {},
     "output_type": "execute_result"
    }
   ],
   "source": [
    "df = pds.random_data(size=100_000, n_cols = 0).with_columns(\n",
    "    pds.random(0.0, 12.0).alias(\"uniform_1\"),\n",
    "    pds.random(0.0, 1.0).alias(\"uniform_2\"),\n",
    "    pds.random_exp(0.5).alias(\"exp\"),\n",
    "    pds.random_normal(0.0, 1.0).alias(\"normal\"),\n",
    "    pds.random_normal(0.0, 1000.0).alias(\"fat_normal\"),\n",
    "    (pds.random_int(0, 3)).alias(\"flags\"),\n",
    "    pl.Series([\"A\"] * 30_000 + [\"B\"] * 30_000 + [\"C\"] * 40_000).alias(\"category\"),\n",
    ")\n",
    "df.head()"
   ]
  },
  {
   "cell_type": "code",
   "execution_count": 3,
   "metadata": {},
   "outputs": [
    {
     "data": {
      "text/plain": [
       "['row_num', 'fat_normal', 'flags']"
      ]
     },
     "execution_count": 3,
     "metadata": {},
     "output_type": "execute_result"
    }
   ],
   "source": [
    "sa.random_cols(df, 2, keep = [\"row_num\"])"
   ]
  },
  {
   "cell_type": "code",
   "execution_count": 4,
   "metadata": {},
   "outputs": [
    {
     "data": {
      "text/html": [
       "<div><style>\n",
       ".dataframe > thead > tr,\n",
       ".dataframe > tbody > tr {\n",
       "  text-align: right;\n",
       "  white-space: pre-wrap;\n",
       "}\n",
       "</style>\n",
       "<small>shape: (60_000, 8)</small><table border=\"1\" class=\"dataframe\"><thead><tr><th>row_num</th><th>uniform_1</th><th>uniform_2</th><th>exp</th><th>normal</th><th>fat_normal</th><th>flags</th><th>category</th></tr><tr><td>i64</td><td>f64</td><td>f64</td><td>f64</td><td>f64</td><td>f64</td><td>i32</td><td>str</td></tr></thead><tbody><tr><td>3</td><td>10.834849</td><td>0.95228</td><td>3.388264</td><td>0.117555</td><td>1010.71862</td><td>1</td><td>&quot;A&quot;</td></tr><tr><td>5</td><td>3.602171</td><td>0.864772</td><td>4.463937</td><td>-0.708025</td><td>-51.380391</td><td>1</td><td>&quot;A&quot;</td></tr><tr><td>8</td><td>8.039353</td><td>0.067563</td><td>2.049014</td><td>-1.49984</td><td>-307.088697</td><td>2</td><td>&quot;A&quot;</td></tr><tr><td>9</td><td>1.355068</td><td>0.477342</td><td>5.740475</td><td>0.440276</td><td>545.951635</td><td>0</td><td>&quot;A&quot;</td></tr><tr><td>10</td><td>3.199899</td><td>0.979296</td><td>6.24005</td><td>1.408848</td><td>-180.079712</td><td>1</td><td>&quot;A&quot;</td></tr><tr><td>&hellip;</td><td>&hellip;</td><td>&hellip;</td><td>&hellip;</td><td>&hellip;</td><td>&hellip;</td><td>&hellip;</td><td>&hellip;</td></tr><tr><td>99990</td><td>6.376287</td><td>0.595959</td><td>2.09459</td><td>-0.936174</td><td>164.523629</td><td>1</td><td>&quot;C&quot;</td></tr><tr><td>99994</td><td>0.311679</td><td>0.736031</td><td>1.331186</td><td>0.82819</td><td>647.814932</td><td>1</td><td>&quot;C&quot;</td></tr><tr><td>99996</td><td>5.218256</td><td>0.806905</td><td>0.462257</td><td>-0.07332</td><td>368.090563</td><td>0</td><td>&quot;C&quot;</td></tr><tr><td>99998</td><td>5.165351</td><td>0.728434</td><td>0.756417</td><td>-0.206222</td><td>231.545379</td><td>1</td><td>&quot;C&quot;</td></tr><tr><td>99999</td><td>4.696639</td><td>0.435481</td><td>2.79115</td><td>0.678856</td><td>744.993741</td><td>1</td><td>&quot;C&quot;</td></tr></tbody></table></div>"
      ],
      "text/plain": [
       "shape: (60_000, 8)\n",
       "┌─────────┬───────────┬───────────┬──────────┬───────────┬─────────────┬───────┬──────────┐\n",
       "│ row_num ┆ uniform_1 ┆ uniform_2 ┆ exp      ┆ normal    ┆ fat_normal  ┆ flags ┆ category │\n",
       "│ ---     ┆ ---       ┆ ---       ┆ ---      ┆ ---       ┆ ---         ┆ ---   ┆ ---      │\n",
       "│ i64     ┆ f64       ┆ f64       ┆ f64      ┆ f64       ┆ f64         ┆ i32   ┆ str      │\n",
       "╞═════════╪═══════════╪═══════════╪══════════╪═══════════╪═════════════╪═══════╪══════════╡\n",
       "│ 3       ┆ 10.834849 ┆ 0.95228   ┆ 3.388264 ┆ 0.117555  ┆ 1010.71862  ┆ 1     ┆ A        │\n",
       "│ 5       ┆ 3.602171  ┆ 0.864772  ┆ 4.463937 ┆ -0.708025 ┆ -51.380391  ┆ 1     ┆ A        │\n",
       "│ 8       ┆ 8.039353  ┆ 0.067563  ┆ 2.049014 ┆ -1.49984  ┆ -307.088697 ┆ 2     ┆ A        │\n",
       "│ 9       ┆ 1.355068  ┆ 0.477342  ┆ 5.740475 ┆ 0.440276  ┆ 545.951635  ┆ 0     ┆ A        │\n",
       "│ 10      ┆ 3.199899  ┆ 0.979296  ┆ 6.24005  ┆ 1.408848  ┆ -180.079712 ┆ 1     ┆ A        │\n",
       "│ …       ┆ …         ┆ …         ┆ …        ┆ …         ┆ …           ┆ …     ┆ …        │\n",
       "│ 99990   ┆ 6.376287  ┆ 0.595959  ┆ 2.09459  ┆ -0.936174 ┆ 164.523629  ┆ 1     ┆ C        │\n",
       "│ 99994   ┆ 0.311679  ┆ 0.736031  ┆ 1.331186 ┆ 0.82819   ┆ 647.814932  ┆ 1     ┆ C        │\n",
       "│ 99996   ┆ 5.218256  ┆ 0.806905  ┆ 0.462257 ┆ -0.07332  ┆ 368.090563  ┆ 0     ┆ C        │\n",
       "│ 99998   ┆ 5.165351  ┆ 0.728434  ┆ 0.756417 ┆ -0.206222 ┆ 231.545379  ┆ 1     ┆ C        │\n",
       "│ 99999   ┆ 4.696639  ┆ 0.435481  ┆ 2.79115  ┆ 0.678856  ┆ 744.993741  ┆ 1     ┆ C        │\n",
       "└─────────┴───────────┴───────────┴──────────┴───────────┴─────────────┴───────┴──────────┘"
      ]
     },
     "execution_count": 4,
     "metadata": {},
     "output_type": "execute_result"
    }
   ],
   "source": [
    "# Random Sample\n",
    "sa.sample(df, 0.6) # by ratio"
   ]
  },
  {
   "cell_type": "code",
   "execution_count": 5,
   "metadata": {},
   "outputs": [
    {
     "data": {
      "text/html": [
       "<div><style>\n",
       ".dataframe > thead > tr,\n",
       ".dataframe > tbody > tr {\n",
       "  text-align: right;\n",
       "  white-space: pre-wrap;\n",
       "}\n",
       "</style>\n",
       "<small>shape: (30_000, 8)</small><table border=\"1\" class=\"dataframe\"><thead><tr><th>row_num</th><th>uniform_1</th><th>uniform_2</th><th>exp</th><th>normal</th><th>fat_normal</th><th>flags</th><th>category</th></tr><tr><td>i64</td><td>f64</td><td>f64</td><td>f64</td><td>f64</td><td>f64</td><td>i32</td><td>str</td></tr></thead><tbody><tr><td>10</td><td>3.199899</td><td>0.979296</td><td>6.24005</td><td>1.408848</td><td>-180.079712</td><td>1</td><td>&quot;A&quot;</td></tr><tr><td>17</td><td>0.71813</td><td>0.472534</td><td>5.709439</td><td>-0.947008</td><td>-843.230748</td><td>1</td><td>&quot;A&quot;</td></tr><tr><td>23</td><td>10.434815</td><td>0.333791</td><td>3.876595</td><td>-0.359352</td><td>-2048.117448</td><td>2</td><td>&quot;A&quot;</td></tr><tr><td>27</td><td>10.179126</td><td>0.368184</td><td>1.754156</td><td>-0.858292</td><td>375.173934</td><td>0</td><td>&quot;A&quot;</td></tr><tr><td>28</td><td>1.038052</td><td>0.724587</td><td>8.525754</td><td>1.821027</td><td>2216.459529</td><td>0</td><td>&quot;A&quot;</td></tr><tr><td>&hellip;</td><td>&hellip;</td><td>&hellip;</td><td>&hellip;</td><td>&hellip;</td><td>&hellip;</td><td>&hellip;</td><td>&hellip;</td></tr><tr><td>99983</td><td>1.339939</td><td>0.822143</td><td>1.422642</td><td>0.128057</td><td>-364.864121</td><td>0</td><td>&quot;C&quot;</td></tr><tr><td>99986</td><td>7.957552</td><td>0.051115</td><td>2.50942</td><td>-0.344548</td><td>-129.235448</td><td>0</td><td>&quot;C&quot;</td></tr><tr><td>99993</td><td>0.407622</td><td>0.187425</td><td>0.496021</td><td>-2.373553</td><td>-1084.660588</td><td>2</td><td>&quot;C&quot;</td></tr><tr><td>99996</td><td>5.218256</td><td>0.806905</td><td>0.462257</td><td>-0.07332</td><td>368.090563</td><td>0</td><td>&quot;C&quot;</td></tr><tr><td>99998</td><td>5.165351</td><td>0.728434</td><td>0.756417</td><td>-0.206222</td><td>231.545379</td><td>1</td><td>&quot;C&quot;</td></tr></tbody></table></div>"
      ],
      "text/plain": [
       "shape: (30_000, 8)\n",
       "┌─────────┬───────────┬───────────┬──────────┬───────────┬──────────────┬───────┬──────────┐\n",
       "│ row_num ┆ uniform_1 ┆ uniform_2 ┆ exp      ┆ normal    ┆ fat_normal   ┆ flags ┆ category │\n",
       "│ ---     ┆ ---       ┆ ---       ┆ ---      ┆ ---       ┆ ---          ┆ ---   ┆ ---      │\n",
       "│ i64     ┆ f64       ┆ f64       ┆ f64      ┆ f64       ┆ f64          ┆ i32   ┆ str      │\n",
       "╞═════════╪═══════════╪═══════════╪══════════╪═══════════╪══════════════╪═══════╪══════════╡\n",
       "│ 10      ┆ 3.199899  ┆ 0.979296  ┆ 6.24005  ┆ 1.408848  ┆ -180.079712  ┆ 1     ┆ A        │\n",
       "│ 17      ┆ 0.71813   ┆ 0.472534  ┆ 5.709439 ┆ -0.947008 ┆ -843.230748  ┆ 1     ┆ A        │\n",
       "│ 23      ┆ 10.434815 ┆ 0.333791  ┆ 3.876595 ┆ -0.359352 ┆ -2048.117448 ┆ 2     ┆ A        │\n",
       "│ 27      ┆ 10.179126 ┆ 0.368184  ┆ 1.754156 ┆ -0.858292 ┆ 375.173934   ┆ 0     ┆ A        │\n",
       "│ 28      ┆ 1.038052  ┆ 0.724587  ┆ 8.525754 ┆ 1.821027  ┆ 2216.459529  ┆ 0     ┆ A        │\n",
       "│ …       ┆ …         ┆ …         ┆ …        ┆ …         ┆ …            ┆ …     ┆ …        │\n",
       "│ 99983   ┆ 1.339939  ┆ 0.822143  ┆ 1.422642 ┆ 0.128057  ┆ -364.864121  ┆ 0     ┆ C        │\n",
       "│ 99986   ┆ 7.957552  ┆ 0.051115  ┆ 2.50942  ┆ -0.344548 ┆ -129.235448  ┆ 0     ┆ C        │\n",
       "│ 99993   ┆ 0.407622  ┆ 0.187425  ┆ 0.496021 ┆ -2.373553 ┆ -1084.660588 ┆ 2     ┆ C        │\n",
       "│ 99996   ┆ 5.218256  ┆ 0.806905  ┆ 0.462257 ┆ -0.07332  ┆ 368.090563   ┆ 0     ┆ C        │\n",
       "│ 99998   ┆ 5.165351  ┆ 0.728434  ┆ 0.756417 ┆ -0.206222 ┆ 231.545379   ┆ 1     ┆ C        │\n",
       "└─────────┴───────────┴───────────┴──────────┴───────────┴──────────────┴───────┴──────────┘"
      ]
     },
     "execution_count": 5,
     "metadata": {},
     "output_type": "execute_result"
    }
   ],
   "source": [
    "sa.sample(df, 30_000) # by count"
   ]
  },
  {
   "cell_type": "code",
   "execution_count": 6,
   "metadata": {},
   "outputs": [
    {
     "data": {
      "text/html": [
       "<div><style>\n",
       ".dataframe > thead > tr,\n",
       ".dataframe > tbody > tr {\n",
       "  text-align: right;\n",
       "  white-space: pre-wrap;\n",
       "}\n",
       "</style>\n",
       "<small>shape: (3, 2)</small><table border=\"1\" class=\"dataframe\"><thead><tr><th>flags</th><th>len</th></tr><tr><td>i32</td><td>u32</td></tr></thead><tbody><tr><td>0</td><td>33217</td></tr><tr><td>1</td><td>33344</td></tr><tr><td>2</td><td>33439</td></tr></tbody></table></div>"
      ],
      "text/plain": [
       "shape: (3, 2)\n",
       "┌───────┬───────┐\n",
       "│ flags ┆ len   │\n",
       "│ ---   ┆ ---   │\n",
       "│ i32   ┆ u32   │\n",
       "╞═══════╪═══════╡\n",
       "│ 0     ┆ 33217 │\n",
       "│ 1     ┆ 33344 │\n",
       "│ 2     ┆ 33439 │\n",
       "└───────┴───────┘"
      ]
     },
     "execution_count": 6,
     "metadata": {},
     "output_type": "execute_result"
    }
   ],
   "source": [
    "df.group_by(\"flags\").len().sort(\"flags\")"
   ]
  },
  {
   "cell_type": "code",
   "execution_count": 7,
   "metadata": {},
   "outputs": [
    {
     "data": {
      "text/html": [
       "<div><style>\n",
       ".dataframe > thead > tr,\n",
       ".dataframe > tbody > tr {\n",
       "  text-align: right;\n",
       "  white-space: pre-wrap;\n",
       "}\n",
       "</style>\n",
       "<small>shape: (3, 2)</small><table border=\"1\" class=\"dataframe\"><thead><tr><th>flags</th><th>len</th></tr><tr><td>i32</td><td>u32</td></tr></thead><tbody><tr><td>0</td><td>16609</td></tr><tr><td>1</td><td>33344</td></tr><tr><td>2</td><td>33439</td></tr></tbody></table></div>"
      ],
      "text/plain": [
       "shape: (3, 2)\n",
       "┌───────┬───────┐\n",
       "│ flags ┆ len   │\n",
       "│ ---   ┆ ---   │\n",
       "│ i32   ┆ u32   │\n",
       "╞═══════╪═══════╡\n",
       "│ 0     ┆ 16609 │\n",
       "│ 1     ┆ 33344 │\n",
       "│ 2     ┆ 33439 │\n",
       "└───────┴───────┘"
      ]
     },
     "execution_count": 7,
     "metadata": {},
     "output_type": "execute_result"
    }
   ],
   "source": [
    "# Downsample on one group\n",
    "sa1 = sa.downsample(\n",
    "    df, \n",
    "    (pl.col(\"flags\") == 0, 0.5)\n",
    ")\n",
    "sa1.group_by(\"flags\").len().sort(\"flags\")"
   ]
  },
  {
   "cell_type": "code",
   "execution_count": 8,
   "metadata": {},
   "outputs": [
    {
     "data": {
      "text/html": [
       "<div><style>\n",
       ".dataframe > thead > tr,\n",
       ".dataframe > tbody > tr {\n",
       "  text-align: right;\n",
       "  white-space: pre-wrap;\n",
       "}\n",
       "</style>\n",
       "<small>shape: (3, 2)</small><table border=\"1\" class=\"dataframe\"><thead><tr><th>flags</th><th>len</th></tr><tr><td>i32</td><td>u32</td></tr></thead><tbody><tr><td>0</td><td>16609</td></tr><tr><td>1</td><td>10004</td></tr><tr><td>2</td><td>13376</td></tr></tbody></table></div>"
      ],
      "text/plain": [
       "shape: (3, 2)\n",
       "┌───────┬───────┐\n",
       "│ flags ┆ len   │\n",
       "│ ---   ┆ ---   │\n",
       "│ i32   ┆ u32   │\n",
       "╞═══════╪═══════╡\n",
       "│ 0     ┆ 16609 │\n",
       "│ 1     ┆ 10004 │\n",
       "│ 2     ┆ 13376 │\n",
       "└───────┴───────┘"
      ]
     },
     "execution_count": 8,
     "metadata": {},
     "output_type": "execute_result"
    }
   ],
   "source": [
    "# Downsample on multiple groups\n",
    "sa2 = sa.downsample(\n",
    "    df, \n",
    "    [\n",
    "        (pl.col(\"flags\") == 0, 0.5),\n",
    "        (pl.col(\"flags\") == 1, 0.3),\n",
    "        (pl.col(\"flags\") == 2, 0.4),\n",
    "    ]\n",
    ")\n",
    "sa2.group_by(\"flags\").len().sort(\"flags\")"
   ]
  },
  {
   "cell_type": "code",
   "execution_count": 9,
   "metadata": {},
   "outputs": [
    {
     "data": {
      "text/html": [
       "<div><style>\n",
       ".dataframe > thead > tr,\n",
       ".dataframe > tbody > tr {\n",
       "  text-align: right;\n",
       "  white-space: pre-wrap;\n",
       "}\n",
       "</style>\n",
       "<small>shape: (3, 2)</small><table border=\"1\" class=\"dataframe\"><thead><tr><th>category</th><th>len</th></tr><tr><td>str</td><td>u32</td></tr></thead><tbody><tr><td>&quot;A&quot;</td><td>30000</td></tr><tr><td>&quot;B&quot;</td><td>30000</td></tr><tr><td>&quot;C&quot;</td><td>40000</td></tr></tbody></table></div>"
      ],
      "text/plain": [
       "shape: (3, 2)\n",
       "┌──────────┬───────┐\n",
       "│ category ┆ len   │\n",
       "│ ---      ┆ ---   │\n",
       "│ str      ┆ u32   │\n",
       "╞══════════╪═══════╡\n",
       "│ A        ┆ 30000 │\n",
       "│ B        ┆ 30000 │\n",
       "│ C        ┆ 40000 │\n",
       "└──────────┴───────┘"
      ]
     },
     "execution_count": 9,
     "metadata": {},
     "output_type": "execute_result"
    }
   ],
   "source": [
    "df.group_by(\"category\").len().sort(\"category\")"
   ]
  },
  {
   "cell_type": "code",
   "execution_count": 10,
   "metadata": {},
   "outputs": [
    {
     "data": {
      "text/html": [
       "<div><style>\n",
       ".dataframe > thead > tr,\n",
       ".dataframe > tbody > tr {\n",
       "  text-align: right;\n",
       "  white-space: pre-wrap;\n",
       "}\n",
       "</style>\n",
       "<small>shape: (3, 2)</small><table border=\"1\" class=\"dataframe\"><thead><tr><th>category</th><th>len</th></tr><tr><td>str</td><td>u32</td></tr></thead><tbody><tr><td>&quot;A&quot;</td><td>30000</td></tr><tr><td>&quot;B&quot;</td><td>30000</td></tr><tr><td>&quot;C&quot;</td><td>30000</td></tr></tbody></table></div>"
      ],
      "text/plain": [
       "shape: (3, 2)\n",
       "┌──────────┬───────┐\n",
       "│ category ┆ len   │\n",
       "│ ---      ┆ ---   │\n",
       "│ str      ┆ u32   │\n",
       "╞══════════╪═══════╡\n",
       "│ A        ┆ 30000 │\n",
       "│ B        ┆ 30000 │\n",
       "│ C        ┆ 30000 │\n",
       "└──────────┴───────┘"
      ]
     },
     "execution_count": 10,
     "metadata": {},
     "output_type": "execute_result"
    }
   ],
   "source": [
    "# Volume neutral by each category, will take the greatest possible value so that we get neutral volume.\n",
    "vn = sa.volume_neutral(\n",
    "    df,\n",
    "    by = pl.col(\"category\"),\n",
    ")\n",
    "vn.group_by(\"category\").len().sort(\"category\")"
   ]
  },
  {
   "cell_type": "code",
   "execution_count": 11,
   "metadata": {},
   "outputs": [
    {
     "data": {
      "text/html": [
       "<div><style>\n",
       ".dataframe > thead > tr,\n",
       ".dataframe > tbody > tr {\n",
       "  text-align: right;\n",
       "  white-space: pre-wrap;\n",
       "}\n",
       "</style>\n",
       "<small>shape: (3, 2)</small><table border=\"1\" class=\"dataframe\"><thead><tr><th>category</th><th>len</th></tr><tr><td>str</td><td>u32</td></tr></thead><tbody><tr><td>&quot;A&quot;</td><td>10000</td></tr><tr><td>&quot;B&quot;</td><td>10000</td></tr><tr><td>&quot;C&quot;</td><td>10000</td></tr></tbody></table></div>"
      ],
      "text/plain": [
       "shape: (3, 2)\n",
       "┌──────────┬───────┐\n",
       "│ category ┆ len   │\n",
       "│ ---      ┆ ---   │\n",
       "│ str      ┆ u32   │\n",
       "╞══════════╪═══════╡\n",
       "│ A        ┆ 10000 │\n",
       "│ B        ┆ 10000 │\n",
       "│ C        ┆ 10000 │\n",
       "└──────────┴───────┘"
      ]
     },
     "execution_count": 11,
     "metadata": {},
     "output_type": "execute_result"
    }
   ],
   "source": [
    "# Volume neutral (10_000) by each category\n",
    "vn = sa.volume_neutral(\n",
    "    df,\n",
    "    by = pl.col(\"category\"),\n",
    "    target_volume = 10_000\n",
    ")\n",
    "vn.group_by(\"category\").len().sort(\"category\")"
   ]
  },
  {
   "cell_type": "code",
   "execution_count": 12,
   "metadata": {},
   "outputs": [
    {
     "data": {
      "text/html": [
       "<div><style>\n",
       ".dataframe > thead > tr,\n",
       ".dataframe > tbody > tr {\n",
       "  text-align: right;\n",
       "  white-space: pre-wrap;\n",
       "}\n",
       "</style>\n",
       "<small>shape: (3, 2)</small><table border=\"1\" class=\"dataframe\"><thead><tr><th>category</th><th>len</th></tr><tr><td>str</td><td>u32</td></tr></thead><tbody><tr><td>&quot;A&quot;</td><td>10000</td></tr><tr><td>&quot;B&quot;</td><td>4247</td></tr><tr><td>&quot;C&quot;</td><td>5753</td></tr></tbody></table></div>"
      ],
      "text/plain": [
       "shape: (3, 2)\n",
       "┌──────────┬───────┐\n",
       "│ category ┆ len   │\n",
       "│ ---      ┆ ---   │\n",
       "│ str      ┆ u32   │\n",
       "╞══════════╪═══════╡\n",
       "│ A        ┆ 10000 │\n",
       "│ B        ┆ 4247  │\n",
       "│ C        ┆ 5753  │\n",
       "└──────────┴───────┘"
      ]
     },
     "execution_count": 12,
     "metadata": {},
     "output_type": "execute_result"
    }
   ],
   "source": [
    "# Volume neutral (10_000) by a more complicated condition\n",
    "vn = sa.volume_neutral(\n",
    "    df,\n",
    "    by = pl.col(\"category\") == \"A\",\n",
    "    target_volume = 10_000\n",
    ") # This makes sense because count for B + count for C = 10_000\n",
    "vn.group_by(\"category\").len().sort(\"category\")"
   ]
  },
  {
   "cell_type": "code",
   "execution_count": 13,
   "metadata": {},
   "outputs": [
    {
     "data": {
      "text/html": [
       "<div><style>\n",
       ".dataframe > thead > tr,\n",
       ".dataframe > tbody > tr {\n",
       "  text-align: right;\n",
       "  white-space: pre-wrap;\n",
       "}\n",
       "</style>\n",
       "<small>shape: (9, 3)</small><table border=\"1\" class=\"dataframe\"><thead><tr><th>category</th><th>flags</th><th>len</th></tr><tr><td>str</td><td>i32</td><td>u32</td></tr></thead><tbody><tr><td>&quot;A&quot;</td><td>0</td><td>9860</td></tr><tr><td>&quot;A&quot;</td><td>1</td><td>9860</td></tr><tr><td>&quot;A&quot;</td><td>2</td><td>9860</td></tr><tr><td>&quot;B&quot;</td><td>0</td><td>9938</td></tr><tr><td>&quot;B&quot;</td><td>1</td><td>9938</td></tr><tr><td>&quot;B&quot;</td><td>2</td><td>9938</td></tr><tr><td>&quot;C&quot;</td><td>0</td><td>13149</td></tr><tr><td>&quot;C&quot;</td><td>1</td><td>13149</td></tr><tr><td>&quot;C&quot;</td><td>2</td><td>13149</td></tr></tbody></table></div>"
      ],
      "text/plain": [
       "shape: (9, 3)\n",
       "┌──────────┬───────┬───────┐\n",
       "│ category ┆ flags ┆ len   │\n",
       "│ ---      ┆ ---   ┆ ---   │\n",
       "│ str      ┆ i32   ┆ u32   │\n",
       "╞══════════╪═══════╪═══════╡\n",
       "│ A        ┆ 0     ┆ 9860  │\n",
       "│ A        ┆ 1     ┆ 9860  │\n",
       "│ A        ┆ 2     ┆ 9860  │\n",
       "│ B        ┆ 0     ┆ 9938  │\n",
       "│ B        ┆ 1     ┆ 9938  │\n",
       "│ B        ┆ 2     ┆ 9938  │\n",
       "│ C        ┆ 0     ┆ 13149 │\n",
       "│ C        ┆ 1     ┆ 13149 │\n",
       "│ C        ┆ 2     ┆ 13149 │\n",
       "└──────────┴───────┴───────┘"
      ]
     },
     "execution_count": 13,
     "metadata": {},
     "output_type": "execute_result"
    }
   ],
   "source": [
    "# Volume neutral sample with a control level. Volume neutral happens under the category level, meaning\n",
    "# the volume for each flag in each category is neutral.\n",
    "vn = sa.volume_neutral(\n",
    "    df,\n",
    "    by = pl.col(\"flags\"),\n",
    "    control = pl.col(\"category\")\n",
    ") \n",
    "vn.group_by([\"category\", \"flags\"]).len().sort([\"category\", \"flags\"])"
   ]
  },
  {
   "cell_type": "code",
   "execution_count": 14,
   "metadata": {},
   "outputs": [
    {
     "data": {
      "text/html": [
       "<div><style>\n",
       ".dataframe > thead > tr,\n",
       ".dataframe > tbody > tr {\n",
       "  text-align: right;\n",
       "  white-space: pre-wrap;\n",
       "}\n",
       "</style>\n",
       "<small>shape: (9, 3)</small><table border=\"1\" class=\"dataframe\"><thead><tr><th>category</th><th>flags</th><th>len</th></tr><tr><td>str</td><td>i32</td><td>u32</td></tr></thead><tbody><tr><td>&quot;A&quot;</td><td>0</td><td>9860</td></tr><tr><td>&quot;A&quot;</td><td>1</td><td>9860</td></tr><tr><td>&quot;A&quot;</td><td>2</td><td>9860</td></tr><tr><td>&quot;B&quot;</td><td>0</td><td>9938</td></tr><tr><td>&quot;B&quot;</td><td>1</td><td>9938</td></tr><tr><td>&quot;B&quot;</td><td>2</td><td>9938</td></tr><tr><td>&quot;C&quot;</td><td>0</td><td>10000</td></tr><tr><td>&quot;C&quot;</td><td>1</td><td>10000</td></tr><tr><td>&quot;C&quot;</td><td>2</td><td>10000</td></tr></tbody></table></div>"
      ],
      "text/plain": [
       "shape: (9, 3)\n",
       "┌──────────┬───────┬───────┐\n",
       "│ category ┆ flags ┆ len   │\n",
       "│ ---      ┆ ---   ┆ ---   │\n",
       "│ str      ┆ i32   ┆ u32   │\n",
       "╞══════════╪═══════╪═══════╡\n",
       "│ A        ┆ 0     ┆ 9860  │\n",
       "│ A        ┆ 1     ┆ 9860  │\n",
       "│ A        ┆ 2     ┆ 9860  │\n",
       "│ B        ┆ 0     ┆ 9938  │\n",
       "│ B        ┆ 1     ┆ 9938  │\n",
       "│ B        ┆ 2     ┆ 9938  │\n",
       "│ C        ┆ 0     ┆ 10000 │\n",
       "│ C        ┆ 1     ┆ 10000 │\n",
       "│ C        ┆ 2     ┆ 10000 │\n",
       "└──────────┴───────┴───────┘"
      ]
     },
     "execution_count": 14,
     "metadata": {},
     "output_type": "execute_result"
    }
   ],
   "source": [
    "# We may not meet the target volume for all categories.\n",
    "vn = sa.volume_neutral(\n",
    "    df,\n",
    "    by = pl.col(\"flags\"),\n",
    "    control = pl.col(\"category\"),\n",
    "    target_volume= 10_000\n",
    ") # \n",
    "vn.group_by([\"category\", \"flags\"]).len().sort([\"category\", \"flags\"])"
   ]
  },
  {
   "cell_type": "markdown",
   "metadata": {},
   "source": [
    "## Splitting\n",
    "\n",
    "To be added..."
   ]
  },
  {
   "cell_type": "markdown",
   "metadata": {},
   "source": []
  },
  {
   "cell_type": "markdown",
   "metadata": {},
   "source": []
  }
 ],
 "metadata": {
  "kernelspec": {
   "display_name": ".venv",
   "language": "python",
   "name": "python3"
  },
  "language_info": {
   "codemirror_mode": {
    "name": "ipython",
    "version": 3
   },
   "file_extension": ".py",
   "mimetype": "text/x-python",
   "name": "python",
   "nbconvert_exporter": "python",
   "pygments_lexer": "ipython3",
   "version": "3.11.8"
  }
 },
 "nbformat": 4,
 "nbformat_minor": 2
}
