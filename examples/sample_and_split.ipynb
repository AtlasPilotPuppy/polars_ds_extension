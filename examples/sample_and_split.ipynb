{
 "cells": [
  {
   "cell_type": "markdown",
   "metadata": {},
   "source": [
    "# Sampling and Splitting"
   ]
  },
  {
   "cell_type": "markdown",
   "metadata": {},
   "source": [
    "## Sampling\n",
    "\n",
    "Sampling for basic tabular datasets. (Not designed for time series as of now.)"
   ]
  },
  {
   "cell_type": "code",
   "execution_count": 1,
   "metadata": {},
   "outputs": [],
   "source": [
    "import polars as pl\n",
    "import polars_ds as pds\n",
    "import polars_ds.sample as sa"
   ]
  },
  {
   "cell_type": "code",
   "execution_count": 2,
   "metadata": {},
   "outputs": [
    {
     "data": {
      "text/html": [
       "<div><style>\n",
       ".dataframe > thead > tr,\n",
       ".dataframe > tbody > tr {\n",
       "  text-align: right;\n",
       "  white-space: pre-wrap;\n",
       "}\n",
       "</style>\n",
       "<small>shape: (5, 8)</small><table border=\"1\" class=\"dataframe\"><thead><tr><th>row_num</th><th>uniform_1</th><th>uniform_2</th><th>exp</th><th>normal</th><th>fat_normal</th><th>flags</th><th>category</th></tr><tr><td>i64</td><td>f64</td><td>f64</td><td>f64</td><td>f64</td><td>f64</td><td>i32</td><td>str</td></tr></thead><tbody><tr><td>0</td><td>0.935568</td><td>0.119996</td><td>0.019354</td><td>-0.047133</td><td>144.690433</td><td>2</td><td>&quot;A&quot;</td></tr><tr><td>1</td><td>9.679801</td><td>0.05313</td><td>0.31481</td><td>-0.448221</td><td>-55.713233</td><td>2</td><td>&quot;A&quot;</td></tr><tr><td>2</td><td>4.627169</td><td>0.592026</td><td>0.211717</td><td>0.256879</td><td>-688.904619</td><td>1</td><td>&quot;A&quot;</td></tr><tr><td>3</td><td>6.670114</td><td>0.292098</td><td>1.031165</td><td>-0.80908</td><td>793.655198</td><td>0</td><td>&quot;A&quot;</td></tr><tr><td>4</td><td>1.357895</td><td>0.968076</td><td>1.663537</td><td>-0.17421</td><td>728.835809</td><td>2</td><td>&quot;A&quot;</td></tr></tbody></table></div>"
      ],
      "text/plain": [
       "shape: (5, 8)\n",
       "┌─────────┬───────────┬───────────┬──────────┬───────────┬─────────────┬───────┬──────────┐\n",
       "│ row_num ┆ uniform_1 ┆ uniform_2 ┆ exp      ┆ normal    ┆ fat_normal  ┆ flags ┆ category │\n",
       "│ ---     ┆ ---       ┆ ---       ┆ ---      ┆ ---       ┆ ---         ┆ ---   ┆ ---      │\n",
       "│ i64     ┆ f64       ┆ f64       ┆ f64      ┆ f64       ┆ f64         ┆ i32   ┆ str      │\n",
       "╞═════════╪═══════════╪═══════════╪══════════╪═══════════╪═════════════╪═══════╪══════════╡\n",
       "│ 0       ┆ 0.935568  ┆ 0.119996  ┆ 0.019354 ┆ -0.047133 ┆ 144.690433  ┆ 2     ┆ A        │\n",
       "│ 1       ┆ 9.679801  ┆ 0.05313   ┆ 0.31481  ┆ -0.448221 ┆ -55.713233  ┆ 2     ┆ A        │\n",
       "│ 2       ┆ 4.627169  ┆ 0.592026  ┆ 0.211717 ┆ 0.256879  ┆ -688.904619 ┆ 1     ┆ A        │\n",
       "│ 3       ┆ 6.670114  ┆ 0.292098  ┆ 1.031165 ┆ -0.80908  ┆ 793.655198  ┆ 0     ┆ A        │\n",
       "│ 4       ┆ 1.357895  ┆ 0.968076  ┆ 1.663537 ┆ -0.17421  ┆ 728.835809  ┆ 2     ┆ A        │\n",
       "└─────────┴───────────┴───────────┴──────────┴───────────┴─────────────┴───────┴──────────┘"
      ]
     },
     "execution_count": 2,
     "metadata": {},
     "output_type": "execute_result"
    }
   ],
   "source": [
    "df = pds.random_data(size=100_000, n_cols = 0).with_columns(\n",
    "    pds.random(0.0, 12.0).alias(\"uniform_1\"),\n",
    "    pds.random(0.0, 1.0).alias(\"uniform_2\"),\n",
    "    pds.random_exp(0.5).alias(\"exp\"),\n",
    "    pds.random_normal(0.0, 1.0).alias(\"normal\"),\n",
    "    pds.random_normal(0.0, 1000.0).alias(\"fat_normal\"),\n",
    "    (pds.random_int(0, 3)).alias(\"flags\"),\n",
    "    pl.Series([\"A\"] * 30_000 + [\"B\"] * 30_000 + [\"C\"] * 40_000).alias(\"category\"),\n",
    ")\n",
    "df.head()"
   ]
  },
  {
   "cell_type": "code",
   "execution_count": 3,
   "metadata": {},
   "outputs": [
    {
     "data": {
      "text/plain": [
       "['row_num', 'exp', 'normal']"
      ]
     },
     "execution_count": 3,
     "metadata": {},
     "output_type": "execute_result"
    }
   ],
   "source": [
    "sa.random_cols(df, 2, keep = [\"row_num\"])"
   ]
  },
  {
   "cell_type": "code",
   "execution_count": 4,
   "metadata": {},
   "outputs": [
    {
     "data": {
      "text/html": [
       "<div><style>\n",
       ".dataframe > thead > tr,\n",
       ".dataframe > tbody > tr {\n",
       "  text-align: right;\n",
       "  white-space: pre-wrap;\n",
       "}\n",
       "</style>\n",
       "<small>shape: (60_000, 8)</small><table border=\"1\" class=\"dataframe\"><thead><tr><th>row_num</th><th>uniform_1</th><th>uniform_2</th><th>exp</th><th>normal</th><th>fat_normal</th><th>flags</th><th>category</th></tr><tr><td>i64</td><td>f64</td><td>f64</td><td>f64</td><td>f64</td><td>f64</td><td>i32</td><td>str</td></tr></thead><tbody><tr><td>0</td><td>0.935568</td><td>0.119996</td><td>0.019354</td><td>-0.047133</td><td>144.690433</td><td>2</td><td>&quot;A&quot;</td></tr><tr><td>3</td><td>6.670114</td><td>0.292098</td><td>1.031165</td><td>-0.80908</td><td>793.655198</td><td>0</td><td>&quot;A&quot;</td></tr><tr><td>4</td><td>1.357895</td><td>0.968076</td><td>1.663537</td><td>-0.17421</td><td>728.835809</td><td>2</td><td>&quot;A&quot;</td></tr><tr><td>5</td><td>3.30599</td><td>0.113208</td><td>0.078005</td><td>0.975963</td><td>678.703558</td><td>0</td><td>&quot;A&quot;</td></tr><tr><td>6</td><td>10.069914</td><td>0.199445</td><td>2.185726</td><td>0.190404</td><td>1028.748911</td><td>2</td><td>&quot;A&quot;</td></tr><tr><td>&hellip;</td><td>&hellip;</td><td>&hellip;</td><td>&hellip;</td><td>&hellip;</td><td>&hellip;</td><td>&hellip;</td><td>&hellip;</td></tr><tr><td>99992</td><td>9.25954</td><td>0.815892</td><td>2.256677</td><td>-0.960783</td><td>285.121927</td><td>2</td><td>&quot;C&quot;</td></tr><tr><td>99993</td><td>8.097766</td><td>0.218478</td><td>1.992431</td><td>0.048365</td><td>587.851111</td><td>2</td><td>&quot;C&quot;</td></tr><tr><td>99995</td><td>0.307021</td><td>0.64763</td><td>1.934077</td><td>1.155237</td><td>137.697902</td><td>0</td><td>&quot;C&quot;</td></tr><tr><td>99996</td><td>7.956777</td><td>0.563552</td><td>4.757125</td><td>0.832886</td><td>546.772274</td><td>2</td><td>&quot;C&quot;</td></tr><tr><td>99997</td><td>11.482908</td><td>0.005173</td><td>0.977997</td><td>0.117833</td><td>-1528.961812</td><td>0</td><td>&quot;C&quot;</td></tr></tbody></table></div>"
      ],
      "text/plain": [
       "shape: (60_000, 8)\n",
       "┌─────────┬───────────┬───────────┬──────────┬───────────┬──────────────┬───────┬──────────┐\n",
       "│ row_num ┆ uniform_1 ┆ uniform_2 ┆ exp      ┆ normal    ┆ fat_normal   ┆ flags ┆ category │\n",
       "│ ---     ┆ ---       ┆ ---       ┆ ---      ┆ ---       ┆ ---          ┆ ---   ┆ ---      │\n",
       "│ i64     ┆ f64       ┆ f64       ┆ f64      ┆ f64       ┆ f64          ┆ i32   ┆ str      │\n",
       "╞═════════╪═══════════╪═══════════╪══════════╪═══════════╪══════════════╪═══════╪══════════╡\n",
       "│ 0       ┆ 0.935568  ┆ 0.119996  ┆ 0.019354 ┆ -0.047133 ┆ 144.690433   ┆ 2     ┆ A        │\n",
       "│ 3       ┆ 6.670114  ┆ 0.292098  ┆ 1.031165 ┆ -0.80908  ┆ 793.655198   ┆ 0     ┆ A        │\n",
       "│ 4       ┆ 1.357895  ┆ 0.968076  ┆ 1.663537 ┆ -0.17421  ┆ 728.835809   ┆ 2     ┆ A        │\n",
       "│ 5       ┆ 3.30599   ┆ 0.113208  ┆ 0.078005 ┆ 0.975963  ┆ 678.703558   ┆ 0     ┆ A        │\n",
       "│ 6       ┆ 10.069914 ┆ 0.199445  ┆ 2.185726 ┆ 0.190404  ┆ 1028.748911  ┆ 2     ┆ A        │\n",
       "│ …       ┆ …         ┆ …         ┆ …        ┆ …         ┆ …            ┆ …     ┆ …        │\n",
       "│ 99992   ┆ 9.25954   ┆ 0.815892  ┆ 2.256677 ┆ -0.960783 ┆ 285.121927   ┆ 2     ┆ C        │\n",
       "│ 99993   ┆ 8.097766  ┆ 0.218478  ┆ 1.992431 ┆ 0.048365  ┆ 587.851111   ┆ 2     ┆ C        │\n",
       "│ 99995   ┆ 0.307021  ┆ 0.64763   ┆ 1.934077 ┆ 1.155237  ┆ 137.697902   ┆ 0     ┆ C        │\n",
       "│ 99996   ┆ 7.956777  ┆ 0.563552  ┆ 4.757125 ┆ 0.832886  ┆ 546.772274   ┆ 2     ┆ C        │\n",
       "│ 99997   ┆ 11.482908 ┆ 0.005173  ┆ 0.977997 ┆ 0.117833  ┆ -1528.961812 ┆ 0     ┆ C        │\n",
       "└─────────┴───────────┴───────────┴──────────┴───────────┴──────────────┴───────┴──────────┘"
      ]
     },
     "execution_count": 4,
     "metadata": {},
     "output_type": "execute_result"
    }
   ],
   "source": [
    "# Random Sample\n",
    "sa.sample(df, 0.6) # by ratio"
   ]
  },
  {
   "cell_type": "code",
   "execution_count": 5,
   "metadata": {},
   "outputs": [
    {
     "data": {
      "text/html": [
       "<div><style>\n",
       ".dataframe > thead > tr,\n",
       ".dataframe > tbody > tr {\n",
       "  text-align: right;\n",
       "  white-space: pre-wrap;\n",
       "}\n",
       "</style>\n",
       "<small>shape: (30_000, 8)</small><table border=\"1\" class=\"dataframe\"><thead><tr><th>row_num</th><th>uniform_1</th><th>uniform_2</th><th>exp</th><th>normal</th><th>fat_normal</th><th>flags</th><th>category</th></tr><tr><td>i64</td><td>f64</td><td>f64</td><td>f64</td><td>f64</td><td>f64</td><td>i32</td><td>str</td></tr></thead><tbody><tr><td>1</td><td>9.679801</td><td>0.05313</td><td>0.31481</td><td>-0.448221</td><td>-55.713233</td><td>2</td><td>&quot;A&quot;</td></tr><tr><td>2</td><td>4.627169</td><td>0.592026</td><td>0.211717</td><td>0.256879</td><td>-688.904619</td><td>1</td><td>&quot;A&quot;</td></tr><tr><td>4</td><td>1.357895</td><td>0.968076</td><td>1.663537</td><td>-0.17421</td><td>728.835809</td><td>2</td><td>&quot;A&quot;</td></tr><tr><td>8</td><td>10.006869</td><td>0.59061</td><td>3.405255</td><td>1.089997</td><td>293.607536</td><td>2</td><td>&quot;A&quot;</td></tr><tr><td>10</td><td>11.277722</td><td>0.965015</td><td>0.20138</td><td>1.191682</td><td>255.865957</td><td>2</td><td>&quot;A&quot;</td></tr><tr><td>&hellip;</td><td>&hellip;</td><td>&hellip;</td><td>&hellip;</td><td>&hellip;</td><td>&hellip;</td><td>&hellip;</td><td>&hellip;</td></tr><tr><td>99986</td><td>6.633542</td><td>0.002842</td><td>1.524212</td><td>-0.752298</td><td>127.119082</td><td>2</td><td>&quot;C&quot;</td></tr><tr><td>99989</td><td>3.554646</td><td>0.319168</td><td>0.212673</td><td>-0.429877</td><td>1373.347225</td><td>0</td><td>&quot;C&quot;</td></tr><tr><td>99991</td><td>11.707947</td><td>0.175283</td><td>3.409857</td><td>0.198862</td><td>2649.120254</td><td>0</td><td>&quot;C&quot;</td></tr><tr><td>99995</td><td>0.307021</td><td>0.64763</td><td>1.934077</td><td>1.155237</td><td>137.697902</td><td>0</td><td>&quot;C&quot;</td></tr><tr><td>99996</td><td>7.956777</td><td>0.563552</td><td>4.757125</td><td>0.832886</td><td>546.772274</td><td>2</td><td>&quot;C&quot;</td></tr></tbody></table></div>"
      ],
      "text/plain": [
       "shape: (30_000, 8)\n",
       "┌─────────┬───────────┬───────────┬──────────┬───────────┬─────────────┬───────┬──────────┐\n",
       "│ row_num ┆ uniform_1 ┆ uniform_2 ┆ exp      ┆ normal    ┆ fat_normal  ┆ flags ┆ category │\n",
       "│ ---     ┆ ---       ┆ ---       ┆ ---      ┆ ---       ┆ ---         ┆ ---   ┆ ---      │\n",
       "│ i64     ┆ f64       ┆ f64       ┆ f64      ┆ f64       ┆ f64         ┆ i32   ┆ str      │\n",
       "╞═════════╪═══════════╪═══════════╪══════════╪═══════════╪═════════════╪═══════╪══════════╡\n",
       "│ 1       ┆ 9.679801  ┆ 0.05313   ┆ 0.31481  ┆ -0.448221 ┆ -55.713233  ┆ 2     ┆ A        │\n",
       "│ 2       ┆ 4.627169  ┆ 0.592026  ┆ 0.211717 ┆ 0.256879  ┆ -688.904619 ┆ 1     ┆ A        │\n",
       "│ 4       ┆ 1.357895  ┆ 0.968076  ┆ 1.663537 ┆ -0.17421  ┆ 728.835809  ┆ 2     ┆ A        │\n",
       "│ 8       ┆ 10.006869 ┆ 0.59061   ┆ 3.405255 ┆ 1.089997  ┆ 293.607536  ┆ 2     ┆ A        │\n",
       "│ 10      ┆ 11.277722 ┆ 0.965015  ┆ 0.20138  ┆ 1.191682  ┆ 255.865957  ┆ 2     ┆ A        │\n",
       "│ …       ┆ …         ┆ …         ┆ …        ┆ …         ┆ …           ┆ …     ┆ …        │\n",
       "│ 99986   ┆ 6.633542  ┆ 0.002842  ┆ 1.524212 ┆ -0.752298 ┆ 127.119082  ┆ 2     ┆ C        │\n",
       "│ 99989   ┆ 3.554646  ┆ 0.319168  ┆ 0.212673 ┆ -0.429877 ┆ 1373.347225 ┆ 0     ┆ C        │\n",
       "│ 99991   ┆ 11.707947 ┆ 0.175283  ┆ 3.409857 ┆ 0.198862  ┆ 2649.120254 ┆ 0     ┆ C        │\n",
       "│ 99995   ┆ 0.307021  ┆ 0.64763   ┆ 1.934077 ┆ 1.155237  ┆ 137.697902  ┆ 0     ┆ C        │\n",
       "│ 99996   ┆ 7.956777  ┆ 0.563552  ┆ 4.757125 ┆ 0.832886  ┆ 546.772274  ┆ 2     ┆ C        │\n",
       "└─────────┴───────────┴───────────┴──────────┴───────────┴─────────────┴───────┴──────────┘"
      ]
     },
     "execution_count": 5,
     "metadata": {},
     "output_type": "execute_result"
    }
   ],
   "source": [
    "sa.sample(df, 30_000) # by count"
   ]
  },
  {
   "cell_type": "code",
   "execution_count": 6,
   "metadata": {},
   "outputs": [
    {
     "data": {
      "text/html": [
       "<div><style>\n",
       ".dataframe > thead > tr,\n",
       ".dataframe > tbody > tr {\n",
       "  text-align: right;\n",
       "  white-space: pre-wrap;\n",
       "}\n",
       "</style>\n",
       "<small>shape: (3, 2)</small><table border=\"1\" class=\"dataframe\"><thead><tr><th>flags</th><th>len</th></tr><tr><td>i32</td><td>u32</td></tr></thead><tbody><tr><td>0</td><td>33257</td></tr><tr><td>1</td><td>33270</td></tr><tr><td>2</td><td>33473</td></tr></tbody></table></div>"
      ],
      "text/plain": [
       "shape: (3, 2)\n",
       "┌───────┬───────┐\n",
       "│ flags ┆ len   │\n",
       "│ ---   ┆ ---   │\n",
       "│ i32   ┆ u32   │\n",
       "╞═══════╪═══════╡\n",
       "│ 0     ┆ 33257 │\n",
       "│ 1     ┆ 33270 │\n",
       "│ 2     ┆ 33473 │\n",
       "└───────┴───────┘"
      ]
     },
     "execution_count": 6,
     "metadata": {},
     "output_type": "execute_result"
    }
   ],
   "source": [
    "df.group_by(\"flags\").len().sort(\"flags\")"
   ]
  },
  {
   "cell_type": "code",
   "execution_count": 7,
   "metadata": {},
   "outputs": [
    {
     "data": {
      "text/html": [
       "<div><style>\n",
       ".dataframe > thead > tr,\n",
       ".dataframe > tbody > tr {\n",
       "  text-align: right;\n",
       "  white-space: pre-wrap;\n",
       "}\n",
       "</style>\n",
       "<small>shape: (3, 2)</small><table border=\"1\" class=\"dataframe\"><thead><tr><th>flags</th><th>len</th></tr><tr><td>i32</td><td>u32</td></tr></thead><tbody><tr><td>0</td><td>16629</td></tr><tr><td>1</td><td>33270</td></tr><tr><td>2</td><td>33473</td></tr></tbody></table></div>"
      ],
      "text/plain": [
       "shape: (3, 2)\n",
       "┌───────┬───────┐\n",
       "│ flags ┆ len   │\n",
       "│ ---   ┆ ---   │\n",
       "│ i32   ┆ u32   │\n",
       "╞═══════╪═══════╡\n",
       "│ 0     ┆ 16629 │\n",
       "│ 1     ┆ 33270 │\n",
       "│ 2     ┆ 33473 │\n",
       "└───────┴───────┘"
      ]
     },
     "execution_count": 7,
     "metadata": {},
     "output_type": "execute_result"
    }
   ],
   "source": [
    "# Downsample on one group\n",
    "sa1 = sa.downsample(\n",
    "    df, \n",
    "    (pl.col(\"flags\") == 0, 0.5)\n",
    ")\n",
    "sa1.group_by(\"flags\").len().sort(\"flags\")"
   ]
  },
  {
   "cell_type": "code",
   "execution_count": 8,
   "metadata": {},
   "outputs": [
    {
     "data": {
      "text/html": [
       "<div><style>\n",
       ".dataframe > thead > tr,\n",
       ".dataframe > tbody > tr {\n",
       "  text-align: right;\n",
       "  white-space: pre-wrap;\n",
       "}\n",
       "</style>\n",
       "<small>shape: (3, 2)</small><table border=\"1\" class=\"dataframe\"><thead><tr><th>flags</th><th>len</th></tr><tr><td>i32</td><td>u32</td></tr></thead><tbody><tr><td>0</td><td>16629</td></tr><tr><td>1</td><td>9981</td></tr><tr><td>2</td><td>13390</td></tr></tbody></table></div>"
      ],
      "text/plain": [
       "shape: (3, 2)\n",
       "┌───────┬───────┐\n",
       "│ flags ┆ len   │\n",
       "│ ---   ┆ ---   │\n",
       "│ i32   ┆ u32   │\n",
       "╞═══════╪═══════╡\n",
       "│ 0     ┆ 16629 │\n",
       "│ 1     ┆ 9981  │\n",
       "│ 2     ┆ 13390 │\n",
       "└───────┴───────┘"
      ]
     },
     "execution_count": 8,
     "metadata": {},
     "output_type": "execute_result"
    }
   ],
   "source": [
    "# Downsample on multiple groups\n",
    "sa2 = sa.downsample(\n",
    "    df, \n",
    "    [\n",
    "        (pl.col(\"flags\") == 0, 0.5),\n",
    "        (pl.col(\"flags\") == 1, 0.3),\n",
    "        (pl.col(\"flags\") == 2, 0.4),\n",
    "    ]\n",
    ")\n",
    "sa2.group_by(\"flags\").len().sort(\"flags\")"
   ]
  },
  {
   "cell_type": "code",
   "execution_count": 9,
   "metadata": {},
   "outputs": [
    {
     "data": {
      "text/html": [
       "<div><style>\n",
       ".dataframe > thead > tr,\n",
       ".dataframe > tbody > tr {\n",
       "  text-align: right;\n",
       "  white-space: pre-wrap;\n",
       "}\n",
       "</style>\n",
       "<small>shape: (3, 2)</small><table border=\"1\" class=\"dataframe\"><thead><tr><th>category</th><th>len</th></tr><tr><td>str</td><td>u32</td></tr></thead><tbody><tr><td>&quot;A&quot;</td><td>30000</td></tr><tr><td>&quot;B&quot;</td><td>30000</td></tr><tr><td>&quot;C&quot;</td><td>40000</td></tr></tbody></table></div>"
      ],
      "text/plain": [
       "shape: (3, 2)\n",
       "┌──────────┬───────┐\n",
       "│ category ┆ len   │\n",
       "│ ---      ┆ ---   │\n",
       "│ str      ┆ u32   │\n",
       "╞══════════╪═══════╡\n",
       "│ A        ┆ 30000 │\n",
       "│ B        ┆ 30000 │\n",
       "│ C        ┆ 40000 │\n",
       "└──────────┴───────┘"
      ]
     },
     "execution_count": 9,
     "metadata": {},
     "output_type": "execute_result"
    }
   ],
   "source": [
    "df.group_by(\"category\").len().sort(\"category\")"
   ]
  },
  {
   "cell_type": "code",
   "execution_count": 10,
   "metadata": {},
   "outputs": [
    {
     "data": {
      "text/html": [
       "<div><style>\n",
       ".dataframe > thead > tr,\n",
       ".dataframe > tbody > tr {\n",
       "  text-align: right;\n",
       "  white-space: pre-wrap;\n",
       "}\n",
       "</style>\n",
       "<small>shape: (3, 2)</small><table border=\"1\" class=\"dataframe\"><thead><tr><th>category</th><th>len</th></tr><tr><td>str</td><td>u32</td></tr></thead><tbody><tr><td>&quot;A&quot;</td><td>30000</td></tr><tr><td>&quot;B&quot;</td><td>30000</td></tr><tr><td>&quot;C&quot;</td><td>30000</td></tr></tbody></table></div>"
      ],
      "text/plain": [
       "shape: (3, 2)\n",
       "┌──────────┬───────┐\n",
       "│ category ┆ len   │\n",
       "│ ---      ┆ ---   │\n",
       "│ str      ┆ u32   │\n",
       "╞══════════╪═══════╡\n",
       "│ A        ┆ 30000 │\n",
       "│ B        ┆ 30000 │\n",
       "│ C        ┆ 30000 │\n",
       "└──────────┴───────┘"
      ]
     },
     "execution_count": 10,
     "metadata": {},
     "output_type": "execute_result"
    }
   ],
   "source": [
    "# Volume neutral by each category, will take the greatest possible value so that we get neutral volume.\n",
    "vn = sa.volume_neutral(\n",
    "    df,\n",
    "    by = pl.col(\"category\"),\n",
    ")\n",
    "vn.group_by(\"category\").len().sort(\"category\")"
   ]
  },
  {
   "cell_type": "code",
   "execution_count": 11,
   "metadata": {},
   "outputs": [
    {
     "data": {
      "text/html": [
       "<div><style>\n",
       ".dataframe > thead > tr,\n",
       ".dataframe > tbody > tr {\n",
       "  text-align: right;\n",
       "  white-space: pre-wrap;\n",
       "}\n",
       "</style>\n",
       "<small>shape: (3, 2)</small><table border=\"1\" class=\"dataframe\"><thead><tr><th>category</th><th>len</th></tr><tr><td>str</td><td>u32</td></tr></thead><tbody><tr><td>&quot;A&quot;</td><td>10000</td></tr><tr><td>&quot;B&quot;</td><td>10000</td></tr><tr><td>&quot;C&quot;</td><td>10000</td></tr></tbody></table></div>"
      ],
      "text/plain": [
       "shape: (3, 2)\n",
       "┌──────────┬───────┐\n",
       "│ category ┆ len   │\n",
       "│ ---      ┆ ---   │\n",
       "│ str      ┆ u32   │\n",
       "╞══════════╪═══════╡\n",
       "│ A        ┆ 10000 │\n",
       "│ B        ┆ 10000 │\n",
       "│ C        ┆ 10000 │\n",
       "└──────────┴───────┘"
      ]
     },
     "execution_count": 11,
     "metadata": {},
     "output_type": "execute_result"
    }
   ],
   "source": [
    "# Volume neutral (10_000) by each category\n",
    "vn = sa.volume_neutral(\n",
    "    df,\n",
    "    by = pl.col(\"category\"),\n",
    "    target_volume = 10_000\n",
    ")\n",
    "vn.group_by(\"category\").len().sort(\"category\")"
   ]
  },
  {
   "cell_type": "code",
   "execution_count": 12,
   "metadata": {},
   "outputs": [
    {
     "data": {
      "text/html": [
       "<div><style>\n",
       ".dataframe > thead > tr,\n",
       ".dataframe > tbody > tr {\n",
       "  text-align: right;\n",
       "  white-space: pre-wrap;\n",
       "}\n",
       "</style>\n",
       "<small>shape: (3, 2)</small><table border=\"1\" class=\"dataframe\"><thead><tr><th>category</th><th>len</th></tr><tr><td>str</td><td>u32</td></tr></thead><tbody><tr><td>&quot;A&quot;</td><td>10000</td></tr><tr><td>&quot;B&quot;</td><td>4309</td></tr><tr><td>&quot;C&quot;</td><td>5691</td></tr></tbody></table></div>"
      ],
      "text/plain": [
       "shape: (3, 2)\n",
       "┌──────────┬───────┐\n",
       "│ category ┆ len   │\n",
       "│ ---      ┆ ---   │\n",
       "│ str      ┆ u32   │\n",
       "╞══════════╪═══════╡\n",
       "│ A        ┆ 10000 │\n",
       "│ B        ┆ 4309  │\n",
       "│ C        ┆ 5691  │\n",
       "└──────────┴───────┘"
      ]
     },
     "execution_count": 12,
     "metadata": {},
     "output_type": "execute_result"
    }
   ],
   "source": [
    "# Volume neutral (10_000) by a more complicated condition\n",
    "vn = sa.volume_neutral(\n",
    "    df,\n",
    "    by = pl.col(\"category\") == \"A\",\n",
    "    target_volume = 10_000\n",
    ") # This makes sense because count for B + count for C = 10_000\n",
    "vn.group_by(\"category\").len().sort(\"category\")"
   ]
  },
  {
   "cell_type": "code",
   "execution_count": 13,
   "metadata": {},
   "outputs": [
    {
     "data": {
      "text/html": [
       "<div><style>\n",
       ".dataframe > thead > tr,\n",
       ".dataframe > tbody > tr {\n",
       "  text-align: right;\n",
       "  white-space: pre-wrap;\n",
       "}\n",
       "</style>\n",
       "<small>shape: (9, 3)</small><table border=\"1\" class=\"dataframe\"><thead><tr><th>category</th><th>flags</th><th>len</th></tr><tr><td>str</td><td>i32</td><td>u32</td></tr></thead><tbody><tr><td>&quot;A&quot;</td><td>0</td><td>9898</td></tr><tr><td>&quot;A&quot;</td><td>1</td><td>9898</td></tr><tr><td>&quot;A&quot;</td><td>2</td><td>9898</td></tr><tr><td>&quot;B&quot;</td><td>0</td><td>9963</td></tr><tr><td>&quot;B&quot;</td><td>1</td><td>9963</td></tr><tr><td>&quot;B&quot;</td><td>2</td><td>9963</td></tr><tr><td>&quot;C&quot;</td><td>0</td><td>13283</td></tr><tr><td>&quot;C&quot;</td><td>1</td><td>13283</td></tr><tr><td>&quot;C&quot;</td><td>2</td><td>13283</td></tr></tbody></table></div>"
      ],
      "text/plain": [
       "shape: (9, 3)\n",
       "┌──────────┬───────┬───────┐\n",
       "│ category ┆ flags ┆ len   │\n",
       "│ ---      ┆ ---   ┆ ---   │\n",
       "│ str      ┆ i32   ┆ u32   │\n",
       "╞══════════╪═══════╪═══════╡\n",
       "│ A        ┆ 0     ┆ 9898  │\n",
       "│ A        ┆ 1     ┆ 9898  │\n",
       "│ A        ┆ 2     ┆ 9898  │\n",
       "│ B        ┆ 0     ┆ 9963  │\n",
       "│ B        ┆ 1     ┆ 9963  │\n",
       "│ B        ┆ 2     ┆ 9963  │\n",
       "│ C        ┆ 0     ┆ 13283 │\n",
       "│ C        ┆ 1     ┆ 13283 │\n",
       "│ C        ┆ 2     ┆ 13283 │\n",
       "└──────────┴───────┴───────┘"
      ]
     },
     "execution_count": 13,
     "metadata": {},
     "output_type": "execute_result"
    }
   ],
   "source": [
    "# Volume neutral sample with a control level. Volume neutral happens under the category level, meaning\n",
    "# the volume for each flag in each category is neutral.\n",
    "vn = sa.volume_neutral(\n",
    "    df,\n",
    "    by = pl.col(\"flags\"),\n",
    "    control = pl.col(\"category\")\n",
    ") \n",
    "vn.group_by([\"category\", \"flags\"]).len().sort([\"category\", \"flags\"])"
   ]
  },
  {
   "cell_type": "code",
   "execution_count": 14,
   "metadata": {},
   "outputs": [
    {
     "data": {
      "text/html": [
       "<div><style>\n",
       ".dataframe > thead > tr,\n",
       ".dataframe > tbody > tr {\n",
       "  text-align: right;\n",
       "  white-space: pre-wrap;\n",
       "}\n",
       "</style>\n",
       "<small>shape: (9, 3)</small><table border=\"1\" class=\"dataframe\"><thead><tr><th>category</th><th>flags</th><th>len</th></tr><tr><td>str</td><td>i32</td><td>u32</td></tr></thead><tbody><tr><td>&quot;A&quot;</td><td>0</td><td>9898</td></tr><tr><td>&quot;A&quot;</td><td>1</td><td>9898</td></tr><tr><td>&quot;A&quot;</td><td>2</td><td>9898</td></tr><tr><td>&quot;B&quot;</td><td>0</td><td>9963</td></tr><tr><td>&quot;B&quot;</td><td>1</td><td>9963</td></tr><tr><td>&quot;B&quot;</td><td>2</td><td>9963</td></tr><tr><td>&quot;C&quot;</td><td>0</td><td>10000</td></tr><tr><td>&quot;C&quot;</td><td>1</td><td>10000</td></tr><tr><td>&quot;C&quot;</td><td>2</td><td>10000</td></tr></tbody></table></div>"
      ],
      "text/plain": [
       "shape: (9, 3)\n",
       "┌──────────┬───────┬───────┐\n",
       "│ category ┆ flags ┆ len   │\n",
       "│ ---      ┆ ---   ┆ ---   │\n",
       "│ str      ┆ i32   ┆ u32   │\n",
       "╞══════════╪═══════╪═══════╡\n",
       "│ A        ┆ 0     ┆ 9898  │\n",
       "│ A        ┆ 1     ┆ 9898  │\n",
       "│ A        ┆ 2     ┆ 9898  │\n",
       "│ B        ┆ 0     ┆ 9963  │\n",
       "│ B        ┆ 1     ┆ 9963  │\n",
       "│ B        ┆ 2     ┆ 9963  │\n",
       "│ C        ┆ 0     ┆ 10000 │\n",
       "│ C        ┆ 1     ┆ 10000 │\n",
       "│ C        ┆ 2     ┆ 10000 │\n",
       "└──────────┴───────┴───────┘"
      ]
     },
     "execution_count": 14,
     "metadata": {},
     "output_type": "execute_result"
    }
   ],
   "source": [
    "# We may not meet the target volume for all categories.\n",
    "vn = sa.volume_neutral(\n",
    "    df,\n",
    "    by = pl.col(\"flags\"),\n",
    "    control = pl.col(\"category\"),\n",
    "    target_volume= 10_000\n",
    ") # \n",
    "vn.group_by([\"category\", \"flags\"]).len().sort([\"category\", \"flags\"])"
   ]
  },
  {
   "cell_type": "markdown",
   "metadata": {},
   "source": [
    "## Splitting\n",
    "\n",
    "To be added..."
   ]
  },
  {
   "cell_type": "markdown",
   "metadata": {},
   "source": []
  },
  {
   "cell_type": "markdown",
   "metadata": {},
   "source": []
  }
 ],
 "metadata": {
  "kernelspec": {
   "display_name": ".venv",
   "language": "python",
   "name": "python3"
  },
  "language_info": {
   "codemirror_mode": {
    "name": "ipython",
    "version": 3
   },
   "file_extension": ".py",
   "mimetype": "text/x-python",
   "name": "python",
   "nbconvert_exporter": "python",
   "pygments_lexer": "ipython3",
   "version": "3.12.3"
  }
 },
 "nbformat": 4,
 "nbformat_minor": 2
}
