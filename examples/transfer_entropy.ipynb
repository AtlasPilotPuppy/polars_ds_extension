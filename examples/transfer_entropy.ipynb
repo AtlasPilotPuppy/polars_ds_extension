{
 "cells": [
  {
   "cell_type": "markdown",
   "metadata": {},
   "source": [
    "https://quantdare.com/concepts-of-entropy-in-finance-transfer-entropy/"
   ]
  },
  {
   "cell_type": "code",
   "execution_count": 1,
   "metadata": {},
   "outputs": [],
   "source": [
    "import polars as pl\n",
    "import polars_ds as pld\n",
    "import numpy as np"
   ]
  },
  {
   "cell_type": "code",
   "execution_count": 2,
   "metadata": {},
   "outputs": [],
   "source": [
    "import yfinance as yf\n",
    "import pandas as pd"
   ]
  },
  {
   "cell_type": "code",
   "execution_count": 3,
   "metadata": {},
   "outputs": [
    {
     "name": "stderr",
     "output_type": "stream",
     "text": [
      "/Users/remiadon/polars_ds_extension/.venv/lib/python3.11/site-packages/yfinance/utils.py:775: FutureWarning: The 'unit' keyword in TimedeltaIndex construction is deprecated and will be removed in a future version. Use pd.to_timedelta instead.\n",
      "  df.index += _pd.TimedeltaIndex(dst_error_hours, 'h')\n",
      "/Users/remiadon/polars_ds_extension/.venv/lib/python3.11/site-packages/yfinance/utils.py:775: FutureWarning: The 'unit' keyword in TimedeltaIndex construction is deprecated and will be removed in a future version. Use pd.to_timedelta instead.\n",
      "  df.index += _pd.TimedeltaIndex(dst_error_hours, 'h')\n"
     ]
    }
   ],
   "source": [
    "VIX = yf.Ticker('^VIX')\n",
    "SP500 = yf.Ticker('^GSPC')\n",
    "vix = pl.DataFrame(VIX.history(start=\"2020-01-01\").to_dict('list'))\n",
    "sp500 = pl.DataFrame(SP500.history(start=\"2020-01-01\").to_dict('list'))\n"
   ]
  },
  {
   "cell_type": "code",
   "execution_count": 4,
   "metadata": {},
   "outputs": [
    {
     "data": {
      "text/html": [
       "<div><style>\n",
       ".dataframe > thead > tr,\n",
       ".dataframe > tbody > tr {\n",
       "  text-align: right;\n",
       "  white-space: pre-wrap;\n",
       "}\n",
       "</style>\n",
       "<small>shape: (5, 2)</small><table border=\"1\" class=\"dataframe\"><thead><tr><th>log_return_vix</th><th>log_return_sp500</th></tr><tr><td>f64</td><td>f64</td></tr></thead><tbody><tr><td>0.117159</td><td>-0.007085</td></tr><tr><td>-0.0122</td><td>0.003527</td></tr><tr><td>-0.004342</td><td>-0.002807</td></tr><tr><td>-0.024965</td><td>0.00489</td></tr><tr><td>-0.070056</td><td>0.006633</td></tr></tbody></table></div>"
      ],
      "text/plain": [
       "shape: (5, 2)\n",
       "┌────────────────┬──────────────────┐\n",
       "│ log_return_vix ┆ log_return_sp500 │\n",
       "│ ---            ┆ ---              │\n",
       "│ f64            ┆ f64              │\n",
       "╞════════════════╪══════════════════╡\n",
       "│ 0.117159       ┆ -0.007085        │\n",
       "│ -0.0122        ┆ 0.003527         │\n",
       "│ -0.004342      ┆ -0.002807        │\n",
       "│ -0.024965      ┆ 0.00489          │\n",
       "│ -0.070056      ┆ 0.006633         │\n",
       "└────────────────┴──────────────────┘"
      ]
     },
     "execution_count": 4,
     "metadata": {},
     "output_type": "execute_result"
    }
   ],
   "source": [
    "log_return = pl.col('Close').truediv(pl.col('Close').shift(1)).log().slice(1, pl.len())\n",
    "df = pl.concat([vix.select(log_return.alias('log_return_vix')), sp500.select(log_return.alias('log_return_sp500'))], how=\"horizontal\")\n",
    "df.head()"
   ]
  },
  {
   "cell_type": "markdown",
   "metadata": {},
   "source": [
    "Checking `entknn` from `pycopent` gives similar results as our implemenation "
   ]
  },
  {
   "cell_type": "code",
   "execution_count": 5,
   "metadata": {},
   "outputs": [
    {
     "data": {
      "text/plain": [
       "-4.738875738790321"
      ]
     },
     "execution_count": 5,
     "metadata": {},
     "output_type": "execute_result"
    }
   ],
   "source": [
    "from copent import entknn\n",
    "entknn(df.to_pandas(), k=2, dtype='euclidean')"
   ]
  },
  {
   "cell_type": "code",
   "execution_count": 6,
   "metadata": {},
   "outputs": [
    {
     "data": {
      "text/html": [
       "<div><style>\n",
       ".dataframe > thead > tr,\n",
       ".dataframe > tbody > tr {\n",
       "  text-align: right;\n",
       "  white-space: pre-wrap;\n",
       "}\n",
       "</style>\n",
       "<small>shape: (1, 1)</small><table border=\"1\" class=\"dataframe\"><thead><tr><th>log_return_sp500</th></tr><tr><td>f64</td></tr></thead><tbody><tr><td>-4.738876</td></tr></tbody></table></div>"
      ],
      "text/plain": [
       "shape: (1, 1)\n",
       "┌──────────────────┐\n",
       "│ log_return_sp500 │\n",
       "│ ---              │\n",
       "│ f64              │\n",
       "╞══════════════════╡\n",
       "│ -4.738876        │\n",
       "└──────────────────┘"
      ]
     },
     "execution_count": 6,
     "metadata": {},
     "output_type": "execute_result"
    }
   ],
   "source": [
    "from polars_ds.num import query_knn_entropy\n",
    "df.select(query_knn_entropy('log_return_sp500', 'log_return_vix', k=2))"
   ]
  },
  {
   "cell_type": "markdown",
   "metadata": {},
   "source": [
    "Checking `copula entropy` test from `pycopent` gives similar results as our implemenation "
   ]
  },
  {
   "cell_type": "code",
   "execution_count": 7,
   "metadata": {},
   "outputs": [
    {
     "data": {
      "text/plain": [
       "0.405154203160877"
      ]
     },
     "execution_count": 7,
     "metadata": {},
     "output_type": "execute_result"
    }
   ],
   "source": [
    "from copent import copent\n",
    "copent(df.to_numpy(), k=3, dtype='euclidean')"
   ]
  },
  {
   "cell_type": "code",
   "execution_count": 8,
   "metadata": {},
   "outputs": [
    {
     "data": {
      "text/html": [
       "<div><style>\n",
       ".dataframe > thead > tr,\n",
       ".dataframe > tbody > tr {\n",
       "  text-align: right;\n",
       "  white-space: pre-wrap;\n",
       "}\n",
       "</style>\n",
       "<small>shape: (1, 1)</small><table border=\"1\" class=\"dataframe\"><thead><tr><th>log_return_vix</th></tr><tr><td>f64</td></tr></thead><tbody><tr><td>0.405154</td></tr></tbody></table></div>"
      ],
      "text/plain": [
       "shape: (1, 1)\n",
       "┌────────────────┐\n",
       "│ log_return_vix │\n",
       "│ ---            │\n",
       "│ f64            │\n",
       "╞════════════════╡\n",
       "│ 0.405154       │\n",
       "└────────────────┘"
      ]
     },
     "execution_count": 8,
     "metadata": {},
     "output_type": "execute_result"
    }
   ],
   "source": [
    "from polars_ds.num import query_copula_entropy\n",
    "df.select(query_copula_entropy('log_return_vix', 'log_return_sp500', k=3))"
   ]
  },
  {
   "cell_type": "markdown",
   "metadata": {},
   "source": [
    "Checking `conditional independence` test from `pycopent` gives similar results as our implemenation "
   ]
  },
  {
   "cell_type": "code",
   "execution_count": 9,
   "metadata": {},
   "outputs": [
    {
     "data": {
      "text/plain": [
       "0.08942643134823403"
      ]
     },
     "execution_count": 9,
     "metadata": {},
     "output_type": "execute_result"
    }
   ],
   "source": [
    "from copent import ci\n",
    "lag = 2\n",
    "\n",
    "px1 = df.get_column('log_return_vix').slice(0, len(df) - lag)\n",
    "px2 = df.get_column('log_return_vix').slice(lag, len(df))\n",
    "psource = df.get_column('log_return_sp500').slice(0, len(df) - lag)\n",
    "ci(px2, psource, px1, dtype='euclidean', k=2)"
   ]
  },
  {
   "cell_type": "code",
   "execution_count": 10,
   "metadata": {},
   "outputs": [
    {
     "data": {
      "text/html": [
       "<div><style>\n",
       ".dataframe > thead > tr,\n",
       ".dataframe > tbody > tr {\n",
       "  text-align: right;\n",
       "  white-space: pre-wrap;\n",
       "}\n",
       "</style>\n",
       "<small>shape: (1, 1)</small><table border=\"1\" class=\"dataframe\"><thead><tr><th>log_return_vix</th></tr><tr><td>f64</td></tr></thead><tbody><tr><td>0.087541</td></tr></tbody></table></div>"
      ],
      "text/plain": [
       "shape: (1, 1)\n",
       "┌────────────────┐\n",
       "│ log_return_vix │\n",
       "│ ---            │\n",
       "│ f64            │\n",
       "╞════════════════╡\n",
       "│ 0.087541       │\n",
       "└────────────────┘"
      ]
     },
     "execution_count": 10,
     "metadata": {},
     "output_type": "execute_result"
    }
   ],
   "source": [
    "x1 = pl.col.log_return_vix.slice(0, pl.len() - lag)\n",
    "x2 = pl.col.log_return_vix.slice(lag, pl.len())\n",
    "source = pl.col.log_return_sp500.slice(0, pl.len() - lag)\n",
    "df.select(x2.num.conditional_independence(source, x1, k=2))"
   ]
  },
  {
   "cell_type": "code",
   "execution_count": 11,
   "metadata": {},
   "outputs": [
    {
     "data": {
      "text/plain": [
       "0.028790856054837555"
      ]
     },
     "execution_count": 11,
     "metadata": {},
     "output_type": "execute_result"
    }
   ],
   "source": [
    "from copent import transent\n",
    "\n",
    "transent(df.get_column('log_return_vix'), df.get_column('log_return_sp500'), lag=1, k=2, dtype='euclidean')"
   ]
  },
  {
   "cell_type": "code",
   "execution_count": 12,
   "metadata": {},
   "outputs": [
    {
     "data": {
      "text/html": [
       "<div><style>\n",
       ".dataframe > thead > tr,\n",
       ".dataframe > tbody > tr {\n",
       "  text-align: right;\n",
       "  white-space: pre-wrap;\n",
       "}\n",
       "</style>\n",
       "<small>shape: (1, 1)</small><table border=\"1\" class=\"dataframe\"><thead><tr><th>log_return_vix</th></tr><tr><td>f64</td></tr></thead><tbody><tr><td>0.027849</td></tr></tbody></table></div>"
      ],
      "text/plain": [
       "shape: (1, 1)\n",
       "┌────────────────┐\n",
       "│ log_return_vix │\n",
       "│ ---            │\n",
       "│ f64            │\n",
       "╞════════════════╡\n",
       "│ 0.027849       │\n",
       "└────────────────┘"
      ]
     },
     "execution_count": 12,
     "metadata": {},
     "output_type": "execute_result"
    }
   ],
   "source": [
    "df.select(pl.col.log_return_vix.num.transfer_entropy(pl.col('log_return_sp500'), lag=1, k=2))"
   ]
  }
 ],
 "metadata": {
  "kernelspec": {
   "display_name": "base",
   "language": "python",
   "name": "python3"
  },
  "language_info": {
   "codemirror_mode": {
    "name": "ipython",
    "version": 3
   },
   "file_extension": ".py",
   "mimetype": "text/x-python",
   "name": "python",
   "nbconvert_exporter": "python",
   "pygments_lexer": "ipython3",
   "version": "3.11.7"
  }
 },
 "nbformat": 4,
 "nbformat_minor": 2
}
