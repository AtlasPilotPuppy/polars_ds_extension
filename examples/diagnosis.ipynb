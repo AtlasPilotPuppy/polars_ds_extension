{
 "cells": [
  {
   "cell_type": "markdown",
   "metadata": {},
   "source": [
    "# Diagonsis and DIA (Data Inspection Assistant)\n",
    "\n",
    "If you cannot import this module, please try: pip install \"polars_ds[plot]\"\n",
    "\n",
    "The dataset is downloaded on github."
   ]
  },
  {
   "cell_type": "code",
   "execution_count": 1,
   "metadata": {},
   "outputs": [],
   "source": [
    "import polars as pl\n",
    "import polars_ds as pds\n",
    "from polars_ds.diagnosis import DIA"
   ]
  },
  {
   "cell_type": "code",
   "execution_count": 2,
   "metadata": {},
   "outputs": [
    {
     "data": {
      "text/html": [
       "<div><style>\n",
       ".dataframe > thead > tr,\n",
       ".dataframe > tbody > tr {\n",
       "  text-align: right;\n",
       "  white-space: pre-wrap;\n",
       "}\n",
       "</style>\n",
       "<small>shape: (5, 6)</small><table border=\"1\" class=\"dataframe\"><thead><tr><th>uniform_1</th><th>uniform_2</th><th>exp</th><th>normal</th><th>fat_normal</th><th>list_prob</th></tr><tr><td>f64</td><td>f64</td><td>f64</td><td>f64</td><td>f64</td><td>list[f64]</td></tr></thead><tbody><tr><td>8.627832</td><td>0.19401</td><td>3.789485</td><td>-0.635949</td><td>-1387.327802</td><td>[0.19401, 0.80599]</td></tr><tr><td>0.754175</td><td>0.106241</td><td>1.355493</td><td>0.698087</td><td>48.353315</td><td>[0.106241, 0.893759]</td></tr><tr><td>2.390684</td><td>0.72094</td><td>1.423</td><td>-0.043071</td><td>436.696309</td><td>[0.72094, 0.27906]</td></tr><tr><td>10.750007</td><td>0.869118</td><td>2.56537</td><td>0.337695</td><td>-155.340697</td><td>[0.869118, 0.130882]</td></tr><tr><td>8.920932</td><td>0.664278</td><td>2.728754</td><td>-0.328516</td><td>684.461783</td><td>[0.664278, 0.335722]</td></tr></tbody></table></div>"
      ],
      "text/plain": [
       "shape: (5, 6)\n",
       "┌───────────┬───────────┬──────────┬───────────┬──────────────┬──────────────────────┐\n",
       "│ uniform_1 ┆ uniform_2 ┆ exp      ┆ normal    ┆ fat_normal   ┆ list_prob            │\n",
       "│ ---       ┆ ---       ┆ ---      ┆ ---       ┆ ---          ┆ ---                  │\n",
       "│ f64       ┆ f64       ┆ f64      ┆ f64       ┆ f64          ┆ list[f64]            │\n",
       "╞═══════════╪═══════════╪══════════╪═══════════╪══════════════╪══════════════════════╡\n",
       "│ 8.627832  ┆ 0.19401   ┆ 3.789485 ┆ -0.635949 ┆ -1387.327802 ┆ [0.19401, 0.80599]   │\n",
       "│ 0.754175  ┆ 0.106241  ┆ 1.355493 ┆ 0.698087  ┆ 48.353315    ┆ [0.106241, 0.893759] │\n",
       "│ 2.390684  ┆ 0.72094   ┆ 1.423    ┆ -0.043071 ┆ 436.696309   ┆ [0.72094, 0.27906]   │\n",
       "│ 10.750007 ┆ 0.869118  ┆ 2.56537  ┆ 0.337695  ┆ -155.340697  ┆ [0.869118, 0.130882] │\n",
       "│ 8.920932  ┆ 0.664278  ┆ 2.728754 ┆ -0.328516 ┆ 684.461783   ┆ [0.664278, 0.335722] │\n",
       "└───────────┴───────────┴──────────┴───────────┴──────────────┴──────────────────────┘"
      ]
     },
     "execution_count": 2,
     "metadata": {},
     "output_type": "execute_result"
    }
   ],
   "source": [
    "df = pds.random_data(size=100_000, n_cols = 0).select(\n",
    "    pds.random(0.0, 12.0).alias(\"uniform_1\"),\n",
    "    pds.random(0.0, 1.0).alias(\"uniform_2\"),\n",
    "    pds.random_exp(0.5).alias(\"exp\"),\n",
    "    pds.random_normal(0.0, 1.0).alias(\"normal\"),\n",
    "    pds.random_normal(0.0, 1000.0).alias(\"fat_normal\"),\n",
    ").with_columns(\n",
    "    pl.concat_list(\"uniform_2\", 1 - pl.col(\"uniform_2\")).alias(\"list_prob\")\n",
    ")\n",
    "df.head()"
   ]
  },
  {
   "cell_type": "code",
   "execution_count": 3,
   "metadata": {},
   "outputs": [],
   "source": [
    "dia = DIA(df)"
   ]
  },
  {
   "cell_type": "code",
   "execution_count": 4,
   "metadata": {},
   "outputs": [
    {
     "data": {
      "text/html": [
       "<div id=\"mlanvomwyw\" style=\"padding-left:0px;padding-right:0px;padding-top:10px;padding-bottom:10px;overflow-x:auto;overflow-y:auto;width:auto;height:auto;\">\n",
       "<style>\n",
       "#mlanvomwyw table {\n",
       "          font-family: -apple-system, BlinkMacSystemFont, 'Segoe UI', Roboto, Oxygen, Ubuntu, Cantarell, 'Helvetica Neue', 'Fira Sans', 'Droid Sans', Arial, sans-serif;\n",
       "          -webkit-font-smoothing: antialiased;\n",
       "          -moz-osx-font-smoothing: grayscale;\n",
       "        }\n",
       "\n",
       "#mlanvomwyw thead, tbody, tfoot, tr, td, th { border-style: none !important; }\n",
       " tr { background-color: transparent !important; }\n",
       "#mlanvomwyw p { margin: 0 !important; padding: 0 !important; }\n",
       " #mlanvomwyw .gt_table { display: table !important; border-collapse: collapse !important; line-height: normal !important; margin-left: auto !important; margin-right: auto !important; color: #333333 !important; font-size: 16px !important; font-weight: normal !important; font-style: normal !important; background-color: #FFFFFF !important; width: auto !important; border-top-style: solid !important; border-top-width: 2px !important; border-top-color: #A8A8A8 !important; border-right-style: none !important; border-right-width: 2px !important; border-right-color: #D3D3D3 !important; border-bottom-style: solid !important; border-bottom-width: 2px !important; border-bottom-color: #A8A8A8 !important; border-left-style: none !important; border-left-width: 2px !important; border-left-color: #D3D3D3 !important; }\n",
       " #mlanvomwyw .gt_caption { padding-top: 4px !important; padding-bottom: 4px !important; }\n",
       " #mlanvomwyw .gt_title { color: #333333 !important; font-size: 125% !important; font-weight: initial !important; padding-top: 4px !important; padding-bottom: 4px !important; padding-left: 5px !important; padding-right: 5px !important; border-bottom-color: #FFFFFF !important; border-bottom-width: 0 !important; }\n",
       " #mlanvomwyw .gt_subtitle { color: #333333 !important; font-size: 85% !important; font-weight: initial !important; padding-top: 3px !important; padding-bottom: 5px !important; padding-left: 5px !important; padding-right: 5px !important; border-top-color: #FFFFFF !important; border-top-width: 0 !important; }\n",
       " #mlanvomwyw .gt_heading { background-color: #FFFFFF !important; text-align: center !important; border-bottom-color: #FFFFFF !important; border-left-style: none !important; border-left-width: 1px !important; border-left-color: #D3D3D3 !important; border-right-style: none !important; border-right-width: 1px !important; border-right-color: #D3D3D3 !important; }\n",
       " #mlanvomwyw .gt_bottom_border { border-bottom-style: solid !important; border-bottom-width: 2px !important; border-bottom-color: #D3D3D3 !important; }\n",
       " #mlanvomwyw .gt_col_headings { border-top-style: solid !important; border-top-width: 2px !important; border-top-color: #D3D3D3 !important; border-bottom-style: solid !important; border-bottom-width: 2px !important; border-bottom-color: #D3D3D3 !important; border-left-style: none !important; border-left-width: 1px !important; border-left-color: #D3D3D3 !important; border-right-style: none !important; border-right-width: 1px !important; border-right-color: #D3D3D3 !important; }\n",
       " #mlanvomwyw .gt_col_heading { color: #333333 !important; background-color: #FFFFFF !important; font-size: 100% !important; font-weight: normal !important; text-transform: inherit !important; border-left-style: none !important; border-left-width: 1px !important; border-left-color: #D3D3D3 !important; border-right-style: none !important; border-right-width: 1px !important; border-right-color: #D3D3D3 !important; vertical-align: bottom !important; padding-top: 5px !important; padding-bottom: 5px !important; padding-left: 5px !important; padding-right: 5px !important; overflow-x: hidden !important; }\n",
       " #mlanvomwyw .gt_column_spanner_outer { color: #333333 !important; background-color: #FFFFFF !important; font-size: 100% !important; font-weight: normal !important; text-transform: inherit !important; padding-top: 0 !important; padding-bottom: 0 !important; padding-left: 4px !important; padding-right: 4px !important; }\n",
       " #mlanvomwyw .gt_column_spanner_outer:first-child { padding-left: 0 !important; }\n",
       " #mlanvomwyw .gt_column_spanner_outer:last-child { padding-right: 0 !important; }\n",
       " #mlanvomwyw .gt_column_spanner { border-bottom-style: solid !important; border-bottom-width: 2px !important; border-bottom-color: #D3D3D3 !important; vertical-align: bottom !important; padding-top: 5px !important; padding-bottom: 5px !important; overflow-x: hidden !important; display: inline-block !important; width: 100% !important; }\n",
       " #mlanvomwyw .gt_spanner_row { border-bottom-style: hidden !important; }\n",
       " #mlanvomwyw .gt_group_heading { padding-top: 8px !important; padding-bottom: 8px !important; padding-left: 5px !important; padding-right: 5px !important; color: #333333 !important; background-color: #FFFFFF !important; font-size: 100% !important; font-weight: initial !important; text-transform: inherit !important; border-top-style: solid !important; border-top-width: 2px !important; border-top-color: #D3D3D3 !important; border-bottom-style: solid !important; border-bottom-width: 2px !important; border-bottom-color: #D3D3D3 !important; border-left-style: none !important; border-left-width: 1px !important; border-left-color: #D3D3D3 !important; border-right-style: none !important; border-right-width: 1px !important; border-right-color: #D3D3D3 !important; vertical-align: middle !important; text-align: left !important; }\n",
       " #mlanvomwyw .gt_empty_group_heading { padding: 0.5px !important; color: #333333 !important; background-color: #FFFFFF !important; font-size: 100% !important; font-weight: initial !important; border-top-style: solid !important; border-top-width: 2px !important; border-top-color: #D3D3D3 !important; border-bottom-style: solid !important; border-bottom-width: 2px !important; border-bottom-color: #D3D3D3 !important; vertical-align: middle !important; }\n",
       " #mlanvomwyw .gt_from_md> :first-child { margin-top: 0 !important; }\n",
       " #mlanvomwyw .gt_from_md> :last-child { margin-bottom: 0 !important; }\n",
       " #mlanvomwyw .gt_row { padding-top: 8px !important; padding-bottom: 8px !important; padding-left: 5px !important; padding-right: 5px !important; margin: 10px !important; border-top-style: solid !important; border-top-width: 1px !important; border-top-color: #D3D3D3 !important; border-left-style: none !important; border-left-width: 1px !important; border-left-color: #D3D3D3 !important; border-right-style: none !important; border-right-width: 1px !important; border-right-color: #D3D3D3 !important; vertical-align: middle !important; overflow-x: hidden !important; }\n",
       " #mlanvomwyw .gt_stub { color: #333333 !important; background-color: #FFFFFF !important; font-size: 100% !important; font-weight: initial !important; text-transform: inherit !important; border-right-style: solid !important; border-right-width: 2px !important; border-right-color: #D3D3D3 !important; padding-left: 5px !important; padding-right: 5px !important; }\n",
       " #mlanvomwyw .gt_stub_row_group { color: #333333 !important; background-color: #FFFFFF !important; font-size: 100% !important; font-weight: initial !important; text-transform: inherit !important; border-right-style: solid !important; border-right-width: 2px !important; border-right-color: #D3D3D3 !important; padding-left: 5px !important; padding-right: 5px !important; vertical-align: top !important; }\n",
       " #mlanvomwyw .gt_row_group_first td { border-top-width: 2px !important; }\n",
       " #mlanvomwyw .gt_row_group_first th { border-top-width: 2px !important; }\n",
       " #mlanvomwyw .gt_table_body { border-top-style: solid !important; border-top-width: 2px !important; border-top-color: #D3D3D3 !important; border-bottom-style: solid !important; border-bottom-width: 2px !important; border-bottom-color: #D3D3D3 !important; }\n",
       " #mlanvomwyw .gt_sourcenotes { color: #333333 !important; background-color: #FFFFFF !important; border-bottom-style: none !important; border-bottom-width: 2px !important; border-bottom-color: #D3D3D3 !important; border-left-style: none !important; border-left-width: 2px !important; border-left-color: #D3D3D3 !important; border-right-style: none !important; border-right-width: 2px !important; border-right-color: #D3D3D3 !important; }\n",
       " #mlanvomwyw .gt_sourcenote { font-size: 90% !important; padding-top: 4px !important; padding-bottom: 4px !important; padding-left: 5px !important; padding-right: 5px !important; text-align: left !important; }\n",
       " #mlanvomwyw .gt_left { text-align: left !important; }\n",
       " #mlanvomwyw .gt_center { text-align: center !important; }\n",
       " #mlanvomwyw .gt_right { text-align: right !important; font-variant-numeric: tabular-nums !important; }\n",
       " #mlanvomwyw .gt_font_normal { font-weight: normal !important; }\n",
       " #mlanvomwyw .gt_font_bold { font-weight: bold !important; }\n",
       " #mlanvomwyw .gt_font_italic { font-style: italic !important; }\n",
       " #mlanvomwyw .gt_super { font-size: 65% !important; }\n",
       " #mlanvomwyw .gt_footnote_marks { font-size: 75% !important; vertical-align: 0.4em !important; position: initial !important; }\n",
       " #mlanvomwyw .gt_asterisk { font-size: 100% !important; vertical-align: 0 !important; }\n",
       " \n",
       "</style>\n",
       "<table class=\"gt_table\" data-quarto-disable-processing=\"false\" data-quarto-bootstrap=\"false\">\n",
       "\n",
       "<tr class=\"gt_col_headings\">\n",
       "  <th class=\"gt_col_heading gt_columns_bottom_border gt_left\" rowspan=\"1\" colspan=\"1\" scope=\"col\" id=\"column\">column</th>\n",
       "  <th class=\"gt_col_heading gt_columns_bottom_border gt_center\" rowspan=\"1\" colspan=\"1\" scope=\"col\" id=\"non_null_cnt\">non_null_cnt</th>\n",
       "  <th class=\"gt_col_heading gt_columns_bottom_border gt_right\" rowspan=\"1\" colspan=\"1\" scope=\"col\" id=\"null%\">null%</th>\n",
       "  <th class=\"gt_col_heading gt_columns_bottom_border gt_right\" rowspan=\"1\" colspan=\"1\" scope=\"col\" id=\"mean\">mean</th>\n",
       "  <th class=\"gt_col_heading gt_columns_bottom_border gt_right\" rowspan=\"1\" colspan=\"1\" scope=\"col\" id=\"std\">std</th>\n",
       "  <th class=\"gt_col_heading gt_columns_bottom_border gt_right\" rowspan=\"1\" colspan=\"1\" scope=\"col\" id=\"min\">min</th>\n",
       "  <th class=\"gt_col_heading gt_columns_bottom_border gt_right\" rowspan=\"1\" colspan=\"1\" scope=\"col\" id=\"q1\">q1</th>\n",
       "  <th class=\"gt_col_heading gt_columns_bottom_border gt_right\" rowspan=\"1\" colspan=\"1\" scope=\"col\" id=\"median\">median</th>\n",
       "  <th class=\"gt_col_heading gt_columns_bottom_border gt_right\" rowspan=\"1\" colspan=\"1\" scope=\"col\" id=\"q3\">q3</th>\n",
       "  <th class=\"gt_col_heading gt_columns_bottom_border gt_right\" rowspan=\"1\" colspan=\"1\" scope=\"col\" id=\"max\">max</th>\n",
       "  <th class=\"gt_col_heading gt_columns_bottom_border gt_right\" rowspan=\"1\" colspan=\"1\" scope=\"col\" id=\"IQR\">IQR</th>\n",
       "  <th class=\"gt_col_heading gt_columns_bottom_border gt_center\" rowspan=\"1\" colspan=\"1\" scope=\"col\" id=\"outlier_cnt\">outlier_cnt</th>\n",
       "  <th class=\"gt_col_heading gt_columns_bottom_border gt_center\" rowspan=\"1\" colspan=\"1\" scope=\"col\" id=\"histogram\">histogram</th>\n",
       "</tr>\n",
       "<tbody class=\"gt_table_body\">\n",
       "<tr>\n",
       "  <th class=\"gt_row gt_left gt_stub\">uniform_1</th>\n",
       "  <td class=\"gt_row gt_center\">100000</td>\n",
       "  <td class=\"gt_row gt_right\">0.00%</td>\n",
       "  <td class=\"gt_row gt_right\">5.999</td>\n",
       "  <td class=\"gt_row gt_right\">3.465</td>\n",
       "  <td class=\"gt_row gt_right\">0.000</td>\n",
       "  <td class=\"gt_row gt_right\">3.002</td>\n",
       "  <td class=\"gt_row gt_right\">6.000</td>\n",
       "  <td class=\"gt_row gt_right\">8.992</td>\n",
       "  <td class=\"gt_row gt_right\">12.000</td>\n",
       "  <td class=\"gt_row gt_right\">5.990</td>\n",
       "  <td class=\"gt_row gt_center\">0</td>\n",
       "  <td class=\"gt_row gt_center\"><div><svg role=\"img\" viewBox=\"0 0 850 130\" style=\"height: 2em; margin-left: auto; margin-right: auto; font-size: inherit; overflow: visible; vertical-align: middle; position:relative;\"><defs><pattern id=\"area_pattern\" width=\"8\" height=\"8\" patternUnits=\"userSpaceOnUse\"><path class=\"pattern-line\" d=\"M 0,8 l 8,-8 M -1,1 l 4,-4 M 6,10 l 4,-4\" stroke=\"#FF0000\" stroke-width=\"1.5\" stroke-linecap=\"round\" shape-rendering=\"geometricPrecision\"></path></pattern></defs><style> text { font-family: ui-monospace, 'Cascadia Code', 'Source Code Pro', Menlo, Consolas, 'DejaVu Sans Mono', monospace; stroke-width: 0.15em; paint-order: stroke; stroke-linejoin: round; cursor: default; } .vert-line:hover rect { fill: #911EB4; fill-opacity: 40%; stroke: #FFFFFF60; color: red; } .vert-line:hover text { stroke: white; fill: #212427; } .horizontal-line:hover text {stroke: white; fill: #212427; } .ref-line:hover rect { stroke: #FFFFFF60; } .ref-line:hover line { stroke: #FF0000; } .ref-line:hover text { stroke: white; fill: #212427; } .y-axis-line:hover rect { fill: #EDEDED; fill-opacity: 60%; stroke: #FFFFFF60; color: red; } .y-axis-line:hover text { stroke: white; stroke-width: 0.20em; fill: #1A1C1F; } </style><line x1=\"22.5\" y1=\"115.0\" x2=\"827.5\" y2=\"115.0\" stroke=\"#BFBFBF\" stroke-width=\"4\"></line><rect x=\"30.0\" y=\"17.00412614205717\" width=\"40\" height=\"97.99587385794283\" stroke=\"#3290CC\" stroke-width=\"4\" fill=\"#3FB5FF\"></rect><rect x=\"83.57142857142857\" y=\"17.06307102858827\" width=\"40\" height=\"97.93692897141173\" stroke=\"#3290CC\" stroke-width=\"4\" fill=\"#3FB5FF\"></rect><rect x=\"137.14285714285714\" y=\"16.14942528735632\" width=\"40\" height=\"98.85057471264368\" stroke=\"#3290CC\" stroke-width=\"4\" fill=\"#3FB5FF\"></rect><rect x=\"190.7142857142857\" y=\"16.59151193633952\" width=\"40\" height=\"98.40848806366049\" stroke=\"#3290CC\" stroke-width=\"4\" fill=\"#3FB5FF\"></rect><rect x=\"244.28571428571428\" y=\"15.0\" width=\"40\" height=\"100.0\" stroke=\"#3290CC\" stroke-width=\"4\" fill=\"#3FB5FF\"></rect><rect x=\"297.85714285714283\" y=\"17.460949012673154\" width=\"40\" height=\"97.53905098732685\" stroke=\"#3290CC\" stroke-width=\"4\" fill=\"#3FB5FF\"></rect><rect x=\"351.4285714285714\" y=\"17.387267904509283\" width=\"40\" height=\"97.61273209549071\" stroke=\"#3290CC\" stroke-width=\"4\" fill=\"#3FB5FF\"></rect><rect x=\"405.0\" y=\"18.551429413498376\" width=\"40\" height=\"96.44857058650163\" stroke=\"#3290CC\" stroke-width=\"4\" fill=\"#3FB5FF\"></rect><rect x=\"458.57142857142856\" y=\"16.119952844090776\" width=\"40\" height=\"98.88004715590922\" stroke=\"#3290CC\" stroke-width=\"4\" fill=\"#3FB5FF\"></rect><rect x=\"512.1428571428571\" y=\"16.503094606542888\" width=\"40\" height=\"98.49690539345711\" stroke=\"#3290CC\" stroke-width=\"4\" fill=\"#3FB5FF\"></rect><rect x=\"565.7142857142857\" y=\"15.530503978779839\" width=\"40\" height=\"99.46949602122017\" stroke=\"#3290CC\" stroke-width=\"4\" fill=\"#3FB5FF\"></rect><rect x=\"619.2857142857142\" y=\"18.89036251105217\" width=\"40\" height=\"96.10963748894783\" stroke=\"#3290CC\" stroke-width=\"4\" fill=\"#3FB5FF\"></rect><rect x=\"672.8571428571428\" y=\"16.119952844090776\" width=\"40\" height=\"98.88004715590922\" stroke=\"#3290CC\" stroke-width=\"4\" fill=\"#3FB5FF\"></rect><rect x=\"726.4285714285713\" y=\"16.07574417919245\" width=\"40\" height=\"98.92425582080755\" stroke=\"#3290CC\" stroke-width=\"4\" fill=\"#3FB5FF\"></rect><rect x=\"780.0\" y=\"16.930445033893314\" width=\"40\" height=\"98.0695549661067\" stroke=\"#3290CC\" stroke-width=\"4\" fill=\"#3FB5FF\"></rect><g class=\"y-axis-line\"><rect x=\"0\" y=\"0\" width=\"65\" height=\"130\" stroke=\"transparent\" stroke-width=\"0\" fill=\"transparent\"></rect><text x=\"0\" y=\"19.0\" fill=\"transparent\" stroke=\"transparent\" font-size=\"25\">6.79K</text><text x=\"0\" y=\"126.0\" fill=\"transparent\" stroke=\"transparent\" font-size=\"25\">0</text></g><g class=\"vert-line\"><rect x=\"40.0\" y=\"0\" width=\"20\" height=\"130\" stroke=\"transparent\" stroke-width=\"12\" fill=\"transparent\"></rect><text x=\"60.0\" y=\"20\" fill=\"transparent\" stroke=\"transparent\" font-size=\"30px\">6.65K</text></g><g class=\"vert-line\"><rect x=\"93.57142857142857\" y=\"0\" width=\"20\" height=\"130\" stroke=\"transparent\" stroke-width=\"12\" fill=\"transparent\"></rect><text x=\"113.57142857142857\" y=\"20\" fill=\"transparent\" stroke=\"transparent\" font-size=\"30px\">6.65K</text></g><g class=\"vert-line\"><rect x=\"147.14285714285714\" y=\"0\" width=\"20\" height=\"130\" stroke=\"transparent\" stroke-width=\"12\" fill=\"transparent\"></rect><text x=\"167.14285714285714\" y=\"20\" fill=\"transparent\" stroke=\"transparent\" font-size=\"30px\">6.71K</text></g><g class=\"vert-line\"><rect x=\"200.7142857142857\" y=\"0\" width=\"20\" height=\"130\" stroke=\"transparent\" stroke-width=\"12\" fill=\"transparent\"></rect><text x=\"220.7142857142857\" y=\"20\" fill=\"transparent\" stroke=\"transparent\" font-size=\"30px\">6.68K</text></g><g class=\"vert-line\"><rect x=\"254.28571428571428\" y=\"0\" width=\"20\" height=\"130\" stroke=\"transparent\" stroke-width=\"12\" fill=\"transparent\"></rect><text x=\"274.2857142857143\" y=\"20\" fill=\"transparent\" stroke=\"transparent\" font-size=\"30px\">6.79K</text></g><g class=\"vert-line\"><rect x=\"307.85714285714283\" y=\"0\" width=\"20\" height=\"130\" stroke=\"transparent\" stroke-width=\"12\" fill=\"transparent\"></rect><text x=\"327.85714285714283\" y=\"20\" fill=\"transparent\" stroke=\"transparent\" font-size=\"30px\">6.62K</text></g><g class=\"vert-line\"><rect x=\"361.4285714285714\" y=\"0\" width=\"20\" height=\"130\" stroke=\"transparent\" stroke-width=\"12\" fill=\"transparent\"></rect><text x=\"381.4285714285714\" y=\"20\" fill=\"transparent\" stroke=\"transparent\" font-size=\"30px\">6.62K</text></g><g class=\"vert-line\"><rect x=\"415.0\" y=\"0\" width=\"20\" height=\"130\" stroke=\"transparent\" stroke-width=\"12\" fill=\"transparent\"></rect><text x=\"435.0\" y=\"20\" fill=\"transparent\" stroke=\"transparent\" font-size=\"30px\">6.54K</text></g><g class=\"vert-line\"><rect x=\"468.57142857142856\" y=\"0\" width=\"20\" height=\"130\" stroke=\"transparent\" stroke-width=\"12\" fill=\"transparent\"></rect><text x=\"488.57142857142856\" y=\"20\" fill=\"transparent\" stroke=\"transparent\" font-size=\"30px\">6.71K</text></g><g class=\"vert-line\"><rect x=\"522.1428571428571\" y=\"0\" width=\"20\" height=\"130\" stroke=\"transparent\" stroke-width=\"12\" fill=\"transparent\"></rect><text x=\"542.1428571428571\" y=\"20\" fill=\"transparent\" stroke=\"transparent\" font-size=\"30px\">6.68K</text></g><g class=\"vert-line\"><rect x=\"575.7142857142857\" y=\"0\" width=\"20\" height=\"130\" stroke=\"transparent\" stroke-width=\"12\" fill=\"transparent\"></rect><text x=\"595.7142857142857\" y=\"20\" fill=\"transparent\" stroke=\"transparent\" font-size=\"30px\">6.75K</text></g><g class=\"vert-line\"><rect x=\"629.2857142857142\" y=\"0\" width=\"20\" height=\"130\" stroke=\"transparent\" stroke-width=\"12\" fill=\"transparent\"></rect><text x=\"649.2857142857142\" y=\"20\" fill=\"transparent\" stroke=\"transparent\" font-size=\"30px\">6.52K</text></g><g class=\"vert-line\"><rect x=\"682.8571428571428\" y=\"0\" width=\"20\" height=\"130\" stroke=\"transparent\" stroke-width=\"12\" fill=\"transparent\"></rect><text x=\"702.8571428571428\" y=\"20\" fill=\"transparent\" stroke=\"transparent\" font-size=\"30px\">6.71K</text></g><g class=\"vert-line\"><rect x=\"736.4285714285713\" y=\"0\" width=\"20\" height=\"130\" stroke=\"transparent\" stroke-width=\"12\" fill=\"transparent\"></rect><text x=\"756.4285714285713\" y=\"20\" fill=\"transparent\" stroke=\"transparent\" font-size=\"30px\">6.71K</text></g><g class=\"vert-line\"><rect x=\"790.0\" y=\"0\" width=\"20\" height=\"130\" stroke=\"transparent\" stroke-width=\"12\" fill=\"transparent\"></rect><text x=\"810.0\" y=\"20\" fill=\"transparent\" stroke=\"transparent\" font-size=\"30px\">6.66K</text></g></svg></div></td>\n",
       "</tr>\n",
       "<tr>\n",
       "  <th class=\"gt_row gt_left gt_stub\">uniform_2</th>\n",
       "  <td class=\"gt_row gt_center\">100000</td>\n",
       "  <td class=\"gt_row gt_right\">0.00%</td>\n",
       "  <td class=\"gt_row gt_right\">0.500</td>\n",
       "  <td class=\"gt_row gt_right\">0.288</td>\n",
       "  <td class=\"gt_row gt_right\">0.000</td>\n",
       "  <td class=\"gt_row gt_right\">0.251</td>\n",
       "  <td class=\"gt_row gt_right\">0.500</td>\n",
       "  <td class=\"gt_row gt_right\">0.748</td>\n",
       "  <td class=\"gt_row gt_right\">1.000</td>\n",
       "  <td class=\"gt_row gt_right\">0.497</td>\n",
       "  <td class=\"gt_row gt_center\">0</td>\n",
       "  <td class=\"gt_row gt_center\"><div><svg role=\"img\" viewBox=\"0 0 850 130\" style=\"height: 2em; margin-left: auto; margin-right: auto; font-size: inherit; overflow: visible; vertical-align: middle; position:relative;\"><defs><pattern id=\"area_pattern\" width=\"8\" height=\"8\" patternUnits=\"userSpaceOnUse\"><path class=\"pattern-line\" d=\"M 0,8 l 8,-8 M -1,1 l 4,-4 M 6,10 l 4,-4\" stroke=\"#FF0000\" stroke-width=\"1.5\" stroke-linecap=\"round\" shape-rendering=\"geometricPrecision\"></path></pattern></defs><style> text { font-family: ui-monospace, 'Cascadia Code', 'Source Code Pro', Menlo, Consolas, 'DejaVu Sans Mono', monospace; stroke-width: 0.15em; paint-order: stroke; stroke-linejoin: round; cursor: default; } .vert-line:hover rect { fill: #911EB4; fill-opacity: 40%; stroke: #FFFFFF60; color: red; } .vert-line:hover text { stroke: white; fill: #212427; } .horizontal-line:hover text {stroke: white; fill: #212427; } .ref-line:hover rect { stroke: #FFFFFF60; } .ref-line:hover line { stroke: #FF0000; } .ref-line:hover text { stroke: white; fill: #212427; } .y-axis-line:hover rect { fill: #EDEDED; fill-opacity: 60%; stroke: #FFFFFF60; color: red; } .y-axis-line:hover text { stroke: white; stroke-width: 0.20em; fill: #1A1C1F; } </style><line x1=\"22.5\" y1=\"115.0\" x2=\"827.5\" y2=\"115.0\" stroke=\"#BFBFBF\" stroke-width=\"4\"></line><rect x=\"30.0\" y=\"19.150721224609953\" width=\"40\" height=\"95.84927877539005\" stroke=\"#3290CC\" stroke-width=\"4\" fill=\"#3FB5FF\"></rect><rect x=\"83.57142857142857\" y=\"17.97321165734472\" width=\"40\" height=\"97.02678834265528\" stroke=\"#3290CC\" stroke-width=\"4\" fill=\"#3FB5FF\"></rect><rect x=\"137.14285714285714\" y=\"15.471003826906092\" width=\"40\" height=\"99.5289961730939\" stroke=\"#3290CC\" stroke-width=\"4\" fill=\"#3FB5FF\"></rect><rect x=\"190.7142857142857\" y=\"15.41212834854283\" width=\"40\" height=\"99.58787165145716\" stroke=\"#3290CC\" stroke-width=\"4\" fill=\"#3FB5FF\"></rect><rect x=\"244.28571428571428\" y=\"16.913453046806\" width=\"40\" height=\"98.086546953194\" stroke=\"#3290CC\" stroke-width=\"4\" fill=\"#3FB5FF\"></rect><rect x=\"297.85714285714283\" y=\"17.104798351486604\" width=\"40\" height=\"97.89520164851339\" stroke=\"#3290CC\" stroke-width=\"4\" fill=\"#3FB5FF\"></rect><rect x=\"351.4285714285714\" y=\"15.0\" width=\"40\" height=\"100.0\" stroke=\"#3290CC\" stroke-width=\"4\" fill=\"#3FB5FF\"></rect><rect x=\"405.0\" y=\"17.251987047394767\" width=\"40\" height=\"97.74801295260524\" stroke=\"#3290CC\" stroke-width=\"4\" fill=\"#3FB5FF\"></rect><rect x=\"458.57142857142856\" y=\"18.090962614071234\" width=\"40\" height=\"96.90903738592877\" stroke=\"#3290CC\" stroke-width=\"4\" fill=\"#3FB5FF\"></rect><rect x=\"512.1428571428571\" y=\"16.648513394171324\" width=\"40\" height=\"98.35148660582868\" stroke=\"#3290CC\" stroke-width=\"4\" fill=\"#3FB5FF\"></rect><rect x=\"565.7142857142857\" y=\"15.471003826906092\" width=\"40\" height=\"99.5289961730939\" stroke=\"#3290CC\" stroke-width=\"4\" fill=\"#3FB5FF\"></rect><rect x=\"619.2857142857142\" y=\"15.838975566676481\" width=\"40\" height=\"99.16102443332352\" stroke=\"#3290CC\" stroke-width=\"4\" fill=\"#3FB5FF\"></rect><rect x=\"672.8571428571428\" y=\"17.1931115690315\" width=\"40\" height=\"97.8068884309685\" stroke=\"#3290CC\" stroke-width=\"4\" fill=\"#3FB5FF\"></rect><rect x=\"726.4285714285713\" y=\"17.355019134530465\" width=\"40\" height=\"97.64498086546953\" stroke=\"#3290CC\" stroke-width=\"4\" fill=\"#3FB5FF\"></rect><rect x=\"780.0\" y=\"18.238151309979397\" width=\"40\" height=\"96.7618486900206\" stroke=\"#3290CC\" stroke-width=\"4\" fill=\"#3FB5FF\"></rect><g class=\"y-axis-line\"><rect x=\"0\" y=\"0\" width=\"65\" height=\"130\" stroke=\"transparent\" stroke-width=\"0\" fill=\"transparent\"></rect><text x=\"0\" y=\"19.0\" fill=\"transparent\" stroke=\"transparent\" font-size=\"25\">6.79K</text><text x=\"0\" y=\"126.0\" fill=\"transparent\" stroke=\"transparent\" font-size=\"25\">0</text></g><g class=\"vert-line\"><rect x=\"40.0\" y=\"0\" width=\"20\" height=\"130\" stroke=\"transparent\" stroke-width=\"12\" fill=\"transparent\"></rect><text x=\"60.0\" y=\"20\" fill=\"transparent\" stroke=\"transparent\" font-size=\"30px\">6.51K</text></g><g class=\"vert-line\"><rect x=\"93.57142857142857\" y=\"0\" width=\"20\" height=\"130\" stroke=\"transparent\" stroke-width=\"12\" fill=\"transparent\"></rect><text x=\"113.57142857142857\" y=\"20\" fill=\"transparent\" stroke=\"transparent\" font-size=\"30px\">6.59K</text></g><g class=\"vert-line\"><rect x=\"147.14285714285714\" y=\"0\" width=\"20\" height=\"130\" stroke=\"transparent\" stroke-width=\"12\" fill=\"transparent\"></rect><text x=\"167.14285714285714\" y=\"20\" fill=\"transparent\" stroke=\"transparent\" font-size=\"30px\">6.76K</text></g><g class=\"vert-line\"><rect x=\"200.7142857142857\" y=\"0\" width=\"20\" height=\"130\" stroke=\"transparent\" stroke-width=\"12\" fill=\"transparent\"></rect><text x=\"220.7142857142857\" y=\"20\" fill=\"transparent\" stroke=\"transparent\" font-size=\"30px\">6.77K</text></g><g class=\"vert-line\"><rect x=\"254.28571428571428\" y=\"0\" width=\"20\" height=\"130\" stroke=\"transparent\" stroke-width=\"12\" fill=\"transparent\"></rect><text x=\"274.2857142857143\" y=\"20\" fill=\"transparent\" stroke=\"transparent\" font-size=\"30px\">6.66K</text></g><g class=\"vert-line\"><rect x=\"307.85714285714283\" y=\"0\" width=\"20\" height=\"130\" stroke=\"transparent\" stroke-width=\"12\" fill=\"transparent\"></rect><text x=\"327.85714285714283\" y=\"20\" fill=\"transparent\" stroke=\"transparent\" font-size=\"30px\">6.65K</text></g><g class=\"vert-line\"><rect x=\"361.4285714285714\" y=\"0\" width=\"20\" height=\"130\" stroke=\"transparent\" stroke-width=\"12\" fill=\"transparent\"></rect><text x=\"381.4285714285714\" y=\"20\" fill=\"transparent\" stroke=\"transparent\" font-size=\"30px\">6.79K</text></g><g class=\"vert-line\"><rect x=\"415.0\" y=\"0\" width=\"20\" height=\"130\" stroke=\"transparent\" stroke-width=\"12\" fill=\"transparent\"></rect><text x=\"435.0\" y=\"20\" fill=\"transparent\" stroke=\"transparent\" font-size=\"30px\">6.64K</text></g><g class=\"vert-line\"><rect x=\"468.57142857142856\" y=\"0\" width=\"20\" height=\"130\" stroke=\"transparent\" stroke-width=\"12\" fill=\"transparent\"></rect><text x=\"488.57142857142856\" y=\"20\" fill=\"transparent\" stroke=\"transparent\" font-size=\"30px\">6.58K</text></g><g class=\"vert-line\"><rect x=\"522.1428571428571\" y=\"0\" width=\"20\" height=\"130\" stroke=\"transparent\" stroke-width=\"12\" fill=\"transparent\"></rect><text x=\"542.1428571428571\" y=\"20\" fill=\"transparent\" stroke=\"transparent\" font-size=\"30px\">6.68K</text></g><g class=\"vert-line\"><rect x=\"575.7142857142857\" y=\"0\" width=\"20\" height=\"130\" stroke=\"transparent\" stroke-width=\"12\" fill=\"transparent\"></rect><text x=\"595.7142857142857\" y=\"20\" fill=\"transparent\" stroke=\"transparent\" font-size=\"30px\">6.76K</text></g><g class=\"vert-line\"><rect x=\"629.2857142857142\" y=\"0\" width=\"20\" height=\"130\" stroke=\"transparent\" stroke-width=\"12\" fill=\"transparent\"></rect><text x=\"649.2857142857142\" y=\"20\" fill=\"transparent\" stroke=\"transparent\" font-size=\"30px\">6.74K</text></g><g class=\"vert-line\"><rect x=\"682.8571428571428\" y=\"0\" width=\"20\" height=\"130\" stroke=\"transparent\" stroke-width=\"12\" fill=\"transparent\"></rect><text x=\"702.8571428571428\" y=\"20\" fill=\"transparent\" stroke=\"transparent\" font-size=\"30px\">6.64K</text></g><g class=\"vert-line\"><rect x=\"736.4285714285713\" y=\"0\" width=\"20\" height=\"130\" stroke=\"transparent\" stroke-width=\"12\" fill=\"transparent\"></rect><text x=\"756.4285714285713\" y=\"20\" fill=\"transparent\" stroke=\"transparent\" font-size=\"30px\">6.63K</text></g><g class=\"vert-line\"><rect x=\"790.0\" y=\"0\" width=\"20\" height=\"130\" stroke=\"transparent\" stroke-width=\"12\" fill=\"transparent\"></rect><text x=\"810.0\" y=\"20\" fill=\"transparent\" stroke=\"transparent\" font-size=\"30px\">6.57K</text></g></svg></div></td>\n",
       "</tr>\n",
       "<tr>\n",
       "  <th class=\"gt_row gt_left gt_stub\">exp</th>\n",
       "  <td class=\"gt_row gt_center\">100000</td>\n",
       "  <td class=\"gt_row gt_right\">0.00%</td>\n",
       "  <td class=\"gt_row gt_right\">2.006</td>\n",
       "  <td class=\"gt_row gt_right\">2.005</td>\n",
       "  <td class=\"gt_row gt_right\">0.000</td>\n",
       "  <td class=\"gt_row gt_right\">0.573</td>\n",
       "  <td class=\"gt_row gt_right\">1.390</td>\n",
       "  <td class=\"gt_row gt_right\">2.783</td>\n",
       "  <td class=\"gt_row gt_right\">24.682</td>\n",
       "  <td class=\"gt_row gt_right\">2.210</td>\n",
       "  <td class=\"gt_row gt_center\">4716</td>\n",
       "  <td class=\"gt_row gt_center\"><div><svg role=\"img\" viewBox=\"0 0 850 130\" style=\"height: 2em; margin-left: auto; margin-right: auto; font-size: inherit; overflow: visible; vertical-align: middle; position:relative;\"><defs><pattern id=\"area_pattern\" width=\"8\" height=\"8\" patternUnits=\"userSpaceOnUse\"><path class=\"pattern-line\" d=\"M 0,8 l 8,-8 M -1,1 l 4,-4 M 6,10 l 4,-4\" stroke=\"#FF0000\" stroke-width=\"1.5\" stroke-linecap=\"round\" shape-rendering=\"geometricPrecision\"></path></pattern></defs><style> text { font-family: ui-monospace, 'Cascadia Code', 'Source Code Pro', Menlo, Consolas, 'DejaVu Sans Mono', monospace; stroke-width: 0.15em; paint-order: stroke; stroke-linejoin: round; cursor: default; } .vert-line:hover rect { fill: #911EB4; fill-opacity: 40%; stroke: #FFFFFF60; color: red; } .vert-line:hover text { stroke: white; fill: #212427; } .horizontal-line:hover text {stroke: white; fill: #212427; } .ref-line:hover rect { stroke: #FFFFFF60; } .ref-line:hover line { stroke: #FF0000; } .ref-line:hover text { stroke: white; fill: #212427; } .y-axis-line:hover rect { fill: #EDEDED; fill-opacity: 60%; stroke: #FFFFFF60; color: red; } .y-axis-line:hover text { stroke: white; stroke-width: 0.20em; fill: #1A1C1F; } </style><line x1=\"22.5\" y1=\"115.0\" x2=\"827.5\" y2=\"115.0\" stroke=\"#BFBFBF\" stroke-width=\"4\"></line><rect x=\"30.0\" y=\"15.0\" width=\"40\" height=\"100.0\" stroke=\"#3290CC\" stroke-width=\"4\" fill=\"#3FB5FF\"></rect><rect x=\"83.57142857142857\" y=\"70.86299409765695\" width=\"40\" height=\"44.13700590234305\" stroke=\"#3290CC\" stroke-width=\"4\" fill=\"#3FB5FF\"></rect><rect x=\"137.14285714285714\" y=\"95.39706671436237\" width=\"40\" height=\"19.602933285637633\" stroke=\"#3290CC\" stroke-width=\"4\" fill=\"#3FB5FF\"></rect><rect x=\"190.7142857142857\" y=\"106.50241459488464\" width=\"40\" height=\"8.497585405115359\" stroke=\"#3290CC\" stroke-width=\"4\" fill=\"#3FB5FF\"></rect><rect x=\"244.28571428571428\" y=\"111.25111786800214\" width=\"40\" height=\"3.74888213199786\" stroke=\"#3290CC\" stroke-width=\"4\" fill=\"#3FB5FF\"></rect><rect x=\"297.85714285714283\" y=\"113.42425326417457\" width=\"40\" height=\"1.5757467358254331\" stroke=\"#3290CC\" stroke-width=\"4\" fill=\"#3FB5FF\"></rect><rect x=\"351.4285714285714\" y=\"114.29350742264353\" width=\"40\" height=\"0.706492577356471\" stroke=\"#3290CC\" stroke-width=\"4\" fill=\"#3FB5FF\"></rect><rect x=\"405.0\" y=\"114.67447683777499\" width=\"40\" height=\"0.32552316222501076\" stroke=\"#3290CC\" stroke-width=\"4\" fill=\"#3FB5FF\"></rect><rect x=\"458.57142857142856\" y=\"114.864067250939\" width=\"40\" height=\"0.1359327490609985\" stroke=\"#3290CC\" stroke-width=\"4\" fill=\"#3FB5FF\"></rect><rect x=\"512.1428571428571\" y=\"114.92487927025577\" width=\"40\" height=\"0.07512072974422779\" stroke=\"#3290CC\" stroke-width=\"4\" fill=\"#3FB5FF\"></rect><rect x=\"565.7142857142857\" y=\"114.9731711679485\" width=\"40\" height=\"0.02682883205150688\" stroke=\"#3290CC\" stroke-width=\"4\" fill=\"#3FB5FF\"></rect><rect x=\"619.2857142857142\" y=\"114.9839027007691\" width=\"40\" height=\"0.01609729923090697\" stroke=\"#3290CC\" stroke-width=\"4\" fill=\"#3FB5FF\"></rect><rect x=\"672.8571428571428\" y=\"114.99642282239313\" width=\"40\" height=\"0.0035771776068713734\" stroke=\"#3290CC\" stroke-width=\"4\" fill=\"#3FB5FF\"></rect><rect x=\"726.4285714285713\" y=\"114.99642282239313\" width=\"40\" height=\"0.0035771776068713734\" stroke=\"#3290CC\" stroke-width=\"4\" fill=\"#3FB5FF\"></rect><rect x=\"780.0\" y=\"114.99642282239313\" width=\"40\" height=\"0.0035771776068713734\" stroke=\"#3290CC\" stroke-width=\"4\" fill=\"#3FB5FF\"></rect><g class=\"y-axis-line\"><rect x=\"0\" y=\"0\" width=\"65\" height=\"130\" stroke=\"transparent\" stroke-width=\"0\" fill=\"transparent\"></rect><text x=\"0\" y=\"19.0\" fill=\"transparent\" stroke=\"transparent\" font-size=\"25\">55.9K</text><text x=\"0\" y=\"126.0\" fill=\"transparent\" stroke=\"transparent\" font-size=\"25\">0</text></g><g class=\"vert-line\"><rect x=\"40.0\" y=\"0\" width=\"20\" height=\"130\" stroke=\"transparent\" stroke-width=\"12\" fill=\"transparent\"></rect><text x=\"60.0\" y=\"20\" fill=\"transparent\" stroke=\"transparent\" font-size=\"30px\">55.9K</text></g><g class=\"vert-line\"><rect x=\"93.57142857142857\" y=\"0\" width=\"20\" height=\"130\" stroke=\"transparent\" stroke-width=\"12\" fill=\"transparent\"></rect><text x=\"113.57142857142857\" y=\"20\" fill=\"transparent\" stroke=\"transparent\" font-size=\"30px\">24.7K</text></g><g class=\"vert-line\"><rect x=\"147.14285714285714\" y=\"0\" width=\"20\" height=\"130\" stroke=\"transparent\" stroke-width=\"12\" fill=\"transparent\"></rect><text x=\"167.14285714285714\" y=\"20\" fill=\"transparent\" stroke=\"transparent\" font-size=\"30px\">11.0K</text></g><g class=\"vert-line\"><rect x=\"200.7142857142857\" y=\"0\" width=\"20\" height=\"130\" stroke=\"transparent\" stroke-width=\"12\" fill=\"transparent\"></rect><text x=\"220.7142857142857\" y=\"20\" fill=\"transparent\" stroke=\"transparent\" font-size=\"30px\">4.75K</text></g><g class=\"vert-line\"><rect x=\"254.28571428571428\" y=\"0\" width=\"20\" height=\"130\" stroke=\"transparent\" stroke-width=\"12\" fill=\"transparent\"></rect><text x=\"274.2857142857143\" y=\"20\" fill=\"transparent\" stroke=\"transparent\" font-size=\"30px\">2.10K</text></g><g class=\"vert-line\"><rect x=\"307.85714285714283\" y=\"0\" width=\"20\" height=\"130\" stroke=\"transparent\" stroke-width=\"12\" fill=\"transparent\"></rect><text x=\"327.85714285714283\" y=\"20\" fill=\"transparent\" stroke=\"transparent\" font-size=\"30px\">881</text></g><g class=\"vert-line\"><rect x=\"361.4285714285714\" y=\"0\" width=\"20\" height=\"130\" stroke=\"transparent\" stroke-width=\"12\" fill=\"transparent\"></rect><text x=\"381.4285714285714\" y=\"20\" fill=\"transparent\" stroke=\"transparent\" font-size=\"30px\">395</text></g><g class=\"vert-line\"><rect x=\"415.0\" y=\"0\" width=\"20\" height=\"130\" stroke=\"transparent\" stroke-width=\"12\" fill=\"transparent\"></rect><text x=\"435.0\" y=\"20\" fill=\"transparent\" stroke=\"transparent\" font-size=\"30px\">182</text></g><g class=\"vert-line\"><rect x=\"468.57142857142856\" y=\"0\" width=\"20\" height=\"130\" stroke=\"transparent\" stroke-width=\"12\" fill=\"transparent\"></rect><text x=\"488.57142857142856\" y=\"20\" fill=\"transparent\" stroke=\"transparent\" font-size=\"30px\">76</text></g><g class=\"vert-line\"><rect x=\"522.1428571428571\" y=\"0\" width=\"20\" height=\"130\" stroke=\"transparent\" stroke-width=\"12\" fill=\"transparent\"></rect><text x=\"542.1428571428571\" y=\"20\" fill=\"transparent\" stroke=\"transparent\" font-size=\"30px\">42</text></g><g class=\"vert-line\"><rect x=\"575.7142857142857\" y=\"0\" width=\"20\" height=\"130\" stroke=\"transparent\" stroke-width=\"12\" fill=\"transparent\"></rect><text x=\"595.7142857142857\" y=\"20\" fill=\"transparent\" stroke=\"transparent\" font-size=\"30px\">15</text></g><g class=\"vert-line\"><rect x=\"629.2857142857142\" y=\"0\" width=\"20\" height=\"130\" stroke=\"transparent\" stroke-width=\"12\" fill=\"transparent\"></rect><text x=\"649.2857142857142\" y=\"20\" fill=\"transparent\" stroke=\"transparent\" font-size=\"30px\">9</text></g><g class=\"vert-line\"><rect x=\"682.8571428571428\" y=\"0\" width=\"20\" height=\"130\" stroke=\"transparent\" stroke-width=\"12\" fill=\"transparent\"></rect><text x=\"702.8571428571428\" y=\"20\" fill=\"transparent\" stroke=\"transparent\" font-size=\"30px\">2</text></g><g class=\"vert-line\"><rect x=\"736.4285714285713\" y=\"0\" width=\"20\" height=\"130\" stroke=\"transparent\" stroke-width=\"12\" fill=\"transparent\"></rect><text x=\"756.4285714285713\" y=\"20\" fill=\"transparent\" stroke=\"transparent\" font-size=\"30px\">2</text></g><g class=\"vert-line\"><rect x=\"790.0\" y=\"0\" width=\"20\" height=\"130\" stroke=\"transparent\" stroke-width=\"12\" fill=\"transparent\"></rect><text x=\"810.0\" y=\"20\" fill=\"transparent\" stroke=\"transparent\" font-size=\"30px\">2</text></g></svg></div></td>\n",
       "</tr>\n",
       "<tr>\n",
       "  <th class=\"gt_row gt_left gt_stub\">normal</th>\n",
       "  <td class=\"gt_row gt_center\">100000</td>\n",
       "  <td class=\"gt_row gt_right\">0.00%</td>\n",
       "  <td class=\"gt_row gt_right\">0.002</td>\n",
       "  <td class=\"gt_row gt_right\">0.998</td>\n",
       "  <td class=\"gt_row gt_right\">−4.305</td>\n",
       "  <td class=\"gt_row gt_right\">−0.671</td>\n",
       "  <td class=\"gt_row gt_right\">0.000</td>\n",
       "  <td class=\"gt_row gt_right\">0.675</td>\n",
       "  <td class=\"gt_row gt_right\">4.452</td>\n",
       "  <td class=\"gt_row gt_right\">1.346</td>\n",
       "  <td class=\"gt_row gt_center\">694</td>\n",
       "  <td class=\"gt_row gt_center\"><div><svg role=\"img\" viewBox=\"0 0 850 130\" style=\"height: 2em; margin-left: auto; margin-right: auto; font-size: inherit; overflow: visible; vertical-align: middle; position:relative;\"><defs><pattern id=\"area_pattern\" width=\"8\" height=\"8\" patternUnits=\"userSpaceOnUse\"><path class=\"pattern-line\" d=\"M 0,8 l 8,-8 M -1,1 l 4,-4 M 6,10 l 4,-4\" stroke=\"#FF0000\" stroke-width=\"1.5\" stroke-linecap=\"round\" shape-rendering=\"geometricPrecision\"></path></pattern></defs><style> text { font-family: ui-monospace, 'Cascadia Code', 'Source Code Pro', Menlo, Consolas, 'DejaVu Sans Mono', monospace; stroke-width: 0.15em; paint-order: stroke; stroke-linejoin: round; cursor: default; } .vert-line:hover rect { fill: #911EB4; fill-opacity: 40%; stroke: #FFFFFF60; color: red; } .vert-line:hover text { stroke: white; fill: #212427; } .horizontal-line:hover text {stroke: white; fill: #212427; } .ref-line:hover rect { stroke: #FFFFFF60; } .ref-line:hover line { stroke: #FF0000; } .ref-line:hover text { stroke: white; fill: #212427; } .y-axis-line:hover rect { fill: #EDEDED; fill-opacity: 60%; stroke: #FFFFFF60; color: red; } .y-axis-line:hover text { stroke: white; stroke-width: 0.20em; fill: #1A1C1F; } </style><line x1=\"22.5\" y1=\"115.0\" x2=\"827.5\" y2=\"115.0\" stroke=\"#BFBFBF\" stroke-width=\"4\"></line><rect x=\"30.0\" y=\"114.96525666637713\" width=\"40\" height=\"0.03474333362287041\" stroke=\"#3290CC\" stroke-width=\"4\" fill=\"#3FB5FF\"></rect><rect x=\"83.57142857142857\" y=\"114.68730999739425\" width=\"40\" height=\"0.3126900026057484\" stroke=\"#3290CC\" stroke-width=\"4\" fill=\"#3FB5FF\"></rect><rect x=\"137.14285714285714\" y=\"113.05437331711978\" width=\"40\" height=\"1.9456266828802171\" stroke=\"#3290CC\" stroke-width=\"4\" fill=\"#3FB5FF\"></rect><rect x=\"190.7142857142857\" y=\"106.77885868149049\" width=\"40\" height=\"8.22114131850951\" stroke=\"#3290CC\" stroke-width=\"4\" fill=\"#3FB5FF\"></rect><rect x=\"244.28571428571428\" y=\"89.68079562233996\" width=\"40\" height=\"25.319204377660043\" stroke=\"#3290CC\" stroke-width=\"4\" fill=\"#3FB5FF\"></rect><rect x=\"297.85714285714283\" y=\"59.76244245635369\" width=\"40\" height=\"55.23755754364631\" stroke=\"#3290CC\" stroke-width=\"4\" fill=\"#3FB5FF\"></rect><rect x=\"351.4285714285714\" y=\"27.351255102927126\" width=\"40\" height=\"87.64874489707287\" stroke=\"#3290CC\" stroke-width=\"4\" fill=\"#3FB5FF\"></rect><rect x=\"405.0\" y=\"15.0\" width=\"40\" height=\"100.0\" stroke=\"#3290CC\" stroke-width=\"4\" fill=\"#3FB5FF\"></rect><rect x=\"458.57142857142856\" y=\"33.82220099018501\" width=\"40\" height=\"81.17779900981499\" stroke=\"#3290CC\" stroke-width=\"4\" fill=\"#3FB5FF\"></rect><rect x=\"512.1428571428571\" y=\"67.9227829410232\" width=\"40\" height=\"47.0772170589768\" stroke=\"#3290CC\" stroke-width=\"4\" fill=\"#3FB5FF\"></rect><rect x=\"565.7142857142857\" y=\"95.15287066794059\" width=\"40\" height=\"19.84712933205941\" stroke=\"#3290CC\" stroke-width=\"4\" fill=\"#3FB5FF\"></rect><rect x=\"619.2857142857142\" y=\"108.98071744983932\" width=\"40\" height=\"6.019282550160682\" stroke=\"#3290CC\" stroke-width=\"4\" fill=\"#3FB5FF\"></rect><rect x=\"672.8571428571428\" y=\"113.77964040649701\" width=\"40\" height=\"1.220359593502991\" stroke=\"#3290CC\" stroke-width=\"4\" fill=\"#3FB5FF\"></rect><rect x=\"726.4285714285713\" y=\"114.80022583166854\" width=\"40\" height=\"0.19977416833145867\" stroke=\"#3290CC\" stroke-width=\"4\" fill=\"#3FB5FF\"></rect><rect x=\"780.0\" y=\"114.96959958308\" width=\"40\" height=\"0.030400416920002726\" stroke=\"#3290CC\" stroke-width=\"4\" fill=\"#3FB5FF\"></rect><g class=\"y-axis-line\"><rect x=\"0\" y=\"0\" width=\"65\" height=\"130\" stroke=\"transparent\" stroke-width=\"0\" fill=\"transparent\"></rect><text x=\"0\" y=\"19.0\" fill=\"transparent\" stroke=\"transparent\" font-size=\"25\">23.0K</text><text x=\"0\" y=\"126.0\" fill=\"transparent\" stroke=\"transparent\" font-size=\"25\">0</text></g><g class=\"vert-line\"><rect x=\"40.0\" y=\"0\" width=\"20\" height=\"130\" stroke=\"transparent\" stroke-width=\"12\" fill=\"transparent\"></rect><text x=\"60.0\" y=\"20\" fill=\"transparent\" stroke=\"transparent\" font-size=\"30px\">8</text></g><g class=\"vert-line\"><rect x=\"93.57142857142857\" y=\"0\" width=\"20\" height=\"130\" stroke=\"transparent\" stroke-width=\"12\" fill=\"transparent\"></rect><text x=\"113.57142857142857\" y=\"20\" fill=\"transparent\" stroke=\"transparent\" font-size=\"30px\">72</text></g><g class=\"vert-line\"><rect x=\"147.14285714285714\" y=\"0\" width=\"20\" height=\"130\" stroke=\"transparent\" stroke-width=\"12\" fill=\"transparent\"></rect><text x=\"167.14285714285714\" y=\"20\" fill=\"transparent\" stroke=\"transparent\" font-size=\"30px\">448</text></g><g class=\"vert-line\"><rect x=\"200.7142857142857\" y=\"0\" width=\"20\" height=\"130\" stroke=\"transparent\" stroke-width=\"12\" fill=\"transparent\"></rect><text x=\"220.7142857142857\" y=\"20\" fill=\"transparent\" stroke=\"transparent\" font-size=\"30px\">1.89K</text></g><g class=\"vert-line\"><rect x=\"254.28571428571428\" y=\"0\" width=\"20\" height=\"130\" stroke=\"transparent\" stroke-width=\"12\" fill=\"transparent\"></rect><text x=\"274.2857142857143\" y=\"20\" fill=\"transparent\" stroke=\"transparent\" font-size=\"30px\">5.83K</text></g><g class=\"vert-line\"><rect x=\"307.85714285714283\" y=\"0\" width=\"20\" height=\"130\" stroke=\"transparent\" stroke-width=\"12\" fill=\"transparent\"></rect><text x=\"327.85714285714283\" y=\"20\" fill=\"transparent\" stroke=\"transparent\" font-size=\"30px\">12.7K</text></g><g class=\"vert-line\"><rect x=\"361.4285714285714\" y=\"0\" width=\"20\" height=\"130\" stroke=\"transparent\" stroke-width=\"12\" fill=\"transparent\"></rect><text x=\"381.4285714285714\" y=\"20\" fill=\"transparent\" stroke=\"transparent\" font-size=\"30px\">20.2K</text></g><g class=\"vert-line\"><rect x=\"415.0\" y=\"0\" width=\"20\" height=\"130\" stroke=\"transparent\" stroke-width=\"12\" fill=\"transparent\"></rect><text x=\"435.0\" y=\"20\" fill=\"transparent\" stroke=\"transparent\" font-size=\"30px\">23.0K</text></g><g class=\"vert-line\"><rect x=\"468.57142857142856\" y=\"0\" width=\"20\" height=\"130\" stroke=\"transparent\" stroke-width=\"12\" fill=\"transparent\"></rect><text x=\"488.57142857142856\" y=\"20\" fill=\"transparent\" stroke=\"transparent\" font-size=\"30px\">18.7K</text></g><g class=\"vert-line\"><rect x=\"522.1428571428571\" y=\"0\" width=\"20\" height=\"130\" stroke=\"transparent\" stroke-width=\"12\" fill=\"transparent\"></rect><text x=\"542.1428571428571\" y=\"20\" fill=\"transparent\" stroke=\"transparent\" font-size=\"30px\">10.8K</text></g><g class=\"vert-line\"><rect x=\"575.7142857142857\" y=\"0\" width=\"20\" height=\"130\" stroke=\"transparent\" stroke-width=\"12\" fill=\"transparent\"></rect><text x=\"595.7142857142857\" y=\"20\" fill=\"transparent\" stroke=\"transparent\" font-size=\"30px\">4.57K</text></g><g class=\"vert-line\"><rect x=\"629.2857142857142\" y=\"0\" width=\"20\" height=\"130\" stroke=\"transparent\" stroke-width=\"12\" fill=\"transparent\"></rect><text x=\"649.2857142857142\" y=\"20\" fill=\"transparent\" stroke=\"transparent\" font-size=\"30px\">1.39K</text></g><g class=\"vert-line\"><rect x=\"682.8571428571428\" y=\"0\" width=\"20\" height=\"130\" stroke=\"transparent\" stroke-width=\"12\" fill=\"transparent\"></rect><text x=\"702.8571428571428\" y=\"20\" fill=\"transparent\" stroke=\"transparent\" font-size=\"30px\">281</text></g><g class=\"vert-line\"><rect x=\"736.4285714285713\" y=\"0\" width=\"20\" height=\"130\" stroke=\"transparent\" stroke-width=\"12\" fill=\"transparent\"></rect><text x=\"756.4285714285713\" y=\"20\" fill=\"transparent\" stroke=\"transparent\" font-size=\"30px\">46</text></g><g class=\"vert-line\"><rect x=\"790.0\" y=\"0\" width=\"20\" height=\"130\" stroke=\"transparent\" stroke-width=\"12\" fill=\"transparent\"></rect><text x=\"810.0\" y=\"20\" fill=\"transparent\" stroke=\"transparent\" font-size=\"30px\">7</text></g></svg></div></td>\n",
       "</tr>\n",
       "<tr>\n",
       "  <th class=\"gt_row gt_left gt_stub\">fat_normal</th>\n",
       "  <td class=\"gt_row gt_center\">100000</td>\n",
       "  <td class=\"gt_row gt_right\">0.00%</td>\n",
       "  <td class=\"gt_row gt_right\">6.124</td>\n",
       "  <td class=\"gt_row gt_right\">1,003.446</td>\n",
       "  <td class=\"gt_row gt_right\">−4,713.618</td>\n",
       "  <td class=\"gt_row gt_right\">−673.326</td>\n",
       "  <td class=\"gt_row gt_right\">6.540</td>\n",
       "  <td class=\"gt_row gt_right\">681.820</td>\n",
       "  <td class=\"gt_row gt_right\">4,777.994</td>\n",
       "  <td class=\"gt_row gt_right\">1,355.147</td>\n",
       "  <td class=\"gt_row gt_center\">711</td>\n",
       "  <td class=\"gt_row gt_center\"><div><svg role=\"img\" viewBox=\"0 0 850 130\" style=\"height: 2em; margin-left: auto; margin-right: auto; font-size: inherit; overflow: visible; vertical-align: middle; position:relative;\"><defs><pattern id=\"area_pattern\" width=\"8\" height=\"8\" patternUnits=\"userSpaceOnUse\"><path class=\"pattern-line\" d=\"M 0,8 l 8,-8 M -1,1 l 4,-4 M 6,10 l 4,-4\" stroke=\"#FF0000\" stroke-width=\"1.5\" stroke-linecap=\"round\" shape-rendering=\"geometricPrecision\"></path></pattern></defs><style> text { font-family: ui-monospace, 'Cascadia Code', 'Source Code Pro', Menlo, Consolas, 'DejaVu Sans Mono', monospace; stroke-width: 0.15em; paint-order: stroke; stroke-linejoin: round; cursor: default; } .vert-line:hover rect { fill: #911EB4; fill-opacity: 40%; stroke: #FFFFFF60; color: red; } .vert-line:hover text { stroke: white; fill: #212427; } .horizontal-line:hover text {stroke: white; fill: #212427; } .ref-line:hover rect { stroke: #FFFFFF60; } .ref-line:hover line { stroke: #FF0000; } .ref-line:hover text { stroke: white; fill: #212427; } .y-axis-line:hover rect { fill: #EDEDED; fill-opacity: 60%; stroke: #FFFFFF60; color: red; } .y-axis-line:hover text { stroke: white; stroke-width: 0.20em; fill: #1A1C1F; } </style><line x1=\"22.5\" y1=\"115.0\" x2=\"827.5\" y2=\"115.0\" stroke=\"#BFBFBF\" stroke-width=\"4\"></line><rect x=\"30.0\" y=\"114.98384947712682\" width=\"40\" height=\"0.016150522873175532\" stroke=\"#3290CC\" stroke-width=\"4\" fill=\"#3FB5FF\"></rect><rect x=\"83.57142857142857\" y=\"114.89905923204265\" width=\"40\" height=\"0.10094076795735418\" stroke=\"#3290CC\" stroke-width=\"4\" fill=\"#3FB5FF\"></rect><rect x=\"137.14285714285714\" y=\"113.99059232042637\" width=\"40\" height=\"1.009407679573627\" stroke=\"#3290CC\" stroke-width=\"4\" fill=\"#3FB5FF\"></rect><rect x=\"190.7142857142857\" y=\"110.09427867727219\" width=\"40\" height=\"4.905721322727814\" stroke=\"#3290CC\" stroke-width=\"4\" fill=\"#3FB5FF\"></rect><rect x=\"244.28571428571428\" y=\"96.91141438204062\" width=\"40\" height=\"18.08858561795938\" stroke=\"#3290CC\" stroke-width=\"4\" fill=\"#3FB5FF\"></rect><rect x=\"297.85714285714283\" y=\"66.55246901118424\" width=\"40\" height=\"48.44753098881576\" stroke=\"#3290CC\" stroke-width=\"4\" fill=\"#3FB5FF\"></rect><rect x=\"351.4285714285714\" y=\"32.079177938385754\" width=\"40\" height=\"82.92082206161425\" stroke=\"#3290CC\" stroke-width=\"4\" fill=\"#3FB5FF\"></rect><rect x=\"405.0\" y=\"15.0\" width=\"40\" height=\"100.0\" stroke=\"#3290CC\" stroke-width=\"4\" fill=\"#3FB5FF\"></rect><rect x=\"458.57142857142856\" y=\"33.47619816691566\" width=\"40\" height=\"81.52380183308435\" stroke=\"#3290CC\" stroke-width=\"4\" fill=\"#3FB5FF\"></rect><rect x=\"512.1428571428571\" y=\"70.1903742883676\" width=\"40\" height=\"44.80962571163241\" stroke=\"#3290CC\" stroke-width=\"4\" fill=\"#3FB5FF\"></rect><rect x=\"565.7142857142857\" y=\"98.23171962692292\" width=\"40\" height=\"16.768280373077076\" stroke=\"#3290CC\" stroke-width=\"4\" fill=\"#3FB5FF\"></rect><rect x=\"619.2857142857142\" y=\"110.61109540921387\" width=\"40\" height=\"4.388904590786126\" stroke=\"#3290CC\" stroke-width=\"4\" fill=\"#3FB5FF\"></rect><rect x=\"672.8571428571428\" y=\"114.28937699358016\" width=\"40\" height=\"0.7106230064198371\" stroke=\"#3290CC\" stroke-width=\"4\" fill=\"#3FB5FF\"></rect><rect x=\"726.4285714285713\" y=\"114.931360277789\" width=\"40\" height=\"0.06863972221100312\" stroke=\"#3290CC\" stroke-width=\"4\" fill=\"#3FB5FF\"></rect><rect x=\"780.0\" y=\"114.99596236928171\" width=\"40\" height=\"0.004037630718286778\" stroke=\"#3290CC\" stroke-width=\"4\" fill=\"#3FB5FF\"></rect><g class=\"y-axis-line\"><rect x=\"0\" y=\"0\" width=\"65\" height=\"130\" stroke=\"transparent\" stroke-width=\"0\" fill=\"transparent\"></rect><text x=\"0\" y=\"19.0\" fill=\"transparent\" stroke=\"transparent\" font-size=\"25\">24.8K</text><text x=\"0\" y=\"126.0\" fill=\"transparent\" stroke=\"transparent\" font-size=\"25\">0</text></g><g class=\"vert-line\"><rect x=\"40.0\" y=\"0\" width=\"20\" height=\"130\" stroke=\"transparent\" stroke-width=\"12\" fill=\"transparent\"></rect><text x=\"60.0\" y=\"20\" fill=\"transparent\" stroke=\"transparent\" font-size=\"30px\">4</text></g><g class=\"vert-line\"><rect x=\"93.57142857142857\" y=\"0\" width=\"20\" height=\"130\" stroke=\"transparent\" stroke-width=\"12\" fill=\"transparent\"></rect><text x=\"113.57142857142857\" y=\"20\" fill=\"transparent\" stroke=\"transparent\" font-size=\"30px\">25</text></g><g class=\"vert-line\"><rect x=\"147.14285714285714\" y=\"0\" width=\"20\" height=\"130\" stroke=\"transparent\" stroke-width=\"12\" fill=\"transparent\"></rect><text x=\"167.14285714285714\" y=\"20\" fill=\"transparent\" stroke=\"transparent\" font-size=\"30px\">250</text></g><g class=\"vert-line\"><rect x=\"200.7142857142857\" y=\"0\" width=\"20\" height=\"130\" stroke=\"transparent\" stroke-width=\"12\" fill=\"transparent\"></rect><text x=\"220.7142857142857\" y=\"20\" fill=\"transparent\" stroke=\"transparent\" font-size=\"30px\">1.22K</text></g><g class=\"vert-line\"><rect x=\"254.28571428571428\" y=\"0\" width=\"20\" height=\"130\" stroke=\"transparent\" stroke-width=\"12\" fill=\"transparent\"></rect><text x=\"274.2857142857143\" y=\"20\" fill=\"transparent\" stroke=\"transparent\" font-size=\"30px\">4.48K</text></g><g class=\"vert-line\"><rect x=\"307.85714285714283\" y=\"0\" width=\"20\" height=\"130\" stroke=\"transparent\" stroke-width=\"12\" fill=\"transparent\"></rect><text x=\"327.85714285714283\" y=\"20\" fill=\"transparent\" stroke=\"transparent\" font-size=\"30px\">12.0K</text></g><g class=\"vert-line\"><rect x=\"361.4285714285714\" y=\"0\" width=\"20\" height=\"130\" stroke=\"transparent\" stroke-width=\"12\" fill=\"transparent\"></rect><text x=\"381.4285714285714\" y=\"20\" fill=\"transparent\" stroke=\"transparent\" font-size=\"30px\">20.5K</text></g><g class=\"vert-line\"><rect x=\"415.0\" y=\"0\" width=\"20\" height=\"130\" stroke=\"transparent\" stroke-width=\"12\" fill=\"transparent\"></rect><text x=\"435.0\" y=\"20\" fill=\"transparent\" stroke=\"transparent\" font-size=\"30px\">24.8K</text></g><g class=\"vert-line\"><rect x=\"468.57142857142856\" y=\"0\" width=\"20\" height=\"130\" stroke=\"transparent\" stroke-width=\"12\" fill=\"transparent\"></rect><text x=\"488.57142857142856\" y=\"20\" fill=\"transparent\" stroke=\"transparent\" font-size=\"30px\">20.2K</text></g><g class=\"vert-line\"><rect x=\"522.1428571428571\" y=\"0\" width=\"20\" height=\"130\" stroke=\"transparent\" stroke-width=\"12\" fill=\"transparent\"></rect><text x=\"542.1428571428571\" y=\"20\" fill=\"transparent\" stroke=\"transparent\" font-size=\"30px\">11.1K</text></g><g class=\"vert-line\"><rect x=\"575.7142857142857\" y=\"0\" width=\"20\" height=\"130\" stroke=\"transparent\" stroke-width=\"12\" fill=\"transparent\"></rect><text x=\"595.7142857142857\" y=\"20\" fill=\"transparent\" stroke=\"transparent\" font-size=\"30px\">4.15K</text></g><g class=\"vert-line\"><rect x=\"629.2857142857142\" y=\"0\" width=\"20\" height=\"130\" stroke=\"transparent\" stroke-width=\"12\" fill=\"transparent\"></rect><text x=\"649.2857142857142\" y=\"20\" fill=\"transparent\" stroke=\"transparent\" font-size=\"30px\">1.09K</text></g><g class=\"vert-line\"><rect x=\"682.8571428571428\" y=\"0\" width=\"20\" height=\"130\" stroke=\"transparent\" stroke-width=\"12\" fill=\"transparent\"></rect><text x=\"702.8571428571428\" y=\"20\" fill=\"transparent\" stroke=\"transparent\" font-size=\"30px\">176</text></g><g class=\"vert-line\"><rect x=\"736.4285714285713\" y=\"0\" width=\"20\" height=\"130\" stroke=\"transparent\" stroke-width=\"12\" fill=\"transparent\"></rect><text x=\"756.4285714285713\" y=\"20\" fill=\"transparent\" stroke=\"transparent\" font-size=\"30px\">17</text></g><g class=\"vert-line\"><rect x=\"790.0\" y=\"0\" width=\"20\" height=\"130\" stroke=\"transparent\" stroke-width=\"12\" fill=\"transparent\"></rect><text x=\"810.0\" y=\"20\" fill=\"transparent\" stroke=\"transparent\" font-size=\"30px\">1</text></g></svg></div></td>\n",
       "</tr>\n",
       "</tbody>\n",
       "\n",
       "\n",
       "</table>\n",
       "\n",
       "</div>\n",
       "        "
      ],
      "text/plain": [
       "GT(_tbl_data=shape: (5, 13)\n",
       "┌────────────┬────────────┬───────┬──────────┬───┬────────────┬────────────┬───────────┬───────────┐\n",
       "│ column     ┆ non_null_c ┆ null% ┆ mean     ┆ … ┆ max        ┆ IQR        ┆ outlier_c ┆ histogram │\n",
       "│ ---        ┆ nt         ┆ ---   ┆ ---      ┆   ┆ ---        ┆ ---        ┆ nt        ┆ ---       │\n",
       "│ str        ┆ ---        ┆ f64   ┆ f64      ┆   ┆ f64        ┆ f64        ┆ ---       ┆ struct[1] │\n",
       "│            ┆ u32        ┆       ┆          ┆   ┆            ┆            ┆ u32       ┆           │\n",
       "╞════════════╪════════════╪═══════╪══════════╪═══╪════════════╪════════════╪═══════════╪═══════════╡\n",
       "│ uniform_1  ┆ 100000     ┆ 0.0   ┆ 5.998591 ┆ … ┆ 11.999725  ┆ 5.990347   ┆ 0         ┆ {[6650,   │\n",
       "│            ┆            ┆       ┆          ┆   ┆            ┆            ┆           ┆ 6646, …   │\n",
       "│            ┆            ┆       ┆          ┆   ┆            ┆            ┆           ┆ 6655]}    │\n",
       "│ uniform_2  ┆ 100000     ┆ 0.0   ┆ 0.500106 ┆ … ┆ 0.999995   ┆ 0.497395   ┆ 0         ┆ {[6512,   │\n",
       "│            ┆            ┆       ┆          ┆   ┆            ┆            ┆           ┆ 6592, …   │\n",
       "│            ┆            ┆       ┆          ┆   ┆            ┆            ┆           ┆ 6574]}    │\n",
       "│ exp        ┆ 100000     ┆ 0.0   ┆ 2.005903 ┆ … ┆ 24.681512  ┆ 2.209874   ┆ 4716      ┆ {[55910,  │\n",
       "│            ┆            ┆       ┆          ┆   ┆            ┆            ┆           ┆ 24677, …  │\n",
       "│            ┆            ┆       ┆          ┆   ┆            ┆            ┆           ┆ 2]}       │\n",
       "│ normal     ┆ 100000     ┆ 0.0   ┆ 0.00222  ┆ … ┆ 4.452118   ┆ 1.346197   ┆ 694       ┆ {[8, 72,  │\n",
       "│            ┆            ┆       ┆          ┆   ┆            ┆            ┆           ┆ … 7]}     │\n",
       "│ fat_normal ┆ 100000     ┆ 0.0   ┆ 6.123947 ┆ … ┆ 4777.99432 ┆ 1355.14654 ┆ 711       ┆ {[4, 25,  │\n",
       "│            ┆            ┆       ┆          ┆   ┆ 7          ┆ 5          ┆           ┆ … 1]}     │\n",
       "└────────────┴────────────┴───────┴──────────┴───┴────────────┴────────────┴───────────┴───────────┘, _body=<great_tables._gt_data.Body object at 0x70dae1f959d0>, _boxhead=Boxhead([ColInfo(var='column', type=<ColInfoTypeEnum.stub: 2>, column_label='column', column_align='left', column_width=None), ColInfo(var='non_null_cnt', type=<ColInfoTypeEnum.default: 1>, column_label='non_null_cnt', column_align='center', column_width=None), ColInfo(var='null%', type=<ColInfoTypeEnum.default: 1>, column_label='null%', column_align='right', column_width=None), ColInfo(var='mean', type=<ColInfoTypeEnum.default: 1>, column_label='mean', column_align='right', column_width=None), ColInfo(var='std', type=<ColInfoTypeEnum.default: 1>, column_label='std', column_align='right', column_width=None), ColInfo(var='min', type=<ColInfoTypeEnum.default: 1>, column_label='min', column_align='right', column_width=None), ColInfo(var='q1', type=<ColInfoTypeEnum.default: 1>, column_label='q1', column_align='right', column_width=None), ColInfo(var='median', type=<ColInfoTypeEnum.default: 1>, column_label='median', column_align='right', column_width=None), ColInfo(var='q3', type=<ColInfoTypeEnum.default: 1>, column_label='q3', column_align='right', column_width=None), ColInfo(var='max', type=<ColInfoTypeEnum.default: 1>, column_label='max', column_align='right', column_width=None), ColInfo(var='IQR', type=<ColInfoTypeEnum.default: 1>, column_label='IQR', column_align='right', column_width=None), ColInfo(var='outlier_cnt', type=<ColInfoTypeEnum.default: 1>, column_label='outlier_cnt', column_align='center', column_width=None), ColInfo(var='histogram', type=<ColInfoTypeEnum.default: 1>, column_label='histogram', column_align='center', column_width=None)]), _stub=Stub([RowInfo(rownum_i=0, group_id=None, rowname='uniform_1', group_label=None, built=False), RowInfo(rownum_i=1, group_id=None, rowname='uniform_2', group_label=None, built=False), RowInfo(rownum_i=2, group_id=None, rowname='exp', group_label=None, built=False), RowInfo(rownum_i=3, group_id=None, rowname='normal', group_label=None, built=False), RowInfo(rownum_i=4, group_id=None, rowname='fat_normal', group_label=None, built=False)]), _row_groups=[], _group_rows=GroupRows([]), _spanners=Spanners([]), _heading=Heading(title=None, subtitle=None, preheader=None), _stubhead='column', _source_notes=[], _footnotes=[], _styles=[], _locale=<great_tables._gt_data.Locale object at 0x70daf9bfe1d0>, _formats=[<great_tables._gt_data.FormatInfo object at 0x70dac7f61e90>, <great_tables._gt_data.FormatInfo object at 0x70dac7f81e90>, <great_tables._gt_data.FormatInfo object at 0x70dac7f82c10>], _substitutions=[], _options=Options(table_id=OptionsInfo(scss=False, category='table', type='value', value=None), table_caption=OptionsInfo(scss=False, category='table', type='value', value=None), table_width=OptionsInfo(scss=True, category='table', type='px', value='auto'), table_layout=OptionsInfo(scss=True, category='table', type='value', value='fixed'), table_margin_left=OptionsInfo(scss=True, category='table', type='px', value='auto'), table_margin_right=OptionsInfo(scss=True, category='table', type='px', value='auto'), table_background_color=OptionsInfo(scss=True, category='table', type='value', value='#FFFFFF'), table_font_names=OptionsInfo(scss=False, category='table', type='values', value=['-apple-system', 'BlinkMacSystemFont', 'Segoe UI', 'Roboto', 'Oxygen', 'Ubuntu', 'Cantarell', 'Helvetica Neue', 'Fira Sans', 'Droid Sans', 'Arial', 'sans-serif']), table_font_size=OptionsInfo(scss=True, category='table', type='px', value='16px'), table_font_weight=OptionsInfo(scss=True, category='table', type='value', value='normal'), table_font_style=OptionsInfo(scss=True, category='table', type='value', value='normal'), table_font_color=OptionsInfo(scss=True, category='table', type='value', value='#333333'), table_font_color_light=OptionsInfo(scss=True, category='table', type='value', value='#FFFFFF'), table_border_top_include=OptionsInfo(scss=False, category='table', type='boolean', value=True), table_border_top_style=OptionsInfo(scss=True, category='table', type='value', value='solid'), table_border_top_width=OptionsInfo(scss=True, category='table', type='px', value='2px'), table_border_top_color=OptionsInfo(scss=True, category='table', type='value', value='#A8A8A8'), table_border_right_style=OptionsInfo(scss=True, category='table', type='value', value='none'), table_border_right_width=OptionsInfo(scss=True, category='table', type='px', value='2px'), table_border_right_color=OptionsInfo(scss=True, category='table', type='value', value='#D3D3D3'), table_border_bottom_include=OptionsInfo(scss=False, category='table', type='boolean', value=True), table_border_bottom_style=OptionsInfo(scss=True, category='table', type='value', value='solid'), table_border_bottom_width=OptionsInfo(scss=True, category='table', type='px', value='2px'), table_border_bottom_color=OptionsInfo(scss=True, category='table', type='value', value='#A8A8A8'), table_border_left_style=OptionsInfo(scss=True, category='table', type='value', value='none'), table_border_left_width=OptionsInfo(scss=True, category='table', type='px', value='2px'), table_border_left_color=OptionsInfo(scss=True, category='table', type='value', value='#D3D3D3'), heading_background_color=OptionsInfo(scss=True, category='heading', type='value', value=None), heading_align=OptionsInfo(scss=True, category='heading', type='value', value='center'), heading_title_font_size=OptionsInfo(scss=True, category='heading', type='px', value='125%'), heading_title_font_weight=OptionsInfo(scss=True, category='heading', type='value', value='initial'), heading_subtitle_font_size=OptionsInfo(scss=True, category='heading', type='px', value='85%'), heading_subtitle_font_weight=OptionsInfo(scss=True, category='heading', type='value', value='initial'), heading_padding=OptionsInfo(scss=True, category='heading', type='px', value='4px'), heading_padding_horizontal=OptionsInfo(scss=True, category='heading', type='px', value='5px'), heading_border_bottom_style=OptionsInfo(scss=True, category='heading', type='value', value='solid'), heading_border_bottom_width=OptionsInfo(scss=True, category='heading', type='px', value='2px'), heading_border_bottom_color=OptionsInfo(scss=True, category='heading', type='value', value='#D3D3D3'), heading_border_lr_style=OptionsInfo(scss=True, category='heading', type='value', value='none'), heading_border_lr_width=OptionsInfo(scss=True, category='heading', type='px', value='1px'), heading_border_lr_color=OptionsInfo(scss=True, category='heading', type='value', value='#D3D3D3'), column_labels_background_color=OptionsInfo(scss=True, category='column_labels', type='value', value=None), column_labels_font_size=OptionsInfo(scss=True, category='column_labels', type='px', value='100%'), column_labels_font_weight=OptionsInfo(scss=True, category='column_labels', type='value', value='normal'), column_labels_text_transform=OptionsInfo(scss=True, category='column_labels', type='value', value='inherit'), column_labels_padding=OptionsInfo(scss=True, category='column_labels', type='px', value='5px'), column_labels_padding_horizontal=OptionsInfo(scss=True, category='column_labels', type='px', value='5px'), column_labels_vlines_style=OptionsInfo(scss=True, category='table_body', type='value', value='none'), column_labels_vlines_width=OptionsInfo(scss=True, category='table_body', type='px', value='1px'), column_labels_vlines_color=OptionsInfo(scss=True, category='table_body', type='value', value='#D3D3D3'), column_labels_border_top_style=OptionsInfo(scss=True, category='column_labels', type='value', value='solid'), column_labels_border_top_width=OptionsInfo(scss=True, category='column_labels', type='px', value='2px'), column_labels_border_top_color=OptionsInfo(scss=True, category='column_labels', type='value', value='#D3D3D3'), column_labels_border_bottom_style=OptionsInfo(scss=True, category='column_labels', type='value', value='solid'), column_labels_border_bottom_width=OptionsInfo(scss=True, category='column_labels', type='px', value='2px'), column_labels_border_bottom_color=OptionsInfo(scss=True, category='column_labels', type='value', value='#D3D3D3'), column_labels_border_lr_style=OptionsInfo(scss=True, category='column_labels', type='value', value='none'), column_labels_border_lr_width=OptionsInfo(scss=True, category='column_labels', type='px', value='1px'), column_labels_border_lr_color=OptionsInfo(scss=True, category='column_labels', type='value', value='#D3D3D3'), column_labels_hidden=OptionsInfo(scss=False, category='column_labels', type='boolean', value=False), row_group_background_color=OptionsInfo(scss=True, category='row_group', type='value', value=None), row_group_font_size=OptionsInfo(scss=True, category='row_group', type='px', value='100%'), row_group_font_weight=OptionsInfo(scss=True, category='row_group', type='value', value='initial'), row_group_text_transform=OptionsInfo(scss=True, category='row_group', type='value', value='inherit'), row_group_padding=OptionsInfo(scss=True, category='row_group', type='px', value='8px'), row_group_padding_horizontal=OptionsInfo(scss=True, category='row_group', type='px', value='5px'), row_group_border_top_style=OptionsInfo(scss=True, category='row_group', type='value', value='solid'), row_group_border_top_width=OptionsInfo(scss=True, category='row_group', type='px', value='2px'), row_group_border_top_color=OptionsInfo(scss=True, category='row_group', type='value', value='#D3D3D3'), row_group_border_right_style=OptionsInfo(scss=True, category='row_group', type='value', value='none'), row_group_border_right_width=OptionsInfo(scss=True, category='row_group', type='px', value='1px'), row_group_border_right_color=OptionsInfo(scss=True, category='row_group', type='value', value='#D3D3D3'), row_group_border_bottom_style=OptionsInfo(scss=True, category='row_group', type='value', value='solid'), row_group_border_bottom_width=OptionsInfo(scss=True, category='row_group', type='px', value='2px'), row_group_border_bottom_color=OptionsInfo(scss=True, category='row_group', type='value', value='#D3D3D3'), row_group_border_left_style=OptionsInfo(scss=True, category='row_group', type='value', value='none'), row_group_border_left_width=OptionsInfo(scss=True, category='row_group', type='px', value='1px'), row_group_border_left_color=OptionsInfo(scss=True, category='row_group', type='value', value='#D3D3D3'), row_group_as_column=OptionsInfo(scss=False, category='row_group', type='boolean', value=False), table_body_hlines_style=OptionsInfo(scss=True, category='table_body', type='value', value='solid'), table_body_hlines_width=OptionsInfo(scss=True, category='table_body', type='px', value='1px'), table_body_hlines_color=OptionsInfo(scss=True, category='table_body', type='value', value='#D3D3D3'), table_body_vlines_style=OptionsInfo(scss=True, category='table_body', type='value', value='none'), table_body_vlines_width=OptionsInfo(scss=True, category='table_body', type='px', value='1px'), table_body_vlines_color=OptionsInfo(scss=True, category='table_body', type='value', value='#D3D3D3'), table_body_border_top_style=OptionsInfo(scss=True, category='table_body', type='value', value='solid'), table_body_border_top_width=OptionsInfo(scss=True, category='table_body', type='px', value='2px'), table_body_border_top_color=OptionsInfo(scss=True, category='table_body', type='value', value='#D3D3D3'), table_body_border_bottom_style=OptionsInfo(scss=True, category='table_body', type='value', value='solid'), table_body_border_bottom_width=OptionsInfo(scss=True, category='table_body', type='px', value='2px'), table_body_border_bottom_color=OptionsInfo(scss=True, category='table_body', type='value', value='#D3D3D3'), data_row_padding=OptionsInfo(scss=True, category='data_row', type='px', value='8px'), data_row_padding_horizontal=OptionsInfo(scss=True, category='data_row', type='px', value='5px'), stub_background_color=OptionsInfo(scss=True, category='stub', type='value', value=None), stub_font_size=OptionsInfo(scss=True, category='stub', type='px', value='100%'), stub_font_weight=OptionsInfo(scss=True, category='stub', type='value', value='initial'), stub_text_transform=OptionsInfo(scss=True, category='stub', type='value', value='inherit'), stub_border_style=OptionsInfo(scss=True, category='stub', type='value', value='solid'), stub_border_width=OptionsInfo(scss=True, category='stub', type='px', value='2px'), stub_border_color=OptionsInfo(scss=True, category='stub', type='value', value='#D3D3D3'), stub_row_group_background_color=OptionsInfo(scss=True, category='stub', type='value', value=None), stub_row_group_font_size=OptionsInfo(scss=True, category='stub', type='px', value='100%'), stub_row_group_font_weight=OptionsInfo(scss=True, category='stub', type='value', value='initial'), stub_row_group_text_transform=OptionsInfo(scss=True, category='stub', type='value', value='inherit'), stub_row_group_border_style=OptionsInfo(scss=True, category='stub', type='value', value='solid'), stub_row_group_border_width=OptionsInfo(scss=True, category='stub', type='px', value='2px'), stub_row_group_border_color=OptionsInfo(scss=True, category='stub', type='value', value='#D3D3D3'), source_notes_padding=OptionsInfo(scss=True, category='source_notes', type='px', value='4px'), source_notes_padding_horizontal=OptionsInfo(scss=True, category='source_notes', type='px', value='5px'), source_notes_background_color=OptionsInfo(scss=True, category='source_notes', type='value', value=None), source_notes_font_size=OptionsInfo(scss=True, category='source_notes', type='px', value='90%'), source_notes_border_bottom_style=OptionsInfo(scss=True, category='source_notes', type='value', value='none'), source_notes_border_bottom_width=OptionsInfo(scss=True, category='source_notes', type='px', value='2px'), source_notes_border_bottom_color=OptionsInfo(scss=True, category='source_notes', type='value', value='#D3D3D3'), source_notes_border_lr_style=OptionsInfo(scss=True, category='source_notes', type='value', value='none'), source_notes_border_lr_width=OptionsInfo(scss=True, category='source_notes', type='px', value='2px'), source_notes_border_lr_color=OptionsInfo(scss=True, category='source_notes', type='value', value='#D3D3D3'), source_notes_multiline=OptionsInfo(scss=False, category='source_notes', type='boolean', value=True), source_notes_sep=OptionsInfo(scss=False, category='source_notes', type='value', value=' '), container_width=OptionsInfo(scss=False, category='container', type='px', value='auto'), container_height=OptionsInfo(scss=False, category='container', type='px', value='auto'), container_padding_x=OptionsInfo(scss=False, category='container', type='px', value='0px'), container_padding_y=OptionsInfo(scss=False, category='container', type='px', value='10px'), container_overflow_x=OptionsInfo(scss=False, category='container', type='overflow', value='auto'), container_overflow_y=OptionsInfo(scss=False, category='container', type='overflow', value='auto'), quarto_disable_processing=OptionsInfo(scss=False, category='quarto', type='logical', value=False), quarto_use_bootstrap=OptionsInfo(scss=False, category='quarto', type='logical', value=False)), _has_built=False)"
      ]
     },
     "execution_count": 4,
     "metadata": {},
     "output_type": "execute_result"
    }
   ],
   "source": [
    "# Only shows for numerical columns \n",
    "dia.numeric_profile(n_bins=15)"
   ]
  },
  {
   "cell_type": "code",
   "execution_count": 5,
   "metadata": {},
   "outputs": [
    {
     "data": {
      "text/html": [
       "<div><style>\n",
       ".dataframe > thead > tr,\n",
       ".dataframe > tbody > tr {\n",
       "  text-align: right;\n",
       "  white-space: pre-wrap;\n",
       "}\n",
       "</style>\n",
       "<small>shape: (10, 3)</small><table border=\"1\" class=\"dataframe\"><thead><tr><th>x</th><th>y</th><th>corr</th></tr><tr><td>str</td><td>str</td><td>f64</td></tr></thead><tbody><tr><td>&quot;normal&quot;</td><td>&quot;fat_normal&quot;</td><td>-0.007357</td></tr><tr><td>&quot;uniform_1&quot;</td><td>&quot;uniform_2&quot;</td><td>-0.005745</td></tr><tr><td>&quot;exp&quot;</td><td>&quot;fat_normal&quot;</td><td>0.003992</td></tr><tr><td>&quot;uniform_1&quot;</td><td>&quot;exp&quot;</td><td>0.003372</td></tr><tr><td>&quot;exp&quot;</td><td>&quot;normal&quot;</td><td>-0.002759</td></tr><tr><td>&quot;uniform_1&quot;</td><td>&quot;fat_normal&quot;</td><td>-0.002353</td></tr><tr><td>&quot;uniform_2&quot;</td><td>&quot;exp&quot;</td><td>-0.001041</td></tr><tr><td>&quot;uniform_1&quot;</td><td>&quot;normal&quot;</td><td>0.000659</td></tr><tr><td>&quot;uniform_2&quot;</td><td>&quot;fat_normal&quot;</td><td>-0.000305</td></tr><tr><td>&quot;uniform_2&quot;</td><td>&quot;normal&quot;</td><td>-0.000241</td></tr></tbody></table></div>"
      ],
      "text/plain": [
       "shape: (10, 3)\n",
       "┌───────────┬────────────┬───────────┐\n",
       "│ x         ┆ y          ┆ corr      │\n",
       "│ ---       ┆ ---        ┆ ---       │\n",
       "│ str       ┆ str        ┆ f64       │\n",
       "╞═══════════╪════════════╪═══════════╡\n",
       "│ normal    ┆ fat_normal ┆ -0.007357 │\n",
       "│ uniform_1 ┆ uniform_2  ┆ -0.005745 │\n",
       "│ exp       ┆ fat_normal ┆ 0.003992  │\n",
       "│ uniform_1 ┆ exp        ┆ 0.003372  │\n",
       "│ exp       ┆ normal     ┆ -0.002759 │\n",
       "│ uniform_1 ┆ fat_normal ┆ -0.002353 │\n",
       "│ uniform_2 ┆ exp        ┆ -0.001041 │\n",
       "│ uniform_1 ┆ normal     ┆ 0.000659  │\n",
       "│ uniform_2 ┆ fat_normal ┆ -0.000305 │\n",
       "│ uniform_2 ┆ normal     ┆ -0.000241 │\n",
       "└───────────┴────────────┴───────────┘"
      ]
     },
     "execution_count": 5,
     "metadata": {},
     "output_type": "execute_result"
    }
   ],
   "source": [
    "dia.infer_corr()"
   ]
  },
  {
   "cell_type": "code",
   "execution_count": 6,
   "metadata": {},
   "outputs": [
    {
     "data": {
      "text/html": [
       "<div><style>\n",
       ".dataframe > thead > tr,\n",
       ".dataframe > tbody > tr {\n",
       "  text-align: right;\n",
       "  white-space: pre-wrap;\n",
       "}\n",
       "</style>\n",
       "<small>shape: (10, 3)</small><table border=\"1\" class=\"dataframe\"><thead><tr><th>x</th><th>y</th><th>corr</th></tr><tr><td>str</td><td>str</td><td>f64</td></tr></thead><tbody><tr><td>&quot;normal&quot;</td><td>&quot;fat_normal&quot;</td><td>-0.007357</td></tr><tr><td>&quot;uniform_1&quot;</td><td>&quot;uniform_2&quot;</td><td>-0.005745</td></tr><tr><td>&quot;exp&quot;</td><td>&quot;fat_normal&quot;</td><td>0.003992</td></tr><tr><td>&quot;uniform_1&quot;</td><td>&quot;exp&quot;</td><td>0.003372</td></tr><tr><td>&quot;exp&quot;</td><td>&quot;normal&quot;</td><td>-0.002759</td></tr><tr><td>&quot;uniform_1&quot;</td><td>&quot;fat_normal&quot;</td><td>-0.002353</td></tr><tr><td>&quot;uniform_2&quot;</td><td>&quot;exp&quot;</td><td>-0.001041</td></tr><tr><td>&quot;uniform_1&quot;</td><td>&quot;normal&quot;</td><td>0.000659</td></tr><tr><td>&quot;uniform_2&quot;</td><td>&quot;fat_normal&quot;</td><td>-0.000305</td></tr><tr><td>&quot;uniform_2&quot;</td><td>&quot;normal&quot;</td><td>-0.000241</td></tr></tbody></table></div>"
      ],
      "text/plain": [
       "shape: (10, 3)\n",
       "┌───────────┬────────────┬───────────┐\n",
       "│ x         ┆ y          ┆ corr      │\n",
       "│ ---       ┆ ---        ┆ ---       │\n",
       "│ str       ┆ str        ┆ f64       │\n",
       "╞═══════════╪════════════╪═══════════╡\n",
       "│ normal    ┆ fat_normal ┆ -0.007357 │\n",
       "│ uniform_1 ┆ uniform_2  ┆ -0.005745 │\n",
       "│ exp       ┆ fat_normal ┆ 0.003992  │\n",
       "│ uniform_1 ┆ exp        ┆ 0.003372  │\n",
       "│ exp       ┆ normal     ┆ -0.002759 │\n",
       "│ uniform_1 ┆ fat_normal ┆ -0.002353 │\n",
       "│ uniform_2 ┆ exp        ┆ -0.001041 │\n",
       "│ uniform_1 ┆ normal     ┆ 0.000659  │\n",
       "│ uniform_2 ┆ fat_normal ┆ -0.000305 │\n",
       "│ uniform_2 ┆ normal     ┆ -0.000241 │\n",
       "└───────────┴────────────┴───────────┘"
      ]
     },
     "execution_count": 6,
     "metadata": {},
     "output_type": "execute_result"
    }
   ],
   "source": [
    "dia.infer_corr(method=\"kendall\")"
   ]
  },
  {
   "cell_type": "code",
   "execution_count": 7,
   "metadata": {},
   "outputs": [
    {
     "data": {
      "text/plain": [
       "{'numerics': ['uniform_1', 'uniform_2', 'exp', 'normal', 'fat_normal'],\n",
       " 'ints': [],\n",
       " 'floats': ['uniform_1', 'uniform_2', 'exp', 'normal', 'fat_normal'],\n",
       " 'strs': [],\n",
       " 'bools': [],\n",
       " 'cats': [],\n",
       " 'list_floats': ['list_prob'],\n",
       " 'list_ints': [],\n",
       " 'list_bool': [],\n",
       " 'list_str': [],\n",
       " 'simple_types': ['uniform_1',\n",
       "  'uniform_2',\n",
       "  'exp',\n",
       "  'normal',\n",
       "  'fat_normal',\n",
       "  'list_prob'],\n",
       " 'other_types': []}"
      ]
     },
     "execution_count": 7,
     "metadata": {},
     "output_type": "execute_result"
    }
   ],
   "source": [
    "dia.meta()"
   ]
  },
  {
   "cell_type": "code",
   "execution_count": 8,
   "metadata": {},
   "outputs": [
    {
     "data": {
      "text/plain": [
       "['uniform_2', 'list_prob']"
      ]
     },
     "execution_count": 8,
     "metadata": {},
     "output_type": "execute_result"
    }
   ],
   "source": [
    "# Uniform_2 can potentially be a probability score column (e.g. output of predict_proba, but taking values only for class =1)\n",
    "# list_prob can potentially be a 2-class probability column (e.g. output of predict_proba)\n",
    "dia.infer_prob()"
   ]
  },
  {
   "cell_type": "markdown",
   "metadata": {},
   "source": [
    "# Dependency Detection\n",
    "\n",
    "Does knowing values in column A tell us values in column B?"
   ]
  },
  {
   "cell_type": "code",
   "execution_count": 9,
   "metadata": {},
   "outputs": [
    {
     "data": {
      "text/html": [
       "<div><style>\n",
       ".dataframe > thead > tr,\n",
       ".dataframe > tbody > tr {\n",
       "  text-align: right;\n",
       "  white-space: pre-wrap;\n",
       "}\n",
       "</style>\n",
       "<small>shape: (5, 22)</small><table border=\"1\" class=\"dataframe\"><thead><tr><th>ID</th><th>Gender</th><th>DOB</th><th>Lead_Creation_Date</th><th>City_Code</th><th>City_Category</th><th>Employer_Code</th><th>Employer_Category1</th><th>Employer_Category2</th><th>Monthly_Income</th><th>Customer_Existing_Primary_Bank_Code</th><th>Primary_Bank_Type</th><th>Contacted</th><th>Source</th><th>Source_Category</th><th>Existing_EMI</th><th>Loan_Amount</th><th>Loan_Period</th><th>Interest_Rate</th><th>EMI</th><th>Var1</th><th>Approved</th></tr><tr><td>str</td><td>str</td><td>str</td><td>str</td><td>str</td><td>str</td><td>str</td><td>str</td><td>i64</td><td>f64</td><td>str</td><td>str</td><td>str</td><td>str</td><td>str</td><td>f64</td><td>i64</td><td>i64</td><td>f64</td><td>i64</td><td>i64</td><td>i64</td></tr></thead><tbody><tr><td>&quot;APPC9049317122…</td><td>&quot;Female&quot;</td><td>&quot;23/07/79&quot;</td><td>&quot;15/07/16&quot;</td><td>&quot;C10001&quot;</td><td>&quot;A&quot;</td><td>&quot;COM0044082&quot;</td><td>&quot;A&quot;</td><td>4</td><td>2000.0</td><td>&quot;B001&quot;</td><td>&quot;P&quot;</td><td>&quot;N&quot;</td><td>&quot;S122&quot;</td><td>&quot;G&quot;</td><td>0.0</td><td>null</td><td>null</td><td>null</td><td>null</td><td>0</td><td>0</td></tr><tr><td>&quot;APPD4061126334…</td><td>&quot;Male&quot;</td><td>&quot;07/12/86&quot;</td><td>&quot;04/07/16&quot;</td><td>&quot;C10003&quot;</td><td>&quot;A&quot;</td><td>&quot;COM0000002&quot;</td><td>&quot;C&quot;</td><td>1</td><td>3500.0</td><td>&quot;B002&quot;</td><td>&quot;P&quot;</td><td>&quot;Y&quot;</td><td>&quot;S122&quot;</td><td>&quot;G&quot;</td><td>0.0</td><td>20000</td><td>2</td><td>13.25</td><td>953</td><td>10</td><td>0</td></tr><tr><td>&quot;APPE7028924942…</td><td>&quot;Male&quot;</td><td>&quot;10/12/82&quot;</td><td>&quot;19/07/16&quot;</td><td>&quot;C10125&quot;</td><td>&quot;C&quot;</td><td>&quot;COM0005267&quot;</td><td>&quot;C&quot;</td><td>4</td><td>2250.0</td><td>&quot;B003&quot;</td><td>&quot;G&quot;</td><td>&quot;Y&quot;</td><td>&quot;S143&quot;</td><td>&quot;B&quot;</td><td>0.0</td><td>45000</td><td>4</td><td>null</td><td>null</td><td>0</td><td>0</td></tr><tr><td>&quot;APPF8027386553…</td><td>&quot;Male&quot;</td><td>&quot;30/01/89&quot;</td><td>&quot;09/07/16&quot;</td><td>&quot;C10477&quot;</td><td>&quot;C&quot;</td><td>&quot;COM0004143&quot;</td><td>&quot;A&quot;</td><td>4</td><td>3500.0</td><td>&quot;B003&quot;</td><td>&quot;G&quot;</td><td>&quot;Y&quot;</td><td>&quot;S143&quot;</td><td>&quot;B&quot;</td><td>0.0</td><td>92000</td><td>5</td><td>null</td><td>null</td><td>7</td><td>0</td></tr><tr><td>&quot;APPG6099443664…</td><td>&quot;Male&quot;</td><td>&quot;19/04/85&quot;</td><td>&quot;20/07/16&quot;</td><td>&quot;C10002&quot;</td><td>&quot;A&quot;</td><td>&quot;COM0001781&quot;</td><td>&quot;A&quot;</td><td>4</td><td>10000.0</td><td>&quot;B001&quot;</td><td>&quot;P&quot;</td><td>&quot;Y&quot;</td><td>&quot;S134&quot;</td><td>&quot;B&quot;</td><td>2500.0</td><td>50000</td><td>2</td><td>null</td><td>null</td><td>10</td><td>0</td></tr></tbody></table></div>"
      ],
      "text/plain": [
       "shape: (5, 22)\n",
       "┌────────────────┬────────┬──────────┬────────────────┬───┬───────────────┬──────┬──────┬──────────┐\n",
       "│ ID             ┆ Gender ┆ DOB      ┆ Lead_Creation_ ┆ … ┆ Interest_Rate ┆ EMI  ┆ Var1 ┆ Approved │\n",
       "│ ---            ┆ ---    ┆ ---      ┆ Date           ┆   ┆ ---           ┆ ---  ┆ ---  ┆ ---      │\n",
       "│ str            ┆ str    ┆ str      ┆ ---            ┆   ┆ f64           ┆ i64  ┆ i64  ┆ i64      │\n",
       "│                ┆        ┆          ┆ str            ┆   ┆               ┆      ┆      ┆          │\n",
       "╞════════════════╪════════╪══════════╪════════════════╪═══╪═══════════════╪══════╪══════╪══════════╡\n",
       "│ APPC9049317122 ┆ Female ┆ 23/07/79 ┆ 15/07/16       ┆ … ┆ null          ┆ null ┆ 0    ┆ 0        │\n",
       "│ 5              ┆        ┆          ┆                ┆   ┆               ┆      ┆      ┆          │\n",
       "│ APPD4061126334 ┆ Male   ┆ 07/12/86 ┆ 04/07/16       ┆ … ┆ 13.25         ┆ 953  ┆ 10   ┆ 0        │\n",
       "│ 4              ┆        ┆          ┆                ┆   ┆               ┆      ┆      ┆          │\n",
       "│ APPE7028924942 ┆ Male   ┆ 10/12/82 ┆ 19/07/16       ┆ … ┆ null          ┆ null ┆ 0    ┆ 0        │\n",
       "│ 3              ┆        ┆          ┆                ┆   ┆               ┆      ┆      ┆          │\n",
       "│ APPF8027386553 ┆ Male   ┆ 30/01/89 ┆ 09/07/16       ┆ … ┆ null          ┆ null ┆ 7    ┆ 0        │\n",
       "│ 7              ┆        ┆          ┆                ┆   ┆               ┆      ┆      ┆          │\n",
       "│ APPG6099443664 ┆ Male   ┆ 19/04/85 ┆ 20/07/16       ┆ … ┆ null          ┆ null ┆ 10   ┆ 0        │\n",
       "│ 1              ┆        ┆          ┆                ┆   ┆               ┆      ┆      ┆          │\n",
       "└────────────────┴────────┴──────────┴────────────────┴───┴───────────────┴──────┴──────┴──────────┘"
      ]
     },
     "execution_count": 9,
     "metadata": {},
     "output_type": "execute_result"
    }
   ],
   "source": [
    "df = pl.read_parquet(\"dependency.parquet\")\n",
    "df.head()"
   ]
  },
  {
   "cell_type": "code",
   "execution_count": 10,
   "metadata": {},
   "outputs": [],
   "source": [
    "dia = DIA(df)"
   ]
  },
  {
   "cell_type": "code",
   "execution_count": 11,
   "metadata": {},
   "outputs": [
    {
     "name": "stderr",
     "output_type": "stream",
     "text": [
      "INFO:polars_ds.diagnosis:Running dependency for columns: ['Approved', 'Gender', 'Contacted', 'Primary_Bank_Type', 'City_Category', 'Employer_Category1', 'Employer_Category2', 'Var1', 'Loan_Period', 'Source_Category', 'Source', 'Customer_Existing_Primary_Bank_Code', 'Lead_Creation_Date', 'Loan_Amount', 'City_Code', 'EMI', 'DOB', 'Employer_Code', 'ID'].\n"
     ]
    },
    {
     "data": {
      "text/html": [
       "<div><style>\n",
       ".dataframe > thead > tr,\n",
       ".dataframe > tbody > tr {\n",
       "  text-align: right;\n",
       "  white-space: pre-wrap;\n",
       "}\n",
       "</style>\n",
       "<small>shape: (171, 3)</small><table border=\"1\" class=\"dataframe\"><thead><tr><th>column</th><th>by</th><th>cond_entropy</th></tr><tr><td>str</td><td>str</td><td>f64</td></tr></thead><tbody><tr><td>&quot;Approved&quot;</td><td>&quot;ID&quot;</td><td>0.0</td></tr><tr><td>&quot;Gender&quot;</td><td>&quot;ID&quot;</td><td>0.0</td></tr><tr><td>&quot;Contacted&quot;</td><td>&quot;ID&quot;</td><td>0.0</td></tr><tr><td>&quot;Primary_Bank_T…</td><td>&quot;Customer_Exist…</td><td>0.0</td></tr><tr><td>&quot;Primary_Bank_T…</td><td>&quot;ID&quot;</td><td>0.0</td></tr><tr><td>&hellip;</td><td>&hellip;</td><td>&hellip;</td></tr><tr><td>&quot;Loan_Amount&quot;</td><td>&quot;City_Code&quot;</td><td>2.702889</td></tr><tr><td>&quot;City_Code&quot;</td><td>&quot;EMI&quot;</td><td>3.147327</td></tr><tr><td>&quot;Lead_Creation_…</td><td>&quot;EMI&quot;</td><td>3.92818</td></tr><tr><td>&quot;Lead_Creation_…</td><td>&quot;City_Code&quot;</td><td>4.204907</td></tr><tr><td>&quot;Lead_Creation_…</td><td>&quot;Loan_Amount&quot;</td><td>4.336805</td></tr></tbody></table></div>"
      ],
      "text/plain": [
       "shape: (171, 3)\n",
       "┌────────────────────┬───────────────────────────────────┬──────────────┐\n",
       "│ column             ┆ by                                ┆ cond_entropy │\n",
       "│ ---                ┆ ---                               ┆ ---          │\n",
       "│ str                ┆ str                               ┆ f64          │\n",
       "╞════════════════════╪═══════════════════════════════════╪══════════════╡\n",
       "│ Approved           ┆ ID                                ┆ 0.0          │\n",
       "│ Gender             ┆ ID                                ┆ 0.0          │\n",
       "│ Contacted          ┆ ID                                ┆ 0.0          │\n",
       "│ Primary_Bank_Type  ┆ Customer_Existing_Primary_Bank_C… ┆ 0.0          │\n",
       "│ Primary_Bank_Type  ┆ ID                                ┆ 0.0          │\n",
       "│ …                  ┆ …                                 ┆ …            │\n",
       "│ Loan_Amount        ┆ City_Code                         ┆ 2.702889     │\n",
       "│ City_Code          ┆ EMI                               ┆ 3.147327     │\n",
       "│ Lead_Creation_Date ┆ EMI                               ┆ 3.92818      │\n",
       "│ Lead_Creation_Date ┆ City_Code                         ┆ 4.204907     │\n",
       "│ Lead_Creation_Date ┆ Loan_Amount                       ┆ 4.336805     │\n",
       "└────────────────────┴───────────────────────────────────┴──────────────┘"
      ]
     },
     "execution_count": 11,
     "metadata": {},
     "output_type": "execute_result"
    }
   ],
   "source": [
    "dia.infer_dependency()"
   ]
  },
  {
   "cell_type": "code",
   "execution_count": 12,
   "metadata": {},
   "outputs": [
    {
     "data": {
      "image/svg+xml": [
       "<?xml version=\"1.0\" encoding=\"UTF-8\" standalone=\"no\"?>\n",
       "<!DOCTYPE svg PUBLIC \"-//W3C//DTD SVG 1.1//EN\"\n",
       " \"http://www.w3.org/Graphics/SVG/1.1/DTD/svg11.dtd\">\n",
       "<!-- Generated by graphviz version 10.0.1 (0)\n",
       " -->\n",
       "<!-- Title: Dependency Plot Pages: 1 -->\n",
       "<svg width=\"1905pt\" height=\"188pt\"\n",
       " viewBox=\"0.00 0.00 1904.85 188.00\" xmlns=\"http://www.w3.org/2000/svg\" xmlns:xlink=\"http://www.w3.org/1999/xlink\">\n",
       "<g id=\"graph0\" class=\"graph\" transform=\"scale(1 1) rotate(0) translate(4 184)\">\n",
       "<title>Dependency Plot</title>\n",
       "<polygon fill=\"white\" stroke=\"none\" points=\"-4,4 -4,-184 1900.85,-184 1900.85,4 -4,4\"/>\n",
       "<!-- Customer_Existing_Primary_Bank_Code -->\n",
       "<g id=\"node1\" class=\"node\">\n",
       "<title>Customer_Existing_Primary_Bank_Code</title>\n",
       "<ellipse fill=\"none\" stroke=\"black\" cx=\"165.48\" cy=\"-90\" rx=\"165.48\" ry=\"18\"/>\n",
       "<text text-anchor=\"middle\" x=\"165.48\" y=\"-84.95\" font-family=\"Times,serif\" font-size=\"14.00\">Customer_Existing_Primary_Bank_Code</text>\n",
       "</g>\n",
       "<!-- Primary_Bank_Type -->\n",
       "<g id=\"node17\" class=\"node\">\n",
       "<title>Primary_Bank_Type</title>\n",
       "<ellipse fill=\"none\" stroke=\"black\" cx=\"165.48\" cy=\"-18\" rx=\"88.71\" ry=\"18\"/>\n",
       "<text text-anchor=\"middle\" x=\"165.48\" y=\"-12.95\" font-family=\"Times,serif\" font-size=\"14.00\">Primary_Bank_Type</text>\n",
       "</g>\n",
       "<!-- Customer_Existing_Primary_Bank_Code&#45;&gt;Primary_Bank_Type -->\n",
       "<g id=\"edge16\" class=\"edge\">\n",
       "<title>Customer_Existing_Primary_Bank_Code&#45;&gt;Primary_Bank_Type</title>\n",
       "<path fill=\"none\" stroke=\"black\" d=\"M165.48,-71.7C165.48,-64.41 165.48,-55.73 165.48,-47.54\"/>\n",
       "<polygon fill=\"black\" stroke=\"black\" points=\"168.98,-47.62 165.48,-37.62 161.98,-47.62 168.98,-47.62\"/>\n",
       "</g>\n",
       "<!-- ID -->\n",
       "<g id=\"node2\" class=\"node\">\n",
       "<title>ID</title>\n",
       "<ellipse fill=\"none\" stroke=\"black\" cx=\"1188.48\" cy=\"-162\" rx=\"27\" ry=\"18\"/>\n",
       "<text text-anchor=\"middle\" x=\"1188.48\" y=\"-156.95\" font-family=\"Times,serif\" font-size=\"14.00\">ID</text>\n",
       "</g>\n",
       "<!-- ID&#45;&gt;Customer_Existing_Primary_Bank_Code -->\n",
       "<g id=\"edge1\" class=\"edge\">\n",
       "<title>ID&#45;&gt;Customer_Existing_Primary_Bank_Code</title>\n",
       "<path fill=\"none\" stroke=\"black\" d=\"M1161.34,-159.65C1055.79,-154.34 662.61,-133.86 339.48,-108 324.76,-106.82 309.34,-105.48 294.02,-104.07\"/>\n",
       "<polygon fill=\"black\" stroke=\"black\" points=\"294.69,-100.62 284.41,-103.18 294.04,-107.59 294.69,-100.62\"/>\n",
       "</g>\n",
       "<!-- Lead_Creation_Date -->\n",
       "<g id=\"node3\" class=\"node\">\n",
       "<title>Lead_Creation_Date</title>\n",
       "<ellipse fill=\"none\" stroke=\"black\" cx=\"436.48\" cy=\"-90\" rx=\"87.69\" ry=\"18\"/>\n",
       "<text text-anchor=\"middle\" x=\"436.48\" y=\"-84.95\" font-family=\"Times,serif\" font-size=\"14.00\">Lead_Creation_Date</text>\n",
       "</g>\n",
       "<!-- ID&#45;&gt;Lead_Creation_Date -->\n",
       "<g id=\"edge2\" class=\"edge\">\n",
       "<title>ID&#45;&gt;Lead_Creation_Date</title>\n",
       "<path fill=\"none\" stroke=\"black\" d=\"M1161.25,-159.7C1071.35,-155.23 775.94,-138.99 533.48,-108 526.08,-107.05 518.38,-105.94 510.69,-104.73\"/>\n",
       "<polygon fill=\"black\" stroke=\"black\" points=\"511.42,-101.3 500.99,-103.16 510.3,-108.21 511.42,-101.3\"/>\n",
       "</g>\n",
       "<!-- Employer_Code -->\n",
       "<g id=\"node4\" class=\"node\">\n",
       "<title>Employer_Code</title>\n",
       "<ellipse fill=\"none\" stroke=\"black\" cx=\"614.48\" cy=\"-90\" rx=\"71.82\" ry=\"18\"/>\n",
       "<text text-anchor=\"middle\" x=\"614.48\" y=\"-84.95\" font-family=\"Times,serif\" font-size=\"14.00\">Employer_Code</text>\n",
       "</g>\n",
       "<!-- ID&#45;&gt;Employer_Code -->\n",
       "<g id=\"edge3\" class=\"edge\">\n",
       "<title>ID&#45;&gt;Employer_Code</title>\n",
       "<path fill=\"none\" stroke=\"black\" d=\"M1161.37,-159.04C1086.74,-153.44 872.12,-135.96 695.48,-108 689.63,-107.07 683.56,-106 677.49,-104.86\"/>\n",
       "<polygon fill=\"black\" stroke=\"black\" points=\"678.6,-101.51 668.12,-103.03 677.26,-108.38 678.6,-101.51\"/>\n",
       "</g>\n",
       "<!-- Source_Category -->\n",
       "<g id=\"node5\" class=\"node\">\n",
       "<title>Source_Category</title>\n",
       "<ellipse fill=\"none\" stroke=\"black\" cx=\"779.48\" cy=\"-90\" rx=\"74.89\" ry=\"18\"/>\n",
       "<text text-anchor=\"middle\" x=\"779.48\" y=\"-84.95\" font-family=\"Times,serif\" font-size=\"14.00\">Source_Category</text>\n",
       "</g>\n",
       "<!-- ID&#45;&gt;Source_Category -->\n",
       "<g id=\"edge4\" class=\"edge\">\n",
       "<title>ID&#45;&gt;Source_Category</title>\n",
       "<path fill=\"none\" stroke=\"black\" d=\"M1162.31,-157.08C1107.01,-148.71 974.27,-128.24 863.48,-108 857.63,-106.93 851.55,-105.78 845.47,-104.6\"/>\n",
       "<polygon fill=\"black\" stroke=\"black\" points=\"846.52,-101.24 836.04,-102.75 845.17,-108.11 846.52,-101.24\"/>\n",
       "</g>\n",
       "<!-- Contacted -->\n",
       "<g id=\"node6\" class=\"node\">\n",
       "<title>Contacted</title>\n",
       "<ellipse fill=\"none\" stroke=\"black\" cx=\"920.48\" cy=\"-90\" rx=\"48.28\" ry=\"18\"/>\n",
       "<text text-anchor=\"middle\" x=\"920.48\" y=\"-84.95\" font-family=\"Times,serif\" font-size=\"14.00\">Contacted</text>\n",
       "</g>\n",
       "<!-- ID&#45;&gt;Contacted -->\n",
       "<g id=\"edge5\" class=\"edge\">\n",
       "<title>ID&#45;&gt;Contacted</title>\n",
       "<path fill=\"none\" stroke=\"black\" d=\"M1163.06,-154.99C1123.32,-145.52 1044.14,-126.3 977.48,-108 974.36,-107.14 971.14,-106.24 967.9,-105.31\"/>\n",
       "<polygon fill=\"black\" stroke=\"black\" points=\"968.94,-101.97 958.36,-102.54 966.99,-108.69 968.94,-101.97\"/>\n",
       "</g>\n",
       "<!-- Approved -->\n",
       "<g id=\"node7\" class=\"node\">\n",
       "<title>Approved</title>\n",
       "<ellipse fill=\"none\" stroke=\"black\" cx=\"1034.48\" cy=\"-90\" rx=\"47.77\" ry=\"18\"/>\n",
       "<text text-anchor=\"middle\" x=\"1034.48\" y=\"-84.95\" font-family=\"Times,serif\" font-size=\"14.00\">Approved</text>\n",
       "</g>\n",
       "<!-- ID&#45;&gt;Approved -->\n",
       "<g id=\"edge6\" class=\"edge\">\n",
       "<title>ID&#45;&gt;Approved</title>\n",
       "<path fill=\"none\" stroke=\"black\" d=\"M1166.42,-150.97C1142.49,-140.1 1103.8,-122.51 1074.49,-109.19\"/>\n",
       "<polygon fill=\"black\" stroke=\"black\" points=\"1076.09,-106.07 1065.54,-105.12 1073.2,-112.44 1076.09,-106.07\"/>\n",
       "</g>\n",
       "<!-- Source -->\n",
       "<g id=\"node8\" class=\"node\">\n",
       "<title>Source</title>\n",
       "<ellipse fill=\"none\" stroke=\"black\" cx=\"1136.48\" cy=\"-90\" rx=\"36.51\" ry=\"18\"/>\n",
       "<text text-anchor=\"middle\" x=\"1136.48\" y=\"-84.95\" font-family=\"Times,serif\" font-size=\"14.00\">Source</text>\n",
       "</g>\n",
       "<!-- ID&#45;&gt;Source -->\n",
       "<g id=\"edge7\" class=\"edge\">\n",
       "<title>ID&#45;&gt;Source</title>\n",
       "<path fill=\"none\" stroke=\"black\" d=\"M1176.94,-145.46C1170.5,-136.8 1162.33,-125.79 1155.02,-115.95\"/>\n",
       "<polygon fill=\"black\" stroke=\"black\" points=\"1158.03,-114.13 1149.26,-108.19 1152.41,-118.31 1158.03,-114.13\"/>\n",
       "</g>\n",
       "<!-- City_Code -->\n",
       "<g id=\"node11\" class=\"node\">\n",
       "<title>City_Code</title>\n",
       "<ellipse fill=\"none\" stroke=\"black\" cx=\"1241.48\" cy=\"-90\" rx=\"50.84\" ry=\"18\"/>\n",
       "<text text-anchor=\"middle\" x=\"1241.48\" y=\"-84.95\" font-family=\"Times,serif\" font-size=\"14.00\">City_Code</text>\n",
       "</g>\n",
       "<!-- ID&#45;&gt;City_Code -->\n",
       "<g id=\"edge11\" class=\"edge\">\n",
       "<title>ID&#45;&gt;City_Code</title>\n",
       "<path fill=\"none\" stroke=\"black\" d=\"M1200.25,-145.46C1206.72,-136.92 1214.91,-126.1 1222.28,-116.36\"/>\n",
       "<polygon fill=\"black\" stroke=\"black\" points=\"1224.86,-118.76 1228.1,-108.67 1219.28,-114.53 1224.86,-118.76\"/>\n",
       "</g>\n",
       "<!-- Loan_Period -->\n",
       "<g id=\"node13\" class=\"node\">\n",
       "<title>Loan_Period</title>\n",
       "<ellipse fill=\"none\" stroke=\"black\" cx=\"1368.48\" cy=\"-90\" rx=\"58.52\" ry=\"18\"/>\n",
       "<text text-anchor=\"middle\" x=\"1368.48\" y=\"-84.95\" font-family=\"Times,serif\" font-size=\"14.00\">Loan_Period</text>\n",
       "</g>\n",
       "<!-- ID&#45;&gt;Loan_Period -->\n",
       "<g id=\"edge12\" class=\"edge\">\n",
       "<title>ID&#45;&gt;Loan_Period</title>\n",
       "<path fill=\"none\" stroke=\"black\" d=\"M1211.28,-152.13C1239.14,-141.3 1286.97,-122.7 1322.57,-108.85\"/>\n",
       "<polygon fill=\"black\" stroke=\"black\" points=\"1323.73,-112.16 1331.79,-105.27 1321.2,-105.63 1323.73,-112.16\"/>\n",
       "</g>\n",
       "<!-- Gender -->\n",
       "<g id=\"node14\" class=\"node\">\n",
       "<title>Gender</title>\n",
       "<ellipse fill=\"none\" stroke=\"black\" cx=\"1483.48\" cy=\"-90\" rx=\"38.04\" ry=\"18\"/>\n",
       "<text text-anchor=\"middle\" x=\"1483.48\" y=\"-84.95\" font-family=\"Times,serif\" font-size=\"14.00\">Gender</text>\n",
       "</g>\n",
       "<!-- ID&#45;&gt;Gender -->\n",
       "<g id=\"edge13\" class=\"edge\">\n",
       "<title>ID&#45;&gt;Gender</title>\n",
       "<path fill=\"none\" stroke=\"black\" d=\"M1214.48,-156.65C1259.95,-148.78 1356.7,-130.84 1436.48,-108 1438.89,-107.31 1441.35,-106.56 1443.82,-105.77\"/>\n",
       "<polygon fill=\"black\" stroke=\"black\" points=\"1444.81,-109.14 1453.17,-102.63 1442.58,-102.5 1444.81,-109.14\"/>\n",
       "</g>\n",
       "<!-- Var1 -->\n",
       "<g id=\"node15\" class=\"node\">\n",
       "<title>Var1</title>\n",
       "<ellipse fill=\"none\" stroke=\"black\" cx=\"1567.48\" cy=\"-90\" rx=\"28.32\" ry=\"18\"/>\n",
       "<text text-anchor=\"middle\" x=\"1567.48\" y=\"-84.95\" font-family=\"Times,serif\" font-size=\"14.00\">Var1</text>\n",
       "</g>\n",
       "<!-- ID&#45;&gt;Var1 -->\n",
       "<g id=\"edge14\" class=\"edge\">\n",
       "<title>ID&#45;&gt;Var1</title>\n",
       "<path fill=\"none\" stroke=\"black\" d=\"M1215.65,-159.35C1274.28,-155.23 1416.56,-142.27 1530.48,-108 1532.09,-107.52 1533.72,-106.98 1535.35,-106.39\"/>\n",
       "<polygon fill=\"black\" stroke=\"black\" points=\"1536.6,-109.66 1544.56,-102.67 1533.98,-103.17 1536.6,-109.66\"/>\n",
       "</g>\n",
       "<!-- Loan_Amount -->\n",
       "<g id=\"node16\" class=\"node\">\n",
       "<title>Loan_Amount</title>\n",
       "<ellipse fill=\"none\" stroke=\"black\" cx=\"1678.48\" cy=\"-90\" rx=\"65.17\" ry=\"18\"/>\n",
       "<text text-anchor=\"middle\" x=\"1678.48\" y=\"-84.95\" font-family=\"Times,serif\" font-size=\"14.00\">Loan_Amount</text>\n",
       "</g>\n",
       "<!-- ID&#45;&gt;Loan_Amount -->\n",
       "<g id=\"edge15\" class=\"edge\">\n",
       "<title>ID&#45;&gt;Loan_Amount</title>\n",
       "<path fill=\"none\" stroke=\"black\" d=\"M1215.39,-158.51C1281.79,-152.15 1458.62,-133.98 1604.48,-108 1609.44,-107.12 1614.56,-106.12 1619.68,-105.06\"/>\n",
       "<polygon fill=\"black\" stroke=\"black\" points=\"1620.33,-108.5 1629.38,-102.99 1618.87,-101.66 1620.33,-108.5\"/>\n",
       "</g>\n",
       "<!-- EMI -->\n",
       "<g id=\"node18\" class=\"node\">\n",
       "<title>EMI</title>\n",
       "<ellipse fill=\"none\" stroke=\"black\" cx=\"1789.48\" cy=\"-90\" rx=\"28.32\" ry=\"18\"/>\n",
       "<text text-anchor=\"middle\" x=\"1789.48\" y=\"-84.95\" font-family=\"Times,serif\" font-size=\"14.00\">EMI</text>\n",
       "</g>\n",
       "<!-- ID&#45;&gt;EMI -->\n",
       "<g id=\"edge17\" class=\"edge\">\n",
       "<title>ID&#45;&gt;EMI</title>\n",
       "<path fill=\"none\" stroke=\"black\" d=\"M1215.77,-161.64C1298.28,-162.92 1551.82,-161.85 1752.48,-108 1754.11,-107.56 1755.75,-107.06 1757.38,-106.51\"/>\n",
       "<polygon fill=\"black\" stroke=\"black\" points=\"1758.59,-109.8 1766.62,-102.88 1756.03,-103.28 1758.59,-109.8\"/>\n",
       "</g>\n",
       "<!-- DOB -->\n",
       "<g id=\"node19\" class=\"node\">\n",
       "<title>DOB</title>\n",
       "<ellipse fill=\"none\" stroke=\"black\" cx=\"1866.48\" cy=\"-90\" rx=\"30.37\" ry=\"18\"/>\n",
       "<text text-anchor=\"middle\" x=\"1866.48\" y=\"-84.95\" font-family=\"Times,serif\" font-size=\"14.00\">DOB</text>\n",
       "</g>\n",
       "<!-- ID&#45;&gt;DOB -->\n",
       "<g id=\"edge18\" class=\"edge\">\n",
       "<title>ID&#45;&gt;DOB</title>\n",
       "<path fill=\"none\" stroke=\"black\" d=\"M1215.75,-159.89C1321.92,-155.39 1707.8,-137.34 1826.48,-108 1828.63,-107.47 1830.8,-106.84 1832.97,-106.14\"/>\n",
       "<polygon fill=\"black\" stroke=\"black\" points=\"1834.07,-109.46 1842.23,-102.7 1831.64,-102.9 1834.07,-109.46\"/>\n",
       "</g>\n",
       "<!-- Employer_Category1 -->\n",
       "<g id=\"node9\" class=\"node\">\n",
       "<title>Employer_Category1</title>\n",
       "<ellipse fill=\"none\" stroke=\"black\" cx=\"514.48\" cy=\"-18\" rx=\"90.76\" ry=\"18\"/>\n",
       "<text text-anchor=\"middle\" x=\"514.48\" y=\"-12.95\" font-family=\"Times,serif\" font-size=\"14.00\">Employer_Category1</text>\n",
       "</g>\n",
       "<!-- Employer_Code&#45;&gt;Employer_Category1 -->\n",
       "<g id=\"edge8\" class=\"edge\">\n",
       "<title>Employer_Code&#45;&gt;Employer_Category1</title>\n",
       "<path fill=\"none\" stroke=\"black\" d=\"M591.04,-72.59C578.19,-63.59 562.04,-52.29 547.89,-42.38\"/>\n",
       "<polygon fill=\"black\" stroke=\"black\" points=\"549.92,-39.53 539.72,-36.66 545.9,-45.27 549.92,-39.53\"/>\n",
       "</g>\n",
       "<!-- Employer_Category2 -->\n",
       "<g id=\"node12\" class=\"node\">\n",
       "<title>Employer_Category2</title>\n",
       "<ellipse fill=\"none\" stroke=\"black\" cx=\"714.48\" cy=\"-18\" rx=\"90.76\" ry=\"18\"/>\n",
       "<text text-anchor=\"middle\" x=\"714.48\" y=\"-12.95\" font-family=\"Times,serif\" font-size=\"14.00\">Employer_Category2</text>\n",
       "</g>\n",
       "<!-- Employer_Code&#45;&gt;Employer_Category2 -->\n",
       "<g id=\"edge10\" class=\"edge\">\n",
       "<title>Employer_Code&#45;&gt;Employer_Category2</title>\n",
       "<path fill=\"none\" stroke=\"black\" d=\"M637.93,-72.59C650.78,-63.59 666.93,-52.29 681.08,-42.38\"/>\n",
       "<polygon fill=\"black\" stroke=\"black\" points=\"683.07,-45.27 689.25,-36.66 679.05,-39.53 683.07,-45.27\"/>\n",
       "</g>\n",
       "<!-- City_Category -->\n",
       "<g id=\"node10\" class=\"node\">\n",
       "<title>City_Category</title>\n",
       "<ellipse fill=\"none\" stroke=\"black\" cx=\"1241.48\" cy=\"-18\" rx=\"65.17\" ry=\"18\"/>\n",
       "<text text-anchor=\"middle\" x=\"1241.48\" y=\"-12.95\" font-family=\"Times,serif\" font-size=\"14.00\">City_Category</text>\n",
       "</g>\n",
       "<!-- City_Code&#45;&gt;City_Category -->\n",
       "<g id=\"edge9\" class=\"edge\">\n",
       "<title>City_Code&#45;&gt;City_Category</title>\n",
       "<path fill=\"none\" stroke=\"black\" d=\"M1241.48,-71.7C1241.48,-64.41 1241.48,-55.73 1241.48,-47.54\"/>\n",
       "<polygon fill=\"black\" stroke=\"black\" points=\"1244.98,-47.62 1241.48,-37.62 1237.98,-47.62 1244.98,-47.62\"/>\n",
       "</g>\n",
       "</g>\n",
       "</svg>\n"
      ],
      "text/plain": [
       "<graphviz.graphs.Digraph at 0x70dac7fb0410>"
      ]
     },
     "execution_count": 12,
     "metadata": {},
     "output_type": "execute_result"
    }
   ],
   "source": [
    "dia.plot_dependency()"
   ]
  },
  {
   "cell_type": "code",
   "execution_count": 13,
   "metadata": {},
   "outputs": [
    {
     "data": {
      "image/svg+xml": [
       "<?xml version=\"1.0\" encoding=\"UTF-8\" standalone=\"no\"?>\n",
       "<!DOCTYPE svg PUBLIC \"-//W3C//DTD SVG 1.1//EN\"\n",
       " \"http://www.w3.org/Graphics/SVG/1.1/DTD/svg11.dtd\">\n",
       "<!-- Generated by graphviz version 10.0.1 (0)\n",
       " -->\n",
       "<!-- Title: Dependency Plot Pages: 1 -->\n",
       "<svg width=\"824pt\" height=\"116pt\"\n",
       " viewBox=\"0.00 0.00 823.93 116.00\" xmlns=\"http://www.w3.org/2000/svg\" xmlns:xlink=\"http://www.w3.org/1999/xlink\">\n",
       "<g id=\"graph0\" class=\"graph\" transform=\"scale(1 1) rotate(0) translate(4 112)\">\n",
       "<title>Dependency Plot</title>\n",
       "<polygon fill=\"white\" stroke=\"none\" points=\"-4,4 -4,-112 819.93,-112 819.93,4 -4,4\"/>\n",
       "<!-- Employer_Category2 -->\n",
       "<g id=\"node1\" class=\"node\">\n",
       "<title>Employer_Category2</title>\n",
       "<ellipse fill=\"none\" stroke=\"black\" cx=\"90.76\" cy=\"-18\" rx=\"90.76\" ry=\"18\"/>\n",
       "<text text-anchor=\"middle\" x=\"90.76\" y=\"-12.95\" font-family=\"Times,serif\" font-size=\"14.00\">Employer_Category2</text>\n",
       "</g>\n",
       "<!-- Employer_Code -->\n",
       "<g id=\"node2\" class=\"node\">\n",
       "<title>Employer_Code</title>\n",
       "<ellipse fill=\"none\" stroke=\"black\" cx=\"176.76\" cy=\"-90\" rx=\"71.82\" ry=\"18\"/>\n",
       "<text text-anchor=\"middle\" x=\"176.76\" y=\"-84.95\" font-family=\"Times,serif\" font-size=\"14.00\">Employer_Code</text>\n",
       "</g>\n",
       "<!-- Employer_Code&#45;&gt;Employer_Category2 -->\n",
       "<g id=\"edge1\" class=\"edge\">\n",
       "<title>Employer_Code&#45;&gt;Employer_Category2</title>\n",
       "<path fill=\"none\" stroke=\"black\" d=\"M156.38,-72.41C145.61,-63.65 132.2,-52.73 120.32,-43.06\"/>\n",
       "<polygon fill=\"black\" stroke=\"black\" points=\"122.73,-40.51 112.77,-36.91 118.31,-45.94 122.73,-40.51\"/>\n",
       "</g>\n",
       "<!-- Employer_Category1 -->\n",
       "<g id=\"node7\" class=\"node\">\n",
       "<title>Employer_Category1</title>\n",
       "<ellipse fill=\"none\" stroke=\"black\" cx=\"290.76\" cy=\"-18\" rx=\"90.76\" ry=\"18\"/>\n",
       "<text text-anchor=\"middle\" x=\"290.76\" y=\"-12.95\" font-family=\"Times,serif\" font-size=\"14.00\">Employer_Category1</text>\n",
       "</g>\n",
       "<!-- Employer_Code&#45;&gt;Employer_Category1 -->\n",
       "<g id=\"edge4\" class=\"edge\">\n",
       "<title>Employer_Code&#45;&gt;Employer_Category1</title>\n",
       "<path fill=\"none\" stroke=\"black\" d=\"M202.91,-72.94C218.19,-63.56 237.7,-51.58 254.45,-41.3\"/>\n",
       "<polygon fill=\"black\" stroke=\"black\" points=\"255.96,-44.48 262.65,-36.26 252.29,-38.51 255.96,-44.48\"/>\n",
       "</g>\n",
       "<!-- Primary_Bank_Type -->\n",
       "<g id=\"node3\" class=\"node\">\n",
       "<title>Primary_Bank_Type</title>\n",
       "<ellipse fill=\"none\" stroke=\"black\" cx=\"516.76\" cy=\"-18\" rx=\"88.71\" ry=\"18\"/>\n",
       "<text text-anchor=\"middle\" x=\"516.76\" y=\"-12.95\" font-family=\"Times,serif\" font-size=\"14.00\">Primary_Bank_Type</text>\n",
       "</g>\n",
       "<!-- Customer_Existing_Primary_Bank_Code -->\n",
       "<g id=\"node4\" class=\"node\">\n",
       "<title>Customer_Existing_Primary_Bank_Code</title>\n",
       "<ellipse fill=\"none\" stroke=\"black\" cx=\"516.76\" cy=\"-90\" rx=\"165.48\" ry=\"18\"/>\n",
       "<text text-anchor=\"middle\" x=\"516.76\" y=\"-84.95\" font-family=\"Times,serif\" font-size=\"14.00\">Customer_Existing_Primary_Bank_Code</text>\n",
       "</g>\n",
       "<!-- Customer_Existing_Primary_Bank_Code&#45;&gt;Primary_Bank_Type -->\n",
       "<g id=\"edge2\" class=\"edge\">\n",
       "<title>Customer_Existing_Primary_Bank_Code&#45;&gt;Primary_Bank_Type</title>\n",
       "<path fill=\"none\" stroke=\"black\" d=\"M516.76,-71.7C516.76,-64.41 516.76,-55.73 516.76,-47.54\"/>\n",
       "<polygon fill=\"black\" stroke=\"black\" points=\"520.26,-47.62 516.76,-37.62 513.26,-47.62 520.26,-47.62\"/>\n",
       "</g>\n",
       "<!-- City_Category -->\n",
       "<g id=\"node5\" class=\"node\">\n",
       "<title>City_Category</title>\n",
       "<ellipse fill=\"none\" stroke=\"black\" cx=\"750.76\" cy=\"-18\" rx=\"65.17\" ry=\"18\"/>\n",
       "<text text-anchor=\"middle\" x=\"750.76\" y=\"-12.95\" font-family=\"Times,serif\" font-size=\"14.00\">City_Category</text>\n",
       "</g>\n",
       "<!-- City_Code -->\n",
       "<g id=\"node6\" class=\"node\">\n",
       "<title>City_Code</title>\n",
       "<ellipse fill=\"none\" stroke=\"black\" cx=\"750.76\" cy=\"-90\" rx=\"50.84\" ry=\"18\"/>\n",
       "<text text-anchor=\"middle\" x=\"750.76\" y=\"-84.95\" font-family=\"Times,serif\" font-size=\"14.00\">City_Code</text>\n",
       "</g>\n",
       "<!-- City_Code&#45;&gt;City_Category -->\n",
       "<g id=\"edge3\" class=\"edge\">\n",
       "<title>City_Code&#45;&gt;City_Category</title>\n",
       "<path fill=\"none\" stroke=\"black\" d=\"M750.76,-71.7C750.76,-64.41 750.76,-55.73 750.76,-47.54\"/>\n",
       "<polygon fill=\"black\" stroke=\"black\" points=\"754.26,-47.62 750.76,-37.62 747.26,-47.62 754.26,-47.62\"/>\n",
       "</g>\n",
       "</g>\n",
       "</svg>\n"
      ],
      "text/plain": [
       "<graphviz.graphs.Digraph at 0x70daedf62010>"
      ]
     },
     "execution_count": 13,
     "metadata": {},
     "output_type": "execute_result"
    }
   ],
   "source": [
    "# ID implies everything, of course, because ID is unique.\n",
    "# So let's not plot it\n",
    "dia.plot_dependency(exclude=[\"ID\"])"
   ]
  },
  {
   "cell_type": "code",
   "execution_count": 14,
   "metadata": {},
   "outputs": [
    {
     "data": {
      "text/html": [
       "<div><style>\n",
       ".dataframe > thead > tr,\n",
       ".dataframe > tbody > tr {\n",
       "  text-align: right;\n",
       "  white-space: pre-wrap;\n",
       "}\n",
       "</style>\n",
       "<small>shape: (13, 13)</small><table border=\"1\" class=\"dataframe\"><thead><tr><th>column</th><th>null_count</th><th>n_unique</th><th>most_freq</th><th>most_freq_cnt</th><th>min_byte_len</th><th>min_char_len</th><th>avg_byte_len</th><th>avg_char_len</th><th>max_byte_len</th><th>max_char_len</th><th>5p_byte_len</th><th>95p_byte_len</th></tr><tr><td>str</td><td>u32</td><td>u32</td><td>str</td><td>u32</td><td>u32</td><td>u32</td><td>f64</td><td>f64</td><td>u32</td><td>u32</td><td>f64</td><td>f64</td></tr></thead><tbody><tr><td>&quot;ID&quot;</td><td>0</td><td>69713</td><td>&quot;APPC9049317122…</td><td>1</td><td>15</td><td>15</td><td>15.0</td><td>15.0</td><td>15</td><td>15</td><td>15.0</td><td>15.0</td></tr><tr><td>&quot;Gender&quot;</td><td>0</td><td>2</td><td>&quot;Male&quot;</td><td>39949</td><td>4</td><td>4</td><td>4.853901</td><td>4.853901</td><td>6</td><td>6</td><td>4.0</td><td>6.0</td></tr><tr><td>&quot;DOB&quot;</td><td>15</td><td>10760</td><td>&quot;11/01/82&quot;</td><td>253</td><td>8</td><td>8</td><td>8.0</td><td>8.0</td><td>8</td><td>8</td><td>8.0</td><td>8.0</td></tr><tr><td>&quot;Lead_Creation_…</td><td>0</td><td>92</td><td>&quot;02/09/16&quot;</td><td>1838</td><td>8</td><td>8</td><td>8.0</td><td>8.0</td><td>8</td><td>8</td><td>8.0</td><td>8.0</td></tr><tr><td>&quot;City_Code&quot;</td><td>814</td><td>679</td><td>&quot;C10001&quot;</td><td>10007</td><td>6</td><td>6</td><td>6.0</td><td>6.0</td><td>6</td><td>6</td><td>6.0</td><td>6.0</td></tr><tr><td>&hellip;</td><td>&hellip;</td><td>&hellip;</td><td>&hellip;</td><td>&hellip;</td><td>&hellip;</td><td>&hellip;</td><td>&hellip;</td><td>&hellip;</td><td>&hellip;</td><td>&hellip;</td><td>&hellip;</td><td>&hellip;</td></tr><tr><td>&quot;Customer_Exist…</td><td>9391</td><td>58</td><td>&quot;B001&quot;</td><td>14197</td><td>4</td><td>4</td><td>4.0</td><td>4.0</td><td>4</td><td>4</td><td>4.0</td><td>4.0</td></tr><tr><td>&quot;Primary_Bank_T…</td><td>9391</td><td>3</td><td>&quot;P&quot;</td><td>39619</td><td>1</td><td>1</td><td>1.0</td><td>1.0</td><td>1</td><td>1</td><td>1.0</td><td>1.0</td></tr><tr><td>&quot;Contacted&quot;</td><td>0</td><td>2</td><td>&quot;Y&quot;</td><td>45275</td><td>1</td><td>1</td><td>1.0</td><td>1.0</td><td>1</td><td>1</td><td>1.0</td><td>1.0</td></tr><tr><td>&quot;Source&quot;</td><td>0</td><td>29</td><td>&quot;S122&quot;</td><td>30941</td><td>4</td><td>4</td><td>4.0</td><td>4.0</td><td>4</td><td>4</td><td>4.0</td><td>4.0</td></tr><tr><td>&quot;Source_Categor…</td><td>0</td><td>7</td><td>&quot;B&quot;</td><td>29812</td><td>1</td><td>1</td><td>1.0</td><td>1.0</td><td>1</td><td>1</td><td>1.0</td><td>1.0</td></tr></tbody></table></div>"
      ],
      "text/plain": [
       "shape: (13, 13)\n",
       "┌───────────┬───────────┬──────────┬───────────┬───┬───────────┬───────────┬───────────┬───────────┐\n",
       "│ column    ┆ null_coun ┆ n_unique ┆ most_freq ┆ … ┆ max_byte_ ┆ max_char_ ┆ 5p_byte_l ┆ 95p_byte_ │\n",
       "│ ---       ┆ t         ┆ ---      ┆ ---       ┆   ┆ len       ┆ len       ┆ en        ┆ len       │\n",
       "│ str       ┆ ---       ┆ u32      ┆ str       ┆   ┆ ---       ┆ ---       ┆ ---       ┆ ---       │\n",
       "│           ┆ u32       ┆          ┆           ┆   ┆ u32       ┆ u32       ┆ f64       ┆ f64       │\n",
       "╞═══════════╪═══════════╪══════════╪═══════════╪═══╪═══════════╪═══════════╪═══════════╪═══════════╡\n",
       "│ ID        ┆ 0         ┆ 69713    ┆ APPC90493 ┆ … ┆ 15        ┆ 15        ┆ 15.0      ┆ 15.0      │\n",
       "│           ┆           ┆          ┆ 171225    ┆   ┆           ┆           ┆           ┆           │\n",
       "│ Gender    ┆ 0         ┆ 2        ┆ Male      ┆ … ┆ 6         ┆ 6         ┆ 4.0       ┆ 6.0       │\n",
       "│ DOB       ┆ 15        ┆ 10760    ┆ 11/01/82  ┆ … ┆ 8         ┆ 8         ┆ 8.0       ┆ 8.0       │\n",
       "│ Lead_Crea ┆ 0         ┆ 92       ┆ 02/09/16  ┆ … ┆ 8         ┆ 8         ┆ 8.0       ┆ 8.0       │\n",
       "│ tion_Date ┆           ┆          ┆           ┆   ┆           ┆           ┆           ┆           │\n",
       "│ City_Code ┆ 814       ┆ 679      ┆ C10001    ┆ … ┆ 6         ┆ 6         ┆ 6.0       ┆ 6.0       │\n",
       "│ …         ┆ …         ┆ …        ┆ …         ┆ … ┆ …         ┆ …         ┆ …         ┆ …         │\n",
       "│ Customer_ ┆ 9391      ┆ 58       ┆ B001      ┆ … ┆ 4         ┆ 4         ┆ 4.0       ┆ 4.0       │\n",
       "│ Existing_ ┆           ┆          ┆           ┆   ┆           ┆           ┆           ┆           │\n",
       "│ Primary_B ┆           ┆          ┆           ┆   ┆           ┆           ┆           ┆           │\n",
       "│ ank_C…    ┆           ┆          ┆           ┆   ┆           ┆           ┆           ┆           │\n",
       "│ Primary_B ┆ 9391      ┆ 3        ┆ P         ┆ … ┆ 1         ┆ 1         ┆ 1.0       ┆ 1.0       │\n",
       "│ ank_Type  ┆           ┆          ┆           ┆   ┆           ┆           ┆           ┆           │\n",
       "│ Contacted ┆ 0         ┆ 2        ┆ Y         ┆ … ┆ 1         ┆ 1         ┆ 1.0       ┆ 1.0       │\n",
       "│ Source    ┆ 0         ┆ 29       ┆ S122      ┆ … ┆ 4         ┆ 4         ┆ 4.0       ┆ 4.0       │\n",
       "│ Source_Ca ┆ 0         ┆ 7        ┆ B         ┆ … ┆ 1         ┆ 1         ┆ 1.0       ┆ 1.0       │\n",
       "│ tegory    ┆           ┆          ┆           ┆   ┆           ┆           ┆           ┆           │\n",
       "└───────────┴───────────┴──────────┴───────────┴───┴───────────┴───────────┴───────────┴───────────┘"
      ]
     },
     "execution_count": 14,
     "metadata": {},
     "output_type": "execute_result"
    }
   ],
   "source": [
    "dia.str_stats()"
   ]
  },
  {
   "cell_type": "code",
   "execution_count": 15,
   "metadata": {},
   "outputs": [
    {
     "data": {
      "text/html": [
       "<div id=\"dwuqcrozbd\" style=\"padding-left:0px;padding-right:0px;padding-top:10px;padding-bottom:10px;overflow-x:auto;overflow-y:auto;width:auto;height:auto;\">\n",
       "<style>\n",
       "#dwuqcrozbd table {\n",
       "          font-family: -apple-system, BlinkMacSystemFont, 'Segoe UI', Roboto, Oxygen, Ubuntu, Cantarell, 'Helvetica Neue', 'Fira Sans', 'Droid Sans', Arial, sans-serif;\n",
       "          -webkit-font-smoothing: antialiased;\n",
       "          -moz-osx-font-smoothing: grayscale;\n",
       "        }\n",
       "\n",
       "#dwuqcrozbd thead, tbody, tfoot, tr, td, th { border-style: none !important; }\n",
       " tr { background-color: transparent !important; }\n",
       "#dwuqcrozbd p { margin: 0 !important; padding: 0 !important; }\n",
       " #dwuqcrozbd .gt_table { display: table !important; border-collapse: collapse !important; line-height: normal !important; margin-left: auto !important; margin-right: auto !important; color: #333333 !important; font-size: 16px !important; font-weight: normal !important; font-style: normal !important; background-color: #FFFFFF !important; width: auto !important; border-top-style: solid !important; border-top-width: 2px !important; border-top-color: #A8A8A8 !important; border-right-style: none !important; border-right-width: 2px !important; border-right-color: #D3D3D3 !important; border-bottom-style: solid !important; border-bottom-width: 2px !important; border-bottom-color: #A8A8A8 !important; border-left-style: none !important; border-left-width: 2px !important; border-left-color: #D3D3D3 !important; }\n",
       " #dwuqcrozbd .gt_caption { padding-top: 4px !important; padding-bottom: 4px !important; }\n",
       " #dwuqcrozbd .gt_title { color: #333333 !important; font-size: 125% !important; font-weight: initial !important; padding-top: 4px !important; padding-bottom: 4px !important; padding-left: 5px !important; padding-right: 5px !important; border-bottom-color: #FFFFFF !important; border-bottom-width: 0 !important; }\n",
       " #dwuqcrozbd .gt_subtitle { color: #333333 !important; font-size: 85% !important; font-weight: initial !important; padding-top: 3px !important; padding-bottom: 5px !important; padding-left: 5px !important; padding-right: 5px !important; border-top-color: #FFFFFF !important; border-top-width: 0 !important; }\n",
       " #dwuqcrozbd .gt_heading { background-color: #FFFFFF !important; text-align: center !important; border-bottom-color: #FFFFFF !important; border-left-style: none !important; border-left-width: 1px !important; border-left-color: #D3D3D3 !important; border-right-style: none !important; border-right-width: 1px !important; border-right-color: #D3D3D3 !important; }\n",
       " #dwuqcrozbd .gt_bottom_border { border-bottom-style: solid !important; border-bottom-width: 2px !important; border-bottom-color: #D3D3D3 !important; }\n",
       " #dwuqcrozbd .gt_col_headings { border-top-style: solid !important; border-top-width: 2px !important; border-top-color: #D3D3D3 !important; border-bottom-style: solid !important; border-bottom-width: 2px !important; border-bottom-color: #D3D3D3 !important; border-left-style: none !important; border-left-width: 1px !important; border-left-color: #D3D3D3 !important; border-right-style: none !important; border-right-width: 1px !important; border-right-color: #D3D3D3 !important; }\n",
       " #dwuqcrozbd .gt_col_heading { color: #333333 !important; background-color: #FFFFFF !important; font-size: 100% !important; font-weight: normal !important; text-transform: inherit !important; border-left-style: none !important; border-left-width: 1px !important; border-left-color: #D3D3D3 !important; border-right-style: none !important; border-right-width: 1px !important; border-right-color: #D3D3D3 !important; vertical-align: bottom !important; padding-top: 5px !important; padding-bottom: 5px !important; padding-left: 5px !important; padding-right: 5px !important; overflow-x: hidden !important; }\n",
       " #dwuqcrozbd .gt_column_spanner_outer { color: #333333 !important; background-color: #FFFFFF !important; font-size: 100% !important; font-weight: normal !important; text-transform: inherit !important; padding-top: 0 !important; padding-bottom: 0 !important; padding-left: 4px !important; padding-right: 4px !important; }\n",
       " #dwuqcrozbd .gt_column_spanner_outer:first-child { padding-left: 0 !important; }\n",
       " #dwuqcrozbd .gt_column_spanner_outer:last-child { padding-right: 0 !important; }\n",
       " #dwuqcrozbd .gt_column_spanner { border-bottom-style: solid !important; border-bottom-width: 2px !important; border-bottom-color: #D3D3D3 !important; vertical-align: bottom !important; padding-top: 5px !important; padding-bottom: 5px !important; overflow-x: hidden !important; display: inline-block !important; width: 100% !important; }\n",
       " #dwuqcrozbd .gt_spanner_row { border-bottom-style: hidden !important; }\n",
       " #dwuqcrozbd .gt_group_heading { padding-top: 8px !important; padding-bottom: 8px !important; padding-left: 5px !important; padding-right: 5px !important; color: #333333 !important; background-color: #FFFFFF !important; font-size: 100% !important; font-weight: initial !important; text-transform: inherit !important; border-top-style: solid !important; border-top-width: 2px !important; border-top-color: #D3D3D3 !important; border-bottom-style: solid !important; border-bottom-width: 2px !important; border-bottom-color: #D3D3D3 !important; border-left-style: none !important; border-left-width: 1px !important; border-left-color: #D3D3D3 !important; border-right-style: none !important; border-right-width: 1px !important; border-right-color: #D3D3D3 !important; vertical-align: middle !important; text-align: left !important; }\n",
       " #dwuqcrozbd .gt_empty_group_heading { padding: 0.5px !important; color: #333333 !important; background-color: #FFFFFF !important; font-size: 100% !important; font-weight: initial !important; border-top-style: solid !important; border-top-width: 2px !important; border-top-color: #D3D3D3 !important; border-bottom-style: solid !important; border-bottom-width: 2px !important; border-bottom-color: #D3D3D3 !important; vertical-align: middle !important; }\n",
       " #dwuqcrozbd .gt_from_md> :first-child { margin-top: 0 !important; }\n",
       " #dwuqcrozbd .gt_from_md> :last-child { margin-bottom: 0 !important; }\n",
       " #dwuqcrozbd .gt_row { padding-top: 8px !important; padding-bottom: 8px !important; padding-left: 5px !important; padding-right: 5px !important; margin: 10px !important; border-top-style: solid !important; border-top-width: 1px !important; border-top-color: #D3D3D3 !important; border-left-style: none !important; border-left-width: 1px !important; border-left-color: #D3D3D3 !important; border-right-style: none !important; border-right-width: 1px !important; border-right-color: #D3D3D3 !important; vertical-align: middle !important; overflow-x: hidden !important; }\n",
       " #dwuqcrozbd .gt_stub { color: #333333 !important; background-color: #FFFFFF !important; font-size: 100% !important; font-weight: initial !important; text-transform: inherit !important; border-right-style: solid !important; border-right-width: 2px !important; border-right-color: #D3D3D3 !important; padding-left: 5px !important; padding-right: 5px !important; }\n",
       " #dwuqcrozbd .gt_stub_row_group { color: #333333 !important; background-color: #FFFFFF !important; font-size: 100% !important; font-weight: initial !important; text-transform: inherit !important; border-right-style: solid !important; border-right-width: 2px !important; border-right-color: #D3D3D3 !important; padding-left: 5px !important; padding-right: 5px !important; vertical-align: top !important; }\n",
       " #dwuqcrozbd .gt_row_group_first td { border-top-width: 2px !important; }\n",
       " #dwuqcrozbd .gt_row_group_first th { border-top-width: 2px !important; }\n",
       " #dwuqcrozbd .gt_table_body { border-top-style: solid !important; border-top-width: 2px !important; border-top-color: #D3D3D3 !important; border-bottom-style: solid !important; border-bottom-width: 2px !important; border-bottom-color: #D3D3D3 !important; }\n",
       " #dwuqcrozbd .gt_sourcenotes { color: #333333 !important; background-color: #FFFFFF !important; border-bottom-style: none !important; border-bottom-width: 2px !important; border-bottom-color: #D3D3D3 !important; border-left-style: none !important; border-left-width: 2px !important; border-left-color: #D3D3D3 !important; border-right-style: none !important; border-right-width: 2px !important; border-right-color: #D3D3D3 !important; }\n",
       " #dwuqcrozbd .gt_sourcenote { font-size: 90% !important; padding-top: 4px !important; padding-bottom: 4px !important; padding-left: 5px !important; padding-right: 5px !important; text-align: left !important; }\n",
       " #dwuqcrozbd .gt_left { text-align: left !important; }\n",
       " #dwuqcrozbd .gt_center { text-align: center !important; }\n",
       " #dwuqcrozbd .gt_right { text-align: right !important; font-variant-numeric: tabular-nums !important; }\n",
       " #dwuqcrozbd .gt_font_normal { font-weight: normal !important; }\n",
       " #dwuqcrozbd .gt_font_bold { font-weight: bold !important; }\n",
       " #dwuqcrozbd .gt_font_italic { font-style: italic !important; }\n",
       " #dwuqcrozbd .gt_super { font-size: 65% !important; }\n",
       " #dwuqcrozbd .gt_footnote_marks { font-size: 75% !important; vertical-align: 0.4em !important; position: initial !important; }\n",
       " #dwuqcrozbd .gt_asterisk { font-size: 100% !important; vertical-align: 0 !important; }\n",
       " \n",
       "</style>\n",
       "<table class=\"gt_table\" data-quarto-disable-processing=\"false\" data-quarto-bootstrap=\"false\">\n",
       "\n",
       "<tr class=\"gt_col_headings\">\n",
       "  <th class=\"gt_col_heading gt_columns_bottom_border gt_left\" rowspan=\"1\" colspan=\"1\" scope=\"col\" id=\"column\">column</th>\n",
       "  <th class=\"gt_col_heading gt_columns_bottom_border gt_center\" rowspan=\"1\" colspan=\"1\" scope=\"col\" id=\"non_null_cnt\">non_null_cnt</th>\n",
       "  <th class=\"gt_col_heading gt_columns_bottom_border gt_right\" rowspan=\"1\" colspan=\"1\" scope=\"col\" id=\"null%\">null%</th>\n",
       "  <th class=\"gt_col_heading gt_columns_bottom_border gt_right\" rowspan=\"1\" colspan=\"1\" scope=\"col\" id=\"mean\">mean</th>\n",
       "  <th class=\"gt_col_heading gt_columns_bottom_border gt_right\" rowspan=\"1\" colspan=\"1\" scope=\"col\" id=\"std\">std</th>\n",
       "  <th class=\"gt_col_heading gt_columns_bottom_border gt_right\" rowspan=\"1\" colspan=\"1\" scope=\"col\" id=\"min\">min</th>\n",
       "  <th class=\"gt_col_heading gt_columns_bottom_border gt_right\" rowspan=\"1\" colspan=\"1\" scope=\"col\" id=\"q1\">q1</th>\n",
       "  <th class=\"gt_col_heading gt_columns_bottom_border gt_right\" rowspan=\"1\" colspan=\"1\" scope=\"col\" id=\"median\">median</th>\n",
       "  <th class=\"gt_col_heading gt_columns_bottom_border gt_right\" rowspan=\"1\" colspan=\"1\" scope=\"col\" id=\"q3\">q3</th>\n",
       "  <th class=\"gt_col_heading gt_columns_bottom_border gt_right\" rowspan=\"1\" colspan=\"1\" scope=\"col\" id=\"max\">max</th>\n",
       "  <th class=\"gt_col_heading gt_columns_bottom_border gt_right\" rowspan=\"1\" colspan=\"1\" scope=\"col\" id=\"IQR\">IQR</th>\n",
       "  <th class=\"gt_col_heading gt_columns_bottom_border gt_center\" rowspan=\"1\" colspan=\"1\" scope=\"col\" id=\"outlier_cnt\">outlier_cnt</th>\n",
       "  <th class=\"gt_col_heading gt_columns_bottom_border gt_center\" rowspan=\"1\" colspan=\"1\" scope=\"col\" id=\"histogram\">histogram</th>\n",
       "</tr>\n",
       "<tbody class=\"gt_table_body\">\n",
       "<tr>\n",
       "  <th class=\"gt_row gt_left gt_stub\">Employer_Category2</th>\n",
       "  <td class=\"gt_row gt_center\">65415</td>\n",
       "  <td class=\"gt_row gt_right\">6.17%</td>\n",
       "  <td class=\"gt_row gt_right\">3.720</td>\n",
       "  <td class=\"gt_row gt_right\">0.807</td>\n",
       "  <td class=\"gt_row gt_right\">1.000</td>\n",
       "  <td class=\"gt_row gt_right\">4.000</td>\n",
       "  <td class=\"gt_row gt_right\">4.000</td>\n",
       "  <td class=\"gt_row gt_right\">4.000</td>\n",
       "  <td class=\"gt_row gt_right\">4.000</td>\n",
       "  <td class=\"gt_row gt_right\">0.000</td>\n",
       "  <td class=\"gt_row gt_center\">7833</td>\n",
       "  <td class=\"gt_row gt_center\"><div><svg role=\"img\" viewBox=\"0 0 350 130\" style=\"height: 2em; margin-left: auto; margin-right: auto; font-size: inherit; overflow: visible; vertical-align: middle; position:relative;\"><defs><pattern id=\"area_pattern\" width=\"8\" height=\"8\" patternUnits=\"userSpaceOnUse\"><path class=\"pattern-line\" d=\"M 0,8 l 8,-8 M -1,1 l 4,-4 M 6,10 l 4,-4\" stroke=\"#FF0000\" stroke-width=\"1.5\" stroke-linecap=\"round\" shape-rendering=\"geometricPrecision\"></path></pattern></defs><style> text { font-family: ui-monospace, 'Cascadia Code', 'Source Code Pro', Menlo, Consolas, 'DejaVu Sans Mono', monospace; stroke-width: 0.15em; paint-order: stroke; stroke-linejoin: round; cursor: default; } .vert-line:hover rect { fill: #911EB4; fill-opacity: 40%; stroke: #FFFFFF60; color: red; } .vert-line:hover text { stroke: white; fill: #212427; } .horizontal-line:hover text {stroke: white; fill: #212427; } .ref-line:hover rect { stroke: #FFFFFF60; } .ref-line:hover line { stroke: #FF0000; } .ref-line:hover text { stroke: white; fill: #212427; } .y-axis-line:hover rect { fill: #EDEDED; fill-opacity: 60%; stroke: #FFFFFF60; color: red; } .y-axis-line:hover text { stroke: white; stroke-width: 0.20em; fill: #1A1C1F; } </style><line x1=\"22.5\" y1=\"115.0\" x2=\"327.5\" y2=\"115.0\" stroke=\"#BFBFBF\" stroke-width=\"4\"></line><rect x=\"30.0\" y=\"107.5358619012886\" width=\"40\" height=\"7.464138098711402\" stroke=\"#3290CC\" stroke-width=\"4\" fill=\"#3FB5FF\"></rect><rect x=\"92.5\" y=\"107.60532805390574\" width=\"40\" height=\"7.394671946094263\" stroke=\"#3290CC\" stroke-width=\"4\" fill=\"#3FB5FF\"></rect><rect x=\"155.0\" y=\"111.60484179083741\" width=\"40\" height=\"3.395158209162588\" stroke=\"#3290CC\" stroke-width=\"4\" fill=\"#3FB5FF\"></rect><rect x=\"217.5\" y=\"112.18662081900594\" width=\"40\" height=\"2.813379180994062\" stroke=\"#3290CC\" stroke-width=\"4\" fill=\"#3FB5FF\"></rect><rect x=\"280.0\" y=\"15.0\" width=\"40\" height=\"100.0\" stroke=\"#3290CC\" stroke-width=\"4\" fill=\"#3FB5FF\"></rect><g class=\"y-axis-line\"><rect x=\"0\" y=\"0\" width=\"65\" height=\"130\" stroke=\"transparent\" stroke-width=\"0\" fill=\"transparent\"></rect><text x=\"0\" y=\"19.0\" fill=\"transparent\" stroke=\"transparent\" font-size=\"25\">57.6K</text><text x=\"0\" y=\"126.0\" fill=\"transparent\" stroke=\"transparent\" font-size=\"25\">0</text></g><g class=\"vert-line\"><rect x=\"40.0\" y=\"0\" width=\"20\" height=\"130\" stroke=\"transparent\" stroke-width=\"12\" fill=\"transparent\"></rect><text x=\"60.0\" y=\"20\" fill=\"transparent\" stroke=\"transparent\" font-size=\"30px\">4.30K</text></g><g class=\"vert-line\"><rect x=\"102.5\" y=\"0\" width=\"20\" height=\"130\" stroke=\"transparent\" stroke-width=\"12\" fill=\"transparent\"></rect><text x=\"122.5\" y=\"20\" fill=\"transparent\" stroke=\"transparent\" font-size=\"30px\">4.26K</text></g><g class=\"vert-line\"><rect x=\"165.0\" y=\"0\" width=\"20\" height=\"130\" stroke=\"transparent\" stroke-width=\"12\" fill=\"transparent\"></rect><text x=\"185.0\" y=\"20\" fill=\"transparent\" stroke=\"transparent\" font-size=\"30px\">1.96K</text></g><g class=\"vert-line\"><rect x=\"227.5\" y=\"0\" width=\"20\" height=\"130\" stroke=\"transparent\" stroke-width=\"12\" fill=\"transparent\"></rect><text x=\"247.5\" y=\"20\" fill=\"transparent\" stroke=\"transparent\" font-size=\"30px\">1.62K</text></g><g class=\"vert-line\"><rect x=\"290.0\" y=\"0\" width=\"20\" height=\"130\" stroke=\"transparent\" stroke-width=\"12\" fill=\"transparent\"></rect><text x=\"310.0\" y=\"20\" fill=\"transparent\" stroke=\"transparent\" font-size=\"30px\">57.6K</text></g></svg></div></td>\n",
       "</tr>\n",
       "<tr>\n",
       "  <th class=\"gt_row gt_left gt_stub\">Monthly_Income</th>\n",
       "  <td class=\"gt_row gt_center\">69713</td>\n",
       "  <td class=\"gt_row gt_right\">0.00%</td>\n",
       "  <td class=\"gt_row gt_right\">5,622.283</td>\n",
       "  <td class=\"gt_row gt_right\">174,767.062</td>\n",
       "  <td class=\"gt_row gt_right\">0.000</td>\n",
       "  <td class=\"gt_row gt_right\">1,650.000</td>\n",
       "  <td class=\"gt_row gt_right\">2,500.000</td>\n",
       "  <td class=\"gt_row gt_right\">4,000.000</td>\n",
       "  <td class=\"gt_row gt_right\">38,383,838.300</td>\n",
       "  <td class=\"gt_row gt_right\">2,350.000</td>\n",
       "  <td class=\"gt_row gt_center\">3920</td>\n",
       "  <td class=\"gt_row gt_center\"><div><svg role=\"img\" viewBox=\"0 0 400 130\" style=\"height: 2em; margin-left: auto; margin-right: auto; font-size: inherit; overflow: visible; vertical-align: middle; position:relative;\"><defs><pattern id=\"area_pattern\" width=\"8\" height=\"8\" patternUnits=\"userSpaceOnUse\"><path class=\"pattern-line\" d=\"M 0,8 l 8,-8 M -1,1 l 4,-4 M 6,10 l 4,-4\" stroke=\"#FF0000\" stroke-width=\"1.5\" stroke-linecap=\"round\" shape-rendering=\"geometricPrecision\"></path></pattern></defs><style> text { font-family: ui-monospace, 'Cascadia Code', 'Source Code Pro', Menlo, Consolas, 'DejaVu Sans Mono', monospace; stroke-width: 0.15em; paint-order: stroke; stroke-linejoin: round; cursor: default; } .vert-line:hover rect { fill: #911EB4; fill-opacity: 40%; stroke: #FFFFFF60; color: red; } .vert-line:hover text { stroke: white; fill: #212427; } .horizontal-line:hover text {stroke: white; fill: #212427; } .ref-line:hover rect { stroke: #FFFFFF60; } .ref-line:hover line { stroke: #FF0000; } .ref-line:hover text { stroke: white; fill: #212427; } .y-axis-line:hover rect { fill: #EDEDED; fill-opacity: 60%; stroke: #FFFFFF60; color: red; } .y-axis-line:hover text { stroke: white; stroke-width: 0.20em; fill: #1A1C1F; } </style><line x1=\"22.5\" y1=\"115.0\" x2=\"377.5\" y2=\"115.0\" stroke=\"#BFBFBF\" stroke-width=\"4\"></line><rect x=\"30.0\" y=\"15.0\" width=\"40\" height=\"100.0\" stroke=\"#3290CC\" stroke-width=\"4\" fill=\"#3FB5FF\"></rect><rect x=\"90.0\" y=\"114.99282629592963\" width=\"40\" height=\"0.007173704070368103\" stroke=\"#3290CC\" stroke-width=\"4\" fill=\"#3FB5FF\"></rect><rect x=\"150.0\" y=\"114.99569577755778\" width=\"40\" height=\"0.004304222442215178\" stroke=\"#3290CC\" stroke-width=\"4\" fill=\"#3FB5FF\"></rect><rect x=\"210.00000000000003\" y=\"114.99426103674371\" width=\"40\" height=\"0.00573896325629164\" stroke=\"#3290CC\" stroke-width=\"4\" fill=\"#3FB5FF\"></rect><rect x=\"270.0\" y=\"114.99856525918592\" width=\"40\" height=\"0.0014347408140764628\" stroke=\"#3290CC\" stroke-width=\"4\" fill=\"#3FB5FF\"></rect><rect x=\"330.0\" y=\"114.99856525918592\" width=\"40\" height=\"0.0014347408140764628\" stroke=\"#3290CC\" stroke-width=\"4\" fill=\"#3FB5FF\"></rect><g class=\"y-axis-line\"><rect x=\"0\" y=\"0\" width=\"65\" height=\"130\" stroke=\"transparent\" stroke-width=\"0\" fill=\"transparent\"></rect><text x=\"0\" y=\"19.0\" fill=\"transparent\" stroke=\"transparent\" font-size=\"25\">69.7K</text><text x=\"0\" y=\"126.0\" fill=\"transparent\" stroke=\"transparent\" font-size=\"25\">0</text></g><g class=\"vert-line\"><rect x=\"40.0\" y=\"0\" width=\"20\" height=\"130\" stroke=\"transparent\" stroke-width=\"12\" fill=\"transparent\"></rect><text x=\"60.0\" y=\"20\" fill=\"transparent\" stroke=\"transparent\" font-size=\"30px\">69.7K</text></g><g class=\"vert-line\"><rect x=\"100.0\" y=\"0\" width=\"20\" height=\"130\" stroke=\"transparent\" stroke-width=\"12\" fill=\"transparent\"></rect><text x=\"120.0\" y=\"20\" fill=\"transparent\" stroke=\"transparent\" font-size=\"30px\">5</text></g><g class=\"vert-line\"><rect x=\"160.0\" y=\"0\" width=\"20\" height=\"130\" stroke=\"transparent\" stroke-width=\"12\" fill=\"transparent\"></rect><text x=\"180.0\" y=\"20\" fill=\"transparent\" stroke=\"transparent\" font-size=\"30px\">3</text></g><g class=\"vert-line\"><rect x=\"220.00000000000003\" y=\"0\" width=\"20\" height=\"130\" stroke=\"transparent\" stroke-width=\"12\" fill=\"transparent\"></rect><text x=\"240.00000000000003\" y=\"20\" fill=\"transparent\" stroke=\"transparent\" font-size=\"30px\">4</text></g><g class=\"vert-line\"><rect x=\"280.0\" y=\"0\" width=\"20\" height=\"130\" stroke=\"transparent\" stroke-width=\"12\" fill=\"transparent\"></rect><text x=\"300.0\" y=\"20\" fill=\"transparent\" stroke=\"transparent\" font-size=\"30px\">1</text></g><g class=\"vert-line\"><rect x=\"340.0\" y=\"0\" width=\"20\" height=\"130\" stroke=\"transparent\" stroke-width=\"12\" fill=\"transparent\"></rect><text x=\"360.0\" y=\"20\" fill=\"transparent\" stroke=\"transparent\" font-size=\"30px\">1</text></g></svg></div></td>\n",
       "</tr>\n",
       "<tr>\n",
       "  <th class=\"gt_row gt_left gt_stub\">Existing_EMI</th>\n",
       "  <td class=\"gt_row gt_center\">69662</td>\n",
       "  <td class=\"gt_row gt_right\">0.07%</td>\n",
       "  <td class=\"gt_row gt_right\">360.929</td>\n",
       "  <td class=\"gt_row gt_right\">2,288.518</td>\n",
       "  <td class=\"gt_row gt_right\">0.000</td>\n",
       "  <td class=\"gt_row gt_right\">0.000</td>\n",
       "  <td class=\"gt_row gt_right\">0.000</td>\n",
       "  <td class=\"gt_row gt_right\">350.000</td>\n",
       "  <td class=\"gt_row gt_right\">545,436.500</td>\n",
       "  <td class=\"gt_row gt_right\">350.000</td>\n",
       "  <td class=\"gt_row gt_center\">6549</td>\n",
       "  <td class=\"gt_row gt_center\"><div><svg role=\"img\" viewBox=\"0 0 300 130\" style=\"height: 2em; margin-left: auto; margin-right: auto; font-size: inherit; overflow: visible; vertical-align: middle; position:relative;\"><defs><pattern id=\"area_pattern\" width=\"8\" height=\"8\" patternUnits=\"userSpaceOnUse\"><path class=\"pattern-line\" d=\"M 0,8 l 8,-8 M -1,1 l 4,-4 M 6,10 l 4,-4\" stroke=\"#FF0000\" stroke-width=\"1.5\" stroke-linecap=\"round\" shape-rendering=\"geometricPrecision\"></path></pattern></defs><style> text { font-family: ui-monospace, 'Cascadia Code', 'Source Code Pro', Menlo, Consolas, 'DejaVu Sans Mono', monospace; stroke-width: 0.15em; paint-order: stroke; stroke-linejoin: round; cursor: default; } .vert-line:hover rect { fill: #911EB4; fill-opacity: 40%; stroke: #FFFFFF60; color: red; } .vert-line:hover text { stroke: white; fill: #212427; } .horizontal-line:hover text {stroke: white; fill: #212427; } .ref-line:hover rect { stroke: #FFFFFF60; } .ref-line:hover line { stroke: #FF0000; } .ref-line:hover text { stroke: white; fill: #212427; } .y-axis-line:hover rect { fill: #EDEDED; fill-opacity: 60%; stroke: #FFFFFF60; color: red; } .y-axis-line:hover text { stroke: white; stroke-width: 0.20em; fill: #1A1C1F; } </style><line x1=\"22.5\" y1=\"115.0\" x2=\"277.5\" y2=\"115.0\" stroke=\"#BFBFBF\" stroke-width=\"4\"></line><rect x=\"30.0\" y=\"15.0\" width=\"40\" height=\"100.0\" stroke=\"#3290CC\" stroke-width=\"4\" fill=\"#3FB5FF\"></rect><rect x=\"96.66666666666666\" y=\"114.99282176441031\" width=\"40\" height=\"0.00717823558969144\" stroke=\"#3290CC\" stroke-width=\"4\" fill=\"#3FB5FF\"></rect><rect x=\"163.33333333333331\" y=\"114.99856435288206\" width=\"40\" height=\"0.0014356471179439723\" stroke=\"#3290CC\" stroke-width=\"4\" fill=\"#3FB5FF\"></rect><rect x=\"230.0\" y=\"114.99856435288206\" width=\"40\" height=\"0.0014356471179439723\" stroke=\"#3290CC\" stroke-width=\"4\" fill=\"#3FB5FF\"></rect><g class=\"y-axis-line\"><rect x=\"0\" y=\"0\" width=\"65\" height=\"130\" stroke=\"transparent\" stroke-width=\"0\" fill=\"transparent\"></rect><text x=\"0\" y=\"19.0\" fill=\"transparent\" stroke=\"transparent\" font-size=\"25\">69.7K</text><text x=\"0\" y=\"126.0\" fill=\"transparent\" stroke=\"transparent\" font-size=\"25\">0</text></g><g class=\"vert-line\"><rect x=\"40.0\" y=\"0\" width=\"20\" height=\"130\" stroke=\"transparent\" stroke-width=\"12\" fill=\"transparent\"></rect><text x=\"60.0\" y=\"20\" fill=\"transparent\" stroke=\"transparent\" font-size=\"30px\">69.7K</text></g><g class=\"vert-line\"><rect x=\"106.66666666666666\" y=\"0\" width=\"20\" height=\"130\" stroke=\"transparent\" stroke-width=\"12\" fill=\"transparent\"></rect><text x=\"126.66666666666666\" y=\"20\" fill=\"transparent\" stroke=\"transparent\" font-size=\"30px\">5</text></g><g class=\"vert-line\"><rect x=\"173.33333333333331\" y=\"0\" width=\"20\" height=\"130\" stroke=\"transparent\" stroke-width=\"12\" fill=\"transparent\"></rect><text x=\"193.33333333333331\" y=\"20\" fill=\"transparent\" stroke=\"transparent\" font-size=\"30px\">1</text></g><g class=\"vert-line\"><rect x=\"240.0\" y=\"0\" width=\"20\" height=\"130\" stroke=\"transparent\" stroke-width=\"12\" fill=\"transparent\"></rect><text x=\"260.0\" y=\"20\" fill=\"transparent\" stroke=\"transparent\" font-size=\"30px\">1</text></g></svg></div></td>\n",
       "</tr>\n",
       "<tr>\n",
       "  <th class=\"gt_row gt_left gt_stub\">Loan_Amount</th>\n",
       "  <td class=\"gt_row gt_center\">42004</td>\n",
       "  <td class=\"gt_row gt_right\">39.75%</td>\n",
       "  <td class=\"gt_row gt_right\">39,429.983</td>\n",
       "  <td class=\"gt_row gt_right\">30,727.596</td>\n",
       "  <td class=\"gt_row gt_right\">5,000.000</td>\n",
       "  <td class=\"gt_row gt_right\">20,000.000</td>\n",
       "  <td class=\"gt_row gt_right\">30,000.000</td>\n",
       "  <td class=\"gt_row gt_right\">50,000.000</td>\n",
       "  <td class=\"gt_row gt_right\">300,000.000</td>\n",
       "  <td class=\"gt_row gt_right\">30,000.000</td>\n",
       "  <td class=\"gt_row gt_center\">1547</td>\n",
       "  <td class=\"gt_row gt_center\"><div><svg role=\"img\" viewBox=\"0 0 1100 130\" style=\"height: 2em; margin-left: auto; margin-right: auto; font-size: inherit; overflow: visible; vertical-align: middle; position:relative;\"><defs><pattern id=\"area_pattern\" width=\"8\" height=\"8\" patternUnits=\"userSpaceOnUse\"><path class=\"pattern-line\" d=\"M 0,8 l 8,-8 M -1,1 l 4,-4 M 6,10 l 4,-4\" stroke=\"#FF0000\" stroke-width=\"1.5\" stroke-linecap=\"round\" shape-rendering=\"geometricPrecision\"></path></pattern></defs><style> text { font-family: ui-monospace, 'Cascadia Code', 'Source Code Pro', Menlo, Consolas, 'DejaVu Sans Mono', monospace; stroke-width: 0.15em; paint-order: stroke; stroke-linejoin: round; cursor: default; } .vert-line:hover rect { fill: #911EB4; fill-opacity: 40%; stroke: #FFFFFF60; color: red; } .vert-line:hover text { stroke: white; fill: #212427; } .horizontal-line:hover text {stroke: white; fill: #212427; } .ref-line:hover rect { stroke: #FFFFFF60; } .ref-line:hover line { stroke: #FF0000; } .ref-line:hover text { stroke: white; fill: #212427; } .y-axis-line:hover rect { fill: #EDEDED; fill-opacity: 60%; stroke: #FFFFFF60; color: red; } .y-axis-line:hover text { stroke: white; stroke-width: 0.20em; fill: #1A1C1F; } </style><line x1=\"22.5\" y1=\"115.0\" x2=\"1077.5\" y2=\"115.0\" stroke=\"#BFBFBF\" stroke-width=\"4\"></line><rect x=\"30.0\" y=\"15.0\" width=\"40\" height=\"100.0\" stroke=\"#3290CC\" stroke-width=\"4\" fill=\"#3FB5FF\"></rect><rect x=\"82.63157894736841\" y=\"83.79714172290592\" width=\"40\" height=\"31.20285827709408\" stroke=\"#3290CC\" stroke-width=\"4\" fill=\"#3FB5FF\"></rect><rect x=\"135.26315789473682\" y=\"60.79739434840665\" width=\"40\" height=\"54.20260565159335\" stroke=\"#3290CC\" stroke-width=\"4\" fill=\"#3FB5FF\"></rect><rect x=\"187.89473684210526\" y=\"91.83063264643258\" width=\"40\" height=\"23.169367353567424\" stroke=\"#3290CC\" stroke-width=\"4\" fill=\"#3FB5FF\"></rect><rect x=\"240.52631578947364\" y=\"93.41134649391894\" width=\"40\" height=\"21.58865350608106\" stroke=\"#3290CC\" stroke-width=\"4\" fill=\"#3FB5FF\"></rect><rect x=\"293.1578947368421\" y=\"109.18961348298387\" width=\"40\" height=\"5.810386517016127\" stroke=\"#3290CC\" stroke-width=\"4\" fill=\"#3FB5FF\"></rect><rect x=\"345.7894736842105\" y=\"111.27918726767476\" width=\"40\" height=\"3.7208127323252427\" stroke=\"#3290CC\" stroke-width=\"4\" fill=\"#3FB5FF\"></rect><rect x=\"398.4210526315789\" y=\"108.80706629614927\" width=\"40\" height=\"6.192933703850727\" stroke=\"#3290CC\" stroke-width=\"4\" fill=\"#3FB5FF\"></rect><rect x=\"451.05263157894734\" y=\"112.87794579378541\" width=\"40\" height=\"2.1220542062145853\" stroke=\"#3290CC\" stroke-width=\"4\" fill=\"#3FB5FF\"></rect><rect x=\"503.68421052631584\" y=\"114.44061496264752\" width=\"40\" height=\"0.5593850373524845\" stroke=\"#3290CC\" stroke-width=\"4\" fill=\"#3FB5FF\"></rect><rect x=\"556.3157894736842\" y=\"112.73719730051607\" width=\"40\" height=\"2.2628026994839274\" stroke=\"#3290CC\" stroke-width=\"4\" fill=\"#3FB5FF\"></rect><rect x=\"608.9473684210526\" y=\"114.90616767115378\" width=\"40\" height=\"0.09383232884621862\" stroke=\"#3290CC\" stroke-width=\"4\" fill=\"#3FB5FF\"></rect><rect x=\"661.578947368421\" y=\"114.78707279223357\" width=\"40\" height=\"0.21292720776642682\" stroke=\"#3290CC\" stroke-width=\"4\" fill=\"#3FB5FF\"></rect><rect x=\"714.2105263157894\" y=\"114.97112851420115\" width=\"40\" height=\"0.028871485798845242\" stroke=\"#3290CC\" stroke-width=\"4\" fill=\"#3FB5FF\"></rect><rect x=\"766.8421052631578\" y=\"114.79429066368328\" width=\"40\" height=\"0.2057093363167155\" stroke=\"#3290CC\" stroke-width=\"4\" fill=\"#3FB5FF\"></rect><rect x=\"819.4736842105264\" y=\"114.99278212855029\" width=\"40\" height=\"0.0072178714497113106\" stroke=\"#3290CC\" stroke-width=\"4\" fill=\"#3FB5FF\"></rect><rect x=\"872.1052631578947\" y=\"114.9675195784763\" width=\"40\" height=\"0.0324804215237009\" stroke=\"#3290CC\" stroke-width=\"4\" fill=\"#3FB5FF\"></rect><rect x=\"924.736842105263\" y=\"114.84481576383125\" width=\"40\" height=\"0.15518423616875054\" stroke=\"#3290CC\" stroke-width=\"4\" fill=\"#3FB5FF\"></rect><rect x=\"977.3684210526316\" y=\"114.99278212855029\" width=\"40\" height=\"0.0072178714497113106\" stroke=\"#3290CC\" stroke-width=\"4\" fill=\"#3FB5FF\"></rect><rect x=\"1030.0\" y=\"114.98556425710058\" width=\"40\" height=\"0.014435742899422621\" stroke=\"#3290CC\" stroke-width=\"4\" fill=\"#3FB5FF\"></rect><g class=\"y-axis-line\"><rect x=\"0\" y=\"0\" width=\"65\" height=\"130\" stroke=\"transparent\" stroke-width=\"0\" fill=\"transparent\"></rect><text x=\"0\" y=\"19.0\" fill=\"transparent\" stroke=\"transparent\" font-size=\"25\">27.7K</text><text x=\"0\" y=\"126.0\" fill=\"transparent\" stroke=\"transparent\" font-size=\"25\">0</text></g><g class=\"vert-line\"><rect x=\"40.0\" y=\"0\" width=\"20\" height=\"130\" stroke=\"transparent\" stroke-width=\"12\" fill=\"transparent\"></rect><text x=\"60.0\" y=\"20\" fill=\"transparent\" stroke=\"transparent\" font-size=\"30px\">27.7K</text></g><g class=\"vert-line\"><rect x=\"92.63157894736841\" y=\"0\" width=\"20\" height=\"130\" stroke=\"transparent\" stroke-width=\"12\" fill=\"transparent\"></rect><text x=\"112.63157894736841\" y=\"20\" fill=\"transparent\" stroke=\"transparent\" font-size=\"30px\">8.65K</text></g><g class=\"vert-line\"><rect x=\"145.26315789473682\" y=\"0\" width=\"20\" height=\"130\" stroke=\"transparent\" stroke-width=\"12\" fill=\"transparent\"></rect><text x=\"165.26315789473682\" y=\"20\" fill=\"transparent\" stroke=\"transparent\" font-size=\"30px\">15.0K</text></g><g class=\"vert-line\"><rect x=\"197.89473684210526\" y=\"0\" width=\"20\" height=\"130\" stroke=\"transparent\" stroke-width=\"12\" fill=\"transparent\"></rect><text x=\"217.89473684210526\" y=\"20\" fill=\"transparent\" stroke=\"transparent\" font-size=\"30px\">6.42K</text></g><g class=\"vert-line\"><rect x=\"250.52631578947364\" y=\"0\" width=\"20\" height=\"130\" stroke=\"transparent\" stroke-width=\"12\" fill=\"transparent\"></rect><text x=\"270.52631578947364\" y=\"20\" fill=\"transparent\" stroke=\"transparent\" font-size=\"30px\">5.98K</text></g><g class=\"vert-line\"><rect x=\"303.1578947368421\" y=\"0\" width=\"20\" height=\"130\" stroke=\"transparent\" stroke-width=\"12\" fill=\"transparent\"></rect><text x=\"323.1578947368421\" y=\"20\" fill=\"transparent\" stroke=\"transparent\" font-size=\"30px\">1.61K</text></g><g class=\"vert-line\"><rect x=\"355.7894736842105\" y=\"0\" width=\"20\" height=\"130\" stroke=\"transparent\" stroke-width=\"12\" fill=\"transparent\"></rect><text x=\"375.7894736842105\" y=\"20\" fill=\"transparent\" stroke=\"transparent\" font-size=\"30px\">1.03K</text></g><g class=\"vert-line\"><rect x=\"408.4210526315789\" y=\"0\" width=\"20\" height=\"130\" stroke=\"transparent\" stroke-width=\"12\" fill=\"transparent\"></rect><text x=\"428.4210526315789\" y=\"20\" fill=\"transparent\" stroke=\"transparent\" font-size=\"30px\">1.72K</text></g><g class=\"vert-line\"><rect x=\"461.05263157894734\" y=\"0\" width=\"20\" height=\"130\" stroke=\"transparent\" stroke-width=\"12\" fill=\"transparent\"></rect><text x=\"481.05263157894734\" y=\"20\" fill=\"transparent\" stroke=\"transparent\" font-size=\"30px\">588</text></g><g class=\"vert-line\"><rect x=\"513.6842105263158\" y=\"0\" width=\"20\" height=\"130\" stroke=\"transparent\" stroke-width=\"12\" fill=\"transparent\"></rect><text x=\"533.6842105263158\" y=\"20\" fill=\"transparent\" stroke=\"transparent\" font-size=\"30px\">155</text></g><g class=\"vert-line\"><rect x=\"566.3157894736842\" y=\"0\" width=\"20\" height=\"130\" stroke=\"transparent\" stroke-width=\"12\" fill=\"transparent\"></rect><text x=\"586.3157894736842\" y=\"20\" fill=\"transparent\" stroke=\"transparent\" font-size=\"30px\">627</text></g><g class=\"vert-line\"><rect x=\"618.9473684210526\" y=\"0\" width=\"20\" height=\"130\" stroke=\"transparent\" stroke-width=\"12\" fill=\"transparent\"></rect><text x=\"638.9473684210526\" y=\"20\" fill=\"transparent\" stroke=\"transparent\" font-size=\"30px\">26</text></g><g class=\"vert-line\"><rect x=\"671.578947368421\" y=\"0\" width=\"20\" height=\"130\" stroke=\"transparent\" stroke-width=\"12\" fill=\"transparent\"></rect><text x=\"691.578947368421\" y=\"20\" fill=\"transparent\" stroke=\"transparent\" font-size=\"30px\">59</text></g><g class=\"vert-line\"><rect x=\"724.2105263157894\" y=\"0\" width=\"20\" height=\"130\" stroke=\"transparent\" stroke-width=\"12\" fill=\"transparent\"></rect><text x=\"744.2105263157894\" y=\"20\" fill=\"transparent\" stroke=\"transparent\" font-size=\"30px\">8</text></g><g class=\"vert-line\"><rect x=\"776.8421052631578\" y=\"0\" width=\"20\" height=\"130\" stroke=\"transparent\" stroke-width=\"12\" fill=\"transparent\"></rect><text x=\"796.8421052631578\" y=\"20\" fill=\"transparent\" stroke=\"transparent\" font-size=\"30px\">57</text></g><g class=\"vert-line\"><rect x=\"829.4736842105264\" y=\"0\" width=\"20\" height=\"130\" stroke=\"transparent\" stroke-width=\"12\" fill=\"transparent\"></rect><text x=\"849.4736842105264\" y=\"20\" fill=\"transparent\" stroke=\"transparent\" font-size=\"30px\">2</text></g><g class=\"vert-line\"><rect x=\"882.1052631578947\" y=\"0\" width=\"20\" height=\"130\" stroke=\"transparent\" stroke-width=\"12\" fill=\"transparent\"></rect><text x=\"902.1052631578947\" y=\"20\" fill=\"transparent\" stroke=\"transparent\" font-size=\"30px\">9</text></g><g class=\"vert-line\"><rect x=\"934.736842105263\" y=\"0\" width=\"20\" height=\"130\" stroke=\"transparent\" stroke-width=\"12\" fill=\"transparent\"></rect><text x=\"954.736842105263\" y=\"20\" fill=\"transparent\" stroke=\"transparent\" font-size=\"30px\">43</text></g><g class=\"vert-line\"><rect x=\"987.3684210526316\" y=\"0\" width=\"20\" height=\"130\" stroke=\"transparent\" stroke-width=\"12\" fill=\"transparent\"></rect><text x=\"1007.3684210526316\" y=\"20\" fill=\"transparent\" stroke=\"transparent\" font-size=\"30px\">2</text></g><g class=\"vert-line\"><rect x=\"1040.0\" y=\"0\" width=\"20\" height=\"130\" stroke=\"transparent\" stroke-width=\"12\" fill=\"transparent\"></rect><text x=\"1060.0\" y=\"20\" fill=\"transparent\" stroke=\"transparent\" font-size=\"30px\">4</text></g></svg></div></td>\n",
       "</tr>\n",
       "<tr>\n",
       "  <th class=\"gt_row gt_left gt_stub\">Loan_Period</th>\n",
       "  <td class=\"gt_row gt_center\">42004</td>\n",
       "  <td class=\"gt_row gt_right\">39.75%</td>\n",
       "  <td class=\"gt_row gt_right\">3.891</td>\n",
       "  <td class=\"gt_row gt_right\">1.167</td>\n",
       "  <td class=\"gt_row gt_right\">1.000</td>\n",
       "  <td class=\"gt_row gt_right\">3.000</td>\n",
       "  <td class=\"gt_row gt_right\">4.000</td>\n",
       "  <td class=\"gt_row gt_right\">5.000</td>\n",
       "  <td class=\"gt_row gt_right\">6.000</td>\n",
       "  <td class=\"gt_row gt_right\">2.000</td>\n",
       "  <td class=\"gt_row gt_center\">0</td>\n",
       "  <td class=\"gt_row gt_center\"><div><svg role=\"img\" viewBox=\"0 0 450 130\" style=\"height: 2em; margin-left: auto; margin-right: auto; font-size: inherit; overflow: visible; vertical-align: middle; position:relative;\"><defs><pattern id=\"area_pattern\" width=\"8\" height=\"8\" patternUnits=\"userSpaceOnUse\"><path class=\"pattern-line\" d=\"M 0,8 l 8,-8 M -1,1 l 4,-4 M 6,10 l 4,-4\" stroke=\"#FF0000\" stroke-width=\"1.5\" stroke-linecap=\"round\" shape-rendering=\"geometricPrecision\"></path></pattern></defs><style> text { font-family: ui-monospace, 'Cascadia Code', 'Source Code Pro', Menlo, Consolas, 'DejaVu Sans Mono', monospace; stroke-width: 0.15em; paint-order: stroke; stroke-linejoin: round; cursor: default; } .vert-line:hover rect { fill: #911EB4; fill-opacity: 40%; stroke: #FFFFFF60; color: red; } .vert-line:hover text { stroke: white; fill: #212427; } .horizontal-line:hover text {stroke: white; fill: #212427; } .ref-line:hover rect { stroke: #FFFFFF60; } .ref-line:hover line { stroke: #FF0000; } .ref-line:hover text { stroke: white; fill: #212427; } .y-axis-line:hover rect { fill: #EDEDED; fill-opacity: 60%; stroke: #FFFFFF60; color: red; } .y-axis-line:hover text { stroke: white; stroke-width: 0.20em; fill: #1A1C1F; } </style><line x1=\"22.5\" y1=\"115.0\" x2=\"427.5\" y2=\"115.0\" stroke=\"#BFBFBF\" stroke-width=\"4\"></line><rect x=\"30.0\" y=\"15.0\" width=\"40\" height=\"100.0\" stroke=\"#3290CC\" stroke-width=\"4\" fill=\"#3FB5FF\"></rect><rect x=\"88.33333333333333\" y=\"108.19354722292395\" width=\"40\" height=\"6.806452777076046\" stroke=\"#3290CC\" stroke-width=\"4\" fill=\"#3FB5FF\"></rect><rect x=\"146.66666666666666\" y=\"99.60428019776968\" width=\"40\" height=\"15.395719802230317\" stroke=\"#3290CC\" stroke-width=\"4\" fill=\"#3FB5FF\"></rect><rect x=\"205.0\" y=\"89.52452271825038\" width=\"40\" height=\"25.47547728174962\" stroke=\"#3290CC\" stroke-width=\"4\" fill=\"#3FB5FF\"></rect><rect x=\"263.3333333333333\" y=\"71.1911292359883\" width=\"40\" height=\"43.8088707640117\" stroke=\"#3290CC\" stroke-width=\"4\" fill=\"#3FB5FF\"></rect><rect x=\"321.66666666666663\" y=\"54.900393373994014\" width=\"40\" height=\"60.099606626005986\" stroke=\"#3290CC\" stroke-width=\"4\" fill=\"#3FB5FF\"></rect><rect x=\"380.0\" y=\"114.99639106427514\" width=\"40\" height=\"0.0036089357248556553\" stroke=\"#3290CC\" stroke-width=\"4\" fill=\"#3FB5FF\"></rect><g class=\"y-axis-line\"><rect x=\"0\" y=\"0\" width=\"65\" height=\"130\" stroke=\"transparent\" stroke-width=\"0\" fill=\"transparent\"></rect><text x=\"0\" y=\"19.0\" fill=\"transparent\" stroke=\"transparent\" font-size=\"25\">27.7K</text><text x=\"0\" y=\"126.0\" fill=\"transparent\" stroke=\"transparent\" font-size=\"25\">0</text></g><g class=\"vert-line\"><rect x=\"40.0\" y=\"0\" width=\"20\" height=\"130\" stroke=\"transparent\" stroke-width=\"12\" fill=\"transparent\"></rect><text x=\"60.0\" y=\"20\" fill=\"transparent\" stroke=\"transparent\" font-size=\"30px\">27.7K</text></g><g class=\"vert-line\"><rect x=\"98.33333333333333\" y=\"0\" width=\"20\" height=\"130\" stroke=\"transparent\" stroke-width=\"12\" fill=\"transparent\"></rect><text x=\"118.33333333333333\" y=\"20\" fill=\"transparent\" stroke=\"transparent\" font-size=\"30px\">1.89K</text></g><g class=\"vert-line\"><rect x=\"156.66666666666666\" y=\"0\" width=\"20\" height=\"130\" stroke=\"transparent\" stroke-width=\"12\" fill=\"transparent\"></rect><text x=\"176.66666666666666\" y=\"20\" fill=\"transparent\" stroke=\"transparent\" font-size=\"30px\">4.27K</text></g><g class=\"vert-line\"><rect x=\"215.0\" y=\"0\" width=\"20\" height=\"130\" stroke=\"transparent\" stroke-width=\"12\" fill=\"transparent\"></rect><text x=\"235.0\" y=\"20\" fill=\"transparent\" stroke=\"transparent\" font-size=\"30px\">7.06K</text></g><g class=\"vert-line\"><rect x=\"273.3333333333333\" y=\"0\" width=\"20\" height=\"130\" stroke=\"transparent\" stroke-width=\"12\" fill=\"transparent\"></rect><text x=\"293.3333333333333\" y=\"20\" fill=\"transparent\" stroke=\"transparent\" font-size=\"30px\">12.1K</text></g><g class=\"vert-line\"><rect x=\"331.66666666666663\" y=\"0\" width=\"20\" height=\"130\" stroke=\"transparent\" stroke-width=\"12\" fill=\"transparent\"></rect><text x=\"351.66666666666663\" y=\"20\" fill=\"transparent\" stroke=\"transparent\" font-size=\"30px\">16.7K</text></g><g class=\"vert-line\"><rect x=\"390.0\" y=\"0\" width=\"20\" height=\"130\" stroke=\"transparent\" stroke-width=\"12\" fill=\"transparent\"></rect><text x=\"410.0\" y=\"20\" fill=\"transparent\" stroke=\"transparent\" font-size=\"30px\">1</text></g></svg></div></td>\n",
       "</tr>\n",
       "<tr>\n",
       "  <th class=\"gt_row gt_left gt_stub\">Interest_Rate</th>\n",
       "  <td class=\"gt_row gt_center\">22276</td>\n",
       "  <td class=\"gt_row gt_right\">68.05%</td>\n",
       "  <td class=\"gt_row gt_right\">19.214</td>\n",
       "  <td class=\"gt_row gt_right\">5.847</td>\n",
       "  <td class=\"gt_row gt_right\">11.990</td>\n",
       "  <td class=\"gt_row gt_right\">15.250</td>\n",
       "  <td class=\"gt_row gt_right\">18.000</td>\n",
       "  <td class=\"gt_row gt_right\">20.000</td>\n",
       "  <td class=\"gt_row gt_right\">37.000</td>\n",
       "  <td class=\"gt_row gt_right\">4.750</td>\n",
       "  <td class=\"gt_row gt_center\">2378</td>\n",
       "  <td class=\"gt_row gt_center\"><div><svg role=\"img\" viewBox=\"0 0 1050 130\" style=\"height: 2em; margin-left: auto; margin-right: auto; font-size: inherit; overflow: visible; vertical-align: middle; position:relative;\"><defs><pattern id=\"area_pattern\" width=\"8\" height=\"8\" patternUnits=\"userSpaceOnUse\"><path class=\"pattern-line\" d=\"M 0,8 l 8,-8 M -1,1 l 4,-4 M 6,10 l 4,-4\" stroke=\"#FF0000\" stroke-width=\"1.5\" stroke-linecap=\"round\" shape-rendering=\"geometricPrecision\"></path></pattern></defs><style> text { font-family: ui-monospace, 'Cascadia Code', 'Source Code Pro', Menlo, Consolas, 'DejaVu Sans Mono', monospace; stroke-width: 0.15em; paint-order: stroke; stroke-linejoin: round; cursor: default; } .vert-line:hover rect { fill: #911EB4; fill-opacity: 40%; stroke: #FFFFFF60; color: red; } .vert-line:hover text { stroke: white; fill: #212427; } .horizontal-line:hover text {stroke: white; fill: #212427; } .ref-line:hover rect { stroke: #FFFFFF60; } .ref-line:hover line { stroke: #FF0000; } .ref-line:hover text { stroke: white; fill: #212427; } .y-axis-line:hover rect { fill: #EDEDED; fill-opacity: 60%; stroke: #FFFFFF60; color: red; } .y-axis-line:hover text { stroke: white; stroke-width: 0.20em; fill: #1A1C1F; } </style><line x1=\"22.5\" y1=\"115.0\" x2=\"1027.5\" y2=\"115.0\" stroke=\"#BFBFBF\" stroke-width=\"4\"></line><rect x=\"30.0\" y=\"97.59072117593018\" width=\"40\" height=\"17.409278824069816\" stroke=\"#3290CC\" stroke-width=\"4\" fill=\"#3FB5FF\"></rect><rect x=\"82.77777777777777\" y=\"51.79375287092329\" width=\"40\" height=\"63.20624712907671\" stroke=\"#3290CC\" stroke-width=\"4\" fill=\"#3FB5FF\"></rect><rect x=\"135.55555555555554\" y=\"15.0\" width=\"40\" height=\"100.0\" stroke=\"#3290CC\" stroke-width=\"4\" fill=\"#3FB5FF\"></rect><rect x=\"188.33333333333331\" y=\"58.98254478640331\" width=\"40\" height=\"56.01745521359669\" stroke=\"#3290CC\" stroke-width=\"4\" fill=\"#3FB5FF\"></rect><rect x=\"241.1111111111111\" y=\"81.92696371152962\" width=\"40\" height=\"33.07303628847038\" stroke=\"#3290CC\" stroke-width=\"4\" fill=\"#3FB5FF\"></rect><rect x=\"293.8888888888889\" y=\"58.84474046853468\" width=\"40\" height=\"56.15525953146532\" stroke=\"#3290CC\" stroke-width=\"4\" fill=\"#3FB5FF\"></rect><rect x=\"346.66666666666663\" y=\"23.819476343592104\" width=\"40\" height=\"91.1805236564079\" stroke=\"#3290CC\" stroke-width=\"4\" fill=\"#3FB5FF\"></rect><rect x=\"399.4444444444444\" y=\"114.65548920532842\" width=\"40\" height=\"0.34451079467157797\" stroke=\"#3290CC\" stroke-width=\"4\" fill=\"#3FB5FF\"></rect><rect x=\"452.2222222222222\" y=\"113.43821773082223\" width=\"40\" height=\"1.561782269177769\" stroke=\"#3290CC\" stroke-width=\"4\" fill=\"#3FB5FF\"></rect><rect x=\"505.0\" y=\"101.54111162149746\" width=\"40\" height=\"13.458888378502536\" stroke=\"#3290CC\" stroke-width=\"4\" fill=\"#3FB5FF\"></rect><rect x=\"557.7777777777778\" y=\"113.69085898024805\" width=\"40\" height=\"1.309141019751948\" stroke=\"#3290CC\" stroke-width=\"4\" fill=\"#3FB5FF\"></rect><rect x=\"610.5555555555555\" y=\"114.72439136426274\" width=\"40\" height=\"0.2756086357372567\" stroke=\"#3290CC\" stroke-width=\"4\" fill=\"#3FB5FF\"></rect><rect x=\"663.3333333333333\" y=\"110.77400091869546\" width=\"40\" height=\"4.225999081304536\" stroke=\"#3290CC\" stroke-width=\"4\" fill=\"#3FB5FF\"></rect><rect x=\"716.1111111111111\" y=\"96.69499310978411\" width=\"40\" height=\"18.305006890215893\" stroke=\"#3290CC\" stroke-width=\"4\" fill=\"#3FB5FF\"></rect><rect x=\"768.8888888888888\" y=\"114.26504363803399\" width=\"40\" height=\"0.7349563619660131\" stroke=\"#3290CC\" stroke-width=\"4\" fill=\"#3FB5FF\"></rect><rect x=\"821.6666666666666\" y=\"82.15663757464401\" width=\"40\" height=\"32.84336242535599\" stroke=\"#3290CC\" stroke-width=\"4\" fill=\"#3FB5FF\"></rect><rect x=\"874.4444444444443\" y=\"108.33945796968305\" width=\"40\" height=\"6.660542030316947\" stroke=\"#3290CC\" stroke-width=\"4\" fill=\"#3FB5FF\"></rect><rect x=\"927.2222222222222\" y=\"105.65227377124484\" width=\"40\" height=\"9.347726228755164\" stroke=\"#3290CC\" stroke-width=\"4\" fill=\"#3FB5FF\"></rect><rect x=\"980.0\" y=\"109.48782728525494\" width=\"40\" height=\"5.512172714745063\" stroke=\"#3290CC\" stroke-width=\"4\" fill=\"#3FB5FF\"></rect><g class=\"y-axis-line\"><rect x=\"0\" y=\"0\" width=\"65\" height=\"130\" stroke=\"transparent\" stroke-width=\"0\" fill=\"transparent\"></rect><text x=\"0\" y=\"19.0\" fill=\"transparent\" stroke=\"transparent\" font-size=\"25\">4.35K</text><text x=\"0\" y=\"126.0\" fill=\"transparent\" stroke=\"transparent\" font-size=\"25\">0</text></g><g class=\"vert-line\"><rect x=\"40.0\" y=\"0\" width=\"20\" height=\"130\" stroke=\"transparent\" stroke-width=\"12\" fill=\"transparent\"></rect><text x=\"60.0\" y=\"20\" fill=\"transparent\" stroke=\"transparent\" font-size=\"30px\">758</text></g><g class=\"vert-line\"><rect x=\"92.77777777777777\" y=\"0\" width=\"20\" height=\"130\" stroke=\"transparent\" stroke-width=\"12\" fill=\"transparent\"></rect><text x=\"112.77777777777777\" y=\"20\" fill=\"transparent\" stroke=\"transparent\" font-size=\"30px\">2.75K</text></g><g class=\"vert-line\"><rect x=\"145.55555555555554\" y=\"0\" width=\"20\" height=\"130\" stroke=\"transparent\" stroke-width=\"12\" fill=\"transparent\"></rect><text x=\"165.55555555555554\" y=\"20\" fill=\"transparent\" stroke=\"transparent\" font-size=\"30px\">4.35K</text></g><g class=\"vert-line\"><rect x=\"198.33333333333331\" y=\"0\" width=\"20\" height=\"130\" stroke=\"transparent\" stroke-width=\"12\" fill=\"transparent\"></rect><text x=\"218.33333333333331\" y=\"20\" fill=\"transparent\" stroke=\"transparent\" font-size=\"30px\">2.44K</text></g><g class=\"vert-line\"><rect x=\"251.1111111111111\" y=\"0\" width=\"20\" height=\"130\" stroke=\"transparent\" stroke-width=\"12\" fill=\"transparent\"></rect><text x=\"271.1111111111111\" y=\"20\" fill=\"transparent\" stroke=\"transparent\" font-size=\"30px\">1.44K</text></g><g class=\"vert-line\"><rect x=\"303.8888888888889\" y=\"0\" width=\"20\" height=\"130\" stroke=\"transparent\" stroke-width=\"12\" fill=\"transparent\"></rect><text x=\"323.8888888888889\" y=\"20\" fill=\"transparent\" stroke=\"transparent\" font-size=\"30px\">2.44K</text></g><g class=\"vert-line\"><rect x=\"356.66666666666663\" y=\"0\" width=\"20\" height=\"130\" stroke=\"transparent\" stroke-width=\"12\" fill=\"transparent\"></rect><text x=\"376.66666666666663\" y=\"20\" fill=\"transparent\" stroke=\"transparent\" font-size=\"30px\">3.97K</text></g><g class=\"vert-line\"><rect x=\"409.4444444444444\" y=\"0\" width=\"20\" height=\"130\" stroke=\"transparent\" stroke-width=\"12\" fill=\"transparent\"></rect><text x=\"429.4444444444444\" y=\"20\" fill=\"transparent\" stroke=\"transparent\" font-size=\"30px\">15</text></g><g class=\"vert-line\"><rect x=\"462.2222222222222\" y=\"0\" width=\"20\" height=\"130\" stroke=\"transparent\" stroke-width=\"12\" fill=\"transparent\"></rect><text x=\"482.2222222222222\" y=\"20\" fill=\"transparent\" stroke=\"transparent\" font-size=\"30px\">68</text></g><g class=\"vert-line\"><rect x=\"515.0\" y=\"0\" width=\"20\" height=\"130\" stroke=\"transparent\" stroke-width=\"12\" fill=\"transparent\"></rect><text x=\"535.0\" y=\"20\" fill=\"transparent\" stroke=\"transparent\" font-size=\"30px\">586</text></g><g class=\"vert-line\"><rect x=\"567.7777777777778\" y=\"0\" width=\"20\" height=\"130\" stroke=\"transparent\" stroke-width=\"12\" fill=\"transparent\"></rect><text x=\"587.7777777777778\" y=\"20\" fill=\"transparent\" stroke=\"transparent\" font-size=\"30px\">57</text></g><g class=\"vert-line\"><rect x=\"620.5555555555555\" y=\"0\" width=\"20\" height=\"130\" stroke=\"transparent\" stroke-width=\"12\" fill=\"transparent\"></rect><text x=\"640.5555555555555\" y=\"20\" fill=\"transparent\" stroke=\"transparent\" font-size=\"30px\">12</text></g><g class=\"vert-line\"><rect x=\"673.3333333333333\" y=\"0\" width=\"20\" height=\"130\" stroke=\"transparent\" stroke-width=\"12\" fill=\"transparent\"></rect><text x=\"693.3333333333333\" y=\"20\" fill=\"transparent\" stroke=\"transparent\" font-size=\"30px\">184</text></g><g class=\"vert-line\"><rect x=\"726.1111111111111\" y=\"0\" width=\"20\" height=\"130\" stroke=\"transparent\" stroke-width=\"12\" fill=\"transparent\"></rect><text x=\"746.1111111111111\" y=\"20\" fill=\"transparent\" stroke=\"transparent\" font-size=\"30px\">797</text></g><g class=\"vert-line\"><rect x=\"778.8888888888888\" y=\"0\" width=\"20\" height=\"130\" stroke=\"transparent\" stroke-width=\"12\" fill=\"transparent\"></rect><text x=\"798.8888888888888\" y=\"20\" fill=\"transparent\" stroke=\"transparent\" font-size=\"30px\">32</text></g><g class=\"vert-line\"><rect x=\"831.6666666666666\" y=\"0\" width=\"20\" height=\"130\" stroke=\"transparent\" stroke-width=\"12\" fill=\"transparent\"></rect><text x=\"851.6666666666666\" y=\"20\" fill=\"transparent\" stroke=\"transparent\" font-size=\"30px\">1.43K</text></g><g class=\"vert-line\"><rect x=\"884.4444444444443\" y=\"0\" width=\"20\" height=\"130\" stroke=\"transparent\" stroke-width=\"12\" fill=\"transparent\"></rect><text x=\"904.4444444444443\" y=\"20\" fill=\"transparent\" stroke=\"transparent\" font-size=\"30px\">290</text></g><g class=\"vert-line\"><rect x=\"937.2222222222222\" y=\"0\" width=\"20\" height=\"130\" stroke=\"transparent\" stroke-width=\"12\" fill=\"transparent\"></rect><text x=\"957.2222222222222\" y=\"20\" fill=\"transparent\" stroke=\"transparent\" font-size=\"30px\">407</text></g><g class=\"vert-line\"><rect x=\"990.0\" y=\"0\" width=\"20\" height=\"130\" stroke=\"transparent\" stroke-width=\"12\" fill=\"transparent\"></rect><text x=\"1010.0\" y=\"20\" fill=\"transparent\" stroke=\"transparent\" font-size=\"30px\">240</text></g></svg></div></td>\n",
       "</tr>\n",
       "<tr>\n",
       "  <th class=\"gt_row gt_left gt_stub\">EMI</th>\n",
       "  <td class=\"gt_row gt_center\">22276</td>\n",
       "  <td class=\"gt_row gt_right\">68.05%</td>\n",
       "  <td class=\"gt_row gt_right\">1,101.466</td>\n",
       "  <td class=\"gt_row gt_right\">752.661</td>\n",
       "  <td class=\"gt_row gt_right\">118.000</td>\n",
       "  <td class=\"gt_row gt_right\">649.000</td>\n",
       "  <td class=\"gt_row gt_right\">941.000</td>\n",
       "  <td class=\"gt_row gt_right\">1,295.000</td>\n",
       "  <td class=\"gt_row gt_right\">13,556.000</td>\n",
       "  <td class=\"gt_row gt_right\">646.000</td>\n",
       "  <td class=\"gt_row gt_center\">1081</td>\n",
       "  <td class=\"gt_row gt_center\"><div><svg role=\"img\" viewBox=\"0 0 850 130\" style=\"height: 2em; margin-left: auto; margin-right: auto; font-size: inherit; overflow: visible; vertical-align: middle; position:relative;\"><defs><pattern id=\"area_pattern\" width=\"8\" height=\"8\" patternUnits=\"userSpaceOnUse\"><path class=\"pattern-line\" d=\"M 0,8 l 8,-8 M -1,1 l 4,-4 M 6,10 l 4,-4\" stroke=\"#FF0000\" stroke-width=\"1.5\" stroke-linecap=\"round\" shape-rendering=\"geometricPrecision\"></path></pattern></defs><style> text { font-family: ui-monospace, 'Cascadia Code', 'Source Code Pro', Menlo, Consolas, 'DejaVu Sans Mono', monospace; stroke-width: 0.15em; paint-order: stroke; stroke-linejoin: round; cursor: default; } .vert-line:hover rect { fill: #911EB4; fill-opacity: 40%; stroke: #FFFFFF60; color: red; } .vert-line:hover text { stroke: white; fill: #212427; } .horizontal-line:hover text {stroke: white; fill: #212427; } .ref-line:hover rect { stroke: #FFFFFF60; } .ref-line:hover line { stroke: #FF0000; } .ref-line:hover text { stroke: white; fill: #212427; } .y-axis-line:hover rect { fill: #EDEDED; fill-opacity: 60%; stroke: #FFFFFF60; color: red; } .y-axis-line:hover text { stroke: white; stroke-width: 0.20em; fill: #1A1C1F; } </style><line x1=\"22.5\" y1=\"115.0\" x2=\"827.5\" y2=\"115.0\" stroke=\"#BFBFBF\" stroke-width=\"4\"></line><rect x=\"30.0\" y=\"15.0\" width=\"40\" height=\"100.0\" stroke=\"#3290CC\" stroke-width=\"4\" fill=\"#3FB5FF\"></rect><rect x=\"83.57142857142857\" y=\"97.75818453949448\" width=\"40\" height=\"17.24181546050552\" stroke=\"#3290CC\" stroke-width=\"4\" fill=\"#3FB5FF\"></rect><rect x=\"137.14285714285714\" y=\"94.15340346143306\" width=\"40\" height=\"20.846596538566942\" stroke=\"#3290CC\" stroke-width=\"4\" fill=\"#3FB5FF\"></rect><rect x=\"190.7142857142857\" y=\"109.91957754495436\" width=\"40\" height=\"5.080422455045635\" stroke=\"#3290CC\" stroke-width=\"4\" fill=\"#3FB5FF\"></rect><rect x=\"244.28571428571428\" y=\"112.93621013133207\" width=\"40\" height=\"2.063789868667925\" stroke=\"#3290CC\" stroke-width=\"4\" fill=\"#3FB5FF\"></rect><rect x=\"297.85714285714283\" y=\"114.22001812930834\" width=\"40\" height=\"0.7799818706916568\" stroke=\"#3290CC\" stroke-width=\"4\" fill=\"#3FB5FF\"></rect><rect x=\"351.4285714285714\" y=\"114.44558045407594\" width=\"40\" height=\"0.5544195459240626\" stroke=\"#3290CC\" stroke-width=\"4\" fill=\"#3FB5FF\"></rect><rect x=\"405.0\" y=\"114.77654573434239\" width=\"40\" height=\"0.22345426565760818\" stroke=\"#3290CC\" stroke-width=\"4\" fill=\"#3FB5FF\"></rect><rect x=\"458.57142857142856\" y=\"114.90302928094104\" width=\"40\" height=\"0.09697071905895882\" stroke=\"#3290CC\" stroke-width=\"4\" fill=\"#3FB5FF\"></rect><rect x=\"512.1428571428571\" y=\"114.96416299513038\" width=\"40\" height=\"0.03583700486962016\" stroke=\"#3290CC\" stroke-width=\"4\" fill=\"#3FB5FF\"></rect><rect x=\"565.7142857142857\" y=\"114.97470329068027\" width=\"40\" height=\"0.025296709319732713\" stroke=\"#3290CC\" stroke-width=\"4\" fill=\"#3FB5FF\"></rect><rect x=\"619.2857142857142\" y=\"114.99789194089003\" width=\"40\" height=\"0.002108059109971805\" stroke=\"#3290CC\" stroke-width=\"4\" fill=\"#3FB5FF\"></rect><rect x=\"672.8571428571428\" y=\"114.99789194089003\" width=\"40\" height=\"0.002108059109971805\" stroke=\"#3290CC\" stroke-width=\"4\" fill=\"#3FB5FF\"></rect><rect x=\"726.4285714285713\" y=\"114.99789194089003\" width=\"40\" height=\"0.002108059109971805\" stroke=\"#3290CC\" stroke-width=\"4\" fill=\"#3FB5FF\"></rect><rect x=\"780.0\" y=\"114.99578388178004\" width=\"40\" height=\"0.004216118219957821\" stroke=\"#3290CC\" stroke-width=\"4\" fill=\"#3FB5FF\"></rect><g class=\"y-axis-line\"><rect x=\"0\" y=\"0\" width=\"65\" height=\"130\" stroke=\"transparent\" stroke-width=\"0\" fill=\"transparent\"></rect><text x=\"0\" y=\"19.0\" fill=\"transparent\" stroke=\"transparent\" font-size=\"25\">47.4K</text><text x=\"0\" y=\"126.0\" fill=\"transparent\" stroke=\"transparent\" font-size=\"25\">0</text></g><g class=\"vert-line\"><rect x=\"40.0\" y=\"0\" width=\"20\" height=\"130\" stroke=\"transparent\" stroke-width=\"12\" fill=\"transparent\"></rect><text x=\"60.0\" y=\"20\" fill=\"transparent\" stroke=\"transparent\" font-size=\"30px\">47.4K</text></g><g class=\"vert-line\"><rect x=\"93.57142857142857\" y=\"0\" width=\"20\" height=\"130\" stroke=\"transparent\" stroke-width=\"12\" fill=\"transparent\"></rect><text x=\"113.57142857142857\" y=\"20\" fill=\"transparent\" stroke=\"transparent\" font-size=\"30px\">8.18K</text></g><g class=\"vert-line\"><rect x=\"147.14285714285714\" y=\"0\" width=\"20\" height=\"130\" stroke=\"transparent\" stroke-width=\"12\" fill=\"transparent\"></rect><text x=\"167.14285714285714\" y=\"20\" fill=\"transparent\" stroke=\"transparent\" font-size=\"30px\">9.89K</text></g><g class=\"vert-line\"><rect x=\"200.7142857142857\" y=\"0\" width=\"20\" height=\"130\" stroke=\"transparent\" stroke-width=\"12\" fill=\"transparent\"></rect><text x=\"220.7142857142857\" y=\"20\" fill=\"transparent\" stroke=\"transparent\" font-size=\"30px\">2.41K</text></g><g class=\"vert-line\"><rect x=\"254.28571428571428\" y=\"0\" width=\"20\" height=\"130\" stroke=\"transparent\" stroke-width=\"12\" fill=\"transparent\"></rect><text x=\"274.2857142857143\" y=\"20\" fill=\"transparent\" stroke=\"transparent\" font-size=\"30px\">979</text></g><g class=\"vert-line\"><rect x=\"307.85714285714283\" y=\"0\" width=\"20\" height=\"130\" stroke=\"transparent\" stroke-width=\"12\" fill=\"transparent\"></rect><text x=\"327.85714285714283\" y=\"20\" fill=\"transparent\" stroke=\"transparent\" font-size=\"30px\">370</text></g><g class=\"vert-line\"><rect x=\"361.4285714285714\" y=\"0\" width=\"20\" height=\"130\" stroke=\"transparent\" stroke-width=\"12\" fill=\"transparent\"></rect><text x=\"381.4285714285714\" y=\"20\" fill=\"transparent\" stroke=\"transparent\" font-size=\"30px\">263</text></g><g class=\"vert-line\"><rect x=\"415.0\" y=\"0\" width=\"20\" height=\"130\" stroke=\"transparent\" stroke-width=\"12\" fill=\"transparent\"></rect><text x=\"435.0\" y=\"20\" fill=\"transparent\" stroke=\"transparent\" font-size=\"30px\">106</text></g><g class=\"vert-line\"><rect x=\"468.57142857142856\" y=\"0\" width=\"20\" height=\"130\" stroke=\"transparent\" stroke-width=\"12\" fill=\"transparent\"></rect><text x=\"488.57142857142856\" y=\"20\" fill=\"transparent\" stroke=\"transparent\" font-size=\"30px\">46</text></g><g class=\"vert-line\"><rect x=\"522.1428571428571\" y=\"0\" width=\"20\" height=\"130\" stroke=\"transparent\" stroke-width=\"12\" fill=\"transparent\"></rect><text x=\"542.1428571428571\" y=\"20\" fill=\"transparent\" stroke=\"transparent\" font-size=\"30px\">17</text></g><g class=\"vert-line\"><rect x=\"575.7142857142857\" y=\"0\" width=\"20\" height=\"130\" stroke=\"transparent\" stroke-width=\"12\" fill=\"transparent\"></rect><text x=\"595.7142857142857\" y=\"20\" fill=\"transparent\" stroke=\"transparent\" font-size=\"30px\">12</text></g><g class=\"vert-line\"><rect x=\"629.2857142857142\" y=\"0\" width=\"20\" height=\"130\" stroke=\"transparent\" stroke-width=\"12\" fill=\"transparent\"></rect><text x=\"649.2857142857142\" y=\"20\" fill=\"transparent\" stroke=\"transparent\" font-size=\"30px\">1</text></g><g class=\"vert-line\"><rect x=\"682.8571428571428\" y=\"0\" width=\"20\" height=\"130\" stroke=\"transparent\" stroke-width=\"12\" fill=\"transparent\"></rect><text x=\"702.8571428571428\" y=\"20\" fill=\"transparent\" stroke=\"transparent\" font-size=\"30px\">1</text></g><g class=\"vert-line\"><rect x=\"736.4285714285713\" y=\"0\" width=\"20\" height=\"130\" stroke=\"transparent\" stroke-width=\"12\" fill=\"transparent\"></rect><text x=\"756.4285714285713\" y=\"20\" fill=\"transparent\" stroke=\"transparent\" font-size=\"30px\">1</text></g><g class=\"vert-line\"><rect x=\"790.0\" y=\"0\" width=\"20\" height=\"130\" stroke=\"transparent\" stroke-width=\"12\" fill=\"transparent\"></rect><text x=\"810.0\" y=\"20\" fill=\"transparent\" stroke=\"transparent\" font-size=\"30px\">2</text></g></svg></div></td>\n",
       "</tr>\n",
       "<tr>\n",
       "  <th class=\"gt_row gt_left gt_stub\">Var1</th>\n",
       "  <td class=\"gt_row gt_center\">69713</td>\n",
       "  <td class=\"gt_row gt_right\">0.00%</td>\n",
       "  <td class=\"gt_row gt_right\">3.948</td>\n",
       "  <td class=\"gt_row gt_right\">3.819</td>\n",
       "  <td class=\"gt_row gt_right\">0.000</td>\n",
       "  <td class=\"gt_row gt_right\">0.000</td>\n",
       "  <td class=\"gt_row gt_right\">2.000</td>\n",
       "  <td class=\"gt_row gt_right\">7.000</td>\n",
       "  <td class=\"gt_row gt_right\">10.000</td>\n",
       "  <td class=\"gt_row gt_right\">7.000</td>\n",
       "  <td class=\"gt_row gt_center\">0</td>\n",
       "  <td class=\"gt_row gt_center\"><div><svg role=\"img\" viewBox=\"0 0 350 130\" style=\"height: 2em; margin-left: auto; margin-right: auto; font-size: inherit; overflow: visible; vertical-align: middle; position:relative;\"><defs><pattern id=\"area_pattern\" width=\"8\" height=\"8\" patternUnits=\"userSpaceOnUse\"><path class=\"pattern-line\" d=\"M 0,8 l 8,-8 M -1,1 l 4,-4 M 6,10 l 4,-4\" stroke=\"#FF0000\" stroke-width=\"1.5\" stroke-linecap=\"round\" shape-rendering=\"geometricPrecision\"></path></pattern></defs><style> text { font-family: ui-monospace, 'Cascadia Code', 'Source Code Pro', Menlo, Consolas, 'DejaVu Sans Mono', monospace; stroke-width: 0.15em; paint-order: stroke; stroke-linejoin: round; cursor: default; } .vert-line:hover rect { fill: #911EB4; fill-opacity: 40%; stroke: #FFFFFF60; color: red; } .vert-line:hover text { stroke: white; fill: #212427; } .horizontal-line:hover text {stroke: white; fill: #212427; } .ref-line:hover rect { stroke: #FFFFFF60; } .ref-line:hover line { stroke: #FF0000; } .ref-line:hover text { stroke: white; fill: #212427; } .y-axis-line:hover rect { fill: #EDEDED; fill-opacity: 60%; stroke: #FFFFFF60; color: red; } .y-axis-line:hover text { stroke: white; stroke-width: 0.20em; fill: #1A1C1F; } </style><line x1=\"22.5\" y1=\"115.0\" x2=\"327.5\" y2=\"115.0\" stroke=\"#BFBFBF\" stroke-width=\"4\"></line><rect x=\"30.0\" y=\"15.0\" width=\"40\" height=\"100.0\" stroke=\"#3290CC\" stroke-width=\"4\" fill=\"#3FB5FF\"></rect><rect x=\"92.5\" y=\"57.66775356100909\" width=\"40\" height=\"57.33224643899091\" stroke=\"#3290CC\" stroke-width=\"4\" fill=\"#3FB5FF\"></rect><rect x=\"155.0\" y=\"82.07568216921229\" width=\"40\" height=\"32.924317830787714\" stroke=\"#3290CC\" stroke-width=\"4\" fill=\"#3FB5FF\"></rect><rect x=\"217.5\" y=\"63.73863051312854\" width=\"40\" height=\"51.26136948687146\" stroke=\"#3290CC\" stroke-width=\"4\" fill=\"#3FB5FF\"></rect><rect x=\"280.0\" y=\"57.423202333962585\" width=\"40\" height=\"57.576797666037415\" stroke=\"#3290CC\" stroke-width=\"4\" fill=\"#3FB5FF\"></rect><g class=\"y-axis-line\"><rect x=\"0\" y=\"0\" width=\"65\" height=\"130\" stroke=\"transparent\" stroke-width=\"0\" fill=\"transparent\"></rect><text x=\"0\" y=\"19.0\" fill=\"transparent\" stroke=\"transparent\" font-size=\"25\">23.3K</text><text x=\"0\" y=\"126.0\" fill=\"transparent\" stroke=\"transparent\" font-size=\"25\">0</text></g><g class=\"vert-line\"><rect x=\"40.0\" y=\"0\" width=\"20\" height=\"130\" stroke=\"transparent\" stroke-width=\"12\" fill=\"transparent\"></rect><text x=\"60.0\" y=\"20\" fill=\"transparent\" stroke=\"transparent\" font-size=\"30px\">23.3K</text></g><g class=\"vert-line\"><rect x=\"102.5\" y=\"0\" width=\"20\" height=\"130\" stroke=\"transparent\" stroke-width=\"12\" fill=\"transparent\"></rect><text x=\"122.5\" y=\"20\" fill=\"transparent\" stroke=\"transparent\" font-size=\"30px\">13.4K</text></g><g class=\"vert-line\"><rect x=\"165.0\" y=\"0\" width=\"20\" height=\"130\" stroke=\"transparent\" stroke-width=\"12\" fill=\"transparent\"></rect><text x=\"185.0\" y=\"20\" fill=\"transparent\" stroke=\"transparent\" font-size=\"30px\">7.67K</text></g><g class=\"vert-line\"><rect x=\"227.5\" y=\"0\" width=\"20\" height=\"130\" stroke=\"transparent\" stroke-width=\"12\" fill=\"transparent\"></rect><text x=\"247.5\" y=\"20\" fill=\"transparent\" stroke=\"transparent\" font-size=\"30px\">11.9K</text></g><g class=\"vert-line\"><rect x=\"290.0\" y=\"0\" width=\"20\" height=\"130\" stroke=\"transparent\" stroke-width=\"12\" fill=\"transparent\"></rect><text x=\"310.0\" y=\"20\" fill=\"transparent\" stroke=\"transparent\" font-size=\"30px\">13.4K</text></g></svg></div></td>\n",
       "</tr>\n",
       "<tr>\n",
       "  <th class=\"gt_row gt_left gt_stub\">Approved</th>\n",
       "  <td class=\"gt_row gt_center\">69713</td>\n",
       "  <td class=\"gt_row gt_right\">0.00%</td>\n",
       "  <td class=\"gt_row gt_right\">0.015</td>\n",
       "  <td class=\"gt_row gt_right\">0.120</td>\n",
       "  <td class=\"gt_row gt_right\">0.000</td>\n",
       "  <td class=\"gt_row gt_right\">0.000</td>\n",
       "  <td class=\"gt_row gt_right\">0.000</td>\n",
       "  <td class=\"gt_row gt_right\">0.000</td>\n",
       "  <td class=\"gt_row gt_right\">1.000</td>\n",
       "  <td class=\"gt_row gt_right\">0.000</td>\n",
       "  <td class=\"gt_row gt_center\">1020</td>\n",
       "  <td class=\"gt_row gt_center\"><div><svg role=\"img\" viewBox=\"0 0 200 130\" style=\"height: 2em; margin-left: auto; margin-right: auto; font-size: inherit; overflow: visible; vertical-align: middle; position:relative;\"><defs><pattern id=\"area_pattern\" width=\"8\" height=\"8\" patternUnits=\"userSpaceOnUse\"><path class=\"pattern-line\" d=\"M 0,8 l 8,-8 M -1,1 l 4,-4 M 6,10 l 4,-4\" stroke=\"#FF0000\" stroke-width=\"1.5\" stroke-linecap=\"round\" shape-rendering=\"geometricPrecision\"></path></pattern></defs><style> text { font-family: ui-monospace, 'Cascadia Code', 'Source Code Pro', Menlo, Consolas, 'DejaVu Sans Mono', monospace; stroke-width: 0.15em; paint-order: stroke; stroke-linejoin: round; cursor: default; } .vert-line:hover rect { fill: #911EB4; fill-opacity: 40%; stroke: #FFFFFF60; color: red; } .vert-line:hover text { stroke: white; fill: #212427; } .horizontal-line:hover text {stroke: white; fill: #212427; } .ref-line:hover rect { stroke: #FFFFFF60; } .ref-line:hover line { stroke: #FF0000; } .ref-line:hover text { stroke: white; fill: #212427; } .y-axis-line:hover rect { fill: #EDEDED; fill-opacity: 60%; stroke: #FFFFFF60; color: red; } .y-axis-line:hover text { stroke: white; stroke-width: 0.20em; fill: #1A1C1F; } </style><line x1=\"22.5\" y1=\"115.0\" x2=\"177.5\" y2=\"115.0\" stroke=\"#BFBFBF\" stroke-width=\"4\"></line><rect x=\"30.0\" y=\"15.0\" width=\"40\" height=\"100.0\" stroke=\"#3290CC\" stroke-width=\"4\" fill=\"#3FB5FF\"></rect><rect x=\"130.0\" y=\"113.51513254625654\" width=\"40\" height=\"1.4848674537434619\" stroke=\"#3290CC\" stroke-width=\"4\" fill=\"#3FB5FF\"></rect><g class=\"y-axis-line\"><rect x=\"0\" y=\"0\" width=\"65\" height=\"130\" stroke=\"transparent\" stroke-width=\"0\" fill=\"transparent\"></rect><text x=\"0\" y=\"19.0\" fill=\"transparent\" stroke=\"transparent\" font-size=\"25\">68.7K</text><text x=\"0\" y=\"126.0\" fill=\"transparent\" stroke=\"transparent\" font-size=\"25\">0</text></g><g class=\"vert-line\"><rect x=\"40.0\" y=\"0\" width=\"20\" height=\"130\" stroke=\"transparent\" stroke-width=\"12\" fill=\"transparent\"></rect><text x=\"60.0\" y=\"20\" fill=\"transparent\" stroke=\"transparent\" font-size=\"30px\">68.7K</text></g><g class=\"vert-line\"><rect x=\"140.0\" y=\"0\" width=\"20\" height=\"130\" stroke=\"transparent\" stroke-width=\"12\" fill=\"transparent\"></rect><text x=\"160.0\" y=\"20\" fill=\"transparent\" stroke=\"transparent\" font-size=\"30px\">1.02K</text></g></svg></div></td>\n",
       "</tr>\n",
       "</tbody>\n",
       "\n",
       "\n",
       "</table>\n",
       "\n",
       "</div>\n",
       "        "
      ],
      "text/plain": [
       "GT(_tbl_data=shape: (9, 13)\n",
       "┌────────────┬────────────┬──────────┬────────────┬───┬──────────┬─────────┬───────────┬───────────┐\n",
       "│ column     ┆ non_null_c ┆ null%    ┆ mean       ┆ … ┆ max      ┆ IQR     ┆ outlier_c ┆ histogram │\n",
       "│ ---        ┆ nt         ┆ ---      ┆ ---        ┆   ┆ ---      ┆ ---     ┆ nt        ┆ ---       │\n",
       "│ str        ┆ ---        ┆ f64      ┆ f64        ┆   ┆ f64      ┆ f64     ┆ ---       ┆ struct[1] │\n",
       "│            ┆ u32        ┆          ┆            ┆   ┆          ┆         ┆ u32       ┆           │\n",
       "╞════════════╪════════════╪══════════╪════════════╪═══╪══════════╪═════════╪═══════════╪═══════════╡\n",
       "│ Employer_C ┆ 65415      ┆ 0.061653 ┆ 3.720187   ┆ … ┆ 4.0      ┆ 0.0     ┆ 7833      ┆ {[4298,   │\n",
       "│ ategory2   ┆            ┆          ┆            ┆   ┆          ┆         ┆           ┆ 4258, …   │\n",
       "│            ┆            ┆          ┆            ┆   ┆          ┆         ┆           ┆ 57582]}   │\n",
       "│ Monthly_In ┆ 69713      ┆ 0.0      ┆ 5622.2832  ┆ … ┆ 3.8384e7 ┆ 2350.0  ┆ 3920      ┆ {[69699,  │\n",
       "│ come       ┆            ┆          ┆            ┆   ┆          ┆         ┆           ┆ 5, … 1]}  │\n",
       "│ Existing_E ┆ 69662      ┆ 0.000732 ┆ 360.928751 ┆ … ┆ 545436.5 ┆ 350.0   ┆ 6549      ┆ {[69655,  │\n",
       "│ MI         ┆            ┆          ┆            ┆   ┆          ┆         ┆           ┆ 5, … 1]}  │\n",
       "│ Loan_Amoun ┆ 42004      ┆ 0.397472 ┆ 39429.9828 ┆ … ┆ 300000.0 ┆ 30000.0 ┆ 1547      ┆ {[27709,  │\n",
       "│ t          ┆            ┆          ┆ 59         ┆   ┆          ┆         ┆           ┆ 8646, …   │\n",
       "│            ┆            ┆          ┆            ┆   ┆          ┆         ┆           ┆ 4]}       │\n",
       "│ Loan_Perio ┆ 42004      ┆ 0.397472 ┆ 3.890629   ┆ … ┆ 6.0      ┆ 2.0     ┆ 0         ┆ {[27709,  │\n",
       "│ d          ┆            ┆          ┆            ┆   ┆          ┆         ┆           ┆ 1886, …   │\n",
       "│            ┆            ┆          ┆            ┆   ┆          ┆         ┆           ┆ 1]}       │\n",
       "│ Interest_R ┆ 22276      ┆ 0.680461 ┆ 19.21357   ┆ … ┆ 37.0     ┆ 4.75    ┆ 2378      ┆ {[758,    │\n",
       "│ ate        ┆            ┆          ┆            ┆   ┆          ┆         ┆           ┆ 2752, …   │\n",
       "│            ┆            ┆          ┆            ┆   ┆          ┆         ┆           ┆ 240]}     │\n",
       "│ EMI        ┆ 22276      ┆ 0.680461 ┆ 1101.46624 ┆ … ┆ 13556.0  ┆ 646.0   ┆ 1081      ┆ {[47437,  │\n",
       "│            ┆            ┆          ┆ 2          ┆   ┆          ┆         ┆           ┆ 8179, …   │\n",
       "│            ┆            ┆          ┆            ┆   ┆          ┆         ┆           ┆ 2]}       │\n",
       "│ Var1       ┆ 69713      ┆ 0.0      ┆ 3.948446   ┆ … ┆ 10.0     ┆ 7.0     ┆ 0         ┆ {[23308,  │\n",
       "│            ┆            ┆          ┆            ┆   ┆          ┆         ┆           ┆ 13363, …  │\n",
       "│            ┆            ┆          ┆            ┆   ┆          ┆         ┆           ┆ 13420]}   │\n",
       "│ Approved   ┆ 69713      ┆ 0.0      ┆ 0.014631   ┆ … ┆ 1.0      ┆ 0.0     ┆ 1020      ┆ {[68693,  │\n",
       "│            ┆            ┆          ┆            ┆   ┆          ┆         ┆           ┆ 1020]}    │\n",
       "└────────────┴────────────┴──────────┴────────────┴───┴──────────┴─────────┴───────────┴───────────┘, _body=<great_tables._gt_data.Body object at 0x70db0f710d10>, _boxhead=Boxhead([ColInfo(var='column', type=<ColInfoTypeEnum.stub: 2>, column_label='column', column_align='left', column_width=None), ColInfo(var='non_null_cnt', type=<ColInfoTypeEnum.default: 1>, column_label='non_null_cnt', column_align='center', column_width=None), ColInfo(var='null%', type=<ColInfoTypeEnum.default: 1>, column_label='null%', column_align='right', column_width=None), ColInfo(var='mean', type=<ColInfoTypeEnum.default: 1>, column_label='mean', column_align='right', column_width=None), ColInfo(var='std', type=<ColInfoTypeEnum.default: 1>, column_label='std', column_align='right', column_width=None), ColInfo(var='min', type=<ColInfoTypeEnum.default: 1>, column_label='min', column_align='right', column_width=None), ColInfo(var='q1', type=<ColInfoTypeEnum.default: 1>, column_label='q1', column_align='right', column_width=None), ColInfo(var='median', type=<ColInfoTypeEnum.default: 1>, column_label='median', column_align='right', column_width=None), ColInfo(var='q3', type=<ColInfoTypeEnum.default: 1>, column_label='q3', column_align='right', column_width=None), ColInfo(var='max', type=<ColInfoTypeEnum.default: 1>, column_label='max', column_align='right', column_width=None), ColInfo(var='IQR', type=<ColInfoTypeEnum.default: 1>, column_label='IQR', column_align='right', column_width=None), ColInfo(var='outlier_cnt', type=<ColInfoTypeEnum.default: 1>, column_label='outlier_cnt', column_align='center', column_width=None), ColInfo(var='histogram', type=<ColInfoTypeEnum.default: 1>, column_label='histogram', column_align='center', column_width=None)]), _stub=Stub([RowInfo(rownum_i=0, group_id=None, rowname='Employer_Category2', group_label=None, built=False), RowInfo(rownum_i=1, group_id=None, rowname='Monthly_Income', group_label=None, built=False), RowInfo(rownum_i=2, group_id=None, rowname='Existing_EMI', group_label=None, built=False), RowInfo(rownum_i=3, group_id=None, rowname='Loan_Amount', group_label=None, built=False), RowInfo(rownum_i=4, group_id=None, rowname='Loan_Period', group_label=None, built=False), RowInfo(rownum_i=5, group_id=None, rowname='Interest_Rate', group_label=None, built=False), RowInfo(rownum_i=6, group_id=None, rowname='EMI', group_label=None, built=False), RowInfo(rownum_i=7, group_id=None, rowname='Var1', group_label=None, built=False), RowInfo(rownum_i=8, group_id=None, rowname='Approved', group_label=None, built=False)]), _row_groups=[], _group_rows=GroupRows([]), _spanners=Spanners([]), _heading=Heading(title=None, subtitle=None, preheader=None), _stubhead='column', _source_notes=[], _footnotes=[], _styles=[], _locale=<great_tables._gt_data.Locale object at 0x70dac7f6a450>, _formats=[<great_tables._gt_data.FormatInfo object at 0x70dac7fbd910>, <great_tables._gt_data.FormatInfo object at 0x70dac7f81fd0>, <great_tables._gt_data.FormatInfo object at 0x70dac7fbf450>], _substitutions=[], _options=Options(table_id=OptionsInfo(scss=False, category='table', type='value', value=None), table_caption=OptionsInfo(scss=False, category='table', type='value', value=None), table_width=OptionsInfo(scss=True, category='table', type='px', value='auto'), table_layout=OptionsInfo(scss=True, category='table', type='value', value='fixed'), table_margin_left=OptionsInfo(scss=True, category='table', type='px', value='auto'), table_margin_right=OptionsInfo(scss=True, category='table', type='px', value='auto'), table_background_color=OptionsInfo(scss=True, category='table', type='value', value='#FFFFFF'), table_font_names=OptionsInfo(scss=False, category='table', type='values', value=['-apple-system', 'BlinkMacSystemFont', 'Segoe UI', 'Roboto', 'Oxygen', 'Ubuntu', 'Cantarell', 'Helvetica Neue', 'Fira Sans', 'Droid Sans', 'Arial', 'sans-serif']), table_font_size=OptionsInfo(scss=True, category='table', type='px', value='16px'), table_font_weight=OptionsInfo(scss=True, category='table', type='value', value='normal'), table_font_style=OptionsInfo(scss=True, category='table', type='value', value='normal'), table_font_color=OptionsInfo(scss=True, category='table', type='value', value='#333333'), table_font_color_light=OptionsInfo(scss=True, category='table', type='value', value='#FFFFFF'), table_border_top_include=OptionsInfo(scss=False, category='table', type='boolean', value=True), table_border_top_style=OptionsInfo(scss=True, category='table', type='value', value='solid'), table_border_top_width=OptionsInfo(scss=True, category='table', type='px', value='2px'), table_border_top_color=OptionsInfo(scss=True, category='table', type='value', value='#A8A8A8'), table_border_right_style=OptionsInfo(scss=True, category='table', type='value', value='none'), table_border_right_width=OptionsInfo(scss=True, category='table', type='px', value='2px'), table_border_right_color=OptionsInfo(scss=True, category='table', type='value', value='#D3D3D3'), table_border_bottom_include=OptionsInfo(scss=False, category='table', type='boolean', value=True), table_border_bottom_style=OptionsInfo(scss=True, category='table', type='value', value='solid'), table_border_bottom_width=OptionsInfo(scss=True, category='table', type='px', value='2px'), table_border_bottom_color=OptionsInfo(scss=True, category='table', type='value', value='#A8A8A8'), table_border_left_style=OptionsInfo(scss=True, category='table', type='value', value='none'), table_border_left_width=OptionsInfo(scss=True, category='table', type='px', value='2px'), table_border_left_color=OptionsInfo(scss=True, category='table', type='value', value='#D3D3D3'), heading_background_color=OptionsInfo(scss=True, category='heading', type='value', value=None), heading_align=OptionsInfo(scss=True, category='heading', type='value', value='center'), heading_title_font_size=OptionsInfo(scss=True, category='heading', type='px', value='125%'), heading_title_font_weight=OptionsInfo(scss=True, category='heading', type='value', value='initial'), heading_subtitle_font_size=OptionsInfo(scss=True, category='heading', type='px', value='85%'), heading_subtitle_font_weight=OptionsInfo(scss=True, category='heading', type='value', value='initial'), heading_padding=OptionsInfo(scss=True, category='heading', type='px', value='4px'), heading_padding_horizontal=OptionsInfo(scss=True, category='heading', type='px', value='5px'), heading_border_bottom_style=OptionsInfo(scss=True, category='heading', type='value', value='solid'), heading_border_bottom_width=OptionsInfo(scss=True, category='heading', type='px', value='2px'), heading_border_bottom_color=OptionsInfo(scss=True, category='heading', type='value', value='#D3D3D3'), heading_border_lr_style=OptionsInfo(scss=True, category='heading', type='value', value='none'), heading_border_lr_width=OptionsInfo(scss=True, category='heading', type='px', value='1px'), heading_border_lr_color=OptionsInfo(scss=True, category='heading', type='value', value='#D3D3D3'), column_labels_background_color=OptionsInfo(scss=True, category='column_labels', type='value', value=None), column_labels_font_size=OptionsInfo(scss=True, category='column_labels', type='px', value='100%'), column_labels_font_weight=OptionsInfo(scss=True, category='column_labels', type='value', value='normal'), column_labels_text_transform=OptionsInfo(scss=True, category='column_labels', type='value', value='inherit'), column_labels_padding=OptionsInfo(scss=True, category='column_labels', type='px', value='5px'), column_labels_padding_horizontal=OptionsInfo(scss=True, category='column_labels', type='px', value='5px'), column_labels_vlines_style=OptionsInfo(scss=True, category='table_body', type='value', value='none'), column_labels_vlines_width=OptionsInfo(scss=True, category='table_body', type='px', value='1px'), column_labels_vlines_color=OptionsInfo(scss=True, category='table_body', type='value', value='#D3D3D3'), column_labels_border_top_style=OptionsInfo(scss=True, category='column_labels', type='value', value='solid'), column_labels_border_top_width=OptionsInfo(scss=True, category='column_labels', type='px', value='2px'), column_labels_border_top_color=OptionsInfo(scss=True, category='column_labels', type='value', value='#D3D3D3'), column_labels_border_bottom_style=OptionsInfo(scss=True, category='column_labels', type='value', value='solid'), column_labels_border_bottom_width=OptionsInfo(scss=True, category='column_labels', type='px', value='2px'), column_labels_border_bottom_color=OptionsInfo(scss=True, category='column_labels', type='value', value='#D3D3D3'), column_labels_border_lr_style=OptionsInfo(scss=True, category='column_labels', type='value', value='none'), column_labels_border_lr_width=OptionsInfo(scss=True, category='column_labels', type='px', value='1px'), column_labels_border_lr_color=OptionsInfo(scss=True, category='column_labels', type='value', value='#D3D3D3'), column_labels_hidden=OptionsInfo(scss=False, category='column_labels', type='boolean', value=False), row_group_background_color=OptionsInfo(scss=True, category='row_group', type='value', value=None), row_group_font_size=OptionsInfo(scss=True, category='row_group', type='px', value='100%'), row_group_font_weight=OptionsInfo(scss=True, category='row_group', type='value', value='initial'), row_group_text_transform=OptionsInfo(scss=True, category='row_group', type='value', value='inherit'), row_group_padding=OptionsInfo(scss=True, category='row_group', type='px', value='8px'), row_group_padding_horizontal=OptionsInfo(scss=True, category='row_group', type='px', value='5px'), row_group_border_top_style=OptionsInfo(scss=True, category='row_group', type='value', value='solid'), row_group_border_top_width=OptionsInfo(scss=True, category='row_group', type='px', value='2px'), row_group_border_top_color=OptionsInfo(scss=True, category='row_group', type='value', value='#D3D3D3'), row_group_border_right_style=OptionsInfo(scss=True, category='row_group', type='value', value='none'), row_group_border_right_width=OptionsInfo(scss=True, category='row_group', type='px', value='1px'), row_group_border_right_color=OptionsInfo(scss=True, category='row_group', type='value', value='#D3D3D3'), row_group_border_bottom_style=OptionsInfo(scss=True, category='row_group', type='value', value='solid'), row_group_border_bottom_width=OptionsInfo(scss=True, category='row_group', type='px', value='2px'), row_group_border_bottom_color=OptionsInfo(scss=True, category='row_group', type='value', value='#D3D3D3'), row_group_border_left_style=OptionsInfo(scss=True, category='row_group', type='value', value='none'), row_group_border_left_width=OptionsInfo(scss=True, category='row_group', type='px', value='1px'), row_group_border_left_color=OptionsInfo(scss=True, category='row_group', type='value', value='#D3D3D3'), row_group_as_column=OptionsInfo(scss=False, category='row_group', type='boolean', value=False), table_body_hlines_style=OptionsInfo(scss=True, category='table_body', type='value', value='solid'), table_body_hlines_width=OptionsInfo(scss=True, category='table_body', type='px', value='1px'), table_body_hlines_color=OptionsInfo(scss=True, category='table_body', type='value', value='#D3D3D3'), table_body_vlines_style=OptionsInfo(scss=True, category='table_body', type='value', value='none'), table_body_vlines_width=OptionsInfo(scss=True, category='table_body', type='px', value='1px'), table_body_vlines_color=OptionsInfo(scss=True, category='table_body', type='value', value='#D3D3D3'), table_body_border_top_style=OptionsInfo(scss=True, category='table_body', type='value', value='solid'), table_body_border_top_width=OptionsInfo(scss=True, category='table_body', type='px', value='2px'), table_body_border_top_color=OptionsInfo(scss=True, category='table_body', type='value', value='#D3D3D3'), table_body_border_bottom_style=OptionsInfo(scss=True, category='table_body', type='value', value='solid'), table_body_border_bottom_width=OptionsInfo(scss=True, category='table_body', type='px', value='2px'), table_body_border_bottom_color=OptionsInfo(scss=True, category='table_body', type='value', value='#D3D3D3'), data_row_padding=OptionsInfo(scss=True, category='data_row', type='px', value='8px'), data_row_padding_horizontal=OptionsInfo(scss=True, category='data_row', type='px', value='5px'), stub_background_color=OptionsInfo(scss=True, category='stub', type='value', value=None), stub_font_size=OptionsInfo(scss=True, category='stub', type='px', value='100%'), stub_font_weight=OptionsInfo(scss=True, category='stub', type='value', value='initial'), stub_text_transform=OptionsInfo(scss=True, category='stub', type='value', value='inherit'), stub_border_style=OptionsInfo(scss=True, category='stub', type='value', value='solid'), stub_border_width=OptionsInfo(scss=True, category='stub', type='px', value='2px'), stub_border_color=OptionsInfo(scss=True, category='stub', type='value', value='#D3D3D3'), stub_row_group_background_color=OptionsInfo(scss=True, category='stub', type='value', value=None), stub_row_group_font_size=OptionsInfo(scss=True, category='stub', type='px', value='100%'), stub_row_group_font_weight=OptionsInfo(scss=True, category='stub', type='value', value='initial'), stub_row_group_text_transform=OptionsInfo(scss=True, category='stub', type='value', value='inherit'), stub_row_group_border_style=OptionsInfo(scss=True, category='stub', type='value', value='solid'), stub_row_group_border_width=OptionsInfo(scss=True, category='stub', type='px', value='2px'), stub_row_group_border_color=OptionsInfo(scss=True, category='stub', type='value', value='#D3D3D3'), source_notes_padding=OptionsInfo(scss=True, category='source_notes', type='px', value='4px'), source_notes_padding_horizontal=OptionsInfo(scss=True, category='source_notes', type='px', value='5px'), source_notes_background_color=OptionsInfo(scss=True, category='source_notes', type='value', value=None), source_notes_font_size=OptionsInfo(scss=True, category='source_notes', type='px', value='90%'), source_notes_border_bottom_style=OptionsInfo(scss=True, category='source_notes', type='value', value='none'), source_notes_border_bottom_width=OptionsInfo(scss=True, category='source_notes', type='px', value='2px'), source_notes_border_bottom_color=OptionsInfo(scss=True, category='source_notes', type='value', value='#D3D3D3'), source_notes_border_lr_style=OptionsInfo(scss=True, category='source_notes', type='value', value='none'), source_notes_border_lr_width=OptionsInfo(scss=True, category='source_notes', type='px', value='2px'), source_notes_border_lr_color=OptionsInfo(scss=True, category='source_notes', type='value', value='#D3D3D3'), source_notes_multiline=OptionsInfo(scss=False, category='source_notes', type='boolean', value=True), source_notes_sep=OptionsInfo(scss=False, category='source_notes', type='value', value=' '), container_width=OptionsInfo(scss=False, category='container', type='px', value='auto'), container_height=OptionsInfo(scss=False, category='container', type='px', value='auto'), container_padding_x=OptionsInfo(scss=False, category='container', type='px', value='0px'), container_padding_y=OptionsInfo(scss=False, category='container', type='px', value='10px'), container_overflow_x=OptionsInfo(scss=False, category='container', type='overflow', value='auto'), container_overflow_y=OptionsInfo(scss=False, category='container', type='overflow', value='auto'), quarto_disable_processing=OptionsInfo(scss=False, category='quarto', type='logical', value=False), quarto_use_bootstrap=OptionsInfo(scss=False, category='quarto', type='logical', value=False)), _has_built=False)"
      ]
     },
     "execution_count": 15,
     "metadata": {},
     "output_type": "execute_result"
    }
   ],
   "source": [
    "dia.numeric_profile(iqr_multiplier=2)"
   ]
  },
  {
   "cell_type": "code",
   "execution_count": 16,
   "metadata": {},
   "outputs": [
    {
     "data": {
      "text/html": [
       "<div><style>\n",
       ".dataframe > thead > tr,\n",
       ".dataframe > tbody > tr {\n",
       "  text-align: right;\n",
       "  white-space: pre-wrap;\n",
       "}\n",
       "</style>\n",
       "<small>shape: (2, 10)</small><table border=\"1\" class=\"dataframe\"><thead><tr><th>column</th><th>Employer_Category2</th><th>Monthly_Income</th><th>Existing_EMI</th><th>Loan_Amount</th><th>Loan_Period</th><th>Interest_Rate</th><th>EMI</th><th>Var1</th><th>Approved</th></tr><tr><td>str</td><td>f64</td><td>f64</td><td>f64</td><td>f64</td><td>f64</td><td>f64</td><td>f64</td><td>f64</td><td>f64</td></tr></thead><tbody><tr><td>&quot;Monthly_Income…</td><td>0.001546</td><td>1.0</td><td>0.245826</td><td>0.039998</td><td>-0.003671</td><td>-0.014789</td><td>0.035163</td><td>0.024854</td><td>0.000472</td></tr><tr><td>&quot;Existing_EMI&quot;</td><td>-0.017074</td><td>0.245826</td><td>1.0</td><td>0.008653</td><td>-0.004603</td><td>-0.023001</td><td>0.000813</td><td>0.00662</td><td>0.027821</td></tr></tbody></table></div>"
      ],
      "text/plain": [
       "shape: (2, 10)\n",
       "┌────────────┬────────────┬───────────┬───────────┬───┬───────────┬──────────┬──────────┬──────────┐\n",
       "│ column     ┆ Employer_C ┆ Monthly_I ┆ Existing_ ┆ … ┆ Interest_ ┆ EMI      ┆ Var1     ┆ Approved │\n",
       "│ ---        ┆ ategory2   ┆ ncome     ┆ EMI       ┆   ┆ Rate      ┆ ---      ┆ ---      ┆ ---      │\n",
       "│ str        ┆ ---        ┆ ---       ┆ ---       ┆   ┆ ---       ┆ f64      ┆ f64      ┆ f64      │\n",
       "│            ┆ f64        ┆ f64       ┆ f64       ┆   ┆ f64       ┆          ┆          ┆          │\n",
       "╞════════════╪════════════╪═══════════╪═══════════╪═══╪═══════════╪══════════╪══════════╪══════════╡\n",
       "│ Monthly_In ┆ 0.001546   ┆ 1.0       ┆ 0.245826  ┆ … ┆ -0.014789 ┆ 0.035163 ┆ 0.024854 ┆ 0.000472 │\n",
       "│ come       ┆            ┆           ┆           ┆   ┆           ┆          ┆          ┆          │\n",
       "│ Existing_E ┆ -0.017074  ┆ 0.245826  ┆ 1.0       ┆ … ┆ -0.023001 ┆ 0.000813 ┆ 0.00662  ┆ 0.027821 │\n",
       "│ MI         ┆            ┆           ┆           ┆   ┆           ┆          ┆          ┆          │\n",
       "└────────────┴────────────┴───────────┴───────────┴───┴───────────┴──────────┴──────────┴──────────┘"
      ]
     },
     "execution_count": 16,
     "metadata": {},
     "output_type": "execute_result"
    }
   ],
   "source": [
    "import polars.selectors as cs\n",
    "\n",
    "dia.corr(subset=[\"Monthly_Income\", \"Existing_EMI\"])"
   ]
  },
  {
   "cell_type": "code",
   "execution_count": 17,
   "metadata": {},
   "outputs": [
    {
     "name": "stderr",
     "output_type": "stream",
     "text": [
      "INFO:polars_ds.diagnosis:The following columns are not numeric/not in the dataframe, skipped: \n",
      "['City_Code', 'Source', 'City_Category', 'Contacted', 'DOB', 'Source_Category', 'ID', 'Lead_Creation_Date', 'Gender', 'Employer_Code', 'Customer_Existing_Primary_Bank_Code', 'Employer_Category1', 'Primary_Bank_Type']\n"
     ]
    },
    {
     "data": {
      "text/html": [
       "<div><style>\n",
       ".dataframe > thead > tr,\n",
       ".dataframe > tbody > tr {\n",
       "  text-align: right;\n",
       "  white-space: pre-wrap;\n",
       "}\n",
       "</style>\n",
       "<small>shape: (9, 10)</small><table border=\"1\" class=\"dataframe\"><thead><tr><th>column</th><th>Employer_Category2</th><th>Monthly_Income</th><th>Existing_EMI</th><th>Loan_Amount</th><th>Loan_Period</th><th>Interest_Rate</th><th>EMI</th><th>Var1</th><th>Approved</th></tr><tr><td>str</td><td>f64</td><td>f64</td><td>f64</td><td>f64</td><td>f64</td><td>f64</td><td>f64</td><td>f64</td><td>f64</td></tr></thead><tbody><tr><td>&quot;Employer_Categ…</td><td>1.0</td><td>0.001546</td><td>-0.017074</td><td>-0.061479</td><td>-0.007449</td><td>0.177605</td><td>-0.051729</td><td>-0.124415</td><td>-0.019413</td></tr><tr><td>&quot;Monthly_Income…</td><td>0.001546</td><td>1.0</td><td>0.245826</td><td>0.039998</td><td>-0.003671</td><td>-0.014789</td><td>0.035163</td><td>0.024854</td><td>0.000472</td></tr><tr><td>&quot;Existing_EMI&quot;</td><td>-0.017074</td><td>0.245826</td><td>1.0</td><td>0.008653</td><td>-0.004603</td><td>-0.023001</td><td>0.000813</td><td>0.00662</td><td>0.027821</td></tr><tr><td>&quot;Loan_Amount&quot;</td><td>-0.061479</td><td>0.039998</td><td>0.008653</td><td>1.0</td><td>0.379921</td><td>-0.321095</td><td>0.916832</td><td>0.307945</td><td>0.046502</td></tr><tr><td>&quot;Loan_Period&quot;</td><td>-0.007449</td><td>-0.003671</td><td>-0.004603</td><td>0.379921</td><td>1.0</td><td>-0.096629</td><td>0.083965</td><td>-0.065702</td><td>-0.000375</td></tr><tr><td>&quot;Interest_Rate&quot;</td><td>0.177605</td><td>-0.014789</td><td>-0.023001</td><td>-0.321095</td><td>-0.096629</td><td>1.0</td><td>-0.241648</td><td>-0.554138</td><td>-0.094387</td></tr><tr><td>&quot;EMI&quot;</td><td>-0.051729</td><td>0.035163</td><td>0.000813</td><td>0.916832</td><td>0.083965</td><td>-0.241648</td><td>1.0</td><td>0.293474</td><td>0.050129</td></tr><tr><td>&quot;Var1&quot;</td><td>-0.124415</td><td>0.024854</td><td>0.00662</td><td>0.307945</td><td>-0.065702</td><td>-0.554138</td><td>0.293474</td><td>1.0</td><td>0.11244</td></tr><tr><td>&quot;Approved&quot;</td><td>-0.019413</td><td>0.000472</td><td>0.027821</td><td>0.046502</td><td>-0.000375</td><td>-0.094387</td><td>0.050129</td><td>0.11244</td><td>1.0</td></tr></tbody></table></div>"
      ],
      "text/plain": [
       "shape: (9, 10)\n",
       "┌───────────┬───────────┬───────────┬───────────┬───┬───────────┬───────────┬───────────┬──────────┐\n",
       "│ column    ┆ Employer_ ┆ Monthly_I ┆ Existing_ ┆ … ┆ Interest_ ┆ EMI       ┆ Var1      ┆ Approved │\n",
       "│ ---       ┆ Category2 ┆ ncome     ┆ EMI       ┆   ┆ Rate      ┆ ---       ┆ ---       ┆ ---      │\n",
       "│ str       ┆ ---       ┆ ---       ┆ ---       ┆   ┆ ---       ┆ f64       ┆ f64       ┆ f64      │\n",
       "│           ┆ f64       ┆ f64       ┆ f64       ┆   ┆ f64       ┆           ┆           ┆          │\n",
       "╞═══════════╪═══════════╪═══════════╪═══════════╪═══╪═══════════╪═══════════╪═══════════╪══════════╡\n",
       "│ Employer_ ┆ 1.0       ┆ 0.001546  ┆ -0.017074 ┆ … ┆ 0.177605  ┆ -0.051729 ┆ -0.124415 ┆ -0.01941 │\n",
       "│ Category2 ┆           ┆           ┆           ┆   ┆           ┆           ┆           ┆ 3        │\n",
       "│ Monthly_I ┆ 0.001546  ┆ 1.0       ┆ 0.245826  ┆ … ┆ -0.014789 ┆ 0.035163  ┆ 0.024854  ┆ 0.000472 │\n",
       "│ ncome     ┆           ┆           ┆           ┆   ┆           ┆           ┆           ┆          │\n",
       "│ Existing_ ┆ -0.017074 ┆ 0.245826  ┆ 1.0       ┆ … ┆ -0.023001 ┆ 0.000813  ┆ 0.00662   ┆ 0.027821 │\n",
       "│ EMI       ┆           ┆           ┆           ┆   ┆           ┆           ┆           ┆          │\n",
       "│ Loan_Amou ┆ -0.061479 ┆ 0.039998  ┆ 0.008653  ┆ … ┆ -0.321095 ┆ 0.916832  ┆ 0.307945  ┆ 0.046502 │\n",
       "│ nt        ┆           ┆           ┆           ┆   ┆           ┆           ┆           ┆          │\n",
       "│ Loan_Peri ┆ -0.007449 ┆ -0.003671 ┆ -0.004603 ┆ … ┆ -0.096629 ┆ 0.083965  ┆ -0.065702 ┆ -0.00037 │\n",
       "│ od        ┆           ┆           ┆           ┆   ┆           ┆           ┆           ┆ 5        │\n",
       "│ Interest_ ┆ 0.177605  ┆ -0.014789 ┆ -0.023001 ┆ … ┆ 1.0       ┆ -0.241648 ┆ -0.554138 ┆ -0.09438 │\n",
       "│ Rate      ┆           ┆           ┆           ┆   ┆           ┆           ┆           ┆ 7        │\n",
       "│ EMI       ┆ -0.051729 ┆ 0.035163  ┆ 0.000813  ┆ … ┆ -0.241648 ┆ 1.0       ┆ 0.293474  ┆ 0.050129 │\n",
       "│ Var1      ┆ -0.124415 ┆ 0.024854  ┆ 0.00662   ┆ … ┆ -0.554138 ┆ 0.293474  ┆ 1.0       ┆ 0.11244  │\n",
       "│ Approved  ┆ -0.019413 ┆ 0.000472  ┆ 0.027821  ┆ … ┆ -0.094387 ┆ 0.050129  ┆ 0.11244   ┆ 1.0      │\n",
       "└───────────┴───────────┴───────────┴───────────┴───┴───────────┴───────────┴───────────┴──────────┘"
      ]
     },
     "execution_count": 17,
     "metadata": {},
     "output_type": "execute_result"
    }
   ],
   "source": [
    "dia.corr(subset=cs.all(), method=\"xi\")"
   ]
  },
  {
   "cell_type": "code",
   "execution_count": 18,
   "metadata": {},
   "outputs": [
    {
     "data": {
      "text/html": [
       "<div id=\"coerzhuxih\" style=\"padding-left:0px;padding-right:0px;padding-top:10px;padding-bottom:10px;overflow-x:auto;overflow-y:auto;width:auto;height:auto;\">\n",
       "<style>\n",
       "#coerzhuxih table {\n",
       "          font-family: -apple-system, BlinkMacSystemFont, 'Segoe UI', Roboto, Oxygen, Ubuntu, Cantarell, 'Helvetica Neue', 'Fira Sans', 'Droid Sans', Arial, sans-serif;\n",
       "          -webkit-font-smoothing: antialiased;\n",
       "          -moz-osx-font-smoothing: grayscale;\n",
       "        }\n",
       "\n",
       "#coerzhuxih thead, tbody, tfoot, tr, td, th { border-style: none !important; }\n",
       " tr { background-color: transparent !important; }\n",
       "#coerzhuxih p { margin: 0 !important; padding: 0 !important; }\n",
       " #coerzhuxih .gt_table { display: table !important; border-collapse: collapse !important; line-height: normal !important; margin-left: auto !important; margin-right: auto !important; color: #333333 !important; font-size: 16px !important; font-weight: normal !important; font-style: normal !important; background-color: #FFFFFF !important; width: auto !important; border-top-style: solid !important; border-top-width: 2px !important; border-top-color: #A8A8A8 !important; border-right-style: none !important; border-right-width: 2px !important; border-right-color: #D3D3D3 !important; border-bottom-style: solid !important; border-bottom-width: 2px !important; border-bottom-color: #A8A8A8 !important; border-left-style: none !important; border-left-width: 2px !important; border-left-color: #D3D3D3 !important; }\n",
       " #coerzhuxih .gt_caption { padding-top: 4px !important; padding-bottom: 4px !important; }\n",
       " #coerzhuxih .gt_title { color: #333333 !important; font-size: 125% !important; font-weight: initial !important; padding-top: 4px !important; padding-bottom: 4px !important; padding-left: 5px !important; padding-right: 5px !important; border-bottom-color: #FFFFFF !important; border-bottom-width: 0 !important; }\n",
       " #coerzhuxih .gt_subtitle { color: #333333 !important; font-size: 85% !important; font-weight: initial !important; padding-top: 3px !important; padding-bottom: 5px !important; padding-left: 5px !important; padding-right: 5px !important; border-top-color: #FFFFFF !important; border-top-width: 0 !important; }\n",
       " #coerzhuxih .gt_heading { background-color: #FFFFFF !important; text-align: center !important; border-bottom-color: #FFFFFF !important; border-left-style: none !important; border-left-width: 1px !important; border-left-color: #D3D3D3 !important; border-right-style: none !important; border-right-width: 1px !important; border-right-color: #D3D3D3 !important; }\n",
       " #coerzhuxih .gt_bottom_border { border-bottom-style: solid !important; border-bottom-width: 2px !important; border-bottom-color: #D3D3D3 !important; }\n",
       " #coerzhuxih .gt_col_headings { border-top-style: solid !important; border-top-width: 2px !important; border-top-color: #D3D3D3 !important; border-bottom-style: solid !important; border-bottom-width: 2px !important; border-bottom-color: #D3D3D3 !important; border-left-style: none !important; border-left-width: 1px !important; border-left-color: #D3D3D3 !important; border-right-style: none !important; border-right-width: 1px !important; border-right-color: #D3D3D3 !important; }\n",
       " #coerzhuxih .gt_col_heading { color: #333333 !important; background-color: #FFFFFF !important; font-size: 100% !important; font-weight: normal !important; text-transform: inherit !important; border-left-style: none !important; border-left-width: 1px !important; border-left-color: #D3D3D3 !important; border-right-style: none !important; border-right-width: 1px !important; border-right-color: #D3D3D3 !important; vertical-align: bottom !important; padding-top: 5px !important; padding-bottom: 5px !important; padding-left: 5px !important; padding-right: 5px !important; overflow-x: hidden !important; }\n",
       " #coerzhuxih .gt_column_spanner_outer { color: #333333 !important; background-color: #FFFFFF !important; font-size: 100% !important; font-weight: normal !important; text-transform: inherit !important; padding-top: 0 !important; padding-bottom: 0 !important; padding-left: 4px !important; padding-right: 4px !important; }\n",
       " #coerzhuxih .gt_column_spanner_outer:first-child { padding-left: 0 !important; }\n",
       " #coerzhuxih .gt_column_spanner_outer:last-child { padding-right: 0 !important; }\n",
       " #coerzhuxih .gt_column_spanner { border-bottom-style: solid !important; border-bottom-width: 2px !important; border-bottom-color: #D3D3D3 !important; vertical-align: bottom !important; padding-top: 5px !important; padding-bottom: 5px !important; overflow-x: hidden !important; display: inline-block !important; width: 100% !important; }\n",
       " #coerzhuxih .gt_spanner_row { border-bottom-style: hidden !important; }\n",
       " #coerzhuxih .gt_group_heading { padding-top: 8px !important; padding-bottom: 8px !important; padding-left: 5px !important; padding-right: 5px !important; color: #333333 !important; background-color: #FFFFFF !important; font-size: 100% !important; font-weight: initial !important; text-transform: inherit !important; border-top-style: solid !important; border-top-width: 2px !important; border-top-color: #D3D3D3 !important; border-bottom-style: solid !important; border-bottom-width: 2px !important; border-bottom-color: #D3D3D3 !important; border-left-style: none !important; border-left-width: 1px !important; border-left-color: #D3D3D3 !important; border-right-style: none !important; border-right-width: 1px !important; border-right-color: #D3D3D3 !important; vertical-align: middle !important; text-align: left !important; }\n",
       " #coerzhuxih .gt_empty_group_heading { padding: 0.5px !important; color: #333333 !important; background-color: #FFFFFF !important; font-size: 100% !important; font-weight: initial !important; border-top-style: solid !important; border-top-width: 2px !important; border-top-color: #D3D3D3 !important; border-bottom-style: solid !important; border-bottom-width: 2px !important; border-bottom-color: #D3D3D3 !important; vertical-align: middle !important; }\n",
       " #coerzhuxih .gt_from_md> :first-child { margin-top: 0 !important; }\n",
       " #coerzhuxih .gt_from_md> :last-child { margin-bottom: 0 !important; }\n",
       " #coerzhuxih .gt_row { padding-top: 8px !important; padding-bottom: 8px !important; padding-left: 5px !important; padding-right: 5px !important; margin: 10px !important; border-top-style: solid !important; border-top-width: 1px !important; border-top-color: #D3D3D3 !important; border-left-style: none !important; border-left-width: 1px !important; border-left-color: #D3D3D3 !important; border-right-style: none !important; border-right-width: 1px !important; border-right-color: #D3D3D3 !important; vertical-align: middle !important; overflow-x: hidden !important; }\n",
       " #coerzhuxih .gt_stub { color: #333333 !important; background-color: #FFFFFF !important; font-size: 100% !important; font-weight: initial !important; text-transform: inherit !important; border-right-style: solid !important; border-right-width: 2px !important; border-right-color: #D3D3D3 !important; padding-left: 5px !important; padding-right: 5px !important; }\n",
       " #coerzhuxih .gt_stub_row_group { color: #333333 !important; background-color: #FFFFFF !important; font-size: 100% !important; font-weight: initial !important; text-transform: inherit !important; border-right-style: solid !important; border-right-width: 2px !important; border-right-color: #D3D3D3 !important; padding-left: 5px !important; padding-right: 5px !important; vertical-align: top !important; }\n",
       " #coerzhuxih .gt_row_group_first td { border-top-width: 2px !important; }\n",
       " #coerzhuxih .gt_row_group_first th { border-top-width: 2px !important; }\n",
       " #coerzhuxih .gt_table_body { border-top-style: solid !important; border-top-width: 2px !important; border-top-color: #D3D3D3 !important; border-bottom-style: solid !important; border-bottom-width: 2px !important; border-bottom-color: #D3D3D3 !important; }\n",
       " #coerzhuxih .gt_sourcenotes { color: #333333 !important; background-color: #FFFFFF !important; border-bottom-style: none !important; border-bottom-width: 2px !important; border-bottom-color: #D3D3D3 !important; border-left-style: none !important; border-left-width: 2px !important; border-left-color: #D3D3D3 !important; border-right-style: none !important; border-right-width: 2px !important; border-right-color: #D3D3D3 !important; }\n",
       " #coerzhuxih .gt_sourcenote { font-size: 90% !important; padding-top: 4px !important; padding-bottom: 4px !important; padding-left: 5px !important; padding-right: 5px !important; text-align: left !important; }\n",
       " #coerzhuxih .gt_left { text-align: left !important; }\n",
       " #coerzhuxih .gt_center { text-align: center !important; }\n",
       " #coerzhuxih .gt_right { text-align: right !important; font-variant-numeric: tabular-nums !important; }\n",
       " #coerzhuxih .gt_font_normal { font-weight: normal !important; }\n",
       " #coerzhuxih .gt_font_bold { font-weight: bold !important; }\n",
       " #coerzhuxih .gt_font_italic { font-style: italic !important; }\n",
       " #coerzhuxih .gt_super { font-size: 65% !important; }\n",
       " #coerzhuxih .gt_footnote_marks { font-size: 75% !important; vertical-align: 0.4em !important; position: initial !important; }\n",
       " #coerzhuxih .gt_asterisk { font-size: 100% !important; vertical-align: 0 !important; }\n",
       " \n",
       "</style>\n",
       "<table class=\"gt_table\" data-quarto-disable-processing=\"false\" data-quarto-bootstrap=\"false\">\n",
       "\n",
       "<tr class=\"gt_col_headings\">\n",
       "  <th class=\"gt_col_heading gt_columns_bottom_border gt_left\" rowspan=\"1\" colspan=\"1\" scope=\"col\" id=\"column\">column</th>\n",
       "  <th class=\"gt_col_heading gt_columns_bottom_border gt_right\" rowspan=\"1\" colspan=\"1\" scope=\"col\" id=\"Employer_Category2\">Employer_Category2</th>\n",
       "  <th class=\"gt_col_heading gt_columns_bottom_border gt_right\" rowspan=\"1\" colspan=\"1\" scope=\"col\" id=\"Monthly_Income\">Monthly_Income</th>\n",
       "  <th class=\"gt_col_heading gt_columns_bottom_border gt_right\" rowspan=\"1\" colspan=\"1\" scope=\"col\" id=\"Existing_EMI\">Existing_EMI</th>\n",
       "  <th class=\"gt_col_heading gt_columns_bottom_border gt_right\" rowspan=\"1\" colspan=\"1\" scope=\"col\" id=\"Loan_Amount\">Loan_Amount</th>\n",
       "  <th class=\"gt_col_heading gt_columns_bottom_border gt_right\" rowspan=\"1\" colspan=\"1\" scope=\"col\" id=\"Loan_Period\">Loan_Period</th>\n",
       "  <th class=\"gt_col_heading gt_columns_bottom_border gt_right\" rowspan=\"1\" colspan=\"1\" scope=\"col\" id=\"Interest_Rate\">Interest_Rate</th>\n",
       "  <th class=\"gt_col_heading gt_columns_bottom_border gt_right\" rowspan=\"1\" colspan=\"1\" scope=\"col\" id=\"EMI\">EMI</th>\n",
       "  <th class=\"gt_col_heading gt_columns_bottom_border gt_right\" rowspan=\"1\" colspan=\"1\" scope=\"col\" id=\"Var1\">Var1</th>\n",
       "  <th class=\"gt_col_heading gt_columns_bottom_border gt_right\" rowspan=\"1\" colspan=\"1\" scope=\"col\" id=\"Approved\">Approved</th>\n",
       "</tr>\n",
       "<tbody class=\"gt_table_body\">\n",
       "<tr>\n",
       "  <td class=\"gt_row gt_left\">Monthly_Income</td>\n",
       "  <td style=\"color: #FFFFFF; background-color: #60027a;\" class=\"gt_row gt_right\">0.002</td>\n",
       "  <td style=\"color: #FFFFFF; background-color: #bd0237;\" class=\"gt_row gt_right\">1.000</td>\n",
       "  <td style=\"color: #FFFFFF; background-color: #76026a;\" class=\"gt_row gt_right\">0.246</td>\n",
       "  <td style=\"color: #FFFFFF; background-color: #630277;\" class=\"gt_row gt_right\">0.040</td>\n",
       "  <td style=\"color: #FFFFFF; background-color: #5f027a;\" class=\"gt_row gt_right\">−0.004</td>\n",
       "  <td style=\"color: #FFFFFF; background-color: #5e027b;\" class=\"gt_row gt_right\">−0.015</td>\n",
       "  <td style=\"color: #FFFFFF; background-color: #630278;\" class=\"gt_row gt_right\">0.035</td>\n",
       "  <td style=\"color: #FFFFFF; background-color: #620278;\" class=\"gt_row gt_right\">0.025</td>\n",
       "  <td style=\"color: #FFFFFF; background-color: #60027a;\" class=\"gt_row gt_right\">0.000</td>\n",
       "</tr>\n",
       "<tr>\n",
       "  <td class=\"gt_row gt_left\">Existing_EMI</td>\n",
       "  <td style=\"color: #FFFFFF; background-color: #5e027b;\" class=\"gt_row gt_right\">−0.017</td>\n",
       "  <td style=\"color: #FFFFFF; background-color: #76026a;\" class=\"gt_row gt_right\">0.246</td>\n",
       "  <td style=\"color: #FFFFFF; background-color: #bd0237;\" class=\"gt_row gt_right\">1.000</td>\n",
       "  <td style=\"color: #FFFFFF; background-color: #600279;\" class=\"gt_row gt_right\">0.009</td>\n",
       "  <td style=\"color: #FFFFFF; background-color: #5f027a;\" class=\"gt_row gt_right\">−0.005</td>\n",
       "  <td style=\"color: #FFFFFF; background-color: #5d027c;\" class=\"gt_row gt_right\">−0.023</td>\n",
       "  <td style=\"color: #FFFFFF; background-color: #60027a;\" class=\"gt_row gt_right\">0.001</td>\n",
       "  <td style=\"color: #FFFFFF; background-color: #60027a;\" class=\"gt_row gt_right\">0.007</td>\n",
       "  <td style=\"color: #FFFFFF; background-color: #620278;\" class=\"gt_row gt_right\">0.028</td>\n",
       "</tr>\n",
       "</tbody>\n",
       "\n",
       "\n",
       "</table>\n",
       "\n",
       "</div>\n",
       "        "
      ],
      "text/plain": [
       "GT(_tbl_data=shape: (2, 10)\n",
       "┌────────────┬────────────┬───────────┬───────────┬───┬───────────┬──────────┬──────────┬──────────┐\n",
       "│ column     ┆ Employer_C ┆ Monthly_I ┆ Existing_ ┆ … ┆ Interest_ ┆ EMI      ┆ Var1     ┆ Approved │\n",
       "│ ---        ┆ ategory2   ┆ ncome     ┆ EMI       ┆   ┆ Rate      ┆ ---      ┆ ---      ┆ ---      │\n",
       "│ str        ┆ ---        ┆ ---       ┆ ---       ┆   ┆ ---       ┆ f64      ┆ f64      ┆ f64      │\n",
       "│            ┆ f64        ┆ f64       ┆ f64       ┆   ┆ f64       ┆          ┆          ┆          │\n",
       "╞════════════╪════════════╪═══════════╪═══════════╪═══╪═══════════╪══════════╪══════════╪══════════╡\n",
       "│ Monthly_In ┆ 0.001546   ┆ 1.0       ┆ 0.245826  ┆ … ┆ -0.014789 ┆ 0.035163 ┆ 0.024854 ┆ 0.000472 │\n",
       "│ come       ┆            ┆           ┆           ┆   ┆           ┆          ┆          ┆          │\n",
       "│ Existing_E ┆ -0.017074  ┆ 0.245826  ┆ 1.0       ┆ … ┆ -0.023001 ┆ 0.000813 ┆ 0.00662  ┆ 0.027821 │\n",
       "│ MI         ┆            ┆           ┆           ┆   ┆           ┆          ┆          ┆          │\n",
       "└────────────┴────────────┴───────────┴───────────┴───┴───────────┴──────────┴──────────┴──────────┘, _body=<great_tables._gt_data.Body object at 0x70dac7fc9b10>, _boxhead=Boxhead([ColInfo(var='column', type=<ColInfoTypeEnum.default: 1>, column_label='column', column_align='left', column_width=None), ColInfo(var='Employer_Category2', type=<ColInfoTypeEnum.default: 1>, column_label='Employer_Category2', column_align='right', column_width=None), ColInfo(var='Monthly_Income', type=<ColInfoTypeEnum.default: 1>, column_label='Monthly_Income', column_align='right', column_width=None), ColInfo(var='Existing_EMI', type=<ColInfoTypeEnum.default: 1>, column_label='Existing_EMI', column_align='right', column_width=None), ColInfo(var='Loan_Amount', type=<ColInfoTypeEnum.default: 1>, column_label='Loan_Amount', column_align='right', column_width=None), ColInfo(var='Loan_Period', type=<ColInfoTypeEnum.default: 1>, column_label='Loan_Period', column_align='right', column_width=None), ColInfo(var='Interest_Rate', type=<ColInfoTypeEnum.default: 1>, column_label='Interest_Rate', column_align='right', column_width=None), ColInfo(var='EMI', type=<ColInfoTypeEnum.default: 1>, column_label='EMI', column_align='right', column_width=None), ColInfo(var='Var1', type=<ColInfoTypeEnum.default: 1>, column_label='Var1', column_align='right', column_width=None), ColInfo(var='Approved', type=<ColInfoTypeEnum.default: 1>, column_label='Approved', column_align='right', column_width=None)]), _stub=Stub([RowInfo(rownum_i=0, group_id=None, rowname=None, group_label=None, built=False), RowInfo(rownum_i=1, group_id=None, rowname=None, group_label=None, built=False)]), _row_groups=[], _group_rows=GroupRows([]), _spanners=Spanners([]), _heading=Heading(title=None, subtitle=None, preheader=None), _stubhead=None, _source_notes=[], _footnotes=[], _styles=[StyleInfo(locname='data', locnum=5, grpname=None, colname='Employer_Category2', rownum=0, colnum=None, styles=[CellStyleText(color='#FFFFFF', font=None, size=None, align=None, v_align=None, style=None, weight=None, stretch=None, decorate=None, transform=None, whitespace=None), CellStyleFill(color='#60027a')]), StyleInfo(locname='data', locnum=5, grpname=None, colname='Employer_Category2', rownum=1, colnum=None, styles=[CellStyleText(color='#FFFFFF', font=None, size=None, align=None, v_align=None, style=None, weight=None, stretch=None, decorate=None, transform=None, whitespace=None), CellStyleFill(color='#5e027b')]), StyleInfo(locname='data', locnum=5, grpname=None, colname='Monthly_Income', rownum=0, colnum=None, styles=[CellStyleText(color='#FFFFFF', font=None, size=None, align=None, v_align=None, style=None, weight=None, stretch=None, decorate=None, transform=None, whitespace=None), CellStyleFill(color='#bd0237')]), StyleInfo(locname='data', locnum=5, grpname=None, colname='Monthly_Income', rownum=1, colnum=None, styles=[CellStyleText(color='#FFFFFF', font=None, size=None, align=None, v_align=None, style=None, weight=None, stretch=None, decorate=None, transform=None, whitespace=None), CellStyleFill(color='#76026a')]), StyleInfo(locname='data', locnum=5, grpname=None, colname='Existing_EMI', rownum=0, colnum=None, styles=[CellStyleText(color='#FFFFFF', font=None, size=None, align=None, v_align=None, style=None, weight=None, stretch=None, decorate=None, transform=None, whitespace=None), CellStyleFill(color='#76026a')]), StyleInfo(locname='data', locnum=5, grpname=None, colname='Existing_EMI', rownum=1, colnum=None, styles=[CellStyleText(color='#FFFFFF', font=None, size=None, align=None, v_align=None, style=None, weight=None, stretch=None, decorate=None, transform=None, whitespace=None), CellStyleFill(color='#bd0237')]), StyleInfo(locname='data', locnum=5, grpname=None, colname='Loan_Amount', rownum=0, colnum=None, styles=[CellStyleText(color='#FFFFFF', font=None, size=None, align=None, v_align=None, style=None, weight=None, stretch=None, decorate=None, transform=None, whitespace=None), CellStyleFill(color='#630277')]), StyleInfo(locname='data', locnum=5, grpname=None, colname='Loan_Amount', rownum=1, colnum=None, styles=[CellStyleText(color='#FFFFFF', font=None, size=None, align=None, v_align=None, style=None, weight=None, stretch=None, decorate=None, transform=None, whitespace=None), CellStyleFill(color='#600279')]), StyleInfo(locname='data', locnum=5, grpname=None, colname='Loan_Period', rownum=0, colnum=None, styles=[CellStyleText(color='#FFFFFF', font=None, size=None, align=None, v_align=None, style=None, weight=None, stretch=None, decorate=None, transform=None, whitespace=None), CellStyleFill(color='#5f027a')]), StyleInfo(locname='data', locnum=5, grpname=None, colname='Loan_Period', rownum=1, colnum=None, styles=[CellStyleText(color='#FFFFFF', font=None, size=None, align=None, v_align=None, style=None, weight=None, stretch=None, decorate=None, transform=None, whitespace=None), CellStyleFill(color='#5f027a')]), StyleInfo(locname='data', locnum=5, grpname=None, colname='Interest_Rate', rownum=0, colnum=None, styles=[CellStyleText(color='#FFFFFF', font=None, size=None, align=None, v_align=None, style=None, weight=None, stretch=None, decorate=None, transform=None, whitespace=None), CellStyleFill(color='#5e027b')]), StyleInfo(locname='data', locnum=5, grpname=None, colname='Interest_Rate', rownum=1, colnum=None, styles=[CellStyleText(color='#FFFFFF', font=None, size=None, align=None, v_align=None, style=None, weight=None, stretch=None, decorate=None, transform=None, whitespace=None), CellStyleFill(color='#5d027c')]), StyleInfo(locname='data', locnum=5, grpname=None, colname='EMI', rownum=0, colnum=None, styles=[CellStyleText(color='#FFFFFF', font=None, size=None, align=None, v_align=None, style=None, weight=None, stretch=None, decorate=None, transform=None, whitespace=None), CellStyleFill(color='#630278')]), StyleInfo(locname='data', locnum=5, grpname=None, colname='EMI', rownum=1, colnum=None, styles=[CellStyleText(color='#FFFFFF', font=None, size=None, align=None, v_align=None, style=None, weight=None, stretch=None, decorate=None, transform=None, whitespace=None), CellStyleFill(color='#60027a')]), StyleInfo(locname='data', locnum=5, grpname=None, colname='Var1', rownum=0, colnum=None, styles=[CellStyleText(color='#FFFFFF', font=None, size=None, align=None, v_align=None, style=None, weight=None, stretch=None, decorate=None, transform=None, whitespace=None), CellStyleFill(color='#620278')]), StyleInfo(locname='data', locnum=5, grpname=None, colname='Var1', rownum=1, colnum=None, styles=[CellStyleText(color='#FFFFFF', font=None, size=None, align=None, v_align=None, style=None, weight=None, stretch=None, decorate=None, transform=None, whitespace=None), CellStyleFill(color='#60027a')]), StyleInfo(locname='data', locnum=5, grpname=None, colname='Approved', rownum=0, colnum=None, styles=[CellStyleText(color='#FFFFFF', font=None, size=None, align=None, v_align=None, style=None, weight=None, stretch=None, decorate=None, transform=None, whitespace=None), CellStyleFill(color='#60027a')]), StyleInfo(locname='data', locnum=5, grpname=None, colname='Approved', rownum=1, colnum=None, styles=[CellStyleText(color='#FFFFFF', font=None, size=None, align=None, v_align=None, style=None, weight=None, stretch=None, decorate=None, transform=None, whitespace=None), CellStyleFill(color='#620278')])], _locale=<great_tables._gt_data.Locale object at 0x70dac7fcadd0>, _formats=[<great_tables._gt_data.FormatInfo object at 0x70dac7fbde90>], _substitutions=[], _options=Options(table_id=OptionsInfo(scss=False, category='table', type='value', value=None), table_caption=OptionsInfo(scss=False, category='table', type='value', value=None), table_width=OptionsInfo(scss=True, category='table', type='px', value='auto'), table_layout=OptionsInfo(scss=True, category='table', type='value', value='fixed'), table_margin_left=OptionsInfo(scss=True, category='table', type='px', value='auto'), table_margin_right=OptionsInfo(scss=True, category='table', type='px', value='auto'), table_background_color=OptionsInfo(scss=True, category='table', type='value', value='#FFFFFF'), table_font_names=OptionsInfo(scss=False, category='table', type='values', value=['-apple-system', 'BlinkMacSystemFont', 'Segoe UI', 'Roboto', 'Oxygen', 'Ubuntu', 'Cantarell', 'Helvetica Neue', 'Fira Sans', 'Droid Sans', 'Arial', 'sans-serif']), table_font_size=OptionsInfo(scss=True, category='table', type='px', value='16px'), table_font_weight=OptionsInfo(scss=True, category='table', type='value', value='normal'), table_font_style=OptionsInfo(scss=True, category='table', type='value', value='normal'), table_font_color=OptionsInfo(scss=True, category='table', type='value', value='#333333'), table_font_color_light=OptionsInfo(scss=True, category='table', type='value', value='#FFFFFF'), table_border_top_include=OptionsInfo(scss=False, category='table', type='boolean', value=True), table_border_top_style=OptionsInfo(scss=True, category='table', type='value', value='solid'), table_border_top_width=OptionsInfo(scss=True, category='table', type='px', value='2px'), table_border_top_color=OptionsInfo(scss=True, category='table', type='value', value='#A8A8A8'), table_border_right_style=OptionsInfo(scss=True, category='table', type='value', value='none'), table_border_right_width=OptionsInfo(scss=True, category='table', type='px', value='2px'), table_border_right_color=OptionsInfo(scss=True, category='table', type='value', value='#D3D3D3'), table_border_bottom_include=OptionsInfo(scss=False, category='table', type='boolean', value=True), table_border_bottom_style=OptionsInfo(scss=True, category='table', type='value', value='solid'), table_border_bottom_width=OptionsInfo(scss=True, category='table', type='px', value='2px'), table_border_bottom_color=OptionsInfo(scss=True, category='table', type='value', value='#A8A8A8'), table_border_left_style=OptionsInfo(scss=True, category='table', type='value', value='none'), table_border_left_width=OptionsInfo(scss=True, category='table', type='px', value='2px'), table_border_left_color=OptionsInfo(scss=True, category='table', type='value', value='#D3D3D3'), heading_background_color=OptionsInfo(scss=True, category='heading', type='value', value=None), heading_align=OptionsInfo(scss=True, category='heading', type='value', value='center'), heading_title_font_size=OptionsInfo(scss=True, category='heading', type='px', value='125%'), heading_title_font_weight=OptionsInfo(scss=True, category='heading', type='value', value='initial'), heading_subtitle_font_size=OptionsInfo(scss=True, category='heading', type='px', value='85%'), heading_subtitle_font_weight=OptionsInfo(scss=True, category='heading', type='value', value='initial'), heading_padding=OptionsInfo(scss=True, category='heading', type='px', value='4px'), heading_padding_horizontal=OptionsInfo(scss=True, category='heading', type='px', value='5px'), heading_border_bottom_style=OptionsInfo(scss=True, category='heading', type='value', value='solid'), heading_border_bottom_width=OptionsInfo(scss=True, category='heading', type='px', value='2px'), heading_border_bottom_color=OptionsInfo(scss=True, category='heading', type='value', value='#D3D3D3'), heading_border_lr_style=OptionsInfo(scss=True, category='heading', type='value', value='none'), heading_border_lr_width=OptionsInfo(scss=True, category='heading', type='px', value='1px'), heading_border_lr_color=OptionsInfo(scss=True, category='heading', type='value', value='#D3D3D3'), column_labels_background_color=OptionsInfo(scss=True, category='column_labels', type='value', value=None), column_labels_font_size=OptionsInfo(scss=True, category='column_labels', type='px', value='100%'), column_labels_font_weight=OptionsInfo(scss=True, category='column_labels', type='value', value='normal'), column_labels_text_transform=OptionsInfo(scss=True, category='column_labels', type='value', value='inherit'), column_labels_padding=OptionsInfo(scss=True, category='column_labels', type='px', value='5px'), column_labels_padding_horizontal=OptionsInfo(scss=True, category='column_labels', type='px', value='5px'), column_labels_vlines_style=OptionsInfo(scss=True, category='table_body', type='value', value='none'), column_labels_vlines_width=OptionsInfo(scss=True, category='table_body', type='px', value='1px'), column_labels_vlines_color=OptionsInfo(scss=True, category='table_body', type='value', value='#D3D3D3'), column_labels_border_top_style=OptionsInfo(scss=True, category='column_labels', type='value', value='solid'), column_labels_border_top_width=OptionsInfo(scss=True, category='column_labels', type='px', value='2px'), column_labels_border_top_color=OptionsInfo(scss=True, category='column_labels', type='value', value='#D3D3D3'), column_labels_border_bottom_style=OptionsInfo(scss=True, category='column_labels', type='value', value='solid'), column_labels_border_bottom_width=OptionsInfo(scss=True, category='column_labels', type='px', value='2px'), column_labels_border_bottom_color=OptionsInfo(scss=True, category='column_labels', type='value', value='#D3D3D3'), column_labels_border_lr_style=OptionsInfo(scss=True, category='column_labels', type='value', value='none'), column_labels_border_lr_width=OptionsInfo(scss=True, category='column_labels', type='px', value='1px'), column_labels_border_lr_color=OptionsInfo(scss=True, category='column_labels', type='value', value='#D3D3D3'), column_labels_hidden=OptionsInfo(scss=False, category='column_labels', type='boolean', value=False), row_group_background_color=OptionsInfo(scss=True, category='row_group', type='value', value=None), row_group_font_size=OptionsInfo(scss=True, category='row_group', type='px', value='100%'), row_group_font_weight=OptionsInfo(scss=True, category='row_group', type='value', value='initial'), row_group_text_transform=OptionsInfo(scss=True, category='row_group', type='value', value='inherit'), row_group_padding=OptionsInfo(scss=True, category='row_group', type='px', value='8px'), row_group_padding_horizontal=OptionsInfo(scss=True, category='row_group', type='px', value='5px'), row_group_border_top_style=OptionsInfo(scss=True, category='row_group', type='value', value='solid'), row_group_border_top_width=OptionsInfo(scss=True, category='row_group', type='px', value='2px'), row_group_border_top_color=OptionsInfo(scss=True, category='row_group', type='value', value='#D3D3D3'), row_group_border_right_style=OptionsInfo(scss=True, category='row_group', type='value', value='none'), row_group_border_right_width=OptionsInfo(scss=True, category='row_group', type='px', value='1px'), row_group_border_right_color=OptionsInfo(scss=True, category='row_group', type='value', value='#D3D3D3'), row_group_border_bottom_style=OptionsInfo(scss=True, category='row_group', type='value', value='solid'), row_group_border_bottom_width=OptionsInfo(scss=True, category='row_group', type='px', value='2px'), row_group_border_bottom_color=OptionsInfo(scss=True, category='row_group', type='value', value='#D3D3D3'), row_group_border_left_style=OptionsInfo(scss=True, category='row_group', type='value', value='none'), row_group_border_left_width=OptionsInfo(scss=True, category='row_group', type='px', value='1px'), row_group_border_left_color=OptionsInfo(scss=True, category='row_group', type='value', value='#D3D3D3'), row_group_as_column=OptionsInfo(scss=False, category='row_group', type='boolean', value=False), table_body_hlines_style=OptionsInfo(scss=True, category='table_body', type='value', value='solid'), table_body_hlines_width=OptionsInfo(scss=True, category='table_body', type='px', value='1px'), table_body_hlines_color=OptionsInfo(scss=True, category='table_body', type='value', value='#D3D3D3'), table_body_vlines_style=OptionsInfo(scss=True, category='table_body', type='value', value='none'), table_body_vlines_width=OptionsInfo(scss=True, category='table_body', type='px', value='1px'), table_body_vlines_color=OptionsInfo(scss=True, category='table_body', type='value', value='#D3D3D3'), table_body_border_top_style=OptionsInfo(scss=True, category='table_body', type='value', value='solid'), table_body_border_top_width=OptionsInfo(scss=True, category='table_body', type='px', value='2px'), table_body_border_top_color=OptionsInfo(scss=True, category='table_body', type='value', value='#D3D3D3'), table_body_border_bottom_style=OptionsInfo(scss=True, category='table_body', type='value', value='solid'), table_body_border_bottom_width=OptionsInfo(scss=True, category='table_body', type='px', value='2px'), table_body_border_bottom_color=OptionsInfo(scss=True, category='table_body', type='value', value='#D3D3D3'), data_row_padding=OptionsInfo(scss=True, category='data_row', type='px', value='8px'), data_row_padding_horizontal=OptionsInfo(scss=True, category='data_row', type='px', value='5px'), stub_background_color=OptionsInfo(scss=True, category='stub', type='value', value=None), stub_font_size=OptionsInfo(scss=True, category='stub', type='px', value='100%'), stub_font_weight=OptionsInfo(scss=True, category='stub', type='value', value='initial'), stub_text_transform=OptionsInfo(scss=True, category='stub', type='value', value='inherit'), stub_border_style=OptionsInfo(scss=True, category='stub', type='value', value='solid'), stub_border_width=OptionsInfo(scss=True, category='stub', type='px', value='2px'), stub_border_color=OptionsInfo(scss=True, category='stub', type='value', value='#D3D3D3'), stub_row_group_background_color=OptionsInfo(scss=True, category='stub', type='value', value=None), stub_row_group_font_size=OptionsInfo(scss=True, category='stub', type='px', value='100%'), stub_row_group_font_weight=OptionsInfo(scss=True, category='stub', type='value', value='initial'), stub_row_group_text_transform=OptionsInfo(scss=True, category='stub', type='value', value='inherit'), stub_row_group_border_style=OptionsInfo(scss=True, category='stub', type='value', value='solid'), stub_row_group_border_width=OptionsInfo(scss=True, category='stub', type='px', value='2px'), stub_row_group_border_color=OptionsInfo(scss=True, category='stub', type='value', value='#D3D3D3'), source_notes_padding=OptionsInfo(scss=True, category='source_notes', type='px', value='4px'), source_notes_padding_horizontal=OptionsInfo(scss=True, category='source_notes', type='px', value='5px'), source_notes_background_color=OptionsInfo(scss=True, category='source_notes', type='value', value=None), source_notes_font_size=OptionsInfo(scss=True, category='source_notes', type='px', value='90%'), source_notes_border_bottom_style=OptionsInfo(scss=True, category='source_notes', type='value', value='none'), source_notes_border_bottom_width=OptionsInfo(scss=True, category='source_notes', type='px', value='2px'), source_notes_border_bottom_color=OptionsInfo(scss=True, category='source_notes', type='value', value='#D3D3D3'), source_notes_border_lr_style=OptionsInfo(scss=True, category='source_notes', type='value', value='none'), source_notes_border_lr_width=OptionsInfo(scss=True, category='source_notes', type='px', value='2px'), source_notes_border_lr_color=OptionsInfo(scss=True, category='source_notes', type='value', value='#D3D3D3'), source_notes_multiline=OptionsInfo(scss=False, category='source_notes', type='boolean', value=True), source_notes_sep=OptionsInfo(scss=False, category='source_notes', type='value', value=' '), container_width=OptionsInfo(scss=False, category='container', type='px', value='auto'), container_height=OptionsInfo(scss=False, category='container', type='px', value='auto'), container_padding_x=OptionsInfo(scss=False, category='container', type='px', value='0px'), container_padding_y=OptionsInfo(scss=False, category='container', type='px', value='10px'), container_overflow_x=OptionsInfo(scss=False, category='container', type='overflow', value='auto'), container_overflow_y=OptionsInfo(scss=False, category='container', type='overflow', value='auto'), quarto_disable_processing=OptionsInfo(scss=False, category='quarto', type='logical', value=False), quarto_use_bootstrap=OptionsInfo(scss=False, category='quarto', type='logical', value=False)), _has_built=False)"
      ]
     },
     "execution_count": 18,
     "metadata": {},
     "output_type": "execute_result"
    }
   ],
   "source": [
    "dia.plot_corr(subset=[\"Monthly_Income\", \"Existing_EMI\"], method=\"spearman\")"
   ]
  },
  {
   "cell_type": "code",
   "execution_count": 19,
   "metadata": {},
   "outputs": [
    {
     "name": "stderr",
     "output_type": "stream",
     "text": [
      "INFO:polars_ds.diagnosis:The following columns are not numeric/not in the dataframe, skipped: \n",
      "['City_Code', 'Source', 'City_Category', 'Contacted', 'DOB', 'Source_Category', 'ID', 'Lead_Creation_Date', 'Gender', 'Employer_Code', 'Customer_Existing_Primary_Bank_Code', 'Employer_Category1', 'Primary_Bank_Type']\n"
     ]
    },
    {
     "data": {
      "text/html": [
       "<div id=\"mlgsifxqdx\" style=\"padding-left:0px;padding-right:0px;padding-top:10px;padding-bottom:10px;overflow-x:auto;overflow-y:auto;width:auto;height:auto;\">\n",
       "<style>\n",
       "#mlgsifxqdx table {\n",
       "          font-family: -apple-system, BlinkMacSystemFont, 'Segoe UI', Roboto, Oxygen, Ubuntu, Cantarell, 'Helvetica Neue', 'Fira Sans', 'Droid Sans', Arial, sans-serif;\n",
       "          -webkit-font-smoothing: antialiased;\n",
       "          -moz-osx-font-smoothing: grayscale;\n",
       "        }\n",
       "\n",
       "#mlgsifxqdx thead, tbody, tfoot, tr, td, th { border-style: none !important; }\n",
       " tr { background-color: transparent !important; }\n",
       "#mlgsifxqdx p { margin: 0 !important; padding: 0 !important; }\n",
       " #mlgsifxqdx .gt_table { display: table !important; border-collapse: collapse !important; line-height: normal !important; margin-left: auto !important; margin-right: auto !important; color: #333333 !important; font-size: 16px !important; font-weight: normal !important; font-style: normal !important; background-color: #FFFFFF !important; width: auto !important; border-top-style: solid !important; border-top-width: 2px !important; border-top-color: #A8A8A8 !important; border-right-style: none !important; border-right-width: 2px !important; border-right-color: #D3D3D3 !important; border-bottom-style: solid !important; border-bottom-width: 2px !important; border-bottom-color: #A8A8A8 !important; border-left-style: none !important; border-left-width: 2px !important; border-left-color: #D3D3D3 !important; }\n",
       " #mlgsifxqdx .gt_caption { padding-top: 4px !important; padding-bottom: 4px !important; }\n",
       " #mlgsifxqdx .gt_title { color: #333333 !important; font-size: 125% !important; font-weight: initial !important; padding-top: 4px !important; padding-bottom: 4px !important; padding-left: 5px !important; padding-right: 5px !important; border-bottom-color: #FFFFFF !important; border-bottom-width: 0 !important; }\n",
       " #mlgsifxqdx .gt_subtitle { color: #333333 !important; font-size: 85% !important; font-weight: initial !important; padding-top: 3px !important; padding-bottom: 5px !important; padding-left: 5px !important; padding-right: 5px !important; border-top-color: #FFFFFF !important; border-top-width: 0 !important; }\n",
       " #mlgsifxqdx .gt_heading { background-color: #FFFFFF !important; text-align: center !important; border-bottom-color: #FFFFFF !important; border-left-style: none !important; border-left-width: 1px !important; border-left-color: #D3D3D3 !important; border-right-style: none !important; border-right-width: 1px !important; border-right-color: #D3D3D3 !important; }\n",
       " #mlgsifxqdx .gt_bottom_border { border-bottom-style: solid !important; border-bottom-width: 2px !important; border-bottom-color: #D3D3D3 !important; }\n",
       " #mlgsifxqdx .gt_col_headings { border-top-style: solid !important; border-top-width: 2px !important; border-top-color: #D3D3D3 !important; border-bottom-style: solid !important; border-bottom-width: 2px !important; border-bottom-color: #D3D3D3 !important; border-left-style: none !important; border-left-width: 1px !important; border-left-color: #D3D3D3 !important; border-right-style: none !important; border-right-width: 1px !important; border-right-color: #D3D3D3 !important; }\n",
       " #mlgsifxqdx .gt_col_heading { color: #333333 !important; background-color: #FFFFFF !important; font-size: 100% !important; font-weight: normal !important; text-transform: inherit !important; border-left-style: none !important; border-left-width: 1px !important; border-left-color: #D3D3D3 !important; border-right-style: none !important; border-right-width: 1px !important; border-right-color: #D3D3D3 !important; vertical-align: bottom !important; padding-top: 5px !important; padding-bottom: 5px !important; padding-left: 5px !important; padding-right: 5px !important; overflow-x: hidden !important; }\n",
       " #mlgsifxqdx .gt_column_spanner_outer { color: #333333 !important; background-color: #FFFFFF !important; font-size: 100% !important; font-weight: normal !important; text-transform: inherit !important; padding-top: 0 !important; padding-bottom: 0 !important; padding-left: 4px !important; padding-right: 4px !important; }\n",
       " #mlgsifxqdx .gt_column_spanner_outer:first-child { padding-left: 0 !important; }\n",
       " #mlgsifxqdx .gt_column_spanner_outer:last-child { padding-right: 0 !important; }\n",
       " #mlgsifxqdx .gt_column_spanner { border-bottom-style: solid !important; border-bottom-width: 2px !important; border-bottom-color: #D3D3D3 !important; vertical-align: bottom !important; padding-top: 5px !important; padding-bottom: 5px !important; overflow-x: hidden !important; display: inline-block !important; width: 100% !important; }\n",
       " #mlgsifxqdx .gt_spanner_row { border-bottom-style: hidden !important; }\n",
       " #mlgsifxqdx .gt_group_heading { padding-top: 8px !important; padding-bottom: 8px !important; padding-left: 5px !important; padding-right: 5px !important; color: #333333 !important; background-color: #FFFFFF !important; font-size: 100% !important; font-weight: initial !important; text-transform: inherit !important; border-top-style: solid !important; border-top-width: 2px !important; border-top-color: #D3D3D3 !important; border-bottom-style: solid !important; border-bottom-width: 2px !important; border-bottom-color: #D3D3D3 !important; border-left-style: none !important; border-left-width: 1px !important; border-left-color: #D3D3D3 !important; border-right-style: none !important; border-right-width: 1px !important; border-right-color: #D3D3D3 !important; vertical-align: middle !important; text-align: left !important; }\n",
       " #mlgsifxqdx .gt_empty_group_heading { padding: 0.5px !important; color: #333333 !important; background-color: #FFFFFF !important; font-size: 100% !important; font-weight: initial !important; border-top-style: solid !important; border-top-width: 2px !important; border-top-color: #D3D3D3 !important; border-bottom-style: solid !important; border-bottom-width: 2px !important; border-bottom-color: #D3D3D3 !important; vertical-align: middle !important; }\n",
       " #mlgsifxqdx .gt_from_md> :first-child { margin-top: 0 !important; }\n",
       " #mlgsifxqdx .gt_from_md> :last-child { margin-bottom: 0 !important; }\n",
       " #mlgsifxqdx .gt_row { padding-top: 8px !important; padding-bottom: 8px !important; padding-left: 5px !important; padding-right: 5px !important; margin: 10px !important; border-top-style: solid !important; border-top-width: 1px !important; border-top-color: #D3D3D3 !important; border-left-style: none !important; border-left-width: 1px !important; border-left-color: #D3D3D3 !important; border-right-style: none !important; border-right-width: 1px !important; border-right-color: #D3D3D3 !important; vertical-align: middle !important; overflow-x: hidden !important; }\n",
       " #mlgsifxqdx .gt_stub { color: #333333 !important; background-color: #FFFFFF !important; font-size: 100% !important; font-weight: initial !important; text-transform: inherit !important; border-right-style: solid !important; border-right-width: 2px !important; border-right-color: #D3D3D3 !important; padding-left: 5px !important; padding-right: 5px !important; }\n",
       " #mlgsifxqdx .gt_stub_row_group { color: #333333 !important; background-color: #FFFFFF !important; font-size: 100% !important; font-weight: initial !important; text-transform: inherit !important; border-right-style: solid !important; border-right-width: 2px !important; border-right-color: #D3D3D3 !important; padding-left: 5px !important; padding-right: 5px !important; vertical-align: top !important; }\n",
       " #mlgsifxqdx .gt_row_group_first td { border-top-width: 2px !important; }\n",
       " #mlgsifxqdx .gt_row_group_first th { border-top-width: 2px !important; }\n",
       " #mlgsifxqdx .gt_table_body { border-top-style: solid !important; border-top-width: 2px !important; border-top-color: #D3D3D3 !important; border-bottom-style: solid !important; border-bottom-width: 2px !important; border-bottom-color: #D3D3D3 !important; }\n",
       " #mlgsifxqdx .gt_sourcenotes { color: #333333 !important; background-color: #FFFFFF !important; border-bottom-style: none !important; border-bottom-width: 2px !important; border-bottom-color: #D3D3D3 !important; border-left-style: none !important; border-left-width: 2px !important; border-left-color: #D3D3D3 !important; border-right-style: none !important; border-right-width: 2px !important; border-right-color: #D3D3D3 !important; }\n",
       " #mlgsifxqdx .gt_sourcenote { font-size: 90% !important; padding-top: 4px !important; padding-bottom: 4px !important; padding-left: 5px !important; padding-right: 5px !important; text-align: left !important; }\n",
       " #mlgsifxqdx .gt_left { text-align: left !important; }\n",
       " #mlgsifxqdx .gt_center { text-align: center !important; }\n",
       " #mlgsifxqdx .gt_right { text-align: right !important; font-variant-numeric: tabular-nums !important; }\n",
       " #mlgsifxqdx .gt_font_normal { font-weight: normal !important; }\n",
       " #mlgsifxqdx .gt_font_bold { font-weight: bold !important; }\n",
       " #mlgsifxqdx .gt_font_italic { font-style: italic !important; }\n",
       " #mlgsifxqdx .gt_super { font-size: 65% !important; }\n",
       " #mlgsifxqdx .gt_footnote_marks { font-size: 75% !important; vertical-align: 0.4em !important; position: initial !important; }\n",
       " #mlgsifxqdx .gt_asterisk { font-size: 100% !important; vertical-align: 0 !important; }\n",
       " \n",
       "</style>\n",
       "<table class=\"gt_table\" data-quarto-disable-processing=\"false\" data-quarto-bootstrap=\"false\">\n",
       "\n",
       "<tr class=\"gt_col_headings\">\n",
       "  <th class=\"gt_col_heading gt_columns_bottom_border gt_left\" rowspan=\"1\" colspan=\"1\" scope=\"col\" id=\"column\">column</th>\n",
       "  <th class=\"gt_col_heading gt_columns_bottom_border gt_right\" rowspan=\"1\" colspan=\"1\" scope=\"col\" id=\"Employer_Category2\">Employer_Category2</th>\n",
       "  <th class=\"gt_col_heading gt_columns_bottom_border gt_right\" rowspan=\"1\" colspan=\"1\" scope=\"col\" id=\"Monthly_Income\">Monthly_Income</th>\n",
       "  <th class=\"gt_col_heading gt_columns_bottom_border gt_right\" rowspan=\"1\" colspan=\"1\" scope=\"col\" id=\"Existing_EMI\">Existing_EMI</th>\n",
       "  <th class=\"gt_col_heading gt_columns_bottom_border gt_right\" rowspan=\"1\" colspan=\"1\" scope=\"col\" id=\"Loan_Amount\">Loan_Amount</th>\n",
       "  <th class=\"gt_col_heading gt_columns_bottom_border gt_right\" rowspan=\"1\" colspan=\"1\" scope=\"col\" id=\"Loan_Period\">Loan_Period</th>\n",
       "  <th class=\"gt_col_heading gt_columns_bottom_border gt_right\" rowspan=\"1\" colspan=\"1\" scope=\"col\" id=\"Interest_Rate\">Interest_Rate</th>\n",
       "  <th class=\"gt_col_heading gt_columns_bottom_border gt_right\" rowspan=\"1\" colspan=\"1\" scope=\"col\" id=\"EMI\">EMI</th>\n",
       "  <th class=\"gt_col_heading gt_columns_bottom_border gt_right\" rowspan=\"1\" colspan=\"1\" scope=\"col\" id=\"Var1\">Var1</th>\n",
       "  <th class=\"gt_col_heading gt_columns_bottom_border gt_right\" rowspan=\"1\" colspan=\"1\" scope=\"col\" id=\"Approved\">Approved</th>\n",
       "</tr>\n",
       "<tbody class=\"gt_table_body\">\n",
       "<tr>\n",
       "  <td class=\"gt_row gt_left\">Employer_Category2</td>\n",
       "  <td style=\"color: #FFFFFF; background-color: #bd0237;\" class=\"gt_row gt_right\">1.000</td>\n",
       "  <td style=\"color: #FFFFFF; background-color: #60027a;\" class=\"gt_row gt_right\">0.002</td>\n",
       "  <td style=\"color: #FFFFFF; background-color: #5e027b;\" class=\"gt_row gt_right\">−0.017</td>\n",
       "  <td style=\"color: #FFFFFF; background-color: #5a027e;\" class=\"gt_row gt_right\">−0.061</td>\n",
       "  <td style=\"color: #FFFFFF; background-color: #5f027a;\" class=\"gt_row gt_right\">−0.007</td>\n",
       "  <td style=\"color: #FFFFFF; background-color: #70026e;\" class=\"gt_row gt_right\">0.178</td>\n",
       "  <td style=\"color: #FFFFFF; background-color: #5b027d;\" class=\"gt_row gt_right\">−0.052</td>\n",
       "  <td style=\"color: #FFFFFF; background-color: #540282;\" class=\"gt_row gt_right\">−0.124</td>\n",
       "  <td style=\"color: #FFFFFF; background-color: #5e027b;\" class=\"gt_row gt_right\">−0.019</td>\n",
       "</tr>\n",
       "<tr>\n",
       "  <td class=\"gt_row gt_left\">Monthly_Income</td>\n",
       "  <td style=\"color: #FFFFFF; background-color: #60027a;\" class=\"gt_row gt_right\">0.002</td>\n",
       "  <td style=\"color: #FFFFFF; background-color: #bd0237;\" class=\"gt_row gt_right\">1.000</td>\n",
       "  <td style=\"color: #FFFFFF; background-color: #76026a;\" class=\"gt_row gt_right\">0.246</td>\n",
       "  <td style=\"color: #FFFFFF; background-color: #630277;\" class=\"gt_row gt_right\">0.040</td>\n",
       "  <td style=\"color: #FFFFFF; background-color: #5f027a;\" class=\"gt_row gt_right\">−0.004</td>\n",
       "  <td style=\"color: #FFFFFF; background-color: #5e027b;\" class=\"gt_row gt_right\">−0.015</td>\n",
       "  <td style=\"color: #FFFFFF; background-color: #630278;\" class=\"gt_row gt_right\">0.035</td>\n",
       "  <td style=\"color: #FFFFFF; background-color: #620278;\" class=\"gt_row gt_right\">0.025</td>\n",
       "  <td style=\"color: #FFFFFF; background-color: #60027a;\" class=\"gt_row gt_right\">0.000</td>\n",
       "</tr>\n",
       "<tr>\n",
       "  <td class=\"gt_row gt_left\">Existing_EMI</td>\n",
       "  <td style=\"color: #FFFFFF; background-color: #5e027b;\" class=\"gt_row gt_right\">−0.017</td>\n",
       "  <td style=\"color: #FFFFFF; background-color: #76026a;\" class=\"gt_row gt_right\">0.246</td>\n",
       "  <td style=\"color: #FFFFFF; background-color: #bd0237;\" class=\"gt_row gt_right\">1.000</td>\n",
       "  <td style=\"color: #FFFFFF; background-color: #600279;\" class=\"gt_row gt_right\">0.009</td>\n",
       "  <td style=\"color: #FFFFFF; background-color: #5f027a;\" class=\"gt_row gt_right\">−0.005</td>\n",
       "  <td style=\"color: #FFFFFF; background-color: #5d027c;\" class=\"gt_row gt_right\">−0.023</td>\n",
       "  <td style=\"color: #FFFFFF; background-color: #60027a;\" class=\"gt_row gt_right\">0.001</td>\n",
       "  <td style=\"color: #FFFFFF; background-color: #60027a;\" class=\"gt_row gt_right\">0.007</td>\n",
       "  <td style=\"color: #FFFFFF; background-color: #620278;\" class=\"gt_row gt_right\">0.028</td>\n",
       "</tr>\n",
       "<tr>\n",
       "  <td class=\"gt_row gt_left\">Loan_Amount</td>\n",
       "  <td style=\"color: #FFFFFF; background-color: #5a027e;\" class=\"gt_row gt_right\">−0.061</td>\n",
       "  <td style=\"color: #FFFFFF; background-color: #630277;\" class=\"gt_row gt_right\">0.040</td>\n",
       "  <td style=\"color: #FFFFFF; background-color: #600279;\" class=\"gt_row gt_right\">0.009</td>\n",
       "  <td style=\"color: #FFFFFF; background-color: #bd0237;\" class=\"gt_row gt_right\">1.000</td>\n",
       "  <td style=\"color: #FFFFFF; background-color: #830261;\" class=\"gt_row gt_right\">0.380</td>\n",
       "  <td style=\"color: #FFFFFF; background-color: #410290;\" class=\"gt_row gt_right\">−0.321</td>\n",
       "  <td style=\"color: #FFFFFF; background-color: #b5023d;\" class=\"gt_row gt_right\">0.917</td>\n",
       "  <td style=\"color: #FFFFFF; background-color: #7c0265;\" class=\"gt_row gt_right\">0.308</td>\n",
       "  <td style=\"color: #FFFFFF; background-color: #640277;\" class=\"gt_row gt_right\">0.047</td>\n",
       "</tr>\n",
       "<tr>\n",
       "  <td class=\"gt_row gt_left\">Loan_Period</td>\n",
       "  <td style=\"color: #FFFFFF; background-color: #5f027a;\" class=\"gt_row gt_right\">−0.007</td>\n",
       "  <td style=\"color: #FFFFFF; background-color: #5f027a;\" class=\"gt_row gt_right\">−0.004</td>\n",
       "  <td style=\"color: #FFFFFF; background-color: #5f027a;\" class=\"gt_row gt_right\">−0.005</td>\n",
       "  <td style=\"color: #FFFFFF; background-color: #830261;\" class=\"gt_row gt_right\">0.380</td>\n",
       "  <td style=\"color: #FFFFFF; background-color: #bd0237;\" class=\"gt_row gt_right\">1.000</td>\n",
       "  <td style=\"color: #FFFFFF; background-color: #560280;\" class=\"gt_row gt_right\">−0.097</td>\n",
       "  <td style=\"color: #FFFFFF; background-color: #670274;\" class=\"gt_row gt_right\">0.084</td>\n",
       "  <td style=\"color: #FFFFFF; background-color: #59027e;\" class=\"gt_row gt_right\">−0.066</td>\n",
       "  <td style=\"color: #FFFFFF; background-color: #5f027a;\" class=\"gt_row gt_right\">−0.000</td>\n",
       "</tr>\n",
       "<tr>\n",
       "  <td class=\"gt_row gt_left\">Interest_Rate</td>\n",
       "  <td style=\"color: #FFFFFF; background-color: #70026e;\" class=\"gt_row gt_right\">0.178</td>\n",
       "  <td style=\"color: #FFFFFF; background-color: #5e027b;\" class=\"gt_row gt_right\">−0.015</td>\n",
       "  <td style=\"color: #FFFFFF; background-color: #5d027c;\" class=\"gt_row gt_right\">−0.023</td>\n",
       "  <td style=\"color: #FFFFFF; background-color: #410290;\" class=\"gt_row gt_right\">−0.321</td>\n",
       "  <td style=\"color: #FFFFFF; background-color: #560280;\" class=\"gt_row gt_right\">−0.097</td>\n",
       "  <td style=\"color: #FFFFFF; background-color: #bd0237;\" class=\"gt_row gt_right\">1.000</td>\n",
       "  <td style=\"color: #FFFFFF; background-color: #49028a;\" class=\"gt_row gt_right\">−0.242</td>\n",
       "  <td style=\"color: #FFFFFF; background-color: #2c029f;\" class=\"gt_row gt_right\">−0.554</td>\n",
       "  <td style=\"color: #FFFFFF; background-color: #570280;\" class=\"gt_row gt_right\">−0.094</td>\n",
       "</tr>\n",
       "<tr>\n",
       "  <td class=\"gt_row gt_left\">EMI</td>\n",
       "  <td style=\"color: #FFFFFF; background-color: #5b027d;\" class=\"gt_row gt_right\">−0.052</td>\n",
       "  <td style=\"color: #FFFFFF; background-color: #630278;\" class=\"gt_row gt_right\">0.035</td>\n",
       "  <td style=\"color: #FFFFFF; background-color: #60027a;\" class=\"gt_row gt_right\">0.001</td>\n",
       "  <td style=\"color: #FFFFFF; background-color: #b5023d;\" class=\"gt_row gt_right\">0.917</td>\n",
       "  <td style=\"color: #FFFFFF; background-color: #670274;\" class=\"gt_row gt_right\">0.084</td>\n",
       "  <td style=\"color: #FFFFFF; background-color: #49028a;\" class=\"gt_row gt_right\">−0.242</td>\n",
       "  <td style=\"color: #FFFFFF; background-color: #bd0237;\" class=\"gt_row gt_right\">1.000</td>\n",
       "  <td style=\"color: #FFFFFF; background-color: #7b0266;\" class=\"gt_row gt_right\">0.293</td>\n",
       "  <td style=\"color: #FFFFFF; background-color: #640277;\" class=\"gt_row gt_right\">0.050</td>\n",
       "</tr>\n",
       "<tr>\n",
       "  <td class=\"gt_row gt_left\">Var1</td>\n",
       "  <td style=\"color: #FFFFFF; background-color: #540282;\" class=\"gt_row gt_right\">−0.124</td>\n",
       "  <td style=\"color: #FFFFFF; background-color: #620278;\" class=\"gt_row gt_right\">0.025</td>\n",
       "  <td style=\"color: #FFFFFF; background-color: #60027a;\" class=\"gt_row gt_right\">0.007</td>\n",
       "  <td style=\"color: #FFFFFF; background-color: #7c0265;\" class=\"gt_row gt_right\">0.308</td>\n",
       "  <td style=\"color: #FFFFFF; background-color: #59027e;\" class=\"gt_row gt_right\">−0.066</td>\n",
       "  <td style=\"color: #FFFFFF; background-color: #2c029f;\" class=\"gt_row gt_right\">−0.554</td>\n",
       "  <td style=\"color: #FFFFFF; background-color: #7b0266;\" class=\"gt_row gt_right\">0.293</td>\n",
       "  <td style=\"color: #FFFFFF; background-color: #bd0237;\" class=\"gt_row gt_right\">1.000</td>\n",
       "  <td style=\"color: #FFFFFF; background-color: #6a0272;\" class=\"gt_row gt_right\">0.112</td>\n",
       "</tr>\n",
       "<tr>\n",
       "  <td class=\"gt_row gt_left\">Approved</td>\n",
       "  <td style=\"color: #FFFFFF; background-color: #5e027b;\" class=\"gt_row gt_right\">−0.019</td>\n",
       "  <td style=\"color: #FFFFFF; background-color: #60027a;\" class=\"gt_row gt_right\">0.000</td>\n",
       "  <td style=\"color: #FFFFFF; background-color: #620278;\" class=\"gt_row gt_right\">0.028</td>\n",
       "  <td style=\"color: #FFFFFF; background-color: #640277;\" class=\"gt_row gt_right\">0.047</td>\n",
       "  <td style=\"color: #FFFFFF; background-color: #5f027a;\" class=\"gt_row gt_right\">−0.000</td>\n",
       "  <td style=\"color: #FFFFFF; background-color: #570280;\" class=\"gt_row gt_right\">−0.094</td>\n",
       "  <td style=\"color: #FFFFFF; background-color: #640277;\" class=\"gt_row gt_right\">0.050</td>\n",
       "  <td style=\"color: #FFFFFF; background-color: #6a0272;\" class=\"gt_row gt_right\">0.112</td>\n",
       "  <td style=\"color: #FFFFFF; background-color: #bd0237;\" class=\"gt_row gt_right\">1.000</td>\n",
       "</tr>\n",
       "</tbody>\n",
       "\n",
       "\n",
       "</table>\n",
       "\n",
       "</div>\n",
       "        "
      ],
      "text/plain": [
       "GT(_tbl_data=shape: (9, 10)\n",
       "┌───────────┬───────────┬───────────┬───────────┬───┬───────────┬───────────┬───────────┬──────────┐\n",
       "│ column    ┆ Employer_ ┆ Monthly_I ┆ Existing_ ┆ … ┆ Interest_ ┆ EMI       ┆ Var1      ┆ Approved │\n",
       "│ ---       ┆ Category2 ┆ ncome     ┆ EMI       ┆   ┆ Rate      ┆ ---       ┆ ---       ┆ ---      │\n",
       "│ str       ┆ ---       ┆ ---       ┆ ---       ┆   ┆ ---       ┆ f64       ┆ f64       ┆ f64      │\n",
       "│           ┆ f64       ┆ f64       ┆ f64       ┆   ┆ f64       ┆           ┆           ┆          │\n",
       "╞═══════════╪═══════════╪═══════════╪═══════════╪═══╪═══════════╪═══════════╪═══════════╪══════════╡\n",
       "│ Employer_ ┆ 1.0       ┆ 0.001546  ┆ -0.017074 ┆ … ┆ 0.177605  ┆ -0.051729 ┆ -0.124415 ┆ -0.01941 │\n",
       "│ Category2 ┆           ┆           ┆           ┆   ┆           ┆           ┆           ┆ 3        │\n",
       "│ Monthly_I ┆ 0.001546  ┆ 1.0       ┆ 0.245826  ┆ … ┆ -0.014789 ┆ 0.035163  ┆ 0.024854  ┆ 0.000472 │\n",
       "│ ncome     ┆           ┆           ┆           ┆   ┆           ┆           ┆           ┆          │\n",
       "│ Existing_ ┆ -0.017074 ┆ 0.245826  ┆ 1.0       ┆ … ┆ -0.023001 ┆ 0.000813  ┆ 0.00662   ┆ 0.027821 │\n",
       "│ EMI       ┆           ┆           ┆           ┆   ┆           ┆           ┆           ┆          │\n",
       "│ Loan_Amou ┆ -0.061479 ┆ 0.039998  ┆ 0.008653  ┆ … ┆ -0.321095 ┆ 0.916832  ┆ 0.307945  ┆ 0.046502 │\n",
       "│ nt        ┆           ┆           ┆           ┆   ┆           ┆           ┆           ┆          │\n",
       "│ Loan_Peri ┆ -0.007449 ┆ -0.003671 ┆ -0.004603 ┆ … ┆ -0.096629 ┆ 0.083965  ┆ -0.065702 ┆ -0.00037 │\n",
       "│ od        ┆           ┆           ┆           ┆   ┆           ┆           ┆           ┆ 5        │\n",
       "│ Interest_ ┆ 0.177605  ┆ -0.014789 ┆ -0.023001 ┆ … ┆ 1.0       ┆ -0.241648 ┆ -0.554138 ┆ -0.09438 │\n",
       "│ Rate      ┆           ┆           ┆           ┆   ┆           ┆           ┆           ┆ 7        │\n",
       "│ EMI       ┆ -0.051729 ┆ 0.035163  ┆ 0.000813  ┆ … ┆ -0.241648 ┆ 1.0       ┆ 0.293474  ┆ 0.050129 │\n",
       "│ Var1      ┆ -0.124415 ┆ 0.024854  ┆ 0.00662   ┆ … ┆ -0.554138 ┆ 0.293474  ┆ 1.0       ┆ 0.11244  │\n",
       "│ Approved  ┆ -0.019413 ┆ 0.000472  ┆ 0.027821  ┆ … ┆ -0.094387 ┆ 0.050129  ┆ 0.11244   ┆ 1.0      │\n",
       "└───────────┴───────────┴───────────┴───────────┴───┴───────────┴───────────┴───────────┴──────────┘, _body=<great_tables._gt_data.Body object at 0x70dac7fcfc90>, _boxhead=Boxhead([ColInfo(var='column', type=<ColInfoTypeEnum.default: 1>, column_label='column', column_align='left', column_width=None), ColInfo(var='Employer_Category2', type=<ColInfoTypeEnum.default: 1>, column_label='Employer_Category2', column_align='right', column_width=None), ColInfo(var='Monthly_Income', type=<ColInfoTypeEnum.default: 1>, column_label='Monthly_Income', column_align='right', column_width=None), ColInfo(var='Existing_EMI', type=<ColInfoTypeEnum.default: 1>, column_label='Existing_EMI', column_align='right', column_width=None), ColInfo(var='Loan_Amount', type=<ColInfoTypeEnum.default: 1>, column_label='Loan_Amount', column_align='right', column_width=None), ColInfo(var='Loan_Period', type=<ColInfoTypeEnum.default: 1>, column_label='Loan_Period', column_align='right', column_width=None), ColInfo(var='Interest_Rate', type=<ColInfoTypeEnum.default: 1>, column_label='Interest_Rate', column_align='right', column_width=None), ColInfo(var='EMI', type=<ColInfoTypeEnum.default: 1>, column_label='EMI', column_align='right', column_width=None), ColInfo(var='Var1', type=<ColInfoTypeEnum.default: 1>, column_label='Var1', column_align='right', column_width=None), ColInfo(var='Approved', type=<ColInfoTypeEnum.default: 1>, column_label='Approved', column_align='right', column_width=None)]), _stub=Stub([RowInfo(rownum_i=0, group_id=None, rowname=None, group_label=None, built=False), RowInfo(rownum_i=1, group_id=None, rowname=None, group_label=None, built=False), RowInfo(rownum_i=2, group_id=None, rowname=None, group_label=None, built=False), RowInfo(rownum_i=3, group_id=None, rowname=None, group_label=None, built=False), RowInfo(rownum_i=4, group_id=None, rowname=None, group_label=None, built=False), RowInfo(rownum_i=5, group_id=None, rowname=None, group_label=None, built=False), RowInfo(rownum_i=6, group_id=None, rowname=None, group_label=None, built=False), RowInfo(rownum_i=7, group_id=None, rowname=None, group_label=None, built=False), RowInfo(rownum_i=8, group_id=None, rowname=None, group_label=None, built=False)]), _row_groups=[], _group_rows=GroupRows([]), _spanners=Spanners([]), _heading=Heading(title=None, subtitle=None, preheader=None), _stubhead=None, _source_notes=[], _footnotes=[], _styles=[StyleInfo(locname='data', locnum=5, grpname=None, colname='Employer_Category2', rownum=0, colnum=None, styles=[CellStyleText(color='#FFFFFF', font=None, size=None, align=None, v_align=None, style=None, weight=None, stretch=None, decorate=None, transform=None, whitespace=None), CellStyleFill(color='#bd0237')]), StyleInfo(locname='data', locnum=5, grpname=None, colname='Employer_Category2', rownum=1, colnum=None, styles=[CellStyleText(color='#FFFFFF', font=None, size=None, align=None, v_align=None, style=None, weight=None, stretch=None, decorate=None, transform=None, whitespace=None), CellStyleFill(color='#60027a')]), StyleInfo(locname='data', locnum=5, grpname=None, colname='Employer_Category2', rownum=2, colnum=None, styles=[CellStyleText(color='#FFFFFF', font=None, size=None, align=None, v_align=None, style=None, weight=None, stretch=None, decorate=None, transform=None, whitespace=None), CellStyleFill(color='#5e027b')]), StyleInfo(locname='data', locnum=5, grpname=None, colname='Employer_Category2', rownum=3, colnum=None, styles=[CellStyleText(color='#FFFFFF', font=None, size=None, align=None, v_align=None, style=None, weight=None, stretch=None, decorate=None, transform=None, whitespace=None), CellStyleFill(color='#5a027e')]), StyleInfo(locname='data', locnum=5, grpname=None, colname='Employer_Category2', rownum=4, colnum=None, styles=[CellStyleText(color='#FFFFFF', font=None, size=None, align=None, v_align=None, style=None, weight=None, stretch=None, decorate=None, transform=None, whitespace=None), CellStyleFill(color='#5f027a')]), StyleInfo(locname='data', locnum=5, grpname=None, colname='Employer_Category2', rownum=5, colnum=None, styles=[CellStyleText(color='#FFFFFF', font=None, size=None, align=None, v_align=None, style=None, weight=None, stretch=None, decorate=None, transform=None, whitespace=None), CellStyleFill(color='#70026e')]), StyleInfo(locname='data', locnum=5, grpname=None, colname='Employer_Category2', rownum=6, colnum=None, styles=[CellStyleText(color='#FFFFFF', font=None, size=None, align=None, v_align=None, style=None, weight=None, stretch=None, decorate=None, transform=None, whitespace=None), CellStyleFill(color='#5b027d')]), StyleInfo(locname='data', locnum=5, grpname=None, colname='Employer_Category2', rownum=7, colnum=None, styles=[CellStyleText(color='#FFFFFF', font=None, size=None, align=None, v_align=None, style=None, weight=None, stretch=None, decorate=None, transform=None, whitespace=None), CellStyleFill(color='#540282')]), StyleInfo(locname='data', locnum=5, grpname=None, colname='Employer_Category2', rownum=8, colnum=None, styles=[CellStyleText(color='#FFFFFF', font=None, size=None, align=None, v_align=None, style=None, weight=None, stretch=None, decorate=None, transform=None, whitespace=None), CellStyleFill(color='#5e027b')]), StyleInfo(locname='data', locnum=5, grpname=None, colname='Monthly_Income', rownum=0, colnum=None, styles=[CellStyleText(color='#FFFFFF', font=None, size=None, align=None, v_align=None, style=None, weight=None, stretch=None, decorate=None, transform=None, whitespace=None), CellStyleFill(color='#60027a')]), StyleInfo(locname='data', locnum=5, grpname=None, colname='Monthly_Income', rownum=1, colnum=None, styles=[CellStyleText(color='#FFFFFF', font=None, size=None, align=None, v_align=None, style=None, weight=None, stretch=None, decorate=None, transform=None, whitespace=None), CellStyleFill(color='#bd0237')]), StyleInfo(locname='data', locnum=5, grpname=None, colname='Monthly_Income', rownum=2, colnum=None, styles=[CellStyleText(color='#FFFFFF', font=None, size=None, align=None, v_align=None, style=None, weight=None, stretch=None, decorate=None, transform=None, whitespace=None), CellStyleFill(color='#76026a')]), StyleInfo(locname='data', locnum=5, grpname=None, colname='Monthly_Income', rownum=3, colnum=None, styles=[CellStyleText(color='#FFFFFF', font=None, size=None, align=None, v_align=None, style=None, weight=None, stretch=None, decorate=None, transform=None, whitespace=None), CellStyleFill(color='#630277')]), StyleInfo(locname='data', locnum=5, grpname=None, colname='Monthly_Income', rownum=4, colnum=None, styles=[CellStyleText(color='#FFFFFF', font=None, size=None, align=None, v_align=None, style=None, weight=None, stretch=None, decorate=None, transform=None, whitespace=None), CellStyleFill(color='#5f027a')]), StyleInfo(locname='data', locnum=5, grpname=None, colname='Monthly_Income', rownum=5, colnum=None, styles=[CellStyleText(color='#FFFFFF', font=None, size=None, align=None, v_align=None, style=None, weight=None, stretch=None, decorate=None, transform=None, whitespace=None), CellStyleFill(color='#5e027b')]), StyleInfo(locname='data', locnum=5, grpname=None, colname='Monthly_Income', rownum=6, colnum=None, styles=[CellStyleText(color='#FFFFFF', font=None, size=None, align=None, v_align=None, style=None, weight=None, stretch=None, decorate=None, transform=None, whitespace=None), CellStyleFill(color='#630278')]), StyleInfo(locname='data', locnum=5, grpname=None, colname='Monthly_Income', rownum=7, colnum=None, styles=[CellStyleText(color='#FFFFFF', font=None, size=None, align=None, v_align=None, style=None, weight=None, stretch=None, decorate=None, transform=None, whitespace=None), CellStyleFill(color='#620278')]), StyleInfo(locname='data', locnum=5, grpname=None, colname='Monthly_Income', rownum=8, colnum=None, styles=[CellStyleText(color='#FFFFFF', font=None, size=None, align=None, v_align=None, style=None, weight=None, stretch=None, decorate=None, transform=None, whitespace=None), CellStyleFill(color='#60027a')]), StyleInfo(locname='data', locnum=5, grpname=None, colname='Existing_EMI', rownum=0, colnum=None, styles=[CellStyleText(color='#FFFFFF', font=None, size=None, align=None, v_align=None, style=None, weight=None, stretch=None, decorate=None, transform=None, whitespace=None), CellStyleFill(color='#5e027b')]), StyleInfo(locname='data', locnum=5, grpname=None, colname='Existing_EMI', rownum=1, colnum=None, styles=[CellStyleText(color='#FFFFFF', font=None, size=None, align=None, v_align=None, style=None, weight=None, stretch=None, decorate=None, transform=None, whitespace=None), CellStyleFill(color='#76026a')]), StyleInfo(locname='data', locnum=5, grpname=None, colname='Existing_EMI', rownum=2, colnum=None, styles=[CellStyleText(color='#FFFFFF', font=None, size=None, align=None, v_align=None, style=None, weight=None, stretch=None, decorate=None, transform=None, whitespace=None), CellStyleFill(color='#bd0237')]), StyleInfo(locname='data', locnum=5, grpname=None, colname='Existing_EMI', rownum=3, colnum=None, styles=[CellStyleText(color='#FFFFFF', font=None, size=None, align=None, v_align=None, style=None, weight=None, stretch=None, decorate=None, transform=None, whitespace=None), CellStyleFill(color='#600279')]), StyleInfo(locname='data', locnum=5, grpname=None, colname='Existing_EMI', rownum=4, colnum=None, styles=[CellStyleText(color='#FFFFFF', font=None, size=None, align=None, v_align=None, style=None, weight=None, stretch=None, decorate=None, transform=None, whitespace=None), CellStyleFill(color='#5f027a')]), StyleInfo(locname='data', locnum=5, grpname=None, colname='Existing_EMI', rownum=5, colnum=None, styles=[CellStyleText(color='#FFFFFF', font=None, size=None, align=None, v_align=None, style=None, weight=None, stretch=None, decorate=None, transform=None, whitespace=None), CellStyleFill(color='#5d027c')]), StyleInfo(locname='data', locnum=5, grpname=None, colname='Existing_EMI', rownum=6, colnum=None, styles=[CellStyleText(color='#FFFFFF', font=None, size=None, align=None, v_align=None, style=None, weight=None, stretch=None, decorate=None, transform=None, whitespace=None), CellStyleFill(color='#60027a')]), StyleInfo(locname='data', locnum=5, grpname=None, colname='Existing_EMI', rownum=7, colnum=None, styles=[CellStyleText(color='#FFFFFF', font=None, size=None, align=None, v_align=None, style=None, weight=None, stretch=None, decorate=None, transform=None, whitespace=None), CellStyleFill(color='#60027a')]), StyleInfo(locname='data', locnum=5, grpname=None, colname='Existing_EMI', rownum=8, colnum=None, styles=[CellStyleText(color='#FFFFFF', font=None, size=None, align=None, v_align=None, style=None, weight=None, stretch=None, decorate=None, transform=None, whitespace=None), CellStyleFill(color='#620278')]), StyleInfo(locname='data', locnum=5, grpname=None, colname='Loan_Amount', rownum=0, colnum=None, styles=[CellStyleText(color='#FFFFFF', font=None, size=None, align=None, v_align=None, style=None, weight=None, stretch=None, decorate=None, transform=None, whitespace=None), CellStyleFill(color='#5a027e')]), StyleInfo(locname='data', locnum=5, grpname=None, colname='Loan_Amount', rownum=1, colnum=None, styles=[CellStyleText(color='#FFFFFF', font=None, size=None, align=None, v_align=None, style=None, weight=None, stretch=None, decorate=None, transform=None, whitespace=None), CellStyleFill(color='#630277')]), StyleInfo(locname='data', locnum=5, grpname=None, colname='Loan_Amount', rownum=2, colnum=None, styles=[CellStyleText(color='#FFFFFF', font=None, size=None, align=None, v_align=None, style=None, weight=None, stretch=None, decorate=None, transform=None, whitespace=None), CellStyleFill(color='#600279')]), StyleInfo(locname='data', locnum=5, grpname=None, colname='Loan_Amount', rownum=3, colnum=None, styles=[CellStyleText(color='#FFFFFF', font=None, size=None, align=None, v_align=None, style=None, weight=None, stretch=None, decorate=None, transform=None, whitespace=None), CellStyleFill(color='#bd0237')]), StyleInfo(locname='data', locnum=5, grpname=None, colname='Loan_Amount', rownum=4, colnum=None, styles=[CellStyleText(color='#FFFFFF', font=None, size=None, align=None, v_align=None, style=None, weight=None, stretch=None, decorate=None, transform=None, whitespace=None), CellStyleFill(color='#830261')]), StyleInfo(locname='data', locnum=5, grpname=None, colname='Loan_Amount', rownum=5, colnum=None, styles=[CellStyleText(color='#FFFFFF', font=None, size=None, align=None, v_align=None, style=None, weight=None, stretch=None, decorate=None, transform=None, whitespace=None), CellStyleFill(color='#410290')]), StyleInfo(locname='data', locnum=5, grpname=None, colname='Loan_Amount', rownum=6, colnum=None, styles=[CellStyleText(color='#FFFFFF', font=None, size=None, align=None, v_align=None, style=None, weight=None, stretch=None, decorate=None, transform=None, whitespace=None), CellStyleFill(color='#b5023d')]), StyleInfo(locname='data', locnum=5, grpname=None, colname='Loan_Amount', rownum=7, colnum=None, styles=[CellStyleText(color='#FFFFFF', font=None, size=None, align=None, v_align=None, style=None, weight=None, stretch=None, decorate=None, transform=None, whitespace=None), CellStyleFill(color='#7c0265')]), StyleInfo(locname='data', locnum=5, grpname=None, colname='Loan_Amount', rownum=8, colnum=None, styles=[CellStyleText(color='#FFFFFF', font=None, size=None, align=None, v_align=None, style=None, weight=None, stretch=None, decorate=None, transform=None, whitespace=None), CellStyleFill(color='#640277')]), StyleInfo(locname='data', locnum=5, grpname=None, colname='Loan_Period', rownum=0, colnum=None, styles=[CellStyleText(color='#FFFFFF', font=None, size=None, align=None, v_align=None, style=None, weight=None, stretch=None, decorate=None, transform=None, whitespace=None), CellStyleFill(color='#5f027a')]), StyleInfo(locname='data', locnum=5, grpname=None, colname='Loan_Period', rownum=1, colnum=None, styles=[CellStyleText(color='#FFFFFF', font=None, size=None, align=None, v_align=None, style=None, weight=None, stretch=None, decorate=None, transform=None, whitespace=None), CellStyleFill(color='#5f027a')]), StyleInfo(locname='data', locnum=5, grpname=None, colname='Loan_Period', rownum=2, colnum=None, styles=[CellStyleText(color='#FFFFFF', font=None, size=None, align=None, v_align=None, style=None, weight=None, stretch=None, decorate=None, transform=None, whitespace=None), CellStyleFill(color='#5f027a')]), StyleInfo(locname='data', locnum=5, grpname=None, colname='Loan_Period', rownum=3, colnum=None, styles=[CellStyleText(color='#FFFFFF', font=None, size=None, align=None, v_align=None, style=None, weight=None, stretch=None, decorate=None, transform=None, whitespace=None), CellStyleFill(color='#830261')]), StyleInfo(locname='data', locnum=5, grpname=None, colname='Loan_Period', rownum=4, colnum=None, styles=[CellStyleText(color='#FFFFFF', font=None, size=None, align=None, v_align=None, style=None, weight=None, stretch=None, decorate=None, transform=None, whitespace=None), CellStyleFill(color='#bd0237')]), StyleInfo(locname='data', locnum=5, grpname=None, colname='Loan_Period', rownum=5, colnum=None, styles=[CellStyleText(color='#FFFFFF', font=None, size=None, align=None, v_align=None, style=None, weight=None, stretch=None, decorate=None, transform=None, whitespace=None), CellStyleFill(color='#560280')]), StyleInfo(locname='data', locnum=5, grpname=None, colname='Loan_Period', rownum=6, colnum=None, styles=[CellStyleText(color='#FFFFFF', font=None, size=None, align=None, v_align=None, style=None, weight=None, stretch=None, decorate=None, transform=None, whitespace=None), CellStyleFill(color='#670274')]), StyleInfo(locname='data', locnum=5, grpname=None, colname='Loan_Period', rownum=7, colnum=None, styles=[CellStyleText(color='#FFFFFF', font=None, size=None, align=None, v_align=None, style=None, weight=None, stretch=None, decorate=None, transform=None, whitespace=None), CellStyleFill(color='#59027e')]), StyleInfo(locname='data', locnum=5, grpname=None, colname='Loan_Period', rownum=8, colnum=None, styles=[CellStyleText(color='#FFFFFF', font=None, size=None, align=None, v_align=None, style=None, weight=None, stretch=None, decorate=None, transform=None, whitespace=None), CellStyleFill(color='#5f027a')]), StyleInfo(locname='data', locnum=5, grpname=None, colname='Interest_Rate', rownum=0, colnum=None, styles=[CellStyleText(color='#FFFFFF', font=None, size=None, align=None, v_align=None, style=None, weight=None, stretch=None, decorate=None, transform=None, whitespace=None), CellStyleFill(color='#70026e')]), StyleInfo(locname='data', locnum=5, grpname=None, colname='Interest_Rate', rownum=1, colnum=None, styles=[CellStyleText(color='#FFFFFF', font=None, size=None, align=None, v_align=None, style=None, weight=None, stretch=None, decorate=None, transform=None, whitespace=None), CellStyleFill(color='#5e027b')]), StyleInfo(locname='data', locnum=5, grpname=None, colname='Interest_Rate', rownum=2, colnum=None, styles=[CellStyleText(color='#FFFFFF', font=None, size=None, align=None, v_align=None, style=None, weight=None, stretch=None, decorate=None, transform=None, whitespace=None), CellStyleFill(color='#5d027c')]), StyleInfo(locname='data', locnum=5, grpname=None, colname='Interest_Rate', rownum=3, colnum=None, styles=[CellStyleText(color='#FFFFFF', font=None, size=None, align=None, v_align=None, style=None, weight=None, stretch=None, decorate=None, transform=None, whitespace=None), CellStyleFill(color='#410290')]), StyleInfo(locname='data', locnum=5, grpname=None, colname='Interest_Rate', rownum=4, colnum=None, styles=[CellStyleText(color='#FFFFFF', font=None, size=None, align=None, v_align=None, style=None, weight=None, stretch=None, decorate=None, transform=None, whitespace=None), CellStyleFill(color='#560280')]), StyleInfo(locname='data', locnum=5, grpname=None, colname='Interest_Rate', rownum=5, colnum=None, styles=[CellStyleText(color='#FFFFFF', font=None, size=None, align=None, v_align=None, style=None, weight=None, stretch=None, decorate=None, transform=None, whitespace=None), CellStyleFill(color='#bd0237')]), StyleInfo(locname='data', locnum=5, grpname=None, colname='Interest_Rate', rownum=6, colnum=None, styles=[CellStyleText(color='#FFFFFF', font=None, size=None, align=None, v_align=None, style=None, weight=None, stretch=None, decorate=None, transform=None, whitespace=None), CellStyleFill(color='#49028a')]), StyleInfo(locname='data', locnum=5, grpname=None, colname='Interest_Rate', rownum=7, colnum=None, styles=[CellStyleText(color='#FFFFFF', font=None, size=None, align=None, v_align=None, style=None, weight=None, stretch=None, decorate=None, transform=None, whitespace=None), CellStyleFill(color='#2c029f')]), StyleInfo(locname='data', locnum=5, grpname=None, colname='Interest_Rate', rownum=8, colnum=None, styles=[CellStyleText(color='#FFFFFF', font=None, size=None, align=None, v_align=None, style=None, weight=None, stretch=None, decorate=None, transform=None, whitespace=None), CellStyleFill(color='#570280')]), StyleInfo(locname='data', locnum=5, grpname=None, colname='EMI', rownum=0, colnum=None, styles=[CellStyleText(color='#FFFFFF', font=None, size=None, align=None, v_align=None, style=None, weight=None, stretch=None, decorate=None, transform=None, whitespace=None), CellStyleFill(color='#5b027d')]), StyleInfo(locname='data', locnum=5, grpname=None, colname='EMI', rownum=1, colnum=None, styles=[CellStyleText(color='#FFFFFF', font=None, size=None, align=None, v_align=None, style=None, weight=None, stretch=None, decorate=None, transform=None, whitespace=None), CellStyleFill(color='#630278')]), StyleInfo(locname='data', locnum=5, grpname=None, colname='EMI', rownum=2, colnum=None, styles=[CellStyleText(color='#FFFFFF', font=None, size=None, align=None, v_align=None, style=None, weight=None, stretch=None, decorate=None, transform=None, whitespace=None), CellStyleFill(color='#60027a')]), StyleInfo(locname='data', locnum=5, grpname=None, colname='EMI', rownum=3, colnum=None, styles=[CellStyleText(color='#FFFFFF', font=None, size=None, align=None, v_align=None, style=None, weight=None, stretch=None, decorate=None, transform=None, whitespace=None), CellStyleFill(color='#b5023d')]), StyleInfo(locname='data', locnum=5, grpname=None, colname='EMI', rownum=4, colnum=None, styles=[CellStyleText(color='#FFFFFF', font=None, size=None, align=None, v_align=None, style=None, weight=None, stretch=None, decorate=None, transform=None, whitespace=None), CellStyleFill(color='#670274')]), StyleInfo(locname='data', locnum=5, grpname=None, colname='EMI', rownum=5, colnum=None, styles=[CellStyleText(color='#FFFFFF', font=None, size=None, align=None, v_align=None, style=None, weight=None, stretch=None, decorate=None, transform=None, whitespace=None), CellStyleFill(color='#49028a')]), StyleInfo(locname='data', locnum=5, grpname=None, colname='EMI', rownum=6, colnum=None, styles=[CellStyleText(color='#FFFFFF', font=None, size=None, align=None, v_align=None, style=None, weight=None, stretch=None, decorate=None, transform=None, whitespace=None), CellStyleFill(color='#bd0237')]), StyleInfo(locname='data', locnum=5, grpname=None, colname='EMI', rownum=7, colnum=None, styles=[CellStyleText(color='#FFFFFF', font=None, size=None, align=None, v_align=None, style=None, weight=None, stretch=None, decorate=None, transform=None, whitespace=None), CellStyleFill(color='#7b0266')]), StyleInfo(locname='data', locnum=5, grpname=None, colname='EMI', rownum=8, colnum=None, styles=[CellStyleText(color='#FFFFFF', font=None, size=None, align=None, v_align=None, style=None, weight=None, stretch=None, decorate=None, transform=None, whitespace=None), CellStyleFill(color='#640277')]), StyleInfo(locname='data', locnum=5, grpname=None, colname='Var1', rownum=0, colnum=None, styles=[CellStyleText(color='#FFFFFF', font=None, size=None, align=None, v_align=None, style=None, weight=None, stretch=None, decorate=None, transform=None, whitespace=None), CellStyleFill(color='#540282')]), StyleInfo(locname='data', locnum=5, grpname=None, colname='Var1', rownum=1, colnum=None, styles=[CellStyleText(color='#FFFFFF', font=None, size=None, align=None, v_align=None, style=None, weight=None, stretch=None, decorate=None, transform=None, whitespace=None), CellStyleFill(color='#620278')]), StyleInfo(locname='data', locnum=5, grpname=None, colname='Var1', rownum=2, colnum=None, styles=[CellStyleText(color='#FFFFFF', font=None, size=None, align=None, v_align=None, style=None, weight=None, stretch=None, decorate=None, transform=None, whitespace=None), CellStyleFill(color='#60027a')]), StyleInfo(locname='data', locnum=5, grpname=None, colname='Var1', rownum=3, colnum=None, styles=[CellStyleText(color='#FFFFFF', font=None, size=None, align=None, v_align=None, style=None, weight=None, stretch=None, decorate=None, transform=None, whitespace=None), CellStyleFill(color='#7c0265')]), StyleInfo(locname='data', locnum=5, grpname=None, colname='Var1', rownum=4, colnum=None, styles=[CellStyleText(color='#FFFFFF', font=None, size=None, align=None, v_align=None, style=None, weight=None, stretch=None, decorate=None, transform=None, whitespace=None), CellStyleFill(color='#59027e')]), StyleInfo(locname='data', locnum=5, grpname=None, colname='Var1', rownum=5, colnum=None, styles=[CellStyleText(color='#FFFFFF', font=None, size=None, align=None, v_align=None, style=None, weight=None, stretch=None, decorate=None, transform=None, whitespace=None), CellStyleFill(color='#2c029f')]), StyleInfo(locname='data', locnum=5, grpname=None, colname='Var1', rownum=6, colnum=None, styles=[CellStyleText(color='#FFFFFF', font=None, size=None, align=None, v_align=None, style=None, weight=None, stretch=None, decorate=None, transform=None, whitespace=None), CellStyleFill(color='#7b0266')]), StyleInfo(locname='data', locnum=5, grpname=None, colname='Var1', rownum=7, colnum=None, styles=[CellStyleText(color='#FFFFFF', font=None, size=None, align=None, v_align=None, style=None, weight=None, stretch=None, decorate=None, transform=None, whitespace=None), CellStyleFill(color='#bd0237')]), StyleInfo(locname='data', locnum=5, grpname=None, colname='Var1', rownum=8, colnum=None, styles=[CellStyleText(color='#FFFFFF', font=None, size=None, align=None, v_align=None, style=None, weight=None, stretch=None, decorate=None, transform=None, whitespace=None), CellStyleFill(color='#6a0272')]), StyleInfo(locname='data', locnum=5, grpname=None, colname='Approved', rownum=0, colnum=None, styles=[CellStyleText(color='#FFFFFF', font=None, size=None, align=None, v_align=None, style=None, weight=None, stretch=None, decorate=None, transform=None, whitespace=None), CellStyleFill(color='#5e027b')]), StyleInfo(locname='data', locnum=5, grpname=None, colname='Approved', rownum=1, colnum=None, styles=[CellStyleText(color='#FFFFFF', font=None, size=None, align=None, v_align=None, style=None, weight=None, stretch=None, decorate=None, transform=None, whitespace=None), CellStyleFill(color='#60027a')]), StyleInfo(locname='data', locnum=5, grpname=None, colname='Approved', rownum=2, colnum=None, styles=[CellStyleText(color='#FFFFFF', font=None, size=None, align=None, v_align=None, style=None, weight=None, stretch=None, decorate=None, transform=None, whitespace=None), CellStyleFill(color='#620278')]), StyleInfo(locname='data', locnum=5, grpname=None, colname='Approved', rownum=3, colnum=None, styles=[CellStyleText(color='#FFFFFF', font=None, size=None, align=None, v_align=None, style=None, weight=None, stretch=None, decorate=None, transform=None, whitespace=None), CellStyleFill(color='#640277')]), StyleInfo(locname='data', locnum=5, grpname=None, colname='Approved', rownum=4, colnum=None, styles=[CellStyleText(color='#FFFFFF', font=None, size=None, align=None, v_align=None, style=None, weight=None, stretch=None, decorate=None, transform=None, whitespace=None), CellStyleFill(color='#5f027a')]), StyleInfo(locname='data', locnum=5, grpname=None, colname='Approved', rownum=5, colnum=None, styles=[CellStyleText(color='#FFFFFF', font=None, size=None, align=None, v_align=None, style=None, weight=None, stretch=None, decorate=None, transform=None, whitespace=None), CellStyleFill(color='#570280')]), StyleInfo(locname='data', locnum=5, grpname=None, colname='Approved', rownum=6, colnum=None, styles=[CellStyleText(color='#FFFFFF', font=None, size=None, align=None, v_align=None, style=None, weight=None, stretch=None, decorate=None, transform=None, whitespace=None), CellStyleFill(color='#640277')]), StyleInfo(locname='data', locnum=5, grpname=None, colname='Approved', rownum=7, colnum=None, styles=[CellStyleText(color='#FFFFFF', font=None, size=None, align=None, v_align=None, style=None, weight=None, stretch=None, decorate=None, transform=None, whitespace=None), CellStyleFill(color='#6a0272')]), StyleInfo(locname='data', locnum=5, grpname=None, colname='Approved', rownum=8, colnum=None, styles=[CellStyleText(color='#FFFFFF', font=None, size=None, align=None, v_align=None, style=None, weight=None, stretch=None, decorate=None, transform=None, whitespace=None), CellStyleFill(color='#bd0237')])], _locale=<great_tables._gt_data.Locale object at 0x70dac7fcfe10>, _formats=[<great_tables._gt_data.FormatInfo object at 0x70dac7fcff50>], _substitutions=[], _options=Options(table_id=OptionsInfo(scss=False, category='table', type='value', value=None), table_caption=OptionsInfo(scss=False, category='table', type='value', value=None), table_width=OptionsInfo(scss=True, category='table', type='px', value='auto'), table_layout=OptionsInfo(scss=True, category='table', type='value', value='fixed'), table_margin_left=OptionsInfo(scss=True, category='table', type='px', value='auto'), table_margin_right=OptionsInfo(scss=True, category='table', type='px', value='auto'), table_background_color=OptionsInfo(scss=True, category='table', type='value', value='#FFFFFF'), table_font_names=OptionsInfo(scss=False, category='table', type='values', value=['-apple-system', 'BlinkMacSystemFont', 'Segoe UI', 'Roboto', 'Oxygen', 'Ubuntu', 'Cantarell', 'Helvetica Neue', 'Fira Sans', 'Droid Sans', 'Arial', 'sans-serif']), table_font_size=OptionsInfo(scss=True, category='table', type='px', value='16px'), table_font_weight=OptionsInfo(scss=True, category='table', type='value', value='normal'), table_font_style=OptionsInfo(scss=True, category='table', type='value', value='normal'), table_font_color=OptionsInfo(scss=True, category='table', type='value', value='#333333'), table_font_color_light=OptionsInfo(scss=True, category='table', type='value', value='#FFFFFF'), table_border_top_include=OptionsInfo(scss=False, category='table', type='boolean', value=True), table_border_top_style=OptionsInfo(scss=True, category='table', type='value', value='solid'), table_border_top_width=OptionsInfo(scss=True, category='table', type='px', value='2px'), table_border_top_color=OptionsInfo(scss=True, category='table', type='value', value='#A8A8A8'), table_border_right_style=OptionsInfo(scss=True, category='table', type='value', value='none'), table_border_right_width=OptionsInfo(scss=True, category='table', type='px', value='2px'), table_border_right_color=OptionsInfo(scss=True, category='table', type='value', value='#D3D3D3'), table_border_bottom_include=OptionsInfo(scss=False, category='table', type='boolean', value=True), table_border_bottom_style=OptionsInfo(scss=True, category='table', type='value', value='solid'), table_border_bottom_width=OptionsInfo(scss=True, category='table', type='px', value='2px'), table_border_bottom_color=OptionsInfo(scss=True, category='table', type='value', value='#A8A8A8'), table_border_left_style=OptionsInfo(scss=True, category='table', type='value', value='none'), table_border_left_width=OptionsInfo(scss=True, category='table', type='px', value='2px'), table_border_left_color=OptionsInfo(scss=True, category='table', type='value', value='#D3D3D3'), heading_background_color=OptionsInfo(scss=True, category='heading', type='value', value=None), heading_align=OptionsInfo(scss=True, category='heading', type='value', value='center'), heading_title_font_size=OptionsInfo(scss=True, category='heading', type='px', value='125%'), heading_title_font_weight=OptionsInfo(scss=True, category='heading', type='value', value='initial'), heading_subtitle_font_size=OptionsInfo(scss=True, category='heading', type='px', value='85%'), heading_subtitle_font_weight=OptionsInfo(scss=True, category='heading', type='value', value='initial'), heading_padding=OptionsInfo(scss=True, category='heading', type='px', value='4px'), heading_padding_horizontal=OptionsInfo(scss=True, category='heading', type='px', value='5px'), heading_border_bottom_style=OptionsInfo(scss=True, category='heading', type='value', value='solid'), heading_border_bottom_width=OptionsInfo(scss=True, category='heading', type='px', value='2px'), heading_border_bottom_color=OptionsInfo(scss=True, category='heading', type='value', value='#D3D3D3'), heading_border_lr_style=OptionsInfo(scss=True, category='heading', type='value', value='none'), heading_border_lr_width=OptionsInfo(scss=True, category='heading', type='px', value='1px'), heading_border_lr_color=OptionsInfo(scss=True, category='heading', type='value', value='#D3D3D3'), column_labels_background_color=OptionsInfo(scss=True, category='column_labels', type='value', value=None), column_labels_font_size=OptionsInfo(scss=True, category='column_labels', type='px', value='100%'), column_labels_font_weight=OptionsInfo(scss=True, category='column_labels', type='value', value='normal'), column_labels_text_transform=OptionsInfo(scss=True, category='column_labels', type='value', value='inherit'), column_labels_padding=OptionsInfo(scss=True, category='column_labels', type='px', value='5px'), column_labels_padding_horizontal=OptionsInfo(scss=True, category='column_labels', type='px', value='5px'), column_labels_vlines_style=OptionsInfo(scss=True, category='table_body', type='value', value='none'), column_labels_vlines_width=OptionsInfo(scss=True, category='table_body', type='px', value='1px'), column_labels_vlines_color=OptionsInfo(scss=True, category='table_body', type='value', value='#D3D3D3'), column_labels_border_top_style=OptionsInfo(scss=True, category='column_labels', type='value', value='solid'), column_labels_border_top_width=OptionsInfo(scss=True, category='column_labels', type='px', value='2px'), column_labels_border_top_color=OptionsInfo(scss=True, category='column_labels', type='value', value='#D3D3D3'), column_labels_border_bottom_style=OptionsInfo(scss=True, category='column_labels', type='value', value='solid'), column_labels_border_bottom_width=OptionsInfo(scss=True, category='column_labels', type='px', value='2px'), column_labels_border_bottom_color=OptionsInfo(scss=True, category='column_labels', type='value', value='#D3D3D3'), column_labels_border_lr_style=OptionsInfo(scss=True, category='column_labels', type='value', value='none'), column_labels_border_lr_width=OptionsInfo(scss=True, category='column_labels', type='px', value='1px'), column_labels_border_lr_color=OptionsInfo(scss=True, category='column_labels', type='value', value='#D3D3D3'), column_labels_hidden=OptionsInfo(scss=False, category='column_labels', type='boolean', value=False), row_group_background_color=OptionsInfo(scss=True, category='row_group', type='value', value=None), row_group_font_size=OptionsInfo(scss=True, category='row_group', type='px', value='100%'), row_group_font_weight=OptionsInfo(scss=True, category='row_group', type='value', value='initial'), row_group_text_transform=OptionsInfo(scss=True, category='row_group', type='value', value='inherit'), row_group_padding=OptionsInfo(scss=True, category='row_group', type='px', value='8px'), row_group_padding_horizontal=OptionsInfo(scss=True, category='row_group', type='px', value='5px'), row_group_border_top_style=OptionsInfo(scss=True, category='row_group', type='value', value='solid'), row_group_border_top_width=OptionsInfo(scss=True, category='row_group', type='px', value='2px'), row_group_border_top_color=OptionsInfo(scss=True, category='row_group', type='value', value='#D3D3D3'), row_group_border_right_style=OptionsInfo(scss=True, category='row_group', type='value', value='none'), row_group_border_right_width=OptionsInfo(scss=True, category='row_group', type='px', value='1px'), row_group_border_right_color=OptionsInfo(scss=True, category='row_group', type='value', value='#D3D3D3'), row_group_border_bottom_style=OptionsInfo(scss=True, category='row_group', type='value', value='solid'), row_group_border_bottom_width=OptionsInfo(scss=True, category='row_group', type='px', value='2px'), row_group_border_bottom_color=OptionsInfo(scss=True, category='row_group', type='value', value='#D3D3D3'), row_group_border_left_style=OptionsInfo(scss=True, category='row_group', type='value', value='none'), row_group_border_left_width=OptionsInfo(scss=True, category='row_group', type='px', value='1px'), row_group_border_left_color=OptionsInfo(scss=True, category='row_group', type='value', value='#D3D3D3'), row_group_as_column=OptionsInfo(scss=False, category='row_group', type='boolean', value=False), table_body_hlines_style=OptionsInfo(scss=True, category='table_body', type='value', value='solid'), table_body_hlines_width=OptionsInfo(scss=True, category='table_body', type='px', value='1px'), table_body_hlines_color=OptionsInfo(scss=True, category='table_body', type='value', value='#D3D3D3'), table_body_vlines_style=OptionsInfo(scss=True, category='table_body', type='value', value='none'), table_body_vlines_width=OptionsInfo(scss=True, category='table_body', type='px', value='1px'), table_body_vlines_color=OptionsInfo(scss=True, category='table_body', type='value', value='#D3D3D3'), table_body_border_top_style=OptionsInfo(scss=True, category='table_body', type='value', value='solid'), table_body_border_top_width=OptionsInfo(scss=True, category='table_body', type='px', value='2px'), table_body_border_top_color=OptionsInfo(scss=True, category='table_body', type='value', value='#D3D3D3'), table_body_border_bottom_style=OptionsInfo(scss=True, category='table_body', type='value', value='solid'), table_body_border_bottom_width=OptionsInfo(scss=True, category='table_body', type='px', value='2px'), table_body_border_bottom_color=OptionsInfo(scss=True, category='table_body', type='value', value='#D3D3D3'), data_row_padding=OptionsInfo(scss=True, category='data_row', type='px', value='8px'), data_row_padding_horizontal=OptionsInfo(scss=True, category='data_row', type='px', value='5px'), stub_background_color=OptionsInfo(scss=True, category='stub', type='value', value=None), stub_font_size=OptionsInfo(scss=True, category='stub', type='px', value='100%'), stub_font_weight=OptionsInfo(scss=True, category='stub', type='value', value='initial'), stub_text_transform=OptionsInfo(scss=True, category='stub', type='value', value='inherit'), stub_border_style=OptionsInfo(scss=True, category='stub', type='value', value='solid'), stub_border_width=OptionsInfo(scss=True, category='stub', type='px', value='2px'), stub_border_color=OptionsInfo(scss=True, category='stub', type='value', value='#D3D3D3'), stub_row_group_background_color=OptionsInfo(scss=True, category='stub', type='value', value=None), stub_row_group_font_size=OptionsInfo(scss=True, category='stub', type='px', value='100%'), stub_row_group_font_weight=OptionsInfo(scss=True, category='stub', type='value', value='initial'), stub_row_group_text_transform=OptionsInfo(scss=True, category='stub', type='value', value='inherit'), stub_row_group_border_style=OptionsInfo(scss=True, category='stub', type='value', value='solid'), stub_row_group_border_width=OptionsInfo(scss=True, category='stub', type='px', value='2px'), stub_row_group_border_color=OptionsInfo(scss=True, category='stub', type='value', value='#D3D3D3'), source_notes_padding=OptionsInfo(scss=True, category='source_notes', type='px', value='4px'), source_notes_padding_horizontal=OptionsInfo(scss=True, category='source_notes', type='px', value='5px'), source_notes_background_color=OptionsInfo(scss=True, category='source_notes', type='value', value=None), source_notes_font_size=OptionsInfo(scss=True, category='source_notes', type='px', value='90%'), source_notes_border_bottom_style=OptionsInfo(scss=True, category='source_notes', type='value', value='none'), source_notes_border_bottom_width=OptionsInfo(scss=True, category='source_notes', type='px', value='2px'), source_notes_border_bottom_color=OptionsInfo(scss=True, category='source_notes', type='value', value='#D3D3D3'), source_notes_border_lr_style=OptionsInfo(scss=True, category='source_notes', type='value', value='none'), source_notes_border_lr_width=OptionsInfo(scss=True, category='source_notes', type='px', value='2px'), source_notes_border_lr_color=OptionsInfo(scss=True, category='source_notes', type='value', value='#D3D3D3'), source_notes_multiline=OptionsInfo(scss=False, category='source_notes', type='boolean', value=True), source_notes_sep=OptionsInfo(scss=False, category='source_notes', type='value', value=' '), container_width=OptionsInfo(scss=False, category='container', type='px', value='auto'), container_height=OptionsInfo(scss=False, category='container', type='px', value='auto'), container_padding_x=OptionsInfo(scss=False, category='container', type='px', value='0px'), container_padding_y=OptionsInfo(scss=False, category='container', type='px', value='10px'), container_overflow_x=OptionsInfo(scss=False, category='container', type='overflow', value='auto'), container_overflow_y=OptionsInfo(scss=False, category='container', type='overflow', value='auto'), quarto_disable_processing=OptionsInfo(scss=False, category='quarto', type='logical', value=False), quarto_use_bootstrap=OptionsInfo(scss=False, category='quarto', type='logical', value=False)), _has_built=False)"
      ]
     },
     "execution_count": 19,
     "metadata": {},
     "output_type": "execute_result"
    }
   ],
   "source": [
    "dia.plot_corr(subset=cs.all(), method=\"xi\")"
   ]
  },
  {
   "cell_type": "markdown",
   "metadata": {},
   "source": [
    "# Classic Iris Dataset\n",
    "\n",
    "Need sklearn to download the dataset and that's it."
   ]
  },
  {
   "cell_type": "code",
   "execution_count": 20,
   "metadata": {},
   "outputs": [
    {
     "data": {
      "text/html": [
       "<div><style>\n",
       ".dataframe > thead > tr,\n",
       ".dataframe > tbody > tr {\n",
       "  text-align: right;\n",
       "  white-space: pre-wrap;\n",
       "}\n",
       "</style>\n",
       "<small>shape: (5, 5)</small><table border=\"1\" class=\"dataframe\"><thead><tr><th>sepal length (cm)</th><th>sepal width (cm)</th><th>petal length (cm)</th><th>petal width (cm)</th><th>species</th></tr><tr><td>f64</td><td>f64</td><td>f64</td><td>f64</td><td>str</td></tr></thead><tbody><tr><td>5.1</td><td>3.5</td><td>1.4</td><td>0.2</td><td>&quot;setosa&quot;</td></tr><tr><td>4.9</td><td>3.0</td><td>1.4</td><td>0.2</td><td>&quot;setosa&quot;</td></tr><tr><td>4.7</td><td>3.2</td><td>1.3</td><td>0.2</td><td>&quot;setosa&quot;</td></tr><tr><td>4.6</td><td>3.1</td><td>1.5</td><td>0.2</td><td>&quot;setosa&quot;</td></tr><tr><td>5.0</td><td>3.6</td><td>1.4</td><td>0.2</td><td>&quot;setosa&quot;</td></tr></tbody></table></div>"
      ],
      "text/plain": [
       "shape: (5, 5)\n",
       "┌───────────────────┬──────────────────┬───────────────────┬──────────────────┬─────────┐\n",
       "│ sepal length (cm) ┆ sepal width (cm) ┆ petal length (cm) ┆ petal width (cm) ┆ species │\n",
       "│ ---               ┆ ---              ┆ ---               ┆ ---              ┆ ---     │\n",
       "│ f64               ┆ f64              ┆ f64               ┆ f64              ┆ str     │\n",
       "╞═══════════════════╪══════════════════╪═══════════════════╪══════════════════╪═════════╡\n",
       "│ 5.1               ┆ 3.5              ┆ 1.4               ┆ 0.2              ┆ setosa  │\n",
       "│ 4.9               ┆ 3.0              ┆ 1.4               ┆ 0.2              ┆ setosa  │\n",
       "│ 4.7               ┆ 3.2              ┆ 1.3               ┆ 0.2              ┆ setosa  │\n",
       "│ 4.6               ┆ 3.1              ┆ 1.5               ┆ 0.2              ┆ setosa  │\n",
       "│ 5.0               ┆ 3.6              ┆ 1.4               ┆ 0.2              ┆ setosa  │\n",
       "└───────────────────┴──────────────────┴───────────────────┴──────────────────┴─────────┘"
      ]
     },
     "execution_count": 20,
     "metadata": {},
     "output_type": "execute_result"
    }
   ],
   "source": [
    "from sklearn import datasets\n",
    "dataset = datasets.load_iris()\n",
    "df = pl.from_numpy(dataset.data, schema = dataset.feature_names).with_columns(\n",
    "    pl.Series(values=dataset.target).alias(\"species\")\n",
    ").with_columns(\n",
    "    pl.col(\"species\").replace(old=[0,1,2], new=dataset.target_names)\n",
    ")\n",
    "df.head()"
   ]
  },
  {
   "cell_type": "code",
   "execution_count": 21,
   "metadata": {},
   "outputs": [
    {
     "data": {
      "application/vnd.plotly.v1+json": {
       "config": {
        "plotlyServerURL": "https://plot.ly"
       },
       "data": [
        {
         "hovertemplate": "color=setosa<br>pc1=%{x}<br>pc2=%{y}<br>pc3=%{z}<extra></extra>",
         "legendgroup": "setosa",
         "marker": {
          "color": "#636efa",
          "symbol": "circle"
         },
         "mode": "markers",
         "name": "setosa",
         "scene": "scene",
         "showlegend": true,
         "type": "scatter3d",
         "x": [
          -2.684125625969534,
          -2.714141687294323,
          -2.8889905690592936,
          -2.745342855641407,
          -2.7287165365545274,
          -2.2808596328444897,
          -2.820537750740606,
          -2.62614497314663,
          -2.8863827317805506,
          -2.6727557978209515,
          -2.506947090651853,
          -2.6127552309087205,
          -2.7861092661880154,
          -3.2238037438656497,
          -2.644750389942027,
          -2.38603903353113,
          -2.6235278752244233,
          -2.6482967062543787,
          -2.1998203236175775,
          -2.5879863998787656,
          -2.3102562152425157,
          -2.5437052287571538,
          -3.215939415648609,
          -2.3027331822262047,
          -2.35575404912377,
          -2.5066689069258192,
          -2.468820073121336,
          -2.5623199061960134,
          -2.63953471538454,
          -2.631989387274343,
          -2.5873984766893496,
          -2.4099324970021723,
          -2.6488623343499094,
          -2.5987367491005844,
          -2.6369268781057964,
          -2.866241652118667,
          -2.625238049850369,
          -2.8006841154482194,
          -2.9805020437819905,
          -2.590006313968093,
          -2.770102426027899,
          -2.8493687050431005,
          -2.9974065465949042,
          -2.4056144850974834,
          -2.209489237783677,
          -2.714451426757705,
          -2.538148258998937,
          -2.8394621676428478,
          -2.5430857498303903,
          -2.703359782335157
         ],
         "y": [
          0.31939724658510243,
          -0.1770012250647788,
          -0.14494942608555617,
          -0.3182989792519147,
          0.32675451293492125,
          0.7413304490629161,
          -0.08946138452856743,
          0.16338495969833003,
          -0.5783117541867024,
          -0.11377424587411544,
          0.6450688986485751,
          0.014729939161375924,
          -0.2351120002017169,
          -0.5113945870063805,
          1.1787646364375766,
          1.3380623304006536,
          0.8106795141812589,
          0.31184914459335605,
          0.8728390389622122,
          0.5135603087492782,
          0.3913459356538955,
          0.43299606327902945,
          0.1334680695385273,
          0.09870885481410073,
          -0.03728185967738122,
          -0.14601688049526637,
          0.13095148943525156,
          0.36771885743420124,
          0.31203998023528423,
          -0.1969612249243133,
          -0.204318491274132,
          0.4109242642295742,
          0.8133638202969633,
          1.093145759449358,
          -0.1213223478658618,
          0.06936447158008208,
          0.599370021379425,
          0.2686437377979837,
          -0.48795834442861397,
          0.22904383682701399,
          0.26352753374425775,
          -0.9409605736411951,
          -0.3419260574716085,
          0.18887142893026154,
          0.43666314163918896,
          -0.2502082041852096,
          0.5037711444614389,
          -0.2279455694938263,
          0.5794100215198906,
          0.10770608249941299
         ],
         "z": [
          0.02791482758941342,
          0.2104642723782437,
          -0.017900256320890446,
          -0.031559373605681305,
          -0.09007924055120166,
          -0.16867765820910502,
          -0.25789215825561823,
          0.021879317886719356,
          -0.020759570264780276,
          0.19763272498814613,
          0.0753180093791198,
          -0.10215025995659023,
          0.20684443044964432,
          -0.06129967245709931,
          0.15162752361780893,
          -0.2777769027031361,
          -0.13818322788071963,
          -0.02666831561259415,
          0.12030552339473059,
          -0.2136651722247162,
          0.23944404324495303,
          -0.20845723241671538,
          -0.2923967507452425,
          -0.03912325874288096,
          -0.1250210827028793,
          0.2534200423446574,
          -0.09491057609939207,
          0.07849420513792392,
          0.14590889573002894,
          -0.04077107906717949,
          0.07722298907343549,
          0.14552497200513065,
          -0.22566914972012006,
          -0.15781081295822066,
          0.14304958178613866,
          0.16433230665302542,
          0.2683503756939361,
          -0.09369908247980062,
          -0.07292704569269261,
          0.08008230301732576,
          -0.0772476931611042,
          0.3492303773059664,
          -0.19250921171271,
          -0.2638679455134158,
          -0.2987427457551091,
          0.09767814404562929,
          -0.166705636604805,
          -0.08372684903359363,
          0.01711502424851295,
          0.08929400847882439
         ]
        },
        {
         "hovertemplate": "color=versicolor<br>pc1=%{x}<br>pc2=%{y}<br>pc3=%{z}<extra></extra>",
         "legendgroup": "versicolor",
         "marker": {
          "color": "#EF553B",
          "symbol": "circle"
         },
         "mode": "markers",
         "name": "versicolor",
         "scene": "scene",
         "showlegend": true,
         "type": "scatter3d",
         "x": [
          1.2848256888583542,
          0.9324885323123209,
          1.4643023219913966,
          0.183317719958373,
          1.0881032577116683,
          0.64166908425808,
          1.0950606626324493,
          -0.7491226698296548,
          1.044131826053438,
          -0.008745404082893597,
          -0.5078408838353236,
          0.5116985574475998,
          0.26497650811204904,
          0.9849345104708926,
          -0.17392537168176536,
          0.9278607809442501,
          0.6602837616969394,
          0.2361049933176741,
          0.9447337280198157,
          0.04522697629870234,
          1.1162831773500521,
          0.35788841799730986,
          1.2981838753589163,
          0.9217289224470395,
          0.7148533259114142,
          0.9001743731721698,
          1.332024436722091,
          1.5578021550660728,
          0.8132906498175438,
          -0.3055837780243065,
          -0.06812649206836112,
          -0.1896224723784994,
          0.13642871155801745,
          1.3800264359155134,
          0.5880064433398658,
          0.8068583125004146,
          1.2206908824443556,
          0.8150952357666023,
          0.2459576798866949,
          0.16641321714545929,
          0.4648002884037816,
          0.8908151984694518,
          0.2305480235594579,
          -0.7045317592446613,
          0.35698149470104945,
          0.33193447994506087,
          0.3762156510666728,
          0.6425760075543404,
          -0.9064698649488335,
          0.29900084187814574
         ],
         "y": [
          0.6851604704673084,
          0.318333638262629,
          0.504262815309204,
          -0.8279590118206317,
          0.07459067519771627,
          -0.41824687156867846,
          0.283468270061529,
          -1.0048909611818944,
          0.2283618997883957,
          -0.7230819050048337,
          -1.2659711905263926,
          -0.10398123549904015,
          -0.5500364636804742,
          -0.1248178541263573,
          -0.2548542087025888,
          0.4671794944415105,
          -0.35296966572385025,
          -0.3336107668249149,
          -0.5431455507797662,
          -0.5838343774718638,
          -0.08461685219478803,
          -0.0689250316560136,
          -0.3277873083339173,
          -0.18273779362136733,
          0.14905594436978498,
          0.32850447383432335,
          0.24444087601634354,
          0.2674954473102545,
          -0.1633503006876161,
          -0.3682621897545873,
          -0.7051721317994647,
          -0.6802867635281327,
          -0.3140324382492362,
          -0.4209542873138819,
          -0.48428741998121805,
          0.1941823147131509,
          0.4076195936110071,
          -0.3720370599095015,
          -0.26852439662201455,
          -0.6819267248636262,
          -0.67071154451172,
          -0.03446444436826876,
          -0.4043858480073247,
          -1.0122482275317133,
          -0.5049100933371083,
          -0.2126546837811695,
          -0.29321892925141857,
          0.017738190112416508,
          -0.756093366599013,
          -0.3488978064503355
         ],
         "z": [
          0.40656802546769377,
          0.018014186646239896,
          0.3383257649808958,
          0.1795913918753552,
          0.30775789623478456,
          -0.04107609082395639,
          -0.16981023986057564,
          -0.012302919237595496,
          0.4153360847593973,
          -0.28114143117641,
          0.2698171827688526,
          -0.1305477502404865,
          0.6941468301444189,
          0.06211440832226065,
          -0.09045769072570474,
          0.31462097583217197,
          -0.32802752837859556,
          0.27116183725106635,
          0.49951904648511264,
          0.23500210497205562,
          -0.4596209913591045,
          0.22985388760895126,
          0.34785435225730793,
          0.23107177773628432,
          0.3218009372444736,
          0.3162090737115738,
          0.5217027796644188,
          0.16492098374357997,
          -0.03542450484616051,
          0.3184915806230468,
          0.24421381043355428,
          0.30642056121765815,
          0.17724276601124403,
          -0.016167127520729137,
          -0.44443349863980824,
          -0.38896306309821116,
          0.23716700988387535,
          0.614720842591822,
          -0.18836681164619512,
          0.06000922585533788,
          0.024306855718951366,
          0.009946932894348384,
          0.2294102414391563,
          0.10569114890301956,
          -0.016617170198265804,
          -0.08320429089567709,
          -0.077996351087676,
          0.20539496698326043,
          0.012599647557890057,
          -0.010581660495570957
         ]
        },
        {
         "hovertemplate": "color=virginica<br>pc1=%{x}<br>pc2=%{y}<br>pc3=%{z}<extra></extra>",
         "legendgroup": "virginica",
         "marker": {
          "color": "#00cc96",
          "symbol": "circle"
         },
         "mode": "markers",
         "name": "virginica",
         "scene": "scene",
         "showlegend": true,
         "type": "scatter3d",
         "x": [
          2.53119272780363,
          1.4152358767039048,
          2.6166760159956923,
          1.9715310530434378,
          2.350005920044642,
          3.397038736053261,
          0.5212322439097758,
          2.9325870689936915,
          2.32122881657338,
          2.9167509667860747,
          1.6617741536365338,
          1.8034019529650933,
          2.165591796080147,
          1.3461635794584537,
          1.585928223873223,
          1.9044563747934293,
          1.9496890593990717,
          3.487055364290282,
          3.7956454220728864,
          1.3007917126376594,
          2.4278179130660478,
          1.1990011054655627,
          3.4999200389245404,
          1.3887661316914677,
          2.275430503872207,
          2.6140904738108337,
          1.25850816051149,
          1.2911320591150233,
          2.123608722773897,
          2.38800301600347,
          2.8416727781038733,
          3.2306736614320952,
          2.1594376424890522,
          1.444161242329512,
          1.7812948100451143,
          3.07649993168719,
          2.144243314302084,
          1.905098148814078,
          1.1693263393415025,
          2.1076111432572446,
          2.314154705235602,
          1.9222678009026035,
          1.4152358767039048,
          2.5630133750774777,
          2.4187461827328276,
          1.9441097945469705,
          1.5271666148145198,
          1.7643457170444314,
          1.9009416142184257,
          1.3901888619479161
         ],
         "y": [
          -0.009849109498802583,
          -0.5749163475464893,
          0.3439031513417337,
          -0.1797279043522457,
          -0.04026094714253149,
          0.5508366730280546,
          -1.1927587270006448,
          0.3555000029774958,
          -0.24383150231069098,
          0.7827919488152776,
          0.2422284077550668,
          -0.21563761733355555,
          0.21627558507402445,
          -0.7768183473443395,
          -0.5396407140267188,
          0.11925069209197237,
          0.04194325966321108,
          1.1757393297134282,
          0.25732297342047844,
          -0.7611496364350632,
          0.37819601261705016,
          -0.6060915277579305,
          0.4606740989118941,
          -0.2043993273521509,
          0.3349906058216769,
          0.5609013551230771,
          -0.1797047947227466,
          -0.1166686511740115,
          -0.20972947667730302,
          0.4646398047087359,
          0.3752691671951026,
          1.3741650867930464,
          -0.2172775786690494,
          -0.14341341045758077,
          -0.4999016810781366,
          0.6880856775711751,
          0.1400642010897895,
          0.04930052601302995,
          -0.16499026202310957,
          0.37228787196079727,
          0.18365127916901844,
          0.40920346681606184,
          -0.5749163475464893,
          0.2778626029291942,
          0.3047981978546915,
          0.18753230280060484,
          -0.3753169825804884,
          0.0788588545184755,
          0.11662795851202323,
          -0.28266093799055064
         ],
         "z": [
          -0.7601654272458959,
          -0.2963225273879648,
          0.1107878832191085,
          -0.1084246624634234,
          -0.28538956318444175,
          0.3484375557974667,
          -0.545659295646813,
          0.42023993576796764,
          0.3483043949348446,
          -0.4233354176825591,
          -0.2424401897257695,
          0.0376481682314821,
          -0.033326641844325634,
          -0.28190288211846504,
          -0.6290293264080108,
          -0.47963981962659097,
          -0.04418616763012252,
          -0.13389487393609908,
          0.5137677638178039,
          0.34499503831341777,
          -0.21911932430194375,
          -0.5118555086970014,
          0.5731822425680022,
          0.06452275663126804,
          -0.28615009116915036,
          0.20553452435362424,
          -0.04584770392725036,
          -0.23125646265997088,
          -0.15418002392883048,
          0.4495301919418493,
          0.4988980758707684,
          0.11454820547541829,
          -0.20876316713083806,
          0.15323388806308963,
          0.1728751891134192,
          0.33559229243454053,
          -0.7348789367255115,
          -0.16218023577073754,
          -0.2818358402084808,
          -0.02729113214163118,
          -0.32269374717305943,
          -0.11358659579935693,
          -0.2963225273879648,
          -0.29256952459674335,
          -0.5044826639771804,
          -0.17782509063265778,
          0.12189817186718155,
          -0.1304816312878485,
          -0.7232515634899177,
          -0.3629096480853762
         ]
        }
       ],
       "layout": {
        "legend": {
         "title": {
          "text": "color"
         },
         "tracegroupgap": 0
        },
        "scene": {
         "domain": {
          "x": [
           0,
           1
          ],
          "y": [
           0,
           1
          ]
         },
         "xaxis": {
          "title": {
           "text": "pc1"
          }
         },
         "yaxis": {
          "title": {
           "text": "pc2"
          }
         },
         "zaxis": {
          "title": {
           "text": "pc3"
          }
         }
        },
        "template": {
         "data": {
          "bar": [
           {
            "error_x": {
             "color": "#2a3f5f"
            },
            "error_y": {
             "color": "#2a3f5f"
            },
            "marker": {
             "line": {
              "color": "#E5ECF6",
              "width": 0.5
             },
             "pattern": {
              "fillmode": "overlay",
              "size": 10,
              "solidity": 0.2
             }
            },
            "type": "bar"
           }
          ],
          "barpolar": [
           {
            "marker": {
             "line": {
              "color": "#E5ECF6",
              "width": 0.5
             },
             "pattern": {
              "fillmode": "overlay",
              "size": 10,
              "solidity": 0.2
             }
            },
            "type": "barpolar"
           }
          ],
          "carpet": [
           {
            "aaxis": {
             "endlinecolor": "#2a3f5f",
             "gridcolor": "white",
             "linecolor": "white",
             "minorgridcolor": "white",
             "startlinecolor": "#2a3f5f"
            },
            "baxis": {
             "endlinecolor": "#2a3f5f",
             "gridcolor": "white",
             "linecolor": "white",
             "minorgridcolor": "white",
             "startlinecolor": "#2a3f5f"
            },
            "type": "carpet"
           }
          ],
          "choropleth": [
           {
            "colorbar": {
             "outlinewidth": 0,
             "ticks": ""
            },
            "type": "choropleth"
           }
          ],
          "contour": [
           {
            "colorbar": {
             "outlinewidth": 0,
             "ticks": ""
            },
            "colorscale": [
             [
              0,
              "#0d0887"
             ],
             [
              0.1111111111111111,
              "#46039f"
             ],
             [
              0.2222222222222222,
              "#7201a8"
             ],
             [
              0.3333333333333333,
              "#9c179e"
             ],
             [
              0.4444444444444444,
              "#bd3786"
             ],
             [
              0.5555555555555556,
              "#d8576b"
             ],
             [
              0.6666666666666666,
              "#ed7953"
             ],
             [
              0.7777777777777778,
              "#fb9f3a"
             ],
             [
              0.8888888888888888,
              "#fdca26"
             ],
             [
              1,
              "#f0f921"
             ]
            ],
            "type": "contour"
           }
          ],
          "contourcarpet": [
           {
            "colorbar": {
             "outlinewidth": 0,
             "ticks": ""
            },
            "type": "contourcarpet"
           }
          ],
          "heatmap": [
           {
            "colorbar": {
             "outlinewidth": 0,
             "ticks": ""
            },
            "colorscale": [
             [
              0,
              "#0d0887"
             ],
             [
              0.1111111111111111,
              "#46039f"
             ],
             [
              0.2222222222222222,
              "#7201a8"
             ],
             [
              0.3333333333333333,
              "#9c179e"
             ],
             [
              0.4444444444444444,
              "#bd3786"
             ],
             [
              0.5555555555555556,
              "#d8576b"
             ],
             [
              0.6666666666666666,
              "#ed7953"
             ],
             [
              0.7777777777777778,
              "#fb9f3a"
             ],
             [
              0.8888888888888888,
              "#fdca26"
             ],
             [
              1,
              "#f0f921"
             ]
            ],
            "type": "heatmap"
           }
          ],
          "heatmapgl": [
           {
            "colorbar": {
             "outlinewidth": 0,
             "ticks": ""
            },
            "colorscale": [
             [
              0,
              "#0d0887"
             ],
             [
              0.1111111111111111,
              "#46039f"
             ],
             [
              0.2222222222222222,
              "#7201a8"
             ],
             [
              0.3333333333333333,
              "#9c179e"
             ],
             [
              0.4444444444444444,
              "#bd3786"
             ],
             [
              0.5555555555555556,
              "#d8576b"
             ],
             [
              0.6666666666666666,
              "#ed7953"
             ],
             [
              0.7777777777777778,
              "#fb9f3a"
             ],
             [
              0.8888888888888888,
              "#fdca26"
             ],
             [
              1,
              "#f0f921"
             ]
            ],
            "type": "heatmapgl"
           }
          ],
          "histogram": [
           {
            "marker": {
             "pattern": {
              "fillmode": "overlay",
              "size": 10,
              "solidity": 0.2
             }
            },
            "type": "histogram"
           }
          ],
          "histogram2d": [
           {
            "colorbar": {
             "outlinewidth": 0,
             "ticks": ""
            },
            "colorscale": [
             [
              0,
              "#0d0887"
             ],
             [
              0.1111111111111111,
              "#46039f"
             ],
             [
              0.2222222222222222,
              "#7201a8"
             ],
             [
              0.3333333333333333,
              "#9c179e"
             ],
             [
              0.4444444444444444,
              "#bd3786"
             ],
             [
              0.5555555555555556,
              "#d8576b"
             ],
             [
              0.6666666666666666,
              "#ed7953"
             ],
             [
              0.7777777777777778,
              "#fb9f3a"
             ],
             [
              0.8888888888888888,
              "#fdca26"
             ],
             [
              1,
              "#f0f921"
             ]
            ],
            "type": "histogram2d"
           }
          ],
          "histogram2dcontour": [
           {
            "colorbar": {
             "outlinewidth": 0,
             "ticks": ""
            },
            "colorscale": [
             [
              0,
              "#0d0887"
             ],
             [
              0.1111111111111111,
              "#46039f"
             ],
             [
              0.2222222222222222,
              "#7201a8"
             ],
             [
              0.3333333333333333,
              "#9c179e"
             ],
             [
              0.4444444444444444,
              "#bd3786"
             ],
             [
              0.5555555555555556,
              "#d8576b"
             ],
             [
              0.6666666666666666,
              "#ed7953"
             ],
             [
              0.7777777777777778,
              "#fb9f3a"
             ],
             [
              0.8888888888888888,
              "#fdca26"
             ],
             [
              1,
              "#f0f921"
             ]
            ],
            "type": "histogram2dcontour"
           }
          ],
          "mesh3d": [
           {
            "colorbar": {
             "outlinewidth": 0,
             "ticks": ""
            },
            "type": "mesh3d"
           }
          ],
          "parcoords": [
           {
            "line": {
             "colorbar": {
              "outlinewidth": 0,
              "ticks": ""
             }
            },
            "type": "parcoords"
           }
          ],
          "pie": [
           {
            "automargin": true,
            "type": "pie"
           }
          ],
          "scatter": [
           {
            "fillpattern": {
             "fillmode": "overlay",
             "size": 10,
             "solidity": 0.2
            },
            "type": "scatter"
           }
          ],
          "scatter3d": [
           {
            "line": {
             "colorbar": {
              "outlinewidth": 0,
              "ticks": ""
             }
            },
            "marker": {
             "colorbar": {
              "outlinewidth": 0,
              "ticks": ""
             }
            },
            "type": "scatter3d"
           }
          ],
          "scattercarpet": [
           {
            "marker": {
             "colorbar": {
              "outlinewidth": 0,
              "ticks": ""
             }
            },
            "type": "scattercarpet"
           }
          ],
          "scattergeo": [
           {
            "marker": {
             "colorbar": {
              "outlinewidth": 0,
              "ticks": ""
             }
            },
            "type": "scattergeo"
           }
          ],
          "scattergl": [
           {
            "marker": {
             "colorbar": {
              "outlinewidth": 0,
              "ticks": ""
             }
            },
            "type": "scattergl"
           }
          ],
          "scattermapbox": [
           {
            "marker": {
             "colorbar": {
              "outlinewidth": 0,
              "ticks": ""
             }
            },
            "type": "scattermapbox"
           }
          ],
          "scatterpolar": [
           {
            "marker": {
             "colorbar": {
              "outlinewidth": 0,
              "ticks": ""
             }
            },
            "type": "scatterpolar"
           }
          ],
          "scatterpolargl": [
           {
            "marker": {
             "colorbar": {
              "outlinewidth": 0,
              "ticks": ""
             }
            },
            "type": "scatterpolargl"
           }
          ],
          "scatterternary": [
           {
            "marker": {
             "colorbar": {
              "outlinewidth": 0,
              "ticks": ""
             }
            },
            "type": "scatterternary"
           }
          ],
          "surface": [
           {
            "colorbar": {
             "outlinewidth": 0,
             "ticks": ""
            },
            "colorscale": [
             [
              0,
              "#0d0887"
             ],
             [
              0.1111111111111111,
              "#46039f"
             ],
             [
              0.2222222222222222,
              "#7201a8"
             ],
             [
              0.3333333333333333,
              "#9c179e"
             ],
             [
              0.4444444444444444,
              "#bd3786"
             ],
             [
              0.5555555555555556,
              "#d8576b"
             ],
             [
              0.6666666666666666,
              "#ed7953"
             ],
             [
              0.7777777777777778,
              "#fb9f3a"
             ],
             [
              0.8888888888888888,
              "#fdca26"
             ],
             [
              1,
              "#f0f921"
             ]
            ],
            "type": "surface"
           }
          ],
          "table": [
           {
            "cells": {
             "fill": {
              "color": "#EBF0F8"
             },
             "line": {
              "color": "white"
             }
            },
            "header": {
             "fill": {
              "color": "#C8D4E3"
             },
             "line": {
              "color": "white"
             }
            },
            "type": "table"
           }
          ]
         },
         "layout": {
          "annotationdefaults": {
           "arrowcolor": "#2a3f5f",
           "arrowhead": 0,
           "arrowwidth": 1
          },
          "autotypenumbers": "strict",
          "coloraxis": {
           "colorbar": {
            "outlinewidth": 0,
            "ticks": ""
           }
          },
          "colorscale": {
           "diverging": [
            [
             0,
             "#8e0152"
            ],
            [
             0.1,
             "#c51b7d"
            ],
            [
             0.2,
             "#de77ae"
            ],
            [
             0.3,
             "#f1b6da"
            ],
            [
             0.4,
             "#fde0ef"
            ],
            [
             0.5,
             "#f7f7f7"
            ],
            [
             0.6,
             "#e6f5d0"
            ],
            [
             0.7,
             "#b8e186"
            ],
            [
             0.8,
             "#7fbc41"
            ],
            [
             0.9,
             "#4d9221"
            ],
            [
             1,
             "#276419"
            ]
           ],
           "sequential": [
            [
             0,
             "#0d0887"
            ],
            [
             0.1111111111111111,
             "#46039f"
            ],
            [
             0.2222222222222222,
             "#7201a8"
            ],
            [
             0.3333333333333333,
             "#9c179e"
            ],
            [
             0.4444444444444444,
             "#bd3786"
            ],
            [
             0.5555555555555556,
             "#d8576b"
            ],
            [
             0.6666666666666666,
             "#ed7953"
            ],
            [
             0.7777777777777778,
             "#fb9f3a"
            ],
            [
             0.8888888888888888,
             "#fdca26"
            ],
            [
             1,
             "#f0f921"
            ]
           ],
           "sequentialminus": [
            [
             0,
             "#0d0887"
            ],
            [
             0.1111111111111111,
             "#46039f"
            ],
            [
             0.2222222222222222,
             "#7201a8"
            ],
            [
             0.3333333333333333,
             "#9c179e"
            ],
            [
             0.4444444444444444,
             "#bd3786"
            ],
            [
             0.5555555555555556,
             "#d8576b"
            ],
            [
             0.6666666666666666,
             "#ed7953"
            ],
            [
             0.7777777777777778,
             "#fb9f3a"
            ],
            [
             0.8888888888888888,
             "#fdca26"
            ],
            [
             1,
             "#f0f921"
            ]
           ]
          },
          "colorway": [
           "#636efa",
           "#EF553B",
           "#00cc96",
           "#ab63fa",
           "#FFA15A",
           "#19d3f3",
           "#FF6692",
           "#B6E880",
           "#FF97FF",
           "#FECB52"
          ],
          "font": {
           "color": "#2a3f5f"
          },
          "geo": {
           "bgcolor": "white",
           "lakecolor": "white",
           "landcolor": "#E5ECF6",
           "showlakes": true,
           "showland": true,
           "subunitcolor": "white"
          },
          "hoverlabel": {
           "align": "left"
          },
          "hovermode": "closest",
          "mapbox": {
           "style": "light"
          },
          "paper_bgcolor": "white",
          "plot_bgcolor": "#E5ECF6",
          "polar": {
           "angularaxis": {
            "gridcolor": "white",
            "linecolor": "white",
            "ticks": ""
           },
           "bgcolor": "#E5ECF6",
           "radialaxis": {
            "gridcolor": "white",
            "linecolor": "white",
            "ticks": ""
           }
          },
          "scene": {
           "xaxis": {
            "backgroundcolor": "#E5ECF6",
            "gridcolor": "white",
            "gridwidth": 2,
            "linecolor": "white",
            "showbackground": true,
            "ticks": "",
            "zerolinecolor": "white"
           },
           "yaxis": {
            "backgroundcolor": "#E5ECF6",
            "gridcolor": "white",
            "gridwidth": 2,
            "linecolor": "white",
            "showbackground": true,
            "ticks": "",
            "zerolinecolor": "white"
           },
           "zaxis": {
            "backgroundcolor": "#E5ECF6",
            "gridcolor": "white",
            "gridwidth": 2,
            "linecolor": "white",
            "showbackground": true,
            "ticks": "",
            "zerolinecolor": "white"
           }
          },
          "shapedefaults": {
           "line": {
            "color": "#2a3f5f"
           }
          },
          "ternary": {
           "aaxis": {
            "gridcolor": "white",
            "linecolor": "white",
            "ticks": ""
           },
           "baxis": {
            "gridcolor": "white",
            "linecolor": "white",
            "ticks": ""
           },
           "bgcolor": "#E5ECF6",
           "caxis": {
            "gridcolor": "white",
            "linecolor": "white",
            "ticks": ""
           }
          },
          "title": {
           "x": 0.05
          },
          "xaxis": {
           "automargin": true,
           "gridcolor": "white",
           "linecolor": "white",
           "ticks": "",
           "title": {
            "standoff": 15
           },
           "zerolinecolor": "white",
           "zerolinewidth": 2
          },
          "yaxis": {
           "automargin": true,
           "gridcolor": "white",
           "linecolor": "white",
           "ticks": "",
           "title": {
            "standoff": 15
           },
           "zerolinecolor": "white",
           "zerolinewidth": 2
          }
         }
        },
        "title": {
         "text": "3 Principal Components"
        }
       }
      }
     },
     "metadata": {},
     "output_type": "display_data"
    }
   ],
   "source": [
    "dia = DIA(df)\n",
    "dia.plot_pca(pl.all().exclude(\"species\"), by = \"species\", dim=3)"
   ]
  },
  {
   "cell_type": "code",
   "execution_count": 22,
   "metadata": {},
   "outputs": [
    {
     "name": "stdout",
     "output_type": "stream",
     "text": [
      "shape: (2, 4)\n",
      "┌───────────┬──────────┬────────────┬────────────┐\n",
      "│ coeff     ┆ std_err  ┆ t          ┆ p>|t|      │\n",
      "│ ---       ┆ ---      ┆ ---        ┆ ---        │\n",
      "│ f64       ┆ f64      ┆ f64        ┆ f64        │\n",
      "╞═══════════╪══════════╪════════════╪════════════╡\n",
      "│ 1.858433  ┆ 0.085856 ┆ 21.646019  ┆ 1.0387e-47 │\n",
      "│ -7.101443 ┆ 0.506662 ┆ -14.016128 ┆ 6.1336e-29 │\n",
      "└───────────┴──────────┴────────────┴────────────┘\n"
     ]
    },
    {
     "data": {
      "application/vnd.plotly.v1+json": {
       "config": {
        "plotlyServerURL": "https://plot.ly"
       },
       "data": [
        {
         "mode": "markers",
         "name": "data scatter",
         "type": "scatter",
         "x": [
          5.1,
          4.9,
          4.7,
          4.6,
          5,
          5.4,
          4.6,
          5,
          4.4,
          4.9,
          5.4,
          4.8,
          4.8,
          4.3,
          5.8,
          5.7,
          5.4,
          5.1,
          5.7,
          5.1,
          5.4,
          5.1,
          4.6,
          5.1,
          4.8,
          5,
          5,
          5.2,
          5.2,
          4.7,
          4.8,
          5.4,
          5.2,
          5.5,
          4.9,
          5,
          5.5,
          4.9,
          4.4,
          5.1,
          5,
          4.5,
          4.4,
          5,
          5.1,
          4.8,
          5.1,
          4.6,
          5.3,
          5,
          7,
          6.4,
          6.9,
          5.5,
          6.5,
          5.7,
          6.3,
          4.9,
          6.6,
          5.2,
          5,
          5.9,
          6,
          6.1,
          5.6,
          6.7,
          5.6,
          5.8,
          6.2,
          5.6,
          5.9,
          6.1,
          6.3,
          6.1,
          6.4,
          6.6,
          6.8,
          6.7,
          6,
          5.7,
          5.5,
          5.5,
          5.8,
          6,
          5.4,
          6,
          6.7,
          6.3,
          5.6,
          5.5,
          5.5,
          6.1,
          5.8,
          5,
          5.6,
          5.7,
          5.7,
          6.2,
          5.1,
          5.7,
          6.3,
          5.8,
          7.1,
          6.3,
          6.5,
          7.6,
          4.9,
          7.3,
          6.7,
          7.2,
          6.5,
          6.4,
          6.8,
          5.7,
          5.8,
          6.4,
          6.5,
          7.7,
          7.7,
          6,
          6.9,
          5.6,
          7.7,
          6.3,
          6.7,
          7.2,
          6.2,
          6.1,
          6.4,
          7.2,
          7.4,
          7.9,
          6.4,
          6.3,
          6.1,
          7.7,
          6.3,
          6.4,
          6,
          6.9,
          6.7,
          6.9,
          5.8,
          6.8,
          6.7,
          6.7,
          6.3,
          6.5,
          6.2,
          5.9
         ],
         "y": [
          1.4,
          1.4,
          1.3,
          1.5,
          1.4,
          1.7,
          1.4,
          1.5,
          1.4,
          1.5,
          1.5,
          1.6,
          1.4,
          1.1,
          1.2,
          1.5,
          1.3,
          1.4,
          1.7,
          1.5,
          1.7,
          1.5,
          1,
          1.7,
          1.9,
          1.6,
          1.6,
          1.5,
          1.4,
          1.6,
          1.6,
          1.5,
          1.5,
          1.4,
          1.5,
          1.2,
          1.3,
          1.4,
          1.3,
          1.5,
          1.3,
          1.3,
          1.3,
          1.6,
          1.9,
          1.4,
          1.6,
          1.4,
          1.5,
          1.4,
          4.7,
          4.5,
          4.9,
          4,
          4.6,
          4.5,
          4.7,
          3.3,
          4.6,
          3.9,
          3.5,
          4.2,
          4,
          4.7,
          3.6,
          4.4,
          4.5,
          4.1,
          4.5,
          3.9,
          4.8,
          4,
          4.9,
          4.7,
          4.3,
          4.4,
          4.8,
          5,
          4.5,
          3.5,
          3.8,
          3.7,
          3.9,
          5.1,
          4.5,
          4.5,
          4.7,
          4.4,
          4.1,
          4,
          4.4,
          4.6,
          4,
          3.3,
          4.2,
          4.2,
          4.2,
          4.3,
          3,
          4.1,
          6,
          5.1,
          5.9,
          5.6,
          5.8,
          6.6,
          4.5,
          6.3,
          5.8,
          6.1,
          5.1,
          5.3,
          5.5,
          5,
          5.1,
          5.3,
          5.5,
          6.7,
          6.9,
          5,
          5.7,
          4.9,
          6.7,
          4.9,
          5.7,
          6,
          4.8,
          4.9,
          5.6,
          5.8,
          6.1,
          6.4,
          5.6,
          5.1,
          5.6,
          6.1,
          5.6,
          5.5,
          4.8,
          5.4,
          5.6,
          5.1,
          5.1,
          5.9,
          5.7,
          5.2,
          5,
          5.2,
          5.4,
          5.1
         ]
        },
        {
         "mode": "lines",
         "name": "Least Squares",
         "type": "scatter",
         "x": [
          5.1,
          4.9,
          4.7,
          4.6,
          5,
          5.4,
          4.6,
          5,
          4.4,
          4.9,
          5.4,
          4.8,
          4.8,
          4.3,
          5.8,
          5.7,
          5.4,
          5.1,
          5.7,
          5.1,
          5.4,
          5.1,
          4.6,
          5.1,
          4.8,
          5,
          5,
          5.2,
          5.2,
          4.7,
          4.8,
          5.4,
          5.2,
          5.5,
          4.9,
          5,
          5.5,
          4.9,
          4.4,
          5.1,
          5,
          4.5,
          4.4,
          5,
          5.1,
          4.8,
          5.1,
          4.6,
          5.3,
          5,
          7,
          6.4,
          6.9,
          5.5,
          6.5,
          5.7,
          6.3,
          4.9,
          6.6,
          5.2,
          5,
          5.9,
          6,
          6.1,
          5.6,
          6.7,
          5.6,
          5.8,
          6.2,
          5.6,
          5.9,
          6.1,
          6.3,
          6.1,
          6.4,
          6.6,
          6.8,
          6.7,
          6,
          5.7,
          5.5,
          5.5,
          5.8,
          6,
          5.4,
          6,
          6.7,
          6.3,
          5.6,
          5.5,
          5.5,
          6.1,
          5.8,
          5,
          5.6,
          5.7,
          5.7,
          6.2,
          5.1,
          5.7,
          6.3,
          5.8,
          7.1,
          6.3,
          6.5,
          7.6,
          4.9,
          7.3,
          6.7,
          7.2,
          6.5,
          6.4,
          6.8,
          5.7,
          5.8,
          6.4,
          6.5,
          7.7,
          7.7,
          6,
          6.9,
          5.6,
          7.7,
          6.3,
          6.7,
          7.2,
          6.2,
          6.1,
          6.4,
          7.2,
          7.4,
          7.9,
          6.4,
          6.3,
          6.1,
          7.7,
          6.3,
          6.4,
          6,
          6.9,
          6.7,
          6.9,
          5.8,
          6.8,
          6.7,
          6.7,
          6.3,
          6.5,
          6.2,
          5.9
         ],
         "y": [
          2.3765648194972098,
          2.0048782238462266,
          1.6331916281952434,
          1.4473483303697492,
          2.190721521671719,
          2.934094712973687,
          1.4473483303697492,
          2.190721521671719,
          1.0756617347187678,
          2.0048782238462266,
          2.934094712973687,
          1.8190349260207341,
          1.8190349260207341,
          0.8898184368932744,
          3.6774679042756535,
          3.491624606450163,
          2.934094712973687,
          2.3765648194972098,
          3.491624606450163,
          2.3765648194972098,
          2.934094712973687,
          2.3765648194972098,
          1.4473483303697492,
          2.3765648194972098,
          1.8190349260207341,
          2.190721521671719,
          2.190721521671719,
          2.5624081173227022,
          2.5624081173227022,
          1.6331916281952434,
          1.8190349260207341,
          2.934094712973687,
          2.5624081173227022,
          3.119938010799178,
          2.0048782238462266,
          2.190721521671719,
          3.119938010799178,
          2.0048782238462266,
          1.0756617347187678,
          2.3765648194972098,
          2.190721521671719,
          1.2615050325442585,
          1.0756617347187678,
          2.190721521671719,
          2.3765648194972098,
          1.8190349260207341,
          2.3765648194972098,
          1.4473483303697492,
          2.7482514151481947,
          2.190721521671719,
          5.907587478181558,
          4.792527691228607,
          5.721744180356067,
          3.119938010799178,
          4.978370989054097,
          3.491624606450163,
          4.606684393403114,
          2.0048782238462266,
          5.16421428687959,
          2.5624081173227022,
          2.190721521671719,
          3.863311202101146,
          4.0491544999266385,
          4.234997797752129,
          3.3057813086246703,
          5.350057584705082,
          3.3057813086246703,
          3.6774679042756535,
          4.420841095577622,
          3.3057813086246703,
          3.863311202101146,
          4.234997797752129,
          4.606684393403114,
          4.234997797752129,
          4.792527691228607,
          5.16421428687959,
          5.535900882530573,
          5.350057584705082,
          4.0491544999266385,
          3.491624606450163,
          3.119938010799178,
          3.119938010799178,
          3.6774679042756535,
          4.0491544999266385,
          2.934094712973687,
          4.0491544999266385,
          5.350057584705082,
          4.606684393403114,
          3.3057813086246703,
          3.119938010799178,
          3.119938010799178,
          4.234997797752129,
          3.6774679042756535,
          2.190721521671719,
          3.3057813086246703,
          3.491624606450163,
          3.491624606450163,
          4.420841095577622,
          2.3765648194972098,
          3.491624606450163,
          4.606684393403114,
          3.6774679042756535,
          6.0934307760070485,
          4.606684393403114,
          4.978370989054097,
          7.022647265134509,
          2.0048782238462266,
          6.4651173716580335,
          5.350057584705082,
          6.279274073832541,
          4.978370989054097,
          4.792527691228607,
          5.535900882530573,
          3.491624606450163,
          3.6774679042756535,
          4.792527691228607,
          4.978370989054097,
          7.208490562960002,
          7.208490562960002,
          4.0491544999266385,
          5.721744180356067,
          3.3057813086246703,
          7.208490562960002,
          4.606684393403114,
          5.350057584705082,
          6.279274073832541,
          4.420841095577622,
          4.234997797752129,
          4.792527691228607,
          6.279274073832541,
          6.650960669483526,
          7.5801771586109865,
          4.792527691228607,
          4.606684393403114,
          4.234997797752129,
          7.208490562960002,
          4.606684393403114,
          4.792527691228607,
          4.0491544999266385,
          5.721744180356067,
          5.350057584705082,
          5.721744180356067,
          3.6774679042756535,
          5.535900882530573,
          5.350057584705082,
          5.350057584705082,
          4.606684393403114,
          4.978370989054097,
          4.420841095577622,
          3.863311202101146
         ]
        }
       ],
       "layout": {
        "template": {
         "data": {
          "bar": [
           {
            "error_x": {
             "color": "#2a3f5f"
            },
            "error_y": {
             "color": "#2a3f5f"
            },
            "marker": {
             "line": {
              "color": "#E5ECF6",
              "width": 0.5
             },
             "pattern": {
              "fillmode": "overlay",
              "size": 10,
              "solidity": 0.2
             }
            },
            "type": "bar"
           }
          ],
          "barpolar": [
           {
            "marker": {
             "line": {
              "color": "#E5ECF6",
              "width": 0.5
             },
             "pattern": {
              "fillmode": "overlay",
              "size": 10,
              "solidity": 0.2
             }
            },
            "type": "barpolar"
           }
          ],
          "carpet": [
           {
            "aaxis": {
             "endlinecolor": "#2a3f5f",
             "gridcolor": "white",
             "linecolor": "white",
             "minorgridcolor": "white",
             "startlinecolor": "#2a3f5f"
            },
            "baxis": {
             "endlinecolor": "#2a3f5f",
             "gridcolor": "white",
             "linecolor": "white",
             "minorgridcolor": "white",
             "startlinecolor": "#2a3f5f"
            },
            "type": "carpet"
           }
          ],
          "choropleth": [
           {
            "colorbar": {
             "outlinewidth": 0,
             "ticks": ""
            },
            "type": "choropleth"
           }
          ],
          "contour": [
           {
            "colorbar": {
             "outlinewidth": 0,
             "ticks": ""
            },
            "colorscale": [
             [
              0,
              "#0d0887"
             ],
             [
              0.1111111111111111,
              "#46039f"
             ],
             [
              0.2222222222222222,
              "#7201a8"
             ],
             [
              0.3333333333333333,
              "#9c179e"
             ],
             [
              0.4444444444444444,
              "#bd3786"
             ],
             [
              0.5555555555555556,
              "#d8576b"
             ],
             [
              0.6666666666666666,
              "#ed7953"
             ],
             [
              0.7777777777777778,
              "#fb9f3a"
             ],
             [
              0.8888888888888888,
              "#fdca26"
             ],
             [
              1,
              "#f0f921"
             ]
            ],
            "type": "contour"
           }
          ],
          "contourcarpet": [
           {
            "colorbar": {
             "outlinewidth": 0,
             "ticks": ""
            },
            "type": "contourcarpet"
           }
          ],
          "heatmap": [
           {
            "colorbar": {
             "outlinewidth": 0,
             "ticks": ""
            },
            "colorscale": [
             [
              0,
              "#0d0887"
             ],
             [
              0.1111111111111111,
              "#46039f"
             ],
             [
              0.2222222222222222,
              "#7201a8"
             ],
             [
              0.3333333333333333,
              "#9c179e"
             ],
             [
              0.4444444444444444,
              "#bd3786"
             ],
             [
              0.5555555555555556,
              "#d8576b"
             ],
             [
              0.6666666666666666,
              "#ed7953"
             ],
             [
              0.7777777777777778,
              "#fb9f3a"
             ],
             [
              0.8888888888888888,
              "#fdca26"
             ],
             [
              1,
              "#f0f921"
             ]
            ],
            "type": "heatmap"
           }
          ],
          "heatmapgl": [
           {
            "colorbar": {
             "outlinewidth": 0,
             "ticks": ""
            },
            "colorscale": [
             [
              0,
              "#0d0887"
             ],
             [
              0.1111111111111111,
              "#46039f"
             ],
             [
              0.2222222222222222,
              "#7201a8"
             ],
             [
              0.3333333333333333,
              "#9c179e"
             ],
             [
              0.4444444444444444,
              "#bd3786"
             ],
             [
              0.5555555555555556,
              "#d8576b"
             ],
             [
              0.6666666666666666,
              "#ed7953"
             ],
             [
              0.7777777777777778,
              "#fb9f3a"
             ],
             [
              0.8888888888888888,
              "#fdca26"
             ],
             [
              1,
              "#f0f921"
             ]
            ],
            "type": "heatmapgl"
           }
          ],
          "histogram": [
           {
            "marker": {
             "pattern": {
              "fillmode": "overlay",
              "size": 10,
              "solidity": 0.2
             }
            },
            "type": "histogram"
           }
          ],
          "histogram2d": [
           {
            "colorbar": {
             "outlinewidth": 0,
             "ticks": ""
            },
            "colorscale": [
             [
              0,
              "#0d0887"
             ],
             [
              0.1111111111111111,
              "#46039f"
             ],
             [
              0.2222222222222222,
              "#7201a8"
             ],
             [
              0.3333333333333333,
              "#9c179e"
             ],
             [
              0.4444444444444444,
              "#bd3786"
             ],
             [
              0.5555555555555556,
              "#d8576b"
             ],
             [
              0.6666666666666666,
              "#ed7953"
             ],
             [
              0.7777777777777778,
              "#fb9f3a"
             ],
             [
              0.8888888888888888,
              "#fdca26"
             ],
             [
              1,
              "#f0f921"
             ]
            ],
            "type": "histogram2d"
           }
          ],
          "histogram2dcontour": [
           {
            "colorbar": {
             "outlinewidth": 0,
             "ticks": ""
            },
            "colorscale": [
             [
              0,
              "#0d0887"
             ],
             [
              0.1111111111111111,
              "#46039f"
             ],
             [
              0.2222222222222222,
              "#7201a8"
             ],
             [
              0.3333333333333333,
              "#9c179e"
             ],
             [
              0.4444444444444444,
              "#bd3786"
             ],
             [
              0.5555555555555556,
              "#d8576b"
             ],
             [
              0.6666666666666666,
              "#ed7953"
             ],
             [
              0.7777777777777778,
              "#fb9f3a"
             ],
             [
              0.8888888888888888,
              "#fdca26"
             ],
             [
              1,
              "#f0f921"
             ]
            ],
            "type": "histogram2dcontour"
           }
          ],
          "mesh3d": [
           {
            "colorbar": {
             "outlinewidth": 0,
             "ticks": ""
            },
            "type": "mesh3d"
           }
          ],
          "parcoords": [
           {
            "line": {
             "colorbar": {
              "outlinewidth": 0,
              "ticks": ""
             }
            },
            "type": "parcoords"
           }
          ],
          "pie": [
           {
            "automargin": true,
            "type": "pie"
           }
          ],
          "scatter": [
           {
            "fillpattern": {
             "fillmode": "overlay",
             "size": 10,
             "solidity": 0.2
            },
            "type": "scatter"
           }
          ],
          "scatter3d": [
           {
            "line": {
             "colorbar": {
              "outlinewidth": 0,
              "ticks": ""
             }
            },
            "marker": {
             "colorbar": {
              "outlinewidth": 0,
              "ticks": ""
             }
            },
            "type": "scatter3d"
           }
          ],
          "scattercarpet": [
           {
            "marker": {
             "colorbar": {
              "outlinewidth": 0,
              "ticks": ""
             }
            },
            "type": "scattercarpet"
           }
          ],
          "scattergeo": [
           {
            "marker": {
             "colorbar": {
              "outlinewidth": 0,
              "ticks": ""
             }
            },
            "type": "scattergeo"
           }
          ],
          "scattergl": [
           {
            "marker": {
             "colorbar": {
              "outlinewidth": 0,
              "ticks": ""
             }
            },
            "type": "scattergl"
           }
          ],
          "scattermapbox": [
           {
            "marker": {
             "colorbar": {
              "outlinewidth": 0,
              "ticks": ""
             }
            },
            "type": "scattermapbox"
           }
          ],
          "scatterpolar": [
           {
            "marker": {
             "colorbar": {
              "outlinewidth": 0,
              "ticks": ""
             }
            },
            "type": "scatterpolar"
           }
          ],
          "scatterpolargl": [
           {
            "marker": {
             "colorbar": {
              "outlinewidth": 0,
              "ticks": ""
             }
            },
            "type": "scatterpolargl"
           }
          ],
          "scatterternary": [
           {
            "marker": {
             "colorbar": {
              "outlinewidth": 0,
              "ticks": ""
             }
            },
            "type": "scatterternary"
           }
          ],
          "surface": [
           {
            "colorbar": {
             "outlinewidth": 0,
             "ticks": ""
            },
            "colorscale": [
             [
              0,
              "#0d0887"
             ],
             [
              0.1111111111111111,
              "#46039f"
             ],
             [
              0.2222222222222222,
              "#7201a8"
             ],
             [
              0.3333333333333333,
              "#9c179e"
             ],
             [
              0.4444444444444444,
              "#bd3786"
             ],
             [
              0.5555555555555556,
              "#d8576b"
             ],
             [
              0.6666666666666666,
              "#ed7953"
             ],
             [
              0.7777777777777778,
              "#fb9f3a"
             ],
             [
              0.8888888888888888,
              "#fdca26"
             ],
             [
              1,
              "#f0f921"
             ]
            ],
            "type": "surface"
           }
          ],
          "table": [
           {
            "cells": {
             "fill": {
              "color": "#EBF0F8"
             },
             "line": {
              "color": "white"
             }
            },
            "header": {
             "fill": {
              "color": "#C8D4E3"
             },
             "line": {
              "color": "white"
             }
            },
            "type": "table"
           }
          ]
         },
         "layout": {
          "annotationdefaults": {
           "arrowcolor": "#2a3f5f",
           "arrowhead": 0,
           "arrowwidth": 1
          },
          "autotypenumbers": "strict",
          "coloraxis": {
           "colorbar": {
            "outlinewidth": 0,
            "ticks": ""
           }
          },
          "colorscale": {
           "diverging": [
            [
             0,
             "#8e0152"
            ],
            [
             0.1,
             "#c51b7d"
            ],
            [
             0.2,
             "#de77ae"
            ],
            [
             0.3,
             "#f1b6da"
            ],
            [
             0.4,
             "#fde0ef"
            ],
            [
             0.5,
             "#f7f7f7"
            ],
            [
             0.6,
             "#e6f5d0"
            ],
            [
             0.7,
             "#b8e186"
            ],
            [
             0.8,
             "#7fbc41"
            ],
            [
             0.9,
             "#4d9221"
            ],
            [
             1,
             "#276419"
            ]
           ],
           "sequential": [
            [
             0,
             "#0d0887"
            ],
            [
             0.1111111111111111,
             "#46039f"
            ],
            [
             0.2222222222222222,
             "#7201a8"
            ],
            [
             0.3333333333333333,
             "#9c179e"
            ],
            [
             0.4444444444444444,
             "#bd3786"
            ],
            [
             0.5555555555555556,
             "#d8576b"
            ],
            [
             0.6666666666666666,
             "#ed7953"
            ],
            [
             0.7777777777777778,
             "#fb9f3a"
            ],
            [
             0.8888888888888888,
             "#fdca26"
            ],
            [
             1,
             "#f0f921"
            ]
           ],
           "sequentialminus": [
            [
             0,
             "#0d0887"
            ],
            [
             0.1111111111111111,
             "#46039f"
            ],
            [
             0.2222222222222222,
             "#7201a8"
            ],
            [
             0.3333333333333333,
             "#9c179e"
            ],
            [
             0.4444444444444444,
             "#bd3786"
            ],
            [
             0.5555555555555556,
             "#d8576b"
            ],
            [
             0.6666666666666666,
             "#ed7953"
            ],
            [
             0.7777777777777778,
             "#fb9f3a"
            ],
            [
             0.8888888888888888,
             "#fdca26"
            ],
            [
             1,
             "#f0f921"
            ]
           ]
          },
          "colorway": [
           "#636efa",
           "#EF553B",
           "#00cc96",
           "#ab63fa",
           "#FFA15A",
           "#19d3f3",
           "#FF6692",
           "#B6E880",
           "#FF97FF",
           "#FECB52"
          ],
          "font": {
           "color": "#2a3f5f"
          },
          "geo": {
           "bgcolor": "white",
           "lakecolor": "white",
           "landcolor": "#E5ECF6",
           "showlakes": true,
           "showland": true,
           "subunitcolor": "white"
          },
          "hoverlabel": {
           "align": "left"
          },
          "hovermode": "closest",
          "mapbox": {
           "style": "light"
          },
          "paper_bgcolor": "white",
          "plot_bgcolor": "#E5ECF6",
          "polar": {
           "angularaxis": {
            "gridcolor": "white",
            "linecolor": "white",
            "ticks": ""
           },
           "bgcolor": "#E5ECF6",
           "radialaxis": {
            "gridcolor": "white",
            "linecolor": "white",
            "ticks": ""
           }
          },
          "scene": {
           "xaxis": {
            "backgroundcolor": "#E5ECF6",
            "gridcolor": "white",
            "gridwidth": 2,
            "linecolor": "white",
            "showbackground": true,
            "ticks": "",
            "zerolinecolor": "white"
           },
           "yaxis": {
            "backgroundcolor": "#E5ECF6",
            "gridcolor": "white",
            "gridwidth": 2,
            "linecolor": "white",
            "showbackground": true,
            "ticks": "",
            "zerolinecolor": "white"
           },
           "zaxis": {
            "backgroundcolor": "#E5ECF6",
            "gridcolor": "white",
            "gridwidth": 2,
            "linecolor": "white",
            "showbackground": true,
            "ticks": "",
            "zerolinecolor": "white"
           }
          },
          "shapedefaults": {
           "line": {
            "color": "#2a3f5f"
           }
          },
          "ternary": {
           "aaxis": {
            "gridcolor": "white",
            "linecolor": "white",
            "ticks": ""
           },
           "baxis": {
            "gridcolor": "white",
            "linecolor": "white",
            "ticks": ""
           },
           "bgcolor": "#E5ECF6",
           "caxis": {
            "gridcolor": "white",
            "linecolor": "white",
            "ticks": ""
           }
          },
          "title": {
           "x": 0.05
          },
          "xaxis": {
           "automargin": true,
           "gridcolor": "white",
           "linecolor": "white",
           "ticks": "",
           "title": {
            "standoff": 15
           },
           "zerolinecolor": "white",
           "zerolinewidth": 2
          },
          "yaxis": {
           "automargin": true,
           "gridcolor": "white",
           "linecolor": "white",
           "ticks": "",
           "title": {
            "standoff": 15
           },
           "zerolinecolor": "white",
           "zerolinewidth": 2
          }
         }
        },
        "title": {
         "text": "y=petal length (cm), x=sepal length (cm), y_pred = (sepal length (cm)) * 1.85843 + -7.10144"
        },
        "xaxis": {
         "title": {
          "text": "sepal length (cm)"
         }
        },
        "yaxis": {
         "title": {
          "text": "petal length (cm)"
         }
        }
       }
      }
     },
     "metadata": {},
     "output_type": "display_data"
    }
   ],
   "source": [
    "# Just for fun, let's see how well can sepal length approxiate petal length\n",
    "dia.plot_lstsq(x = \"sepal length (cm)\", target = \"petal length (cm)\", add_bias=True)"
   ]
  },
  {
   "cell_type": "code",
   "execution_count": null,
   "metadata": {},
   "outputs": [],
   "source": []
  }
 ],
 "metadata": {
  "kernelspec": {
   "display_name": ".venv",
   "language": "python",
   "name": "python3"
  },
  "language_info": {
   "codemirror_mode": {
    "name": "ipython",
    "version": 3
   },
   "file_extension": ".py",
   "mimetype": "text/x-python",
   "name": "python",
   "nbconvert_exporter": "python",
   "pygments_lexer": "ipython3",
   "version": "3.11.8"
  }
 },
 "nbformat": 4,
 "nbformat_minor": 2
}
