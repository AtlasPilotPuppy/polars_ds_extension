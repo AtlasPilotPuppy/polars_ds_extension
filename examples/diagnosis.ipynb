{
 "cells": [
  {
   "cell_type": "markdown",
   "metadata": {},
   "source": [
    "# Diagnosis and DIA (Data Inspection Assistant)\n",
    "\n",
    "If you cannot import this module, please try: pip install \"polars_ds[plot]\"\n",
    "\n",
    "The dataset is downloaded on github."
   ]
  },
  {
   "cell_type": "code",
   "execution_count": 1,
   "metadata": {},
   "outputs": [],
   "source": [
    "import polars as pl\n",
    "import polars_ds as pds\n",
    "from polars_ds.diagnosis import DIA"
   ]
  },
  {
   "cell_type": "code",
   "execution_count": 2,
   "metadata": {},
   "outputs": [
    {
     "data": {
      "text/html": [
       "<div><style>\n",
       ".dataframe > thead > tr,\n",
       ".dataframe > tbody > tr {\n",
       "  text-align: right;\n",
       "  white-space: pre-wrap;\n",
       "}\n",
       "</style>\n",
       "<small>shape: (5, 6)</small><table border=\"1\" class=\"dataframe\"><thead><tr><th>uniform_1</th><th>uniform_2</th><th>exp</th><th>normal</th><th>fat_normal</th><th>list_prob</th></tr><tr><td>f64</td><td>f64</td><td>f64</td><td>f64</td><td>f64</td><td>list[f64]</td></tr></thead><tbody><tr><td>7.337287</td><td>0.380152</td><td>3.519136</td><td>1.334461</td><td>526.210827</td><td>[0.380152, 0.619848]</td></tr><tr><td>0.201155</td><td>0.192794</td><td>0.306565</td><td>-1.020758</td><td>716.397226</td><td>[0.192794, 0.807206]</td></tr><tr><td>5.906048</td><td>0.736245</td><td>0.137867</td><td>-0.151277</td><td>-920.760023</td><td>[0.736245, 0.263755]</td></tr><tr><td>11.768823</td><td>0.00509</td><td>2.541565</td><td>-0.510677</td><td>159.862762</td><td>[0.00509, 0.99491]</td></tr><tr><td>9.090371</td><td>0.149105</td><td>3.379367</td><td>0.110901</td><td>-504.434649</td><td>[0.149105, 0.850895]</td></tr></tbody></table></div>"
      ],
      "text/plain": [
       "shape: (5, 6)\n",
       "┌───────────┬───────────┬──────────┬───────────┬─────────────┬──────────────────────┐\n",
       "│ uniform_1 ┆ uniform_2 ┆ exp      ┆ normal    ┆ fat_normal  ┆ list_prob            │\n",
       "│ ---       ┆ ---       ┆ ---      ┆ ---       ┆ ---         ┆ ---                  │\n",
       "│ f64       ┆ f64       ┆ f64      ┆ f64       ┆ f64         ┆ list[f64]            │\n",
       "╞═══════════╪═══════════╪══════════╪═══════════╪═════════════╪══════════════════════╡\n",
       "│ 7.337287  ┆ 0.380152  ┆ 3.519136 ┆ 1.334461  ┆ 526.210827  ┆ [0.380152, 0.619848] │\n",
       "│ 0.201155  ┆ 0.192794  ┆ 0.306565 ┆ -1.020758 ┆ 716.397226  ┆ [0.192794, 0.807206] │\n",
       "│ 5.906048  ┆ 0.736245  ┆ 0.137867 ┆ -0.151277 ┆ -920.760023 ┆ [0.736245, 0.263755] │\n",
       "│ 11.768823 ┆ 0.00509   ┆ 2.541565 ┆ -0.510677 ┆ 159.862762  ┆ [0.00509, 0.99491]   │\n",
       "│ 9.090371  ┆ 0.149105  ┆ 3.379367 ┆ 0.110901  ┆ -504.434649 ┆ [0.149105, 0.850895] │\n",
       "└───────────┴───────────┴──────────┴───────────┴─────────────┴──────────────────────┘"
      ]
     },
     "execution_count": 2,
     "metadata": {},
     "output_type": "execute_result"
    }
   ],
   "source": [
    "df = pds.random_data(size=100_000, n_cols = 0).select(\n",
    "    pds.random(0.0, 12.0).alias(\"uniform_1\"),\n",
    "    pds.random(0.0, 1.0).alias(\"uniform_2\"),\n",
    "    pds.random_exp(0.5).alias(\"exp\"),\n",
    "    pds.random_normal(0.0, 1.0).alias(\"normal\"),\n",
    "    pds.random_normal(0.0, 1000.0).alias(\"fat_normal\"),\n",
    ").with_columns(\n",
    "    pl.concat_list(\"uniform_2\", 1 - pl.col(\"uniform_2\")).alias(\"list_prob\")\n",
    ")\n",
    "df.head()"
   ]
  },
  {
   "cell_type": "code",
   "execution_count": 3,
   "metadata": {},
   "outputs": [],
   "source": [
    "dia = DIA(df)"
   ]
  },
  {
   "cell_type": "code",
   "execution_count": 4,
   "metadata": {},
   "outputs": [
    {
     "data": {
      "text/html": [
       "<div id=\"yffwjxoots\" style=\"padding-left:0px;padding-right:0px;padding-top:10px;padding-bottom:10px;overflow-x:auto;overflow-y:auto;width:auto;height:auto;\">\n",
       "<style>\n",
       "#yffwjxoots table {\n",
       "          font-family: -apple-system, BlinkMacSystemFont, 'Segoe UI', Roboto, Oxygen, Ubuntu, Cantarell, 'Helvetica Neue', 'Fira Sans', 'Droid Sans', Arial, sans-serif;\n",
       "          -webkit-font-smoothing: antialiased;\n",
       "          -moz-osx-font-smoothing: grayscale;\n",
       "        }\n",
       "\n",
       "#yffwjxoots thead, tbody, tfoot, tr, td, th { border-style: none !important; }\n",
       " tr { background-color: transparent !important; }\n",
       "#yffwjxoots p { margin: 0 !important; padding: 0 !important; }\n",
       " #yffwjxoots .gt_table { display: table !important; border-collapse: collapse !important; line-height: normal !important; margin-left: auto !important; margin-right: auto !important; color: #333333 !important; font-size: 16px !important; font-weight: normal !important; font-style: normal !important; background-color: #FFFFFF !important; width: auto !important; border-top-style: solid !important; border-top-width: 2px !important; border-top-color: #A8A8A8 !important; border-right-style: none !important; border-right-width: 2px !important; border-right-color: #D3D3D3 !important; border-bottom-style: solid !important; border-bottom-width: 2px !important; border-bottom-color: #A8A8A8 !important; border-left-style: none !important; border-left-width: 2px !important; border-left-color: #D3D3D3 !important; }\n",
       " #yffwjxoots .gt_caption { padding-top: 4px !important; padding-bottom: 4px !important; }\n",
       " #yffwjxoots .gt_title { color: #333333 !important; font-size: 125% !important; font-weight: initial !important; padding-top: 4px !important; padding-bottom: 4px !important; padding-left: 5px !important; padding-right: 5px !important; border-bottom-color: #FFFFFF !important; border-bottom-width: 0 !important; }\n",
       " #yffwjxoots .gt_subtitle { color: #333333 !important; font-size: 85% !important; font-weight: initial !important; padding-top: 3px !important; padding-bottom: 5px !important; padding-left: 5px !important; padding-right: 5px !important; border-top-color: #FFFFFF !important; border-top-width: 0 !important; }\n",
       " #yffwjxoots .gt_heading { background-color: #FFFFFF !important; text-align: center !important; border-bottom-color: #FFFFFF !important; border-left-style: none !important; border-left-width: 1px !important; border-left-color: #D3D3D3 !important; border-right-style: none !important; border-right-width: 1px !important; border-right-color: #D3D3D3 !important; }\n",
       " #yffwjxoots .gt_bottom_border { border-bottom-style: solid !important; border-bottom-width: 2px !important; border-bottom-color: #D3D3D3 !important; }\n",
       " #yffwjxoots .gt_col_headings { border-top-style: solid !important; border-top-width: 2px !important; border-top-color: #D3D3D3 !important; border-bottom-style: solid !important; border-bottom-width: 2px !important; border-bottom-color: #D3D3D3 !important; border-left-style: none !important; border-left-width: 1px !important; border-left-color: #D3D3D3 !important; border-right-style: none !important; border-right-width: 1px !important; border-right-color: #D3D3D3 !important; }\n",
       " #yffwjxoots .gt_col_heading { color: #333333 !important; background-color: #FFFFFF !important; font-size: 100% !important; font-weight: normal !important; text-transform: inherit !important; border-left-style: none !important; border-left-width: 1px !important; border-left-color: #D3D3D3 !important; border-right-style: none !important; border-right-width: 1px !important; border-right-color: #D3D3D3 !important; vertical-align: bottom !important; padding-top: 5px !important; padding-bottom: 5px !important; padding-left: 5px !important; padding-right: 5px !important; overflow-x: hidden !important; }\n",
       " #yffwjxoots .gt_column_spanner_outer { color: #333333 !important; background-color: #FFFFFF !important; font-size: 100% !important; font-weight: normal !important; text-transform: inherit !important; padding-top: 0 !important; padding-bottom: 0 !important; padding-left: 4px !important; padding-right: 4px !important; }\n",
       " #yffwjxoots .gt_column_spanner_outer:first-child { padding-left: 0 !important; }\n",
       " #yffwjxoots .gt_column_spanner_outer:last-child { padding-right: 0 !important; }\n",
       " #yffwjxoots .gt_column_spanner { border-bottom-style: solid !important; border-bottom-width: 2px !important; border-bottom-color: #D3D3D3 !important; vertical-align: bottom !important; padding-top: 5px !important; padding-bottom: 5px !important; overflow-x: hidden !important; display: inline-block !important; width: 100% !important; }\n",
       " #yffwjxoots .gt_spanner_row { border-bottom-style: hidden !important; }\n",
       " #yffwjxoots .gt_group_heading { padding-top: 8px !important; padding-bottom: 8px !important; padding-left: 5px !important; padding-right: 5px !important; color: #333333 !important; background-color: #FFFFFF !important; font-size: 100% !important; font-weight: initial !important; text-transform: inherit !important; border-top-style: solid !important; border-top-width: 2px !important; border-top-color: #D3D3D3 !important; border-bottom-style: solid !important; border-bottom-width: 2px !important; border-bottom-color: #D3D3D3 !important; border-left-style: none !important; border-left-width: 1px !important; border-left-color: #D3D3D3 !important; border-right-style: none !important; border-right-width: 1px !important; border-right-color: #D3D3D3 !important; vertical-align: middle !important; text-align: left !important; }\n",
       " #yffwjxoots .gt_empty_group_heading { padding: 0.5px !important; color: #333333 !important; background-color: #FFFFFF !important; font-size: 100% !important; font-weight: initial !important; border-top-style: solid !important; border-top-width: 2px !important; border-top-color: #D3D3D3 !important; border-bottom-style: solid !important; border-bottom-width: 2px !important; border-bottom-color: #D3D3D3 !important; vertical-align: middle !important; }\n",
       " #yffwjxoots .gt_from_md> :first-child { margin-top: 0 !important; }\n",
       " #yffwjxoots .gt_from_md> :last-child { margin-bottom: 0 !important; }\n",
       " #yffwjxoots .gt_row { padding-top: 8px !important; padding-bottom: 8px !important; padding-left: 5px !important; padding-right: 5px !important; margin: 10px !important; border-top-style: solid !important; border-top-width: 1px !important; border-top-color: #D3D3D3 !important; border-left-style: none !important; border-left-width: 1px !important; border-left-color: #D3D3D3 !important; border-right-style: none !important; border-right-width: 1px !important; border-right-color: #D3D3D3 !important; vertical-align: middle !important; overflow-x: hidden !important; }\n",
       " #yffwjxoots .gt_stub { color: #333333 !important; background-color: #FFFFFF !important; font-size: 100% !important; font-weight: initial !important; text-transform: inherit !important; border-right-style: solid !important; border-right-width: 2px !important; border-right-color: #D3D3D3 !important; padding-left: 5px !important; padding-right: 5px !important; }\n",
       " #yffwjxoots .gt_stub_row_group { color: #333333 !important; background-color: #FFFFFF !important; font-size: 100% !important; font-weight: initial !important; text-transform: inherit !important; border-right-style: solid !important; border-right-width: 2px !important; border-right-color: #D3D3D3 !important; padding-left: 5px !important; padding-right: 5px !important; vertical-align: top !important; }\n",
       " #yffwjxoots .gt_row_group_first td { border-top-width: 2px !important; }\n",
       " #yffwjxoots .gt_row_group_first th { border-top-width: 2px !important; }\n",
       " #yffwjxoots .gt_table_body { border-top-style: solid !important; border-top-width: 2px !important; border-top-color: #D3D3D3 !important; border-bottom-style: solid !important; border-bottom-width: 2px !important; border-bottom-color: #D3D3D3 !important; }\n",
       " #yffwjxoots .gt_sourcenotes { color: #333333 !important; background-color: #FFFFFF !important; border-bottom-style: none !important; border-bottom-width: 2px !important; border-bottom-color: #D3D3D3 !important; border-left-style: none !important; border-left-width: 2px !important; border-left-color: #D3D3D3 !important; border-right-style: none !important; border-right-width: 2px !important; border-right-color: #D3D3D3 !important; }\n",
       " #yffwjxoots .gt_sourcenote { font-size: 90% !important; padding-top: 4px !important; padding-bottom: 4px !important; padding-left: 5px !important; padding-right: 5px !important; text-align: left !important; }\n",
       " #yffwjxoots .gt_left { text-align: left !important; }\n",
       " #yffwjxoots .gt_center { text-align: center !important; }\n",
       " #yffwjxoots .gt_right { text-align: right !important; font-variant-numeric: tabular-nums !important; }\n",
       " #yffwjxoots .gt_font_normal { font-weight: normal !important; }\n",
       " #yffwjxoots .gt_font_bold { font-weight: bold !important; }\n",
       " #yffwjxoots .gt_font_italic { font-style: italic !important; }\n",
       " #yffwjxoots .gt_super { font-size: 65% !important; }\n",
       " #yffwjxoots .gt_footnote_marks { font-size: 75% !important; vertical-align: 0.4em !important; position: initial !important; }\n",
       " #yffwjxoots .gt_asterisk { font-size: 100% !important; vertical-align: 0 !important; }\n",
       " \n",
       "</style>\n",
       "<table class=\"gt_table\" data-quarto-disable-processing=\"false\" data-quarto-bootstrap=\"false\">\n",
       "\n",
       "<tr class=\"gt_col_headings\">\n",
       "  <th class=\"gt_col_heading gt_columns_bottom_border gt_left\" rowspan=\"1\" colspan=\"1\" scope=\"col\" id=\"column\">column</th>\n",
       "  <th class=\"gt_col_heading gt_columns_bottom_border gt_center\" rowspan=\"1\" colspan=\"1\" scope=\"col\" id=\"non_null_cnt\">non_null_cnt</th>\n",
       "  <th class=\"gt_col_heading gt_columns_bottom_border gt_right\" rowspan=\"1\" colspan=\"1\" scope=\"col\" id=\"null%\">null%</th>\n",
       "  <th class=\"gt_col_heading gt_columns_bottom_border gt_right\" rowspan=\"1\" colspan=\"1\" scope=\"col\" id=\"mean\">mean</th>\n",
       "  <th class=\"gt_col_heading gt_columns_bottom_border gt_right\" rowspan=\"1\" colspan=\"1\" scope=\"col\" id=\"std\">std</th>\n",
       "  <th class=\"gt_col_heading gt_columns_bottom_border gt_right\" rowspan=\"1\" colspan=\"1\" scope=\"col\" id=\"min\">min</th>\n",
       "  <th class=\"gt_col_heading gt_columns_bottom_border gt_right\" rowspan=\"1\" colspan=\"1\" scope=\"col\" id=\"q1\">q1</th>\n",
       "  <th class=\"gt_col_heading gt_columns_bottom_border gt_right\" rowspan=\"1\" colspan=\"1\" scope=\"col\" id=\"median\">median</th>\n",
       "  <th class=\"gt_col_heading gt_columns_bottom_border gt_right\" rowspan=\"1\" colspan=\"1\" scope=\"col\" id=\"q3\">q3</th>\n",
       "  <th class=\"gt_col_heading gt_columns_bottom_border gt_right\" rowspan=\"1\" colspan=\"1\" scope=\"col\" id=\"max\">max</th>\n",
       "  <th class=\"gt_col_heading gt_columns_bottom_border gt_right\" rowspan=\"1\" colspan=\"1\" scope=\"col\" id=\"IQR\">IQR</th>\n",
       "  <th class=\"gt_col_heading gt_columns_bottom_border gt_center\" rowspan=\"1\" colspan=\"1\" scope=\"col\" id=\"outlier_cnt\">outlier_cnt</th>\n",
       "  <th class=\"gt_col_heading gt_columns_bottom_border gt_center\" rowspan=\"1\" colspan=\"1\" scope=\"col\" id=\"histogram\">histogram</th>\n",
       "</tr>\n",
       "<tbody class=\"gt_table_body\">\n",
       "<tr>\n",
       "  <th class=\"gt_row gt_left gt_stub\">uniform_1</th>\n",
       "  <td class=\"gt_row gt_center\">100000</td>\n",
       "  <td class=\"gt_row gt_right\">0.00%</td>\n",
       "  <td class=\"gt_row gt_right\">5.988</td>\n",
       "  <td class=\"gt_row gt_right\">3.456</td>\n",
       "  <td class=\"gt_row gt_right\">0.000</td>\n",
       "  <td class=\"gt_row gt_right\">3.012</td>\n",
       "  <td class=\"gt_row gt_right\">5.970</td>\n",
       "  <td class=\"gt_row gt_right\">8.977</td>\n",
       "  <td class=\"gt_row gt_right\">12.000</td>\n",
       "  <td class=\"gt_row gt_right\">5.965</td>\n",
       "  <td class=\"gt_row gt_center\">0</td>\n",
       "  <td class=\"gt_row gt_center\"><div><svg role=\"img\" viewBox=\"0 0 850 130\" style=\"height: 2em; margin-left: auto; margin-right: auto; font-size: inherit; overflow: visible; vertical-align: middle; position:relative;\"><defs><pattern id=\"area_pattern\" width=\"8\" height=\"8\" patternUnits=\"userSpaceOnUse\"><path class=\"pattern-line\" d=\"M 0,8 l 8,-8 M -1,1 l 4,-4 M 6,10 l 4,-4\" stroke=\"#FF0000\" stroke-width=\"1.5\" stroke-linecap=\"round\" shape-rendering=\"geometricPrecision\"></path></pattern></defs><style> text { font-family: ui-monospace, 'Cascadia Code', 'Source Code Pro', Menlo, Consolas, 'DejaVu Sans Mono', monospace; stroke-width: 0.15em; paint-order: stroke; stroke-linejoin: round; cursor: default; } .vert-line:hover rect { fill: #911EB4; fill-opacity: 40%; stroke: #FFFFFF60; color: red; } .vert-line:hover text { stroke: white; fill: #212427; } .horizontal-line:hover text {stroke: white; fill: #212427; } .ref-line:hover rect { stroke: #FFFFFF60; } .ref-line:hover line { stroke: #FF0000; } .ref-line:hover text { stroke: white; fill: #212427; } .y-axis-line:hover rect { fill: #EDEDED; fill-opacity: 60%; stroke: #FFFFFF60; color: red; } .y-axis-line:hover text { stroke: white; stroke-width: 0.20em; fill: #1A1C1F; } </style><line x1=\"22.5\" y1=\"115.0\" x2=\"827.5\" y2=\"115.0\" stroke=\"#BFBFBF\" stroke-width=\"4\"></line><rect x=\"30.0\" y=\"17.185391610442945\" width=\"40\" height=\"97.81460838955705\" stroke=\"#3290CC\" stroke-width=\"4\" fill=\"#3FB5FF\"></rect><rect x=\"83.57142857142857\" y=\"18.93077148723966\" width=\"40\" height=\"96.06922851276033\" stroke=\"#3290CC\" stroke-width=\"4\" fill=\"#3FB5FF\"></rect><rect x=\"137.14285714285714\" y=\"15.83602229392784\" width=\"40\" height=\"99.16397770607216\" stroke=\"#3290CC\" stroke-width=\"4\" fill=\"#3FB5FF\"></rect><rect x=\"190.7142857142857\" y=\"17.742739806394834\" width=\"40\" height=\"97.25726019360516\" stroke=\"#3290CC\" stroke-width=\"4\" fill=\"#3FB5FF\"></rect><rect x=\"244.28571428571428\" y=\"15.0\" width=\"40\" height=\"100.0\" stroke=\"#3290CC\" stroke-width=\"4\" fill=\"#3FB5FF\"></rect><rect x=\"297.85714285714283\" y=\"15.748019947198596\" width=\"40\" height=\"99.2519800528014\" stroke=\"#3290CC\" stroke-width=\"4\" fill=\"#3FB5FF\"></rect><rect x=\"351.4285714285714\" y=\"17.713405690818426\" width=\"40\" height=\"97.28659430918157\" stroke=\"#3290CC\" stroke-width=\"4\" fill=\"#3FB5FF\"></rect><rect x=\"405.0\" y=\"16.554708125550018\" width=\"40\" height=\"98.44529187444998\" stroke=\"#3290CC\" stroke-width=\"4\" fill=\"#3FB5FF\"></rect><rect x=\"458.57142857142856\" y=\"17.65473745966559\" width=\"40\" height=\"97.3452625403344\" stroke=\"#3290CC\" stroke-width=\"4\" fill=\"#3FB5FF\"></rect><rect x=\"512.1428571428571\" y=\"18.08008213552361\" width=\"40\" height=\"96.91991786447639\" stroke=\"#3290CC\" stroke-width=\"4\" fill=\"#3FB5FF\"></rect><rect x=\"565.7142857142857\" y=\"16.39337048987973\" width=\"40\" height=\"98.60662951012027\" stroke=\"#3290CC\" stroke-width=\"4\" fill=\"#3FB5FF\"></rect><rect x=\"619.2857142857142\" y=\"17.317395130536816\" width=\"40\" height=\"97.68260486946318\" stroke=\"#3290CC\" stroke-width=\"4\" fill=\"#3FB5FF\"></rect><rect x=\"672.8571428571428\" y=\"17.434731592842475\" width=\"40\" height=\"97.56526840715753\" stroke=\"#3290CC\" stroke-width=\"4\" fill=\"#3FB5FF\"></rect><rect x=\"726.4285714285713\" y=\"17.288061014960398\" width=\"40\" height=\"97.71193898503961\" stroke=\"#3290CC\" stroke-width=\"4\" fill=\"#3FB5FF\"></rect><rect x=\"780.0\" y=\"19.414784394250514\" width=\"40\" height=\"95.58521560574948\" stroke=\"#3290CC\" stroke-width=\"4\" fill=\"#3FB5FF\"></rect><g class=\"y-axis-line\"><rect x=\"0\" y=\"0\" width=\"65\" height=\"130\" stroke=\"transparent\" stroke-width=\"0\" fill=\"transparent\"></rect><text x=\"0\" y=\"19.0\" fill=\"transparent\" stroke=\"transparent\" font-size=\"25\">6.82K</text><text x=\"0\" y=\"126.0\" fill=\"transparent\" stroke=\"transparent\" font-size=\"25\">0</text></g><g class=\"vert-line\"><rect x=\"40.0\" y=\"0\" width=\"20\" height=\"130\" stroke=\"transparent\" stroke-width=\"12\" fill=\"transparent\"></rect><text x=\"60.0\" y=\"20\" fill=\"transparent\" stroke=\"transparent\" font-size=\"30px\">6.67K</text></g><g class=\"vert-line\"><rect x=\"93.57142857142857\" y=\"0\" width=\"20\" height=\"130\" stroke=\"transparent\" stroke-width=\"12\" fill=\"transparent\"></rect><text x=\"113.57142857142857\" y=\"20\" fill=\"transparent\" stroke=\"transparent\" font-size=\"30px\">6.55K</text></g><g class=\"vert-line\"><rect x=\"147.14285714285714\" y=\"0\" width=\"20\" height=\"130\" stroke=\"transparent\" stroke-width=\"12\" fill=\"transparent\"></rect><text x=\"167.14285714285714\" y=\"20\" fill=\"transparent\" stroke=\"transparent\" font-size=\"30px\">6.76K</text></g><g class=\"vert-line\"><rect x=\"200.7142857142857\" y=\"0\" width=\"20\" height=\"130\" stroke=\"transparent\" stroke-width=\"12\" fill=\"transparent\"></rect><text x=\"220.7142857142857\" y=\"20\" fill=\"transparent\" stroke=\"transparent\" font-size=\"30px\">6.63K</text></g><g class=\"vert-line\"><rect x=\"254.28571428571428\" y=\"0\" width=\"20\" height=\"130\" stroke=\"transparent\" stroke-width=\"12\" fill=\"transparent\"></rect><text x=\"274.2857142857143\" y=\"20\" fill=\"transparent\" stroke=\"transparent\" font-size=\"30px\">6.82K</text></g><g class=\"vert-line\"><rect x=\"307.85714285714283\" y=\"0\" width=\"20\" height=\"130\" stroke=\"transparent\" stroke-width=\"12\" fill=\"transparent\"></rect><text x=\"327.85714285714283\" y=\"20\" fill=\"transparent\" stroke=\"transparent\" font-size=\"30px\">6.77K</text></g><g class=\"vert-line\"><rect x=\"361.4285714285714\" y=\"0\" width=\"20\" height=\"130\" stroke=\"transparent\" stroke-width=\"12\" fill=\"transparent\"></rect><text x=\"381.4285714285714\" y=\"20\" fill=\"transparent\" stroke=\"transparent\" font-size=\"30px\">6.63K</text></g><g class=\"vert-line\"><rect x=\"415.0\" y=\"0\" width=\"20\" height=\"130\" stroke=\"transparent\" stroke-width=\"12\" fill=\"transparent\"></rect><text x=\"435.0\" y=\"20\" fill=\"transparent\" stroke=\"transparent\" font-size=\"30px\">6.71K</text></g><g class=\"vert-line\"><rect x=\"468.57142857142856\" y=\"0\" width=\"20\" height=\"130\" stroke=\"transparent\" stroke-width=\"12\" fill=\"transparent\"></rect><text x=\"488.57142857142856\" y=\"20\" fill=\"transparent\" stroke=\"transparent\" font-size=\"30px\">6.64K</text></g><g class=\"vert-line\"><rect x=\"522.1428571428571\" y=\"0\" width=\"20\" height=\"130\" stroke=\"transparent\" stroke-width=\"12\" fill=\"transparent\"></rect><text x=\"542.1428571428571\" y=\"20\" fill=\"transparent\" stroke=\"transparent\" font-size=\"30px\">6.61K</text></g><g class=\"vert-line\"><rect x=\"575.7142857142857\" y=\"0\" width=\"20\" height=\"130\" stroke=\"transparent\" stroke-width=\"12\" fill=\"transparent\"></rect><text x=\"595.7142857142857\" y=\"20\" fill=\"transparent\" stroke=\"transparent\" font-size=\"30px\">6.72K</text></g><g class=\"vert-line\"><rect x=\"629.2857142857142\" y=\"0\" width=\"20\" height=\"130\" stroke=\"transparent\" stroke-width=\"12\" fill=\"transparent\"></rect><text x=\"649.2857142857142\" y=\"20\" fill=\"transparent\" stroke=\"transparent\" font-size=\"30px\">6.66K</text></g><g class=\"vert-line\"><rect x=\"682.8571428571428\" y=\"0\" width=\"20\" height=\"130\" stroke=\"transparent\" stroke-width=\"12\" fill=\"transparent\"></rect><text x=\"702.8571428571428\" y=\"20\" fill=\"transparent\" stroke=\"transparent\" font-size=\"30px\">6.65K</text></g><g class=\"vert-line\"><rect x=\"736.4285714285713\" y=\"0\" width=\"20\" height=\"130\" stroke=\"transparent\" stroke-width=\"12\" fill=\"transparent\"></rect><text x=\"756.4285714285713\" y=\"20\" fill=\"transparent\" stroke=\"transparent\" font-size=\"30px\">6.66K</text></g><g class=\"vert-line\"><rect x=\"790.0\" y=\"0\" width=\"20\" height=\"130\" stroke=\"transparent\" stroke-width=\"12\" fill=\"transparent\"></rect><text x=\"810.0\" y=\"20\" fill=\"transparent\" stroke=\"transparent\" font-size=\"30px\">6.52K</text></g></svg></div></td>\n",
       "</tr>\n",
       "<tr>\n",
       "  <th class=\"gt_row gt_left gt_stub\">uniform_2</th>\n",
       "  <td class=\"gt_row gt_center\">100000</td>\n",
       "  <td class=\"gt_row gt_right\">0.00%</td>\n",
       "  <td class=\"gt_row gt_right\">0.500</td>\n",
       "  <td class=\"gt_row gt_right\">0.289</td>\n",
       "  <td class=\"gt_row gt_right\">0.000</td>\n",
       "  <td class=\"gt_row gt_right\">0.248</td>\n",
       "  <td class=\"gt_row gt_right\">0.500</td>\n",
       "  <td class=\"gt_row gt_right\">0.748</td>\n",
       "  <td class=\"gt_row gt_right\">1.000</td>\n",
       "  <td class=\"gt_row gt_right\">0.500</td>\n",
       "  <td class=\"gt_row gt_center\">0</td>\n",
       "  <td class=\"gt_row gt_center\"><div><svg role=\"img\" viewBox=\"0 0 850 130\" style=\"height: 2em; margin-left: auto; margin-right: auto; font-size: inherit; overflow: visible; vertical-align: middle; position:relative;\"><defs><pattern id=\"area_pattern\" width=\"8\" height=\"8\" patternUnits=\"userSpaceOnUse\"><path class=\"pattern-line\" d=\"M 0,8 l 8,-8 M -1,1 l 4,-4 M 6,10 l 4,-4\" stroke=\"#FF0000\" stroke-width=\"1.5\" stroke-linecap=\"round\" shape-rendering=\"geometricPrecision\"></path></pattern></defs><style> text { font-family: ui-monospace, 'Cascadia Code', 'Source Code Pro', Menlo, Consolas, 'DejaVu Sans Mono', monospace; stroke-width: 0.15em; paint-order: stroke; stroke-linejoin: round; cursor: default; } .vert-line:hover rect { fill: #911EB4; fill-opacity: 40%; stroke: #FFFFFF60; color: red; } .vert-line:hover text { stroke: white; fill: #212427; } .horizontal-line:hover text {stroke: white; fill: #212427; } .ref-line:hover rect { stroke: #FFFFFF60; } .ref-line:hover line { stroke: #FF0000; } .ref-line:hover text { stroke: white; fill: #212427; } .y-axis-line:hover rect { fill: #EDEDED; fill-opacity: 60%; stroke: #FFFFFF60; color: red; } .y-axis-line:hover text { stroke: white; stroke-width: 0.20em; fill: #1A1C1F; } </style><line x1=\"22.5\" y1=\"115.0\" x2=\"827.5\" y2=\"115.0\" stroke=\"#BFBFBF\" stroke-width=\"4\"></line><rect x=\"30.0\" y=\"17.824614497766255\" width=\"40\" height=\"97.17538550223375\" stroke=\"#3290CC\" stroke-width=\"4\" fill=\"#3FB5FF\"></rect><rect x=\"83.57142857142857\" y=\"16.484363741173077\" width=\"40\" height=\"98.51563625882693\" stroke=\"#3290CC\" stroke-width=\"4\" fill=\"#3FB5FF\"></rect><rect x=\"137.14285714285714\" y=\"18.790171494451656\" width=\"40\" height=\"96.20982850554834\" stroke=\"#3290CC\" stroke-width=\"4\" fill=\"#3FB5FF\"></rect><rect x=\"190.7142857142857\" y=\"20.476293414036604\" width=\"40\" height=\"94.5237065859634\" stroke=\"#3290CC\" stroke-width=\"4\" fill=\"#3FB5FF\"></rect><rect x=\"244.28571428571428\" y=\"19.092808762069467\" width=\"40\" height=\"95.90719123793053\" stroke=\"#3290CC\" stroke-width=\"4\" fill=\"#3FB5FF\"></rect><rect x=\"297.85714285714283\" y=\"21.9318345582937\" width=\"40\" height=\"93.0681654417063\" stroke=\"#3290CC\" stroke-width=\"4\" fill=\"#3FB5FF\"></rect><rect x=\"351.4285714285714\" y=\"19.85660758034299\" width=\"40\" height=\"95.143392419657\" stroke=\"#3290CC\" stroke-width=\"4\" fill=\"#3FB5FF\"></rect><rect x=\"405.0\" y=\"18.919873180573575\" width=\"40\" height=\"96.08012681942643\" stroke=\"#3290CC\" stroke-width=\"4\" fill=\"#3FB5FF\"></rect><rect x=\"458.57142857142856\" y=\"18.70370370370371\" width=\"40\" height=\"96.29629629629629\" stroke=\"#3290CC\" stroke-width=\"4\" fill=\"#3FB5FF\"></rect><rect x=\"512.1428571428571\" y=\"15.0\" width=\"40\" height=\"100.0\" stroke=\"#3290CC\" stroke-width=\"4\" fill=\"#3FB5FF\"></rect><rect x=\"565.7142857142857\" y=\"18.60282461449777\" width=\"40\" height=\"96.39717538550224\" stroke=\"#3290CC\" stroke-width=\"4\" fill=\"#3FB5FF\"></rect><rect x=\"619.2857142857142\" y=\"21.96065715520968\" width=\"40\" height=\"93.03934284479033\" stroke=\"#3290CC\" stroke-width=\"4\" fill=\"#3FB5FF\"></rect><rect x=\"672.8571428571428\" y=\"18.934284479031557\" width=\"40\" height=\"96.06571552096844\" stroke=\"#3290CC\" stroke-width=\"4\" fill=\"#3FB5FF\"></rect><rect x=\"726.4285714285713\" y=\"19.53955901426718\" width=\"40\" height=\"95.46044098573282\" stroke=\"#3290CC\" stroke-width=\"4\" fill=\"#3FB5FF\"></rect><rect x=\"780.0\" y=\"17.752558005476292\" width=\"40\" height=\"97.24744199452371\" stroke=\"#3290CC\" stroke-width=\"4\" fill=\"#3FB5FF\"></rect><g class=\"y-axis-line\"><rect x=\"0\" y=\"0\" width=\"65\" height=\"130\" stroke=\"transparent\" stroke-width=\"0\" fill=\"transparent\"></rect><text x=\"0\" y=\"19.0\" fill=\"transparent\" stroke=\"transparent\" font-size=\"25\">6.94K</text><text x=\"0\" y=\"126.0\" fill=\"transparent\" stroke=\"transparent\" font-size=\"25\">0</text></g><g class=\"vert-line\"><rect x=\"40.0\" y=\"0\" width=\"20\" height=\"130\" stroke=\"transparent\" stroke-width=\"12\" fill=\"transparent\"></rect><text x=\"60.0\" y=\"20\" fill=\"transparent\" stroke=\"transparent\" font-size=\"30px\">6.74K</text></g><g class=\"vert-line\"><rect x=\"93.57142857142857\" y=\"0\" width=\"20\" height=\"130\" stroke=\"transparent\" stroke-width=\"12\" fill=\"transparent\"></rect><text x=\"113.57142857142857\" y=\"20\" fill=\"transparent\" stroke=\"transparent\" font-size=\"30px\">6.84K</text></g><g class=\"vert-line\"><rect x=\"147.14285714285714\" y=\"0\" width=\"20\" height=\"130\" stroke=\"transparent\" stroke-width=\"12\" fill=\"transparent\"></rect><text x=\"167.14285714285714\" y=\"20\" fill=\"transparent\" stroke=\"transparent\" font-size=\"30px\">6.68K</text></g><g class=\"vert-line\"><rect x=\"200.7142857142857\" y=\"0\" width=\"20\" height=\"130\" stroke=\"transparent\" stroke-width=\"12\" fill=\"transparent\"></rect><text x=\"220.7142857142857\" y=\"20\" fill=\"transparent\" stroke=\"transparent\" font-size=\"30px\">6.56K</text></g><g class=\"vert-line\"><rect x=\"254.28571428571428\" y=\"0\" width=\"20\" height=\"130\" stroke=\"transparent\" stroke-width=\"12\" fill=\"transparent\"></rect><text x=\"274.2857142857143\" y=\"20\" fill=\"transparent\" stroke=\"transparent\" font-size=\"30px\">6.66K</text></g><g class=\"vert-line\"><rect x=\"307.85714285714283\" y=\"0\" width=\"20\" height=\"130\" stroke=\"transparent\" stroke-width=\"12\" fill=\"transparent\"></rect><text x=\"327.85714285714283\" y=\"20\" fill=\"transparent\" stroke=\"transparent\" font-size=\"30px\">6.46K</text></g><g class=\"vert-line\"><rect x=\"361.4285714285714\" y=\"0\" width=\"20\" height=\"130\" stroke=\"transparent\" stroke-width=\"12\" fill=\"transparent\"></rect><text x=\"381.4285714285714\" y=\"20\" fill=\"transparent\" stroke=\"transparent\" font-size=\"30px\">6.60K</text></g><g class=\"vert-line\"><rect x=\"415.0\" y=\"0\" width=\"20\" height=\"130\" stroke=\"transparent\" stroke-width=\"12\" fill=\"transparent\"></rect><text x=\"435.0\" y=\"20\" fill=\"transparent\" stroke=\"transparent\" font-size=\"30px\">6.67K</text></g><g class=\"vert-line\"><rect x=\"468.57142857142856\" y=\"0\" width=\"20\" height=\"130\" stroke=\"transparent\" stroke-width=\"12\" fill=\"transparent\"></rect><text x=\"488.57142857142856\" y=\"20\" fill=\"transparent\" stroke=\"transparent\" font-size=\"30px\">6.68K</text></g><g class=\"vert-line\"><rect x=\"522.1428571428571\" y=\"0\" width=\"20\" height=\"130\" stroke=\"transparent\" stroke-width=\"12\" fill=\"transparent\"></rect><text x=\"542.1428571428571\" y=\"20\" fill=\"transparent\" stroke=\"transparent\" font-size=\"30px\">6.94K</text></g><g class=\"vert-line\"><rect x=\"575.7142857142857\" y=\"0\" width=\"20\" height=\"130\" stroke=\"transparent\" stroke-width=\"12\" fill=\"transparent\"></rect><text x=\"595.7142857142857\" y=\"20\" fill=\"transparent\" stroke=\"transparent\" font-size=\"30px\">6.69K</text></g><g class=\"vert-line\"><rect x=\"629.2857142857142\" y=\"0\" width=\"20\" height=\"130\" stroke=\"transparent\" stroke-width=\"12\" fill=\"transparent\"></rect><text x=\"649.2857142857142\" y=\"20\" fill=\"transparent\" stroke=\"transparent\" font-size=\"30px\">6.46K</text></g><g class=\"vert-line\"><rect x=\"682.8571428571428\" y=\"0\" width=\"20\" height=\"130\" stroke=\"transparent\" stroke-width=\"12\" fill=\"transparent\"></rect><text x=\"702.8571428571428\" y=\"20\" fill=\"transparent\" stroke=\"transparent\" font-size=\"30px\">6.67K</text></g><g class=\"vert-line\"><rect x=\"736.4285714285713\" y=\"0\" width=\"20\" height=\"130\" stroke=\"transparent\" stroke-width=\"12\" fill=\"transparent\"></rect><text x=\"756.4285714285713\" y=\"20\" fill=\"transparent\" stroke=\"transparent\" font-size=\"30px\">6.62K</text></g><g class=\"vert-line\"><rect x=\"790.0\" y=\"0\" width=\"20\" height=\"130\" stroke=\"transparent\" stroke-width=\"12\" fill=\"transparent\"></rect><text x=\"810.0\" y=\"20\" fill=\"transparent\" stroke=\"transparent\" font-size=\"30px\">6.75K</text></g></svg></div></td>\n",
       "</tr>\n",
       "<tr>\n",
       "  <th class=\"gt_row gt_left gt_stub\">exp</th>\n",
       "  <td class=\"gt_row gt_center\">100000</td>\n",
       "  <td class=\"gt_row gt_right\">0.00%</td>\n",
       "  <td class=\"gt_row gt_right\">2.003</td>\n",
       "  <td class=\"gt_row gt_right\">1.998</td>\n",
       "  <td class=\"gt_row gt_right\">0.000</td>\n",
       "  <td class=\"gt_row gt_right\">0.575</td>\n",
       "  <td class=\"gt_row gt_right\">1.390</td>\n",
       "  <td class=\"gt_row gt_right\">2.778</td>\n",
       "  <td class=\"gt_row gt_right\">24.771</td>\n",
       "  <td class=\"gt_row gt_right\">2.203</td>\n",
       "  <td class=\"gt_row gt_center\">4878</td>\n",
       "  <td class=\"gt_row gt_center\"><div><svg role=\"img\" viewBox=\"0 0 800 130\" style=\"height: 2em; margin-left: auto; margin-right: auto; font-size: inherit; overflow: visible; vertical-align: middle; position:relative;\"><defs><pattern id=\"area_pattern\" width=\"8\" height=\"8\" patternUnits=\"userSpaceOnUse\"><path class=\"pattern-line\" d=\"M 0,8 l 8,-8 M -1,1 l 4,-4 M 6,10 l 4,-4\" stroke=\"#FF0000\" stroke-width=\"1.5\" stroke-linecap=\"round\" shape-rendering=\"geometricPrecision\"></path></pattern></defs><style> text { font-family: ui-monospace, 'Cascadia Code', 'Source Code Pro', Menlo, Consolas, 'DejaVu Sans Mono', monospace; stroke-width: 0.15em; paint-order: stroke; stroke-linejoin: round; cursor: default; } .vert-line:hover rect { fill: #911EB4; fill-opacity: 40%; stroke: #FFFFFF60; color: red; } .vert-line:hover text { stroke: white; fill: #212427; } .horizontal-line:hover text {stroke: white; fill: #212427; } .ref-line:hover rect { stroke: #FFFFFF60; } .ref-line:hover line { stroke: #FF0000; } .ref-line:hover text { stroke: white; fill: #212427; } .y-axis-line:hover rect { fill: #EDEDED; fill-opacity: 60%; stroke: #FFFFFF60; color: red; } .y-axis-line:hover text { stroke: white; stroke-width: 0.20em; fill: #1A1C1F; } </style><line x1=\"22.5\" y1=\"115.0\" x2=\"777.5\" y2=\"115.0\" stroke=\"#BFBFBF\" stroke-width=\"4\"></line><rect x=\"30.0\" y=\"15.0\" width=\"40\" height=\"100.0\" stroke=\"#3290CC\" stroke-width=\"4\" fill=\"#3FB5FF\"></rect><rect x=\"83.84615384615384\" y=\"71.41828205584207\" width=\"40\" height=\"43.58171794415793\" stroke=\"#3290CC\" stroke-width=\"4\" fill=\"#3FB5FF\"></rect><rect x=\"137.69230769230768\" y=\"95.82873910723814\" width=\"40\" height=\"19.171260892761865\" stroke=\"#3290CC\" stroke-width=\"4\" fill=\"#3FB5FF\"></rect><rect x=\"191.53846153846155\" y=\"106.54721678819135\" width=\"40\" height=\"8.45278321180865\" stroke=\"#3290CC\" stroke-width=\"4\" fill=\"#3FB5FF\"></rect><rect x=\"245.38461538461536\" y=\"111.1266227992175\" width=\"40\" height=\"3.8733772007824996\" stroke=\"#3290CC\" stroke-width=\"4\" fill=\"#3FB5FF\"></rect><rect x=\"299.2307692307692\" y=\"113.4847945936333\" width=\"40\" height=\"1.5152054063667038\" stroke=\"#3290CC\" stroke-width=\"4\" fill=\"#3FB5FF\"></rect><rect x=\"353.0769230769231\" y=\"114.26373821803308\" width=\"40\" height=\"0.7362617819669168\" stroke=\"#3290CC\" stroke-width=\"4\" fill=\"#3FB5FF\"></rect><rect x=\"406.92307692307696\" y=\"114.6976702827672\" width=\"40\" height=\"0.30232971723279434\" stroke=\"#3290CC\" stroke-width=\"4\" fill=\"#3FB5FF\"></rect><rect x=\"460.7692307692308\" y=\"114.88084652320825\" width=\"40\" height=\"0.1191534767917517\" stroke=\"#3290CC\" stroke-width=\"4\" fill=\"#3FB5FF\"></rect><rect x=\"514.6153846153845\" y=\"114.95198292726303\" width=\"40\" height=\"0.0480170727369682\" stroke=\"#3290CC\" stroke-width=\"4\" fill=\"#3FB5FF\"></rect><rect x=\"568.4615384615385\" y=\"114.97332384847945\" width=\"40\" height=\"0.026676151520547364\" stroke=\"#3290CC\" stroke-width=\"4\" fill=\"#3FB5FF\"></rect><rect x=\"622.3076923076924\" y=\"114.9946647696959\" width=\"40\" height=\"0.005335230304098104\" stroke=\"#3290CC\" stroke-width=\"4\" fill=\"#3FB5FF\"></rect><rect x=\"676.1538461538462\" y=\"114.99288635959452\" width=\"40\" height=\"0.00711364040547835\" stroke=\"#3290CC\" stroke-width=\"4\" fill=\"#3FB5FF\"></rect><rect x=\"730.0\" y=\"114.99822158989863\" width=\"40\" height=\"0.0017784101013660347\" stroke=\"#3290CC\" stroke-width=\"4\" fill=\"#3FB5FF\"></rect><g class=\"y-axis-line\"><rect x=\"0\" y=\"0\" width=\"65\" height=\"130\" stroke=\"transparent\" stroke-width=\"0\" fill=\"transparent\"></rect><text x=\"0\" y=\"19.0\" fill=\"transparent\" stroke=\"transparent\" font-size=\"25\">56.2K</text><text x=\"0\" y=\"126.0\" fill=\"transparent\" stroke=\"transparent\" font-size=\"25\">0</text></g><g class=\"vert-line\"><rect x=\"40.0\" y=\"0\" width=\"20\" height=\"130\" stroke=\"transparent\" stroke-width=\"12\" fill=\"transparent\"></rect><text x=\"60.0\" y=\"20\" fill=\"transparent\" stroke=\"transparent\" font-size=\"30px\">56.2K</text></g><g class=\"vert-line\"><rect x=\"93.84615384615384\" y=\"0\" width=\"20\" height=\"130\" stroke=\"transparent\" stroke-width=\"12\" fill=\"transparent\"></rect><text x=\"113.84615384615384\" y=\"20\" fill=\"transparent\" stroke=\"transparent\" font-size=\"30px\">24.5K</text></g><g class=\"vert-line\"><rect x=\"147.69230769230768\" y=\"0\" width=\"20\" height=\"130\" stroke=\"transparent\" stroke-width=\"12\" fill=\"transparent\"></rect><text x=\"167.69230769230768\" y=\"20\" fill=\"transparent\" stroke=\"transparent\" font-size=\"30px\">10.8K</text></g><g class=\"vert-line\"><rect x=\"201.53846153846155\" y=\"0\" width=\"20\" height=\"130\" stroke=\"transparent\" stroke-width=\"12\" fill=\"transparent\"></rect><text x=\"221.53846153846155\" y=\"20\" fill=\"transparent\" stroke=\"transparent\" font-size=\"30px\">4.75K</text></g><g class=\"vert-line\"><rect x=\"255.38461538461536\" y=\"0\" width=\"20\" height=\"130\" stroke=\"transparent\" stroke-width=\"12\" fill=\"transparent\"></rect><text x=\"275.38461538461536\" y=\"20\" fill=\"transparent\" stroke=\"transparent\" font-size=\"30px\">2.18K</text></g><g class=\"vert-line\"><rect x=\"309.2307692307692\" y=\"0\" width=\"20\" height=\"130\" stroke=\"transparent\" stroke-width=\"12\" fill=\"transparent\"></rect><text x=\"329.2307692307692\" y=\"20\" fill=\"transparent\" stroke=\"transparent\" font-size=\"30px\">852</text></g><g class=\"vert-line\"><rect x=\"363.0769230769231\" y=\"0\" width=\"20\" height=\"130\" stroke=\"transparent\" stroke-width=\"12\" fill=\"transparent\"></rect><text x=\"383.0769230769231\" y=\"20\" fill=\"transparent\" stroke=\"transparent\" font-size=\"30px\">414</text></g><g class=\"vert-line\"><rect x=\"416.92307692307696\" y=\"0\" width=\"20\" height=\"130\" stroke=\"transparent\" stroke-width=\"12\" fill=\"transparent\"></rect><text x=\"436.92307692307696\" y=\"20\" fill=\"transparent\" stroke=\"transparent\" font-size=\"30px\">170</text></g><g class=\"vert-line\"><rect x=\"470.7692307692308\" y=\"0\" width=\"20\" height=\"130\" stroke=\"transparent\" stroke-width=\"12\" fill=\"transparent\"></rect><text x=\"490.7692307692308\" y=\"20\" fill=\"transparent\" stroke=\"transparent\" font-size=\"30px\">67</text></g><g class=\"vert-line\"><rect x=\"524.6153846153845\" y=\"0\" width=\"20\" height=\"130\" stroke=\"transparent\" stroke-width=\"12\" fill=\"transparent\"></rect><text x=\"544.6153846153845\" y=\"20\" fill=\"transparent\" stroke=\"transparent\" font-size=\"30px\">27</text></g><g class=\"vert-line\"><rect x=\"578.4615384615385\" y=\"0\" width=\"20\" height=\"130\" stroke=\"transparent\" stroke-width=\"12\" fill=\"transparent\"></rect><text x=\"598.4615384615385\" y=\"20\" fill=\"transparent\" stroke=\"transparent\" font-size=\"30px\">15</text></g><g class=\"vert-line\"><rect x=\"632.3076923076924\" y=\"0\" width=\"20\" height=\"130\" stroke=\"transparent\" stroke-width=\"12\" fill=\"transparent\"></rect><text x=\"652.3076923076924\" y=\"20\" fill=\"transparent\" stroke=\"transparent\" font-size=\"30px\">3</text></g><g class=\"vert-line\"><rect x=\"686.1538461538462\" y=\"0\" width=\"20\" height=\"130\" stroke=\"transparent\" stroke-width=\"12\" fill=\"transparent\"></rect><text x=\"706.1538461538462\" y=\"20\" fill=\"transparent\" stroke=\"transparent\" font-size=\"30px\">4</text></g><g class=\"vert-line\"><rect x=\"740.0\" y=\"0\" width=\"20\" height=\"130\" stroke=\"transparent\" stroke-width=\"12\" fill=\"transparent\"></rect><text x=\"760.0\" y=\"20\" fill=\"transparent\" stroke=\"transparent\" font-size=\"30px\">1</text></g></svg></div></td>\n",
       "</tr>\n",
       "<tr>\n",
       "  <th class=\"gt_row gt_left gt_stub\">normal</th>\n",
       "  <td class=\"gt_row gt_center\">100000</td>\n",
       "  <td class=\"gt_row gt_right\">0.00%</td>\n",
       "  <td class=\"gt_row gt_right\">0.004</td>\n",
       "  <td class=\"gt_row gt_right\">1.002</td>\n",
       "  <td class=\"gt_row gt_right\">−4.096</td>\n",
       "  <td class=\"gt_row gt_right\">−0.675</td>\n",
       "  <td class=\"gt_row gt_right\">0.010</td>\n",
       "  <td class=\"gt_row gt_right\">0.681</td>\n",
       "  <td class=\"gt_row gt_right\">4.238</td>\n",
       "  <td class=\"gt_row gt_right\">1.355</td>\n",
       "  <td class=\"gt_row gt_center\">656</td>\n",
       "  <td class=\"gt_row gt_center\"><div><svg role=\"img\" viewBox=\"0 0 850 130\" style=\"height: 2em; margin-left: auto; margin-right: auto; font-size: inherit; overflow: visible; vertical-align: middle; position:relative;\"><defs><pattern id=\"area_pattern\" width=\"8\" height=\"8\" patternUnits=\"userSpaceOnUse\"><path class=\"pattern-line\" d=\"M 0,8 l 8,-8 M -1,1 l 4,-4 M 6,10 l 4,-4\" stroke=\"#FF0000\" stroke-width=\"1.5\" stroke-linecap=\"round\" shape-rendering=\"geometricPrecision\"></path></pattern></defs><style> text { font-family: ui-monospace, 'Cascadia Code', 'Source Code Pro', Menlo, Consolas, 'DejaVu Sans Mono', monospace; stroke-width: 0.15em; paint-order: stroke; stroke-linejoin: round; cursor: default; } .vert-line:hover rect { fill: #911EB4; fill-opacity: 40%; stroke: #FFFFFF60; color: red; } .vert-line:hover text { stroke: white; fill: #212427; } .horizontal-line:hover text {stroke: white; fill: #212427; } .ref-line:hover rect { stroke: #FFFFFF60; } .ref-line:hover line { stroke: #FF0000; } .ref-line:hover text { stroke: white; fill: #212427; } .y-axis-line:hover rect { fill: #EDEDED; fill-opacity: 60%; stroke: #FFFFFF60; color: red; } .y-axis-line:hover text { stroke: white; stroke-width: 0.20em; fill: #1A1C1F; } </style><line x1=\"22.5\" y1=\"115.0\" x2=\"827.5\" y2=\"115.0\" stroke=\"#BFBFBF\" stroke-width=\"4\"></line><rect x=\"30.0\" y=\"114.93123366799614\" width=\"40\" height=\"0.06876633200386095\" stroke=\"#3290CC\" stroke-width=\"4\" fill=\"#3FB5FF\"></rect><rect x=\"83.57142857142857\" y=\"114.45445376610277\" width=\"40\" height=\"0.5455462338972268\" stroke=\"#3290CC\" stroke-width=\"4\" fill=\"#3FB5FF\"></rect><rect x=\"137.14285714285714\" y=\"112.2310090313116\" width=\"40\" height=\"2.7689909686883993\" stroke=\"#3290CC\" stroke-width=\"4\" fill=\"#3FB5FF\"></rect><rect x=\"190.7142857142857\" y=\"104.60253060101773\" width=\"40\" height=\"10.397469398982267\" stroke=\"#3290CC\" stroke-width=\"4\" fill=\"#3FB5FF\"></rect><rect x=\"244.28571428571428\" y=\"85.29752899646999\" width=\"40\" height=\"29.702471003530007\" stroke=\"#3290CC\" stroke-width=\"4\" fill=\"#3FB5FF\"></rect><rect x=\"297.85714285714283\" y=\"56.356072067115946\" width=\"40\" height=\"58.643927932884054\" stroke=\"#3290CC\" stroke-width=\"4\" fill=\"#3FB5FF\"></rect><rect x=\"351.4285714285714\" y=\"26.61692568651721\" width=\"40\" height=\"88.3830743134828\" stroke=\"#3290CC\" stroke-width=\"4\" fill=\"#3FB5FF\"></rect><rect x=\"405.0\" y=\"15.0\" width=\"40\" height=\"100.0\" stroke=\"#3290CC\" stroke-width=\"4\" fill=\"#3FB5FF\"></rect><rect x=\"458.57142857142856\" y=\"31.8339980745427\" width=\"40\" height=\"83.1660019254573\" stroke=\"#3290CC\" stroke-width=\"4\" fill=\"#3FB5FF\"></rect><rect x=\"512.1428571428571\" y=\"64.00288818594416\" width=\"40\" height=\"50.99711181405584\" stroke=\"#3290CC\" stroke-width=\"4\" fill=\"#3FB5FF\"></rect><rect x=\"565.7142857142857\" y=\"91.45899234401503\" width=\"40\" height=\"23.54100765598497\" stroke=\"#3290CC\" stroke-width=\"4\" fill=\"#3FB5FF\"></rect><rect x=\"619.2857142857142\" y=\"107.13771604089305\" width=\"40\" height=\"7.862283959106946\" stroke=\"#3290CC\" stroke-width=\"4\" fill=\"#3FB5FF\"></rect><rect x=\"672.8571428571428\" y=\"112.99202310548756\" width=\"40\" height=\"2.0079768945124385\" stroke=\"#3290CC\" stroke-width=\"4\" fill=\"#3FB5FF\"></rect><rect x=\"726.4285714285713\" y=\"114.6790904506487\" width=\"40\" height=\"0.320909549351299\" stroke=\"#3290CC\" stroke-width=\"4\" fill=\"#3FB5FF\"></rect><rect x=\"780.0\" y=\"114.96332462293128\" width=\"40\" height=\"0.03667537706871826\" stroke=\"#3290CC\" stroke-width=\"4\" fill=\"#3FB5FF\"></rect><g class=\"y-axis-line\"><rect x=\"0\" y=\"0\" width=\"65\" height=\"130\" stroke=\"transparent\" stroke-width=\"0\" fill=\"transparent\"></rect><text x=\"0\" y=\"19.0\" fill=\"transparent\" stroke=\"transparent\" font-size=\"25\">21.8K</text><text x=\"0\" y=\"126.0\" fill=\"transparent\" stroke=\"transparent\" font-size=\"25\">0</text></g><g class=\"vert-line\"><rect x=\"40.0\" y=\"0\" width=\"20\" height=\"130\" stroke=\"transparent\" stroke-width=\"12\" fill=\"transparent\"></rect><text x=\"60.0\" y=\"20\" fill=\"transparent\" stroke=\"transparent\" font-size=\"30px\">15</text></g><g class=\"vert-line\"><rect x=\"93.57142857142857\" y=\"0\" width=\"20\" height=\"130\" stroke=\"transparent\" stroke-width=\"12\" fill=\"transparent\"></rect><text x=\"113.57142857142857\" y=\"20\" fill=\"transparent\" stroke=\"transparent\" font-size=\"30px\">119</text></g><g class=\"vert-line\"><rect x=\"147.14285714285714\" y=\"0\" width=\"20\" height=\"130\" stroke=\"transparent\" stroke-width=\"12\" fill=\"transparent\"></rect><text x=\"167.14285714285714\" y=\"20\" fill=\"transparent\" stroke=\"transparent\" font-size=\"30px\">604</text></g><g class=\"vert-line\"><rect x=\"200.7142857142857\" y=\"0\" width=\"20\" height=\"130\" stroke=\"transparent\" stroke-width=\"12\" fill=\"transparent\"></rect><text x=\"220.7142857142857\" y=\"20\" fill=\"transparent\" stroke=\"transparent\" font-size=\"30px\">2.27K</text></g><g class=\"vert-line\"><rect x=\"254.28571428571428\" y=\"0\" width=\"20\" height=\"130\" stroke=\"transparent\" stroke-width=\"12\" fill=\"transparent\"></rect><text x=\"274.2857142857143\" y=\"20\" fill=\"transparent\" stroke=\"transparent\" font-size=\"30px\">6.48K</text></g><g class=\"vert-line\"><rect x=\"307.85714285714283\" y=\"0\" width=\"20\" height=\"130\" stroke=\"transparent\" stroke-width=\"12\" fill=\"transparent\"></rect><text x=\"327.85714285714283\" y=\"20\" fill=\"transparent\" stroke=\"transparent\" font-size=\"30px\">12.8K</text></g><g class=\"vert-line\"><rect x=\"361.4285714285714\" y=\"0\" width=\"20\" height=\"130\" stroke=\"transparent\" stroke-width=\"12\" fill=\"transparent\"></rect><text x=\"381.4285714285714\" y=\"20\" fill=\"transparent\" stroke=\"transparent\" font-size=\"30px\">19.3K</text></g><g class=\"vert-line\"><rect x=\"415.0\" y=\"0\" width=\"20\" height=\"130\" stroke=\"transparent\" stroke-width=\"12\" fill=\"transparent\"></rect><text x=\"435.0\" y=\"20\" fill=\"transparent\" stroke=\"transparent\" font-size=\"30px\">21.8K</text></g><g class=\"vert-line\"><rect x=\"468.57142857142856\" y=\"0\" width=\"20\" height=\"130\" stroke=\"transparent\" stroke-width=\"12\" fill=\"transparent\"></rect><text x=\"488.57142857142856\" y=\"20\" fill=\"transparent\" stroke=\"transparent\" font-size=\"30px\">18.1K</text></g><g class=\"vert-line\"><rect x=\"522.1428571428571\" y=\"0\" width=\"20\" height=\"130\" stroke=\"transparent\" stroke-width=\"12\" fill=\"transparent\"></rect><text x=\"542.1428571428571\" y=\"20\" fill=\"transparent\" stroke=\"transparent\" font-size=\"30px\">11.1K</text></g><g class=\"vert-line\"><rect x=\"575.7142857142857\" y=\"0\" width=\"20\" height=\"130\" stroke=\"transparent\" stroke-width=\"12\" fill=\"transparent\"></rect><text x=\"595.7142857142857\" y=\"20\" fill=\"transparent\" stroke=\"transparent\" font-size=\"30px\">5.14K</text></g><g class=\"vert-line\"><rect x=\"629.2857142857142\" y=\"0\" width=\"20\" height=\"130\" stroke=\"transparent\" stroke-width=\"12\" fill=\"transparent\"></rect><text x=\"649.2857142857142\" y=\"20\" fill=\"transparent\" stroke=\"transparent\" font-size=\"30px\">1.72K</text></g><g class=\"vert-line\"><rect x=\"682.8571428571428\" y=\"0\" width=\"20\" height=\"130\" stroke=\"transparent\" stroke-width=\"12\" fill=\"transparent\"></rect><text x=\"702.8571428571428\" y=\"20\" fill=\"transparent\" stroke=\"transparent\" font-size=\"30px\">438</text></g><g class=\"vert-line\"><rect x=\"736.4285714285713\" y=\"0\" width=\"20\" height=\"130\" stroke=\"transparent\" stroke-width=\"12\" fill=\"transparent\"></rect><text x=\"756.4285714285713\" y=\"20\" fill=\"transparent\" stroke=\"transparent\" font-size=\"30px\">70</text></g><g class=\"vert-line\"><rect x=\"790.0\" y=\"0\" width=\"20\" height=\"130\" stroke=\"transparent\" stroke-width=\"12\" fill=\"transparent\"></rect><text x=\"810.0\" y=\"20\" fill=\"transparent\" stroke=\"transparent\" font-size=\"30px\">8</text></g></svg></div></td>\n",
       "</tr>\n",
       "<tr>\n",
       "  <th class=\"gt_row gt_left gt_stub\">fat_normal</th>\n",
       "  <td class=\"gt_row gt_center\">100000</td>\n",
       "  <td class=\"gt_row gt_right\">0.00%</td>\n",
       "  <td class=\"gt_row gt_right\">−0.889</td>\n",
       "  <td class=\"gt_row gt_right\">997.603</td>\n",
       "  <td class=\"gt_row gt_right\">−4,565.140</td>\n",
       "  <td class=\"gt_row gt_right\">−675.428</td>\n",
       "  <td class=\"gt_row gt_right\">1.660</td>\n",
       "  <td class=\"gt_row gt_right\">671.023</td>\n",
       "  <td class=\"gt_row gt_right\">4,526.097</td>\n",
       "  <td class=\"gt_row gt_right\">1,346.450</td>\n",
       "  <td class=\"gt_row gt_center\">705</td>\n",
       "  <td class=\"gt_row gt_center\"><div><svg role=\"img\" viewBox=\"0 0 850 130\" style=\"height: 2em; margin-left: auto; margin-right: auto; font-size: inherit; overflow: visible; vertical-align: middle; position:relative;\"><defs><pattern id=\"area_pattern\" width=\"8\" height=\"8\" patternUnits=\"userSpaceOnUse\"><path class=\"pattern-line\" d=\"M 0,8 l 8,-8 M -1,1 l 4,-4 M 6,10 l 4,-4\" stroke=\"#FF0000\" stroke-width=\"1.5\" stroke-linecap=\"round\" shape-rendering=\"geometricPrecision\"></path></pattern></defs><style> text { font-family: ui-monospace, 'Cascadia Code', 'Source Code Pro', Menlo, Consolas, 'DejaVu Sans Mono', monospace; stroke-width: 0.15em; paint-order: stroke; stroke-linejoin: round; cursor: default; } .vert-line:hover rect { fill: #911EB4; fill-opacity: 40%; stroke: #FFFFFF60; color: red; } .vert-line:hover text { stroke: white; fill: #212427; } .horizontal-line:hover text {stroke: white; fill: #212427; } .ref-line:hover rect { stroke: #FFFFFF60; } .ref-line:hover line { stroke: #FF0000; } .ref-line:hover text { stroke: white; fill: #212427; } .y-axis-line:hover rect { fill: #EDEDED; fill-opacity: 60%; stroke: #FFFFFF60; color: red; } .y-axis-line:hover text { stroke: white; stroke-width: 0.20em; fill: #1A1C1F; } </style><line x1=\"22.5\" y1=\"115.0\" x2=\"827.5\" y2=\"115.0\" stroke=\"#BFBFBF\" stroke-width=\"4\"></line><rect x=\"30.0\" y=\"114.99162233485528\" width=\"40\" height=\"0.008377665144720936\" stroke=\"#3290CC\" stroke-width=\"4\" fill=\"#3FB5FF\"></rect><rect x=\"83.57142857142857\" y=\"114.80731370167135\" width=\"40\" height=\"0.19268629832865258\" stroke=\"#3290CC\" stroke-width=\"4\" fill=\"#3FB5FF\"></rect><rect x=\"137.14285714285714\" y=\"113.89833703346878\" width=\"40\" height=\"1.1016629665312223\" stroke=\"#3290CC\" stroke-width=\"4\" fill=\"#3FB5FF\"></rect><rect x=\"190.7142857142857\" y=\"109.71788212625142\" width=\"40\" height=\"5.282117873748575\" stroke=\"#3290CC\" stroke-width=\"4\" fill=\"#3FB5FF\"></rect><rect x=\"244.28571428571428\" y=\"95.69367067398316\" width=\"40\" height=\"19.306329326016836\" stroke=\"#3290CC\" stroke-width=\"4\" fill=\"#3FB5FF\"></rect><rect x=\"297.85714285714283\" y=\"67.09232186989485\" width=\"40\" height=\"47.907678130105154\" stroke=\"#3290CC\" stroke-width=\"4\" fill=\"#3FB5FF\"></rect><rect x=\"351.4285714285714\" y=\"32.366899845013194\" width=\"40\" height=\"82.6331001549868\" stroke=\"#3290CC\" stroke-width=\"4\" fill=\"#3FB5FF\"></rect><rect x=\"405.0\" y=\"15.0\" width=\"40\" height=\"100.0\" stroke=\"#3290CC\" stroke-width=\"4\" fill=\"#3FB5FF\"></rect><rect x=\"458.57142857142856\" y=\"30.125874418799476\" width=\"40\" height=\"84.87412558120053\" stroke=\"#3290CC\" stroke-width=\"4\" fill=\"#3FB5FF\"></rect><rect x=\"512.1428571428571\" y=\"65.25761320320026\" width=\"40\" height=\"49.742386796799735\" stroke=\"#3290CC\" stroke-width=\"4\" fill=\"#3FB5FF\"></rect><rect x=\"565.7142857142857\" y=\"94.53755288401123\" width=\"40\" height=\"20.462447115988766\" stroke=\"#3290CC\" stroke-width=\"4\" fill=\"#3FB5FF\"></rect><rect x=\"619.2857142857142\" y=\"108.98483642608805\" width=\"40\" height=\"6.0151635739119484\" stroke=\"#3290CC\" stroke-width=\"4\" fill=\"#3FB5FF\"></rect><rect x=\"672.8571428571428\" y=\"113.8396933774557\" width=\"40\" height=\"1.1603066225442973\" stroke=\"#3290CC\" stroke-width=\"4\" fill=\"#3FB5FF\"></rect><rect x=\"726.4285714285713\" y=\"114.82406903196079\" width=\"40\" height=\"0.1759309680392107\" stroke=\"#3290CC\" stroke-width=\"4\" fill=\"#3FB5FF\"></rect><rect x=\"780.0\" y=\"114.97905583713819\" width=\"40\" height=\"0.020944162861809446\" stroke=\"#3290CC\" stroke-width=\"4\" fill=\"#3FB5FF\"></rect><g class=\"y-axis-line\"><rect x=\"0\" y=\"0\" width=\"65\" height=\"130\" stroke=\"transparent\" stroke-width=\"0\" fill=\"transparent\"></rect><text x=\"0\" y=\"19.0\" fill=\"transparent\" stroke=\"transparent\" font-size=\"25\">23.9K</text><text x=\"0\" y=\"126.0\" fill=\"transparent\" stroke=\"transparent\" font-size=\"25\">0</text></g><g class=\"vert-line\"><rect x=\"40.0\" y=\"0\" width=\"20\" height=\"130\" stroke=\"transparent\" stroke-width=\"12\" fill=\"transparent\"></rect><text x=\"60.0\" y=\"20\" fill=\"transparent\" stroke=\"transparent\" font-size=\"30px\">2</text></g><g class=\"vert-line\"><rect x=\"93.57142857142857\" y=\"0\" width=\"20\" height=\"130\" stroke=\"transparent\" stroke-width=\"12\" fill=\"transparent\"></rect><text x=\"113.57142857142857\" y=\"20\" fill=\"transparent\" stroke=\"transparent\" font-size=\"30px\">46</text></g><g class=\"vert-line\"><rect x=\"147.14285714285714\" y=\"0\" width=\"20\" height=\"130\" stroke=\"transparent\" stroke-width=\"12\" fill=\"transparent\"></rect><text x=\"167.14285714285714\" y=\"20\" fill=\"transparent\" stroke=\"transparent\" font-size=\"30px\">263</text></g><g class=\"vert-line\"><rect x=\"200.7142857142857\" y=\"0\" width=\"20\" height=\"130\" stroke=\"transparent\" stroke-width=\"12\" fill=\"transparent\"></rect><text x=\"220.7142857142857\" y=\"20\" fill=\"transparent\" stroke=\"transparent\" font-size=\"30px\">1.26K</text></g><g class=\"vert-line\"><rect x=\"254.28571428571428\" y=\"0\" width=\"20\" height=\"130\" stroke=\"transparent\" stroke-width=\"12\" fill=\"transparent\"></rect><text x=\"274.2857142857143\" y=\"20\" fill=\"transparent\" stroke=\"transparent\" font-size=\"30px\">4.61K</text></g><g class=\"vert-line\"><rect x=\"307.85714285714283\" y=\"0\" width=\"20\" height=\"130\" stroke=\"transparent\" stroke-width=\"12\" fill=\"transparent\"></rect><text x=\"327.85714285714283\" y=\"20\" fill=\"transparent\" stroke=\"transparent\" font-size=\"30px\">11.4K</text></g><g class=\"vert-line\"><rect x=\"361.4285714285714\" y=\"0\" width=\"20\" height=\"130\" stroke=\"transparent\" stroke-width=\"12\" fill=\"transparent\"></rect><text x=\"381.4285714285714\" y=\"20\" fill=\"transparent\" stroke=\"transparent\" font-size=\"30px\">19.7K</text></g><g class=\"vert-line\"><rect x=\"415.0\" y=\"0\" width=\"20\" height=\"130\" stroke=\"transparent\" stroke-width=\"12\" fill=\"transparent\"></rect><text x=\"435.0\" y=\"20\" fill=\"transparent\" stroke=\"transparent\" font-size=\"30px\">23.9K</text></g><g class=\"vert-line\"><rect x=\"468.57142857142856\" y=\"0\" width=\"20\" height=\"130\" stroke=\"transparent\" stroke-width=\"12\" fill=\"transparent\"></rect><text x=\"488.57142857142856\" y=\"20\" fill=\"transparent\" stroke=\"transparent\" font-size=\"30px\">20.3K</text></g><g class=\"vert-line\"><rect x=\"522.1428571428571\" y=\"0\" width=\"20\" height=\"130\" stroke=\"transparent\" stroke-width=\"12\" fill=\"transparent\"></rect><text x=\"542.1428571428571\" y=\"20\" fill=\"transparent\" stroke=\"transparent\" font-size=\"30px\">11.9K</text></g><g class=\"vert-line\"><rect x=\"575.7142857142857\" y=\"0\" width=\"20\" height=\"130\" stroke=\"transparent\" stroke-width=\"12\" fill=\"transparent\"></rect><text x=\"595.7142857142857\" y=\"20\" fill=\"transparent\" stroke=\"transparent\" font-size=\"30px\">4.88K</text></g><g class=\"vert-line\"><rect x=\"629.2857142857142\" y=\"0\" width=\"20\" height=\"130\" stroke=\"transparent\" stroke-width=\"12\" fill=\"transparent\"></rect><text x=\"649.2857142857142\" y=\"20\" fill=\"transparent\" stroke=\"transparent\" font-size=\"30px\">1.44K</text></g><g class=\"vert-line\"><rect x=\"682.8571428571428\" y=\"0\" width=\"20\" height=\"130\" stroke=\"transparent\" stroke-width=\"12\" fill=\"transparent\"></rect><text x=\"702.8571428571428\" y=\"20\" fill=\"transparent\" stroke=\"transparent\" font-size=\"30px\">277</text></g><g class=\"vert-line\"><rect x=\"736.4285714285713\" y=\"0\" width=\"20\" height=\"130\" stroke=\"transparent\" stroke-width=\"12\" fill=\"transparent\"></rect><text x=\"756.4285714285713\" y=\"20\" fill=\"transparent\" stroke=\"transparent\" font-size=\"30px\">42</text></g><g class=\"vert-line\"><rect x=\"790.0\" y=\"0\" width=\"20\" height=\"130\" stroke=\"transparent\" stroke-width=\"12\" fill=\"transparent\"></rect><text x=\"810.0\" y=\"20\" fill=\"transparent\" stroke=\"transparent\" font-size=\"30px\">5</text></g></svg></div></td>\n",
       "</tr>\n",
       "</tbody>\n",
       "\n",
       "\n",
       "</table>\n",
       "\n",
       "</div>\n",
       "        "
      ],
      "text/plain": [
       "GT(_tbl_data=shape: (5, 13)\n",
       "┌────────────┬────────────┬───────┬──────────┬───┬────────────┬────────────┬───────────┬───────────┐\n",
       "│ column     ┆ non_null_c ┆ null% ┆ mean     ┆ … ┆ max        ┆ IQR        ┆ outlier_c ┆ histogram │\n",
       "│ ---        ┆ nt         ┆ ---   ┆ ---      ┆   ┆ ---        ┆ ---        ┆ nt        ┆ ---       │\n",
       "│ str        ┆ ---        ┆ f64   ┆ f64      ┆   ┆ f64        ┆ f64        ┆ ---       ┆ struct[1] │\n",
       "│            ┆ u32        ┆       ┆          ┆   ┆            ┆            ┆ u32       ┆           │\n",
       "╞════════════╪════════════╪═══════╪══════════╪═══╪════════════╪════════════╪═══════════╪═══════════╡\n",
       "│ uniform_1  ┆ 100000     ┆ 0.0   ┆ 5.987699 ┆ … ┆ 11.999942  ┆ 5.965027   ┆ 0         ┆ {[6669,   │\n",
       "│            ┆            ┆       ┆          ┆   ┆            ┆            ┆           ┆ 6550, …   │\n",
       "│            ┆            ┆       ┆          ┆   ┆            ┆            ┆           ┆ 6517]}    │\n",
       "│ uniform_2  ┆ 100000     ┆ 0.0   ┆ 0.499641 ┆ … ┆ 0.999997   ┆ 0.500167   ┆ 0         ┆ {[6743,   │\n",
       "│            ┆            ┆       ┆          ┆   ┆            ┆            ┆           ┆ 6836, …   │\n",
       "│            ┆            ┆       ┆          ┆   ┆            ┆            ┆           ┆ 6748]}    │\n",
       "│ exp        ┆ 100000     ┆ 0.0   ┆ 2.002886 ┆ … ┆ 24.770854  ┆ 2.203067   ┆ 4878      ┆ {[56230,  │\n",
       "│            ┆            ┆       ┆          ┆   ┆            ┆            ┆           ┆ 24506, …  │\n",
       "│            ┆            ┆       ┆          ┆   ┆            ┆            ┆           ┆ 1]}       │\n",
       "│ normal     ┆ 100000     ┆ 0.0   ┆ 0.004393 ┆ … ┆ 4.238209   ┆ 1.355458   ┆ 656       ┆ {[15,     │\n",
       "│            ┆            ┆       ┆          ┆   ┆            ┆            ┆           ┆ 119, …    │\n",
       "│            ┆            ┆       ┆          ┆   ┆            ┆            ┆           ┆ 8]}       │\n",
       "│ fat_normal ┆ 100000     ┆ 0.0   ┆ -0.8887  ┆ … ┆ 4526.09713 ┆ 1346.45044 ┆ 705       ┆ {[2, 46,  │\n",
       "│            ┆            ┆       ┆          ┆   ┆            ┆ 2          ┆           ┆ … 5]}     │\n",
       "└────────────┴────────────┴───────┴──────────┴───┴────────────┴────────────┴───────────┴───────────┘, _body=<great_tables._gt_data.Body object at 0x70861715f710>, _boxhead=Boxhead([ColInfo(var='column', type=<ColInfoTypeEnum.stub: 2>, column_label='column', column_align='left', column_width=None), ColInfo(var='non_null_cnt', type=<ColInfoTypeEnum.default: 1>, column_label='non_null_cnt', column_align='center', column_width=None), ColInfo(var='null%', type=<ColInfoTypeEnum.default: 1>, column_label='null%', column_align='right', column_width=None), ColInfo(var='mean', type=<ColInfoTypeEnum.default: 1>, column_label='mean', column_align='right', column_width=None), ColInfo(var='std', type=<ColInfoTypeEnum.default: 1>, column_label='std', column_align='right', column_width=None), ColInfo(var='min', type=<ColInfoTypeEnum.default: 1>, column_label='min', column_align='right', column_width=None), ColInfo(var='q1', type=<ColInfoTypeEnum.default: 1>, column_label='q1', column_align='right', column_width=None), ColInfo(var='median', type=<ColInfoTypeEnum.default: 1>, column_label='median', column_align='right', column_width=None), ColInfo(var='q3', type=<ColInfoTypeEnum.default: 1>, column_label='q3', column_align='right', column_width=None), ColInfo(var='max', type=<ColInfoTypeEnum.default: 1>, column_label='max', column_align='right', column_width=None), ColInfo(var='IQR', type=<ColInfoTypeEnum.default: 1>, column_label='IQR', column_align='right', column_width=None), ColInfo(var='outlier_cnt', type=<ColInfoTypeEnum.default: 1>, column_label='outlier_cnt', column_align='center', column_width=None), ColInfo(var='histogram', type=<ColInfoTypeEnum.default: 1>, column_label='histogram', column_align='center', column_width=None)]), _stub=Stub([RowInfo(rownum_i=0, group_id=None, rowname='uniform_1', group_label=None, built=False), RowInfo(rownum_i=1, group_id=None, rowname='uniform_2', group_label=None, built=False), RowInfo(rownum_i=2, group_id=None, rowname='exp', group_label=None, built=False), RowInfo(rownum_i=3, group_id=None, rowname='normal', group_label=None, built=False), RowInfo(rownum_i=4, group_id=None, rowname='fat_normal', group_label=None, built=False)]), _row_groups=[], _group_rows=GroupRows([]), _spanners=Spanners([]), _heading=Heading(title=None, subtitle=None, preheader=None), _stubhead='column', _source_notes=[], _footnotes=[], _styles=[], _locale=<great_tables._gt_data.Locale object at 0x70865cde2050>, _formats=[<great_tables._gt_data.FormatInfo object at 0x708617159e90>, <great_tables._gt_data.FormatInfo object at 0x708617172990>, <great_tables._gt_data.FormatInfo object at 0x708617172e90>], _substitutions=[], _options=Options(table_id=OptionsInfo(scss=False, category='table', type='value', value=None), table_caption=OptionsInfo(scss=False, category='table', type='value', value=None), table_width=OptionsInfo(scss=True, category='table', type='px', value='auto'), table_layout=OptionsInfo(scss=True, category='table', type='value', value='fixed'), table_margin_left=OptionsInfo(scss=True, category='table', type='px', value='auto'), table_margin_right=OptionsInfo(scss=True, category='table', type='px', value='auto'), table_background_color=OptionsInfo(scss=True, category='table', type='value', value='#FFFFFF'), table_font_names=OptionsInfo(scss=False, category='table', type='values', value=['-apple-system', 'BlinkMacSystemFont', 'Segoe UI', 'Roboto', 'Oxygen', 'Ubuntu', 'Cantarell', 'Helvetica Neue', 'Fira Sans', 'Droid Sans', 'Arial', 'sans-serif']), table_font_size=OptionsInfo(scss=True, category='table', type='px', value='16px'), table_font_weight=OptionsInfo(scss=True, category='table', type='value', value='normal'), table_font_style=OptionsInfo(scss=True, category='table', type='value', value='normal'), table_font_color=OptionsInfo(scss=True, category='table', type='value', value='#333333'), table_font_color_light=OptionsInfo(scss=True, category='table', type='value', value='#FFFFFF'), table_border_top_include=OptionsInfo(scss=False, category='table', type='boolean', value=True), table_border_top_style=OptionsInfo(scss=True, category='table', type='value', value='solid'), table_border_top_width=OptionsInfo(scss=True, category='table', type='px', value='2px'), table_border_top_color=OptionsInfo(scss=True, category='table', type='value', value='#A8A8A8'), table_border_right_style=OptionsInfo(scss=True, category='table', type='value', value='none'), table_border_right_width=OptionsInfo(scss=True, category='table', type='px', value='2px'), table_border_right_color=OptionsInfo(scss=True, category='table', type='value', value='#D3D3D3'), table_border_bottom_include=OptionsInfo(scss=False, category='table', type='boolean', value=True), table_border_bottom_style=OptionsInfo(scss=True, category='table', type='value', value='solid'), table_border_bottom_width=OptionsInfo(scss=True, category='table', type='px', value='2px'), table_border_bottom_color=OptionsInfo(scss=True, category='table', type='value', value='#A8A8A8'), table_border_left_style=OptionsInfo(scss=True, category='table', type='value', value='none'), table_border_left_width=OptionsInfo(scss=True, category='table', type='px', value='2px'), table_border_left_color=OptionsInfo(scss=True, category='table', type='value', value='#D3D3D3'), heading_background_color=OptionsInfo(scss=True, category='heading', type='value', value=None), heading_align=OptionsInfo(scss=True, category='heading', type='value', value='center'), heading_title_font_size=OptionsInfo(scss=True, category='heading', type='px', value='125%'), heading_title_font_weight=OptionsInfo(scss=True, category='heading', type='value', value='initial'), heading_subtitle_font_size=OptionsInfo(scss=True, category='heading', type='px', value='85%'), heading_subtitle_font_weight=OptionsInfo(scss=True, category='heading', type='value', value='initial'), heading_padding=OptionsInfo(scss=True, category='heading', type='px', value='4px'), heading_padding_horizontal=OptionsInfo(scss=True, category='heading', type='px', value='5px'), heading_border_bottom_style=OptionsInfo(scss=True, category='heading', type='value', value='solid'), heading_border_bottom_width=OptionsInfo(scss=True, category='heading', type='px', value='2px'), heading_border_bottom_color=OptionsInfo(scss=True, category='heading', type='value', value='#D3D3D3'), heading_border_lr_style=OptionsInfo(scss=True, category='heading', type='value', value='none'), heading_border_lr_width=OptionsInfo(scss=True, category='heading', type='px', value='1px'), heading_border_lr_color=OptionsInfo(scss=True, category='heading', type='value', value='#D3D3D3'), column_labels_background_color=OptionsInfo(scss=True, category='column_labels', type='value', value=None), column_labels_font_size=OptionsInfo(scss=True, category='column_labels', type='px', value='100%'), column_labels_font_weight=OptionsInfo(scss=True, category='column_labels', type='value', value='normal'), column_labels_text_transform=OptionsInfo(scss=True, category='column_labels', type='value', value='inherit'), column_labels_padding=OptionsInfo(scss=True, category='column_labels', type='px', value='5px'), column_labels_padding_horizontal=OptionsInfo(scss=True, category='column_labels', type='px', value='5px'), column_labels_vlines_style=OptionsInfo(scss=True, category='table_body', type='value', value='none'), column_labels_vlines_width=OptionsInfo(scss=True, category='table_body', type='px', value='1px'), column_labels_vlines_color=OptionsInfo(scss=True, category='table_body', type='value', value='#D3D3D3'), column_labels_border_top_style=OptionsInfo(scss=True, category='column_labels', type='value', value='solid'), column_labels_border_top_width=OptionsInfo(scss=True, category='column_labels', type='px', value='2px'), column_labels_border_top_color=OptionsInfo(scss=True, category='column_labels', type='value', value='#D3D3D3'), column_labels_border_bottom_style=OptionsInfo(scss=True, category='column_labels', type='value', value='solid'), column_labels_border_bottom_width=OptionsInfo(scss=True, category='column_labels', type='px', value='2px'), column_labels_border_bottom_color=OptionsInfo(scss=True, category='column_labels', type='value', value='#D3D3D3'), column_labels_border_lr_style=OptionsInfo(scss=True, category='column_labels', type='value', value='none'), column_labels_border_lr_width=OptionsInfo(scss=True, category='column_labels', type='px', value='1px'), column_labels_border_lr_color=OptionsInfo(scss=True, category='column_labels', type='value', value='#D3D3D3'), column_labels_hidden=OptionsInfo(scss=False, category='column_labels', type='boolean', value=False), row_group_background_color=OptionsInfo(scss=True, category='row_group', type='value', value=None), row_group_font_size=OptionsInfo(scss=True, category='row_group', type='px', value='100%'), row_group_font_weight=OptionsInfo(scss=True, category='row_group', type='value', value='initial'), row_group_text_transform=OptionsInfo(scss=True, category='row_group', type='value', value='inherit'), row_group_padding=OptionsInfo(scss=True, category='row_group', type='px', value='8px'), row_group_padding_horizontal=OptionsInfo(scss=True, category='row_group', type='px', value='5px'), row_group_border_top_style=OptionsInfo(scss=True, category='row_group', type='value', value='solid'), row_group_border_top_width=OptionsInfo(scss=True, category='row_group', type='px', value='2px'), row_group_border_top_color=OptionsInfo(scss=True, category='row_group', type='value', value='#D3D3D3'), row_group_border_right_style=OptionsInfo(scss=True, category='row_group', type='value', value='none'), row_group_border_right_width=OptionsInfo(scss=True, category='row_group', type='px', value='1px'), row_group_border_right_color=OptionsInfo(scss=True, category='row_group', type='value', value='#D3D3D3'), row_group_border_bottom_style=OptionsInfo(scss=True, category='row_group', type='value', value='solid'), row_group_border_bottom_width=OptionsInfo(scss=True, category='row_group', type='px', value='2px'), row_group_border_bottom_color=OptionsInfo(scss=True, category='row_group', type='value', value='#D3D3D3'), row_group_border_left_style=OptionsInfo(scss=True, category='row_group', type='value', value='none'), row_group_border_left_width=OptionsInfo(scss=True, category='row_group', type='px', value='1px'), row_group_border_left_color=OptionsInfo(scss=True, category='row_group', type='value', value='#D3D3D3'), row_group_as_column=OptionsInfo(scss=False, category='row_group', type='boolean', value=False), table_body_hlines_style=OptionsInfo(scss=True, category='table_body', type='value', value='solid'), table_body_hlines_width=OptionsInfo(scss=True, category='table_body', type='px', value='1px'), table_body_hlines_color=OptionsInfo(scss=True, category='table_body', type='value', value='#D3D3D3'), table_body_vlines_style=OptionsInfo(scss=True, category='table_body', type='value', value='none'), table_body_vlines_width=OptionsInfo(scss=True, category='table_body', type='px', value='1px'), table_body_vlines_color=OptionsInfo(scss=True, category='table_body', type='value', value='#D3D3D3'), table_body_border_top_style=OptionsInfo(scss=True, category='table_body', type='value', value='solid'), table_body_border_top_width=OptionsInfo(scss=True, category='table_body', type='px', value='2px'), table_body_border_top_color=OptionsInfo(scss=True, category='table_body', type='value', value='#D3D3D3'), table_body_border_bottom_style=OptionsInfo(scss=True, category='table_body', type='value', value='solid'), table_body_border_bottom_width=OptionsInfo(scss=True, category='table_body', type='px', value='2px'), table_body_border_bottom_color=OptionsInfo(scss=True, category='table_body', type='value', value='#D3D3D3'), data_row_padding=OptionsInfo(scss=True, category='data_row', type='px', value='8px'), data_row_padding_horizontal=OptionsInfo(scss=True, category='data_row', type='px', value='5px'), stub_background_color=OptionsInfo(scss=True, category='stub', type='value', value=None), stub_font_size=OptionsInfo(scss=True, category='stub', type='px', value='100%'), stub_font_weight=OptionsInfo(scss=True, category='stub', type='value', value='initial'), stub_text_transform=OptionsInfo(scss=True, category='stub', type='value', value='inherit'), stub_border_style=OptionsInfo(scss=True, category='stub', type='value', value='solid'), stub_border_width=OptionsInfo(scss=True, category='stub', type='px', value='2px'), stub_border_color=OptionsInfo(scss=True, category='stub', type='value', value='#D3D3D3'), stub_row_group_background_color=OptionsInfo(scss=True, category='stub', type='value', value=None), stub_row_group_font_size=OptionsInfo(scss=True, category='stub', type='px', value='100%'), stub_row_group_font_weight=OptionsInfo(scss=True, category='stub', type='value', value='initial'), stub_row_group_text_transform=OptionsInfo(scss=True, category='stub', type='value', value='inherit'), stub_row_group_border_style=OptionsInfo(scss=True, category='stub', type='value', value='solid'), stub_row_group_border_width=OptionsInfo(scss=True, category='stub', type='px', value='2px'), stub_row_group_border_color=OptionsInfo(scss=True, category='stub', type='value', value='#D3D3D3'), source_notes_padding=OptionsInfo(scss=True, category='source_notes', type='px', value='4px'), source_notes_padding_horizontal=OptionsInfo(scss=True, category='source_notes', type='px', value='5px'), source_notes_background_color=OptionsInfo(scss=True, category='source_notes', type='value', value=None), source_notes_font_size=OptionsInfo(scss=True, category='source_notes', type='px', value='90%'), source_notes_border_bottom_style=OptionsInfo(scss=True, category='source_notes', type='value', value='none'), source_notes_border_bottom_width=OptionsInfo(scss=True, category='source_notes', type='px', value='2px'), source_notes_border_bottom_color=OptionsInfo(scss=True, category='source_notes', type='value', value='#D3D3D3'), source_notes_border_lr_style=OptionsInfo(scss=True, category='source_notes', type='value', value='none'), source_notes_border_lr_width=OptionsInfo(scss=True, category='source_notes', type='px', value='2px'), source_notes_border_lr_color=OptionsInfo(scss=True, category='source_notes', type='value', value='#D3D3D3'), source_notes_multiline=OptionsInfo(scss=False, category='source_notes', type='boolean', value=True), source_notes_sep=OptionsInfo(scss=False, category='source_notes', type='value', value=' '), container_width=OptionsInfo(scss=False, category='container', type='px', value='auto'), container_height=OptionsInfo(scss=False, category='container', type='px', value='auto'), container_padding_x=OptionsInfo(scss=False, category='container', type='px', value='0px'), container_padding_y=OptionsInfo(scss=False, category='container', type='px', value='10px'), container_overflow_x=OptionsInfo(scss=False, category='container', type='overflow', value='auto'), container_overflow_y=OptionsInfo(scss=False, category='container', type='overflow', value='auto'), quarto_disable_processing=OptionsInfo(scss=False, category='quarto', type='logical', value=False), quarto_use_bootstrap=OptionsInfo(scss=False, category='quarto', type='logical', value=False)), _has_built=False)"
      ]
     },
     "execution_count": 4,
     "metadata": {},
     "output_type": "execute_result"
    }
   ],
   "source": [
    "# Only shows for numerical columns \n",
    "dia.numeric_profile(n_bins=15)"
   ]
  },
  {
   "cell_type": "code",
   "execution_count": 5,
   "metadata": {},
   "outputs": [
    {
     "data": {
      "text/html": [
       "<div><style>\n",
       ".dataframe > thead > tr,\n",
       ".dataframe > tbody > tr {\n",
       "  text-align: right;\n",
       "  white-space: pre-wrap;\n",
       "}\n",
       "</style>\n",
       "<small>shape: (10, 3)</small><table border=\"1\" class=\"dataframe\"><thead><tr><th>x</th><th>y</th><th>corr</th></tr><tr><td>str</td><td>str</td><td>f64</td></tr></thead><tbody><tr><td>&quot;normal&quot;</td><td>&quot;fat_normal&quot;</td><td>0.00348</td></tr><tr><td>&quot;uniform_2&quot;</td><td>&quot;fat_normal&quot;</td><td>0.002856</td></tr><tr><td>&quot;uniform_1&quot;</td><td>&quot;uniform_2&quot;</td><td>-0.002245</td></tr><tr><td>&quot;uniform_2&quot;</td><td>&quot;normal&quot;</td><td>-0.001938</td></tr><tr><td>&quot;exp&quot;</td><td>&quot;fat_normal&quot;</td><td>0.001505</td></tr><tr><td>&quot;uniform_1&quot;</td><td>&quot;exp&quot;</td><td>-0.001367</td></tr><tr><td>&quot;uniform_2&quot;</td><td>&quot;exp&quot;</td><td>-0.001346</td></tr><tr><td>&quot;uniform_1&quot;</td><td>&quot;normal&quot;</td><td>0.000974</td></tr><tr><td>&quot;uniform_1&quot;</td><td>&quot;fat_normal&quot;</td><td>0.000923</td></tr><tr><td>&quot;exp&quot;</td><td>&quot;normal&quot;</td><td>-0.000361</td></tr></tbody></table></div>"
      ],
      "text/plain": [
       "shape: (10, 3)\n",
       "┌───────────┬────────────┬───────────┐\n",
       "│ x         ┆ y          ┆ corr      │\n",
       "│ ---       ┆ ---        ┆ ---       │\n",
       "│ str       ┆ str        ┆ f64       │\n",
       "╞═══════════╪════════════╪═══════════╡\n",
       "│ normal    ┆ fat_normal ┆ 0.00348   │\n",
       "│ uniform_2 ┆ fat_normal ┆ 0.002856  │\n",
       "│ uniform_1 ┆ uniform_2  ┆ -0.002245 │\n",
       "│ uniform_2 ┆ normal     ┆ -0.001938 │\n",
       "│ exp       ┆ fat_normal ┆ 0.001505  │\n",
       "│ uniform_1 ┆ exp        ┆ -0.001367 │\n",
       "│ uniform_2 ┆ exp        ┆ -0.001346 │\n",
       "│ uniform_1 ┆ normal     ┆ 0.000974  │\n",
       "│ uniform_1 ┆ fat_normal ┆ 0.000923  │\n",
       "│ exp       ┆ normal     ┆ -0.000361 │\n",
       "└───────────┴────────────┴───────────┘"
      ]
     },
     "execution_count": 5,
     "metadata": {},
     "output_type": "execute_result"
    }
   ],
   "source": [
    "dia.infer_corr()"
   ]
  },
  {
   "cell_type": "code",
   "execution_count": 6,
   "metadata": {},
   "outputs": [
    {
     "data": {
      "text/html": [
       "<div><style>\n",
       ".dataframe > thead > tr,\n",
       ".dataframe > tbody > tr {\n",
       "  text-align: right;\n",
       "  white-space: pre-wrap;\n",
       "}\n",
       "</style>\n",
       "<small>shape: (10, 3)</small><table border=\"1\" class=\"dataframe\"><thead><tr><th>x</th><th>y</th><th>corr</th></tr><tr><td>str</td><td>str</td><td>f64</td></tr></thead><tbody><tr><td>&quot;normal&quot;</td><td>&quot;fat_normal&quot;</td><td>0.00348</td></tr><tr><td>&quot;uniform_2&quot;</td><td>&quot;fat_normal&quot;</td><td>0.002856</td></tr><tr><td>&quot;uniform_1&quot;</td><td>&quot;uniform_2&quot;</td><td>-0.002245</td></tr><tr><td>&quot;uniform_2&quot;</td><td>&quot;normal&quot;</td><td>-0.001938</td></tr><tr><td>&quot;exp&quot;</td><td>&quot;fat_normal&quot;</td><td>0.001505</td></tr><tr><td>&quot;uniform_1&quot;</td><td>&quot;exp&quot;</td><td>-0.001367</td></tr><tr><td>&quot;uniform_2&quot;</td><td>&quot;exp&quot;</td><td>-0.001346</td></tr><tr><td>&quot;uniform_1&quot;</td><td>&quot;normal&quot;</td><td>0.000974</td></tr><tr><td>&quot;uniform_1&quot;</td><td>&quot;fat_normal&quot;</td><td>0.000923</td></tr><tr><td>&quot;exp&quot;</td><td>&quot;normal&quot;</td><td>-0.000361</td></tr></tbody></table></div>"
      ],
      "text/plain": [
       "shape: (10, 3)\n",
       "┌───────────┬────────────┬───────────┐\n",
       "│ x         ┆ y          ┆ corr      │\n",
       "│ ---       ┆ ---        ┆ ---       │\n",
       "│ str       ┆ str        ┆ f64       │\n",
       "╞═══════════╪════════════╪═══════════╡\n",
       "│ normal    ┆ fat_normal ┆ 0.00348   │\n",
       "│ uniform_2 ┆ fat_normal ┆ 0.002856  │\n",
       "│ uniform_1 ┆ uniform_2  ┆ -0.002245 │\n",
       "│ uniform_2 ┆ normal     ┆ -0.001938 │\n",
       "│ exp       ┆ fat_normal ┆ 0.001505  │\n",
       "│ uniform_1 ┆ exp        ┆ -0.001367 │\n",
       "│ uniform_2 ┆ exp        ┆ -0.001346 │\n",
       "│ uniform_1 ┆ normal     ┆ 0.000974  │\n",
       "│ uniform_1 ┆ fat_normal ┆ 0.000923  │\n",
       "│ exp       ┆ normal     ┆ -0.000361 │\n",
       "└───────────┴────────────┴───────────┘"
      ]
     },
     "execution_count": 6,
     "metadata": {},
     "output_type": "execute_result"
    }
   ],
   "source": [
    "dia.infer_corr(method=\"kendall\")"
   ]
  },
  {
   "cell_type": "code",
   "execution_count": 7,
   "metadata": {},
   "outputs": [
    {
     "data": {
      "text/plain": [
       "{'numerics': ['uniform_1', 'uniform_2', 'exp', 'normal', 'fat_normal'],\n",
       " 'ints': [],\n",
       " 'floats': ['uniform_1', 'uniform_2', 'exp', 'normal', 'fat_normal'],\n",
       " 'strs': [],\n",
       " 'bools': [],\n",
       " 'cats': [],\n",
       " 'list_floats': ['list_prob'],\n",
       " 'list_ints': [],\n",
       " 'list_bool': [],\n",
       " 'list_str': [],\n",
       " 'simple_types': ['uniform_1',\n",
       "  'uniform_2',\n",
       "  'exp',\n",
       "  'normal',\n",
       "  'fat_normal',\n",
       "  'list_prob'],\n",
       " 'other_types': []}"
      ]
     },
     "execution_count": 7,
     "metadata": {},
     "output_type": "execute_result"
    }
   ],
   "source": [
    "dia.meta()"
   ]
  },
  {
   "cell_type": "code",
   "execution_count": 8,
   "metadata": {},
   "outputs": [
    {
     "data": {
      "text/plain": [
       "['uniform_2', 'list_prob']"
      ]
     },
     "execution_count": 8,
     "metadata": {},
     "output_type": "execute_result"
    }
   ],
   "source": [
    "# Uniform_2 can potentially be a probability score column (e.g. output of predict_proba, but taking values only for class =1)\n",
    "# list_prob can potentially be a 2-class probability column (e.g. output of predict_proba)\n",
    "dia.infer_prob()"
   ]
  },
  {
   "cell_type": "markdown",
   "metadata": {},
   "source": [
    "# Dependency Detection\n",
    "\n",
    "Does knowing values in column A tell us values in column B?"
   ]
  },
  {
   "cell_type": "code",
   "execution_count": 9,
   "metadata": {},
   "outputs": [
    {
     "data": {
      "text/html": [
       "<div><style>\n",
       ".dataframe > thead > tr,\n",
       ".dataframe > tbody > tr {\n",
       "  text-align: right;\n",
       "  white-space: pre-wrap;\n",
       "}\n",
       "</style>\n",
       "<small>shape: (5, 22)</small><table border=\"1\" class=\"dataframe\"><thead><tr><th>ID</th><th>Gender</th><th>DOB</th><th>Lead_Creation_Date</th><th>City_Code</th><th>City_Category</th><th>Employer_Code</th><th>Employer_Category1</th><th>Employer_Category2</th><th>Monthly_Income</th><th>Customer_Existing_Primary_Bank_Code</th><th>Primary_Bank_Type</th><th>Contacted</th><th>Source</th><th>Source_Category</th><th>Existing_EMI</th><th>Loan_Amount</th><th>Loan_Period</th><th>Interest_Rate</th><th>EMI</th><th>Var1</th><th>Approved</th></tr><tr><td>str</td><td>str</td><td>str</td><td>str</td><td>str</td><td>str</td><td>str</td><td>str</td><td>i64</td><td>f64</td><td>str</td><td>str</td><td>str</td><td>str</td><td>str</td><td>f64</td><td>i64</td><td>i64</td><td>f64</td><td>i64</td><td>i64</td><td>i64</td></tr></thead><tbody><tr><td>&quot;APPC9049317122…</td><td>&quot;Female&quot;</td><td>&quot;23/07/79&quot;</td><td>&quot;15/07/16&quot;</td><td>&quot;C10001&quot;</td><td>&quot;A&quot;</td><td>&quot;COM0044082&quot;</td><td>&quot;A&quot;</td><td>4</td><td>2000.0</td><td>&quot;B001&quot;</td><td>&quot;P&quot;</td><td>&quot;N&quot;</td><td>&quot;S122&quot;</td><td>&quot;G&quot;</td><td>0.0</td><td>null</td><td>null</td><td>null</td><td>null</td><td>0</td><td>0</td></tr><tr><td>&quot;APPD4061126334…</td><td>&quot;Male&quot;</td><td>&quot;07/12/86&quot;</td><td>&quot;04/07/16&quot;</td><td>&quot;C10003&quot;</td><td>&quot;A&quot;</td><td>&quot;COM0000002&quot;</td><td>&quot;C&quot;</td><td>1</td><td>3500.0</td><td>&quot;B002&quot;</td><td>&quot;P&quot;</td><td>&quot;Y&quot;</td><td>&quot;S122&quot;</td><td>&quot;G&quot;</td><td>0.0</td><td>20000</td><td>2</td><td>13.25</td><td>953</td><td>10</td><td>0</td></tr><tr><td>&quot;APPE7028924942…</td><td>&quot;Male&quot;</td><td>&quot;10/12/82&quot;</td><td>&quot;19/07/16&quot;</td><td>&quot;C10125&quot;</td><td>&quot;C&quot;</td><td>&quot;COM0005267&quot;</td><td>&quot;C&quot;</td><td>4</td><td>2250.0</td><td>&quot;B003&quot;</td><td>&quot;G&quot;</td><td>&quot;Y&quot;</td><td>&quot;S143&quot;</td><td>&quot;B&quot;</td><td>0.0</td><td>45000</td><td>4</td><td>null</td><td>null</td><td>0</td><td>0</td></tr><tr><td>&quot;APPF8027386553…</td><td>&quot;Male&quot;</td><td>&quot;30/01/89&quot;</td><td>&quot;09/07/16&quot;</td><td>&quot;C10477&quot;</td><td>&quot;C&quot;</td><td>&quot;COM0004143&quot;</td><td>&quot;A&quot;</td><td>4</td><td>3500.0</td><td>&quot;B003&quot;</td><td>&quot;G&quot;</td><td>&quot;Y&quot;</td><td>&quot;S143&quot;</td><td>&quot;B&quot;</td><td>0.0</td><td>92000</td><td>5</td><td>null</td><td>null</td><td>7</td><td>0</td></tr><tr><td>&quot;APPG6099443664…</td><td>&quot;Male&quot;</td><td>&quot;19/04/85&quot;</td><td>&quot;20/07/16&quot;</td><td>&quot;C10002&quot;</td><td>&quot;A&quot;</td><td>&quot;COM0001781&quot;</td><td>&quot;A&quot;</td><td>4</td><td>10000.0</td><td>&quot;B001&quot;</td><td>&quot;P&quot;</td><td>&quot;Y&quot;</td><td>&quot;S134&quot;</td><td>&quot;B&quot;</td><td>2500.0</td><td>50000</td><td>2</td><td>null</td><td>null</td><td>10</td><td>0</td></tr></tbody></table></div>"
      ],
      "text/plain": [
       "shape: (5, 22)\n",
       "┌────────────────┬────────┬──────────┬────────────────┬───┬───────────────┬──────┬──────┬──────────┐\n",
       "│ ID             ┆ Gender ┆ DOB      ┆ Lead_Creation_ ┆ … ┆ Interest_Rate ┆ EMI  ┆ Var1 ┆ Approved │\n",
       "│ ---            ┆ ---    ┆ ---      ┆ Date           ┆   ┆ ---           ┆ ---  ┆ ---  ┆ ---      │\n",
       "│ str            ┆ str    ┆ str      ┆ ---            ┆   ┆ f64           ┆ i64  ┆ i64  ┆ i64      │\n",
       "│                ┆        ┆          ┆ str            ┆   ┆               ┆      ┆      ┆          │\n",
       "╞════════════════╪════════╪══════════╪════════════════╪═══╪═══════════════╪══════╪══════╪══════════╡\n",
       "│ APPC9049317122 ┆ Female ┆ 23/07/79 ┆ 15/07/16       ┆ … ┆ null          ┆ null ┆ 0    ┆ 0        │\n",
       "│ 5              ┆        ┆          ┆                ┆   ┆               ┆      ┆      ┆          │\n",
       "│ APPD4061126334 ┆ Male   ┆ 07/12/86 ┆ 04/07/16       ┆ … ┆ 13.25         ┆ 953  ┆ 10   ┆ 0        │\n",
       "│ 4              ┆        ┆          ┆                ┆   ┆               ┆      ┆      ┆          │\n",
       "│ APPE7028924942 ┆ Male   ┆ 10/12/82 ┆ 19/07/16       ┆ … ┆ null          ┆ null ┆ 0    ┆ 0        │\n",
       "│ 3              ┆        ┆          ┆                ┆   ┆               ┆      ┆      ┆          │\n",
       "│ APPF8027386553 ┆ Male   ┆ 30/01/89 ┆ 09/07/16       ┆ … ┆ null          ┆ null ┆ 7    ┆ 0        │\n",
       "│ 7              ┆        ┆          ┆                ┆   ┆               ┆      ┆      ┆          │\n",
       "│ APPG6099443664 ┆ Male   ┆ 19/04/85 ┆ 20/07/16       ┆ … ┆ null          ┆ null ┆ 10   ┆ 0        │\n",
       "│ 1              ┆        ┆          ┆                ┆   ┆               ┆      ┆      ┆          │\n",
       "└────────────────┴────────┴──────────┴────────────────┴───┴───────────────┴──────┴──────┴──────────┘"
      ]
     },
     "execution_count": 9,
     "metadata": {},
     "output_type": "execute_result"
    }
   ],
   "source": [
    "df = pl.read_parquet(\"dependency.parquet\")\n",
    "df.head()"
   ]
  },
  {
   "cell_type": "code",
   "execution_count": 10,
   "metadata": {},
   "outputs": [],
   "source": [
    "dia = DIA(df)"
   ]
  },
  {
   "cell_type": "code",
   "execution_count": 11,
   "metadata": {},
   "outputs": [
    {
     "name": "stderr",
     "output_type": "stream",
     "text": [
      "INFO:polars_ds.diagnosis:Running dependency for columns: ['Gender', 'Contacted', 'Approved', 'Primary_Bank_Type', 'City_Category', 'Employer_Category1', 'Employer_Category2', 'Var1', 'Source_Category', 'Loan_Period', 'Source', 'Customer_Existing_Primary_Bank_Code', 'Lead_Creation_Date', 'Loan_Amount', 'City_Code', 'EMI', 'DOB', 'Employer_Code', 'ID'].\n"
     ]
    },
    {
     "data": {
      "text/html": [
       "<div><style>\n",
       ".dataframe > thead > tr,\n",
       ".dataframe > tbody > tr {\n",
       "  text-align: right;\n",
       "  white-space: pre-wrap;\n",
       "}\n",
       "</style>\n",
       "<small>shape: (171, 3)</small><table border=\"1\" class=\"dataframe\"><thead><tr><th>column</th><th>by</th><th>cond_entropy</th></tr><tr><td>str</td><td>str</td><td>f64</td></tr></thead><tbody><tr><td>&quot;Gender&quot;</td><td>&quot;ID&quot;</td><td>0.0</td></tr><tr><td>&quot;Contacted&quot;</td><td>&quot;ID&quot;</td><td>0.0</td></tr><tr><td>&quot;Approved&quot;</td><td>&quot;ID&quot;</td><td>0.0</td></tr><tr><td>&quot;Primary_Bank_T…</td><td>&quot;Customer_Exist…</td><td>0.0</td></tr><tr><td>&quot;Primary_Bank_T…</td><td>&quot;ID&quot;</td><td>0.0</td></tr><tr><td>&hellip;</td><td>&hellip;</td><td>&hellip;</td></tr><tr><td>&quot;Loan_Amount&quot;</td><td>&quot;City_Code&quot;</td><td>2.702889</td></tr><tr><td>&quot;City_Code&quot;</td><td>&quot;EMI&quot;</td><td>3.147327</td></tr><tr><td>&quot;Lead_Creation_…</td><td>&quot;EMI&quot;</td><td>3.92818</td></tr><tr><td>&quot;Lead_Creation_…</td><td>&quot;City_Code&quot;</td><td>4.204907</td></tr><tr><td>&quot;Lead_Creation_…</td><td>&quot;Loan_Amount&quot;</td><td>4.336805</td></tr></tbody></table></div>"
      ],
      "text/plain": [
       "shape: (171, 3)\n",
       "┌────────────────────┬───────────────────────────────────┬──────────────┐\n",
       "│ column             ┆ by                                ┆ cond_entropy │\n",
       "│ ---                ┆ ---                               ┆ ---          │\n",
       "│ str                ┆ str                               ┆ f64          │\n",
       "╞════════════════════╪═══════════════════════════════════╪══════════════╡\n",
       "│ Gender             ┆ ID                                ┆ 0.0          │\n",
       "│ Contacted          ┆ ID                                ┆ 0.0          │\n",
       "│ Approved           ┆ ID                                ┆ 0.0          │\n",
       "│ Primary_Bank_Type  ┆ Customer_Existing_Primary_Bank_C… ┆ 0.0          │\n",
       "│ Primary_Bank_Type  ┆ ID                                ┆ 0.0          │\n",
       "│ …                  ┆ …                                 ┆ …            │\n",
       "│ Loan_Amount        ┆ City_Code                         ┆ 2.702889     │\n",
       "│ City_Code          ┆ EMI                               ┆ 3.147327     │\n",
       "│ Lead_Creation_Date ┆ EMI                               ┆ 3.92818      │\n",
       "│ Lead_Creation_Date ┆ City_Code                         ┆ 4.204907     │\n",
       "│ Lead_Creation_Date ┆ Loan_Amount                       ┆ 4.336805     │\n",
       "└────────────────────┴───────────────────────────────────┴──────────────┘"
      ]
     },
     "execution_count": 11,
     "metadata": {},
     "output_type": "execute_result"
    }
   ],
   "source": [
    "dia.infer_dependency()"
   ]
  },
  {
   "cell_type": "code",
   "execution_count": 12,
   "metadata": {},
   "outputs": [
    {
     "name": "stderr",
     "output_type": "stream",
     "text": [
      "INFO:polars_ds.diagnosis:Running dependency for columns: ['Gender', 'Contacted', 'Approved', 'Primary_Bank_Type', 'City_Category', 'Employer_Category1', 'Employer_Category2', 'Var1', 'Source_Category', 'Loan_Period', 'Source', 'Customer_Existing_Primary_Bank_Code', 'Lead_Creation_Date', 'Loan_Amount', 'City_Code', 'EMI', 'DOB', 'Employer_Code', 'ID'].\n"
     ]
    },
    {
     "data": {
      "image/svg+xml": [
       "<?xml version=\"1.0\" encoding=\"UTF-8\" standalone=\"no\"?>\n",
       "<!DOCTYPE svg PUBLIC \"-//W3C//DTD SVG 1.1//EN\"\n",
       " \"http://www.w3.org/Graphics/SVG/1.1/DTD/svg11.dtd\">\n",
       "<!-- Generated by graphviz version 10.0.1 (0)\n",
       " -->\n",
       "<!-- Title: Dependency Plot Pages: 1 -->\n",
       "<svg width=\"2025pt\" height=\"188pt\"\n",
       " viewBox=\"0.00 0.00 2025.13 188.00\" xmlns=\"http://www.w3.org/2000/svg\" xmlns:xlink=\"http://www.w3.org/1999/xlink\">\n",
       "<g id=\"graph0\" class=\"graph\" transform=\"scale(1 1) rotate(0) translate(4 184)\">\n",
       "<title>Dependency Plot</title>\n",
       "<polygon fill=\"white\" stroke=\"none\" points=\"-4,4 -4,-184 2021.13,-184 2021.13,4 -4,4\"/>\n",
       "<!-- Employer_Category2 -->\n",
       "<g id=\"node1\" class=\"node\">\n",
       "<title>Employer_Category2</title>\n",
       "<ellipse fill=\"none\" stroke=\"black\" cx=\"90.76\" cy=\"-18\" rx=\"90.76\" ry=\"18\"/>\n",
       "<text text-anchor=\"middle\" x=\"90.76\" y=\"-12.95\" font-family=\"Times,serif\" font-size=\"14.00\">Employer_Category2</text>\n",
       "</g>\n",
       "<!-- Employer_Code -->\n",
       "<g id=\"node2\" class=\"node\">\n",
       "<title>Employer_Code</title>\n",
       "<ellipse fill=\"none\" stroke=\"black\" cx=\"190.76\" cy=\"-90\" rx=\"71.82\" ry=\"18\"/>\n",
       "<text text-anchor=\"middle\" x=\"190.76\" y=\"-84.95\" font-family=\"Times,serif\" font-size=\"14.00\">Employer_Code</text>\n",
       "</g>\n",
       "<!-- Employer_Code&#45;&gt;Employer_Category2 -->\n",
       "<g id=\"edge1\" class=\"edge\">\n",
       "<title>Employer_Code&#45;&gt;Employer_Category2</title>\n",
       "<path fill=\"none\" stroke=\"black\" d=\"M167.32,-72.59C154.46,-63.59 138.31,-52.29 124.16,-42.38\"/>\n",
       "<polygon fill=\"black\" stroke=\"black\" points=\"126.19,-39.53 115.99,-36.66 122.18,-45.27 126.19,-39.53\"/>\n",
       "</g>\n",
       "<!-- Employer_Category1 -->\n",
       "<g id=\"node3\" class=\"node\">\n",
       "<title>Employer_Category1</title>\n",
       "<ellipse fill=\"none\" stroke=\"black\" cx=\"290.76\" cy=\"-18\" rx=\"90.76\" ry=\"18\"/>\n",
       "<text text-anchor=\"middle\" x=\"290.76\" y=\"-12.95\" font-family=\"Times,serif\" font-size=\"14.00\">Employer_Category1</text>\n",
       "</g>\n",
       "<!-- Employer_Code&#45;&gt;Employer_Category1 -->\n",
       "<g id=\"edge2\" class=\"edge\">\n",
       "<title>Employer_Code&#45;&gt;Employer_Category1</title>\n",
       "<path fill=\"none\" stroke=\"black\" d=\"M214.21,-72.59C227.06,-63.59 243.21,-52.29 257.36,-42.38\"/>\n",
       "<polygon fill=\"black\" stroke=\"black\" points=\"259.34,-45.27 265.53,-36.66 255.33,-39.53 259.34,-45.27\"/>\n",
       "</g>\n",
       "<!-- Source_Category -->\n",
       "<g id=\"node4\" class=\"node\">\n",
       "<title>Source_Category</title>\n",
       "<ellipse fill=\"none\" stroke=\"black\" cx=\"355.76\" cy=\"-90\" rx=\"74.89\" ry=\"18\"/>\n",
       "<text text-anchor=\"middle\" x=\"355.76\" y=\"-84.95\" font-family=\"Times,serif\" font-size=\"14.00\">Source_Category</text>\n",
       "</g>\n",
       "<!-- ID -->\n",
       "<g id=\"node5\" class=\"node\">\n",
       "<title>ID</title>\n",
       "<ellipse fill=\"none\" stroke=\"black\" cx=\"1105.76\" cy=\"-162\" rx=\"27\" ry=\"18\"/>\n",
       "<text text-anchor=\"middle\" x=\"1105.76\" y=\"-156.95\" font-family=\"Times,serif\" font-size=\"14.00\">ID</text>\n",
       "</g>\n",
       "<!-- ID&#45;&gt;Employer_Code -->\n",
       "<g id=\"edge15\" class=\"edge\">\n",
       "<title>ID&#45;&gt;Employer_Code</title>\n",
       "<path fill=\"none\" stroke=\"black\" d=\"M1078.62,-160.69C973.99,-159.18 586.96,-150.87 271.76,-108 265.71,-107.18 259.44,-106.16 253.18,-105.03\"/>\n",
       "<polygon fill=\"black\" stroke=\"black\" points=\"253.95,-101.62 243.47,-103.19 252.65,-108.49 253.95,-101.62\"/>\n",
       "</g>\n",
       "<!-- ID&#45;&gt;Source_Category -->\n",
       "<g id=\"edge3\" class=\"edge\">\n",
       "<title>ID&#45;&gt;Source_Category</title>\n",
       "<path fill=\"none\" stroke=\"black\" d=\"M1078.67,-160.01C987.92,-156.46 686.43,-142.65 439.76,-108 433.44,-107.11 426.87,-106.04 420.32,-104.88\"/>\n",
       "<polygon fill=\"black\" stroke=\"black\" points=\"421.33,-101.51 410.86,-103.12 420.05,-108.39 421.33,-101.51\"/>\n",
       "</g>\n",
       "<!-- EMI -->\n",
       "<g id=\"node6\" class=\"node\">\n",
       "<title>EMI</title>\n",
       "<ellipse fill=\"none\" stroke=\"black\" cx=\"476.76\" cy=\"-90\" rx=\"28.32\" ry=\"18\"/>\n",
       "<text text-anchor=\"middle\" x=\"476.76\" y=\"-84.95\" font-family=\"Times,serif\" font-size=\"14.00\">EMI</text>\n",
       "</g>\n",
       "<!-- ID&#45;&gt;EMI -->\n",
       "<g id=\"edge4\" class=\"edge\">\n",
       "<title>ID&#45;&gt;EMI</title>\n",
       "<path fill=\"none\" stroke=\"black\" d=\"M1078.73,-159.8C977.75,-155.14 622.83,-137.01 513.76,-108 512.14,-107.57 510.5,-107.07 508.86,-106.52\"/>\n",
       "<polygon fill=\"black\" stroke=\"black\" points=\"510.21,-103.29 499.62,-102.9 507.65,-109.81 510.21,-103.29\"/>\n",
       "</g>\n",
       "<!-- Lead_Creation_Date -->\n",
       "<g id=\"node7\" class=\"node\">\n",
       "<title>Lead_Creation_Date</title>\n",
       "<ellipse fill=\"none\" stroke=\"black\" cx=\"610.76\" cy=\"-90\" rx=\"87.69\" ry=\"18\"/>\n",
       "<text text-anchor=\"middle\" x=\"610.76\" y=\"-84.95\" font-family=\"Times,serif\" font-size=\"14.00\">Lead_Creation_Date</text>\n",
       "</g>\n",
       "<!-- ID&#45;&gt;Lead_Creation_Date -->\n",
       "<g id=\"edge5\" class=\"edge\">\n",
       "<title>ID&#45;&gt;Lead_Creation_Date</title>\n",
       "<path fill=\"none\" stroke=\"black\" d=\"M1079.09,-157.86C1014.87,-150.22 846.6,-129.66 706.76,-108 700.04,-106.96 693.06,-105.82 686.07,-104.65\"/>\n",
       "<polygon fill=\"black\" stroke=\"black\" points=\"686.67,-101.21 676.22,-102.98 685.49,-108.11 686.67,-101.21\"/>\n",
       "</g>\n",
       "<!-- Source -->\n",
       "<g id=\"node8\" class=\"node\">\n",
       "<title>Source</title>\n",
       "<ellipse fill=\"none\" stroke=\"black\" cx=\"752.76\" cy=\"-90\" rx=\"36.51\" ry=\"18\"/>\n",
       "<text text-anchor=\"middle\" x=\"752.76\" y=\"-84.95\" font-family=\"Times,serif\" font-size=\"14.00\">Source</text>\n",
       "</g>\n",
       "<!-- ID&#45;&gt;Source -->\n",
       "<g id=\"edge6\" class=\"edge\">\n",
       "<title>ID&#45;&gt;Source</title>\n",
       "<path fill=\"none\" stroke=\"black\" d=\"M1079.02,-158.14C1025.12,-152 899.85,-135.79 797.76,-108 795.49,-107.38 793.18,-106.7 790.86,-105.96\"/>\n",
       "<polygon fill=\"black\" stroke=\"black\" points=\"792.12,-102.69 781.52,-102.76 789.85,-109.32 792.12,-102.69\"/>\n",
       "</g>\n",
       "<!-- City_Code -->\n",
       "<g id=\"node9\" class=\"node\">\n",
       "<title>City_Code</title>\n",
       "<ellipse fill=\"none\" stroke=\"black\" cx=\"857.76\" cy=\"-90\" rx=\"50.84\" ry=\"18\"/>\n",
       "<text text-anchor=\"middle\" x=\"857.76\" y=\"-84.95\" font-family=\"Times,serif\" font-size=\"14.00\">City_Code</text>\n",
       "</g>\n",
       "<!-- ID&#45;&gt;City_Code -->\n",
       "<g id=\"edge7\" class=\"edge\">\n",
       "<title>ID&#45;&gt;City_Code</title>\n",
       "<path fill=\"none\" stroke=\"black\" d=\"M1080.98,-154.11C1044.85,-144.05 975.6,-124.73 916.76,-108 913.64,-107.11 910.42,-106.19 907.18,-105.27\"/>\n",
       "<polygon fill=\"black\" stroke=\"black\" points=\"908.18,-101.91 897.61,-102.52 906.25,-108.64 908.18,-101.91\"/>\n",
       "</g>\n",
       "<!-- Loan_Period -->\n",
       "<g id=\"node10\" class=\"node\">\n",
       "<title>Loan_Period</title>\n",
       "<ellipse fill=\"none\" stroke=\"black\" cx=\"984.76\" cy=\"-90\" rx=\"58.52\" ry=\"18\"/>\n",
       "<text text-anchor=\"middle\" x=\"984.76\" y=\"-84.95\" font-family=\"Times,serif\" font-size=\"14.00\">Loan_Period</text>\n",
       "</g>\n",
       "<!-- ID&#45;&gt;Loan_Period -->\n",
       "<g id=\"edge8\" class=\"edge\">\n",
       "<title>ID&#45;&gt;Loan_Period</title>\n",
       "<path fill=\"none\" stroke=\"black\" d=\"M1085.78,-149.44C1068.16,-139.25 1042.07,-124.15 1020.81,-111.85\"/>\n",
       "<polygon fill=\"black\" stroke=\"black\" points=\"1022.85,-108.99 1012.44,-107.01 1019.34,-115.05 1022.85,-108.99\"/>\n",
       "</g>\n",
       "<!-- Customer_Existing_Primary_Bank_Code -->\n",
       "<g id=\"node12\" class=\"node\">\n",
       "<title>Customer_Existing_Primary_Bank_Code</title>\n",
       "<ellipse fill=\"none\" stroke=\"black\" cx=\"1226.76\" cy=\"-90\" rx=\"165.48\" ry=\"18\"/>\n",
       "<text text-anchor=\"middle\" x=\"1226.76\" y=\"-84.95\" font-family=\"Times,serif\" font-size=\"14.00\">Customer_Existing_Primary_Bank_Code</text>\n",
       "</g>\n",
       "<!-- ID&#45;&gt;Customer_Existing_Primary_Bank_Code -->\n",
       "<g id=\"edge17\" class=\"edge\">\n",
       "<title>ID&#45;&gt;Customer_Existing_Primary_Bank_Code</title>\n",
       "<path fill=\"none\" stroke=\"black\" d=\"M1125.74,-149.44C1142.47,-139.76 1166.85,-125.66 1187.46,-113.73\"/>\n",
       "<polygon fill=\"black\" stroke=\"black\" points=\"1189.02,-116.88 1195.92,-108.84 1185.51,-110.82 1189.02,-116.88\"/>\n",
       "</g>\n",
       "<!-- Gender -->\n",
       "<g id=\"node13\" class=\"node\">\n",
       "<title>Gender</title>\n",
       "<ellipse fill=\"none\" stroke=\"black\" cx=\"1448.76\" cy=\"-90\" rx=\"38.04\" ry=\"18\"/>\n",
       "<text text-anchor=\"middle\" x=\"1448.76\" y=\"-84.95\" font-family=\"Times,serif\" font-size=\"14.00\">Gender</text>\n",
       "</g>\n",
       "<!-- ID&#45;&gt;Gender -->\n",
       "<g id=\"edge10\" class=\"edge\">\n",
       "<title>ID&#45;&gt;Gender</title>\n",
       "<path fill=\"none\" stroke=\"black\" d=\"M1132.12,-157.73C1184.08,-150.96 1303.18,-133.86 1400.76,-108 1403.49,-107.28 1406.29,-106.47 1409.09,-105.61\"/>\n",
       "<polygon fill=\"black\" stroke=\"black\" points=\"1409.95,-109.01 1418.37,-102.58 1407.78,-102.36 1409.95,-109.01\"/>\n",
       "</g>\n",
       "<!-- Loan_Amount -->\n",
       "<g id=\"node14\" class=\"node\">\n",
       "<title>Loan_Amount</title>\n",
       "<ellipse fill=\"none\" stroke=\"black\" cx=\"1569.76\" cy=\"-90\" rx=\"65.17\" ry=\"18\"/>\n",
       "<text text-anchor=\"middle\" x=\"1569.76\" y=\"-84.95\" font-family=\"Times,serif\" font-size=\"14.00\">Loan_Amount</text>\n",
       "</g>\n",
       "<!-- ID&#45;&gt;Loan_Amount -->\n",
       "<g id=\"edge11\" class=\"edge\">\n",
       "<title>ID&#45;&gt;Loan_Amount</title>\n",
       "<path fill=\"none\" stroke=\"black\" d=\"M1132.37,-158.23C1195.65,-151.45 1359.97,-132.77 1495.76,-108 1500.71,-107.1 1505.83,-106.09 1510.95,-105.02\"/>\n",
       "<polygon fill=\"black\" stroke=\"black\" points=\"1511.61,-108.46 1520.64,-102.93 1510.13,-101.62 1511.61,-108.46\"/>\n",
       "</g>\n",
       "<!-- Approved -->\n",
       "<g id=\"node15\" class=\"node\">\n",
       "<title>Approved</title>\n",
       "<ellipse fill=\"none\" stroke=\"black\" cx=\"1700.76\" cy=\"-90\" rx=\"47.77\" ry=\"18\"/>\n",
       "<text text-anchor=\"middle\" x=\"1700.76\" y=\"-84.95\" font-family=\"Times,serif\" font-size=\"14.00\">Approved</text>\n",
       "</g>\n",
       "<!-- ID&#45;&gt;Approved -->\n",
       "<g id=\"edge12\" class=\"edge\">\n",
       "<title>ID&#45;&gt;Approved</title>\n",
       "<path fill=\"none\" stroke=\"black\" d=\"M1132.9,-160.16C1212.23,-157.32 1450.36,-146 1643.76,-108 1647.36,-107.29 1651.05,-106.46 1654.75,-105.54\"/>\n",
       "<polygon fill=\"black\" stroke=\"black\" points=\"1655.54,-108.95 1664.29,-102.98 1653.73,-102.19 1655.54,-108.95\"/>\n",
       "</g>\n",
       "<!-- Contacted -->\n",
       "<g id=\"node17\" class=\"node\">\n",
       "<title>Contacted</title>\n",
       "<ellipse fill=\"none\" stroke=\"black\" cx=\"1814.76\" cy=\"-90\" rx=\"48.28\" ry=\"18\"/>\n",
       "<text text-anchor=\"middle\" x=\"1814.76\" y=\"-84.95\" font-family=\"Times,serif\" font-size=\"14.00\">Contacted</text>\n",
       "</g>\n",
       "<!-- ID&#45;&gt;Contacted -->\n",
       "<g id=\"edge14\" class=\"edge\">\n",
       "<title>ID&#45;&gt;Contacted</title>\n",
       "<path fill=\"none\" stroke=\"black\" d=\"M1133.05,-160.81C1223.08,-159.76 1518.61,-152.87 1757.76,-108 1761.36,-107.32 1765.06,-106.51 1768.76,-105.61\"/>\n",
       "<polygon fill=\"black\" stroke=\"black\" points=\"1769.54,-109.02 1778.31,-103.07 1767.75,-102.25 1769.54,-109.02\"/>\n",
       "</g>\n",
       "<!-- Var1 -->\n",
       "<g id=\"node18\" class=\"node\">\n",
       "<title>Var1</title>\n",
       "<ellipse fill=\"none\" stroke=\"black\" cx=\"1909.76\" cy=\"-90\" rx=\"28.32\" ry=\"18\"/>\n",
       "<text text-anchor=\"middle\" x=\"1909.76\" y=\"-84.95\" font-family=\"Times,serif\" font-size=\"14.00\">Var1</text>\n",
       "</g>\n",
       "<!-- ID&#45;&gt;Var1 -->\n",
       "<g id=\"edge16\" class=\"edge\">\n",
       "<title>ID&#45;&gt;Var1</title>\n",
       "<path fill=\"none\" stroke=\"black\" d=\"M1133.07,-160.39C1252.28,-157.54 1727.4,-144.07 1871.76,-108 1873.78,-107.5 1875.82,-106.89 1877.86,-106.21\"/>\n",
       "<polygon fill=\"black\" stroke=\"black\" points=\"1879.06,-109.5 1887.12,-102.62 1876.53,-102.98 1879.06,-109.5\"/>\n",
       "</g>\n",
       "<!-- DOB -->\n",
       "<g id=\"node19\" class=\"node\">\n",
       "<title>DOB</title>\n",
       "<ellipse fill=\"none\" stroke=\"black\" cx=\"1986.76\" cy=\"-90\" rx=\"30.37\" ry=\"18\"/>\n",
       "<text text-anchor=\"middle\" x=\"1986.76\" y=\"-84.95\" font-family=\"Times,serif\" font-size=\"14.00\">DOB</text>\n",
       "</g>\n",
       "<!-- ID&#45;&gt;DOB -->\n",
       "<g id=\"edge18\" class=\"edge\">\n",
       "<title>ID&#45;&gt;DOB</title>\n",
       "<path fill=\"none\" stroke=\"black\" d=\"M1133.15,-160.52C1259.49,-158.09 1786.78,-145.86 1946.76,-108 1948.91,-107.49 1951.09,-106.88 1953.26,-106.19\"/>\n",
       "<polygon fill=\"black\" stroke=\"black\" points=\"1954.35,-109.52 1962.52,-102.78 1951.93,-102.95 1954.35,-109.52\"/>\n",
       "</g>\n",
       "<!-- City_Category -->\n",
       "<g id=\"node16\" class=\"node\">\n",
       "<title>City_Category</title>\n",
       "<ellipse fill=\"none\" stroke=\"black\" cx=\"857.76\" cy=\"-18\" rx=\"65.17\" ry=\"18\"/>\n",
       "<text text-anchor=\"middle\" x=\"857.76\" y=\"-12.95\" font-family=\"Times,serif\" font-size=\"14.00\">City_Category</text>\n",
       "</g>\n",
       "<!-- City_Code&#45;&gt;City_Category -->\n",
       "<g id=\"edge13\" class=\"edge\">\n",
       "<title>City_Code&#45;&gt;City_Category</title>\n",
       "<path fill=\"none\" stroke=\"black\" d=\"M857.76,-71.7C857.76,-64.41 857.76,-55.73 857.76,-47.54\"/>\n",
       "<polygon fill=\"black\" stroke=\"black\" points=\"861.26,-47.62 857.76,-37.62 854.26,-47.62 861.26,-47.62\"/>\n",
       "</g>\n",
       "<!-- Primary_Bank_Type -->\n",
       "<g id=\"node11\" class=\"node\">\n",
       "<title>Primary_Bank_Type</title>\n",
       "<ellipse fill=\"none\" stroke=\"black\" cx=\"1226.76\" cy=\"-18\" rx=\"88.71\" ry=\"18\"/>\n",
       "<text text-anchor=\"middle\" x=\"1226.76\" y=\"-12.95\" font-family=\"Times,serif\" font-size=\"14.00\">Primary_Bank_Type</text>\n",
       "</g>\n",
       "<!-- Customer_Existing_Primary_Bank_Code&#45;&gt;Primary_Bank_Type -->\n",
       "<g id=\"edge9\" class=\"edge\">\n",
       "<title>Customer_Existing_Primary_Bank_Code&#45;&gt;Primary_Bank_Type</title>\n",
       "<path fill=\"none\" stroke=\"black\" d=\"M1226.76,-71.7C1226.76,-64.41 1226.76,-55.73 1226.76,-47.54\"/>\n",
       "<polygon fill=\"black\" stroke=\"black\" points=\"1230.26,-47.62 1226.76,-37.62 1223.26,-47.62 1230.26,-47.62\"/>\n",
       "</g>\n",
       "</g>\n",
       "</svg>\n"
      ],
      "text/plain": [
       "<graphviz.graphs.Digraph at 0x708644b4d790>"
      ]
     },
     "execution_count": 12,
     "metadata": {},
     "output_type": "execute_result"
    }
   ],
   "source": [
    "dia.plot_dependency()"
   ]
  },
  {
   "cell_type": "code",
   "execution_count": 13,
   "metadata": {},
   "outputs": [
    {
     "name": "stderr",
     "output_type": "stream",
     "text": [
      "INFO:polars_ds.diagnosis:Running dependency for columns: ['Gender', 'Contacted', 'Approved', 'Primary_Bank_Type', 'City_Category', 'Employer_Category1', 'Employer_Category2', 'Var1', 'Source_Category', 'Loan_Period', 'Source', 'Customer_Existing_Primary_Bank_Code', 'Lead_Creation_Date', 'Loan_Amount', 'City_Code', 'EMI', 'DOB', 'Employer_Code'].\n"
     ]
    },
    {
     "data": {
      "image/svg+xml": [
       "<?xml version=\"1.0\" encoding=\"UTF-8\" standalone=\"no\"?>\n",
       "<!DOCTYPE svg PUBLIC \"-//W3C//DTD SVG 1.1//EN\"\n",
       " \"http://www.w3.org/Graphics/SVG/1.1/DTD/svg11.dtd\">\n",
       "<!-- Generated by graphviz version 10.0.1 (0)\n",
       " -->\n",
       "<!-- Title: Dependency Plot Pages: 1 -->\n",
       "<svg width=\"810pt\" height=\"116pt\"\n",
       " viewBox=\"0.00 0.00 809.65 116.00\" xmlns=\"http://www.w3.org/2000/svg\" xmlns:xlink=\"http://www.w3.org/1999/xlink\">\n",
       "<g id=\"graph0\" class=\"graph\" transform=\"scale(1 1) rotate(0) translate(4 112)\">\n",
       "<title>Dependency Plot</title>\n",
       "<polygon fill=\"white\" stroke=\"none\" points=\"-4,4 -4,-112 805.65,-112 805.65,4 -4,4\"/>\n",
       "<!-- Primary_Bank_Type -->\n",
       "<g id=\"node1\" class=\"node\">\n",
       "<title>Primary_Bank_Type</title>\n",
       "<ellipse fill=\"none\" stroke=\"black\" cx=\"165.48\" cy=\"-18\" rx=\"88.71\" ry=\"18\"/>\n",
       "<text text-anchor=\"middle\" x=\"165.48\" y=\"-12.95\" font-family=\"Times,serif\" font-size=\"14.00\">Primary_Bank_Type</text>\n",
       "</g>\n",
       "<!-- Customer_Existing_Primary_Bank_Code -->\n",
       "<g id=\"node2\" class=\"node\">\n",
       "<title>Customer_Existing_Primary_Bank_Code</title>\n",
       "<ellipse fill=\"none\" stroke=\"black\" cx=\"165.48\" cy=\"-90\" rx=\"165.48\" ry=\"18\"/>\n",
       "<text text-anchor=\"middle\" x=\"165.48\" y=\"-84.95\" font-family=\"Times,serif\" font-size=\"14.00\">Customer_Existing_Primary_Bank_Code</text>\n",
       "</g>\n",
       "<!-- Customer_Existing_Primary_Bank_Code&#45;&gt;Primary_Bank_Type -->\n",
       "<g id=\"edge1\" class=\"edge\">\n",
       "<title>Customer_Existing_Primary_Bank_Code&#45;&gt;Primary_Bank_Type</title>\n",
       "<path fill=\"none\" stroke=\"black\" d=\"M165.48,-71.7C165.48,-64.41 165.48,-55.73 165.48,-47.54\"/>\n",
       "<polygon fill=\"black\" stroke=\"black\" points=\"168.98,-47.62 165.48,-37.62 161.98,-47.62 168.98,-47.62\"/>\n",
       "</g>\n",
       "<!-- Employer_Category1 -->\n",
       "<g id=\"node3\" class=\"node\">\n",
       "<title>Employer_Category1</title>\n",
       "<ellipse fill=\"none\" stroke=\"black\" cx=\"362.48\" cy=\"-18\" rx=\"90.76\" ry=\"18\"/>\n",
       "<text text-anchor=\"middle\" x=\"362.48\" y=\"-12.95\" font-family=\"Times,serif\" font-size=\"14.00\">Employer_Category1</text>\n",
       "</g>\n",
       "<!-- Employer_Code -->\n",
       "<g id=\"node4\" class=\"node\">\n",
       "<title>Employer_Code</title>\n",
       "<ellipse fill=\"none\" stroke=\"black\" cx=\"491.48\" cy=\"-90\" rx=\"71.82\" ry=\"18\"/>\n",
       "<text text-anchor=\"middle\" x=\"491.48\" y=\"-84.95\" font-family=\"Times,serif\" font-size=\"14.00\">Employer_Code</text>\n",
       "</g>\n",
       "<!-- Employer_Code&#45;&gt;Employer_Category1 -->\n",
       "<g id=\"edge2\" class=\"edge\">\n",
       "<title>Employer_Code&#45;&gt;Employer_Category1</title>\n",
       "<path fill=\"none\" stroke=\"black\" d=\"M462.21,-73.12C444.57,-63.54 421.85,-51.22 402.56,-40.75\"/>\n",
       "<polygon fill=\"black\" stroke=\"black\" points=\"404.33,-37.72 393.87,-36.03 400.99,-43.87 404.33,-37.72\"/>\n",
       "</g>\n",
       "<!-- Employer_Category2 -->\n",
       "<g id=\"node5\" class=\"node\">\n",
       "<title>Employer_Category2</title>\n",
       "<ellipse fill=\"none\" stroke=\"black\" cx=\"562.48\" cy=\"-18\" rx=\"90.76\" ry=\"18\"/>\n",
       "<text text-anchor=\"middle\" x=\"562.48\" y=\"-12.95\" font-family=\"Times,serif\" font-size=\"14.00\">Employer_Category2</text>\n",
       "</g>\n",
       "<!-- Employer_Code&#45;&gt;Employer_Category2 -->\n",
       "<g id=\"edge3\" class=\"edge\">\n",
       "<title>Employer_Code&#45;&gt;Employer_Category2</title>\n",
       "<path fill=\"none\" stroke=\"black\" d=\"M508.67,-72.05C517.31,-63.54 527.93,-53.07 537.45,-43.68\"/>\n",
       "<polygon fill=\"black\" stroke=\"black\" points=\"539.71,-46.36 544.38,-36.85 534.8,-41.38 539.71,-46.36\"/>\n",
       "</g>\n",
       "<!-- City_Category -->\n",
       "<g id=\"node6\" class=\"node\">\n",
       "<title>City_Category</title>\n",
       "<ellipse fill=\"none\" stroke=\"black\" cx=\"736.48\" cy=\"-18\" rx=\"65.17\" ry=\"18\"/>\n",
       "<text text-anchor=\"middle\" x=\"736.48\" y=\"-12.95\" font-family=\"Times,serif\" font-size=\"14.00\">City_Category</text>\n",
       "</g>\n",
       "<!-- City_Code -->\n",
       "<g id=\"node7\" class=\"node\">\n",
       "<title>City_Code</title>\n",
       "<ellipse fill=\"none\" stroke=\"black\" cx=\"736.48\" cy=\"-90\" rx=\"50.84\" ry=\"18\"/>\n",
       "<text text-anchor=\"middle\" x=\"736.48\" y=\"-84.95\" font-family=\"Times,serif\" font-size=\"14.00\">City_Code</text>\n",
       "</g>\n",
       "<!-- City_Code&#45;&gt;City_Category -->\n",
       "<g id=\"edge4\" class=\"edge\">\n",
       "<title>City_Code&#45;&gt;City_Category</title>\n",
       "<path fill=\"none\" stroke=\"black\" d=\"M736.48,-71.7C736.48,-64.41 736.48,-55.73 736.48,-47.54\"/>\n",
       "<polygon fill=\"black\" stroke=\"black\" points=\"739.98,-47.62 736.48,-37.62 732.98,-47.62 739.98,-47.62\"/>\n",
       "</g>\n",
       "</g>\n",
       "</svg>\n"
      ],
      "text/plain": [
       "<graphviz.graphs.Digraph at 0x708617172fd0>"
      ]
     },
     "execution_count": 13,
     "metadata": {},
     "output_type": "execute_result"
    }
   ],
   "source": [
    "# ID implies everything, of course, because ID is unique.\n",
    "# So let's not plot it\n",
    "dia.plot_dependency(subset=pl.all().exclude(\"ID\"))"
   ]
  },
  {
   "cell_type": "code",
   "execution_count": 14,
   "metadata": {},
   "outputs": [
    {
     "data": {
      "text/html": [
       "<div><style>\n",
       ".dataframe > thead > tr,\n",
       ".dataframe > tbody > tr {\n",
       "  text-align: right;\n",
       "  white-space: pre-wrap;\n",
       "}\n",
       "</style>\n",
       "<small>shape: (13, 13)</small><table border=\"1\" class=\"dataframe\"><thead><tr><th>column</th><th>null_count</th><th>n_unique</th><th>most_freq</th><th>most_freq_cnt</th><th>min_byte_len</th><th>min_char_len</th><th>avg_byte_len</th><th>avg_char_len</th><th>max_byte_len</th><th>max_char_len</th><th>5p_byte_len</th><th>95p_byte_len</th></tr><tr><td>str</td><td>u32</td><td>u32</td><td>str</td><td>u32</td><td>u32</td><td>u32</td><td>f64</td><td>f64</td><td>u32</td><td>u32</td><td>f64</td><td>f64</td></tr></thead><tbody><tr><td>&quot;ID&quot;</td><td>0</td><td>69713</td><td>&quot;APPC9049317122…</td><td>1</td><td>15</td><td>15</td><td>15.0</td><td>15.0</td><td>15</td><td>15</td><td>15.0</td><td>15.0</td></tr><tr><td>&quot;Gender&quot;</td><td>0</td><td>2</td><td>&quot;Male&quot;</td><td>39949</td><td>4</td><td>4</td><td>4.853901</td><td>4.853901</td><td>6</td><td>6</td><td>4.0</td><td>6.0</td></tr><tr><td>&quot;DOB&quot;</td><td>15</td><td>10760</td><td>&quot;11/01/82&quot;</td><td>253</td><td>8</td><td>8</td><td>8.0</td><td>8.0</td><td>8</td><td>8</td><td>8.0</td><td>8.0</td></tr><tr><td>&quot;Lead_Creation_…</td><td>0</td><td>92</td><td>&quot;02/09/16&quot;</td><td>1838</td><td>8</td><td>8</td><td>8.0</td><td>8.0</td><td>8</td><td>8</td><td>8.0</td><td>8.0</td></tr><tr><td>&quot;City_Code&quot;</td><td>814</td><td>679</td><td>&quot;C10001&quot;</td><td>10007</td><td>6</td><td>6</td><td>6.0</td><td>6.0</td><td>6</td><td>6</td><td>6.0</td><td>6.0</td></tr><tr><td>&hellip;</td><td>&hellip;</td><td>&hellip;</td><td>&hellip;</td><td>&hellip;</td><td>&hellip;</td><td>&hellip;</td><td>&hellip;</td><td>&hellip;</td><td>&hellip;</td><td>&hellip;</td><td>&hellip;</td><td>&hellip;</td></tr><tr><td>&quot;Customer_Exist…</td><td>9391</td><td>58</td><td>&quot;B001&quot;</td><td>14197</td><td>4</td><td>4</td><td>4.0</td><td>4.0</td><td>4</td><td>4</td><td>4.0</td><td>4.0</td></tr><tr><td>&quot;Primary_Bank_T…</td><td>9391</td><td>3</td><td>&quot;P&quot;</td><td>39619</td><td>1</td><td>1</td><td>1.0</td><td>1.0</td><td>1</td><td>1</td><td>1.0</td><td>1.0</td></tr><tr><td>&quot;Contacted&quot;</td><td>0</td><td>2</td><td>&quot;Y&quot;</td><td>45275</td><td>1</td><td>1</td><td>1.0</td><td>1.0</td><td>1</td><td>1</td><td>1.0</td><td>1.0</td></tr><tr><td>&quot;Source&quot;</td><td>0</td><td>29</td><td>&quot;S122&quot;</td><td>30941</td><td>4</td><td>4</td><td>4.0</td><td>4.0</td><td>4</td><td>4</td><td>4.0</td><td>4.0</td></tr><tr><td>&quot;Source_Categor…</td><td>0</td><td>7</td><td>&quot;B&quot;</td><td>29812</td><td>1</td><td>1</td><td>1.0</td><td>1.0</td><td>1</td><td>1</td><td>1.0</td><td>1.0</td></tr></tbody></table></div>"
      ],
      "text/plain": [
       "shape: (13, 13)\n",
       "┌───────────┬───────────┬──────────┬───────────┬───┬───────────┬───────────┬───────────┬───────────┐\n",
       "│ column    ┆ null_coun ┆ n_unique ┆ most_freq ┆ … ┆ max_byte_ ┆ max_char_ ┆ 5p_byte_l ┆ 95p_byte_ │\n",
       "│ ---       ┆ t         ┆ ---      ┆ ---       ┆   ┆ len       ┆ len       ┆ en        ┆ len       │\n",
       "│ str       ┆ ---       ┆ u32      ┆ str       ┆   ┆ ---       ┆ ---       ┆ ---       ┆ ---       │\n",
       "│           ┆ u32       ┆          ┆           ┆   ┆ u32       ┆ u32       ┆ f64       ┆ f64       │\n",
       "╞═══════════╪═══════════╪══════════╪═══════════╪═══╪═══════════╪═══════════╪═══════════╪═══════════╡\n",
       "│ ID        ┆ 0         ┆ 69713    ┆ APPC90493 ┆ … ┆ 15        ┆ 15        ┆ 15.0      ┆ 15.0      │\n",
       "│           ┆           ┆          ┆ 171225    ┆   ┆           ┆           ┆           ┆           │\n",
       "│ Gender    ┆ 0         ┆ 2        ┆ Male      ┆ … ┆ 6         ┆ 6         ┆ 4.0       ┆ 6.0       │\n",
       "│ DOB       ┆ 15        ┆ 10760    ┆ 11/01/82  ┆ … ┆ 8         ┆ 8         ┆ 8.0       ┆ 8.0       │\n",
       "│ Lead_Crea ┆ 0         ┆ 92       ┆ 02/09/16  ┆ … ┆ 8         ┆ 8         ┆ 8.0       ┆ 8.0       │\n",
       "│ tion_Date ┆           ┆          ┆           ┆   ┆           ┆           ┆           ┆           │\n",
       "│ City_Code ┆ 814       ┆ 679      ┆ C10001    ┆ … ┆ 6         ┆ 6         ┆ 6.0       ┆ 6.0       │\n",
       "│ …         ┆ …         ┆ …        ┆ …         ┆ … ┆ …         ┆ …         ┆ …         ┆ …         │\n",
       "│ Customer_ ┆ 9391      ┆ 58       ┆ B001      ┆ … ┆ 4         ┆ 4         ┆ 4.0       ┆ 4.0       │\n",
       "│ Existing_ ┆           ┆          ┆           ┆   ┆           ┆           ┆           ┆           │\n",
       "│ Primary_B ┆           ┆          ┆           ┆   ┆           ┆           ┆           ┆           │\n",
       "│ ank_C…    ┆           ┆          ┆           ┆   ┆           ┆           ┆           ┆           │\n",
       "│ Primary_B ┆ 9391      ┆ 3        ┆ P         ┆ … ┆ 1         ┆ 1         ┆ 1.0       ┆ 1.0       │\n",
       "│ ank_Type  ┆           ┆          ┆           ┆   ┆           ┆           ┆           ┆           │\n",
       "│ Contacted ┆ 0         ┆ 2        ┆ Y         ┆ … ┆ 1         ┆ 1         ┆ 1.0       ┆ 1.0       │\n",
       "│ Source    ┆ 0         ┆ 29       ┆ S122      ┆ … ┆ 4         ┆ 4         ┆ 4.0       ┆ 4.0       │\n",
       "│ Source_Ca ┆ 0         ┆ 7        ┆ B         ┆ … ┆ 1         ┆ 1         ┆ 1.0       ┆ 1.0       │\n",
       "│ tegory    ┆           ┆          ┆           ┆   ┆           ┆           ┆           ┆           │\n",
       "└───────────┴───────────┴──────────┴───────────┴───┴───────────┴───────────┴───────────┴───────────┘"
      ]
     },
     "execution_count": 14,
     "metadata": {},
     "output_type": "execute_result"
    }
   ],
   "source": [
    "dia.str_stats()"
   ]
  },
  {
   "cell_type": "code",
   "execution_count": 15,
   "metadata": {},
   "outputs": [
    {
     "data": {
      "text/html": [
       "<div id=\"dopzhbsdrl\" style=\"padding-left:0px;padding-right:0px;padding-top:10px;padding-bottom:10px;overflow-x:auto;overflow-y:auto;width:auto;height:auto;\">\n",
       "<style>\n",
       "#dopzhbsdrl table {\n",
       "          font-family: -apple-system, BlinkMacSystemFont, 'Segoe UI', Roboto, Oxygen, Ubuntu, Cantarell, 'Helvetica Neue', 'Fira Sans', 'Droid Sans', Arial, sans-serif;\n",
       "          -webkit-font-smoothing: antialiased;\n",
       "          -moz-osx-font-smoothing: grayscale;\n",
       "        }\n",
       "\n",
       "#dopzhbsdrl thead, tbody, tfoot, tr, td, th { border-style: none !important; }\n",
       " tr { background-color: transparent !important; }\n",
       "#dopzhbsdrl p { margin: 0 !important; padding: 0 !important; }\n",
       " #dopzhbsdrl .gt_table { display: table !important; border-collapse: collapse !important; line-height: normal !important; margin-left: auto !important; margin-right: auto !important; color: #333333 !important; font-size: 16px !important; font-weight: normal !important; font-style: normal !important; background-color: #FFFFFF !important; width: auto !important; border-top-style: solid !important; border-top-width: 2px !important; border-top-color: #A8A8A8 !important; border-right-style: none !important; border-right-width: 2px !important; border-right-color: #D3D3D3 !important; border-bottom-style: solid !important; border-bottom-width: 2px !important; border-bottom-color: #A8A8A8 !important; border-left-style: none !important; border-left-width: 2px !important; border-left-color: #D3D3D3 !important; }\n",
       " #dopzhbsdrl .gt_caption { padding-top: 4px !important; padding-bottom: 4px !important; }\n",
       " #dopzhbsdrl .gt_title { color: #333333 !important; font-size: 125% !important; font-weight: initial !important; padding-top: 4px !important; padding-bottom: 4px !important; padding-left: 5px !important; padding-right: 5px !important; border-bottom-color: #FFFFFF !important; border-bottom-width: 0 !important; }\n",
       " #dopzhbsdrl .gt_subtitle { color: #333333 !important; font-size: 85% !important; font-weight: initial !important; padding-top: 3px !important; padding-bottom: 5px !important; padding-left: 5px !important; padding-right: 5px !important; border-top-color: #FFFFFF !important; border-top-width: 0 !important; }\n",
       " #dopzhbsdrl .gt_heading { background-color: #FFFFFF !important; text-align: center !important; border-bottom-color: #FFFFFF !important; border-left-style: none !important; border-left-width: 1px !important; border-left-color: #D3D3D3 !important; border-right-style: none !important; border-right-width: 1px !important; border-right-color: #D3D3D3 !important; }\n",
       " #dopzhbsdrl .gt_bottom_border { border-bottom-style: solid !important; border-bottom-width: 2px !important; border-bottom-color: #D3D3D3 !important; }\n",
       " #dopzhbsdrl .gt_col_headings { border-top-style: solid !important; border-top-width: 2px !important; border-top-color: #D3D3D3 !important; border-bottom-style: solid !important; border-bottom-width: 2px !important; border-bottom-color: #D3D3D3 !important; border-left-style: none !important; border-left-width: 1px !important; border-left-color: #D3D3D3 !important; border-right-style: none !important; border-right-width: 1px !important; border-right-color: #D3D3D3 !important; }\n",
       " #dopzhbsdrl .gt_col_heading { color: #333333 !important; background-color: #FFFFFF !important; font-size: 100% !important; font-weight: normal !important; text-transform: inherit !important; border-left-style: none !important; border-left-width: 1px !important; border-left-color: #D3D3D3 !important; border-right-style: none !important; border-right-width: 1px !important; border-right-color: #D3D3D3 !important; vertical-align: bottom !important; padding-top: 5px !important; padding-bottom: 5px !important; padding-left: 5px !important; padding-right: 5px !important; overflow-x: hidden !important; }\n",
       " #dopzhbsdrl .gt_column_spanner_outer { color: #333333 !important; background-color: #FFFFFF !important; font-size: 100% !important; font-weight: normal !important; text-transform: inherit !important; padding-top: 0 !important; padding-bottom: 0 !important; padding-left: 4px !important; padding-right: 4px !important; }\n",
       " #dopzhbsdrl .gt_column_spanner_outer:first-child { padding-left: 0 !important; }\n",
       " #dopzhbsdrl .gt_column_spanner_outer:last-child { padding-right: 0 !important; }\n",
       " #dopzhbsdrl .gt_column_spanner { border-bottom-style: solid !important; border-bottom-width: 2px !important; border-bottom-color: #D3D3D3 !important; vertical-align: bottom !important; padding-top: 5px !important; padding-bottom: 5px !important; overflow-x: hidden !important; display: inline-block !important; width: 100% !important; }\n",
       " #dopzhbsdrl .gt_spanner_row { border-bottom-style: hidden !important; }\n",
       " #dopzhbsdrl .gt_group_heading { padding-top: 8px !important; padding-bottom: 8px !important; padding-left: 5px !important; padding-right: 5px !important; color: #333333 !important; background-color: #FFFFFF !important; font-size: 100% !important; font-weight: initial !important; text-transform: inherit !important; border-top-style: solid !important; border-top-width: 2px !important; border-top-color: #D3D3D3 !important; border-bottom-style: solid !important; border-bottom-width: 2px !important; border-bottom-color: #D3D3D3 !important; border-left-style: none !important; border-left-width: 1px !important; border-left-color: #D3D3D3 !important; border-right-style: none !important; border-right-width: 1px !important; border-right-color: #D3D3D3 !important; vertical-align: middle !important; text-align: left !important; }\n",
       " #dopzhbsdrl .gt_empty_group_heading { padding: 0.5px !important; color: #333333 !important; background-color: #FFFFFF !important; font-size: 100% !important; font-weight: initial !important; border-top-style: solid !important; border-top-width: 2px !important; border-top-color: #D3D3D3 !important; border-bottom-style: solid !important; border-bottom-width: 2px !important; border-bottom-color: #D3D3D3 !important; vertical-align: middle !important; }\n",
       " #dopzhbsdrl .gt_from_md> :first-child { margin-top: 0 !important; }\n",
       " #dopzhbsdrl .gt_from_md> :last-child { margin-bottom: 0 !important; }\n",
       " #dopzhbsdrl .gt_row { padding-top: 8px !important; padding-bottom: 8px !important; padding-left: 5px !important; padding-right: 5px !important; margin: 10px !important; border-top-style: solid !important; border-top-width: 1px !important; border-top-color: #D3D3D3 !important; border-left-style: none !important; border-left-width: 1px !important; border-left-color: #D3D3D3 !important; border-right-style: none !important; border-right-width: 1px !important; border-right-color: #D3D3D3 !important; vertical-align: middle !important; overflow-x: hidden !important; }\n",
       " #dopzhbsdrl .gt_stub { color: #333333 !important; background-color: #FFFFFF !important; font-size: 100% !important; font-weight: initial !important; text-transform: inherit !important; border-right-style: solid !important; border-right-width: 2px !important; border-right-color: #D3D3D3 !important; padding-left: 5px !important; padding-right: 5px !important; }\n",
       " #dopzhbsdrl .gt_stub_row_group { color: #333333 !important; background-color: #FFFFFF !important; font-size: 100% !important; font-weight: initial !important; text-transform: inherit !important; border-right-style: solid !important; border-right-width: 2px !important; border-right-color: #D3D3D3 !important; padding-left: 5px !important; padding-right: 5px !important; vertical-align: top !important; }\n",
       " #dopzhbsdrl .gt_row_group_first td { border-top-width: 2px !important; }\n",
       " #dopzhbsdrl .gt_row_group_first th { border-top-width: 2px !important; }\n",
       " #dopzhbsdrl .gt_table_body { border-top-style: solid !important; border-top-width: 2px !important; border-top-color: #D3D3D3 !important; border-bottom-style: solid !important; border-bottom-width: 2px !important; border-bottom-color: #D3D3D3 !important; }\n",
       " #dopzhbsdrl .gt_sourcenotes { color: #333333 !important; background-color: #FFFFFF !important; border-bottom-style: none !important; border-bottom-width: 2px !important; border-bottom-color: #D3D3D3 !important; border-left-style: none !important; border-left-width: 2px !important; border-left-color: #D3D3D3 !important; border-right-style: none !important; border-right-width: 2px !important; border-right-color: #D3D3D3 !important; }\n",
       " #dopzhbsdrl .gt_sourcenote { font-size: 90% !important; padding-top: 4px !important; padding-bottom: 4px !important; padding-left: 5px !important; padding-right: 5px !important; text-align: left !important; }\n",
       " #dopzhbsdrl .gt_left { text-align: left !important; }\n",
       " #dopzhbsdrl .gt_center { text-align: center !important; }\n",
       " #dopzhbsdrl .gt_right { text-align: right !important; font-variant-numeric: tabular-nums !important; }\n",
       " #dopzhbsdrl .gt_font_normal { font-weight: normal !important; }\n",
       " #dopzhbsdrl .gt_font_bold { font-weight: bold !important; }\n",
       " #dopzhbsdrl .gt_font_italic { font-style: italic !important; }\n",
       " #dopzhbsdrl .gt_super { font-size: 65% !important; }\n",
       " #dopzhbsdrl .gt_footnote_marks { font-size: 75% !important; vertical-align: 0.4em !important; position: initial !important; }\n",
       " #dopzhbsdrl .gt_asterisk { font-size: 100% !important; vertical-align: 0 !important; }\n",
       " \n",
       "</style>\n",
       "<table class=\"gt_table\" data-quarto-disable-processing=\"false\" data-quarto-bootstrap=\"false\">\n",
       "\n",
       "<tr class=\"gt_col_headings\">\n",
       "  <th class=\"gt_col_heading gt_columns_bottom_border gt_left\" rowspan=\"1\" colspan=\"1\" scope=\"col\" id=\"column\">column</th>\n",
       "  <th class=\"gt_col_heading gt_columns_bottom_border gt_center\" rowspan=\"1\" colspan=\"1\" scope=\"col\" id=\"non_null_cnt\">non_null_cnt</th>\n",
       "  <th class=\"gt_col_heading gt_columns_bottom_border gt_right\" rowspan=\"1\" colspan=\"1\" scope=\"col\" id=\"null%\">null%</th>\n",
       "  <th class=\"gt_col_heading gt_columns_bottom_border gt_right\" rowspan=\"1\" colspan=\"1\" scope=\"col\" id=\"mean\">mean</th>\n",
       "  <th class=\"gt_col_heading gt_columns_bottom_border gt_right\" rowspan=\"1\" colspan=\"1\" scope=\"col\" id=\"std\">std</th>\n",
       "  <th class=\"gt_col_heading gt_columns_bottom_border gt_right\" rowspan=\"1\" colspan=\"1\" scope=\"col\" id=\"min\">min</th>\n",
       "  <th class=\"gt_col_heading gt_columns_bottom_border gt_right\" rowspan=\"1\" colspan=\"1\" scope=\"col\" id=\"q1\">q1</th>\n",
       "  <th class=\"gt_col_heading gt_columns_bottom_border gt_right\" rowspan=\"1\" colspan=\"1\" scope=\"col\" id=\"median\">median</th>\n",
       "  <th class=\"gt_col_heading gt_columns_bottom_border gt_right\" rowspan=\"1\" colspan=\"1\" scope=\"col\" id=\"q3\">q3</th>\n",
       "  <th class=\"gt_col_heading gt_columns_bottom_border gt_right\" rowspan=\"1\" colspan=\"1\" scope=\"col\" id=\"max\">max</th>\n",
       "  <th class=\"gt_col_heading gt_columns_bottom_border gt_right\" rowspan=\"1\" colspan=\"1\" scope=\"col\" id=\"IQR\">IQR</th>\n",
       "  <th class=\"gt_col_heading gt_columns_bottom_border gt_center\" rowspan=\"1\" colspan=\"1\" scope=\"col\" id=\"outlier_cnt\">outlier_cnt</th>\n",
       "  <th class=\"gt_col_heading gt_columns_bottom_border gt_center\" rowspan=\"1\" colspan=\"1\" scope=\"col\" id=\"histogram\">histogram</th>\n",
       "</tr>\n",
       "<tbody class=\"gt_table_body\">\n",
       "<tr>\n",
       "  <th class=\"gt_row gt_left gt_stub\">Employer_Category2</th>\n",
       "  <td class=\"gt_row gt_center\">65415</td>\n",
       "  <td class=\"gt_row gt_right\">6.17%</td>\n",
       "  <td class=\"gt_row gt_right\">3.720</td>\n",
       "  <td class=\"gt_row gt_right\">0.807</td>\n",
       "  <td class=\"gt_row gt_right\">1.000</td>\n",
       "  <td class=\"gt_row gt_right\">4.000</td>\n",
       "  <td class=\"gt_row gt_right\">4.000</td>\n",
       "  <td class=\"gt_row gt_right\">4.000</td>\n",
       "  <td class=\"gt_row gt_right\">4.000</td>\n",
       "  <td class=\"gt_row gt_right\">0.000</td>\n",
       "  <td class=\"gt_row gt_center\">7833</td>\n",
       "  <td class=\"gt_row gt_center\"><div><svg role=\"img\" viewBox=\"0 0 350 130\" style=\"height: 2em; margin-left: auto; margin-right: auto; font-size: inherit; overflow: visible; vertical-align: middle; position:relative;\"><defs><pattern id=\"area_pattern\" width=\"8\" height=\"8\" patternUnits=\"userSpaceOnUse\"><path class=\"pattern-line\" d=\"M 0,8 l 8,-8 M -1,1 l 4,-4 M 6,10 l 4,-4\" stroke=\"#FF0000\" stroke-width=\"1.5\" stroke-linecap=\"round\" shape-rendering=\"geometricPrecision\"></path></pattern></defs><style> text { font-family: ui-monospace, 'Cascadia Code', 'Source Code Pro', Menlo, Consolas, 'DejaVu Sans Mono', monospace; stroke-width: 0.15em; paint-order: stroke; stroke-linejoin: round; cursor: default; } .vert-line:hover rect { fill: #911EB4; fill-opacity: 40%; stroke: #FFFFFF60; color: red; } .vert-line:hover text { stroke: white; fill: #212427; } .horizontal-line:hover text {stroke: white; fill: #212427; } .ref-line:hover rect { stroke: #FFFFFF60; } .ref-line:hover line { stroke: #FF0000; } .ref-line:hover text { stroke: white; fill: #212427; } .y-axis-line:hover rect { fill: #EDEDED; fill-opacity: 60%; stroke: #FFFFFF60; color: red; } .y-axis-line:hover text { stroke: white; stroke-width: 0.20em; fill: #1A1C1F; } </style><line x1=\"22.5\" y1=\"115.0\" x2=\"327.5\" y2=\"115.0\" stroke=\"#BFBFBF\" stroke-width=\"4\"></line><rect x=\"30.0\" y=\"107.5358619012886\" width=\"40\" height=\"7.464138098711402\" stroke=\"#3290CC\" stroke-width=\"4\" fill=\"#3FB5FF\"></rect><rect x=\"92.5\" y=\"107.60532805390574\" width=\"40\" height=\"7.394671946094263\" stroke=\"#3290CC\" stroke-width=\"4\" fill=\"#3FB5FF\"></rect><rect x=\"155.0\" y=\"111.60484179083741\" width=\"40\" height=\"3.395158209162588\" stroke=\"#3290CC\" stroke-width=\"4\" fill=\"#3FB5FF\"></rect><rect x=\"217.5\" y=\"112.18662081900594\" width=\"40\" height=\"2.813379180994062\" stroke=\"#3290CC\" stroke-width=\"4\" fill=\"#3FB5FF\"></rect><rect x=\"280.0\" y=\"15.0\" width=\"40\" height=\"100.0\" stroke=\"#3290CC\" stroke-width=\"4\" fill=\"#3FB5FF\"></rect><g class=\"y-axis-line\"><rect x=\"0\" y=\"0\" width=\"65\" height=\"130\" stroke=\"transparent\" stroke-width=\"0\" fill=\"transparent\"></rect><text x=\"0\" y=\"19.0\" fill=\"transparent\" stroke=\"transparent\" font-size=\"25\">57.6K</text><text x=\"0\" y=\"126.0\" fill=\"transparent\" stroke=\"transparent\" font-size=\"25\">0</text></g><g class=\"vert-line\"><rect x=\"40.0\" y=\"0\" width=\"20\" height=\"130\" stroke=\"transparent\" stroke-width=\"12\" fill=\"transparent\"></rect><text x=\"60.0\" y=\"20\" fill=\"transparent\" stroke=\"transparent\" font-size=\"30px\">4.30K</text></g><g class=\"vert-line\"><rect x=\"102.5\" y=\"0\" width=\"20\" height=\"130\" stroke=\"transparent\" stroke-width=\"12\" fill=\"transparent\"></rect><text x=\"122.5\" y=\"20\" fill=\"transparent\" stroke=\"transparent\" font-size=\"30px\">4.26K</text></g><g class=\"vert-line\"><rect x=\"165.0\" y=\"0\" width=\"20\" height=\"130\" stroke=\"transparent\" stroke-width=\"12\" fill=\"transparent\"></rect><text x=\"185.0\" y=\"20\" fill=\"transparent\" stroke=\"transparent\" font-size=\"30px\">1.96K</text></g><g class=\"vert-line\"><rect x=\"227.5\" y=\"0\" width=\"20\" height=\"130\" stroke=\"transparent\" stroke-width=\"12\" fill=\"transparent\"></rect><text x=\"247.5\" y=\"20\" fill=\"transparent\" stroke=\"transparent\" font-size=\"30px\">1.62K</text></g><g class=\"vert-line\"><rect x=\"290.0\" y=\"0\" width=\"20\" height=\"130\" stroke=\"transparent\" stroke-width=\"12\" fill=\"transparent\"></rect><text x=\"310.0\" y=\"20\" fill=\"transparent\" stroke=\"transparent\" font-size=\"30px\">57.6K</text></g></svg></div></td>\n",
       "</tr>\n",
       "<tr>\n",
       "  <th class=\"gt_row gt_left gt_stub\">Monthly_Income</th>\n",
       "  <td class=\"gt_row gt_center\">69713</td>\n",
       "  <td class=\"gt_row gt_right\">0.00%</td>\n",
       "  <td class=\"gt_row gt_right\">5,622.283</td>\n",
       "  <td class=\"gt_row gt_right\">174,767.062</td>\n",
       "  <td class=\"gt_row gt_right\">0.000</td>\n",
       "  <td class=\"gt_row gt_right\">1,650.000</td>\n",
       "  <td class=\"gt_row gt_right\">2,500.000</td>\n",
       "  <td class=\"gt_row gt_right\">4,000.000</td>\n",
       "  <td class=\"gt_row gt_right\">38,383,838.300</td>\n",
       "  <td class=\"gt_row gt_right\">2,350.000</td>\n",
       "  <td class=\"gt_row gt_center\">3920</td>\n",
       "  <td class=\"gt_row gt_center\"><div><svg role=\"img\" viewBox=\"0 0 400 130\" style=\"height: 2em; margin-left: auto; margin-right: auto; font-size: inherit; overflow: visible; vertical-align: middle; position:relative;\"><defs><pattern id=\"area_pattern\" width=\"8\" height=\"8\" patternUnits=\"userSpaceOnUse\"><path class=\"pattern-line\" d=\"M 0,8 l 8,-8 M -1,1 l 4,-4 M 6,10 l 4,-4\" stroke=\"#FF0000\" stroke-width=\"1.5\" stroke-linecap=\"round\" shape-rendering=\"geometricPrecision\"></path></pattern></defs><style> text { font-family: ui-monospace, 'Cascadia Code', 'Source Code Pro', Menlo, Consolas, 'DejaVu Sans Mono', monospace; stroke-width: 0.15em; paint-order: stroke; stroke-linejoin: round; cursor: default; } .vert-line:hover rect { fill: #911EB4; fill-opacity: 40%; stroke: #FFFFFF60; color: red; } .vert-line:hover text { stroke: white; fill: #212427; } .horizontal-line:hover text {stroke: white; fill: #212427; } .ref-line:hover rect { stroke: #FFFFFF60; } .ref-line:hover line { stroke: #FF0000; } .ref-line:hover text { stroke: white; fill: #212427; } .y-axis-line:hover rect { fill: #EDEDED; fill-opacity: 60%; stroke: #FFFFFF60; color: red; } .y-axis-line:hover text { stroke: white; stroke-width: 0.20em; fill: #1A1C1F; } </style><line x1=\"22.5\" y1=\"115.0\" x2=\"377.5\" y2=\"115.0\" stroke=\"#BFBFBF\" stroke-width=\"4\"></line><rect x=\"30.0\" y=\"15.0\" width=\"40\" height=\"100.0\" stroke=\"#3290CC\" stroke-width=\"4\" fill=\"#3FB5FF\"></rect><rect x=\"90.0\" y=\"114.99282629592963\" width=\"40\" height=\"0.007173704070368103\" stroke=\"#3290CC\" stroke-width=\"4\" fill=\"#3FB5FF\"></rect><rect x=\"150.0\" y=\"114.99569577755778\" width=\"40\" height=\"0.004304222442215178\" stroke=\"#3290CC\" stroke-width=\"4\" fill=\"#3FB5FF\"></rect><rect x=\"210.00000000000003\" y=\"114.99426103674371\" width=\"40\" height=\"0.00573896325629164\" stroke=\"#3290CC\" stroke-width=\"4\" fill=\"#3FB5FF\"></rect><rect x=\"270.0\" y=\"114.99856525918592\" width=\"40\" height=\"0.0014347408140764628\" stroke=\"#3290CC\" stroke-width=\"4\" fill=\"#3FB5FF\"></rect><rect x=\"330.0\" y=\"114.99856525918592\" width=\"40\" height=\"0.0014347408140764628\" stroke=\"#3290CC\" stroke-width=\"4\" fill=\"#3FB5FF\"></rect><g class=\"y-axis-line\"><rect x=\"0\" y=\"0\" width=\"65\" height=\"130\" stroke=\"transparent\" stroke-width=\"0\" fill=\"transparent\"></rect><text x=\"0\" y=\"19.0\" fill=\"transparent\" stroke=\"transparent\" font-size=\"25\">69.7K</text><text x=\"0\" y=\"126.0\" fill=\"transparent\" stroke=\"transparent\" font-size=\"25\">0</text></g><g class=\"vert-line\"><rect x=\"40.0\" y=\"0\" width=\"20\" height=\"130\" stroke=\"transparent\" stroke-width=\"12\" fill=\"transparent\"></rect><text x=\"60.0\" y=\"20\" fill=\"transparent\" stroke=\"transparent\" font-size=\"30px\">69.7K</text></g><g class=\"vert-line\"><rect x=\"100.0\" y=\"0\" width=\"20\" height=\"130\" stroke=\"transparent\" stroke-width=\"12\" fill=\"transparent\"></rect><text x=\"120.0\" y=\"20\" fill=\"transparent\" stroke=\"transparent\" font-size=\"30px\">5</text></g><g class=\"vert-line\"><rect x=\"160.0\" y=\"0\" width=\"20\" height=\"130\" stroke=\"transparent\" stroke-width=\"12\" fill=\"transparent\"></rect><text x=\"180.0\" y=\"20\" fill=\"transparent\" stroke=\"transparent\" font-size=\"30px\">3</text></g><g class=\"vert-line\"><rect x=\"220.00000000000003\" y=\"0\" width=\"20\" height=\"130\" stroke=\"transparent\" stroke-width=\"12\" fill=\"transparent\"></rect><text x=\"240.00000000000003\" y=\"20\" fill=\"transparent\" stroke=\"transparent\" font-size=\"30px\">4</text></g><g class=\"vert-line\"><rect x=\"280.0\" y=\"0\" width=\"20\" height=\"130\" stroke=\"transparent\" stroke-width=\"12\" fill=\"transparent\"></rect><text x=\"300.0\" y=\"20\" fill=\"transparent\" stroke=\"transparent\" font-size=\"30px\">1</text></g><g class=\"vert-line\"><rect x=\"340.0\" y=\"0\" width=\"20\" height=\"130\" stroke=\"transparent\" stroke-width=\"12\" fill=\"transparent\"></rect><text x=\"360.0\" y=\"20\" fill=\"transparent\" stroke=\"transparent\" font-size=\"30px\">1</text></g></svg></div></td>\n",
       "</tr>\n",
       "<tr>\n",
       "  <th class=\"gt_row gt_left gt_stub\">Existing_EMI</th>\n",
       "  <td class=\"gt_row gt_center\">69662</td>\n",
       "  <td class=\"gt_row gt_right\">0.07%</td>\n",
       "  <td class=\"gt_row gt_right\">360.929</td>\n",
       "  <td class=\"gt_row gt_right\">2,288.518</td>\n",
       "  <td class=\"gt_row gt_right\">0.000</td>\n",
       "  <td class=\"gt_row gt_right\">0.000</td>\n",
       "  <td class=\"gt_row gt_right\">0.000</td>\n",
       "  <td class=\"gt_row gt_right\">350.000</td>\n",
       "  <td class=\"gt_row gt_right\">545,436.500</td>\n",
       "  <td class=\"gt_row gt_right\">350.000</td>\n",
       "  <td class=\"gt_row gt_center\">6549</td>\n",
       "  <td class=\"gt_row gt_center\"><div><svg role=\"img\" viewBox=\"0 0 300 130\" style=\"height: 2em; margin-left: auto; margin-right: auto; font-size: inherit; overflow: visible; vertical-align: middle; position:relative;\"><defs><pattern id=\"area_pattern\" width=\"8\" height=\"8\" patternUnits=\"userSpaceOnUse\"><path class=\"pattern-line\" d=\"M 0,8 l 8,-8 M -1,1 l 4,-4 M 6,10 l 4,-4\" stroke=\"#FF0000\" stroke-width=\"1.5\" stroke-linecap=\"round\" shape-rendering=\"geometricPrecision\"></path></pattern></defs><style> text { font-family: ui-monospace, 'Cascadia Code', 'Source Code Pro', Menlo, Consolas, 'DejaVu Sans Mono', monospace; stroke-width: 0.15em; paint-order: stroke; stroke-linejoin: round; cursor: default; } .vert-line:hover rect { fill: #911EB4; fill-opacity: 40%; stroke: #FFFFFF60; color: red; } .vert-line:hover text { stroke: white; fill: #212427; } .horizontal-line:hover text {stroke: white; fill: #212427; } .ref-line:hover rect { stroke: #FFFFFF60; } .ref-line:hover line { stroke: #FF0000; } .ref-line:hover text { stroke: white; fill: #212427; } .y-axis-line:hover rect { fill: #EDEDED; fill-opacity: 60%; stroke: #FFFFFF60; color: red; } .y-axis-line:hover text { stroke: white; stroke-width: 0.20em; fill: #1A1C1F; } </style><line x1=\"22.5\" y1=\"115.0\" x2=\"277.5\" y2=\"115.0\" stroke=\"#BFBFBF\" stroke-width=\"4\"></line><rect x=\"30.0\" y=\"15.0\" width=\"40\" height=\"100.0\" stroke=\"#3290CC\" stroke-width=\"4\" fill=\"#3FB5FF\"></rect><rect x=\"96.66666666666666\" y=\"114.99282176441031\" width=\"40\" height=\"0.00717823558969144\" stroke=\"#3290CC\" stroke-width=\"4\" fill=\"#3FB5FF\"></rect><rect x=\"163.33333333333331\" y=\"114.99856435288206\" width=\"40\" height=\"0.0014356471179439723\" stroke=\"#3290CC\" stroke-width=\"4\" fill=\"#3FB5FF\"></rect><rect x=\"230.0\" y=\"114.99856435288206\" width=\"40\" height=\"0.0014356471179439723\" stroke=\"#3290CC\" stroke-width=\"4\" fill=\"#3FB5FF\"></rect><g class=\"y-axis-line\"><rect x=\"0\" y=\"0\" width=\"65\" height=\"130\" stroke=\"transparent\" stroke-width=\"0\" fill=\"transparent\"></rect><text x=\"0\" y=\"19.0\" fill=\"transparent\" stroke=\"transparent\" font-size=\"25\">69.7K</text><text x=\"0\" y=\"126.0\" fill=\"transparent\" stroke=\"transparent\" font-size=\"25\">0</text></g><g class=\"vert-line\"><rect x=\"40.0\" y=\"0\" width=\"20\" height=\"130\" stroke=\"transparent\" stroke-width=\"12\" fill=\"transparent\"></rect><text x=\"60.0\" y=\"20\" fill=\"transparent\" stroke=\"transparent\" font-size=\"30px\">69.7K</text></g><g class=\"vert-line\"><rect x=\"106.66666666666666\" y=\"0\" width=\"20\" height=\"130\" stroke=\"transparent\" stroke-width=\"12\" fill=\"transparent\"></rect><text x=\"126.66666666666666\" y=\"20\" fill=\"transparent\" stroke=\"transparent\" font-size=\"30px\">5</text></g><g class=\"vert-line\"><rect x=\"173.33333333333331\" y=\"0\" width=\"20\" height=\"130\" stroke=\"transparent\" stroke-width=\"12\" fill=\"transparent\"></rect><text x=\"193.33333333333331\" y=\"20\" fill=\"transparent\" stroke=\"transparent\" font-size=\"30px\">1</text></g><g class=\"vert-line\"><rect x=\"240.0\" y=\"0\" width=\"20\" height=\"130\" stroke=\"transparent\" stroke-width=\"12\" fill=\"transparent\"></rect><text x=\"260.0\" y=\"20\" fill=\"transparent\" stroke=\"transparent\" font-size=\"30px\">1</text></g></svg></div></td>\n",
       "</tr>\n",
       "<tr>\n",
       "  <th class=\"gt_row gt_left gt_stub\">Loan_Amount</th>\n",
       "  <td class=\"gt_row gt_center\">42004</td>\n",
       "  <td class=\"gt_row gt_right\">39.75%</td>\n",
       "  <td class=\"gt_row gt_right\">39,429.983</td>\n",
       "  <td class=\"gt_row gt_right\">30,727.596</td>\n",
       "  <td class=\"gt_row gt_right\">5,000.000</td>\n",
       "  <td class=\"gt_row gt_right\">20,000.000</td>\n",
       "  <td class=\"gt_row gt_right\">30,000.000</td>\n",
       "  <td class=\"gt_row gt_right\">50,000.000</td>\n",
       "  <td class=\"gt_row gt_right\">300,000.000</td>\n",
       "  <td class=\"gt_row gt_right\">30,000.000</td>\n",
       "  <td class=\"gt_row gt_center\">1547</td>\n",
       "  <td class=\"gt_row gt_center\"><div><svg role=\"img\" viewBox=\"0 0 1100 130\" style=\"height: 2em; margin-left: auto; margin-right: auto; font-size: inherit; overflow: visible; vertical-align: middle; position:relative;\"><defs><pattern id=\"area_pattern\" width=\"8\" height=\"8\" patternUnits=\"userSpaceOnUse\"><path class=\"pattern-line\" d=\"M 0,8 l 8,-8 M -1,1 l 4,-4 M 6,10 l 4,-4\" stroke=\"#FF0000\" stroke-width=\"1.5\" stroke-linecap=\"round\" shape-rendering=\"geometricPrecision\"></path></pattern></defs><style> text { font-family: ui-monospace, 'Cascadia Code', 'Source Code Pro', Menlo, Consolas, 'DejaVu Sans Mono', monospace; stroke-width: 0.15em; paint-order: stroke; stroke-linejoin: round; cursor: default; } .vert-line:hover rect { fill: #911EB4; fill-opacity: 40%; stroke: #FFFFFF60; color: red; } .vert-line:hover text { stroke: white; fill: #212427; } .horizontal-line:hover text {stroke: white; fill: #212427; } .ref-line:hover rect { stroke: #FFFFFF60; } .ref-line:hover line { stroke: #FF0000; } .ref-line:hover text { stroke: white; fill: #212427; } .y-axis-line:hover rect { fill: #EDEDED; fill-opacity: 60%; stroke: #FFFFFF60; color: red; } .y-axis-line:hover text { stroke: white; stroke-width: 0.20em; fill: #1A1C1F; } </style><line x1=\"22.5\" y1=\"115.0\" x2=\"1077.5\" y2=\"115.0\" stroke=\"#BFBFBF\" stroke-width=\"4\"></line><rect x=\"30.0\" y=\"15.0\" width=\"40\" height=\"100.0\" stroke=\"#3290CC\" stroke-width=\"4\" fill=\"#3FB5FF\"></rect><rect x=\"82.63157894736841\" y=\"83.79714172290592\" width=\"40\" height=\"31.20285827709408\" stroke=\"#3290CC\" stroke-width=\"4\" fill=\"#3FB5FF\"></rect><rect x=\"135.26315789473682\" y=\"60.79739434840665\" width=\"40\" height=\"54.20260565159335\" stroke=\"#3290CC\" stroke-width=\"4\" fill=\"#3FB5FF\"></rect><rect x=\"187.89473684210526\" y=\"91.83063264643258\" width=\"40\" height=\"23.169367353567424\" stroke=\"#3290CC\" stroke-width=\"4\" fill=\"#3FB5FF\"></rect><rect x=\"240.52631578947364\" y=\"93.41134649391894\" width=\"40\" height=\"21.58865350608106\" stroke=\"#3290CC\" stroke-width=\"4\" fill=\"#3FB5FF\"></rect><rect x=\"293.1578947368421\" y=\"109.18961348298387\" width=\"40\" height=\"5.810386517016127\" stroke=\"#3290CC\" stroke-width=\"4\" fill=\"#3FB5FF\"></rect><rect x=\"345.7894736842105\" y=\"111.27918726767476\" width=\"40\" height=\"3.7208127323252427\" stroke=\"#3290CC\" stroke-width=\"4\" fill=\"#3FB5FF\"></rect><rect x=\"398.4210526315789\" y=\"108.80706629614927\" width=\"40\" height=\"6.192933703850727\" stroke=\"#3290CC\" stroke-width=\"4\" fill=\"#3FB5FF\"></rect><rect x=\"451.05263157894734\" y=\"112.87794579378541\" width=\"40\" height=\"2.1220542062145853\" stroke=\"#3290CC\" stroke-width=\"4\" fill=\"#3FB5FF\"></rect><rect x=\"503.68421052631584\" y=\"114.44061496264752\" width=\"40\" height=\"0.5593850373524845\" stroke=\"#3290CC\" stroke-width=\"4\" fill=\"#3FB5FF\"></rect><rect x=\"556.3157894736842\" y=\"112.73719730051607\" width=\"40\" height=\"2.2628026994839274\" stroke=\"#3290CC\" stroke-width=\"4\" fill=\"#3FB5FF\"></rect><rect x=\"608.9473684210526\" y=\"114.90616767115378\" width=\"40\" height=\"0.09383232884621862\" stroke=\"#3290CC\" stroke-width=\"4\" fill=\"#3FB5FF\"></rect><rect x=\"661.578947368421\" y=\"114.78707279223357\" width=\"40\" height=\"0.21292720776642682\" stroke=\"#3290CC\" stroke-width=\"4\" fill=\"#3FB5FF\"></rect><rect x=\"714.2105263157894\" y=\"114.97112851420115\" width=\"40\" height=\"0.028871485798845242\" stroke=\"#3290CC\" stroke-width=\"4\" fill=\"#3FB5FF\"></rect><rect x=\"766.8421052631578\" y=\"114.79429066368328\" width=\"40\" height=\"0.2057093363167155\" stroke=\"#3290CC\" stroke-width=\"4\" fill=\"#3FB5FF\"></rect><rect x=\"819.4736842105264\" y=\"114.99278212855029\" width=\"40\" height=\"0.0072178714497113106\" stroke=\"#3290CC\" stroke-width=\"4\" fill=\"#3FB5FF\"></rect><rect x=\"872.1052631578947\" y=\"114.9675195784763\" width=\"40\" height=\"0.0324804215237009\" stroke=\"#3290CC\" stroke-width=\"4\" fill=\"#3FB5FF\"></rect><rect x=\"924.736842105263\" y=\"114.84481576383125\" width=\"40\" height=\"0.15518423616875054\" stroke=\"#3290CC\" stroke-width=\"4\" fill=\"#3FB5FF\"></rect><rect x=\"977.3684210526316\" y=\"114.99278212855029\" width=\"40\" height=\"0.0072178714497113106\" stroke=\"#3290CC\" stroke-width=\"4\" fill=\"#3FB5FF\"></rect><rect x=\"1030.0\" y=\"114.98556425710058\" width=\"40\" height=\"0.014435742899422621\" stroke=\"#3290CC\" stroke-width=\"4\" fill=\"#3FB5FF\"></rect><g class=\"y-axis-line\"><rect x=\"0\" y=\"0\" width=\"65\" height=\"130\" stroke=\"transparent\" stroke-width=\"0\" fill=\"transparent\"></rect><text x=\"0\" y=\"19.0\" fill=\"transparent\" stroke=\"transparent\" font-size=\"25\">27.7K</text><text x=\"0\" y=\"126.0\" fill=\"transparent\" stroke=\"transparent\" font-size=\"25\">0</text></g><g class=\"vert-line\"><rect x=\"40.0\" y=\"0\" width=\"20\" height=\"130\" stroke=\"transparent\" stroke-width=\"12\" fill=\"transparent\"></rect><text x=\"60.0\" y=\"20\" fill=\"transparent\" stroke=\"transparent\" font-size=\"30px\">27.7K</text></g><g class=\"vert-line\"><rect x=\"92.63157894736841\" y=\"0\" width=\"20\" height=\"130\" stroke=\"transparent\" stroke-width=\"12\" fill=\"transparent\"></rect><text x=\"112.63157894736841\" y=\"20\" fill=\"transparent\" stroke=\"transparent\" font-size=\"30px\">8.65K</text></g><g class=\"vert-line\"><rect x=\"145.26315789473682\" y=\"0\" width=\"20\" height=\"130\" stroke=\"transparent\" stroke-width=\"12\" fill=\"transparent\"></rect><text x=\"165.26315789473682\" y=\"20\" fill=\"transparent\" stroke=\"transparent\" font-size=\"30px\">15.0K</text></g><g class=\"vert-line\"><rect x=\"197.89473684210526\" y=\"0\" width=\"20\" height=\"130\" stroke=\"transparent\" stroke-width=\"12\" fill=\"transparent\"></rect><text x=\"217.89473684210526\" y=\"20\" fill=\"transparent\" stroke=\"transparent\" font-size=\"30px\">6.42K</text></g><g class=\"vert-line\"><rect x=\"250.52631578947364\" y=\"0\" width=\"20\" height=\"130\" stroke=\"transparent\" stroke-width=\"12\" fill=\"transparent\"></rect><text x=\"270.52631578947364\" y=\"20\" fill=\"transparent\" stroke=\"transparent\" font-size=\"30px\">5.98K</text></g><g class=\"vert-line\"><rect x=\"303.1578947368421\" y=\"0\" width=\"20\" height=\"130\" stroke=\"transparent\" stroke-width=\"12\" fill=\"transparent\"></rect><text x=\"323.1578947368421\" y=\"20\" fill=\"transparent\" stroke=\"transparent\" font-size=\"30px\">1.61K</text></g><g class=\"vert-line\"><rect x=\"355.7894736842105\" y=\"0\" width=\"20\" height=\"130\" stroke=\"transparent\" stroke-width=\"12\" fill=\"transparent\"></rect><text x=\"375.7894736842105\" y=\"20\" fill=\"transparent\" stroke=\"transparent\" font-size=\"30px\">1.03K</text></g><g class=\"vert-line\"><rect x=\"408.4210526315789\" y=\"0\" width=\"20\" height=\"130\" stroke=\"transparent\" stroke-width=\"12\" fill=\"transparent\"></rect><text x=\"428.4210526315789\" y=\"20\" fill=\"transparent\" stroke=\"transparent\" font-size=\"30px\">1.72K</text></g><g class=\"vert-line\"><rect x=\"461.05263157894734\" y=\"0\" width=\"20\" height=\"130\" stroke=\"transparent\" stroke-width=\"12\" fill=\"transparent\"></rect><text x=\"481.05263157894734\" y=\"20\" fill=\"transparent\" stroke=\"transparent\" font-size=\"30px\">588</text></g><g class=\"vert-line\"><rect x=\"513.6842105263158\" y=\"0\" width=\"20\" height=\"130\" stroke=\"transparent\" stroke-width=\"12\" fill=\"transparent\"></rect><text x=\"533.6842105263158\" y=\"20\" fill=\"transparent\" stroke=\"transparent\" font-size=\"30px\">155</text></g><g class=\"vert-line\"><rect x=\"566.3157894736842\" y=\"0\" width=\"20\" height=\"130\" stroke=\"transparent\" stroke-width=\"12\" fill=\"transparent\"></rect><text x=\"586.3157894736842\" y=\"20\" fill=\"transparent\" stroke=\"transparent\" font-size=\"30px\">627</text></g><g class=\"vert-line\"><rect x=\"618.9473684210526\" y=\"0\" width=\"20\" height=\"130\" stroke=\"transparent\" stroke-width=\"12\" fill=\"transparent\"></rect><text x=\"638.9473684210526\" y=\"20\" fill=\"transparent\" stroke=\"transparent\" font-size=\"30px\">26</text></g><g class=\"vert-line\"><rect x=\"671.578947368421\" y=\"0\" width=\"20\" height=\"130\" stroke=\"transparent\" stroke-width=\"12\" fill=\"transparent\"></rect><text x=\"691.578947368421\" y=\"20\" fill=\"transparent\" stroke=\"transparent\" font-size=\"30px\">59</text></g><g class=\"vert-line\"><rect x=\"724.2105263157894\" y=\"0\" width=\"20\" height=\"130\" stroke=\"transparent\" stroke-width=\"12\" fill=\"transparent\"></rect><text x=\"744.2105263157894\" y=\"20\" fill=\"transparent\" stroke=\"transparent\" font-size=\"30px\">8</text></g><g class=\"vert-line\"><rect x=\"776.8421052631578\" y=\"0\" width=\"20\" height=\"130\" stroke=\"transparent\" stroke-width=\"12\" fill=\"transparent\"></rect><text x=\"796.8421052631578\" y=\"20\" fill=\"transparent\" stroke=\"transparent\" font-size=\"30px\">57</text></g><g class=\"vert-line\"><rect x=\"829.4736842105264\" y=\"0\" width=\"20\" height=\"130\" stroke=\"transparent\" stroke-width=\"12\" fill=\"transparent\"></rect><text x=\"849.4736842105264\" y=\"20\" fill=\"transparent\" stroke=\"transparent\" font-size=\"30px\">2</text></g><g class=\"vert-line\"><rect x=\"882.1052631578947\" y=\"0\" width=\"20\" height=\"130\" stroke=\"transparent\" stroke-width=\"12\" fill=\"transparent\"></rect><text x=\"902.1052631578947\" y=\"20\" fill=\"transparent\" stroke=\"transparent\" font-size=\"30px\">9</text></g><g class=\"vert-line\"><rect x=\"934.736842105263\" y=\"0\" width=\"20\" height=\"130\" stroke=\"transparent\" stroke-width=\"12\" fill=\"transparent\"></rect><text x=\"954.736842105263\" y=\"20\" fill=\"transparent\" stroke=\"transparent\" font-size=\"30px\">43</text></g><g class=\"vert-line\"><rect x=\"987.3684210526316\" y=\"0\" width=\"20\" height=\"130\" stroke=\"transparent\" stroke-width=\"12\" fill=\"transparent\"></rect><text x=\"1007.3684210526316\" y=\"20\" fill=\"transparent\" stroke=\"transparent\" font-size=\"30px\">2</text></g><g class=\"vert-line\"><rect x=\"1040.0\" y=\"0\" width=\"20\" height=\"130\" stroke=\"transparent\" stroke-width=\"12\" fill=\"transparent\"></rect><text x=\"1060.0\" y=\"20\" fill=\"transparent\" stroke=\"transparent\" font-size=\"30px\">4</text></g></svg></div></td>\n",
       "</tr>\n",
       "<tr>\n",
       "  <th class=\"gt_row gt_left gt_stub\">Loan_Period</th>\n",
       "  <td class=\"gt_row gt_center\">42004</td>\n",
       "  <td class=\"gt_row gt_right\">39.75%</td>\n",
       "  <td class=\"gt_row gt_right\">3.891</td>\n",
       "  <td class=\"gt_row gt_right\">1.167</td>\n",
       "  <td class=\"gt_row gt_right\">1.000</td>\n",
       "  <td class=\"gt_row gt_right\">3.000</td>\n",
       "  <td class=\"gt_row gt_right\">4.000</td>\n",
       "  <td class=\"gt_row gt_right\">5.000</td>\n",
       "  <td class=\"gt_row gt_right\">6.000</td>\n",
       "  <td class=\"gt_row gt_right\">2.000</td>\n",
       "  <td class=\"gt_row gt_center\">0</td>\n",
       "  <td class=\"gt_row gt_center\"><div><svg role=\"img\" viewBox=\"0 0 450 130\" style=\"height: 2em; margin-left: auto; margin-right: auto; font-size: inherit; overflow: visible; vertical-align: middle; position:relative;\"><defs><pattern id=\"area_pattern\" width=\"8\" height=\"8\" patternUnits=\"userSpaceOnUse\"><path class=\"pattern-line\" d=\"M 0,8 l 8,-8 M -1,1 l 4,-4 M 6,10 l 4,-4\" stroke=\"#FF0000\" stroke-width=\"1.5\" stroke-linecap=\"round\" shape-rendering=\"geometricPrecision\"></path></pattern></defs><style> text { font-family: ui-monospace, 'Cascadia Code', 'Source Code Pro', Menlo, Consolas, 'DejaVu Sans Mono', monospace; stroke-width: 0.15em; paint-order: stroke; stroke-linejoin: round; cursor: default; } .vert-line:hover rect { fill: #911EB4; fill-opacity: 40%; stroke: #FFFFFF60; color: red; } .vert-line:hover text { stroke: white; fill: #212427; } .horizontal-line:hover text {stroke: white; fill: #212427; } .ref-line:hover rect { stroke: #FFFFFF60; } .ref-line:hover line { stroke: #FF0000; } .ref-line:hover text { stroke: white; fill: #212427; } .y-axis-line:hover rect { fill: #EDEDED; fill-opacity: 60%; stroke: #FFFFFF60; color: red; } .y-axis-line:hover text { stroke: white; stroke-width: 0.20em; fill: #1A1C1F; } </style><line x1=\"22.5\" y1=\"115.0\" x2=\"427.5\" y2=\"115.0\" stroke=\"#BFBFBF\" stroke-width=\"4\"></line><rect x=\"30.0\" y=\"15.0\" width=\"40\" height=\"100.0\" stroke=\"#3290CC\" stroke-width=\"4\" fill=\"#3FB5FF\"></rect><rect x=\"88.33333333333333\" y=\"108.19354722292395\" width=\"40\" height=\"6.806452777076046\" stroke=\"#3290CC\" stroke-width=\"4\" fill=\"#3FB5FF\"></rect><rect x=\"146.66666666666666\" y=\"99.60428019776968\" width=\"40\" height=\"15.395719802230317\" stroke=\"#3290CC\" stroke-width=\"4\" fill=\"#3FB5FF\"></rect><rect x=\"205.0\" y=\"89.52452271825038\" width=\"40\" height=\"25.47547728174962\" stroke=\"#3290CC\" stroke-width=\"4\" fill=\"#3FB5FF\"></rect><rect x=\"263.3333333333333\" y=\"71.1911292359883\" width=\"40\" height=\"43.8088707640117\" stroke=\"#3290CC\" stroke-width=\"4\" fill=\"#3FB5FF\"></rect><rect x=\"321.66666666666663\" y=\"54.900393373994014\" width=\"40\" height=\"60.099606626005986\" stroke=\"#3290CC\" stroke-width=\"4\" fill=\"#3FB5FF\"></rect><rect x=\"380.0\" y=\"114.99639106427514\" width=\"40\" height=\"0.0036089357248556553\" stroke=\"#3290CC\" stroke-width=\"4\" fill=\"#3FB5FF\"></rect><g class=\"y-axis-line\"><rect x=\"0\" y=\"0\" width=\"65\" height=\"130\" stroke=\"transparent\" stroke-width=\"0\" fill=\"transparent\"></rect><text x=\"0\" y=\"19.0\" fill=\"transparent\" stroke=\"transparent\" font-size=\"25\">27.7K</text><text x=\"0\" y=\"126.0\" fill=\"transparent\" stroke=\"transparent\" font-size=\"25\">0</text></g><g class=\"vert-line\"><rect x=\"40.0\" y=\"0\" width=\"20\" height=\"130\" stroke=\"transparent\" stroke-width=\"12\" fill=\"transparent\"></rect><text x=\"60.0\" y=\"20\" fill=\"transparent\" stroke=\"transparent\" font-size=\"30px\">27.7K</text></g><g class=\"vert-line\"><rect x=\"98.33333333333333\" y=\"0\" width=\"20\" height=\"130\" stroke=\"transparent\" stroke-width=\"12\" fill=\"transparent\"></rect><text x=\"118.33333333333333\" y=\"20\" fill=\"transparent\" stroke=\"transparent\" font-size=\"30px\">1.89K</text></g><g class=\"vert-line\"><rect x=\"156.66666666666666\" y=\"0\" width=\"20\" height=\"130\" stroke=\"transparent\" stroke-width=\"12\" fill=\"transparent\"></rect><text x=\"176.66666666666666\" y=\"20\" fill=\"transparent\" stroke=\"transparent\" font-size=\"30px\">4.27K</text></g><g class=\"vert-line\"><rect x=\"215.0\" y=\"0\" width=\"20\" height=\"130\" stroke=\"transparent\" stroke-width=\"12\" fill=\"transparent\"></rect><text x=\"235.0\" y=\"20\" fill=\"transparent\" stroke=\"transparent\" font-size=\"30px\">7.06K</text></g><g class=\"vert-line\"><rect x=\"273.3333333333333\" y=\"0\" width=\"20\" height=\"130\" stroke=\"transparent\" stroke-width=\"12\" fill=\"transparent\"></rect><text x=\"293.3333333333333\" y=\"20\" fill=\"transparent\" stroke=\"transparent\" font-size=\"30px\">12.1K</text></g><g class=\"vert-line\"><rect x=\"331.66666666666663\" y=\"0\" width=\"20\" height=\"130\" stroke=\"transparent\" stroke-width=\"12\" fill=\"transparent\"></rect><text x=\"351.66666666666663\" y=\"20\" fill=\"transparent\" stroke=\"transparent\" font-size=\"30px\">16.7K</text></g><g class=\"vert-line\"><rect x=\"390.0\" y=\"0\" width=\"20\" height=\"130\" stroke=\"transparent\" stroke-width=\"12\" fill=\"transparent\"></rect><text x=\"410.0\" y=\"20\" fill=\"transparent\" stroke=\"transparent\" font-size=\"30px\">1</text></g></svg></div></td>\n",
       "</tr>\n",
       "<tr>\n",
       "  <th class=\"gt_row gt_left gt_stub\">Interest_Rate</th>\n",
       "  <td class=\"gt_row gt_center\">22276</td>\n",
       "  <td class=\"gt_row gt_right\">68.05%</td>\n",
       "  <td class=\"gt_row gt_right\">19.214</td>\n",
       "  <td class=\"gt_row gt_right\">5.847</td>\n",
       "  <td class=\"gt_row gt_right\">11.990</td>\n",
       "  <td class=\"gt_row gt_right\">15.250</td>\n",
       "  <td class=\"gt_row gt_right\">18.000</td>\n",
       "  <td class=\"gt_row gt_right\">20.000</td>\n",
       "  <td class=\"gt_row gt_right\">37.000</td>\n",
       "  <td class=\"gt_row gt_right\">4.750</td>\n",
       "  <td class=\"gt_row gt_center\">2378</td>\n",
       "  <td class=\"gt_row gt_center\"><div><svg role=\"img\" viewBox=\"0 0 1050 130\" style=\"height: 2em; margin-left: auto; margin-right: auto; font-size: inherit; overflow: visible; vertical-align: middle; position:relative;\"><defs><pattern id=\"area_pattern\" width=\"8\" height=\"8\" patternUnits=\"userSpaceOnUse\"><path class=\"pattern-line\" d=\"M 0,8 l 8,-8 M -1,1 l 4,-4 M 6,10 l 4,-4\" stroke=\"#FF0000\" stroke-width=\"1.5\" stroke-linecap=\"round\" shape-rendering=\"geometricPrecision\"></path></pattern></defs><style> text { font-family: ui-monospace, 'Cascadia Code', 'Source Code Pro', Menlo, Consolas, 'DejaVu Sans Mono', monospace; stroke-width: 0.15em; paint-order: stroke; stroke-linejoin: round; cursor: default; } .vert-line:hover rect { fill: #911EB4; fill-opacity: 40%; stroke: #FFFFFF60; color: red; } .vert-line:hover text { stroke: white; fill: #212427; } .horizontal-line:hover text {stroke: white; fill: #212427; } .ref-line:hover rect { stroke: #FFFFFF60; } .ref-line:hover line { stroke: #FF0000; } .ref-line:hover text { stroke: white; fill: #212427; } .y-axis-line:hover rect { fill: #EDEDED; fill-opacity: 60%; stroke: #FFFFFF60; color: red; } .y-axis-line:hover text { stroke: white; stroke-width: 0.20em; fill: #1A1C1F; } </style><line x1=\"22.5\" y1=\"115.0\" x2=\"1027.5\" y2=\"115.0\" stroke=\"#BFBFBF\" stroke-width=\"4\"></line><rect x=\"30.0\" y=\"97.59072117593018\" width=\"40\" height=\"17.409278824069816\" stroke=\"#3290CC\" stroke-width=\"4\" fill=\"#3FB5FF\"></rect><rect x=\"82.77777777777777\" y=\"51.79375287092329\" width=\"40\" height=\"63.20624712907671\" stroke=\"#3290CC\" stroke-width=\"4\" fill=\"#3FB5FF\"></rect><rect x=\"135.55555555555554\" y=\"15.0\" width=\"40\" height=\"100.0\" stroke=\"#3290CC\" stroke-width=\"4\" fill=\"#3FB5FF\"></rect><rect x=\"188.33333333333331\" y=\"58.98254478640331\" width=\"40\" height=\"56.01745521359669\" stroke=\"#3290CC\" stroke-width=\"4\" fill=\"#3FB5FF\"></rect><rect x=\"241.1111111111111\" y=\"81.92696371152962\" width=\"40\" height=\"33.07303628847038\" stroke=\"#3290CC\" stroke-width=\"4\" fill=\"#3FB5FF\"></rect><rect x=\"293.8888888888889\" y=\"58.84474046853468\" width=\"40\" height=\"56.15525953146532\" stroke=\"#3290CC\" stroke-width=\"4\" fill=\"#3FB5FF\"></rect><rect x=\"346.66666666666663\" y=\"23.819476343592104\" width=\"40\" height=\"91.1805236564079\" stroke=\"#3290CC\" stroke-width=\"4\" fill=\"#3FB5FF\"></rect><rect x=\"399.4444444444444\" y=\"114.65548920532842\" width=\"40\" height=\"0.34451079467157797\" stroke=\"#3290CC\" stroke-width=\"4\" fill=\"#3FB5FF\"></rect><rect x=\"452.2222222222222\" y=\"113.43821773082223\" width=\"40\" height=\"1.561782269177769\" stroke=\"#3290CC\" stroke-width=\"4\" fill=\"#3FB5FF\"></rect><rect x=\"505.0\" y=\"101.54111162149746\" width=\"40\" height=\"13.458888378502536\" stroke=\"#3290CC\" stroke-width=\"4\" fill=\"#3FB5FF\"></rect><rect x=\"557.7777777777778\" y=\"113.69085898024805\" width=\"40\" height=\"1.309141019751948\" stroke=\"#3290CC\" stroke-width=\"4\" fill=\"#3FB5FF\"></rect><rect x=\"610.5555555555555\" y=\"114.72439136426274\" width=\"40\" height=\"0.2756086357372567\" stroke=\"#3290CC\" stroke-width=\"4\" fill=\"#3FB5FF\"></rect><rect x=\"663.3333333333333\" y=\"110.77400091869546\" width=\"40\" height=\"4.225999081304536\" stroke=\"#3290CC\" stroke-width=\"4\" fill=\"#3FB5FF\"></rect><rect x=\"716.1111111111111\" y=\"96.69499310978411\" width=\"40\" height=\"18.305006890215893\" stroke=\"#3290CC\" stroke-width=\"4\" fill=\"#3FB5FF\"></rect><rect x=\"768.8888888888888\" y=\"114.26504363803399\" width=\"40\" height=\"0.7349563619660131\" stroke=\"#3290CC\" stroke-width=\"4\" fill=\"#3FB5FF\"></rect><rect x=\"821.6666666666666\" y=\"82.15663757464401\" width=\"40\" height=\"32.84336242535599\" stroke=\"#3290CC\" stroke-width=\"4\" fill=\"#3FB5FF\"></rect><rect x=\"874.4444444444443\" y=\"108.33945796968305\" width=\"40\" height=\"6.660542030316947\" stroke=\"#3290CC\" stroke-width=\"4\" fill=\"#3FB5FF\"></rect><rect x=\"927.2222222222222\" y=\"105.65227377124484\" width=\"40\" height=\"9.347726228755164\" stroke=\"#3290CC\" stroke-width=\"4\" fill=\"#3FB5FF\"></rect><rect x=\"980.0\" y=\"109.48782728525494\" width=\"40\" height=\"5.512172714745063\" stroke=\"#3290CC\" stroke-width=\"4\" fill=\"#3FB5FF\"></rect><g class=\"y-axis-line\"><rect x=\"0\" y=\"0\" width=\"65\" height=\"130\" stroke=\"transparent\" stroke-width=\"0\" fill=\"transparent\"></rect><text x=\"0\" y=\"19.0\" fill=\"transparent\" stroke=\"transparent\" font-size=\"25\">4.35K</text><text x=\"0\" y=\"126.0\" fill=\"transparent\" stroke=\"transparent\" font-size=\"25\">0</text></g><g class=\"vert-line\"><rect x=\"40.0\" y=\"0\" width=\"20\" height=\"130\" stroke=\"transparent\" stroke-width=\"12\" fill=\"transparent\"></rect><text x=\"60.0\" y=\"20\" fill=\"transparent\" stroke=\"transparent\" font-size=\"30px\">758</text></g><g class=\"vert-line\"><rect x=\"92.77777777777777\" y=\"0\" width=\"20\" height=\"130\" stroke=\"transparent\" stroke-width=\"12\" fill=\"transparent\"></rect><text x=\"112.77777777777777\" y=\"20\" fill=\"transparent\" stroke=\"transparent\" font-size=\"30px\">2.75K</text></g><g class=\"vert-line\"><rect x=\"145.55555555555554\" y=\"0\" width=\"20\" height=\"130\" stroke=\"transparent\" stroke-width=\"12\" fill=\"transparent\"></rect><text x=\"165.55555555555554\" y=\"20\" fill=\"transparent\" stroke=\"transparent\" font-size=\"30px\">4.35K</text></g><g class=\"vert-line\"><rect x=\"198.33333333333331\" y=\"0\" width=\"20\" height=\"130\" stroke=\"transparent\" stroke-width=\"12\" fill=\"transparent\"></rect><text x=\"218.33333333333331\" y=\"20\" fill=\"transparent\" stroke=\"transparent\" font-size=\"30px\">2.44K</text></g><g class=\"vert-line\"><rect x=\"251.1111111111111\" y=\"0\" width=\"20\" height=\"130\" stroke=\"transparent\" stroke-width=\"12\" fill=\"transparent\"></rect><text x=\"271.1111111111111\" y=\"20\" fill=\"transparent\" stroke=\"transparent\" font-size=\"30px\">1.44K</text></g><g class=\"vert-line\"><rect x=\"303.8888888888889\" y=\"0\" width=\"20\" height=\"130\" stroke=\"transparent\" stroke-width=\"12\" fill=\"transparent\"></rect><text x=\"323.8888888888889\" y=\"20\" fill=\"transparent\" stroke=\"transparent\" font-size=\"30px\">2.44K</text></g><g class=\"vert-line\"><rect x=\"356.66666666666663\" y=\"0\" width=\"20\" height=\"130\" stroke=\"transparent\" stroke-width=\"12\" fill=\"transparent\"></rect><text x=\"376.66666666666663\" y=\"20\" fill=\"transparent\" stroke=\"transparent\" font-size=\"30px\">3.97K</text></g><g class=\"vert-line\"><rect x=\"409.4444444444444\" y=\"0\" width=\"20\" height=\"130\" stroke=\"transparent\" stroke-width=\"12\" fill=\"transparent\"></rect><text x=\"429.4444444444444\" y=\"20\" fill=\"transparent\" stroke=\"transparent\" font-size=\"30px\">15</text></g><g class=\"vert-line\"><rect x=\"462.2222222222222\" y=\"0\" width=\"20\" height=\"130\" stroke=\"transparent\" stroke-width=\"12\" fill=\"transparent\"></rect><text x=\"482.2222222222222\" y=\"20\" fill=\"transparent\" stroke=\"transparent\" font-size=\"30px\">68</text></g><g class=\"vert-line\"><rect x=\"515.0\" y=\"0\" width=\"20\" height=\"130\" stroke=\"transparent\" stroke-width=\"12\" fill=\"transparent\"></rect><text x=\"535.0\" y=\"20\" fill=\"transparent\" stroke=\"transparent\" font-size=\"30px\">586</text></g><g class=\"vert-line\"><rect x=\"567.7777777777778\" y=\"0\" width=\"20\" height=\"130\" stroke=\"transparent\" stroke-width=\"12\" fill=\"transparent\"></rect><text x=\"587.7777777777778\" y=\"20\" fill=\"transparent\" stroke=\"transparent\" font-size=\"30px\">57</text></g><g class=\"vert-line\"><rect x=\"620.5555555555555\" y=\"0\" width=\"20\" height=\"130\" stroke=\"transparent\" stroke-width=\"12\" fill=\"transparent\"></rect><text x=\"640.5555555555555\" y=\"20\" fill=\"transparent\" stroke=\"transparent\" font-size=\"30px\">12</text></g><g class=\"vert-line\"><rect x=\"673.3333333333333\" y=\"0\" width=\"20\" height=\"130\" stroke=\"transparent\" stroke-width=\"12\" fill=\"transparent\"></rect><text x=\"693.3333333333333\" y=\"20\" fill=\"transparent\" stroke=\"transparent\" font-size=\"30px\">184</text></g><g class=\"vert-line\"><rect x=\"726.1111111111111\" y=\"0\" width=\"20\" height=\"130\" stroke=\"transparent\" stroke-width=\"12\" fill=\"transparent\"></rect><text x=\"746.1111111111111\" y=\"20\" fill=\"transparent\" stroke=\"transparent\" font-size=\"30px\">797</text></g><g class=\"vert-line\"><rect x=\"778.8888888888888\" y=\"0\" width=\"20\" height=\"130\" stroke=\"transparent\" stroke-width=\"12\" fill=\"transparent\"></rect><text x=\"798.8888888888888\" y=\"20\" fill=\"transparent\" stroke=\"transparent\" font-size=\"30px\">32</text></g><g class=\"vert-line\"><rect x=\"831.6666666666666\" y=\"0\" width=\"20\" height=\"130\" stroke=\"transparent\" stroke-width=\"12\" fill=\"transparent\"></rect><text x=\"851.6666666666666\" y=\"20\" fill=\"transparent\" stroke=\"transparent\" font-size=\"30px\">1.43K</text></g><g class=\"vert-line\"><rect x=\"884.4444444444443\" y=\"0\" width=\"20\" height=\"130\" stroke=\"transparent\" stroke-width=\"12\" fill=\"transparent\"></rect><text x=\"904.4444444444443\" y=\"20\" fill=\"transparent\" stroke=\"transparent\" font-size=\"30px\">290</text></g><g class=\"vert-line\"><rect x=\"937.2222222222222\" y=\"0\" width=\"20\" height=\"130\" stroke=\"transparent\" stroke-width=\"12\" fill=\"transparent\"></rect><text x=\"957.2222222222222\" y=\"20\" fill=\"transparent\" stroke=\"transparent\" font-size=\"30px\">407</text></g><g class=\"vert-line\"><rect x=\"990.0\" y=\"0\" width=\"20\" height=\"130\" stroke=\"transparent\" stroke-width=\"12\" fill=\"transparent\"></rect><text x=\"1010.0\" y=\"20\" fill=\"transparent\" stroke=\"transparent\" font-size=\"30px\">240</text></g></svg></div></td>\n",
       "</tr>\n",
       "<tr>\n",
       "  <th class=\"gt_row gt_left gt_stub\">EMI</th>\n",
       "  <td class=\"gt_row gt_center\">22276</td>\n",
       "  <td class=\"gt_row gt_right\">68.05%</td>\n",
       "  <td class=\"gt_row gt_right\">1,101.466</td>\n",
       "  <td class=\"gt_row gt_right\">752.661</td>\n",
       "  <td class=\"gt_row gt_right\">118.000</td>\n",
       "  <td class=\"gt_row gt_right\">649.000</td>\n",
       "  <td class=\"gt_row gt_right\">941.000</td>\n",
       "  <td class=\"gt_row gt_right\">1,295.000</td>\n",
       "  <td class=\"gt_row gt_right\">13,556.000</td>\n",
       "  <td class=\"gt_row gt_right\">646.000</td>\n",
       "  <td class=\"gt_row gt_center\">1081</td>\n",
       "  <td class=\"gt_row gt_center\"><div><svg role=\"img\" viewBox=\"0 0 850 130\" style=\"height: 2em; margin-left: auto; margin-right: auto; font-size: inherit; overflow: visible; vertical-align: middle; position:relative;\"><defs><pattern id=\"area_pattern\" width=\"8\" height=\"8\" patternUnits=\"userSpaceOnUse\"><path class=\"pattern-line\" d=\"M 0,8 l 8,-8 M -1,1 l 4,-4 M 6,10 l 4,-4\" stroke=\"#FF0000\" stroke-width=\"1.5\" stroke-linecap=\"round\" shape-rendering=\"geometricPrecision\"></path></pattern></defs><style> text { font-family: ui-monospace, 'Cascadia Code', 'Source Code Pro', Menlo, Consolas, 'DejaVu Sans Mono', monospace; stroke-width: 0.15em; paint-order: stroke; stroke-linejoin: round; cursor: default; } .vert-line:hover rect { fill: #911EB4; fill-opacity: 40%; stroke: #FFFFFF60; color: red; } .vert-line:hover text { stroke: white; fill: #212427; } .horizontal-line:hover text {stroke: white; fill: #212427; } .ref-line:hover rect { stroke: #FFFFFF60; } .ref-line:hover line { stroke: #FF0000; } .ref-line:hover text { stroke: white; fill: #212427; } .y-axis-line:hover rect { fill: #EDEDED; fill-opacity: 60%; stroke: #FFFFFF60; color: red; } .y-axis-line:hover text { stroke: white; stroke-width: 0.20em; fill: #1A1C1F; } </style><line x1=\"22.5\" y1=\"115.0\" x2=\"827.5\" y2=\"115.0\" stroke=\"#BFBFBF\" stroke-width=\"4\"></line><rect x=\"30.0\" y=\"15.0\" width=\"40\" height=\"100.0\" stroke=\"#3290CC\" stroke-width=\"4\" fill=\"#3FB5FF\"></rect><rect x=\"83.57142857142857\" y=\"97.75818453949448\" width=\"40\" height=\"17.24181546050552\" stroke=\"#3290CC\" stroke-width=\"4\" fill=\"#3FB5FF\"></rect><rect x=\"137.14285714285714\" y=\"94.15340346143306\" width=\"40\" height=\"20.846596538566942\" stroke=\"#3290CC\" stroke-width=\"4\" fill=\"#3FB5FF\"></rect><rect x=\"190.7142857142857\" y=\"109.91957754495436\" width=\"40\" height=\"5.080422455045635\" stroke=\"#3290CC\" stroke-width=\"4\" fill=\"#3FB5FF\"></rect><rect x=\"244.28571428571428\" y=\"112.93621013133207\" width=\"40\" height=\"2.063789868667925\" stroke=\"#3290CC\" stroke-width=\"4\" fill=\"#3FB5FF\"></rect><rect x=\"297.85714285714283\" y=\"114.22001812930834\" width=\"40\" height=\"0.7799818706916568\" stroke=\"#3290CC\" stroke-width=\"4\" fill=\"#3FB5FF\"></rect><rect x=\"351.4285714285714\" y=\"114.44558045407594\" width=\"40\" height=\"0.5544195459240626\" stroke=\"#3290CC\" stroke-width=\"4\" fill=\"#3FB5FF\"></rect><rect x=\"405.0\" y=\"114.77654573434239\" width=\"40\" height=\"0.22345426565760818\" stroke=\"#3290CC\" stroke-width=\"4\" fill=\"#3FB5FF\"></rect><rect x=\"458.57142857142856\" y=\"114.90302928094104\" width=\"40\" height=\"0.09697071905895882\" stroke=\"#3290CC\" stroke-width=\"4\" fill=\"#3FB5FF\"></rect><rect x=\"512.1428571428571\" y=\"114.96416299513038\" width=\"40\" height=\"0.03583700486962016\" stroke=\"#3290CC\" stroke-width=\"4\" fill=\"#3FB5FF\"></rect><rect x=\"565.7142857142857\" y=\"114.97470329068027\" width=\"40\" height=\"0.025296709319732713\" stroke=\"#3290CC\" stroke-width=\"4\" fill=\"#3FB5FF\"></rect><rect x=\"619.2857142857142\" y=\"114.99789194089003\" width=\"40\" height=\"0.002108059109971805\" stroke=\"#3290CC\" stroke-width=\"4\" fill=\"#3FB5FF\"></rect><rect x=\"672.8571428571428\" y=\"114.99789194089003\" width=\"40\" height=\"0.002108059109971805\" stroke=\"#3290CC\" stroke-width=\"4\" fill=\"#3FB5FF\"></rect><rect x=\"726.4285714285713\" y=\"114.99789194089003\" width=\"40\" height=\"0.002108059109971805\" stroke=\"#3290CC\" stroke-width=\"4\" fill=\"#3FB5FF\"></rect><rect x=\"780.0\" y=\"114.99578388178004\" width=\"40\" height=\"0.004216118219957821\" stroke=\"#3290CC\" stroke-width=\"4\" fill=\"#3FB5FF\"></rect><g class=\"y-axis-line\"><rect x=\"0\" y=\"0\" width=\"65\" height=\"130\" stroke=\"transparent\" stroke-width=\"0\" fill=\"transparent\"></rect><text x=\"0\" y=\"19.0\" fill=\"transparent\" stroke=\"transparent\" font-size=\"25\">47.4K</text><text x=\"0\" y=\"126.0\" fill=\"transparent\" stroke=\"transparent\" font-size=\"25\">0</text></g><g class=\"vert-line\"><rect x=\"40.0\" y=\"0\" width=\"20\" height=\"130\" stroke=\"transparent\" stroke-width=\"12\" fill=\"transparent\"></rect><text x=\"60.0\" y=\"20\" fill=\"transparent\" stroke=\"transparent\" font-size=\"30px\">47.4K</text></g><g class=\"vert-line\"><rect x=\"93.57142857142857\" y=\"0\" width=\"20\" height=\"130\" stroke=\"transparent\" stroke-width=\"12\" fill=\"transparent\"></rect><text x=\"113.57142857142857\" y=\"20\" fill=\"transparent\" stroke=\"transparent\" font-size=\"30px\">8.18K</text></g><g class=\"vert-line\"><rect x=\"147.14285714285714\" y=\"0\" width=\"20\" height=\"130\" stroke=\"transparent\" stroke-width=\"12\" fill=\"transparent\"></rect><text x=\"167.14285714285714\" y=\"20\" fill=\"transparent\" stroke=\"transparent\" font-size=\"30px\">9.89K</text></g><g class=\"vert-line\"><rect x=\"200.7142857142857\" y=\"0\" width=\"20\" height=\"130\" stroke=\"transparent\" stroke-width=\"12\" fill=\"transparent\"></rect><text x=\"220.7142857142857\" y=\"20\" fill=\"transparent\" stroke=\"transparent\" font-size=\"30px\">2.41K</text></g><g class=\"vert-line\"><rect x=\"254.28571428571428\" y=\"0\" width=\"20\" height=\"130\" stroke=\"transparent\" stroke-width=\"12\" fill=\"transparent\"></rect><text x=\"274.2857142857143\" y=\"20\" fill=\"transparent\" stroke=\"transparent\" font-size=\"30px\">979</text></g><g class=\"vert-line\"><rect x=\"307.85714285714283\" y=\"0\" width=\"20\" height=\"130\" stroke=\"transparent\" stroke-width=\"12\" fill=\"transparent\"></rect><text x=\"327.85714285714283\" y=\"20\" fill=\"transparent\" stroke=\"transparent\" font-size=\"30px\">370</text></g><g class=\"vert-line\"><rect x=\"361.4285714285714\" y=\"0\" width=\"20\" height=\"130\" stroke=\"transparent\" stroke-width=\"12\" fill=\"transparent\"></rect><text x=\"381.4285714285714\" y=\"20\" fill=\"transparent\" stroke=\"transparent\" font-size=\"30px\">263</text></g><g class=\"vert-line\"><rect x=\"415.0\" y=\"0\" width=\"20\" height=\"130\" stroke=\"transparent\" stroke-width=\"12\" fill=\"transparent\"></rect><text x=\"435.0\" y=\"20\" fill=\"transparent\" stroke=\"transparent\" font-size=\"30px\">106</text></g><g class=\"vert-line\"><rect x=\"468.57142857142856\" y=\"0\" width=\"20\" height=\"130\" stroke=\"transparent\" stroke-width=\"12\" fill=\"transparent\"></rect><text x=\"488.57142857142856\" y=\"20\" fill=\"transparent\" stroke=\"transparent\" font-size=\"30px\">46</text></g><g class=\"vert-line\"><rect x=\"522.1428571428571\" y=\"0\" width=\"20\" height=\"130\" stroke=\"transparent\" stroke-width=\"12\" fill=\"transparent\"></rect><text x=\"542.1428571428571\" y=\"20\" fill=\"transparent\" stroke=\"transparent\" font-size=\"30px\">17</text></g><g class=\"vert-line\"><rect x=\"575.7142857142857\" y=\"0\" width=\"20\" height=\"130\" stroke=\"transparent\" stroke-width=\"12\" fill=\"transparent\"></rect><text x=\"595.7142857142857\" y=\"20\" fill=\"transparent\" stroke=\"transparent\" font-size=\"30px\">12</text></g><g class=\"vert-line\"><rect x=\"629.2857142857142\" y=\"0\" width=\"20\" height=\"130\" stroke=\"transparent\" stroke-width=\"12\" fill=\"transparent\"></rect><text x=\"649.2857142857142\" y=\"20\" fill=\"transparent\" stroke=\"transparent\" font-size=\"30px\">1</text></g><g class=\"vert-line\"><rect x=\"682.8571428571428\" y=\"0\" width=\"20\" height=\"130\" stroke=\"transparent\" stroke-width=\"12\" fill=\"transparent\"></rect><text x=\"702.8571428571428\" y=\"20\" fill=\"transparent\" stroke=\"transparent\" font-size=\"30px\">1</text></g><g class=\"vert-line\"><rect x=\"736.4285714285713\" y=\"0\" width=\"20\" height=\"130\" stroke=\"transparent\" stroke-width=\"12\" fill=\"transparent\"></rect><text x=\"756.4285714285713\" y=\"20\" fill=\"transparent\" stroke=\"transparent\" font-size=\"30px\">1</text></g><g class=\"vert-line\"><rect x=\"790.0\" y=\"0\" width=\"20\" height=\"130\" stroke=\"transparent\" stroke-width=\"12\" fill=\"transparent\"></rect><text x=\"810.0\" y=\"20\" fill=\"transparent\" stroke=\"transparent\" font-size=\"30px\">2</text></g></svg></div></td>\n",
       "</tr>\n",
       "<tr>\n",
       "  <th class=\"gt_row gt_left gt_stub\">Var1</th>\n",
       "  <td class=\"gt_row gt_center\">69713</td>\n",
       "  <td class=\"gt_row gt_right\">0.00%</td>\n",
       "  <td class=\"gt_row gt_right\">3.948</td>\n",
       "  <td class=\"gt_row gt_right\">3.819</td>\n",
       "  <td class=\"gt_row gt_right\">0.000</td>\n",
       "  <td class=\"gt_row gt_right\">0.000</td>\n",
       "  <td class=\"gt_row gt_right\">2.000</td>\n",
       "  <td class=\"gt_row gt_right\">7.000</td>\n",
       "  <td class=\"gt_row gt_right\">10.000</td>\n",
       "  <td class=\"gt_row gt_right\">7.000</td>\n",
       "  <td class=\"gt_row gt_center\">0</td>\n",
       "  <td class=\"gt_row gt_center\"><div><svg role=\"img\" viewBox=\"0 0 350 130\" style=\"height: 2em; margin-left: auto; margin-right: auto; font-size: inherit; overflow: visible; vertical-align: middle; position:relative;\"><defs><pattern id=\"area_pattern\" width=\"8\" height=\"8\" patternUnits=\"userSpaceOnUse\"><path class=\"pattern-line\" d=\"M 0,8 l 8,-8 M -1,1 l 4,-4 M 6,10 l 4,-4\" stroke=\"#FF0000\" stroke-width=\"1.5\" stroke-linecap=\"round\" shape-rendering=\"geometricPrecision\"></path></pattern></defs><style> text { font-family: ui-monospace, 'Cascadia Code', 'Source Code Pro', Menlo, Consolas, 'DejaVu Sans Mono', monospace; stroke-width: 0.15em; paint-order: stroke; stroke-linejoin: round; cursor: default; } .vert-line:hover rect { fill: #911EB4; fill-opacity: 40%; stroke: #FFFFFF60; color: red; } .vert-line:hover text { stroke: white; fill: #212427; } .horizontal-line:hover text {stroke: white; fill: #212427; } .ref-line:hover rect { stroke: #FFFFFF60; } .ref-line:hover line { stroke: #FF0000; } .ref-line:hover text { stroke: white; fill: #212427; } .y-axis-line:hover rect { fill: #EDEDED; fill-opacity: 60%; stroke: #FFFFFF60; color: red; } .y-axis-line:hover text { stroke: white; stroke-width: 0.20em; fill: #1A1C1F; } </style><line x1=\"22.5\" y1=\"115.0\" x2=\"327.5\" y2=\"115.0\" stroke=\"#BFBFBF\" stroke-width=\"4\"></line><rect x=\"30.0\" y=\"15.0\" width=\"40\" height=\"100.0\" stroke=\"#3290CC\" stroke-width=\"4\" fill=\"#3FB5FF\"></rect><rect x=\"92.5\" y=\"57.66775356100909\" width=\"40\" height=\"57.33224643899091\" stroke=\"#3290CC\" stroke-width=\"4\" fill=\"#3FB5FF\"></rect><rect x=\"155.0\" y=\"82.07568216921229\" width=\"40\" height=\"32.924317830787714\" stroke=\"#3290CC\" stroke-width=\"4\" fill=\"#3FB5FF\"></rect><rect x=\"217.5\" y=\"63.73863051312854\" width=\"40\" height=\"51.26136948687146\" stroke=\"#3290CC\" stroke-width=\"4\" fill=\"#3FB5FF\"></rect><rect x=\"280.0\" y=\"57.423202333962585\" width=\"40\" height=\"57.576797666037415\" stroke=\"#3290CC\" stroke-width=\"4\" fill=\"#3FB5FF\"></rect><g class=\"y-axis-line\"><rect x=\"0\" y=\"0\" width=\"65\" height=\"130\" stroke=\"transparent\" stroke-width=\"0\" fill=\"transparent\"></rect><text x=\"0\" y=\"19.0\" fill=\"transparent\" stroke=\"transparent\" font-size=\"25\">23.3K</text><text x=\"0\" y=\"126.0\" fill=\"transparent\" stroke=\"transparent\" font-size=\"25\">0</text></g><g class=\"vert-line\"><rect x=\"40.0\" y=\"0\" width=\"20\" height=\"130\" stroke=\"transparent\" stroke-width=\"12\" fill=\"transparent\"></rect><text x=\"60.0\" y=\"20\" fill=\"transparent\" stroke=\"transparent\" font-size=\"30px\">23.3K</text></g><g class=\"vert-line\"><rect x=\"102.5\" y=\"0\" width=\"20\" height=\"130\" stroke=\"transparent\" stroke-width=\"12\" fill=\"transparent\"></rect><text x=\"122.5\" y=\"20\" fill=\"transparent\" stroke=\"transparent\" font-size=\"30px\">13.4K</text></g><g class=\"vert-line\"><rect x=\"165.0\" y=\"0\" width=\"20\" height=\"130\" stroke=\"transparent\" stroke-width=\"12\" fill=\"transparent\"></rect><text x=\"185.0\" y=\"20\" fill=\"transparent\" stroke=\"transparent\" font-size=\"30px\">7.67K</text></g><g class=\"vert-line\"><rect x=\"227.5\" y=\"0\" width=\"20\" height=\"130\" stroke=\"transparent\" stroke-width=\"12\" fill=\"transparent\"></rect><text x=\"247.5\" y=\"20\" fill=\"transparent\" stroke=\"transparent\" font-size=\"30px\">11.9K</text></g><g class=\"vert-line\"><rect x=\"290.0\" y=\"0\" width=\"20\" height=\"130\" stroke=\"transparent\" stroke-width=\"12\" fill=\"transparent\"></rect><text x=\"310.0\" y=\"20\" fill=\"transparent\" stroke=\"transparent\" font-size=\"30px\">13.4K</text></g></svg></div></td>\n",
       "</tr>\n",
       "<tr>\n",
       "  <th class=\"gt_row gt_left gt_stub\">Approved</th>\n",
       "  <td class=\"gt_row gt_center\">69713</td>\n",
       "  <td class=\"gt_row gt_right\">0.00%</td>\n",
       "  <td class=\"gt_row gt_right\">0.015</td>\n",
       "  <td class=\"gt_row gt_right\">0.120</td>\n",
       "  <td class=\"gt_row gt_right\">0.000</td>\n",
       "  <td class=\"gt_row gt_right\">0.000</td>\n",
       "  <td class=\"gt_row gt_right\">0.000</td>\n",
       "  <td class=\"gt_row gt_right\">0.000</td>\n",
       "  <td class=\"gt_row gt_right\">1.000</td>\n",
       "  <td class=\"gt_row gt_right\">0.000</td>\n",
       "  <td class=\"gt_row gt_center\">1020</td>\n",
       "  <td class=\"gt_row gt_center\"><div><svg role=\"img\" viewBox=\"0 0 200 130\" style=\"height: 2em; margin-left: auto; margin-right: auto; font-size: inherit; overflow: visible; vertical-align: middle; position:relative;\"><defs><pattern id=\"area_pattern\" width=\"8\" height=\"8\" patternUnits=\"userSpaceOnUse\"><path class=\"pattern-line\" d=\"M 0,8 l 8,-8 M -1,1 l 4,-4 M 6,10 l 4,-4\" stroke=\"#FF0000\" stroke-width=\"1.5\" stroke-linecap=\"round\" shape-rendering=\"geometricPrecision\"></path></pattern></defs><style> text { font-family: ui-monospace, 'Cascadia Code', 'Source Code Pro', Menlo, Consolas, 'DejaVu Sans Mono', monospace; stroke-width: 0.15em; paint-order: stroke; stroke-linejoin: round; cursor: default; } .vert-line:hover rect { fill: #911EB4; fill-opacity: 40%; stroke: #FFFFFF60; color: red; } .vert-line:hover text { stroke: white; fill: #212427; } .horizontal-line:hover text {stroke: white; fill: #212427; } .ref-line:hover rect { stroke: #FFFFFF60; } .ref-line:hover line { stroke: #FF0000; } .ref-line:hover text { stroke: white; fill: #212427; } .y-axis-line:hover rect { fill: #EDEDED; fill-opacity: 60%; stroke: #FFFFFF60; color: red; } .y-axis-line:hover text { stroke: white; stroke-width: 0.20em; fill: #1A1C1F; } </style><line x1=\"22.5\" y1=\"115.0\" x2=\"177.5\" y2=\"115.0\" stroke=\"#BFBFBF\" stroke-width=\"4\"></line><rect x=\"30.0\" y=\"15.0\" width=\"40\" height=\"100.0\" stroke=\"#3290CC\" stroke-width=\"4\" fill=\"#3FB5FF\"></rect><rect x=\"130.0\" y=\"113.51513254625654\" width=\"40\" height=\"1.4848674537434619\" stroke=\"#3290CC\" stroke-width=\"4\" fill=\"#3FB5FF\"></rect><g class=\"y-axis-line\"><rect x=\"0\" y=\"0\" width=\"65\" height=\"130\" stroke=\"transparent\" stroke-width=\"0\" fill=\"transparent\"></rect><text x=\"0\" y=\"19.0\" fill=\"transparent\" stroke=\"transparent\" font-size=\"25\">68.7K</text><text x=\"0\" y=\"126.0\" fill=\"transparent\" stroke=\"transparent\" font-size=\"25\">0</text></g><g class=\"vert-line\"><rect x=\"40.0\" y=\"0\" width=\"20\" height=\"130\" stroke=\"transparent\" stroke-width=\"12\" fill=\"transparent\"></rect><text x=\"60.0\" y=\"20\" fill=\"transparent\" stroke=\"transparent\" font-size=\"30px\">68.7K</text></g><g class=\"vert-line\"><rect x=\"140.0\" y=\"0\" width=\"20\" height=\"130\" stroke=\"transparent\" stroke-width=\"12\" fill=\"transparent\"></rect><text x=\"160.0\" y=\"20\" fill=\"transparent\" stroke=\"transparent\" font-size=\"30px\">1.02K</text></g></svg></div></td>\n",
       "</tr>\n",
       "</tbody>\n",
       "\n",
       "\n",
       "</table>\n",
       "\n",
       "</div>\n",
       "        "
      ],
      "text/plain": [
       "GT(_tbl_data=shape: (9, 13)\n",
       "┌────────────┬────────────┬──────────┬────────────┬───┬──────────┬─────────┬───────────┬───────────┐\n",
       "│ column     ┆ non_null_c ┆ null%    ┆ mean       ┆ … ┆ max      ┆ IQR     ┆ outlier_c ┆ histogram │\n",
       "│ ---        ┆ nt         ┆ ---      ┆ ---        ┆   ┆ ---      ┆ ---     ┆ nt        ┆ ---       │\n",
       "│ str        ┆ ---        ┆ f64      ┆ f64        ┆   ┆ f64      ┆ f64     ┆ ---       ┆ struct[1] │\n",
       "│            ┆ u32        ┆          ┆            ┆   ┆          ┆         ┆ u32       ┆           │\n",
       "╞════════════╪════════════╪══════════╪════════════╪═══╪══════════╪═════════╪═══════════╪═══════════╡\n",
       "│ Employer_C ┆ 65415      ┆ 0.061653 ┆ 3.720187   ┆ … ┆ 4.0      ┆ 0.0     ┆ 7833      ┆ {[4298,   │\n",
       "│ ategory2   ┆            ┆          ┆            ┆   ┆          ┆         ┆           ┆ 4258, …   │\n",
       "│            ┆            ┆          ┆            ┆   ┆          ┆         ┆           ┆ 57582]}   │\n",
       "│ Monthly_In ┆ 69713      ┆ 0.0      ┆ 5622.2832  ┆ … ┆ 3.8384e7 ┆ 2350.0  ┆ 3920      ┆ {[69699,  │\n",
       "│ come       ┆            ┆          ┆            ┆   ┆          ┆         ┆           ┆ 5, … 1]}  │\n",
       "│ Existing_E ┆ 69662      ┆ 0.000732 ┆ 360.928751 ┆ … ┆ 545436.5 ┆ 350.0   ┆ 6549      ┆ {[69655,  │\n",
       "│ MI         ┆            ┆          ┆            ┆   ┆          ┆         ┆           ┆ 5, … 1]}  │\n",
       "│ Loan_Amoun ┆ 42004      ┆ 0.397472 ┆ 39429.9828 ┆ … ┆ 300000.0 ┆ 30000.0 ┆ 1547      ┆ {[27709,  │\n",
       "│ t          ┆            ┆          ┆ 59         ┆   ┆          ┆         ┆           ┆ 8646, …   │\n",
       "│            ┆            ┆          ┆            ┆   ┆          ┆         ┆           ┆ 4]}       │\n",
       "│ Loan_Perio ┆ 42004      ┆ 0.397472 ┆ 3.890629   ┆ … ┆ 6.0      ┆ 2.0     ┆ 0         ┆ {[27709,  │\n",
       "│ d          ┆            ┆          ┆            ┆   ┆          ┆         ┆           ┆ 1886, …   │\n",
       "│            ┆            ┆          ┆            ┆   ┆          ┆         ┆           ┆ 1]}       │\n",
       "│ Interest_R ┆ 22276      ┆ 0.680461 ┆ 19.21357   ┆ … ┆ 37.0     ┆ 4.75    ┆ 2378      ┆ {[758,    │\n",
       "│ ate        ┆            ┆          ┆            ┆   ┆          ┆         ┆           ┆ 2752, …   │\n",
       "│            ┆            ┆          ┆            ┆   ┆          ┆         ┆           ┆ 240]}     │\n",
       "│ EMI        ┆ 22276      ┆ 0.680461 ┆ 1101.46624 ┆ … ┆ 13556.0  ┆ 646.0   ┆ 1081      ┆ {[47437,  │\n",
       "│            ┆            ┆          ┆ 2          ┆   ┆          ┆         ┆           ┆ 8179, …   │\n",
       "│            ┆            ┆          ┆            ┆   ┆          ┆         ┆           ┆ 2]}       │\n",
       "│ Var1       ┆ 69713      ┆ 0.0      ┆ 3.948446   ┆ … ┆ 10.0     ┆ 7.0     ┆ 0         ┆ {[23308,  │\n",
       "│            ┆            ┆          ┆            ┆   ┆          ┆         ┆           ┆ 13363, …  │\n",
       "│            ┆            ┆          ┆            ┆   ┆          ┆         ┆           ┆ 13420]}   │\n",
       "│ Approved   ┆ 69713      ┆ 0.0      ┆ 0.014631   ┆ … ┆ 1.0      ┆ 0.0     ┆ 1020      ┆ {[68693,  │\n",
       "│            ┆            ┆          ┆            ┆   ┆          ┆         ┆           ┆ 1020]}    │\n",
       "└────────────┴────────────┴──────────┴────────────┴───┴──────────┴─────────┴───────────┴───────────┘, _body=<great_tables._gt_data.Body object at 0x7086171a9dd0>, _boxhead=Boxhead([ColInfo(var='column', type=<ColInfoTypeEnum.stub: 2>, column_label='column', column_align='left', column_width=None), ColInfo(var='non_null_cnt', type=<ColInfoTypeEnum.default: 1>, column_label='non_null_cnt', column_align='center', column_width=None), ColInfo(var='null%', type=<ColInfoTypeEnum.default: 1>, column_label='null%', column_align='right', column_width=None), ColInfo(var='mean', type=<ColInfoTypeEnum.default: 1>, column_label='mean', column_align='right', column_width=None), ColInfo(var='std', type=<ColInfoTypeEnum.default: 1>, column_label='std', column_align='right', column_width=None), ColInfo(var='min', type=<ColInfoTypeEnum.default: 1>, column_label='min', column_align='right', column_width=None), ColInfo(var='q1', type=<ColInfoTypeEnum.default: 1>, column_label='q1', column_align='right', column_width=None), ColInfo(var='median', type=<ColInfoTypeEnum.default: 1>, column_label='median', column_align='right', column_width=None), ColInfo(var='q3', type=<ColInfoTypeEnum.default: 1>, column_label='q3', column_align='right', column_width=None), ColInfo(var='max', type=<ColInfoTypeEnum.default: 1>, column_label='max', column_align='right', column_width=None), ColInfo(var='IQR', type=<ColInfoTypeEnum.default: 1>, column_label='IQR', column_align='right', column_width=None), ColInfo(var='outlier_cnt', type=<ColInfoTypeEnum.default: 1>, column_label='outlier_cnt', column_align='center', column_width=None), ColInfo(var='histogram', type=<ColInfoTypeEnum.default: 1>, column_label='histogram', column_align='center', column_width=None)]), _stub=Stub([RowInfo(rownum_i=0, group_id=None, rowname='Employer_Category2', group_label=None, built=False), RowInfo(rownum_i=1, group_id=None, rowname='Monthly_Income', group_label=None, built=False), RowInfo(rownum_i=2, group_id=None, rowname='Existing_EMI', group_label=None, built=False), RowInfo(rownum_i=3, group_id=None, rowname='Loan_Amount', group_label=None, built=False), RowInfo(rownum_i=4, group_id=None, rowname='Loan_Period', group_label=None, built=False), RowInfo(rownum_i=5, group_id=None, rowname='Interest_Rate', group_label=None, built=False), RowInfo(rownum_i=6, group_id=None, rowname='EMI', group_label=None, built=False), RowInfo(rownum_i=7, group_id=None, rowname='Var1', group_label=None, built=False), RowInfo(rownum_i=8, group_id=None, rowname='Approved', group_label=None, built=False)]), _row_groups=[], _group_rows=GroupRows([]), _spanners=Spanners([]), _heading=Heading(title=None, subtitle=None, preheader=None), _stubhead='column', _source_notes=[], _footnotes=[], _styles=[], _locale=<great_tables._gt_data.Locale object at 0x7086171a1ad0>, _formats=[<great_tables._gt_data.FormatInfo object at 0x70861715ae10>, <great_tables._gt_data.FormatInfo object at 0x70861718ae50>, <great_tables._gt_data.FormatInfo object at 0x7086171addd0>], _substitutions=[], _options=Options(table_id=OptionsInfo(scss=False, category='table', type='value', value=None), table_caption=OptionsInfo(scss=False, category='table', type='value', value=None), table_width=OptionsInfo(scss=True, category='table', type='px', value='auto'), table_layout=OptionsInfo(scss=True, category='table', type='value', value='fixed'), table_margin_left=OptionsInfo(scss=True, category='table', type='px', value='auto'), table_margin_right=OptionsInfo(scss=True, category='table', type='px', value='auto'), table_background_color=OptionsInfo(scss=True, category='table', type='value', value='#FFFFFF'), table_font_names=OptionsInfo(scss=False, category='table', type='values', value=['-apple-system', 'BlinkMacSystemFont', 'Segoe UI', 'Roboto', 'Oxygen', 'Ubuntu', 'Cantarell', 'Helvetica Neue', 'Fira Sans', 'Droid Sans', 'Arial', 'sans-serif']), table_font_size=OptionsInfo(scss=True, category='table', type='px', value='16px'), table_font_weight=OptionsInfo(scss=True, category='table', type='value', value='normal'), table_font_style=OptionsInfo(scss=True, category='table', type='value', value='normal'), table_font_color=OptionsInfo(scss=True, category='table', type='value', value='#333333'), table_font_color_light=OptionsInfo(scss=True, category='table', type='value', value='#FFFFFF'), table_border_top_include=OptionsInfo(scss=False, category='table', type='boolean', value=True), table_border_top_style=OptionsInfo(scss=True, category='table', type='value', value='solid'), table_border_top_width=OptionsInfo(scss=True, category='table', type='px', value='2px'), table_border_top_color=OptionsInfo(scss=True, category='table', type='value', value='#A8A8A8'), table_border_right_style=OptionsInfo(scss=True, category='table', type='value', value='none'), table_border_right_width=OptionsInfo(scss=True, category='table', type='px', value='2px'), table_border_right_color=OptionsInfo(scss=True, category='table', type='value', value='#D3D3D3'), table_border_bottom_include=OptionsInfo(scss=False, category='table', type='boolean', value=True), table_border_bottom_style=OptionsInfo(scss=True, category='table', type='value', value='solid'), table_border_bottom_width=OptionsInfo(scss=True, category='table', type='px', value='2px'), table_border_bottom_color=OptionsInfo(scss=True, category='table', type='value', value='#A8A8A8'), table_border_left_style=OptionsInfo(scss=True, category='table', type='value', value='none'), table_border_left_width=OptionsInfo(scss=True, category='table', type='px', value='2px'), table_border_left_color=OptionsInfo(scss=True, category='table', type='value', value='#D3D3D3'), heading_background_color=OptionsInfo(scss=True, category='heading', type='value', value=None), heading_align=OptionsInfo(scss=True, category='heading', type='value', value='center'), heading_title_font_size=OptionsInfo(scss=True, category='heading', type='px', value='125%'), heading_title_font_weight=OptionsInfo(scss=True, category='heading', type='value', value='initial'), heading_subtitle_font_size=OptionsInfo(scss=True, category='heading', type='px', value='85%'), heading_subtitle_font_weight=OptionsInfo(scss=True, category='heading', type='value', value='initial'), heading_padding=OptionsInfo(scss=True, category='heading', type='px', value='4px'), heading_padding_horizontal=OptionsInfo(scss=True, category='heading', type='px', value='5px'), heading_border_bottom_style=OptionsInfo(scss=True, category='heading', type='value', value='solid'), heading_border_bottom_width=OptionsInfo(scss=True, category='heading', type='px', value='2px'), heading_border_bottom_color=OptionsInfo(scss=True, category='heading', type='value', value='#D3D3D3'), heading_border_lr_style=OptionsInfo(scss=True, category='heading', type='value', value='none'), heading_border_lr_width=OptionsInfo(scss=True, category='heading', type='px', value='1px'), heading_border_lr_color=OptionsInfo(scss=True, category='heading', type='value', value='#D3D3D3'), column_labels_background_color=OptionsInfo(scss=True, category='column_labels', type='value', value=None), column_labels_font_size=OptionsInfo(scss=True, category='column_labels', type='px', value='100%'), column_labels_font_weight=OptionsInfo(scss=True, category='column_labels', type='value', value='normal'), column_labels_text_transform=OptionsInfo(scss=True, category='column_labels', type='value', value='inherit'), column_labels_padding=OptionsInfo(scss=True, category='column_labels', type='px', value='5px'), column_labels_padding_horizontal=OptionsInfo(scss=True, category='column_labels', type='px', value='5px'), column_labels_vlines_style=OptionsInfo(scss=True, category='table_body', type='value', value='none'), column_labels_vlines_width=OptionsInfo(scss=True, category='table_body', type='px', value='1px'), column_labels_vlines_color=OptionsInfo(scss=True, category='table_body', type='value', value='#D3D3D3'), column_labels_border_top_style=OptionsInfo(scss=True, category='column_labels', type='value', value='solid'), column_labels_border_top_width=OptionsInfo(scss=True, category='column_labels', type='px', value='2px'), column_labels_border_top_color=OptionsInfo(scss=True, category='column_labels', type='value', value='#D3D3D3'), column_labels_border_bottom_style=OptionsInfo(scss=True, category='column_labels', type='value', value='solid'), column_labels_border_bottom_width=OptionsInfo(scss=True, category='column_labels', type='px', value='2px'), column_labels_border_bottom_color=OptionsInfo(scss=True, category='column_labels', type='value', value='#D3D3D3'), column_labels_border_lr_style=OptionsInfo(scss=True, category='column_labels', type='value', value='none'), column_labels_border_lr_width=OptionsInfo(scss=True, category='column_labels', type='px', value='1px'), column_labels_border_lr_color=OptionsInfo(scss=True, category='column_labels', type='value', value='#D3D3D3'), column_labels_hidden=OptionsInfo(scss=False, category='column_labels', type='boolean', value=False), row_group_background_color=OptionsInfo(scss=True, category='row_group', type='value', value=None), row_group_font_size=OptionsInfo(scss=True, category='row_group', type='px', value='100%'), row_group_font_weight=OptionsInfo(scss=True, category='row_group', type='value', value='initial'), row_group_text_transform=OptionsInfo(scss=True, category='row_group', type='value', value='inherit'), row_group_padding=OptionsInfo(scss=True, category='row_group', type='px', value='8px'), row_group_padding_horizontal=OptionsInfo(scss=True, category='row_group', type='px', value='5px'), row_group_border_top_style=OptionsInfo(scss=True, category='row_group', type='value', value='solid'), row_group_border_top_width=OptionsInfo(scss=True, category='row_group', type='px', value='2px'), row_group_border_top_color=OptionsInfo(scss=True, category='row_group', type='value', value='#D3D3D3'), row_group_border_right_style=OptionsInfo(scss=True, category='row_group', type='value', value='none'), row_group_border_right_width=OptionsInfo(scss=True, category='row_group', type='px', value='1px'), row_group_border_right_color=OptionsInfo(scss=True, category='row_group', type='value', value='#D3D3D3'), row_group_border_bottom_style=OptionsInfo(scss=True, category='row_group', type='value', value='solid'), row_group_border_bottom_width=OptionsInfo(scss=True, category='row_group', type='px', value='2px'), row_group_border_bottom_color=OptionsInfo(scss=True, category='row_group', type='value', value='#D3D3D3'), row_group_border_left_style=OptionsInfo(scss=True, category='row_group', type='value', value='none'), row_group_border_left_width=OptionsInfo(scss=True, category='row_group', type='px', value='1px'), row_group_border_left_color=OptionsInfo(scss=True, category='row_group', type='value', value='#D3D3D3'), row_group_as_column=OptionsInfo(scss=False, category='row_group', type='boolean', value=False), table_body_hlines_style=OptionsInfo(scss=True, category='table_body', type='value', value='solid'), table_body_hlines_width=OptionsInfo(scss=True, category='table_body', type='px', value='1px'), table_body_hlines_color=OptionsInfo(scss=True, category='table_body', type='value', value='#D3D3D3'), table_body_vlines_style=OptionsInfo(scss=True, category='table_body', type='value', value='none'), table_body_vlines_width=OptionsInfo(scss=True, category='table_body', type='px', value='1px'), table_body_vlines_color=OptionsInfo(scss=True, category='table_body', type='value', value='#D3D3D3'), table_body_border_top_style=OptionsInfo(scss=True, category='table_body', type='value', value='solid'), table_body_border_top_width=OptionsInfo(scss=True, category='table_body', type='px', value='2px'), table_body_border_top_color=OptionsInfo(scss=True, category='table_body', type='value', value='#D3D3D3'), table_body_border_bottom_style=OptionsInfo(scss=True, category='table_body', type='value', value='solid'), table_body_border_bottom_width=OptionsInfo(scss=True, category='table_body', type='px', value='2px'), table_body_border_bottom_color=OptionsInfo(scss=True, category='table_body', type='value', value='#D3D3D3'), data_row_padding=OptionsInfo(scss=True, category='data_row', type='px', value='8px'), data_row_padding_horizontal=OptionsInfo(scss=True, category='data_row', type='px', value='5px'), stub_background_color=OptionsInfo(scss=True, category='stub', type='value', value=None), stub_font_size=OptionsInfo(scss=True, category='stub', type='px', value='100%'), stub_font_weight=OptionsInfo(scss=True, category='stub', type='value', value='initial'), stub_text_transform=OptionsInfo(scss=True, category='stub', type='value', value='inherit'), stub_border_style=OptionsInfo(scss=True, category='stub', type='value', value='solid'), stub_border_width=OptionsInfo(scss=True, category='stub', type='px', value='2px'), stub_border_color=OptionsInfo(scss=True, category='stub', type='value', value='#D3D3D3'), stub_row_group_background_color=OptionsInfo(scss=True, category='stub', type='value', value=None), stub_row_group_font_size=OptionsInfo(scss=True, category='stub', type='px', value='100%'), stub_row_group_font_weight=OptionsInfo(scss=True, category='stub', type='value', value='initial'), stub_row_group_text_transform=OptionsInfo(scss=True, category='stub', type='value', value='inherit'), stub_row_group_border_style=OptionsInfo(scss=True, category='stub', type='value', value='solid'), stub_row_group_border_width=OptionsInfo(scss=True, category='stub', type='px', value='2px'), stub_row_group_border_color=OptionsInfo(scss=True, category='stub', type='value', value='#D3D3D3'), source_notes_padding=OptionsInfo(scss=True, category='source_notes', type='px', value='4px'), source_notes_padding_horizontal=OptionsInfo(scss=True, category='source_notes', type='px', value='5px'), source_notes_background_color=OptionsInfo(scss=True, category='source_notes', type='value', value=None), source_notes_font_size=OptionsInfo(scss=True, category='source_notes', type='px', value='90%'), source_notes_border_bottom_style=OptionsInfo(scss=True, category='source_notes', type='value', value='none'), source_notes_border_bottom_width=OptionsInfo(scss=True, category='source_notes', type='px', value='2px'), source_notes_border_bottom_color=OptionsInfo(scss=True, category='source_notes', type='value', value='#D3D3D3'), source_notes_border_lr_style=OptionsInfo(scss=True, category='source_notes', type='value', value='none'), source_notes_border_lr_width=OptionsInfo(scss=True, category='source_notes', type='px', value='2px'), source_notes_border_lr_color=OptionsInfo(scss=True, category='source_notes', type='value', value='#D3D3D3'), source_notes_multiline=OptionsInfo(scss=False, category='source_notes', type='boolean', value=True), source_notes_sep=OptionsInfo(scss=False, category='source_notes', type='value', value=' '), container_width=OptionsInfo(scss=False, category='container', type='px', value='auto'), container_height=OptionsInfo(scss=False, category='container', type='px', value='auto'), container_padding_x=OptionsInfo(scss=False, category='container', type='px', value='0px'), container_padding_y=OptionsInfo(scss=False, category='container', type='px', value='10px'), container_overflow_x=OptionsInfo(scss=False, category='container', type='overflow', value='auto'), container_overflow_y=OptionsInfo(scss=False, category='container', type='overflow', value='auto'), quarto_disable_processing=OptionsInfo(scss=False, category='quarto', type='logical', value=False), quarto_use_bootstrap=OptionsInfo(scss=False, category='quarto', type='logical', value=False)), _has_built=False)"
      ]
     },
     "execution_count": 15,
     "metadata": {},
     "output_type": "execute_result"
    }
   ],
   "source": [
    "dia.numeric_profile(iqr_multiplier=2)"
   ]
  },
  {
   "cell_type": "code",
   "execution_count": 16,
   "metadata": {},
   "outputs": [
    {
     "data": {
      "text/html": [
       "<div><style>\n",
       ".dataframe > thead > tr,\n",
       ".dataframe > tbody > tr {\n",
       "  text-align: right;\n",
       "  white-space: pre-wrap;\n",
       "}\n",
       "</style>\n",
       "<small>shape: (2, 10)</small><table border=\"1\" class=\"dataframe\"><thead><tr><th>column</th><th>Employer_Category2</th><th>Monthly_Income</th><th>Existing_EMI</th><th>Loan_Amount</th><th>Loan_Period</th><th>Interest_Rate</th><th>EMI</th><th>Var1</th><th>Approved</th></tr><tr><td>str</td><td>f64</td><td>f64</td><td>f64</td><td>f64</td><td>f64</td><td>f64</td><td>f64</td><td>f64</td><td>f64</td></tr></thead><tbody><tr><td>&quot;Monthly_Income…</td><td>0.001546</td><td>1.0</td><td>0.245826</td><td>0.039998</td><td>-0.003671</td><td>-0.014789</td><td>0.035163</td><td>0.024854</td><td>0.000472</td></tr><tr><td>&quot;Existing_EMI&quot;</td><td>-0.017074</td><td>0.245826</td><td>1.0</td><td>0.008653</td><td>-0.004603</td><td>-0.023001</td><td>0.000813</td><td>0.00662</td><td>0.027821</td></tr></tbody></table></div>"
      ],
      "text/plain": [
       "shape: (2, 10)\n",
       "┌────────────┬────────────┬───────────┬───────────┬───┬───────────┬──────────┬──────────┬──────────┐\n",
       "│ column     ┆ Employer_C ┆ Monthly_I ┆ Existing_ ┆ … ┆ Interest_ ┆ EMI      ┆ Var1     ┆ Approved │\n",
       "│ ---        ┆ ategory2   ┆ ncome     ┆ EMI       ┆   ┆ Rate      ┆ ---      ┆ ---      ┆ ---      │\n",
       "│ str        ┆ ---        ┆ ---       ┆ ---       ┆   ┆ ---       ┆ f64      ┆ f64      ┆ f64      │\n",
       "│            ┆ f64        ┆ f64       ┆ f64       ┆   ┆ f64       ┆          ┆          ┆          │\n",
       "╞════════════╪════════════╪═══════════╪═══════════╪═══╪═══════════╪══════════╪══════════╪══════════╡\n",
       "│ Monthly_In ┆ 0.001546   ┆ 1.0       ┆ 0.245826  ┆ … ┆ -0.014789 ┆ 0.035163 ┆ 0.024854 ┆ 0.000472 │\n",
       "│ come       ┆            ┆           ┆           ┆   ┆           ┆          ┆          ┆          │\n",
       "│ Existing_E ┆ -0.017074  ┆ 0.245826  ┆ 1.0       ┆ … ┆ -0.023001 ┆ 0.000813 ┆ 0.00662  ┆ 0.027821 │\n",
       "│ MI         ┆            ┆           ┆           ┆   ┆           ┆          ┆          ┆          │\n",
       "└────────────┴────────────┴───────────┴───────────┴───┴───────────┴──────────┴──────────┴──────────┘"
      ]
     },
     "execution_count": 16,
     "metadata": {},
     "output_type": "execute_result"
    }
   ],
   "source": [
    "import polars.selectors as cs\n",
    "\n",
    "dia.corr(subset=[\"Monthly_Income\", \"Existing_EMI\"])"
   ]
  },
  {
   "cell_type": "code",
   "execution_count": 17,
   "metadata": {},
   "outputs": [
    {
     "name": "stderr",
     "output_type": "stream",
     "text": [
      "INFO:polars_ds.diagnosis:The following columns are not numeric/not in the dataframe, skipped: \n",
      "['ID', 'Employer_Code', 'City_Code', 'Primary_Bank_Type', 'DOB', 'Source_Category', 'Source', 'Contacted', 'City_Category', 'Lead_Creation_Date', 'Customer_Existing_Primary_Bank_Code', 'Employer_Category1', 'Gender']\n"
     ]
    },
    {
     "data": {
      "text/html": [
       "<div><style>\n",
       ".dataframe > thead > tr,\n",
       ".dataframe > tbody > tr {\n",
       "  text-align: right;\n",
       "  white-space: pre-wrap;\n",
       "}\n",
       "</style>\n",
       "<small>shape: (9, 10)</small><table border=\"1\" class=\"dataframe\"><thead><tr><th>column</th><th>Employer_Category2</th><th>Monthly_Income</th><th>Existing_EMI</th><th>Loan_Amount</th><th>Loan_Period</th><th>Interest_Rate</th><th>EMI</th><th>Var1</th><th>Approved</th></tr><tr><td>str</td><td>f64</td><td>f64</td><td>f64</td><td>f64</td><td>f64</td><td>f64</td><td>f64</td><td>f64</td><td>f64</td></tr></thead><tbody><tr><td>&quot;Employer_Categ…</td><td>1.0</td><td>0.001546</td><td>-0.017074</td><td>-0.061479</td><td>-0.007449</td><td>0.177605</td><td>-0.051729</td><td>-0.124415</td><td>-0.019413</td></tr><tr><td>&quot;Monthly_Income…</td><td>0.001546</td><td>1.0</td><td>0.245826</td><td>0.039998</td><td>-0.003671</td><td>-0.014789</td><td>0.035163</td><td>0.024854</td><td>0.000472</td></tr><tr><td>&quot;Existing_EMI&quot;</td><td>-0.017074</td><td>0.245826</td><td>1.0</td><td>0.008653</td><td>-0.004603</td><td>-0.023001</td><td>0.000813</td><td>0.00662</td><td>0.027821</td></tr><tr><td>&quot;Loan_Amount&quot;</td><td>-0.061479</td><td>0.039998</td><td>0.008653</td><td>1.0</td><td>0.379921</td><td>-0.321095</td><td>0.916832</td><td>0.307945</td><td>0.046502</td></tr><tr><td>&quot;Loan_Period&quot;</td><td>-0.007449</td><td>-0.003671</td><td>-0.004603</td><td>0.379921</td><td>1.0</td><td>-0.096629</td><td>0.083965</td><td>-0.065702</td><td>-0.000375</td></tr><tr><td>&quot;Interest_Rate&quot;</td><td>0.177605</td><td>-0.014789</td><td>-0.023001</td><td>-0.321095</td><td>-0.096629</td><td>1.0</td><td>-0.241648</td><td>-0.554138</td><td>-0.094387</td></tr><tr><td>&quot;EMI&quot;</td><td>-0.051729</td><td>0.035163</td><td>0.000813</td><td>0.916832</td><td>0.083965</td><td>-0.241648</td><td>1.0</td><td>0.293474</td><td>0.050129</td></tr><tr><td>&quot;Var1&quot;</td><td>-0.124415</td><td>0.024854</td><td>0.00662</td><td>0.307945</td><td>-0.065702</td><td>-0.554138</td><td>0.293474</td><td>1.0</td><td>0.11244</td></tr><tr><td>&quot;Approved&quot;</td><td>-0.019413</td><td>0.000472</td><td>0.027821</td><td>0.046502</td><td>-0.000375</td><td>-0.094387</td><td>0.050129</td><td>0.11244</td><td>1.0</td></tr></tbody></table></div>"
      ],
      "text/plain": [
       "shape: (9, 10)\n",
       "┌───────────┬───────────┬───────────┬───────────┬───┬───────────┬───────────┬───────────┬──────────┐\n",
       "│ column    ┆ Employer_ ┆ Monthly_I ┆ Existing_ ┆ … ┆ Interest_ ┆ EMI       ┆ Var1      ┆ Approved │\n",
       "│ ---       ┆ Category2 ┆ ncome     ┆ EMI       ┆   ┆ Rate      ┆ ---       ┆ ---       ┆ ---      │\n",
       "│ str       ┆ ---       ┆ ---       ┆ ---       ┆   ┆ ---       ┆ f64       ┆ f64       ┆ f64      │\n",
       "│           ┆ f64       ┆ f64       ┆ f64       ┆   ┆ f64       ┆           ┆           ┆          │\n",
       "╞═══════════╪═══════════╪═══════════╪═══════════╪═══╪═══════════╪═══════════╪═══════════╪══════════╡\n",
       "│ Employer_ ┆ 1.0       ┆ 0.001546  ┆ -0.017074 ┆ … ┆ 0.177605  ┆ -0.051729 ┆ -0.124415 ┆ -0.01941 │\n",
       "│ Category2 ┆           ┆           ┆           ┆   ┆           ┆           ┆           ┆ 3        │\n",
       "│ Monthly_I ┆ 0.001546  ┆ 1.0       ┆ 0.245826  ┆ … ┆ -0.014789 ┆ 0.035163  ┆ 0.024854  ┆ 0.000472 │\n",
       "│ ncome     ┆           ┆           ┆           ┆   ┆           ┆           ┆           ┆          │\n",
       "│ Existing_ ┆ -0.017074 ┆ 0.245826  ┆ 1.0       ┆ … ┆ -0.023001 ┆ 0.000813  ┆ 0.00662   ┆ 0.027821 │\n",
       "│ EMI       ┆           ┆           ┆           ┆   ┆           ┆           ┆           ┆          │\n",
       "│ Loan_Amou ┆ -0.061479 ┆ 0.039998  ┆ 0.008653  ┆ … ┆ -0.321095 ┆ 0.916832  ┆ 0.307945  ┆ 0.046502 │\n",
       "│ nt        ┆           ┆           ┆           ┆   ┆           ┆           ┆           ┆          │\n",
       "│ Loan_Peri ┆ -0.007449 ┆ -0.003671 ┆ -0.004603 ┆ … ┆ -0.096629 ┆ 0.083965  ┆ -0.065702 ┆ -0.00037 │\n",
       "│ od        ┆           ┆           ┆           ┆   ┆           ┆           ┆           ┆ 5        │\n",
       "│ Interest_ ┆ 0.177605  ┆ -0.014789 ┆ -0.023001 ┆ … ┆ 1.0       ┆ -0.241648 ┆ -0.554138 ┆ -0.09438 │\n",
       "│ Rate      ┆           ┆           ┆           ┆   ┆           ┆           ┆           ┆ 7        │\n",
       "│ EMI       ┆ -0.051729 ┆ 0.035163  ┆ 0.000813  ┆ … ┆ -0.241648 ┆ 1.0       ┆ 0.293474  ┆ 0.050129 │\n",
       "│ Var1      ┆ -0.124415 ┆ 0.024854  ┆ 0.00662   ┆ … ┆ -0.554138 ┆ 0.293474  ┆ 1.0       ┆ 0.11244  │\n",
       "│ Approved  ┆ -0.019413 ┆ 0.000472  ┆ 0.027821  ┆ … ┆ -0.094387 ┆ 0.050129  ┆ 0.11244   ┆ 1.0      │\n",
       "└───────────┴───────────┴───────────┴───────────┴───┴───────────┴───────────┴───────────┴──────────┘"
      ]
     },
     "execution_count": 17,
     "metadata": {},
     "output_type": "execute_result"
    }
   ],
   "source": [
    "dia.corr(subset=cs.all(), method=\"xi\")"
   ]
  },
  {
   "cell_type": "code",
   "execution_count": 18,
   "metadata": {},
   "outputs": [
    {
     "data": {
      "text/html": [
       "<div id=\"rqbmmrepop\" style=\"padding-left:0px;padding-right:0px;padding-top:10px;padding-bottom:10px;overflow-x:auto;overflow-y:auto;width:auto;height:auto;\">\n",
       "<style>\n",
       "#rqbmmrepop table {\n",
       "          font-family: -apple-system, BlinkMacSystemFont, 'Segoe UI', Roboto, Oxygen, Ubuntu, Cantarell, 'Helvetica Neue', 'Fira Sans', 'Droid Sans', Arial, sans-serif;\n",
       "          -webkit-font-smoothing: antialiased;\n",
       "          -moz-osx-font-smoothing: grayscale;\n",
       "        }\n",
       "\n",
       "#rqbmmrepop thead, tbody, tfoot, tr, td, th { border-style: none !important; }\n",
       " tr { background-color: transparent !important; }\n",
       "#rqbmmrepop p { margin: 0 !important; padding: 0 !important; }\n",
       " #rqbmmrepop .gt_table { display: table !important; border-collapse: collapse !important; line-height: normal !important; margin-left: auto !important; margin-right: auto !important; color: #333333 !important; font-size: 16px !important; font-weight: normal !important; font-style: normal !important; background-color: #FFFFFF !important; width: auto !important; border-top-style: solid !important; border-top-width: 2px !important; border-top-color: #A8A8A8 !important; border-right-style: none !important; border-right-width: 2px !important; border-right-color: #D3D3D3 !important; border-bottom-style: solid !important; border-bottom-width: 2px !important; border-bottom-color: #A8A8A8 !important; border-left-style: none !important; border-left-width: 2px !important; border-left-color: #D3D3D3 !important; }\n",
       " #rqbmmrepop .gt_caption { padding-top: 4px !important; padding-bottom: 4px !important; }\n",
       " #rqbmmrepop .gt_title { color: #333333 !important; font-size: 125% !important; font-weight: initial !important; padding-top: 4px !important; padding-bottom: 4px !important; padding-left: 5px !important; padding-right: 5px !important; border-bottom-color: #FFFFFF !important; border-bottom-width: 0 !important; }\n",
       " #rqbmmrepop .gt_subtitle { color: #333333 !important; font-size: 85% !important; font-weight: initial !important; padding-top: 3px !important; padding-bottom: 5px !important; padding-left: 5px !important; padding-right: 5px !important; border-top-color: #FFFFFF !important; border-top-width: 0 !important; }\n",
       " #rqbmmrepop .gt_heading { background-color: #FFFFFF !important; text-align: center !important; border-bottom-color: #FFFFFF !important; border-left-style: none !important; border-left-width: 1px !important; border-left-color: #D3D3D3 !important; border-right-style: none !important; border-right-width: 1px !important; border-right-color: #D3D3D3 !important; }\n",
       " #rqbmmrepop .gt_bottom_border { border-bottom-style: solid !important; border-bottom-width: 2px !important; border-bottom-color: #D3D3D3 !important; }\n",
       " #rqbmmrepop .gt_col_headings { border-top-style: solid !important; border-top-width: 2px !important; border-top-color: #D3D3D3 !important; border-bottom-style: solid !important; border-bottom-width: 2px !important; border-bottom-color: #D3D3D3 !important; border-left-style: none !important; border-left-width: 1px !important; border-left-color: #D3D3D3 !important; border-right-style: none !important; border-right-width: 1px !important; border-right-color: #D3D3D3 !important; }\n",
       " #rqbmmrepop .gt_col_heading { color: #333333 !important; background-color: #FFFFFF !important; font-size: 100% !important; font-weight: normal !important; text-transform: inherit !important; border-left-style: none !important; border-left-width: 1px !important; border-left-color: #D3D3D3 !important; border-right-style: none !important; border-right-width: 1px !important; border-right-color: #D3D3D3 !important; vertical-align: bottom !important; padding-top: 5px !important; padding-bottom: 5px !important; padding-left: 5px !important; padding-right: 5px !important; overflow-x: hidden !important; }\n",
       " #rqbmmrepop .gt_column_spanner_outer { color: #333333 !important; background-color: #FFFFFF !important; font-size: 100% !important; font-weight: normal !important; text-transform: inherit !important; padding-top: 0 !important; padding-bottom: 0 !important; padding-left: 4px !important; padding-right: 4px !important; }\n",
       " #rqbmmrepop .gt_column_spanner_outer:first-child { padding-left: 0 !important; }\n",
       " #rqbmmrepop .gt_column_spanner_outer:last-child { padding-right: 0 !important; }\n",
       " #rqbmmrepop .gt_column_spanner { border-bottom-style: solid !important; border-bottom-width: 2px !important; border-bottom-color: #D3D3D3 !important; vertical-align: bottom !important; padding-top: 5px !important; padding-bottom: 5px !important; overflow-x: hidden !important; display: inline-block !important; width: 100% !important; }\n",
       " #rqbmmrepop .gt_spanner_row { border-bottom-style: hidden !important; }\n",
       " #rqbmmrepop .gt_group_heading { padding-top: 8px !important; padding-bottom: 8px !important; padding-left: 5px !important; padding-right: 5px !important; color: #333333 !important; background-color: #FFFFFF !important; font-size: 100% !important; font-weight: initial !important; text-transform: inherit !important; border-top-style: solid !important; border-top-width: 2px !important; border-top-color: #D3D3D3 !important; border-bottom-style: solid !important; border-bottom-width: 2px !important; border-bottom-color: #D3D3D3 !important; border-left-style: none !important; border-left-width: 1px !important; border-left-color: #D3D3D3 !important; border-right-style: none !important; border-right-width: 1px !important; border-right-color: #D3D3D3 !important; vertical-align: middle !important; text-align: left !important; }\n",
       " #rqbmmrepop .gt_empty_group_heading { padding: 0.5px !important; color: #333333 !important; background-color: #FFFFFF !important; font-size: 100% !important; font-weight: initial !important; border-top-style: solid !important; border-top-width: 2px !important; border-top-color: #D3D3D3 !important; border-bottom-style: solid !important; border-bottom-width: 2px !important; border-bottom-color: #D3D3D3 !important; vertical-align: middle !important; }\n",
       " #rqbmmrepop .gt_from_md> :first-child { margin-top: 0 !important; }\n",
       " #rqbmmrepop .gt_from_md> :last-child { margin-bottom: 0 !important; }\n",
       " #rqbmmrepop .gt_row { padding-top: 8px !important; padding-bottom: 8px !important; padding-left: 5px !important; padding-right: 5px !important; margin: 10px !important; border-top-style: solid !important; border-top-width: 1px !important; border-top-color: #D3D3D3 !important; border-left-style: none !important; border-left-width: 1px !important; border-left-color: #D3D3D3 !important; border-right-style: none !important; border-right-width: 1px !important; border-right-color: #D3D3D3 !important; vertical-align: middle !important; overflow-x: hidden !important; }\n",
       " #rqbmmrepop .gt_stub { color: #333333 !important; background-color: #FFFFFF !important; font-size: 100% !important; font-weight: initial !important; text-transform: inherit !important; border-right-style: solid !important; border-right-width: 2px !important; border-right-color: #D3D3D3 !important; padding-left: 5px !important; padding-right: 5px !important; }\n",
       " #rqbmmrepop .gt_stub_row_group { color: #333333 !important; background-color: #FFFFFF !important; font-size: 100% !important; font-weight: initial !important; text-transform: inherit !important; border-right-style: solid !important; border-right-width: 2px !important; border-right-color: #D3D3D3 !important; padding-left: 5px !important; padding-right: 5px !important; vertical-align: top !important; }\n",
       " #rqbmmrepop .gt_row_group_first td { border-top-width: 2px !important; }\n",
       " #rqbmmrepop .gt_row_group_first th { border-top-width: 2px !important; }\n",
       " #rqbmmrepop .gt_table_body { border-top-style: solid !important; border-top-width: 2px !important; border-top-color: #D3D3D3 !important; border-bottom-style: solid !important; border-bottom-width: 2px !important; border-bottom-color: #D3D3D3 !important; }\n",
       " #rqbmmrepop .gt_sourcenotes { color: #333333 !important; background-color: #FFFFFF !important; border-bottom-style: none !important; border-bottom-width: 2px !important; border-bottom-color: #D3D3D3 !important; border-left-style: none !important; border-left-width: 2px !important; border-left-color: #D3D3D3 !important; border-right-style: none !important; border-right-width: 2px !important; border-right-color: #D3D3D3 !important; }\n",
       " #rqbmmrepop .gt_sourcenote { font-size: 90% !important; padding-top: 4px !important; padding-bottom: 4px !important; padding-left: 5px !important; padding-right: 5px !important; text-align: left !important; }\n",
       " #rqbmmrepop .gt_left { text-align: left !important; }\n",
       " #rqbmmrepop .gt_center { text-align: center !important; }\n",
       " #rqbmmrepop .gt_right { text-align: right !important; font-variant-numeric: tabular-nums !important; }\n",
       " #rqbmmrepop .gt_font_normal { font-weight: normal !important; }\n",
       " #rqbmmrepop .gt_font_bold { font-weight: bold !important; }\n",
       " #rqbmmrepop .gt_font_italic { font-style: italic !important; }\n",
       " #rqbmmrepop .gt_super { font-size: 65% !important; }\n",
       " #rqbmmrepop .gt_footnote_marks { font-size: 75% !important; vertical-align: 0.4em !important; position: initial !important; }\n",
       " #rqbmmrepop .gt_asterisk { font-size: 100% !important; vertical-align: 0 !important; }\n",
       " \n",
       "</style>\n",
       "<table class=\"gt_table\" data-quarto-disable-processing=\"false\" data-quarto-bootstrap=\"false\">\n",
       "\n",
       "<tr class=\"gt_col_headings\">\n",
       "  <th class=\"gt_col_heading gt_columns_bottom_border gt_left\" rowspan=\"1\" colspan=\"1\" scope=\"col\" id=\"column\">column</th>\n",
       "  <th class=\"gt_col_heading gt_columns_bottom_border gt_right\" rowspan=\"1\" colspan=\"1\" scope=\"col\" id=\"Employer_Category2\">Employer_Category2</th>\n",
       "  <th class=\"gt_col_heading gt_columns_bottom_border gt_right\" rowspan=\"1\" colspan=\"1\" scope=\"col\" id=\"Monthly_Income\">Monthly_Income</th>\n",
       "  <th class=\"gt_col_heading gt_columns_bottom_border gt_right\" rowspan=\"1\" colspan=\"1\" scope=\"col\" id=\"Existing_EMI\">Existing_EMI</th>\n",
       "  <th class=\"gt_col_heading gt_columns_bottom_border gt_right\" rowspan=\"1\" colspan=\"1\" scope=\"col\" id=\"Loan_Amount\">Loan_Amount</th>\n",
       "  <th class=\"gt_col_heading gt_columns_bottom_border gt_right\" rowspan=\"1\" colspan=\"1\" scope=\"col\" id=\"Loan_Period\">Loan_Period</th>\n",
       "  <th class=\"gt_col_heading gt_columns_bottom_border gt_right\" rowspan=\"1\" colspan=\"1\" scope=\"col\" id=\"Interest_Rate\">Interest_Rate</th>\n",
       "  <th class=\"gt_col_heading gt_columns_bottom_border gt_right\" rowspan=\"1\" colspan=\"1\" scope=\"col\" id=\"EMI\">EMI</th>\n",
       "  <th class=\"gt_col_heading gt_columns_bottom_border gt_right\" rowspan=\"1\" colspan=\"1\" scope=\"col\" id=\"Var1\">Var1</th>\n",
       "  <th class=\"gt_col_heading gt_columns_bottom_border gt_right\" rowspan=\"1\" colspan=\"1\" scope=\"col\" id=\"Approved\">Approved</th>\n",
       "</tr>\n",
       "<tbody class=\"gt_table_body\">\n",
       "<tr>\n",
       "  <td class=\"gt_row gt_left\">Monthly_Income</td>\n",
       "  <td style=\"color: #FFFFFF; background-color: #60027a;\" class=\"gt_row gt_right\">0.002</td>\n",
       "  <td style=\"color: #FFFFFF; background-color: #bd0237;\" class=\"gt_row gt_right\">1.000</td>\n",
       "  <td style=\"color: #FFFFFF; background-color: #76026a;\" class=\"gt_row gt_right\">0.246</td>\n",
       "  <td style=\"color: #FFFFFF; background-color: #630277;\" class=\"gt_row gt_right\">0.040</td>\n",
       "  <td style=\"color: #FFFFFF; background-color: #5f027a;\" class=\"gt_row gt_right\">−0.004</td>\n",
       "  <td style=\"color: #FFFFFF; background-color: #5e027b;\" class=\"gt_row gt_right\">−0.015</td>\n",
       "  <td style=\"color: #FFFFFF; background-color: #630278;\" class=\"gt_row gt_right\">0.035</td>\n",
       "  <td style=\"color: #FFFFFF; background-color: #620278;\" class=\"gt_row gt_right\">0.025</td>\n",
       "  <td style=\"color: #FFFFFF; background-color: #60027a;\" class=\"gt_row gt_right\">0.000</td>\n",
       "</tr>\n",
       "<tr>\n",
       "  <td class=\"gt_row gt_left\">Existing_EMI</td>\n",
       "  <td style=\"color: #FFFFFF; background-color: #5e027b;\" class=\"gt_row gt_right\">−0.017</td>\n",
       "  <td style=\"color: #FFFFFF; background-color: #76026a;\" class=\"gt_row gt_right\">0.246</td>\n",
       "  <td style=\"color: #FFFFFF; background-color: #bd0237;\" class=\"gt_row gt_right\">1.000</td>\n",
       "  <td style=\"color: #FFFFFF; background-color: #600279;\" class=\"gt_row gt_right\">0.009</td>\n",
       "  <td style=\"color: #FFFFFF; background-color: #5f027a;\" class=\"gt_row gt_right\">−0.005</td>\n",
       "  <td style=\"color: #FFFFFF; background-color: #5d027c;\" class=\"gt_row gt_right\">−0.023</td>\n",
       "  <td style=\"color: #FFFFFF; background-color: #60027a;\" class=\"gt_row gt_right\">0.001</td>\n",
       "  <td style=\"color: #FFFFFF; background-color: #60027a;\" class=\"gt_row gt_right\">0.007</td>\n",
       "  <td style=\"color: #FFFFFF; background-color: #620278;\" class=\"gt_row gt_right\">0.028</td>\n",
       "</tr>\n",
       "</tbody>\n",
       "\n",
       "\n",
       "</table>\n",
       "\n",
       "</div>\n",
       "        "
      ],
      "text/plain": [
       "GT(_tbl_data=shape: (2, 10)\n",
       "┌────────────┬────────────┬───────────┬───────────┬───┬───────────┬──────────┬──────────┬──────────┐\n",
       "│ column     ┆ Employer_C ┆ Monthly_I ┆ Existing_ ┆ … ┆ Interest_ ┆ EMI      ┆ Var1     ┆ Approved │\n",
       "│ ---        ┆ ategory2   ┆ ncome     ┆ EMI       ┆   ┆ Rate      ┆ ---      ┆ ---      ┆ ---      │\n",
       "│ str        ┆ ---        ┆ ---       ┆ ---       ┆   ┆ ---       ┆ f64      ┆ f64      ┆ f64      │\n",
       "│            ┆ f64        ┆ f64       ┆ f64       ┆   ┆ f64       ┆          ┆          ┆          │\n",
       "╞════════════╪════════════╪═══════════╪═══════════╪═══╪═══════════╪══════════╪══════════╪══════════╡\n",
       "│ Monthly_In ┆ 0.001546   ┆ 1.0       ┆ 0.245826  ┆ … ┆ -0.014789 ┆ 0.035163 ┆ 0.024854 ┆ 0.000472 │\n",
       "│ come       ┆            ┆           ┆           ┆   ┆           ┆          ┆          ┆          │\n",
       "│ Existing_E ┆ -0.017074  ┆ 0.245826  ┆ 1.0       ┆ … ┆ -0.023001 ┆ 0.000813 ┆ 0.00662  ┆ 0.027821 │\n",
       "│ MI         ┆            ┆           ┆           ┆   ┆           ┆          ┆          ┆          │\n",
       "└────────────┴────────────┴───────────┴───────────┴───┴───────────┴──────────┴──────────┴──────────┘, _body=<great_tables._gt_data.Body object at 0x708667a31f50>, _boxhead=Boxhead([ColInfo(var='column', type=<ColInfoTypeEnum.default: 1>, column_label='column', column_align='left', column_width=None), ColInfo(var='Employer_Category2', type=<ColInfoTypeEnum.default: 1>, column_label='Employer_Category2', column_align='right', column_width=None), ColInfo(var='Monthly_Income', type=<ColInfoTypeEnum.default: 1>, column_label='Monthly_Income', column_align='right', column_width=None), ColInfo(var='Existing_EMI', type=<ColInfoTypeEnum.default: 1>, column_label='Existing_EMI', column_align='right', column_width=None), ColInfo(var='Loan_Amount', type=<ColInfoTypeEnum.default: 1>, column_label='Loan_Amount', column_align='right', column_width=None), ColInfo(var='Loan_Period', type=<ColInfoTypeEnum.default: 1>, column_label='Loan_Period', column_align='right', column_width=None), ColInfo(var='Interest_Rate', type=<ColInfoTypeEnum.default: 1>, column_label='Interest_Rate', column_align='right', column_width=None), ColInfo(var='EMI', type=<ColInfoTypeEnum.default: 1>, column_label='EMI', column_align='right', column_width=None), ColInfo(var='Var1', type=<ColInfoTypeEnum.default: 1>, column_label='Var1', column_align='right', column_width=None), ColInfo(var='Approved', type=<ColInfoTypeEnum.default: 1>, column_label='Approved', column_align='right', column_width=None)]), _stub=Stub([RowInfo(rownum_i=0, group_id=None, rowname=None, group_label=None, built=False), RowInfo(rownum_i=1, group_id=None, rowname=None, group_label=None, built=False)]), _row_groups=[], _group_rows=GroupRows([]), _spanners=Spanners([]), _heading=Heading(title=None, subtitle=None, preheader=None), _stubhead=None, _source_notes=[], _footnotes=[], _styles=[StyleInfo(locname='data', locnum=5, grpname=None, colname='Employer_Category2', rownum=0, colnum=None, styles=[CellStyleText(color='#FFFFFF', font=None, size=None, align=None, v_align=None, style=None, weight=None, stretch=None, decorate=None, transform=None, whitespace=None), CellStyleFill(color='#60027a')]), StyleInfo(locname='data', locnum=5, grpname=None, colname='Employer_Category2', rownum=1, colnum=None, styles=[CellStyleText(color='#FFFFFF', font=None, size=None, align=None, v_align=None, style=None, weight=None, stretch=None, decorate=None, transform=None, whitespace=None), CellStyleFill(color='#5e027b')]), StyleInfo(locname='data', locnum=5, grpname=None, colname='Monthly_Income', rownum=0, colnum=None, styles=[CellStyleText(color='#FFFFFF', font=None, size=None, align=None, v_align=None, style=None, weight=None, stretch=None, decorate=None, transform=None, whitespace=None), CellStyleFill(color='#bd0237')]), StyleInfo(locname='data', locnum=5, grpname=None, colname='Monthly_Income', rownum=1, colnum=None, styles=[CellStyleText(color='#FFFFFF', font=None, size=None, align=None, v_align=None, style=None, weight=None, stretch=None, decorate=None, transform=None, whitespace=None), CellStyleFill(color='#76026a')]), StyleInfo(locname='data', locnum=5, grpname=None, colname='Existing_EMI', rownum=0, colnum=None, styles=[CellStyleText(color='#FFFFFF', font=None, size=None, align=None, v_align=None, style=None, weight=None, stretch=None, decorate=None, transform=None, whitespace=None), CellStyleFill(color='#76026a')]), StyleInfo(locname='data', locnum=5, grpname=None, colname='Existing_EMI', rownum=1, colnum=None, styles=[CellStyleText(color='#FFFFFF', font=None, size=None, align=None, v_align=None, style=None, weight=None, stretch=None, decorate=None, transform=None, whitespace=None), CellStyleFill(color='#bd0237')]), StyleInfo(locname='data', locnum=5, grpname=None, colname='Loan_Amount', rownum=0, colnum=None, styles=[CellStyleText(color='#FFFFFF', font=None, size=None, align=None, v_align=None, style=None, weight=None, stretch=None, decorate=None, transform=None, whitespace=None), CellStyleFill(color='#630277')]), StyleInfo(locname='data', locnum=5, grpname=None, colname='Loan_Amount', rownum=1, colnum=None, styles=[CellStyleText(color='#FFFFFF', font=None, size=None, align=None, v_align=None, style=None, weight=None, stretch=None, decorate=None, transform=None, whitespace=None), CellStyleFill(color='#600279')]), StyleInfo(locname='data', locnum=5, grpname=None, colname='Loan_Period', rownum=0, colnum=None, styles=[CellStyleText(color='#FFFFFF', font=None, size=None, align=None, v_align=None, style=None, weight=None, stretch=None, decorate=None, transform=None, whitespace=None), CellStyleFill(color='#5f027a')]), StyleInfo(locname='data', locnum=5, grpname=None, colname='Loan_Period', rownum=1, colnum=None, styles=[CellStyleText(color='#FFFFFF', font=None, size=None, align=None, v_align=None, style=None, weight=None, stretch=None, decorate=None, transform=None, whitespace=None), CellStyleFill(color='#5f027a')]), StyleInfo(locname='data', locnum=5, grpname=None, colname='Interest_Rate', rownum=0, colnum=None, styles=[CellStyleText(color='#FFFFFF', font=None, size=None, align=None, v_align=None, style=None, weight=None, stretch=None, decorate=None, transform=None, whitespace=None), CellStyleFill(color='#5e027b')]), StyleInfo(locname='data', locnum=5, grpname=None, colname='Interest_Rate', rownum=1, colnum=None, styles=[CellStyleText(color='#FFFFFF', font=None, size=None, align=None, v_align=None, style=None, weight=None, stretch=None, decorate=None, transform=None, whitespace=None), CellStyleFill(color='#5d027c')]), StyleInfo(locname='data', locnum=5, grpname=None, colname='EMI', rownum=0, colnum=None, styles=[CellStyleText(color='#FFFFFF', font=None, size=None, align=None, v_align=None, style=None, weight=None, stretch=None, decorate=None, transform=None, whitespace=None), CellStyleFill(color='#630278')]), StyleInfo(locname='data', locnum=5, grpname=None, colname='EMI', rownum=1, colnum=None, styles=[CellStyleText(color='#FFFFFF', font=None, size=None, align=None, v_align=None, style=None, weight=None, stretch=None, decorate=None, transform=None, whitespace=None), CellStyleFill(color='#60027a')]), StyleInfo(locname='data', locnum=5, grpname=None, colname='Var1', rownum=0, colnum=None, styles=[CellStyleText(color='#FFFFFF', font=None, size=None, align=None, v_align=None, style=None, weight=None, stretch=None, decorate=None, transform=None, whitespace=None), CellStyleFill(color='#620278')]), StyleInfo(locname='data', locnum=5, grpname=None, colname='Var1', rownum=1, colnum=None, styles=[CellStyleText(color='#FFFFFF', font=None, size=None, align=None, v_align=None, style=None, weight=None, stretch=None, decorate=None, transform=None, whitespace=None), CellStyleFill(color='#60027a')]), StyleInfo(locname='data', locnum=5, grpname=None, colname='Approved', rownum=0, colnum=None, styles=[CellStyleText(color='#FFFFFF', font=None, size=None, align=None, v_align=None, style=None, weight=None, stretch=None, decorate=None, transform=None, whitespace=None), CellStyleFill(color='#60027a')]), StyleInfo(locname='data', locnum=5, grpname=None, colname='Approved', rownum=1, colnum=None, styles=[CellStyleText(color='#FFFFFF', font=None, size=None, align=None, v_align=None, style=None, weight=None, stretch=None, decorate=None, transform=None, whitespace=None), CellStyleFill(color='#620278')])], _locale=<great_tables._gt_data.Locale object at 0x70861718aa50>, _formats=[<great_tables._gt_data.FormatInfo object at 0x7086171ac490>], _substitutions=[], _options=Options(table_id=OptionsInfo(scss=False, category='table', type='value', value=None), table_caption=OptionsInfo(scss=False, category='table', type='value', value=None), table_width=OptionsInfo(scss=True, category='table', type='px', value='auto'), table_layout=OptionsInfo(scss=True, category='table', type='value', value='fixed'), table_margin_left=OptionsInfo(scss=True, category='table', type='px', value='auto'), table_margin_right=OptionsInfo(scss=True, category='table', type='px', value='auto'), table_background_color=OptionsInfo(scss=True, category='table', type='value', value='#FFFFFF'), table_font_names=OptionsInfo(scss=False, category='table', type='values', value=['-apple-system', 'BlinkMacSystemFont', 'Segoe UI', 'Roboto', 'Oxygen', 'Ubuntu', 'Cantarell', 'Helvetica Neue', 'Fira Sans', 'Droid Sans', 'Arial', 'sans-serif']), table_font_size=OptionsInfo(scss=True, category='table', type='px', value='16px'), table_font_weight=OptionsInfo(scss=True, category='table', type='value', value='normal'), table_font_style=OptionsInfo(scss=True, category='table', type='value', value='normal'), table_font_color=OptionsInfo(scss=True, category='table', type='value', value='#333333'), table_font_color_light=OptionsInfo(scss=True, category='table', type='value', value='#FFFFFF'), table_border_top_include=OptionsInfo(scss=False, category='table', type='boolean', value=True), table_border_top_style=OptionsInfo(scss=True, category='table', type='value', value='solid'), table_border_top_width=OptionsInfo(scss=True, category='table', type='px', value='2px'), table_border_top_color=OptionsInfo(scss=True, category='table', type='value', value='#A8A8A8'), table_border_right_style=OptionsInfo(scss=True, category='table', type='value', value='none'), table_border_right_width=OptionsInfo(scss=True, category='table', type='px', value='2px'), table_border_right_color=OptionsInfo(scss=True, category='table', type='value', value='#D3D3D3'), table_border_bottom_include=OptionsInfo(scss=False, category='table', type='boolean', value=True), table_border_bottom_style=OptionsInfo(scss=True, category='table', type='value', value='solid'), table_border_bottom_width=OptionsInfo(scss=True, category='table', type='px', value='2px'), table_border_bottom_color=OptionsInfo(scss=True, category='table', type='value', value='#A8A8A8'), table_border_left_style=OptionsInfo(scss=True, category='table', type='value', value='none'), table_border_left_width=OptionsInfo(scss=True, category='table', type='px', value='2px'), table_border_left_color=OptionsInfo(scss=True, category='table', type='value', value='#D3D3D3'), heading_background_color=OptionsInfo(scss=True, category='heading', type='value', value=None), heading_align=OptionsInfo(scss=True, category='heading', type='value', value='center'), heading_title_font_size=OptionsInfo(scss=True, category='heading', type='px', value='125%'), heading_title_font_weight=OptionsInfo(scss=True, category='heading', type='value', value='initial'), heading_subtitle_font_size=OptionsInfo(scss=True, category='heading', type='px', value='85%'), heading_subtitle_font_weight=OptionsInfo(scss=True, category='heading', type='value', value='initial'), heading_padding=OptionsInfo(scss=True, category='heading', type='px', value='4px'), heading_padding_horizontal=OptionsInfo(scss=True, category='heading', type='px', value='5px'), heading_border_bottom_style=OptionsInfo(scss=True, category='heading', type='value', value='solid'), heading_border_bottom_width=OptionsInfo(scss=True, category='heading', type='px', value='2px'), heading_border_bottom_color=OptionsInfo(scss=True, category='heading', type='value', value='#D3D3D3'), heading_border_lr_style=OptionsInfo(scss=True, category='heading', type='value', value='none'), heading_border_lr_width=OptionsInfo(scss=True, category='heading', type='px', value='1px'), heading_border_lr_color=OptionsInfo(scss=True, category='heading', type='value', value='#D3D3D3'), column_labels_background_color=OptionsInfo(scss=True, category='column_labels', type='value', value=None), column_labels_font_size=OptionsInfo(scss=True, category='column_labels', type='px', value='100%'), column_labels_font_weight=OptionsInfo(scss=True, category='column_labels', type='value', value='normal'), column_labels_text_transform=OptionsInfo(scss=True, category='column_labels', type='value', value='inherit'), column_labels_padding=OptionsInfo(scss=True, category='column_labels', type='px', value='5px'), column_labels_padding_horizontal=OptionsInfo(scss=True, category='column_labels', type='px', value='5px'), column_labels_vlines_style=OptionsInfo(scss=True, category='table_body', type='value', value='none'), column_labels_vlines_width=OptionsInfo(scss=True, category='table_body', type='px', value='1px'), column_labels_vlines_color=OptionsInfo(scss=True, category='table_body', type='value', value='#D3D3D3'), column_labels_border_top_style=OptionsInfo(scss=True, category='column_labels', type='value', value='solid'), column_labels_border_top_width=OptionsInfo(scss=True, category='column_labels', type='px', value='2px'), column_labels_border_top_color=OptionsInfo(scss=True, category='column_labels', type='value', value='#D3D3D3'), column_labels_border_bottom_style=OptionsInfo(scss=True, category='column_labels', type='value', value='solid'), column_labels_border_bottom_width=OptionsInfo(scss=True, category='column_labels', type='px', value='2px'), column_labels_border_bottom_color=OptionsInfo(scss=True, category='column_labels', type='value', value='#D3D3D3'), column_labels_border_lr_style=OptionsInfo(scss=True, category='column_labels', type='value', value='none'), column_labels_border_lr_width=OptionsInfo(scss=True, category='column_labels', type='px', value='1px'), column_labels_border_lr_color=OptionsInfo(scss=True, category='column_labels', type='value', value='#D3D3D3'), column_labels_hidden=OptionsInfo(scss=False, category='column_labels', type='boolean', value=False), row_group_background_color=OptionsInfo(scss=True, category='row_group', type='value', value=None), row_group_font_size=OptionsInfo(scss=True, category='row_group', type='px', value='100%'), row_group_font_weight=OptionsInfo(scss=True, category='row_group', type='value', value='initial'), row_group_text_transform=OptionsInfo(scss=True, category='row_group', type='value', value='inherit'), row_group_padding=OptionsInfo(scss=True, category='row_group', type='px', value='8px'), row_group_padding_horizontal=OptionsInfo(scss=True, category='row_group', type='px', value='5px'), row_group_border_top_style=OptionsInfo(scss=True, category='row_group', type='value', value='solid'), row_group_border_top_width=OptionsInfo(scss=True, category='row_group', type='px', value='2px'), row_group_border_top_color=OptionsInfo(scss=True, category='row_group', type='value', value='#D3D3D3'), row_group_border_right_style=OptionsInfo(scss=True, category='row_group', type='value', value='none'), row_group_border_right_width=OptionsInfo(scss=True, category='row_group', type='px', value='1px'), row_group_border_right_color=OptionsInfo(scss=True, category='row_group', type='value', value='#D3D3D3'), row_group_border_bottom_style=OptionsInfo(scss=True, category='row_group', type='value', value='solid'), row_group_border_bottom_width=OptionsInfo(scss=True, category='row_group', type='px', value='2px'), row_group_border_bottom_color=OptionsInfo(scss=True, category='row_group', type='value', value='#D3D3D3'), row_group_border_left_style=OptionsInfo(scss=True, category='row_group', type='value', value='none'), row_group_border_left_width=OptionsInfo(scss=True, category='row_group', type='px', value='1px'), row_group_border_left_color=OptionsInfo(scss=True, category='row_group', type='value', value='#D3D3D3'), row_group_as_column=OptionsInfo(scss=False, category='row_group', type='boolean', value=False), table_body_hlines_style=OptionsInfo(scss=True, category='table_body', type='value', value='solid'), table_body_hlines_width=OptionsInfo(scss=True, category='table_body', type='px', value='1px'), table_body_hlines_color=OptionsInfo(scss=True, category='table_body', type='value', value='#D3D3D3'), table_body_vlines_style=OptionsInfo(scss=True, category='table_body', type='value', value='none'), table_body_vlines_width=OptionsInfo(scss=True, category='table_body', type='px', value='1px'), table_body_vlines_color=OptionsInfo(scss=True, category='table_body', type='value', value='#D3D3D3'), table_body_border_top_style=OptionsInfo(scss=True, category='table_body', type='value', value='solid'), table_body_border_top_width=OptionsInfo(scss=True, category='table_body', type='px', value='2px'), table_body_border_top_color=OptionsInfo(scss=True, category='table_body', type='value', value='#D3D3D3'), table_body_border_bottom_style=OptionsInfo(scss=True, category='table_body', type='value', value='solid'), table_body_border_bottom_width=OptionsInfo(scss=True, category='table_body', type='px', value='2px'), table_body_border_bottom_color=OptionsInfo(scss=True, category='table_body', type='value', value='#D3D3D3'), data_row_padding=OptionsInfo(scss=True, category='data_row', type='px', value='8px'), data_row_padding_horizontal=OptionsInfo(scss=True, category='data_row', type='px', value='5px'), stub_background_color=OptionsInfo(scss=True, category='stub', type='value', value=None), stub_font_size=OptionsInfo(scss=True, category='stub', type='px', value='100%'), stub_font_weight=OptionsInfo(scss=True, category='stub', type='value', value='initial'), stub_text_transform=OptionsInfo(scss=True, category='stub', type='value', value='inherit'), stub_border_style=OptionsInfo(scss=True, category='stub', type='value', value='solid'), stub_border_width=OptionsInfo(scss=True, category='stub', type='px', value='2px'), stub_border_color=OptionsInfo(scss=True, category='stub', type='value', value='#D3D3D3'), stub_row_group_background_color=OptionsInfo(scss=True, category='stub', type='value', value=None), stub_row_group_font_size=OptionsInfo(scss=True, category='stub', type='px', value='100%'), stub_row_group_font_weight=OptionsInfo(scss=True, category='stub', type='value', value='initial'), stub_row_group_text_transform=OptionsInfo(scss=True, category='stub', type='value', value='inherit'), stub_row_group_border_style=OptionsInfo(scss=True, category='stub', type='value', value='solid'), stub_row_group_border_width=OptionsInfo(scss=True, category='stub', type='px', value='2px'), stub_row_group_border_color=OptionsInfo(scss=True, category='stub', type='value', value='#D3D3D3'), source_notes_padding=OptionsInfo(scss=True, category='source_notes', type='px', value='4px'), source_notes_padding_horizontal=OptionsInfo(scss=True, category='source_notes', type='px', value='5px'), source_notes_background_color=OptionsInfo(scss=True, category='source_notes', type='value', value=None), source_notes_font_size=OptionsInfo(scss=True, category='source_notes', type='px', value='90%'), source_notes_border_bottom_style=OptionsInfo(scss=True, category='source_notes', type='value', value='none'), source_notes_border_bottom_width=OptionsInfo(scss=True, category='source_notes', type='px', value='2px'), source_notes_border_bottom_color=OptionsInfo(scss=True, category='source_notes', type='value', value='#D3D3D3'), source_notes_border_lr_style=OptionsInfo(scss=True, category='source_notes', type='value', value='none'), source_notes_border_lr_width=OptionsInfo(scss=True, category='source_notes', type='px', value='2px'), source_notes_border_lr_color=OptionsInfo(scss=True, category='source_notes', type='value', value='#D3D3D3'), source_notes_multiline=OptionsInfo(scss=False, category='source_notes', type='boolean', value=True), source_notes_sep=OptionsInfo(scss=False, category='source_notes', type='value', value=' '), container_width=OptionsInfo(scss=False, category='container', type='px', value='auto'), container_height=OptionsInfo(scss=False, category='container', type='px', value='auto'), container_padding_x=OptionsInfo(scss=False, category='container', type='px', value='0px'), container_padding_y=OptionsInfo(scss=False, category='container', type='px', value='10px'), container_overflow_x=OptionsInfo(scss=False, category='container', type='overflow', value='auto'), container_overflow_y=OptionsInfo(scss=False, category='container', type='overflow', value='auto'), quarto_disable_processing=OptionsInfo(scss=False, category='quarto', type='logical', value=False), quarto_use_bootstrap=OptionsInfo(scss=False, category='quarto', type='logical', value=False)), _has_built=False)"
      ]
     },
     "execution_count": 18,
     "metadata": {},
     "output_type": "execute_result"
    }
   ],
   "source": [
    "dia.plot_corr(subset=[\"Monthly_Income\", \"Existing_EMI\"], method=\"spearman\")"
   ]
  },
  {
   "cell_type": "code",
   "execution_count": 19,
   "metadata": {},
   "outputs": [
    {
     "name": "stderr",
     "output_type": "stream",
     "text": [
      "INFO:polars_ds.diagnosis:The following columns are not numeric/not in the dataframe, skipped: \n",
      "['ID', 'Employer_Code', 'City_Code', 'Primary_Bank_Type', 'DOB', 'Source_Category', 'Source', 'Contacted', 'City_Category', 'Lead_Creation_Date', 'Customer_Existing_Primary_Bank_Code', 'Employer_Category1', 'Gender']\n"
     ]
    },
    {
     "data": {
      "text/html": [
       "<div id=\"kyjrtwvkef\" style=\"padding-left:0px;padding-right:0px;padding-top:10px;padding-bottom:10px;overflow-x:auto;overflow-y:auto;width:auto;height:auto;\">\n",
       "<style>\n",
       "#kyjrtwvkef table {\n",
       "          font-family: -apple-system, BlinkMacSystemFont, 'Segoe UI', Roboto, Oxygen, Ubuntu, Cantarell, 'Helvetica Neue', 'Fira Sans', 'Droid Sans', Arial, sans-serif;\n",
       "          -webkit-font-smoothing: antialiased;\n",
       "          -moz-osx-font-smoothing: grayscale;\n",
       "        }\n",
       "\n",
       "#kyjrtwvkef thead, tbody, tfoot, tr, td, th { border-style: none !important; }\n",
       " tr { background-color: transparent !important; }\n",
       "#kyjrtwvkef p { margin: 0 !important; padding: 0 !important; }\n",
       " #kyjrtwvkef .gt_table { display: table !important; border-collapse: collapse !important; line-height: normal !important; margin-left: auto !important; margin-right: auto !important; color: #333333 !important; font-size: 16px !important; font-weight: normal !important; font-style: normal !important; background-color: #FFFFFF !important; width: auto !important; border-top-style: solid !important; border-top-width: 2px !important; border-top-color: #A8A8A8 !important; border-right-style: none !important; border-right-width: 2px !important; border-right-color: #D3D3D3 !important; border-bottom-style: solid !important; border-bottom-width: 2px !important; border-bottom-color: #A8A8A8 !important; border-left-style: none !important; border-left-width: 2px !important; border-left-color: #D3D3D3 !important; }\n",
       " #kyjrtwvkef .gt_caption { padding-top: 4px !important; padding-bottom: 4px !important; }\n",
       " #kyjrtwvkef .gt_title { color: #333333 !important; font-size: 125% !important; font-weight: initial !important; padding-top: 4px !important; padding-bottom: 4px !important; padding-left: 5px !important; padding-right: 5px !important; border-bottom-color: #FFFFFF !important; border-bottom-width: 0 !important; }\n",
       " #kyjrtwvkef .gt_subtitle { color: #333333 !important; font-size: 85% !important; font-weight: initial !important; padding-top: 3px !important; padding-bottom: 5px !important; padding-left: 5px !important; padding-right: 5px !important; border-top-color: #FFFFFF !important; border-top-width: 0 !important; }\n",
       " #kyjrtwvkef .gt_heading { background-color: #FFFFFF !important; text-align: center !important; border-bottom-color: #FFFFFF !important; border-left-style: none !important; border-left-width: 1px !important; border-left-color: #D3D3D3 !important; border-right-style: none !important; border-right-width: 1px !important; border-right-color: #D3D3D3 !important; }\n",
       " #kyjrtwvkef .gt_bottom_border { border-bottom-style: solid !important; border-bottom-width: 2px !important; border-bottom-color: #D3D3D3 !important; }\n",
       " #kyjrtwvkef .gt_col_headings { border-top-style: solid !important; border-top-width: 2px !important; border-top-color: #D3D3D3 !important; border-bottom-style: solid !important; border-bottom-width: 2px !important; border-bottom-color: #D3D3D3 !important; border-left-style: none !important; border-left-width: 1px !important; border-left-color: #D3D3D3 !important; border-right-style: none !important; border-right-width: 1px !important; border-right-color: #D3D3D3 !important; }\n",
       " #kyjrtwvkef .gt_col_heading { color: #333333 !important; background-color: #FFFFFF !important; font-size: 100% !important; font-weight: normal !important; text-transform: inherit !important; border-left-style: none !important; border-left-width: 1px !important; border-left-color: #D3D3D3 !important; border-right-style: none !important; border-right-width: 1px !important; border-right-color: #D3D3D3 !important; vertical-align: bottom !important; padding-top: 5px !important; padding-bottom: 5px !important; padding-left: 5px !important; padding-right: 5px !important; overflow-x: hidden !important; }\n",
       " #kyjrtwvkef .gt_column_spanner_outer { color: #333333 !important; background-color: #FFFFFF !important; font-size: 100% !important; font-weight: normal !important; text-transform: inherit !important; padding-top: 0 !important; padding-bottom: 0 !important; padding-left: 4px !important; padding-right: 4px !important; }\n",
       " #kyjrtwvkef .gt_column_spanner_outer:first-child { padding-left: 0 !important; }\n",
       " #kyjrtwvkef .gt_column_spanner_outer:last-child { padding-right: 0 !important; }\n",
       " #kyjrtwvkef .gt_column_spanner { border-bottom-style: solid !important; border-bottom-width: 2px !important; border-bottom-color: #D3D3D3 !important; vertical-align: bottom !important; padding-top: 5px !important; padding-bottom: 5px !important; overflow-x: hidden !important; display: inline-block !important; width: 100% !important; }\n",
       " #kyjrtwvkef .gt_spanner_row { border-bottom-style: hidden !important; }\n",
       " #kyjrtwvkef .gt_group_heading { padding-top: 8px !important; padding-bottom: 8px !important; padding-left: 5px !important; padding-right: 5px !important; color: #333333 !important; background-color: #FFFFFF !important; font-size: 100% !important; font-weight: initial !important; text-transform: inherit !important; border-top-style: solid !important; border-top-width: 2px !important; border-top-color: #D3D3D3 !important; border-bottom-style: solid !important; border-bottom-width: 2px !important; border-bottom-color: #D3D3D3 !important; border-left-style: none !important; border-left-width: 1px !important; border-left-color: #D3D3D3 !important; border-right-style: none !important; border-right-width: 1px !important; border-right-color: #D3D3D3 !important; vertical-align: middle !important; text-align: left !important; }\n",
       " #kyjrtwvkef .gt_empty_group_heading { padding: 0.5px !important; color: #333333 !important; background-color: #FFFFFF !important; font-size: 100% !important; font-weight: initial !important; border-top-style: solid !important; border-top-width: 2px !important; border-top-color: #D3D3D3 !important; border-bottom-style: solid !important; border-bottom-width: 2px !important; border-bottom-color: #D3D3D3 !important; vertical-align: middle !important; }\n",
       " #kyjrtwvkef .gt_from_md> :first-child { margin-top: 0 !important; }\n",
       " #kyjrtwvkef .gt_from_md> :last-child { margin-bottom: 0 !important; }\n",
       " #kyjrtwvkef .gt_row { padding-top: 8px !important; padding-bottom: 8px !important; padding-left: 5px !important; padding-right: 5px !important; margin: 10px !important; border-top-style: solid !important; border-top-width: 1px !important; border-top-color: #D3D3D3 !important; border-left-style: none !important; border-left-width: 1px !important; border-left-color: #D3D3D3 !important; border-right-style: none !important; border-right-width: 1px !important; border-right-color: #D3D3D3 !important; vertical-align: middle !important; overflow-x: hidden !important; }\n",
       " #kyjrtwvkef .gt_stub { color: #333333 !important; background-color: #FFFFFF !important; font-size: 100% !important; font-weight: initial !important; text-transform: inherit !important; border-right-style: solid !important; border-right-width: 2px !important; border-right-color: #D3D3D3 !important; padding-left: 5px !important; padding-right: 5px !important; }\n",
       " #kyjrtwvkef .gt_stub_row_group { color: #333333 !important; background-color: #FFFFFF !important; font-size: 100% !important; font-weight: initial !important; text-transform: inherit !important; border-right-style: solid !important; border-right-width: 2px !important; border-right-color: #D3D3D3 !important; padding-left: 5px !important; padding-right: 5px !important; vertical-align: top !important; }\n",
       " #kyjrtwvkef .gt_row_group_first td { border-top-width: 2px !important; }\n",
       " #kyjrtwvkef .gt_row_group_first th { border-top-width: 2px !important; }\n",
       " #kyjrtwvkef .gt_table_body { border-top-style: solid !important; border-top-width: 2px !important; border-top-color: #D3D3D3 !important; border-bottom-style: solid !important; border-bottom-width: 2px !important; border-bottom-color: #D3D3D3 !important; }\n",
       " #kyjrtwvkef .gt_sourcenotes { color: #333333 !important; background-color: #FFFFFF !important; border-bottom-style: none !important; border-bottom-width: 2px !important; border-bottom-color: #D3D3D3 !important; border-left-style: none !important; border-left-width: 2px !important; border-left-color: #D3D3D3 !important; border-right-style: none !important; border-right-width: 2px !important; border-right-color: #D3D3D3 !important; }\n",
       " #kyjrtwvkef .gt_sourcenote { font-size: 90% !important; padding-top: 4px !important; padding-bottom: 4px !important; padding-left: 5px !important; padding-right: 5px !important; text-align: left !important; }\n",
       " #kyjrtwvkef .gt_left { text-align: left !important; }\n",
       " #kyjrtwvkef .gt_center { text-align: center !important; }\n",
       " #kyjrtwvkef .gt_right { text-align: right !important; font-variant-numeric: tabular-nums !important; }\n",
       " #kyjrtwvkef .gt_font_normal { font-weight: normal !important; }\n",
       " #kyjrtwvkef .gt_font_bold { font-weight: bold !important; }\n",
       " #kyjrtwvkef .gt_font_italic { font-style: italic !important; }\n",
       " #kyjrtwvkef .gt_super { font-size: 65% !important; }\n",
       " #kyjrtwvkef .gt_footnote_marks { font-size: 75% !important; vertical-align: 0.4em !important; position: initial !important; }\n",
       " #kyjrtwvkef .gt_asterisk { font-size: 100% !important; vertical-align: 0 !important; }\n",
       " \n",
       "</style>\n",
       "<table class=\"gt_table\" data-quarto-disable-processing=\"false\" data-quarto-bootstrap=\"false\">\n",
       "\n",
       "<tr class=\"gt_col_headings\">\n",
       "  <th class=\"gt_col_heading gt_columns_bottom_border gt_left\" rowspan=\"1\" colspan=\"1\" scope=\"col\" id=\"column\">column</th>\n",
       "  <th class=\"gt_col_heading gt_columns_bottom_border gt_right\" rowspan=\"1\" colspan=\"1\" scope=\"col\" id=\"Employer_Category2\">Employer_Category2</th>\n",
       "  <th class=\"gt_col_heading gt_columns_bottom_border gt_right\" rowspan=\"1\" colspan=\"1\" scope=\"col\" id=\"Monthly_Income\">Monthly_Income</th>\n",
       "  <th class=\"gt_col_heading gt_columns_bottom_border gt_right\" rowspan=\"1\" colspan=\"1\" scope=\"col\" id=\"Existing_EMI\">Existing_EMI</th>\n",
       "  <th class=\"gt_col_heading gt_columns_bottom_border gt_right\" rowspan=\"1\" colspan=\"1\" scope=\"col\" id=\"Loan_Amount\">Loan_Amount</th>\n",
       "  <th class=\"gt_col_heading gt_columns_bottom_border gt_right\" rowspan=\"1\" colspan=\"1\" scope=\"col\" id=\"Loan_Period\">Loan_Period</th>\n",
       "  <th class=\"gt_col_heading gt_columns_bottom_border gt_right\" rowspan=\"1\" colspan=\"1\" scope=\"col\" id=\"Interest_Rate\">Interest_Rate</th>\n",
       "  <th class=\"gt_col_heading gt_columns_bottom_border gt_right\" rowspan=\"1\" colspan=\"1\" scope=\"col\" id=\"EMI\">EMI</th>\n",
       "  <th class=\"gt_col_heading gt_columns_bottom_border gt_right\" rowspan=\"1\" colspan=\"1\" scope=\"col\" id=\"Var1\">Var1</th>\n",
       "  <th class=\"gt_col_heading gt_columns_bottom_border gt_right\" rowspan=\"1\" colspan=\"1\" scope=\"col\" id=\"Approved\">Approved</th>\n",
       "</tr>\n",
       "<tbody class=\"gt_table_body\">\n",
       "<tr>\n",
       "  <td class=\"gt_row gt_left\">Employer_Category2</td>\n",
       "  <td style=\"color: #FFFFFF; background-color: #bd0237;\" class=\"gt_row gt_right\">1.000</td>\n",
       "  <td style=\"color: #FFFFFF; background-color: #60027a;\" class=\"gt_row gt_right\">0.002</td>\n",
       "  <td style=\"color: #FFFFFF; background-color: #5e027b;\" class=\"gt_row gt_right\">−0.017</td>\n",
       "  <td style=\"color: #FFFFFF; background-color: #5a027e;\" class=\"gt_row gt_right\">−0.061</td>\n",
       "  <td style=\"color: #FFFFFF; background-color: #5f027a;\" class=\"gt_row gt_right\">−0.007</td>\n",
       "  <td style=\"color: #FFFFFF; background-color: #70026e;\" class=\"gt_row gt_right\">0.178</td>\n",
       "  <td style=\"color: #FFFFFF; background-color: #5b027d;\" class=\"gt_row gt_right\">−0.052</td>\n",
       "  <td style=\"color: #FFFFFF; background-color: #540282;\" class=\"gt_row gt_right\">−0.124</td>\n",
       "  <td style=\"color: #FFFFFF; background-color: #5e027b;\" class=\"gt_row gt_right\">−0.019</td>\n",
       "</tr>\n",
       "<tr>\n",
       "  <td class=\"gt_row gt_left\">Monthly_Income</td>\n",
       "  <td style=\"color: #FFFFFF; background-color: #60027a;\" class=\"gt_row gt_right\">0.002</td>\n",
       "  <td style=\"color: #FFFFFF; background-color: #bd0237;\" class=\"gt_row gt_right\">1.000</td>\n",
       "  <td style=\"color: #FFFFFF; background-color: #76026a;\" class=\"gt_row gt_right\">0.246</td>\n",
       "  <td style=\"color: #FFFFFF; background-color: #630277;\" class=\"gt_row gt_right\">0.040</td>\n",
       "  <td style=\"color: #FFFFFF; background-color: #5f027a;\" class=\"gt_row gt_right\">−0.004</td>\n",
       "  <td style=\"color: #FFFFFF; background-color: #5e027b;\" class=\"gt_row gt_right\">−0.015</td>\n",
       "  <td style=\"color: #FFFFFF; background-color: #630278;\" class=\"gt_row gt_right\">0.035</td>\n",
       "  <td style=\"color: #FFFFFF; background-color: #620278;\" class=\"gt_row gt_right\">0.025</td>\n",
       "  <td style=\"color: #FFFFFF; background-color: #60027a;\" class=\"gt_row gt_right\">0.000</td>\n",
       "</tr>\n",
       "<tr>\n",
       "  <td class=\"gt_row gt_left\">Existing_EMI</td>\n",
       "  <td style=\"color: #FFFFFF; background-color: #5e027b;\" class=\"gt_row gt_right\">−0.017</td>\n",
       "  <td style=\"color: #FFFFFF; background-color: #76026a;\" class=\"gt_row gt_right\">0.246</td>\n",
       "  <td style=\"color: #FFFFFF; background-color: #bd0237;\" class=\"gt_row gt_right\">1.000</td>\n",
       "  <td style=\"color: #FFFFFF; background-color: #600279;\" class=\"gt_row gt_right\">0.009</td>\n",
       "  <td style=\"color: #FFFFFF; background-color: #5f027a;\" class=\"gt_row gt_right\">−0.005</td>\n",
       "  <td style=\"color: #FFFFFF; background-color: #5d027c;\" class=\"gt_row gt_right\">−0.023</td>\n",
       "  <td style=\"color: #FFFFFF; background-color: #60027a;\" class=\"gt_row gt_right\">0.001</td>\n",
       "  <td style=\"color: #FFFFFF; background-color: #60027a;\" class=\"gt_row gt_right\">0.007</td>\n",
       "  <td style=\"color: #FFFFFF; background-color: #620278;\" class=\"gt_row gt_right\">0.028</td>\n",
       "</tr>\n",
       "<tr>\n",
       "  <td class=\"gt_row gt_left\">Loan_Amount</td>\n",
       "  <td style=\"color: #FFFFFF; background-color: #5a027e;\" class=\"gt_row gt_right\">−0.061</td>\n",
       "  <td style=\"color: #FFFFFF; background-color: #630277;\" class=\"gt_row gt_right\">0.040</td>\n",
       "  <td style=\"color: #FFFFFF; background-color: #600279;\" class=\"gt_row gt_right\">0.009</td>\n",
       "  <td style=\"color: #FFFFFF; background-color: #bd0237;\" class=\"gt_row gt_right\">1.000</td>\n",
       "  <td style=\"color: #FFFFFF; background-color: #830261;\" class=\"gt_row gt_right\">0.380</td>\n",
       "  <td style=\"color: #FFFFFF; background-color: #410290;\" class=\"gt_row gt_right\">−0.321</td>\n",
       "  <td style=\"color: #FFFFFF; background-color: #b5023d;\" class=\"gt_row gt_right\">0.917</td>\n",
       "  <td style=\"color: #FFFFFF; background-color: #7c0265;\" class=\"gt_row gt_right\">0.308</td>\n",
       "  <td style=\"color: #FFFFFF; background-color: #640277;\" class=\"gt_row gt_right\">0.047</td>\n",
       "</tr>\n",
       "<tr>\n",
       "  <td class=\"gt_row gt_left\">Loan_Period</td>\n",
       "  <td style=\"color: #FFFFFF; background-color: #5f027a;\" class=\"gt_row gt_right\">−0.007</td>\n",
       "  <td style=\"color: #FFFFFF; background-color: #5f027a;\" class=\"gt_row gt_right\">−0.004</td>\n",
       "  <td style=\"color: #FFFFFF; background-color: #5f027a;\" class=\"gt_row gt_right\">−0.005</td>\n",
       "  <td style=\"color: #FFFFFF; background-color: #830261;\" class=\"gt_row gt_right\">0.380</td>\n",
       "  <td style=\"color: #FFFFFF; background-color: #bd0237;\" class=\"gt_row gt_right\">1.000</td>\n",
       "  <td style=\"color: #FFFFFF; background-color: #560280;\" class=\"gt_row gt_right\">−0.097</td>\n",
       "  <td style=\"color: #FFFFFF; background-color: #670274;\" class=\"gt_row gt_right\">0.084</td>\n",
       "  <td style=\"color: #FFFFFF; background-color: #59027e;\" class=\"gt_row gt_right\">−0.066</td>\n",
       "  <td style=\"color: #FFFFFF; background-color: #5f027a;\" class=\"gt_row gt_right\">−0.000</td>\n",
       "</tr>\n",
       "<tr>\n",
       "  <td class=\"gt_row gt_left\">Interest_Rate</td>\n",
       "  <td style=\"color: #FFFFFF; background-color: #70026e;\" class=\"gt_row gt_right\">0.178</td>\n",
       "  <td style=\"color: #FFFFFF; background-color: #5e027b;\" class=\"gt_row gt_right\">−0.015</td>\n",
       "  <td style=\"color: #FFFFFF; background-color: #5d027c;\" class=\"gt_row gt_right\">−0.023</td>\n",
       "  <td style=\"color: #FFFFFF; background-color: #410290;\" class=\"gt_row gt_right\">−0.321</td>\n",
       "  <td style=\"color: #FFFFFF; background-color: #560280;\" class=\"gt_row gt_right\">−0.097</td>\n",
       "  <td style=\"color: #FFFFFF; background-color: #bd0237;\" class=\"gt_row gt_right\">1.000</td>\n",
       "  <td style=\"color: #FFFFFF; background-color: #49028a;\" class=\"gt_row gt_right\">−0.242</td>\n",
       "  <td style=\"color: #FFFFFF; background-color: #2c029f;\" class=\"gt_row gt_right\">−0.554</td>\n",
       "  <td style=\"color: #FFFFFF; background-color: #570280;\" class=\"gt_row gt_right\">−0.094</td>\n",
       "</tr>\n",
       "<tr>\n",
       "  <td class=\"gt_row gt_left\">EMI</td>\n",
       "  <td style=\"color: #FFFFFF; background-color: #5b027d;\" class=\"gt_row gt_right\">−0.052</td>\n",
       "  <td style=\"color: #FFFFFF; background-color: #630278;\" class=\"gt_row gt_right\">0.035</td>\n",
       "  <td style=\"color: #FFFFFF; background-color: #60027a;\" class=\"gt_row gt_right\">0.001</td>\n",
       "  <td style=\"color: #FFFFFF; background-color: #b5023d;\" class=\"gt_row gt_right\">0.917</td>\n",
       "  <td style=\"color: #FFFFFF; background-color: #670274;\" class=\"gt_row gt_right\">0.084</td>\n",
       "  <td style=\"color: #FFFFFF; background-color: #49028a;\" class=\"gt_row gt_right\">−0.242</td>\n",
       "  <td style=\"color: #FFFFFF; background-color: #bd0237;\" class=\"gt_row gt_right\">1.000</td>\n",
       "  <td style=\"color: #FFFFFF; background-color: #7b0266;\" class=\"gt_row gt_right\">0.293</td>\n",
       "  <td style=\"color: #FFFFFF; background-color: #640277;\" class=\"gt_row gt_right\">0.050</td>\n",
       "</tr>\n",
       "<tr>\n",
       "  <td class=\"gt_row gt_left\">Var1</td>\n",
       "  <td style=\"color: #FFFFFF; background-color: #540282;\" class=\"gt_row gt_right\">−0.124</td>\n",
       "  <td style=\"color: #FFFFFF; background-color: #620278;\" class=\"gt_row gt_right\">0.025</td>\n",
       "  <td style=\"color: #FFFFFF; background-color: #60027a;\" class=\"gt_row gt_right\">0.007</td>\n",
       "  <td style=\"color: #FFFFFF; background-color: #7c0265;\" class=\"gt_row gt_right\">0.308</td>\n",
       "  <td style=\"color: #FFFFFF; background-color: #59027e;\" class=\"gt_row gt_right\">−0.066</td>\n",
       "  <td style=\"color: #FFFFFF; background-color: #2c029f;\" class=\"gt_row gt_right\">−0.554</td>\n",
       "  <td style=\"color: #FFFFFF; background-color: #7b0266;\" class=\"gt_row gt_right\">0.293</td>\n",
       "  <td style=\"color: #FFFFFF; background-color: #bd0237;\" class=\"gt_row gt_right\">1.000</td>\n",
       "  <td style=\"color: #FFFFFF; background-color: #6a0272;\" class=\"gt_row gt_right\">0.112</td>\n",
       "</tr>\n",
       "<tr>\n",
       "  <td class=\"gt_row gt_left\">Approved</td>\n",
       "  <td style=\"color: #FFFFFF; background-color: #5e027b;\" class=\"gt_row gt_right\">−0.019</td>\n",
       "  <td style=\"color: #FFFFFF; background-color: #60027a;\" class=\"gt_row gt_right\">0.000</td>\n",
       "  <td style=\"color: #FFFFFF; background-color: #620278;\" class=\"gt_row gt_right\">0.028</td>\n",
       "  <td style=\"color: #FFFFFF; background-color: #640277;\" class=\"gt_row gt_right\">0.047</td>\n",
       "  <td style=\"color: #FFFFFF; background-color: #5f027a;\" class=\"gt_row gt_right\">−0.000</td>\n",
       "  <td style=\"color: #FFFFFF; background-color: #570280;\" class=\"gt_row gt_right\">−0.094</td>\n",
       "  <td style=\"color: #FFFFFF; background-color: #640277;\" class=\"gt_row gt_right\">0.050</td>\n",
       "  <td style=\"color: #FFFFFF; background-color: #6a0272;\" class=\"gt_row gt_right\">0.112</td>\n",
       "  <td style=\"color: #FFFFFF; background-color: #bd0237;\" class=\"gt_row gt_right\">1.000</td>\n",
       "</tr>\n",
       "</tbody>\n",
       "\n",
       "\n",
       "</table>\n",
       "\n",
       "</div>\n",
       "        "
      ],
      "text/plain": [
       "GT(_tbl_data=shape: (9, 10)\n",
       "┌───────────┬───────────┬───────────┬───────────┬───┬───────────┬───────────┬───────────┬──────────┐\n",
       "│ column    ┆ Employer_ ┆ Monthly_I ┆ Existing_ ┆ … ┆ Interest_ ┆ EMI       ┆ Var1      ┆ Approved │\n",
       "│ ---       ┆ Category2 ┆ ncome     ┆ EMI       ┆   ┆ Rate      ┆ ---       ┆ ---       ┆ ---      │\n",
       "│ str       ┆ ---       ┆ ---       ┆ ---       ┆   ┆ ---       ┆ f64       ┆ f64       ┆ f64      │\n",
       "│           ┆ f64       ┆ f64       ┆ f64       ┆   ┆ f64       ┆           ┆           ┆          │\n",
       "╞═══════════╪═══════════╪═══════════╪═══════════╪═══╪═══════════╪═══════════╪═══════════╪══════════╡\n",
       "│ Employer_ ┆ 1.0       ┆ 0.001546  ┆ -0.017074 ┆ … ┆ 0.177605  ┆ -0.051729 ┆ -0.124415 ┆ -0.01941 │\n",
       "│ Category2 ┆           ┆           ┆           ┆   ┆           ┆           ┆           ┆ 3        │\n",
       "│ Monthly_I ┆ 0.001546  ┆ 1.0       ┆ 0.245826  ┆ … ┆ -0.014789 ┆ 0.035163  ┆ 0.024854  ┆ 0.000472 │\n",
       "│ ncome     ┆           ┆           ┆           ┆   ┆           ┆           ┆           ┆          │\n",
       "│ Existing_ ┆ -0.017074 ┆ 0.245826  ┆ 1.0       ┆ … ┆ -0.023001 ┆ 0.000813  ┆ 0.00662   ┆ 0.027821 │\n",
       "│ EMI       ┆           ┆           ┆           ┆   ┆           ┆           ┆           ┆          │\n",
       "│ Loan_Amou ┆ -0.061479 ┆ 0.039998  ┆ 0.008653  ┆ … ┆ -0.321095 ┆ 0.916832  ┆ 0.307945  ┆ 0.046502 │\n",
       "│ nt        ┆           ┆           ┆           ┆   ┆           ┆           ┆           ┆          │\n",
       "│ Loan_Peri ┆ -0.007449 ┆ -0.003671 ┆ -0.004603 ┆ … ┆ -0.096629 ┆ 0.083965  ┆ -0.065702 ┆ -0.00037 │\n",
       "│ od        ┆           ┆           ┆           ┆   ┆           ┆           ┆           ┆ 5        │\n",
       "│ Interest_ ┆ 0.177605  ┆ -0.014789 ┆ -0.023001 ┆ … ┆ 1.0       ┆ -0.241648 ┆ -0.554138 ┆ -0.09438 │\n",
       "│ Rate      ┆           ┆           ┆           ┆   ┆           ┆           ┆           ┆ 7        │\n",
       "│ EMI       ┆ -0.051729 ┆ 0.035163  ┆ 0.000813  ┆ … ┆ -0.241648 ┆ 1.0       ┆ 0.293474  ┆ 0.050129 │\n",
       "│ Var1      ┆ -0.124415 ┆ 0.024854  ┆ 0.00662   ┆ … ┆ -0.554138 ┆ 0.293474  ┆ 1.0       ┆ 0.11244  │\n",
       "│ Approved  ┆ -0.019413 ┆ 0.000472  ┆ 0.027821  ┆ … ┆ -0.094387 ┆ 0.050129  ┆ 0.11244   ┆ 1.0      │\n",
       "└───────────┴───────────┴───────────┴───────────┴───┴───────────┴───────────┴───────────┴──────────┘, _body=<great_tables._gt_data.Body object at 0x7086171d0c50>, _boxhead=Boxhead([ColInfo(var='column', type=<ColInfoTypeEnum.default: 1>, column_label='column', column_align='left', column_width=None), ColInfo(var='Employer_Category2', type=<ColInfoTypeEnum.default: 1>, column_label='Employer_Category2', column_align='right', column_width=None), ColInfo(var='Monthly_Income', type=<ColInfoTypeEnum.default: 1>, column_label='Monthly_Income', column_align='right', column_width=None), ColInfo(var='Existing_EMI', type=<ColInfoTypeEnum.default: 1>, column_label='Existing_EMI', column_align='right', column_width=None), ColInfo(var='Loan_Amount', type=<ColInfoTypeEnum.default: 1>, column_label='Loan_Amount', column_align='right', column_width=None), ColInfo(var='Loan_Period', type=<ColInfoTypeEnum.default: 1>, column_label='Loan_Period', column_align='right', column_width=None), ColInfo(var='Interest_Rate', type=<ColInfoTypeEnum.default: 1>, column_label='Interest_Rate', column_align='right', column_width=None), ColInfo(var='EMI', type=<ColInfoTypeEnum.default: 1>, column_label='EMI', column_align='right', column_width=None), ColInfo(var='Var1', type=<ColInfoTypeEnum.default: 1>, column_label='Var1', column_align='right', column_width=None), ColInfo(var='Approved', type=<ColInfoTypeEnum.default: 1>, column_label='Approved', column_align='right', column_width=None)]), _stub=Stub([RowInfo(rownum_i=0, group_id=None, rowname=None, group_label=None, built=False), RowInfo(rownum_i=1, group_id=None, rowname=None, group_label=None, built=False), RowInfo(rownum_i=2, group_id=None, rowname=None, group_label=None, built=False), RowInfo(rownum_i=3, group_id=None, rowname=None, group_label=None, built=False), RowInfo(rownum_i=4, group_id=None, rowname=None, group_label=None, built=False), RowInfo(rownum_i=5, group_id=None, rowname=None, group_label=None, built=False), RowInfo(rownum_i=6, group_id=None, rowname=None, group_label=None, built=False), RowInfo(rownum_i=7, group_id=None, rowname=None, group_label=None, built=False), RowInfo(rownum_i=8, group_id=None, rowname=None, group_label=None, built=False)]), _row_groups=[], _group_rows=GroupRows([]), _spanners=Spanners([]), _heading=Heading(title=None, subtitle=None, preheader=None), _stubhead=None, _source_notes=[], _footnotes=[], _styles=[StyleInfo(locname='data', locnum=5, grpname=None, colname='Employer_Category2', rownum=0, colnum=None, styles=[CellStyleText(color='#FFFFFF', font=None, size=None, align=None, v_align=None, style=None, weight=None, stretch=None, decorate=None, transform=None, whitespace=None), CellStyleFill(color='#bd0237')]), StyleInfo(locname='data', locnum=5, grpname=None, colname='Employer_Category2', rownum=1, colnum=None, styles=[CellStyleText(color='#FFFFFF', font=None, size=None, align=None, v_align=None, style=None, weight=None, stretch=None, decorate=None, transform=None, whitespace=None), CellStyleFill(color='#60027a')]), StyleInfo(locname='data', locnum=5, grpname=None, colname='Employer_Category2', rownum=2, colnum=None, styles=[CellStyleText(color='#FFFFFF', font=None, size=None, align=None, v_align=None, style=None, weight=None, stretch=None, decorate=None, transform=None, whitespace=None), CellStyleFill(color='#5e027b')]), StyleInfo(locname='data', locnum=5, grpname=None, colname='Employer_Category2', rownum=3, colnum=None, styles=[CellStyleText(color='#FFFFFF', font=None, size=None, align=None, v_align=None, style=None, weight=None, stretch=None, decorate=None, transform=None, whitespace=None), CellStyleFill(color='#5a027e')]), StyleInfo(locname='data', locnum=5, grpname=None, colname='Employer_Category2', rownum=4, colnum=None, styles=[CellStyleText(color='#FFFFFF', font=None, size=None, align=None, v_align=None, style=None, weight=None, stretch=None, decorate=None, transform=None, whitespace=None), CellStyleFill(color='#5f027a')]), StyleInfo(locname='data', locnum=5, grpname=None, colname='Employer_Category2', rownum=5, colnum=None, styles=[CellStyleText(color='#FFFFFF', font=None, size=None, align=None, v_align=None, style=None, weight=None, stretch=None, decorate=None, transform=None, whitespace=None), CellStyleFill(color='#70026e')]), StyleInfo(locname='data', locnum=5, grpname=None, colname='Employer_Category2', rownum=6, colnum=None, styles=[CellStyleText(color='#FFFFFF', font=None, size=None, align=None, v_align=None, style=None, weight=None, stretch=None, decorate=None, transform=None, whitespace=None), CellStyleFill(color='#5b027d')]), StyleInfo(locname='data', locnum=5, grpname=None, colname='Employer_Category2', rownum=7, colnum=None, styles=[CellStyleText(color='#FFFFFF', font=None, size=None, align=None, v_align=None, style=None, weight=None, stretch=None, decorate=None, transform=None, whitespace=None), CellStyleFill(color='#540282')]), StyleInfo(locname='data', locnum=5, grpname=None, colname='Employer_Category2', rownum=8, colnum=None, styles=[CellStyleText(color='#FFFFFF', font=None, size=None, align=None, v_align=None, style=None, weight=None, stretch=None, decorate=None, transform=None, whitespace=None), CellStyleFill(color='#5e027b')]), StyleInfo(locname='data', locnum=5, grpname=None, colname='Monthly_Income', rownum=0, colnum=None, styles=[CellStyleText(color='#FFFFFF', font=None, size=None, align=None, v_align=None, style=None, weight=None, stretch=None, decorate=None, transform=None, whitespace=None), CellStyleFill(color='#60027a')]), StyleInfo(locname='data', locnum=5, grpname=None, colname='Monthly_Income', rownum=1, colnum=None, styles=[CellStyleText(color='#FFFFFF', font=None, size=None, align=None, v_align=None, style=None, weight=None, stretch=None, decorate=None, transform=None, whitespace=None), CellStyleFill(color='#bd0237')]), StyleInfo(locname='data', locnum=5, grpname=None, colname='Monthly_Income', rownum=2, colnum=None, styles=[CellStyleText(color='#FFFFFF', font=None, size=None, align=None, v_align=None, style=None, weight=None, stretch=None, decorate=None, transform=None, whitespace=None), CellStyleFill(color='#76026a')]), StyleInfo(locname='data', locnum=5, grpname=None, colname='Monthly_Income', rownum=3, colnum=None, styles=[CellStyleText(color='#FFFFFF', font=None, size=None, align=None, v_align=None, style=None, weight=None, stretch=None, decorate=None, transform=None, whitespace=None), CellStyleFill(color='#630277')]), StyleInfo(locname='data', locnum=5, grpname=None, colname='Monthly_Income', rownum=4, colnum=None, styles=[CellStyleText(color='#FFFFFF', font=None, size=None, align=None, v_align=None, style=None, weight=None, stretch=None, decorate=None, transform=None, whitespace=None), CellStyleFill(color='#5f027a')]), StyleInfo(locname='data', locnum=5, grpname=None, colname='Monthly_Income', rownum=5, colnum=None, styles=[CellStyleText(color='#FFFFFF', font=None, size=None, align=None, v_align=None, style=None, weight=None, stretch=None, decorate=None, transform=None, whitespace=None), CellStyleFill(color='#5e027b')]), StyleInfo(locname='data', locnum=5, grpname=None, colname='Monthly_Income', rownum=6, colnum=None, styles=[CellStyleText(color='#FFFFFF', font=None, size=None, align=None, v_align=None, style=None, weight=None, stretch=None, decorate=None, transform=None, whitespace=None), CellStyleFill(color='#630278')]), StyleInfo(locname='data', locnum=5, grpname=None, colname='Monthly_Income', rownum=7, colnum=None, styles=[CellStyleText(color='#FFFFFF', font=None, size=None, align=None, v_align=None, style=None, weight=None, stretch=None, decorate=None, transform=None, whitespace=None), CellStyleFill(color='#620278')]), StyleInfo(locname='data', locnum=5, grpname=None, colname='Monthly_Income', rownum=8, colnum=None, styles=[CellStyleText(color='#FFFFFF', font=None, size=None, align=None, v_align=None, style=None, weight=None, stretch=None, decorate=None, transform=None, whitespace=None), CellStyleFill(color='#60027a')]), StyleInfo(locname='data', locnum=5, grpname=None, colname='Existing_EMI', rownum=0, colnum=None, styles=[CellStyleText(color='#FFFFFF', font=None, size=None, align=None, v_align=None, style=None, weight=None, stretch=None, decorate=None, transform=None, whitespace=None), CellStyleFill(color='#5e027b')]), StyleInfo(locname='data', locnum=5, grpname=None, colname='Existing_EMI', rownum=1, colnum=None, styles=[CellStyleText(color='#FFFFFF', font=None, size=None, align=None, v_align=None, style=None, weight=None, stretch=None, decorate=None, transform=None, whitespace=None), CellStyleFill(color='#76026a')]), StyleInfo(locname='data', locnum=5, grpname=None, colname='Existing_EMI', rownum=2, colnum=None, styles=[CellStyleText(color='#FFFFFF', font=None, size=None, align=None, v_align=None, style=None, weight=None, stretch=None, decorate=None, transform=None, whitespace=None), CellStyleFill(color='#bd0237')]), StyleInfo(locname='data', locnum=5, grpname=None, colname='Existing_EMI', rownum=3, colnum=None, styles=[CellStyleText(color='#FFFFFF', font=None, size=None, align=None, v_align=None, style=None, weight=None, stretch=None, decorate=None, transform=None, whitespace=None), CellStyleFill(color='#600279')]), StyleInfo(locname='data', locnum=5, grpname=None, colname='Existing_EMI', rownum=4, colnum=None, styles=[CellStyleText(color='#FFFFFF', font=None, size=None, align=None, v_align=None, style=None, weight=None, stretch=None, decorate=None, transform=None, whitespace=None), CellStyleFill(color='#5f027a')]), StyleInfo(locname='data', locnum=5, grpname=None, colname='Existing_EMI', rownum=5, colnum=None, styles=[CellStyleText(color='#FFFFFF', font=None, size=None, align=None, v_align=None, style=None, weight=None, stretch=None, decorate=None, transform=None, whitespace=None), CellStyleFill(color='#5d027c')]), StyleInfo(locname='data', locnum=5, grpname=None, colname='Existing_EMI', rownum=6, colnum=None, styles=[CellStyleText(color='#FFFFFF', font=None, size=None, align=None, v_align=None, style=None, weight=None, stretch=None, decorate=None, transform=None, whitespace=None), CellStyleFill(color='#60027a')]), StyleInfo(locname='data', locnum=5, grpname=None, colname='Existing_EMI', rownum=7, colnum=None, styles=[CellStyleText(color='#FFFFFF', font=None, size=None, align=None, v_align=None, style=None, weight=None, stretch=None, decorate=None, transform=None, whitespace=None), CellStyleFill(color='#60027a')]), StyleInfo(locname='data', locnum=5, grpname=None, colname='Existing_EMI', rownum=8, colnum=None, styles=[CellStyleText(color='#FFFFFF', font=None, size=None, align=None, v_align=None, style=None, weight=None, stretch=None, decorate=None, transform=None, whitespace=None), CellStyleFill(color='#620278')]), StyleInfo(locname='data', locnum=5, grpname=None, colname='Loan_Amount', rownum=0, colnum=None, styles=[CellStyleText(color='#FFFFFF', font=None, size=None, align=None, v_align=None, style=None, weight=None, stretch=None, decorate=None, transform=None, whitespace=None), CellStyleFill(color='#5a027e')]), StyleInfo(locname='data', locnum=5, grpname=None, colname='Loan_Amount', rownum=1, colnum=None, styles=[CellStyleText(color='#FFFFFF', font=None, size=None, align=None, v_align=None, style=None, weight=None, stretch=None, decorate=None, transform=None, whitespace=None), CellStyleFill(color='#630277')]), StyleInfo(locname='data', locnum=5, grpname=None, colname='Loan_Amount', rownum=2, colnum=None, styles=[CellStyleText(color='#FFFFFF', font=None, size=None, align=None, v_align=None, style=None, weight=None, stretch=None, decorate=None, transform=None, whitespace=None), CellStyleFill(color='#600279')]), StyleInfo(locname='data', locnum=5, grpname=None, colname='Loan_Amount', rownum=3, colnum=None, styles=[CellStyleText(color='#FFFFFF', font=None, size=None, align=None, v_align=None, style=None, weight=None, stretch=None, decorate=None, transform=None, whitespace=None), CellStyleFill(color='#bd0237')]), StyleInfo(locname='data', locnum=5, grpname=None, colname='Loan_Amount', rownum=4, colnum=None, styles=[CellStyleText(color='#FFFFFF', font=None, size=None, align=None, v_align=None, style=None, weight=None, stretch=None, decorate=None, transform=None, whitespace=None), CellStyleFill(color='#830261')]), StyleInfo(locname='data', locnum=5, grpname=None, colname='Loan_Amount', rownum=5, colnum=None, styles=[CellStyleText(color='#FFFFFF', font=None, size=None, align=None, v_align=None, style=None, weight=None, stretch=None, decorate=None, transform=None, whitespace=None), CellStyleFill(color='#410290')]), StyleInfo(locname='data', locnum=5, grpname=None, colname='Loan_Amount', rownum=6, colnum=None, styles=[CellStyleText(color='#FFFFFF', font=None, size=None, align=None, v_align=None, style=None, weight=None, stretch=None, decorate=None, transform=None, whitespace=None), CellStyleFill(color='#b5023d')]), StyleInfo(locname='data', locnum=5, grpname=None, colname='Loan_Amount', rownum=7, colnum=None, styles=[CellStyleText(color='#FFFFFF', font=None, size=None, align=None, v_align=None, style=None, weight=None, stretch=None, decorate=None, transform=None, whitespace=None), CellStyleFill(color='#7c0265')]), StyleInfo(locname='data', locnum=5, grpname=None, colname='Loan_Amount', rownum=8, colnum=None, styles=[CellStyleText(color='#FFFFFF', font=None, size=None, align=None, v_align=None, style=None, weight=None, stretch=None, decorate=None, transform=None, whitespace=None), CellStyleFill(color='#640277')]), StyleInfo(locname='data', locnum=5, grpname=None, colname='Loan_Period', rownum=0, colnum=None, styles=[CellStyleText(color='#FFFFFF', font=None, size=None, align=None, v_align=None, style=None, weight=None, stretch=None, decorate=None, transform=None, whitespace=None), CellStyleFill(color='#5f027a')]), StyleInfo(locname='data', locnum=5, grpname=None, colname='Loan_Period', rownum=1, colnum=None, styles=[CellStyleText(color='#FFFFFF', font=None, size=None, align=None, v_align=None, style=None, weight=None, stretch=None, decorate=None, transform=None, whitespace=None), CellStyleFill(color='#5f027a')]), StyleInfo(locname='data', locnum=5, grpname=None, colname='Loan_Period', rownum=2, colnum=None, styles=[CellStyleText(color='#FFFFFF', font=None, size=None, align=None, v_align=None, style=None, weight=None, stretch=None, decorate=None, transform=None, whitespace=None), CellStyleFill(color='#5f027a')]), StyleInfo(locname='data', locnum=5, grpname=None, colname='Loan_Period', rownum=3, colnum=None, styles=[CellStyleText(color='#FFFFFF', font=None, size=None, align=None, v_align=None, style=None, weight=None, stretch=None, decorate=None, transform=None, whitespace=None), CellStyleFill(color='#830261')]), StyleInfo(locname='data', locnum=5, grpname=None, colname='Loan_Period', rownum=4, colnum=None, styles=[CellStyleText(color='#FFFFFF', font=None, size=None, align=None, v_align=None, style=None, weight=None, stretch=None, decorate=None, transform=None, whitespace=None), CellStyleFill(color='#bd0237')]), StyleInfo(locname='data', locnum=5, grpname=None, colname='Loan_Period', rownum=5, colnum=None, styles=[CellStyleText(color='#FFFFFF', font=None, size=None, align=None, v_align=None, style=None, weight=None, stretch=None, decorate=None, transform=None, whitespace=None), CellStyleFill(color='#560280')]), StyleInfo(locname='data', locnum=5, grpname=None, colname='Loan_Period', rownum=6, colnum=None, styles=[CellStyleText(color='#FFFFFF', font=None, size=None, align=None, v_align=None, style=None, weight=None, stretch=None, decorate=None, transform=None, whitespace=None), CellStyleFill(color='#670274')]), StyleInfo(locname='data', locnum=5, grpname=None, colname='Loan_Period', rownum=7, colnum=None, styles=[CellStyleText(color='#FFFFFF', font=None, size=None, align=None, v_align=None, style=None, weight=None, stretch=None, decorate=None, transform=None, whitespace=None), CellStyleFill(color='#59027e')]), StyleInfo(locname='data', locnum=5, grpname=None, colname='Loan_Period', rownum=8, colnum=None, styles=[CellStyleText(color='#FFFFFF', font=None, size=None, align=None, v_align=None, style=None, weight=None, stretch=None, decorate=None, transform=None, whitespace=None), CellStyleFill(color='#5f027a')]), StyleInfo(locname='data', locnum=5, grpname=None, colname='Interest_Rate', rownum=0, colnum=None, styles=[CellStyleText(color='#FFFFFF', font=None, size=None, align=None, v_align=None, style=None, weight=None, stretch=None, decorate=None, transform=None, whitespace=None), CellStyleFill(color='#70026e')]), StyleInfo(locname='data', locnum=5, grpname=None, colname='Interest_Rate', rownum=1, colnum=None, styles=[CellStyleText(color='#FFFFFF', font=None, size=None, align=None, v_align=None, style=None, weight=None, stretch=None, decorate=None, transform=None, whitespace=None), CellStyleFill(color='#5e027b')]), StyleInfo(locname='data', locnum=5, grpname=None, colname='Interest_Rate', rownum=2, colnum=None, styles=[CellStyleText(color='#FFFFFF', font=None, size=None, align=None, v_align=None, style=None, weight=None, stretch=None, decorate=None, transform=None, whitespace=None), CellStyleFill(color='#5d027c')]), StyleInfo(locname='data', locnum=5, grpname=None, colname='Interest_Rate', rownum=3, colnum=None, styles=[CellStyleText(color='#FFFFFF', font=None, size=None, align=None, v_align=None, style=None, weight=None, stretch=None, decorate=None, transform=None, whitespace=None), CellStyleFill(color='#410290')]), StyleInfo(locname='data', locnum=5, grpname=None, colname='Interest_Rate', rownum=4, colnum=None, styles=[CellStyleText(color='#FFFFFF', font=None, size=None, align=None, v_align=None, style=None, weight=None, stretch=None, decorate=None, transform=None, whitespace=None), CellStyleFill(color='#560280')]), StyleInfo(locname='data', locnum=5, grpname=None, colname='Interest_Rate', rownum=5, colnum=None, styles=[CellStyleText(color='#FFFFFF', font=None, size=None, align=None, v_align=None, style=None, weight=None, stretch=None, decorate=None, transform=None, whitespace=None), CellStyleFill(color='#bd0237')]), StyleInfo(locname='data', locnum=5, grpname=None, colname='Interest_Rate', rownum=6, colnum=None, styles=[CellStyleText(color='#FFFFFF', font=None, size=None, align=None, v_align=None, style=None, weight=None, stretch=None, decorate=None, transform=None, whitespace=None), CellStyleFill(color='#49028a')]), StyleInfo(locname='data', locnum=5, grpname=None, colname='Interest_Rate', rownum=7, colnum=None, styles=[CellStyleText(color='#FFFFFF', font=None, size=None, align=None, v_align=None, style=None, weight=None, stretch=None, decorate=None, transform=None, whitespace=None), CellStyleFill(color='#2c029f')]), StyleInfo(locname='data', locnum=5, grpname=None, colname='Interest_Rate', rownum=8, colnum=None, styles=[CellStyleText(color='#FFFFFF', font=None, size=None, align=None, v_align=None, style=None, weight=None, stretch=None, decorate=None, transform=None, whitespace=None), CellStyleFill(color='#570280')]), StyleInfo(locname='data', locnum=5, grpname=None, colname='EMI', rownum=0, colnum=None, styles=[CellStyleText(color='#FFFFFF', font=None, size=None, align=None, v_align=None, style=None, weight=None, stretch=None, decorate=None, transform=None, whitespace=None), CellStyleFill(color='#5b027d')]), StyleInfo(locname='data', locnum=5, grpname=None, colname='EMI', rownum=1, colnum=None, styles=[CellStyleText(color='#FFFFFF', font=None, size=None, align=None, v_align=None, style=None, weight=None, stretch=None, decorate=None, transform=None, whitespace=None), CellStyleFill(color='#630278')]), StyleInfo(locname='data', locnum=5, grpname=None, colname='EMI', rownum=2, colnum=None, styles=[CellStyleText(color='#FFFFFF', font=None, size=None, align=None, v_align=None, style=None, weight=None, stretch=None, decorate=None, transform=None, whitespace=None), CellStyleFill(color='#60027a')]), StyleInfo(locname='data', locnum=5, grpname=None, colname='EMI', rownum=3, colnum=None, styles=[CellStyleText(color='#FFFFFF', font=None, size=None, align=None, v_align=None, style=None, weight=None, stretch=None, decorate=None, transform=None, whitespace=None), CellStyleFill(color='#b5023d')]), StyleInfo(locname='data', locnum=5, grpname=None, colname='EMI', rownum=4, colnum=None, styles=[CellStyleText(color='#FFFFFF', font=None, size=None, align=None, v_align=None, style=None, weight=None, stretch=None, decorate=None, transform=None, whitespace=None), CellStyleFill(color='#670274')]), StyleInfo(locname='data', locnum=5, grpname=None, colname='EMI', rownum=5, colnum=None, styles=[CellStyleText(color='#FFFFFF', font=None, size=None, align=None, v_align=None, style=None, weight=None, stretch=None, decorate=None, transform=None, whitespace=None), CellStyleFill(color='#49028a')]), StyleInfo(locname='data', locnum=5, grpname=None, colname='EMI', rownum=6, colnum=None, styles=[CellStyleText(color='#FFFFFF', font=None, size=None, align=None, v_align=None, style=None, weight=None, stretch=None, decorate=None, transform=None, whitespace=None), CellStyleFill(color='#bd0237')]), StyleInfo(locname='data', locnum=5, grpname=None, colname='EMI', rownum=7, colnum=None, styles=[CellStyleText(color='#FFFFFF', font=None, size=None, align=None, v_align=None, style=None, weight=None, stretch=None, decorate=None, transform=None, whitespace=None), CellStyleFill(color='#7b0266')]), StyleInfo(locname='data', locnum=5, grpname=None, colname='EMI', rownum=8, colnum=None, styles=[CellStyleText(color='#FFFFFF', font=None, size=None, align=None, v_align=None, style=None, weight=None, stretch=None, decorate=None, transform=None, whitespace=None), CellStyleFill(color='#640277')]), StyleInfo(locname='data', locnum=5, grpname=None, colname='Var1', rownum=0, colnum=None, styles=[CellStyleText(color='#FFFFFF', font=None, size=None, align=None, v_align=None, style=None, weight=None, stretch=None, decorate=None, transform=None, whitespace=None), CellStyleFill(color='#540282')]), StyleInfo(locname='data', locnum=5, grpname=None, colname='Var1', rownum=1, colnum=None, styles=[CellStyleText(color='#FFFFFF', font=None, size=None, align=None, v_align=None, style=None, weight=None, stretch=None, decorate=None, transform=None, whitespace=None), CellStyleFill(color='#620278')]), StyleInfo(locname='data', locnum=5, grpname=None, colname='Var1', rownum=2, colnum=None, styles=[CellStyleText(color='#FFFFFF', font=None, size=None, align=None, v_align=None, style=None, weight=None, stretch=None, decorate=None, transform=None, whitespace=None), CellStyleFill(color='#60027a')]), StyleInfo(locname='data', locnum=5, grpname=None, colname='Var1', rownum=3, colnum=None, styles=[CellStyleText(color='#FFFFFF', font=None, size=None, align=None, v_align=None, style=None, weight=None, stretch=None, decorate=None, transform=None, whitespace=None), CellStyleFill(color='#7c0265')]), StyleInfo(locname='data', locnum=5, grpname=None, colname='Var1', rownum=4, colnum=None, styles=[CellStyleText(color='#FFFFFF', font=None, size=None, align=None, v_align=None, style=None, weight=None, stretch=None, decorate=None, transform=None, whitespace=None), CellStyleFill(color='#59027e')]), StyleInfo(locname='data', locnum=5, grpname=None, colname='Var1', rownum=5, colnum=None, styles=[CellStyleText(color='#FFFFFF', font=None, size=None, align=None, v_align=None, style=None, weight=None, stretch=None, decorate=None, transform=None, whitespace=None), CellStyleFill(color='#2c029f')]), StyleInfo(locname='data', locnum=5, grpname=None, colname='Var1', rownum=6, colnum=None, styles=[CellStyleText(color='#FFFFFF', font=None, size=None, align=None, v_align=None, style=None, weight=None, stretch=None, decorate=None, transform=None, whitespace=None), CellStyleFill(color='#7b0266')]), StyleInfo(locname='data', locnum=5, grpname=None, colname='Var1', rownum=7, colnum=None, styles=[CellStyleText(color='#FFFFFF', font=None, size=None, align=None, v_align=None, style=None, weight=None, stretch=None, decorate=None, transform=None, whitespace=None), CellStyleFill(color='#bd0237')]), StyleInfo(locname='data', locnum=5, grpname=None, colname='Var1', rownum=8, colnum=None, styles=[CellStyleText(color='#FFFFFF', font=None, size=None, align=None, v_align=None, style=None, weight=None, stretch=None, decorate=None, transform=None, whitespace=None), CellStyleFill(color='#6a0272')]), StyleInfo(locname='data', locnum=5, grpname=None, colname='Approved', rownum=0, colnum=None, styles=[CellStyleText(color='#FFFFFF', font=None, size=None, align=None, v_align=None, style=None, weight=None, stretch=None, decorate=None, transform=None, whitespace=None), CellStyleFill(color='#5e027b')]), StyleInfo(locname='data', locnum=5, grpname=None, colname='Approved', rownum=1, colnum=None, styles=[CellStyleText(color='#FFFFFF', font=None, size=None, align=None, v_align=None, style=None, weight=None, stretch=None, decorate=None, transform=None, whitespace=None), CellStyleFill(color='#60027a')]), StyleInfo(locname='data', locnum=5, grpname=None, colname='Approved', rownum=2, colnum=None, styles=[CellStyleText(color='#FFFFFF', font=None, size=None, align=None, v_align=None, style=None, weight=None, stretch=None, decorate=None, transform=None, whitespace=None), CellStyleFill(color='#620278')]), StyleInfo(locname='data', locnum=5, grpname=None, colname='Approved', rownum=3, colnum=None, styles=[CellStyleText(color='#FFFFFF', font=None, size=None, align=None, v_align=None, style=None, weight=None, stretch=None, decorate=None, transform=None, whitespace=None), CellStyleFill(color='#640277')]), StyleInfo(locname='data', locnum=5, grpname=None, colname='Approved', rownum=4, colnum=None, styles=[CellStyleText(color='#FFFFFF', font=None, size=None, align=None, v_align=None, style=None, weight=None, stretch=None, decorate=None, transform=None, whitespace=None), CellStyleFill(color='#5f027a')]), StyleInfo(locname='data', locnum=5, grpname=None, colname='Approved', rownum=5, colnum=None, styles=[CellStyleText(color='#FFFFFF', font=None, size=None, align=None, v_align=None, style=None, weight=None, stretch=None, decorate=None, transform=None, whitespace=None), CellStyleFill(color='#570280')]), StyleInfo(locname='data', locnum=5, grpname=None, colname='Approved', rownum=6, colnum=None, styles=[CellStyleText(color='#FFFFFF', font=None, size=None, align=None, v_align=None, style=None, weight=None, stretch=None, decorate=None, transform=None, whitespace=None), CellStyleFill(color='#640277')]), StyleInfo(locname='data', locnum=5, grpname=None, colname='Approved', rownum=7, colnum=None, styles=[CellStyleText(color='#FFFFFF', font=None, size=None, align=None, v_align=None, style=None, weight=None, stretch=None, decorate=None, transform=None, whitespace=None), CellStyleFill(color='#6a0272')]), StyleInfo(locname='data', locnum=5, grpname=None, colname='Approved', rownum=8, colnum=None, styles=[CellStyleText(color='#FFFFFF', font=None, size=None, align=None, v_align=None, style=None, weight=None, stretch=None, decorate=None, transform=None, whitespace=None), CellStyleFill(color='#bd0237')])], _locale=<great_tables._gt_data.Locale object at 0x7086171d1d10>, _formats=[<great_tables._gt_data.FormatInfo object at 0x7086171d1350>], _substitutions=[], _options=Options(table_id=OptionsInfo(scss=False, category='table', type='value', value=None), table_caption=OptionsInfo(scss=False, category='table', type='value', value=None), table_width=OptionsInfo(scss=True, category='table', type='px', value='auto'), table_layout=OptionsInfo(scss=True, category='table', type='value', value='fixed'), table_margin_left=OptionsInfo(scss=True, category='table', type='px', value='auto'), table_margin_right=OptionsInfo(scss=True, category='table', type='px', value='auto'), table_background_color=OptionsInfo(scss=True, category='table', type='value', value='#FFFFFF'), table_font_names=OptionsInfo(scss=False, category='table', type='values', value=['-apple-system', 'BlinkMacSystemFont', 'Segoe UI', 'Roboto', 'Oxygen', 'Ubuntu', 'Cantarell', 'Helvetica Neue', 'Fira Sans', 'Droid Sans', 'Arial', 'sans-serif']), table_font_size=OptionsInfo(scss=True, category='table', type='px', value='16px'), table_font_weight=OptionsInfo(scss=True, category='table', type='value', value='normal'), table_font_style=OptionsInfo(scss=True, category='table', type='value', value='normal'), table_font_color=OptionsInfo(scss=True, category='table', type='value', value='#333333'), table_font_color_light=OptionsInfo(scss=True, category='table', type='value', value='#FFFFFF'), table_border_top_include=OptionsInfo(scss=False, category='table', type='boolean', value=True), table_border_top_style=OptionsInfo(scss=True, category='table', type='value', value='solid'), table_border_top_width=OptionsInfo(scss=True, category='table', type='px', value='2px'), table_border_top_color=OptionsInfo(scss=True, category='table', type='value', value='#A8A8A8'), table_border_right_style=OptionsInfo(scss=True, category='table', type='value', value='none'), table_border_right_width=OptionsInfo(scss=True, category='table', type='px', value='2px'), table_border_right_color=OptionsInfo(scss=True, category='table', type='value', value='#D3D3D3'), table_border_bottom_include=OptionsInfo(scss=False, category='table', type='boolean', value=True), table_border_bottom_style=OptionsInfo(scss=True, category='table', type='value', value='solid'), table_border_bottom_width=OptionsInfo(scss=True, category='table', type='px', value='2px'), table_border_bottom_color=OptionsInfo(scss=True, category='table', type='value', value='#A8A8A8'), table_border_left_style=OptionsInfo(scss=True, category='table', type='value', value='none'), table_border_left_width=OptionsInfo(scss=True, category='table', type='px', value='2px'), table_border_left_color=OptionsInfo(scss=True, category='table', type='value', value='#D3D3D3'), heading_background_color=OptionsInfo(scss=True, category='heading', type='value', value=None), heading_align=OptionsInfo(scss=True, category='heading', type='value', value='center'), heading_title_font_size=OptionsInfo(scss=True, category='heading', type='px', value='125%'), heading_title_font_weight=OptionsInfo(scss=True, category='heading', type='value', value='initial'), heading_subtitle_font_size=OptionsInfo(scss=True, category='heading', type='px', value='85%'), heading_subtitle_font_weight=OptionsInfo(scss=True, category='heading', type='value', value='initial'), heading_padding=OptionsInfo(scss=True, category='heading', type='px', value='4px'), heading_padding_horizontal=OptionsInfo(scss=True, category='heading', type='px', value='5px'), heading_border_bottom_style=OptionsInfo(scss=True, category='heading', type='value', value='solid'), heading_border_bottom_width=OptionsInfo(scss=True, category='heading', type='px', value='2px'), heading_border_bottom_color=OptionsInfo(scss=True, category='heading', type='value', value='#D3D3D3'), heading_border_lr_style=OptionsInfo(scss=True, category='heading', type='value', value='none'), heading_border_lr_width=OptionsInfo(scss=True, category='heading', type='px', value='1px'), heading_border_lr_color=OptionsInfo(scss=True, category='heading', type='value', value='#D3D3D3'), column_labels_background_color=OptionsInfo(scss=True, category='column_labels', type='value', value=None), column_labels_font_size=OptionsInfo(scss=True, category='column_labels', type='px', value='100%'), column_labels_font_weight=OptionsInfo(scss=True, category='column_labels', type='value', value='normal'), column_labels_text_transform=OptionsInfo(scss=True, category='column_labels', type='value', value='inherit'), column_labels_padding=OptionsInfo(scss=True, category='column_labels', type='px', value='5px'), column_labels_padding_horizontal=OptionsInfo(scss=True, category='column_labels', type='px', value='5px'), column_labels_vlines_style=OptionsInfo(scss=True, category='table_body', type='value', value='none'), column_labels_vlines_width=OptionsInfo(scss=True, category='table_body', type='px', value='1px'), column_labels_vlines_color=OptionsInfo(scss=True, category='table_body', type='value', value='#D3D3D3'), column_labels_border_top_style=OptionsInfo(scss=True, category='column_labels', type='value', value='solid'), column_labels_border_top_width=OptionsInfo(scss=True, category='column_labels', type='px', value='2px'), column_labels_border_top_color=OptionsInfo(scss=True, category='column_labels', type='value', value='#D3D3D3'), column_labels_border_bottom_style=OptionsInfo(scss=True, category='column_labels', type='value', value='solid'), column_labels_border_bottom_width=OptionsInfo(scss=True, category='column_labels', type='px', value='2px'), column_labels_border_bottom_color=OptionsInfo(scss=True, category='column_labels', type='value', value='#D3D3D3'), column_labels_border_lr_style=OptionsInfo(scss=True, category='column_labels', type='value', value='none'), column_labels_border_lr_width=OptionsInfo(scss=True, category='column_labels', type='px', value='1px'), column_labels_border_lr_color=OptionsInfo(scss=True, category='column_labels', type='value', value='#D3D3D3'), column_labels_hidden=OptionsInfo(scss=False, category='column_labels', type='boolean', value=False), row_group_background_color=OptionsInfo(scss=True, category='row_group', type='value', value=None), row_group_font_size=OptionsInfo(scss=True, category='row_group', type='px', value='100%'), row_group_font_weight=OptionsInfo(scss=True, category='row_group', type='value', value='initial'), row_group_text_transform=OptionsInfo(scss=True, category='row_group', type='value', value='inherit'), row_group_padding=OptionsInfo(scss=True, category='row_group', type='px', value='8px'), row_group_padding_horizontal=OptionsInfo(scss=True, category='row_group', type='px', value='5px'), row_group_border_top_style=OptionsInfo(scss=True, category='row_group', type='value', value='solid'), row_group_border_top_width=OptionsInfo(scss=True, category='row_group', type='px', value='2px'), row_group_border_top_color=OptionsInfo(scss=True, category='row_group', type='value', value='#D3D3D3'), row_group_border_right_style=OptionsInfo(scss=True, category='row_group', type='value', value='none'), row_group_border_right_width=OptionsInfo(scss=True, category='row_group', type='px', value='1px'), row_group_border_right_color=OptionsInfo(scss=True, category='row_group', type='value', value='#D3D3D3'), row_group_border_bottom_style=OptionsInfo(scss=True, category='row_group', type='value', value='solid'), row_group_border_bottom_width=OptionsInfo(scss=True, category='row_group', type='px', value='2px'), row_group_border_bottom_color=OptionsInfo(scss=True, category='row_group', type='value', value='#D3D3D3'), row_group_border_left_style=OptionsInfo(scss=True, category='row_group', type='value', value='none'), row_group_border_left_width=OptionsInfo(scss=True, category='row_group', type='px', value='1px'), row_group_border_left_color=OptionsInfo(scss=True, category='row_group', type='value', value='#D3D3D3'), row_group_as_column=OptionsInfo(scss=False, category='row_group', type='boolean', value=False), table_body_hlines_style=OptionsInfo(scss=True, category='table_body', type='value', value='solid'), table_body_hlines_width=OptionsInfo(scss=True, category='table_body', type='px', value='1px'), table_body_hlines_color=OptionsInfo(scss=True, category='table_body', type='value', value='#D3D3D3'), table_body_vlines_style=OptionsInfo(scss=True, category='table_body', type='value', value='none'), table_body_vlines_width=OptionsInfo(scss=True, category='table_body', type='px', value='1px'), table_body_vlines_color=OptionsInfo(scss=True, category='table_body', type='value', value='#D3D3D3'), table_body_border_top_style=OptionsInfo(scss=True, category='table_body', type='value', value='solid'), table_body_border_top_width=OptionsInfo(scss=True, category='table_body', type='px', value='2px'), table_body_border_top_color=OptionsInfo(scss=True, category='table_body', type='value', value='#D3D3D3'), table_body_border_bottom_style=OptionsInfo(scss=True, category='table_body', type='value', value='solid'), table_body_border_bottom_width=OptionsInfo(scss=True, category='table_body', type='px', value='2px'), table_body_border_bottom_color=OptionsInfo(scss=True, category='table_body', type='value', value='#D3D3D3'), data_row_padding=OptionsInfo(scss=True, category='data_row', type='px', value='8px'), data_row_padding_horizontal=OptionsInfo(scss=True, category='data_row', type='px', value='5px'), stub_background_color=OptionsInfo(scss=True, category='stub', type='value', value=None), stub_font_size=OptionsInfo(scss=True, category='stub', type='px', value='100%'), stub_font_weight=OptionsInfo(scss=True, category='stub', type='value', value='initial'), stub_text_transform=OptionsInfo(scss=True, category='stub', type='value', value='inherit'), stub_border_style=OptionsInfo(scss=True, category='stub', type='value', value='solid'), stub_border_width=OptionsInfo(scss=True, category='stub', type='px', value='2px'), stub_border_color=OptionsInfo(scss=True, category='stub', type='value', value='#D3D3D3'), stub_row_group_background_color=OptionsInfo(scss=True, category='stub', type='value', value=None), stub_row_group_font_size=OptionsInfo(scss=True, category='stub', type='px', value='100%'), stub_row_group_font_weight=OptionsInfo(scss=True, category='stub', type='value', value='initial'), stub_row_group_text_transform=OptionsInfo(scss=True, category='stub', type='value', value='inherit'), stub_row_group_border_style=OptionsInfo(scss=True, category='stub', type='value', value='solid'), stub_row_group_border_width=OptionsInfo(scss=True, category='stub', type='px', value='2px'), stub_row_group_border_color=OptionsInfo(scss=True, category='stub', type='value', value='#D3D3D3'), source_notes_padding=OptionsInfo(scss=True, category='source_notes', type='px', value='4px'), source_notes_padding_horizontal=OptionsInfo(scss=True, category='source_notes', type='px', value='5px'), source_notes_background_color=OptionsInfo(scss=True, category='source_notes', type='value', value=None), source_notes_font_size=OptionsInfo(scss=True, category='source_notes', type='px', value='90%'), source_notes_border_bottom_style=OptionsInfo(scss=True, category='source_notes', type='value', value='none'), source_notes_border_bottom_width=OptionsInfo(scss=True, category='source_notes', type='px', value='2px'), source_notes_border_bottom_color=OptionsInfo(scss=True, category='source_notes', type='value', value='#D3D3D3'), source_notes_border_lr_style=OptionsInfo(scss=True, category='source_notes', type='value', value='none'), source_notes_border_lr_width=OptionsInfo(scss=True, category='source_notes', type='px', value='2px'), source_notes_border_lr_color=OptionsInfo(scss=True, category='source_notes', type='value', value='#D3D3D3'), source_notes_multiline=OptionsInfo(scss=False, category='source_notes', type='boolean', value=True), source_notes_sep=OptionsInfo(scss=False, category='source_notes', type='value', value=' '), container_width=OptionsInfo(scss=False, category='container', type='px', value='auto'), container_height=OptionsInfo(scss=False, category='container', type='px', value='auto'), container_padding_x=OptionsInfo(scss=False, category='container', type='px', value='0px'), container_padding_y=OptionsInfo(scss=False, category='container', type='px', value='10px'), container_overflow_x=OptionsInfo(scss=False, category='container', type='overflow', value='auto'), container_overflow_y=OptionsInfo(scss=False, category='container', type='overflow', value='auto'), quarto_disable_processing=OptionsInfo(scss=False, category='quarto', type='logical', value=False), quarto_use_bootstrap=OptionsInfo(scss=False, category='quarto', type='logical', value=False)), _has_built=False)"
      ]
     },
     "execution_count": 19,
     "metadata": {},
     "output_type": "execute_result"
    }
   ],
   "source": [
    "dia.plot_corr(subset=cs.all(), method=\"xi\")"
   ]
  },
  {
   "cell_type": "code",
   "execution_count": 20,
   "metadata": {},
   "outputs": [
    {
     "data": {
      "text/html": [
       "<div id=\"cpjkaivmjr\" style=\"padding-left:0px;padding-right:0px;padding-top:10px;padding-bottom:10px;overflow-x:auto;overflow-y:auto;width:auto;height:auto;\">\n",
       "<style>\n",
       "#cpjkaivmjr table {\n",
       "          font-family: -apple-system, BlinkMacSystemFont, 'Segoe UI', Roboto, Oxygen, Ubuntu, Cantarell, 'Helvetica Neue', 'Fira Sans', 'Droid Sans', Arial, sans-serif;\n",
       "          -webkit-font-smoothing: antialiased;\n",
       "          -moz-osx-font-smoothing: grayscale;\n",
       "        }\n",
       "\n",
       "#cpjkaivmjr thead, tbody, tfoot, tr, td, th { border-style: none !important; }\n",
       " tr { background-color: transparent !important; }\n",
       "#cpjkaivmjr p { margin: 0 !important; padding: 0 !important; }\n",
       " #cpjkaivmjr .gt_table { display: table !important; border-collapse: collapse !important; line-height: normal !important; margin-left: auto !important; margin-right: auto !important; color: #333333 !important; font-size: 16px !important; font-weight: normal !important; font-style: normal !important; background-color: #FFFFFF !important; width: auto !important; border-top-style: solid !important; border-top-width: 2px !important; border-top-color: #A8A8A8 !important; border-right-style: none !important; border-right-width: 2px !important; border-right-color: #D3D3D3 !important; border-bottom-style: solid !important; border-bottom-width: 2px !important; border-bottom-color: #A8A8A8 !important; border-left-style: none !important; border-left-width: 2px !important; border-left-color: #D3D3D3 !important; }\n",
       " #cpjkaivmjr .gt_caption { padding-top: 4px !important; padding-bottom: 4px !important; }\n",
       " #cpjkaivmjr .gt_title { color: #333333 !important; font-size: 125% !important; font-weight: initial !important; padding-top: 4px !important; padding-bottom: 4px !important; padding-left: 5px !important; padding-right: 5px !important; border-bottom-color: #FFFFFF !important; border-bottom-width: 0 !important; }\n",
       " #cpjkaivmjr .gt_subtitle { color: #333333 !important; font-size: 85% !important; font-weight: initial !important; padding-top: 3px !important; padding-bottom: 5px !important; padding-left: 5px !important; padding-right: 5px !important; border-top-color: #FFFFFF !important; border-top-width: 0 !important; }\n",
       " #cpjkaivmjr .gt_heading { background-color: #FFFFFF !important; text-align: center !important; border-bottom-color: #FFFFFF !important; border-left-style: none !important; border-left-width: 1px !important; border-left-color: #D3D3D3 !important; border-right-style: none !important; border-right-width: 1px !important; border-right-color: #D3D3D3 !important; }\n",
       " #cpjkaivmjr .gt_bottom_border { border-bottom-style: solid !important; border-bottom-width: 2px !important; border-bottom-color: #D3D3D3 !important; }\n",
       " #cpjkaivmjr .gt_col_headings { border-top-style: solid !important; border-top-width: 2px !important; border-top-color: #D3D3D3 !important; border-bottom-style: solid !important; border-bottom-width: 2px !important; border-bottom-color: #D3D3D3 !important; border-left-style: none !important; border-left-width: 1px !important; border-left-color: #D3D3D3 !important; border-right-style: none !important; border-right-width: 1px !important; border-right-color: #D3D3D3 !important; }\n",
       " #cpjkaivmjr .gt_col_heading { color: #333333 !important; background-color: #FFFFFF !important; font-size: 100% !important; font-weight: normal !important; text-transform: inherit !important; border-left-style: none !important; border-left-width: 1px !important; border-left-color: #D3D3D3 !important; border-right-style: none !important; border-right-width: 1px !important; border-right-color: #D3D3D3 !important; vertical-align: bottom !important; padding-top: 5px !important; padding-bottom: 5px !important; padding-left: 5px !important; padding-right: 5px !important; overflow-x: hidden !important; }\n",
       " #cpjkaivmjr .gt_column_spanner_outer { color: #333333 !important; background-color: #FFFFFF !important; font-size: 100% !important; font-weight: normal !important; text-transform: inherit !important; padding-top: 0 !important; padding-bottom: 0 !important; padding-left: 4px !important; padding-right: 4px !important; }\n",
       " #cpjkaivmjr .gt_column_spanner_outer:first-child { padding-left: 0 !important; }\n",
       " #cpjkaivmjr .gt_column_spanner_outer:last-child { padding-right: 0 !important; }\n",
       " #cpjkaivmjr .gt_column_spanner { border-bottom-style: solid !important; border-bottom-width: 2px !important; border-bottom-color: #D3D3D3 !important; vertical-align: bottom !important; padding-top: 5px !important; padding-bottom: 5px !important; overflow-x: hidden !important; display: inline-block !important; width: 100% !important; }\n",
       " #cpjkaivmjr .gt_spanner_row { border-bottom-style: hidden !important; }\n",
       " #cpjkaivmjr .gt_group_heading { padding-top: 8px !important; padding-bottom: 8px !important; padding-left: 5px !important; padding-right: 5px !important; color: #333333 !important; background-color: #FFFFFF !important; font-size: 100% !important; font-weight: initial !important; text-transform: inherit !important; border-top-style: solid !important; border-top-width: 2px !important; border-top-color: #D3D3D3 !important; border-bottom-style: solid !important; border-bottom-width: 2px !important; border-bottom-color: #D3D3D3 !important; border-left-style: none !important; border-left-width: 1px !important; border-left-color: #D3D3D3 !important; border-right-style: none !important; border-right-width: 1px !important; border-right-color: #D3D3D3 !important; vertical-align: middle !important; text-align: left !important; }\n",
       " #cpjkaivmjr .gt_empty_group_heading { padding: 0.5px !important; color: #333333 !important; background-color: #FFFFFF !important; font-size: 100% !important; font-weight: initial !important; border-top-style: solid !important; border-top-width: 2px !important; border-top-color: #D3D3D3 !important; border-bottom-style: solid !important; border-bottom-width: 2px !important; border-bottom-color: #D3D3D3 !important; vertical-align: middle !important; }\n",
       " #cpjkaivmjr .gt_from_md> :first-child { margin-top: 0 !important; }\n",
       " #cpjkaivmjr .gt_from_md> :last-child { margin-bottom: 0 !important; }\n",
       " #cpjkaivmjr .gt_row { padding-top: 8px !important; padding-bottom: 8px !important; padding-left: 5px !important; padding-right: 5px !important; margin: 10px !important; border-top-style: solid !important; border-top-width: 1px !important; border-top-color: #D3D3D3 !important; border-left-style: none !important; border-left-width: 1px !important; border-left-color: #D3D3D3 !important; border-right-style: none !important; border-right-width: 1px !important; border-right-color: #D3D3D3 !important; vertical-align: middle !important; overflow-x: hidden !important; }\n",
       " #cpjkaivmjr .gt_stub { color: #333333 !important; background-color: #FFFFFF !important; font-size: 100% !important; font-weight: initial !important; text-transform: inherit !important; border-right-style: solid !important; border-right-width: 2px !important; border-right-color: #D3D3D3 !important; padding-left: 5px !important; padding-right: 5px !important; }\n",
       " #cpjkaivmjr .gt_stub_row_group { color: #333333 !important; background-color: #FFFFFF !important; font-size: 100% !important; font-weight: initial !important; text-transform: inherit !important; border-right-style: solid !important; border-right-width: 2px !important; border-right-color: #D3D3D3 !important; padding-left: 5px !important; padding-right: 5px !important; vertical-align: top !important; }\n",
       " #cpjkaivmjr .gt_row_group_first td { border-top-width: 2px !important; }\n",
       " #cpjkaivmjr .gt_row_group_first th { border-top-width: 2px !important; }\n",
       " #cpjkaivmjr .gt_table_body { border-top-style: solid !important; border-top-width: 2px !important; border-top-color: #D3D3D3 !important; border-bottom-style: solid !important; border-bottom-width: 2px !important; border-bottom-color: #D3D3D3 !important; }\n",
       " #cpjkaivmjr .gt_sourcenotes { color: #333333 !important; background-color: #FFFFFF !important; border-bottom-style: none !important; border-bottom-width: 2px !important; border-bottom-color: #D3D3D3 !important; border-left-style: none !important; border-left-width: 2px !important; border-left-color: #D3D3D3 !important; border-right-style: none !important; border-right-width: 2px !important; border-right-color: #D3D3D3 !important; }\n",
       " #cpjkaivmjr .gt_sourcenote { font-size: 90% !important; padding-top: 4px !important; padding-bottom: 4px !important; padding-left: 5px !important; padding-right: 5px !important; text-align: left !important; }\n",
       " #cpjkaivmjr .gt_left { text-align: left !important; }\n",
       " #cpjkaivmjr .gt_center { text-align: center !important; }\n",
       " #cpjkaivmjr .gt_right { text-align: right !important; font-variant-numeric: tabular-nums !important; }\n",
       " #cpjkaivmjr .gt_font_normal { font-weight: normal !important; }\n",
       " #cpjkaivmjr .gt_font_bold { font-weight: bold !important; }\n",
       " #cpjkaivmjr .gt_font_italic { font-style: italic !important; }\n",
       " #cpjkaivmjr .gt_super { font-size: 65% !important; }\n",
       " #cpjkaivmjr .gt_footnote_marks { font-size: 75% !important; vertical-align: 0.4em !important; position: initial !important; }\n",
       " #cpjkaivmjr .gt_asterisk { font-size: 100% !important; vertical-align: 0 !important; }\n",
       " \n",
       "</style>\n",
       "<table class=\"gt_table\" data-quarto-disable-processing=\"false\" data-quarto-bootstrap=\"false\">\n",
       "<thead class=\"gt_header\">\n",
       "  <tr>\n",
       "    <th colspan=\"3\" class=\"gt_heading gt_title gt_font_normal\">Null Distribution</th>\n",
       "  </tr>\n",
       "</thead>\n",
       "<tr class=\"gt_col_headings\">\n",
       "  <th class=\"gt_col_heading gt_columns_bottom_border gt_left\" rowspan=\"1\" colspan=\"1\" scope=\"col\" id=\"column\">column</th>\n",
       "  <th class=\"gt_col_heading gt_columns_bottom_border gt_center\" rowspan=\"1\" colspan=\"1\" scope=\"col\" id=\"percentages in row groups\">percentages in row groups</th>\n",
       "  <th class=\"gt_col_heading gt_columns_bottom_border gt_right\" rowspan=\"1\" colspan=\"1\" scope=\"col\" id=\"null%\">null%</th>\n",
       "</tr>\n",
       "<tbody class=\"gt_table_body\">\n",
       "<tr>\n",
       "  <th class=\"gt_row gt_left gt_stub\">Employer_Category2</th>\n",
       "  <td class=\"gt_row gt_center\"><div><svg role=\"img\" viewBox=\"0 0 1120 130\" style=\"height: 2em; margin-left: auto; margin-right: auto; font-size: inherit; overflow: visible; vertical-align: middle; position:relative;\"><defs><pattern id=\"area_pattern\" width=\"8\" height=\"8\" patternUnits=\"userSpaceOnUse\"><path class=\"pattern-line\" d=\"M 0,8 l 8,-8 M -1,1 l 4,-4 M 6,10 l 4,-4\" stroke=\"#FF0000\" stroke-width=\"1.5\" stroke-linecap=\"round\" shape-rendering=\"geometricPrecision\"></path></pattern></defs><style> text { font-family: ui-monospace, 'Cascadia Code', 'Source Code Pro', Menlo, Consolas, 'DejaVu Sans Mono', monospace; stroke-width: 0.15em; paint-order: stroke; stroke-linejoin: round; cursor: default; } .vert-line:hover rect { fill: #911EB4; fill-opacity: 40%; stroke: #FFFFFF60; color: red; } .vert-line:hover text { stroke: white; fill: #212427; } .horizontal-line:hover text {stroke: white; fill: #212427; } .ref-line:hover rect { stroke: #FFFFFF60; } .ref-line:hover line { stroke: #FF0000; } .ref-line:hover text { stroke: white; fill: #212427; } .y-axis-line:hover rect { fill: #EDEDED; fill-opacity: 60%; stroke: #FFFFFF60; color: red; } .y-axis-line:hover text { stroke: white; stroke-width: 0.20em; fill: #1A1C1F; } </style><line x1=\"22.5\" y1=\"115.0\" x2=\"1097.5\" y2=\"115.0\" stroke=\"#BFBFBF\" stroke-width=\"4\"></line><rect x=\"45.0\" y=\"112.24517906336088\" width=\"10\" height=\"2.7548209366391205\" stroke=\"#3290CC\" stroke-width=\"4\" fill=\"red\"></rect><rect x=\"65.4\" y=\"113.07162534435263\" width=\"10\" height=\"1.9283746556473744\" stroke=\"#3290CC\" stroke-width=\"4\" fill=\"red\"></rect><rect x=\"85.80000000000001\" y=\"113.89807162534436\" width=\"10\" height=\"1.1019283746556425\" stroke=\"#3290CC\" stroke-width=\"4\" fill=\"red\"></rect><rect x=\"106.19999999999999\" y=\"113.34710743801654\" width=\"10\" height=\"1.6528925619834638\" stroke=\"#3290CC\" stroke-width=\"4\" fill=\"red\"></rect><rect x=\"126.60000000000002\" y=\"111.831955922865\" width=\"10\" height=\"3.1680440771349936\" stroke=\"#3290CC\" stroke-width=\"4\" fill=\"red\"></rect><rect x=\"147.0\" y=\"112.38292011019284\" width=\"10\" height=\"2.617079889807158\" stroke=\"#3290CC\" stroke-width=\"4\" fill=\"red\"></rect><rect x=\"167.39999999999998\" y=\"113.07162534435263\" width=\"10\" height=\"1.9283746556473744\" stroke=\"#3290CC\" stroke-width=\"4\" fill=\"red\"></rect><rect x=\"187.8\" y=\"111.831955922865\" width=\"10\" height=\"3.1680440771349936\" stroke=\"#3290CC\" stroke-width=\"4\" fill=\"red\"></rect><rect x=\"208.20000000000002\" y=\"114.31129476584022\" width=\"10\" height=\"0.6887052341597837\" stroke=\"#3290CC\" stroke-width=\"4\" fill=\"red\"></rect><rect x=\"228.6\" y=\"112.24517906336088\" width=\"10\" height=\"2.7548209366391205\" stroke=\"#3290CC\" stroke-width=\"4\" fill=\"red\"></rect><rect x=\"249.0\" y=\"113.20936639118457\" width=\"10\" height=\"1.7906336088154262\" stroke=\"#3290CC\" stroke-width=\"4\" fill=\"red\"></rect><rect x=\"269.4\" y=\"113.20936639118457\" width=\"10\" height=\"1.7906336088154262\" stroke=\"#3290CC\" stroke-width=\"4\" fill=\"red\"></rect><rect x=\"289.79999999999995\" y=\"113.62258953168043\" width=\"10\" height=\"1.3774104683195674\" stroke=\"#3290CC\" stroke-width=\"4\" fill=\"red\"></rect><rect x=\"310.2\" y=\"114.58677685950413\" width=\"10\" height=\"0.41322314049587305\" stroke=\"#3290CC\" stroke-width=\"4\" fill=\"red\"></rect><rect x=\"330.6\" y=\"112.10743801652893\" width=\"10\" height=\"2.8925619834710687\" stroke=\"#3290CC\" stroke-width=\"4\" fill=\"red\"></rect><rect x=\"351.0\" y=\"111.831955922865\" width=\"10\" height=\"3.1680440771349936\" stroke=\"#3290CC\" stroke-width=\"4\" fill=\"red\"></rect><rect x=\"371.40000000000003\" y=\"112.52066115702479\" width=\"10\" height=\"2.47933884297521\" stroke=\"#3290CC\" stroke-width=\"4\" fill=\"red\"></rect><rect x=\"391.8\" y=\"113.89807162534436\" width=\"10\" height=\"1.1019283746556425\" stroke=\"#3290CC\" stroke-width=\"4\" fill=\"red\"></rect><rect x=\"412.2\" y=\"113.20936639118457\" width=\"10\" height=\"1.7906336088154262\" stroke=\"#3290CC\" stroke-width=\"4\" fill=\"red\"></rect><rect x=\"432.6\" y=\"112.93388429752066\" width=\"10\" height=\"2.066115702479337\" stroke=\"#3290CC\" stroke-width=\"4\" fill=\"red\"></rect><rect x=\"453.0\" y=\"113.7603305785124\" width=\"10\" height=\"1.239669421487605\" stroke=\"#3290CC\" stroke-width=\"4\" fill=\"red\"></rect><rect x=\"473.4\" y=\"112.7961432506887\" width=\"10\" height=\"2.2038567493112993\" stroke=\"#3290CC\" stroke-width=\"4\" fill=\"red\"></rect><rect x=\"493.8\" y=\"112.38292011019284\" width=\"10\" height=\"2.617079889807158\" stroke=\"#3290CC\" stroke-width=\"4\" fill=\"red\"></rect><rect x=\"514.2\" y=\"113.07162534435263\" width=\"10\" height=\"1.9283746556473744\" stroke=\"#3290CC\" stroke-width=\"4\" fill=\"red\"></rect><rect x=\"534.5999999999999\" y=\"111.28099173553719\" width=\"10\" height=\"3.719008264462815\" stroke=\"#3290CC\" stroke-width=\"4\" fill=\"red\"></rect><rect x=\"555.0\" y=\"113.20936639118457\" width=\"10\" height=\"1.7906336088154262\" stroke=\"#3290CC\" stroke-width=\"4\" fill=\"red\"></rect><rect x=\"575.4\" y=\"113.48484848484848\" width=\"10\" height=\"1.5151515151515156\" stroke=\"#3290CC\" stroke-width=\"4\" fill=\"red\"></rect><rect x=\"595.8000000000001\" y=\"113.07162534435263\" width=\"10\" height=\"1.9283746556473744\" stroke=\"#3290CC\" stroke-width=\"4\" fill=\"red\"></rect><rect x=\"616.2\" y=\"111.831955922865\" width=\"10\" height=\"3.1680440771349936\" stroke=\"#3290CC\" stroke-width=\"4\" fill=\"red\"></rect><rect x=\"636.5999999999999\" y=\"111.69421487603306\" width=\"10\" height=\"3.305785123966942\" stroke=\"#3290CC\" stroke-width=\"4\" fill=\"red\"></rect><rect x=\"657.0\" y=\"112.38292011019284\" width=\"10\" height=\"2.617079889807158\" stroke=\"#3290CC\" stroke-width=\"4\" fill=\"red\"></rect><rect x=\"677.4\" y=\"112.52066115702479\" width=\"10\" height=\"2.47933884297521\" stroke=\"#3290CC\" stroke-width=\"4\" fill=\"red\"></rect><rect x=\"697.8000000000001\" y=\"35.38567493112947\" width=\"10\" height=\"79.61432506887053\" stroke=\"#3290CC\" stroke-width=\"4\" fill=\"red\"></rect><rect x=\"718.2\" y=\"49.573002754820926\" width=\"10\" height=\"65.42699724517908\" stroke=\"#3290CC\" stroke-width=\"4\" fill=\"red\"></rect><rect x=\"738.6\" y=\"79.73829201101928\" width=\"10\" height=\"35.26170798898072\" stroke=\"#3290CC\" stroke-width=\"4\" fill=\"red\"></rect><rect x=\"759.0000000000001\" y=\"63.07162534435261\" width=\"10\" height=\"51.92837465564739\" stroke=\"#3290CC\" stroke-width=\"4\" fill=\"red\"></rect><rect x=\"779.4\" y=\"71.74931129476585\" width=\"10\" height=\"43.250688705234154\" stroke=\"#3290CC\" stroke-width=\"4\" fill=\"red\"></rect><rect x=\"799.8\" y=\"112.7961432506887\" width=\"10\" height=\"2.2038567493112993\" stroke=\"#3290CC\" stroke-width=\"4\" fill=\"red\"></rect><rect x=\"820.2\" y=\"111.14325068870524\" width=\"10\" height=\"3.856749311294763\" stroke=\"#3290CC\" stroke-width=\"4\" fill=\"red\"></rect><rect x=\"840.6\" y=\"101.2258953168044\" width=\"10\" height=\"13.774104683195603\" stroke=\"#3290CC\" stroke-width=\"4\" fill=\"red\"></rect><rect x=\"861.0\" y=\"92.68595041322314\" width=\"10\" height=\"22.31404958677686\" stroke=\"#3290CC\" stroke-width=\"4\" fill=\"red\"></rect><rect x=\"881.4000000000001\" y=\"92.54820936639119\" width=\"10\" height=\"22.45179063360881\" stroke=\"#3290CC\" stroke-width=\"4\" fill=\"red\"></rect><rect x=\"901.8\" y=\"70.9228650137741\" width=\"10\" height=\"44.0771349862259\" stroke=\"#3290CC\" stroke-width=\"4\" fill=\"red\"></rect><rect x=\"922.1999999999999\" y=\"110.45454545454545\" width=\"10\" height=\"4.545454545454547\" stroke=\"#3290CC\" stroke-width=\"4\" fill=\"red\"></rect><rect x=\"942.6\" y=\"15.0\" width=\"10\" height=\"100.0\" stroke=\"#3290CC\" stroke-width=\"4\" fill=\"red\"></rect><rect x=\"963.0\" y=\"108.93939393939394\" width=\"10\" height=\"6.060606060606062\" stroke=\"#3290CC\" stroke-width=\"4\" fill=\"red\"></rect><rect x=\"983.4000000000001\" y=\"106.04683195592287\" width=\"10\" height=\"8.953168044077131\" stroke=\"#3290CC\" stroke-width=\"4\" fill=\"red\"></rect><rect x=\"1003.8000000000001\" y=\"108.66391184573003\" width=\"10\" height=\"6.336088154269973\" stroke=\"#3290CC\" stroke-width=\"4\" fill=\"red\"></rect><rect x=\"1024.1999999999998\" y=\"108.25068870523417\" width=\"10\" height=\"6.749311294765832\" stroke=\"#3290CC\" stroke-width=\"4\" fill=\"red\"></rect><rect x=\"1044.6\" y=\"108.93939393939394\" width=\"10\" height=\"6.060606060606062\" stroke=\"#3290CC\" stroke-width=\"4\" fill=\"red\"></rect><rect x=\"1065.0\" y=\"114.0\" width=\"10\" height=\"2\" stroke=\"#808080\" stroke-width=\"4\" fill=\"#808080\"></rect><g class=\"y-axis-line\"><rect x=\"0\" y=\"0\" width=\"65\" height=\"130\" stroke=\"transparent\" stroke-width=\"0\" fill=\"transparent\"></rect><text x=\"0\" y=\"19.0\" fill=\"transparent\" stroke=\"transparent\" font-size=\"25\">0.52</text><text x=\"0\" y=\"126.0\" fill=\"transparent\" stroke=\"transparent\" font-size=\"25\">0</text></g><g class=\"vert-line\"><rect x=\"40.0\" y=\"0\" width=\"20\" height=\"130\" stroke=\"transparent\" stroke-width=\"12\" fill=\"transparent\"></rect><text x=\"60.0\" y=\"20\" fill=\"transparent\" stroke=\"transparent\" font-size=\"30px\">0.014</text></g><g class=\"vert-line\"><rect x=\"60.400000000000006\" y=\"0\" width=\"20\" height=\"130\" stroke=\"transparent\" stroke-width=\"12\" fill=\"transparent\"></rect><text x=\"80.4\" y=\"20\" fill=\"transparent\" stroke=\"transparent\" font-size=\"30px\">0.010</text></g><g class=\"vert-line\"><rect x=\"80.80000000000001\" y=\"0\" width=\"20\" height=\"130\" stroke=\"transparent\" stroke-width=\"12\" fill=\"transparent\"></rect><text x=\"100.80000000000001\" y=\"20\" fill=\"transparent\" stroke=\"transparent\" font-size=\"30px\">5.7E−30</text></g><g class=\"vert-line\"><rect x=\"101.19999999999999\" y=\"0\" width=\"20\" height=\"130\" stroke=\"transparent\" stroke-width=\"12\" fill=\"transparent\"></rect><text x=\"121.19999999999999\" y=\"20\" fill=\"transparent\" stroke=\"transparent\" font-size=\"30px\">8.6E−30</text></g><g class=\"vert-line\"><rect x=\"121.60000000000002\" y=\"0\" width=\"20\" height=\"130\" stroke=\"transparent\" stroke-width=\"12\" fill=\"transparent\"></rect><text x=\"141.60000000000002\" y=\"20\" fill=\"transparent\" stroke=\"transparent\" font-size=\"30px\">0.016</text></g><g class=\"vert-line\"><rect x=\"142.0\" y=\"0\" width=\"20\" height=\"130\" stroke=\"transparent\" stroke-width=\"12\" fill=\"transparent\"></rect><text x=\"162.0\" y=\"20\" fill=\"transparent\" stroke=\"transparent\" font-size=\"30px\">0.014</text></g><g class=\"vert-line\"><rect x=\"162.39999999999998\" y=\"0\" width=\"20\" height=\"130\" stroke=\"transparent\" stroke-width=\"12\" fill=\"transparent\"></rect><text x=\"182.39999999999998\" y=\"20\" fill=\"transparent\" stroke=\"transparent\" font-size=\"30px\">0.010</text></g><g class=\"vert-line\"><rect x=\"182.8\" y=\"0\" width=\"20\" height=\"130\" stroke=\"transparent\" stroke-width=\"12\" fill=\"transparent\"></rect><text x=\"202.8\" y=\"20\" fill=\"transparent\" stroke=\"transparent\" font-size=\"30px\">0.016</text></g><g class=\"vert-line\"><rect x=\"203.20000000000002\" y=\"0\" width=\"20\" height=\"130\" stroke=\"transparent\" stroke-width=\"12\" fill=\"transparent\"></rect><text x=\"223.20000000000002\" y=\"20\" fill=\"transparent\" stroke=\"transparent\" font-size=\"30px\">3.6E−30</text></g><g class=\"vert-line\"><rect x=\"223.6\" y=\"0\" width=\"20\" height=\"130\" stroke=\"transparent\" stroke-width=\"12\" fill=\"transparent\"></rect><text x=\"243.6\" y=\"20\" fill=\"transparent\" stroke=\"transparent\" font-size=\"30px\">0.014</text></g><g class=\"vert-line\"><rect x=\"244.0\" y=\"0\" width=\"20\" height=\"130\" stroke=\"transparent\" stroke-width=\"12\" fill=\"transparent\"></rect><text x=\"264.0\" y=\"20\" fill=\"transparent\" stroke=\"transparent\" font-size=\"30px\">9.3E−30</text></g><g class=\"vert-line\"><rect x=\"264.4\" y=\"0\" width=\"20\" height=\"130\" stroke=\"transparent\" stroke-width=\"12\" fill=\"transparent\"></rect><text x=\"284.4\" y=\"20\" fill=\"transparent\" stroke=\"transparent\" font-size=\"30px\">9.3E−30</text></g><g class=\"vert-line\"><rect x=\"284.79999999999995\" y=\"0\" width=\"20\" height=\"130\" stroke=\"transparent\" stroke-width=\"12\" fill=\"transparent\"></rect><text x=\"304.79999999999995\" y=\"20\" fill=\"transparent\" stroke=\"transparent\" font-size=\"30px\">7.2E−30</text></g><g class=\"vert-line\"><rect x=\"305.2\" y=\"0\" width=\"20\" height=\"130\" stroke=\"transparent\" stroke-width=\"12\" fill=\"transparent\"></rect><text x=\"325.2\" y=\"20\" fill=\"transparent\" stroke=\"transparent\" font-size=\"30px\">2.2E−30</text></g><g class=\"vert-line\"><rect x=\"325.6\" y=\"0\" width=\"20\" height=\"130\" stroke=\"transparent\" stroke-width=\"12\" fill=\"transparent\"></rect><text x=\"345.6\" y=\"20\" fill=\"transparent\" stroke=\"transparent\" font-size=\"30px\">0.015</text></g><g class=\"vert-line\"><rect x=\"346.0\" y=\"0\" width=\"20\" height=\"130\" stroke=\"transparent\" stroke-width=\"12\" fill=\"transparent\"></rect><text x=\"366.0\" y=\"20\" fill=\"transparent\" stroke=\"transparent\" font-size=\"30px\">0.016</text></g><g class=\"vert-line\"><rect x=\"366.40000000000003\" y=\"0\" width=\"20\" height=\"130\" stroke=\"transparent\" stroke-width=\"12\" fill=\"transparent\"></rect><text x=\"386.40000000000003\" y=\"20\" fill=\"transparent\" stroke=\"transparent\" font-size=\"30px\">0.013</text></g><g class=\"vert-line\"><rect x=\"386.8\" y=\"0\" width=\"20\" height=\"130\" stroke=\"transparent\" stroke-width=\"12\" fill=\"transparent\"></rect><text x=\"406.8\" y=\"20\" fill=\"transparent\" stroke=\"transparent\" font-size=\"30px\">5.7E−30</text></g><g class=\"vert-line\"><rect x=\"407.2\" y=\"0\" width=\"20\" height=\"130\" stroke=\"transparent\" stroke-width=\"12\" fill=\"transparent\"></rect><text x=\"427.2\" y=\"20\" fill=\"transparent\" stroke=\"transparent\" font-size=\"30px\">9.3E−30</text></g><g class=\"vert-line\"><rect x=\"427.6\" y=\"0\" width=\"20\" height=\"130\" stroke=\"transparent\" stroke-width=\"12\" fill=\"transparent\"></rect><text x=\"447.6\" y=\"20\" fill=\"transparent\" stroke=\"transparent\" font-size=\"30px\">0.011</text></g><g class=\"vert-line\"><rect x=\"448.0\" y=\"0\" width=\"20\" height=\"130\" stroke=\"transparent\" stroke-width=\"12\" fill=\"transparent\"></rect><text x=\"468.0\" y=\"20\" fill=\"transparent\" stroke=\"transparent\" font-size=\"30px\">6.5E−30</text></g><g class=\"vert-line\"><rect x=\"468.4\" y=\"0\" width=\"20\" height=\"130\" stroke=\"transparent\" stroke-width=\"12\" fill=\"transparent\"></rect><text x=\"488.4\" y=\"20\" fill=\"transparent\" stroke=\"transparent\" font-size=\"30px\">0.011</text></g><g class=\"vert-line\"><rect x=\"488.8\" y=\"0\" width=\"20\" height=\"130\" stroke=\"transparent\" stroke-width=\"12\" fill=\"transparent\"></rect><text x=\"508.8\" y=\"20\" fill=\"transparent\" stroke=\"transparent\" font-size=\"30px\">0.014</text></g><g class=\"vert-line\"><rect x=\"509.20000000000005\" y=\"0\" width=\"20\" height=\"130\" stroke=\"transparent\" stroke-width=\"12\" fill=\"transparent\"></rect><text x=\"529.2\" y=\"20\" fill=\"transparent\" stroke=\"transparent\" font-size=\"30px\">0.010</text></g><g class=\"vert-line\"><rect x=\"529.5999999999999\" y=\"0\" width=\"20\" height=\"130\" stroke=\"transparent\" stroke-width=\"12\" fill=\"transparent\"></rect><text x=\"549.5999999999999\" y=\"20\" fill=\"transparent\" stroke=\"transparent\" font-size=\"30px\">0.019</text></g><g class=\"vert-line\"><rect x=\"550.0\" y=\"0\" width=\"20\" height=\"130\" stroke=\"transparent\" stroke-width=\"12\" fill=\"transparent\"></rect><text x=\"570.0\" y=\"20\" fill=\"transparent\" stroke=\"transparent\" font-size=\"30px\">9.3E−30</text></g><g class=\"vert-line\"><rect x=\"570.4\" y=\"0\" width=\"20\" height=\"130\" stroke=\"transparent\" stroke-width=\"12\" fill=\"transparent\"></rect><text x=\"590.4\" y=\"20\" fill=\"transparent\" stroke=\"transparent\" font-size=\"30px\">7.9E−30</text></g><g class=\"vert-line\"><rect x=\"590.8000000000001\" y=\"0\" width=\"20\" height=\"130\" stroke=\"transparent\" stroke-width=\"12\" fill=\"transparent\"></rect><text x=\"610.8000000000001\" y=\"20\" fill=\"transparent\" stroke=\"transparent\" font-size=\"30px\">0.010</text></g><g class=\"vert-line\"><rect x=\"611.2\" y=\"0\" width=\"20\" height=\"130\" stroke=\"transparent\" stroke-width=\"12\" fill=\"transparent\"></rect><text x=\"631.2\" y=\"20\" fill=\"transparent\" stroke=\"transparent\" font-size=\"30px\">0.016</text></g><g class=\"vert-line\"><rect x=\"631.5999999999999\" y=\"0\" width=\"20\" height=\"130\" stroke=\"transparent\" stroke-width=\"12\" fill=\"transparent\"></rect><text x=\"651.5999999999999\" y=\"20\" fill=\"transparent\" stroke=\"transparent\" font-size=\"30px\">0.017</text></g><g class=\"vert-line\"><rect x=\"652.0\" y=\"0\" width=\"20\" height=\"130\" stroke=\"transparent\" stroke-width=\"12\" fill=\"transparent\"></rect><text x=\"672.0\" y=\"20\" fill=\"transparent\" stroke=\"transparent\" font-size=\"30px\">0.014</text></g><g class=\"vert-line\"><rect x=\"672.4\" y=\"0\" width=\"20\" height=\"130\" stroke=\"transparent\" stroke-width=\"12\" fill=\"transparent\"></rect><text x=\"692.4\" y=\"20\" fill=\"transparent\" stroke=\"transparent\" font-size=\"30px\">0.013</text></g><g class=\"vert-line\"><rect x=\"692.8000000000001\" y=\"0\" width=\"20\" height=\"130\" stroke=\"transparent\" stroke-width=\"12\" fill=\"transparent\"></rect><text x=\"712.8000000000001\" y=\"20\" fill=\"transparent\" stroke=\"transparent\" font-size=\"30px\">0.41</text></g><g class=\"vert-line\"><rect x=\"713.2\" y=\"0\" width=\"20\" height=\"130\" stroke=\"transparent\" stroke-width=\"12\" fill=\"transparent\"></rect><text x=\"733.2\" y=\"20\" fill=\"transparent\" stroke=\"transparent\" font-size=\"30px\">0.34</text></g><g class=\"vert-line\"><rect x=\"733.6\" y=\"0\" width=\"20\" height=\"130\" stroke=\"transparent\" stroke-width=\"12\" fill=\"transparent\"></rect><text x=\"753.6\" y=\"20\" fill=\"transparent\" stroke=\"transparent\" font-size=\"30px\">0.18</text></g><g class=\"vert-line\"><rect x=\"754.0000000000001\" y=\"0\" width=\"20\" height=\"130\" stroke=\"transparent\" stroke-width=\"12\" fill=\"transparent\"></rect><text x=\"774.0000000000001\" y=\"20\" fill=\"transparent\" stroke=\"transparent\" font-size=\"30px\">0.27</text></g><g class=\"vert-line\"><rect x=\"774.4\" y=\"0\" width=\"20\" height=\"130\" stroke=\"transparent\" stroke-width=\"12\" fill=\"transparent\"></rect><text x=\"794.4\" y=\"20\" fill=\"transparent\" stroke=\"transparent\" font-size=\"30px\">0.23</text></g><g class=\"vert-line\"><rect x=\"794.8\" y=\"0\" width=\"20\" height=\"130\" stroke=\"transparent\" stroke-width=\"12\" fill=\"transparent\"></rect><text x=\"814.8\" y=\"20\" fill=\"transparent\" stroke=\"transparent\" font-size=\"30px\">0.011</text></g><g class=\"vert-line\"><rect x=\"815.2\" y=\"0\" width=\"20\" height=\"130\" stroke=\"transparent\" stroke-width=\"12\" fill=\"transparent\"></rect><text x=\"835.2\" y=\"20\" fill=\"transparent\" stroke=\"transparent\" font-size=\"30px\">0.020</text></g><g class=\"vert-line\"><rect x=\"835.6\" y=\"0\" width=\"20\" height=\"130\" stroke=\"transparent\" stroke-width=\"12\" fill=\"transparent\"></rect><text x=\"855.6\" y=\"20\" fill=\"transparent\" stroke=\"transparent\" font-size=\"30px\">0.072</text></g><g class=\"vert-line\"><rect x=\"856.0\" y=\"0\" width=\"20\" height=\"130\" stroke=\"transparent\" stroke-width=\"12\" fill=\"transparent\"></rect><text x=\"876.0\" y=\"20\" fill=\"transparent\" stroke=\"transparent\" font-size=\"30px\">0.12</text></g><g class=\"vert-line\"><rect x=\"876.4000000000001\" y=\"0\" width=\"20\" height=\"130\" stroke=\"transparent\" stroke-width=\"12\" fill=\"transparent\"></rect><text x=\"896.4000000000001\" y=\"20\" fill=\"transparent\" stroke=\"transparent\" font-size=\"30px\">0.12</text></g><g class=\"vert-line\"><rect x=\"896.8\" y=\"0\" width=\"20\" height=\"130\" stroke=\"transparent\" stroke-width=\"12\" fill=\"transparent\"></rect><text x=\"916.8\" y=\"20\" fill=\"transparent\" stroke=\"transparent\" font-size=\"30px\">0.23</text></g><g class=\"vert-line\"><rect x=\"917.1999999999999\" y=\"0\" width=\"20\" height=\"130\" stroke=\"transparent\" stroke-width=\"12\" fill=\"transparent\"></rect><text x=\"937.1999999999999\" y=\"20\" fill=\"transparent\" stroke=\"transparent\" font-size=\"30px\">0.024</text></g><g class=\"vert-line\"><rect x=\"937.6\" y=\"0\" width=\"20\" height=\"130\" stroke=\"transparent\" stroke-width=\"12\" fill=\"transparent\"></rect><text x=\"957.6\" y=\"20\" fill=\"transparent\" stroke=\"transparent\" font-size=\"30px\">0.52</text></g><g class=\"vert-line\"><rect x=\"958.0\" y=\"0\" width=\"20\" height=\"130\" stroke=\"transparent\" stroke-width=\"12\" fill=\"transparent\"></rect><text x=\"978.0\" y=\"20\" fill=\"transparent\" stroke=\"transparent\" font-size=\"30px\">0.032</text></g><g class=\"vert-line\"><rect x=\"978.4000000000001\" y=\"0\" width=\"20\" height=\"130\" stroke=\"transparent\" stroke-width=\"12\" fill=\"transparent\"></rect><text x=\"998.4000000000001\" y=\"20\" fill=\"transparent\" stroke=\"transparent\" font-size=\"30px\">0.047</text></g><g class=\"vert-line\"><rect x=\"998.8000000000001\" y=\"0\" width=\"20\" height=\"130\" stroke=\"transparent\" stroke-width=\"12\" fill=\"transparent\"></rect><text x=\"1018.8000000000001\" y=\"20\" fill=\"transparent\" stroke=\"transparent\" font-size=\"30px\">0.033</text></g><g class=\"vert-line\"><rect x=\"1019.1999999999998\" y=\"0\" width=\"20\" height=\"130\" stroke=\"transparent\" stroke-width=\"12\" fill=\"transparent\"></rect><text x=\"1039.1999999999998\" y=\"20\" fill=\"transparent\" stroke=\"transparent\" font-size=\"30px\">0.035</text></g><g class=\"vert-line\"><rect x=\"1039.6\" y=\"0\" width=\"20\" height=\"130\" stroke=\"transparent\" stroke-width=\"12\" fill=\"transparent\"></rect><text x=\"1059.6\" y=\"20\" fill=\"transparent\" stroke=\"transparent\" font-size=\"30px\">0.032</text></g><g class=\"vert-line\"><rect x=\"1060.0\" y=\"0\" width=\"20\" height=\"130\" stroke=\"transparent\" stroke-width=\"12\" fill=\"transparent\"></rect><text x=\"1080.0\" y=\"20\" fill=\"transparent\" stroke=\"transparent\" font-size=\"30px\">0</text></g></svg></div></td>\n",
       "  <td class=\"gt_row gt_right\">6.17%</td>\n",
       "</tr>\n",
       "<tr>\n",
       "  <th class=\"gt_row gt_left gt_stub\">Monthly_Income</th>\n",
       "  <td class=\"gt_row gt_center\"><div><svg role=\"img\" viewBox=\"0 0 1120 130\" style=\"height: 2em; margin-left: auto; margin-right: auto; font-size: inherit; overflow: visible; vertical-align: middle; position:relative;\"><defs><pattern id=\"area_pattern\" width=\"8\" height=\"8\" patternUnits=\"userSpaceOnUse\"><path class=\"pattern-line\" d=\"M 0,8 l 8,-8 M -1,1 l 4,-4 M 6,10 l 4,-4\" stroke=\"#FF0000\" stroke-width=\"1.5\" stroke-linecap=\"round\" shape-rendering=\"geometricPrecision\"></path></pattern></defs><style> text { font-family: ui-monospace, 'Cascadia Code', 'Source Code Pro', Menlo, Consolas, 'DejaVu Sans Mono', monospace; stroke-width: 0.15em; paint-order: stroke; stroke-linejoin: round; cursor: default; } .vert-line:hover rect { fill: #911EB4; fill-opacity: 40%; stroke: #FFFFFF60; color: red; } .vert-line:hover text { stroke: white; fill: #212427; } .horizontal-line:hover text {stroke: white; fill: #212427; } .ref-line:hover rect { stroke: #FFFFFF60; } .ref-line:hover line { stroke: #FF0000; } .ref-line:hover text { stroke: white; fill: #212427; } .y-axis-line:hover rect { fill: #EDEDED; fill-opacity: 60%; stroke: #FFFFFF60; color: red; } .y-axis-line:hover text { stroke: white; stroke-width: 0.20em; fill: #1A1C1F; } </style><line x1=\"22.5\" y1=\"65.0\" x2=\"1097.5\" y2=\"65.0\" stroke=\"#BFBFBF\" stroke-width=\"4\"></line><rect x=\"45.0\" y=\"64.0\" width=\"10\" height=\"2\" stroke=\"#808080\" stroke-width=\"4\" fill=\"#808080\"></rect><rect x=\"65.4\" y=\"64.0\" width=\"10\" height=\"2\" stroke=\"#808080\" stroke-width=\"4\" fill=\"#808080\"></rect><rect x=\"85.80000000000001\" y=\"64.0\" width=\"10\" height=\"2\" stroke=\"#808080\" stroke-width=\"4\" fill=\"#808080\"></rect><rect x=\"106.19999999999999\" y=\"64.0\" width=\"10\" height=\"2\" stroke=\"#808080\" stroke-width=\"4\" fill=\"#808080\"></rect><rect x=\"126.60000000000002\" y=\"64.0\" width=\"10\" height=\"2\" stroke=\"#808080\" stroke-width=\"4\" fill=\"#808080\"></rect><rect x=\"147.0\" y=\"64.0\" width=\"10\" height=\"2\" stroke=\"#808080\" stroke-width=\"4\" fill=\"#808080\"></rect><rect x=\"167.39999999999998\" y=\"64.0\" width=\"10\" height=\"2\" stroke=\"#808080\" stroke-width=\"4\" fill=\"#808080\"></rect><rect x=\"187.8\" y=\"64.0\" width=\"10\" height=\"2\" stroke=\"#808080\" stroke-width=\"4\" fill=\"#808080\"></rect><rect x=\"208.20000000000002\" y=\"64.0\" width=\"10\" height=\"2\" stroke=\"#808080\" stroke-width=\"4\" fill=\"#808080\"></rect><rect x=\"228.6\" y=\"64.0\" width=\"10\" height=\"2\" stroke=\"#808080\" stroke-width=\"4\" fill=\"#808080\"></rect><rect x=\"249.0\" y=\"64.0\" width=\"10\" height=\"2\" stroke=\"#808080\" stroke-width=\"4\" fill=\"#808080\"></rect><rect x=\"269.4\" y=\"64.0\" width=\"10\" height=\"2\" stroke=\"#808080\" stroke-width=\"4\" fill=\"#808080\"></rect><rect x=\"289.79999999999995\" y=\"64.0\" width=\"10\" height=\"2\" stroke=\"#808080\" stroke-width=\"4\" fill=\"#808080\"></rect><rect x=\"310.2\" y=\"64.0\" width=\"10\" height=\"2\" stroke=\"#808080\" stroke-width=\"4\" fill=\"#808080\"></rect><rect x=\"330.6\" y=\"64.0\" width=\"10\" height=\"2\" stroke=\"#808080\" stroke-width=\"4\" fill=\"#808080\"></rect><rect x=\"351.0\" y=\"64.0\" width=\"10\" height=\"2\" stroke=\"#808080\" stroke-width=\"4\" fill=\"#808080\"></rect><rect x=\"371.40000000000003\" y=\"64.0\" width=\"10\" height=\"2\" stroke=\"#808080\" stroke-width=\"4\" fill=\"#808080\"></rect><rect x=\"391.8\" y=\"64.0\" width=\"10\" height=\"2\" stroke=\"#808080\" stroke-width=\"4\" fill=\"#808080\"></rect><rect x=\"412.2\" y=\"64.0\" width=\"10\" height=\"2\" stroke=\"#808080\" stroke-width=\"4\" fill=\"#808080\"></rect><rect x=\"432.6\" y=\"64.0\" width=\"10\" height=\"2\" stroke=\"#808080\" stroke-width=\"4\" fill=\"#808080\"></rect><rect x=\"453.0\" y=\"64.0\" width=\"10\" height=\"2\" stroke=\"#808080\" stroke-width=\"4\" fill=\"#808080\"></rect><rect x=\"473.4\" y=\"64.0\" width=\"10\" height=\"2\" stroke=\"#808080\" stroke-width=\"4\" fill=\"#808080\"></rect><rect x=\"493.8\" y=\"64.0\" width=\"10\" height=\"2\" stroke=\"#808080\" stroke-width=\"4\" fill=\"#808080\"></rect><rect x=\"514.2\" y=\"64.0\" width=\"10\" height=\"2\" stroke=\"#808080\" stroke-width=\"4\" fill=\"#808080\"></rect><rect x=\"534.5999999999999\" y=\"64.0\" width=\"10\" height=\"2\" stroke=\"#808080\" stroke-width=\"4\" fill=\"#808080\"></rect><rect x=\"555.0\" y=\"64.0\" width=\"10\" height=\"2\" stroke=\"#808080\" stroke-width=\"4\" fill=\"#808080\"></rect><rect x=\"575.4\" y=\"64.0\" width=\"10\" height=\"2\" stroke=\"#808080\" stroke-width=\"4\" fill=\"#808080\"></rect><rect x=\"595.8000000000001\" y=\"64.0\" width=\"10\" height=\"2\" stroke=\"#808080\" stroke-width=\"4\" fill=\"#808080\"></rect><rect x=\"616.2\" y=\"64.0\" width=\"10\" height=\"2\" stroke=\"#808080\" stroke-width=\"4\" fill=\"#808080\"></rect><rect x=\"636.5999999999999\" y=\"64.0\" width=\"10\" height=\"2\" stroke=\"#808080\" stroke-width=\"4\" fill=\"#808080\"></rect><rect x=\"657.0\" y=\"64.0\" width=\"10\" height=\"2\" stroke=\"#808080\" stroke-width=\"4\" fill=\"#808080\"></rect><rect x=\"677.4\" y=\"64.0\" width=\"10\" height=\"2\" stroke=\"#808080\" stroke-width=\"4\" fill=\"#808080\"></rect><rect x=\"697.8000000000001\" y=\"64.0\" width=\"10\" height=\"2\" stroke=\"#808080\" stroke-width=\"4\" fill=\"#808080\"></rect><rect x=\"718.2\" y=\"64.0\" width=\"10\" height=\"2\" stroke=\"#808080\" stroke-width=\"4\" fill=\"#808080\"></rect><rect x=\"738.6\" y=\"64.0\" width=\"10\" height=\"2\" stroke=\"#808080\" stroke-width=\"4\" fill=\"#808080\"></rect><rect x=\"759.0000000000001\" y=\"64.0\" width=\"10\" height=\"2\" stroke=\"#808080\" stroke-width=\"4\" fill=\"#808080\"></rect><rect x=\"779.4\" y=\"64.0\" width=\"10\" height=\"2\" stroke=\"#808080\" stroke-width=\"4\" fill=\"#808080\"></rect><rect x=\"799.8\" y=\"64.0\" width=\"10\" height=\"2\" stroke=\"#808080\" stroke-width=\"4\" fill=\"#808080\"></rect><rect x=\"820.2\" y=\"64.0\" width=\"10\" height=\"2\" stroke=\"#808080\" stroke-width=\"4\" fill=\"#808080\"></rect><rect x=\"840.6\" y=\"64.0\" width=\"10\" height=\"2\" stroke=\"#808080\" stroke-width=\"4\" fill=\"#808080\"></rect><rect x=\"861.0\" y=\"64.0\" width=\"10\" height=\"2\" stroke=\"#808080\" stroke-width=\"4\" fill=\"#808080\"></rect><rect x=\"881.4000000000001\" y=\"64.0\" width=\"10\" height=\"2\" stroke=\"#808080\" stroke-width=\"4\" fill=\"#808080\"></rect><rect x=\"901.8\" y=\"64.0\" width=\"10\" height=\"2\" stroke=\"#808080\" stroke-width=\"4\" fill=\"#808080\"></rect><rect x=\"922.1999999999999\" y=\"64.0\" width=\"10\" height=\"2\" stroke=\"#808080\" stroke-width=\"4\" fill=\"#808080\"></rect><rect x=\"942.6\" y=\"64.0\" width=\"10\" height=\"2\" stroke=\"#808080\" stroke-width=\"4\" fill=\"#808080\"></rect><rect x=\"963.0\" y=\"64.0\" width=\"10\" height=\"2\" stroke=\"#808080\" stroke-width=\"4\" fill=\"#808080\"></rect><rect x=\"983.4000000000001\" y=\"64.0\" width=\"10\" height=\"2\" stroke=\"#808080\" stroke-width=\"4\" fill=\"#808080\"></rect><rect x=\"1003.8000000000001\" y=\"64.0\" width=\"10\" height=\"2\" stroke=\"#808080\" stroke-width=\"4\" fill=\"#808080\"></rect><rect x=\"1024.1999999999998\" y=\"64.0\" width=\"10\" height=\"2\" stroke=\"#808080\" stroke-width=\"4\" fill=\"#808080\"></rect><rect x=\"1044.6\" y=\"64.0\" width=\"10\" height=\"2\" stroke=\"#808080\" stroke-width=\"4\" fill=\"#808080\"></rect><rect x=\"1065.0\" y=\"64.0\" width=\"10\" height=\"2\" stroke=\"#808080\" stroke-width=\"4\" fill=\"#808080\"></rect><g class=\"y-axis-line\"><rect x=\"0\" y=\"0\" width=\"65\" height=\"130\" stroke=\"transparent\" stroke-width=\"0\" fill=\"transparent\"></rect><text x=\"0\" y=\"19.0\" fill=\"transparent\" stroke=\"transparent\" font-size=\"25\">5.00</text><text x=\"0\" y=\"126.0\" fill=\"transparent\" stroke=\"transparent\" font-size=\"25\">−5.00</text></g><g class=\"vert-line\"><rect x=\"40.0\" y=\"0\" width=\"20\" height=\"130\" stroke=\"transparent\" stroke-width=\"12\" fill=\"transparent\"></rect><text x=\"60.0\" y=\"20\" fill=\"transparent\" stroke=\"transparent\" font-size=\"30px\">0</text></g><g class=\"vert-line\"><rect x=\"60.400000000000006\" y=\"0\" width=\"20\" height=\"130\" stroke=\"transparent\" stroke-width=\"12\" fill=\"transparent\"></rect><text x=\"80.4\" y=\"20\" fill=\"transparent\" stroke=\"transparent\" font-size=\"30px\">0</text></g><g class=\"vert-line\"><rect x=\"80.80000000000001\" y=\"0\" width=\"20\" height=\"130\" stroke=\"transparent\" stroke-width=\"12\" fill=\"transparent\"></rect><text x=\"100.80000000000001\" y=\"20\" fill=\"transparent\" stroke=\"transparent\" font-size=\"30px\">0</text></g><g class=\"vert-line\"><rect x=\"101.19999999999999\" y=\"0\" width=\"20\" height=\"130\" stroke=\"transparent\" stroke-width=\"12\" fill=\"transparent\"></rect><text x=\"121.19999999999999\" y=\"20\" fill=\"transparent\" stroke=\"transparent\" font-size=\"30px\">0</text></g><g class=\"vert-line\"><rect x=\"121.60000000000002\" y=\"0\" width=\"20\" height=\"130\" stroke=\"transparent\" stroke-width=\"12\" fill=\"transparent\"></rect><text x=\"141.60000000000002\" y=\"20\" fill=\"transparent\" stroke=\"transparent\" font-size=\"30px\">0</text></g><g class=\"vert-line\"><rect x=\"142.0\" y=\"0\" width=\"20\" height=\"130\" stroke=\"transparent\" stroke-width=\"12\" fill=\"transparent\"></rect><text x=\"162.0\" y=\"20\" fill=\"transparent\" stroke=\"transparent\" font-size=\"30px\">0</text></g><g class=\"vert-line\"><rect x=\"162.39999999999998\" y=\"0\" width=\"20\" height=\"130\" stroke=\"transparent\" stroke-width=\"12\" fill=\"transparent\"></rect><text x=\"182.39999999999998\" y=\"20\" fill=\"transparent\" stroke=\"transparent\" font-size=\"30px\">0</text></g><g class=\"vert-line\"><rect x=\"182.8\" y=\"0\" width=\"20\" height=\"130\" stroke=\"transparent\" stroke-width=\"12\" fill=\"transparent\"></rect><text x=\"202.8\" y=\"20\" fill=\"transparent\" stroke=\"transparent\" font-size=\"30px\">0</text></g><g class=\"vert-line\"><rect x=\"203.20000000000002\" y=\"0\" width=\"20\" height=\"130\" stroke=\"transparent\" stroke-width=\"12\" fill=\"transparent\"></rect><text x=\"223.20000000000002\" y=\"20\" fill=\"transparent\" stroke=\"transparent\" font-size=\"30px\">0</text></g><g class=\"vert-line\"><rect x=\"223.6\" y=\"0\" width=\"20\" height=\"130\" stroke=\"transparent\" stroke-width=\"12\" fill=\"transparent\"></rect><text x=\"243.6\" y=\"20\" fill=\"transparent\" stroke=\"transparent\" font-size=\"30px\">0</text></g><g class=\"vert-line\"><rect x=\"244.0\" y=\"0\" width=\"20\" height=\"130\" stroke=\"transparent\" stroke-width=\"12\" fill=\"transparent\"></rect><text x=\"264.0\" y=\"20\" fill=\"transparent\" stroke=\"transparent\" font-size=\"30px\">0</text></g><g class=\"vert-line\"><rect x=\"264.4\" y=\"0\" width=\"20\" height=\"130\" stroke=\"transparent\" stroke-width=\"12\" fill=\"transparent\"></rect><text x=\"284.4\" y=\"20\" fill=\"transparent\" stroke=\"transparent\" font-size=\"30px\">0</text></g><g class=\"vert-line\"><rect x=\"284.79999999999995\" y=\"0\" width=\"20\" height=\"130\" stroke=\"transparent\" stroke-width=\"12\" fill=\"transparent\"></rect><text x=\"304.79999999999995\" y=\"20\" fill=\"transparent\" stroke=\"transparent\" font-size=\"30px\">0</text></g><g class=\"vert-line\"><rect x=\"305.2\" y=\"0\" width=\"20\" height=\"130\" stroke=\"transparent\" stroke-width=\"12\" fill=\"transparent\"></rect><text x=\"325.2\" y=\"20\" fill=\"transparent\" stroke=\"transparent\" font-size=\"30px\">0</text></g><g class=\"vert-line\"><rect x=\"325.6\" y=\"0\" width=\"20\" height=\"130\" stroke=\"transparent\" stroke-width=\"12\" fill=\"transparent\"></rect><text x=\"345.6\" y=\"20\" fill=\"transparent\" stroke=\"transparent\" font-size=\"30px\">0</text></g><g class=\"vert-line\"><rect x=\"346.0\" y=\"0\" width=\"20\" height=\"130\" stroke=\"transparent\" stroke-width=\"12\" fill=\"transparent\"></rect><text x=\"366.0\" y=\"20\" fill=\"transparent\" stroke=\"transparent\" font-size=\"30px\">0</text></g><g class=\"vert-line\"><rect x=\"366.40000000000003\" y=\"0\" width=\"20\" height=\"130\" stroke=\"transparent\" stroke-width=\"12\" fill=\"transparent\"></rect><text x=\"386.40000000000003\" y=\"20\" fill=\"transparent\" stroke=\"transparent\" font-size=\"30px\">0</text></g><g class=\"vert-line\"><rect x=\"386.8\" y=\"0\" width=\"20\" height=\"130\" stroke=\"transparent\" stroke-width=\"12\" fill=\"transparent\"></rect><text x=\"406.8\" y=\"20\" fill=\"transparent\" stroke=\"transparent\" font-size=\"30px\">0</text></g><g class=\"vert-line\"><rect x=\"407.2\" y=\"0\" width=\"20\" height=\"130\" stroke=\"transparent\" stroke-width=\"12\" fill=\"transparent\"></rect><text x=\"427.2\" y=\"20\" fill=\"transparent\" stroke=\"transparent\" font-size=\"30px\">0</text></g><g class=\"vert-line\"><rect x=\"427.6\" y=\"0\" width=\"20\" height=\"130\" stroke=\"transparent\" stroke-width=\"12\" fill=\"transparent\"></rect><text x=\"447.6\" y=\"20\" fill=\"transparent\" stroke=\"transparent\" font-size=\"30px\">0</text></g><g class=\"vert-line\"><rect x=\"448.0\" y=\"0\" width=\"20\" height=\"130\" stroke=\"transparent\" stroke-width=\"12\" fill=\"transparent\"></rect><text x=\"468.0\" y=\"20\" fill=\"transparent\" stroke=\"transparent\" font-size=\"30px\">0</text></g><g class=\"vert-line\"><rect x=\"468.4\" y=\"0\" width=\"20\" height=\"130\" stroke=\"transparent\" stroke-width=\"12\" fill=\"transparent\"></rect><text x=\"488.4\" y=\"20\" fill=\"transparent\" stroke=\"transparent\" font-size=\"30px\">0</text></g><g class=\"vert-line\"><rect x=\"488.8\" y=\"0\" width=\"20\" height=\"130\" stroke=\"transparent\" stroke-width=\"12\" fill=\"transparent\"></rect><text x=\"508.8\" y=\"20\" fill=\"transparent\" stroke=\"transparent\" font-size=\"30px\">0</text></g><g class=\"vert-line\"><rect x=\"509.20000000000005\" y=\"0\" width=\"20\" height=\"130\" stroke=\"transparent\" stroke-width=\"12\" fill=\"transparent\"></rect><text x=\"529.2\" y=\"20\" fill=\"transparent\" stroke=\"transparent\" font-size=\"30px\">0</text></g><g class=\"vert-line\"><rect x=\"529.5999999999999\" y=\"0\" width=\"20\" height=\"130\" stroke=\"transparent\" stroke-width=\"12\" fill=\"transparent\"></rect><text x=\"549.5999999999999\" y=\"20\" fill=\"transparent\" stroke=\"transparent\" font-size=\"30px\">0</text></g><g class=\"vert-line\"><rect x=\"550.0\" y=\"0\" width=\"20\" height=\"130\" stroke=\"transparent\" stroke-width=\"12\" fill=\"transparent\"></rect><text x=\"570.0\" y=\"20\" fill=\"transparent\" stroke=\"transparent\" font-size=\"30px\">0</text></g><g class=\"vert-line\"><rect x=\"570.4\" y=\"0\" width=\"20\" height=\"130\" stroke=\"transparent\" stroke-width=\"12\" fill=\"transparent\"></rect><text x=\"590.4\" y=\"20\" fill=\"transparent\" stroke=\"transparent\" font-size=\"30px\">0</text></g><g class=\"vert-line\"><rect x=\"590.8000000000001\" y=\"0\" width=\"20\" height=\"130\" stroke=\"transparent\" stroke-width=\"12\" fill=\"transparent\"></rect><text x=\"610.8000000000001\" y=\"20\" fill=\"transparent\" stroke=\"transparent\" font-size=\"30px\">0</text></g><g class=\"vert-line\"><rect x=\"611.2\" y=\"0\" width=\"20\" height=\"130\" stroke=\"transparent\" stroke-width=\"12\" fill=\"transparent\"></rect><text x=\"631.2\" y=\"20\" fill=\"transparent\" stroke=\"transparent\" font-size=\"30px\">0</text></g><g class=\"vert-line\"><rect x=\"631.5999999999999\" y=\"0\" width=\"20\" height=\"130\" stroke=\"transparent\" stroke-width=\"12\" fill=\"transparent\"></rect><text x=\"651.5999999999999\" y=\"20\" fill=\"transparent\" stroke=\"transparent\" font-size=\"30px\">0</text></g><g class=\"vert-line\"><rect x=\"652.0\" y=\"0\" width=\"20\" height=\"130\" stroke=\"transparent\" stroke-width=\"12\" fill=\"transparent\"></rect><text x=\"672.0\" y=\"20\" fill=\"transparent\" stroke=\"transparent\" font-size=\"30px\">0</text></g><g class=\"vert-line\"><rect x=\"672.4\" y=\"0\" width=\"20\" height=\"130\" stroke=\"transparent\" stroke-width=\"12\" fill=\"transparent\"></rect><text x=\"692.4\" y=\"20\" fill=\"transparent\" stroke=\"transparent\" font-size=\"30px\">0</text></g><g class=\"vert-line\"><rect x=\"692.8000000000001\" y=\"0\" width=\"20\" height=\"130\" stroke=\"transparent\" stroke-width=\"12\" fill=\"transparent\"></rect><text x=\"712.8000000000001\" y=\"20\" fill=\"transparent\" stroke=\"transparent\" font-size=\"30px\">0</text></g><g class=\"vert-line\"><rect x=\"713.2\" y=\"0\" width=\"20\" height=\"130\" stroke=\"transparent\" stroke-width=\"12\" fill=\"transparent\"></rect><text x=\"733.2\" y=\"20\" fill=\"transparent\" stroke=\"transparent\" font-size=\"30px\">0</text></g><g class=\"vert-line\"><rect x=\"733.6\" y=\"0\" width=\"20\" height=\"130\" stroke=\"transparent\" stroke-width=\"12\" fill=\"transparent\"></rect><text x=\"753.6\" y=\"20\" fill=\"transparent\" stroke=\"transparent\" font-size=\"30px\">0</text></g><g class=\"vert-line\"><rect x=\"754.0000000000001\" y=\"0\" width=\"20\" height=\"130\" stroke=\"transparent\" stroke-width=\"12\" fill=\"transparent\"></rect><text x=\"774.0000000000001\" y=\"20\" fill=\"transparent\" stroke=\"transparent\" font-size=\"30px\">0</text></g><g class=\"vert-line\"><rect x=\"774.4\" y=\"0\" width=\"20\" height=\"130\" stroke=\"transparent\" stroke-width=\"12\" fill=\"transparent\"></rect><text x=\"794.4\" y=\"20\" fill=\"transparent\" stroke=\"transparent\" font-size=\"30px\">0</text></g><g class=\"vert-line\"><rect x=\"794.8\" y=\"0\" width=\"20\" height=\"130\" stroke=\"transparent\" stroke-width=\"12\" fill=\"transparent\"></rect><text x=\"814.8\" y=\"20\" fill=\"transparent\" stroke=\"transparent\" font-size=\"30px\">0</text></g><g class=\"vert-line\"><rect x=\"815.2\" y=\"0\" width=\"20\" height=\"130\" stroke=\"transparent\" stroke-width=\"12\" fill=\"transparent\"></rect><text x=\"835.2\" y=\"20\" fill=\"transparent\" stroke=\"transparent\" font-size=\"30px\">0</text></g><g class=\"vert-line\"><rect x=\"835.6\" y=\"0\" width=\"20\" height=\"130\" stroke=\"transparent\" stroke-width=\"12\" fill=\"transparent\"></rect><text x=\"855.6\" y=\"20\" fill=\"transparent\" stroke=\"transparent\" font-size=\"30px\">0</text></g><g class=\"vert-line\"><rect x=\"856.0\" y=\"0\" width=\"20\" height=\"130\" stroke=\"transparent\" stroke-width=\"12\" fill=\"transparent\"></rect><text x=\"876.0\" y=\"20\" fill=\"transparent\" stroke=\"transparent\" font-size=\"30px\">0</text></g><g class=\"vert-line\"><rect x=\"876.4000000000001\" y=\"0\" width=\"20\" height=\"130\" stroke=\"transparent\" stroke-width=\"12\" fill=\"transparent\"></rect><text x=\"896.4000000000001\" y=\"20\" fill=\"transparent\" stroke=\"transparent\" font-size=\"30px\">0</text></g><g class=\"vert-line\"><rect x=\"896.8\" y=\"0\" width=\"20\" height=\"130\" stroke=\"transparent\" stroke-width=\"12\" fill=\"transparent\"></rect><text x=\"916.8\" y=\"20\" fill=\"transparent\" stroke=\"transparent\" font-size=\"30px\">0</text></g><g class=\"vert-line\"><rect x=\"917.1999999999999\" y=\"0\" width=\"20\" height=\"130\" stroke=\"transparent\" stroke-width=\"12\" fill=\"transparent\"></rect><text x=\"937.1999999999999\" y=\"20\" fill=\"transparent\" stroke=\"transparent\" font-size=\"30px\">0</text></g><g class=\"vert-line\"><rect x=\"937.6\" y=\"0\" width=\"20\" height=\"130\" stroke=\"transparent\" stroke-width=\"12\" fill=\"transparent\"></rect><text x=\"957.6\" y=\"20\" fill=\"transparent\" stroke=\"transparent\" font-size=\"30px\">0</text></g><g class=\"vert-line\"><rect x=\"958.0\" y=\"0\" width=\"20\" height=\"130\" stroke=\"transparent\" stroke-width=\"12\" fill=\"transparent\"></rect><text x=\"978.0\" y=\"20\" fill=\"transparent\" stroke=\"transparent\" font-size=\"30px\">0</text></g><g class=\"vert-line\"><rect x=\"978.4000000000001\" y=\"0\" width=\"20\" height=\"130\" stroke=\"transparent\" stroke-width=\"12\" fill=\"transparent\"></rect><text x=\"998.4000000000001\" y=\"20\" fill=\"transparent\" stroke=\"transparent\" font-size=\"30px\">0</text></g><g class=\"vert-line\"><rect x=\"998.8000000000001\" y=\"0\" width=\"20\" height=\"130\" stroke=\"transparent\" stroke-width=\"12\" fill=\"transparent\"></rect><text x=\"1018.8000000000001\" y=\"20\" fill=\"transparent\" stroke=\"transparent\" font-size=\"30px\">0</text></g><g class=\"vert-line\"><rect x=\"1019.1999999999998\" y=\"0\" width=\"20\" height=\"130\" stroke=\"transparent\" stroke-width=\"12\" fill=\"transparent\"></rect><text x=\"1039.1999999999998\" y=\"20\" fill=\"transparent\" stroke=\"transparent\" font-size=\"30px\">0</text></g><g class=\"vert-line\"><rect x=\"1039.6\" y=\"0\" width=\"20\" height=\"130\" stroke=\"transparent\" stroke-width=\"12\" fill=\"transparent\"></rect><text x=\"1059.6\" y=\"20\" fill=\"transparent\" stroke=\"transparent\" font-size=\"30px\">0</text></g><g class=\"vert-line\"><rect x=\"1060.0\" y=\"0\" width=\"20\" height=\"130\" stroke=\"transparent\" stroke-width=\"12\" fill=\"transparent\"></rect><text x=\"1080.0\" y=\"20\" fill=\"transparent\" stroke=\"transparent\" font-size=\"30px\">0</text></g></svg></div></td>\n",
       "  <td class=\"gt_row gt_right\">0.00%</td>\n",
       "</tr>\n",
       "<tr>\n",
       "  <th class=\"gt_row gt_left gt_stub\">Existing_EMI</th>\n",
       "  <td class=\"gt_row gt_center\"><div><svg role=\"img\" viewBox=\"0 0 1120 130\" style=\"height: 2em; margin-left: auto; margin-right: auto; font-size: inherit; overflow: visible; vertical-align: middle; position:relative;\"><defs><pattern id=\"area_pattern\" width=\"8\" height=\"8\" patternUnits=\"userSpaceOnUse\"><path class=\"pattern-line\" d=\"M 0,8 l 8,-8 M -1,1 l 4,-4 M 6,10 l 4,-4\" stroke=\"#FF0000\" stroke-width=\"1.5\" stroke-linecap=\"round\" shape-rendering=\"geometricPrecision\"></path></pattern></defs><style> text { font-family: ui-monospace, 'Cascadia Code', 'Source Code Pro', Menlo, Consolas, 'DejaVu Sans Mono', monospace; stroke-width: 0.15em; paint-order: stroke; stroke-linejoin: round; cursor: default; } .vert-line:hover rect { fill: #911EB4; fill-opacity: 40%; stroke: #FFFFFF60; color: red; } .vert-line:hover text { stroke: white; fill: #212427; } .horizontal-line:hover text {stroke: white; fill: #212427; } .ref-line:hover rect { stroke: #FFFFFF60; } .ref-line:hover line { stroke: #FF0000; } .ref-line:hover text { stroke: white; fill: #212427; } .y-axis-line:hover rect { fill: #EDEDED; fill-opacity: 60%; stroke: #FFFFFF60; color: red; } .y-axis-line:hover text { stroke: white; stroke-width: 0.20em; fill: #1A1C1F; } </style><line x1=\"22.5\" y1=\"115.0\" x2=\"1097.5\" y2=\"115.0\" stroke=\"#BFBFBF\" stroke-width=\"4\"></line><rect x=\"45.0\" y=\"114.0\" width=\"10\" height=\"2\" stroke=\"#808080\" stroke-width=\"4\" fill=\"#808080\"></rect><rect x=\"65.4\" y=\"114.0\" width=\"10\" height=\"2\" stroke=\"#808080\" stroke-width=\"4\" fill=\"#808080\"></rect><rect x=\"85.80000000000001\" y=\"114.0\" width=\"10\" height=\"2\" stroke=\"#808080\" stroke-width=\"4\" fill=\"#808080\"></rect><rect x=\"106.19999999999999\" y=\"114.0\" width=\"10\" height=\"2\" stroke=\"#808080\" stroke-width=\"4\" fill=\"#808080\"></rect><rect x=\"126.60000000000002\" y=\"114.0\" width=\"10\" height=\"2\" stroke=\"#808080\" stroke-width=\"4\" fill=\"#808080\"></rect><rect x=\"147.0\" y=\"114.0\" width=\"10\" height=\"2\" stroke=\"#808080\" stroke-width=\"4\" fill=\"#808080\"></rect><rect x=\"167.39999999999998\" y=\"114.0\" width=\"10\" height=\"2\" stroke=\"#808080\" stroke-width=\"4\" fill=\"#808080\"></rect><rect x=\"187.8\" y=\"114.0\" width=\"10\" height=\"2\" stroke=\"#808080\" stroke-width=\"4\" fill=\"#808080\"></rect><rect x=\"208.20000000000002\" y=\"114.0\" width=\"10\" height=\"2\" stroke=\"#808080\" stroke-width=\"4\" fill=\"#808080\"></rect><rect x=\"228.6\" y=\"114.0\" width=\"10\" height=\"2\" stroke=\"#808080\" stroke-width=\"4\" fill=\"#808080\"></rect><rect x=\"249.0\" y=\"114.0\" width=\"10\" height=\"2\" stroke=\"#808080\" stroke-width=\"4\" fill=\"#808080\"></rect><rect x=\"269.4\" y=\"114.0\" width=\"10\" height=\"2\" stroke=\"#808080\" stroke-width=\"4\" fill=\"#808080\"></rect><rect x=\"289.79999999999995\" y=\"114.0\" width=\"10\" height=\"2\" stroke=\"#808080\" stroke-width=\"4\" fill=\"#808080\"></rect><rect x=\"310.2\" y=\"114.0\" width=\"10\" height=\"2\" stroke=\"#808080\" stroke-width=\"4\" fill=\"#808080\"></rect><rect x=\"330.6\" y=\"114.0\" width=\"10\" height=\"2\" stroke=\"#808080\" stroke-width=\"4\" fill=\"#808080\"></rect><rect x=\"351.0\" y=\"114.0\" width=\"10\" height=\"2\" stroke=\"#808080\" stroke-width=\"4\" fill=\"#808080\"></rect><rect x=\"371.40000000000003\" y=\"114.0\" width=\"10\" height=\"2\" stroke=\"#808080\" stroke-width=\"4\" fill=\"#808080\"></rect><rect x=\"391.8\" y=\"114.0\" width=\"10\" height=\"2\" stroke=\"#808080\" stroke-width=\"4\" fill=\"#808080\"></rect><rect x=\"412.2\" y=\"114.0\" width=\"10\" height=\"2\" stroke=\"#808080\" stroke-width=\"4\" fill=\"#808080\"></rect><rect x=\"432.6\" y=\"114.0\" width=\"10\" height=\"2\" stroke=\"#808080\" stroke-width=\"4\" fill=\"#808080\"></rect><rect x=\"453.0\" y=\"114.0\" width=\"10\" height=\"2\" stroke=\"#808080\" stroke-width=\"4\" fill=\"#808080\"></rect><rect x=\"473.4\" y=\"114.0\" width=\"10\" height=\"2\" stroke=\"#808080\" stroke-width=\"4\" fill=\"#808080\"></rect><rect x=\"493.8\" y=\"114.0\" width=\"10\" height=\"2\" stroke=\"#808080\" stroke-width=\"4\" fill=\"#808080\"></rect><rect x=\"514.2\" y=\"114.0\" width=\"10\" height=\"2\" stroke=\"#808080\" stroke-width=\"4\" fill=\"#808080\"></rect><rect x=\"534.5999999999999\" y=\"108.33333333333333\" width=\"10\" height=\"6.666666666666671\" stroke=\"#3290CC\" stroke-width=\"4\" fill=\"red\"></rect><rect x=\"555.0\" y=\"114.0\" width=\"10\" height=\"2\" stroke=\"#808080\" stroke-width=\"4\" fill=\"#808080\"></rect><rect x=\"575.4\" y=\"114.0\" width=\"10\" height=\"2\" stroke=\"#808080\" stroke-width=\"4\" fill=\"#808080\"></rect><rect x=\"595.8000000000001\" y=\"114.0\" width=\"10\" height=\"2\" stroke=\"#808080\" stroke-width=\"4\" fill=\"#808080\"></rect><rect x=\"616.2\" y=\"114.0\" width=\"10\" height=\"2\" stroke=\"#808080\" stroke-width=\"4\" fill=\"#808080\"></rect><rect x=\"636.5999999999999\" y=\"108.33333333333333\" width=\"10\" height=\"6.666666666666671\" stroke=\"#3290CC\" stroke-width=\"4\" fill=\"red\"></rect><rect x=\"657.0\" y=\"114.0\" width=\"10\" height=\"2\" stroke=\"#808080\" stroke-width=\"4\" fill=\"#808080\"></rect><rect x=\"677.4\" y=\"114.0\" width=\"10\" height=\"2\" stroke=\"#808080\" stroke-width=\"4\" fill=\"#808080\"></rect><rect x=\"697.8000000000001\" y=\"114.0\" width=\"10\" height=\"2\" stroke=\"#808080\" stroke-width=\"4\" fill=\"#808080\"></rect><rect x=\"718.2\" y=\"114.0\" width=\"10\" height=\"2\" stroke=\"#808080\" stroke-width=\"4\" fill=\"#808080\"></rect><rect x=\"738.6\" y=\"108.33333333333333\" width=\"10\" height=\"6.666666666666671\" stroke=\"#3290CC\" stroke-width=\"4\" fill=\"red\"></rect><rect x=\"759.0000000000001\" y=\"101.66666666666667\" width=\"10\" height=\"13.333333333333329\" stroke=\"#3290CC\" stroke-width=\"4\" fill=\"red\"></rect><rect x=\"779.4\" y=\"114.0\" width=\"10\" height=\"2\" stroke=\"#808080\" stroke-width=\"4\" fill=\"#808080\"></rect><rect x=\"799.8\" y=\"114.0\" width=\"10\" height=\"2\" stroke=\"#808080\" stroke-width=\"4\" fill=\"#808080\"></rect><rect x=\"820.2\" y=\"108.33333333333333\" width=\"10\" height=\"6.666666666666671\" stroke=\"#3290CC\" stroke-width=\"4\" fill=\"red\"></rect><rect x=\"840.6\" y=\"108.33333333333333\" width=\"10\" height=\"6.666666666666671\" stroke=\"#3290CC\" stroke-width=\"4\" fill=\"red\"></rect><rect x=\"861.0\" y=\"101.66666666666667\" width=\"10\" height=\"13.333333333333329\" stroke=\"#3290CC\" stroke-width=\"4\" fill=\"red\"></rect><rect x=\"881.4000000000001\" y=\"108.33333333333333\" width=\"10\" height=\"6.666666666666671\" stroke=\"#3290CC\" stroke-width=\"4\" fill=\"red\"></rect><rect x=\"901.8\" y=\"101.66666666666667\" width=\"10\" height=\"13.333333333333329\" stroke=\"#3290CC\" stroke-width=\"4\" fill=\"red\"></rect><rect x=\"922.1999999999999\" y=\"95.0\" width=\"10\" height=\"20.0\" stroke=\"#3290CC\" stroke-width=\"4\" fill=\"red\"></rect><rect x=\"942.6\" y=\"95.0\" width=\"10\" height=\"20.0\" stroke=\"#3290CC\" stroke-width=\"4\" fill=\"red\"></rect><rect x=\"963.0\" y=\"101.66666666666667\" width=\"10\" height=\"13.333333333333329\" stroke=\"#3290CC\" stroke-width=\"4\" fill=\"red\"></rect><rect x=\"983.4000000000001\" y=\"88.33333333333334\" width=\"10\" height=\"26.666666666666657\" stroke=\"#3290CC\" stroke-width=\"4\" fill=\"red\"></rect><rect x=\"1003.8000000000001\" y=\"81.66666666666667\" width=\"10\" height=\"33.33333333333333\" stroke=\"#3290CC\" stroke-width=\"4\" fill=\"red\"></rect><rect x=\"1024.1999999999998\" y=\"68.33333333333334\" width=\"10\" height=\"46.66666666666666\" stroke=\"#3290CC\" stroke-width=\"4\" fill=\"red\"></rect><rect x=\"1044.6\" y=\"15.0\" width=\"10\" height=\"100.0\" stroke=\"#3290CC\" stroke-width=\"4\" fill=\"red\"></rect><rect x=\"1065.0\" y=\"114.0\" width=\"10\" height=\"2\" stroke=\"#808080\" stroke-width=\"4\" fill=\"#808080\"></rect><g class=\"y-axis-line\"><rect x=\"0\" y=\"0\" width=\"65\" height=\"130\" stroke=\"transparent\" stroke-width=\"0\" fill=\"transparent\"></rect><text x=\"0\" y=\"19.0\" fill=\"transparent\" stroke=\"transparent\" font-size=\"25\">0.011</text><text x=\"0\" y=\"126.0\" fill=\"transparent\" stroke=\"transparent\" font-size=\"25\">0</text></g><g class=\"vert-line\"><rect x=\"40.0\" y=\"0\" width=\"20\" height=\"130\" stroke=\"transparent\" stroke-width=\"12\" fill=\"transparent\"></rect><text x=\"60.0\" y=\"20\" fill=\"transparent\" stroke=\"transparent\" font-size=\"30px\">0</text></g><g class=\"vert-line\"><rect x=\"60.400000000000006\" y=\"0\" width=\"20\" height=\"130\" stroke=\"transparent\" stroke-width=\"12\" fill=\"transparent\"></rect><text x=\"80.4\" y=\"20\" fill=\"transparent\" stroke=\"transparent\" font-size=\"30px\">0</text></g><g class=\"vert-line\"><rect x=\"80.80000000000001\" y=\"0\" width=\"20\" height=\"130\" stroke=\"transparent\" stroke-width=\"12\" fill=\"transparent\"></rect><text x=\"100.80000000000001\" y=\"20\" fill=\"transparent\" stroke=\"transparent\" font-size=\"30px\">0</text></g><g class=\"vert-line\"><rect x=\"101.19999999999999\" y=\"0\" width=\"20\" height=\"130\" stroke=\"transparent\" stroke-width=\"12\" fill=\"transparent\"></rect><text x=\"121.19999999999999\" y=\"20\" fill=\"transparent\" stroke=\"transparent\" font-size=\"30px\">0</text></g><g class=\"vert-line\"><rect x=\"121.60000000000002\" y=\"0\" width=\"20\" height=\"130\" stroke=\"transparent\" stroke-width=\"12\" fill=\"transparent\"></rect><text x=\"141.60000000000002\" y=\"20\" fill=\"transparent\" stroke=\"transparent\" font-size=\"30px\">0</text></g><g class=\"vert-line\"><rect x=\"142.0\" y=\"0\" width=\"20\" height=\"130\" stroke=\"transparent\" stroke-width=\"12\" fill=\"transparent\"></rect><text x=\"162.0\" y=\"20\" fill=\"transparent\" stroke=\"transparent\" font-size=\"30px\">0</text></g><g class=\"vert-line\"><rect x=\"162.39999999999998\" y=\"0\" width=\"20\" height=\"130\" stroke=\"transparent\" stroke-width=\"12\" fill=\"transparent\"></rect><text x=\"182.39999999999998\" y=\"20\" fill=\"transparent\" stroke=\"transparent\" font-size=\"30px\">0</text></g><g class=\"vert-line\"><rect x=\"182.8\" y=\"0\" width=\"20\" height=\"130\" stroke=\"transparent\" stroke-width=\"12\" fill=\"transparent\"></rect><text x=\"202.8\" y=\"20\" fill=\"transparent\" stroke=\"transparent\" font-size=\"30px\">0</text></g><g class=\"vert-line\"><rect x=\"203.20000000000002\" y=\"0\" width=\"20\" height=\"130\" stroke=\"transparent\" stroke-width=\"12\" fill=\"transparent\"></rect><text x=\"223.20000000000002\" y=\"20\" fill=\"transparent\" stroke=\"transparent\" font-size=\"30px\">0</text></g><g class=\"vert-line\"><rect x=\"223.6\" y=\"0\" width=\"20\" height=\"130\" stroke=\"transparent\" stroke-width=\"12\" fill=\"transparent\"></rect><text x=\"243.6\" y=\"20\" fill=\"transparent\" stroke=\"transparent\" font-size=\"30px\">0</text></g><g class=\"vert-line\"><rect x=\"244.0\" y=\"0\" width=\"20\" height=\"130\" stroke=\"transparent\" stroke-width=\"12\" fill=\"transparent\"></rect><text x=\"264.0\" y=\"20\" fill=\"transparent\" stroke=\"transparent\" font-size=\"30px\">0</text></g><g class=\"vert-line\"><rect x=\"264.4\" y=\"0\" width=\"20\" height=\"130\" stroke=\"transparent\" stroke-width=\"12\" fill=\"transparent\"></rect><text x=\"284.4\" y=\"20\" fill=\"transparent\" stroke=\"transparent\" font-size=\"30px\">0</text></g><g class=\"vert-line\"><rect x=\"284.79999999999995\" y=\"0\" width=\"20\" height=\"130\" stroke=\"transparent\" stroke-width=\"12\" fill=\"transparent\"></rect><text x=\"304.79999999999995\" y=\"20\" fill=\"transparent\" stroke=\"transparent\" font-size=\"30px\">0</text></g><g class=\"vert-line\"><rect x=\"305.2\" y=\"0\" width=\"20\" height=\"130\" stroke=\"transparent\" stroke-width=\"12\" fill=\"transparent\"></rect><text x=\"325.2\" y=\"20\" fill=\"transparent\" stroke=\"transparent\" font-size=\"30px\">0</text></g><g class=\"vert-line\"><rect x=\"325.6\" y=\"0\" width=\"20\" height=\"130\" stroke=\"transparent\" stroke-width=\"12\" fill=\"transparent\"></rect><text x=\"345.6\" y=\"20\" fill=\"transparent\" stroke=\"transparent\" font-size=\"30px\">0</text></g><g class=\"vert-line\"><rect x=\"346.0\" y=\"0\" width=\"20\" height=\"130\" stroke=\"transparent\" stroke-width=\"12\" fill=\"transparent\"></rect><text x=\"366.0\" y=\"20\" fill=\"transparent\" stroke=\"transparent\" font-size=\"30px\">0</text></g><g class=\"vert-line\"><rect x=\"366.40000000000003\" y=\"0\" width=\"20\" height=\"130\" stroke=\"transparent\" stroke-width=\"12\" fill=\"transparent\"></rect><text x=\"386.40000000000003\" y=\"20\" fill=\"transparent\" stroke=\"transparent\" font-size=\"30px\">0</text></g><g class=\"vert-line\"><rect x=\"386.8\" y=\"0\" width=\"20\" height=\"130\" stroke=\"transparent\" stroke-width=\"12\" fill=\"transparent\"></rect><text x=\"406.8\" y=\"20\" fill=\"transparent\" stroke=\"transparent\" font-size=\"30px\">0</text></g><g class=\"vert-line\"><rect x=\"407.2\" y=\"0\" width=\"20\" height=\"130\" stroke=\"transparent\" stroke-width=\"12\" fill=\"transparent\"></rect><text x=\"427.2\" y=\"20\" fill=\"transparent\" stroke=\"transparent\" font-size=\"30px\">0</text></g><g class=\"vert-line\"><rect x=\"427.6\" y=\"0\" width=\"20\" height=\"130\" stroke=\"transparent\" stroke-width=\"12\" fill=\"transparent\"></rect><text x=\"447.6\" y=\"20\" fill=\"transparent\" stroke=\"transparent\" font-size=\"30px\">0</text></g><g class=\"vert-line\"><rect x=\"448.0\" y=\"0\" width=\"20\" height=\"130\" stroke=\"transparent\" stroke-width=\"12\" fill=\"transparent\"></rect><text x=\"468.0\" y=\"20\" fill=\"transparent\" stroke=\"transparent\" font-size=\"30px\">0</text></g><g class=\"vert-line\"><rect x=\"468.4\" y=\"0\" width=\"20\" height=\"130\" stroke=\"transparent\" stroke-width=\"12\" fill=\"transparent\"></rect><text x=\"488.4\" y=\"20\" fill=\"transparent\" stroke=\"transparent\" font-size=\"30px\">0</text></g><g class=\"vert-line\"><rect x=\"488.8\" y=\"0\" width=\"20\" height=\"130\" stroke=\"transparent\" stroke-width=\"12\" fill=\"transparent\"></rect><text x=\"508.8\" y=\"20\" fill=\"transparent\" stroke=\"transparent\" font-size=\"30px\">0</text></g><g class=\"vert-line\"><rect x=\"509.20000000000005\" y=\"0\" width=\"20\" height=\"130\" stroke=\"transparent\" stroke-width=\"12\" fill=\"transparent\"></rect><text x=\"529.2\" y=\"20\" fill=\"transparent\" stroke=\"transparent\" font-size=\"30px\">0</text></g><g class=\"vert-line\"><rect x=\"529.5999999999999\" y=\"0\" width=\"20\" height=\"130\" stroke=\"transparent\" stroke-width=\"12\" fill=\"transparent\"></rect><text x=\"549.5999999999999\" y=\"20\" fill=\"transparent\" stroke=\"transparent\" font-size=\"30px\">7.2E−40</text></g><g class=\"vert-line\"><rect x=\"550.0\" y=\"0\" width=\"20\" height=\"130\" stroke=\"transparent\" stroke-width=\"12\" fill=\"transparent\"></rect><text x=\"570.0\" y=\"20\" fill=\"transparent\" stroke=\"transparent\" font-size=\"30px\">0</text></g><g class=\"vert-line\"><rect x=\"570.4\" y=\"0\" width=\"20\" height=\"130\" stroke=\"transparent\" stroke-width=\"12\" fill=\"transparent\"></rect><text x=\"590.4\" y=\"20\" fill=\"transparent\" stroke=\"transparent\" font-size=\"30px\">0</text></g><g class=\"vert-line\"><rect x=\"590.8000000000001\" y=\"0\" width=\"20\" height=\"130\" stroke=\"transparent\" stroke-width=\"12\" fill=\"transparent\"></rect><text x=\"610.8000000000001\" y=\"20\" fill=\"transparent\" stroke=\"transparent\" font-size=\"30px\">0</text></g><g class=\"vert-line\"><rect x=\"611.2\" y=\"0\" width=\"20\" height=\"130\" stroke=\"transparent\" stroke-width=\"12\" fill=\"transparent\"></rect><text x=\"631.2\" y=\"20\" fill=\"transparent\" stroke=\"transparent\" font-size=\"30px\">0</text></g><g class=\"vert-line\"><rect x=\"631.5999999999999\" y=\"0\" width=\"20\" height=\"130\" stroke=\"transparent\" stroke-width=\"12\" fill=\"transparent\"></rect><text x=\"651.5999999999999\" y=\"20\" fill=\"transparent\" stroke=\"transparent\" font-size=\"30px\">7.2E−40</text></g><g class=\"vert-line\"><rect x=\"652.0\" y=\"0\" width=\"20\" height=\"130\" stroke=\"transparent\" stroke-width=\"12\" fill=\"transparent\"></rect><text x=\"672.0\" y=\"20\" fill=\"transparent\" stroke=\"transparent\" font-size=\"30px\">0</text></g><g class=\"vert-line\"><rect x=\"672.4\" y=\"0\" width=\"20\" height=\"130\" stroke=\"transparent\" stroke-width=\"12\" fill=\"transparent\"></rect><text x=\"692.4\" y=\"20\" fill=\"transparent\" stroke=\"transparent\" font-size=\"30px\">0</text></g><g class=\"vert-line\"><rect x=\"692.8000000000001\" y=\"0\" width=\"20\" height=\"130\" stroke=\"transparent\" stroke-width=\"12\" fill=\"transparent\"></rect><text x=\"712.8000000000001\" y=\"20\" fill=\"transparent\" stroke=\"transparent\" font-size=\"30px\">0</text></g><g class=\"vert-line\"><rect x=\"713.2\" y=\"0\" width=\"20\" height=\"130\" stroke=\"transparent\" stroke-width=\"12\" fill=\"transparent\"></rect><text x=\"733.2\" y=\"20\" fill=\"transparent\" stroke=\"transparent\" font-size=\"30px\">0</text></g><g class=\"vert-line\"><rect x=\"733.6\" y=\"0\" width=\"20\" height=\"130\" stroke=\"transparent\" stroke-width=\"12\" fill=\"transparent\"></rect><text x=\"753.6\" y=\"20\" fill=\"transparent\" stroke=\"transparent\" font-size=\"30px\">7.2E−40</text></g><g class=\"vert-line\"><rect x=\"754.0000000000001\" y=\"0\" width=\"20\" height=\"130\" stroke=\"transparent\" stroke-width=\"12\" fill=\"transparent\"></rect><text x=\"774.0000000000001\" y=\"20\" fill=\"transparent\" stroke=\"transparent\" font-size=\"30px\">1.4E−30</text></g><g class=\"vert-line\"><rect x=\"774.4\" y=\"0\" width=\"20\" height=\"130\" stroke=\"transparent\" stroke-width=\"12\" fill=\"transparent\"></rect><text x=\"794.4\" y=\"20\" fill=\"transparent\" stroke=\"transparent\" font-size=\"30px\">0</text></g><g class=\"vert-line\"><rect x=\"794.8\" y=\"0\" width=\"20\" height=\"130\" stroke=\"transparent\" stroke-width=\"12\" fill=\"transparent\"></rect><text x=\"814.8\" y=\"20\" fill=\"transparent\" stroke=\"transparent\" font-size=\"30px\">0</text></g><g class=\"vert-line\"><rect x=\"815.2\" y=\"0\" width=\"20\" height=\"130\" stroke=\"transparent\" stroke-width=\"12\" fill=\"transparent\"></rect><text x=\"835.2\" y=\"20\" fill=\"transparent\" stroke=\"transparent\" font-size=\"30px\">7.2E−40</text></g><g class=\"vert-line\"><rect x=\"835.6\" y=\"0\" width=\"20\" height=\"130\" stroke=\"transparent\" stroke-width=\"12\" fill=\"transparent\"></rect><text x=\"855.6\" y=\"20\" fill=\"transparent\" stroke=\"transparent\" font-size=\"30px\">7.2E−40</text></g><g class=\"vert-line\"><rect x=\"856.0\" y=\"0\" width=\"20\" height=\"130\" stroke=\"transparent\" stroke-width=\"12\" fill=\"transparent\"></rect><text x=\"876.0\" y=\"20\" fill=\"transparent\" stroke=\"transparent\" font-size=\"30px\">1.4E−30</text></g><g class=\"vert-line\"><rect x=\"876.4000000000001\" y=\"0\" width=\"20\" height=\"130\" stroke=\"transparent\" stroke-width=\"12\" fill=\"transparent\"></rect><text x=\"896.4000000000001\" y=\"20\" fill=\"transparent\" stroke=\"transparent\" font-size=\"30px\">7.2E−40</text></g><g class=\"vert-line\"><rect x=\"896.8\" y=\"0\" width=\"20\" height=\"130\" stroke=\"transparent\" stroke-width=\"12\" fill=\"transparent\"></rect><text x=\"916.8\" y=\"20\" fill=\"transparent\" stroke=\"transparent\" font-size=\"30px\">1.4E−30</text></g><g class=\"vert-line\"><rect x=\"917.1999999999999\" y=\"0\" width=\"20\" height=\"130\" stroke=\"transparent\" stroke-width=\"12\" fill=\"transparent\"></rect><text x=\"937.1999999999999\" y=\"20\" fill=\"transparent\" stroke=\"transparent\" font-size=\"30px\">2.2E−30</text></g><g class=\"vert-line\"><rect x=\"937.6\" y=\"0\" width=\"20\" height=\"130\" stroke=\"transparent\" stroke-width=\"12\" fill=\"transparent\"></rect><text x=\"957.6\" y=\"20\" fill=\"transparent\" stroke=\"transparent\" font-size=\"30px\">2.2E−30</text></g><g class=\"vert-line\"><rect x=\"958.0\" y=\"0\" width=\"20\" height=\"130\" stroke=\"transparent\" stroke-width=\"12\" fill=\"transparent\"></rect><text x=\"978.0\" y=\"20\" fill=\"transparent\" stroke=\"transparent\" font-size=\"30px\">1.4E−30</text></g><g class=\"vert-line\"><rect x=\"978.4000000000001\" y=\"0\" width=\"20\" height=\"130\" stroke=\"transparent\" stroke-width=\"12\" fill=\"transparent\"></rect><text x=\"998.4000000000001\" y=\"20\" fill=\"transparent\" stroke=\"transparent\" font-size=\"30px\">2.9E−30</text></g><g class=\"vert-line\"><rect x=\"998.8000000000001\" y=\"0\" width=\"20\" height=\"130\" stroke=\"transparent\" stroke-width=\"12\" fill=\"transparent\"></rect><text x=\"1018.8000000000001\" y=\"20\" fill=\"transparent\" stroke=\"transparent\" font-size=\"30px\">3.6E−30</text></g><g class=\"vert-line\"><rect x=\"1019.1999999999998\" y=\"0\" width=\"20\" height=\"130\" stroke=\"transparent\" stroke-width=\"12\" fill=\"transparent\"></rect><text x=\"1039.1999999999998\" y=\"20\" fill=\"transparent\" stroke=\"transparent\" font-size=\"30px\">5.0E−30</text></g><g class=\"vert-line\"><rect x=\"1039.6\" y=\"0\" width=\"20\" height=\"130\" stroke=\"transparent\" stroke-width=\"12\" fill=\"transparent\"></rect><text x=\"1059.6\" y=\"20\" fill=\"transparent\" stroke=\"transparent\" font-size=\"30px\">0.011</text></g><g class=\"vert-line\"><rect x=\"1060.0\" y=\"0\" width=\"20\" height=\"130\" stroke=\"transparent\" stroke-width=\"12\" fill=\"transparent\"></rect><text x=\"1080.0\" y=\"20\" fill=\"transparent\" stroke=\"transparent\" font-size=\"30px\">0</text></g></svg></div></td>\n",
       "  <td class=\"gt_row gt_right\">0.07%</td>\n",
       "</tr>\n",
       "<tr>\n",
       "  <th class=\"gt_row gt_left gt_stub\">Loan_Amount</th>\n",
       "  <td class=\"gt_row gt_center\"><div><svg role=\"img\" viewBox=\"0 0 1120 130\" style=\"height: 2em; margin-left: auto; margin-right: auto; font-size: inherit; overflow: visible; vertical-align: middle; position:relative;\"><defs><pattern id=\"area_pattern\" width=\"8\" height=\"8\" patternUnits=\"userSpaceOnUse\"><path class=\"pattern-line\" d=\"M 0,8 l 8,-8 M -1,1 l 4,-4 M 6,10 l 4,-4\" stroke=\"#FF0000\" stroke-width=\"1.5\" stroke-linecap=\"round\" shape-rendering=\"geometricPrecision\"></path></pattern></defs><style> text { font-family: ui-monospace, 'Cascadia Code', 'Source Code Pro', Menlo, Consolas, 'DejaVu Sans Mono', monospace; stroke-width: 0.15em; paint-order: stroke; stroke-linejoin: round; cursor: default; } .vert-line:hover rect { fill: #911EB4; fill-opacity: 40%; stroke: #FFFFFF60; color: red; } .vert-line:hover text { stroke: white; fill: #212427; } .horizontal-line:hover text {stroke: white; fill: #212427; } .ref-line:hover rect { stroke: #FFFFFF60; } .ref-line:hover line { stroke: #FF0000; } .ref-line:hover text { stroke: white; fill: #212427; } .y-axis-line:hover rect { fill: #EDEDED; fill-opacity: 60%; stroke: #FFFFFF60; color: red; } .y-axis-line:hover text { stroke: white; stroke-width: 0.20em; fill: #1A1C1F; } </style><line x1=\"22.5\" y1=\"115.0\" x2=\"1097.5\" y2=\"115.0\" stroke=\"#BFBFBF\" stroke-width=\"4\"></line><rect x=\"45.0\" y=\"65.47418335089569\" width=\"10\" height=\"49.525816649104314\" stroke=\"#3290CC\" stroke-width=\"4\" fill=\"red\"></rect><rect x=\"65.4\" y=\"63.050579557428875\" width=\"10\" height=\"51.949420442571125\" stroke=\"#3290CC\" stroke-width=\"4\" fill=\"red\"></rect><rect x=\"85.80000000000001\" y=\"62.52370916754478\" width=\"10\" height=\"52.47629083245522\" stroke=\"#3290CC\" stroke-width=\"4\" fill=\"red\"></rect><rect x=\"106.19999999999999\" y=\"60.626975763962065\" width=\"10\" height=\"54.373024236037935\" stroke=\"#3290CC\" stroke-width=\"4\" fill=\"red\"></rect><rect x=\"126.60000000000002\" y=\"63.682824025289776\" width=\"10\" height=\"51.317175974710224\" stroke=\"#3290CC\" stroke-width=\"4\" fill=\"red\"></rect><rect x=\"147.0\" y=\"61.15384615384615\" width=\"10\" height=\"53.84615384615385\" stroke=\"#3290CC\" stroke-width=\"4\" fill=\"red\"></rect><rect x=\"167.39999999999998\" y=\"62.629083245521606\" width=\"10\" height=\"52.370916754478394\" stroke=\"#3290CC\" stroke-width=\"4\" fill=\"red\"></rect><rect x=\"187.8\" y=\"63.26132771338251\" width=\"10\" height=\"51.73867228661749\" stroke=\"#3290CC\" stroke-width=\"4\" fill=\"red\"></rect><rect x=\"208.20000000000002\" y=\"61.78609062170707\" width=\"10\" height=\"53.21390937829293\" stroke=\"#3290CC\" stroke-width=\"4\" fill=\"red\"></rect><rect x=\"228.6\" y=\"61.9968387776607\" width=\"10\" height=\"53.0031612223393\" stroke=\"#3290CC\" stroke-width=\"4\" fill=\"red\"></rect><rect x=\"249.0\" y=\"61.36459430979979\" width=\"10\" height=\"53.63540569020021\" stroke=\"#3290CC\" stroke-width=\"4\" fill=\"red\"></rect><rect x=\"269.4\" y=\"60.94309799789252\" width=\"10\" height=\"54.05690200210748\" stroke=\"#3290CC\" stroke-width=\"4\" fill=\"red\"></rect><rect x=\"289.79999999999995\" y=\"59.994731296101165\" width=\"10\" height=\"55.005268703898835\" stroke=\"#3290CC\" stroke-width=\"4\" fill=\"red\"></rect><rect x=\"310.2\" y=\"60.100105374077984\" width=\"10\" height=\"54.899894625922016\" stroke=\"#3290CC\" stroke-width=\"4\" fill=\"red\"></rect><rect x=\"330.6\" y=\"62.73445732349841\" width=\"10\" height=\"52.26554267650159\" stroke=\"#3290CC\" stroke-width=\"4\" fill=\"red\"></rect><rect x=\"351.0\" y=\"57.14963119072708\" width=\"10\" height=\"57.85036880927292\" stroke=\"#3290CC\" stroke-width=\"4\" fill=\"red\"></rect><rect x=\"371.40000000000003\" y=\"56.93888303477345\" width=\"10\" height=\"58.06111696522655\" stroke=\"#3290CC\" stroke-width=\"4\" fill=\"red\"></rect><rect x=\"391.8\" y=\"55.67439409905164\" width=\"10\" height=\"59.32560590094836\" stroke=\"#3290CC\" stroke-width=\"4\" fill=\"red\"></rect><rect x=\"412.2\" y=\"58.41412012644889\" width=\"10\" height=\"56.58587987355111\" stroke=\"#3290CC\" stroke-width=\"4\" fill=\"red\"></rect><rect x=\"432.6\" y=\"59.994731296101165\" width=\"10\" height=\"55.005268703898835\" stroke=\"#3290CC\" stroke-width=\"4\" fill=\"red\"></rect><rect x=\"453.0\" y=\"61.4699683877766\" width=\"10\" height=\"53.5300316122234\" stroke=\"#3290CC\" stroke-width=\"4\" fill=\"red\"></rect><rect x=\"473.4\" y=\"56.51738672286618\" width=\"10\" height=\"58.48261327713382\" stroke=\"#3290CC\" stroke-width=\"4\" fill=\"red\"></rect><rect x=\"493.8\" y=\"65.05268703898841\" width=\"10\" height=\"49.94731296101159\" stroke=\"#3290CC\" stroke-width=\"4\" fill=\"red\"></rect><rect x=\"514.2\" y=\"72.32349841938883\" width=\"10\" height=\"42.67650158061117\" stroke=\"#3290CC\" stroke-width=\"4\" fill=\"red\"></rect><rect x=\"534.5999999999999\" y=\"69.37302423603793\" width=\"10\" height=\"45.626975763962065\" stroke=\"#3290CC\" stroke-width=\"4\" fill=\"red\"></rect><rect x=\"555.0\" y=\"74.53635405690201\" width=\"10\" height=\"40.46364594309799\" stroke=\"#3290CC\" stroke-width=\"4\" fill=\"red\"></rect><rect x=\"575.4\" y=\"74.4309799789252\" width=\"10\" height=\"40.569020021074806\" stroke=\"#3290CC\" stroke-width=\"4\" fill=\"red\"></rect><rect x=\"595.8000000000001\" y=\"64.73656480505795\" width=\"10\" height=\"50.26343519494205\" stroke=\"#3290CC\" stroke-width=\"4\" fill=\"red\"></rect><rect x=\"616.2\" y=\"58.30874604847208\" width=\"10\" height=\"56.69125395152792\" stroke=\"#3290CC\" stroke-width=\"4\" fill=\"red\"></rect><rect x=\"636.5999999999999\" y=\"64.10432033719705\" width=\"10\" height=\"50.89567966280295\" stroke=\"#3290CC\" stroke-width=\"4\" fill=\"red\"></rect><rect x=\"657.0\" y=\"57.465753424657535\" width=\"10\" height=\"57.534246575342465\" stroke=\"#3290CC\" stroke-width=\"4\" fill=\"red\"></rect><rect x=\"677.4\" y=\"58.62486828240253\" width=\"10\" height=\"56.37513171759747\" stroke=\"#3290CC\" stroke-width=\"4\" fill=\"red\"></rect><rect x=\"697.8000000000001\" y=\"20.057955742887245\" width=\"10\" height=\"94.94204425711276\" stroke=\"#3290CC\" stroke-width=\"4\" fill=\"red\"></rect><rect x=\"718.2\" y=\"28.171759747102218\" width=\"10\" height=\"86.82824025289779\" stroke=\"#3290CC\" stroke-width=\"4\" fill=\"red\"></rect><rect x=\"738.6\" y=\"41.34351949420443\" width=\"10\" height=\"73.65648050579557\" stroke=\"#3290CC\" stroke-width=\"4\" fill=\"red\"></rect><rect x=\"759.0000000000001\" y=\"35.12644889357219\" width=\"10\" height=\"79.87355110642781\" stroke=\"#3290CC\" stroke-width=\"4\" fill=\"red\"></rect><rect x=\"779.4\" y=\"39.236037934668076\" width=\"10\" height=\"75.76396206533192\" stroke=\"#3290CC\" stroke-width=\"4\" fill=\"red\"></rect><rect x=\"799.8\" y=\"63.050579557428875\" width=\"10\" height=\"51.949420442571125\" stroke=\"#3290CC\" stroke-width=\"4\" fill=\"red\"></rect><rect x=\"820.2\" y=\"54.62065331928345\" width=\"10\" height=\"60.37934668071655\" stroke=\"#3290CC\" stroke-width=\"4\" fill=\"red\"></rect><rect x=\"840.6\" y=\"46.61222339304531\" width=\"10\" height=\"68.38777660695469\" stroke=\"#3290CC\" stroke-width=\"4\" fill=\"red\"></rect><rect x=\"861.0\" y=\"44.39936775553214\" width=\"10\" height=\"70.60063224446786\" stroke=\"#3290CC\" stroke-width=\"4\" fill=\"red\"></rect><rect x=\"881.4000000000001\" y=\"42.81875658587988\" width=\"10\" height=\"72.18124341412012\" stroke=\"#3290CC\" stroke-width=\"4\" fill=\"red\"></rect><rect x=\"901.8\" y=\"41.34351949420443\" width=\"10\" height=\"73.65648050579557\" stroke=\"#3290CC\" stroke-width=\"4\" fill=\"red\"></rect><rect x=\"922.1999999999999\" y=\"59.678609062170715\" width=\"10\" height=\"55.321390937829285\" stroke=\"#3290CC\" stroke-width=\"4\" fill=\"red\"></rect><rect x=\"942.6\" y=\"15.0\" width=\"10\" height=\"100.0\" stroke=\"#3290CC\" stroke-width=\"4\" fill=\"red\"></rect><rect x=\"963.0\" y=\"60.41622760800843\" width=\"10\" height=\"54.58377239199157\" stroke=\"#3290CC\" stroke-width=\"4\" fill=\"red\"></rect><rect x=\"983.4000000000001\" y=\"61.57534246575342\" width=\"10\" height=\"53.42465753424658\" stroke=\"#3290CC\" stroke-width=\"4\" fill=\"red\"></rect><rect x=\"1003.8000000000001\" y=\"60.310853530031615\" width=\"10\" height=\"54.689146469968385\" stroke=\"#3290CC\" stroke-width=\"4\" fill=\"red\"></rect><rect x=\"1024.1999999999998\" y=\"60.94309799789252\" width=\"10\" height=\"54.05690200210748\" stroke=\"#3290CC\" stroke-width=\"4\" fill=\"red\"></rect><rect x=\"1044.6\" y=\"59.46786090621707\" width=\"10\" height=\"55.53213909378293\" stroke=\"#3290CC\" stroke-width=\"4\" fill=\"red\"></rect><rect x=\"1065.0\" y=\"69.80262624625112\" width=\"10\" height=\"45.19737375374888\" stroke=\"#3290CC\" stroke-width=\"4\" fill=\"red\"></rect><g class=\"y-axis-line\"><rect x=\"0\" y=\"0\" width=\"65\" height=\"130\" stroke=\"transparent\" stroke-width=\"0\" fill=\"transparent\"></rect><text x=\"0\" y=\"19.0\" fill=\"transparent\" stroke=\"transparent\" font-size=\"25\">0.68</text><text x=\"0\" y=\"126.0\" fill=\"transparent\" stroke=\"transparent\" font-size=\"25\">0</text></g><g class=\"vert-line\"><rect x=\"40.0\" y=\"0\" width=\"20\" height=\"130\" stroke=\"transparent\" stroke-width=\"12\" fill=\"transparent\"></rect><text x=\"60.0\" y=\"20\" fill=\"transparent\" stroke=\"transparent\" font-size=\"30px\">0.34</text></g><g class=\"vert-line\"><rect x=\"60.400000000000006\" y=\"0\" width=\"20\" height=\"130\" stroke=\"transparent\" stroke-width=\"12\" fill=\"transparent\"></rect><text x=\"80.4\" y=\"20\" fill=\"transparent\" stroke=\"transparent\" font-size=\"30px\">0.35</text></g><g class=\"vert-line\"><rect x=\"80.80000000000001\" y=\"0\" width=\"20\" height=\"130\" stroke=\"transparent\" stroke-width=\"12\" fill=\"transparent\"></rect><text x=\"100.80000000000001\" y=\"20\" fill=\"transparent\" stroke=\"transparent\" font-size=\"30px\">0.36</text></g><g class=\"vert-line\"><rect x=\"101.19999999999999\" y=\"0\" width=\"20\" height=\"130\" stroke=\"transparent\" stroke-width=\"12\" fill=\"transparent\"></rect><text x=\"121.19999999999999\" y=\"20\" fill=\"transparent\" stroke=\"transparent\" font-size=\"30px\">0.37</text></g><g class=\"vert-line\"><rect x=\"121.60000000000002\" y=\"0\" width=\"20\" height=\"130\" stroke=\"transparent\" stroke-width=\"12\" fill=\"transparent\"></rect><text x=\"141.60000000000002\" y=\"20\" fill=\"transparent\" stroke=\"transparent\" font-size=\"30px\">0.35</text></g><g class=\"vert-line\"><rect x=\"142.0\" y=\"0\" width=\"20\" height=\"130\" stroke=\"transparent\" stroke-width=\"12\" fill=\"transparent\"></rect><text x=\"162.0\" y=\"20\" fill=\"transparent\" stroke=\"transparent\" font-size=\"30px\">0.37</text></g><g class=\"vert-line\"><rect x=\"162.39999999999998\" y=\"0\" width=\"20\" height=\"130\" stroke=\"transparent\" stroke-width=\"12\" fill=\"transparent\"></rect><text x=\"182.39999999999998\" y=\"20\" fill=\"transparent\" stroke=\"transparent\" font-size=\"30px\">0.36</text></g><g class=\"vert-line\"><rect x=\"182.8\" y=\"0\" width=\"20\" height=\"130\" stroke=\"transparent\" stroke-width=\"12\" fill=\"transparent\"></rect><text x=\"202.8\" y=\"20\" fill=\"transparent\" stroke=\"transparent\" font-size=\"30px\">0.35</text></g><g class=\"vert-line\"><rect x=\"203.20000000000002\" y=\"0\" width=\"20\" height=\"130\" stroke=\"transparent\" stroke-width=\"12\" fill=\"transparent\"></rect><text x=\"223.20000000000002\" y=\"20\" fill=\"transparent\" stroke=\"transparent\" font-size=\"30px\">0.36</text></g><g class=\"vert-line\"><rect x=\"223.6\" y=\"0\" width=\"20\" height=\"130\" stroke=\"transparent\" stroke-width=\"12\" fill=\"transparent\"></rect><text x=\"243.6\" y=\"20\" fill=\"transparent\" stroke=\"transparent\" font-size=\"30px\">0.36</text></g><g class=\"vert-line\"><rect x=\"244.0\" y=\"0\" width=\"20\" height=\"130\" stroke=\"transparent\" stroke-width=\"12\" fill=\"transparent\"></rect><text x=\"264.0\" y=\"20\" fill=\"transparent\" stroke=\"transparent\" font-size=\"30px\">0.37</text></g><g class=\"vert-line\"><rect x=\"264.4\" y=\"0\" width=\"20\" height=\"130\" stroke=\"transparent\" stroke-width=\"12\" fill=\"transparent\"></rect><text x=\"284.4\" y=\"20\" fill=\"transparent\" stroke=\"transparent\" font-size=\"30px\">0.37</text></g><g class=\"vert-line\"><rect x=\"284.79999999999995\" y=\"0\" width=\"20\" height=\"130\" stroke=\"transparent\" stroke-width=\"12\" fill=\"transparent\"></rect><text x=\"304.79999999999995\" y=\"20\" fill=\"transparent\" stroke=\"transparent\" font-size=\"30px\">0.37</text></g><g class=\"vert-line\"><rect x=\"305.2\" y=\"0\" width=\"20\" height=\"130\" stroke=\"transparent\" stroke-width=\"12\" fill=\"transparent\"></rect><text x=\"325.2\" y=\"20\" fill=\"transparent\" stroke=\"transparent\" font-size=\"30px\">0.37</text></g><g class=\"vert-line\"><rect x=\"325.6\" y=\"0\" width=\"20\" height=\"130\" stroke=\"transparent\" stroke-width=\"12\" fill=\"transparent\"></rect><text x=\"345.6\" y=\"20\" fill=\"transparent\" stroke=\"transparent\" font-size=\"30px\">0.36</text></g><g class=\"vert-line\"><rect x=\"346.0\" y=\"0\" width=\"20\" height=\"130\" stroke=\"transparent\" stroke-width=\"12\" fill=\"transparent\"></rect><text x=\"366.0\" y=\"20\" fill=\"transparent\" stroke=\"transparent\" font-size=\"30px\">0.39</text></g><g class=\"vert-line\"><rect x=\"366.40000000000003\" y=\"0\" width=\"20\" height=\"130\" stroke=\"transparent\" stroke-width=\"12\" fill=\"transparent\"></rect><text x=\"386.40000000000003\" y=\"20\" fill=\"transparent\" stroke=\"transparent\" font-size=\"30px\">0.40</text></g><g class=\"vert-line\"><rect x=\"386.8\" y=\"0\" width=\"20\" height=\"130\" stroke=\"transparent\" stroke-width=\"12\" fill=\"transparent\"></rect><text x=\"406.8\" y=\"20\" fill=\"transparent\" stroke=\"transparent\" font-size=\"30px\">0.40</text></g><g class=\"vert-line\"><rect x=\"407.2\" y=\"0\" width=\"20\" height=\"130\" stroke=\"transparent\" stroke-width=\"12\" fill=\"transparent\"></rect><text x=\"427.2\" y=\"20\" fill=\"transparent\" stroke=\"transparent\" font-size=\"30px\">0.39</text></g><g class=\"vert-line\"><rect x=\"427.6\" y=\"0\" width=\"20\" height=\"130\" stroke=\"transparent\" stroke-width=\"12\" fill=\"transparent\"></rect><text x=\"447.6\" y=\"20\" fill=\"transparent\" stroke=\"transparent\" font-size=\"30px\">0.37</text></g><g class=\"vert-line\"><rect x=\"448.0\" y=\"0\" width=\"20\" height=\"130\" stroke=\"transparent\" stroke-width=\"12\" fill=\"transparent\"></rect><text x=\"468.0\" y=\"20\" fill=\"transparent\" stroke=\"transparent\" font-size=\"30px\">0.36</text></g><g class=\"vert-line\"><rect x=\"468.4\" y=\"0\" width=\"20\" height=\"130\" stroke=\"transparent\" stroke-width=\"12\" fill=\"transparent\"></rect><text x=\"488.4\" y=\"20\" fill=\"transparent\" stroke=\"transparent\" font-size=\"30px\">0.40</text></g><g class=\"vert-line\"><rect x=\"488.8\" y=\"0\" width=\"20\" height=\"130\" stroke=\"transparent\" stroke-width=\"12\" fill=\"transparent\"></rect><text x=\"508.8\" y=\"20\" fill=\"transparent\" stroke=\"transparent\" font-size=\"30px\">0.34</text></g><g class=\"vert-line\"><rect x=\"509.20000000000005\" y=\"0\" width=\"20\" height=\"130\" stroke=\"transparent\" stroke-width=\"12\" fill=\"transparent\"></rect><text x=\"529.2\" y=\"20\" fill=\"transparent\" stroke=\"transparent\" font-size=\"30px\">0.29</text></g><g class=\"vert-line\"><rect x=\"529.5999999999999\" y=\"0\" width=\"20\" height=\"130\" stroke=\"transparent\" stroke-width=\"12\" fill=\"transparent\"></rect><text x=\"549.5999999999999\" y=\"20\" fill=\"transparent\" stroke=\"transparent\" font-size=\"30px\">0.31</text></g><g class=\"vert-line\"><rect x=\"550.0\" y=\"0\" width=\"20\" height=\"130\" stroke=\"transparent\" stroke-width=\"12\" fill=\"transparent\"></rect><text x=\"570.0\" y=\"20\" fill=\"transparent\" stroke=\"transparent\" font-size=\"30px\">0.28</text></g><g class=\"vert-line\"><rect x=\"570.4\" y=\"0\" width=\"20\" height=\"130\" stroke=\"transparent\" stroke-width=\"12\" fill=\"transparent\"></rect><text x=\"590.4\" y=\"20\" fill=\"transparent\" stroke=\"transparent\" font-size=\"30px\">0.28</text></g><g class=\"vert-line\"><rect x=\"590.8000000000001\" y=\"0\" width=\"20\" height=\"130\" stroke=\"transparent\" stroke-width=\"12\" fill=\"transparent\"></rect><text x=\"610.8000000000001\" y=\"20\" fill=\"transparent\" stroke=\"transparent\" font-size=\"30px\">0.34</text></g><g class=\"vert-line\"><rect x=\"611.2\" y=\"0\" width=\"20\" height=\"130\" stroke=\"transparent\" stroke-width=\"12\" fill=\"transparent\"></rect><text x=\"631.2\" y=\"20\" fill=\"transparent\" stroke=\"transparent\" font-size=\"30px\">0.39</text></g><g class=\"vert-line\"><rect x=\"631.5999999999999\" y=\"0\" width=\"20\" height=\"130\" stroke=\"transparent\" stroke-width=\"12\" fill=\"transparent\"></rect><text x=\"651.5999999999999\" y=\"20\" fill=\"transparent\" stroke=\"transparent\" font-size=\"30px\">0.35</text></g><g class=\"vert-line\"><rect x=\"652.0\" y=\"0\" width=\"20\" height=\"130\" stroke=\"transparent\" stroke-width=\"12\" fill=\"transparent\"></rect><text x=\"672.0\" y=\"20\" fill=\"transparent\" stroke=\"transparent\" font-size=\"30px\">0.39</text></g><g class=\"vert-line\"><rect x=\"672.4\" y=\"0\" width=\"20\" height=\"130\" stroke=\"transparent\" stroke-width=\"12\" fill=\"transparent\"></rect><text x=\"692.4\" y=\"20\" fill=\"transparent\" stroke=\"transparent\" font-size=\"30px\">0.38</text></g><g class=\"vert-line\"><rect x=\"692.8000000000001\" y=\"0\" width=\"20\" height=\"130\" stroke=\"transparent\" stroke-width=\"12\" fill=\"transparent\"></rect><text x=\"712.8000000000001\" y=\"20\" fill=\"transparent\" stroke=\"transparent\" font-size=\"30px\">0.65</text></g><g class=\"vert-line\"><rect x=\"713.2\" y=\"0\" width=\"20\" height=\"130\" stroke=\"transparent\" stroke-width=\"12\" fill=\"transparent\"></rect><text x=\"733.2\" y=\"20\" fill=\"transparent\" stroke=\"transparent\" font-size=\"30px\">0.59</text></g><g class=\"vert-line\"><rect x=\"733.6\" y=\"0\" width=\"20\" height=\"130\" stroke=\"transparent\" stroke-width=\"12\" fill=\"transparent\"></rect><text x=\"753.6\" y=\"20\" fill=\"transparent\" stroke=\"transparent\" font-size=\"30px\">0.50</text></g><g class=\"vert-line\"><rect x=\"754.0000000000001\" y=\"0\" width=\"20\" height=\"130\" stroke=\"transparent\" stroke-width=\"12\" fill=\"transparent\"></rect><text x=\"774.0000000000001\" y=\"20\" fill=\"transparent\" stroke=\"transparent\" font-size=\"30px\">0.54</text></g><g class=\"vert-line\"><rect x=\"774.4\" y=\"0\" width=\"20\" height=\"130\" stroke=\"transparent\" stroke-width=\"12\" fill=\"transparent\"></rect><text x=\"794.4\" y=\"20\" fill=\"transparent\" stroke=\"transparent\" font-size=\"30px\">0.52</text></g><g class=\"vert-line\"><rect x=\"794.8\" y=\"0\" width=\"20\" height=\"130\" stroke=\"transparent\" stroke-width=\"12\" fill=\"transparent\"></rect><text x=\"814.8\" y=\"20\" fill=\"transparent\" stroke=\"transparent\" font-size=\"30px\">0.35</text></g><g class=\"vert-line\"><rect x=\"815.2\" y=\"0\" width=\"20\" height=\"130\" stroke=\"transparent\" stroke-width=\"12\" fill=\"transparent\"></rect><text x=\"835.2\" y=\"20\" fill=\"transparent\" stroke=\"transparent\" font-size=\"30px\">0.41</text></g><g class=\"vert-line\"><rect x=\"835.6\" y=\"0\" width=\"20\" height=\"130\" stroke=\"transparent\" stroke-width=\"12\" fill=\"transparent\"></rect><text x=\"855.6\" y=\"20\" fill=\"transparent\" stroke=\"transparent\" font-size=\"30px\">0.47</text></g><g class=\"vert-line\"><rect x=\"856.0\" y=\"0\" width=\"20\" height=\"130\" stroke=\"transparent\" stroke-width=\"12\" fill=\"transparent\"></rect><text x=\"876.0\" y=\"20\" fill=\"transparent\" stroke=\"transparent\" font-size=\"30px\">0.48</text></g><g class=\"vert-line\"><rect x=\"876.4000000000001\" y=\"0\" width=\"20\" height=\"130\" stroke=\"transparent\" stroke-width=\"12\" fill=\"transparent\"></rect><text x=\"896.4000000000001\" y=\"20\" fill=\"transparent\" stroke=\"transparent\" font-size=\"30px\">0.49</text></g><g class=\"vert-line\"><rect x=\"896.8\" y=\"0\" width=\"20\" height=\"130\" stroke=\"transparent\" stroke-width=\"12\" fill=\"transparent\"></rect><text x=\"916.8\" y=\"20\" fill=\"transparent\" stroke=\"transparent\" font-size=\"30px\">0.50</text></g><g class=\"vert-line\"><rect x=\"917.1999999999999\" y=\"0\" width=\"20\" height=\"130\" stroke=\"transparent\" stroke-width=\"12\" fill=\"transparent\"></rect><text x=\"937.1999999999999\" y=\"20\" fill=\"transparent\" stroke=\"transparent\" font-size=\"30px\">0.38</text></g><g class=\"vert-line\"><rect x=\"937.6\" y=\"0\" width=\"20\" height=\"130\" stroke=\"transparent\" stroke-width=\"12\" fill=\"transparent\"></rect><text x=\"957.6\" y=\"20\" fill=\"transparent\" stroke=\"transparent\" font-size=\"30px\">0.68</text></g><g class=\"vert-line\"><rect x=\"958.0\" y=\"0\" width=\"20\" height=\"130\" stroke=\"transparent\" stroke-width=\"12\" fill=\"transparent\"></rect><text x=\"978.0\" y=\"20\" fill=\"transparent\" stroke=\"transparent\" font-size=\"30px\">0.37</text></g><g class=\"vert-line\"><rect x=\"978.4000000000001\" y=\"0\" width=\"20\" height=\"130\" stroke=\"transparent\" stroke-width=\"12\" fill=\"transparent\"></rect><text x=\"998.4000000000001\" y=\"20\" fill=\"transparent\" stroke=\"transparent\" font-size=\"30px\">0.36</text></g><g class=\"vert-line\"><rect x=\"998.8000000000001\" y=\"0\" width=\"20\" height=\"130\" stroke=\"transparent\" stroke-width=\"12\" fill=\"transparent\"></rect><text x=\"1018.8000000000001\" y=\"20\" fill=\"transparent\" stroke=\"transparent\" font-size=\"30px\">0.37</text></g><g class=\"vert-line\"><rect x=\"1019.1999999999998\" y=\"0\" width=\"20\" height=\"130\" stroke=\"transparent\" stroke-width=\"12\" fill=\"transparent\"></rect><text x=\"1039.1999999999998\" y=\"20\" fill=\"transparent\" stroke=\"transparent\" font-size=\"30px\">0.37</text></g><g class=\"vert-line\"><rect x=\"1039.6\" y=\"0\" width=\"20\" height=\"130\" stroke=\"transparent\" stroke-width=\"12\" fill=\"transparent\"></rect><text x=\"1059.6\" y=\"20\" fill=\"transparent\" stroke=\"transparent\" font-size=\"30px\">0.38</text></g><g class=\"vert-line\"><rect x=\"1060.0\" y=\"0\" width=\"20\" height=\"130\" stroke=\"transparent\" stroke-width=\"12\" fill=\"transparent\"></rect><text x=\"1080.0\" y=\"20\" fill=\"transparent\" stroke=\"transparent\" font-size=\"30px\">0.31</text></g></svg></div></td>\n",
       "  <td class=\"gt_row gt_right\">39.75%</td>\n",
       "</tr>\n",
       "<tr>\n",
       "  <th class=\"gt_row gt_left gt_stub\">Loan_Period</th>\n",
       "  <td class=\"gt_row gt_center\"><div><svg role=\"img\" viewBox=\"0 0 1120 130\" style=\"height: 2em; margin-left: auto; margin-right: auto; font-size: inherit; overflow: visible; vertical-align: middle; position:relative;\"><defs><pattern id=\"area_pattern\" width=\"8\" height=\"8\" patternUnits=\"userSpaceOnUse\"><path class=\"pattern-line\" d=\"M 0,8 l 8,-8 M -1,1 l 4,-4 M 6,10 l 4,-4\" stroke=\"#FF0000\" stroke-width=\"1.5\" stroke-linecap=\"round\" shape-rendering=\"geometricPrecision\"></path></pattern></defs><style> text { font-family: ui-monospace, 'Cascadia Code', 'Source Code Pro', Menlo, Consolas, 'DejaVu Sans Mono', monospace; stroke-width: 0.15em; paint-order: stroke; stroke-linejoin: round; cursor: default; } .vert-line:hover rect { fill: #911EB4; fill-opacity: 40%; stroke: #FFFFFF60; color: red; } .vert-line:hover text { stroke: white; fill: #212427; } .horizontal-line:hover text {stroke: white; fill: #212427; } .ref-line:hover rect { stroke: #FFFFFF60; } .ref-line:hover line { stroke: #FF0000; } .ref-line:hover text { stroke: white; fill: #212427; } .y-axis-line:hover rect { fill: #EDEDED; fill-opacity: 60%; stroke: #FFFFFF60; color: red; } .y-axis-line:hover text { stroke: white; stroke-width: 0.20em; fill: #1A1C1F; } </style><line x1=\"22.5\" y1=\"115.0\" x2=\"1097.5\" y2=\"115.0\" stroke=\"#BFBFBF\" stroke-width=\"4\"></line><rect x=\"45.0\" y=\"65.47418335089569\" width=\"10\" height=\"49.525816649104314\" stroke=\"#3290CC\" stroke-width=\"4\" fill=\"red\"></rect><rect x=\"65.4\" y=\"63.050579557428875\" width=\"10\" height=\"51.949420442571125\" stroke=\"#3290CC\" stroke-width=\"4\" fill=\"red\"></rect><rect x=\"85.80000000000001\" y=\"62.52370916754478\" width=\"10\" height=\"52.47629083245522\" stroke=\"#3290CC\" stroke-width=\"4\" fill=\"red\"></rect><rect x=\"106.19999999999999\" y=\"60.626975763962065\" width=\"10\" height=\"54.373024236037935\" stroke=\"#3290CC\" stroke-width=\"4\" fill=\"red\"></rect><rect x=\"126.60000000000002\" y=\"63.682824025289776\" width=\"10\" height=\"51.317175974710224\" stroke=\"#3290CC\" stroke-width=\"4\" fill=\"red\"></rect><rect x=\"147.0\" y=\"61.15384615384615\" width=\"10\" height=\"53.84615384615385\" stroke=\"#3290CC\" stroke-width=\"4\" fill=\"red\"></rect><rect x=\"167.39999999999998\" y=\"62.629083245521606\" width=\"10\" height=\"52.370916754478394\" stroke=\"#3290CC\" stroke-width=\"4\" fill=\"red\"></rect><rect x=\"187.8\" y=\"63.26132771338251\" width=\"10\" height=\"51.73867228661749\" stroke=\"#3290CC\" stroke-width=\"4\" fill=\"red\"></rect><rect x=\"208.20000000000002\" y=\"61.78609062170707\" width=\"10\" height=\"53.21390937829293\" stroke=\"#3290CC\" stroke-width=\"4\" fill=\"red\"></rect><rect x=\"228.6\" y=\"61.9968387776607\" width=\"10\" height=\"53.0031612223393\" stroke=\"#3290CC\" stroke-width=\"4\" fill=\"red\"></rect><rect x=\"249.0\" y=\"61.36459430979979\" width=\"10\" height=\"53.63540569020021\" stroke=\"#3290CC\" stroke-width=\"4\" fill=\"red\"></rect><rect x=\"269.4\" y=\"60.94309799789252\" width=\"10\" height=\"54.05690200210748\" stroke=\"#3290CC\" stroke-width=\"4\" fill=\"red\"></rect><rect x=\"289.79999999999995\" y=\"59.994731296101165\" width=\"10\" height=\"55.005268703898835\" stroke=\"#3290CC\" stroke-width=\"4\" fill=\"red\"></rect><rect x=\"310.2\" y=\"60.100105374077984\" width=\"10\" height=\"54.899894625922016\" stroke=\"#3290CC\" stroke-width=\"4\" fill=\"red\"></rect><rect x=\"330.6\" y=\"62.73445732349841\" width=\"10\" height=\"52.26554267650159\" stroke=\"#3290CC\" stroke-width=\"4\" fill=\"red\"></rect><rect x=\"351.0\" y=\"57.14963119072708\" width=\"10\" height=\"57.85036880927292\" stroke=\"#3290CC\" stroke-width=\"4\" fill=\"red\"></rect><rect x=\"371.40000000000003\" y=\"56.93888303477345\" width=\"10\" height=\"58.06111696522655\" stroke=\"#3290CC\" stroke-width=\"4\" fill=\"red\"></rect><rect x=\"391.8\" y=\"55.67439409905164\" width=\"10\" height=\"59.32560590094836\" stroke=\"#3290CC\" stroke-width=\"4\" fill=\"red\"></rect><rect x=\"412.2\" y=\"58.41412012644889\" width=\"10\" height=\"56.58587987355111\" stroke=\"#3290CC\" stroke-width=\"4\" fill=\"red\"></rect><rect x=\"432.6\" y=\"59.994731296101165\" width=\"10\" height=\"55.005268703898835\" stroke=\"#3290CC\" stroke-width=\"4\" fill=\"red\"></rect><rect x=\"453.0\" y=\"61.4699683877766\" width=\"10\" height=\"53.5300316122234\" stroke=\"#3290CC\" stroke-width=\"4\" fill=\"red\"></rect><rect x=\"473.4\" y=\"56.51738672286618\" width=\"10\" height=\"58.48261327713382\" stroke=\"#3290CC\" stroke-width=\"4\" fill=\"red\"></rect><rect x=\"493.8\" y=\"65.05268703898841\" width=\"10\" height=\"49.94731296101159\" stroke=\"#3290CC\" stroke-width=\"4\" fill=\"red\"></rect><rect x=\"514.2\" y=\"72.32349841938883\" width=\"10\" height=\"42.67650158061117\" stroke=\"#3290CC\" stroke-width=\"4\" fill=\"red\"></rect><rect x=\"534.5999999999999\" y=\"69.37302423603793\" width=\"10\" height=\"45.626975763962065\" stroke=\"#3290CC\" stroke-width=\"4\" fill=\"red\"></rect><rect x=\"555.0\" y=\"74.53635405690201\" width=\"10\" height=\"40.46364594309799\" stroke=\"#3290CC\" stroke-width=\"4\" fill=\"red\"></rect><rect x=\"575.4\" y=\"74.4309799789252\" width=\"10\" height=\"40.569020021074806\" stroke=\"#3290CC\" stroke-width=\"4\" fill=\"red\"></rect><rect x=\"595.8000000000001\" y=\"64.73656480505795\" width=\"10\" height=\"50.26343519494205\" stroke=\"#3290CC\" stroke-width=\"4\" fill=\"red\"></rect><rect x=\"616.2\" y=\"58.30874604847208\" width=\"10\" height=\"56.69125395152792\" stroke=\"#3290CC\" stroke-width=\"4\" fill=\"red\"></rect><rect x=\"636.5999999999999\" y=\"64.10432033719705\" width=\"10\" height=\"50.89567966280295\" stroke=\"#3290CC\" stroke-width=\"4\" fill=\"red\"></rect><rect x=\"657.0\" y=\"57.465753424657535\" width=\"10\" height=\"57.534246575342465\" stroke=\"#3290CC\" stroke-width=\"4\" fill=\"red\"></rect><rect x=\"677.4\" y=\"58.62486828240253\" width=\"10\" height=\"56.37513171759747\" stroke=\"#3290CC\" stroke-width=\"4\" fill=\"red\"></rect><rect x=\"697.8000000000001\" y=\"20.057955742887245\" width=\"10\" height=\"94.94204425711276\" stroke=\"#3290CC\" stroke-width=\"4\" fill=\"red\"></rect><rect x=\"718.2\" y=\"28.171759747102218\" width=\"10\" height=\"86.82824025289779\" stroke=\"#3290CC\" stroke-width=\"4\" fill=\"red\"></rect><rect x=\"738.6\" y=\"41.34351949420443\" width=\"10\" height=\"73.65648050579557\" stroke=\"#3290CC\" stroke-width=\"4\" fill=\"red\"></rect><rect x=\"759.0000000000001\" y=\"35.12644889357219\" width=\"10\" height=\"79.87355110642781\" stroke=\"#3290CC\" stroke-width=\"4\" fill=\"red\"></rect><rect x=\"779.4\" y=\"39.236037934668076\" width=\"10\" height=\"75.76396206533192\" stroke=\"#3290CC\" stroke-width=\"4\" fill=\"red\"></rect><rect x=\"799.8\" y=\"63.050579557428875\" width=\"10\" height=\"51.949420442571125\" stroke=\"#3290CC\" stroke-width=\"4\" fill=\"red\"></rect><rect x=\"820.2\" y=\"54.62065331928345\" width=\"10\" height=\"60.37934668071655\" stroke=\"#3290CC\" stroke-width=\"4\" fill=\"red\"></rect><rect x=\"840.6\" y=\"46.61222339304531\" width=\"10\" height=\"68.38777660695469\" stroke=\"#3290CC\" stroke-width=\"4\" fill=\"red\"></rect><rect x=\"861.0\" y=\"44.39936775553214\" width=\"10\" height=\"70.60063224446786\" stroke=\"#3290CC\" stroke-width=\"4\" fill=\"red\"></rect><rect x=\"881.4000000000001\" y=\"42.81875658587988\" width=\"10\" height=\"72.18124341412012\" stroke=\"#3290CC\" stroke-width=\"4\" fill=\"red\"></rect><rect x=\"901.8\" y=\"41.34351949420443\" width=\"10\" height=\"73.65648050579557\" stroke=\"#3290CC\" stroke-width=\"4\" fill=\"red\"></rect><rect x=\"922.1999999999999\" y=\"59.678609062170715\" width=\"10\" height=\"55.321390937829285\" stroke=\"#3290CC\" stroke-width=\"4\" fill=\"red\"></rect><rect x=\"942.6\" y=\"15.0\" width=\"10\" height=\"100.0\" stroke=\"#3290CC\" stroke-width=\"4\" fill=\"red\"></rect><rect x=\"963.0\" y=\"60.41622760800843\" width=\"10\" height=\"54.58377239199157\" stroke=\"#3290CC\" stroke-width=\"4\" fill=\"red\"></rect><rect x=\"983.4000000000001\" y=\"61.57534246575342\" width=\"10\" height=\"53.42465753424658\" stroke=\"#3290CC\" stroke-width=\"4\" fill=\"red\"></rect><rect x=\"1003.8000000000001\" y=\"60.310853530031615\" width=\"10\" height=\"54.689146469968385\" stroke=\"#3290CC\" stroke-width=\"4\" fill=\"red\"></rect><rect x=\"1024.1999999999998\" y=\"60.94309799789252\" width=\"10\" height=\"54.05690200210748\" stroke=\"#3290CC\" stroke-width=\"4\" fill=\"red\"></rect><rect x=\"1044.6\" y=\"59.46786090621707\" width=\"10\" height=\"55.53213909378293\" stroke=\"#3290CC\" stroke-width=\"4\" fill=\"red\"></rect><rect x=\"1065.0\" y=\"69.80262624625112\" width=\"10\" height=\"45.19737375374888\" stroke=\"#3290CC\" stroke-width=\"4\" fill=\"red\"></rect><g class=\"y-axis-line\"><rect x=\"0\" y=\"0\" width=\"65\" height=\"130\" stroke=\"transparent\" stroke-width=\"0\" fill=\"transparent\"></rect><text x=\"0\" y=\"19.0\" fill=\"transparent\" stroke=\"transparent\" font-size=\"25\">0.68</text><text x=\"0\" y=\"126.0\" fill=\"transparent\" stroke=\"transparent\" font-size=\"25\">0</text></g><g class=\"vert-line\"><rect x=\"40.0\" y=\"0\" width=\"20\" height=\"130\" stroke=\"transparent\" stroke-width=\"12\" fill=\"transparent\"></rect><text x=\"60.0\" y=\"20\" fill=\"transparent\" stroke=\"transparent\" font-size=\"30px\">0.34</text></g><g class=\"vert-line\"><rect x=\"60.400000000000006\" y=\"0\" width=\"20\" height=\"130\" stroke=\"transparent\" stroke-width=\"12\" fill=\"transparent\"></rect><text x=\"80.4\" y=\"20\" fill=\"transparent\" stroke=\"transparent\" font-size=\"30px\">0.35</text></g><g class=\"vert-line\"><rect x=\"80.80000000000001\" y=\"0\" width=\"20\" height=\"130\" stroke=\"transparent\" stroke-width=\"12\" fill=\"transparent\"></rect><text x=\"100.80000000000001\" y=\"20\" fill=\"transparent\" stroke=\"transparent\" font-size=\"30px\">0.36</text></g><g class=\"vert-line\"><rect x=\"101.19999999999999\" y=\"0\" width=\"20\" height=\"130\" stroke=\"transparent\" stroke-width=\"12\" fill=\"transparent\"></rect><text x=\"121.19999999999999\" y=\"20\" fill=\"transparent\" stroke=\"transparent\" font-size=\"30px\">0.37</text></g><g class=\"vert-line\"><rect x=\"121.60000000000002\" y=\"0\" width=\"20\" height=\"130\" stroke=\"transparent\" stroke-width=\"12\" fill=\"transparent\"></rect><text x=\"141.60000000000002\" y=\"20\" fill=\"transparent\" stroke=\"transparent\" font-size=\"30px\">0.35</text></g><g class=\"vert-line\"><rect x=\"142.0\" y=\"0\" width=\"20\" height=\"130\" stroke=\"transparent\" stroke-width=\"12\" fill=\"transparent\"></rect><text x=\"162.0\" y=\"20\" fill=\"transparent\" stroke=\"transparent\" font-size=\"30px\">0.37</text></g><g class=\"vert-line\"><rect x=\"162.39999999999998\" y=\"0\" width=\"20\" height=\"130\" stroke=\"transparent\" stroke-width=\"12\" fill=\"transparent\"></rect><text x=\"182.39999999999998\" y=\"20\" fill=\"transparent\" stroke=\"transparent\" font-size=\"30px\">0.36</text></g><g class=\"vert-line\"><rect x=\"182.8\" y=\"0\" width=\"20\" height=\"130\" stroke=\"transparent\" stroke-width=\"12\" fill=\"transparent\"></rect><text x=\"202.8\" y=\"20\" fill=\"transparent\" stroke=\"transparent\" font-size=\"30px\">0.35</text></g><g class=\"vert-line\"><rect x=\"203.20000000000002\" y=\"0\" width=\"20\" height=\"130\" stroke=\"transparent\" stroke-width=\"12\" fill=\"transparent\"></rect><text x=\"223.20000000000002\" y=\"20\" fill=\"transparent\" stroke=\"transparent\" font-size=\"30px\">0.36</text></g><g class=\"vert-line\"><rect x=\"223.6\" y=\"0\" width=\"20\" height=\"130\" stroke=\"transparent\" stroke-width=\"12\" fill=\"transparent\"></rect><text x=\"243.6\" y=\"20\" fill=\"transparent\" stroke=\"transparent\" font-size=\"30px\">0.36</text></g><g class=\"vert-line\"><rect x=\"244.0\" y=\"0\" width=\"20\" height=\"130\" stroke=\"transparent\" stroke-width=\"12\" fill=\"transparent\"></rect><text x=\"264.0\" y=\"20\" fill=\"transparent\" stroke=\"transparent\" font-size=\"30px\">0.37</text></g><g class=\"vert-line\"><rect x=\"264.4\" y=\"0\" width=\"20\" height=\"130\" stroke=\"transparent\" stroke-width=\"12\" fill=\"transparent\"></rect><text x=\"284.4\" y=\"20\" fill=\"transparent\" stroke=\"transparent\" font-size=\"30px\">0.37</text></g><g class=\"vert-line\"><rect x=\"284.79999999999995\" y=\"0\" width=\"20\" height=\"130\" stroke=\"transparent\" stroke-width=\"12\" fill=\"transparent\"></rect><text x=\"304.79999999999995\" y=\"20\" fill=\"transparent\" stroke=\"transparent\" font-size=\"30px\">0.37</text></g><g class=\"vert-line\"><rect x=\"305.2\" y=\"0\" width=\"20\" height=\"130\" stroke=\"transparent\" stroke-width=\"12\" fill=\"transparent\"></rect><text x=\"325.2\" y=\"20\" fill=\"transparent\" stroke=\"transparent\" font-size=\"30px\">0.37</text></g><g class=\"vert-line\"><rect x=\"325.6\" y=\"0\" width=\"20\" height=\"130\" stroke=\"transparent\" stroke-width=\"12\" fill=\"transparent\"></rect><text x=\"345.6\" y=\"20\" fill=\"transparent\" stroke=\"transparent\" font-size=\"30px\">0.36</text></g><g class=\"vert-line\"><rect x=\"346.0\" y=\"0\" width=\"20\" height=\"130\" stroke=\"transparent\" stroke-width=\"12\" fill=\"transparent\"></rect><text x=\"366.0\" y=\"20\" fill=\"transparent\" stroke=\"transparent\" font-size=\"30px\">0.39</text></g><g class=\"vert-line\"><rect x=\"366.40000000000003\" y=\"0\" width=\"20\" height=\"130\" stroke=\"transparent\" stroke-width=\"12\" fill=\"transparent\"></rect><text x=\"386.40000000000003\" y=\"20\" fill=\"transparent\" stroke=\"transparent\" font-size=\"30px\">0.40</text></g><g class=\"vert-line\"><rect x=\"386.8\" y=\"0\" width=\"20\" height=\"130\" stroke=\"transparent\" stroke-width=\"12\" fill=\"transparent\"></rect><text x=\"406.8\" y=\"20\" fill=\"transparent\" stroke=\"transparent\" font-size=\"30px\">0.40</text></g><g class=\"vert-line\"><rect x=\"407.2\" y=\"0\" width=\"20\" height=\"130\" stroke=\"transparent\" stroke-width=\"12\" fill=\"transparent\"></rect><text x=\"427.2\" y=\"20\" fill=\"transparent\" stroke=\"transparent\" font-size=\"30px\">0.39</text></g><g class=\"vert-line\"><rect x=\"427.6\" y=\"0\" width=\"20\" height=\"130\" stroke=\"transparent\" stroke-width=\"12\" fill=\"transparent\"></rect><text x=\"447.6\" y=\"20\" fill=\"transparent\" stroke=\"transparent\" font-size=\"30px\">0.37</text></g><g class=\"vert-line\"><rect x=\"448.0\" y=\"0\" width=\"20\" height=\"130\" stroke=\"transparent\" stroke-width=\"12\" fill=\"transparent\"></rect><text x=\"468.0\" y=\"20\" fill=\"transparent\" stroke=\"transparent\" font-size=\"30px\">0.36</text></g><g class=\"vert-line\"><rect x=\"468.4\" y=\"0\" width=\"20\" height=\"130\" stroke=\"transparent\" stroke-width=\"12\" fill=\"transparent\"></rect><text x=\"488.4\" y=\"20\" fill=\"transparent\" stroke=\"transparent\" font-size=\"30px\">0.40</text></g><g class=\"vert-line\"><rect x=\"488.8\" y=\"0\" width=\"20\" height=\"130\" stroke=\"transparent\" stroke-width=\"12\" fill=\"transparent\"></rect><text x=\"508.8\" y=\"20\" fill=\"transparent\" stroke=\"transparent\" font-size=\"30px\">0.34</text></g><g class=\"vert-line\"><rect x=\"509.20000000000005\" y=\"0\" width=\"20\" height=\"130\" stroke=\"transparent\" stroke-width=\"12\" fill=\"transparent\"></rect><text x=\"529.2\" y=\"20\" fill=\"transparent\" stroke=\"transparent\" font-size=\"30px\">0.29</text></g><g class=\"vert-line\"><rect x=\"529.5999999999999\" y=\"0\" width=\"20\" height=\"130\" stroke=\"transparent\" stroke-width=\"12\" fill=\"transparent\"></rect><text x=\"549.5999999999999\" y=\"20\" fill=\"transparent\" stroke=\"transparent\" font-size=\"30px\">0.31</text></g><g class=\"vert-line\"><rect x=\"550.0\" y=\"0\" width=\"20\" height=\"130\" stroke=\"transparent\" stroke-width=\"12\" fill=\"transparent\"></rect><text x=\"570.0\" y=\"20\" fill=\"transparent\" stroke=\"transparent\" font-size=\"30px\">0.28</text></g><g class=\"vert-line\"><rect x=\"570.4\" y=\"0\" width=\"20\" height=\"130\" stroke=\"transparent\" stroke-width=\"12\" fill=\"transparent\"></rect><text x=\"590.4\" y=\"20\" fill=\"transparent\" stroke=\"transparent\" font-size=\"30px\">0.28</text></g><g class=\"vert-line\"><rect x=\"590.8000000000001\" y=\"0\" width=\"20\" height=\"130\" stroke=\"transparent\" stroke-width=\"12\" fill=\"transparent\"></rect><text x=\"610.8000000000001\" y=\"20\" fill=\"transparent\" stroke=\"transparent\" font-size=\"30px\">0.34</text></g><g class=\"vert-line\"><rect x=\"611.2\" y=\"0\" width=\"20\" height=\"130\" stroke=\"transparent\" stroke-width=\"12\" fill=\"transparent\"></rect><text x=\"631.2\" y=\"20\" fill=\"transparent\" stroke=\"transparent\" font-size=\"30px\">0.39</text></g><g class=\"vert-line\"><rect x=\"631.5999999999999\" y=\"0\" width=\"20\" height=\"130\" stroke=\"transparent\" stroke-width=\"12\" fill=\"transparent\"></rect><text x=\"651.5999999999999\" y=\"20\" fill=\"transparent\" stroke=\"transparent\" font-size=\"30px\">0.35</text></g><g class=\"vert-line\"><rect x=\"652.0\" y=\"0\" width=\"20\" height=\"130\" stroke=\"transparent\" stroke-width=\"12\" fill=\"transparent\"></rect><text x=\"672.0\" y=\"20\" fill=\"transparent\" stroke=\"transparent\" font-size=\"30px\">0.39</text></g><g class=\"vert-line\"><rect x=\"672.4\" y=\"0\" width=\"20\" height=\"130\" stroke=\"transparent\" stroke-width=\"12\" fill=\"transparent\"></rect><text x=\"692.4\" y=\"20\" fill=\"transparent\" stroke=\"transparent\" font-size=\"30px\">0.38</text></g><g class=\"vert-line\"><rect x=\"692.8000000000001\" y=\"0\" width=\"20\" height=\"130\" stroke=\"transparent\" stroke-width=\"12\" fill=\"transparent\"></rect><text x=\"712.8000000000001\" y=\"20\" fill=\"transparent\" stroke=\"transparent\" font-size=\"30px\">0.65</text></g><g class=\"vert-line\"><rect x=\"713.2\" y=\"0\" width=\"20\" height=\"130\" stroke=\"transparent\" stroke-width=\"12\" fill=\"transparent\"></rect><text x=\"733.2\" y=\"20\" fill=\"transparent\" stroke=\"transparent\" font-size=\"30px\">0.59</text></g><g class=\"vert-line\"><rect x=\"733.6\" y=\"0\" width=\"20\" height=\"130\" stroke=\"transparent\" stroke-width=\"12\" fill=\"transparent\"></rect><text x=\"753.6\" y=\"20\" fill=\"transparent\" stroke=\"transparent\" font-size=\"30px\">0.50</text></g><g class=\"vert-line\"><rect x=\"754.0000000000001\" y=\"0\" width=\"20\" height=\"130\" stroke=\"transparent\" stroke-width=\"12\" fill=\"transparent\"></rect><text x=\"774.0000000000001\" y=\"20\" fill=\"transparent\" stroke=\"transparent\" font-size=\"30px\">0.54</text></g><g class=\"vert-line\"><rect x=\"774.4\" y=\"0\" width=\"20\" height=\"130\" stroke=\"transparent\" stroke-width=\"12\" fill=\"transparent\"></rect><text x=\"794.4\" y=\"20\" fill=\"transparent\" stroke=\"transparent\" font-size=\"30px\">0.52</text></g><g class=\"vert-line\"><rect x=\"794.8\" y=\"0\" width=\"20\" height=\"130\" stroke=\"transparent\" stroke-width=\"12\" fill=\"transparent\"></rect><text x=\"814.8\" y=\"20\" fill=\"transparent\" stroke=\"transparent\" font-size=\"30px\">0.35</text></g><g class=\"vert-line\"><rect x=\"815.2\" y=\"0\" width=\"20\" height=\"130\" stroke=\"transparent\" stroke-width=\"12\" fill=\"transparent\"></rect><text x=\"835.2\" y=\"20\" fill=\"transparent\" stroke=\"transparent\" font-size=\"30px\">0.41</text></g><g class=\"vert-line\"><rect x=\"835.6\" y=\"0\" width=\"20\" height=\"130\" stroke=\"transparent\" stroke-width=\"12\" fill=\"transparent\"></rect><text x=\"855.6\" y=\"20\" fill=\"transparent\" stroke=\"transparent\" font-size=\"30px\">0.47</text></g><g class=\"vert-line\"><rect x=\"856.0\" y=\"0\" width=\"20\" height=\"130\" stroke=\"transparent\" stroke-width=\"12\" fill=\"transparent\"></rect><text x=\"876.0\" y=\"20\" fill=\"transparent\" stroke=\"transparent\" font-size=\"30px\">0.48</text></g><g class=\"vert-line\"><rect x=\"876.4000000000001\" y=\"0\" width=\"20\" height=\"130\" stroke=\"transparent\" stroke-width=\"12\" fill=\"transparent\"></rect><text x=\"896.4000000000001\" y=\"20\" fill=\"transparent\" stroke=\"transparent\" font-size=\"30px\">0.49</text></g><g class=\"vert-line\"><rect x=\"896.8\" y=\"0\" width=\"20\" height=\"130\" stroke=\"transparent\" stroke-width=\"12\" fill=\"transparent\"></rect><text x=\"916.8\" y=\"20\" fill=\"transparent\" stroke=\"transparent\" font-size=\"30px\">0.50</text></g><g class=\"vert-line\"><rect x=\"917.1999999999999\" y=\"0\" width=\"20\" height=\"130\" stroke=\"transparent\" stroke-width=\"12\" fill=\"transparent\"></rect><text x=\"937.1999999999999\" y=\"20\" fill=\"transparent\" stroke=\"transparent\" font-size=\"30px\">0.38</text></g><g class=\"vert-line\"><rect x=\"937.6\" y=\"0\" width=\"20\" height=\"130\" stroke=\"transparent\" stroke-width=\"12\" fill=\"transparent\"></rect><text x=\"957.6\" y=\"20\" fill=\"transparent\" stroke=\"transparent\" font-size=\"30px\">0.68</text></g><g class=\"vert-line\"><rect x=\"958.0\" y=\"0\" width=\"20\" height=\"130\" stroke=\"transparent\" stroke-width=\"12\" fill=\"transparent\"></rect><text x=\"978.0\" y=\"20\" fill=\"transparent\" stroke=\"transparent\" font-size=\"30px\">0.37</text></g><g class=\"vert-line\"><rect x=\"978.4000000000001\" y=\"0\" width=\"20\" height=\"130\" stroke=\"transparent\" stroke-width=\"12\" fill=\"transparent\"></rect><text x=\"998.4000000000001\" y=\"20\" fill=\"transparent\" stroke=\"transparent\" font-size=\"30px\">0.36</text></g><g class=\"vert-line\"><rect x=\"998.8000000000001\" y=\"0\" width=\"20\" height=\"130\" stroke=\"transparent\" stroke-width=\"12\" fill=\"transparent\"></rect><text x=\"1018.8000000000001\" y=\"20\" fill=\"transparent\" stroke=\"transparent\" font-size=\"30px\">0.37</text></g><g class=\"vert-line\"><rect x=\"1019.1999999999998\" y=\"0\" width=\"20\" height=\"130\" stroke=\"transparent\" stroke-width=\"12\" fill=\"transparent\"></rect><text x=\"1039.1999999999998\" y=\"20\" fill=\"transparent\" stroke=\"transparent\" font-size=\"30px\">0.37</text></g><g class=\"vert-line\"><rect x=\"1039.6\" y=\"0\" width=\"20\" height=\"130\" stroke=\"transparent\" stroke-width=\"12\" fill=\"transparent\"></rect><text x=\"1059.6\" y=\"20\" fill=\"transparent\" stroke=\"transparent\" font-size=\"30px\">0.38</text></g><g class=\"vert-line\"><rect x=\"1060.0\" y=\"0\" width=\"20\" height=\"130\" stroke=\"transparent\" stroke-width=\"12\" fill=\"transparent\"></rect><text x=\"1080.0\" y=\"20\" fill=\"transparent\" stroke=\"transparent\" font-size=\"30px\">0.31</text></g></svg></div></td>\n",
       "  <td class=\"gt_row gt_right\">39.75%</td>\n",
       "</tr>\n",
       "<tr>\n",
       "  <th class=\"gt_row gt_left gt_stub\">Interest_Rate</th>\n",
       "  <td class=\"gt_row gt_center\"><div><svg role=\"img\" viewBox=\"0 0 1120 130\" style=\"height: 2em; margin-left: auto; margin-right: auto; font-size: inherit; overflow: visible; vertical-align: middle; position:relative;\"><defs><pattern id=\"area_pattern\" width=\"8\" height=\"8\" patternUnits=\"userSpaceOnUse\"><path class=\"pattern-line\" d=\"M 0,8 l 8,-8 M -1,1 l 4,-4 M 6,10 l 4,-4\" stroke=\"#FF0000\" stroke-width=\"1.5\" stroke-linecap=\"round\" shape-rendering=\"geometricPrecision\"></path></pattern></defs><style> text { font-family: ui-monospace, 'Cascadia Code', 'Source Code Pro', Menlo, Consolas, 'DejaVu Sans Mono', monospace; stroke-width: 0.15em; paint-order: stroke; stroke-linejoin: round; cursor: default; } .vert-line:hover rect { fill: #911EB4; fill-opacity: 40%; stroke: #FFFFFF60; color: red; } .vert-line:hover text { stroke: white; fill: #212427; } .horizontal-line:hover text {stroke: white; fill: #212427; } .ref-line:hover rect { stroke: #FFFFFF60; } .ref-line:hover line { stroke: #FF0000; } .ref-line:hover text { stroke: white; fill: #212427; } .y-axis-line:hover rect { fill: #EDEDED; fill-opacity: 60%; stroke: #FFFFFF60; color: red; } .y-axis-line:hover text { stroke: white; stroke-width: 0.20em; fill: #1A1C1F; } </style><line x1=\"22.5\" y1=\"115.0\" x2=\"1097.5\" y2=\"115.0\" stroke=\"#BFBFBF\" stroke-width=\"4\"></line><rect x=\"45.0\" y=\"40.738396624472585\" width=\"10\" height=\"74.26160337552741\" stroke=\"#3290CC\" stroke-width=\"4\" fill=\"red\"></rect><rect x=\"65.4\" y=\"40.65400843881858\" width=\"10\" height=\"74.34599156118142\" stroke=\"#3290CC\" stroke-width=\"4\" fill=\"red\"></rect><rect x=\"85.80000000000001\" y=\"37.70042194092827\" width=\"10\" height=\"77.29957805907173\" stroke=\"#3290CC\" stroke-width=\"4\" fill=\"red\"></rect><rect x=\"106.19999999999999\" y=\"36.68776371308017\" width=\"10\" height=\"78.31223628691983\" stroke=\"#3290CC\" stroke-width=\"4\" fill=\"red\"></rect><rect x=\"126.60000000000002\" y=\"38.881856540084385\" width=\"10\" height=\"76.11814345991561\" stroke=\"#3290CC\" stroke-width=\"4\" fill=\"red\"></rect><rect x=\"147.0\" y=\"37.36286919831224\" width=\"10\" height=\"77.63713080168776\" stroke=\"#3290CC\" stroke-width=\"4\" fill=\"red\"></rect><rect x=\"167.39999999999998\" y=\"40.56962025316456\" width=\"10\" height=\"74.43037974683544\" stroke=\"#3290CC\" stroke-width=\"4\" fill=\"red\"></rect><rect x=\"187.8\" y=\"37.447257383966246\" width=\"10\" height=\"77.55274261603375\" stroke=\"#3290CC\" stroke-width=\"4\" fill=\"red\"></rect><rect x=\"208.20000000000002\" y=\"40.31645569620253\" width=\"10\" height=\"74.68354430379748\" stroke=\"#3290CC\" stroke-width=\"4\" fill=\"red\"></rect><rect x=\"228.6\" y=\"39.30379746835444\" width=\"10\" height=\"75.69620253164555\" stroke=\"#3290CC\" stroke-width=\"4\" fill=\"red\"></rect><rect x=\"249.0\" y=\"40.48523206751055\" width=\"10\" height=\"74.51476793248945\" stroke=\"#3290CC\" stroke-width=\"4\" fill=\"red\"></rect><rect x=\"269.4\" y=\"38.62869198312237\" width=\"10\" height=\"76.37130801687763\" stroke=\"#3290CC\" stroke-width=\"4\" fill=\"red\"></rect><rect x=\"289.79999999999995\" y=\"38.71308016877638\" width=\"10\" height=\"76.28691983122363\" stroke=\"#3290CC\" stroke-width=\"4\" fill=\"red\"></rect><rect x=\"310.2\" y=\"38.79746835443037\" width=\"10\" height=\"76.20253164556962\" stroke=\"#3290CC\" stroke-width=\"4\" fill=\"red\"></rect><rect x=\"330.6\" y=\"38.881856540084385\" width=\"10\" height=\"76.11814345991561\" stroke=\"#3290CC\" stroke-width=\"4\" fill=\"red\"></rect><rect x=\"351.0\" y=\"38.45991561181435\" width=\"10\" height=\"76.54008438818565\" stroke=\"#3290CC\" stroke-width=\"4\" fill=\"red\"></rect><rect x=\"371.40000000000003\" y=\"35.59071729957807\" width=\"10\" height=\"79.40928270042193\" stroke=\"#3290CC\" stroke-width=\"4\" fill=\"red\"></rect><rect x=\"391.8\" y=\"37.53164556962025\" width=\"10\" height=\"77.46835443037975\" stroke=\"#3290CC\" stroke-width=\"4\" fill=\"red\"></rect><rect x=\"412.2\" y=\"34.83122362869199\" width=\"10\" height=\"80.16877637130801\" stroke=\"#3290CC\" stroke-width=\"4\" fill=\"red\"></rect><rect x=\"432.6\" y=\"33.39662447257384\" width=\"10\" height=\"81.60337552742615\" stroke=\"#3290CC\" stroke-width=\"4\" fill=\"red\"></rect><rect x=\"453.0\" y=\"35.337552742616026\" width=\"10\" height=\"79.66244725738397\" stroke=\"#3290CC\" stroke-width=\"4\" fill=\"red\"></rect><rect x=\"473.4\" y=\"35.675105485232066\" width=\"10\" height=\"79.32489451476793\" stroke=\"#3290CC\" stroke-width=\"4\" fill=\"red\"></rect><rect x=\"493.8\" y=\"37.9535864978903\" width=\"10\" height=\"77.0464135021097\" stroke=\"#3290CC\" stroke-width=\"4\" fill=\"red\"></rect><rect x=\"514.2\" y=\"40.82278481012658\" width=\"10\" height=\"74.17721518987342\" stroke=\"#3290CC\" stroke-width=\"4\" fill=\"red\"></rect><rect x=\"534.5999999999999\" y=\"40.738396624472585\" width=\"10\" height=\"74.26160337552741\" stroke=\"#3290CC\" stroke-width=\"4\" fill=\"red\"></rect><rect x=\"555.0\" y=\"41.58227848101265\" width=\"10\" height=\"73.41772151898735\" stroke=\"#3290CC\" stroke-width=\"4\" fill=\"red\"></rect><rect x=\"575.4\" y=\"42.763713080168785\" width=\"10\" height=\"72.23628691983122\" stroke=\"#3290CC\" stroke-width=\"4\" fill=\"red\"></rect><rect x=\"595.8000000000001\" y=\"35.59071729957807\" width=\"10\" height=\"79.40928270042193\" stroke=\"#3290CC\" stroke-width=\"4\" fill=\"red\"></rect><rect x=\"616.2\" y=\"35.253164556962034\" width=\"10\" height=\"79.74683544303797\" stroke=\"#3290CC\" stroke-width=\"4\" fill=\"red\"></rect><rect x=\"636.5999999999999\" y=\"36.265822784810126\" width=\"10\" height=\"78.73417721518987\" stroke=\"#3290CC\" stroke-width=\"4\" fill=\"red\"></rect><rect x=\"657.0\" y=\"30.27426160337553\" width=\"10\" height=\"84.72573839662448\" stroke=\"#3290CC\" stroke-width=\"4\" fill=\"red\"></rect><rect x=\"677.4\" y=\"29.092827004219423\" width=\"10\" height=\"85.90717299578057\" stroke=\"#3290CC\" stroke-width=\"4\" fill=\"red\"></rect><rect x=\"697.8000000000001\" y=\"15.0\" width=\"10\" height=\"100.0\" stroke=\"#3290CC\" stroke-width=\"4\" fill=\"red\"></rect><rect x=\"718.2\" y=\"19.894514767932492\" width=\"10\" height=\"95.10548523206751\" stroke=\"#3290CC\" stroke-width=\"4\" fill=\"red\"></rect><rect x=\"738.6\" y=\"26.561181434599156\" width=\"10\" height=\"88.43881856540085\" stroke=\"#3290CC\" stroke-width=\"4\" fill=\"red\"></rect><rect x=\"759.0000000000001\" y=\"18.713080168776372\" width=\"10\" height=\"96.28691983122363\" stroke=\"#3290CC\" stroke-width=\"4\" fill=\"red\"></rect><rect x=\"779.4\" y=\"24.957805907173\" width=\"10\" height=\"90.042194092827\" stroke=\"#3290CC\" stroke-width=\"4\" fill=\"red\"></rect><rect x=\"799.8\" y=\"35.75949367088607\" width=\"10\" height=\"79.24050632911393\" stroke=\"#3290CC\" stroke-width=\"4\" fill=\"red\"></rect><rect x=\"820.2\" y=\"33.48101265822785\" width=\"10\" height=\"81.51898734177215\" stroke=\"#3290CC\" stroke-width=\"4\" fill=\"red\"></rect><rect x=\"840.6\" y=\"32.80590717299579\" width=\"10\" height=\"82.19409282700421\" stroke=\"#3290CC\" stroke-width=\"4\" fill=\"red\"></rect><rect x=\"861.0\" y=\"32.299578059071735\" width=\"10\" height=\"82.70042194092827\" stroke=\"#3290CC\" stroke-width=\"4\" fill=\"red\"></rect><rect x=\"881.4000000000001\" y=\"27.911392405063292\" width=\"10\" height=\"87.0886075949367\" stroke=\"#3290CC\" stroke-width=\"4\" fill=\"red\"></rect><rect x=\"901.8\" y=\"29.177215189873415\" width=\"10\" height=\"85.82278481012659\" stroke=\"#3290CC\" stroke-width=\"4\" fill=\"red\"></rect><rect x=\"922.1999999999999\" y=\"35.843881856540094\" width=\"10\" height=\"79.1561181434599\" stroke=\"#3290CC\" stroke-width=\"4\" fill=\"red\"></rect><rect x=\"942.6\" y=\"17.362869198312247\" width=\"10\" height=\"97.63713080168776\" stroke=\"#3290CC\" stroke-width=\"4\" fill=\"red\"></rect><rect x=\"963.0\" y=\"37.447257383966246\" width=\"10\" height=\"77.55274261603375\" stroke=\"#3290CC\" stroke-width=\"4\" fill=\"red\"></rect><rect x=\"983.4000000000001\" y=\"38.20675105485232\" width=\"10\" height=\"76.79324894514768\" stroke=\"#3290CC\" stroke-width=\"4\" fill=\"red\"></rect><rect x=\"1003.8000000000001\" y=\"37.78481012658228\" width=\"10\" height=\"77.21518987341773\" stroke=\"#3290CC\" stroke-width=\"4\" fill=\"red\"></rect><rect x=\"1024.1999999999998\" y=\"40.56962025316456\" width=\"10\" height=\"74.43037974683544\" stroke=\"#3290CC\" stroke-width=\"4\" fill=\"red\"></rect><rect x=\"1044.6\" y=\"37.447257383966246\" width=\"10\" height=\"77.55274261603375\" stroke=\"#3290CC\" stroke-width=\"4\" fill=\"red\"></rect><rect x=\"1065.0\" y=\"42.60791950665367\" width=\"10\" height=\"72.39208049334633\" stroke=\"#3290CC\" stroke-width=\"4\" fill=\"red\"></rect><g class=\"y-axis-line\"><rect x=\"0\" y=\"0\" width=\"65\" height=\"130\" stroke=\"transparent\" stroke-width=\"0\" fill=\"transparent\"></rect><text x=\"0\" y=\"19.0\" fill=\"transparent\" stroke=\"transparent\" font-size=\"25\">0.85</text><text x=\"0\" y=\"126.0\" fill=\"transparent\" stroke=\"transparent\" font-size=\"25\">0</text></g><g class=\"vert-line\"><rect x=\"40.0\" y=\"0\" width=\"20\" height=\"130\" stroke=\"transparent\" stroke-width=\"12\" fill=\"transparent\"></rect><text x=\"60.0\" y=\"20\" fill=\"transparent\" stroke=\"transparent\" font-size=\"30px\">0.63</text></g><g class=\"vert-line\"><rect x=\"60.400000000000006\" y=\"0\" width=\"20\" height=\"130\" stroke=\"transparent\" stroke-width=\"12\" fill=\"transparent\"></rect><text x=\"80.4\" y=\"20\" fill=\"transparent\" stroke=\"transparent\" font-size=\"30px\">0.63</text></g><g class=\"vert-line\"><rect x=\"80.80000000000001\" y=\"0\" width=\"20\" height=\"130\" stroke=\"transparent\" stroke-width=\"12\" fill=\"transparent\"></rect><text x=\"100.80000000000001\" y=\"20\" fill=\"transparent\" stroke=\"transparent\" font-size=\"30px\">0.66</text></g><g class=\"vert-line\"><rect x=\"101.19999999999999\" y=\"0\" width=\"20\" height=\"130\" stroke=\"transparent\" stroke-width=\"12\" fill=\"transparent\"></rect><text x=\"121.19999999999999\" y=\"20\" fill=\"transparent\" stroke=\"transparent\" font-size=\"30px\">0.67</text></g><g class=\"vert-line\"><rect x=\"121.60000000000002\" y=\"0\" width=\"20\" height=\"130\" stroke=\"transparent\" stroke-width=\"12\" fill=\"transparent\"></rect><text x=\"141.60000000000002\" y=\"20\" fill=\"transparent\" stroke=\"transparent\" font-size=\"30px\">0.65</text></g><g class=\"vert-line\"><rect x=\"142.0\" y=\"0\" width=\"20\" height=\"130\" stroke=\"transparent\" stroke-width=\"12\" fill=\"transparent\"></rect><text x=\"162.0\" y=\"20\" fill=\"transparent\" stroke=\"transparent\" font-size=\"30px\">0.66</text></g><g class=\"vert-line\"><rect x=\"162.39999999999998\" y=\"0\" width=\"20\" height=\"130\" stroke=\"transparent\" stroke-width=\"12\" fill=\"transparent\"></rect><text x=\"182.39999999999998\" y=\"20\" fill=\"transparent\" stroke=\"transparent\" font-size=\"30px\">0.63</text></g><g class=\"vert-line\"><rect x=\"182.8\" y=\"0\" width=\"20\" height=\"130\" stroke=\"transparent\" stroke-width=\"12\" fill=\"transparent\"></rect><text x=\"202.8\" y=\"20\" fill=\"transparent\" stroke=\"transparent\" font-size=\"30px\">0.66</text></g><g class=\"vert-line\"><rect x=\"203.20000000000002\" y=\"0\" width=\"20\" height=\"130\" stroke=\"transparent\" stroke-width=\"12\" fill=\"transparent\"></rect><text x=\"223.20000000000002\" y=\"20\" fill=\"transparent\" stroke=\"transparent\" font-size=\"30px\">0.63</text></g><g class=\"vert-line\"><rect x=\"223.6\" y=\"0\" width=\"20\" height=\"130\" stroke=\"transparent\" stroke-width=\"12\" fill=\"transparent\"></rect><text x=\"243.6\" y=\"20\" fill=\"transparent\" stroke=\"transparent\" font-size=\"30px\">0.64</text></g><g class=\"vert-line\"><rect x=\"244.0\" y=\"0\" width=\"20\" height=\"130\" stroke=\"transparent\" stroke-width=\"12\" fill=\"transparent\"></rect><text x=\"264.0\" y=\"20\" fill=\"transparent\" stroke=\"transparent\" font-size=\"30px\">0.63</text></g><g class=\"vert-line\"><rect x=\"264.4\" y=\"0\" width=\"20\" height=\"130\" stroke=\"transparent\" stroke-width=\"12\" fill=\"transparent\"></rect><text x=\"284.4\" y=\"20\" fill=\"transparent\" stroke=\"transparent\" font-size=\"30px\">0.65</text></g><g class=\"vert-line\"><rect x=\"284.79999999999995\" y=\"0\" width=\"20\" height=\"130\" stroke=\"transparent\" stroke-width=\"12\" fill=\"transparent\"></rect><text x=\"304.79999999999995\" y=\"20\" fill=\"transparent\" stroke=\"transparent\" font-size=\"30px\">0.65</text></g><g class=\"vert-line\"><rect x=\"305.2\" y=\"0\" width=\"20\" height=\"130\" stroke=\"transparent\" stroke-width=\"12\" fill=\"transparent\"></rect><text x=\"325.2\" y=\"20\" fill=\"transparent\" stroke=\"transparent\" font-size=\"30px\">0.65</text></g><g class=\"vert-line\"><rect x=\"325.6\" y=\"0\" width=\"20\" height=\"130\" stroke=\"transparent\" stroke-width=\"12\" fill=\"transparent\"></rect><text x=\"345.6\" y=\"20\" fill=\"transparent\" stroke=\"transparent\" font-size=\"30px\">0.65</text></g><g class=\"vert-line\"><rect x=\"346.0\" y=\"0\" width=\"20\" height=\"130\" stroke=\"transparent\" stroke-width=\"12\" fill=\"transparent\"></rect><text x=\"366.0\" y=\"20\" fill=\"transparent\" stroke=\"transparent\" font-size=\"30px\">0.65</text></g><g class=\"vert-line\"><rect x=\"366.40000000000003\" y=\"0\" width=\"20\" height=\"130\" stroke=\"transparent\" stroke-width=\"12\" fill=\"transparent\"></rect><text x=\"386.40000000000003\" y=\"20\" fill=\"transparent\" stroke=\"transparent\" font-size=\"30px\">0.68</text></g><g class=\"vert-line\"><rect x=\"386.8\" y=\"0\" width=\"20\" height=\"130\" stroke=\"transparent\" stroke-width=\"12\" fill=\"transparent\"></rect><text x=\"406.8\" y=\"20\" fill=\"transparent\" stroke=\"transparent\" font-size=\"30px\">0.66</text></g><g class=\"vert-line\"><rect x=\"407.2\" y=\"0\" width=\"20\" height=\"130\" stroke=\"transparent\" stroke-width=\"12\" fill=\"transparent\"></rect><text x=\"427.2\" y=\"20\" fill=\"transparent\" stroke=\"transparent\" font-size=\"30px\">0.68</text></g><g class=\"vert-line\"><rect x=\"427.6\" y=\"0\" width=\"20\" height=\"130\" stroke=\"transparent\" stroke-width=\"12\" fill=\"transparent\"></rect><text x=\"447.6\" y=\"20\" fill=\"transparent\" stroke=\"transparent\" font-size=\"30px\">0.69</text></g><g class=\"vert-line\"><rect x=\"448.0\" y=\"0\" width=\"20\" height=\"130\" stroke=\"transparent\" stroke-width=\"12\" fill=\"transparent\"></rect><text x=\"468.0\" y=\"20\" fill=\"transparent\" stroke=\"transparent\" font-size=\"30px\">0.68</text></g><g class=\"vert-line\"><rect x=\"468.4\" y=\"0\" width=\"20\" height=\"130\" stroke=\"transparent\" stroke-width=\"12\" fill=\"transparent\"></rect><text x=\"488.4\" y=\"20\" fill=\"transparent\" stroke=\"transparent\" font-size=\"30px\">0.67</text></g><g class=\"vert-line\"><rect x=\"488.8\" y=\"0\" width=\"20\" height=\"130\" stroke=\"transparent\" stroke-width=\"12\" fill=\"transparent\"></rect><text x=\"508.8\" y=\"20\" fill=\"transparent\" stroke=\"transparent\" font-size=\"30px\">0.65</text></g><g class=\"vert-line\"><rect x=\"509.20000000000005\" y=\"0\" width=\"20\" height=\"130\" stroke=\"transparent\" stroke-width=\"12\" fill=\"transparent\"></rect><text x=\"529.2\" y=\"20\" fill=\"transparent\" stroke=\"transparent\" font-size=\"30px\">0.63</text></g><g class=\"vert-line\"><rect x=\"529.5999999999999\" y=\"0\" width=\"20\" height=\"130\" stroke=\"transparent\" stroke-width=\"12\" fill=\"transparent\"></rect><text x=\"549.5999999999999\" y=\"20\" fill=\"transparent\" stroke=\"transparent\" font-size=\"30px\">0.63</text></g><g class=\"vert-line\"><rect x=\"550.0\" y=\"0\" width=\"20\" height=\"130\" stroke=\"transparent\" stroke-width=\"12\" fill=\"transparent\"></rect><text x=\"570.0\" y=\"20\" fill=\"transparent\" stroke=\"transparent\" font-size=\"30px\">0.62</text></g><g class=\"vert-line\"><rect x=\"570.4\" y=\"0\" width=\"20\" height=\"130\" stroke=\"transparent\" stroke-width=\"12\" fill=\"transparent\"></rect><text x=\"590.4\" y=\"20\" fill=\"transparent\" stroke=\"transparent\" font-size=\"30px\">0.61</text></g><g class=\"vert-line\"><rect x=\"590.8000000000001\" y=\"0\" width=\"20\" height=\"130\" stroke=\"transparent\" stroke-width=\"12\" fill=\"transparent\"></rect><text x=\"610.8000000000001\" y=\"20\" fill=\"transparent\" stroke=\"transparent\" font-size=\"30px\">0.68</text></g><g class=\"vert-line\"><rect x=\"611.2\" y=\"0\" width=\"20\" height=\"130\" stroke=\"transparent\" stroke-width=\"12\" fill=\"transparent\"></rect><text x=\"631.2\" y=\"20\" fill=\"transparent\" stroke=\"transparent\" font-size=\"30px\">0.68</text></g><g class=\"vert-line\"><rect x=\"631.5999999999999\" y=\"0\" width=\"20\" height=\"130\" stroke=\"transparent\" stroke-width=\"12\" fill=\"transparent\"></rect><text x=\"651.5999999999999\" y=\"20\" fill=\"transparent\" stroke=\"transparent\" font-size=\"30px\">0.67</text></g><g class=\"vert-line\"><rect x=\"652.0\" y=\"0\" width=\"20\" height=\"130\" stroke=\"transparent\" stroke-width=\"12\" fill=\"transparent\"></rect><text x=\"672.0\" y=\"20\" fill=\"transparent\" stroke=\"transparent\" font-size=\"30px\">0.72</text></g><g class=\"vert-line\"><rect x=\"672.4\" y=\"0\" width=\"20\" height=\"130\" stroke=\"transparent\" stroke-width=\"12\" fill=\"transparent\"></rect><text x=\"692.4\" y=\"20\" fill=\"transparent\" stroke=\"transparent\" font-size=\"30px\">0.73</text></g><g class=\"vert-line\"><rect x=\"692.8000000000001\" y=\"0\" width=\"20\" height=\"130\" stroke=\"transparent\" stroke-width=\"12\" fill=\"transparent\"></rect><text x=\"712.8000000000001\" y=\"20\" fill=\"transparent\" stroke=\"transparent\" font-size=\"30px\">0.85</text></g><g class=\"vert-line\"><rect x=\"713.2\" y=\"0\" width=\"20\" height=\"130\" stroke=\"transparent\" stroke-width=\"12\" fill=\"transparent\"></rect><text x=\"733.2\" y=\"20\" fill=\"transparent\" stroke=\"transparent\" font-size=\"30px\">0.81</text></g><g class=\"vert-line\"><rect x=\"733.6\" y=\"0\" width=\"20\" height=\"130\" stroke=\"transparent\" stroke-width=\"12\" fill=\"transparent\"></rect><text x=\"753.6\" y=\"20\" fill=\"transparent\" stroke=\"transparent\" font-size=\"30px\">0.75</text></g><g class=\"vert-line\"><rect x=\"754.0000000000001\" y=\"0\" width=\"20\" height=\"130\" stroke=\"transparent\" stroke-width=\"12\" fill=\"transparent\"></rect><text x=\"774.0000000000001\" y=\"20\" fill=\"transparent\" stroke=\"transparent\" font-size=\"30px\">0.82</text></g><g class=\"vert-line\"><rect x=\"774.4\" y=\"0\" width=\"20\" height=\"130\" stroke=\"transparent\" stroke-width=\"12\" fill=\"transparent\"></rect><text x=\"794.4\" y=\"20\" fill=\"transparent\" stroke=\"transparent\" font-size=\"30px\">0.77</text></g><g class=\"vert-line\"><rect x=\"794.8\" y=\"0\" width=\"20\" height=\"130\" stroke=\"transparent\" stroke-width=\"12\" fill=\"transparent\"></rect><text x=\"814.8\" y=\"20\" fill=\"transparent\" stroke=\"transparent\" font-size=\"30px\">0.67</text></g><g class=\"vert-line\"><rect x=\"815.2\" y=\"0\" width=\"20\" height=\"130\" stroke=\"transparent\" stroke-width=\"12\" fill=\"transparent\"></rect><text x=\"835.2\" y=\"20\" fill=\"transparent\" stroke=\"transparent\" font-size=\"30px\">0.69</text></g><g class=\"vert-line\"><rect x=\"835.6\" y=\"0\" width=\"20\" height=\"130\" stroke=\"transparent\" stroke-width=\"12\" fill=\"transparent\"></rect><text x=\"855.6\" y=\"20\" fill=\"transparent\" stroke=\"transparent\" font-size=\"30px\">0.70</text></g><g class=\"vert-line\"><rect x=\"856.0\" y=\"0\" width=\"20\" height=\"130\" stroke=\"transparent\" stroke-width=\"12\" fill=\"transparent\"></rect><text x=\"876.0\" y=\"20\" fill=\"transparent\" stroke=\"transparent\" font-size=\"30px\">0.70</text></g><g class=\"vert-line\"><rect x=\"876.4000000000001\" y=\"0\" width=\"20\" height=\"130\" stroke=\"transparent\" stroke-width=\"12\" fill=\"transparent\"></rect><text x=\"896.4000000000001\" y=\"20\" fill=\"transparent\" stroke=\"transparent\" font-size=\"30px\">0.74</text></g><g class=\"vert-line\"><rect x=\"896.8\" y=\"0\" width=\"20\" height=\"130\" stroke=\"transparent\" stroke-width=\"12\" fill=\"transparent\"></rect><text x=\"916.8\" y=\"20\" fill=\"transparent\" stroke=\"transparent\" font-size=\"30px\">0.73</text></g><g class=\"vert-line\"><rect x=\"917.1999999999999\" y=\"0\" width=\"20\" height=\"130\" stroke=\"transparent\" stroke-width=\"12\" fill=\"transparent\"></rect><text x=\"937.1999999999999\" y=\"20\" fill=\"transparent\" stroke=\"transparent\" font-size=\"30px\">0.67</text></g><g class=\"vert-line\"><rect x=\"937.6\" y=\"0\" width=\"20\" height=\"130\" stroke=\"transparent\" stroke-width=\"12\" fill=\"transparent\"></rect><text x=\"957.6\" y=\"20\" fill=\"transparent\" stroke=\"transparent\" font-size=\"30px\">0.83</text></g><g class=\"vert-line\"><rect x=\"958.0\" y=\"0\" width=\"20\" height=\"130\" stroke=\"transparent\" stroke-width=\"12\" fill=\"transparent\"></rect><text x=\"978.0\" y=\"20\" fill=\"transparent\" stroke=\"transparent\" font-size=\"30px\">0.66</text></g><g class=\"vert-line\"><rect x=\"978.4000000000001\" y=\"0\" width=\"20\" height=\"130\" stroke=\"transparent\" stroke-width=\"12\" fill=\"transparent\"></rect><text x=\"998.4000000000001\" y=\"20\" fill=\"transparent\" stroke=\"transparent\" font-size=\"30px\">0.65</text></g><g class=\"vert-line\"><rect x=\"998.8000000000001\" y=\"0\" width=\"20\" height=\"130\" stroke=\"transparent\" stroke-width=\"12\" fill=\"transparent\"></rect><text x=\"1018.8000000000001\" y=\"20\" fill=\"transparent\" stroke=\"transparent\" font-size=\"30px\">0.66</text></g><g class=\"vert-line\"><rect x=\"1019.1999999999998\" y=\"0\" width=\"20\" height=\"130\" stroke=\"transparent\" stroke-width=\"12\" fill=\"transparent\"></rect><text x=\"1039.1999999999998\" y=\"20\" fill=\"transparent\" stroke=\"transparent\" font-size=\"30px\">0.63</text></g><g class=\"vert-line\"><rect x=\"1039.6\" y=\"0\" width=\"20\" height=\"130\" stroke=\"transparent\" stroke-width=\"12\" fill=\"transparent\"></rect><text x=\"1059.6\" y=\"20\" fill=\"transparent\" stroke=\"transparent\" font-size=\"30px\">0.66</text></g><g class=\"vert-line\"><rect x=\"1060.0\" y=\"0\" width=\"20\" height=\"130\" stroke=\"transparent\" stroke-width=\"12\" fill=\"transparent\"></rect><text x=\"1080.0\" y=\"20\" fill=\"transparent\" stroke=\"transparent\" font-size=\"30px\">0.62</text></g></svg></div></td>\n",
       "  <td class=\"gt_row gt_right\">68.05%</td>\n",
       "</tr>\n",
       "<tr>\n",
       "  <th class=\"gt_row gt_left gt_stub\">EMI</th>\n",
       "  <td class=\"gt_row gt_center\"><div><svg role=\"img\" viewBox=\"0 0 1120 130\" style=\"height: 2em; margin-left: auto; margin-right: auto; font-size: inherit; overflow: visible; vertical-align: middle; position:relative;\"><defs><pattern id=\"area_pattern\" width=\"8\" height=\"8\" patternUnits=\"userSpaceOnUse\"><path class=\"pattern-line\" d=\"M 0,8 l 8,-8 M -1,1 l 4,-4 M 6,10 l 4,-4\" stroke=\"#FF0000\" stroke-width=\"1.5\" stroke-linecap=\"round\" shape-rendering=\"geometricPrecision\"></path></pattern></defs><style> text { font-family: ui-monospace, 'Cascadia Code', 'Source Code Pro', Menlo, Consolas, 'DejaVu Sans Mono', monospace; stroke-width: 0.15em; paint-order: stroke; stroke-linejoin: round; cursor: default; } .vert-line:hover rect { fill: #911EB4; fill-opacity: 40%; stroke: #FFFFFF60; color: red; } .vert-line:hover text { stroke: white; fill: #212427; } .horizontal-line:hover text {stroke: white; fill: #212427; } .ref-line:hover rect { stroke: #FFFFFF60; } .ref-line:hover line { stroke: #FF0000; } .ref-line:hover text { stroke: white; fill: #212427; } .y-axis-line:hover rect { fill: #EDEDED; fill-opacity: 60%; stroke: #FFFFFF60; color: red; } .y-axis-line:hover text { stroke: white; stroke-width: 0.20em; fill: #1A1C1F; } </style><line x1=\"22.5\" y1=\"115.0\" x2=\"1097.5\" y2=\"115.0\" stroke=\"#BFBFBF\" stroke-width=\"4\"></line><rect x=\"45.0\" y=\"40.738396624472585\" width=\"10\" height=\"74.26160337552741\" stroke=\"#3290CC\" stroke-width=\"4\" fill=\"red\"></rect><rect x=\"65.4\" y=\"40.65400843881858\" width=\"10\" height=\"74.34599156118142\" stroke=\"#3290CC\" stroke-width=\"4\" fill=\"red\"></rect><rect x=\"85.80000000000001\" y=\"37.70042194092827\" width=\"10\" height=\"77.29957805907173\" stroke=\"#3290CC\" stroke-width=\"4\" fill=\"red\"></rect><rect x=\"106.19999999999999\" y=\"36.68776371308017\" width=\"10\" height=\"78.31223628691983\" stroke=\"#3290CC\" stroke-width=\"4\" fill=\"red\"></rect><rect x=\"126.60000000000002\" y=\"38.881856540084385\" width=\"10\" height=\"76.11814345991561\" stroke=\"#3290CC\" stroke-width=\"4\" fill=\"red\"></rect><rect x=\"147.0\" y=\"37.36286919831224\" width=\"10\" height=\"77.63713080168776\" stroke=\"#3290CC\" stroke-width=\"4\" fill=\"red\"></rect><rect x=\"167.39999999999998\" y=\"40.56962025316456\" width=\"10\" height=\"74.43037974683544\" stroke=\"#3290CC\" stroke-width=\"4\" fill=\"red\"></rect><rect x=\"187.8\" y=\"37.447257383966246\" width=\"10\" height=\"77.55274261603375\" stroke=\"#3290CC\" stroke-width=\"4\" fill=\"red\"></rect><rect x=\"208.20000000000002\" y=\"40.31645569620253\" width=\"10\" height=\"74.68354430379748\" stroke=\"#3290CC\" stroke-width=\"4\" fill=\"red\"></rect><rect x=\"228.6\" y=\"39.30379746835444\" width=\"10\" height=\"75.69620253164555\" stroke=\"#3290CC\" stroke-width=\"4\" fill=\"red\"></rect><rect x=\"249.0\" y=\"40.48523206751055\" width=\"10\" height=\"74.51476793248945\" stroke=\"#3290CC\" stroke-width=\"4\" fill=\"red\"></rect><rect x=\"269.4\" y=\"38.62869198312237\" width=\"10\" height=\"76.37130801687763\" stroke=\"#3290CC\" stroke-width=\"4\" fill=\"red\"></rect><rect x=\"289.79999999999995\" y=\"38.71308016877638\" width=\"10\" height=\"76.28691983122363\" stroke=\"#3290CC\" stroke-width=\"4\" fill=\"red\"></rect><rect x=\"310.2\" y=\"38.79746835443037\" width=\"10\" height=\"76.20253164556962\" stroke=\"#3290CC\" stroke-width=\"4\" fill=\"red\"></rect><rect x=\"330.6\" y=\"38.881856540084385\" width=\"10\" height=\"76.11814345991561\" stroke=\"#3290CC\" stroke-width=\"4\" fill=\"red\"></rect><rect x=\"351.0\" y=\"38.45991561181435\" width=\"10\" height=\"76.54008438818565\" stroke=\"#3290CC\" stroke-width=\"4\" fill=\"red\"></rect><rect x=\"371.40000000000003\" y=\"35.59071729957807\" width=\"10\" height=\"79.40928270042193\" stroke=\"#3290CC\" stroke-width=\"4\" fill=\"red\"></rect><rect x=\"391.8\" y=\"37.53164556962025\" width=\"10\" height=\"77.46835443037975\" stroke=\"#3290CC\" stroke-width=\"4\" fill=\"red\"></rect><rect x=\"412.2\" y=\"34.83122362869199\" width=\"10\" height=\"80.16877637130801\" stroke=\"#3290CC\" stroke-width=\"4\" fill=\"red\"></rect><rect x=\"432.6\" y=\"33.39662447257384\" width=\"10\" height=\"81.60337552742615\" stroke=\"#3290CC\" stroke-width=\"4\" fill=\"red\"></rect><rect x=\"453.0\" y=\"35.337552742616026\" width=\"10\" height=\"79.66244725738397\" stroke=\"#3290CC\" stroke-width=\"4\" fill=\"red\"></rect><rect x=\"473.4\" y=\"35.675105485232066\" width=\"10\" height=\"79.32489451476793\" stroke=\"#3290CC\" stroke-width=\"4\" fill=\"red\"></rect><rect x=\"493.8\" y=\"37.9535864978903\" width=\"10\" height=\"77.0464135021097\" stroke=\"#3290CC\" stroke-width=\"4\" fill=\"red\"></rect><rect x=\"514.2\" y=\"40.82278481012658\" width=\"10\" height=\"74.17721518987342\" stroke=\"#3290CC\" stroke-width=\"4\" fill=\"red\"></rect><rect x=\"534.5999999999999\" y=\"40.738396624472585\" width=\"10\" height=\"74.26160337552741\" stroke=\"#3290CC\" stroke-width=\"4\" fill=\"red\"></rect><rect x=\"555.0\" y=\"41.58227848101265\" width=\"10\" height=\"73.41772151898735\" stroke=\"#3290CC\" stroke-width=\"4\" fill=\"red\"></rect><rect x=\"575.4\" y=\"42.763713080168785\" width=\"10\" height=\"72.23628691983122\" stroke=\"#3290CC\" stroke-width=\"4\" fill=\"red\"></rect><rect x=\"595.8000000000001\" y=\"35.59071729957807\" width=\"10\" height=\"79.40928270042193\" stroke=\"#3290CC\" stroke-width=\"4\" fill=\"red\"></rect><rect x=\"616.2\" y=\"35.253164556962034\" width=\"10\" height=\"79.74683544303797\" stroke=\"#3290CC\" stroke-width=\"4\" fill=\"red\"></rect><rect x=\"636.5999999999999\" y=\"36.265822784810126\" width=\"10\" height=\"78.73417721518987\" stroke=\"#3290CC\" stroke-width=\"4\" fill=\"red\"></rect><rect x=\"657.0\" y=\"30.27426160337553\" width=\"10\" height=\"84.72573839662448\" stroke=\"#3290CC\" stroke-width=\"4\" fill=\"red\"></rect><rect x=\"677.4\" y=\"29.092827004219423\" width=\"10\" height=\"85.90717299578057\" stroke=\"#3290CC\" stroke-width=\"4\" fill=\"red\"></rect><rect x=\"697.8000000000001\" y=\"15.0\" width=\"10\" height=\"100.0\" stroke=\"#3290CC\" stroke-width=\"4\" fill=\"red\"></rect><rect x=\"718.2\" y=\"19.894514767932492\" width=\"10\" height=\"95.10548523206751\" stroke=\"#3290CC\" stroke-width=\"4\" fill=\"red\"></rect><rect x=\"738.6\" y=\"26.561181434599156\" width=\"10\" height=\"88.43881856540085\" stroke=\"#3290CC\" stroke-width=\"4\" fill=\"red\"></rect><rect x=\"759.0000000000001\" y=\"18.713080168776372\" width=\"10\" height=\"96.28691983122363\" stroke=\"#3290CC\" stroke-width=\"4\" fill=\"red\"></rect><rect x=\"779.4\" y=\"24.957805907173\" width=\"10\" height=\"90.042194092827\" stroke=\"#3290CC\" stroke-width=\"4\" fill=\"red\"></rect><rect x=\"799.8\" y=\"35.75949367088607\" width=\"10\" height=\"79.24050632911393\" stroke=\"#3290CC\" stroke-width=\"4\" fill=\"red\"></rect><rect x=\"820.2\" y=\"33.48101265822785\" width=\"10\" height=\"81.51898734177215\" stroke=\"#3290CC\" stroke-width=\"4\" fill=\"red\"></rect><rect x=\"840.6\" y=\"32.80590717299579\" width=\"10\" height=\"82.19409282700421\" stroke=\"#3290CC\" stroke-width=\"4\" fill=\"red\"></rect><rect x=\"861.0\" y=\"32.299578059071735\" width=\"10\" height=\"82.70042194092827\" stroke=\"#3290CC\" stroke-width=\"4\" fill=\"red\"></rect><rect x=\"881.4000000000001\" y=\"27.911392405063292\" width=\"10\" height=\"87.0886075949367\" stroke=\"#3290CC\" stroke-width=\"4\" fill=\"red\"></rect><rect x=\"901.8\" y=\"29.177215189873415\" width=\"10\" height=\"85.82278481012659\" stroke=\"#3290CC\" stroke-width=\"4\" fill=\"red\"></rect><rect x=\"922.1999999999999\" y=\"35.843881856540094\" width=\"10\" height=\"79.1561181434599\" stroke=\"#3290CC\" stroke-width=\"4\" fill=\"red\"></rect><rect x=\"942.6\" y=\"17.362869198312247\" width=\"10\" height=\"97.63713080168776\" stroke=\"#3290CC\" stroke-width=\"4\" fill=\"red\"></rect><rect x=\"963.0\" y=\"37.447257383966246\" width=\"10\" height=\"77.55274261603375\" stroke=\"#3290CC\" stroke-width=\"4\" fill=\"red\"></rect><rect x=\"983.4000000000001\" y=\"38.20675105485232\" width=\"10\" height=\"76.79324894514768\" stroke=\"#3290CC\" stroke-width=\"4\" fill=\"red\"></rect><rect x=\"1003.8000000000001\" y=\"37.78481012658228\" width=\"10\" height=\"77.21518987341773\" stroke=\"#3290CC\" stroke-width=\"4\" fill=\"red\"></rect><rect x=\"1024.1999999999998\" y=\"40.56962025316456\" width=\"10\" height=\"74.43037974683544\" stroke=\"#3290CC\" stroke-width=\"4\" fill=\"red\"></rect><rect x=\"1044.6\" y=\"37.447257383966246\" width=\"10\" height=\"77.55274261603375\" stroke=\"#3290CC\" stroke-width=\"4\" fill=\"red\"></rect><rect x=\"1065.0\" y=\"42.60791950665367\" width=\"10\" height=\"72.39208049334633\" stroke=\"#3290CC\" stroke-width=\"4\" fill=\"red\"></rect><g class=\"y-axis-line\"><rect x=\"0\" y=\"0\" width=\"65\" height=\"130\" stroke=\"transparent\" stroke-width=\"0\" fill=\"transparent\"></rect><text x=\"0\" y=\"19.0\" fill=\"transparent\" stroke=\"transparent\" font-size=\"25\">0.85</text><text x=\"0\" y=\"126.0\" fill=\"transparent\" stroke=\"transparent\" font-size=\"25\">0</text></g><g class=\"vert-line\"><rect x=\"40.0\" y=\"0\" width=\"20\" height=\"130\" stroke=\"transparent\" stroke-width=\"12\" fill=\"transparent\"></rect><text x=\"60.0\" y=\"20\" fill=\"transparent\" stroke=\"transparent\" font-size=\"30px\">0.63</text></g><g class=\"vert-line\"><rect x=\"60.400000000000006\" y=\"0\" width=\"20\" height=\"130\" stroke=\"transparent\" stroke-width=\"12\" fill=\"transparent\"></rect><text x=\"80.4\" y=\"20\" fill=\"transparent\" stroke=\"transparent\" font-size=\"30px\">0.63</text></g><g class=\"vert-line\"><rect x=\"80.80000000000001\" y=\"0\" width=\"20\" height=\"130\" stroke=\"transparent\" stroke-width=\"12\" fill=\"transparent\"></rect><text x=\"100.80000000000001\" y=\"20\" fill=\"transparent\" stroke=\"transparent\" font-size=\"30px\">0.66</text></g><g class=\"vert-line\"><rect x=\"101.19999999999999\" y=\"0\" width=\"20\" height=\"130\" stroke=\"transparent\" stroke-width=\"12\" fill=\"transparent\"></rect><text x=\"121.19999999999999\" y=\"20\" fill=\"transparent\" stroke=\"transparent\" font-size=\"30px\">0.67</text></g><g class=\"vert-line\"><rect x=\"121.60000000000002\" y=\"0\" width=\"20\" height=\"130\" stroke=\"transparent\" stroke-width=\"12\" fill=\"transparent\"></rect><text x=\"141.60000000000002\" y=\"20\" fill=\"transparent\" stroke=\"transparent\" font-size=\"30px\">0.65</text></g><g class=\"vert-line\"><rect x=\"142.0\" y=\"0\" width=\"20\" height=\"130\" stroke=\"transparent\" stroke-width=\"12\" fill=\"transparent\"></rect><text x=\"162.0\" y=\"20\" fill=\"transparent\" stroke=\"transparent\" font-size=\"30px\">0.66</text></g><g class=\"vert-line\"><rect x=\"162.39999999999998\" y=\"0\" width=\"20\" height=\"130\" stroke=\"transparent\" stroke-width=\"12\" fill=\"transparent\"></rect><text x=\"182.39999999999998\" y=\"20\" fill=\"transparent\" stroke=\"transparent\" font-size=\"30px\">0.63</text></g><g class=\"vert-line\"><rect x=\"182.8\" y=\"0\" width=\"20\" height=\"130\" stroke=\"transparent\" stroke-width=\"12\" fill=\"transparent\"></rect><text x=\"202.8\" y=\"20\" fill=\"transparent\" stroke=\"transparent\" font-size=\"30px\">0.66</text></g><g class=\"vert-line\"><rect x=\"203.20000000000002\" y=\"0\" width=\"20\" height=\"130\" stroke=\"transparent\" stroke-width=\"12\" fill=\"transparent\"></rect><text x=\"223.20000000000002\" y=\"20\" fill=\"transparent\" stroke=\"transparent\" font-size=\"30px\">0.63</text></g><g class=\"vert-line\"><rect x=\"223.6\" y=\"0\" width=\"20\" height=\"130\" stroke=\"transparent\" stroke-width=\"12\" fill=\"transparent\"></rect><text x=\"243.6\" y=\"20\" fill=\"transparent\" stroke=\"transparent\" font-size=\"30px\">0.64</text></g><g class=\"vert-line\"><rect x=\"244.0\" y=\"0\" width=\"20\" height=\"130\" stroke=\"transparent\" stroke-width=\"12\" fill=\"transparent\"></rect><text x=\"264.0\" y=\"20\" fill=\"transparent\" stroke=\"transparent\" font-size=\"30px\">0.63</text></g><g class=\"vert-line\"><rect x=\"264.4\" y=\"0\" width=\"20\" height=\"130\" stroke=\"transparent\" stroke-width=\"12\" fill=\"transparent\"></rect><text x=\"284.4\" y=\"20\" fill=\"transparent\" stroke=\"transparent\" font-size=\"30px\">0.65</text></g><g class=\"vert-line\"><rect x=\"284.79999999999995\" y=\"0\" width=\"20\" height=\"130\" stroke=\"transparent\" stroke-width=\"12\" fill=\"transparent\"></rect><text x=\"304.79999999999995\" y=\"20\" fill=\"transparent\" stroke=\"transparent\" font-size=\"30px\">0.65</text></g><g class=\"vert-line\"><rect x=\"305.2\" y=\"0\" width=\"20\" height=\"130\" stroke=\"transparent\" stroke-width=\"12\" fill=\"transparent\"></rect><text x=\"325.2\" y=\"20\" fill=\"transparent\" stroke=\"transparent\" font-size=\"30px\">0.65</text></g><g class=\"vert-line\"><rect x=\"325.6\" y=\"0\" width=\"20\" height=\"130\" stroke=\"transparent\" stroke-width=\"12\" fill=\"transparent\"></rect><text x=\"345.6\" y=\"20\" fill=\"transparent\" stroke=\"transparent\" font-size=\"30px\">0.65</text></g><g class=\"vert-line\"><rect x=\"346.0\" y=\"0\" width=\"20\" height=\"130\" stroke=\"transparent\" stroke-width=\"12\" fill=\"transparent\"></rect><text x=\"366.0\" y=\"20\" fill=\"transparent\" stroke=\"transparent\" font-size=\"30px\">0.65</text></g><g class=\"vert-line\"><rect x=\"366.40000000000003\" y=\"0\" width=\"20\" height=\"130\" stroke=\"transparent\" stroke-width=\"12\" fill=\"transparent\"></rect><text x=\"386.40000000000003\" y=\"20\" fill=\"transparent\" stroke=\"transparent\" font-size=\"30px\">0.68</text></g><g class=\"vert-line\"><rect x=\"386.8\" y=\"0\" width=\"20\" height=\"130\" stroke=\"transparent\" stroke-width=\"12\" fill=\"transparent\"></rect><text x=\"406.8\" y=\"20\" fill=\"transparent\" stroke=\"transparent\" font-size=\"30px\">0.66</text></g><g class=\"vert-line\"><rect x=\"407.2\" y=\"0\" width=\"20\" height=\"130\" stroke=\"transparent\" stroke-width=\"12\" fill=\"transparent\"></rect><text x=\"427.2\" y=\"20\" fill=\"transparent\" stroke=\"transparent\" font-size=\"30px\">0.68</text></g><g class=\"vert-line\"><rect x=\"427.6\" y=\"0\" width=\"20\" height=\"130\" stroke=\"transparent\" stroke-width=\"12\" fill=\"transparent\"></rect><text x=\"447.6\" y=\"20\" fill=\"transparent\" stroke=\"transparent\" font-size=\"30px\">0.69</text></g><g class=\"vert-line\"><rect x=\"448.0\" y=\"0\" width=\"20\" height=\"130\" stroke=\"transparent\" stroke-width=\"12\" fill=\"transparent\"></rect><text x=\"468.0\" y=\"20\" fill=\"transparent\" stroke=\"transparent\" font-size=\"30px\">0.68</text></g><g class=\"vert-line\"><rect x=\"468.4\" y=\"0\" width=\"20\" height=\"130\" stroke=\"transparent\" stroke-width=\"12\" fill=\"transparent\"></rect><text x=\"488.4\" y=\"20\" fill=\"transparent\" stroke=\"transparent\" font-size=\"30px\">0.67</text></g><g class=\"vert-line\"><rect x=\"488.8\" y=\"0\" width=\"20\" height=\"130\" stroke=\"transparent\" stroke-width=\"12\" fill=\"transparent\"></rect><text x=\"508.8\" y=\"20\" fill=\"transparent\" stroke=\"transparent\" font-size=\"30px\">0.65</text></g><g class=\"vert-line\"><rect x=\"509.20000000000005\" y=\"0\" width=\"20\" height=\"130\" stroke=\"transparent\" stroke-width=\"12\" fill=\"transparent\"></rect><text x=\"529.2\" y=\"20\" fill=\"transparent\" stroke=\"transparent\" font-size=\"30px\">0.63</text></g><g class=\"vert-line\"><rect x=\"529.5999999999999\" y=\"0\" width=\"20\" height=\"130\" stroke=\"transparent\" stroke-width=\"12\" fill=\"transparent\"></rect><text x=\"549.5999999999999\" y=\"20\" fill=\"transparent\" stroke=\"transparent\" font-size=\"30px\">0.63</text></g><g class=\"vert-line\"><rect x=\"550.0\" y=\"0\" width=\"20\" height=\"130\" stroke=\"transparent\" stroke-width=\"12\" fill=\"transparent\"></rect><text x=\"570.0\" y=\"20\" fill=\"transparent\" stroke=\"transparent\" font-size=\"30px\">0.62</text></g><g class=\"vert-line\"><rect x=\"570.4\" y=\"0\" width=\"20\" height=\"130\" stroke=\"transparent\" stroke-width=\"12\" fill=\"transparent\"></rect><text x=\"590.4\" y=\"20\" fill=\"transparent\" stroke=\"transparent\" font-size=\"30px\">0.61</text></g><g class=\"vert-line\"><rect x=\"590.8000000000001\" y=\"0\" width=\"20\" height=\"130\" stroke=\"transparent\" stroke-width=\"12\" fill=\"transparent\"></rect><text x=\"610.8000000000001\" y=\"20\" fill=\"transparent\" stroke=\"transparent\" font-size=\"30px\">0.68</text></g><g class=\"vert-line\"><rect x=\"611.2\" y=\"0\" width=\"20\" height=\"130\" stroke=\"transparent\" stroke-width=\"12\" fill=\"transparent\"></rect><text x=\"631.2\" y=\"20\" fill=\"transparent\" stroke=\"transparent\" font-size=\"30px\">0.68</text></g><g class=\"vert-line\"><rect x=\"631.5999999999999\" y=\"0\" width=\"20\" height=\"130\" stroke=\"transparent\" stroke-width=\"12\" fill=\"transparent\"></rect><text x=\"651.5999999999999\" y=\"20\" fill=\"transparent\" stroke=\"transparent\" font-size=\"30px\">0.67</text></g><g class=\"vert-line\"><rect x=\"652.0\" y=\"0\" width=\"20\" height=\"130\" stroke=\"transparent\" stroke-width=\"12\" fill=\"transparent\"></rect><text x=\"672.0\" y=\"20\" fill=\"transparent\" stroke=\"transparent\" font-size=\"30px\">0.72</text></g><g class=\"vert-line\"><rect x=\"672.4\" y=\"0\" width=\"20\" height=\"130\" stroke=\"transparent\" stroke-width=\"12\" fill=\"transparent\"></rect><text x=\"692.4\" y=\"20\" fill=\"transparent\" stroke=\"transparent\" font-size=\"30px\">0.73</text></g><g class=\"vert-line\"><rect x=\"692.8000000000001\" y=\"0\" width=\"20\" height=\"130\" stroke=\"transparent\" stroke-width=\"12\" fill=\"transparent\"></rect><text x=\"712.8000000000001\" y=\"20\" fill=\"transparent\" stroke=\"transparent\" font-size=\"30px\">0.85</text></g><g class=\"vert-line\"><rect x=\"713.2\" y=\"0\" width=\"20\" height=\"130\" stroke=\"transparent\" stroke-width=\"12\" fill=\"transparent\"></rect><text x=\"733.2\" y=\"20\" fill=\"transparent\" stroke=\"transparent\" font-size=\"30px\">0.81</text></g><g class=\"vert-line\"><rect x=\"733.6\" y=\"0\" width=\"20\" height=\"130\" stroke=\"transparent\" stroke-width=\"12\" fill=\"transparent\"></rect><text x=\"753.6\" y=\"20\" fill=\"transparent\" stroke=\"transparent\" font-size=\"30px\">0.75</text></g><g class=\"vert-line\"><rect x=\"754.0000000000001\" y=\"0\" width=\"20\" height=\"130\" stroke=\"transparent\" stroke-width=\"12\" fill=\"transparent\"></rect><text x=\"774.0000000000001\" y=\"20\" fill=\"transparent\" stroke=\"transparent\" font-size=\"30px\">0.82</text></g><g class=\"vert-line\"><rect x=\"774.4\" y=\"0\" width=\"20\" height=\"130\" stroke=\"transparent\" stroke-width=\"12\" fill=\"transparent\"></rect><text x=\"794.4\" y=\"20\" fill=\"transparent\" stroke=\"transparent\" font-size=\"30px\">0.77</text></g><g class=\"vert-line\"><rect x=\"794.8\" y=\"0\" width=\"20\" height=\"130\" stroke=\"transparent\" stroke-width=\"12\" fill=\"transparent\"></rect><text x=\"814.8\" y=\"20\" fill=\"transparent\" stroke=\"transparent\" font-size=\"30px\">0.67</text></g><g class=\"vert-line\"><rect x=\"815.2\" y=\"0\" width=\"20\" height=\"130\" stroke=\"transparent\" stroke-width=\"12\" fill=\"transparent\"></rect><text x=\"835.2\" y=\"20\" fill=\"transparent\" stroke=\"transparent\" font-size=\"30px\">0.69</text></g><g class=\"vert-line\"><rect x=\"835.6\" y=\"0\" width=\"20\" height=\"130\" stroke=\"transparent\" stroke-width=\"12\" fill=\"transparent\"></rect><text x=\"855.6\" y=\"20\" fill=\"transparent\" stroke=\"transparent\" font-size=\"30px\">0.70</text></g><g class=\"vert-line\"><rect x=\"856.0\" y=\"0\" width=\"20\" height=\"130\" stroke=\"transparent\" stroke-width=\"12\" fill=\"transparent\"></rect><text x=\"876.0\" y=\"20\" fill=\"transparent\" stroke=\"transparent\" font-size=\"30px\">0.70</text></g><g class=\"vert-line\"><rect x=\"876.4000000000001\" y=\"0\" width=\"20\" height=\"130\" stroke=\"transparent\" stroke-width=\"12\" fill=\"transparent\"></rect><text x=\"896.4000000000001\" y=\"20\" fill=\"transparent\" stroke=\"transparent\" font-size=\"30px\">0.74</text></g><g class=\"vert-line\"><rect x=\"896.8\" y=\"0\" width=\"20\" height=\"130\" stroke=\"transparent\" stroke-width=\"12\" fill=\"transparent\"></rect><text x=\"916.8\" y=\"20\" fill=\"transparent\" stroke=\"transparent\" font-size=\"30px\">0.73</text></g><g class=\"vert-line\"><rect x=\"917.1999999999999\" y=\"0\" width=\"20\" height=\"130\" stroke=\"transparent\" stroke-width=\"12\" fill=\"transparent\"></rect><text x=\"937.1999999999999\" y=\"20\" fill=\"transparent\" stroke=\"transparent\" font-size=\"30px\">0.67</text></g><g class=\"vert-line\"><rect x=\"937.6\" y=\"0\" width=\"20\" height=\"130\" stroke=\"transparent\" stroke-width=\"12\" fill=\"transparent\"></rect><text x=\"957.6\" y=\"20\" fill=\"transparent\" stroke=\"transparent\" font-size=\"30px\">0.83</text></g><g class=\"vert-line\"><rect x=\"958.0\" y=\"0\" width=\"20\" height=\"130\" stroke=\"transparent\" stroke-width=\"12\" fill=\"transparent\"></rect><text x=\"978.0\" y=\"20\" fill=\"transparent\" stroke=\"transparent\" font-size=\"30px\">0.66</text></g><g class=\"vert-line\"><rect x=\"978.4000000000001\" y=\"0\" width=\"20\" height=\"130\" stroke=\"transparent\" stroke-width=\"12\" fill=\"transparent\"></rect><text x=\"998.4000000000001\" y=\"20\" fill=\"transparent\" stroke=\"transparent\" font-size=\"30px\">0.65</text></g><g class=\"vert-line\"><rect x=\"998.8000000000001\" y=\"0\" width=\"20\" height=\"130\" stroke=\"transparent\" stroke-width=\"12\" fill=\"transparent\"></rect><text x=\"1018.8000000000001\" y=\"20\" fill=\"transparent\" stroke=\"transparent\" font-size=\"30px\">0.66</text></g><g class=\"vert-line\"><rect x=\"1019.1999999999998\" y=\"0\" width=\"20\" height=\"130\" stroke=\"transparent\" stroke-width=\"12\" fill=\"transparent\"></rect><text x=\"1039.1999999999998\" y=\"20\" fill=\"transparent\" stroke=\"transparent\" font-size=\"30px\">0.63</text></g><g class=\"vert-line\"><rect x=\"1039.6\" y=\"0\" width=\"20\" height=\"130\" stroke=\"transparent\" stroke-width=\"12\" fill=\"transparent\"></rect><text x=\"1059.6\" y=\"20\" fill=\"transparent\" stroke=\"transparent\" font-size=\"30px\">0.66</text></g><g class=\"vert-line\"><rect x=\"1060.0\" y=\"0\" width=\"20\" height=\"130\" stroke=\"transparent\" stroke-width=\"12\" fill=\"transparent\"></rect><text x=\"1080.0\" y=\"20\" fill=\"transparent\" stroke=\"transparent\" font-size=\"30px\">0.62</text></g></svg></div></td>\n",
       "  <td class=\"gt_row gt_right\">68.05%</td>\n",
       "</tr>\n",
       "<tr>\n",
       "  <th class=\"gt_row gt_left gt_stub\">Var1</th>\n",
       "  <td class=\"gt_row gt_center\"><div><svg role=\"img\" viewBox=\"0 0 1120 130\" style=\"height: 2em; margin-left: auto; margin-right: auto; font-size: inherit; overflow: visible; vertical-align: middle; position:relative;\"><defs><pattern id=\"area_pattern\" width=\"8\" height=\"8\" patternUnits=\"userSpaceOnUse\"><path class=\"pattern-line\" d=\"M 0,8 l 8,-8 M -1,1 l 4,-4 M 6,10 l 4,-4\" stroke=\"#FF0000\" stroke-width=\"1.5\" stroke-linecap=\"round\" shape-rendering=\"geometricPrecision\"></path></pattern></defs><style> text { font-family: ui-monospace, 'Cascadia Code', 'Source Code Pro', Menlo, Consolas, 'DejaVu Sans Mono', monospace; stroke-width: 0.15em; paint-order: stroke; stroke-linejoin: round; cursor: default; } .vert-line:hover rect { fill: #911EB4; fill-opacity: 40%; stroke: #FFFFFF60; color: red; } .vert-line:hover text { stroke: white; fill: #212427; } .horizontal-line:hover text {stroke: white; fill: #212427; } .ref-line:hover rect { stroke: #FFFFFF60; } .ref-line:hover line { stroke: #FF0000; } .ref-line:hover text { stroke: white; fill: #212427; } .y-axis-line:hover rect { fill: #EDEDED; fill-opacity: 60%; stroke: #FFFFFF60; color: red; } .y-axis-line:hover text { stroke: white; stroke-width: 0.20em; fill: #1A1C1F; } </style><line x1=\"22.5\" y1=\"65.0\" x2=\"1097.5\" y2=\"65.0\" stroke=\"#BFBFBF\" stroke-width=\"4\"></line><rect x=\"45.0\" y=\"64.0\" width=\"10\" height=\"2\" stroke=\"#808080\" stroke-width=\"4\" fill=\"#808080\"></rect><rect x=\"65.4\" y=\"64.0\" width=\"10\" height=\"2\" stroke=\"#808080\" stroke-width=\"4\" fill=\"#808080\"></rect><rect x=\"85.80000000000001\" y=\"64.0\" width=\"10\" height=\"2\" stroke=\"#808080\" stroke-width=\"4\" fill=\"#808080\"></rect><rect x=\"106.19999999999999\" y=\"64.0\" width=\"10\" height=\"2\" stroke=\"#808080\" stroke-width=\"4\" fill=\"#808080\"></rect><rect x=\"126.60000000000002\" y=\"64.0\" width=\"10\" height=\"2\" stroke=\"#808080\" stroke-width=\"4\" fill=\"#808080\"></rect><rect x=\"147.0\" y=\"64.0\" width=\"10\" height=\"2\" stroke=\"#808080\" stroke-width=\"4\" fill=\"#808080\"></rect><rect x=\"167.39999999999998\" y=\"64.0\" width=\"10\" height=\"2\" stroke=\"#808080\" stroke-width=\"4\" fill=\"#808080\"></rect><rect x=\"187.8\" y=\"64.0\" width=\"10\" height=\"2\" stroke=\"#808080\" stroke-width=\"4\" fill=\"#808080\"></rect><rect x=\"208.20000000000002\" y=\"64.0\" width=\"10\" height=\"2\" stroke=\"#808080\" stroke-width=\"4\" fill=\"#808080\"></rect><rect x=\"228.6\" y=\"64.0\" width=\"10\" height=\"2\" stroke=\"#808080\" stroke-width=\"4\" fill=\"#808080\"></rect><rect x=\"249.0\" y=\"64.0\" width=\"10\" height=\"2\" stroke=\"#808080\" stroke-width=\"4\" fill=\"#808080\"></rect><rect x=\"269.4\" y=\"64.0\" width=\"10\" height=\"2\" stroke=\"#808080\" stroke-width=\"4\" fill=\"#808080\"></rect><rect x=\"289.79999999999995\" y=\"64.0\" width=\"10\" height=\"2\" stroke=\"#808080\" stroke-width=\"4\" fill=\"#808080\"></rect><rect x=\"310.2\" y=\"64.0\" width=\"10\" height=\"2\" stroke=\"#808080\" stroke-width=\"4\" fill=\"#808080\"></rect><rect x=\"330.6\" y=\"64.0\" width=\"10\" height=\"2\" stroke=\"#808080\" stroke-width=\"4\" fill=\"#808080\"></rect><rect x=\"351.0\" y=\"64.0\" width=\"10\" height=\"2\" stroke=\"#808080\" stroke-width=\"4\" fill=\"#808080\"></rect><rect x=\"371.40000000000003\" y=\"64.0\" width=\"10\" height=\"2\" stroke=\"#808080\" stroke-width=\"4\" fill=\"#808080\"></rect><rect x=\"391.8\" y=\"64.0\" width=\"10\" height=\"2\" stroke=\"#808080\" stroke-width=\"4\" fill=\"#808080\"></rect><rect x=\"412.2\" y=\"64.0\" width=\"10\" height=\"2\" stroke=\"#808080\" stroke-width=\"4\" fill=\"#808080\"></rect><rect x=\"432.6\" y=\"64.0\" width=\"10\" height=\"2\" stroke=\"#808080\" stroke-width=\"4\" fill=\"#808080\"></rect><rect x=\"453.0\" y=\"64.0\" width=\"10\" height=\"2\" stroke=\"#808080\" stroke-width=\"4\" fill=\"#808080\"></rect><rect x=\"473.4\" y=\"64.0\" width=\"10\" height=\"2\" stroke=\"#808080\" stroke-width=\"4\" fill=\"#808080\"></rect><rect x=\"493.8\" y=\"64.0\" width=\"10\" height=\"2\" stroke=\"#808080\" stroke-width=\"4\" fill=\"#808080\"></rect><rect x=\"514.2\" y=\"64.0\" width=\"10\" height=\"2\" stroke=\"#808080\" stroke-width=\"4\" fill=\"#808080\"></rect><rect x=\"534.5999999999999\" y=\"64.0\" width=\"10\" height=\"2\" stroke=\"#808080\" stroke-width=\"4\" fill=\"#808080\"></rect><rect x=\"555.0\" y=\"64.0\" width=\"10\" height=\"2\" stroke=\"#808080\" stroke-width=\"4\" fill=\"#808080\"></rect><rect x=\"575.4\" y=\"64.0\" width=\"10\" height=\"2\" stroke=\"#808080\" stroke-width=\"4\" fill=\"#808080\"></rect><rect x=\"595.8000000000001\" y=\"64.0\" width=\"10\" height=\"2\" stroke=\"#808080\" stroke-width=\"4\" fill=\"#808080\"></rect><rect x=\"616.2\" y=\"64.0\" width=\"10\" height=\"2\" stroke=\"#808080\" stroke-width=\"4\" fill=\"#808080\"></rect><rect x=\"636.5999999999999\" y=\"64.0\" width=\"10\" height=\"2\" stroke=\"#808080\" stroke-width=\"4\" fill=\"#808080\"></rect><rect x=\"657.0\" y=\"64.0\" width=\"10\" height=\"2\" stroke=\"#808080\" stroke-width=\"4\" fill=\"#808080\"></rect><rect x=\"677.4\" y=\"64.0\" width=\"10\" height=\"2\" stroke=\"#808080\" stroke-width=\"4\" fill=\"#808080\"></rect><rect x=\"697.8000000000001\" y=\"64.0\" width=\"10\" height=\"2\" stroke=\"#808080\" stroke-width=\"4\" fill=\"#808080\"></rect><rect x=\"718.2\" y=\"64.0\" width=\"10\" height=\"2\" stroke=\"#808080\" stroke-width=\"4\" fill=\"#808080\"></rect><rect x=\"738.6\" y=\"64.0\" width=\"10\" height=\"2\" stroke=\"#808080\" stroke-width=\"4\" fill=\"#808080\"></rect><rect x=\"759.0000000000001\" y=\"64.0\" width=\"10\" height=\"2\" stroke=\"#808080\" stroke-width=\"4\" fill=\"#808080\"></rect><rect x=\"779.4\" y=\"64.0\" width=\"10\" height=\"2\" stroke=\"#808080\" stroke-width=\"4\" fill=\"#808080\"></rect><rect x=\"799.8\" y=\"64.0\" width=\"10\" height=\"2\" stroke=\"#808080\" stroke-width=\"4\" fill=\"#808080\"></rect><rect x=\"820.2\" y=\"64.0\" width=\"10\" height=\"2\" stroke=\"#808080\" stroke-width=\"4\" fill=\"#808080\"></rect><rect x=\"840.6\" y=\"64.0\" width=\"10\" height=\"2\" stroke=\"#808080\" stroke-width=\"4\" fill=\"#808080\"></rect><rect x=\"861.0\" y=\"64.0\" width=\"10\" height=\"2\" stroke=\"#808080\" stroke-width=\"4\" fill=\"#808080\"></rect><rect x=\"881.4000000000001\" y=\"64.0\" width=\"10\" height=\"2\" stroke=\"#808080\" stroke-width=\"4\" fill=\"#808080\"></rect><rect x=\"901.8\" y=\"64.0\" width=\"10\" height=\"2\" stroke=\"#808080\" stroke-width=\"4\" fill=\"#808080\"></rect><rect x=\"922.1999999999999\" y=\"64.0\" width=\"10\" height=\"2\" stroke=\"#808080\" stroke-width=\"4\" fill=\"#808080\"></rect><rect x=\"942.6\" y=\"64.0\" width=\"10\" height=\"2\" stroke=\"#808080\" stroke-width=\"4\" fill=\"#808080\"></rect><rect x=\"963.0\" y=\"64.0\" width=\"10\" height=\"2\" stroke=\"#808080\" stroke-width=\"4\" fill=\"#808080\"></rect><rect x=\"983.4000000000001\" y=\"64.0\" width=\"10\" height=\"2\" stroke=\"#808080\" stroke-width=\"4\" fill=\"#808080\"></rect><rect x=\"1003.8000000000001\" y=\"64.0\" width=\"10\" height=\"2\" stroke=\"#808080\" stroke-width=\"4\" fill=\"#808080\"></rect><rect x=\"1024.1999999999998\" y=\"64.0\" width=\"10\" height=\"2\" stroke=\"#808080\" stroke-width=\"4\" fill=\"#808080\"></rect><rect x=\"1044.6\" y=\"64.0\" width=\"10\" height=\"2\" stroke=\"#808080\" stroke-width=\"4\" fill=\"#808080\"></rect><rect x=\"1065.0\" y=\"64.0\" width=\"10\" height=\"2\" stroke=\"#808080\" stroke-width=\"4\" fill=\"#808080\"></rect><g class=\"y-axis-line\"><rect x=\"0\" y=\"0\" width=\"65\" height=\"130\" stroke=\"transparent\" stroke-width=\"0\" fill=\"transparent\"></rect><text x=\"0\" y=\"19.0\" fill=\"transparent\" stroke=\"transparent\" font-size=\"25\">5.00</text><text x=\"0\" y=\"126.0\" fill=\"transparent\" stroke=\"transparent\" font-size=\"25\">−5.00</text></g><g class=\"vert-line\"><rect x=\"40.0\" y=\"0\" width=\"20\" height=\"130\" stroke=\"transparent\" stroke-width=\"12\" fill=\"transparent\"></rect><text x=\"60.0\" y=\"20\" fill=\"transparent\" stroke=\"transparent\" font-size=\"30px\">0</text></g><g class=\"vert-line\"><rect x=\"60.400000000000006\" y=\"0\" width=\"20\" height=\"130\" stroke=\"transparent\" stroke-width=\"12\" fill=\"transparent\"></rect><text x=\"80.4\" y=\"20\" fill=\"transparent\" stroke=\"transparent\" font-size=\"30px\">0</text></g><g class=\"vert-line\"><rect x=\"80.80000000000001\" y=\"0\" width=\"20\" height=\"130\" stroke=\"transparent\" stroke-width=\"12\" fill=\"transparent\"></rect><text x=\"100.80000000000001\" y=\"20\" fill=\"transparent\" stroke=\"transparent\" font-size=\"30px\">0</text></g><g class=\"vert-line\"><rect x=\"101.19999999999999\" y=\"0\" width=\"20\" height=\"130\" stroke=\"transparent\" stroke-width=\"12\" fill=\"transparent\"></rect><text x=\"121.19999999999999\" y=\"20\" fill=\"transparent\" stroke=\"transparent\" font-size=\"30px\">0</text></g><g class=\"vert-line\"><rect x=\"121.60000000000002\" y=\"0\" width=\"20\" height=\"130\" stroke=\"transparent\" stroke-width=\"12\" fill=\"transparent\"></rect><text x=\"141.60000000000002\" y=\"20\" fill=\"transparent\" stroke=\"transparent\" font-size=\"30px\">0</text></g><g class=\"vert-line\"><rect x=\"142.0\" y=\"0\" width=\"20\" height=\"130\" stroke=\"transparent\" stroke-width=\"12\" fill=\"transparent\"></rect><text x=\"162.0\" y=\"20\" fill=\"transparent\" stroke=\"transparent\" font-size=\"30px\">0</text></g><g class=\"vert-line\"><rect x=\"162.39999999999998\" y=\"0\" width=\"20\" height=\"130\" stroke=\"transparent\" stroke-width=\"12\" fill=\"transparent\"></rect><text x=\"182.39999999999998\" y=\"20\" fill=\"transparent\" stroke=\"transparent\" font-size=\"30px\">0</text></g><g class=\"vert-line\"><rect x=\"182.8\" y=\"0\" width=\"20\" height=\"130\" stroke=\"transparent\" stroke-width=\"12\" fill=\"transparent\"></rect><text x=\"202.8\" y=\"20\" fill=\"transparent\" stroke=\"transparent\" font-size=\"30px\">0</text></g><g class=\"vert-line\"><rect x=\"203.20000000000002\" y=\"0\" width=\"20\" height=\"130\" stroke=\"transparent\" stroke-width=\"12\" fill=\"transparent\"></rect><text x=\"223.20000000000002\" y=\"20\" fill=\"transparent\" stroke=\"transparent\" font-size=\"30px\">0</text></g><g class=\"vert-line\"><rect x=\"223.6\" y=\"0\" width=\"20\" height=\"130\" stroke=\"transparent\" stroke-width=\"12\" fill=\"transparent\"></rect><text x=\"243.6\" y=\"20\" fill=\"transparent\" stroke=\"transparent\" font-size=\"30px\">0</text></g><g class=\"vert-line\"><rect x=\"244.0\" y=\"0\" width=\"20\" height=\"130\" stroke=\"transparent\" stroke-width=\"12\" fill=\"transparent\"></rect><text x=\"264.0\" y=\"20\" fill=\"transparent\" stroke=\"transparent\" font-size=\"30px\">0</text></g><g class=\"vert-line\"><rect x=\"264.4\" y=\"0\" width=\"20\" height=\"130\" stroke=\"transparent\" stroke-width=\"12\" fill=\"transparent\"></rect><text x=\"284.4\" y=\"20\" fill=\"transparent\" stroke=\"transparent\" font-size=\"30px\">0</text></g><g class=\"vert-line\"><rect x=\"284.79999999999995\" y=\"0\" width=\"20\" height=\"130\" stroke=\"transparent\" stroke-width=\"12\" fill=\"transparent\"></rect><text x=\"304.79999999999995\" y=\"20\" fill=\"transparent\" stroke=\"transparent\" font-size=\"30px\">0</text></g><g class=\"vert-line\"><rect x=\"305.2\" y=\"0\" width=\"20\" height=\"130\" stroke=\"transparent\" stroke-width=\"12\" fill=\"transparent\"></rect><text x=\"325.2\" y=\"20\" fill=\"transparent\" stroke=\"transparent\" font-size=\"30px\">0</text></g><g class=\"vert-line\"><rect x=\"325.6\" y=\"0\" width=\"20\" height=\"130\" stroke=\"transparent\" stroke-width=\"12\" fill=\"transparent\"></rect><text x=\"345.6\" y=\"20\" fill=\"transparent\" stroke=\"transparent\" font-size=\"30px\">0</text></g><g class=\"vert-line\"><rect x=\"346.0\" y=\"0\" width=\"20\" height=\"130\" stroke=\"transparent\" stroke-width=\"12\" fill=\"transparent\"></rect><text x=\"366.0\" y=\"20\" fill=\"transparent\" stroke=\"transparent\" font-size=\"30px\">0</text></g><g class=\"vert-line\"><rect x=\"366.40000000000003\" y=\"0\" width=\"20\" height=\"130\" stroke=\"transparent\" stroke-width=\"12\" fill=\"transparent\"></rect><text x=\"386.40000000000003\" y=\"20\" fill=\"transparent\" stroke=\"transparent\" font-size=\"30px\">0</text></g><g class=\"vert-line\"><rect x=\"386.8\" y=\"0\" width=\"20\" height=\"130\" stroke=\"transparent\" stroke-width=\"12\" fill=\"transparent\"></rect><text x=\"406.8\" y=\"20\" fill=\"transparent\" stroke=\"transparent\" font-size=\"30px\">0</text></g><g class=\"vert-line\"><rect x=\"407.2\" y=\"0\" width=\"20\" height=\"130\" stroke=\"transparent\" stroke-width=\"12\" fill=\"transparent\"></rect><text x=\"427.2\" y=\"20\" fill=\"transparent\" stroke=\"transparent\" font-size=\"30px\">0</text></g><g class=\"vert-line\"><rect x=\"427.6\" y=\"0\" width=\"20\" height=\"130\" stroke=\"transparent\" stroke-width=\"12\" fill=\"transparent\"></rect><text x=\"447.6\" y=\"20\" fill=\"transparent\" stroke=\"transparent\" font-size=\"30px\">0</text></g><g class=\"vert-line\"><rect x=\"448.0\" y=\"0\" width=\"20\" height=\"130\" stroke=\"transparent\" stroke-width=\"12\" fill=\"transparent\"></rect><text x=\"468.0\" y=\"20\" fill=\"transparent\" stroke=\"transparent\" font-size=\"30px\">0</text></g><g class=\"vert-line\"><rect x=\"468.4\" y=\"0\" width=\"20\" height=\"130\" stroke=\"transparent\" stroke-width=\"12\" fill=\"transparent\"></rect><text x=\"488.4\" y=\"20\" fill=\"transparent\" stroke=\"transparent\" font-size=\"30px\">0</text></g><g class=\"vert-line\"><rect x=\"488.8\" y=\"0\" width=\"20\" height=\"130\" stroke=\"transparent\" stroke-width=\"12\" fill=\"transparent\"></rect><text x=\"508.8\" y=\"20\" fill=\"transparent\" stroke=\"transparent\" font-size=\"30px\">0</text></g><g class=\"vert-line\"><rect x=\"509.20000000000005\" y=\"0\" width=\"20\" height=\"130\" stroke=\"transparent\" stroke-width=\"12\" fill=\"transparent\"></rect><text x=\"529.2\" y=\"20\" fill=\"transparent\" stroke=\"transparent\" font-size=\"30px\">0</text></g><g class=\"vert-line\"><rect x=\"529.5999999999999\" y=\"0\" width=\"20\" height=\"130\" stroke=\"transparent\" stroke-width=\"12\" fill=\"transparent\"></rect><text x=\"549.5999999999999\" y=\"20\" fill=\"transparent\" stroke=\"transparent\" font-size=\"30px\">0</text></g><g class=\"vert-line\"><rect x=\"550.0\" y=\"0\" width=\"20\" height=\"130\" stroke=\"transparent\" stroke-width=\"12\" fill=\"transparent\"></rect><text x=\"570.0\" y=\"20\" fill=\"transparent\" stroke=\"transparent\" font-size=\"30px\">0</text></g><g class=\"vert-line\"><rect x=\"570.4\" y=\"0\" width=\"20\" height=\"130\" stroke=\"transparent\" stroke-width=\"12\" fill=\"transparent\"></rect><text x=\"590.4\" y=\"20\" fill=\"transparent\" stroke=\"transparent\" font-size=\"30px\">0</text></g><g class=\"vert-line\"><rect x=\"590.8000000000001\" y=\"0\" width=\"20\" height=\"130\" stroke=\"transparent\" stroke-width=\"12\" fill=\"transparent\"></rect><text x=\"610.8000000000001\" y=\"20\" fill=\"transparent\" stroke=\"transparent\" font-size=\"30px\">0</text></g><g class=\"vert-line\"><rect x=\"611.2\" y=\"0\" width=\"20\" height=\"130\" stroke=\"transparent\" stroke-width=\"12\" fill=\"transparent\"></rect><text x=\"631.2\" y=\"20\" fill=\"transparent\" stroke=\"transparent\" font-size=\"30px\">0</text></g><g class=\"vert-line\"><rect x=\"631.5999999999999\" y=\"0\" width=\"20\" height=\"130\" stroke=\"transparent\" stroke-width=\"12\" fill=\"transparent\"></rect><text x=\"651.5999999999999\" y=\"20\" fill=\"transparent\" stroke=\"transparent\" font-size=\"30px\">0</text></g><g class=\"vert-line\"><rect x=\"652.0\" y=\"0\" width=\"20\" height=\"130\" stroke=\"transparent\" stroke-width=\"12\" fill=\"transparent\"></rect><text x=\"672.0\" y=\"20\" fill=\"transparent\" stroke=\"transparent\" font-size=\"30px\">0</text></g><g class=\"vert-line\"><rect x=\"672.4\" y=\"0\" width=\"20\" height=\"130\" stroke=\"transparent\" stroke-width=\"12\" fill=\"transparent\"></rect><text x=\"692.4\" y=\"20\" fill=\"transparent\" stroke=\"transparent\" font-size=\"30px\">0</text></g><g class=\"vert-line\"><rect x=\"692.8000000000001\" y=\"0\" width=\"20\" height=\"130\" stroke=\"transparent\" stroke-width=\"12\" fill=\"transparent\"></rect><text x=\"712.8000000000001\" y=\"20\" fill=\"transparent\" stroke=\"transparent\" font-size=\"30px\">0</text></g><g class=\"vert-line\"><rect x=\"713.2\" y=\"0\" width=\"20\" height=\"130\" stroke=\"transparent\" stroke-width=\"12\" fill=\"transparent\"></rect><text x=\"733.2\" y=\"20\" fill=\"transparent\" stroke=\"transparent\" font-size=\"30px\">0</text></g><g class=\"vert-line\"><rect x=\"733.6\" y=\"0\" width=\"20\" height=\"130\" stroke=\"transparent\" stroke-width=\"12\" fill=\"transparent\"></rect><text x=\"753.6\" y=\"20\" fill=\"transparent\" stroke=\"transparent\" font-size=\"30px\">0</text></g><g class=\"vert-line\"><rect x=\"754.0000000000001\" y=\"0\" width=\"20\" height=\"130\" stroke=\"transparent\" stroke-width=\"12\" fill=\"transparent\"></rect><text x=\"774.0000000000001\" y=\"20\" fill=\"transparent\" stroke=\"transparent\" font-size=\"30px\">0</text></g><g class=\"vert-line\"><rect x=\"774.4\" y=\"0\" width=\"20\" height=\"130\" stroke=\"transparent\" stroke-width=\"12\" fill=\"transparent\"></rect><text x=\"794.4\" y=\"20\" fill=\"transparent\" stroke=\"transparent\" font-size=\"30px\">0</text></g><g class=\"vert-line\"><rect x=\"794.8\" y=\"0\" width=\"20\" height=\"130\" stroke=\"transparent\" stroke-width=\"12\" fill=\"transparent\"></rect><text x=\"814.8\" y=\"20\" fill=\"transparent\" stroke=\"transparent\" font-size=\"30px\">0</text></g><g class=\"vert-line\"><rect x=\"815.2\" y=\"0\" width=\"20\" height=\"130\" stroke=\"transparent\" stroke-width=\"12\" fill=\"transparent\"></rect><text x=\"835.2\" y=\"20\" fill=\"transparent\" stroke=\"transparent\" font-size=\"30px\">0</text></g><g class=\"vert-line\"><rect x=\"835.6\" y=\"0\" width=\"20\" height=\"130\" stroke=\"transparent\" stroke-width=\"12\" fill=\"transparent\"></rect><text x=\"855.6\" y=\"20\" fill=\"transparent\" stroke=\"transparent\" font-size=\"30px\">0</text></g><g class=\"vert-line\"><rect x=\"856.0\" y=\"0\" width=\"20\" height=\"130\" stroke=\"transparent\" stroke-width=\"12\" fill=\"transparent\"></rect><text x=\"876.0\" y=\"20\" fill=\"transparent\" stroke=\"transparent\" font-size=\"30px\">0</text></g><g class=\"vert-line\"><rect x=\"876.4000000000001\" y=\"0\" width=\"20\" height=\"130\" stroke=\"transparent\" stroke-width=\"12\" fill=\"transparent\"></rect><text x=\"896.4000000000001\" y=\"20\" fill=\"transparent\" stroke=\"transparent\" font-size=\"30px\">0</text></g><g class=\"vert-line\"><rect x=\"896.8\" y=\"0\" width=\"20\" height=\"130\" stroke=\"transparent\" stroke-width=\"12\" fill=\"transparent\"></rect><text x=\"916.8\" y=\"20\" fill=\"transparent\" stroke=\"transparent\" font-size=\"30px\">0</text></g><g class=\"vert-line\"><rect x=\"917.1999999999999\" y=\"0\" width=\"20\" height=\"130\" stroke=\"transparent\" stroke-width=\"12\" fill=\"transparent\"></rect><text x=\"937.1999999999999\" y=\"20\" fill=\"transparent\" stroke=\"transparent\" font-size=\"30px\">0</text></g><g class=\"vert-line\"><rect x=\"937.6\" y=\"0\" width=\"20\" height=\"130\" stroke=\"transparent\" stroke-width=\"12\" fill=\"transparent\"></rect><text x=\"957.6\" y=\"20\" fill=\"transparent\" stroke=\"transparent\" font-size=\"30px\">0</text></g><g class=\"vert-line\"><rect x=\"958.0\" y=\"0\" width=\"20\" height=\"130\" stroke=\"transparent\" stroke-width=\"12\" fill=\"transparent\"></rect><text x=\"978.0\" y=\"20\" fill=\"transparent\" stroke=\"transparent\" font-size=\"30px\">0</text></g><g class=\"vert-line\"><rect x=\"978.4000000000001\" y=\"0\" width=\"20\" height=\"130\" stroke=\"transparent\" stroke-width=\"12\" fill=\"transparent\"></rect><text x=\"998.4000000000001\" y=\"20\" fill=\"transparent\" stroke=\"transparent\" font-size=\"30px\">0</text></g><g class=\"vert-line\"><rect x=\"998.8000000000001\" y=\"0\" width=\"20\" height=\"130\" stroke=\"transparent\" stroke-width=\"12\" fill=\"transparent\"></rect><text x=\"1018.8000000000001\" y=\"20\" fill=\"transparent\" stroke=\"transparent\" font-size=\"30px\">0</text></g><g class=\"vert-line\"><rect x=\"1019.1999999999998\" y=\"0\" width=\"20\" height=\"130\" stroke=\"transparent\" stroke-width=\"12\" fill=\"transparent\"></rect><text x=\"1039.1999999999998\" y=\"20\" fill=\"transparent\" stroke=\"transparent\" font-size=\"30px\">0</text></g><g class=\"vert-line\"><rect x=\"1039.6\" y=\"0\" width=\"20\" height=\"130\" stroke=\"transparent\" stroke-width=\"12\" fill=\"transparent\"></rect><text x=\"1059.6\" y=\"20\" fill=\"transparent\" stroke=\"transparent\" font-size=\"30px\">0</text></g><g class=\"vert-line\"><rect x=\"1060.0\" y=\"0\" width=\"20\" height=\"130\" stroke=\"transparent\" stroke-width=\"12\" fill=\"transparent\"></rect><text x=\"1080.0\" y=\"20\" fill=\"transparent\" stroke=\"transparent\" font-size=\"30px\">0</text></g></svg></div></td>\n",
       "  <td class=\"gt_row gt_right\">0.00%</td>\n",
       "</tr>\n",
       "<tr>\n",
       "  <th class=\"gt_row gt_left gt_stub\">Approved</th>\n",
       "  <td class=\"gt_row gt_center\"><div><svg role=\"img\" viewBox=\"0 0 1120 130\" style=\"height: 2em; margin-left: auto; margin-right: auto; font-size: inherit; overflow: visible; vertical-align: middle; position:relative;\"><defs><pattern id=\"area_pattern\" width=\"8\" height=\"8\" patternUnits=\"userSpaceOnUse\"><path class=\"pattern-line\" d=\"M 0,8 l 8,-8 M -1,1 l 4,-4 M 6,10 l 4,-4\" stroke=\"#FF0000\" stroke-width=\"1.5\" stroke-linecap=\"round\" shape-rendering=\"geometricPrecision\"></path></pattern></defs><style> text { font-family: ui-monospace, 'Cascadia Code', 'Source Code Pro', Menlo, Consolas, 'DejaVu Sans Mono', monospace; stroke-width: 0.15em; paint-order: stroke; stroke-linejoin: round; cursor: default; } .vert-line:hover rect { fill: #911EB4; fill-opacity: 40%; stroke: #FFFFFF60; color: red; } .vert-line:hover text { stroke: white; fill: #212427; } .horizontal-line:hover text {stroke: white; fill: #212427; } .ref-line:hover rect { stroke: #FFFFFF60; } .ref-line:hover line { stroke: #FF0000; } .ref-line:hover text { stroke: white; fill: #212427; } .y-axis-line:hover rect { fill: #EDEDED; fill-opacity: 60%; stroke: #FFFFFF60; color: red; } .y-axis-line:hover text { stroke: white; stroke-width: 0.20em; fill: #1A1C1F; } </style><line x1=\"22.5\" y1=\"65.0\" x2=\"1097.5\" y2=\"65.0\" stroke=\"#BFBFBF\" stroke-width=\"4\"></line><rect x=\"45.0\" y=\"64.0\" width=\"10\" height=\"2\" stroke=\"#808080\" stroke-width=\"4\" fill=\"#808080\"></rect><rect x=\"65.4\" y=\"64.0\" width=\"10\" height=\"2\" stroke=\"#808080\" stroke-width=\"4\" fill=\"#808080\"></rect><rect x=\"85.80000000000001\" y=\"64.0\" width=\"10\" height=\"2\" stroke=\"#808080\" stroke-width=\"4\" fill=\"#808080\"></rect><rect x=\"106.19999999999999\" y=\"64.0\" width=\"10\" height=\"2\" stroke=\"#808080\" stroke-width=\"4\" fill=\"#808080\"></rect><rect x=\"126.60000000000002\" y=\"64.0\" width=\"10\" height=\"2\" stroke=\"#808080\" stroke-width=\"4\" fill=\"#808080\"></rect><rect x=\"147.0\" y=\"64.0\" width=\"10\" height=\"2\" stroke=\"#808080\" stroke-width=\"4\" fill=\"#808080\"></rect><rect x=\"167.39999999999998\" y=\"64.0\" width=\"10\" height=\"2\" stroke=\"#808080\" stroke-width=\"4\" fill=\"#808080\"></rect><rect x=\"187.8\" y=\"64.0\" width=\"10\" height=\"2\" stroke=\"#808080\" stroke-width=\"4\" fill=\"#808080\"></rect><rect x=\"208.20000000000002\" y=\"64.0\" width=\"10\" height=\"2\" stroke=\"#808080\" stroke-width=\"4\" fill=\"#808080\"></rect><rect x=\"228.6\" y=\"64.0\" width=\"10\" height=\"2\" stroke=\"#808080\" stroke-width=\"4\" fill=\"#808080\"></rect><rect x=\"249.0\" y=\"64.0\" width=\"10\" height=\"2\" stroke=\"#808080\" stroke-width=\"4\" fill=\"#808080\"></rect><rect x=\"269.4\" y=\"64.0\" width=\"10\" height=\"2\" stroke=\"#808080\" stroke-width=\"4\" fill=\"#808080\"></rect><rect x=\"289.79999999999995\" y=\"64.0\" width=\"10\" height=\"2\" stroke=\"#808080\" stroke-width=\"4\" fill=\"#808080\"></rect><rect x=\"310.2\" y=\"64.0\" width=\"10\" height=\"2\" stroke=\"#808080\" stroke-width=\"4\" fill=\"#808080\"></rect><rect x=\"330.6\" y=\"64.0\" width=\"10\" height=\"2\" stroke=\"#808080\" stroke-width=\"4\" fill=\"#808080\"></rect><rect x=\"351.0\" y=\"64.0\" width=\"10\" height=\"2\" stroke=\"#808080\" stroke-width=\"4\" fill=\"#808080\"></rect><rect x=\"371.40000000000003\" y=\"64.0\" width=\"10\" height=\"2\" stroke=\"#808080\" stroke-width=\"4\" fill=\"#808080\"></rect><rect x=\"391.8\" y=\"64.0\" width=\"10\" height=\"2\" stroke=\"#808080\" stroke-width=\"4\" fill=\"#808080\"></rect><rect x=\"412.2\" y=\"64.0\" width=\"10\" height=\"2\" stroke=\"#808080\" stroke-width=\"4\" fill=\"#808080\"></rect><rect x=\"432.6\" y=\"64.0\" width=\"10\" height=\"2\" stroke=\"#808080\" stroke-width=\"4\" fill=\"#808080\"></rect><rect x=\"453.0\" y=\"64.0\" width=\"10\" height=\"2\" stroke=\"#808080\" stroke-width=\"4\" fill=\"#808080\"></rect><rect x=\"473.4\" y=\"64.0\" width=\"10\" height=\"2\" stroke=\"#808080\" stroke-width=\"4\" fill=\"#808080\"></rect><rect x=\"493.8\" y=\"64.0\" width=\"10\" height=\"2\" stroke=\"#808080\" stroke-width=\"4\" fill=\"#808080\"></rect><rect x=\"514.2\" y=\"64.0\" width=\"10\" height=\"2\" stroke=\"#808080\" stroke-width=\"4\" fill=\"#808080\"></rect><rect x=\"534.5999999999999\" y=\"64.0\" width=\"10\" height=\"2\" stroke=\"#808080\" stroke-width=\"4\" fill=\"#808080\"></rect><rect x=\"555.0\" y=\"64.0\" width=\"10\" height=\"2\" stroke=\"#808080\" stroke-width=\"4\" fill=\"#808080\"></rect><rect x=\"575.4\" y=\"64.0\" width=\"10\" height=\"2\" stroke=\"#808080\" stroke-width=\"4\" fill=\"#808080\"></rect><rect x=\"595.8000000000001\" y=\"64.0\" width=\"10\" height=\"2\" stroke=\"#808080\" stroke-width=\"4\" fill=\"#808080\"></rect><rect x=\"616.2\" y=\"64.0\" width=\"10\" height=\"2\" stroke=\"#808080\" stroke-width=\"4\" fill=\"#808080\"></rect><rect x=\"636.5999999999999\" y=\"64.0\" width=\"10\" height=\"2\" stroke=\"#808080\" stroke-width=\"4\" fill=\"#808080\"></rect><rect x=\"657.0\" y=\"64.0\" width=\"10\" height=\"2\" stroke=\"#808080\" stroke-width=\"4\" fill=\"#808080\"></rect><rect x=\"677.4\" y=\"64.0\" width=\"10\" height=\"2\" stroke=\"#808080\" stroke-width=\"4\" fill=\"#808080\"></rect><rect x=\"697.8000000000001\" y=\"64.0\" width=\"10\" height=\"2\" stroke=\"#808080\" stroke-width=\"4\" fill=\"#808080\"></rect><rect x=\"718.2\" y=\"64.0\" width=\"10\" height=\"2\" stroke=\"#808080\" stroke-width=\"4\" fill=\"#808080\"></rect><rect x=\"738.6\" y=\"64.0\" width=\"10\" height=\"2\" stroke=\"#808080\" stroke-width=\"4\" fill=\"#808080\"></rect><rect x=\"759.0000000000001\" y=\"64.0\" width=\"10\" height=\"2\" stroke=\"#808080\" stroke-width=\"4\" fill=\"#808080\"></rect><rect x=\"779.4\" y=\"64.0\" width=\"10\" height=\"2\" stroke=\"#808080\" stroke-width=\"4\" fill=\"#808080\"></rect><rect x=\"799.8\" y=\"64.0\" width=\"10\" height=\"2\" stroke=\"#808080\" stroke-width=\"4\" fill=\"#808080\"></rect><rect x=\"820.2\" y=\"64.0\" width=\"10\" height=\"2\" stroke=\"#808080\" stroke-width=\"4\" fill=\"#808080\"></rect><rect x=\"840.6\" y=\"64.0\" width=\"10\" height=\"2\" stroke=\"#808080\" stroke-width=\"4\" fill=\"#808080\"></rect><rect x=\"861.0\" y=\"64.0\" width=\"10\" height=\"2\" stroke=\"#808080\" stroke-width=\"4\" fill=\"#808080\"></rect><rect x=\"881.4000000000001\" y=\"64.0\" width=\"10\" height=\"2\" stroke=\"#808080\" stroke-width=\"4\" fill=\"#808080\"></rect><rect x=\"901.8\" y=\"64.0\" width=\"10\" height=\"2\" stroke=\"#808080\" stroke-width=\"4\" fill=\"#808080\"></rect><rect x=\"922.1999999999999\" y=\"64.0\" width=\"10\" height=\"2\" stroke=\"#808080\" stroke-width=\"4\" fill=\"#808080\"></rect><rect x=\"942.6\" y=\"64.0\" width=\"10\" height=\"2\" stroke=\"#808080\" stroke-width=\"4\" fill=\"#808080\"></rect><rect x=\"963.0\" y=\"64.0\" width=\"10\" height=\"2\" stroke=\"#808080\" stroke-width=\"4\" fill=\"#808080\"></rect><rect x=\"983.4000000000001\" y=\"64.0\" width=\"10\" height=\"2\" stroke=\"#808080\" stroke-width=\"4\" fill=\"#808080\"></rect><rect x=\"1003.8000000000001\" y=\"64.0\" width=\"10\" height=\"2\" stroke=\"#808080\" stroke-width=\"4\" fill=\"#808080\"></rect><rect x=\"1024.1999999999998\" y=\"64.0\" width=\"10\" height=\"2\" stroke=\"#808080\" stroke-width=\"4\" fill=\"#808080\"></rect><rect x=\"1044.6\" y=\"64.0\" width=\"10\" height=\"2\" stroke=\"#808080\" stroke-width=\"4\" fill=\"#808080\"></rect><rect x=\"1065.0\" y=\"64.0\" width=\"10\" height=\"2\" stroke=\"#808080\" stroke-width=\"4\" fill=\"#808080\"></rect><g class=\"y-axis-line\"><rect x=\"0\" y=\"0\" width=\"65\" height=\"130\" stroke=\"transparent\" stroke-width=\"0\" fill=\"transparent\"></rect><text x=\"0\" y=\"19.0\" fill=\"transparent\" stroke=\"transparent\" font-size=\"25\">5.00</text><text x=\"0\" y=\"126.0\" fill=\"transparent\" stroke=\"transparent\" font-size=\"25\">−5.00</text></g><g class=\"vert-line\"><rect x=\"40.0\" y=\"0\" width=\"20\" height=\"130\" stroke=\"transparent\" stroke-width=\"12\" fill=\"transparent\"></rect><text x=\"60.0\" y=\"20\" fill=\"transparent\" stroke=\"transparent\" font-size=\"30px\">0</text></g><g class=\"vert-line\"><rect x=\"60.400000000000006\" y=\"0\" width=\"20\" height=\"130\" stroke=\"transparent\" stroke-width=\"12\" fill=\"transparent\"></rect><text x=\"80.4\" y=\"20\" fill=\"transparent\" stroke=\"transparent\" font-size=\"30px\">0</text></g><g class=\"vert-line\"><rect x=\"80.80000000000001\" y=\"0\" width=\"20\" height=\"130\" stroke=\"transparent\" stroke-width=\"12\" fill=\"transparent\"></rect><text x=\"100.80000000000001\" y=\"20\" fill=\"transparent\" stroke=\"transparent\" font-size=\"30px\">0</text></g><g class=\"vert-line\"><rect x=\"101.19999999999999\" y=\"0\" width=\"20\" height=\"130\" stroke=\"transparent\" stroke-width=\"12\" fill=\"transparent\"></rect><text x=\"121.19999999999999\" y=\"20\" fill=\"transparent\" stroke=\"transparent\" font-size=\"30px\">0</text></g><g class=\"vert-line\"><rect x=\"121.60000000000002\" y=\"0\" width=\"20\" height=\"130\" stroke=\"transparent\" stroke-width=\"12\" fill=\"transparent\"></rect><text x=\"141.60000000000002\" y=\"20\" fill=\"transparent\" stroke=\"transparent\" font-size=\"30px\">0</text></g><g class=\"vert-line\"><rect x=\"142.0\" y=\"0\" width=\"20\" height=\"130\" stroke=\"transparent\" stroke-width=\"12\" fill=\"transparent\"></rect><text x=\"162.0\" y=\"20\" fill=\"transparent\" stroke=\"transparent\" font-size=\"30px\">0</text></g><g class=\"vert-line\"><rect x=\"162.39999999999998\" y=\"0\" width=\"20\" height=\"130\" stroke=\"transparent\" stroke-width=\"12\" fill=\"transparent\"></rect><text x=\"182.39999999999998\" y=\"20\" fill=\"transparent\" stroke=\"transparent\" font-size=\"30px\">0</text></g><g class=\"vert-line\"><rect x=\"182.8\" y=\"0\" width=\"20\" height=\"130\" stroke=\"transparent\" stroke-width=\"12\" fill=\"transparent\"></rect><text x=\"202.8\" y=\"20\" fill=\"transparent\" stroke=\"transparent\" font-size=\"30px\">0</text></g><g class=\"vert-line\"><rect x=\"203.20000000000002\" y=\"0\" width=\"20\" height=\"130\" stroke=\"transparent\" stroke-width=\"12\" fill=\"transparent\"></rect><text x=\"223.20000000000002\" y=\"20\" fill=\"transparent\" stroke=\"transparent\" font-size=\"30px\">0</text></g><g class=\"vert-line\"><rect x=\"223.6\" y=\"0\" width=\"20\" height=\"130\" stroke=\"transparent\" stroke-width=\"12\" fill=\"transparent\"></rect><text x=\"243.6\" y=\"20\" fill=\"transparent\" stroke=\"transparent\" font-size=\"30px\">0</text></g><g class=\"vert-line\"><rect x=\"244.0\" y=\"0\" width=\"20\" height=\"130\" stroke=\"transparent\" stroke-width=\"12\" fill=\"transparent\"></rect><text x=\"264.0\" y=\"20\" fill=\"transparent\" stroke=\"transparent\" font-size=\"30px\">0</text></g><g class=\"vert-line\"><rect x=\"264.4\" y=\"0\" width=\"20\" height=\"130\" stroke=\"transparent\" stroke-width=\"12\" fill=\"transparent\"></rect><text x=\"284.4\" y=\"20\" fill=\"transparent\" stroke=\"transparent\" font-size=\"30px\">0</text></g><g class=\"vert-line\"><rect x=\"284.79999999999995\" y=\"0\" width=\"20\" height=\"130\" stroke=\"transparent\" stroke-width=\"12\" fill=\"transparent\"></rect><text x=\"304.79999999999995\" y=\"20\" fill=\"transparent\" stroke=\"transparent\" font-size=\"30px\">0</text></g><g class=\"vert-line\"><rect x=\"305.2\" y=\"0\" width=\"20\" height=\"130\" stroke=\"transparent\" stroke-width=\"12\" fill=\"transparent\"></rect><text x=\"325.2\" y=\"20\" fill=\"transparent\" stroke=\"transparent\" font-size=\"30px\">0</text></g><g class=\"vert-line\"><rect x=\"325.6\" y=\"0\" width=\"20\" height=\"130\" stroke=\"transparent\" stroke-width=\"12\" fill=\"transparent\"></rect><text x=\"345.6\" y=\"20\" fill=\"transparent\" stroke=\"transparent\" font-size=\"30px\">0</text></g><g class=\"vert-line\"><rect x=\"346.0\" y=\"0\" width=\"20\" height=\"130\" stroke=\"transparent\" stroke-width=\"12\" fill=\"transparent\"></rect><text x=\"366.0\" y=\"20\" fill=\"transparent\" stroke=\"transparent\" font-size=\"30px\">0</text></g><g class=\"vert-line\"><rect x=\"366.40000000000003\" y=\"0\" width=\"20\" height=\"130\" stroke=\"transparent\" stroke-width=\"12\" fill=\"transparent\"></rect><text x=\"386.40000000000003\" y=\"20\" fill=\"transparent\" stroke=\"transparent\" font-size=\"30px\">0</text></g><g class=\"vert-line\"><rect x=\"386.8\" y=\"0\" width=\"20\" height=\"130\" stroke=\"transparent\" stroke-width=\"12\" fill=\"transparent\"></rect><text x=\"406.8\" y=\"20\" fill=\"transparent\" stroke=\"transparent\" font-size=\"30px\">0</text></g><g class=\"vert-line\"><rect x=\"407.2\" y=\"0\" width=\"20\" height=\"130\" stroke=\"transparent\" stroke-width=\"12\" fill=\"transparent\"></rect><text x=\"427.2\" y=\"20\" fill=\"transparent\" stroke=\"transparent\" font-size=\"30px\">0</text></g><g class=\"vert-line\"><rect x=\"427.6\" y=\"0\" width=\"20\" height=\"130\" stroke=\"transparent\" stroke-width=\"12\" fill=\"transparent\"></rect><text x=\"447.6\" y=\"20\" fill=\"transparent\" stroke=\"transparent\" font-size=\"30px\">0</text></g><g class=\"vert-line\"><rect x=\"448.0\" y=\"0\" width=\"20\" height=\"130\" stroke=\"transparent\" stroke-width=\"12\" fill=\"transparent\"></rect><text x=\"468.0\" y=\"20\" fill=\"transparent\" stroke=\"transparent\" font-size=\"30px\">0</text></g><g class=\"vert-line\"><rect x=\"468.4\" y=\"0\" width=\"20\" height=\"130\" stroke=\"transparent\" stroke-width=\"12\" fill=\"transparent\"></rect><text x=\"488.4\" y=\"20\" fill=\"transparent\" stroke=\"transparent\" font-size=\"30px\">0</text></g><g class=\"vert-line\"><rect x=\"488.8\" y=\"0\" width=\"20\" height=\"130\" stroke=\"transparent\" stroke-width=\"12\" fill=\"transparent\"></rect><text x=\"508.8\" y=\"20\" fill=\"transparent\" stroke=\"transparent\" font-size=\"30px\">0</text></g><g class=\"vert-line\"><rect x=\"509.20000000000005\" y=\"0\" width=\"20\" height=\"130\" stroke=\"transparent\" stroke-width=\"12\" fill=\"transparent\"></rect><text x=\"529.2\" y=\"20\" fill=\"transparent\" stroke=\"transparent\" font-size=\"30px\">0</text></g><g class=\"vert-line\"><rect x=\"529.5999999999999\" y=\"0\" width=\"20\" height=\"130\" stroke=\"transparent\" stroke-width=\"12\" fill=\"transparent\"></rect><text x=\"549.5999999999999\" y=\"20\" fill=\"transparent\" stroke=\"transparent\" font-size=\"30px\">0</text></g><g class=\"vert-line\"><rect x=\"550.0\" y=\"0\" width=\"20\" height=\"130\" stroke=\"transparent\" stroke-width=\"12\" fill=\"transparent\"></rect><text x=\"570.0\" y=\"20\" fill=\"transparent\" stroke=\"transparent\" font-size=\"30px\">0</text></g><g class=\"vert-line\"><rect x=\"570.4\" y=\"0\" width=\"20\" height=\"130\" stroke=\"transparent\" stroke-width=\"12\" fill=\"transparent\"></rect><text x=\"590.4\" y=\"20\" fill=\"transparent\" stroke=\"transparent\" font-size=\"30px\">0</text></g><g class=\"vert-line\"><rect x=\"590.8000000000001\" y=\"0\" width=\"20\" height=\"130\" stroke=\"transparent\" stroke-width=\"12\" fill=\"transparent\"></rect><text x=\"610.8000000000001\" y=\"20\" fill=\"transparent\" stroke=\"transparent\" font-size=\"30px\">0</text></g><g class=\"vert-line\"><rect x=\"611.2\" y=\"0\" width=\"20\" height=\"130\" stroke=\"transparent\" stroke-width=\"12\" fill=\"transparent\"></rect><text x=\"631.2\" y=\"20\" fill=\"transparent\" stroke=\"transparent\" font-size=\"30px\">0</text></g><g class=\"vert-line\"><rect x=\"631.5999999999999\" y=\"0\" width=\"20\" height=\"130\" stroke=\"transparent\" stroke-width=\"12\" fill=\"transparent\"></rect><text x=\"651.5999999999999\" y=\"20\" fill=\"transparent\" stroke=\"transparent\" font-size=\"30px\">0</text></g><g class=\"vert-line\"><rect x=\"652.0\" y=\"0\" width=\"20\" height=\"130\" stroke=\"transparent\" stroke-width=\"12\" fill=\"transparent\"></rect><text x=\"672.0\" y=\"20\" fill=\"transparent\" stroke=\"transparent\" font-size=\"30px\">0</text></g><g class=\"vert-line\"><rect x=\"672.4\" y=\"0\" width=\"20\" height=\"130\" stroke=\"transparent\" stroke-width=\"12\" fill=\"transparent\"></rect><text x=\"692.4\" y=\"20\" fill=\"transparent\" stroke=\"transparent\" font-size=\"30px\">0</text></g><g class=\"vert-line\"><rect x=\"692.8000000000001\" y=\"0\" width=\"20\" height=\"130\" stroke=\"transparent\" stroke-width=\"12\" fill=\"transparent\"></rect><text x=\"712.8000000000001\" y=\"20\" fill=\"transparent\" stroke=\"transparent\" font-size=\"30px\">0</text></g><g class=\"vert-line\"><rect x=\"713.2\" y=\"0\" width=\"20\" height=\"130\" stroke=\"transparent\" stroke-width=\"12\" fill=\"transparent\"></rect><text x=\"733.2\" y=\"20\" fill=\"transparent\" stroke=\"transparent\" font-size=\"30px\">0</text></g><g class=\"vert-line\"><rect x=\"733.6\" y=\"0\" width=\"20\" height=\"130\" stroke=\"transparent\" stroke-width=\"12\" fill=\"transparent\"></rect><text x=\"753.6\" y=\"20\" fill=\"transparent\" stroke=\"transparent\" font-size=\"30px\">0</text></g><g class=\"vert-line\"><rect x=\"754.0000000000001\" y=\"0\" width=\"20\" height=\"130\" stroke=\"transparent\" stroke-width=\"12\" fill=\"transparent\"></rect><text x=\"774.0000000000001\" y=\"20\" fill=\"transparent\" stroke=\"transparent\" font-size=\"30px\">0</text></g><g class=\"vert-line\"><rect x=\"774.4\" y=\"0\" width=\"20\" height=\"130\" stroke=\"transparent\" stroke-width=\"12\" fill=\"transparent\"></rect><text x=\"794.4\" y=\"20\" fill=\"transparent\" stroke=\"transparent\" font-size=\"30px\">0</text></g><g class=\"vert-line\"><rect x=\"794.8\" y=\"0\" width=\"20\" height=\"130\" stroke=\"transparent\" stroke-width=\"12\" fill=\"transparent\"></rect><text x=\"814.8\" y=\"20\" fill=\"transparent\" stroke=\"transparent\" font-size=\"30px\">0</text></g><g class=\"vert-line\"><rect x=\"815.2\" y=\"0\" width=\"20\" height=\"130\" stroke=\"transparent\" stroke-width=\"12\" fill=\"transparent\"></rect><text x=\"835.2\" y=\"20\" fill=\"transparent\" stroke=\"transparent\" font-size=\"30px\">0</text></g><g class=\"vert-line\"><rect x=\"835.6\" y=\"0\" width=\"20\" height=\"130\" stroke=\"transparent\" stroke-width=\"12\" fill=\"transparent\"></rect><text x=\"855.6\" y=\"20\" fill=\"transparent\" stroke=\"transparent\" font-size=\"30px\">0</text></g><g class=\"vert-line\"><rect x=\"856.0\" y=\"0\" width=\"20\" height=\"130\" stroke=\"transparent\" stroke-width=\"12\" fill=\"transparent\"></rect><text x=\"876.0\" y=\"20\" fill=\"transparent\" stroke=\"transparent\" font-size=\"30px\">0</text></g><g class=\"vert-line\"><rect x=\"876.4000000000001\" y=\"0\" width=\"20\" height=\"130\" stroke=\"transparent\" stroke-width=\"12\" fill=\"transparent\"></rect><text x=\"896.4000000000001\" y=\"20\" fill=\"transparent\" stroke=\"transparent\" font-size=\"30px\">0</text></g><g class=\"vert-line\"><rect x=\"896.8\" y=\"0\" width=\"20\" height=\"130\" stroke=\"transparent\" stroke-width=\"12\" fill=\"transparent\"></rect><text x=\"916.8\" y=\"20\" fill=\"transparent\" stroke=\"transparent\" font-size=\"30px\">0</text></g><g class=\"vert-line\"><rect x=\"917.1999999999999\" y=\"0\" width=\"20\" height=\"130\" stroke=\"transparent\" stroke-width=\"12\" fill=\"transparent\"></rect><text x=\"937.1999999999999\" y=\"20\" fill=\"transparent\" stroke=\"transparent\" font-size=\"30px\">0</text></g><g class=\"vert-line\"><rect x=\"937.6\" y=\"0\" width=\"20\" height=\"130\" stroke=\"transparent\" stroke-width=\"12\" fill=\"transparent\"></rect><text x=\"957.6\" y=\"20\" fill=\"transparent\" stroke=\"transparent\" font-size=\"30px\">0</text></g><g class=\"vert-line\"><rect x=\"958.0\" y=\"0\" width=\"20\" height=\"130\" stroke=\"transparent\" stroke-width=\"12\" fill=\"transparent\"></rect><text x=\"978.0\" y=\"20\" fill=\"transparent\" stroke=\"transparent\" font-size=\"30px\">0</text></g><g class=\"vert-line\"><rect x=\"978.4000000000001\" y=\"0\" width=\"20\" height=\"130\" stroke=\"transparent\" stroke-width=\"12\" fill=\"transparent\"></rect><text x=\"998.4000000000001\" y=\"20\" fill=\"transparent\" stroke=\"transparent\" font-size=\"30px\">0</text></g><g class=\"vert-line\"><rect x=\"998.8000000000001\" y=\"0\" width=\"20\" height=\"130\" stroke=\"transparent\" stroke-width=\"12\" fill=\"transparent\"></rect><text x=\"1018.8000000000001\" y=\"20\" fill=\"transparent\" stroke=\"transparent\" font-size=\"30px\">0</text></g><g class=\"vert-line\"><rect x=\"1019.1999999999998\" y=\"0\" width=\"20\" height=\"130\" stroke=\"transparent\" stroke-width=\"12\" fill=\"transparent\"></rect><text x=\"1039.1999999999998\" y=\"20\" fill=\"transparent\" stroke=\"transparent\" font-size=\"30px\">0</text></g><g class=\"vert-line\"><rect x=\"1039.6\" y=\"0\" width=\"20\" height=\"130\" stroke=\"transparent\" stroke-width=\"12\" fill=\"transparent\"></rect><text x=\"1059.6\" y=\"20\" fill=\"transparent\" stroke=\"transparent\" font-size=\"30px\">0</text></g><g class=\"vert-line\"><rect x=\"1060.0\" y=\"0\" width=\"20\" height=\"130\" stroke=\"transparent\" stroke-width=\"12\" fill=\"transparent\"></rect><text x=\"1080.0\" y=\"20\" fill=\"transparent\" stroke=\"transparent\" font-size=\"30px\">0</text></g></svg></div></td>\n",
       "  <td class=\"gt_row gt_right\">0.00%</td>\n",
       "</tr>\n",
       "</tbody>\n",
       "\n",
       "\n",
       "</table>\n",
       "\n",
       "</div>\n",
       "        "
      ],
      "text/plain": [
       "GT(_tbl_data=shape: (9, 3)\n",
       "┌────────────────────┬───────────────────────────────────┬──────────┐\n",
       "│ column             ┆ percentages in row groups         ┆ null%    │\n",
       "│ ---                ┆ ---                               ┆ ---      │\n",
       "│ str                ┆ struct[1]                         ┆ f64      │\n",
       "╞════════════════════╪═══════════════════════════════════╪══════════╡\n",
       "│ Employer_Category2 ┆ {[0.014347, 0.010043, … 0.0]}     ┆ 0.061653 │\n",
       "│ Monthly_Income     ┆ {[0.0, 0.0, … 0.0]}               ┆ 0.0      │\n",
       "│ Existing_EMI       ┆ {[0.0, 0.0, … 0.0]}               ┆ 0.000732 │\n",
       "│ Loan_Amount        ┆ {[0.337159, 0.353659, … 0.307692… ┆ 0.397472 │\n",
       "│ Loan_Period        ┆ {[0.337159, 0.353659, … 0.307692… ┆ 0.397472 │\n",
       "│ Interest_Rate      ┆ {[0.631277, 0.631994, … 0.615385… ┆ 0.680461 │\n",
       "│ EMI                ┆ {[0.631277, 0.631994, … 0.615385… ┆ 0.680461 │\n",
       "│ Var1               ┆ {[0.0, 0.0, … 0.0]}               ┆ 0.0      │\n",
       "│ Approved           ┆ {[0.0, 0.0, … 0.0]}               ┆ 0.0      │\n",
       "└────────────────────┴───────────────────────────────────┴──────────┘, _body=<great_tables._gt_data.Body object at 0x7086171f8450>, _boxhead=Boxhead([ColInfo(var='column', type=<ColInfoTypeEnum.stub: 2>, column_label='column', column_align='left', column_width=None), ColInfo(var='percentages in row groups', type=<ColInfoTypeEnum.default: 1>, column_label='percentages in row groups', column_align='center', column_width=None), ColInfo(var='null%', type=<ColInfoTypeEnum.default: 1>, column_label='null%', column_align='right', column_width=None)]), _stub=Stub([RowInfo(rownum_i=0, group_id=None, rowname='Employer_Category2', group_label=None, built=False), RowInfo(rownum_i=1, group_id=None, rowname='Monthly_Income', group_label=None, built=False), RowInfo(rownum_i=2, group_id=None, rowname='Existing_EMI', group_label=None, built=False), RowInfo(rownum_i=3, group_id=None, rowname='Loan_Amount', group_label=None, built=False), RowInfo(rownum_i=4, group_id=None, rowname='Loan_Period', group_label=None, built=False), RowInfo(rownum_i=5, group_id=None, rowname='Interest_Rate', group_label=None, built=False), RowInfo(rownum_i=6, group_id=None, rowname='EMI', group_label=None, built=False), RowInfo(rownum_i=7, group_id=None, rowname='Var1', group_label=None, built=False), RowInfo(rownum_i=8, group_id=None, rowname='Approved', group_label=None, built=False)]), _row_groups=[], _group_rows=GroupRows([]), _spanners=Spanners([]), _heading=Heading(title='Null Distribution', subtitle=None, preheader=None), _stubhead='column', _source_notes=[], _footnotes=[], _styles=[], _locale=<great_tables._gt_data.Locale object at 0x7086171f8490>, _formats=[<great_tables._gt_data.FormatInfo object at 0x7086171f8550>, <great_tables._gt_data.FormatInfo object at 0x7086171f8650>, <great_tables._gt_data.FormatInfo object at 0x7086171f8b50>], _substitutions=[], _options=Options(table_id=OptionsInfo(scss=False, category='table', type='value', value=None), table_caption=OptionsInfo(scss=False, category='table', type='value', value=None), table_width=OptionsInfo(scss=True, category='table', type='px', value='auto'), table_layout=OptionsInfo(scss=True, category='table', type='value', value='fixed'), table_margin_left=OptionsInfo(scss=True, category='table', type='px', value='auto'), table_margin_right=OptionsInfo(scss=True, category='table', type='px', value='auto'), table_background_color=OptionsInfo(scss=True, category='table', type='value', value='#FFFFFF'), table_font_names=OptionsInfo(scss=False, category='table', type='values', value=['-apple-system', 'BlinkMacSystemFont', 'Segoe UI', 'Roboto', 'Oxygen', 'Ubuntu', 'Cantarell', 'Helvetica Neue', 'Fira Sans', 'Droid Sans', 'Arial', 'sans-serif']), table_font_size=OptionsInfo(scss=True, category='table', type='px', value='16px'), table_font_weight=OptionsInfo(scss=True, category='table', type='value', value='normal'), table_font_style=OptionsInfo(scss=True, category='table', type='value', value='normal'), table_font_color=OptionsInfo(scss=True, category='table', type='value', value='#333333'), table_font_color_light=OptionsInfo(scss=True, category='table', type='value', value='#FFFFFF'), table_border_top_include=OptionsInfo(scss=False, category='table', type='boolean', value=True), table_border_top_style=OptionsInfo(scss=True, category='table', type='value', value='solid'), table_border_top_width=OptionsInfo(scss=True, category='table', type='px', value='2px'), table_border_top_color=OptionsInfo(scss=True, category='table', type='value', value='#A8A8A8'), table_border_right_style=OptionsInfo(scss=True, category='table', type='value', value='none'), table_border_right_width=OptionsInfo(scss=True, category='table', type='px', value='2px'), table_border_right_color=OptionsInfo(scss=True, category='table', type='value', value='#D3D3D3'), table_border_bottom_include=OptionsInfo(scss=False, category='table', type='boolean', value=True), table_border_bottom_style=OptionsInfo(scss=True, category='table', type='value', value='solid'), table_border_bottom_width=OptionsInfo(scss=True, category='table', type='px', value='2px'), table_border_bottom_color=OptionsInfo(scss=True, category='table', type='value', value='#A8A8A8'), table_border_left_style=OptionsInfo(scss=True, category='table', type='value', value='none'), table_border_left_width=OptionsInfo(scss=True, category='table', type='px', value='2px'), table_border_left_color=OptionsInfo(scss=True, category='table', type='value', value='#D3D3D3'), heading_background_color=OptionsInfo(scss=True, category='heading', type='value', value=None), heading_align=OptionsInfo(scss=True, category='heading', type='value', value='center'), heading_title_font_size=OptionsInfo(scss=True, category='heading', type='px', value='125%'), heading_title_font_weight=OptionsInfo(scss=True, category='heading', type='value', value='initial'), heading_subtitle_font_size=OptionsInfo(scss=True, category='heading', type='px', value='85%'), heading_subtitle_font_weight=OptionsInfo(scss=True, category='heading', type='value', value='initial'), heading_padding=OptionsInfo(scss=True, category='heading', type='px', value='4px'), heading_padding_horizontal=OptionsInfo(scss=True, category='heading', type='px', value='5px'), heading_border_bottom_style=OptionsInfo(scss=True, category='heading', type='value', value='solid'), heading_border_bottom_width=OptionsInfo(scss=True, category='heading', type='px', value='2px'), heading_border_bottom_color=OptionsInfo(scss=True, category='heading', type='value', value='#D3D3D3'), heading_border_lr_style=OptionsInfo(scss=True, category='heading', type='value', value='none'), heading_border_lr_width=OptionsInfo(scss=True, category='heading', type='px', value='1px'), heading_border_lr_color=OptionsInfo(scss=True, category='heading', type='value', value='#D3D3D3'), column_labels_background_color=OptionsInfo(scss=True, category='column_labels', type='value', value=None), column_labels_font_size=OptionsInfo(scss=True, category='column_labels', type='px', value='100%'), column_labels_font_weight=OptionsInfo(scss=True, category='column_labels', type='value', value='normal'), column_labels_text_transform=OptionsInfo(scss=True, category='column_labels', type='value', value='inherit'), column_labels_padding=OptionsInfo(scss=True, category='column_labels', type='px', value='5px'), column_labels_padding_horizontal=OptionsInfo(scss=True, category='column_labels', type='px', value='5px'), column_labels_vlines_style=OptionsInfo(scss=True, category='table_body', type='value', value='none'), column_labels_vlines_width=OptionsInfo(scss=True, category='table_body', type='px', value='1px'), column_labels_vlines_color=OptionsInfo(scss=True, category='table_body', type='value', value='#D3D3D3'), column_labels_border_top_style=OptionsInfo(scss=True, category='column_labels', type='value', value='solid'), column_labels_border_top_width=OptionsInfo(scss=True, category='column_labels', type='px', value='2px'), column_labels_border_top_color=OptionsInfo(scss=True, category='column_labels', type='value', value='#D3D3D3'), column_labels_border_bottom_style=OptionsInfo(scss=True, category='column_labels', type='value', value='solid'), column_labels_border_bottom_width=OptionsInfo(scss=True, category='column_labels', type='px', value='2px'), column_labels_border_bottom_color=OptionsInfo(scss=True, category='column_labels', type='value', value='#D3D3D3'), column_labels_border_lr_style=OptionsInfo(scss=True, category='column_labels', type='value', value='none'), column_labels_border_lr_width=OptionsInfo(scss=True, category='column_labels', type='px', value='1px'), column_labels_border_lr_color=OptionsInfo(scss=True, category='column_labels', type='value', value='#D3D3D3'), column_labels_hidden=OptionsInfo(scss=False, category='column_labels', type='boolean', value=False), row_group_background_color=OptionsInfo(scss=True, category='row_group', type='value', value=None), row_group_font_size=OptionsInfo(scss=True, category='row_group', type='px', value='100%'), row_group_font_weight=OptionsInfo(scss=True, category='row_group', type='value', value='initial'), row_group_text_transform=OptionsInfo(scss=True, category='row_group', type='value', value='inherit'), row_group_padding=OptionsInfo(scss=True, category='row_group', type='px', value='8px'), row_group_padding_horizontal=OptionsInfo(scss=True, category='row_group', type='px', value='5px'), row_group_border_top_style=OptionsInfo(scss=True, category='row_group', type='value', value='solid'), row_group_border_top_width=OptionsInfo(scss=True, category='row_group', type='px', value='2px'), row_group_border_top_color=OptionsInfo(scss=True, category='row_group', type='value', value='#D3D3D3'), row_group_border_right_style=OptionsInfo(scss=True, category='row_group', type='value', value='none'), row_group_border_right_width=OptionsInfo(scss=True, category='row_group', type='px', value='1px'), row_group_border_right_color=OptionsInfo(scss=True, category='row_group', type='value', value='#D3D3D3'), row_group_border_bottom_style=OptionsInfo(scss=True, category='row_group', type='value', value='solid'), row_group_border_bottom_width=OptionsInfo(scss=True, category='row_group', type='px', value='2px'), row_group_border_bottom_color=OptionsInfo(scss=True, category='row_group', type='value', value='#D3D3D3'), row_group_border_left_style=OptionsInfo(scss=True, category='row_group', type='value', value='none'), row_group_border_left_width=OptionsInfo(scss=True, category='row_group', type='px', value='1px'), row_group_border_left_color=OptionsInfo(scss=True, category='row_group', type='value', value='#D3D3D3'), row_group_as_column=OptionsInfo(scss=False, category='row_group', type='boolean', value=False), table_body_hlines_style=OptionsInfo(scss=True, category='table_body', type='value', value='solid'), table_body_hlines_width=OptionsInfo(scss=True, category='table_body', type='px', value='1px'), table_body_hlines_color=OptionsInfo(scss=True, category='table_body', type='value', value='#D3D3D3'), table_body_vlines_style=OptionsInfo(scss=True, category='table_body', type='value', value='none'), table_body_vlines_width=OptionsInfo(scss=True, category='table_body', type='px', value='1px'), table_body_vlines_color=OptionsInfo(scss=True, category='table_body', type='value', value='#D3D3D3'), table_body_border_top_style=OptionsInfo(scss=True, category='table_body', type='value', value='solid'), table_body_border_top_width=OptionsInfo(scss=True, category='table_body', type='px', value='2px'), table_body_border_top_color=OptionsInfo(scss=True, category='table_body', type='value', value='#D3D3D3'), table_body_border_bottom_style=OptionsInfo(scss=True, category='table_body', type='value', value='solid'), table_body_border_bottom_width=OptionsInfo(scss=True, category='table_body', type='px', value='2px'), table_body_border_bottom_color=OptionsInfo(scss=True, category='table_body', type='value', value='#D3D3D3'), data_row_padding=OptionsInfo(scss=True, category='data_row', type='px', value='8px'), data_row_padding_horizontal=OptionsInfo(scss=True, category='data_row', type='px', value='5px'), stub_background_color=OptionsInfo(scss=True, category='stub', type='value', value=None), stub_font_size=OptionsInfo(scss=True, category='stub', type='px', value='100%'), stub_font_weight=OptionsInfo(scss=True, category='stub', type='value', value='initial'), stub_text_transform=OptionsInfo(scss=True, category='stub', type='value', value='inherit'), stub_border_style=OptionsInfo(scss=True, category='stub', type='value', value='solid'), stub_border_width=OptionsInfo(scss=True, category='stub', type='px', value='2px'), stub_border_color=OptionsInfo(scss=True, category='stub', type='value', value='#D3D3D3'), stub_row_group_background_color=OptionsInfo(scss=True, category='stub', type='value', value=None), stub_row_group_font_size=OptionsInfo(scss=True, category='stub', type='px', value='100%'), stub_row_group_font_weight=OptionsInfo(scss=True, category='stub', type='value', value='initial'), stub_row_group_text_transform=OptionsInfo(scss=True, category='stub', type='value', value='inherit'), stub_row_group_border_style=OptionsInfo(scss=True, category='stub', type='value', value='solid'), stub_row_group_border_width=OptionsInfo(scss=True, category='stub', type='px', value='2px'), stub_row_group_border_color=OptionsInfo(scss=True, category='stub', type='value', value='#D3D3D3'), source_notes_padding=OptionsInfo(scss=True, category='source_notes', type='px', value='4px'), source_notes_padding_horizontal=OptionsInfo(scss=True, category='source_notes', type='px', value='5px'), source_notes_background_color=OptionsInfo(scss=True, category='source_notes', type='value', value=None), source_notes_font_size=OptionsInfo(scss=True, category='source_notes', type='px', value='90%'), source_notes_border_bottom_style=OptionsInfo(scss=True, category='source_notes', type='value', value='none'), source_notes_border_bottom_width=OptionsInfo(scss=True, category='source_notes', type='px', value='2px'), source_notes_border_bottom_color=OptionsInfo(scss=True, category='source_notes', type='value', value='#D3D3D3'), source_notes_border_lr_style=OptionsInfo(scss=True, category='source_notes', type='value', value='none'), source_notes_border_lr_width=OptionsInfo(scss=True, category='source_notes', type='px', value='2px'), source_notes_border_lr_color=OptionsInfo(scss=True, category='source_notes', type='value', value='#D3D3D3'), source_notes_multiline=OptionsInfo(scss=False, category='source_notes', type='boolean', value=True), source_notes_sep=OptionsInfo(scss=False, category='source_notes', type='value', value=' '), container_width=OptionsInfo(scss=False, category='container', type='px', value='auto'), container_height=OptionsInfo(scss=False, category='container', type='px', value='auto'), container_padding_x=OptionsInfo(scss=False, category='container', type='px', value='0px'), container_padding_y=OptionsInfo(scss=False, category='container', type='px', value='10px'), container_overflow_x=OptionsInfo(scss=False, category='container', type='overflow', value='auto'), container_overflow_y=OptionsInfo(scss=False, category='container', type='overflow', value='auto'), quarto_disable_processing=OptionsInfo(scss=False, category='quarto', type='logical', value=False), quarto_use_bootstrap=OptionsInfo(scss=False, category='quarto', type='logical', value=False)), _has_built=False)"
      ]
     },
     "execution_count": 20,
     "metadata": {},
     "output_type": "execute_result"
    }
   ],
   "source": [
    "# Checks whether nulls in one feature happens at the same time as nulls in other features\n",
    "dia.plot_null_distribution(cs.numeric())"
   ]
  },
  {
   "cell_type": "markdown",
   "metadata": {},
   "source": [
    "# Classic Iris Dataset\n",
    "\n",
    "Need sklearn to download the dataset and that's it."
   ]
  },
  {
   "cell_type": "code",
   "execution_count": 21,
   "metadata": {},
   "outputs": [
    {
     "data": {
      "text/html": [
       "<div><style>\n",
       ".dataframe > thead > tr,\n",
       ".dataframe > tbody > tr {\n",
       "  text-align: right;\n",
       "  white-space: pre-wrap;\n",
       "}\n",
       "</style>\n",
       "<small>shape: (5, 5)</small><table border=\"1\" class=\"dataframe\"><thead><tr><th>sepal length (cm)</th><th>sepal width (cm)</th><th>petal length (cm)</th><th>petal width (cm)</th><th>species</th></tr><tr><td>f64</td><td>f64</td><td>f64</td><td>f64</td><td>str</td></tr></thead><tbody><tr><td>5.1</td><td>3.5</td><td>1.4</td><td>0.2</td><td>&quot;setosa&quot;</td></tr><tr><td>4.9</td><td>3.0</td><td>1.4</td><td>0.2</td><td>&quot;setosa&quot;</td></tr><tr><td>4.7</td><td>3.2</td><td>1.3</td><td>0.2</td><td>&quot;setosa&quot;</td></tr><tr><td>4.6</td><td>3.1</td><td>1.5</td><td>0.2</td><td>&quot;setosa&quot;</td></tr><tr><td>5.0</td><td>3.6</td><td>1.4</td><td>0.2</td><td>&quot;setosa&quot;</td></tr></tbody></table></div>"
      ],
      "text/plain": [
       "shape: (5, 5)\n",
       "┌───────────────────┬──────────────────┬───────────────────┬──────────────────┬─────────┐\n",
       "│ sepal length (cm) ┆ sepal width (cm) ┆ petal length (cm) ┆ petal width (cm) ┆ species │\n",
       "│ ---               ┆ ---              ┆ ---               ┆ ---              ┆ ---     │\n",
       "│ f64               ┆ f64              ┆ f64               ┆ f64              ┆ str     │\n",
       "╞═══════════════════╪══════════════════╪═══════════════════╪══════════════════╪═════════╡\n",
       "│ 5.1               ┆ 3.5              ┆ 1.4               ┆ 0.2              ┆ setosa  │\n",
       "│ 4.9               ┆ 3.0              ┆ 1.4               ┆ 0.2              ┆ setosa  │\n",
       "│ 4.7               ┆ 3.2              ┆ 1.3               ┆ 0.2              ┆ setosa  │\n",
       "│ 4.6               ┆ 3.1              ┆ 1.5               ┆ 0.2              ┆ setosa  │\n",
       "│ 5.0               ┆ 3.6              ┆ 1.4               ┆ 0.2              ┆ setosa  │\n",
       "└───────────────────┴──────────────────┴───────────────────┴──────────────────┴─────────┘"
      ]
     },
     "execution_count": 21,
     "metadata": {},
     "output_type": "execute_result"
    }
   ],
   "source": [
    "from sklearn import datasets\n",
    "dataset = datasets.load_iris()\n",
    "df = pl.from_numpy(dataset.data, schema = dataset.feature_names).with_columns(\n",
    "    pl.Series(values=dataset.target).alias(\"species\")\n",
    ").with_columns(\n",
    "    pl.col(\"species\").replace(old=[0,1,2], new=dataset.target_names)\n",
    ")\n",
    "df.head()"
   ]
  },
  {
   "cell_type": "code",
   "execution_count": 22,
   "metadata": {},
   "outputs": [
    {
     "data": {
      "application/vnd.plotly.v1+json": {
       "config": {
        "plotlyServerURL": "https://plot.ly"
       },
       "data": [
        {
         "hovertemplate": "color=setosa<br>pc1=%{x}<br>pc2=%{y}<br>pc3=%{z}<extra></extra>",
         "legendgroup": "setosa",
         "marker": {
          "color": "#636efa",
          "symbol": "circle"
         },
         "mode": "markers",
         "name": "setosa",
         "scene": "scene",
         "showlegend": true,
         "type": "scatter3d",
         "x": [
          -2.684125625969534,
          -2.714141687294323,
          -2.8889905690592936,
          -2.745342855641407,
          -2.7287165365545274,
          -2.2808596328444897,
          -2.820537750740606,
          -2.62614497314663,
          -2.8863827317805506,
          -2.6727557978209515,
          -2.506947090651853,
          -2.6127552309087205,
          -2.7861092661880154,
          -3.2238037438656497,
          -2.644750389942027,
          -2.38603903353113,
          -2.6235278752244233,
          -2.6482967062543787,
          -2.1998203236175775,
          -2.5879863998787656,
          -2.3102562152425157,
          -2.5437052287571538,
          -3.215939415648609,
          -2.3027331822262047,
          -2.35575404912377,
          -2.5066689069258192,
          -2.468820073121336,
          -2.5623199061960134,
          -2.63953471538454,
          -2.631989387274343,
          -2.5873984766893496,
          -2.4099324970021723,
          -2.6488623343499094,
          -2.5987367491005844,
          -2.6369268781057964,
          -2.866241652118667,
          -2.625238049850369,
          -2.8006841154482194,
          -2.9805020437819905,
          -2.590006313968093,
          -2.770102426027899,
          -2.8493687050431005,
          -2.9974065465949042,
          -2.4056144850974834,
          -2.209489237783677,
          -2.714451426757705,
          -2.538148258998937,
          -2.8394621676428478,
          -2.5430857498303903,
          -2.703359782335157
         ],
         "y": [
          0.31939724658510243,
          -0.1770012250647788,
          -0.14494942608555617,
          -0.3182989792519147,
          0.32675451293492125,
          0.7413304490629161,
          -0.08946138452856743,
          0.16338495969833003,
          -0.5783117541867024,
          -0.11377424587411544,
          0.6450688986485751,
          0.014729939161375924,
          -0.2351120002017169,
          -0.5113945870063805,
          1.1787646364375766,
          1.3380623304006536,
          0.8106795141812589,
          0.31184914459335605,
          0.8728390389622122,
          0.5135603087492782,
          0.3913459356538955,
          0.43299606327902945,
          0.1334680695385273,
          0.09870885481410073,
          -0.03728185967738122,
          -0.14601688049526637,
          0.13095148943525156,
          0.36771885743420124,
          0.31203998023528423,
          -0.1969612249243133,
          -0.204318491274132,
          0.4109242642295742,
          0.8133638202969633,
          1.093145759449358,
          -0.1213223478658618,
          0.06936447158008208,
          0.599370021379425,
          0.2686437377979837,
          -0.48795834442861397,
          0.22904383682701399,
          0.26352753374425775,
          -0.9409605736411951,
          -0.3419260574716085,
          0.18887142893026154,
          0.43666314163918896,
          -0.2502082041852096,
          0.5037711444614389,
          -0.2279455694938263,
          0.5794100215198906,
          0.10770608249941299
         ],
         "z": [
          0.02791482758941342,
          0.2104642723782437,
          -0.017900256320890446,
          -0.031559373605681305,
          -0.09007924055120166,
          -0.16867765820910502,
          -0.25789215825561823,
          0.021879317886719356,
          -0.020759570264780276,
          0.19763272498814613,
          0.0753180093791198,
          -0.10215025995659023,
          0.20684443044964432,
          -0.06129967245709931,
          0.15162752361780893,
          -0.2777769027031361,
          -0.13818322788071963,
          -0.02666831561259415,
          0.12030552339473059,
          -0.2136651722247162,
          0.23944404324495303,
          -0.20845723241671538,
          -0.2923967507452425,
          -0.03912325874288096,
          -0.1250210827028793,
          0.2534200423446574,
          -0.09491057609939207,
          0.07849420513792392,
          0.14590889573002894,
          -0.04077107906717949,
          0.07722298907343549,
          0.14552497200513065,
          -0.22566914972012006,
          -0.15781081295822066,
          0.14304958178613866,
          0.16433230665302542,
          0.2683503756939361,
          -0.09369908247980062,
          -0.07292704569269261,
          0.08008230301732576,
          -0.0772476931611042,
          0.3492303773059664,
          -0.19250921171271,
          -0.2638679455134158,
          -0.2987427457551091,
          0.09767814404562929,
          -0.166705636604805,
          -0.08372684903359363,
          0.01711502424851295,
          0.08929400847882439
         ]
        },
        {
         "hovertemplate": "color=versicolor<br>pc1=%{x}<br>pc2=%{y}<br>pc3=%{z}<extra></extra>",
         "legendgroup": "versicolor",
         "marker": {
          "color": "#EF553B",
          "symbol": "circle"
         },
         "mode": "markers",
         "name": "versicolor",
         "scene": "scene",
         "showlegend": true,
         "type": "scatter3d",
         "x": [
          1.2848256888583542,
          0.9324885323123209,
          1.4643023219913966,
          0.183317719958373,
          1.0881032577116683,
          0.64166908425808,
          1.0950606626324493,
          -0.7491226698296548,
          1.044131826053438,
          -0.008745404082893597,
          -0.5078408838353236,
          0.5116985574475998,
          0.26497650811204904,
          0.9849345104708926,
          -0.17392537168176536,
          0.9278607809442501,
          0.6602837616969394,
          0.2361049933176741,
          0.9447337280198157,
          0.04522697629870234,
          1.1162831773500521,
          0.35788841799730986,
          1.2981838753589163,
          0.9217289224470395,
          0.7148533259114142,
          0.9001743731721698,
          1.332024436722091,
          1.5578021550660728,
          0.8132906498175438,
          -0.3055837780243065,
          -0.06812649206836112,
          -0.1896224723784994,
          0.13642871155801745,
          1.3800264359155134,
          0.5880064433398658,
          0.8068583125004146,
          1.2206908824443556,
          0.8150952357666023,
          0.2459576798866949,
          0.16641321714545929,
          0.4648002884037816,
          0.8908151984694518,
          0.2305480235594579,
          -0.7045317592446613,
          0.35698149470104945,
          0.33193447994506087,
          0.3762156510666728,
          0.6425760075543404,
          -0.9064698649488335,
          0.29900084187814574
         ],
         "y": [
          0.6851604704673084,
          0.318333638262629,
          0.504262815309204,
          -0.8279590118206317,
          0.07459067519771627,
          -0.41824687156867846,
          0.283468270061529,
          -1.0048909611818944,
          0.2283618997883957,
          -0.7230819050048337,
          -1.2659711905263926,
          -0.10398123549904015,
          -0.5500364636804742,
          -0.1248178541263573,
          -0.2548542087025888,
          0.4671794944415105,
          -0.35296966572385025,
          -0.3336107668249149,
          -0.5431455507797662,
          -0.5838343774718638,
          -0.08461685219478803,
          -0.0689250316560136,
          -0.3277873083339173,
          -0.18273779362136733,
          0.14905594436978498,
          0.32850447383432335,
          0.24444087601634354,
          0.2674954473102545,
          -0.1633503006876161,
          -0.3682621897545873,
          -0.7051721317994647,
          -0.6802867635281327,
          -0.3140324382492362,
          -0.4209542873138819,
          -0.48428741998121805,
          0.1941823147131509,
          0.4076195936110071,
          -0.3720370599095015,
          -0.26852439662201455,
          -0.6819267248636262,
          -0.67071154451172,
          -0.03446444436826876,
          -0.4043858480073247,
          -1.0122482275317133,
          -0.5049100933371083,
          -0.2126546837811695,
          -0.29321892925141857,
          0.017738190112416508,
          -0.756093366599013,
          -0.3488978064503355
         ],
         "z": [
          0.40656802546769377,
          0.018014186646239896,
          0.3383257649808958,
          0.1795913918753552,
          0.30775789623478456,
          -0.04107609082395639,
          -0.16981023986057564,
          -0.012302919237595496,
          0.4153360847593973,
          -0.28114143117641,
          0.2698171827688526,
          -0.1305477502404865,
          0.6941468301444189,
          0.06211440832226065,
          -0.09045769072570474,
          0.31462097583217197,
          -0.32802752837859556,
          0.27116183725106635,
          0.49951904648511264,
          0.23500210497205562,
          -0.4596209913591045,
          0.22985388760895126,
          0.34785435225730793,
          0.23107177773628432,
          0.3218009372444736,
          0.3162090737115738,
          0.5217027796644188,
          0.16492098374357997,
          -0.03542450484616051,
          0.3184915806230468,
          0.24421381043355428,
          0.30642056121765815,
          0.17724276601124403,
          -0.016167127520729137,
          -0.44443349863980824,
          -0.38896306309821116,
          0.23716700988387535,
          0.614720842591822,
          -0.18836681164619512,
          0.06000922585533788,
          0.024306855718951366,
          0.009946932894348384,
          0.2294102414391563,
          0.10569114890301956,
          -0.016617170198265804,
          -0.08320429089567709,
          -0.077996351087676,
          0.20539496698326043,
          0.012599647557890057,
          -0.010581660495570957
         ]
        },
        {
         "hovertemplate": "color=virginica<br>pc1=%{x}<br>pc2=%{y}<br>pc3=%{z}<extra></extra>",
         "legendgroup": "virginica",
         "marker": {
          "color": "#00cc96",
          "symbol": "circle"
         },
         "mode": "markers",
         "name": "virginica",
         "scene": "scene",
         "showlegend": true,
         "type": "scatter3d",
         "x": [
          2.53119272780363,
          1.4152358767039048,
          2.6166760159956923,
          1.9715310530434378,
          2.350005920044642,
          3.397038736053261,
          0.5212322439097758,
          2.9325870689936915,
          2.32122881657338,
          2.9167509667860747,
          1.6617741536365338,
          1.8034019529650933,
          2.165591796080147,
          1.3461635794584537,
          1.585928223873223,
          1.9044563747934293,
          1.9496890593990717,
          3.487055364290282,
          3.7956454220728864,
          1.3007917126376594,
          2.4278179130660478,
          1.1990011054655627,
          3.4999200389245404,
          1.3887661316914677,
          2.275430503872207,
          2.6140904738108337,
          1.25850816051149,
          1.2911320591150233,
          2.123608722773897,
          2.38800301600347,
          2.8416727781038733,
          3.2306736614320952,
          2.1594376424890522,
          1.444161242329512,
          1.7812948100451143,
          3.07649993168719,
          2.144243314302084,
          1.905098148814078,
          1.1693263393415025,
          2.1076111432572446,
          2.314154705235602,
          1.9222678009026035,
          1.4152358767039048,
          2.5630133750774777,
          2.4187461827328276,
          1.9441097945469705,
          1.5271666148145198,
          1.7643457170444314,
          1.9009416142184257,
          1.3901888619479161
         ],
         "y": [
          -0.009849109498802583,
          -0.5749163475464893,
          0.3439031513417337,
          -0.1797279043522457,
          -0.04026094714253149,
          0.5508366730280546,
          -1.1927587270006448,
          0.3555000029774958,
          -0.24383150231069098,
          0.7827919488152776,
          0.2422284077550668,
          -0.21563761733355555,
          0.21627558507402445,
          -0.7768183473443395,
          -0.5396407140267188,
          0.11925069209197237,
          0.04194325966321108,
          1.1757393297134282,
          0.25732297342047844,
          -0.7611496364350632,
          0.37819601261705016,
          -0.6060915277579305,
          0.4606740989118941,
          -0.2043993273521509,
          0.3349906058216769,
          0.5609013551230771,
          -0.1797047947227466,
          -0.1166686511740115,
          -0.20972947667730302,
          0.4646398047087359,
          0.3752691671951026,
          1.3741650867930464,
          -0.2172775786690494,
          -0.14341341045758077,
          -0.4999016810781366,
          0.6880856775711751,
          0.1400642010897895,
          0.04930052601302995,
          -0.16499026202310957,
          0.37228787196079727,
          0.18365127916901844,
          0.40920346681606184,
          -0.5749163475464893,
          0.2778626029291942,
          0.3047981978546915,
          0.18753230280060484,
          -0.3753169825804884,
          0.0788588545184755,
          0.11662795851202323,
          -0.28266093799055064
         ],
         "z": [
          -0.7601654272458959,
          -0.2963225273879648,
          0.1107878832191085,
          -0.1084246624634234,
          -0.28538956318444175,
          0.3484375557974667,
          -0.545659295646813,
          0.42023993576796764,
          0.3483043949348446,
          -0.4233354176825591,
          -0.2424401897257695,
          0.0376481682314821,
          -0.033326641844325634,
          -0.28190288211846504,
          -0.6290293264080108,
          -0.47963981962659097,
          -0.04418616763012252,
          -0.13389487393609908,
          0.5137677638178039,
          0.34499503831341777,
          -0.21911932430194375,
          -0.5118555086970014,
          0.5731822425680022,
          0.06452275663126804,
          -0.28615009116915036,
          0.20553452435362424,
          -0.04584770392725036,
          -0.23125646265997088,
          -0.15418002392883048,
          0.4495301919418493,
          0.4988980758707684,
          0.11454820547541829,
          -0.20876316713083806,
          0.15323388806308963,
          0.1728751891134192,
          0.33559229243454053,
          -0.7348789367255115,
          -0.16218023577073754,
          -0.2818358402084808,
          -0.02729113214163118,
          -0.32269374717305943,
          -0.11358659579935693,
          -0.2963225273879648,
          -0.29256952459674335,
          -0.5044826639771804,
          -0.17782509063265778,
          0.12189817186718155,
          -0.1304816312878485,
          -0.7232515634899177,
          -0.3629096480853762
         ]
        }
       ],
       "layout": {
        "legend": {
         "title": {
          "text": "color"
         },
         "tracegroupgap": 0
        },
        "scene": {
         "domain": {
          "x": [
           0,
           1
          ],
          "y": [
           0,
           1
          ]
         },
         "xaxis": {
          "title": {
           "text": "pc1"
          }
         },
         "yaxis": {
          "title": {
           "text": "pc2"
          }
         },
         "zaxis": {
          "title": {
           "text": "pc3"
          }
         }
        },
        "template": {
         "data": {
          "bar": [
           {
            "error_x": {
             "color": "#2a3f5f"
            },
            "error_y": {
             "color": "#2a3f5f"
            },
            "marker": {
             "line": {
              "color": "#E5ECF6",
              "width": 0.5
             },
             "pattern": {
              "fillmode": "overlay",
              "size": 10,
              "solidity": 0.2
             }
            },
            "type": "bar"
           }
          ],
          "barpolar": [
           {
            "marker": {
             "line": {
              "color": "#E5ECF6",
              "width": 0.5
             },
             "pattern": {
              "fillmode": "overlay",
              "size": 10,
              "solidity": 0.2
             }
            },
            "type": "barpolar"
           }
          ],
          "carpet": [
           {
            "aaxis": {
             "endlinecolor": "#2a3f5f",
             "gridcolor": "white",
             "linecolor": "white",
             "minorgridcolor": "white",
             "startlinecolor": "#2a3f5f"
            },
            "baxis": {
             "endlinecolor": "#2a3f5f",
             "gridcolor": "white",
             "linecolor": "white",
             "minorgridcolor": "white",
             "startlinecolor": "#2a3f5f"
            },
            "type": "carpet"
           }
          ],
          "choropleth": [
           {
            "colorbar": {
             "outlinewidth": 0,
             "ticks": ""
            },
            "type": "choropleth"
           }
          ],
          "contour": [
           {
            "colorbar": {
             "outlinewidth": 0,
             "ticks": ""
            },
            "colorscale": [
             [
              0,
              "#0d0887"
             ],
             [
              0.1111111111111111,
              "#46039f"
             ],
             [
              0.2222222222222222,
              "#7201a8"
             ],
             [
              0.3333333333333333,
              "#9c179e"
             ],
             [
              0.4444444444444444,
              "#bd3786"
             ],
             [
              0.5555555555555556,
              "#d8576b"
             ],
             [
              0.6666666666666666,
              "#ed7953"
             ],
             [
              0.7777777777777778,
              "#fb9f3a"
             ],
             [
              0.8888888888888888,
              "#fdca26"
             ],
             [
              1,
              "#f0f921"
             ]
            ],
            "type": "contour"
           }
          ],
          "contourcarpet": [
           {
            "colorbar": {
             "outlinewidth": 0,
             "ticks": ""
            },
            "type": "contourcarpet"
           }
          ],
          "heatmap": [
           {
            "colorbar": {
             "outlinewidth": 0,
             "ticks": ""
            },
            "colorscale": [
             [
              0,
              "#0d0887"
             ],
             [
              0.1111111111111111,
              "#46039f"
             ],
             [
              0.2222222222222222,
              "#7201a8"
             ],
             [
              0.3333333333333333,
              "#9c179e"
             ],
             [
              0.4444444444444444,
              "#bd3786"
             ],
             [
              0.5555555555555556,
              "#d8576b"
             ],
             [
              0.6666666666666666,
              "#ed7953"
             ],
             [
              0.7777777777777778,
              "#fb9f3a"
             ],
             [
              0.8888888888888888,
              "#fdca26"
             ],
             [
              1,
              "#f0f921"
             ]
            ],
            "type": "heatmap"
           }
          ],
          "heatmapgl": [
           {
            "colorbar": {
             "outlinewidth": 0,
             "ticks": ""
            },
            "colorscale": [
             [
              0,
              "#0d0887"
             ],
             [
              0.1111111111111111,
              "#46039f"
             ],
             [
              0.2222222222222222,
              "#7201a8"
             ],
             [
              0.3333333333333333,
              "#9c179e"
             ],
             [
              0.4444444444444444,
              "#bd3786"
             ],
             [
              0.5555555555555556,
              "#d8576b"
             ],
             [
              0.6666666666666666,
              "#ed7953"
             ],
             [
              0.7777777777777778,
              "#fb9f3a"
             ],
             [
              0.8888888888888888,
              "#fdca26"
             ],
             [
              1,
              "#f0f921"
             ]
            ],
            "type": "heatmapgl"
           }
          ],
          "histogram": [
           {
            "marker": {
             "pattern": {
              "fillmode": "overlay",
              "size": 10,
              "solidity": 0.2
             }
            },
            "type": "histogram"
           }
          ],
          "histogram2d": [
           {
            "colorbar": {
             "outlinewidth": 0,
             "ticks": ""
            },
            "colorscale": [
             [
              0,
              "#0d0887"
             ],
             [
              0.1111111111111111,
              "#46039f"
             ],
             [
              0.2222222222222222,
              "#7201a8"
             ],
             [
              0.3333333333333333,
              "#9c179e"
             ],
             [
              0.4444444444444444,
              "#bd3786"
             ],
             [
              0.5555555555555556,
              "#d8576b"
             ],
             [
              0.6666666666666666,
              "#ed7953"
             ],
             [
              0.7777777777777778,
              "#fb9f3a"
             ],
             [
              0.8888888888888888,
              "#fdca26"
             ],
             [
              1,
              "#f0f921"
             ]
            ],
            "type": "histogram2d"
           }
          ],
          "histogram2dcontour": [
           {
            "colorbar": {
             "outlinewidth": 0,
             "ticks": ""
            },
            "colorscale": [
             [
              0,
              "#0d0887"
             ],
             [
              0.1111111111111111,
              "#46039f"
             ],
             [
              0.2222222222222222,
              "#7201a8"
             ],
             [
              0.3333333333333333,
              "#9c179e"
             ],
             [
              0.4444444444444444,
              "#bd3786"
             ],
             [
              0.5555555555555556,
              "#d8576b"
             ],
             [
              0.6666666666666666,
              "#ed7953"
             ],
             [
              0.7777777777777778,
              "#fb9f3a"
             ],
             [
              0.8888888888888888,
              "#fdca26"
             ],
             [
              1,
              "#f0f921"
             ]
            ],
            "type": "histogram2dcontour"
           }
          ],
          "mesh3d": [
           {
            "colorbar": {
             "outlinewidth": 0,
             "ticks": ""
            },
            "type": "mesh3d"
           }
          ],
          "parcoords": [
           {
            "line": {
             "colorbar": {
              "outlinewidth": 0,
              "ticks": ""
             }
            },
            "type": "parcoords"
           }
          ],
          "pie": [
           {
            "automargin": true,
            "type": "pie"
           }
          ],
          "scatter": [
           {
            "fillpattern": {
             "fillmode": "overlay",
             "size": 10,
             "solidity": 0.2
            },
            "type": "scatter"
           }
          ],
          "scatter3d": [
           {
            "line": {
             "colorbar": {
              "outlinewidth": 0,
              "ticks": ""
             }
            },
            "marker": {
             "colorbar": {
              "outlinewidth": 0,
              "ticks": ""
             }
            },
            "type": "scatter3d"
           }
          ],
          "scattercarpet": [
           {
            "marker": {
             "colorbar": {
              "outlinewidth": 0,
              "ticks": ""
             }
            },
            "type": "scattercarpet"
           }
          ],
          "scattergeo": [
           {
            "marker": {
             "colorbar": {
              "outlinewidth": 0,
              "ticks": ""
             }
            },
            "type": "scattergeo"
           }
          ],
          "scattergl": [
           {
            "marker": {
             "colorbar": {
              "outlinewidth": 0,
              "ticks": ""
             }
            },
            "type": "scattergl"
           }
          ],
          "scattermapbox": [
           {
            "marker": {
             "colorbar": {
              "outlinewidth": 0,
              "ticks": ""
             }
            },
            "type": "scattermapbox"
           }
          ],
          "scatterpolar": [
           {
            "marker": {
             "colorbar": {
              "outlinewidth": 0,
              "ticks": ""
             }
            },
            "type": "scatterpolar"
           }
          ],
          "scatterpolargl": [
           {
            "marker": {
             "colorbar": {
              "outlinewidth": 0,
              "ticks": ""
             }
            },
            "type": "scatterpolargl"
           }
          ],
          "scatterternary": [
           {
            "marker": {
             "colorbar": {
              "outlinewidth": 0,
              "ticks": ""
             }
            },
            "type": "scatterternary"
           }
          ],
          "surface": [
           {
            "colorbar": {
             "outlinewidth": 0,
             "ticks": ""
            },
            "colorscale": [
             [
              0,
              "#0d0887"
             ],
             [
              0.1111111111111111,
              "#46039f"
             ],
             [
              0.2222222222222222,
              "#7201a8"
             ],
             [
              0.3333333333333333,
              "#9c179e"
             ],
             [
              0.4444444444444444,
              "#bd3786"
             ],
             [
              0.5555555555555556,
              "#d8576b"
             ],
             [
              0.6666666666666666,
              "#ed7953"
             ],
             [
              0.7777777777777778,
              "#fb9f3a"
             ],
             [
              0.8888888888888888,
              "#fdca26"
             ],
             [
              1,
              "#f0f921"
             ]
            ],
            "type": "surface"
           }
          ],
          "table": [
           {
            "cells": {
             "fill": {
              "color": "#EBF0F8"
             },
             "line": {
              "color": "white"
             }
            },
            "header": {
             "fill": {
              "color": "#C8D4E3"
             },
             "line": {
              "color": "white"
             }
            },
            "type": "table"
           }
          ]
         },
         "layout": {
          "annotationdefaults": {
           "arrowcolor": "#2a3f5f",
           "arrowhead": 0,
           "arrowwidth": 1
          },
          "autotypenumbers": "strict",
          "coloraxis": {
           "colorbar": {
            "outlinewidth": 0,
            "ticks": ""
           }
          },
          "colorscale": {
           "diverging": [
            [
             0,
             "#8e0152"
            ],
            [
             0.1,
             "#c51b7d"
            ],
            [
             0.2,
             "#de77ae"
            ],
            [
             0.3,
             "#f1b6da"
            ],
            [
             0.4,
             "#fde0ef"
            ],
            [
             0.5,
             "#f7f7f7"
            ],
            [
             0.6,
             "#e6f5d0"
            ],
            [
             0.7,
             "#b8e186"
            ],
            [
             0.8,
             "#7fbc41"
            ],
            [
             0.9,
             "#4d9221"
            ],
            [
             1,
             "#276419"
            ]
           ],
           "sequential": [
            [
             0,
             "#0d0887"
            ],
            [
             0.1111111111111111,
             "#46039f"
            ],
            [
             0.2222222222222222,
             "#7201a8"
            ],
            [
             0.3333333333333333,
             "#9c179e"
            ],
            [
             0.4444444444444444,
             "#bd3786"
            ],
            [
             0.5555555555555556,
             "#d8576b"
            ],
            [
             0.6666666666666666,
             "#ed7953"
            ],
            [
             0.7777777777777778,
             "#fb9f3a"
            ],
            [
             0.8888888888888888,
             "#fdca26"
            ],
            [
             1,
             "#f0f921"
            ]
           ],
           "sequentialminus": [
            [
             0,
             "#0d0887"
            ],
            [
             0.1111111111111111,
             "#46039f"
            ],
            [
             0.2222222222222222,
             "#7201a8"
            ],
            [
             0.3333333333333333,
             "#9c179e"
            ],
            [
             0.4444444444444444,
             "#bd3786"
            ],
            [
             0.5555555555555556,
             "#d8576b"
            ],
            [
             0.6666666666666666,
             "#ed7953"
            ],
            [
             0.7777777777777778,
             "#fb9f3a"
            ],
            [
             0.8888888888888888,
             "#fdca26"
            ],
            [
             1,
             "#f0f921"
            ]
           ]
          },
          "colorway": [
           "#636efa",
           "#EF553B",
           "#00cc96",
           "#ab63fa",
           "#FFA15A",
           "#19d3f3",
           "#FF6692",
           "#B6E880",
           "#FF97FF",
           "#FECB52"
          ],
          "font": {
           "color": "#2a3f5f"
          },
          "geo": {
           "bgcolor": "white",
           "lakecolor": "white",
           "landcolor": "#E5ECF6",
           "showlakes": true,
           "showland": true,
           "subunitcolor": "white"
          },
          "hoverlabel": {
           "align": "left"
          },
          "hovermode": "closest",
          "mapbox": {
           "style": "light"
          },
          "paper_bgcolor": "white",
          "plot_bgcolor": "#E5ECF6",
          "polar": {
           "angularaxis": {
            "gridcolor": "white",
            "linecolor": "white",
            "ticks": ""
           },
           "bgcolor": "#E5ECF6",
           "radialaxis": {
            "gridcolor": "white",
            "linecolor": "white",
            "ticks": ""
           }
          },
          "scene": {
           "xaxis": {
            "backgroundcolor": "#E5ECF6",
            "gridcolor": "white",
            "gridwidth": 2,
            "linecolor": "white",
            "showbackground": true,
            "ticks": "",
            "zerolinecolor": "white"
           },
           "yaxis": {
            "backgroundcolor": "#E5ECF6",
            "gridcolor": "white",
            "gridwidth": 2,
            "linecolor": "white",
            "showbackground": true,
            "ticks": "",
            "zerolinecolor": "white"
           },
           "zaxis": {
            "backgroundcolor": "#E5ECF6",
            "gridcolor": "white",
            "gridwidth": 2,
            "linecolor": "white",
            "showbackground": true,
            "ticks": "",
            "zerolinecolor": "white"
           }
          },
          "shapedefaults": {
           "line": {
            "color": "#2a3f5f"
           }
          },
          "ternary": {
           "aaxis": {
            "gridcolor": "white",
            "linecolor": "white",
            "ticks": ""
           },
           "baxis": {
            "gridcolor": "white",
            "linecolor": "white",
            "ticks": ""
           },
           "bgcolor": "#E5ECF6",
           "caxis": {
            "gridcolor": "white",
            "linecolor": "white",
            "ticks": ""
           }
          },
          "title": {
           "x": 0.05
          },
          "xaxis": {
           "automargin": true,
           "gridcolor": "white",
           "linecolor": "white",
           "ticks": "",
           "title": {
            "standoff": 15
           },
           "zerolinecolor": "white",
           "zerolinewidth": 2
          },
          "yaxis": {
           "automargin": true,
           "gridcolor": "white",
           "linecolor": "white",
           "ticks": "",
           "title": {
            "standoff": 15
           },
           "zerolinecolor": "white",
           "zerolinewidth": 2
          }
         }
        },
        "title": {
         "text": "3 Principal Components"
        }
       }
      }
     },
     "metadata": {},
     "output_type": "display_data"
    }
   ],
   "source": [
    "dia = DIA(df)\n",
    "dia.plot_pca(pl.all().exclude(\"species\"), by = \"species\", dim=3)"
   ]
  },
  {
   "cell_type": "code",
   "execution_count": 23,
   "metadata": {},
   "outputs": [
    {
     "name": "stdout",
     "output_type": "stream",
     "text": [
      "shape: (2, 4)\n",
      "┌───────────┬──────────┬────────────┬────────────┐\n",
      "│ coeff     ┆ std_err  ┆ t          ┆ p>|t|      │\n",
      "│ ---       ┆ ---      ┆ ---        ┆ ---        │\n",
      "│ f64       ┆ f64      ┆ f64        ┆ f64        │\n",
      "╞═══════════╪══════════╪════════════╪════════════╡\n",
      "│ 1.858433  ┆ 0.085856 ┆ 21.646019  ┆ 1.0387e-47 │\n",
      "│ -7.101443 ┆ 0.506662 ┆ -14.016128 ┆ 6.1336e-29 │\n",
      "└───────────┴──────────┴────────────┴────────────┘\n"
     ]
    },
    {
     "data": {
      "application/vnd.plotly.v1+json": {
       "config": {
        "plotlyServerURL": "https://plot.ly"
       },
       "data": [
        {
         "mode": "markers",
         "name": "data scatter",
         "type": "scatter",
         "x": [
          5.1,
          4.9,
          4.7,
          4.6,
          5,
          5.4,
          4.6,
          5,
          4.4,
          4.9,
          5.4,
          4.8,
          4.8,
          4.3,
          5.8,
          5.7,
          5.4,
          5.1,
          5.7,
          5.1,
          5.4,
          5.1,
          4.6,
          5.1,
          4.8,
          5,
          5,
          5.2,
          5.2,
          4.7,
          4.8,
          5.4,
          5.2,
          5.5,
          4.9,
          5,
          5.5,
          4.9,
          4.4,
          5.1,
          5,
          4.5,
          4.4,
          5,
          5.1,
          4.8,
          5.1,
          4.6,
          5.3,
          5,
          7,
          6.4,
          6.9,
          5.5,
          6.5,
          5.7,
          6.3,
          4.9,
          6.6,
          5.2,
          5,
          5.9,
          6,
          6.1,
          5.6,
          6.7,
          5.6,
          5.8,
          6.2,
          5.6,
          5.9,
          6.1,
          6.3,
          6.1,
          6.4,
          6.6,
          6.8,
          6.7,
          6,
          5.7,
          5.5,
          5.5,
          5.8,
          6,
          5.4,
          6,
          6.7,
          6.3,
          5.6,
          5.5,
          5.5,
          6.1,
          5.8,
          5,
          5.6,
          5.7,
          5.7,
          6.2,
          5.1,
          5.7,
          6.3,
          5.8,
          7.1,
          6.3,
          6.5,
          7.6,
          4.9,
          7.3,
          6.7,
          7.2,
          6.5,
          6.4,
          6.8,
          5.7,
          5.8,
          6.4,
          6.5,
          7.7,
          7.7,
          6,
          6.9,
          5.6,
          7.7,
          6.3,
          6.7,
          7.2,
          6.2,
          6.1,
          6.4,
          7.2,
          7.4,
          7.9,
          6.4,
          6.3,
          6.1,
          7.7,
          6.3,
          6.4,
          6,
          6.9,
          6.7,
          6.9,
          5.8,
          6.8,
          6.7,
          6.7,
          6.3,
          6.5,
          6.2,
          5.9
         ],
         "y": [
          1.4,
          1.4,
          1.3,
          1.5,
          1.4,
          1.7,
          1.4,
          1.5,
          1.4,
          1.5,
          1.5,
          1.6,
          1.4,
          1.1,
          1.2,
          1.5,
          1.3,
          1.4,
          1.7,
          1.5,
          1.7,
          1.5,
          1,
          1.7,
          1.9,
          1.6,
          1.6,
          1.5,
          1.4,
          1.6,
          1.6,
          1.5,
          1.5,
          1.4,
          1.5,
          1.2,
          1.3,
          1.4,
          1.3,
          1.5,
          1.3,
          1.3,
          1.3,
          1.6,
          1.9,
          1.4,
          1.6,
          1.4,
          1.5,
          1.4,
          4.7,
          4.5,
          4.9,
          4,
          4.6,
          4.5,
          4.7,
          3.3,
          4.6,
          3.9,
          3.5,
          4.2,
          4,
          4.7,
          3.6,
          4.4,
          4.5,
          4.1,
          4.5,
          3.9,
          4.8,
          4,
          4.9,
          4.7,
          4.3,
          4.4,
          4.8,
          5,
          4.5,
          3.5,
          3.8,
          3.7,
          3.9,
          5.1,
          4.5,
          4.5,
          4.7,
          4.4,
          4.1,
          4,
          4.4,
          4.6,
          4,
          3.3,
          4.2,
          4.2,
          4.2,
          4.3,
          3,
          4.1,
          6,
          5.1,
          5.9,
          5.6,
          5.8,
          6.6,
          4.5,
          6.3,
          5.8,
          6.1,
          5.1,
          5.3,
          5.5,
          5,
          5.1,
          5.3,
          5.5,
          6.7,
          6.9,
          5,
          5.7,
          4.9,
          6.7,
          4.9,
          5.7,
          6,
          4.8,
          4.9,
          5.6,
          5.8,
          6.1,
          6.4,
          5.6,
          5.1,
          5.6,
          6.1,
          5.6,
          5.5,
          4.8,
          5.4,
          5.6,
          5.1,
          5.1,
          5.9,
          5.7,
          5.2,
          5,
          5.2,
          5.4,
          5.1
         ]
        },
        {
         "mode": "lines",
         "name": "Least Squares",
         "type": "scatter",
         "x": [
          5.1,
          4.9,
          4.7,
          4.6,
          5,
          5.4,
          4.6,
          5,
          4.4,
          4.9,
          5.4,
          4.8,
          4.8,
          4.3,
          5.8,
          5.7,
          5.4,
          5.1,
          5.7,
          5.1,
          5.4,
          5.1,
          4.6,
          5.1,
          4.8,
          5,
          5,
          5.2,
          5.2,
          4.7,
          4.8,
          5.4,
          5.2,
          5.5,
          4.9,
          5,
          5.5,
          4.9,
          4.4,
          5.1,
          5,
          4.5,
          4.4,
          5,
          5.1,
          4.8,
          5.1,
          4.6,
          5.3,
          5,
          7,
          6.4,
          6.9,
          5.5,
          6.5,
          5.7,
          6.3,
          4.9,
          6.6,
          5.2,
          5,
          5.9,
          6,
          6.1,
          5.6,
          6.7,
          5.6,
          5.8,
          6.2,
          5.6,
          5.9,
          6.1,
          6.3,
          6.1,
          6.4,
          6.6,
          6.8,
          6.7,
          6,
          5.7,
          5.5,
          5.5,
          5.8,
          6,
          5.4,
          6,
          6.7,
          6.3,
          5.6,
          5.5,
          5.5,
          6.1,
          5.8,
          5,
          5.6,
          5.7,
          5.7,
          6.2,
          5.1,
          5.7,
          6.3,
          5.8,
          7.1,
          6.3,
          6.5,
          7.6,
          4.9,
          7.3,
          6.7,
          7.2,
          6.5,
          6.4,
          6.8,
          5.7,
          5.8,
          6.4,
          6.5,
          7.7,
          7.7,
          6,
          6.9,
          5.6,
          7.7,
          6.3,
          6.7,
          7.2,
          6.2,
          6.1,
          6.4,
          7.2,
          7.4,
          7.9,
          6.4,
          6.3,
          6.1,
          7.7,
          6.3,
          6.4,
          6,
          6.9,
          6.7,
          6.9,
          5.8,
          6.8,
          6.7,
          6.7,
          6.3,
          6.5,
          6.2,
          5.9
         ],
         "y": [
          2.3765648194972098,
          2.0048782238462266,
          1.6331916281952434,
          1.4473483303697492,
          2.190721521671719,
          2.934094712973687,
          1.4473483303697492,
          2.190721521671719,
          1.0756617347187678,
          2.0048782238462266,
          2.934094712973687,
          1.8190349260207341,
          1.8190349260207341,
          0.8898184368932744,
          3.6774679042756535,
          3.491624606450163,
          2.934094712973687,
          2.3765648194972098,
          3.491624606450163,
          2.3765648194972098,
          2.934094712973687,
          2.3765648194972098,
          1.4473483303697492,
          2.3765648194972098,
          1.8190349260207341,
          2.190721521671719,
          2.190721521671719,
          2.5624081173227022,
          2.5624081173227022,
          1.6331916281952434,
          1.8190349260207341,
          2.934094712973687,
          2.5624081173227022,
          3.119938010799178,
          2.0048782238462266,
          2.190721521671719,
          3.119938010799178,
          2.0048782238462266,
          1.0756617347187678,
          2.3765648194972098,
          2.190721521671719,
          1.2615050325442585,
          1.0756617347187678,
          2.190721521671719,
          2.3765648194972098,
          1.8190349260207341,
          2.3765648194972098,
          1.4473483303697492,
          2.7482514151481947,
          2.190721521671719,
          5.907587478181558,
          4.792527691228607,
          5.721744180356067,
          3.119938010799178,
          4.978370989054097,
          3.491624606450163,
          4.606684393403114,
          2.0048782238462266,
          5.16421428687959,
          2.5624081173227022,
          2.190721521671719,
          3.863311202101146,
          4.0491544999266385,
          4.234997797752129,
          3.3057813086246703,
          5.350057584705082,
          3.3057813086246703,
          3.6774679042756535,
          4.420841095577622,
          3.3057813086246703,
          3.863311202101146,
          4.234997797752129,
          4.606684393403114,
          4.234997797752129,
          4.792527691228607,
          5.16421428687959,
          5.535900882530573,
          5.350057584705082,
          4.0491544999266385,
          3.491624606450163,
          3.119938010799178,
          3.119938010799178,
          3.6774679042756535,
          4.0491544999266385,
          2.934094712973687,
          4.0491544999266385,
          5.350057584705082,
          4.606684393403114,
          3.3057813086246703,
          3.119938010799178,
          3.119938010799178,
          4.234997797752129,
          3.6774679042756535,
          2.190721521671719,
          3.3057813086246703,
          3.491624606450163,
          3.491624606450163,
          4.420841095577622,
          2.3765648194972098,
          3.491624606450163,
          4.606684393403114,
          3.6774679042756535,
          6.0934307760070485,
          4.606684393403114,
          4.978370989054097,
          7.022647265134509,
          2.0048782238462266,
          6.4651173716580335,
          5.350057584705082,
          6.279274073832541,
          4.978370989054097,
          4.792527691228607,
          5.535900882530573,
          3.491624606450163,
          3.6774679042756535,
          4.792527691228607,
          4.978370989054097,
          7.208490562960002,
          7.208490562960002,
          4.0491544999266385,
          5.721744180356067,
          3.3057813086246703,
          7.208490562960002,
          4.606684393403114,
          5.350057584705082,
          6.279274073832541,
          4.420841095577622,
          4.234997797752129,
          4.792527691228607,
          6.279274073832541,
          6.650960669483526,
          7.5801771586109865,
          4.792527691228607,
          4.606684393403114,
          4.234997797752129,
          7.208490562960002,
          4.606684393403114,
          4.792527691228607,
          4.0491544999266385,
          5.721744180356067,
          5.350057584705082,
          5.721744180356067,
          3.6774679042756535,
          5.535900882530573,
          5.350057584705082,
          5.350057584705082,
          4.606684393403114,
          4.978370989054097,
          4.420841095577622,
          3.863311202101146
         ]
        }
       ],
       "layout": {
        "template": {
         "data": {
          "bar": [
           {
            "error_x": {
             "color": "#2a3f5f"
            },
            "error_y": {
             "color": "#2a3f5f"
            },
            "marker": {
             "line": {
              "color": "#E5ECF6",
              "width": 0.5
             },
             "pattern": {
              "fillmode": "overlay",
              "size": 10,
              "solidity": 0.2
             }
            },
            "type": "bar"
           }
          ],
          "barpolar": [
           {
            "marker": {
             "line": {
              "color": "#E5ECF6",
              "width": 0.5
             },
             "pattern": {
              "fillmode": "overlay",
              "size": 10,
              "solidity": 0.2
             }
            },
            "type": "barpolar"
           }
          ],
          "carpet": [
           {
            "aaxis": {
             "endlinecolor": "#2a3f5f",
             "gridcolor": "white",
             "linecolor": "white",
             "minorgridcolor": "white",
             "startlinecolor": "#2a3f5f"
            },
            "baxis": {
             "endlinecolor": "#2a3f5f",
             "gridcolor": "white",
             "linecolor": "white",
             "minorgridcolor": "white",
             "startlinecolor": "#2a3f5f"
            },
            "type": "carpet"
           }
          ],
          "choropleth": [
           {
            "colorbar": {
             "outlinewidth": 0,
             "ticks": ""
            },
            "type": "choropleth"
           }
          ],
          "contour": [
           {
            "colorbar": {
             "outlinewidth": 0,
             "ticks": ""
            },
            "colorscale": [
             [
              0,
              "#0d0887"
             ],
             [
              0.1111111111111111,
              "#46039f"
             ],
             [
              0.2222222222222222,
              "#7201a8"
             ],
             [
              0.3333333333333333,
              "#9c179e"
             ],
             [
              0.4444444444444444,
              "#bd3786"
             ],
             [
              0.5555555555555556,
              "#d8576b"
             ],
             [
              0.6666666666666666,
              "#ed7953"
             ],
             [
              0.7777777777777778,
              "#fb9f3a"
             ],
             [
              0.8888888888888888,
              "#fdca26"
             ],
             [
              1,
              "#f0f921"
             ]
            ],
            "type": "contour"
           }
          ],
          "contourcarpet": [
           {
            "colorbar": {
             "outlinewidth": 0,
             "ticks": ""
            },
            "type": "contourcarpet"
           }
          ],
          "heatmap": [
           {
            "colorbar": {
             "outlinewidth": 0,
             "ticks": ""
            },
            "colorscale": [
             [
              0,
              "#0d0887"
             ],
             [
              0.1111111111111111,
              "#46039f"
             ],
             [
              0.2222222222222222,
              "#7201a8"
             ],
             [
              0.3333333333333333,
              "#9c179e"
             ],
             [
              0.4444444444444444,
              "#bd3786"
             ],
             [
              0.5555555555555556,
              "#d8576b"
             ],
             [
              0.6666666666666666,
              "#ed7953"
             ],
             [
              0.7777777777777778,
              "#fb9f3a"
             ],
             [
              0.8888888888888888,
              "#fdca26"
             ],
             [
              1,
              "#f0f921"
             ]
            ],
            "type": "heatmap"
           }
          ],
          "heatmapgl": [
           {
            "colorbar": {
             "outlinewidth": 0,
             "ticks": ""
            },
            "colorscale": [
             [
              0,
              "#0d0887"
             ],
             [
              0.1111111111111111,
              "#46039f"
             ],
             [
              0.2222222222222222,
              "#7201a8"
             ],
             [
              0.3333333333333333,
              "#9c179e"
             ],
             [
              0.4444444444444444,
              "#bd3786"
             ],
             [
              0.5555555555555556,
              "#d8576b"
             ],
             [
              0.6666666666666666,
              "#ed7953"
             ],
             [
              0.7777777777777778,
              "#fb9f3a"
             ],
             [
              0.8888888888888888,
              "#fdca26"
             ],
             [
              1,
              "#f0f921"
             ]
            ],
            "type": "heatmapgl"
           }
          ],
          "histogram": [
           {
            "marker": {
             "pattern": {
              "fillmode": "overlay",
              "size": 10,
              "solidity": 0.2
             }
            },
            "type": "histogram"
           }
          ],
          "histogram2d": [
           {
            "colorbar": {
             "outlinewidth": 0,
             "ticks": ""
            },
            "colorscale": [
             [
              0,
              "#0d0887"
             ],
             [
              0.1111111111111111,
              "#46039f"
             ],
             [
              0.2222222222222222,
              "#7201a8"
             ],
             [
              0.3333333333333333,
              "#9c179e"
             ],
             [
              0.4444444444444444,
              "#bd3786"
             ],
             [
              0.5555555555555556,
              "#d8576b"
             ],
             [
              0.6666666666666666,
              "#ed7953"
             ],
             [
              0.7777777777777778,
              "#fb9f3a"
             ],
             [
              0.8888888888888888,
              "#fdca26"
             ],
             [
              1,
              "#f0f921"
             ]
            ],
            "type": "histogram2d"
           }
          ],
          "histogram2dcontour": [
           {
            "colorbar": {
             "outlinewidth": 0,
             "ticks": ""
            },
            "colorscale": [
             [
              0,
              "#0d0887"
             ],
             [
              0.1111111111111111,
              "#46039f"
             ],
             [
              0.2222222222222222,
              "#7201a8"
             ],
             [
              0.3333333333333333,
              "#9c179e"
             ],
             [
              0.4444444444444444,
              "#bd3786"
             ],
             [
              0.5555555555555556,
              "#d8576b"
             ],
             [
              0.6666666666666666,
              "#ed7953"
             ],
             [
              0.7777777777777778,
              "#fb9f3a"
             ],
             [
              0.8888888888888888,
              "#fdca26"
             ],
             [
              1,
              "#f0f921"
             ]
            ],
            "type": "histogram2dcontour"
           }
          ],
          "mesh3d": [
           {
            "colorbar": {
             "outlinewidth": 0,
             "ticks": ""
            },
            "type": "mesh3d"
           }
          ],
          "parcoords": [
           {
            "line": {
             "colorbar": {
              "outlinewidth": 0,
              "ticks": ""
             }
            },
            "type": "parcoords"
           }
          ],
          "pie": [
           {
            "automargin": true,
            "type": "pie"
           }
          ],
          "scatter": [
           {
            "fillpattern": {
             "fillmode": "overlay",
             "size": 10,
             "solidity": 0.2
            },
            "type": "scatter"
           }
          ],
          "scatter3d": [
           {
            "line": {
             "colorbar": {
              "outlinewidth": 0,
              "ticks": ""
             }
            },
            "marker": {
             "colorbar": {
              "outlinewidth": 0,
              "ticks": ""
             }
            },
            "type": "scatter3d"
           }
          ],
          "scattercarpet": [
           {
            "marker": {
             "colorbar": {
              "outlinewidth": 0,
              "ticks": ""
             }
            },
            "type": "scattercarpet"
           }
          ],
          "scattergeo": [
           {
            "marker": {
             "colorbar": {
              "outlinewidth": 0,
              "ticks": ""
             }
            },
            "type": "scattergeo"
           }
          ],
          "scattergl": [
           {
            "marker": {
             "colorbar": {
              "outlinewidth": 0,
              "ticks": ""
             }
            },
            "type": "scattergl"
           }
          ],
          "scattermapbox": [
           {
            "marker": {
             "colorbar": {
              "outlinewidth": 0,
              "ticks": ""
             }
            },
            "type": "scattermapbox"
           }
          ],
          "scatterpolar": [
           {
            "marker": {
             "colorbar": {
              "outlinewidth": 0,
              "ticks": ""
             }
            },
            "type": "scatterpolar"
           }
          ],
          "scatterpolargl": [
           {
            "marker": {
             "colorbar": {
              "outlinewidth": 0,
              "ticks": ""
             }
            },
            "type": "scatterpolargl"
           }
          ],
          "scatterternary": [
           {
            "marker": {
             "colorbar": {
              "outlinewidth": 0,
              "ticks": ""
             }
            },
            "type": "scatterternary"
           }
          ],
          "surface": [
           {
            "colorbar": {
             "outlinewidth": 0,
             "ticks": ""
            },
            "colorscale": [
             [
              0,
              "#0d0887"
             ],
             [
              0.1111111111111111,
              "#46039f"
             ],
             [
              0.2222222222222222,
              "#7201a8"
             ],
             [
              0.3333333333333333,
              "#9c179e"
             ],
             [
              0.4444444444444444,
              "#bd3786"
             ],
             [
              0.5555555555555556,
              "#d8576b"
             ],
             [
              0.6666666666666666,
              "#ed7953"
             ],
             [
              0.7777777777777778,
              "#fb9f3a"
             ],
             [
              0.8888888888888888,
              "#fdca26"
             ],
             [
              1,
              "#f0f921"
             ]
            ],
            "type": "surface"
           }
          ],
          "table": [
           {
            "cells": {
             "fill": {
              "color": "#EBF0F8"
             },
             "line": {
              "color": "white"
             }
            },
            "header": {
             "fill": {
              "color": "#C8D4E3"
             },
             "line": {
              "color": "white"
             }
            },
            "type": "table"
           }
          ]
         },
         "layout": {
          "annotationdefaults": {
           "arrowcolor": "#2a3f5f",
           "arrowhead": 0,
           "arrowwidth": 1
          },
          "autotypenumbers": "strict",
          "coloraxis": {
           "colorbar": {
            "outlinewidth": 0,
            "ticks": ""
           }
          },
          "colorscale": {
           "diverging": [
            [
             0,
             "#8e0152"
            ],
            [
             0.1,
             "#c51b7d"
            ],
            [
             0.2,
             "#de77ae"
            ],
            [
             0.3,
             "#f1b6da"
            ],
            [
             0.4,
             "#fde0ef"
            ],
            [
             0.5,
             "#f7f7f7"
            ],
            [
             0.6,
             "#e6f5d0"
            ],
            [
             0.7,
             "#b8e186"
            ],
            [
             0.8,
             "#7fbc41"
            ],
            [
             0.9,
             "#4d9221"
            ],
            [
             1,
             "#276419"
            ]
           ],
           "sequential": [
            [
             0,
             "#0d0887"
            ],
            [
             0.1111111111111111,
             "#46039f"
            ],
            [
             0.2222222222222222,
             "#7201a8"
            ],
            [
             0.3333333333333333,
             "#9c179e"
            ],
            [
             0.4444444444444444,
             "#bd3786"
            ],
            [
             0.5555555555555556,
             "#d8576b"
            ],
            [
             0.6666666666666666,
             "#ed7953"
            ],
            [
             0.7777777777777778,
             "#fb9f3a"
            ],
            [
             0.8888888888888888,
             "#fdca26"
            ],
            [
             1,
             "#f0f921"
            ]
           ],
           "sequentialminus": [
            [
             0,
             "#0d0887"
            ],
            [
             0.1111111111111111,
             "#46039f"
            ],
            [
             0.2222222222222222,
             "#7201a8"
            ],
            [
             0.3333333333333333,
             "#9c179e"
            ],
            [
             0.4444444444444444,
             "#bd3786"
            ],
            [
             0.5555555555555556,
             "#d8576b"
            ],
            [
             0.6666666666666666,
             "#ed7953"
            ],
            [
             0.7777777777777778,
             "#fb9f3a"
            ],
            [
             0.8888888888888888,
             "#fdca26"
            ],
            [
             1,
             "#f0f921"
            ]
           ]
          },
          "colorway": [
           "#636efa",
           "#EF553B",
           "#00cc96",
           "#ab63fa",
           "#FFA15A",
           "#19d3f3",
           "#FF6692",
           "#B6E880",
           "#FF97FF",
           "#FECB52"
          ],
          "font": {
           "color": "#2a3f5f"
          },
          "geo": {
           "bgcolor": "white",
           "lakecolor": "white",
           "landcolor": "#E5ECF6",
           "showlakes": true,
           "showland": true,
           "subunitcolor": "white"
          },
          "hoverlabel": {
           "align": "left"
          },
          "hovermode": "closest",
          "mapbox": {
           "style": "light"
          },
          "paper_bgcolor": "white",
          "plot_bgcolor": "#E5ECF6",
          "polar": {
           "angularaxis": {
            "gridcolor": "white",
            "linecolor": "white",
            "ticks": ""
           },
           "bgcolor": "#E5ECF6",
           "radialaxis": {
            "gridcolor": "white",
            "linecolor": "white",
            "ticks": ""
           }
          },
          "scene": {
           "xaxis": {
            "backgroundcolor": "#E5ECF6",
            "gridcolor": "white",
            "gridwidth": 2,
            "linecolor": "white",
            "showbackground": true,
            "ticks": "",
            "zerolinecolor": "white"
           },
           "yaxis": {
            "backgroundcolor": "#E5ECF6",
            "gridcolor": "white",
            "gridwidth": 2,
            "linecolor": "white",
            "showbackground": true,
            "ticks": "",
            "zerolinecolor": "white"
           },
           "zaxis": {
            "backgroundcolor": "#E5ECF6",
            "gridcolor": "white",
            "gridwidth": 2,
            "linecolor": "white",
            "showbackground": true,
            "ticks": "",
            "zerolinecolor": "white"
           }
          },
          "shapedefaults": {
           "line": {
            "color": "#2a3f5f"
           }
          },
          "ternary": {
           "aaxis": {
            "gridcolor": "white",
            "linecolor": "white",
            "ticks": ""
           },
           "baxis": {
            "gridcolor": "white",
            "linecolor": "white",
            "ticks": ""
           },
           "bgcolor": "#E5ECF6",
           "caxis": {
            "gridcolor": "white",
            "linecolor": "white",
            "ticks": ""
           }
          },
          "title": {
           "x": 0.05
          },
          "xaxis": {
           "automargin": true,
           "gridcolor": "white",
           "linecolor": "white",
           "ticks": "",
           "title": {
            "standoff": 15
           },
           "zerolinecolor": "white",
           "zerolinewidth": 2
          },
          "yaxis": {
           "automargin": true,
           "gridcolor": "white",
           "linecolor": "white",
           "ticks": "",
           "title": {
            "standoff": 15
           },
           "zerolinecolor": "white",
           "zerolinewidth": 2
          }
         }
        },
        "title": {
         "text": "y=petal length (cm), x=sepal length (cm), y_pred = (sepal length (cm)) * 1.85843 + -7.10144<br><sup></sup>"
        },
        "xaxis": {
         "title": {
          "text": "sepal length (cm)"
         }
        },
        "yaxis": {
         "title": {
          "text": "petal length (cm)"
         }
        }
       }
      }
     },
     "metadata": {},
     "output_type": "display_data"
    }
   ],
   "source": [
    "# Just for fun, let's see how well can sepal length approximate petal length\n",
    "dia.plot_lstsq(x = \"sepal length (cm)\", target = \"petal length (cm)\", add_bias=True)"
   ]
  },
  {
   "cell_type": "code",
   "execution_count": 24,
   "metadata": {},
   "outputs": [
    {
     "name": "stdout",
     "output_type": "stream",
     "text": [
      "shape: (2, 4)\n",
      "┌──────────┬──────────┬──────────┬────────────┐\n",
      "│ coeff    ┆ std_err  ┆ t        ┆ p>|t|      │\n",
      "│ ---      ┆ ---      ┆ ---      ┆ ---        │\n",
      "│ f64      ┆ f64      ┆ f64      ┆ f64        │\n",
      "╞══════════╪══════════╪══════════╪════════════╡\n",
      "│ 0.68647  ┆ 0.086307 ┆ 7.953806 ┆ 2.5862e-10 │\n",
      "│ 0.185116 ┆ 0.514214 ┆ 0.359997 ┆ 0.720428   │\n",
      "└──────────┴──────────┴──────────┴────────────┘\n"
     ]
    },
    {
     "data": {
      "application/vnd.plotly.v1+json": {
       "config": {
        "plotlyServerURL": "https://plot.ly"
       },
       "data": [
        {
         "mode": "markers",
         "name": "data scatter",
         "type": "scatter",
         "x": [
          5.1,
          4.9,
          4.7,
          4.6,
          5,
          5.4,
          4.6,
          5,
          4.4,
          4.9,
          5.4,
          4.8,
          4.8,
          4.3,
          5.8,
          5.7,
          5.4,
          5.1,
          5.7,
          5.1,
          5.4,
          5.1,
          4.6,
          5.1,
          4.8,
          5,
          5,
          5.2,
          5.2,
          4.7,
          4.8,
          5.4,
          5.2,
          5.5,
          4.9,
          5,
          5.5,
          4.9,
          4.4,
          5.1,
          5,
          4.5,
          4.4,
          5,
          5.1,
          4.8,
          5.1,
          4.6,
          5.3,
          5,
          7,
          6.4,
          6.9,
          5.5,
          6.5,
          5.7,
          6.3,
          4.9,
          6.6,
          5.2,
          5,
          5.9,
          6,
          6.1,
          5.6,
          6.7,
          5.6,
          5.8,
          6.2,
          5.6,
          5.9,
          6.1,
          6.3,
          6.1,
          6.4,
          6.6,
          6.8,
          6.7,
          6,
          5.7,
          5.5,
          5.5,
          5.8,
          6,
          5.4,
          6,
          6.7,
          6.3,
          5.6,
          5.5,
          5.5,
          6.1,
          5.8,
          5,
          5.6,
          5.7,
          5.7,
          6.2,
          5.1,
          5.7,
          6.3,
          5.8,
          7.1,
          6.3,
          6.5,
          7.6,
          4.9,
          7.3,
          6.7,
          7.2,
          6.5,
          6.4,
          6.8,
          5.7,
          5.8,
          6.4,
          6.5,
          7.7,
          7.7,
          6,
          6.9,
          5.6,
          7.7,
          6.3,
          6.7,
          7.2,
          6.2,
          6.1,
          6.4,
          7.2,
          7.4,
          7.9,
          6.4,
          6.3,
          6.1,
          7.7,
          6.3,
          6.4,
          6,
          6.9,
          6.7,
          6.9,
          5.8,
          6.8,
          6.7,
          6.7,
          6.3,
          6.5,
          6.2,
          5.9
         ],
         "y": [
          1.4,
          1.4,
          1.3,
          1.5,
          1.4,
          1.7,
          1.4,
          1.5,
          1.4,
          1.5,
          1.5,
          1.6,
          1.4,
          1.1,
          1.2,
          1.5,
          1.3,
          1.4,
          1.7,
          1.5,
          1.7,
          1.5,
          1,
          1.7,
          1.9,
          1.6,
          1.6,
          1.5,
          1.4,
          1.6,
          1.6,
          1.5,
          1.5,
          1.4,
          1.5,
          1.2,
          1.3,
          1.4,
          1.3,
          1.5,
          1.3,
          1.3,
          1.3,
          1.6,
          1.9,
          1.4,
          1.6,
          1.4,
          1.5,
          1.4,
          4.7,
          4.5,
          4.9,
          4,
          4.6,
          4.5,
          4.7,
          3.3,
          4.6,
          3.9,
          3.5,
          4.2,
          4,
          4.7,
          3.6,
          4.4,
          4.5,
          4.1,
          4.5,
          3.9,
          4.8,
          4,
          4.9,
          4.7,
          4.3,
          4.4,
          4.8,
          5,
          4.5,
          3.5,
          3.8,
          3.7,
          3.9,
          5.1,
          4.5,
          4.5,
          4.7,
          4.4,
          4.1,
          4,
          4.4,
          4.6,
          4,
          3.3,
          4.2,
          4.2,
          4.2,
          4.3,
          3,
          4.1,
          6,
          5.1,
          5.9,
          5.6,
          5.8,
          6.6,
          4.5,
          6.3,
          5.8,
          6.1,
          5.1,
          5.3,
          5.5,
          5,
          5.1,
          5.3,
          5.5,
          6.7,
          6.9,
          5,
          5.7,
          4.9,
          6.7,
          4.9,
          5.7,
          6,
          4.8,
          4.9,
          5.6,
          5.8,
          6.1,
          6.4,
          5.6,
          5.1,
          5.6,
          6.1,
          5.6,
          5.5,
          4.8,
          5.4,
          5.6,
          5.1,
          5.1,
          5.9,
          5.7,
          5.2,
          5,
          5.2,
          5.4,
          5.1
         ]
        },
        {
         "mode": "lines",
         "name": "Least Squares",
         "type": "scatter",
         "x": [
          5.1,
          4.9,
          4.7,
          4.6,
          5,
          5.4,
          4.6,
          5,
          4.4,
          4.9,
          5.4,
          4.8,
          4.8,
          4.3,
          5.8,
          5.7,
          5.4,
          5.1,
          5.7,
          5.1,
          5.4,
          5.1,
          4.6,
          5.1,
          4.8,
          5,
          5,
          5.2,
          5.2,
          4.7,
          4.8,
          5.4,
          5.2,
          5.5,
          4.9,
          5,
          5.5,
          4.9,
          4.4,
          5.1,
          5,
          4.5,
          4.4,
          5,
          5.1,
          4.8,
          5.1,
          4.6,
          5.3,
          5,
          7,
          6.4,
          6.9,
          5.5,
          6.5,
          5.7,
          6.3,
          4.9,
          6.6,
          5.2,
          5,
          5.9,
          6,
          6.1,
          5.6,
          6.7,
          5.6,
          5.8,
          6.2,
          5.6,
          5.9,
          6.1,
          6.3,
          6.1,
          6.4,
          6.6,
          6.8,
          6.7,
          6,
          5.7,
          5.5,
          5.5,
          5.8,
          6,
          5.4,
          6,
          6.7,
          6.3,
          5.6,
          5.5,
          5.5,
          6.1,
          5.8,
          5,
          5.6,
          5.7,
          5.7,
          6.2,
          5.1,
          5.7,
          6.3,
          5.8,
          7.1,
          6.3,
          6.5,
          7.6,
          4.9,
          7.3,
          6.7,
          7.2,
          6.5,
          6.4,
          6.8,
          5.7,
          5.8,
          6.4,
          6.5,
          7.7,
          7.7,
          6,
          6.9,
          5.6,
          7.7,
          6.3,
          6.7,
          7.2,
          6.2,
          6.1,
          6.4,
          7.2,
          7.4,
          7.9,
          6.4,
          6.3,
          6.1,
          7.7,
          6.3,
          6.4,
          6,
          6.9,
          6.7,
          6.9,
          5.8,
          6.8,
          6.7,
          6.7,
          6.3,
          6.5,
          6.2,
          5.9
         ],
         "y": [
          3.6861112813284738,
          3.548817329493197,
          3.4115233776579195,
          3.3428764017402806,
          3.6174643054108353,
          3.89205220908139,
          3.3428764017402806,
          3.6174643054108353,
          3.2055824499050036,
          3.548817329493197,
          3.89205220908139,
          3.480170353575558,
          3.480170353575558,
          3.1369354739873647,
          4.166640112751944,
          4.097993136834305,
          3.89205220908139,
          3.6861112813284738,
          4.097993136834305,
          3.6861112813284738,
          3.89205220908139,
          3.6861112813284738,
          3.3428764017402806,
          3.6861112813284738,
          3.480170353575558,
          3.6174643054108353,
          3.6174643054108353,
          3.7547582572461127,
          3.7547582572461127,
          3.4115233776579195,
          3.480170353575558,
          3.89205220908139,
          3.7547582572461127,
          3.9606991849990285,
          3.548817329493197,
          3.6174643054108353,
          3.9606991849990285,
          3.548817329493197,
          3.2055824499050036,
          3.6861112813284738,
          3.6174643054108353,
          3.274229425822642,
          3.2055824499050036,
          3.6174643054108353,
          3.6861112813284738,
          3.480170353575558,
          3.6861112813284738,
          3.3428764017402806,
          3.823405233163751,
          3.6174643054108353,
          4.990403823763607,
          4.578521968257776,
          4.921756847845969,
          3.9606991849990285,
          4.647168944175414,
          4.097993136834305,
          4.509874992340137,
          3.548817329493197,
          4.7158159200930525,
          3.7547582572461127,
          3.6174643054108353,
          4.235287088669582,
          4.303934064587221,
          4.372581040504859,
          4.029346160916666,
          4.784462896010692,
          4.029346160916666,
          4.166640112751944,
          4.441228016422499,
          4.029346160916666,
          4.235287088669582,
          4.372581040504859,
          4.509874992340137,
          4.372581040504859,
          4.578521968257776,
          4.7158159200930525,
          4.85310987192833,
          4.784462896010692,
          4.303934064587221,
          4.097993136834305,
          3.9606991849990285,
          3.9606991849990285,
          4.166640112751944,
          4.303934064587221,
          3.89205220908139,
          4.303934064587221,
          4.784462896010692,
          4.509874992340137,
          4.029346160916666,
          3.9606991849990285,
          3.9606991849990285,
          4.372581040504859,
          4.166640112751944,
          3.6174643054108353,
          4.029346160916666,
          4.097993136834305,
          4.097993136834305,
          4.441228016422499,
          3.6861112813284738,
          4.097993136834305,
          4.509874992340137,
          4.166640112751944,
          5.059050799681246,
          4.509874992340137,
          4.647168944175414,
          5.402285679269439,
          3.548817329493197,
          5.1963447515165235,
          4.784462896010692,
          5.127697775598885,
          4.647168944175414,
          4.578521968257776,
          4.85310987192833,
          4.097993136834305,
          4.166640112751944,
          4.578521968257776,
          4.647168944175414,
          5.470932655187078,
          5.470932655187078,
          4.303934064587221,
          4.921756847845969,
          4.029346160916666,
          5.470932655187078,
          4.509874992340137,
          4.784462896010692,
          5.127697775598885,
          4.441228016422499,
          4.372581040504859,
          4.578521968257776,
          5.127697775598885,
          5.264991727434162,
          5.608226607022355,
          4.578521968257776,
          4.509874992340137,
          4.372581040504859,
          5.470932655187078,
          4.509874992340137,
          4.578521968257776,
          4.303934064587221,
          4.921756847845969,
          4.784462896010692,
          4.921756847845969,
          4.166640112751944,
          4.85310987192833,
          4.784462896010692,
          4.784462896010692,
          4.509874992340137,
          4.647168944175414,
          4.441228016422499,
          4.235287088669582
         ]
        }
       ],
       "layout": {
        "template": {
         "data": {
          "bar": [
           {
            "error_x": {
             "color": "#2a3f5f"
            },
            "error_y": {
             "color": "#2a3f5f"
            },
            "marker": {
             "line": {
              "color": "#E5ECF6",
              "width": 0.5
             },
             "pattern": {
              "fillmode": "overlay",
              "size": 10,
              "solidity": 0.2
             }
            },
            "type": "bar"
           }
          ],
          "barpolar": [
           {
            "marker": {
             "line": {
              "color": "#E5ECF6",
              "width": 0.5
             },
             "pattern": {
              "fillmode": "overlay",
              "size": 10,
              "solidity": 0.2
             }
            },
            "type": "barpolar"
           }
          ],
          "carpet": [
           {
            "aaxis": {
             "endlinecolor": "#2a3f5f",
             "gridcolor": "white",
             "linecolor": "white",
             "minorgridcolor": "white",
             "startlinecolor": "#2a3f5f"
            },
            "baxis": {
             "endlinecolor": "#2a3f5f",
             "gridcolor": "white",
             "linecolor": "white",
             "minorgridcolor": "white",
             "startlinecolor": "#2a3f5f"
            },
            "type": "carpet"
           }
          ],
          "choropleth": [
           {
            "colorbar": {
             "outlinewidth": 0,
             "ticks": ""
            },
            "type": "choropleth"
           }
          ],
          "contour": [
           {
            "colorbar": {
             "outlinewidth": 0,
             "ticks": ""
            },
            "colorscale": [
             [
              0,
              "#0d0887"
             ],
             [
              0.1111111111111111,
              "#46039f"
             ],
             [
              0.2222222222222222,
              "#7201a8"
             ],
             [
              0.3333333333333333,
              "#9c179e"
             ],
             [
              0.4444444444444444,
              "#bd3786"
             ],
             [
              0.5555555555555556,
              "#d8576b"
             ],
             [
              0.6666666666666666,
              "#ed7953"
             ],
             [
              0.7777777777777778,
              "#fb9f3a"
             ],
             [
              0.8888888888888888,
              "#fdca26"
             ],
             [
              1,
              "#f0f921"
             ]
            ],
            "type": "contour"
           }
          ],
          "contourcarpet": [
           {
            "colorbar": {
             "outlinewidth": 0,
             "ticks": ""
            },
            "type": "contourcarpet"
           }
          ],
          "heatmap": [
           {
            "colorbar": {
             "outlinewidth": 0,
             "ticks": ""
            },
            "colorscale": [
             [
              0,
              "#0d0887"
             ],
             [
              0.1111111111111111,
              "#46039f"
             ],
             [
              0.2222222222222222,
              "#7201a8"
             ],
             [
              0.3333333333333333,
              "#9c179e"
             ],
             [
              0.4444444444444444,
              "#bd3786"
             ],
             [
              0.5555555555555556,
              "#d8576b"
             ],
             [
              0.6666666666666666,
              "#ed7953"
             ],
             [
              0.7777777777777778,
              "#fb9f3a"
             ],
             [
              0.8888888888888888,
              "#fdca26"
             ],
             [
              1,
              "#f0f921"
             ]
            ],
            "type": "heatmap"
           }
          ],
          "heatmapgl": [
           {
            "colorbar": {
             "outlinewidth": 0,
             "ticks": ""
            },
            "colorscale": [
             [
              0,
              "#0d0887"
             ],
             [
              0.1111111111111111,
              "#46039f"
             ],
             [
              0.2222222222222222,
              "#7201a8"
             ],
             [
              0.3333333333333333,
              "#9c179e"
             ],
             [
              0.4444444444444444,
              "#bd3786"
             ],
             [
              0.5555555555555556,
              "#d8576b"
             ],
             [
              0.6666666666666666,
              "#ed7953"
             ],
             [
              0.7777777777777778,
              "#fb9f3a"
             ],
             [
              0.8888888888888888,
              "#fdca26"
             ],
             [
              1,
              "#f0f921"
             ]
            ],
            "type": "heatmapgl"
           }
          ],
          "histogram": [
           {
            "marker": {
             "pattern": {
              "fillmode": "overlay",
              "size": 10,
              "solidity": 0.2
             }
            },
            "type": "histogram"
           }
          ],
          "histogram2d": [
           {
            "colorbar": {
             "outlinewidth": 0,
             "ticks": ""
            },
            "colorscale": [
             [
              0,
              "#0d0887"
             ],
             [
              0.1111111111111111,
              "#46039f"
             ],
             [
              0.2222222222222222,
              "#7201a8"
             ],
             [
              0.3333333333333333,
              "#9c179e"
             ],
             [
              0.4444444444444444,
              "#bd3786"
             ],
             [
              0.5555555555555556,
              "#d8576b"
             ],
             [
              0.6666666666666666,
              "#ed7953"
             ],
             [
              0.7777777777777778,
              "#fb9f3a"
             ],
             [
              0.8888888888888888,
              "#fdca26"
             ],
             [
              1,
              "#f0f921"
             ]
            ],
            "type": "histogram2d"
           }
          ],
          "histogram2dcontour": [
           {
            "colorbar": {
             "outlinewidth": 0,
             "ticks": ""
            },
            "colorscale": [
             [
              0,
              "#0d0887"
             ],
             [
              0.1111111111111111,
              "#46039f"
             ],
             [
              0.2222222222222222,
              "#7201a8"
             ],
             [
              0.3333333333333333,
              "#9c179e"
             ],
             [
              0.4444444444444444,
              "#bd3786"
             ],
             [
              0.5555555555555556,
              "#d8576b"
             ],
             [
              0.6666666666666666,
              "#ed7953"
             ],
             [
              0.7777777777777778,
              "#fb9f3a"
             ],
             [
              0.8888888888888888,
              "#fdca26"
             ],
             [
              1,
              "#f0f921"
             ]
            ],
            "type": "histogram2dcontour"
           }
          ],
          "mesh3d": [
           {
            "colorbar": {
             "outlinewidth": 0,
             "ticks": ""
            },
            "type": "mesh3d"
           }
          ],
          "parcoords": [
           {
            "line": {
             "colorbar": {
              "outlinewidth": 0,
              "ticks": ""
             }
            },
            "type": "parcoords"
           }
          ],
          "pie": [
           {
            "automargin": true,
            "type": "pie"
           }
          ],
          "scatter": [
           {
            "fillpattern": {
             "fillmode": "overlay",
             "size": 10,
             "solidity": 0.2
            },
            "type": "scatter"
           }
          ],
          "scatter3d": [
           {
            "line": {
             "colorbar": {
              "outlinewidth": 0,
              "ticks": ""
             }
            },
            "marker": {
             "colorbar": {
              "outlinewidth": 0,
              "ticks": ""
             }
            },
            "type": "scatter3d"
           }
          ],
          "scattercarpet": [
           {
            "marker": {
             "colorbar": {
              "outlinewidth": 0,
              "ticks": ""
             }
            },
            "type": "scattercarpet"
           }
          ],
          "scattergeo": [
           {
            "marker": {
             "colorbar": {
              "outlinewidth": 0,
              "ticks": ""
             }
            },
            "type": "scattergeo"
           }
          ],
          "scattergl": [
           {
            "marker": {
             "colorbar": {
              "outlinewidth": 0,
              "ticks": ""
             }
            },
            "type": "scattergl"
           }
          ],
          "scattermapbox": [
           {
            "marker": {
             "colorbar": {
              "outlinewidth": 0,
              "ticks": ""
             }
            },
            "type": "scattermapbox"
           }
          ],
          "scatterpolar": [
           {
            "marker": {
             "colorbar": {
              "outlinewidth": 0,
              "ticks": ""
             }
            },
            "type": "scatterpolar"
           }
          ],
          "scatterpolargl": [
           {
            "marker": {
             "colorbar": {
              "outlinewidth": 0,
              "ticks": ""
             }
            },
            "type": "scatterpolargl"
           }
          ],
          "scatterternary": [
           {
            "marker": {
             "colorbar": {
              "outlinewidth": 0,
              "ticks": ""
             }
            },
            "type": "scatterternary"
           }
          ],
          "surface": [
           {
            "colorbar": {
             "outlinewidth": 0,
             "ticks": ""
            },
            "colorscale": [
             [
              0,
              "#0d0887"
             ],
             [
              0.1111111111111111,
              "#46039f"
             ],
             [
              0.2222222222222222,
              "#7201a8"
             ],
             [
              0.3333333333333333,
              "#9c179e"
             ],
             [
              0.4444444444444444,
              "#bd3786"
             ],
             [
              0.5555555555555556,
              "#d8576b"
             ],
             [
              0.6666666666666666,
              "#ed7953"
             ],
             [
              0.7777777777777778,
              "#fb9f3a"
             ],
             [
              0.8888888888888888,
              "#fdca26"
             ],
             [
              1,
              "#f0f921"
             ]
            ],
            "type": "surface"
           }
          ],
          "table": [
           {
            "cells": {
             "fill": {
              "color": "#EBF0F8"
             },
             "line": {
              "color": "white"
             }
            },
            "header": {
             "fill": {
              "color": "#C8D4E3"
             },
             "line": {
              "color": "white"
             }
            },
            "type": "table"
           }
          ]
         },
         "layout": {
          "annotationdefaults": {
           "arrowcolor": "#2a3f5f",
           "arrowhead": 0,
           "arrowwidth": 1
          },
          "autotypenumbers": "strict",
          "coloraxis": {
           "colorbar": {
            "outlinewidth": 0,
            "ticks": ""
           }
          },
          "colorscale": {
           "diverging": [
            [
             0,
             "#8e0152"
            ],
            [
             0.1,
             "#c51b7d"
            ],
            [
             0.2,
             "#de77ae"
            ],
            [
             0.3,
             "#f1b6da"
            ],
            [
             0.4,
             "#fde0ef"
            ],
            [
             0.5,
             "#f7f7f7"
            ],
            [
             0.6,
             "#e6f5d0"
            ],
            [
             0.7,
             "#b8e186"
            ],
            [
             0.8,
             "#7fbc41"
            ],
            [
             0.9,
             "#4d9221"
            ],
            [
             1,
             "#276419"
            ]
           ],
           "sequential": [
            [
             0,
             "#0d0887"
            ],
            [
             0.1111111111111111,
             "#46039f"
            ],
            [
             0.2222222222222222,
             "#7201a8"
            ],
            [
             0.3333333333333333,
             "#9c179e"
            ],
            [
             0.4444444444444444,
             "#bd3786"
            ],
            [
             0.5555555555555556,
             "#d8576b"
            ],
            [
             0.6666666666666666,
             "#ed7953"
            ],
            [
             0.7777777777777778,
             "#fb9f3a"
            ],
            [
             0.8888888888888888,
             "#fdca26"
            ],
            [
             1,
             "#f0f921"
            ]
           ],
           "sequentialminus": [
            [
             0,
             "#0d0887"
            ],
            [
             0.1111111111111111,
             "#46039f"
            ],
            [
             0.2222222222222222,
             "#7201a8"
            ],
            [
             0.3333333333333333,
             "#9c179e"
            ],
            [
             0.4444444444444444,
             "#bd3786"
            ],
            [
             0.5555555555555556,
             "#d8576b"
            ],
            [
             0.6666666666666666,
             "#ed7953"
            ],
            [
             0.7777777777777778,
             "#fb9f3a"
            ],
            [
             0.8888888888888888,
             "#fdca26"
            ],
            [
             1,
             "#f0f921"
            ]
           ]
          },
          "colorway": [
           "#636efa",
           "#EF553B",
           "#00cc96",
           "#ab63fa",
           "#FFA15A",
           "#19d3f3",
           "#FF6692",
           "#B6E880",
           "#FF97FF",
           "#FECB52"
          ],
          "font": {
           "color": "#2a3f5f"
          },
          "geo": {
           "bgcolor": "white",
           "lakecolor": "white",
           "landcolor": "#E5ECF6",
           "showlakes": true,
           "showland": true,
           "subunitcolor": "white"
          },
          "hoverlabel": {
           "align": "left"
          },
          "hovermode": "closest",
          "mapbox": {
           "style": "light"
          },
          "paper_bgcolor": "white",
          "plot_bgcolor": "#E5ECF6",
          "polar": {
           "angularaxis": {
            "gridcolor": "white",
            "linecolor": "white",
            "ticks": ""
           },
           "bgcolor": "#E5ECF6",
           "radialaxis": {
            "gridcolor": "white",
            "linecolor": "white",
            "ticks": ""
           }
          },
          "scene": {
           "xaxis": {
            "backgroundcolor": "#E5ECF6",
            "gridcolor": "white",
            "gridwidth": 2,
            "linecolor": "white",
            "showbackground": true,
            "ticks": "",
            "zerolinecolor": "white"
           },
           "yaxis": {
            "backgroundcolor": "#E5ECF6",
            "gridcolor": "white",
            "gridwidth": 2,
            "linecolor": "white",
            "showbackground": true,
            "ticks": "",
            "zerolinecolor": "white"
           },
           "zaxis": {
            "backgroundcolor": "#E5ECF6",
            "gridcolor": "white",
            "gridwidth": 2,
            "linecolor": "white",
            "showbackground": true,
            "ticks": "",
            "zerolinecolor": "white"
           }
          },
          "shapedefaults": {
           "line": {
            "color": "#2a3f5f"
           }
          },
          "ternary": {
           "aaxis": {
            "gridcolor": "white",
            "linecolor": "white",
            "ticks": ""
           },
           "baxis": {
            "gridcolor": "white",
            "linecolor": "white",
            "ticks": ""
           },
           "bgcolor": "#E5ECF6",
           "caxis": {
            "gridcolor": "white",
            "linecolor": "white",
            "ticks": ""
           }
          },
          "title": {
           "x": 0.05
          },
          "xaxis": {
           "automargin": true,
           "gridcolor": "white",
           "linecolor": "white",
           "ticks": "",
           "title": {
            "standoff": 15
           },
           "zerolinecolor": "white",
           "zerolinewidth": 2
          },
          "yaxis": {
           "automargin": true,
           "gridcolor": "white",
           "linecolor": "white",
           "ticks": "",
           "title": {
            "standoff": 15
           },
           "zerolinecolor": "white",
           "zerolinewidth": 2
          }
         }
        },
        "title": {
         "text": "y=petal length (cm), x=sepal length (cm), y_pred = (sepal length (cm)) * 0.68647 + 0.18512<br><sup>\nCondition: [(col(\"species\")) == (String(versicolor))]</sup>"
        },
        "xaxis": {
         "title": {
          "text": "sepal length (cm)"
         }
        },
        "yaxis": {
         "title": {
          "text": "petal length (cm)"
         }
        }
       }
      }
     },
     "metadata": {},
     "output_type": "display_data"
    },
    {
     "name": "stdout",
     "output_type": "stream",
     "text": [
      "shape: (2, 4)\n",
      "┌──────────┬──────────┬──────────┬──────────┐\n",
      "│ coeff    ┆ std_err  ┆ t        ┆ p>|t|    │\n",
      "│ ---      ┆ ---      ┆ ---      ┆ ---      │\n",
      "│ f64      ┆ f64      ┆ f64      ┆ f64      │\n",
      "╞══════════╪══════════╪══════════╪══════════╡\n",
      "│ 0.131632 ┆ 0.068527 ┆ 1.920876 ┆ 0.060698 │\n",
      "│ 0.803052 ┆ 0.343878 ┆ 2.335281 ┆ 0.023756 │\n",
      "└──────────┴──────────┴──────────┴──────────┘\n"
     ]
    },
    {
     "data": {
      "application/vnd.plotly.v1+json": {
       "config": {
        "plotlyServerURL": "https://plot.ly"
       },
       "data": [
        {
         "mode": "markers",
         "name": "data scatter",
         "type": "scatter",
         "x": [
          5.1,
          4.9,
          4.7,
          4.6,
          5,
          5.4,
          4.6,
          5,
          4.4,
          4.9,
          5.4,
          4.8,
          4.8,
          4.3,
          5.8,
          5.7,
          5.4,
          5.1,
          5.7,
          5.1,
          5.4,
          5.1,
          4.6,
          5.1,
          4.8,
          5,
          5,
          5.2,
          5.2,
          4.7,
          4.8,
          5.4,
          5.2,
          5.5,
          4.9,
          5,
          5.5,
          4.9,
          4.4,
          5.1,
          5,
          4.5,
          4.4,
          5,
          5.1,
          4.8,
          5.1,
          4.6,
          5.3,
          5,
          7,
          6.4,
          6.9,
          5.5,
          6.5,
          5.7,
          6.3,
          4.9,
          6.6,
          5.2,
          5,
          5.9,
          6,
          6.1,
          5.6,
          6.7,
          5.6,
          5.8,
          6.2,
          5.6,
          5.9,
          6.1,
          6.3,
          6.1,
          6.4,
          6.6,
          6.8,
          6.7,
          6,
          5.7,
          5.5,
          5.5,
          5.8,
          6,
          5.4,
          6,
          6.7,
          6.3,
          5.6,
          5.5,
          5.5,
          6.1,
          5.8,
          5,
          5.6,
          5.7,
          5.7,
          6.2,
          5.1,
          5.7,
          6.3,
          5.8,
          7.1,
          6.3,
          6.5,
          7.6,
          4.9,
          7.3,
          6.7,
          7.2,
          6.5,
          6.4,
          6.8,
          5.7,
          5.8,
          6.4,
          6.5,
          7.7,
          7.7,
          6,
          6.9,
          5.6,
          7.7,
          6.3,
          6.7,
          7.2,
          6.2,
          6.1,
          6.4,
          7.2,
          7.4,
          7.9,
          6.4,
          6.3,
          6.1,
          7.7,
          6.3,
          6.4,
          6,
          6.9,
          6.7,
          6.9,
          5.8,
          6.8,
          6.7,
          6.7,
          6.3,
          6.5,
          6.2,
          5.9
         ],
         "y": [
          1.4,
          1.4,
          1.3,
          1.5,
          1.4,
          1.7,
          1.4,
          1.5,
          1.4,
          1.5,
          1.5,
          1.6,
          1.4,
          1.1,
          1.2,
          1.5,
          1.3,
          1.4,
          1.7,
          1.5,
          1.7,
          1.5,
          1,
          1.7,
          1.9,
          1.6,
          1.6,
          1.5,
          1.4,
          1.6,
          1.6,
          1.5,
          1.5,
          1.4,
          1.5,
          1.2,
          1.3,
          1.4,
          1.3,
          1.5,
          1.3,
          1.3,
          1.3,
          1.6,
          1.9,
          1.4,
          1.6,
          1.4,
          1.5,
          1.4,
          4.7,
          4.5,
          4.9,
          4,
          4.6,
          4.5,
          4.7,
          3.3,
          4.6,
          3.9,
          3.5,
          4.2,
          4,
          4.7,
          3.6,
          4.4,
          4.5,
          4.1,
          4.5,
          3.9,
          4.8,
          4,
          4.9,
          4.7,
          4.3,
          4.4,
          4.8,
          5,
          4.5,
          3.5,
          3.8,
          3.7,
          3.9,
          5.1,
          4.5,
          4.5,
          4.7,
          4.4,
          4.1,
          4,
          4.4,
          4.6,
          4,
          3.3,
          4.2,
          4.2,
          4.2,
          4.3,
          3,
          4.1,
          6,
          5.1,
          5.9,
          5.6,
          5.8,
          6.6,
          4.5,
          6.3,
          5.8,
          6.1,
          5.1,
          5.3,
          5.5,
          5,
          5.1,
          5.3,
          5.5,
          6.7,
          6.9,
          5,
          5.7,
          4.9,
          6.7,
          4.9,
          5.7,
          6,
          4.8,
          4.9,
          5.6,
          5.8,
          6.1,
          6.4,
          5.6,
          5.1,
          5.6,
          6.1,
          5.6,
          5.5,
          4.8,
          5.4,
          5.6,
          5.1,
          5.1,
          5.9,
          5.7,
          5.2,
          5,
          5.2,
          5.4,
          5.1
         ]
        },
        {
         "mode": "lines",
         "name": "Least Squares",
         "type": "scatter",
         "x": [
          5.1,
          4.9,
          4.7,
          4.6,
          5,
          5.4,
          4.6,
          5,
          4.4,
          4.9,
          5.4,
          4.8,
          4.8,
          4.3,
          5.8,
          5.7,
          5.4,
          5.1,
          5.7,
          5.1,
          5.4,
          5.1,
          4.6,
          5.1,
          4.8,
          5,
          5,
          5.2,
          5.2,
          4.7,
          4.8,
          5.4,
          5.2,
          5.5,
          4.9,
          5,
          5.5,
          4.9,
          4.4,
          5.1,
          5,
          4.5,
          4.4,
          5,
          5.1,
          4.8,
          5.1,
          4.6,
          5.3,
          5,
          7,
          6.4,
          6.9,
          5.5,
          6.5,
          5.7,
          6.3,
          4.9,
          6.6,
          5.2,
          5,
          5.9,
          6,
          6.1,
          5.6,
          6.7,
          5.6,
          5.8,
          6.2,
          5.6,
          5.9,
          6.1,
          6.3,
          6.1,
          6.4,
          6.6,
          6.8,
          6.7,
          6,
          5.7,
          5.5,
          5.5,
          5.8,
          6,
          5.4,
          6,
          6.7,
          6.3,
          5.6,
          5.5,
          5.5,
          6.1,
          5.8,
          5,
          5.6,
          5.7,
          5.7,
          6.2,
          5.1,
          5.7,
          6.3,
          5.8,
          7.1,
          6.3,
          6.5,
          7.6,
          4.9,
          7.3,
          6.7,
          7.2,
          6.5,
          6.4,
          6.8,
          5.7,
          5.8,
          6.4,
          6.5,
          7.7,
          7.7,
          6,
          6.9,
          5.6,
          7.7,
          6.3,
          6.7,
          7.2,
          6.2,
          6.1,
          6.4,
          7.2,
          7.4,
          7.9,
          6.4,
          6.3,
          6.1,
          7.7,
          6.3,
          6.4,
          6,
          6.9,
          6.7,
          6.9,
          5.8,
          6.8,
          6.7,
          6.7,
          6.3,
          6.5,
          6.2,
          5.9
         ],
         "y": [
          1.4743733780099824,
          1.448047041818659,
          1.4217207056273358,
          1.408557537531674,
          1.461210209914321,
          1.5138628822969677,
          1.408557537531674,
          1.461210209914321,
          1.3822312013403506,
          1.448047041818659,
          1.5138628822969677,
          1.4348838737229974,
          1.4348838737229974,
          1.3690680332446887,
          1.5665155546796146,
          1.553352386583953,
          1.5138628822969677,
          1.4743733780099824,
          1.553352386583953,
          1.4743733780099824,
          1.5138628822969677,
          1.4743733780099824,
          1.408557537531674,
          1.4743733780099824,
          1.4348838737229974,
          1.461210209914321,
          1.461210209914321,
          1.4875365461056442,
          1.4875365461056442,
          1.4217207056273358,
          1.4348838737229974,
          1.5138628822969677,
          1.4875365461056442,
          1.5270260503926294,
          1.448047041818659,
          1.461210209914321,
          1.5270260503926294,
          1.448047041818659,
          1.3822312013403506,
          1.4743733780099824,
          1.461210209914321,
          1.3953943694360122,
          1.3822312013403506,
          1.461210209914321,
          1.4743733780099824,
          1.4348838737229974,
          1.4743733780099824,
          1.408557537531674,
          1.500699714201306,
          1.461210209914321,
          1.7244735718275552,
          1.645494563253585,
          1.7113104037318936,
          1.5270260503926294,
          1.6586577313492468,
          1.553352386583953,
          1.632331395157923,
          1.448047041818659,
          1.6718208994449082,
          1.4875365461056442,
          1.461210209914321,
          1.5796787227752764,
          1.592841890870938,
          1.6060050589665997,
          1.5401892184882913,
          1.68498406754057,
          1.5401892184882913,
          1.5665155546796146,
          1.6191682270622616,
          1.5401892184882913,
          1.5796787227752764,
          1.6060050589665997,
          1.632331395157923,
          1.6060050589665997,
          1.645494563253585,
          1.6718208994449082,
          1.6981472356362317,
          1.68498406754057,
          1.592841890870938,
          1.553352386583953,
          1.5270260503926294,
          1.5270260503926294,
          1.5665155546796146,
          1.592841890870938,
          1.5138628822969677,
          1.592841890870938,
          1.68498406754057,
          1.632331395157923,
          1.5401892184882913,
          1.5270260503926294,
          1.5270260503926294,
          1.6060050589665997,
          1.5665155546796146,
          1.461210209914321,
          1.5401892184882913,
          1.553352386583953,
          1.553352386583953,
          1.6191682270622616,
          1.4743733780099824,
          1.553352386583953,
          1.632331395157923,
          1.5665155546796146,
          1.7376367399232169,
          1.632331395157923,
          1.6586577313492468,
          1.8034525804015256,
          1.448047041818659,
          1.7639630761145404,
          1.68498406754057,
          1.7507999080188785,
          1.6586577313492468,
          1.645494563253585,
          1.6981472356362317,
          1.553352386583953,
          1.5665155546796146,
          1.645494563253585,
          1.6586577313492468,
          1.8166157484971872,
          1.8166157484971872,
          1.592841890870938,
          1.7113104037318936,
          1.5401892184882913,
          1.8166157484971872,
          1.632331395157923,
          1.68498406754057,
          1.7507999080188785,
          1.6191682270622616,
          1.6060050589665997,
          1.645494563253585,
          1.7507999080188785,
          1.7771262442102023,
          1.8429420846885107,
          1.645494563253585,
          1.632331395157923,
          1.6060050589665997,
          1.8166157484971872,
          1.632331395157923,
          1.645494563253585,
          1.592841890870938,
          1.7113104037318936,
          1.68498406754057,
          1.7113104037318936,
          1.5665155546796146,
          1.6981472356362317,
          1.68498406754057,
          1.68498406754057,
          1.632331395157923,
          1.6586577313492468,
          1.6191682270622616,
          1.5796787227752764
         ]
        }
       ],
       "layout": {
        "template": {
         "data": {
          "bar": [
           {
            "error_x": {
             "color": "#2a3f5f"
            },
            "error_y": {
             "color": "#2a3f5f"
            },
            "marker": {
             "line": {
              "color": "#E5ECF6",
              "width": 0.5
             },
             "pattern": {
              "fillmode": "overlay",
              "size": 10,
              "solidity": 0.2
             }
            },
            "type": "bar"
           }
          ],
          "barpolar": [
           {
            "marker": {
             "line": {
              "color": "#E5ECF6",
              "width": 0.5
             },
             "pattern": {
              "fillmode": "overlay",
              "size": 10,
              "solidity": 0.2
             }
            },
            "type": "barpolar"
           }
          ],
          "carpet": [
           {
            "aaxis": {
             "endlinecolor": "#2a3f5f",
             "gridcolor": "white",
             "linecolor": "white",
             "minorgridcolor": "white",
             "startlinecolor": "#2a3f5f"
            },
            "baxis": {
             "endlinecolor": "#2a3f5f",
             "gridcolor": "white",
             "linecolor": "white",
             "minorgridcolor": "white",
             "startlinecolor": "#2a3f5f"
            },
            "type": "carpet"
           }
          ],
          "choropleth": [
           {
            "colorbar": {
             "outlinewidth": 0,
             "ticks": ""
            },
            "type": "choropleth"
           }
          ],
          "contour": [
           {
            "colorbar": {
             "outlinewidth": 0,
             "ticks": ""
            },
            "colorscale": [
             [
              0,
              "#0d0887"
             ],
             [
              0.1111111111111111,
              "#46039f"
             ],
             [
              0.2222222222222222,
              "#7201a8"
             ],
             [
              0.3333333333333333,
              "#9c179e"
             ],
             [
              0.4444444444444444,
              "#bd3786"
             ],
             [
              0.5555555555555556,
              "#d8576b"
             ],
             [
              0.6666666666666666,
              "#ed7953"
             ],
             [
              0.7777777777777778,
              "#fb9f3a"
             ],
             [
              0.8888888888888888,
              "#fdca26"
             ],
             [
              1,
              "#f0f921"
             ]
            ],
            "type": "contour"
           }
          ],
          "contourcarpet": [
           {
            "colorbar": {
             "outlinewidth": 0,
             "ticks": ""
            },
            "type": "contourcarpet"
           }
          ],
          "heatmap": [
           {
            "colorbar": {
             "outlinewidth": 0,
             "ticks": ""
            },
            "colorscale": [
             [
              0,
              "#0d0887"
             ],
             [
              0.1111111111111111,
              "#46039f"
             ],
             [
              0.2222222222222222,
              "#7201a8"
             ],
             [
              0.3333333333333333,
              "#9c179e"
             ],
             [
              0.4444444444444444,
              "#bd3786"
             ],
             [
              0.5555555555555556,
              "#d8576b"
             ],
             [
              0.6666666666666666,
              "#ed7953"
             ],
             [
              0.7777777777777778,
              "#fb9f3a"
             ],
             [
              0.8888888888888888,
              "#fdca26"
             ],
             [
              1,
              "#f0f921"
             ]
            ],
            "type": "heatmap"
           }
          ],
          "heatmapgl": [
           {
            "colorbar": {
             "outlinewidth": 0,
             "ticks": ""
            },
            "colorscale": [
             [
              0,
              "#0d0887"
             ],
             [
              0.1111111111111111,
              "#46039f"
             ],
             [
              0.2222222222222222,
              "#7201a8"
             ],
             [
              0.3333333333333333,
              "#9c179e"
             ],
             [
              0.4444444444444444,
              "#bd3786"
             ],
             [
              0.5555555555555556,
              "#d8576b"
             ],
             [
              0.6666666666666666,
              "#ed7953"
             ],
             [
              0.7777777777777778,
              "#fb9f3a"
             ],
             [
              0.8888888888888888,
              "#fdca26"
             ],
             [
              1,
              "#f0f921"
             ]
            ],
            "type": "heatmapgl"
           }
          ],
          "histogram": [
           {
            "marker": {
             "pattern": {
              "fillmode": "overlay",
              "size": 10,
              "solidity": 0.2
             }
            },
            "type": "histogram"
           }
          ],
          "histogram2d": [
           {
            "colorbar": {
             "outlinewidth": 0,
             "ticks": ""
            },
            "colorscale": [
             [
              0,
              "#0d0887"
             ],
             [
              0.1111111111111111,
              "#46039f"
             ],
             [
              0.2222222222222222,
              "#7201a8"
             ],
             [
              0.3333333333333333,
              "#9c179e"
             ],
             [
              0.4444444444444444,
              "#bd3786"
             ],
             [
              0.5555555555555556,
              "#d8576b"
             ],
             [
              0.6666666666666666,
              "#ed7953"
             ],
             [
              0.7777777777777778,
              "#fb9f3a"
             ],
             [
              0.8888888888888888,
              "#fdca26"
             ],
             [
              1,
              "#f0f921"
             ]
            ],
            "type": "histogram2d"
           }
          ],
          "histogram2dcontour": [
           {
            "colorbar": {
             "outlinewidth": 0,
             "ticks": ""
            },
            "colorscale": [
             [
              0,
              "#0d0887"
             ],
             [
              0.1111111111111111,
              "#46039f"
             ],
             [
              0.2222222222222222,
              "#7201a8"
             ],
             [
              0.3333333333333333,
              "#9c179e"
             ],
             [
              0.4444444444444444,
              "#bd3786"
             ],
             [
              0.5555555555555556,
              "#d8576b"
             ],
             [
              0.6666666666666666,
              "#ed7953"
             ],
             [
              0.7777777777777778,
              "#fb9f3a"
             ],
             [
              0.8888888888888888,
              "#fdca26"
             ],
             [
              1,
              "#f0f921"
             ]
            ],
            "type": "histogram2dcontour"
           }
          ],
          "mesh3d": [
           {
            "colorbar": {
             "outlinewidth": 0,
             "ticks": ""
            },
            "type": "mesh3d"
           }
          ],
          "parcoords": [
           {
            "line": {
             "colorbar": {
              "outlinewidth": 0,
              "ticks": ""
             }
            },
            "type": "parcoords"
           }
          ],
          "pie": [
           {
            "automargin": true,
            "type": "pie"
           }
          ],
          "scatter": [
           {
            "fillpattern": {
             "fillmode": "overlay",
             "size": 10,
             "solidity": 0.2
            },
            "type": "scatter"
           }
          ],
          "scatter3d": [
           {
            "line": {
             "colorbar": {
              "outlinewidth": 0,
              "ticks": ""
             }
            },
            "marker": {
             "colorbar": {
              "outlinewidth": 0,
              "ticks": ""
             }
            },
            "type": "scatter3d"
           }
          ],
          "scattercarpet": [
           {
            "marker": {
             "colorbar": {
              "outlinewidth": 0,
              "ticks": ""
             }
            },
            "type": "scattercarpet"
           }
          ],
          "scattergeo": [
           {
            "marker": {
             "colorbar": {
              "outlinewidth": 0,
              "ticks": ""
             }
            },
            "type": "scattergeo"
           }
          ],
          "scattergl": [
           {
            "marker": {
             "colorbar": {
              "outlinewidth": 0,
              "ticks": ""
             }
            },
            "type": "scattergl"
           }
          ],
          "scattermapbox": [
           {
            "marker": {
             "colorbar": {
              "outlinewidth": 0,
              "ticks": ""
             }
            },
            "type": "scattermapbox"
           }
          ],
          "scatterpolar": [
           {
            "marker": {
             "colorbar": {
              "outlinewidth": 0,
              "ticks": ""
             }
            },
            "type": "scatterpolar"
           }
          ],
          "scatterpolargl": [
           {
            "marker": {
             "colorbar": {
              "outlinewidth": 0,
              "ticks": ""
             }
            },
            "type": "scatterpolargl"
           }
          ],
          "scatterternary": [
           {
            "marker": {
             "colorbar": {
              "outlinewidth": 0,
              "ticks": ""
             }
            },
            "type": "scatterternary"
           }
          ],
          "surface": [
           {
            "colorbar": {
             "outlinewidth": 0,
             "ticks": ""
            },
            "colorscale": [
             [
              0,
              "#0d0887"
             ],
             [
              0.1111111111111111,
              "#46039f"
             ],
             [
              0.2222222222222222,
              "#7201a8"
             ],
             [
              0.3333333333333333,
              "#9c179e"
             ],
             [
              0.4444444444444444,
              "#bd3786"
             ],
             [
              0.5555555555555556,
              "#d8576b"
             ],
             [
              0.6666666666666666,
              "#ed7953"
             ],
             [
              0.7777777777777778,
              "#fb9f3a"
             ],
             [
              0.8888888888888888,
              "#fdca26"
             ],
             [
              1,
              "#f0f921"
             ]
            ],
            "type": "surface"
           }
          ],
          "table": [
           {
            "cells": {
             "fill": {
              "color": "#EBF0F8"
             },
             "line": {
              "color": "white"
             }
            },
            "header": {
             "fill": {
              "color": "#C8D4E3"
             },
             "line": {
              "color": "white"
             }
            },
            "type": "table"
           }
          ]
         },
         "layout": {
          "annotationdefaults": {
           "arrowcolor": "#2a3f5f",
           "arrowhead": 0,
           "arrowwidth": 1
          },
          "autotypenumbers": "strict",
          "coloraxis": {
           "colorbar": {
            "outlinewidth": 0,
            "ticks": ""
           }
          },
          "colorscale": {
           "diverging": [
            [
             0,
             "#8e0152"
            ],
            [
             0.1,
             "#c51b7d"
            ],
            [
             0.2,
             "#de77ae"
            ],
            [
             0.3,
             "#f1b6da"
            ],
            [
             0.4,
             "#fde0ef"
            ],
            [
             0.5,
             "#f7f7f7"
            ],
            [
             0.6,
             "#e6f5d0"
            ],
            [
             0.7,
             "#b8e186"
            ],
            [
             0.8,
             "#7fbc41"
            ],
            [
             0.9,
             "#4d9221"
            ],
            [
             1,
             "#276419"
            ]
           ],
           "sequential": [
            [
             0,
             "#0d0887"
            ],
            [
             0.1111111111111111,
             "#46039f"
            ],
            [
             0.2222222222222222,
             "#7201a8"
            ],
            [
             0.3333333333333333,
             "#9c179e"
            ],
            [
             0.4444444444444444,
             "#bd3786"
            ],
            [
             0.5555555555555556,
             "#d8576b"
            ],
            [
             0.6666666666666666,
             "#ed7953"
            ],
            [
             0.7777777777777778,
             "#fb9f3a"
            ],
            [
             0.8888888888888888,
             "#fdca26"
            ],
            [
             1,
             "#f0f921"
            ]
           ],
           "sequentialminus": [
            [
             0,
             "#0d0887"
            ],
            [
             0.1111111111111111,
             "#46039f"
            ],
            [
             0.2222222222222222,
             "#7201a8"
            ],
            [
             0.3333333333333333,
             "#9c179e"
            ],
            [
             0.4444444444444444,
             "#bd3786"
            ],
            [
             0.5555555555555556,
             "#d8576b"
            ],
            [
             0.6666666666666666,
             "#ed7953"
            ],
            [
             0.7777777777777778,
             "#fb9f3a"
            ],
            [
             0.8888888888888888,
             "#fdca26"
            ],
            [
             1,
             "#f0f921"
            ]
           ]
          },
          "colorway": [
           "#636efa",
           "#EF553B",
           "#00cc96",
           "#ab63fa",
           "#FFA15A",
           "#19d3f3",
           "#FF6692",
           "#B6E880",
           "#FF97FF",
           "#FECB52"
          ],
          "font": {
           "color": "#2a3f5f"
          },
          "geo": {
           "bgcolor": "white",
           "lakecolor": "white",
           "landcolor": "#E5ECF6",
           "showlakes": true,
           "showland": true,
           "subunitcolor": "white"
          },
          "hoverlabel": {
           "align": "left"
          },
          "hovermode": "closest",
          "mapbox": {
           "style": "light"
          },
          "paper_bgcolor": "white",
          "plot_bgcolor": "#E5ECF6",
          "polar": {
           "angularaxis": {
            "gridcolor": "white",
            "linecolor": "white",
            "ticks": ""
           },
           "bgcolor": "#E5ECF6",
           "radialaxis": {
            "gridcolor": "white",
            "linecolor": "white",
            "ticks": ""
           }
          },
          "scene": {
           "xaxis": {
            "backgroundcolor": "#E5ECF6",
            "gridcolor": "white",
            "gridwidth": 2,
            "linecolor": "white",
            "showbackground": true,
            "ticks": "",
            "zerolinecolor": "white"
           },
           "yaxis": {
            "backgroundcolor": "#E5ECF6",
            "gridcolor": "white",
            "gridwidth": 2,
            "linecolor": "white",
            "showbackground": true,
            "ticks": "",
            "zerolinecolor": "white"
           },
           "zaxis": {
            "backgroundcolor": "#E5ECF6",
            "gridcolor": "white",
            "gridwidth": 2,
            "linecolor": "white",
            "showbackground": true,
            "ticks": "",
            "zerolinecolor": "white"
           }
          },
          "shapedefaults": {
           "line": {
            "color": "#2a3f5f"
           }
          },
          "ternary": {
           "aaxis": {
            "gridcolor": "white",
            "linecolor": "white",
            "ticks": ""
           },
           "baxis": {
            "gridcolor": "white",
            "linecolor": "white",
            "ticks": ""
           },
           "bgcolor": "#E5ECF6",
           "caxis": {
            "gridcolor": "white",
            "linecolor": "white",
            "ticks": ""
           }
          },
          "title": {
           "x": 0.05
          },
          "xaxis": {
           "automargin": true,
           "gridcolor": "white",
           "linecolor": "white",
           "ticks": "",
           "title": {
            "standoff": 15
           },
           "zerolinecolor": "white",
           "zerolinewidth": 2
          },
          "yaxis": {
           "automargin": true,
           "gridcolor": "white",
           "linecolor": "white",
           "ticks": "",
           "title": {
            "standoff": 15
           },
           "zerolinecolor": "white",
           "zerolinewidth": 2
          }
         }
        },
        "title": {
         "text": "y=petal length (cm), x=sepal length (cm), y_pred = (sepal length (cm)) * 0.13163 + 0.80305<br><sup>\nCondition: [(col(\"species\")) == (String(setosa))]</sup>"
        },
        "xaxis": {
         "title": {
          "text": "sepal length (cm)"
         }
        },
        "yaxis": {
         "title": {
          "text": "petal length (cm)"
         }
        }
       }
      }
     },
     "metadata": {},
     "output_type": "display_data"
    },
    {
     "name": "stdout",
     "output_type": "stream",
     "text": [
      "shape: (2, 4)\n",
      "┌──────────┬──────────┬──────────┬────────────┐\n",
      "│ coeff    ┆ std_err  ┆ t        ┆ p>|t|      │\n",
      "│ ---      ┆ ---      ┆ ---      ┆ ---        │\n",
      "│ f64      ┆ f64      ┆ f64      ┆ f64        │\n",
      "╞══════════╪══════════╪══════════╪════════════╡\n",
      "│ 0.750081 ┆ 0.063026 ┆ 11.90112 ┆ 6.2978e-16 │\n",
      "│ 0.610468 ┆ 0.417107 ┆ 1.463577 ┆ 0.149828   │\n",
      "└──────────┴──────────┴──────────┴────────────┘\n"
     ]
    },
    {
     "data": {
      "application/vnd.plotly.v1+json": {
       "config": {
        "plotlyServerURL": "https://plot.ly"
       },
       "data": [
        {
         "mode": "markers",
         "name": "data scatter",
         "type": "scatter",
         "x": [
          5.1,
          4.9,
          4.7,
          4.6,
          5,
          5.4,
          4.6,
          5,
          4.4,
          4.9,
          5.4,
          4.8,
          4.8,
          4.3,
          5.8,
          5.7,
          5.4,
          5.1,
          5.7,
          5.1,
          5.4,
          5.1,
          4.6,
          5.1,
          4.8,
          5,
          5,
          5.2,
          5.2,
          4.7,
          4.8,
          5.4,
          5.2,
          5.5,
          4.9,
          5,
          5.5,
          4.9,
          4.4,
          5.1,
          5,
          4.5,
          4.4,
          5,
          5.1,
          4.8,
          5.1,
          4.6,
          5.3,
          5,
          7,
          6.4,
          6.9,
          5.5,
          6.5,
          5.7,
          6.3,
          4.9,
          6.6,
          5.2,
          5,
          5.9,
          6,
          6.1,
          5.6,
          6.7,
          5.6,
          5.8,
          6.2,
          5.6,
          5.9,
          6.1,
          6.3,
          6.1,
          6.4,
          6.6,
          6.8,
          6.7,
          6,
          5.7,
          5.5,
          5.5,
          5.8,
          6,
          5.4,
          6,
          6.7,
          6.3,
          5.6,
          5.5,
          5.5,
          6.1,
          5.8,
          5,
          5.6,
          5.7,
          5.7,
          6.2,
          5.1,
          5.7,
          6.3,
          5.8,
          7.1,
          6.3,
          6.5,
          7.6,
          4.9,
          7.3,
          6.7,
          7.2,
          6.5,
          6.4,
          6.8,
          5.7,
          5.8,
          6.4,
          6.5,
          7.7,
          7.7,
          6,
          6.9,
          5.6,
          7.7,
          6.3,
          6.7,
          7.2,
          6.2,
          6.1,
          6.4,
          7.2,
          7.4,
          7.9,
          6.4,
          6.3,
          6.1,
          7.7,
          6.3,
          6.4,
          6,
          6.9,
          6.7,
          6.9,
          5.8,
          6.8,
          6.7,
          6.7,
          6.3,
          6.5,
          6.2,
          5.9
         ],
         "y": [
          1.4,
          1.4,
          1.3,
          1.5,
          1.4,
          1.7,
          1.4,
          1.5,
          1.4,
          1.5,
          1.5,
          1.6,
          1.4,
          1.1,
          1.2,
          1.5,
          1.3,
          1.4,
          1.7,
          1.5,
          1.7,
          1.5,
          1,
          1.7,
          1.9,
          1.6,
          1.6,
          1.5,
          1.4,
          1.6,
          1.6,
          1.5,
          1.5,
          1.4,
          1.5,
          1.2,
          1.3,
          1.4,
          1.3,
          1.5,
          1.3,
          1.3,
          1.3,
          1.6,
          1.9,
          1.4,
          1.6,
          1.4,
          1.5,
          1.4,
          4.7,
          4.5,
          4.9,
          4,
          4.6,
          4.5,
          4.7,
          3.3,
          4.6,
          3.9,
          3.5,
          4.2,
          4,
          4.7,
          3.6,
          4.4,
          4.5,
          4.1,
          4.5,
          3.9,
          4.8,
          4,
          4.9,
          4.7,
          4.3,
          4.4,
          4.8,
          5,
          4.5,
          3.5,
          3.8,
          3.7,
          3.9,
          5.1,
          4.5,
          4.5,
          4.7,
          4.4,
          4.1,
          4,
          4.4,
          4.6,
          4,
          3.3,
          4.2,
          4.2,
          4.2,
          4.3,
          3,
          4.1,
          6,
          5.1,
          5.9,
          5.6,
          5.8,
          6.6,
          4.5,
          6.3,
          5.8,
          6.1,
          5.1,
          5.3,
          5.5,
          5,
          5.1,
          5.3,
          5.5,
          6.7,
          6.9,
          5,
          5.7,
          4.9,
          6.7,
          4.9,
          5.7,
          6,
          4.8,
          4.9,
          5.6,
          5.8,
          6.1,
          6.4,
          5.6,
          5.1,
          5.6,
          6.1,
          5.6,
          5.5,
          4.8,
          5.4,
          5.6,
          5.1,
          5.1,
          5.9,
          5.7,
          5.2,
          5,
          5.2,
          5.4,
          5.1
         ]
        },
        {
         "mode": "lines",
         "name": "Least Squares",
         "type": "scatter",
         "x": [
          5.1,
          4.9,
          4.7,
          4.6,
          5,
          5.4,
          4.6,
          5,
          4.4,
          4.9,
          5.4,
          4.8,
          4.8,
          4.3,
          5.8,
          5.7,
          5.4,
          5.1,
          5.7,
          5.1,
          5.4,
          5.1,
          4.6,
          5.1,
          4.8,
          5,
          5,
          5.2,
          5.2,
          4.7,
          4.8,
          5.4,
          5.2,
          5.5,
          4.9,
          5,
          5.5,
          4.9,
          4.4,
          5.1,
          5,
          4.5,
          4.4,
          5,
          5.1,
          4.8,
          5.1,
          4.6,
          5.3,
          5,
          7,
          6.4,
          6.9,
          5.5,
          6.5,
          5.7,
          6.3,
          4.9,
          6.6,
          5.2,
          5,
          5.9,
          6,
          6.1,
          5.6,
          6.7,
          5.6,
          5.8,
          6.2,
          5.6,
          5.9,
          6.1,
          6.3,
          6.1,
          6.4,
          6.6,
          6.8,
          6.7,
          6,
          5.7,
          5.5,
          5.5,
          5.8,
          6,
          5.4,
          6,
          6.7,
          6.3,
          5.6,
          5.5,
          5.5,
          6.1,
          5.8,
          5,
          5.6,
          5.7,
          5.7,
          6.2,
          5.1,
          5.7,
          6.3,
          5.8,
          7.1,
          6.3,
          6.5,
          7.6,
          4.9,
          7.3,
          6.7,
          7.2,
          6.5,
          6.4,
          6.8,
          5.7,
          5.8,
          6.4,
          6.5,
          7.7,
          7.7,
          6,
          6.9,
          5.6,
          7.7,
          6.3,
          6.7,
          7.2,
          6.2,
          6.1,
          6.4,
          7.2,
          7.4,
          7.9,
          6.4,
          6.3,
          6.1,
          7.7,
          6.3,
          6.4,
          6,
          6.9,
          6.7,
          6.9,
          5.8,
          6.8,
          6.7,
          6.7,
          6.3,
          6.5,
          6.2,
          5.9
         ],
         "y": [
          4.435879835258017,
          4.285863684083024,
          4.135847532908029,
          4.060839457320531,
          4.36087175967052,
          4.660904062020508,
          4.060839457320531,
          4.36087175967052,
          3.9108233061455384,
          4.285863684083024,
          4.660904062020508,
          4.210855608495526,
          4.210855608495526,
          3.8358152305580413,
          4.960936364370495,
          4.885928288782999,
          4.660904062020508,
          4.435879835258017,
          4.885928288782999,
          4.435879835258017,
          4.660904062020508,
          4.435879835258017,
          4.060839457320531,
          4.435879835258017,
          4.210855608495526,
          4.36087175967052,
          4.36087175967052,
          4.510887910845514,
          4.510887910845514,
          4.135847532908029,
          4.210855608495526,
          4.660904062020508,
          4.510887910845514,
          4.735912137608006,
          4.285863684083024,
          4.36087175967052,
          4.735912137608006,
          4.285863684083024,
          3.9108233061455384,
          4.435879835258017,
          4.36087175967052,
          3.985831381733035,
          3.9108233061455384,
          4.36087175967052,
          4.435879835258017,
          4.210855608495526,
          4.435879835258017,
          4.060839457320531,
          4.585895986433011,
          4.36087175967052,
          5.86103327142046,
          5.4109848178954785,
          5.786025195832963,
          4.735912137608006,
          5.485992893482974,
          4.885928288782999,
          5.335976742307981,
          4.285863684083024,
          5.561000969070472,
          4.510887910845514,
          4.36087175967052,
          5.0359444399579925,
          5.11095251554549,
          5.185960591132986,
          4.810920213195502,
          5.636009044657969,
          4.810920213195502,
          4.960936364370495,
          5.260968666720483,
          4.810920213195502,
          5.0359444399579925,
          5.185960591132986,
          5.335976742307981,
          5.185960591132986,
          5.4109848178954785,
          5.561000969070472,
          5.711017120245465,
          5.636009044657969,
          5.11095251554549,
          4.885928288782999,
          4.735912137608006,
          4.735912137608006,
          4.960936364370495,
          5.11095251554549,
          4.660904062020508,
          5.11095251554549,
          5.636009044657969,
          5.335976742307981,
          4.810920213195502,
          4.735912137608006,
          4.735912137608006,
          5.185960591132986,
          4.960936364370495,
          4.36087175967052,
          4.810920213195502,
          4.885928288782999,
          4.885928288782999,
          5.260968666720483,
          4.435879835258017,
          4.885928288782999,
          5.335976742307981,
          4.960936364370495,
          5.936041347007956,
          5.335976742307981,
          5.485992893482974,
          6.31108172494544,
          4.285863684083024,
          6.086057498182949,
          5.636009044657969,
          6.011049422595454,
          5.485992893482974,
          5.4109848178954785,
          5.711017120245465,
          4.885928288782999,
          4.960936364370495,
          5.4109848178954785,
          5.485992893482974,
          6.386089800532938,
          6.386089800532938,
          5.11095251554549,
          5.786025195832963,
          4.810920213195502,
          6.386089800532938,
          5.335976742307981,
          5.636009044657969,
          6.011049422595454,
          5.260968666720483,
          5.185960591132986,
          5.4109848178954785,
          6.011049422595454,
          6.161065573770447,
          6.536105951707933,
          5.4109848178954785,
          5.335976742307981,
          5.185960591132986,
          6.386089800532938,
          5.335976742307981,
          5.4109848178954785,
          5.11095251554549,
          5.786025195832963,
          5.636009044657969,
          5.786025195832963,
          4.960936364370495,
          5.711017120245465,
          5.636009044657969,
          5.636009044657969,
          5.335976742307981,
          5.485992893482974,
          5.260968666720483,
          5.0359444399579925
         ]
        }
       ],
       "layout": {
        "template": {
         "data": {
          "bar": [
           {
            "error_x": {
             "color": "#2a3f5f"
            },
            "error_y": {
             "color": "#2a3f5f"
            },
            "marker": {
             "line": {
              "color": "#E5ECF6",
              "width": 0.5
             },
             "pattern": {
              "fillmode": "overlay",
              "size": 10,
              "solidity": 0.2
             }
            },
            "type": "bar"
           }
          ],
          "barpolar": [
           {
            "marker": {
             "line": {
              "color": "#E5ECF6",
              "width": 0.5
             },
             "pattern": {
              "fillmode": "overlay",
              "size": 10,
              "solidity": 0.2
             }
            },
            "type": "barpolar"
           }
          ],
          "carpet": [
           {
            "aaxis": {
             "endlinecolor": "#2a3f5f",
             "gridcolor": "white",
             "linecolor": "white",
             "minorgridcolor": "white",
             "startlinecolor": "#2a3f5f"
            },
            "baxis": {
             "endlinecolor": "#2a3f5f",
             "gridcolor": "white",
             "linecolor": "white",
             "minorgridcolor": "white",
             "startlinecolor": "#2a3f5f"
            },
            "type": "carpet"
           }
          ],
          "choropleth": [
           {
            "colorbar": {
             "outlinewidth": 0,
             "ticks": ""
            },
            "type": "choropleth"
           }
          ],
          "contour": [
           {
            "colorbar": {
             "outlinewidth": 0,
             "ticks": ""
            },
            "colorscale": [
             [
              0,
              "#0d0887"
             ],
             [
              0.1111111111111111,
              "#46039f"
             ],
             [
              0.2222222222222222,
              "#7201a8"
             ],
             [
              0.3333333333333333,
              "#9c179e"
             ],
             [
              0.4444444444444444,
              "#bd3786"
             ],
             [
              0.5555555555555556,
              "#d8576b"
             ],
             [
              0.6666666666666666,
              "#ed7953"
             ],
             [
              0.7777777777777778,
              "#fb9f3a"
             ],
             [
              0.8888888888888888,
              "#fdca26"
             ],
             [
              1,
              "#f0f921"
             ]
            ],
            "type": "contour"
           }
          ],
          "contourcarpet": [
           {
            "colorbar": {
             "outlinewidth": 0,
             "ticks": ""
            },
            "type": "contourcarpet"
           }
          ],
          "heatmap": [
           {
            "colorbar": {
             "outlinewidth": 0,
             "ticks": ""
            },
            "colorscale": [
             [
              0,
              "#0d0887"
             ],
             [
              0.1111111111111111,
              "#46039f"
             ],
             [
              0.2222222222222222,
              "#7201a8"
             ],
             [
              0.3333333333333333,
              "#9c179e"
             ],
             [
              0.4444444444444444,
              "#bd3786"
             ],
             [
              0.5555555555555556,
              "#d8576b"
             ],
             [
              0.6666666666666666,
              "#ed7953"
             ],
             [
              0.7777777777777778,
              "#fb9f3a"
             ],
             [
              0.8888888888888888,
              "#fdca26"
             ],
             [
              1,
              "#f0f921"
             ]
            ],
            "type": "heatmap"
           }
          ],
          "heatmapgl": [
           {
            "colorbar": {
             "outlinewidth": 0,
             "ticks": ""
            },
            "colorscale": [
             [
              0,
              "#0d0887"
             ],
             [
              0.1111111111111111,
              "#46039f"
             ],
             [
              0.2222222222222222,
              "#7201a8"
             ],
             [
              0.3333333333333333,
              "#9c179e"
             ],
             [
              0.4444444444444444,
              "#bd3786"
             ],
             [
              0.5555555555555556,
              "#d8576b"
             ],
             [
              0.6666666666666666,
              "#ed7953"
             ],
             [
              0.7777777777777778,
              "#fb9f3a"
             ],
             [
              0.8888888888888888,
              "#fdca26"
             ],
             [
              1,
              "#f0f921"
             ]
            ],
            "type": "heatmapgl"
           }
          ],
          "histogram": [
           {
            "marker": {
             "pattern": {
              "fillmode": "overlay",
              "size": 10,
              "solidity": 0.2
             }
            },
            "type": "histogram"
           }
          ],
          "histogram2d": [
           {
            "colorbar": {
             "outlinewidth": 0,
             "ticks": ""
            },
            "colorscale": [
             [
              0,
              "#0d0887"
             ],
             [
              0.1111111111111111,
              "#46039f"
             ],
             [
              0.2222222222222222,
              "#7201a8"
             ],
             [
              0.3333333333333333,
              "#9c179e"
             ],
             [
              0.4444444444444444,
              "#bd3786"
             ],
             [
              0.5555555555555556,
              "#d8576b"
             ],
             [
              0.6666666666666666,
              "#ed7953"
             ],
             [
              0.7777777777777778,
              "#fb9f3a"
             ],
             [
              0.8888888888888888,
              "#fdca26"
             ],
             [
              1,
              "#f0f921"
             ]
            ],
            "type": "histogram2d"
           }
          ],
          "histogram2dcontour": [
           {
            "colorbar": {
             "outlinewidth": 0,
             "ticks": ""
            },
            "colorscale": [
             [
              0,
              "#0d0887"
             ],
             [
              0.1111111111111111,
              "#46039f"
             ],
             [
              0.2222222222222222,
              "#7201a8"
             ],
             [
              0.3333333333333333,
              "#9c179e"
             ],
             [
              0.4444444444444444,
              "#bd3786"
             ],
             [
              0.5555555555555556,
              "#d8576b"
             ],
             [
              0.6666666666666666,
              "#ed7953"
             ],
             [
              0.7777777777777778,
              "#fb9f3a"
             ],
             [
              0.8888888888888888,
              "#fdca26"
             ],
             [
              1,
              "#f0f921"
             ]
            ],
            "type": "histogram2dcontour"
           }
          ],
          "mesh3d": [
           {
            "colorbar": {
             "outlinewidth": 0,
             "ticks": ""
            },
            "type": "mesh3d"
           }
          ],
          "parcoords": [
           {
            "line": {
             "colorbar": {
              "outlinewidth": 0,
              "ticks": ""
             }
            },
            "type": "parcoords"
           }
          ],
          "pie": [
           {
            "automargin": true,
            "type": "pie"
           }
          ],
          "scatter": [
           {
            "fillpattern": {
             "fillmode": "overlay",
             "size": 10,
             "solidity": 0.2
            },
            "type": "scatter"
           }
          ],
          "scatter3d": [
           {
            "line": {
             "colorbar": {
              "outlinewidth": 0,
              "ticks": ""
             }
            },
            "marker": {
             "colorbar": {
              "outlinewidth": 0,
              "ticks": ""
             }
            },
            "type": "scatter3d"
           }
          ],
          "scattercarpet": [
           {
            "marker": {
             "colorbar": {
              "outlinewidth": 0,
              "ticks": ""
             }
            },
            "type": "scattercarpet"
           }
          ],
          "scattergeo": [
           {
            "marker": {
             "colorbar": {
              "outlinewidth": 0,
              "ticks": ""
             }
            },
            "type": "scattergeo"
           }
          ],
          "scattergl": [
           {
            "marker": {
             "colorbar": {
              "outlinewidth": 0,
              "ticks": ""
             }
            },
            "type": "scattergl"
           }
          ],
          "scattermapbox": [
           {
            "marker": {
             "colorbar": {
              "outlinewidth": 0,
              "ticks": ""
             }
            },
            "type": "scattermapbox"
           }
          ],
          "scatterpolar": [
           {
            "marker": {
             "colorbar": {
              "outlinewidth": 0,
              "ticks": ""
             }
            },
            "type": "scatterpolar"
           }
          ],
          "scatterpolargl": [
           {
            "marker": {
             "colorbar": {
              "outlinewidth": 0,
              "ticks": ""
             }
            },
            "type": "scatterpolargl"
           }
          ],
          "scatterternary": [
           {
            "marker": {
             "colorbar": {
              "outlinewidth": 0,
              "ticks": ""
             }
            },
            "type": "scatterternary"
           }
          ],
          "surface": [
           {
            "colorbar": {
             "outlinewidth": 0,
             "ticks": ""
            },
            "colorscale": [
             [
              0,
              "#0d0887"
             ],
             [
              0.1111111111111111,
              "#46039f"
             ],
             [
              0.2222222222222222,
              "#7201a8"
             ],
             [
              0.3333333333333333,
              "#9c179e"
             ],
             [
              0.4444444444444444,
              "#bd3786"
             ],
             [
              0.5555555555555556,
              "#d8576b"
             ],
             [
              0.6666666666666666,
              "#ed7953"
             ],
             [
              0.7777777777777778,
              "#fb9f3a"
             ],
             [
              0.8888888888888888,
              "#fdca26"
             ],
             [
              1,
              "#f0f921"
             ]
            ],
            "type": "surface"
           }
          ],
          "table": [
           {
            "cells": {
             "fill": {
              "color": "#EBF0F8"
             },
             "line": {
              "color": "white"
             }
            },
            "header": {
             "fill": {
              "color": "#C8D4E3"
             },
             "line": {
              "color": "white"
             }
            },
            "type": "table"
           }
          ]
         },
         "layout": {
          "annotationdefaults": {
           "arrowcolor": "#2a3f5f",
           "arrowhead": 0,
           "arrowwidth": 1
          },
          "autotypenumbers": "strict",
          "coloraxis": {
           "colorbar": {
            "outlinewidth": 0,
            "ticks": ""
           }
          },
          "colorscale": {
           "diverging": [
            [
             0,
             "#8e0152"
            ],
            [
             0.1,
             "#c51b7d"
            ],
            [
             0.2,
             "#de77ae"
            ],
            [
             0.3,
             "#f1b6da"
            ],
            [
             0.4,
             "#fde0ef"
            ],
            [
             0.5,
             "#f7f7f7"
            ],
            [
             0.6,
             "#e6f5d0"
            ],
            [
             0.7,
             "#b8e186"
            ],
            [
             0.8,
             "#7fbc41"
            ],
            [
             0.9,
             "#4d9221"
            ],
            [
             1,
             "#276419"
            ]
           ],
           "sequential": [
            [
             0,
             "#0d0887"
            ],
            [
             0.1111111111111111,
             "#46039f"
            ],
            [
             0.2222222222222222,
             "#7201a8"
            ],
            [
             0.3333333333333333,
             "#9c179e"
            ],
            [
             0.4444444444444444,
             "#bd3786"
            ],
            [
             0.5555555555555556,
             "#d8576b"
            ],
            [
             0.6666666666666666,
             "#ed7953"
            ],
            [
             0.7777777777777778,
             "#fb9f3a"
            ],
            [
             0.8888888888888888,
             "#fdca26"
            ],
            [
             1,
             "#f0f921"
            ]
           ],
           "sequentialminus": [
            [
             0,
             "#0d0887"
            ],
            [
             0.1111111111111111,
             "#46039f"
            ],
            [
             0.2222222222222222,
             "#7201a8"
            ],
            [
             0.3333333333333333,
             "#9c179e"
            ],
            [
             0.4444444444444444,
             "#bd3786"
            ],
            [
             0.5555555555555556,
             "#d8576b"
            ],
            [
             0.6666666666666666,
             "#ed7953"
            ],
            [
             0.7777777777777778,
             "#fb9f3a"
            ],
            [
             0.8888888888888888,
             "#fdca26"
            ],
            [
             1,
             "#f0f921"
            ]
           ]
          },
          "colorway": [
           "#636efa",
           "#EF553B",
           "#00cc96",
           "#ab63fa",
           "#FFA15A",
           "#19d3f3",
           "#FF6692",
           "#B6E880",
           "#FF97FF",
           "#FECB52"
          ],
          "font": {
           "color": "#2a3f5f"
          },
          "geo": {
           "bgcolor": "white",
           "lakecolor": "white",
           "landcolor": "#E5ECF6",
           "showlakes": true,
           "showland": true,
           "subunitcolor": "white"
          },
          "hoverlabel": {
           "align": "left"
          },
          "hovermode": "closest",
          "mapbox": {
           "style": "light"
          },
          "paper_bgcolor": "white",
          "plot_bgcolor": "#E5ECF6",
          "polar": {
           "angularaxis": {
            "gridcolor": "white",
            "linecolor": "white",
            "ticks": ""
           },
           "bgcolor": "#E5ECF6",
           "radialaxis": {
            "gridcolor": "white",
            "linecolor": "white",
            "ticks": ""
           }
          },
          "scene": {
           "xaxis": {
            "backgroundcolor": "#E5ECF6",
            "gridcolor": "white",
            "gridwidth": 2,
            "linecolor": "white",
            "showbackground": true,
            "ticks": "",
            "zerolinecolor": "white"
           },
           "yaxis": {
            "backgroundcolor": "#E5ECF6",
            "gridcolor": "white",
            "gridwidth": 2,
            "linecolor": "white",
            "showbackground": true,
            "ticks": "",
            "zerolinecolor": "white"
           },
           "zaxis": {
            "backgroundcolor": "#E5ECF6",
            "gridcolor": "white",
            "gridwidth": 2,
            "linecolor": "white",
            "showbackground": true,
            "ticks": "",
            "zerolinecolor": "white"
           }
          },
          "shapedefaults": {
           "line": {
            "color": "#2a3f5f"
           }
          },
          "ternary": {
           "aaxis": {
            "gridcolor": "white",
            "linecolor": "white",
            "ticks": ""
           },
           "baxis": {
            "gridcolor": "white",
            "linecolor": "white",
            "ticks": ""
           },
           "bgcolor": "#E5ECF6",
           "caxis": {
            "gridcolor": "white",
            "linecolor": "white",
            "ticks": ""
           }
          },
          "title": {
           "x": 0.05
          },
          "xaxis": {
           "automargin": true,
           "gridcolor": "white",
           "linecolor": "white",
           "ticks": "",
           "title": {
            "standoff": 15
           },
           "zerolinecolor": "white",
           "zerolinewidth": 2
          },
          "yaxis": {
           "automargin": true,
           "gridcolor": "white",
           "linecolor": "white",
           "ticks": "",
           "title": {
            "standoff": 15
           },
           "zerolinecolor": "white",
           "zerolinewidth": 2
          }
         }
        },
        "title": {
         "text": "y=petal length (cm), x=sepal length (cm), y_pred = (sepal length (cm)) * 0.75008 + 0.61047<br><sup>\nCondition: [(col(\"species\")) == (String(virginica))]</sup>"
        },
        "xaxis": {
         "title": {
          "text": "sepal length (cm)"
         }
        },
        "yaxis": {
         "title": {
          "text": "petal length (cm)"
         }
        }
       }
      }
     },
     "metadata": {},
     "output_type": "display_data"
    }
   ],
   "source": [
    "# Run the above on different subsets\n",
    "for v in df[\"species\"].unique():\n",
    "    fig = dia.plot_lstsq(\n",
    "        x = \"sepal length (cm)\", \n",
    "        target = \"petal length (cm)\",  \n",
    "        add_bias=True,\n",
    "        condition = pl.col(\"species\") == v\n",
    "    )\n",
    "    fig.show()"
   ]
  },
  {
   "cell_type": "code",
   "execution_count": null,
   "metadata": {},
   "outputs": [],
   "source": []
  },
  {
   "cell_type": "code",
   "execution_count": null,
   "metadata": {},
   "outputs": [],
   "source": []
  },
  {
   "cell_type": "code",
   "execution_count": null,
   "metadata": {},
   "outputs": [],
   "source": []
  }
 ],
 "metadata": {
  "kernelspec": {
   "display_name": ".venv",
   "language": "python",
   "name": "python3"
  },
  "language_info": {
   "codemirror_mode": {
    "name": "ipython",
    "version": 3
   },
   "file_extension": ".py",
   "mimetype": "text/x-python",
   "name": "python",
   "nbconvert_exporter": "python",
   "pygments_lexer": "ipython3",
   "version": "3.11.8"
  }
 },
 "nbformat": 4,
 "nbformat_minor": 2
}
