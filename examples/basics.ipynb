{
 "cells": [
  {
   "cell_type": "code",
   "execution_count": 1,
   "id": "529f4422-5c3a-4bd6-abe0-a15edfc62abb",
   "metadata": {},
   "outputs": [],
   "source": [
    "import polars as pl\n",
    "import polars_ds as pds\n",
    "import numpy as np"
   ]
  },
  {
   "cell_type": "markdown",
   "id": "6a314316",
   "metadata": {},
   "source": [
    "# This notebook illustrates the basic usage of this package\n",
    "\n",
    "You need to create an environment with this package installed to run this notebook. (v0.3.4+)\n",
    "\n",
    "## New in v0.3.4\n",
    "\n",
    "You can now access the following queries by calling them directly from pds (e.g. pds.query_lstsq, etc.)\n",
    "\n",
    "1. All knn related queries\n",
    "2. All lstsq (linear regression) related queries\n",
    "3. All graph related queries\n",
    "4. Most common metrics\n",
    "5. Miscallenous, which are self-explanatory by the names\n",
    "\n",
    "More will be added if appropriate. For most occasions, in pds.func() arguments, you can use either str or pl.Expr. For example:\n",
    "\n",
    "```python\n",
    "df.select(\n",
    "    pds.query_lstsq_report(\n",
    "        pl.col(\"x1\"), \"x2\", # str | pl.Expr\n",
    "        target = \"y\",\n",
    "        add_bias=False\n",
    "    ).alias(\"report\")\n",
    ").unnest(\"report\")\n",
    "\n",
    "shape: (2, 5)\n",
    "┌──────────┬───────┬────────────┬────────────┬───────┐\n",
    "│ feat_idx ┆ coeff ┆ std_err    ┆ t          ┆ p>|t| │\n",
    "│ ---      ┆ ---   ┆ ---        ┆ ---        ┆ ---   │\n",
    "│ u16      ┆ f64   ┆ f64        ┆ f64        ┆ f64   │\n",
    "╞══════════╪═══════╪════════════╪════════════╪═══════╡\n",
    "│ 0        ┆ 2.0   ┆ 2.3854e-16 ┆ 8.3842e15  ┆ 0.0   │\n",
    "│ 1        ┆ -1.0  ┆ 9.0158e-17 ┆ -1.1092e16 ┆ 0.0   │\n",
    "└──────────┴───────┴────────────┴────────────┴───────┘\n",
    "\n",
    "```\n",
    "\n",
    "# New in v0.3.5\n",
    "\n",
    "It is much easier to generate randoms now.\n",
    "\n",
    "```python\n",
    "df.with_columns(\n",
    "    pds.random().alias(\"[0, 1)\"),\n",
    "    pds.random_normal(pl.col(\"a\").mean(), 1.0).alias(\"Normal\"),\n",
    "    pds.random_int(0, 10).alias(\"Int from [0, 10)\"),\n",
    ")\n",
    "```"
   ]
  },
  {
   "cell_type": "markdown",
   "id": "3aef5c69-fff3-4779-9b58-f939d725f0b0",
   "metadata": {},
   "source": [
    "# Num Extensions"
   ]
  },
  {
   "cell_type": "code",
   "execution_count": 2,
   "id": "430fec01-5d0b-422f-b099-c86037512b6d",
   "metadata": {},
   "outputs": [
    {
     "data": {
      "text/html": [
       "<div><style>\n",
       ".dataframe > thead > tr,\n",
       ".dataframe > tbody > tr {\n",
       "  text-align: right;\n",
       "  white-space: pre-wrap;\n",
       "}\n",
       "</style>\n",
       "<small>shape: (5, 11)</small><table border=\"1\" class=\"dataframe\"><thead><tr><th>f</th><th>time_idx</th><th>dummy</th><th>a</th><th>b</th><th>x1</th><th>x2</th><th>y</th><th>actual</th><th>predicted</th><th>dummy_groups</th></tr><tr><td>f64</td><td>i64</td><td>str</td><td>f64</td><td>f64</td><td>i64</td><td>i64</td><td>i64</td><td>i32</td><td>f64</td><td>str</td></tr></thead><tbody><tr><td>0.0</td><td>0</td><td>&quot;a&quot;</td><td>0.398669</td><td>0.243315</td><td>0</td><td>10000</td><td>-10000</td><td>0</td><td>0.095293</td><td>&quot;a&quot;</td></tr><tr><td>0.841471</td><td>1</td><td>&quot;a&quot;</td><td>0.614471</td><td>0.205741</td><td>1</td><td>10001</td><td>-9999</td><td>1</td><td>0.289447</td><td>&quot;a&quot;</td></tr><tr><td>0.909297</td><td>2</td><td>&quot;a&quot;</td><td>0.966153</td><td>0.206509</td><td>2</td><td>10002</td><td>-9998</td><td>0</td><td>0.536976</td><td>&quot;a&quot;</td></tr><tr><td>0.14112</td><td>3</td><td>&quot;a&quot;</td><td>0.1265</td><td>0.423519</td><td>3</td><td>10003</td><td>-9997</td><td>1</td><td>0.378159</td><td>&quot;a&quot;</td></tr><tr><td>-0.756802</td><td>4</td><td>&quot;a&quot;</td><td>0.730213</td><td>0.820924</td><td>4</td><td>10004</td><td>-9996</td><td>1</td><td>0.502854</td><td>&quot;a&quot;</td></tr></tbody></table></div>"
      ],
      "text/plain": [
       "shape: (5, 11)\n",
       "┌───────────┬──────────┬───────┬──────────┬───┬────────┬────────┬───────────┬──────────────┐\n",
       "│ f         ┆ time_idx ┆ dummy ┆ a        ┆ … ┆ y      ┆ actual ┆ predicted ┆ dummy_groups │\n",
       "│ ---       ┆ ---      ┆ ---   ┆ ---      ┆   ┆ ---    ┆ ---    ┆ ---       ┆ ---          │\n",
       "│ f64       ┆ i64      ┆ str   ┆ f64      ┆   ┆ i64    ┆ i32    ┆ f64       ┆ str          │\n",
       "╞═══════════╪══════════╪═══════╪══════════╪═══╪════════╪════════╪═══════════╪══════════════╡\n",
       "│ 0.0       ┆ 0        ┆ a     ┆ 0.398669 ┆ … ┆ -10000 ┆ 0      ┆ 0.095293  ┆ a            │\n",
       "│ 0.841471  ┆ 1        ┆ a     ┆ 0.614471 ┆ … ┆ -9999  ┆ 1      ┆ 0.289447  ┆ a            │\n",
       "│ 0.909297  ┆ 2        ┆ a     ┆ 0.966153 ┆ … ┆ -9998  ┆ 0      ┆ 0.536976  ┆ a            │\n",
       "│ 0.14112   ┆ 3        ┆ a     ┆ 0.1265   ┆ … ┆ -9997  ┆ 1      ┆ 0.378159  ┆ a            │\n",
       "│ -0.756802 ┆ 4        ┆ a     ┆ 0.730213 ┆ … ┆ -9996  ┆ 1      ┆ 0.502854  ┆ a            │\n",
       "└───────────┴──────────┴───────┴──────────┴───┴────────┴────────┴───────────┴──────────────┘"
      ]
     },
     "execution_count": 2,
     "metadata": {},
     "output_type": "execute_result"
    }
   ],
   "source": [
    "size = 10_000\n",
    "df = pl.DataFrame({\n",
    "    \"f\": np.sin(list(range(size)))\n",
    "    , \"time_idx\": range(size)\n",
    "    , \"dummy\": [\"a\"] * (size // 2) + [\"b\"] * (size // 2)\n",
    "    , \"a\": np.random.random(size = size)\n",
    "    , \"b\": np.random.random(size = size)\n",
    "    , \"x1\" : range(size)\n",
    "    , \"x2\" : range(size, size + size)\n",
    "    , \"y\": range(-size, 0)\n",
    "    , \"actual\": np.round(np.random.random(size=size)).astype(np.int32)\n",
    "    , \"predicted\": np.random.random(size=size)\n",
    "    , \"dummy_groups\":[\"a\"] * (size//2) + [\"b\"] * (size//2) \n",
    "})\n",
    "df.head()"
   ]
  },
  {
   "cell_type": "code",
   "execution_count": 3,
   "id": "b6f98453-34cd-4afc-b35d-db58fa60a69a",
   "metadata": {},
   "outputs": [
    {
     "data": {
      "text/html": [
       "<div><style>\n",
       ".dataframe > thead > tr,\n",
       ".dataframe > tbody > tr {\n",
       "  text-align: right;\n",
       "  white-space: pre-wrap;\n",
       "}\n",
       "</style>\n",
       "<small>shape: (1, 1)</small><table border=\"1\" class=\"dataframe\"><thead><tr><th>x1</th></tr><tr><td>f64</td></tr></thead><tbody><tr><td>0.0</td></tr></tbody></table></div>"
      ],
      "text/plain": [
       "shape: (1, 1)\n",
       "┌─────┐\n",
       "│ x1  │\n",
       "│ --- │\n",
       "│ f64 │\n",
       "╞═════╡\n",
       "│ 0.0 │\n",
       "└─────┘"
      ]
     },
     "execution_count": 3,
     "metadata": {},
     "output_type": "execute_result"
    }
   ],
   "source": [
    "# Column-wise Jaccard Similarity. Result should be 0 as they are distinct\n",
    "df.select(\n",
    "    pl.col(\"x1\").num.jaccard(pl.col(\"x2\"))\n",
    ")"
   ]
  },
  {
   "cell_type": "code",
   "execution_count": 4,
   "id": "416d5346-e75b-4769-a953-e898d6a4d84c",
   "metadata": {},
   "outputs": [
    {
     "data": {
      "text/html": [
       "<div><style>\n",
       ".dataframe > thead > tr,\n",
       ".dataframe > tbody > tr {\n",
       "  text-align: right;\n",
       "  white-space: pre-wrap;\n",
       "}\n",
       "</style>\n",
       "<small>shape: (5, 1)</small><table border=\"1\" class=\"dataframe\"><thead><tr><th>f</th></tr><tr><td>array[f64, 2]</td></tr></thead><tbody><tr><td>[1.939505, 0.0]</td></tr><tr><td>[1.939506, 0.000209]</td></tr><tr><td>[1.939508, 0.000418]</td></tr><tr><td>[1.939512, 0.000627]</td></tr><tr><td>[1.939518, 0.000835]</td></tr></tbody></table></div>"
      ],
      "text/plain": [
       "shape: (5, 1)\n",
       "┌──────────────────────┐\n",
       "│ f                    │\n",
       "│ ---                  │\n",
       "│ array[f64, 2]        │\n",
       "╞══════════════════════╡\n",
       "│ [1.939505, 0.0]      │\n",
       "│ [1.939506, 0.000209] │\n",
       "│ [1.939508, 0.000418] │\n",
       "│ [1.939512, 0.000627] │\n",
       "│ [1.939518, 0.000835] │\n",
       "└──────────────────────┘"
      ]
     },
     "execution_count": 4,
     "metadata": {},
     "output_type": "execute_result"
    }
   ],
   "source": [
    "# FFT. First is real part, second is complex part\n",
    "# By default, this behaves the same as np's rfft, which returns a non-redundant \n",
    "# compact representation of fft output.\n",
    "df.select(\n",
    "    pl.col(\"f\").num.rfft()\n",
    ").head()"
   ]
  },
  {
   "cell_type": "code",
   "execution_count": 5,
   "id": "71c76353",
   "metadata": {},
   "outputs": [
    {
     "data": {
      "text/plain": [
       "(10000, 1)"
      ]
     },
     "execution_count": 5,
     "metadata": {},
     "output_type": "execute_result"
    }
   ],
   "source": [
    "# FFT. But return the full length\n",
    "df.select(\n",
    "    pl.col(\"f\").num.rfft(return_full=True)\n",
    ").shape"
   ]
  },
  {
   "cell_type": "code",
   "execution_count": 6,
   "id": "cd6662d2",
   "metadata": {},
   "outputs": [
    {
     "data": {
      "text/html": [
       "<div><style>\n",
       ".dataframe > thead > tr,\n",
       ".dataframe > tbody > tr {\n",
       "  text-align: right;\n",
       "  white-space: pre-wrap;\n",
       "}\n",
       "</style>\n",
       "<small>shape: (5, 3)</small><table border=\"1\" class=\"dataframe\"><thead><tr><th>f</th><th>a</th><th>b</th></tr><tr><td>f64</td><td>f64</td><td>f64</td></tr></thead><tbody><tr><td>1.3944e-15</td><td>-0.398669</td><td>-0.243315</td></tr><tr><td>-0.841471</td><td>-0.614471</td><td>-0.205741</td></tr><tr><td>-0.909297</td><td>-0.966153</td><td>-0.206509</td></tr><tr><td>-0.14112</td><td>-0.1265</td><td>-0.423519</td></tr><tr><td>0.756802</td><td>-0.331544</td><td>-0.577609</td></tr></tbody></table></div>"
      ],
      "text/plain": [
       "shape: (5, 3)\n",
       "┌────────────┬───────────┬───────────┐\n",
       "│ f          ┆ a         ┆ b         │\n",
       "│ ---        ┆ ---       ┆ ---       │\n",
       "│ f64        ┆ f64       ┆ f64       │\n",
       "╞════════════╪═══════════╪═══════════╡\n",
       "│ 1.3944e-15 ┆ -0.398669 ┆ -0.243315 │\n",
       "│ -0.841471  ┆ -0.614471 ┆ -0.205741 │\n",
       "│ -0.909297  ┆ -0.966153 ┆ -0.206509 │\n",
       "│ -0.14112   ┆ -0.1265   ┆ -0.423519 │\n",
       "│ 0.756802   ┆ -0.331544 ┆ -0.577609 │\n",
       "└────────────┴───────────┴───────────┘"
      ]
     },
     "execution_count": 6,
     "metadata": {},
     "output_type": "execute_result"
    }
   ],
   "source": [
    "# Convolution (by FFT). \n",
    "# Modes: `same`, `left` (left-aligned same), `right` (right-aligned same), `valid` or `full`\n",
    "# Currently slower than SciPy but provides parallelism because of Polars\n",
    "df.select(\n",
    "    pl.col(\"f\").num.convolve([-1, 0, 0, 0, 1], mode = \"full\"),\n",
    "    pl.col(\"a\").num.convolve([-1, 0, 0, 0, 1], mode = \"full\"),\n",
    "    pl.col(\"b\").num.convolve([-1, 0, 0, 0, 1], mode = \"full\"),\n",
    ").head()"
   ]
  },
  {
   "cell_type": "code",
   "execution_count": 7,
   "id": "ed47b643-6bcc-43f6-9a25-82168c33e7fd",
   "metadata": {},
   "outputs": [
    {
     "data": {
      "text/html": [
       "<div><style>\n",
       ".dataframe > thead > tr,\n",
       ".dataframe > tbody > tr {\n",
       "  text-align: right;\n",
       "  white-space: pre-wrap;\n",
       "}\n",
       "</style>\n",
       "<small>shape: (1, 1)</small><table border=\"1\" class=\"dataframe\"><thead><tr><th>y</th></tr><tr><td>list[f64]</td></tr></thead><tbody><tr><td>[2.0, -1.0]</td></tr></tbody></table></div>"
      ],
      "text/plain": [
       "shape: (1, 1)\n",
       "┌─────────────┐\n",
       "│ y           │\n",
       "│ ---         │\n",
       "│ list[f64]   │\n",
       "╞═════════════╡\n",
       "│ [2.0, -1.0] │\n",
       "└─────────────┘"
      ]
     },
     "execution_count": 7,
     "metadata": {},
     "output_type": "execute_result"
    }
   ],
   "source": [
    "# Least Square (Linear Regression)\n",
    "df.select(\n",
    "    pds.query_lstsq(\n",
    "        pl.col(\"x1\"), pl.col(\"x2\"),\n",
    "        target = pl.col(\"y\"),\n",
    "        add_bias=False\n",
    "    )\n",
    ")"
   ]
  },
  {
   "cell_type": "code",
   "execution_count": 8,
   "id": "7e6da23d",
   "metadata": {},
   "outputs": [
    {
     "data": {
      "text/html": [
       "<div><style>\n",
       ".dataframe > thead > tr,\n",
       ".dataframe > tbody > tr {\n",
       "  text-align: right;\n",
       "  white-space: pre-wrap;\n",
       "}\n",
       "</style>\n",
       "<small>shape: (2, 5)</small><table border=\"1\" class=\"dataframe\"><thead><tr><th>feat_idx</th><th>coeff</th><th>std_err</th><th>t</th><th>p&gt;|t|</th></tr><tr><td>u16</td><td>f64</td><td>f64</td><td>f64</td><td>f64</td></tr></thead><tbody><tr><td>0</td><td>2.0</td><td>2.3854e-16</td><td>8.3842e15</td><td>0.0</td></tr><tr><td>1</td><td>-1.0</td><td>9.0158e-17</td><td>-1.1092e16</td><td>0.0</td></tr></tbody></table></div>"
      ],
      "text/plain": [
       "shape: (2, 5)\n",
       "┌──────────┬───────┬────────────┬────────────┬───────┐\n",
       "│ feat_idx ┆ coeff ┆ std_err    ┆ t          ┆ p>|t| │\n",
       "│ ---      ┆ ---   ┆ ---        ┆ ---        ┆ ---   │\n",
       "│ u16      ┆ f64   ┆ f64        ┆ f64        ┆ f64   │\n",
       "╞══════════╪═══════╪════════════╪════════════╪═══════╡\n",
       "│ 0        ┆ 2.0   ┆ 2.3854e-16 ┆ 8.3842e15  ┆ 0.0   │\n",
       "│ 1        ┆ -1.0  ┆ 9.0158e-17 ┆ -1.1092e16 ┆ 0.0   │\n",
       "└──────────┴───────┴────────────┴────────────┴───────┘"
      ]
     },
     "execution_count": 8,
     "metadata": {},
     "output_type": "execute_result"
    }
   ],
   "source": [
    "df.select(\n",
    "    pds.query_lstsq_report(\n",
    "        # str | pl.Expr\n",
    "        \"x1\", \"x2\",\n",
    "        target = pl.col(\"y\"),\n",
    "        add_bias=False\n",
    "    ).alias(\"report\")\n",
    ").unnest(\"report\")"
   ]
  },
  {
   "cell_type": "code",
   "execution_count": 9,
   "id": "4c34e7b2",
   "metadata": {},
   "outputs": [
    {
     "data": {
      "text/html": [
       "<div><style>\n",
       ".dataframe > thead > tr,\n",
       ".dataframe > tbody > tr {\n",
       "  text-align: right;\n",
       "  white-space: pre-wrap;\n",
       "}\n",
       "</style>\n",
       "<small>shape: (1, 1)</small><table border=\"1\" class=\"dataframe\"><thead><tr><th>y</th></tr><tr><td>list[f64]</td></tr></thead><tbody><tr><td>[2.0, -1.0]</td></tr></tbody></table></div>"
      ],
      "text/plain": [
       "shape: (1, 1)\n",
       "┌─────────────┐\n",
       "│ y           │\n",
       "│ ---         │\n",
       "│ list[f64]   │\n",
       "╞═════════════╡\n",
       "│ [2.0, -1.0] │\n",
       "└─────────────┘"
      ]
     },
     "execution_count": 9,
     "metadata": {},
     "output_type": "execute_result"
    }
   ],
   "source": [
    "df.lazy().select(\n",
    "    pds.query_lstsq(\n",
    "        pl.col(\"x1\"), pl.col(\"x2\"),\n",
    "        target = \"y\", # We can either put pl.col(\"y\") here or just the string \"y\"\n",
    "        add_bias=False\n",
    "    )\n",
    ").collect()"
   ]
  },
  {
   "cell_type": "code",
   "execution_count": 10,
   "id": "16511624-fc7f-45fc-b28e-ad9a91c1bfe9",
   "metadata": {},
   "outputs": [
    {
     "data": {
      "text/html": [
       "<div><style>\n",
       ".dataframe > thead > tr,\n",
       ".dataframe > tbody > tr {\n",
       "  text-align: right;\n",
       "  white-space: pre-wrap;\n",
       "}\n",
       "</style>\n",
       "<small>shape: (5, 1)</small><table border=\"1\" class=\"dataframe\"><thead><tr><th>coeffs</th></tr><tr><td>list[f64]</td></tr></thead><tbody><tr><td>[2.0, -1.0]</td></tr><tr><td>[2.0, -1.0]</td></tr><tr><td>[2.0, -1.0]</td></tr><tr><td>[2.0, -1.0]</td></tr><tr><td>[2.0, -1.0]</td></tr></tbody></table></div>"
      ],
      "text/plain": [
       "shape: (5, 1)\n",
       "┌─────────────┐\n",
       "│ coeffs      │\n",
       "│ ---         │\n",
       "│ list[f64]   │\n",
       "╞═════════════╡\n",
       "│ [2.0, -1.0] │\n",
       "│ [2.0, -1.0] │\n",
       "│ [2.0, -1.0] │\n",
       "│ [2.0, -1.0] │\n",
       "│ [2.0, -1.0] │\n",
       "└─────────────┘"
      ]
     },
     "execution_count": 10,
     "metadata": {},
     "output_type": "execute_result"
    }
   ],
   "source": [
    "df.select(\n",
    "    pds.query_lstsq(\n",
    "        pl.col(\"x1\"), pl.col(\"x2\"),\n",
    "        target = pl.col(\"y\"),\n",
    "        add_bias=False\n",
    "    ).over(pl.col(\"dummy\"))\n",
    ").head() "
   ]
  },
  {
   "cell_type": "code",
   "execution_count": 11,
   "id": "f550c7c6",
   "metadata": {},
   "outputs": [
    {
     "data": {
      "text/html": [
       "<div><style>\n",
       ".dataframe > thead > tr,\n",
       ".dataframe > tbody > tr {\n",
       "  text-align: right;\n",
       "  white-space: pre-wrap;\n",
       "}\n",
       "</style>\n",
       "<small>shape: (5, 5)</small><table border=\"1\" class=\"dataframe\"><thead><tr><th>x1</th><th>x2</th><th>y</th><th>pred</th><th>resid</th></tr><tr><td>i64</td><td>i64</td><td>i64</td><td>f64</td><td>f64</td></tr></thead><tbody><tr><td>0</td><td>10000</td><td>-10000</td><td>-10000.0</td><td>5.8208e-11</td></tr><tr><td>1</td><td>10001</td><td>-9999</td><td>-9999.0</td><td>5.8208e-11</td></tr><tr><td>2</td><td>10002</td><td>-9998</td><td>-9998.0</td><td>5.8208e-11</td></tr><tr><td>3</td><td>10003</td><td>-9997</td><td>-9997.0</td><td>5.8208e-11</td></tr><tr><td>4</td><td>10004</td><td>-9996</td><td>-9996.0</td><td>5.8208e-11</td></tr></tbody></table></div>"
      ],
      "text/plain": [
       "shape: (5, 5)\n",
       "┌─────┬───────┬────────┬──────────┬────────────┐\n",
       "│ x1  ┆ x2    ┆ y      ┆ pred     ┆ resid      │\n",
       "│ --- ┆ ---   ┆ ---    ┆ ---      ┆ ---        │\n",
       "│ i64 ┆ i64   ┆ i64    ┆ f64      ┆ f64        │\n",
       "╞═════╪═══════╪════════╪══════════╪════════════╡\n",
       "│ 0   ┆ 10000 ┆ -10000 ┆ -10000.0 ┆ 5.8208e-11 │\n",
       "│ 1   ┆ 10001 ┆ -9999  ┆ -9999.0  ┆ 5.8208e-11 │\n",
       "│ 2   ┆ 10002 ┆ -9998  ┆ -9998.0  ┆ 5.8208e-11 │\n",
       "│ 3   ┆ 10003 ┆ -9997  ┆ -9997.0  ┆ 5.8208e-11 │\n",
       "│ 4   ┆ 10004 ┆ -9996  ┆ -9996.0  ┆ 5.8208e-11 │\n",
       "└─────┴───────┴────────┴──────────┴────────────┘"
      ]
     },
     "execution_count": 11,
     "metadata": {},
     "output_type": "execute_result"
    }
   ],
   "source": [
    "# If you want prediction and residue instead of coefficients\n",
    "df.select(\n",
    "    \"x1\",\n",
    "    \"x2\",\n",
    "    \"y\",\n",
    "    # This is equivalent to pds.query_lstsq, with y being the target. Linters, however, will not pick up this syntax\n",
    "    # And you have to use pl.col(\"..\") instead of just a str\n",
    "    (pl.col(\"y\").num.lstsq(pl.col(\"x1\"), pl.col(\"x2\"), add_bias=False, return_pred=True)).alias(\"prediction\")\n",
    ").unnest(\"prediction\").head()"
   ]
  },
  {
   "cell_type": "code",
   "execution_count": 12,
   "id": "0e9fb061-340d-423d-9107-772387006ff2",
   "metadata": {},
   "outputs": [
    {
     "data": {
      "text/html": [
       "<div><style>\n",
       ".dataframe > thead > tr,\n",
       ".dataframe > tbody > tr {\n",
       "  text-align: right;\n",
       "  white-space: pre-wrap;\n",
       "}\n",
       "</style>\n",
       "<small>shape: (2, 2)</small><table border=\"1\" class=\"dataframe\"><thead><tr><th>dummy</th><th>coeffs</th></tr><tr><td>str</td><td>list[f64]</td></tr></thead><tbody><tr><td>&quot;b&quot;</td><td>[2.0, -1.0]</td></tr><tr><td>&quot;a&quot;</td><td>[2.0, -1.0]</td></tr></tbody></table></div>"
      ],
      "text/plain": [
       "shape: (2, 2)\n",
       "┌───────┬─────────────┐\n",
       "│ dummy ┆ coeffs      │\n",
       "│ ---   ┆ ---         │\n",
       "│ str   ┆ list[f64]   │\n",
       "╞═══════╪═════════════╡\n",
       "│ b     ┆ [2.0, -1.0] │\n",
       "│ a     ┆ [2.0, -1.0] │\n",
       "└───────┴─────────────┘"
      ]
     },
     "execution_count": 12,
     "metadata": {},
     "output_type": "execute_result"
    }
   ],
   "source": [
    "df.group_by(\"dummy\").agg(\n",
    "    pl.col(\"y\").num.lstsq(pl.col(\"x1\"), pl.col(\"x2\"), add_bias=False)\n",
    ")"
   ]
  },
  {
   "cell_type": "code",
   "execution_count": 13,
   "id": "765ff27b",
   "metadata": {},
   "outputs": [
    {
     "data": {
      "text/html": [
       "<div><style>\n",
       ".dataframe > thead > tr,\n",
       ".dataframe > tbody > tr {\n",
       "  text-align: right;\n",
       "  white-space: pre-wrap;\n",
       "}\n",
       "</style>\n",
       "<small>shape: (10, 2)</small><table border=\"1\" class=\"dataframe\"><thead><tr><th>time_idx</th><th>coefficients</th></tr><tr><td>i64</td><td>list[f64]</td></tr></thead><tbody><tr><td>30</td><td>[2.0, -1.0]</td></tr><tr><td>31</td><td>[2.0, -1.0]</td></tr><tr><td>32</td><td>[2.0, -1.0]</td></tr><tr><td>33</td><td>[2.0, -1.0]</td></tr><tr><td>34</td><td>[2.0, -1.0]</td></tr><tr><td>35</td><td>[2.0, -1.0]</td></tr><tr><td>36</td><td>[2.0, -1.0]</td></tr><tr><td>37</td><td>[2.0, -1.0]</td></tr><tr><td>38</td><td>[2.0, -1.0]</td></tr><tr><td>39</td><td>[2.0, -1.0]</td></tr></tbody></table></div>"
      ],
      "text/plain": [
       "shape: (10, 2)\n",
       "┌──────────┬──────────────┐\n",
       "│ time_idx ┆ coefficients │\n",
       "│ ---      ┆ ---          │\n",
       "│ i64      ┆ list[f64]    │\n",
       "╞══════════╪══════════════╡\n",
       "│ 30       ┆ [2.0, -1.0]  │\n",
       "│ 31       ┆ [2.0, -1.0]  │\n",
       "│ 32       ┆ [2.0, -1.0]  │\n",
       "│ 33       ┆ [2.0, -1.0]  │\n",
       "│ 34       ┆ [2.0, -1.0]  │\n",
       "│ 35       ┆ [2.0, -1.0]  │\n",
       "│ 36       ┆ [2.0, -1.0]  │\n",
       "│ 37       ┆ [2.0, -1.0]  │\n",
       "│ 38       ┆ [2.0, -1.0]  │\n",
       "│ 39       ┆ [2.0, -1.0]  │\n",
       "└──────────┴──────────────┘"
      ]
     },
     "execution_count": 13,
     "metadata": {},
     "output_type": "execute_result"
    }
   ],
   "source": [
    "# Rolling regression, kind of slow rn\n",
    "df.lazy().rolling(\n",
    "    index_column = pl.col(\"time_idx\").set_sorted(),\n",
    "    period = \"30i\",\n",
    "    # offset = \"-1i\"\n",
    ").agg(\n",
    "    pds.query_lstsq(pl.col(\"x1\"), pl.col(\"x2\"), target = pl.col(\"y\"), add_bias=False).alias(\"coefficients\")\n",
    ").slice(offset = 30).select(\n",
    "    \"time_idx\",\n",
    "    \"coefficients\",\n",
    ").collect().head(10)"
   ]
  },
  {
   "cell_type": "code",
   "execution_count": 14,
   "id": "d8fda8ca-57e7-4e02-a3f0-283ecce66a59",
   "metadata": {},
   "outputs": [
    {
     "data": {
      "text/html": [
       "<div><style>\n",
       ".dataframe > thead > tr,\n",
       ".dataframe > tbody > tr {\n",
       "  text-align: right;\n",
       "  white-space: pre-wrap;\n",
       "}\n",
       "</style>\n",
       "<small>shape: (1, 1)</small><table border=\"1\" class=\"dataframe\"><thead><tr><th>y</th></tr><tr><td>f64</td></tr></thead><tbody><tr><td>-0.0</td></tr></tbody></table></div>"
      ],
      "text/plain": [
       "shape: (1, 1)\n",
       "┌──────┐\n",
       "│ y    │\n",
       "│ ---  │\n",
       "│ f64  │\n",
       "╞══════╡\n",
       "│ -0.0 │\n",
       "└──────┘"
      ]
     },
     "execution_count": 14,
     "metadata": {},
     "output_type": "execute_result"
    }
   ],
   "source": [
    "# Conditional Entropy, should be 0 because x1 is an ID\n",
    "df.select(\n",
    "    pl.col(\"y\").num.cond_entropy(pl.col(\"x1\"))\n",
    ")"
   ]
  },
  {
   "cell_type": "markdown",
   "id": "1b2e036f",
   "metadata": {},
   "source": [
    "# ML Metrics"
   ]
  },
  {
   "cell_type": "code",
   "execution_count": 15,
   "id": "85d0d094-3c4c-4230-a589-1027c5690162",
   "metadata": {},
   "outputs": [
    {
     "data": {
      "text/html": [
       "<div><style>\n",
       ".dataframe > thead > tr,\n",
       ".dataframe > tbody > tr {\n",
       "  text-align: right;\n",
       "  white-space: pre-wrap;\n",
       "}\n",
       "</style>\n",
       "<small>shape: (2, 8)</small><table border=\"1\" class=\"dataframe\"><thead><tr><th>dummy_groups</th><th>l2</th><th>log loss</th><th>precision</th><th>recall</th><th>f</th><th>average_precision</th><th>roc_auc</th></tr><tr><td>str</td><td>f64</td><td>f64</td><td>f64</td><td>f64</td><td>f64</td><td>f64</td><td>f64</td></tr></thead><tbody><tr><td>&quot;b&quot;</td><td>0.324628</td><td>0.980689</td><td>0.515789</td><td>0.527092</td><td>0.26069</td><td>0.51198</td><td>0.518029</td></tr><tr><td>&quot;a&quot;</td><td>0.340682</td><td>1.029475</td><td>0.481124</td><td>0.486004</td><td>0.241776</td><td>0.488724</td><td>0.485512</td></tr></tbody></table></div>"
      ],
      "text/plain": [
       "shape: (2, 8)\n",
       "┌──────────────┬──────────┬──────────┬───────────┬──────────┬──────────┬────────────────┬──────────┐\n",
       "│ dummy_groups ┆ l2       ┆ log loss ┆ precision ┆ recall   ┆ f        ┆ average_precis ┆ roc_auc  │\n",
       "│ ---          ┆ ---      ┆ ---      ┆ ---       ┆ ---      ┆ ---      ┆ ion            ┆ ---      │\n",
       "│ str          ┆ f64      ┆ f64      ┆ f64       ┆ f64      ┆ f64      ┆ ---            ┆ f64      │\n",
       "│              ┆          ┆          ┆           ┆          ┆          ┆ f64            ┆          │\n",
       "╞══════════════╪══════════╪══════════╪═══════════╪══════════╪══════════╪════════════════╪══════════╡\n",
       "│ b            ┆ 0.324628 ┆ 0.980689 ┆ 0.515789  ┆ 0.527092 ┆ 0.26069  ┆ 0.51198        ┆ 0.518029 │\n",
       "│ a            ┆ 0.340682 ┆ 1.029475 ┆ 0.481124  ┆ 0.486004 ┆ 0.241776 ┆ 0.488724       ┆ 0.485512 │\n",
       "└──────────────┴──────────┴──────────┴───────────┴──────────┴──────────┴────────────────┴──────────┘"
      ]
     },
     "execution_count": 15,
     "metadata": {},
     "output_type": "execute_result"
    }
   ],
   "source": [
    "df.group_by(\"dummy_groups\").agg(\n",
    "    pl.col(\"actual\").metric.l2_loss(pl.col(\"predicted\")).alias(\"l2\"),\n",
    "    pl.col(\"actual\").metric.log_loss(pl.col(\"predicted\")).alias(\"log loss\"),\n",
    "    # Or equivalently pl.col(\"actual\").metric.binary_metrics_combo(pl.col(\"predicted\"))\n",
    "    pds.query_binary_metrics(actual=\"actual\", pred=\"predicted\").alias(\"combo\")\n",
    ").unnest(\"combo\")\n"
   ]
  },
  {
   "cell_type": "markdown",
   "id": "a8d7c6e3-0f1d-45f0-9fdb-cdb303b98556",
   "metadata": {},
   "source": [
    "# Str Extension"
   ]
  },
  {
   "cell_type": "code",
   "execution_count": 16,
   "id": "54ad36f9-264e-4a49-bf36-936639440edf",
   "metadata": {},
   "outputs": [
    {
     "data": {
      "text/html": [
       "<div><style>\n",
       ".dataframe > thead > tr,\n",
       ".dataframe > tbody > tr {\n",
       "  text-align: right;\n",
       "  white-space: pre-wrap;\n",
       "}\n",
       "</style>\n",
       "<small>shape: (5, 2)</small><table border=\"1\" class=\"dataframe\"><thead><tr><th>sen</th><th>word</th></tr><tr><td>str</td><td>str</td></tr></thead><tbody><tr><td>&quot;Hello, world! …</td><td>&quot;words&quot;</td></tr><tr><td>&quot;Hello, world! …</td><td>&quot;word&quot;</td></tr><tr><td>&quot;Hello, world! …</td><td>&quot;words&quot;</td></tr><tr><td>&quot;Hello, world! …</td><td>&quot;word&quot;</td></tr><tr><td>&quot;Hello, world! …</td><td>&quot;words&quot;</td></tr></tbody></table></div>"
      ],
      "text/plain": [
       "shape: (5, 2)\n",
       "┌───────────────────────────────────┬───────┐\n",
       "│ sen                               ┆ word  │\n",
       "│ ---                               ┆ ---   │\n",
       "│ str                               ┆ str   │\n",
       "╞═══════════════════════════════════╪═══════╡\n",
       "│ Hello, world! I'm going to churc… ┆ words │\n",
       "│ Hello, world! I'm going to churc… ┆ word  │\n",
       "│ Hello, world! I'm going to churc… ┆ words │\n",
       "│ Hello, world! I'm going to churc… ┆ word  │\n",
       "│ Hello, world! I'm going to churc… ┆ words │\n",
       "└───────────────────────────────────┴───────┘"
      ]
     },
     "execution_count": 16,
     "metadata": {},
     "output_type": "execute_result"
    }
   ],
   "source": [
    "size = 100_000\n",
    "df2 = pl.DataFrame({\n",
    "    \"sen\":[\"Hello, world! I'm going to church.\"] * size,\n",
    "    \"word\":[\"words\", \"word\"] * (size //2)\n",
    "})\n",
    "df2.head()"
   ]
  },
  {
   "cell_type": "code",
   "execution_count": 17,
   "id": "ee123a7e-7f9b-4f48-a5d5-6354799201ab",
   "metadata": {},
   "outputs": [
    {
     "data": {
      "text/html": [
       "<div><style>\n",
       ".dataframe > thead > tr,\n",
       ".dataframe > tbody > tr {\n",
       "  text-align: right;\n",
       "  white-space: pre-wrap;\n",
       "}\n",
       "</style>\n",
       "<small>shape: (5, 1)</small><table border=\"1\" class=\"dataframe\"><thead><tr><th>sen</th></tr><tr><td>str</td></tr></thead><tbody><tr><td>&quot;hello&quot;</td></tr><tr><td>&quot;to&quot;</td></tr><tr><td>&quot;church&quot;</td></tr><tr><td>&quot;world&quot;</td></tr><tr><td>&quot;going&quot;</td></tr></tbody></table></div>"
      ],
      "text/plain": [
       "shape: (5, 1)\n",
       "┌────────┐\n",
       "│ sen    │\n",
       "│ ---    │\n",
       "│ str    │\n",
       "╞════════╡\n",
       "│ hello  │\n",
       "│ to     │\n",
       "│ church │\n",
       "│ world  │\n",
       "│ going  │\n",
       "└────────┘"
      ]
     },
     "execution_count": 17,
     "metadata": {},
     "output_type": "execute_result"
    }
   ],
   "source": [
    "# Tokenize\n",
    "df2.select(\n",
    "    pl.col(\"sen\").str.to_lowercase().str2.tokenize().explode().unique()\n",
    ")"
   ]
  },
  {
   "cell_type": "code",
   "execution_count": 18,
   "id": "f33017e3-17df-498b-93d9-1d656a344388",
   "metadata": {},
   "outputs": [
    {
     "data": {
      "text/html": [
       "<div><style>\n",
       ".dataframe > thead > tr,\n",
       ".dataframe > tbody > tr {\n",
       "  text-align: right;\n",
       "  white-space: pre-wrap;\n",
       "}\n",
       "</style>\n",
       "<small>shape: (5, 1)</small><table border=\"1\" class=\"dataframe\"><thead><tr><th>sen</th></tr><tr><td>str</td></tr></thead><tbody><tr><td>&quot;church&quot;</td></tr><tr><td>&quot;hello&quot;</td></tr><tr><td>&quot;&quot;</td></tr><tr><td>&quot;world&quot;</td></tr><tr><td>&quot;go&quot;</td></tr></tbody></table></div>"
      ],
      "text/plain": [
       "shape: (5, 1)\n",
       "┌────────┐\n",
       "│ sen    │\n",
       "│ ---    │\n",
       "│ str    │\n",
       "╞════════╡\n",
       "│ church │\n",
       "│ hello  │\n",
       "│        │\n",
       "│ world  │\n",
       "│ go     │\n",
       "└────────┘"
      ]
     },
     "execution_count": 18,
     "metadata": {},
     "output_type": "execute_result"
    }
   ],
   "source": [
    "df2.select(\n",
    "    pl.col(\"sen\").str.to_lowercase().str2.tokenize(stem=True).explode().unique()\n",
    ")"
   ]
  },
  {
   "cell_type": "code",
   "execution_count": 19,
   "id": "69237c02-5f9f-4e92-b68d-6ac43aad1a79",
   "metadata": {},
   "outputs": [
    {
     "data": {
      "text/html": [
       "<div><style>\n",
       ".dataframe > thead > tr,\n",
       ".dataframe > tbody > tr {\n",
       "  text-align: right;\n",
       "  white-space: pre-wrap;\n",
       "}\n",
       "</style>\n",
       "<small>shape: (5, 1)</small><table border=\"1\" class=\"dataframe\"><thead><tr><th>word</th></tr><tr><td>u32</td></tr></thead><tbody><tr><td>2</td></tr><tr><td>1</td></tr><tr><td>2</td></tr><tr><td>1</td></tr><tr><td>2</td></tr></tbody></table></div>"
      ],
      "text/plain": [
       "shape: (5, 1)\n",
       "┌──────┐\n",
       "│ word │\n",
       "│ ---  │\n",
       "│ u32  │\n",
       "╞══════╡\n",
       "│ 2    │\n",
       "│ 1    │\n",
       "│ 2    │\n",
       "│ 1    │\n",
       "│ 2    │\n",
       "└──────┘"
      ]
     },
     "execution_count": 19,
     "metadata": {},
     "output_type": "execute_result"
    }
   ],
   "source": [
    "df2.select(\n",
    "    pl.col(\"word\").str2.levenshtein(\"world\")\n",
    ").head()"
   ]
  },
  {
   "cell_type": "code",
   "execution_count": 20,
   "id": "2eba320c",
   "metadata": {},
   "outputs": [
    {
     "data": {
      "text/html": [
       "<div><style>\n",
       ".dataframe > thead > tr,\n",
       ".dataframe > tbody > tr {\n",
       "  text-align: right;\n",
       "  white-space: pre-wrap;\n",
       "}\n",
       "</style>\n",
       "<small>shape: (5, 1)</small><table border=\"1\" class=\"dataframe\"><thead><tr><th>word</th></tr><tr><td>u32</td></tr></thead><tbody><tr><td>2</td></tr><tr><td>1</td></tr><tr><td>2</td></tr><tr><td>1</td></tr><tr><td>2</td></tr></tbody></table></div>"
      ],
      "text/plain": [
       "shape: (5, 1)\n",
       "┌──────┐\n",
       "│ word │\n",
       "│ ---  │\n",
       "│ u32  │\n",
       "╞══════╡\n",
       "│ 2    │\n",
       "│ 1    │\n",
       "│ 2    │\n",
       "│ 1    │\n",
       "│ 2    │\n",
       "└──────┘"
      ]
     },
     "execution_count": 20,
     "metadata": {},
     "output_type": "execute_result"
    }
   ],
   "source": [
    "# Damerau-Levenshtein\n",
    "df2.select(\n",
    "    pl.col(\"word\").str2.d_levenshtein(\"world\")\n",
    ").head()"
   ]
  },
  {
   "cell_type": "code",
   "execution_count": 21,
   "id": "795396dc",
   "metadata": {},
   "outputs": [
    {
     "data": {
      "text/html": [
       "<div><style>\n",
       ".dataframe > thead > tr,\n",
       ".dataframe > tbody > tr {\n",
       "  text-align: right;\n",
       "  white-space: pre-wrap;\n",
       "}\n",
       "</style>\n",
       "<small>shape: (5, 1)</small><table border=\"1\" class=\"dataframe\"><thead><tr><th>word</th></tr><tr><td>f64</td></tr></thead><tbody><tr><td>0.6</td></tr><tr><td>0.8</td></tr><tr><td>0.6</td></tr><tr><td>0.8</td></tr><tr><td>0.6</td></tr></tbody></table></div>"
      ],
      "text/plain": [
       "shape: (5, 1)\n",
       "┌──────┐\n",
       "│ word │\n",
       "│ ---  │\n",
       "│ f64  │\n",
       "╞══════╡\n",
       "│ 0.6  │\n",
       "│ 0.8  │\n",
       "│ 0.6  │\n",
       "│ 0.8  │\n",
       "│ 0.6  │\n",
       "└──────┘"
      ]
     },
     "execution_count": 21,
     "metadata": {},
     "output_type": "execute_result"
    }
   ],
   "source": [
    "df2.select(\n",
    "    pl.col(\"word\").str2.levenshtein(\"world\", return_sim = True)\n",
    ").head()"
   ]
  },
  {
   "cell_type": "code",
   "execution_count": 22,
   "id": "2dad7633-67fa-47f3-b86a-9f4cd097a650",
   "metadata": {},
   "outputs": [
    {
     "data": {
      "text/html": [
       "<div><style>\n",
       ".dataframe > thead > tr,\n",
       ".dataframe > tbody > tr {\n",
       "  text-align: right;\n",
       "  white-space: pre-wrap;\n",
       "}\n",
       "</style>\n",
       "<small>shape: (5, 2)</small><table border=\"1\" class=\"dataframe\"><thead><tr><th>sen</th><th>word</th></tr><tr><td>str</td><td>str</td></tr></thead><tbody><tr><td>&quot;Hello, world! …</td><td>&quot;word&quot;</td></tr><tr><td>&quot;Hello, world! …</td><td>&quot;word&quot;</td></tr><tr><td>&quot;Hello, world! …</td><td>&quot;word&quot;</td></tr><tr><td>&quot;Hello, world! …</td><td>&quot;word&quot;</td></tr><tr><td>&quot;Hello, world! …</td><td>&quot;word&quot;</td></tr></tbody></table></div>"
      ],
      "text/plain": [
       "shape: (5, 2)\n",
       "┌───────────────────────────────────┬──────┐\n",
       "│ sen                               ┆ word │\n",
       "│ ---                               ┆ ---  │\n",
       "│ str                               ┆ str  │\n",
       "╞═══════════════════════════════════╪══════╡\n",
       "│ Hello, world! I'm going to churc… ┆ word │\n",
       "│ Hello, world! I'm going to churc… ┆ word │\n",
       "│ Hello, world! I'm going to churc… ┆ word │\n",
       "│ Hello, world! I'm going to churc… ┆ word │\n",
       "│ Hello, world! I'm going to churc… ┆ word │\n",
       "└───────────────────────────────────┴──────┘"
      ]
     },
     "execution_count": 22,
     "metadata": {},
     "output_type": "execute_result"
    }
   ],
   "source": [
    "df2.filter(\n",
    "    # This is way faster than computing ditance and then doing a filter\n",
    "    pl.col(\"word\").str2.levenshtein_filter(\"world\", 1) # <= 1. \n",
    ").head()"
   ]
  },
  {
   "cell_type": "code",
   "execution_count": 23,
   "id": "dc9477c1",
   "metadata": {},
   "outputs": [],
   "source": [
    "df = pl.DataFrame({\n",
    "    \"word\":[\"apple\", \"banana\", \"pineapple\", \"asasasas\", \"sasasass\"],\n",
    "    \"other_data\": [1,2,3,4,5]\n",
    "})\n",
    "gibberish = [\"asasasa\", \"sasaaasss\", \"asdasadadfa\"]"
   ]
  },
  {
   "cell_type": "code",
   "execution_count": 24,
   "id": "c50591e0",
   "metadata": {},
   "outputs": [
    {
     "data": {
      "text/html": [
       "<div><style>\n",
       ".dataframe > thead > tr,\n",
       ".dataframe > tbody > tr {\n",
       "  text-align: right;\n",
       "  white-space: pre-wrap;\n",
       "}\n",
       "</style>\n",
       "<small>shape: (2, 2)</small><table border=\"1\" class=\"dataframe\"><thead><tr><th>word</th><th>other_data</th></tr><tr><td>str</td><td>i64</td></tr></thead><tbody><tr><td>&quot;asasasas&quot;</td><td>4</td></tr><tr><td>&quot;sasasass&quot;</td><td>5</td></tr></tbody></table></div>"
      ],
      "text/plain": [
       "shape: (2, 2)\n",
       "┌──────────┬────────────┐\n",
       "│ word     ┆ other_data │\n",
       "│ ---      ┆ ---        │\n",
       "│ str      ┆ i64        │\n",
       "╞══════════╪════════════╡\n",
       "│ asasasas ┆ 4          │\n",
       "│ sasasass ┆ 5          │\n",
       "└──────────┴────────────┘"
      ]
     },
     "execution_count": 24,
     "metadata": {},
     "output_type": "execute_result"
    }
   ],
   "source": [
    "df.filter(\n",
    "    pl.col(\"word\").str2.similar_to_vocab(\n",
    "        vocab = gibberish,\n",
    "        threshold = 0.5,\n",
    "        metric = \"lv\", # Levenshtein similarity. Other options: dleven, osa, jw\n",
    "        strategy = \"any\" # True if the word is similar to any word in vocab. Other options: \"all\", \"avg\"\n",
    "    )\n",
    ")"
   ]
  },
  {
   "cell_type": "code",
   "execution_count": 25,
   "id": "7ece3794",
   "metadata": {},
   "outputs": [
    {
     "data": {
      "text/html": [
       "<div><style>\n",
       ".dataframe > thead > tr,\n",
       ".dataframe > tbody > tr {\n",
       "  text-align: right;\n",
       "  white-space: pre-wrap;\n",
       "}\n",
       "</style>\n",
       "<small>shape: (5, 6)</small><table border=\"1\" class=\"dataframe\"><thead><tr><th>asasasa</th><th>sasaaasss</th><th>asdasadadfa</th><th>LCS based Fuzz match - apples</th><th>Optimal String Alignment - apples</th><th>Jaro-Winkler - apples</th></tr><tr><td>f64</td><td>f64</td><td>f64</td><td>f64</td><td>f64</td><td>f64</td></tr></thead><tbody><tr><td>0.142857</td><td>0.111111</td><td>0.090909</td><td>0.833333</td><td>0.833333</td><td>0.966667</td></tr><tr><td>0.428571</td><td>0.333333</td><td>0.272727</td><td>0.166667</td><td>0.0</td><td>0.444444</td></tr><tr><td>0.111111</td><td>0.111111</td><td>0.090909</td><td>0.555556</td><td>0.444444</td><td>0.5</td></tr><tr><td>0.875</td><td>0.666667</td><td>0.545455</td><td>0.25</td><td>0.25</td><td>0.527778</td></tr><tr><td>0.75</td><td>0.777778</td><td>0.454545</td><td>0.25</td><td>0.25</td><td>0.527778</td></tr></tbody></table></div>"
      ],
      "text/plain": [
       "shape: (5, 6)\n",
       "┌──────────┬───────────┬─────────────┬────────────────┬───────────────────────────┬────────────────┐\n",
       "│ asasasa  ┆ sasaaasss ┆ asdasadadfa ┆ LCS based Fuzz ┆ Optimal String Alignment  ┆ Jaro-Winkler - │\n",
       "│ ---      ┆ ---       ┆ ---         ┆ match - apples ┆ - apple…                  ┆ apples         │\n",
       "│ f64      ┆ f64       ┆ f64         ┆ ---            ┆ ---                       ┆ ---            │\n",
       "│          ┆           ┆             ┆ f64            ┆ f64                       ┆ f64            │\n",
       "╞══════════╪═══════════╪═════════════╪════════════════╪═══════════════════════════╪════════════════╡\n",
       "│ 0.142857 ┆ 0.111111  ┆ 0.090909    ┆ 0.833333       ┆ 0.833333                  ┆ 0.966667       │\n",
       "│ 0.428571 ┆ 0.333333  ┆ 0.272727    ┆ 0.166667       ┆ 0.0                       ┆ 0.444444       │\n",
       "│ 0.111111 ┆ 0.111111  ┆ 0.090909    ┆ 0.555556       ┆ 0.444444                  ┆ 0.5            │\n",
       "│ 0.875    ┆ 0.666667  ┆ 0.545455    ┆ 0.25           ┆ 0.25                      ┆ 0.527778       │\n",
       "│ 0.75     ┆ 0.777778  ┆ 0.454545    ┆ 0.25           ┆ 0.25                      ┆ 0.527778       │\n",
       "└──────────┴───────────┴─────────────┴────────────────┴───────────────────────────┴────────────────┘"
      ]
     },
     "execution_count": 25,
     "metadata": {},
     "output_type": "execute_result"
    }
   ],
   "source": [
    "df.select(\n",
    "    pl.col(\"word\").str2.levenshtein(\"asasasa\", return_sim=True).alias(\"asasasa\"),\n",
    "    pl.col(\"word\").str2.levenshtein(\"sasaaasss\", return_sim=True).alias(\"sasaaasss\"),\n",
    "    pl.col(\"word\").str2.levenshtein(\"asdasadadfa\", return_sim=True).alias(\"asdasadadfa\"),\n",
    "    pl.col(\"word\").str2.fuzz(\"apples\").alias(\"LCS based Fuzz match - apples\"),\n",
    "    pl.col(\"word\").str2.osa(\"apples\", return_sim = True).alias(\"Optimal String Alignment - apples\"),\n",
    "    pl.col(\"word\").str2.jw(\"apples\").alias(\"Jaro-Winkler - apples\"),\n",
    ")\n"
   ]
  },
  {
   "cell_type": "markdown",
   "id": "8841f2a1",
   "metadata": {},
   "source": [
    "# Stats Extension"
   ]
  },
  {
   "cell_type": "code",
   "execution_count": 26,
   "id": "2c6171b0",
   "metadata": {},
   "outputs": [
    {
     "data": {
      "text/html": [
       "<div><style>\n",
       ".dataframe > thead > tr,\n",
       ".dataframe > tbody > tr {\n",
       "  text-align: right;\n",
       "  white-space: pre-wrap;\n",
       "}\n",
       "</style>\n",
       "<small>shape: (5, 1)</small><table border=\"1\" class=\"dataframe\"><thead><tr><th>a</th></tr><tr><td>f64</td></tr></thead><tbody><tr><td>null</td></tr><tr><td>null</td></tr><tr><td>1.240444</td></tr><tr><td>0.340659</td></tr><tr><td>0.350871</td></tr></tbody></table></div>"
      ],
      "text/plain": [
       "shape: (5, 1)\n",
       "┌──────────┐\n",
       "│ a        │\n",
       "│ ---      │\n",
       "│ f64      │\n",
       "╞══════════╡\n",
       "│ null     │\n",
       "│ null     │\n",
       "│ 1.240444 │\n",
       "│ 0.340659 │\n",
       "│ 0.350871 │\n",
       "└──────────┘"
      ]
     },
     "execution_count": 26,
     "metadata": {},
     "output_type": "execute_result"
    }
   ],
   "source": [
    "import numpy as np\n",
    "\n",
    "df = pl.DataFrame({\n",
    "    \"a\": [None, None] + list(np.random.normal(size = 998))\n",
    "})\n",
    "df.head()"
   ]
  },
  {
   "cell_type": "code",
   "execution_count": 27,
   "id": "2f6e7445",
   "metadata": {},
   "outputs": [
    {
     "data": {
      "text/html": [
       "<div><style>\n",
       ".dataframe > thead > tr,\n",
       ".dataframe > tbody > tr {\n",
       "  text-align: right;\n",
       "  white-space: pre-wrap;\n",
       "}\n",
       "</style>\n",
       "<small>shape: (5, 2)</small><table border=\"1\" class=\"dataframe\"><thead><tr><th>a</th><th>random</th></tr><tr><td>f64</td><td>f64</td></tr></thead><tbody><tr><td>null</td><td>null</td></tr><tr><td>null</td><td>null</td></tr><tr><td>1.240444</td><td>0.443088</td></tr><tr><td>0.340659</td><td>1.913403</td></tr><tr><td>0.350871</td><td>0.427976</td></tr></tbody></table></div>"
      ],
      "text/plain": [
       "shape: (5, 2)\n",
       "┌──────────┬──────────┐\n",
       "│ a        ┆ random   │\n",
       "│ ---      ┆ ---      │\n",
       "│ f64      ┆ f64      │\n",
       "╞══════════╪══════════╡\n",
       "│ null     ┆ null     │\n",
       "│ null     ┆ null     │\n",
       "│ 1.240444 ┆ 0.443088 │\n",
       "│ 0.340659 ┆ 1.913403 │\n",
       "│ 0.350871 ┆ 0.427976 │\n",
       "└──────────┴──────────┘"
      ]
     },
     "execution_count": 27,
     "metadata": {},
     "output_type": "execute_result"
    }
   ],
   "source": [
    "# Genenrate random numbers, respecting null positions in reference column (pl.col(\"a\"))\n",
    "df.with_columns(\n",
    "    pl.col(\"a\").stats.rand_normal(mean = 0.5, std = 1., respect_null=True).alias(\"random\")\n",
    ").head()"
   ]
  },
  {
   "cell_type": "code",
   "execution_count": 28,
   "id": "11e13f55",
   "metadata": {},
   "outputs": [
    {
     "data": {
      "text/html": [
       "<div><style>\n",
       ".dataframe > thead > tr,\n",
       ".dataframe > tbody > tr {\n",
       "  text-align: right;\n",
       "  white-space: pre-wrap;\n",
       "}\n",
       "</style>\n",
       "<small>shape: (5, 2)</small><table border=\"1\" class=\"dataframe\"><thead><tr><th>a</th><th>random_str</th></tr><tr><td>f64</td><td>str</td></tr></thead><tbody><tr><td>null</td><td>null</td></tr><tr><td>null</td><td>null</td></tr><tr><td>1.240444</td><td>&quot;jQB&quot;</td></tr><tr><td>0.340659</td><td>&quot;J&quot;</td></tr><tr><td>0.350871</td><td>&quot;rD7I&quot;</td></tr></tbody></table></div>"
      ],
      "text/plain": [
       "shape: (5, 2)\n",
       "┌──────────┬────────────┐\n",
       "│ a        ┆ random_str │\n",
       "│ ---      ┆ ---        │\n",
       "│ f64      ┆ str        │\n",
       "╞══════════╪════════════╡\n",
       "│ null     ┆ null       │\n",
       "│ null     ┆ null       │\n",
       "│ 1.240444 ┆ jQB        │\n",
       "│ 0.340659 ┆ J          │\n",
       "│ 0.350871 ┆ rD7I       │\n",
       "└──────────┴────────────┘"
      ]
     },
     "execution_count": 28,
     "metadata": {},
     "output_type": "execute_result"
    }
   ],
   "source": [
    "# Genenrate random string\n",
    "df.with_columns(\n",
    "    pl.col(\"a\").stats.rand_str(min_size = 1, max_size = 5, respect_null=True).alias(\"random_str\")\n",
    ").head()"
   ]
  },
  {
   "cell_type": "code",
   "execution_count": 29,
   "id": "43c37394",
   "metadata": {},
   "outputs": [
    {
     "data": {
      "text/html": [
       "<div><style>\n",
       ".dataframe > thead > tr,\n",
       ".dataframe > tbody > tr {\n",
       "  text-align: right;\n",
       "  white-space: pre-wrap;\n",
       "}\n",
       "</style>\n",
       "<small>shape: (5, 2)</small><table border=\"1\" class=\"dataframe\"><thead><tr><th>a</th><th>random_str</th></tr><tr><td>f64</td><td>str</td></tr></thead><tbody><tr><td>null</td><td>null</td></tr><tr><td>null</td><td>null</td></tr><tr><td>1.240444</td><td>&quot;MONWH&quot;</td></tr><tr><td>0.340659</td><td>&quot;LS2f8&quot;</td></tr><tr><td>0.350871</td><td>&quot;vSSrv&quot;</td></tr></tbody></table></div>"
      ],
      "text/plain": [
       "shape: (5, 2)\n",
       "┌──────────┬────────────┐\n",
       "│ a        ┆ random_str │\n",
       "│ ---      ┆ ---        │\n",
       "│ f64      ┆ str        │\n",
       "╞══════════╪════════════╡\n",
       "│ null     ┆ null       │\n",
       "│ null     ┆ null       │\n",
       "│ 1.240444 ┆ MONWH      │\n",
       "│ 0.340659 ┆ LS2f8      │\n",
       "│ 0.350871 ┆ vSSrv      │\n",
       "└──────────┴────────────┘"
      ]
     },
     "execution_count": 29,
     "metadata": {},
     "output_type": "execute_result"
    }
   ],
   "source": [
    "# Genenrate fixed size random string\n",
    "df.with_columns(\n",
    "    pl.col(\"a\").stats.rand_str(min_size = 5, max_size = 5, respect_null=True).alias(\"random_str\")\n",
    ").head()"
   ]
  },
  {
   "cell_type": "code",
   "execution_count": 30,
   "id": "3d0c06a4",
   "metadata": {},
   "outputs": [
    {
     "data": {
      "text/html": [
       "<div><style>\n",
       ".dataframe > thead > tr,\n",
       ".dataframe > tbody > tr {\n",
       "  text-align: right;\n",
       "  white-space: pre-wrap;\n",
       "}\n",
       "</style>\n",
       "<small>shape: (5, 4)</small><table border=\"1\" class=\"dataframe\"><thead><tr><th>a</th><th>test1</th><th>test2</th><th>test1_perturbed</th></tr><tr><td>f64</td><td>f64</td><td>f64</td><td>f64</td></tr></thead><tbody><tr><td>null</td><td>0.985711</td><td>null</td><td>0.985275</td></tr><tr><td>null</td><td>0.318913</td><td>null</td><td>0.318985</td></tr><tr><td>1.240444</td><td>0.205293</td><td>2.983992</td><td>0.204986</td></tr><tr><td>0.340659</td><td>-0.501305</td><td>1.816323</td><td>-0.50091</td></tr><tr><td>0.350871</td><td>0.768977</td><td>0.012952</td><td>0.76895</td></tr></tbody></table></div>"
      ],
      "text/plain": [
       "shape: (5, 4)\n",
       "┌──────────┬───────────┬──────────┬─────────────────┐\n",
       "│ a        ┆ test1     ┆ test2    ┆ test1_perturbed │\n",
       "│ ---      ┆ ---       ┆ ---      ┆ ---             │\n",
       "│ f64      ┆ f64       ┆ f64      ┆ f64             │\n",
       "╞══════════╪═══════════╪══════════╪═════════════════╡\n",
       "│ null     ┆ 0.985711  ┆ null     ┆ 0.985275        │\n",
       "│ null     ┆ 0.318913  ┆ null     ┆ 0.318985        │\n",
       "│ 1.240444 ┆ 0.205293  ┆ 2.983992 ┆ 0.204986        │\n",
       "│ 0.340659 ┆ -0.501305 ┆ 1.816323 ┆ -0.50091        │\n",
       "│ 0.350871 ┆ 0.768977  ┆ 0.012952 ┆ 0.76895         │\n",
       "└──────────┴───────────┴──────────┴─────────────────┘"
      ]
     },
     "execution_count": 30,
     "metadata": {},
     "output_type": "execute_result"
    }
   ],
   "source": [
    "df.with_columns(\n",
    "    # Sample from normal distribution, using reference column \"a\" 's mean and std\n",
    "    pl.col(\"a\").stats.rand_normal().alias(\"test1\") \n",
    "    # Sample from uniform distribution, with low = 0 and high = \"a\"'s max, and respect the nulls in \"a\"\n",
    "    , pl.col(\"a\").stats.rand_uniform(low = 0., high = None, respect_null=True).alias(\"test2\")\n",
    ").with_columns(\n",
    "    # Add a random pertubation to test1\n",
    "    pl.col(\"test1\").stats.perturb(epsilon=0.001).alias(\"test1_perturbed\")\n",
    ").head()"
   ]
  },
  {
   "cell_type": "code",
   "execution_count": 31,
   "id": "67dc6583",
   "metadata": {},
   "outputs": [
    {
     "data": {
      "text/html": [
       "<div><style>\n",
       ".dataframe > thead > tr,\n",
       ".dataframe > tbody > tr {\n",
       "  text-align: right;\n",
       "  white-space: pre-wrap;\n",
       "}\n",
       "</style>\n",
       "<small>shape: (5, 4)</small><table border=\"1\" class=\"dataframe\"><thead><tr><th>a</th><th>[0, 1)</th><th>Normal</th><th>Int from [0, 10)</th></tr><tr><td>f64</td><td>f64</td><td>f64</td><td>i32</td></tr></thead><tbody><tr><td>null</td><td>0.786725</td><td>1.073521</td><td>7</td></tr><tr><td>null</td><td>0.886659</td><td>2.184259</td><td>9</td></tr><tr><td>1.240444</td><td>0.444681</td><td>-1.981882</td><td>1</td></tr><tr><td>0.340659</td><td>0.043816</td><td>1.009044</td><td>8</td></tr><tr><td>0.350871</td><td>0.727963</td><td>-0.880942</td><td>5</td></tr></tbody></table></div>"
      ],
      "text/plain": [
       "shape: (5, 4)\n",
       "┌──────────┬──────────┬───────────┬──────────────────┐\n",
       "│ a        ┆ [0, 1)   ┆ Normal    ┆ Int from [0, 10) │\n",
       "│ ---      ┆ ---      ┆ ---       ┆ ---              │\n",
       "│ f64      ┆ f64      ┆ f64       ┆ i32              │\n",
       "╞══════════╪══════════╪═══════════╪══════════════════╡\n",
       "│ null     ┆ 0.786725 ┆ 1.073521  ┆ 7                │\n",
       "│ null     ┆ 0.886659 ┆ 2.184259  ┆ 9                │\n",
       "│ 1.240444 ┆ 0.444681 ┆ -1.981882 ┆ 1                │\n",
       "│ 0.340659 ┆ 0.043816 ┆ 1.009044  ┆ 8                │\n",
       "│ 0.350871 ┆ 0.727963 ┆ -0.880942 ┆ 5                │\n",
       "└──────────┴──────────┴───────────┴──────────────────┘"
      ]
     },
     "execution_count": 31,
     "metadata": {},
     "output_type": "execute_result"
    }
   ],
   "source": [
    "# New in v0.3.5\n",
    "# This way, we don't have a reference column, so we cannot respect nulls, but is more convenient to use.\n",
    "df.with_columns(\n",
    "    pds.random().alias(\"[0, 1)\"),\n",
    "    pds.random_normal(pl.col(\"a\").mean(), pl.col(\"a\").std()).alias(\"Normal\"),\n",
    "    pds.random_int(0, 10).alias(\"Int from [0, 10)\"),\n",
    ").head()"
   ]
  },
  {
   "cell_type": "code",
   "execution_count": 32,
   "id": "7b63f636",
   "metadata": {},
   "outputs": [
    {
     "data": {
      "text/html": [
       "<div><style>\n",
       ".dataframe > thead > tr,\n",
       ".dataframe > tbody > tr {\n",
       "  text-align: right;\n",
       "  white-space: pre-wrap;\n",
       "}\n",
       "</style>\n",
       "<small>shape: (1, 4)</small><table border=\"1\" class=\"dataframe\"><thead><tr><th>t-tests: statistics</th><th>t-tests: pvalue</th><th>normality_test: statistics</th><th>normality_test: pvalue</th></tr><tr><td>f64</td><td>f64</td><td>f64</td><td>f64</td></tr></thead><tbody><tr><td>-2.128707</td><td>0.033441</td><td>0.426249</td><td>0.808055</td></tr></tbody></table></div>"
      ],
      "text/plain": [
       "shape: (1, 4)\n",
       "┌─────────────────────┬─────────────────┬────────────────────────────┬────────────────────────┐\n",
       "│ t-tests: statistics ┆ t-tests: pvalue ┆ normality_test: statistics ┆ normality_test: pvalue │\n",
       "│ ---                 ┆ ---             ┆ ---                        ┆ ---                    │\n",
       "│ f64                 ┆ f64             ┆ f64                        ┆ f64                    │\n",
       "╞═════════════════════╪═════════════════╪════════════════════════════╪════════════════════════╡\n",
       "│ -2.128707           ┆ 0.033441        ┆ 0.426249                   ┆ 0.808055               │\n",
       "└─────────────────────┴─────────────────┴────────────────────────────┴────────────────────────┘"
      ]
     },
     "execution_count": 32,
     "metadata": {},
     "output_type": "execute_result"
    }
   ],
   "source": [
    "# Genenrate 2 random sample, both normally distributed\n",
    "# Run Welch's t test on them, p value should be big since they have equal mean\n",
    "# Run a normality test. Again, p value should be big since they are normally distributed \n",
    "\n",
    "df.with_columns(\n",
    "    pl.col(\"a\").stats.rand_normal(mean = 0.5, std = 1.).alias(\"test1\")\n",
    "    , pl.col(\"a\").stats.rand_normal(mean = 0.5, std = 2.).alias(\"test2\")\n",
    ").select(\n",
    "    pl.col(\"test1\").stats.ttest_ind(pl.col(\"test2\"), equal_var = False).alias(\"t-test\")\n",
    "    , pl.col(\"test1\").stats.normal_test().alias(\"normality_test\")\n",
    ").select(\n",
    "    pl.col(\"t-test\").struct.field(\"statistic\").alias(\"t-tests: statistics\")\n",
    "    , pl.col(\"t-test\").struct.field(\"pvalue\").alias(\"t-tests: pvalue\")\n",
    "    , pl.col(\"normality_test\").struct.field(\"statistic\").alias(\"normality_test: statistics\")\n",
    "    , pl.col(\"normality_test\").struct.field(\"pvalue\").alias(\"normality_test: pvalue\")\n",
    ")"
   ]
  },
  {
   "cell_type": "code",
   "execution_count": 33,
   "id": "b46a72a5",
   "metadata": {},
   "outputs": [
    {
     "data": {
      "text/html": [
       "<div><style>\n",
       ".dataframe > thead > tr,\n",
       ".dataframe > tbody > tr {\n",
       "  text-align: right;\n",
       "  white-space: pre-wrap;\n",
       "}\n",
       "</style>\n",
       "<small>shape: (5, 5)</small><table border=\"1\" class=\"dataframe\"><thead><tr><th>market_id</th><th>group1</th><th>group2</th><th>category_1</th><th>category_2</th></tr><tr><td>i64</td><td>f64</td><td>f64</td><td>i64</td><td>i64</td></tr></thead><tbody><tr><td>0</td><td>0.632681</td><td>0.817873</td><td>4</td><td>9</td></tr><tr><td>1</td><td>0.01587</td><td>0.174498</td><td>0</td><td>7</td></tr><tr><td>2</td><td>0.188836</td><td>0.931489</td><td>2</td><td>2</td></tr><tr><td>0</td><td>0.104825</td><td>0.01259</td><td>0</td><td>9</td></tr><tr><td>1</td><td>0.149639</td><td>0.252975</td><td>0</td><td>4</td></tr></tbody></table></div>"
      ],
      "text/plain": [
       "shape: (5, 5)\n",
       "┌───────────┬──────────┬──────────┬────────────┬────────────┐\n",
       "│ market_id ┆ group1   ┆ group2   ┆ category_1 ┆ category_2 │\n",
       "│ ---       ┆ ---      ┆ ---      ┆ ---        ┆ ---        │\n",
       "│ i64       ┆ f64      ┆ f64      ┆ i64        ┆ i64        │\n",
       "╞═══════════╪══════════╪══════════╪════════════╪════════════╡\n",
       "│ 0         ┆ 0.632681 ┆ 0.817873 ┆ 4          ┆ 9          │\n",
       "│ 1         ┆ 0.01587  ┆ 0.174498 ┆ 0          ┆ 7          │\n",
       "│ 2         ┆ 0.188836 ┆ 0.931489 ┆ 2          ┆ 2          │\n",
       "│ 0         ┆ 0.104825 ┆ 0.01259  ┆ 0          ┆ 9          │\n",
       "│ 1         ┆ 0.149639 ┆ 0.252975 ┆ 0          ┆ 4          │\n",
       "└───────────┴──────────┴──────────┴────────────┴────────────┘"
      ]
     },
     "execution_count": 33,
     "metadata": {},
     "output_type": "execute_result"
    }
   ],
   "source": [
    "size = 5_000\n",
    "df = pl.DataFrame({\n",
    "    \"market_id\": range(size),\n",
    "    \"group1\": np.random.random(size=size),\n",
    "    \"group2\": np.random.random(size=size),\n",
    "    \"category_1\": np.random.randint(low=0, high=5, size=size),\n",
    "    \"category_2\":np.random.randint(low=0, high=10, size=size)\n",
    "}).with_columns(\n",
    "    pl.col(\"market_id\").mod(3)\n",
    ")\n",
    "df.head(5)"
   ]
  },
  {
   "cell_type": "code",
   "execution_count": 34,
   "id": "adc4f66f",
   "metadata": {},
   "outputs": [
    {
     "data": {
      "text/html": [
       "<div><style>\n",
       ".dataframe > thead > tr,\n",
       ".dataframe > tbody > tr {\n",
       "  text-align: right;\n",
       "  white-space: pre-wrap;\n",
       "}\n",
       "</style>\n",
       "<small>shape: (1, 3)</small><table border=\"1\" class=\"dataframe\"><thead><tr><th>t-test</th><th>chi2-test</th><th>f-test</th></tr><tr><td>struct[2]</td><td>struct[2]</td><td>struct[2]</td></tr></thead><tbody><tr><td>{-1.093978,0.273991}</td><td>{34.328848,0.548196}</td><td>{0.387345,0.817847}</td></tr></tbody></table></div>"
      ],
      "text/plain": [
       "shape: (1, 3)\n",
       "┌──────────────────────┬──────────────────────┬─────────────────────┐\n",
       "│ t-test               ┆ chi2-test            ┆ f-test              │\n",
       "│ ---                  ┆ ---                  ┆ ---                 │\n",
       "│ struct[2]            ┆ struct[2]            ┆ struct[2]           │\n",
       "╞══════════════════════╪══════════════════════╪═════════════════════╡\n",
       "│ {-1.093978,0.273991} ┆ {34.328848,0.548196} ┆ {0.387345,0.817847} │\n",
       "└──────────────────────┴──────────────────────┴─────────────────────┘"
      ]
     },
     "execution_count": 34,
     "metadata": {},
     "output_type": "execute_result"
    }
   ],
   "source": [
    "# In dataframe statistical tests!\n",
    "df.select(\n",
    "    pl.col(\"group1\").stats.ttest_ind(pl.col(\"group2\"), equal_var = True).alias(\"t-test\"),\n",
    "    pl.col(\"category_1\").stats.chi2(pl.col(\"category_2\")).alias(\"chi2-test\"),\n",
    "    pl.col(\"category_1\").stats.f_test(pl.col(\"group1\")).alias(\"f-test\")\n",
    ")"
   ]
  },
  {
   "cell_type": "code",
   "execution_count": 35,
   "id": "65dbb6bd",
   "metadata": {},
   "outputs": [
    {
     "data": {
      "text/html": [
       "<div><style>\n",
       ".dataframe > thead > tr,\n",
       ".dataframe > tbody > tr {\n",
       "  text-align: right;\n",
       "  white-space: pre-wrap;\n",
       "}\n",
       "</style>\n",
       "<small>shape: (3, 4)</small><table border=\"1\" class=\"dataframe\"><thead><tr><th>market_id</th><th>t-test</th><th>chi2-test</th><th>f-test</th></tr><tr><td>i64</td><td>struct[2]</td><td>struct[2]</td><td>struct[2]</td></tr></thead><tbody><tr><td>0</td><td>{0.354686,0.722847}</td><td>{39.348289,0.322374}</td><td>{0.671904,0.61148}</td></tr><tr><td>1</td><td>{-1.297396,0.194585}</td><td>{42.198747,0.220659}</td><td>{0.536813,0.708714}</td></tr><tr><td>2</td><td>{-0.933237,0.350766}</td><td>{25.792637,0.896074}</td><td>{0.333421,0.855589}</td></tr></tbody></table></div>"
      ],
      "text/plain": [
       "shape: (3, 4)\n",
       "┌───────────┬──────────────────────┬──────────────────────┬─────────────────────┐\n",
       "│ market_id ┆ t-test               ┆ chi2-test            ┆ f-test              │\n",
       "│ ---       ┆ ---                  ┆ ---                  ┆ ---                 │\n",
       "│ i64       ┆ struct[2]            ┆ struct[2]            ┆ struct[2]           │\n",
       "╞═══════════╪══════════════════════╪══════════════════════╪═════════════════════╡\n",
       "│ 0         ┆ {0.354686,0.722847}  ┆ {39.348289,0.322374} ┆ {0.671904,0.61148}  │\n",
       "│ 1         ┆ {-1.297396,0.194585} ┆ {42.198747,0.220659} ┆ {0.536813,0.708714} │\n",
       "│ 2         ┆ {-0.933237,0.350766} ┆ {25.792637,0.896074} ┆ {0.333421,0.855589} │\n",
       "└───────────┴──────────────────────┴──────────────────────┴─────────────────────┘"
      ]
     },
     "execution_count": 35,
     "metadata": {},
     "output_type": "execute_result"
    }
   ],
   "source": [
    "# Can also be done in group by context\n",
    "df.group_by(\"market_id\").agg(\n",
    "    pl.col(\"group1\").stats.ttest_ind(pl.col(\"group2\"), equal_var = False).alias(\"t-test\"),\n",
    "    pl.col(\"category_1\").stats.chi2(pl.col(\"category_2\")).alias(\"chi2-test\"),\n",
    "    pl.col(\"category_1\").stats.f_test(pl.col(\"group1\")).alias(\"f-test\")\n",
    ")"
   ]
  },
  {
   "cell_type": "markdown",
   "id": "b232e4d7",
   "metadata": {},
   "source": [
    "# Nearest Neighbors Related Tasks\n",
    "\n",
    "These queries can be very slow when data/dimension gets huge, even when processed in parallel."
   ]
  },
  {
   "cell_type": "code",
   "execution_count": 36,
   "id": "87aff1ef",
   "metadata": {},
   "outputs": [],
   "source": [
    "import polars_ds as pds\n",
    "size = 2000\n",
    "df = pl.DataFrame({\n",
    "    \"id\": range(size), \n",
    "    \"val1\": np.random.random(size=size), \n",
    "    \"val2\": np.random.random(size=size), \n",
    "    \"val3\": np.random.random(size=size),\n",
    "    \"r\": np.random.random(size=size),\n",
    "    \"rh\": np.random.random(size=size)*10,\n",
    "}).with_columns(\n",
    "    pl.col(\"id\").cast(pl.UInt32)\n",
    ")"
   ]
  },
  {
   "cell_type": "code",
   "execution_count": 37,
   "id": "2fae4b5e",
   "metadata": {},
   "outputs": [
    {
     "data": {
      "text/html": [
       "<div><style>\n",
       ".dataframe > thead > tr,\n",
       ".dataframe > tbody > tr {\n",
       "  text-align: right;\n",
       "  white-space: pre-wrap;\n",
       "}\n",
       "</style>\n",
       "<small>shape: (5, 7)</small><table border=\"1\" class=\"dataframe\"><thead><tr><th>id</th><th>val1</th><th>val2</th><th>val3</th><th>r</th><th>rh</th><th>nb_l_inf_cnt</th></tr><tr><td>u32</td><td>f64</td><td>f64</td><td>f64</td><td>f64</td><td>f64</td><td>u32</td></tr></thead><tbody><tr><td>0</td><td>0.506973</td><td>0.494173</td><td>0.892488</td><td>0.250596</td><td>3.805498</td><td>17</td></tr><tr><td>1</td><td>0.464808</td><td>0.770314</td><td>0.545069</td><td>0.618297</td><td>4.754389</td><td>21</td></tr><tr><td>2</td><td>0.07338</td><td>0.908391</td><td>0.712785</td><td>0.597162</td><td>6.688595</td><td>13</td></tr><tr><td>3</td><td>0.689477</td><td>0.224162</td><td>0.224163</td><td>0.872439</td><td>4.588719</td><td>10</td></tr><tr><td>4</td><td>0.20452</td><td>0.093144</td><td>0.342247</td><td>0.940545</td><td>7.585782</td><td>20</td></tr></tbody></table></div>"
      ],
      "text/plain": [
       "shape: (5, 7)\n",
       "┌─────┬──────────┬──────────┬──────────┬──────────┬──────────┬──────────────┐\n",
       "│ id  ┆ val1     ┆ val2     ┆ val3     ┆ r        ┆ rh       ┆ nb_l_inf_cnt │\n",
       "│ --- ┆ ---      ┆ ---      ┆ ---      ┆ ---      ┆ ---      ┆ ---          │\n",
       "│ u32 ┆ f64      ┆ f64      ┆ f64      ┆ f64      ┆ f64      ┆ u32          │\n",
       "╞═════╪══════════╪══════════╪══════════╪══════════╪══════════╪══════════════╡\n",
       "│ 0   ┆ 0.506973 ┆ 0.494173 ┆ 0.892488 ┆ 0.250596 ┆ 3.805498 ┆ 17           │\n",
       "│ 1   ┆ 0.464808 ┆ 0.770314 ┆ 0.545069 ┆ 0.618297 ┆ 4.754389 ┆ 21           │\n",
       "│ 2   ┆ 0.07338  ┆ 0.908391 ┆ 0.712785 ┆ 0.597162 ┆ 6.688595 ┆ 13           │\n",
       "│ 3   ┆ 0.689477 ┆ 0.224162 ┆ 0.224163 ┆ 0.872439 ┆ 4.588719 ┆ 10           │\n",
       "│ 4   ┆ 0.20452  ┆ 0.093144 ┆ 0.342247 ┆ 0.940545 ┆ 7.585782 ┆ 20           │\n",
       "└─────┴──────────┴──────────┴──────────┴──────────┴──────────┴──────────────┘"
      ]
     },
     "execution_count": 37,
     "metadata": {},
     "output_type": "execute_result"
    }
   ],
   "source": [
    "# Get neighbor count. The point itself is always considered a neighbor to itself.\n",
    "df.with_columns(\n",
    "    pds.query_nb_cnt(\n",
    "        0.1, # radius \n",
    "        pl.col(\"val1\"), \"val2\", \"val3\", # Columns used as the coordinates in n-d space, str | pl.Expr \n",
    "        dist = \"inf\", # L Infinity distance \n",
    "        parallel = True \n",
    "    ).alias(\"nb_l_inf_cnt\")\n",
    ").head() "
   ]
  },
  {
   "cell_type": "code",
   "execution_count": 38,
   "id": "69ad83d1",
   "metadata": {},
   "outputs": [
    {
     "data": {
      "text/html": [
       "<div><style>\n",
       ".dataframe > thead > tr,\n",
       ".dataframe > tbody > tr {\n",
       "  text-align: right;\n",
       "  white-space: pre-wrap;\n",
       "}\n",
       "</style>\n",
       "<small>shape: (5, 7)</small><table border=\"1\" class=\"dataframe\"><thead><tr><th>id</th><th>val1</th><th>val2</th><th>val3</th><th>r</th><th>rh</th><th>nb_l1_r_cnt</th></tr><tr><td>u32</td><td>f64</td><td>f64</td><td>f64</td><td>f64</td><td>f64</td><td>u32</td></tr></thead><tbody><tr><td>0</td><td>0.506973</td><td>0.494173</td><td>0.892488</td><td>0.250596</td><td>3.805498</td><td>42</td></tr><tr><td>1</td><td>0.464808</td><td>0.770314</td><td>0.545069</td><td>0.618297</td><td>4.754389</td><td>537</td></tr><tr><td>2</td><td>0.07338</td><td>0.908391</td><td>0.712785</td><td>0.597162</td><td>6.688595</td><td>216</td></tr><tr><td>3</td><td>0.689477</td><td>0.224162</td><td>0.224163</td><td>0.872439</td><td>4.588719</td><td>894</td></tr><tr><td>4</td><td>0.20452</td><td>0.093144</td><td>0.342247</td><td>0.940545</td><td>7.585782</td><td>845</td></tr></tbody></table></div>"
      ],
      "text/plain": [
       "shape: (5, 7)\n",
       "┌─────┬──────────┬──────────┬──────────┬──────────┬──────────┬─────────────┐\n",
       "│ id  ┆ val1     ┆ val2     ┆ val3     ┆ r        ┆ rh       ┆ nb_l1_r_cnt │\n",
       "│ --- ┆ ---      ┆ ---      ┆ ---      ┆ ---      ┆ ---      ┆ ---         │\n",
       "│ u32 ┆ f64      ┆ f64      ┆ f64      ┆ f64      ┆ f64      ┆ u32         │\n",
       "╞═════╪══════════╪══════════╪══════════╪══════════╪══════════╪═════════════╡\n",
       "│ 0   ┆ 0.506973 ┆ 0.494173 ┆ 0.892488 ┆ 0.250596 ┆ 3.805498 ┆ 42          │\n",
       "│ 1   ┆ 0.464808 ┆ 0.770314 ┆ 0.545069 ┆ 0.618297 ┆ 4.754389 ┆ 537         │\n",
       "│ 2   ┆ 0.07338  ┆ 0.908391 ┆ 0.712785 ┆ 0.597162 ┆ 6.688595 ┆ 216         │\n",
       "│ 3   ┆ 0.689477 ┆ 0.224162 ┆ 0.224163 ┆ 0.872439 ┆ 4.588719 ┆ 894         │\n",
       "│ 4   ┆ 0.20452  ┆ 0.093144 ┆ 0.342247 ┆ 0.940545 ┆ 7.585782 ┆ 845         │\n",
       "└─────┴──────────┴──────────┴──────────┴──────────┴──────────┴─────────────┘"
      ]
     },
     "execution_count": 38,
     "metadata": {},
     "output_type": "execute_result"
    }
   ],
   "source": [
    "df.with_columns(\n",
    "    pds.query_nb_cnt(\n",
    "        pl.col(\"r\"), # radius be an expression too\n",
    "        \"val1\", \"val2\", \"val3\", # Columns used as the coordinates in n-d space, str | pl.Expr \n",
    "        dist = \"l1\", # L 1 distance \n",
    "        parallel = True \n",
    "    ).alias(\"nb_l1_r_cnt\")\n",
    ").head()"
   ]
  },
  {
   "cell_type": "code",
   "execution_count": 39,
   "id": "ce1a2c7a",
   "metadata": {},
   "outputs": [
    {
     "data": {
      "text/html": [
       "<div><style>\n",
       ".dataframe > thead > tr,\n",
       ".dataframe > tbody > tr {\n",
       "  text-align: right;\n",
       "  white-space: pre-wrap;\n",
       "}\n",
       "</style>\n",
       "<small>shape: (5, 7)</small><table border=\"1\" class=\"dataframe\"><thead><tr><th>id</th><th>val1</th><th>val2</th><th>val3</th><th>r</th><th>rh</th><th>best friends</th></tr><tr><td>u32</td><td>f64</td><td>f64</td><td>f64</td><td>f64</td><td>f64</td><td>list[u32]</td></tr></thead><tbody><tr><td>0</td><td>0.506973</td><td>0.494173</td><td>0.892488</td><td>0.250596</td><td>3.805498</td><td>[0, 597, … 549]</td></tr><tr><td>1</td><td>0.464808</td><td>0.770314</td><td>0.545069</td><td>0.618297</td><td>4.754389</td><td>[1, 705, … 724]</td></tr><tr><td>2</td><td>0.07338</td><td>0.908391</td><td>0.712785</td><td>0.597162</td><td>6.688595</td><td>[2, 1186, … 1553]</td></tr><tr><td>3</td><td>0.689477</td><td>0.224162</td><td>0.224163</td><td>0.872439</td><td>4.588719</td><td>[3, 103, … 220]</td></tr><tr><td>4</td><td>0.20452</td><td>0.093144</td><td>0.342247</td><td>0.940545</td><td>7.585782</td><td>[4, 1907, … 531]</td></tr></tbody></table></div>"
      ],
      "text/plain": [
       "shape: (5, 7)\n",
       "┌─────┬──────────┬──────────┬──────────┬──────────┬──────────┬───────────────────┐\n",
       "│ id  ┆ val1     ┆ val2     ┆ val3     ┆ r        ┆ rh       ┆ best friends      │\n",
       "│ --- ┆ ---      ┆ ---      ┆ ---      ┆ ---      ┆ ---      ┆ ---               │\n",
       "│ u32 ┆ f64      ┆ f64      ┆ f64      ┆ f64      ┆ f64      ┆ list[u32]         │\n",
       "╞═════╪══════════╪══════════╪══════════╪══════════╪══════════╪═══════════════════╡\n",
       "│ 0   ┆ 0.506973 ┆ 0.494173 ┆ 0.892488 ┆ 0.250596 ┆ 3.805498 ┆ [0, 597, … 549]   │\n",
       "│ 1   ┆ 0.464808 ┆ 0.770314 ┆ 0.545069 ┆ 0.618297 ┆ 4.754389 ┆ [1, 705, … 724]   │\n",
       "│ 2   ┆ 0.07338  ┆ 0.908391 ┆ 0.712785 ┆ 0.597162 ┆ 6.688595 ┆ [2, 1186, … 1553] │\n",
       "│ 3   ┆ 0.689477 ┆ 0.224162 ┆ 0.224163 ┆ 0.872439 ┆ 4.588719 ┆ [3, 103, … 220]   │\n",
       "│ 4   ┆ 0.20452  ┆ 0.093144 ┆ 0.342247 ┆ 0.940545 ┆ 7.585782 ┆ [4, 1907, … 531]  │\n",
       "└─────┴──────────┴──────────┴──────────┴──────────┴──────────┴───────────────────┘"
      ]
     },
     "execution_count": 39,
     "metadata": {},
     "output_type": "execute_result"
    }
   ],
   "source": [
    "# Get ids of the k nearest neighbors. \n",
    "# The point itself is always considered a neighbor to itself, so k + 1 elements will be returned.\n",
    "df.with_columns(\n",
    "    pds.query_knn_ptwise(\n",
    "        pl.col(\"val1\"), pl.col(\"val2\"), pl.col(\"val3\"), # Columns used as the coordinates in n-d space\n",
    "        index = \"id\",  # pl.col(\"id\"), str | pl.Expr\n",
    "        k = 3, \n",
    "        dist = \"l2\", # squared l2\n",
    "        parallel = True\n",
    "    ).alias(\"best friends\")\n",
    ").head() "
   ]
  },
  {
   "cell_type": "code",
   "execution_count": 40,
   "id": "67a769f3",
   "metadata": {},
   "outputs": [
    {
     "name": "stdout",
     "output_type": "stream",
     "text": [
      "shape: (5, 3)\n",
      "┌─────┬──────────────────┬────────────────────┐\n",
      "│ id  ┆ best friends     ┆ best friends count │\n",
      "│ --- ┆ ---              ┆ ---                │\n",
      "│ u32 ┆ list[u32]        ┆ u32                │\n",
      "╞═════╪══════════════════╪════════════════════╡\n",
      "│ 0   ┆ [0, 597, … 713]  ┆ 221                │\n",
      "│ 1   ┆ [1, 705, … 1004] ┆ 264                │\n",
      "│ 2   ┆ [2, 1186, … 613] ┆ 117                │\n",
      "│ 3   ┆ [3, 103, … 1409] ┆ 220                │\n",
      "│ 4   ┆ [4, 1907, … 992] ┆ 186                │\n",
      "└─────┴──────────────────┴────────────────────┘\n"
     ]
    }
   ],
   "source": [
    "# Get all neighbors within radius r\n",
    "# The point itself is always considered a neighbor to itself.\n",
    "print(df.select(\n",
    "    pl.col(\"id\"),\n",
    "    pds.query_radius_ptwise(\n",
    "        pl.col(\"val1\"), pl.col(\"val2\"), pl.col(\"val3\"), # Columns used as the coordinates in n-d space\n",
    "        index = pl.col(\"id\"),\n",
    "        r = 0.1, \n",
    "        dist = \"l2\", # actually this is squared l2\n",
    "        parallel = True\n",
    "    ).alias(\"best friends\"),\n",
    ").with_columns( # -1 to remove the point itself\n",
    "    (pl.col(\"best friends\").list.len() - 1).alias(\"best friends count\")\n",
    ").head())"
   ]
  },
  {
   "cell_type": "code",
   "execution_count": 41,
   "id": "06cd7fb2",
   "metadata": {},
   "outputs": [
    {
     "data": {
      "text/html": [
       "<div><style>\n",
       ".dataframe > thead > tr,\n",
       ".dataframe > tbody > tr {\n",
       "  text-align: right;\n",
       "  white-space: pre-wrap;\n",
       "}\n",
       "</style>\n",
       "<small>shape: (5, 8)</small><table border=\"1\" class=\"dataframe\"><thead><tr><th>id</th><th>val1</th><th>val2</th><th>val3</th><th>r</th><th>rh</th><th>idx</th><th>dist</th></tr><tr><td>u32</td><td>f64</td><td>f64</td><td>f64</td><td>f64</td><td>f64</td><td>list[u32]</td><td>list[f64]</td></tr></thead><tbody><tr><td>0</td><td>0.506973</td><td>0.494173</td><td>0.892488</td><td>0.250596</td><td>3.805498</td><td>[0, 597, … 549]</td><td>[0.0, 0.002902, … 0.005174]</td></tr><tr><td>1</td><td>0.464808</td><td>0.770314</td><td>0.545069</td><td>0.618297</td><td>4.754389</td><td>[1, 705, … 724]</td><td>[0.0, 0.001036, … 0.002345]</td></tr><tr><td>2</td><td>0.07338</td><td>0.908391</td><td>0.712785</td><td>0.597162</td><td>6.688595</td><td>[2, 1186, … 1553]</td><td>[0.0, 0.00398, … 0.008144]</td></tr><tr><td>3</td><td>0.689477</td><td>0.224162</td><td>0.224163</td><td>0.872439</td><td>4.588719</td><td>[3, 103, … 220]</td><td>[0.0, 0.001308, … 0.008485]</td></tr><tr><td>4</td><td>0.20452</td><td>0.093144</td><td>0.342247</td><td>0.940545</td><td>7.585782</td><td>[4, 1907, … 531]</td><td>[0.0, 0.001585, … 0.003495]</td></tr></tbody></table></div>"
      ],
      "text/plain": [
       "shape: (5, 8)\n",
       "┌─────┬──────────┬──────────┬──────────┬──────────┬──────────┬──────────────────┬──────────────────┐\n",
       "│ id  ┆ val1     ┆ val2     ┆ val3     ┆ r        ┆ rh       ┆ idx              ┆ dist             │\n",
       "│ --- ┆ ---      ┆ ---      ┆ ---      ┆ ---      ┆ ---      ┆ ---              ┆ ---              │\n",
       "│ u32 ┆ f64      ┆ f64      ┆ f64      ┆ f64      ┆ f64      ┆ list[u32]        ┆ list[f64]        │\n",
       "╞═════╪══════════╪══════════╪══════════╪══════════╪══════════╪══════════════════╪══════════════════╡\n",
       "│ 0   ┆ 0.506973 ┆ 0.494173 ┆ 0.892488 ┆ 0.250596 ┆ 3.805498 ┆ [0, 597, … 549]  ┆ [0.0, 0.002902,  │\n",
       "│     ┆          ┆          ┆          ┆          ┆          ┆                  ┆ … 0.005174]      │\n",
       "│ 1   ┆ 0.464808 ┆ 0.770314 ┆ 0.545069 ┆ 0.618297 ┆ 4.754389 ┆ [1, 705, … 724]  ┆ [0.0, 0.001036,  │\n",
       "│     ┆          ┆          ┆          ┆          ┆          ┆                  ┆ … 0.002345]      │\n",
       "│ 2   ┆ 0.07338  ┆ 0.908391 ┆ 0.712785 ┆ 0.597162 ┆ 6.688595 ┆ [2, 1186, …      ┆ [0.0, 0.00398, … │\n",
       "│     ┆          ┆          ┆          ┆          ┆          ┆ 1553]            ┆ 0.008144]        │\n",
       "│ 3   ┆ 0.689477 ┆ 0.224162 ┆ 0.224163 ┆ 0.872439 ┆ 4.588719 ┆ [3, 103, … 220]  ┆ [0.0, 0.001308,  │\n",
       "│     ┆          ┆          ┆          ┆          ┆          ┆                  ┆ … 0.008485]      │\n",
       "│ 4   ┆ 0.20452  ┆ 0.093144 ┆ 0.342247 ┆ 0.940545 ┆ 7.585782 ┆ [4, 1907, … 531] ┆ [0.0, 0.001585,  │\n",
       "│     ┆          ┆          ┆          ┆          ┆          ┆                  ┆ … 0.003495]      │\n",
       "└─────┴──────────┴──────────┴──────────┴──────────┴──────────┴──────────────────┴──────────────────┘"
      ]
     },
     "execution_count": 41,
     "metadata": {},
     "output_type": "execute_result"
    }
   ],
   "source": [
    "# Get ids of the k nearest neighbors and distances\n",
    "# The point itself is always considered a neighbor to itself, so k + 1 elements will be returned.\n",
    "df.with_columns(\n",
    "    pds.query_knn_ptwise(\n",
    "        pl.col(\"val1\"), pl.col(\"val2\"), pl.col(\"val3\"), # Columns used as the coordinates in n-d space\n",
    "        index = pl.col(\"id\"),\n",
    "        k = 3, \n",
    "        dist = \"l2\", # actually this is squared l2\n",
    "        parallel = True,\n",
    "        return_dist = True\n",
    "    ).alias(\"best_friends_w_dist\")\n",
    ").unnest(\"best_friends_w_dist\").head()"
   ]
  },
  {
   "cell_type": "code",
   "execution_count": 42,
   "id": "b5c69ae4",
   "metadata": {},
   "outputs": [
    {
     "data": {
      "text/html": [
       "<div><style>\n",
       ".dataframe > thead > tr,\n",
       ".dataframe > tbody > tr {\n",
       "  text-align: right;\n",
       "  white-space: pre-wrap;\n",
       "}\n",
       "</style>\n",
       "<small>shape: (5, 6)</small><table border=\"1\" class=\"dataframe\"><thead><tr><th>id</th><th>val1</th><th>val2</th><th>val3</th><th>r</th><th>rh</th></tr><tr><td>u32</td><td>f64</td><td>f64</td><td>f64</td><td>f64</td><td>f64</td></tr></thead><tbody><tr><td>0</td><td>0.506973</td><td>0.494173</td><td>0.892488</td><td>0.250596</td><td>3.805498</td></tr><tr><td>1</td><td>0.464808</td><td>0.770314</td><td>0.545069</td><td>0.618297</td><td>4.754389</td></tr><tr><td>3</td><td>0.689477</td><td>0.224162</td><td>0.224163</td><td>0.872439</td><td>4.588719</td></tr><tr><td>5</td><td>0.391367</td><td>0.445461</td><td>0.586592</td><td>0.686767</td><td>8.083743</td></tr><tr><td>6</td><td>0.373096</td><td>0.427133</td><td>0.512025</td><td>0.915182</td><td>8.652561</td></tr></tbody></table></div>"
      ],
      "text/plain": [
       "shape: (5, 6)\n",
       "┌─────┬──────────┬──────────┬──────────┬──────────┬──────────┐\n",
       "│ id  ┆ val1     ┆ val2     ┆ val3     ┆ r        ┆ rh       │\n",
       "│ --- ┆ ---      ┆ ---      ┆ ---      ┆ ---      ┆ ---      │\n",
       "│ u32 ┆ f64      ┆ f64      ┆ f64      ┆ f64      ┆ f64      │\n",
       "╞═════╪══════════╪══════════╪══════════╪══════════╪══════════╡\n",
       "│ 0   ┆ 0.506973 ┆ 0.494173 ┆ 0.892488 ┆ 0.250596 ┆ 3.805498 │\n",
       "│ 1   ┆ 0.464808 ┆ 0.770314 ┆ 0.545069 ┆ 0.618297 ┆ 4.754389 │\n",
       "│ 3   ┆ 0.689477 ┆ 0.224162 ┆ 0.224163 ┆ 0.872439 ┆ 4.588719 │\n",
       "│ 5   ┆ 0.391367 ┆ 0.445461 ┆ 0.586592 ┆ 0.686767 ┆ 8.083743 │\n",
       "│ 6   ┆ 0.373096 ┆ 0.427133 ┆ 0.512025 ┆ 0.915182 ┆ 8.652561 │\n",
       "└─────┴──────────┴──────────┴──────────┴──────────┴──────────┘"
      ]
     },
     "execution_count": 42,
     "metadata": {},
     "output_type": "execute_result"
    }
   ],
   "source": [
    "# Filter to only points near the given point\n",
    "df.filter(\n",
    "    pds.query_radius_at_pt(\n",
    "        pl.col(\"val1\"), pl.col(\"val2\"), pl.col(\"val3\"), # Columns used as the coordinates in n-d space\n",
    "        pt = [0.5, 0.5, 0.5],\n",
    "        r = 0.2,\n",
    "        dist = \"l2\" # actually this is squared l2, so this is asking for squared l2 <= 0.2\n",
    "    )\n",
    ").head()"
   ]
  },
  {
   "cell_type": "code",
   "execution_count": 43,
   "id": "4ab9e8f8",
   "metadata": {},
   "outputs": [
    {
     "data": {
      "text/html": [
       "<div><style>\n",
       ".dataframe > thead > tr,\n",
       ".dataframe > tbody > tr {\n",
       "  text-align: right;\n",
       "  white-space: pre-wrap;\n",
       "}\n",
       "</style>\n",
       "<small>shape: (5, 6)</small><table border=\"1\" class=\"dataframe\"><thead><tr><th>id</th><th>val1</th><th>val2</th><th>val3</th><th>r</th><th>rh</th></tr><tr><td>u32</td><td>f64</td><td>f64</td><td>f64</td><td>f64</td><td>f64</td></tr></thead><tbody><tr><td>0</td><td>0.506973</td><td>0.494173</td><td>0.892488</td><td>0.250596</td><td>3.805498</td></tr><tr><td>27</td><td>0.449354</td><td>0.464936</td><td>0.386711</td><td>0.934358</td><td>5.930981</td></tr><tr><td>108</td><td>0.453358</td><td>0.455474</td><td>0.254709</td><td>0.369354</td><td>6.854675</td></tr><tr><td>110</td><td>0.578392</td><td>0.491167</td><td>0.513575</td><td>0.869283</td><td>4.351892</td></tr><tr><td>123</td><td>0.533402</td><td>0.425421</td><td>0.084883</td><td>0.937096</td><td>3.958402</td></tr></tbody></table></div>"
      ],
      "text/plain": [
       "shape: (5, 6)\n",
       "┌─────┬──────────┬──────────┬──────────┬──────────┬──────────┐\n",
       "│ id  ┆ val1     ┆ val2     ┆ val3     ┆ r        ┆ rh       │\n",
       "│ --- ┆ ---      ┆ ---      ┆ ---      ┆ ---      ┆ ---      │\n",
       "│ u32 ┆ f64      ┆ f64      ┆ f64      ┆ f64      ┆ f64      │\n",
       "╞═════╪══════════╪══════════╪══════════╪══════════╪══════════╡\n",
       "│ 0   ┆ 0.506973 ┆ 0.494173 ┆ 0.892488 ┆ 0.250596 ┆ 3.805498 │\n",
       "│ 27  ┆ 0.449354 ┆ 0.464936 ┆ 0.386711 ┆ 0.934358 ┆ 5.930981 │\n",
       "│ 108 ┆ 0.453358 ┆ 0.455474 ┆ 0.254709 ┆ 0.369354 ┆ 6.854675 │\n",
       "│ 110 ┆ 0.578392 ┆ 0.491167 ┆ 0.513575 ┆ 0.869283 ┆ 4.351892 │\n",
       "│ 123 ┆ 0.533402 ┆ 0.425421 ┆ 0.084883 ┆ 0.937096 ┆ 3.958402 │\n",
       "└─────┴──────────┴──────────┴──────────┴──────────┴──────────┘"
      ]
     },
     "execution_count": 43,
     "metadata": {},
     "output_type": "execute_result"
    }
   ],
   "source": [
    "# Haversine distance is available when dimension is 2\n",
    "df.filter(\n",
    "    pds.query_radius_at_pt(\n",
    "        pl.col(\"val1\"), pl.col(\"val2\"), # Columns used as the coordinates in n-d space\n",
    "        pt = [0.5, 0.5],\n",
    "        r = 10, # in km\n",
    "        dist = \"h\" \n",
    "    )\n",
    ").head()"
   ]
  },
  {
   "cell_type": "code",
   "execution_count": 44,
   "id": "7d3f5ae4",
   "metadata": {},
   "outputs": [
    {
     "data": {
      "text/html": [
       "<div><style>\n",
       ".dataframe > thead > tr,\n",
       ".dataframe > tbody > tr {\n",
       "  text-align: right;\n",
       "  white-space: pre-wrap;\n",
       "}\n",
       "</style>\n",
       "<small>shape: (5, 6)</small><table border=\"1\" class=\"dataframe\"><thead><tr><th>id</th><th>val1</th><th>val2</th><th>val3</th><th>r</th><th>rh</th></tr><tr><td>u32</td><td>f64</td><td>f64</td><td>f64</td><td>f64</td><td>f64</td></tr></thead><tbody><tr><td>0</td><td>0.506973</td><td>0.494173</td><td>0.892488</td><td>0.250596</td><td>3.805498</td></tr><tr><td>160</td><td>0.505177</td><td>0.527278</td><td>0.191167</td><td>0.087277</td><td>6.792438</td></tr><tr><td>386</td><td>0.502902</td><td>0.525816</td><td>0.254772</td><td>0.33871</td><td>8.917753</td></tr><tr><td>596</td><td>0.49003</td><td>0.453594</td><td>0.355865</td><td>0.149327</td><td>9.891922</td></tr><tr><td>597</td><td>0.48431</td><td>0.499775</td><td>0.941036</td><td>0.381983</td><td>4.015817</td></tr></tbody></table></div>"
      ],
      "text/plain": [
       "shape: (5, 6)\n",
       "┌─────┬──────────┬──────────┬──────────┬──────────┬──────────┐\n",
       "│ id  ┆ val1     ┆ val2     ┆ val3     ┆ r        ┆ rh       │\n",
       "│ --- ┆ ---      ┆ ---      ┆ ---      ┆ ---      ┆ ---      │\n",
       "│ u32 ┆ f64      ┆ f64      ┆ f64      ┆ f64      ┆ f64      │\n",
       "╞═════╪══════════╪══════════╪══════════╪══════════╪══════════╡\n",
       "│ 0   ┆ 0.506973 ┆ 0.494173 ┆ 0.892488 ┆ 0.250596 ┆ 3.805498 │\n",
       "│ 160 ┆ 0.505177 ┆ 0.527278 ┆ 0.191167 ┆ 0.087277 ┆ 6.792438 │\n",
       "│ 386 ┆ 0.502902 ┆ 0.525816 ┆ 0.254772 ┆ 0.33871  ┆ 8.917753 │\n",
       "│ 596 ┆ 0.49003  ┆ 0.453594 ┆ 0.355865 ┆ 0.149327 ┆ 9.891922 │\n",
       "│ 597 ┆ 0.48431  ┆ 0.499775 ┆ 0.941036 ┆ 0.381983 ┆ 4.015817 │\n",
       "└─────┴──────────┴──────────┴──────────┴──────────┴──────────┘"
      ]
     },
     "execution_count": 44,
     "metadata": {},
     "output_type": "execute_result"
    }
   ],
   "source": [
    "df.filter(\n",
    "    pds.query_radius_at_pt(\n",
    "        pl.col(\"val1\"), pl.col(\"val2\"), \n",
    "        pt = [0.5, 0.5],\n",
    "        # radius can also be an existing column in the dataframe.\n",
    "        r = pl.col(\"rh\"), \n",
    "        dist = \"h\" \n",
    "    )\n",
    ").head()"
   ]
  },
  {
   "cell_type": "code",
   "execution_count": 45,
   "id": "f14627bc",
   "metadata": {},
   "outputs": [
    {
     "data": {
      "text/html": [
       "<div><style>\n",
       ".dataframe > thead > tr,\n",
       ".dataframe > tbody > tr {\n",
       "  text-align: right;\n",
       "  white-space: pre-wrap;\n",
       "}\n",
       "</style>\n",
       "<small>shape: (5, 3)</small><table border=\"1\" class=\"dataframe\"><thead><tr><th>id</th><th>friends</th><th>count</th></tr><tr><td>u64</td><td>list[u32]</td><td>u32</td></tr></thead><tbody><tr><td>0</td><td>[0, 1667, … 1999]</td><td>126</td></tr><tr><td>1</td><td>[1, 1393, … 510]</td><td>147</td></tr><tr><td>2</td><td>[2, 1415, … 1315]</td><td>87</td></tr><tr><td>3</td><td>[3, 799, … 1363]</td><td>127</td></tr><tr><td>4</td><td>[4, 632, … 693]</td><td>108</td></tr></tbody></table></div>"
      ],
      "text/plain": [
       "shape: (5, 3)\n",
       "┌─────┬───────────────────┬───────┐\n",
       "│ id  ┆ friends           ┆ count │\n",
       "│ --- ┆ ---               ┆ ---   │\n",
       "│ u64 ┆ list[u32]         ┆ u32   │\n",
       "╞═════╪═══════════════════╪═══════╡\n",
       "│ 0   ┆ [0, 1667, … 1999] ┆ 126   │\n",
       "│ 1   ┆ [1, 1393, … 510]  ┆ 147   │\n",
       "│ 2   ┆ [2, 1415, … 1315] ┆ 87    │\n",
       "│ 3   ┆ [3, 799, … 1363]  ┆ 127   │\n",
       "│ 4   ┆ [4, 632, … 693]   ┆ 108   │\n",
       "└─────┴───────────────────┴───────┘"
      ]
     },
     "execution_count": 45,
     "metadata": {},
     "output_type": "execute_result"
    }
   ],
   "source": [
    "friends = df.select(\n",
    "    pl.col(\"id\").cast(pl.UInt64),\n",
    "    pds.query_radius_ptwise(\n",
    "        # Columns used as the coordinates in n-d space\n",
    "        pl.col(\"val1\"), pl.col(\"val2\"), \n",
    "        index=pl.col(\"id\"),\n",
    "        r = 0.02, \n",
    "        dist = \"l2\",\n",
    "    ).alias(\"friends\")\n",
    ").with_columns(\n",
    "    pl.col(\"friends\").list.len().alias(\"count\")\n",
    ")\n",
    "friends.head()"
   ]
  },
  {
   "cell_type": "markdown",
   "id": "ea3e4400",
   "metadata": {},
   "source": [
    "# Simple Graph Queries\n",
    "\n",
    "There is limited functionality in the Graph module currently. E.g. Only constant cost per edge.\n",
    "\n",
    "Graph queries are very expensive."
   ]
  },
  {
   "cell_type": "code",
   "execution_count": 46,
   "id": "fba0149e",
   "metadata": {},
   "outputs": [],
   "source": [
    "# friends.select(\n",
    "#     pl.col(\"friends\").graph.eigen_centrality() # .arg_max()\n",
    "# ).head()"
   ]
  },
  {
   "cell_type": "code",
   "execution_count": 47,
   "id": "9d2b70d7",
   "metadata": {},
   "outputs": [
    {
     "data": {
      "text/html": [
       "<div><style>\n",
       ".dataframe > thead > tr,\n",
       ".dataframe > tbody > tr {\n",
       "  text-align: right;\n",
       "  white-space: pre-wrap;\n",
       "}\n",
       "</style>\n",
       "<small>shape: (5, 2)</small><table border=\"1\" class=\"dataframe\"><thead><tr><th>id</th><th>friends</th></tr><tr><td>u32</td><td>u32</td></tr></thead><tbody><tr><td>0</td><td>0</td></tr><tr><td>0</td><td>1667</td></tr><tr><td>0</td><td>733</td></tr><tr><td>0</td><td>1339</td></tr><tr><td>0</td><td>1586</td></tr></tbody></table></div>"
      ],
      "text/plain": [
       "shape: (5, 2)\n",
       "┌─────┬─────────┐\n",
       "│ id  ┆ friends │\n",
       "│ --- ┆ ---     │\n",
       "│ u32 ┆ u32     │\n",
       "╞═════╪═════════╡\n",
       "│ 0   ┆ 0       │\n",
       "│ 0   ┆ 1667    │\n",
       "│ 0   ┆ 733     │\n",
       "│ 0   ┆ 1339    │\n",
       "│ 0   ┆ 1586    │\n",
       "└─────┴─────────┘"
      ]
     },
     "execution_count": 47,
     "metadata": {},
     "output_type": "execute_result"
    }
   ],
   "source": [
    "# Turn friends to a table suitable for graph analytics\n",
    "df_graph = friends.select(\n",
    "    pl.col(\"id\"),\n",
    "    pl.col(\"friends\"),\n",
    ").explode(pl.col(\"friends\")).with_columns(\n",
    "    pl.col(\"id\").cast(pl.UInt32),\n",
    "    pl.col(\"friends\").cast(pl.UInt32),\n",
    ")\n",
    "df_graph.head()"
   ]
  },
  {
   "cell_type": "code",
   "execution_count": 48,
   "id": "8ff9aa74",
   "metadata": {},
   "outputs": [
    {
     "data": {
      "text/html": [
       "<div><style>\n",
       ".dataframe > thead > tr,\n",
       ".dataframe > tbody > tr {\n",
       "  text-align: right;\n",
       "  white-space: pre-wrap;\n",
       "}\n",
       "</style>\n",
       "<small>shape: (2_000, 2)</small><table border=\"1\" class=\"dataframe\"><thead><tr><th>id</th><th>path</th></tr><tr><td>u32</td><td>list[u32]</td></tr></thead><tbody><tr><td>0</td><td>[1632, 621, 3]</td></tr><tr><td>1</td><td>[606, 1730, … 3]</td></tr><tr><td>2</td><td>[1419, 1144, … 3]</td></tr><tr><td>3</td><td>[]</td></tr><tr><td>4</td><td>[1199, 124, … 3]</td></tr><tr><td>&hellip;</td><td>&hellip;</td></tr><tr><td>1995</td><td>[996, 1366, 3]</td></tr><tr><td>1996</td><td>[1436, 1087, … 3]</td></tr><tr><td>1997</td><td>[1038, 259, … 3]</td></tr><tr><td>1998</td><td>[1058, 1842, … 3]</td></tr><tr><td>1999</td><td>[69, 3]</td></tr></tbody></table></div>"
      ],
      "text/plain": [
       "shape: (2_000, 2)\n",
       "┌──────┬───────────────────┐\n",
       "│ id   ┆ path              │\n",
       "│ ---  ┆ ---               │\n",
       "│ u32  ┆ list[u32]         │\n",
       "╞══════╪═══════════════════╡\n",
       "│ 0    ┆ [1632, 621, 3]    │\n",
       "│ 1    ┆ [606, 1730, … 3]  │\n",
       "│ 2    ┆ [1419, 1144, … 3] │\n",
       "│ 3    ┆ []                │\n",
       "│ 4    ┆ [1199, 124, … 3]  │\n",
       "│ …    ┆ …                 │\n",
       "│ 1995 ┆ [996, 1366, 3]    │\n",
       "│ 1996 ┆ [1436, 1087, … 3] │\n",
       "│ 1997 ┆ [1038, 259, … 3]  │\n",
       "│ 1998 ┆ [1058, 1842, … 3] │\n",
       "│ 1999 ┆ [69, 3]           │\n",
       "└──────┴───────────────────┘"
      ]
     },
     "execution_count": 48,
     "metadata": {},
     "output_type": "execute_result"
    }
   ],
   "source": [
    "df_graph.select(\n",
    "    # Shortest path to the node with id = 3\n",
    "    # Node and link can be str | pl.Expr\n",
    "    pds.query_shortest_path(node = \"id\", link = pl.col(\"friends\"), target = 3, cost = None, parallel=True).alias(\"shortest_path\")\n",
    ").unnest(\"shortest_path\").sort(\"id\")"
   ]
  },
  {
   "cell_type": "code",
   "execution_count": 49,
   "id": "76d43fd5",
   "metadata": {},
   "outputs": [
    {
     "data": {
      "text/html": [
       "<div><style>\n",
       ".dataframe > thead > tr,\n",
       ".dataframe > tbody > tr {\n",
       "  text-align: right;\n",
       "  white-space: pre-wrap;\n",
       "}\n",
       "</style>\n",
       "<small>shape: (2_000, 3)</small><table border=\"1\" class=\"dataframe\"><thead><tr><th>id</th><th>reachable</th><th>steps</th></tr><tr><td>u32</td><td>bool</td><td>u32</td></tr></thead><tbody><tr><td>1958</td><td>true</td><td>4</td></tr><tr><td>1270</td><td>true</td><td>4</td></tr><tr><td>157</td><td>true</td><td>4</td></tr><tr><td>1283</td><td>true</td><td>2</td></tr><tr><td>543</td><td>true</td><td>6</td></tr><tr><td>&hellip;</td><td>&hellip;</td><td>&hellip;</td></tr><tr><td>1493</td><td>true</td><td>7</td></tr><tr><td>1705</td><td>true</td><td>4</td></tr><tr><td>926</td><td>true</td><td>6</td></tr><tr><td>192</td><td>true</td><td>5</td></tr><tr><td>1332</td><td>true</td><td>4</td></tr></tbody></table></div>"
      ],
      "text/plain": [
       "shape: (2_000, 3)\n",
       "┌──────┬───────────┬───────┐\n",
       "│ id   ┆ reachable ┆ steps │\n",
       "│ ---  ┆ ---       ┆ ---   │\n",
       "│ u32  ┆ bool      ┆ u32   │\n",
       "╞══════╪═══════════╪═══════╡\n",
       "│ 1958 ┆ true      ┆ 4     │\n",
       "│ 1270 ┆ true      ┆ 4     │\n",
       "│ 157  ┆ true      ┆ 4     │\n",
       "│ 1283 ┆ true      ┆ 2     │\n",
       "│ 543  ┆ true      ┆ 6     │\n",
       "│ …    ┆ …         ┆ …     │\n",
       "│ 1493 ┆ true      ┆ 7     │\n",
       "│ 1705 ┆ true      ┆ 4     │\n",
       "│ 926  ┆ true      ┆ 6     │\n",
       "│ 192  ┆ true      ┆ 5     │\n",
       "│ 1332 ┆ true      ┆ 4     │\n",
       "└──────┴───────────┴───────┘"
      ]
     },
     "execution_count": 49,
     "metadata": {},
     "output_type": "execute_result"
    }
   ],
   "source": [
    "df_graph.select(\n",
    "    # Almost every node can reach node 3, and the number is the number steps to reach it\n",
    "    # This is a way faster way to filter results if you don't need the actual path\n",
    "    pl.col(\"id\").graph.reachable(link=\"friends\", target = 3).alias(\"reach\")\n",
    ").unnest(\"reach\")"
   ]
  },
  {
   "cell_type": "code",
   "execution_count": 50,
   "id": "4af6e6b7",
   "metadata": {},
   "outputs": [
    {
     "data": {
      "text/html": [
       "<div><style>\n",
       ".dataframe > thead > tr,\n",
       ".dataframe > tbody > tr {\n",
       "  text-align: right;\n",
       "  white-space: pre-wrap;\n",
       "}\n",
       "</style>\n",
       "<small>shape: (11, 3)</small><table border=\"1\" class=\"dataframe\"><thead><tr><th>id</th><th>connections</th><th>close-ness</th></tr><tr><td>u32</td><td>u32</td><td>f64</td></tr></thead><tbody><tr><td>0</td><td>1</td><td>0.4</td></tr><tr><td>0</td><td>2</td><td>0.3</td></tr><tr><td>0</td><td>3</td><td>0.2</td></tr><tr><td>0</td><td>4</td><td>0.1</td></tr><tr><td>1</td><td>2</td><td>0.1</td></tr><tr><td>&hellip;</td><td>&hellip;</td><td>&hellip;</td></tr><tr><td>2</td><td>4</td><td>0.5</td></tr><tr><td>3</td><td>0</td><td>0.1</td></tr><tr><td>3</td><td>1</td><td>0.1</td></tr><tr><td>3</td><td>2</td><td>0.1</td></tr><tr><td>4</td><td>1</td><td>0.1</td></tr></tbody></table></div>"
      ],
      "text/plain": [
       "shape: (11, 3)\n",
       "┌─────┬─────────────┬────────────┐\n",
       "│ id  ┆ connections ┆ close-ness │\n",
       "│ --- ┆ ---         ┆ ---        │\n",
       "│ u32 ┆ u32         ┆ f64        │\n",
       "╞═════╪═════════════╪════════════╡\n",
       "│ 0   ┆ 1           ┆ 0.4        │\n",
       "│ 0   ┆ 2           ┆ 0.3        │\n",
       "│ 0   ┆ 3           ┆ 0.2        │\n",
       "│ 0   ┆ 4           ┆ 0.1        │\n",
       "│ 1   ┆ 2           ┆ 0.1        │\n",
       "│ …   ┆ …           ┆ …          │\n",
       "│ 2   ┆ 4           ┆ 0.5        │\n",
       "│ 3   ┆ 0           ┆ 0.1        │\n",
       "│ 3   ┆ 1           ┆ 0.1        │\n",
       "│ 3   ┆ 2           ┆ 0.1        │\n",
       "│ 4   ┆ 1           ┆ 0.1        │\n",
       "└─────┴─────────────┴────────────┘"
      ]
     },
     "execution_count": 50,
     "metadata": {},
     "output_type": "execute_result"
    }
   ],
   "source": [
    "relationships = pl.DataFrame({\n",
    "    \"id\": range(5),\n",
    "    \"connections\":[[1,2,3,4], [2,3], [4], [0,1,2], [1]],\n",
    "    # Small values means closer\n",
    "    \"close-ness\":[[0.4, 0.3, 0.2, 0.1], [0.1, 1.0], [0.5], [0.1, 0.1, 0.1], [0.1]]\n",
    "}).with_columns(\n",
    "    pl.col(\"id\").cast(pl.UInt32),\n",
    "    pl.col(\"connections\").list.eval(pl.element().cast(pl.UInt32))\n",
    ").explode(\n",
    "    pl.col(\"connections\"), pl.col(\"close-ness\")\n",
    ")\n",
    "\n",
    "relationships.head(50)"
   ]
  },
  {
   "cell_type": "code",
   "execution_count": 51,
   "id": "239f4e85",
   "metadata": {},
   "outputs": [
    {
     "data": {
      "text/html": [
       "<div><style>\n",
       ".dataframe > thead > tr,\n",
       ".dataframe > tbody > tr {\n",
       "  text-align: right;\n",
       "  white-space: pre-wrap;\n",
       "}\n",
       "</style>\n",
       "<small>shape: (5, 3)</small><table border=\"1\" class=\"dataframe\"><thead><tr><th>id</th><th>path</th><th>cost</th></tr><tr><td>u32</td><td>list[u32]</td><td>f64</td></tr></thead><tbody><tr><td>2</td><td>[4, 1]</td><td>0.6</td></tr><tr><td>0</td><td>[4, 1]</td><td>0.2</td></tr><tr><td>4</td><td>[1]</td><td>0.1</td></tr><tr><td>3</td><td>[1]</td><td>0.1</td></tr><tr><td>1</td><td>[]</td><td>0.0</td></tr></tbody></table></div>"
      ],
      "text/plain": [
       "shape: (5, 3)\n",
       "┌─────┬───────────┬──────┐\n",
       "│ id  ┆ path      ┆ cost │\n",
       "│ --- ┆ ---       ┆ ---  │\n",
       "│ u32 ┆ list[u32] ┆ f64  │\n",
       "╞═════╪═══════════╪══════╡\n",
       "│ 2   ┆ [4, 1]    ┆ 0.6  │\n",
       "│ 0   ┆ [4, 1]    ┆ 0.2  │\n",
       "│ 4   ┆ [1]       ┆ 0.1  │\n",
       "│ 3   ┆ [1]       ┆ 0.1  │\n",
       "│ 1   ┆ []        ┆ 0.0  │\n",
       "└─────┴───────────┴──────┘"
      ]
     },
     "execution_count": 51,
     "metadata": {},
     "output_type": "execute_result"
    }
   ],
   "source": [
    "# To go to node at id = 1, node 0 would rather go to 4 first and then 1.\n",
    "relationships.select(\n",
    "    pl.col(\"id\").graph.shortest_path(\n",
    "        link = \"connections\",\n",
    "        target = 1,\n",
    "        cost = pl.col(\"close-ness\"),\n",
    "        parallel = False\n",
    "    ).alias(\"path\")\n",
    ").unnest(\"path\").head()"
   ]
  },
  {
   "cell_type": "code",
   "execution_count": 52,
   "id": "df458bdd",
   "metadata": {},
   "outputs": [
    {
     "data": {
      "text/html": [
       "<div><style>\n",
       ".dataframe > thead > tr,\n",
       ".dataframe > tbody > tr {\n",
       "  text-align: right;\n",
       "  white-space: pre-wrap;\n",
       "}\n",
       "</style>\n",
       "<small>shape: (5, 3)</small><table border=\"1\" class=\"dataframe\"><thead><tr><th>node</th><th>in</th><th>out</th></tr><tr><td>u32</td><td>u32</td><td>u32</td></tr></thead><tbody><tr><td>2</td><td>3</td><td>1</td></tr><tr><td>0</td><td>1</td><td>4</td></tr><tr><td>4</td><td>2</td><td>1</td></tr><tr><td>3</td><td>2</td><td>3</td></tr><tr><td>1</td><td>3</td><td>2</td></tr></tbody></table></div>"
      ],
      "text/plain": [
       "shape: (5, 3)\n",
       "┌──────┬─────┬─────┐\n",
       "│ node ┆ in  ┆ out │\n",
       "│ ---  ┆ --- ┆ --- │\n",
       "│ u32  ┆ u32 ┆ u32 │\n",
       "╞══════╪═════╪═════╡\n",
       "│ 2    ┆ 3   ┆ 1   │\n",
       "│ 0    ┆ 1   ┆ 4   │\n",
       "│ 4    ┆ 2   ┆ 1   │\n",
       "│ 3    ┆ 2   ┆ 3   │\n",
       "│ 1    ┆ 3   ┆ 2   │\n",
       "└──────┴─────┴─────┘"
      ]
     },
     "execution_count": 52,
     "metadata": {},
     "output_type": "execute_result"
    }
   ],
   "source": [
    "# In and out deg\n",
    "relationships.select(\n",
    "    pl.col(\"id\").graph.in_out_deg(link=pl.col(\"connections\")).alias(\"deg\")\n",
    ").unnest(\"deg\")"
   ]
  },
  {
   "cell_type": "markdown",
   "id": "9f8eabf1",
   "metadata": {},
   "source": [
    "# String Nearest Neighbors\n",
    "\n",
    "This might be very slow for very large vocab / column."
   ]
  },
  {
   "cell_type": "code",
   "execution_count": 53,
   "id": "f2c9ed80",
   "metadata": {},
   "outputs": [],
   "source": [
    "df = pl.DataFrame({\n",
    "    \"a\":[\"AAAAA\", \"ABCABC\", \"AAAADDD\", \"ADSDSDS\", \"WORD\"],\n",
    "    \"b\":[\"AAAAT\", \"ABCACD\", \"ADSSD\", \"APPLES\", \"WORLD\"] \n",
    "})"
   ]
  },
  {
   "cell_type": "code",
   "execution_count": 54,
   "id": "062fd694",
   "metadata": {},
   "outputs": [
    {
     "data": {
      "text/html": [
       "<div><style>\n",
       ".dataframe > thead > tr,\n",
       ".dataframe > tbody > tr {\n",
       "  text-align: right;\n",
       "  white-space: pre-wrap;\n",
       "}\n",
       "</style>\n",
       "<small>shape: (5, 1)</small><table border=\"1\" class=\"dataframe\"><thead><tr><th>similar_words_from_vocab</th></tr><tr><td>str</td></tr></thead><tbody><tr><td>&quot;AAAAT&quot;</td></tr><tr><td>&quot;ABCACD&quot;</td></tr><tr><td>&quot;AAAAT&quot;</td></tr><tr><td>&quot;ADSSD&quot;</td></tr><tr><td>&quot;WORLD&quot;</td></tr></tbody></table></div>"
      ],
      "text/plain": [
       "shape: (5, 1)\n",
       "┌──────────────────────────┐\n",
       "│ similar_words_from_vocab │\n",
       "│ ---                      │\n",
       "│ str                      │\n",
       "╞══════════════════════════╡\n",
       "│ AAAAT                    │\n",
       "│ ABCACD                   │\n",
       "│ AAAAT                    │\n",
       "│ ADSSD                    │\n",
       "│ WORLD                    │\n",
       "└──────────────────────────┘"
      ]
     },
     "execution_count": 54,
     "metadata": {},
     "output_type": "execute_result"
    }
   ],
   "source": [
    "# Use Levenshtein to find the nearest neighbor in vocab to word in column a\n",
    "df.select(\n",
    "    pl.col(\"a\").str2.similar_words(\n",
    "        vocab = pl.col(\"b\"),\n",
    "        k = 1,\n",
    "        metric = \"lv\"\n",
    "    ).alias(\"similar_words_from_vocab\"),\n",
    ")"
   ]
  },
  {
   "cell_type": "code",
   "execution_count": 55,
   "id": "29437b8b",
   "metadata": {},
   "outputs": [
    {
     "data": {
      "text/html": [
       "<div><style>\n",
       ".dataframe > thead > tr,\n",
       ".dataframe > tbody > tr {\n",
       "  text-align: right;\n",
       "  white-space: pre-wrap;\n",
       "}\n",
       "</style>\n",
       "<small>shape: (5, 1)</small><table border=\"1\" class=\"dataframe\"><thead><tr><th>similar_words_from_vocab</th></tr><tr><td>list[str]</td></tr></thead><tbody><tr><td>[&quot;AAAAT&quot;, &quot;ADSSD&quot;]</td></tr><tr><td>[&quot;ABCACD&quot;, &quot;AAAAT&quot;]</td></tr><tr><td>[&quot;AAAAT&quot;, &quot;ABCACD&quot;]</td></tr><tr><td>[&quot;ADSSD&quot;, &quot;APPLES&quot;]</td></tr><tr><td>[&quot;WORLD&quot;, &quot;ADSSD&quot;]</td></tr></tbody></table></div>"
      ],
      "text/plain": [
       "shape: (5, 1)\n",
       "┌──────────────────────────┐\n",
       "│ similar_words_from_vocab │\n",
       "│ ---                      │\n",
       "│ list[str]                │\n",
       "╞══════════════════════════╡\n",
       "│ [\"AAAAT\", \"ADSSD\"]       │\n",
       "│ [\"ABCACD\", \"AAAAT\"]      │\n",
       "│ [\"AAAAT\", \"ABCACD\"]      │\n",
       "│ [\"ADSSD\", \"APPLES\"]      │\n",
       "│ [\"WORLD\", \"ADSSD\"]       │\n",
       "└──────────────────────────┘"
      ]
     },
     "execution_count": 55,
     "metadata": {},
     "output_type": "execute_result"
    }
   ],
   "source": [
    "# Use Levenshtein to find 2 nearest neighbors\n",
    "df.select(\n",
    "    pl.col(\"a\").str2.similar_words(\n",
    "        vocab = pl.col(\"b\"),\n",
    "        k = 2,\n",
    "        metric = \"lv\"\n",
    "    ).alias(\"similar_words_from_vocab\"),\n",
    ")"
   ]
  },
  {
   "cell_type": "code",
   "execution_count": 56,
   "id": "9150bece",
   "metadata": {},
   "outputs": [
    {
     "data": {
      "text/html": [
       "<div><style>\n",
       ".dataframe > thead > tr,\n",
       ".dataframe > tbody > tr {\n",
       "  text-align: right;\n",
       "  white-space: pre-wrap;\n",
       "}\n",
       "</style>\n",
       "<small>shape: (5, 1)</small><table border=\"1\" class=\"dataframe\"><thead><tr><th>similar_words_from_vocab</th></tr><tr><td>list[str]</td></tr></thead><tbody><tr><td>[&quot;AAAAT&quot;, &quot;ADSSD&quot;]</td></tr><tr><td>[&quot;ABCACD&quot;]</td></tr><tr><td>[]</td></tr><tr><td>[]</td></tr><tr><td>[]</td></tr></tbody></table></div>"
      ],
      "text/plain": [
       "shape: (5, 1)\n",
       "┌──────────────────────────┐\n",
       "│ similar_words_from_vocab │\n",
       "│ ---                      │\n",
       "│ list[str]                │\n",
       "╞══════════════════════════╡\n",
       "│ [\"AAAAT\", \"ADSSD\"]       │\n",
       "│ [\"ABCACD\"]               │\n",
       "│ []                       │\n",
       "│ []                       │\n",
       "│ []                       │\n",
       "└──────────────────────────┘"
      ]
     },
     "execution_count": 56,
     "metadata": {},
     "output_type": "execute_result"
    }
   ],
   "source": [
    "# Currently only Levenshtein and hamming are implemented for this\n",
    "# Empty means nothing in vocab can be compared in the hamming sense with the corresponding word in a\n",
    "df.select(\n",
    "    pl.col(\"a\").str2.similar_words(\n",
    "        vocab = pl.col(\"b\"),\n",
    "        k = 2,\n",
    "        threshold = 4, # <= threshold hamming distance away\n",
    "        metric = \"hamming\"\n",
    "    ).alias(\"similar_words_from_vocab\"),\n",
    ")"
   ]
  },
  {
   "cell_type": "code",
   "execution_count": 57,
   "id": "b35776a1",
   "metadata": {},
   "outputs": [
    {
     "data": {
      "text/html": [
       "<div><style>\n",
       ".dataframe > thead > tr,\n",
       ".dataframe > tbody > tr {\n",
       "  text-align: right;\n",
       "  white-space: pre-wrap;\n",
       "}\n",
       "</style>\n",
       "<small>shape: (5, 2)</small><table border=\"1\" class=\"dataframe\"><thead><tr><th>a</th><th>similar_words_from_vocab</th></tr><tr><td>str</td><td>list[str]</td></tr></thead><tbody><tr><td>&quot;AAAAA&quot;</td><td>[&quot;AAAAA&quot;, &quot;ZIV&quot;, &quot;WORLD&quot;]</td></tr><tr><td>&quot;ABCABC&quot;</td><td>[&quot;ABCDEFG&quot;, &quot;AAAAA&quot;, &quot;ZIV&quot;]</td></tr><tr><td>&quot;AAAADDD&quot;</td><td>[&quot;AAAAA&quot;, &quot;WORLD&quot;, &quot;ABCDEFG&quot;]</td></tr><tr><td>&quot;ADSDSDS&quot;</td><td>[&quot;ABCDEFG&quot;, &quot;WORLD&quot;, &quot;AAAAA&quot;]</td></tr><tr><td>&quot;WORD&quot;</td><td>[&quot;WORLD&quot;, &quot;ZIV&quot;, &quot;TQQQ&quot;]</td></tr></tbody></table></div>"
      ],
      "text/plain": [
       "shape: (5, 2)\n",
       "┌─────────┬───────────────────────────────┐\n",
       "│ a       ┆ similar_words_from_vocab      │\n",
       "│ ---     ┆ ---                           │\n",
       "│ str     ┆ list[str]                     │\n",
       "╞═════════╪═══════════════════════════════╡\n",
       "│ AAAAA   ┆ [\"AAAAA\", \"ZIV\", \"WORLD\"]     │\n",
       "│ ABCABC  ┆ [\"ABCDEFG\", \"AAAAA\", \"ZIV\"]   │\n",
       "│ AAAADDD ┆ [\"AAAAA\", \"WORLD\", \"ABCDEFG\"] │\n",
       "│ ADSDSDS ┆ [\"ABCDEFG\", \"WORLD\", \"AAAAA\"] │\n",
       "│ WORD    ┆ [\"WORLD\", \"ZIV\", \"TQQQ\"]      │\n",
       "└─────────┴───────────────────────────────┘"
      ]
     },
     "execution_count": 57,
     "metadata": {},
     "output_type": "execute_result"
    }
   ],
   "source": [
    "# You may provide a vocab like this\n",
    "df.select(\n",
    "    pl.col(\"a\"),\n",
    "    pl.col(\"a\").str2.similar_words(\n",
    "        vocab = [\"WORLD\", \"AAAAA\", \"ABCDEFG\", \"ZIV\", \"TQQQ\"],\n",
    "        k = 3,\n",
    "        metric = \"lv\"\n",
    "    ).alias(\"similar_words_from_vocab\"),\n",
    ")"
   ]
  },
  {
   "cell_type": "code",
   "execution_count": null,
   "id": "0a42a771",
   "metadata": {},
   "outputs": [],
   "source": []
  }
 ],
 "metadata": {
  "kernelspec": {
   "display_name": "Python 3 (ipykernel)",
   "language": "python",
   "name": "python3"
  },
  "language_info": {
   "codemirror_mode": {
    "name": "ipython",
    "version": 3
   },
   "file_extension": ".py",
   "mimetype": "text/x-python",
   "name": "python",
   "nbconvert_exporter": "python",
   "pygments_lexer": "ipython3",
   "version": "3.11.8"
  }
 },
 "nbformat": 4,
 "nbformat_minor": 5
}
