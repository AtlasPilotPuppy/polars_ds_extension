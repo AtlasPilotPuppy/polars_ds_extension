{
 "cells": [
  {
   "cell_type": "code",
   "execution_count": 1,
   "id": "529f4422-5c3a-4bd6-abe0-a15edfc62abb",
   "metadata": {},
   "outputs": [],
   "source": [
    "import polars as pl\n",
    "import polars_ds as pds\n",
    "import numpy as np"
   ]
  },
  {
   "cell_type": "markdown",
   "id": "6a314316",
   "metadata": {},
   "source": [
    "# This notebook illustrates the basic usage of this package\n",
    "\n",
    "You need to create an environment with this package installed to run this notebook. (usually latest version)"
   ]
  },
  {
   "cell_type": "markdown",
   "id": "3aef5c69-fff3-4779-9b58-f939d725f0b0",
   "metadata": {},
   "source": [
    "# Num Extensions"
   ]
  },
  {
   "cell_type": "code",
   "execution_count": 2,
   "id": "430fec01-5d0b-422f-b099-c86037512b6d",
   "metadata": {},
   "outputs": [
    {
     "data": {
      "text/html": [
       "<div><style>\n",
       ".dataframe > thead > tr,\n",
       ".dataframe > tbody > tr {\n",
       "  text-align: right;\n",
       "  white-space: pre-wrap;\n",
       "}\n",
       "</style>\n",
       "<small>shape: (5, 11)</small><table border=\"1\" class=\"dataframe\"><thead><tr><th>f</th><th>time_idx</th><th>dummy</th><th>a</th><th>b</th><th>x1</th><th>x2</th><th>y</th><th>actual</th><th>predicted</th><th>dummy_groups</th></tr><tr><td>f64</td><td>i64</td><td>str</td><td>f64</td><td>f64</td><td>i64</td><td>i64</td><td>i64</td><td>i32</td><td>f64</td><td>str</td></tr></thead><tbody><tr><td>0.0</td><td>0</td><td>&quot;a&quot;</td><td>0.320392</td><td>0.680298</td><td>0</td><td>10000</td><td>-10000</td><td>1</td><td>0.205471</td><td>&quot;a&quot;</td></tr><tr><td>0.841471</td><td>1</td><td>&quot;a&quot;</td><td>0.552808</td><td>0.600066</td><td>1</td><td>10001</td><td>-9999</td><td>1</td><td>0.10919</td><td>&quot;a&quot;</td></tr><tr><td>0.909297</td><td>2</td><td>&quot;a&quot;</td><td>0.994927</td><td>0.644871</td><td>2</td><td>10002</td><td>-9998</td><td>1</td><td>0.50784</td><td>&quot;a&quot;</td></tr><tr><td>0.14112</td><td>3</td><td>&quot;a&quot;</td><td>0.461395</td><td>0.376017</td><td>3</td><td>10003</td><td>-9997</td><td>0</td><td>0.289778</td><td>&quot;a&quot;</td></tr><tr><td>-0.756802</td><td>4</td><td>&quot;a&quot;</td><td>0.891036</td><td>0.29814</td><td>4</td><td>10004</td><td>-9996</td><td>1</td><td>0.431257</td><td>&quot;a&quot;</td></tr></tbody></table></div>"
      ],
      "text/plain": [
       "shape: (5, 11)\n",
       "┌───────────┬──────────┬───────┬──────────┬───┬────────┬────────┬───────────┬──────────────┐\n",
       "│ f         ┆ time_idx ┆ dummy ┆ a        ┆ … ┆ y      ┆ actual ┆ predicted ┆ dummy_groups │\n",
       "│ ---       ┆ ---      ┆ ---   ┆ ---      ┆   ┆ ---    ┆ ---    ┆ ---       ┆ ---          │\n",
       "│ f64       ┆ i64      ┆ str   ┆ f64      ┆   ┆ i64    ┆ i32    ┆ f64       ┆ str          │\n",
       "╞═══════════╪══════════╪═══════╪══════════╪═══╪════════╪════════╪═══════════╪══════════════╡\n",
       "│ 0.0       ┆ 0        ┆ a     ┆ 0.320392 ┆ … ┆ -10000 ┆ 1      ┆ 0.205471  ┆ a            │\n",
       "│ 0.841471  ┆ 1        ┆ a     ┆ 0.552808 ┆ … ┆ -9999  ┆ 1      ┆ 0.10919   ┆ a            │\n",
       "│ 0.909297  ┆ 2        ┆ a     ┆ 0.994927 ┆ … ┆ -9998  ┆ 1      ┆ 0.50784   ┆ a            │\n",
       "│ 0.14112   ┆ 3        ┆ a     ┆ 0.461395 ┆ … ┆ -9997  ┆ 0      ┆ 0.289778  ┆ a            │\n",
       "│ -0.756802 ┆ 4        ┆ a     ┆ 0.891036 ┆ … ┆ -9996  ┆ 1      ┆ 0.431257  ┆ a            │\n",
       "└───────────┴──────────┴───────┴──────────┴───┴────────┴────────┴───────────┴──────────────┘"
      ]
     },
     "execution_count": 2,
     "metadata": {},
     "output_type": "execute_result"
    }
   ],
   "source": [
    "size = 10_000\n",
    "df = pl.DataFrame({\n",
    "    \"f\": np.sin(list(range(size)))\n",
    "    , \"time_idx\": range(size)\n",
    "    , \"dummy\": [\"a\"] * (size // 2) + [\"b\"] * (size // 2)\n",
    "    , \"a\": np.random.random(size = size)\n",
    "    , \"b\": np.random.random(size = size)\n",
    "    , \"x1\" : range(size)\n",
    "    , \"x2\" : range(size, size + size)\n",
    "    , \"y\": range(-size, 0)\n",
    "    , \"actual\": np.round(np.random.random(size=size)).astype(np.int32)\n",
    "    , \"predicted\": np.random.random(size=size)\n",
    "    , \"dummy_groups\":[\"a\"] * (size//2) + [\"b\"] * (size//2) \n",
    "})\n",
    "df.head()"
   ]
  },
  {
   "cell_type": "code",
   "execution_count": 3,
   "id": "b6f98453-34cd-4afc-b35d-db58fa60a69a",
   "metadata": {},
   "outputs": [
    {
     "data": {
      "text/html": [
       "<div><style>\n",
       ".dataframe > thead > tr,\n",
       ".dataframe > tbody > tr {\n",
       "  text-align: right;\n",
       "  white-space: pre-wrap;\n",
       "}\n",
       "</style>\n",
       "<small>shape: (1, 1)</small><table border=\"1\" class=\"dataframe\"><thead><tr><th>x1</th></tr><tr><td>f64</td></tr></thead><tbody><tr><td>0.0</td></tr></tbody></table></div>"
      ],
      "text/plain": [
       "shape: (1, 1)\n",
       "┌─────┐\n",
       "│ x1  │\n",
       "│ --- │\n",
       "│ f64 │\n",
       "╞═════╡\n",
       "│ 0.0 │\n",
       "└─────┘"
      ]
     },
     "execution_count": 3,
     "metadata": {},
     "output_type": "execute_result"
    }
   ],
   "source": [
    "# Column-wise Jaccard Similarity. Result should be 0 as they are distinct\n",
    "df.select(\n",
    "    pds.query_jaccard_col(\"x1\", pl.col(\"x2\"))\n",
    ")"
   ]
  },
  {
   "cell_type": "code",
   "execution_count": 4,
   "id": "416d5346-e75b-4769-a953-e898d6a4d84c",
   "metadata": {},
   "outputs": [
    {
     "data": {
      "text/html": [
       "<div><style>\n",
       ".dataframe > thead > tr,\n",
       ".dataframe > tbody > tr {\n",
       "  text-align: right;\n",
       "  white-space: pre-wrap;\n",
       "}\n",
       "</style>\n",
       "<small>shape: (5, 1)</small><table border=\"1\" class=\"dataframe\"><thead><tr><th>f</th></tr><tr><td>array[f64, 2]</td></tr></thead><tbody><tr><td>[1.939505, 0.0]</td></tr><tr><td>[1.939506, 0.000209]</td></tr><tr><td>[1.939508, 0.000418]</td></tr><tr><td>[1.939512, 0.000627]</td></tr><tr><td>[1.939518, 0.000835]</td></tr></tbody></table></div>"
      ],
      "text/plain": [
       "shape: (5, 1)\n",
       "┌──────────────────────┐\n",
       "│ f                    │\n",
       "│ ---                  │\n",
       "│ array[f64, 2]        │\n",
       "╞══════════════════════╡\n",
       "│ [1.939505, 0.0]      │\n",
       "│ [1.939506, 0.000209] │\n",
       "│ [1.939508, 0.000418] │\n",
       "│ [1.939512, 0.000627] │\n",
       "│ [1.939518, 0.000835] │\n",
       "└──────────────────────┘"
      ]
     },
     "execution_count": 4,
     "metadata": {},
     "output_type": "execute_result"
    }
   ],
   "source": [
    "# FFT. First is real part, second is complex part\n",
    "# By default, this behaves the same as np's rfft, which returns a non-redundant \n",
    "# compact representation of fft output.\n",
    "df.select(\n",
    "    pds.rfft(\"f\")\n",
    ").head()"
   ]
  },
  {
   "cell_type": "code",
   "execution_count": 5,
   "id": "71c76353",
   "metadata": {},
   "outputs": [
    {
     "data": {
      "text/plain": [
       "(10000, 1)"
      ]
     },
     "execution_count": 5,
     "metadata": {},
     "output_type": "execute_result"
    }
   ],
   "source": [
    "# FFT. But return the full length\n",
    "df.select(\n",
    "    pds.rfft(\"f\", return_full=True)\n",
    ").shape"
   ]
  },
  {
   "cell_type": "code",
   "execution_count": 6,
   "id": "cd6662d2",
   "metadata": {},
   "outputs": [
    {
     "data": {
      "text/html": [
       "<div><style>\n",
       ".dataframe > thead > tr,\n",
       ".dataframe > tbody > tr {\n",
       "  text-align: right;\n",
       "  white-space: pre-wrap;\n",
       "}\n",
       "</style>\n",
       "<small>shape: (5, 3)</small><table border=\"1\" class=\"dataframe\"><thead><tr><th>f</th><th>a</th><th>b</th></tr><tr><td>f64</td><td>f64</td><td>f64</td></tr></thead><tbody><tr><td>0.0</td><td>-0.320392</td><td>-0.680298</td></tr><tr><td>-0.841471</td><td>-0.552808</td><td>-0.600066</td></tr><tr><td>-0.909297</td><td>-0.994927</td><td>-0.644871</td></tr><tr><td>-0.14112</td><td>-0.461395</td><td>-0.376017</td></tr><tr><td>0.756802</td><td>-0.570644</td><td>0.382158</td></tr></tbody></table></div>"
      ],
      "text/plain": [
       "shape: (5, 3)\n",
       "┌───────────┬───────────┬───────────┐\n",
       "│ f         ┆ a         ┆ b         │\n",
       "│ ---       ┆ ---       ┆ ---       │\n",
       "│ f64       ┆ f64       ┆ f64       │\n",
       "╞═══════════╪═══════════╪═══════════╡\n",
       "│ 0.0       ┆ -0.320392 ┆ -0.680298 │\n",
       "│ -0.841471 ┆ -0.552808 ┆ -0.600066 │\n",
       "│ -0.909297 ┆ -0.994927 ┆ -0.644871 │\n",
       "│ -0.14112  ┆ -0.461395 ┆ -0.376017 │\n",
       "│ 0.756802  ┆ -0.570644 ┆ 0.382158  │\n",
       "└───────────┴───────────┴───────────┘"
      ]
     },
     "execution_count": 6,
     "metadata": {},
     "output_type": "execute_result"
    }
   ],
   "source": [
    "# Convolution (by FFT). \n",
    "# Modes: `same`, `left` (left-aligned same), `right` (right-aligned same), `valid` or `full`\n",
    "# Currently slower than SciPy but provides parallelism because of Polars\n",
    "df.select(\n",
    "    pds.convolve(\"f\", [-1, 0, 0, 0, 1], mode = \"full\"),\n",
    "    pds.convolve(\"a\", [-1, 0, 0, 0, 1], mode = \"full\"),\n",
    "    pds.convolve(\"b\", [-1, 0, 0, 0, 1], mode = \"full\"),\n",
    ").head()"
   ]
  },
  {
   "cell_type": "code",
   "execution_count": 7,
   "id": "ed47b643-6bcc-43f6-9a25-82168c33e7fd",
   "metadata": {},
   "outputs": [
    {
     "data": {
      "text/html": [
       "<div><style>\n",
       ".dataframe > thead > tr,\n",
       ".dataframe > tbody > tr {\n",
       "  text-align: right;\n",
       "  white-space: pre-wrap;\n",
       "}\n",
       "</style>\n",
       "<small>shape: (1, 1)</small><table border=\"1\" class=\"dataframe\"><thead><tr><th>y</th></tr><tr><td>list[f64]</td></tr></thead><tbody><tr><td>[2.0, -1.0]</td></tr></tbody></table></div>"
      ],
      "text/plain": [
       "shape: (1, 1)\n",
       "┌─────────────┐\n",
       "│ y           │\n",
       "│ ---         │\n",
       "│ list[f64]   │\n",
       "╞═════════════╡\n",
       "│ [2.0, -1.0] │\n",
       "└─────────────┘"
      ]
     },
     "execution_count": 7,
     "metadata": {},
     "output_type": "execute_result"
    }
   ],
   "source": [
    "# Least Square (Linear Regression)\n",
    "df.select(\n",
    "    pds.query_lstsq(\n",
    "        pl.col(\"x1\"), pl.col(\"x2\"),\n",
    "        target = pl.col(\"y\"),\n",
    "        add_bias=False\n",
    "    )\n",
    ")"
   ]
  },
  {
   "cell_type": "code",
   "execution_count": 8,
   "id": "7e6da23d",
   "metadata": {},
   "outputs": [
    {
     "data": {
      "text/html": [
       "<div><style>\n",
       ".dataframe > thead > tr,\n",
       ".dataframe > tbody > tr {\n",
       "  text-align: right;\n",
       "  white-space: pre-wrap;\n",
       "}\n",
       "</style>\n",
       "<small>shape: (2, 5)</small><table border=\"1\" class=\"dataframe\"><thead><tr><th>idx</th><th>coeff</th><th>std_err</th><th>t</th><th>p&gt;|t|</th></tr><tr><td>u16</td><td>f64</td><td>f64</td><td>f64</td><td>f64</td></tr></thead><tbody><tr><td>0</td><td>2.0</td><td>8.5322e-17</td><td>2.3441e16</td><td>0.0</td></tr><tr><td>1</td><td>-1.0</td><td>3.2247e-17</td><td>-3.1010e16</td><td>0.0</td></tr></tbody></table></div>"
      ],
      "text/plain": [
       "shape: (2, 5)\n",
       "┌─────┬───────┬────────────┬────────────┬───────┐\n",
       "│ idx ┆ coeff ┆ std_err    ┆ t          ┆ p>|t| │\n",
       "│ --- ┆ ---   ┆ ---        ┆ ---        ┆ ---   │\n",
       "│ u16 ┆ f64   ┆ f64        ┆ f64        ┆ f64   │\n",
       "╞═════╪═══════╪════════════╪════════════╪═══════╡\n",
       "│ 0   ┆ 2.0   ┆ 8.5322e-17 ┆ 2.3441e16  ┆ 0.0   │\n",
       "│ 1   ┆ -1.0  ┆ 3.2247e-17 ┆ -3.1010e16 ┆ 0.0   │\n",
       "└─────┴───────┴────────────┴────────────┴───────┘"
      ]
     },
     "execution_count": 8,
     "metadata": {},
     "output_type": "execute_result"
    }
   ],
   "source": [
    "df.select(\n",
    "    pds.query_lstsq_report(\n",
    "        # str | pl.Expr\n",
    "        \"x1\", \"x2\",\n",
    "        target = pl.col(\"y\"),\n",
    "        add_bias=False\n",
    "    ).alias(\"report\")\n",
    ").unnest(\"report\")"
   ]
  },
  {
   "cell_type": "code",
   "execution_count": 9,
   "id": "4c34e7b2",
   "metadata": {},
   "outputs": [
    {
     "data": {
      "text/html": [
       "<div><style>\n",
       ".dataframe > thead > tr,\n",
       ".dataframe > tbody > tr {\n",
       "  text-align: right;\n",
       "  white-space: pre-wrap;\n",
       "}\n",
       "</style>\n",
       "<small>shape: (1, 1)</small><table border=\"1\" class=\"dataframe\"><thead><tr><th>y</th></tr><tr><td>list[f64]</td></tr></thead><tbody><tr><td>[2.0, -1.0]</td></tr></tbody></table></div>"
      ],
      "text/plain": [
       "shape: (1, 1)\n",
       "┌─────────────┐\n",
       "│ y           │\n",
       "│ ---         │\n",
       "│ list[f64]   │\n",
       "╞═════════════╡\n",
       "│ [2.0, -1.0] │\n",
       "└─────────────┘"
      ]
     },
     "execution_count": 9,
     "metadata": {},
     "output_type": "execute_result"
    }
   ],
   "source": [
    "df.lazy().select(\n",
    "    pds.query_lstsq(\n",
    "        pl.col(\"x1\"), pl.col(\"x2\"),\n",
    "        target = \"y\", # We can either put pl.col(\"y\") here or just the string \"y\"\n",
    "        add_bias=False\n",
    "    )\n",
    ").collect()"
   ]
  },
  {
   "cell_type": "code",
   "execution_count": 10,
   "id": "16511624-fc7f-45fc-b28e-ad9a91c1bfe9",
   "metadata": {},
   "outputs": [
    {
     "data": {
      "text/html": [
       "<div><style>\n",
       ".dataframe > thead > tr,\n",
       ".dataframe > tbody > tr {\n",
       "  text-align: right;\n",
       "  white-space: pre-wrap;\n",
       "}\n",
       "</style>\n",
       "<small>shape: (5, 2)</small><table border=\"1\" class=\"dataframe\"><thead><tr><th>dummy</th><th>coeffs</th></tr><tr><td>str</td><td>list[f64]</td></tr></thead><tbody><tr><td>&quot;a&quot;</td><td>[2.0, -1.0]</td></tr><tr><td>&quot;a&quot;</td><td>[2.0, -1.0]</td></tr><tr><td>&quot;a&quot;</td><td>[2.0, -1.0]</td></tr><tr><td>&quot;a&quot;</td><td>[2.0, -1.0]</td></tr><tr><td>&quot;a&quot;</td><td>[2.0, -1.0]</td></tr></tbody></table></div>"
      ],
      "text/plain": [
       "shape: (5, 2)\n",
       "┌───────┬─────────────┐\n",
       "│ dummy ┆ coeffs      │\n",
       "│ ---   ┆ ---         │\n",
       "│ str   ┆ list[f64]   │\n",
       "╞═══════╪═════════════╡\n",
       "│ a     ┆ [2.0, -1.0] │\n",
       "│ a     ┆ [2.0, -1.0] │\n",
       "│ a     ┆ [2.0, -1.0] │\n",
       "│ a     ┆ [2.0, -1.0] │\n",
       "│ a     ┆ [2.0, -1.0] │\n",
       "└───────┴─────────────┘"
      ]
     },
     "execution_count": 10,
     "metadata": {},
     "output_type": "execute_result"
    }
   ],
   "source": [
    "df.select(\n",
    "    \"dummy\",\n",
    "    pds.query_lstsq(\n",
    "        pl.col(\"x1\"), pl.col(\"x2\"),\n",
    "        target = pl.col(\"y\"),\n",
    "        add_bias=False\n",
    "    ).over(pl.col(\"dummy\"))\n",
    ").head() "
   ]
  },
  {
   "cell_type": "code",
   "execution_count": 11,
   "id": "f550c7c6",
   "metadata": {},
   "outputs": [
    {
     "data": {
      "text/html": [
       "<div><style>\n",
       ".dataframe > thead > tr,\n",
       ".dataframe > tbody > tr {\n",
       "  text-align: right;\n",
       "  white-space: pre-wrap;\n",
       "}\n",
       "</style>\n",
       "<small>shape: (5, 5)</small><table border=\"1\" class=\"dataframe\"><thead><tr><th>x1</th><th>x2</th><th>y</th><th>pred</th><th>resid</th></tr><tr><td>i64</td><td>i64</td><td>i64</td><td>f64</td><td>f64</td></tr></thead><tbody><tr><td>0</td><td>10000</td><td>-10000</td><td>-10000.0</td><td>-1.8190e-12</td></tr><tr><td>1</td><td>10001</td><td>-9999</td><td>-9999.0</td><td>-1.8190e-12</td></tr><tr><td>2</td><td>10002</td><td>-9998</td><td>-9998.0</td><td>-1.8190e-12</td></tr><tr><td>3</td><td>10003</td><td>-9997</td><td>-9997.0</td><td>-1.8190e-12</td></tr><tr><td>4</td><td>10004</td><td>-9996</td><td>-9996.0</td><td>-1.8190e-12</td></tr></tbody></table></div>"
      ],
      "text/plain": [
       "shape: (5, 5)\n",
       "┌─────┬───────┬────────┬──────────┬─────────────┐\n",
       "│ x1  ┆ x2    ┆ y      ┆ pred     ┆ resid       │\n",
       "│ --- ┆ ---   ┆ ---    ┆ ---      ┆ ---         │\n",
       "│ i64 ┆ i64   ┆ i64    ┆ f64      ┆ f64         │\n",
       "╞═════╪═══════╪════════╪══════════╪═════════════╡\n",
       "│ 0   ┆ 10000 ┆ -10000 ┆ -10000.0 ┆ -1.8190e-12 │\n",
       "│ 1   ┆ 10001 ┆ -9999  ┆ -9999.0  ┆ -1.8190e-12 │\n",
       "│ 2   ┆ 10002 ┆ -9998  ┆ -9998.0  ┆ -1.8190e-12 │\n",
       "│ 3   ┆ 10003 ┆ -9997  ┆ -9997.0  ┆ -1.8190e-12 │\n",
       "│ 4   ┆ 10004 ┆ -9996  ┆ -9996.0  ┆ -1.8190e-12 │\n",
       "└─────┴───────┴────────┴──────────┴─────────────┘"
      ]
     },
     "execution_count": 11,
     "metadata": {},
     "output_type": "execute_result"
    }
   ],
   "source": [
    "# If you want prediction and residue instead of coefficients\n",
    "df.select(\n",
    "    \"x1\",\n",
    "    \"x2\",\n",
    "    \"y\",\n",
    "    pds.query_lstsq(\n",
    "        \"x1\", pl.col(\"x2\"),\n",
    "        target = \"y\",\n",
    "        add_bias=False, \n",
    "        return_pred=True\n",
    "    ).alias(\"prediction\")\n",
    ").unnest(\"prediction\").head()"
   ]
  },
  {
   "cell_type": "code",
   "execution_count": 12,
   "id": "0e9fb061-340d-423d-9107-772387006ff2",
   "metadata": {},
   "outputs": [
    {
     "data": {
      "text/html": [
       "<div><style>\n",
       ".dataframe > thead > tr,\n",
       ".dataframe > tbody > tr {\n",
       "  text-align: right;\n",
       "  white-space: pre-wrap;\n",
       "}\n",
       "</style>\n",
       "<small>shape: (2, 2)</small><table border=\"1\" class=\"dataframe\"><thead><tr><th>dummy</th><th>coeffs</th></tr><tr><td>str</td><td>list[f64]</td></tr></thead><tbody><tr><td>&quot;b&quot;</td><td>[2.0, -1.0]</td></tr><tr><td>&quot;a&quot;</td><td>[2.0, -1.0]</td></tr></tbody></table></div>"
      ],
      "text/plain": [
       "shape: (2, 2)\n",
       "┌───────┬─────────────┐\n",
       "│ dummy ┆ coeffs      │\n",
       "│ ---   ┆ ---         │\n",
       "│ str   ┆ list[f64]   │\n",
       "╞═══════╪═════════════╡\n",
       "│ b     ┆ [2.0, -1.0] │\n",
       "│ a     ┆ [2.0, -1.0] │\n",
       "└───────┴─────────────┘"
      ]
     },
     "execution_count": 12,
     "metadata": {},
     "output_type": "execute_result"
    }
   ],
   "source": [
    "df.group_by(\"dummy\").agg(\n",
    "    pds.query_lstsq(\n",
    "        pl.col(\"x1\"), pl.col(\"x2\"),\n",
    "        target = pl.col(\"y\"),\n",
    "        add_bias=False\n",
    "    )\n",
    ")"
   ]
  },
  {
   "cell_type": "code",
   "execution_count": 13,
   "id": "765ff27b",
   "metadata": {},
   "outputs": [
    {
     "data": {
      "text/html": [
       "<div><style>\n",
       ".dataframe > thead > tr,\n",
       ".dataframe > tbody > tr {\n",
       "  text-align: right;\n",
       "  white-space: pre-wrap;\n",
       "}\n",
       "</style>\n",
       "<small>shape: (10, 2)</small><table border=\"1\" class=\"dataframe\"><thead><tr><th>time_idx</th><th>coefficients</th></tr><tr><td>i64</td><td>list[f64]</td></tr></thead><tbody><tr><td>30</td><td>[2.0, -1.0]</td></tr><tr><td>31</td><td>[2.0, -1.0]</td></tr><tr><td>32</td><td>[2.0, -1.0]</td></tr><tr><td>33</td><td>[2.0, -1.0]</td></tr><tr><td>34</td><td>[2.0, -1.0]</td></tr><tr><td>35</td><td>[2.0, -1.0]</td></tr><tr><td>36</td><td>[2.0, -1.0]</td></tr><tr><td>37</td><td>[2.0, -1.0]</td></tr><tr><td>38</td><td>[2.0, -1.0]</td></tr><tr><td>39</td><td>[2.0, -1.0]</td></tr></tbody></table></div>"
      ],
      "text/plain": [
       "shape: (10, 2)\n",
       "┌──────────┬──────────────┐\n",
       "│ time_idx ┆ coefficients │\n",
       "│ ---      ┆ ---          │\n",
       "│ i64      ┆ list[f64]    │\n",
       "╞══════════╪══════════════╡\n",
       "│ 30       ┆ [2.0, -1.0]  │\n",
       "│ 31       ┆ [2.0, -1.0]  │\n",
       "│ 32       ┆ [2.0, -1.0]  │\n",
       "│ 33       ┆ [2.0, -1.0]  │\n",
       "│ 34       ┆ [2.0, -1.0]  │\n",
       "│ 35       ┆ [2.0, -1.0]  │\n",
       "│ 36       ┆ [2.0, -1.0]  │\n",
       "│ 37       ┆ [2.0, -1.0]  │\n",
       "│ 38       ┆ [2.0, -1.0]  │\n",
       "│ 39       ┆ [2.0, -1.0]  │\n",
       "└──────────┴──────────────┘"
      ]
     },
     "execution_count": 13,
     "metadata": {},
     "output_type": "execute_result"
    }
   ],
   "source": [
    "# Rolling regression, kind of slow rn\n",
    "df.lazy().rolling(\n",
    "    index_column = pl.col(\"time_idx\").set_sorted(),\n",
    "    period = \"30i\",\n",
    "    # offset = \"-1i\"\n",
    ").agg(\n",
    "    pds.query_lstsq(pl.col(\"x1\"), pl.col(\"x2\"), target = pl.col(\"y\"), add_bias=False).alias(\"coefficients\")\n",
    ").slice(offset = 30).select(\n",
    "    \"time_idx\",\n",
    "    \"coefficients\",\n",
    ").collect().head(10)"
   ]
  },
  {
   "cell_type": "code",
   "execution_count": 14,
   "id": "d8fda8ca-57e7-4e02-a3f0-283ecce66a59",
   "metadata": {},
   "outputs": [
    {
     "data": {
      "text/html": [
       "<div><style>\n",
       ".dataframe > thead > tr,\n",
       ".dataframe > tbody > tr {\n",
       "  text-align: right;\n",
       "  white-space: pre-wrap;\n",
       "}\n",
       "</style>\n",
       "<small>shape: (1, 1)</small><table border=\"1\" class=\"dataframe\"><thead><tr><th>y</th></tr><tr><td>f64</td></tr></thead><tbody><tr><td>-0.0</td></tr></tbody></table></div>"
      ],
      "text/plain": [
       "shape: (1, 1)\n",
       "┌──────┐\n",
       "│ y    │\n",
       "│ ---  │\n",
       "│ f64  │\n",
       "╞══════╡\n",
       "│ -0.0 │\n",
       "└──────┘"
      ]
     },
     "execution_count": 14,
     "metadata": {},
     "output_type": "execute_result"
    }
   ],
   "source": [
    "# Conditional Entropy, should be 0 because x1 is an ID\n",
    "df.select(\n",
    "    pds.query_cond_entropy(\"y\", \"x1\")\n",
    ")"
   ]
  },
  {
   "cell_type": "code",
   "execution_count": 15,
   "id": "81def1cf",
   "metadata": {},
   "outputs": [
    {
     "data": {
      "text/html": [
       "<div><style>\n",
       ".dataframe > thead > tr,\n",
       ".dataframe > tbody > tr {\n",
       "  text-align: right;\n",
       "  white-space: pre-wrap;\n",
       "}\n",
       "</style>\n",
       "<small>shape: (1, 1)</small><table border=\"1\" class=\"dataframe\"><thead><tr><th>a</th></tr><tr><td>list[f64]</td></tr></thead><tbody><tr><td>[288675.133152, 28.970848, 28.740724]</td></tr></tbody></table></div>"
      ],
      "text/plain": [
       "shape: (1, 1)\n",
       "┌─────────────────────────────────┐\n",
       "│ a                               │\n",
       "│ ---                             │\n",
       "│ list[f64]                       │\n",
       "╞═════════════════════════════════╡\n",
       "│ [288675.133152, 28.970848, 28.… │\n",
       "└─────────────────────────────────┘"
      ]
     },
     "execution_count": 15,
     "metadata": {},
     "output_type": "execute_result"
    }
   ],
   "source": [
    "# Only want singular values (principal values?)\n",
    "df.select(\n",
    "    pds.query_singular_values(\"a\", \"b\", \"x1\")\n",
    ")"
   ]
  },
  {
   "cell_type": "code",
   "execution_count": 16,
   "id": "cc497383",
   "metadata": {},
   "outputs": [
    {
     "data": {
      "text/html": [
       "<div><style>\n",
       ".dataframe > thead > tr,\n",
       ".dataframe > tbody > tr {\n",
       "  text-align: right;\n",
       "  white-space: pre-wrap;\n",
       "}\n",
       "</style>\n",
       "<small>shape: (2, 2)</small><table border=\"1\" class=\"dataframe\"><thead><tr><th>singular_value</th><th>weight_vector</th></tr><tr><td>f64</td><td>list[f64]</td></tr></thead><tbody><tr><td>28.971787</td><td>[-0.688449, 0.725285]</td></tr><tr><td>28.74085</td><td>[0.725285, 0.688449]</td></tr></tbody></table></div>"
      ],
      "text/plain": [
       "shape: (2, 2)\n",
       "┌────────────────┬───────────────────────┐\n",
       "│ singular_value ┆ weight_vector         │\n",
       "│ ---            ┆ ---                   │\n",
       "│ f64            ┆ list[f64]             │\n",
       "╞════════════════╪═══════════════════════╡\n",
       "│ 28.971787      ┆ [-0.688449, 0.725285] │\n",
       "│ 28.74085       ┆ [0.725285, 0.688449]  │\n",
       "└────────────────┴───────────────────────┘"
      ]
     },
     "execution_count": 16,
     "metadata": {},
     "output_type": "execute_result"
    }
   ],
   "source": [
    "# Singular values + The principal components\n",
    "df.select(\n",
    "    pds.query_pca(\"a\", \"b\")\n",
    ").unnest(\"a\")"
   ]
  },
  {
   "cell_type": "code",
   "execution_count": 17,
   "id": "e047d40a",
   "metadata": {},
   "outputs": [
    {
     "data": {
      "text/html": [
       "<div><style>\n",
       ".dataframe > thead > tr,\n",
       ".dataframe > tbody > tr {\n",
       "  text-align: right;\n",
       "  white-space: pre-wrap;\n",
       "}\n",
       "</style>\n",
       "<small>shape: (5, 1)</small><table border=\"1\" class=\"dataframe\"><thead><tr><th>pc1</th></tr><tr><td>f64</td></tr></thead><tbody><tr><td>0.255929</td></tr><tr><td>0.037732</td></tr><tr><td>-0.234149</td></tr><tr><td>-0.061835</td></tr><tr><td>-0.414104</td></tr></tbody></table></div>"
      ],
      "text/plain": [
       "shape: (5, 1)\n",
       "┌───────────┐\n",
       "│ pc1       │\n",
       "│ ---       │\n",
       "│ f64       │\n",
       "╞═══════════╡\n",
       "│ 0.255929  │\n",
       "│ 0.037732  │\n",
       "│ -0.234149 │\n",
       "│ -0.061835 │\n",
       "│ -0.414104 │\n",
       "└───────────┘"
      ]
     },
     "execution_count": 17,
     "metadata": {},
     "output_type": "execute_result"
    }
   ],
   "source": [
    "# PC1\n",
    "df.select(\n",
    "    pds.query_principal_components(\"a\", \"b\", k =1)\n",
    ").unnest(\"principal_components\").head()"
   ]
  },
  {
   "cell_type": "markdown",
   "id": "1b2e036f",
   "metadata": {},
   "source": [
    "# ML Metrics"
   ]
  },
  {
   "cell_type": "code",
   "execution_count": 18,
   "id": "85d0d094-3c4c-4230-a589-1027c5690162",
   "metadata": {},
   "outputs": [
    {
     "data": {
      "text/html": [
       "<div><style>\n",
       ".dataframe > thead > tr,\n",
       ".dataframe > tbody > tr {\n",
       "  text-align: right;\n",
       "  white-space: pre-wrap;\n",
       "}\n",
       "</style>\n",
       "<small>shape: (2, 8)</small><table border=\"1\" class=\"dataframe\"><thead><tr><th>dummy_groups</th><th>l2</th><th>log loss</th><th>precision</th><th>recall</th><th>f</th><th>average_precision</th><th>roc_auc</th></tr><tr><td>str</td><td>f64</td><td>f64</td><td>f64</td><td>f64</td><td>f64</td><td>f64</td><td>f64</td></tr></thead><tbody><tr><td>&quot;a&quot;</td><td>0.330901</td><td>0.995374</td><td>0.491622</td><td>0.491622</td><td>0.491622</td><td>0.493571</td><td>0.504158</td></tr><tr><td>&quot;b&quot;</td><td>0.331714</td><td>0.993946</td><td>0.491138</td><td>0.506911</td><td>0.4989</td><td>0.503057</td><td>0.505655</td></tr></tbody></table></div>"
      ],
      "text/plain": [
       "shape: (2, 8)\n",
       "┌──────────────┬──────────┬──────────┬───────────┬──────────┬──────────┬────────────────┬──────────┐\n",
       "│ dummy_groups ┆ l2       ┆ log loss ┆ precision ┆ recall   ┆ f        ┆ average_precis ┆ roc_auc  │\n",
       "│ ---          ┆ ---      ┆ ---      ┆ ---       ┆ ---      ┆ ---      ┆ ion            ┆ ---      │\n",
       "│ str          ┆ f64      ┆ f64      ┆ f64       ┆ f64      ┆ f64      ┆ ---            ┆ f64      │\n",
       "│              ┆          ┆          ┆           ┆          ┆          ┆ f64            ┆          │\n",
       "╞══════════════╪══════════╪══════════╪═══════════╪══════════╪══════════╪════════════════╪══════════╡\n",
       "│ a            ┆ 0.330901 ┆ 0.995374 ┆ 0.491622  ┆ 0.491622 ┆ 0.491622 ┆ 0.493571       ┆ 0.504158 │\n",
       "│ b            ┆ 0.331714 ┆ 0.993946 ┆ 0.491138  ┆ 0.506911 ┆ 0.4989   ┆ 0.503057       ┆ 0.505655 │\n",
       "└──────────────┴──────────┴──────────┴───────────┴──────────┴──────────┴────────────────┴──────────┘"
      ]
     },
     "execution_count": 18,
     "metadata": {},
     "output_type": "execute_result"
    }
   ],
   "source": [
    "df.group_by(\"dummy_groups\").agg(\n",
    "    pds.query_l2(\"actual\", \"predicted\").alias(\"l2\"),\n",
    "    pds.query_log_loss(\"actual\", \"predicted\").alias(\"log loss\"),\n",
    "    pds.query_binary_metrics(actual=\"actual\", pred=\"predicted\").alias(\"combo\")\n",
    ").unnest(\"combo\")\n"
   ]
  },
  {
   "cell_type": "markdown",
   "id": "a8d7c6e3-0f1d-45f0-9fdb-cdb303b98556",
   "metadata": {},
   "source": [
    "# Str Extension"
   ]
  },
  {
   "cell_type": "code",
   "execution_count": 19,
   "id": "54ad36f9-264e-4a49-bf36-936639440edf",
   "metadata": {},
   "outputs": [
    {
     "data": {
      "text/html": [
       "<div><style>\n",
       ".dataframe > thead > tr,\n",
       ".dataframe > tbody > tr {\n",
       "  text-align: right;\n",
       "  white-space: pre-wrap;\n",
       "}\n",
       "</style>\n",
       "<small>shape: (5, 2)</small><table border=\"1\" class=\"dataframe\"><thead><tr><th>sen</th><th>word</th></tr><tr><td>str</td><td>str</td></tr></thead><tbody><tr><td>&quot;Hello, world! I&#x27;m going to chu…</td><td>&quot;words&quot;</td></tr><tr><td>&quot;Hello, world! I&#x27;m going to chu…</td><td>&quot;word&quot;</td></tr><tr><td>&quot;Hello, world! I&#x27;m going to chu…</td><td>&quot;words&quot;</td></tr><tr><td>&quot;Hello, world! I&#x27;m going to chu…</td><td>&quot;word&quot;</td></tr><tr><td>&quot;Hello, world! I&#x27;m going to chu…</td><td>&quot;words&quot;</td></tr></tbody></table></div>"
      ],
      "text/plain": [
       "shape: (5, 2)\n",
       "┌─────────────────────────────────┬───────┐\n",
       "│ sen                             ┆ word  │\n",
       "│ ---                             ┆ ---   │\n",
       "│ str                             ┆ str   │\n",
       "╞═════════════════════════════════╪═══════╡\n",
       "│ Hello, world! I'm going to chu… ┆ words │\n",
       "│ Hello, world! I'm going to chu… ┆ word  │\n",
       "│ Hello, world! I'm going to chu… ┆ words │\n",
       "│ Hello, world! I'm going to chu… ┆ word  │\n",
       "│ Hello, world! I'm going to chu… ┆ words │\n",
       "└─────────────────────────────────┴───────┘"
      ]
     },
     "execution_count": 19,
     "metadata": {},
     "output_type": "execute_result"
    }
   ],
   "source": [
    "size = 100_000\n",
    "df2 = pl.DataFrame({\n",
    "    \"sen\":[\"Hello, world! I'm going to church.\"] * size,\n",
    "    \"word\":[\"words\", \"word\"] * (size //2)\n",
    "})\n",
    "df2.head()"
   ]
  },
  {
   "cell_type": "code",
   "execution_count": 20,
   "id": "ee123a7e-7f9b-4f48-a5d5-6354799201ab",
   "metadata": {},
   "outputs": [
    {
     "data": {
      "text/html": [
       "<div><style>\n",
       ".dataframe > thead > tr,\n",
       ".dataframe > tbody > tr {\n",
       "  text-align: right;\n",
       "  white-space: pre-wrap;\n",
       "}\n",
       "</style>\n",
       "<small>shape: (5, 1)</small><table border=\"1\" class=\"dataframe\"><thead><tr><th>sen</th></tr><tr><td>str</td></tr></thead><tbody><tr><td>&quot;to&quot;</td></tr><tr><td>&quot;world&quot;</td></tr><tr><td>&quot;church&quot;</td></tr><tr><td>&quot;hello&quot;</td></tr><tr><td>&quot;going&quot;</td></tr></tbody></table></div>"
      ],
      "text/plain": [
       "shape: (5, 1)\n",
       "┌────────┐\n",
       "│ sen    │\n",
       "│ ---    │\n",
       "│ str    │\n",
       "╞════════╡\n",
       "│ to     │\n",
       "│ world  │\n",
       "│ church │\n",
       "│ hello  │\n",
       "│ going  │\n",
       "└────────┘"
      ]
     },
     "execution_count": 20,
     "metadata": {},
     "output_type": "execute_result"
    }
   ],
   "source": [
    "# Tokenize\n",
    "df2.select(\n",
    "    pds.str_tokenize(pl.col(\"sen\").str.to_lowercase()).explode().unique()\n",
    ")"
   ]
  },
  {
   "cell_type": "code",
   "execution_count": 21,
   "id": "f33017e3-17df-498b-93d9-1d656a344388",
   "metadata": {},
   "outputs": [
    {
     "data": {
      "text/html": [
       "<div><style>\n",
       ".dataframe > thead > tr,\n",
       ".dataframe > tbody > tr {\n",
       "  text-align: right;\n",
       "  white-space: pre-wrap;\n",
       "}\n",
       "</style>\n",
       "<small>shape: (5, 1)</small><table border=\"1\" class=\"dataframe\"><thead><tr><th>sen</th></tr><tr><td>str</td></tr></thead><tbody><tr><td>&quot;hello&quot;</td></tr><tr><td>&quot;world&quot;</td></tr><tr><td>&quot;church&quot;</td></tr><tr><td>&quot;go&quot;</td></tr><tr><td>&quot;&quot;</td></tr></tbody></table></div>"
      ],
      "text/plain": [
       "shape: (5, 1)\n",
       "┌────────┐\n",
       "│ sen    │\n",
       "│ ---    │\n",
       "│ str    │\n",
       "╞════════╡\n",
       "│ hello  │\n",
       "│ world  │\n",
       "│ church │\n",
       "│ go     │\n",
       "│        │\n",
       "└────────┘"
      ]
     },
     "execution_count": 21,
     "metadata": {},
     "output_type": "execute_result"
    }
   ],
   "source": [
    "df2.select(\n",
    "    pds.str_tokenize(pl.col(\"sen\").str.to_lowercase(), stem=True).explode().unique()\n",
    ")"
   ]
  },
  {
   "cell_type": "code",
   "execution_count": 22,
   "id": "69237c02-5f9f-4e92-b68d-6ac43aad1a79",
   "metadata": {},
   "outputs": [
    {
     "data": {
      "text/html": [
       "<div><style>\n",
       ".dataframe > thead > tr,\n",
       ".dataframe > tbody > tr {\n",
       "  text-align: right;\n",
       "  white-space: pre-wrap;\n",
       "}\n",
       "</style>\n",
       "<small>shape: (5, 1)</small><table border=\"1\" class=\"dataframe\"><thead><tr><th>word</th></tr><tr><td>u32</td></tr></thead><tbody><tr><td>2</td></tr><tr><td>1</td></tr><tr><td>2</td></tr><tr><td>1</td></tr><tr><td>2</td></tr></tbody></table></div>"
      ],
      "text/plain": [
       "shape: (5, 1)\n",
       "┌──────┐\n",
       "│ word │\n",
       "│ ---  │\n",
       "│ u32  │\n",
       "╞══════╡\n",
       "│ 2    │\n",
       "│ 1    │\n",
       "│ 2    │\n",
       "│ 1    │\n",
       "│ 2    │\n",
       "└──────┘"
      ]
     },
     "execution_count": 22,
     "metadata": {},
     "output_type": "execute_result"
    }
   ],
   "source": [
    "df2.select(\n",
    "    pds.str_leven(\"word\", pl.lit(\"world\"))\n",
    ").head()"
   ]
  },
  {
   "cell_type": "code",
   "execution_count": 23,
   "id": "2eba320c",
   "metadata": {},
   "outputs": [
    {
     "data": {
      "text/html": [
       "<div><style>\n",
       ".dataframe > thead > tr,\n",
       ".dataframe > tbody > tr {\n",
       "  text-align: right;\n",
       "  white-space: pre-wrap;\n",
       "}\n",
       "</style>\n",
       "<small>shape: (5, 1)</small><table border=\"1\" class=\"dataframe\"><thead><tr><th>word</th></tr><tr><td>u32</td></tr></thead><tbody><tr><td>2</td></tr><tr><td>1</td></tr><tr><td>2</td></tr><tr><td>1</td></tr><tr><td>2</td></tr></tbody></table></div>"
      ],
      "text/plain": [
       "shape: (5, 1)\n",
       "┌──────┐\n",
       "│ word │\n",
       "│ ---  │\n",
       "│ u32  │\n",
       "╞══════╡\n",
       "│ 2    │\n",
       "│ 1    │\n",
       "│ 2    │\n",
       "│ 1    │\n",
       "│ 2    │\n",
       "└──────┘"
      ]
     },
     "execution_count": 23,
     "metadata": {},
     "output_type": "execute_result"
    }
   ],
   "source": [
    "# Damerau-Levenshtein\n",
    "df2.select(\n",
    "    pds.str_d_leven(\"word\", pl.lit(\"world\"))\n",
    ").head()"
   ]
  },
  {
   "cell_type": "code",
   "execution_count": 24,
   "id": "795396dc",
   "metadata": {},
   "outputs": [
    {
     "data": {
      "text/html": [
       "<div><style>\n",
       ".dataframe > thead > tr,\n",
       ".dataframe > tbody > tr {\n",
       "  text-align: right;\n",
       "  white-space: pre-wrap;\n",
       "}\n",
       "</style>\n",
       "<small>shape: (5, 1)</small><table border=\"1\" class=\"dataframe\"><thead><tr><th>word</th></tr><tr><td>f64</td></tr></thead><tbody><tr><td>0.6</td></tr><tr><td>0.8</td></tr><tr><td>0.6</td></tr><tr><td>0.8</td></tr><tr><td>0.6</td></tr></tbody></table></div>"
      ],
      "text/plain": [
       "shape: (5, 1)\n",
       "┌──────┐\n",
       "│ word │\n",
       "│ ---  │\n",
       "│ f64  │\n",
       "╞══════╡\n",
       "│ 0.6  │\n",
       "│ 0.8  │\n",
       "│ 0.6  │\n",
       "│ 0.8  │\n",
       "│ 0.6  │\n",
       "└──────┘"
      ]
     },
     "execution_count": 24,
     "metadata": {},
     "output_type": "execute_result"
    }
   ],
   "source": [
    "df2.select( # column \"word\" vs. the word \"world\"\n",
    "    pds.str_leven(\"word\", pl.lit(\"world\"), return_sim = True)\n",
    ").head()"
   ]
  },
  {
   "cell_type": "code",
   "execution_count": 25,
   "id": "2dad7633-67fa-47f3-b86a-9f4cd097a650",
   "metadata": {},
   "outputs": [
    {
     "data": {
      "text/html": [
       "<div><style>\n",
       ".dataframe > thead > tr,\n",
       ".dataframe > tbody > tr {\n",
       "  text-align: right;\n",
       "  white-space: pre-wrap;\n",
       "}\n",
       "</style>\n",
       "<small>shape: (5, 2)</small><table border=\"1\" class=\"dataframe\"><thead><tr><th>sen</th><th>word</th></tr><tr><td>str</td><td>str</td></tr></thead><tbody><tr><td>&quot;Hello, world! I&#x27;m going to chu…</td><td>&quot;word&quot;</td></tr><tr><td>&quot;Hello, world! I&#x27;m going to chu…</td><td>&quot;word&quot;</td></tr><tr><td>&quot;Hello, world! I&#x27;m going to chu…</td><td>&quot;word&quot;</td></tr><tr><td>&quot;Hello, world! I&#x27;m going to chu…</td><td>&quot;word&quot;</td></tr><tr><td>&quot;Hello, world! I&#x27;m going to chu…</td><td>&quot;word&quot;</td></tr></tbody></table></div>"
      ],
      "text/plain": [
       "shape: (5, 2)\n",
       "┌─────────────────────────────────┬──────┐\n",
       "│ sen                             ┆ word │\n",
       "│ ---                             ┆ ---  │\n",
       "│ str                             ┆ str  │\n",
       "╞═════════════════════════════════╪══════╡\n",
       "│ Hello, world! I'm going to chu… ┆ word │\n",
       "│ Hello, world! I'm going to chu… ┆ word │\n",
       "│ Hello, world! I'm going to chu… ┆ word │\n",
       "│ Hello, world! I'm going to chu… ┆ word │\n",
       "│ Hello, world! I'm going to chu… ┆ word │\n",
       "└─────────────────────────────────┴──────┘"
      ]
     },
     "execution_count": 25,
     "metadata": {},
     "output_type": "execute_result"
    }
   ],
   "source": [
    "df2.filter(\n",
    "    # This is way faster than computing ditance and then doing a filter\n",
    "    pds.filter_by_levenshtein(pl.col(\"word\"), pl.lit(\"world\"), 1) # <= 1. \n",
    ").head()"
   ]
  },
  {
   "cell_type": "code",
   "execution_count": 26,
   "id": "dc9477c1",
   "metadata": {},
   "outputs": [],
   "source": [
    "df = pl.DataFrame({\n",
    "    \"word\":[\"apple\", \"banana\", \"pineapple\", \"asasasas\", \"sasasass\"],\n",
    "    \"other_data\": [1,2,3,4,5]\n",
    "})\n",
    "gibberish = [\"asasasa\", \"sasaaasss\", \"asdasadadfa\"]"
   ]
  },
  {
   "cell_type": "code",
   "execution_count": 27,
   "id": "c50591e0",
   "metadata": {},
   "outputs": [
    {
     "data": {
      "text/html": [
       "<div><style>\n",
       ".dataframe > thead > tr,\n",
       ".dataframe > tbody > tr {\n",
       "  text-align: right;\n",
       "  white-space: pre-wrap;\n",
       "}\n",
       "</style>\n",
       "<small>shape: (2, 2)</small><table border=\"1\" class=\"dataframe\"><thead><tr><th>word</th><th>other_data</th></tr><tr><td>str</td><td>i64</td></tr></thead><tbody><tr><td>&quot;asasasas&quot;</td><td>4</td></tr><tr><td>&quot;sasasass&quot;</td><td>5</td></tr></tbody></table></div>"
      ],
      "text/plain": [
       "shape: (2, 2)\n",
       "┌──────────┬────────────┐\n",
       "│ word     ┆ other_data │\n",
       "│ ---      ┆ ---        │\n",
       "│ str      ┆ i64        │\n",
       "╞══════════╪════════════╡\n",
       "│ asasasas ┆ 4          │\n",
       "│ sasasass ┆ 5          │\n",
       "└──────────┴────────────┘"
      ]
     },
     "execution_count": 27,
     "metadata": {},
     "output_type": "execute_result"
    }
   ],
   "source": [
    "df.filter(\n",
    "    pds.similar_to_vocab(\n",
    "        pl.col(\"word\"),\n",
    "        vocab = gibberish,\n",
    "        threshold = 0.5,\n",
    "        metric = \"lv\", # Levenshtein similarity. Other options: dleven, osa, jw\n",
    "        strategy = \"any\" # True if the word is similar to any word in vocab. Other options: \"all\", \"avg\"\n",
    "    )\n",
    ")"
   ]
  },
  {
   "cell_type": "code",
   "execution_count": 28,
   "id": "7ece3794",
   "metadata": {},
   "outputs": [
    {
     "data": {
      "text/html": [
       "<div><style>\n",
       ".dataframe > thead > tr,\n",
       ".dataframe > tbody > tr {\n",
       "  text-align: right;\n",
       "  white-space: pre-wrap;\n",
       "}\n",
       "</style>\n",
       "<small>shape: (5, 6)</small><table border=\"1\" class=\"dataframe\"><thead><tr><th>asasasa</th><th>sasaaasss</th><th>asdasadadfa</th><th>LCS based Fuzz match - apples</th><th>Optimal String Alignment - apples</th><th>Jaro-Winkler - apples</th></tr><tr><td>f64</td><td>f64</td><td>f64</td><td>f64</td><td>f64</td><td>f64</td></tr></thead><tbody><tr><td>0.142857</td><td>0.111111</td><td>0.090909</td><td>0.833333</td><td>0.833333</td><td>0.966667</td></tr><tr><td>0.428571</td><td>0.333333</td><td>0.272727</td><td>0.166667</td><td>0.0</td><td>0.444444</td></tr><tr><td>0.111111</td><td>0.111111</td><td>0.090909</td><td>0.555556</td><td>0.444444</td><td>0.5</td></tr><tr><td>0.875</td><td>0.666667</td><td>0.545455</td><td>0.25</td><td>0.25</td><td>0.527778</td></tr><tr><td>0.75</td><td>0.777778</td><td>0.454545</td><td>0.25</td><td>0.25</td><td>0.527778</td></tr></tbody></table></div>"
      ],
      "text/plain": [
       "shape: (5, 6)\n",
       "┌──────────┬───────────┬─────────────┬────────────────┬──────────────────┬─────────────────────────┐\n",
       "│ asasasa  ┆ sasaaasss ┆ asdasadadfa ┆ LCS based Fuzz ┆ Optimal String   ┆ Jaro-Winkler - apples   │\n",
       "│ ---      ┆ ---       ┆ ---         ┆ match - apples ┆ Alignment - app… ┆ ---                     │\n",
       "│ f64      ┆ f64       ┆ f64         ┆ ---            ┆ ---              ┆ f64                     │\n",
       "│          ┆           ┆             ┆ f64            ┆ f64              ┆                         │\n",
       "╞══════════╪═══════════╪═════════════╪════════════════╪══════════════════╪═════════════════════════╡\n",
       "│ 0.142857 ┆ 0.111111  ┆ 0.090909    ┆ 0.833333       ┆ 0.833333         ┆ 0.966667                │\n",
       "│ 0.428571 ┆ 0.333333  ┆ 0.272727    ┆ 0.166667       ┆ 0.0              ┆ 0.444444                │\n",
       "│ 0.111111 ┆ 0.111111  ┆ 0.090909    ┆ 0.555556       ┆ 0.444444         ┆ 0.5                     │\n",
       "│ 0.875    ┆ 0.666667  ┆ 0.545455    ┆ 0.25           ┆ 0.25             ┆ 0.527778                │\n",
       "│ 0.75     ┆ 0.777778  ┆ 0.454545    ┆ 0.25           ┆ 0.25             ┆ 0.527778                │\n",
       "└──────────┴───────────┴─────────────┴────────────────┴──────────────────┴─────────────────────────┘"
      ]
     },
     "execution_count": 28,
     "metadata": {},
     "output_type": "execute_result"
    }
   ],
   "source": [
    "df.select(\n",
    "    pds.str_leven(\"word\", pl.lit(\"asasasa\"), return_sim=True).alias(\"asasasa\"),\n",
    "    pds.str_leven(\"word\", pl.lit(\"sasaaasss\"), return_sim=True).alias(\"sasaaasss\"),\n",
    "    pds.str_leven(\"word\", pl.lit(\"asdasadadfa\"), return_sim=True).alias(\"asdasadadfa\"),\n",
    "    pds.str_fuzz(\"word\", pl.lit(\"apples\")).alias(\"LCS based Fuzz match - apples\"),\n",
    "    pds.str_osa(\"word\", pl.lit(\"apples\"), return_sim=True).alias(\"Optimal String Alignment - apples\"),\n",
    "    pds.str_jw(\"word\", pl.lit(\"apples\")).alias(\"Jaro-Winkler - apples\"),\n",
    ")\n"
   ]
  },
  {
   "cell_type": "markdown",
   "id": "8841f2a1",
   "metadata": {},
   "source": [
    "# Stats Extension"
   ]
  },
  {
   "cell_type": "code",
   "execution_count": 29,
   "id": "2c6171b0",
   "metadata": {},
   "outputs": [
    {
     "data": {
      "text/html": [
       "<div><style>\n",
       ".dataframe > thead > tr,\n",
       ".dataframe > tbody > tr {\n",
       "  text-align: right;\n",
       "  white-space: pre-wrap;\n",
       "}\n",
       "</style>\n",
       "<small>shape: (5, 1)</small><table border=\"1\" class=\"dataframe\"><thead><tr><th>a</th></tr><tr><td>f64</td></tr></thead><tbody><tr><td>null</td></tr><tr><td>null</td></tr><tr><td>-0.194757</td></tr><tr><td>1.89367</td></tr><tr><td>-0.264127</td></tr></tbody></table></div>"
      ],
      "text/plain": [
       "shape: (5, 1)\n",
       "┌───────────┐\n",
       "│ a         │\n",
       "│ ---       │\n",
       "│ f64       │\n",
       "╞═══════════╡\n",
       "│ null      │\n",
       "│ null      │\n",
       "│ -0.194757 │\n",
       "│ 1.89367   │\n",
       "│ -0.264127 │\n",
       "└───────────┘"
      ]
     },
     "execution_count": 29,
     "metadata": {},
     "output_type": "execute_result"
    }
   ],
   "source": [
    "import numpy as np\n",
    "\n",
    "df = pl.DataFrame({\n",
    "    \"a\": [None, None] + list(np.random.normal(size = 998))\n",
    "})\n",
    "df.head()"
   ]
  },
  {
   "cell_type": "code",
   "execution_count": 30,
   "id": "2f6e7445",
   "metadata": {},
   "outputs": [
    {
     "data": {
      "text/html": [
       "<div><style>\n",
       ".dataframe > thead > tr,\n",
       ".dataframe > tbody > tr {\n",
       "  text-align: right;\n",
       "  white-space: pre-wrap;\n",
       "}\n",
       "</style>\n",
       "<small>shape: (5, 3)</small><table border=\"1\" class=\"dataframe\"><thead><tr><th>a</th><th>random_normal</th><th>random_normal_that_respects_null_of_a</th></tr><tr><td>f64</td><td>f64</td><td>f64</td></tr></thead><tbody><tr><td>null</td><td>-0.537838</td><td>null</td></tr><tr><td>null</td><td>-0.217947</td><td>null</td></tr><tr><td>-0.194757</td><td>1.951534</td><td>0.770303</td></tr><tr><td>1.89367</td><td>-1.028474</td><td>0.298758</td></tr><tr><td>-0.264127</td><td>0.362827</td><td>0.100426</td></tr></tbody></table></div>"
      ],
      "text/plain": [
       "shape: (5, 3)\n",
       "┌───────────┬───────────────┬─────────────────────────────────┐\n",
       "│ a         ┆ random_normal ┆ random_normal_that_respects_nu… │\n",
       "│ ---       ┆ ---           ┆ ---                             │\n",
       "│ f64       ┆ f64           ┆ f64                             │\n",
       "╞═══════════╪═══════════════╪═════════════════════════════════╡\n",
       "│ null      ┆ -0.537838     ┆ null                            │\n",
       "│ null      ┆ -0.217947     ┆ null                            │\n",
       "│ -0.194757 ┆ 1.951534      ┆ 0.770303                        │\n",
       "│ 1.89367   ┆ -1.028474     ┆ 0.298758                        │\n",
       "│ -0.264127 ┆ 0.362827      ┆ 0.100426                        │\n",
       "└───────────┴───────────────┴─────────────────────────────────┘"
      ]
     },
     "execution_count": 30,
     "metadata": {},
     "output_type": "execute_result"
    }
   ],
   "source": [
    "# Genenrate random numbers, respecting null positions in reference column (pl.col(\"a\"))\n",
    "df.with_columns(\n",
    "    pds.random_normal(mean = 0.5, std = 1.0).alias(\"random_normal\"),\n",
    "    pl.when(pl.col(\"a\").is_null()).then(None).otherwise(\n",
    "        pds.random_normal(mean = 0.5, std = 1.0).alias(\"random_normal\")\n",
    "    ).alias(\"random_normal_that_respects_null_of_a\")\n",
    ").head()"
   ]
  },
  {
   "cell_type": "code",
   "execution_count": 31,
   "id": "11e13f55",
   "metadata": {},
   "outputs": [
    {
     "data": {
      "text/html": [
       "<div><style>\n",
       ".dataframe > thead > tr,\n",
       ".dataframe > tbody > tr {\n",
       "  text-align: right;\n",
       "  white-space: pre-wrap;\n",
       "}\n",
       "</style>\n",
       "<small>shape: (5, 3)</small><table border=\"1\" class=\"dataframe\"><thead><tr><th>a</th><th>random_str</th><th>random_str_that_respects_null_of_a</th></tr><tr><td>f64</td><td>str</td><td>str</td></tr></thead><tbody><tr><td>null</td><td>&quot;Pi3&quot;</td><td>null</td></tr><tr><td>null</td><td>&quot;ZCnaW&quot;</td><td>null</td></tr><tr><td>-0.194757</td><td>&quot;2&quot;</td><td>&quot;2&quot;</td></tr><tr><td>1.89367</td><td>&quot;e&quot;</td><td>&quot;e&quot;</td></tr><tr><td>-0.264127</td><td>&quot;7mg3Z&quot;</td><td>&quot;7mg3Z&quot;</td></tr></tbody></table></div>"
      ],
      "text/plain": [
       "shape: (5, 3)\n",
       "┌───────────┬────────────┬─────────────────────────────────┐\n",
       "│ a         ┆ random_str ┆ random_str_that_respects_null_… │\n",
       "│ ---       ┆ ---        ┆ ---                             │\n",
       "│ f64       ┆ str        ┆ str                             │\n",
       "╞═══════════╪════════════╪═════════════════════════════════╡\n",
       "│ null      ┆ Pi3        ┆ null                            │\n",
       "│ null      ┆ ZCnaW      ┆ null                            │\n",
       "│ -0.194757 ┆ 2          ┆ 2                               │\n",
       "│ 1.89367   ┆ e          ┆ e                               │\n",
       "│ -0.264127 ┆ 7mg3Z      ┆ 7mg3Z                           │\n",
       "└───────────┴────────────┴─────────────────────────────────┘"
      ]
     },
     "execution_count": 31,
     "metadata": {},
     "output_type": "execute_result"
    }
   ],
   "source": [
    "# Genenrate random string\n",
    "df.with_columns(\n",
    "    pds.random_str(min_size = 1, max_size = 5).alias(\"random_str\"),\n",
    "    pl.when(pl.col(\"a\").is_null()).then(None).otherwise(\n",
    "        pds.random_str(min_size = 1, max_size = 5)\n",
    "    ).alias(\"random_str_that_respects_null_of_a\")\n",
    ").head()"
   ]
  },
  {
   "cell_type": "code",
   "execution_count": 32,
   "id": "43c37394",
   "metadata": {},
   "outputs": [
    {
     "data": {
      "text/html": [
       "<div><style>\n",
       ".dataframe > thead > tr,\n",
       ".dataframe > tbody > tr {\n",
       "  text-align: right;\n",
       "  white-space: pre-wrap;\n",
       "}\n",
       "</style>\n",
       "<small>shape: (5, 2)</small><table border=\"1\" class=\"dataframe\"><thead><tr><th>a</th><th>random_str</th></tr><tr><td>f64</td><td>str</td></tr></thead><tbody><tr><td>null</td><td>null</td></tr><tr><td>null</td><td>null</td></tr><tr><td>-0.194757</td><td>&quot;IeA07&quot;</td></tr><tr><td>1.89367</td><td>&quot;3ZtJz&quot;</td></tr><tr><td>-0.264127</td><td>&quot;NoAKh&quot;</td></tr></tbody></table></div>"
      ],
      "text/plain": [
       "shape: (5, 2)\n",
       "┌───────────┬────────────┐\n",
       "│ a         ┆ random_str │\n",
       "│ ---       ┆ ---        │\n",
       "│ f64       ┆ str        │\n",
       "╞═══════════╪════════════╡\n",
       "│ null      ┆ null       │\n",
       "│ null      ┆ null       │\n",
       "│ -0.194757 ┆ IeA07      │\n",
       "│ 1.89367   ┆ 3ZtJz      │\n",
       "│ -0.264127 ┆ NoAKh      │\n",
       "└───────────┴────────────┘"
      ]
     },
     "execution_count": 32,
     "metadata": {},
     "output_type": "execute_result"
    }
   ],
   "source": [
    "# Genenrate fixed size random string, while respecting column a's nulls\n",
    "df.with_columns(\n",
    "    pl.when(pl.col(\"a\").is_null()).then(None).otherwise(\n",
    "        pds.random_str(min_size = 5, max_size = 5)\n",
    "    ).alias(\"random_str\")\n",
    ").head()"
   ]
  },
  {
   "cell_type": "code",
   "execution_count": 33,
   "id": "3d0c06a4",
   "metadata": {},
   "outputs": [
    {
     "data": {
      "text/html": [
       "<div><style>\n",
       ".dataframe > thead > tr,\n",
       ".dataframe > tbody > tr {\n",
       "  text-align: right;\n",
       "  white-space: pre-wrap;\n",
       "}\n",
       "</style>\n",
       "<small>shape: (5, 4)</small><table border=\"1\" class=\"dataframe\"><thead><tr><th>a</th><th>test1</th><th>literal</th><th>test1_perturbed</th></tr><tr><td>f64</td><td>f64</td><td>f64</td><td>f64</td></tr></thead><tbody><tr><td>null</td><td>0.767885</td><td>null</td><td>0.767595</td></tr><tr><td>null</td><td>1.725702</td><td>null</td><td>1.725951</td></tr><tr><td>-0.194757</td><td>0.984246</td><td>0.355746</td><td>0.984367</td></tr><tr><td>1.89367</td><td>0.381581</td><td>0.420504</td><td>0.381261</td></tr><tr><td>-0.264127</td><td>0.618556</td><td>1.124186</td><td>0.618069</td></tr></tbody></table></div>"
      ],
      "text/plain": [
       "shape: (5, 4)\n",
       "┌───────────┬──────────┬──────────┬─────────────────┐\n",
       "│ a         ┆ test1    ┆ literal  ┆ test1_perturbed │\n",
       "│ ---       ┆ ---      ┆ ---      ┆ ---             │\n",
       "│ f64       ┆ f64      ┆ f64      ┆ f64             │\n",
       "╞═══════════╪══════════╪══════════╪═════════════════╡\n",
       "│ null      ┆ 0.767885 ┆ null     ┆ 0.767595        │\n",
       "│ null      ┆ 1.725702 ┆ null     ┆ 1.725951        │\n",
       "│ -0.194757 ┆ 0.984246 ┆ 0.355746 ┆ 0.984367        │\n",
       "│ 1.89367   ┆ 0.381581 ┆ 0.420504 ┆ 0.381261        │\n",
       "│ -0.264127 ┆ 0.618556 ┆ 1.124186 ┆ 0.618069        │\n",
       "└───────────┴──────────┴──────────┴─────────────────┘"
      ]
     },
     "execution_count": 33,
     "metadata": {},
     "output_type": "execute_result"
    }
   ],
   "source": [
    "df.with_columns(\n",
    "    # Sample from a normal distribution, using reference column \"a\" 's mean and std\n",
    "    pds.random_normal(pl.col(\"a\").mean(), pl.col(\"a\").std()).alias(\"test1\") \n",
    "    # Sample from uniform distribution, with low = 0 and high = \"a\"'s max, and respect the nulls in \"a\"\n",
    "    , pl.when(pl.col(\"a\").is_null()).then(None).otherwise(\n",
    "        pds.random(lower = 0., upper = pl.col(\"a\").max()).alias(\"test2\")\n",
    "    )\n",
    ").with_columns(\n",
    "    # Add a random pertubation to test1\n",
    "    pds.perturb(\"test1\", epsilon=0.001).alias(\"test1_perturbed\")\n",
    ").head()"
   ]
  },
  {
   "cell_type": "code",
   "execution_count": 34,
   "id": "67dc6583",
   "metadata": {},
   "outputs": [
    {
     "data": {
      "text/html": [
       "<div><style>\n",
       ".dataframe > thead > tr,\n",
       ".dataframe > tbody > tr {\n",
       "  text-align: right;\n",
       "  white-space: pre-wrap;\n",
       "}\n",
       "</style>\n",
       "<small>shape: (5, 4)</small><table border=\"1\" class=\"dataframe\"><thead><tr><th>a</th><th>[0, 1)</th><th>Normal</th><th>Int from [0, 10)</th></tr><tr><td>f64</td><td>f64</td><td>f64</td><td>i32</td></tr></thead><tbody><tr><td>null</td><td>0.222824</td><td>0.123143</td><td>3</td></tr><tr><td>null</td><td>0.516188</td><td>-1.624236</td><td>0</td></tr><tr><td>-0.194757</td><td>0.275714</td><td>0.469665</td><td>7</td></tr><tr><td>1.89367</td><td>0.41933</td><td>-0.325981</td><td>0</td></tr><tr><td>-0.264127</td><td>0.555975</td><td>-2.562667</td><td>0</td></tr></tbody></table></div>"
      ],
      "text/plain": [
       "shape: (5, 4)\n",
       "┌───────────┬──────────┬───────────┬──────────────────┐\n",
       "│ a         ┆ [0, 1)   ┆ Normal    ┆ Int from [0, 10) │\n",
       "│ ---       ┆ ---      ┆ ---       ┆ ---              │\n",
       "│ f64       ┆ f64      ┆ f64       ┆ i32              │\n",
       "╞═══════════╪══════════╪═══════════╪══════════════════╡\n",
       "│ null      ┆ 0.222824 ┆ 0.123143  ┆ 3                │\n",
       "│ null      ┆ 0.516188 ┆ -1.624236 ┆ 0                │\n",
       "│ -0.194757 ┆ 0.275714 ┆ 0.469665  ┆ 7                │\n",
       "│ 1.89367   ┆ 0.41933  ┆ -0.325981 ┆ 0                │\n",
       "│ -0.264127 ┆ 0.555975 ┆ -2.562667 ┆ 0                │\n",
       "└───────────┴──────────┴───────────┴──────────────────┘"
      ]
     },
     "execution_count": 34,
     "metadata": {},
     "output_type": "execute_result"
    }
   ],
   "source": [
    "# New in v0.3.5\n",
    "# This way, we don't have a reference column, so we cannot respect nulls, but is more convenient to use.\n",
    "df.with_columns(\n",
    "    pds.random().alias(\"[0, 1)\"),\n",
    "    pds.random_normal(pl.col(\"a\").mean(), pl.col(\"a\").std()).alias(\"Normal\"),\n",
    "    pds.random_int(0, 10).alias(\"Int from [0, 10)\"),\n",
    ").head()"
   ]
  },
  {
   "cell_type": "code",
   "execution_count": 35,
   "id": "7b63f636",
   "metadata": {},
   "outputs": [
    {
     "data": {
      "text/html": [
       "<div><style>\n",
       ".dataframe > thead > tr,\n",
       ".dataframe > tbody > tr {\n",
       "  text-align: right;\n",
       "  white-space: pre-wrap;\n",
       "}\n",
       "</style>\n",
       "<small>shape: (1, 4)</small><table border=\"1\" class=\"dataframe\"><thead><tr><th>t-tests: statistics</th><th>t-tests: pvalue</th><th>normality_test: statistics</th><th>normality_test: pvalue</th></tr><tr><td>f64</td><td>f64</td><td>f64</td><td>f64</td></tr></thead><tbody><tr><td>1.784321</td><td>0.074577</td><td>0.528831</td><td>0.767655</td></tr></tbody></table></div>"
      ],
      "text/plain": [
       "shape: (1, 4)\n",
       "┌─────────────────────┬─────────────────┬────────────────────────────┬────────────────────────┐\n",
       "│ t-tests: statistics ┆ t-tests: pvalue ┆ normality_test: statistics ┆ normality_test: pvalue │\n",
       "│ ---                 ┆ ---             ┆ ---                        ┆ ---                    │\n",
       "│ f64                 ┆ f64             ┆ f64                        ┆ f64                    │\n",
       "╞═════════════════════╪═════════════════╪════════════════════════════╪════════════════════════╡\n",
       "│ 1.784321            ┆ 0.074577        ┆ 0.528831                   ┆ 0.767655               │\n",
       "└─────────────────────┴─────────────────┴────────────────────────────┴────────────────────────┘"
      ]
     },
     "execution_count": 35,
     "metadata": {},
     "output_type": "execute_result"
    }
   ],
   "source": [
    "# Genenrate 2 random sample, both normally distributed\n",
    "# Run Welch's t test on them, p value should be big since they have equal mean\n",
    "# Run a normality test. Again, p value should be big since they are normally distributed \n",
    "\n",
    "df.with_columns(\n",
    "    pds.random_normal(0.5, 1.0).alias(\"test1\"),\n",
    "    pds.random_normal(0.5, 2.0).alias(\"test2\"),\n",
    ").select(\n",
    "    pds.query_ttest_ind(\"test1\", \"test2\", equal_var=False).alias(\"t-test\"),\n",
    "    pds.normal_test(\"test1\").alias(\"normality_test\")\n",
    ").select(\n",
    "    pl.col(\"t-test\").struct.field(\"statistic\").alias(\"t-tests: statistics\")\n",
    "    , pl.col(\"t-test\").struct.field(\"pvalue\").alias(\"t-tests: pvalue\")\n",
    "    , pl.col(\"normality_test\").struct.field(\"statistic\").alias(\"normality_test: statistics\")\n",
    "    , pl.col(\"normality_test\").struct.field(\"pvalue\").alias(\"normality_test: pvalue\")\n",
    ")"
   ]
  },
  {
   "cell_type": "code",
   "execution_count": 36,
   "id": "b46a72a5",
   "metadata": {},
   "outputs": [
    {
     "data": {
      "text/html": [
       "<div><style>\n",
       ".dataframe > thead > tr,\n",
       ".dataframe > tbody > tr {\n",
       "  text-align: right;\n",
       "  white-space: pre-wrap;\n",
       "}\n",
       "</style>\n",
       "<small>shape: (5, 5)</small><table border=\"1\" class=\"dataframe\"><thead><tr><th>market_id</th><th>var1</th><th>var2</th><th>category_1</th><th>category_2</th></tr><tr><td>i64</td><td>f64</td><td>f64</td><td>i32</td><td>i32</td></tr></thead><tbody><tr><td>0</td><td>0.461065</td><td>0.658996</td><td>3</td><td>9</td></tr><tr><td>1</td><td>0.60301</td><td>0.091558</td><td>2</td><td>6</td></tr><tr><td>2</td><td>0.076062</td><td>0.13925</td><td>4</td><td>1</td></tr><tr><td>0</td><td>0.419069</td><td>0.848895</td><td>3</td><td>8</td></tr><tr><td>1</td><td>0.509832</td><td>0.659113</td><td>2</td><td>2</td></tr></tbody></table></div>"
      ],
      "text/plain": [
       "shape: (5, 5)\n",
       "┌───────────┬──────────┬──────────┬────────────┬────────────┐\n",
       "│ market_id ┆ var1     ┆ var2     ┆ category_1 ┆ category_2 │\n",
       "│ ---       ┆ ---      ┆ ---      ┆ ---        ┆ ---        │\n",
       "│ i64       ┆ f64      ┆ f64      ┆ i32        ┆ i32        │\n",
       "╞═══════════╪══════════╪══════════╪════════════╪════════════╡\n",
       "│ 0         ┆ 0.461065 ┆ 0.658996 ┆ 3          ┆ 9          │\n",
       "│ 1         ┆ 0.60301  ┆ 0.091558 ┆ 2          ┆ 6          │\n",
       "│ 2         ┆ 0.076062 ┆ 0.13925  ┆ 4          ┆ 1          │\n",
       "│ 0         ┆ 0.419069 ┆ 0.848895 ┆ 3          ┆ 8          │\n",
       "│ 1         ┆ 0.509832 ┆ 0.659113 ┆ 2          ┆ 2          │\n",
       "└───────────┴──────────┴──────────┴────────────┴────────────┘"
      ]
     },
     "execution_count": 36,
     "metadata": {},
     "output_type": "execute_result"
    }
   ],
   "source": [
    "size = 5_000\n",
    "df = pl.DataFrame({\n",
    "    \"market_id\": range(size),\n",
    "}).with_columns(\n",
    "    pl.col(\"market_id\").mod(3),\n",
    "    var1 = pds.random(),\n",
    "    var2 = pds.random(),\n",
    "    category_1 = pds.random_int(0, 5),\n",
    "    category_2 = pds.random_int(0, 10),\n",
    ")\n",
    "\n",
    "df.head(5)"
   ]
  },
  {
   "cell_type": "code",
   "execution_count": 37,
   "id": "adc4f66f",
   "metadata": {},
   "outputs": [
    {
     "data": {
      "text/html": [
       "<div><style>\n",
       ".dataframe > thead > tr,\n",
       ".dataframe > tbody > tr {\n",
       "  text-align: right;\n",
       "  white-space: pre-wrap;\n",
       "}\n",
       "</style>\n",
       "<small>shape: (1, 3)</small><table border=\"1\" class=\"dataframe\"><thead><tr><th>t-test</th><th>chi2-test</th><th>f-test</th></tr><tr><td>struct[2]</td><td>struct[2]</td><td>struct[2]</td></tr></thead><tbody><tr><td>{-1.4873,0.136967}</td><td>{38.462189,0.35866}</td><td>{0.893678,0.466694}</td></tr></tbody></table></div>"
      ],
      "text/plain": [
       "shape: (1, 3)\n",
       "┌────────────────────┬─────────────────────┬─────────────────────┐\n",
       "│ t-test             ┆ chi2-test           ┆ f-test              │\n",
       "│ ---                ┆ ---                 ┆ ---                 │\n",
       "│ struct[2]          ┆ struct[2]           ┆ struct[2]           │\n",
       "╞════════════════════╪═════════════════════╪═════════════════════╡\n",
       "│ {-1.4873,0.136967} ┆ {38.462189,0.35866} ┆ {0.893678,0.466694} │\n",
       "└────────────────────┴─────────────────────┴─────────────────────┘"
      ]
     },
     "execution_count": 37,
     "metadata": {},
     "output_type": "execute_result"
    }
   ],
   "source": [
    "# In dataframe statistical tests!\n",
    "df.select(\n",
    "    pds.query_ttest_ind(\"var1\", \"var2\", equal_var=True).alias(\"t-test\"),\n",
    "    pds.query_chi2(\"category_1\", \"category_2\").alias(\"chi2-test\"),\n",
    "    pds.query_f_test(\"var1\", group = \"category_1\").alias(\"f-test\")\n",
    ")"
   ]
  },
  {
   "cell_type": "code",
   "execution_count": 38,
   "id": "65dbb6bd",
   "metadata": {},
   "outputs": [
    {
     "data": {
      "text/html": [
       "<div><style>\n",
       ".dataframe > thead > tr,\n",
       ".dataframe > tbody > tr {\n",
       "  text-align: right;\n",
       "  white-space: pre-wrap;\n",
       "}\n",
       "</style>\n",
       "<small>shape: (3, 4)</small><table border=\"1\" class=\"dataframe\"><thead><tr><th>market_id</th><th>t-test</th><th>chi2-test</th><th>f-test</th></tr><tr><td>i64</td><td>struct[2]</td><td>struct[2]</td><td>struct[2]</td></tr></thead><tbody><tr><td>0</td><td>{-0.891592,0.372676}</td><td>{33.011996,0.611472}</td><td>{0.335598,0.854098}</td></tr><tr><td>1</td><td>{0.167211,0.867214}</td><td>{31.682392,0.674095}</td><td>{0.584118,0.67418}</td></tr><tr><td>2</td><td>{-1.85503,0.06368}</td><td>{43.457489,0.183527}</td><td>{0.999737,0.406474}</td></tr></tbody></table></div>"
      ],
      "text/plain": [
       "shape: (3, 4)\n",
       "┌───────────┬──────────────────────┬──────────────────────┬─────────────────────┐\n",
       "│ market_id ┆ t-test               ┆ chi2-test            ┆ f-test              │\n",
       "│ ---       ┆ ---                  ┆ ---                  ┆ ---                 │\n",
       "│ i64       ┆ struct[2]            ┆ struct[2]            ┆ struct[2]           │\n",
       "╞═══════════╪══════════════════════╪══════════════════════╪═════════════════════╡\n",
       "│ 0         ┆ {-0.891592,0.372676} ┆ {33.011996,0.611472} ┆ {0.335598,0.854098} │\n",
       "│ 1         ┆ {0.167211,0.867214}  ┆ {31.682392,0.674095} ┆ {0.584118,0.67418}  │\n",
       "│ 2         ┆ {-1.85503,0.06368}   ┆ {43.457489,0.183527} ┆ {0.999737,0.406474} │\n",
       "└───────────┴──────────────────────┴──────────────────────┴─────────────────────┘"
      ]
     },
     "execution_count": 38,
     "metadata": {},
     "output_type": "execute_result"
    }
   ],
   "source": [
    "# Can also be done in group by context\n",
    "df.group_by(\"market_id\").agg(\n",
    "    pds.query_ttest_ind(\"var1\", \"var2\", equal_var=False).alias(\"t-test\"),\n",
    "    pds.query_chi2(\"category_1\", \"category_2\").alias(\"chi2-test\"),\n",
    "    pds.query_f_test(\"var1\", group = \"category_1\").alias(\"f-test\")\n",
    ")"
   ]
  },
  {
   "cell_type": "code",
   "execution_count": 39,
   "id": "843d54c5",
   "metadata": {},
   "outputs": [
    {
     "data": {
      "text/html": [
       "<div><style>\n",
       ".dataframe > thead > tr,\n",
       ".dataframe > tbody > tr {\n",
       "  text-align: right;\n",
       "  white-space: pre-wrap;\n",
       "}\n",
       "</style>\n",
       "<small>shape: (9, 2)</small><table border=\"1\" class=\"dataframe\"><thead><tr><th>first_digit_cnt</th><th>first_digit_distribution</th></tr><tr><td>u32</td><td>f64</td></tr></thead><tbody><tr><td>547</td><td>0.1094</td></tr><tr><td>572</td><td>0.1144</td></tr><tr><td>562</td><td>0.1124</td></tr><tr><td>562</td><td>0.1124</td></tr><tr><td>613</td><td>0.1226</td></tr><tr><td>488</td><td>0.0976</td></tr><tr><td>516</td><td>0.1032</td></tr><tr><td>581</td><td>0.1162</td></tr><tr><td>559</td><td>0.1118</td></tr></tbody></table></div>"
      ],
      "text/plain": [
       "shape: (9, 2)\n",
       "┌─────────────────┬──────────────────────────┐\n",
       "│ first_digit_cnt ┆ first_digit_distribution │\n",
       "│ ---             ┆ ---                      │\n",
       "│ u32             ┆ f64                      │\n",
       "╞═════════════════╪══════════════════════════╡\n",
       "│ 547             ┆ 0.1094                   │\n",
       "│ 572             ┆ 0.1144                   │\n",
       "│ 562             ┆ 0.1124                   │\n",
       "│ 562             ┆ 0.1124                   │\n",
       "│ 613             ┆ 0.1226                   │\n",
       "│ 488             ┆ 0.0976                   │\n",
       "│ 516             ┆ 0.1032                   │\n",
       "│ 581             ┆ 0.1162                   │\n",
       "│ 559             ┆ 0.1118                   │\n",
       "└─────────────────┴──────────────────────────┘"
      ]
     },
     "execution_count": 39,
     "metadata": {},
     "output_type": "execute_result"
    }
   ],
   "source": [
    "# Benford's law\n",
    "df.select(\n",
    "    first_digit_cnt = pds.query_first_digit_cnt(pl.col(\"var1\")).explode()\n",
    ").with_columns(\n",
    "    # This doesn't follow benford's law because it is random data\n",
    "    first_digit_distribution = pl.col(\"first_digit_cnt\") / pl.col(\"first_digit_cnt\").sum()\n",
    ")"
   ]
  },
  {
   "cell_type": "markdown",
   "id": "b232e4d7",
   "metadata": {},
   "source": [
    "# Nearest Neighbors Related Tasks\n",
    "\n",
    "These queries can be very slow when data/dimension gets huge, even when processed in parallel."
   ]
  },
  {
   "cell_type": "code",
   "execution_count": 40,
   "id": "87aff1ef",
   "metadata": {},
   "outputs": [],
   "source": [
    "import polars_ds as pds\n",
    "size = 2000\n",
    "df = pl.DataFrame({\n",
    "    \"id\": range(size), \n",
    "}).with_columns(\n",
    "    pds.random().alias(\"var1\"),\n",
    "    pds.random().alias(\"var2\"),\n",
    "    pds.random().alias(\"var3\"),\n",
    "    pds.random().alias(\"r\"),\n",
    "    (pds.random() * 10).alias(\"rh\"),\n",
    "    pl.col(\"id\").cast(pl.UInt32)\n",
    ")"
   ]
  },
  {
   "cell_type": "code",
   "execution_count": 41,
   "id": "2fae4b5e",
   "metadata": {},
   "outputs": [
    {
     "data": {
      "text/html": [
       "<div><style>\n",
       ".dataframe > thead > tr,\n",
       ".dataframe > tbody > tr {\n",
       "  text-align: right;\n",
       "  white-space: pre-wrap;\n",
       "}\n",
       "</style>\n",
       "<small>shape: (5, 7)</small><table border=\"1\" class=\"dataframe\"><thead><tr><th>id</th><th>var1</th><th>var2</th><th>var3</th><th>r</th><th>rh</th><th>nb_l_inf_cnt</th></tr><tr><td>u32</td><td>f64</td><td>f64</td><td>f64</td><td>f64</td><td>f64</td><td>u32</td></tr></thead><tbody><tr><td>0</td><td>0.78742</td><td>0.039981</td><td>0.970969</td><td>0.535949</td><td>6.958554</td><td>8</td></tr><tr><td>1</td><td>0.459572</td><td>0.530897</td><td>0.815052</td><td>0.564772</td><td>0.918177</td><td>21</td></tr><tr><td>2</td><td>0.303721</td><td>0.98004</td><td>0.656727</td><td>0.596589</td><td>1.330739</td><td>9</td></tr><tr><td>3</td><td>0.156137</td><td>0.147521</td><td>0.348696</td><td>0.43929</td><td>0.050149</td><td>24</td></tr><tr><td>4</td><td>0.948207</td><td>0.784414</td><td>0.388157</td><td>0.963052</td><td>5.550648</td><td>10</td></tr></tbody></table></div>"
      ],
      "text/plain": [
       "shape: (5, 7)\n",
       "┌─────┬──────────┬──────────┬──────────┬──────────┬──────────┬──────────────┐\n",
       "│ id  ┆ var1     ┆ var2     ┆ var3     ┆ r        ┆ rh       ┆ nb_l_inf_cnt │\n",
       "│ --- ┆ ---      ┆ ---      ┆ ---      ┆ ---      ┆ ---      ┆ ---          │\n",
       "│ u32 ┆ f64      ┆ f64      ┆ f64      ┆ f64      ┆ f64      ┆ u32          │\n",
       "╞═════╪══════════╪══════════╪══════════╪══════════╪══════════╪══════════════╡\n",
       "│ 0   ┆ 0.78742  ┆ 0.039981 ┆ 0.970969 ┆ 0.535949 ┆ 6.958554 ┆ 8            │\n",
       "│ 1   ┆ 0.459572 ┆ 0.530897 ┆ 0.815052 ┆ 0.564772 ┆ 0.918177 ┆ 21           │\n",
       "│ 2   ┆ 0.303721 ┆ 0.98004  ┆ 0.656727 ┆ 0.596589 ┆ 1.330739 ┆ 9            │\n",
       "│ 3   ┆ 0.156137 ┆ 0.147521 ┆ 0.348696 ┆ 0.43929  ┆ 0.050149 ┆ 24           │\n",
       "│ 4   ┆ 0.948207 ┆ 0.784414 ┆ 0.388157 ┆ 0.963052 ┆ 5.550648 ┆ 10           │\n",
       "└─────┴──────────┴──────────┴──────────┴──────────┴──────────┴──────────────┘"
      ]
     },
     "execution_count": 41,
     "metadata": {},
     "output_type": "execute_result"
    }
   ],
   "source": [
    "# Get neighbor count. The point itself is always considered a neighbor to itself.\n",
    "df.with_columns(\n",
    "    pds.query_nb_cnt(\n",
    "        0.1, # radius \n",
    "        pl.col(\"var1\"), \"var2\", \"var3\", # Columns used as the coordinates in n-d space, str | pl.Expr \n",
    "        dist = \"inf\", # L Infinity distance \n",
    "        parallel = True \n",
    "    ).alias(\"nb_l_inf_cnt\")\n",
    ").head() "
   ]
  },
  {
   "cell_type": "code",
   "execution_count": 42,
   "id": "69ad83d1",
   "metadata": {},
   "outputs": [
    {
     "data": {
      "text/html": [
       "<div><style>\n",
       ".dataframe > thead > tr,\n",
       ".dataframe > tbody > tr {\n",
       "  text-align: right;\n",
       "  white-space: pre-wrap;\n",
       "}\n",
       "</style>\n",
       "<small>shape: (5, 7)</small><table border=\"1\" class=\"dataframe\"><thead><tr><th>id</th><th>var1</th><th>var2</th><th>var3</th><th>r</th><th>rh</th><th>nb_l1_r_cnt</th></tr><tr><td>u32</td><td>f64</td><td>f64</td><td>f64</td><td>f64</td><td>f64</td><td>u32</td></tr></thead><tbody><tr><td>0</td><td>0.78742</td><td>0.039981</td><td>0.970969</td><td>0.535949</td><td>6.958554</td><td>129</td></tr><tr><td>1</td><td>0.459572</td><td>0.530897</td><td>0.815052</td><td>0.564772</td><td>0.918177</td><td>413</td></tr><tr><td>2</td><td>0.303721</td><td>0.98004</td><td>0.656727</td><td>0.596589</td><td>1.330739</td><td>287</td></tr><tr><td>3</td><td>0.156137</td><td>0.147521</td><td>0.348696</td><td>0.43929</td><td>0.050149</td><td>190</td></tr><tr><td>4</td><td>0.948207</td><td>0.784414</td><td>0.388157</td><td>0.963052</td><td>5.550648</td><td>818</td></tr></tbody></table></div>"
      ],
      "text/plain": [
       "shape: (5, 7)\n",
       "┌─────┬──────────┬──────────┬──────────┬──────────┬──────────┬─────────────┐\n",
       "│ id  ┆ var1     ┆ var2     ┆ var3     ┆ r        ┆ rh       ┆ nb_l1_r_cnt │\n",
       "│ --- ┆ ---      ┆ ---      ┆ ---      ┆ ---      ┆ ---      ┆ ---         │\n",
       "│ u32 ┆ f64      ┆ f64      ┆ f64      ┆ f64      ┆ f64      ┆ u32         │\n",
       "╞═════╪══════════╪══════════╪══════════╪══════════╪══════════╪═════════════╡\n",
       "│ 0   ┆ 0.78742  ┆ 0.039981 ┆ 0.970969 ┆ 0.535949 ┆ 6.958554 ┆ 129         │\n",
       "│ 1   ┆ 0.459572 ┆ 0.530897 ┆ 0.815052 ┆ 0.564772 ┆ 0.918177 ┆ 413         │\n",
       "│ 2   ┆ 0.303721 ┆ 0.98004  ┆ 0.656727 ┆ 0.596589 ┆ 1.330739 ┆ 287         │\n",
       "│ 3   ┆ 0.156137 ┆ 0.147521 ┆ 0.348696 ┆ 0.43929  ┆ 0.050149 ┆ 190         │\n",
       "│ 4   ┆ 0.948207 ┆ 0.784414 ┆ 0.388157 ┆ 0.963052 ┆ 5.550648 ┆ 818         │\n",
       "└─────┴──────────┴──────────┴──────────┴──────────┴──────────┴─────────────┘"
      ]
     },
     "execution_count": 42,
     "metadata": {},
     "output_type": "execute_result"
    }
   ],
   "source": [
    "df.with_columns(\n",
    "    pds.query_nb_cnt(\n",
    "        pl.col(\"r\"), # radius be an expression too\n",
    "        \"var1\", \"var2\", \"var3\", # Columns used as the coordinates in n-d space, str | pl.Expr \n",
    "        dist = \"l1\", # L 1 distance \n",
    "        parallel = True \n",
    "    ).alias(\"nb_l1_r_cnt\")\n",
    ").head()"
   ]
  },
  {
   "cell_type": "code",
   "execution_count": 43,
   "id": "ce1a2c7a",
   "metadata": {},
   "outputs": [
    {
     "data": {
      "text/html": [
       "<div><style>\n",
       ".dataframe > thead > tr,\n",
       ".dataframe > tbody > tr {\n",
       "  text-align: right;\n",
       "  white-space: pre-wrap;\n",
       "}\n",
       "</style>\n",
       "<small>shape: (5, 7)</small><table border=\"1\" class=\"dataframe\"><thead><tr><th>id</th><th>var1</th><th>var2</th><th>var3</th><th>r</th><th>rh</th><th>best friends</th></tr><tr><td>u32</td><td>f64</td><td>f64</td><td>f64</td><td>f64</td><td>f64</td><td>list[u32]</td></tr></thead><tbody><tr><td>0</td><td>0.78742</td><td>0.039981</td><td>0.970969</td><td>0.535949</td><td>6.958554</td><td>[0, 453, … 114]</td></tr><tr><td>1</td><td>0.459572</td><td>0.530897</td><td>0.815052</td><td>0.564772</td><td>0.918177</td><td>[1, 463, … 615]</td></tr><tr><td>2</td><td>0.303721</td><td>0.98004</td><td>0.656727</td><td>0.596589</td><td>1.330739</td><td>[2, 784, … 1510]</td></tr><tr><td>3</td><td>0.156137</td><td>0.147521</td><td>0.348696</td><td>0.43929</td><td>0.050149</td><td>[3, 1561, … 1493]</td></tr><tr><td>4</td><td>0.948207</td><td>0.784414</td><td>0.388157</td><td>0.963052</td><td>5.550648</td><td>[4, 1485, … 1188]</td></tr></tbody></table></div>"
      ],
      "text/plain": [
       "shape: (5, 7)\n",
       "┌─────┬──────────┬──────────┬──────────┬──────────┬──────────┬───────────────────┐\n",
       "│ id  ┆ var1     ┆ var2     ┆ var3     ┆ r        ┆ rh       ┆ best friends      │\n",
       "│ --- ┆ ---      ┆ ---      ┆ ---      ┆ ---      ┆ ---      ┆ ---               │\n",
       "│ u32 ┆ f64      ┆ f64      ┆ f64      ┆ f64      ┆ f64      ┆ list[u32]         │\n",
       "╞═════╪══════════╪══════════╪══════════╪══════════╪══════════╪═══════════════════╡\n",
       "│ 0   ┆ 0.78742  ┆ 0.039981 ┆ 0.970969 ┆ 0.535949 ┆ 6.958554 ┆ [0, 453, … 114]   │\n",
       "│ 1   ┆ 0.459572 ┆ 0.530897 ┆ 0.815052 ┆ 0.564772 ┆ 0.918177 ┆ [1, 463, … 615]   │\n",
       "│ 2   ┆ 0.303721 ┆ 0.98004  ┆ 0.656727 ┆ 0.596589 ┆ 1.330739 ┆ [2, 784, … 1510]  │\n",
       "│ 3   ┆ 0.156137 ┆ 0.147521 ┆ 0.348696 ┆ 0.43929  ┆ 0.050149 ┆ [3, 1561, … 1493] │\n",
       "│ 4   ┆ 0.948207 ┆ 0.784414 ┆ 0.388157 ┆ 0.963052 ┆ 5.550648 ┆ [4, 1485, … 1188] │\n",
       "└─────┴──────────┴──────────┴──────────┴──────────┴──────────┴───────────────────┘"
      ]
     },
     "execution_count": 43,
     "metadata": {},
     "output_type": "execute_result"
    }
   ],
   "source": [
    "# Get ids of the k nearest neighbors. \n",
    "# The point itself is always considered a neighbor to itself, so k + 1 elements will be returned.\n",
    "df.with_columns(\n",
    "    pds.query_knn_ptwise(\n",
    "        pl.col(\"var1\"), pl.col(\"var2\"), pl.col(\"var3\"), # Columns used as the coordinates in n-d space\n",
    "        index = \"id\",  # pl.col(\"id\"), str | pl.Expr\n",
    "        k = 3, \n",
    "        dist = \"l2\", # squared l2\n",
    "        parallel = True\n",
    "    ).alias(\"best friends\")\n",
    ").head() "
   ]
  },
  {
   "cell_type": "code",
   "execution_count": 44,
   "id": "67a769f3",
   "metadata": {},
   "outputs": [
    {
     "name": "stdout",
     "output_type": "stream",
     "text": [
      "shape: (5, 3)\n",
      "┌─────┬──────────────────┬────────────────────┐\n",
      "│ id  ┆ best friends     ┆ best friends count │\n",
      "│ --- ┆ ---              ┆ ---                │\n",
      "│ u32 ┆ list[u32]        ┆ u32                │\n",
      "╞═════╪══════════════════╪════════════════════╡\n",
      "│ 0   ┆ [0, 453, … 95]   ┆ 90                 │\n",
      "│ 1   ┆ [1, 463, … 560]  ┆ 249                │\n",
      "│ 2   ┆ [2, 784, … 1146] ┆ 154                │\n",
      "│ 3   ┆ [3, 1561, … 630] ┆ 221                │\n",
      "│ 4   ┆ [4, 1485, … 789] ┆ 140                │\n",
      "└─────┴──────────────────┴────────────────────┘\n"
     ]
    }
   ],
   "source": [
    "# Get all neighbors within radius r\n",
    "# The point itself is always considered a neighbor to itself.\n",
    "print(df.select(\n",
    "    pl.col(\"id\"),\n",
    "    pds.query_radius_ptwise(\n",
    "        pl.col(\"var1\"), pl.col(\"var2\"), pl.col(\"var3\"), # Columns used as the coordinates in n-d space\n",
    "        index = pl.col(\"id\"),\n",
    "        r = 0.1, \n",
    "        dist = \"l2\", # actually this is squared l2\n",
    "        parallel = True\n",
    "    ).alias(\"best friends\"),\n",
    ").with_columns( # -1 to remove the point itself\n",
    "    (pl.col(\"best friends\").list.len() - 1).alias(\"best friends count\")\n",
    ").head())"
   ]
  },
  {
   "cell_type": "code",
   "execution_count": 45,
   "id": "06cd7fb2",
   "metadata": {},
   "outputs": [
    {
     "data": {
      "text/html": [
       "<div><style>\n",
       ".dataframe > thead > tr,\n",
       ".dataframe > tbody > tr {\n",
       "  text-align: right;\n",
       "  white-space: pre-wrap;\n",
       "}\n",
       "</style>\n",
       "<small>shape: (5, 8)</small><table border=\"1\" class=\"dataframe\"><thead><tr><th>id</th><th>var1</th><th>var2</th><th>var3</th><th>r</th><th>rh</th><th>idx</th><th>dist</th></tr><tr><td>u32</td><td>f64</td><td>f64</td><td>f64</td><td>f64</td><td>f64</td><td>list[u32]</td><td>list[f64]</td></tr></thead><tbody><tr><td>0</td><td>0.78742</td><td>0.039981</td><td>0.970969</td><td>0.535949</td><td>6.958554</td><td>[0, 453, … 114]</td><td>[0.0, 0.000254, … 0.001885]</td></tr><tr><td>1</td><td>0.459572</td><td>0.530897</td><td>0.815052</td><td>0.564772</td><td>0.918177</td><td>[1, 463, … 615]</td><td>[0.0, 0.004463, … 0.006928]</td></tr><tr><td>2</td><td>0.303721</td><td>0.98004</td><td>0.656727</td><td>0.596589</td><td>1.330739</td><td>[2, 784, … 1510]</td><td>[0.0, 0.00233, … 0.003642]</td></tr><tr><td>3</td><td>0.156137</td><td>0.147521</td><td>0.348696</td><td>0.43929</td><td>0.050149</td><td>[3, 1561, … 1493]</td><td>[0.0, 0.000056, … 0.003643]</td></tr><tr><td>4</td><td>0.948207</td><td>0.784414</td><td>0.388157</td><td>0.963052</td><td>5.550648</td><td>[4, 1485, … 1188]</td><td>[0.0, 0.004609, … 0.009129]</td></tr></tbody></table></div>"
      ],
      "text/plain": [
       "shape: (5, 8)\n",
       "┌─────┬──────────┬──────────┬──────────┬──────────┬──────────┬──────────────────┬──────────────────┐\n",
       "│ id  ┆ var1     ┆ var2     ┆ var3     ┆ r        ┆ rh       ┆ idx              ┆ dist             │\n",
       "│ --- ┆ ---      ┆ ---      ┆ ---      ┆ ---      ┆ ---      ┆ ---              ┆ ---              │\n",
       "│ u32 ┆ f64      ┆ f64      ┆ f64      ┆ f64      ┆ f64      ┆ list[u32]        ┆ list[f64]        │\n",
       "╞═════╪══════════╪══════════╪══════════╪══════════╪══════════╪══════════════════╪══════════════════╡\n",
       "│ 0   ┆ 0.78742  ┆ 0.039981 ┆ 0.970969 ┆ 0.535949 ┆ 6.958554 ┆ [0, 453, … 114]  ┆ [0.0, 0.000254,  │\n",
       "│     ┆          ┆          ┆          ┆          ┆          ┆                  ┆ … 0.001885]      │\n",
       "│ 1   ┆ 0.459572 ┆ 0.530897 ┆ 0.815052 ┆ 0.564772 ┆ 0.918177 ┆ [1, 463, … 615]  ┆ [0.0, 0.004463,  │\n",
       "│     ┆          ┆          ┆          ┆          ┆          ┆                  ┆ … 0.006928]      │\n",
       "│ 2   ┆ 0.303721 ┆ 0.98004  ┆ 0.656727 ┆ 0.596589 ┆ 1.330739 ┆ [2, 784, … 1510] ┆ [0.0, 0.00233, … │\n",
       "│     ┆          ┆          ┆          ┆          ┆          ┆                  ┆ 0.003642]        │\n",
       "│ 3   ┆ 0.156137 ┆ 0.147521 ┆ 0.348696 ┆ 0.43929  ┆ 0.050149 ┆ [3, 1561, …      ┆ [0.0, 0.000056,  │\n",
       "│     ┆          ┆          ┆          ┆          ┆          ┆ 1493]            ┆ … 0.003643]      │\n",
       "│ 4   ┆ 0.948207 ┆ 0.784414 ┆ 0.388157 ┆ 0.963052 ┆ 5.550648 ┆ [4, 1485, …      ┆ [0.0, 0.004609,  │\n",
       "│     ┆          ┆          ┆          ┆          ┆          ┆ 1188]            ┆ … 0.009129]      │\n",
       "└─────┴──────────┴──────────┴──────────┴──────────┴──────────┴──────────────────┴──────────────────┘"
      ]
     },
     "execution_count": 45,
     "metadata": {},
     "output_type": "execute_result"
    }
   ],
   "source": [
    "# Get ids of the k nearest neighbors and distances\n",
    "# The point itself is always considered a neighbor to itself, so k + 1 elements will be returned.\n",
    "df.with_columns(\n",
    "    pds.query_knn_ptwise(\n",
    "        pl.col(\"var1\"), pl.col(\"var2\"), pl.col(\"var3\"), # Columns used as the coordinates in n-d space\n",
    "        index = pl.col(\"id\"),\n",
    "        k = 3, \n",
    "        dist = \"l2\", # actually this is squared l2\n",
    "        parallel = True,\n",
    "        return_dist = True\n",
    "    ).alias(\"best_friends_w_dist\")\n",
    ").unnest(\"best_friends_w_dist\").head()"
   ]
  },
  {
   "cell_type": "code",
   "execution_count": 46,
   "id": "b5c69ae4",
   "metadata": {},
   "outputs": [
    {
     "data": {
      "text/html": [
       "<div><style>\n",
       ".dataframe > thead > tr,\n",
       ".dataframe > tbody > tr {\n",
       "  text-align: right;\n",
       "  white-space: pre-wrap;\n",
       "}\n",
       "</style>\n",
       "<small>shape: (5, 6)</small><table border=\"1\" class=\"dataframe\"><thead><tr><th>id</th><th>var1</th><th>var2</th><th>var3</th><th>r</th><th>rh</th></tr><tr><td>u32</td><td>f64</td><td>f64</td><td>f64</td><td>f64</td><td>f64</td></tr></thead><tbody><tr><td>1</td><td>0.459572</td><td>0.530897</td><td>0.815052</td><td>0.564772</td><td>0.918177</td></tr><tr><td>10</td><td>0.177432</td><td>0.463327</td><td>0.354092</td><td>0.932493</td><td>9.520162</td></tr><tr><td>12</td><td>0.193013</td><td>0.267148</td><td>0.308096</td><td>0.441098</td><td>1.657274</td></tr><tr><td>14</td><td>0.33991</td><td>0.684942</td><td>0.831401</td><td>0.979315</td><td>1.569871</td></tr><tr><td>21</td><td>0.486707</td><td>0.629695</td><td>0.392604</td><td>0.83484</td><td>6.098153</td></tr></tbody></table></div>"
      ],
      "text/plain": [
       "shape: (5, 6)\n",
       "┌─────┬──────────┬──────────┬──────────┬──────────┬──────────┐\n",
       "│ id  ┆ var1     ┆ var2     ┆ var3     ┆ r        ┆ rh       │\n",
       "│ --- ┆ ---      ┆ ---      ┆ ---      ┆ ---      ┆ ---      │\n",
       "│ u32 ┆ f64      ┆ f64      ┆ f64      ┆ f64      ┆ f64      │\n",
       "╞═════╪══════════╪══════════╪══════════╪══════════╪══════════╡\n",
       "│ 1   ┆ 0.459572 ┆ 0.530897 ┆ 0.815052 ┆ 0.564772 ┆ 0.918177 │\n",
       "│ 10  ┆ 0.177432 ┆ 0.463327 ┆ 0.354092 ┆ 0.932493 ┆ 9.520162 │\n",
       "│ 12  ┆ 0.193013 ┆ 0.267148 ┆ 0.308096 ┆ 0.441098 ┆ 1.657274 │\n",
       "│ 14  ┆ 0.33991  ┆ 0.684942 ┆ 0.831401 ┆ 0.979315 ┆ 1.569871 │\n",
       "│ 21  ┆ 0.486707 ┆ 0.629695 ┆ 0.392604 ┆ 0.83484  ┆ 6.098153 │\n",
       "└─────┴──────────┴──────────┴──────────┴──────────┴──────────┘"
      ]
     },
     "execution_count": 46,
     "metadata": {},
     "output_type": "execute_result"
    }
   ],
   "source": [
    "# Filter to only points near the given point\n",
    "df.filter(\n",
    "    pds.within_dist_from(\n",
    "        pl.col(\"var1\"), pl.col(\"var2\"), pl.col(\"var3\"), # Columns used as the coordinates in n-d space\n",
    "        pt = [0.5, 0.5, 0.5],\n",
    "        r = 0.2,\n",
    "        dist = \"l2\" # actually this is squared l2, so this is asking for squared l2 <= 0.2\n",
    "    )\n",
    ").head()"
   ]
  },
  {
   "cell_type": "code",
   "execution_count": 47,
   "id": "4ab9e8f8",
   "metadata": {},
   "outputs": [
    {
     "data": {
      "text/html": [
       "<div><style>\n",
       ".dataframe > thead > tr,\n",
       ".dataframe > tbody > tr {\n",
       "  text-align: right;\n",
       "  white-space: pre-wrap;\n",
       "}\n",
       "</style>\n",
       "<small>shape: (5, 6)</small><table border=\"1\" class=\"dataframe\"><thead><tr><th>id</th><th>var1</th><th>var2</th><th>var3</th><th>r</th><th>rh</th></tr><tr><td>u32</td><td>f64</td><td>f64</td><td>f64</td><td>f64</td><td>f64</td></tr></thead><tbody><tr><td>1</td><td>0.459572</td><td>0.530897</td><td>0.815052</td><td>0.564772</td><td>0.918177</td></tr><tr><td>36</td><td>0.52125</td><td>0.487166</td><td>0.165547</td><td>0.853934</td><td>5.989968</td></tr><tr><td>43</td><td>0.548018</td><td>0.4681</td><td>0.667315</td><td>0.235272</td><td>7.258679</td></tr><tr><td>96</td><td>0.468322</td><td>0.422567</td><td>0.026001</td><td>0.349229</td><td>0.946792</td></tr><tr><td>157</td><td>0.528324</td><td>0.414781</td><td>0.435373</td><td>0.74664</td><td>7.015706</td></tr></tbody></table></div>"
      ],
      "text/plain": [
       "shape: (5, 6)\n",
       "┌─────┬──────────┬──────────┬──────────┬──────────┬──────────┐\n",
       "│ id  ┆ var1     ┆ var2     ┆ var3     ┆ r        ┆ rh       │\n",
       "│ --- ┆ ---      ┆ ---      ┆ ---      ┆ ---      ┆ ---      │\n",
       "│ u32 ┆ f64      ┆ f64      ┆ f64      ┆ f64      ┆ f64      │\n",
       "╞═════╪══════════╪══════════╪══════════╪══════════╪══════════╡\n",
       "│ 1   ┆ 0.459572 ┆ 0.530897 ┆ 0.815052 ┆ 0.564772 ┆ 0.918177 │\n",
       "│ 36  ┆ 0.52125  ┆ 0.487166 ┆ 0.165547 ┆ 0.853934 ┆ 5.989968 │\n",
       "│ 43  ┆ 0.548018 ┆ 0.4681   ┆ 0.667315 ┆ 0.235272 ┆ 7.258679 │\n",
       "│ 96  ┆ 0.468322 ┆ 0.422567 ┆ 0.026001 ┆ 0.349229 ┆ 0.946792 │\n",
       "│ 157 ┆ 0.528324 ┆ 0.414781 ┆ 0.435373 ┆ 0.74664  ┆ 7.015706 │\n",
       "└─────┴──────────┴──────────┴──────────┴──────────┴──────────┘"
      ]
     },
     "execution_count": 47,
     "metadata": {},
     "output_type": "execute_result"
    }
   ],
   "source": [
    "# Haversine distance is available when dimension is 2\n",
    "df.filter(\n",
    "    pds.within_dist_from(\n",
    "        pl.col(\"var1\"), pl.col(\"var2\"), # Columns used as the coordinates in n-d space\n",
    "        pt = [0.5, 0.5],\n",
    "        r = 10, # in km\n",
    "        dist = \"h\" \n",
    "    )\n",
    ").head()"
   ]
  },
  {
   "cell_type": "code",
   "execution_count": 48,
   "id": "7d3f5ae4",
   "metadata": {},
   "outputs": [
    {
     "data": {
      "text/html": [
       "<div><style>\n",
       ".dataframe > thead > tr,\n",
       ".dataframe > tbody > tr {\n",
       "  text-align: right;\n",
       "  white-space: pre-wrap;\n",
       "}\n",
       "</style>\n",
       "<small>shape: (5, 6)</small><table border=\"1\" class=\"dataframe\"><thead><tr><th>id</th><th>var1</th><th>var2</th><th>var3</th><th>r</th><th>rh</th></tr><tr><td>u32</td><td>f64</td><td>f64</td><td>f64</td><td>f64</td><td>f64</td></tr></thead><tbody><tr><td>36</td><td>0.52125</td><td>0.487166</td><td>0.165547</td><td>0.853934</td><td>5.989968</td></tr><tr><td>43</td><td>0.548018</td><td>0.4681</td><td>0.667315</td><td>0.235272</td><td>7.258679</td></tr><tr><td>399</td><td>0.459904</td><td>0.529395</td><td>0.477996</td><td>0.21315</td><td>9.990249</td></tr><tr><td>615</td><td>0.497956</td><td>0.55592</td><td>0.884539</td><td>0.697242</td><td>7.829531</td></tr><tr><td>673</td><td>0.515309</td><td>0.506294</td><td>0.7482</td><td>0.989028</td><td>9.553494</td></tr></tbody></table></div>"
      ],
      "text/plain": [
       "shape: (5, 6)\n",
       "┌─────┬──────────┬──────────┬──────────┬──────────┬──────────┐\n",
       "│ id  ┆ var1     ┆ var2     ┆ var3     ┆ r        ┆ rh       │\n",
       "│ --- ┆ ---      ┆ ---      ┆ ---      ┆ ---      ┆ ---      │\n",
       "│ u32 ┆ f64      ┆ f64      ┆ f64      ┆ f64      ┆ f64      │\n",
       "╞═════╪══════════╪══════════╪══════════╪══════════╪══════════╡\n",
       "│ 36  ┆ 0.52125  ┆ 0.487166 ┆ 0.165547 ┆ 0.853934 ┆ 5.989968 │\n",
       "│ 43  ┆ 0.548018 ┆ 0.4681   ┆ 0.667315 ┆ 0.235272 ┆ 7.258679 │\n",
       "│ 399 ┆ 0.459904 ┆ 0.529395 ┆ 0.477996 ┆ 0.21315  ┆ 9.990249 │\n",
       "│ 615 ┆ 0.497956 ┆ 0.55592  ┆ 0.884539 ┆ 0.697242 ┆ 7.829531 │\n",
       "│ 673 ┆ 0.515309 ┆ 0.506294 ┆ 0.7482   ┆ 0.989028 ┆ 9.553494 │\n",
       "└─────┴──────────┴──────────┴──────────┴──────────┴──────────┘"
      ]
     },
     "execution_count": 48,
     "metadata": {},
     "output_type": "execute_result"
    }
   ],
   "source": [
    "df.filter(\n",
    "    pds.within_dist_from(\n",
    "        pl.col(\"var1\"), pl.col(\"var2\"), \n",
    "        pt = [0.5, 0.5],\n",
    "        # radius can also be an existing column in the dataframe.\n",
    "        r = pl.col(\"rh\"), \n",
    "        dist = \"h\" \n",
    "    )\n",
    ").head()"
   ]
  },
  {
   "cell_type": "code",
   "execution_count": 49,
   "id": "f14627bc",
   "metadata": {},
   "outputs": [
    {
     "data": {
      "text/html": [
       "<div><style>\n",
       ".dataframe > thead > tr,\n",
       ".dataframe > tbody > tr {\n",
       "  text-align: right;\n",
       "  white-space: pre-wrap;\n",
       "}\n",
       "</style>\n",
       "<small>shape: (5, 3)</small><table border=\"1\" class=\"dataframe\"><thead><tr><th>id</th><th>friends</th><th>count</th></tr><tr><td>u64</td><td>list[u32]</td><td>u32</td></tr></thead><tbody><tr><td>0</td><td>[0, 1197, … 1890]</td><td>83</td></tr><tr><td>1</td><td>[1, 399, … 1579]</td><td>133</td></tr><tr><td>2</td><td>[2, 1907, … 362]</td><td>77</td></tr><tr><td>3</td><td>[3, 1561, … 770]</td><td>136</td></tr><tr><td>4</td><td>[4, 1560, … 901]</td><td>84</td></tr></tbody></table></div>"
      ],
      "text/plain": [
       "shape: (5, 3)\n",
       "┌─────┬───────────────────┬───────┐\n",
       "│ id  ┆ friends           ┆ count │\n",
       "│ --- ┆ ---               ┆ ---   │\n",
       "│ u64 ┆ list[u32]         ┆ u32   │\n",
       "╞═════╪═══════════════════╪═══════╡\n",
       "│ 0   ┆ [0, 1197, … 1890] ┆ 83    │\n",
       "│ 1   ┆ [1, 399, … 1579]  ┆ 133   │\n",
       "│ 2   ┆ [2, 1907, … 362]  ┆ 77    │\n",
       "│ 3   ┆ [3, 1561, … 770]  ┆ 136   │\n",
       "│ 4   ┆ [4, 1560, … 901]  ┆ 84    │\n",
       "└─────┴───────────────────┴───────┘"
      ]
     },
     "execution_count": 49,
     "metadata": {},
     "output_type": "execute_result"
    }
   ],
   "source": [
    "friends = df.select(\n",
    "    pl.col(\"id\").cast(pl.UInt64),\n",
    "    pds.query_radius_ptwise(\n",
    "        # Columns used as the coordinates in n-d space\n",
    "        pl.col(\"var1\"), pl.col(\"var2\"), \n",
    "        index=pl.col(\"id\"),\n",
    "        r = 0.02, \n",
    "        dist = \"l2\",\n",
    "    ).alias(\"friends\")\n",
    ").with_columns(\n",
    "    pl.col(\"friends\").list.len().alias(\"count\")\n",
    ")\n",
    "friends.head()"
   ]
  },
  {
   "cell_type": "markdown",
   "id": "9f8eabf1",
   "metadata": {},
   "source": [
    "# String Nearest Neighbors\n",
    "\n",
    "This might be very slow for very large vocab / column."
   ]
  },
  {
   "cell_type": "code",
   "execution_count": 50,
   "id": "f2c9ed80",
   "metadata": {},
   "outputs": [],
   "source": [
    "df = pl.DataFrame({\n",
    "    \"a\":[\"AAAAA\", \"ABCABC\", \"AAAADDD\", \"ADSDSDS\", \"WORD\"],\n",
    "    \"b\":[\"AAAAT\", \"ABCACD\", \"ADSSD\", \"APPLES\", \"WORLD\"] \n",
    "})"
   ]
  },
  {
   "cell_type": "code",
   "execution_count": 51,
   "id": "062fd694",
   "metadata": {},
   "outputs": [
    {
     "data": {
      "text/html": [
       "<div><style>\n",
       ".dataframe > thead > tr,\n",
       ".dataframe > tbody > tr {\n",
       "  text-align: right;\n",
       "  white-space: pre-wrap;\n",
       "}\n",
       "</style>\n",
       "<small>shape: (5, 1)</small><table border=\"1\" class=\"dataframe\"><thead><tr><th>similar_words_from_vocab</th></tr><tr><td>str</td></tr></thead><tbody><tr><td>&quot;AAAAT&quot;</td></tr><tr><td>&quot;ABCACD&quot;</td></tr><tr><td>&quot;AAAAT&quot;</td></tr><tr><td>&quot;ADSSD&quot;</td></tr><tr><td>&quot;WORLD&quot;</td></tr></tbody></table></div>"
      ],
      "text/plain": [
       "shape: (5, 1)\n",
       "┌──────────────────────────┐\n",
       "│ similar_words_from_vocab │\n",
       "│ ---                      │\n",
       "│ str                      │\n",
       "╞══════════════════════════╡\n",
       "│ AAAAT                    │\n",
       "│ ABCACD                   │\n",
       "│ AAAAT                    │\n",
       "│ ADSSD                    │\n",
       "│ WORLD                    │\n",
       "└──────────────────────────┘"
      ]
     },
     "execution_count": 51,
     "metadata": {},
     "output_type": "execute_result"
    }
   ],
   "source": [
    "# Use Levenshtein to find the nearest neighbor in vocab to word in column a\n",
    "df.select(\n",
    "    pds.query_similar_words(\n",
    "        \"a\",\n",
    "        vocab = pl.col(\"b\"),\n",
    "        k = 1, \n",
    "        metric = \"lv\"\n",
    "    ).alias(\"similar_words_from_vocab\"),\n",
    ")"
   ]
  },
  {
   "cell_type": "code",
   "execution_count": 52,
   "id": "29437b8b",
   "metadata": {},
   "outputs": [
    {
     "data": {
      "text/html": [
       "<div><style>\n",
       ".dataframe > thead > tr,\n",
       ".dataframe > tbody > tr {\n",
       "  text-align: right;\n",
       "  white-space: pre-wrap;\n",
       "}\n",
       "</style>\n",
       "<small>shape: (5, 1)</small><table border=\"1\" class=\"dataframe\"><thead><tr><th>similar_words_from_vocab</th></tr><tr><td>list[str]</td></tr></thead><tbody><tr><td>[&quot;AAAAT&quot;, &quot;ADSSD&quot;]</td></tr><tr><td>[&quot;ABCACD&quot;, &quot;AAAAT&quot;]</td></tr><tr><td>[&quot;AAAAT&quot;, &quot;ABCACD&quot;]</td></tr><tr><td>[&quot;ADSSD&quot;, &quot;APPLES&quot;]</td></tr><tr><td>[&quot;WORLD&quot;, &quot;ADSSD&quot;]</td></tr></tbody></table></div>"
      ],
      "text/plain": [
       "shape: (5, 1)\n",
       "┌──────────────────────────┐\n",
       "│ similar_words_from_vocab │\n",
       "│ ---                      │\n",
       "│ list[str]                │\n",
       "╞══════════════════════════╡\n",
       "│ [\"AAAAT\", \"ADSSD\"]       │\n",
       "│ [\"ABCACD\", \"AAAAT\"]      │\n",
       "│ [\"AAAAT\", \"ABCACD\"]      │\n",
       "│ [\"ADSSD\", \"APPLES\"]      │\n",
       "│ [\"WORLD\", \"ADSSD\"]       │\n",
       "└──────────────────────────┘"
      ]
     },
     "execution_count": 52,
     "metadata": {},
     "output_type": "execute_result"
    }
   ],
   "source": [
    "# Use Levenshtein to find 2 nearest neighbors\n",
    "df.select(\n",
    "    pds.query_similar_words(\n",
    "        \"a\",\n",
    "        vocab = pl.col(\"b\"),\n",
    "        k = 2, \n",
    "        metric = \"lv\"\n",
    "    ).alias(\"similar_words_from_vocab\"),\n",
    ")"
   ]
  },
  {
   "cell_type": "code",
   "execution_count": 53,
   "id": "9150bece",
   "metadata": {},
   "outputs": [
    {
     "data": {
      "text/html": [
       "<div><style>\n",
       ".dataframe > thead > tr,\n",
       ".dataframe > tbody > tr {\n",
       "  text-align: right;\n",
       "  white-space: pre-wrap;\n",
       "}\n",
       "</style>\n",
       "<small>shape: (5, 1)</small><table border=\"1\" class=\"dataframe\"><thead><tr><th>similar_words_from_vocab</th></tr><tr><td>list[str]</td></tr></thead><tbody><tr><td>[&quot;AAAAT&quot;, &quot;ADSSD&quot;]</td></tr><tr><td>[&quot;ABCACD&quot;]</td></tr><tr><td>[]</td></tr><tr><td>[]</td></tr><tr><td>[]</td></tr></tbody></table></div>"
      ],
      "text/plain": [
       "shape: (5, 1)\n",
       "┌──────────────────────────┐\n",
       "│ similar_words_from_vocab │\n",
       "│ ---                      │\n",
       "│ list[str]                │\n",
       "╞══════════════════════════╡\n",
       "│ [\"AAAAT\", \"ADSSD\"]       │\n",
       "│ [\"ABCACD\"]               │\n",
       "│ []                       │\n",
       "│ []                       │\n",
       "│ []                       │\n",
       "└──────────────────────────┘"
      ]
     },
     "execution_count": 53,
     "metadata": {},
     "output_type": "execute_result"
    }
   ],
   "source": [
    "# Currently only Levenshtein and hamming are implemented for this\n",
    "# Empty means nothing in vocab can be compared in the hamming sense with the corresponding word in a\n",
    "df.select(\n",
    "    pds.query_similar_words(\n",
    "        \"a\",\n",
    "        vocab = pl.col(\"b\"),\n",
    "        k = 2, \n",
    "        threshold = 4,\n",
    "        metric = \"hamming\"\n",
    "    ).alias(\"similar_words_from_vocab\"),\n",
    ")"
   ]
  },
  {
   "cell_type": "code",
   "execution_count": 54,
   "id": "b35776a1",
   "metadata": {},
   "outputs": [
    {
     "data": {
      "text/html": [
       "<div><style>\n",
       ".dataframe > thead > tr,\n",
       ".dataframe > tbody > tr {\n",
       "  text-align: right;\n",
       "  white-space: pre-wrap;\n",
       "}\n",
       "</style>\n",
       "<small>shape: (5, 2)</small><table border=\"1\" class=\"dataframe\"><thead><tr><th>a</th><th>similar_words_from_vocab</th></tr><tr><td>str</td><td>list[str]</td></tr></thead><tbody><tr><td>&quot;AAAAA&quot;</td><td>[&quot;AAAAA&quot;, &quot;ZIV&quot;, &quot;WORLD&quot;]</td></tr><tr><td>&quot;ABCABC&quot;</td><td>[&quot;ABCDEFG&quot;, &quot;AAAAA&quot;, &quot;ZIV&quot;]</td></tr><tr><td>&quot;AAAADDD&quot;</td><td>[&quot;AAAAA&quot;, &quot;WORLD&quot;, &quot;ABCDEFG&quot;]</td></tr><tr><td>&quot;ADSDSDS&quot;</td><td>[&quot;ABCDEFG&quot;, &quot;WORLD&quot;, &quot;AAAAA&quot;]</td></tr><tr><td>&quot;WORD&quot;</td><td>[&quot;WORLD&quot;, &quot;ZIV&quot;, &quot;TQQQ&quot;]</td></tr></tbody></table></div>"
      ],
      "text/plain": [
       "shape: (5, 2)\n",
       "┌─────────┬───────────────────────────────┐\n",
       "│ a       ┆ similar_words_from_vocab      │\n",
       "│ ---     ┆ ---                           │\n",
       "│ str     ┆ list[str]                     │\n",
       "╞═════════╪═══════════════════════════════╡\n",
       "│ AAAAA   ┆ [\"AAAAA\", \"ZIV\", \"WORLD\"]     │\n",
       "│ ABCABC  ┆ [\"ABCDEFG\", \"AAAAA\", \"ZIV\"]   │\n",
       "│ AAAADDD ┆ [\"AAAAA\", \"WORLD\", \"ABCDEFG\"] │\n",
       "│ ADSDSDS ┆ [\"ABCDEFG\", \"WORLD\", \"AAAAA\"] │\n",
       "│ WORD    ┆ [\"WORLD\", \"ZIV\", \"TQQQ\"]      │\n",
       "└─────────┴───────────────────────────────┘"
      ]
     },
     "execution_count": 54,
     "metadata": {},
     "output_type": "execute_result"
    }
   ],
   "source": [
    "# You may provide a vocab like this\n",
    "df.select(\n",
    "    pl.col(\"a\"),\n",
    "    pds.query_similar_words(\n",
    "        \"a\",\n",
    "        vocab = [\"WORLD\", \"AAAAA\", \"ABCDEFG\", \"ZIV\", \"TQQQ\"],\n",
    "        k = 3, \n",
    "        metric = \"lv\"\n",
    "    ).alias(\"similar_words_from_vocab\"),\n",
    ")"
   ]
  },
  {
   "cell_type": "markdown",
   "id": "98264a05",
   "metadata": {},
   "source": [
    "# Using PDS Expressions On Series / NumPy arrays"
   ]
  },
  {
   "cell_type": "code",
   "execution_count": 55,
   "id": "0a42a771",
   "metadata": {},
   "outputs": [
    {
     "data": {
      "text/html": [
       "<div><style>\n",
       ".dataframe > thead > tr,\n",
       ".dataframe > tbody > tr {\n",
       "  text-align: right;\n",
       "  white-space: pre-wrap;\n",
       "}\n",
       "</style>\n",
       "<small>shape: (5, 4)</small><table border=\"1\" class=\"dataframe\"><thead><tr><th>actual</th><th>predicted</th><th>0-2</th><th>0-9</th></tr><tr><td>f64</td><td>f64</td><td>i32</td><td>i32</td></tr></thead><tbody><tr><td>0.0</td><td>0.053652</td><td>2</td><td>1</td></tr><tr><td>1.0</td><td>0.858039</td><td>1</td><td>0</td></tr><tr><td>1.0</td><td>0.503168</td><td>1</td><td>7</td></tr><tr><td>0.0</td><td>0.732525</td><td>2</td><td>0</td></tr><tr><td>1.0</td><td>0.832277</td><td>2</td><td>6</td></tr></tbody></table></div>"
      ],
      "text/plain": [
       "shape: (5, 4)\n",
       "┌────────┬───────────┬─────┬─────┐\n",
       "│ actual ┆ predicted ┆ 0-2 ┆ 0-9 │\n",
       "│ ---    ┆ ---       ┆ --- ┆ --- │\n",
       "│ f64    ┆ f64       ┆ i32 ┆ i32 │\n",
       "╞════════╪═══════════╪═════╪═════╡\n",
       "│ 0.0    ┆ 0.053652  ┆ 2   ┆ 1   │\n",
       "│ 1.0    ┆ 0.858039  ┆ 1   ┆ 0   │\n",
       "│ 1.0    ┆ 0.503168  ┆ 1   ┆ 7   │\n",
       "│ 0.0    ┆ 0.732525  ┆ 2   ┆ 0   │\n",
       "│ 1.0    ┆ 0.832277  ┆ 2   ┆ 6   │\n",
       "└────────┴───────────┴─────┴─────┘"
      ]
     },
     "execution_count": 55,
     "metadata": {},
     "output_type": "execute_result"
    }
   ],
   "source": [
    "df = pds.random_data(size=100_000, n_cols=0).select(\n",
    "    pds.random(0.0, 1.0).round().alias(\"actual\"),\n",
    "    pds.random(0.0, 1.0).alias(\"predicted\"),\n",
    "    pds.random_int(0, 3).alias(\"0-2\"),\n",
    "    pds.random_int(0, 10).alias(\"0-9\"),\n",
    ")\n",
    "df.head()"
   ]
  },
  {
   "cell_type": "code",
   "execution_count": 56,
   "id": "70830d04",
   "metadata": {},
   "outputs": [
    {
     "data": {
      "text/html": [
       "<div><style>\n",
       ".dataframe > thead > tr,\n",
       ".dataframe > tbody > tr {\n",
       "  text-align: right;\n",
       "  white-space: pre-wrap;\n",
       "}\n",
       "</style>\n",
       "<small>shape: (1, 1)</small><table border=\"1\" class=\"dataframe\"><thead><tr><th>jaccard_col</th></tr><tr><td>f64</td></tr></thead><tbody><tr><td>0.3</td></tr></tbody></table></div>"
      ],
      "text/plain": [
       "shape: (1, 1)\n",
       "┌─────────────┐\n",
       "│ jaccard_col │\n",
       "│ ---         │\n",
       "│ f64         │\n",
       "╞═════════════╡\n",
       "│ 0.3         │\n",
       "└─────────────┘"
      ]
     },
     "execution_count": 56,
     "metadata": {},
     "output_type": "execute_result"
    }
   ],
   "source": [
    "pds.eval_series(\n",
    "    df[\"0-2\"], df[\"0-9\"], # use series as args\n",
    "    expr = \"query_jaccard_col\" # name of the pds expression\n",
    ")"
   ]
  },
  {
   "cell_type": "code",
   "execution_count": 57,
   "id": "e8c6d51b",
   "metadata": {},
   "outputs": [
    {
     "data": {
      "text/html": [
       "<div><style>\n",
       ".dataframe > thead > tr,\n",
       ".dataframe > tbody > tr {\n",
       "  text-align: right;\n",
       "  white-space: pre-wrap;\n",
       "}\n",
       "</style>\n",
       "<small>shape: (1, 5)</small><table border=\"1\" class=\"dataframe\"><thead><tr><th>precision</th><th>recall</th><th>f</th><th>average_precision</th><th>roc_auc</th></tr><tr><td>f64</td><td>f64</td><td>f64</td><td>f64</td><td>f64</td></tr></thead><tbody><tr><td>0.501603</td><td>0.500901</td><td>0.501252</td><td>0.500733</td><td>0.501364</td></tr></tbody></table></div>"
      ],
      "text/plain": [
       "shape: (1, 5)\n",
       "┌───────────┬──────────┬──────────┬───────────────────┬──────────┐\n",
       "│ precision ┆ recall   ┆ f        ┆ average_precision ┆ roc_auc  │\n",
       "│ ---       ┆ ---      ┆ ---      ┆ ---               ┆ ---      │\n",
       "│ f64       ┆ f64      ┆ f64      ┆ f64               ┆ f64      │\n",
       "╞═══════════╪══════════╪══════════╪═══════════════════╪══════════╡\n",
       "│ 0.501603  ┆ 0.500901 ┆ 0.501252 ┆ 0.500733          ┆ 0.501364 │\n",
       "└───────────┴──────────┴──────────┴───────────────────┴──────────┘"
      ]
     },
     "execution_count": 57,
     "metadata": {},
     "output_type": "execute_result"
    }
   ],
   "source": [
    "pds.eval_series(\n",
    "    df[\"actual\"], df[\"predicted\"], # use series as args\n",
    "    expr = \"query_binary_metrics\" # name of the pds expression\n",
    ").unnest(\"binary_metrics\")"
   ]
  },
  {
   "cell_type": "code",
   "execution_count": 58,
   "id": "9d15fc63",
   "metadata": {},
   "outputs": [
    {
     "data": {
      "text/html": [
       "<div><style>\n",
       ".dataframe > thead > tr,\n",
       ".dataframe > tbody > tr {\n",
       "  text-align: right;\n",
       "  white-space: pre-wrap;\n",
       "}\n",
       "</style>\n",
       "<small>shape: (1, 1)</small><table border=\"1\" class=\"dataframe\"><thead><tr><th>psi</th></tr><tr><td>f64</td></tr></thead><tbody><tr><td>0.008491</td></tr></tbody></table></div>"
      ],
      "text/plain": [
       "shape: (1, 1)\n",
       "┌──────────┐\n",
       "│ psi      │\n",
       "│ ---      │\n",
       "│ f64      │\n",
       "╞══════════╡\n",
       "│ 0.008491 │\n",
       "└──────────┘"
      ]
     },
     "execution_count": 58,
     "metadata": {},
     "output_type": "execute_result"
    }
   ],
   "source": [
    "pds.eval_series(\n",
    "    np.random.random(size = 1000), np.random.random(size = 1000), # can also use NumPy\n",
    "    expr = \"query_psi\", # name of the pds expression\n",
    "    n_bins = 5, \n",
    ")"
   ]
  },
  {
   "cell_type": "code",
   "execution_count": null,
   "id": "8c5c3fee",
   "metadata": {},
   "outputs": [],
   "source": []
  }
 ],
 "metadata": {
  "kernelspec": {
   "display_name": "Python 3 (ipykernel)",
   "language": "python",
   "name": "python3"
  },
  "language_info": {
   "codemirror_mode": {
    "name": "ipython",
    "version": 3
   },
   "file_extension": ".py",
   "mimetype": "text/x-python",
   "name": "python",
   "nbconvert_exporter": "python",
   "pygments_lexer": "ipython3",
   "version": "3.12.3"
  }
 },
 "nbformat": 4,
 "nbformat_minor": 5
}
