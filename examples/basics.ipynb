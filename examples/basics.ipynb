{
 "cells": [
  {
   "cell_type": "code",
   "execution_count": 1,
   "id": "529f4422-5c3a-4bd6-abe0-a15edfc62abb",
   "metadata": {},
   "outputs": [],
   "source": [
    "import polars_ds as pld\n",
    "import polars as pl\n",
    "import numpy as np "
   ]
  },
  {
   "cell_type": "markdown",
   "id": "3aef5c69-fff3-4779-9b58-f939d725f0b0",
   "metadata": {},
   "source": [
    "# Num Extensions"
   ]
  },
  {
   "cell_type": "code",
   "execution_count": 2,
   "id": "430fec01-5d0b-422f-b099-c86037512b6d",
   "metadata": {},
   "outputs": [
    {
     "data": {
      "text/html": [
       "<div><style>\n",
       ".dataframe > thead > tr,\n",
       ".dataframe > tbody > tr {\n",
       "  text-align: right;\n",
       "  white-space: pre-wrap;\n",
       "}\n",
       "</style>\n",
       "<small>shape: (5, 10)</small><table border=\"1\" class=\"dataframe\"><thead><tr><th>f</th><th>dummy</th><th>a</th><th>b</th><th>x1</th><th>x2</th><th>y</th><th>actual</th><th>predicted</th><th>dummy_groups</th></tr><tr><td>f64</td><td>str</td><td>f64</td><td>f64</td><td>i64</td><td>i64</td><td>i64</td><td>i32</td><td>f64</td><td>str</td></tr></thead><tbody><tr><td>0.0</td><td>&quot;a&quot;</td><td>0.329054</td><td>0.431276</td><td>0</td><td>100000</td><td>-100000</td><td>0</td><td>0.194481</td><td>&quot;a&quot;</td></tr><tr><td>0.841471</td><td>&quot;a&quot;</td><td>0.302734</td><td>0.186427</td><td>1</td><td>100001</td><td>-99999</td><td>1</td><td>0.615612</td><td>&quot;a&quot;</td></tr><tr><td>0.909297</td><td>&quot;a&quot;</td><td>0.066187</td><td>0.955182</td><td>2</td><td>100002</td><td>-99998</td><td>1</td><td>0.953673</td><td>&quot;a&quot;</td></tr><tr><td>0.14112</td><td>&quot;a&quot;</td><td>0.052694</td><td>0.399579</td><td>3</td><td>100003</td><td>-99997</td><td>0</td><td>0.90706</td><td>&quot;a&quot;</td></tr><tr><td>-0.756802</td><td>&quot;a&quot;</td><td>0.618107</td><td>0.307307</td><td>4</td><td>100004</td><td>-99996</td><td>0</td><td>0.115548</td><td>&quot;a&quot;</td></tr></tbody></table></div>"
      ],
      "text/plain": [
       "shape: (5, 10)\n",
       "┌───────────┬───────┬──────────┬──────────┬───┬─────────┬────────┬───────────┬──────────────┐\n",
       "│ f         ┆ dummy ┆ a        ┆ b        ┆ … ┆ y       ┆ actual ┆ predicted ┆ dummy_groups │\n",
       "│ ---       ┆ ---   ┆ ---      ┆ ---      ┆   ┆ ---     ┆ ---    ┆ ---       ┆ ---          │\n",
       "│ f64       ┆ str   ┆ f64      ┆ f64      ┆   ┆ i64     ┆ i32    ┆ f64       ┆ str          │\n",
       "╞═══════════╪═══════╪══════════╪══════════╪═══╪═════════╪════════╪═══════════╪══════════════╡\n",
       "│ 0.0       ┆ a     ┆ 0.329054 ┆ 0.431276 ┆ … ┆ -100000 ┆ 0      ┆ 0.194481  ┆ a            │\n",
       "│ 0.841471  ┆ a     ┆ 0.302734 ┆ 0.186427 ┆ … ┆ -99999  ┆ 1      ┆ 0.615612  ┆ a            │\n",
       "│ 0.909297  ┆ a     ┆ 0.066187 ┆ 0.955182 ┆ … ┆ -99998  ┆ 1      ┆ 0.953673  ┆ a            │\n",
       "│ 0.14112   ┆ a     ┆ 0.052694 ┆ 0.399579 ┆ … ┆ -99997  ┆ 0      ┆ 0.90706   ┆ a            │\n",
       "│ -0.756802 ┆ a     ┆ 0.618107 ┆ 0.307307 ┆ … ┆ -99996  ┆ 0      ┆ 0.115548  ┆ a            │\n",
       "└───────────┴───────┴──────────┴──────────┴───┴─────────┴────────┴───────────┴──────────────┘"
      ]
     },
     "execution_count": 2,
     "metadata": {},
     "output_type": "execute_result"
    }
   ],
   "source": [
    "size = 100_000\n",
    "df = pl.DataFrame({\n",
    "    \"f\": np.sin(list(range(size)))\n",
    "    , \"dummy\": [\"a\"] * (size // 2) + [\"b\"] * (size // 2)\n",
    "    , \"a\": np.random.random(size = size)\n",
    "    , \"b\": np.random.random(size = size)\n",
    "    , \"x1\" : range(size)\n",
    "    , \"x2\" : range(size, size + size)\n",
    "    , \"y\": range(-size, 0)\n",
    "    , \"actual\": np.round(np.random.random(size=100_000)).astype(np.int32)\n",
    "    , \"predicted\": np.random.random(size=100_000)\n",
    "    , \"dummy_groups\":[\"a\"] * (size//2) + [\"b\"] * (size//2) \n",
    "})\n",
    "df.head()"
   ]
  },
  {
   "cell_type": "code",
   "execution_count": 3,
   "id": "b6f98453-34cd-4afc-b35d-db58fa60a69a",
   "metadata": {},
   "outputs": [
    {
     "data": {
      "text/html": [
       "<div><style>\n",
       ".dataframe > thead > tr,\n",
       ".dataframe > tbody > tr {\n",
       "  text-align: right;\n",
       "  white-space: pre-wrap;\n",
       "}\n",
       "</style>\n",
       "<small>shape: (1, 1)</small><table border=\"1\" class=\"dataframe\"><thead><tr><th>x1</th></tr><tr><td>f64</td></tr></thead><tbody><tr><td>0.0</td></tr></tbody></table></div>"
      ],
      "text/plain": [
       "shape: (1, 1)\n",
       "┌─────┐\n",
       "│ x1  │\n",
       "│ --- │\n",
       "│ f64 │\n",
       "╞═════╡\n",
       "│ 0.0 │\n",
       "└─────┘"
      ]
     },
     "execution_count": 3,
     "metadata": {},
     "output_type": "execute_result"
    }
   ],
   "source": [
    "# Column-wise Jaccard Similarity. Result should be 0 as they are distinct\n",
    "df.select(\n",
    "    pl.col(\"x1\").num.jaccard(pl.col(\"x2\"))\n",
    ")"
   ]
  },
  {
   "cell_type": "code",
   "execution_count": 4,
   "id": "416d5346-e75b-4769-a953-e898d6a4d84c",
   "metadata": {},
   "outputs": [
    {
     "data": {
      "text/html": [
       "<div><style>\n",
       ".dataframe > thead > tr,\n",
       ".dataframe > tbody > tr {\n",
       "  text-align: right;\n",
       "  white-space: pre-wrap;\n",
       "}\n",
       "</style>\n",
       "<small>shape: (5, 1)</small><table border=\"1\" class=\"dataframe\"><thead><tr><th>f</th></tr><tr><td>list[f64]</td></tr></thead><tbody><tr><td>[1.812028, 0.0]</td></tr><tr><td>[1.812028, -0.000002]</td></tr><tr><td>[1.812028, -0.000005]</td></tr><tr><td>[1.812028, -0.000007]</td></tr><tr><td>[1.812028, -0.00001]</td></tr></tbody></table></div>"
      ],
      "text/plain": [
       "shape: (5, 1)\n",
       "┌───────────────────────┐\n",
       "│ f                     │\n",
       "│ ---                   │\n",
       "│ list[f64]             │\n",
       "╞═══════════════════════╡\n",
       "│ [1.812028, 0.0]       │\n",
       "│ [1.812028, -0.000002] │\n",
       "│ [1.812028, -0.000005] │\n",
       "│ [1.812028, -0.000007] │\n",
       "│ [1.812028, -0.00001]  │\n",
       "└───────────────────────┘"
      ]
     },
     "execution_count": 4,
     "metadata": {},
     "output_type": "execute_result"
    }
   ],
   "source": [
    "# FFT\n",
    "df.select(\n",
    "    pl.col(\"f\").num.rfft()\n",
    ").head()"
   ]
  },
  {
   "cell_type": "code",
   "execution_count": 5,
   "id": "ed47b643-6bcc-43f6-9a25-82168c33e7fd",
   "metadata": {},
   "outputs": [
    {
     "data": {
      "text/html": [
       "<div><style>\n",
       ".dataframe > thead > tr,\n",
       ".dataframe > tbody > tr {\n",
       "  text-align: right;\n",
       "  white-space: pre-wrap;\n",
       "}\n",
       "</style>\n",
       "<small>shape: (1, 1)</small><table border=\"1\" class=\"dataframe\"><thead><tr><th>y</th></tr><tr><td>list[f64]</td></tr></thead><tbody><tr><td>[2.0, -1.0]</td></tr></tbody></table></div>"
      ],
      "text/plain": [
       "shape: (1, 1)\n",
       "┌─────────────┐\n",
       "│ y           │\n",
       "│ ---         │\n",
       "│ list[f64]   │\n",
       "╞═════════════╡\n",
       "│ [2.0, -1.0] │\n",
       "└─────────────┘"
      ]
     },
     "execution_count": 5,
     "metadata": {},
     "output_type": "execute_result"
    }
   ],
   "source": [
    "# Least Square (Linear Regression)\n",
    "df.select(\n",
    "    pl.col(\"y\").num.lstsq(pl.col(\"x1\"), pl.col(\"x2\"), add_bias=False)\n",
    ")"
   ]
  },
  {
   "cell_type": "code",
   "execution_count": 6,
   "metadata": {},
   "outputs": [
    {
     "data": {
      "text/html": [
       "<div><style>\n",
       ".dataframe > thead > tr,\n",
       ".dataframe > tbody > tr {\n",
       "  text-align: right;\n",
       "  white-space: pre-wrap;\n",
       "}\n",
       "</style>\n",
       "<small>shape: (1, 1)</small><table border=\"1\" class=\"dataframe\"><thead><tr><th>y</th></tr><tr><td>list[f64]</td></tr></thead><tbody><tr><td>[2.0, -1.0]</td></tr></tbody></table></div>"
      ],
      "text/plain": [
       "shape: (1, 1)\n",
       "┌─────────────┐\n",
       "│ y           │\n",
       "│ ---         │\n",
       "│ list[f64]   │\n",
       "╞═════════════╡\n",
       "│ [2.0, -1.0] │\n",
       "└─────────────┘"
      ]
     },
     "execution_count": 6,
     "metadata": {},
     "output_type": "execute_result"
    }
   ],
   "source": [
    "df.lazy().select(\n",
    "    pl.col(\"y\").num.lstsq(pl.col(\"x1\"), pl.col(\"x2\"), add_bias=False)\n",
    ").collect()"
   ]
  },
  {
   "cell_type": "code",
   "execution_count": 7,
   "id": "16511624-fc7f-45fc-b28e-ad9a91c1bfe9",
   "metadata": {},
   "outputs": [
    {
     "data": {
      "text/html": [
       "<div><style>\n",
       ".dataframe > thead > tr,\n",
       ".dataframe > tbody > tr {\n",
       "  text-align: right;\n",
       "  white-space: pre-wrap;\n",
       "}\n",
       "</style>\n",
       "<small>shape: (5, 1)</small><table border=\"1\" class=\"dataframe\"><thead><tr><th>list_float</th></tr><tr><td>list[f64]</td></tr></thead><tbody><tr><td>[2.0, -1.0]</td></tr><tr><td>[2.0, -1.0]</td></tr><tr><td>[2.0, -1.0]</td></tr><tr><td>[2.0, -1.0]</td></tr><tr><td>[2.0, -1.0]</td></tr></tbody></table></div>"
      ],
      "text/plain": [
       "shape: (5, 1)\n",
       "┌─────────────┐\n",
       "│ list_float  │\n",
       "│ ---         │\n",
       "│ list[f64]   │\n",
       "╞═════════════╡\n",
       "│ [2.0, -1.0] │\n",
       "│ [2.0, -1.0] │\n",
       "│ [2.0, -1.0] │\n",
       "│ [2.0, -1.0] │\n",
       "│ [2.0, -1.0] │\n",
       "└─────────────┘"
      ]
     },
     "execution_count": 7,
     "metadata": {},
     "output_type": "execute_result"
    }
   ],
   "source": [
    "df.select(\n",
    "    pl.col(\"y\").num.lstsq(pl.col(\"x1\"), pl.col(\"x2\"), add_bias=False).over(pl.col(\"dummy\"))\n",
    ").head()"
   ]
  },
  {
   "cell_type": "code",
   "execution_count": 8,
   "id": "0e9fb061-340d-423d-9107-772387006ff2",
   "metadata": {},
   "outputs": [
    {
     "data": {
      "text/html": [
       "<div><style>\n",
       ".dataframe > thead > tr,\n",
       ".dataframe > tbody > tr {\n",
       "  text-align: right;\n",
       "  white-space: pre-wrap;\n",
       "}\n",
       "</style>\n",
       "<small>shape: (2, 2)</small><table border=\"1\" class=\"dataframe\"><thead><tr><th>dummy</th><th>list_float</th></tr><tr><td>str</td><td>list[f64]</td></tr></thead><tbody><tr><td>&quot;b&quot;</td><td>[2.0, -1.0]</td></tr><tr><td>&quot;a&quot;</td><td>[2.0, -1.0]</td></tr></tbody></table></div>"
      ],
      "text/plain": [
       "shape: (2, 2)\n",
       "┌───────┬─────────────┐\n",
       "│ dummy ┆ list_float  │\n",
       "│ ---   ┆ ---         │\n",
       "│ str   ┆ list[f64]   │\n",
       "╞═══════╪═════════════╡\n",
       "│ b     ┆ [2.0, -1.0] │\n",
       "│ a     ┆ [2.0, -1.0] │\n",
       "└───────┴─────────────┘"
      ]
     },
     "execution_count": 8,
     "metadata": {},
     "output_type": "execute_result"
    }
   ],
   "source": [
    "df.group_by(\"dummy\").agg(\n",
    "    pl.col(\"y\").num.lstsq(pl.col(\"x1\"), pl.col(\"x2\"), add_bias=False)\n",
    ")\n"
   ]
  },
  {
   "cell_type": "code",
   "execution_count": 9,
   "id": "d8fda8ca-57e7-4e02-a3f0-283ecce66a59",
   "metadata": {},
   "outputs": [
    {
     "data": {
      "text/html": [
       "<div><style>\n",
       ".dataframe > thead > tr,\n",
       ".dataframe > tbody > tr {\n",
       "  text-align: right;\n",
       "  white-space: pre-wrap;\n",
       "}\n",
       "</style>\n",
       "<small>shape: (1, 1)</small><table border=\"1\" class=\"dataframe\"><thead><tr><th>y</th></tr><tr><td>f64</td></tr></thead><tbody><tr><td>-0.0</td></tr></tbody></table></div>"
      ],
      "text/plain": [
       "shape: (1, 1)\n",
       "┌──────┐\n",
       "│ y    │\n",
       "│ ---  │\n",
       "│ f64  │\n",
       "╞══════╡\n",
       "│ -0.0 │\n",
       "└──────┘"
      ]
     },
     "execution_count": 9,
     "metadata": {},
     "output_type": "execute_result"
    }
   ],
   "source": [
    "# Conditional Entropy, should be 0 because x1 is an ID\n",
    "df.select(\n",
    "    pl.col(\"y\").num.cond_entropy(pl.col(\"x1\"))\n",
    ")"
   ]
  },
  {
   "cell_type": "code",
   "execution_count": 10,
   "id": "85d0d094-3c4c-4230-a589-1027c5690162",
   "metadata": {},
   "outputs": [
    {
     "data": {
      "text/html": [
       "<div><style>\n",
       ".dataframe > thead > tr,\n",
       ".dataframe > tbody > tr {\n",
       "  text-align: right;\n",
       "  white-space: pre-wrap;\n",
       "}\n",
       "</style>\n",
       "<small>shape: (2, 8)</small><table border=\"1\" class=\"dataframe\"><thead><tr><th>dummy_groups</th><th>l2</th><th>log loss</th><th>precision</th><th>recall</th><th>f</th><th>average_precision</th><th>roc_auc</th></tr><tr><td>str</td><td>f64</td><td>f64</td><td>f64</td><td>f64</td><td>f64</td><td>f64</td><td>f64</td></tr></thead><tbody><tr><td>&quot;b&quot;</td><td>0.335546</td><td>1.005173</td><td>0.498574</td><td>0.496142</td><td>0.248677</td><td>0.495425</td><td>0.495449</td></tr><tr><td>&quot;a&quot;</td><td>0.334022</td><td>0.997736</td><td>0.500377</td><td>0.502168</td><td>0.250635</td><td>0.501932</td><td>0.498258</td></tr></tbody></table></div>"
      ],
      "text/plain": [
       "shape: (2, 8)\n",
       "┌──────────────┬──────────┬──────────┬───────────┬──────────┬──────────┬────────────────┬──────────┐\n",
       "│ dummy_groups ┆ l2       ┆ log loss ┆ precision ┆ recall   ┆ f        ┆ average_precis ┆ roc_auc  │\n",
       "│ ---          ┆ ---      ┆ ---      ┆ ---       ┆ ---      ┆ ---      ┆ ion            ┆ ---      │\n",
       "│ str          ┆ f64      ┆ f64      ┆ f64       ┆ f64      ┆ f64      ┆ ---            ┆ f64      │\n",
       "│              ┆          ┆          ┆           ┆          ┆          ┆ f64            ┆          │\n",
       "╞══════════════╪══════════╪══════════╪═══════════╪══════════╪══════════╪════════════════╪══════════╡\n",
       "│ b            ┆ 0.335546 ┆ 1.005173 ┆ 0.498574  ┆ 0.496142 ┆ 0.248677 ┆ 0.495425       ┆ 0.495449 │\n",
       "│ a            ┆ 0.334022 ┆ 0.997736 ┆ 0.500377  ┆ 0.502168 ┆ 0.250635 ┆ 0.501932       ┆ 0.498258 │\n",
       "└──────────────┴──────────┴──────────┴───────────┴──────────┴──────────┴────────────────┴──────────┘"
      ]
     },
     "execution_count": 10,
     "metadata": {},
     "output_type": "execute_result"
    }
   ],
   "source": [
    "df.group_by(\"dummy_groups\").agg(\n",
    "    pl.col(\"actual\").metric.l2_loss(pl.col(\"predicted\")).alias(\"l2\"),\n",
    "    pl.col(\"actual\").metric.bce(pl.col(\"predicted\")).alias(\"log loss\"),\n",
    "    pl.col(\"actual\").metric.binary_metrics_combo(pl.col(\"predicted\")).alias(\"combo\")\n",
    ").unnest(\"combo\")\n"
   ]
  },
  {
   "cell_type": "markdown",
   "id": "a8d7c6e3-0f1d-45f0-9fdb-cdb303b98556",
   "metadata": {},
   "source": [
    "# Str Extension"
   ]
  },
  {
   "cell_type": "code",
   "execution_count": 11,
   "id": "54ad36f9-264e-4a49-bf36-936639440edf",
   "metadata": {},
   "outputs": [
    {
     "data": {
      "text/html": [
       "<div><style>\n",
       ".dataframe > thead > tr,\n",
       ".dataframe > tbody > tr {\n",
       "  text-align: right;\n",
       "  white-space: pre-wrap;\n",
       "}\n",
       "</style>\n",
       "<small>shape: (5, 2)</small><table border=\"1\" class=\"dataframe\"><thead><tr><th>sen</th><th>word</th></tr><tr><td>str</td><td>str</td></tr></thead><tbody><tr><td>&quot;Hello, world! …</td><td>&quot;words&quot;</td></tr><tr><td>&quot;Hello, world! …</td><td>&quot;word&quot;</td></tr><tr><td>&quot;Hello, world! …</td><td>&quot;words&quot;</td></tr><tr><td>&quot;Hello, world! …</td><td>&quot;word&quot;</td></tr><tr><td>&quot;Hello, world! …</td><td>&quot;words&quot;</td></tr></tbody></table></div>"
      ],
      "text/plain": [
       "shape: (5, 2)\n",
       "┌───────────────────────────────────┬───────┐\n",
       "│ sen                               ┆ word  │\n",
       "│ ---                               ┆ ---   │\n",
       "│ str                               ┆ str   │\n",
       "╞═══════════════════════════════════╪═══════╡\n",
       "│ Hello, world! I'm going to churc… ┆ words │\n",
       "│ Hello, world! I'm going to churc… ┆ word  │\n",
       "│ Hello, world! I'm going to churc… ┆ words │\n",
       "│ Hello, world! I'm going to churc… ┆ word  │\n",
       "│ Hello, world! I'm going to churc… ┆ words │\n",
       "└───────────────────────────────────┴───────┘"
      ]
     },
     "execution_count": 11,
     "metadata": {},
     "output_type": "execute_result"
    }
   ],
   "source": [
    "size = 100_000\n",
    "df2 = pl.DataFrame({\n",
    "    \"sen\":[\"Hello, world! I'm going to church.\"] * size,\n",
    "    \"word\":[\"words\", \"word\"] * (size //2)\n",
    "})\n",
    "df2.head()"
   ]
  },
  {
   "cell_type": "code",
   "execution_count": 12,
   "id": "ee123a7e-7f9b-4f48-a5d5-6354799201ab",
   "metadata": {},
   "outputs": [
    {
     "data": {
      "text/html": [
       "<div><style>\n",
       ".dataframe > thead > tr,\n",
       ".dataframe > tbody > tr {\n",
       "  text-align: right;\n",
       "  white-space: pre-wrap;\n",
       "}\n",
       "</style>\n",
       "<small>shape: (5, 1)</small><table border=\"1\" class=\"dataframe\"><thead><tr><th>sen</th></tr><tr><td>str</td></tr></thead><tbody><tr><td>&quot;to&quot;</td></tr><tr><td>&quot;hello&quot;</td></tr><tr><td>&quot;going&quot;</td></tr><tr><td>&quot;world&quot;</td></tr><tr><td>&quot;church&quot;</td></tr></tbody></table></div>"
      ],
      "text/plain": [
       "shape: (5, 1)\n",
       "┌────────┐\n",
       "│ sen    │\n",
       "│ ---    │\n",
       "│ str    │\n",
       "╞════════╡\n",
       "│ to     │\n",
       "│ hello  │\n",
       "│ going  │\n",
       "│ world  │\n",
       "│ church │\n",
       "└────────┘"
      ]
     },
     "execution_count": 12,
     "metadata": {},
     "output_type": "execute_result"
    }
   ],
   "source": [
    "# Tokenize\n",
    "df2.select(\n",
    "    pl.col(\"sen\").str.to_lowercase().str2.tokenize().explode().unique()\n",
    ")"
   ]
  },
  {
   "cell_type": "code",
   "execution_count": 13,
   "id": "f33017e3-17df-498b-93d9-1d656a344388",
   "metadata": {},
   "outputs": [
    {
     "data": {
      "text/html": [
       "<div><style>\n",
       ".dataframe > thead > tr,\n",
       ".dataframe > tbody > tr {\n",
       "  text-align: right;\n",
       "  white-space: pre-wrap;\n",
       "}\n",
       "</style>\n",
       "<small>shape: (4, 1)</small><table border=\"1\" class=\"dataframe\"><thead><tr><th>sen</th></tr><tr><td>str</td></tr></thead><tbody><tr><td>&quot;go&quot;</td></tr><tr><td>&quot;hello&quot;</td></tr><tr><td>&quot;church&quot;</td></tr><tr><td>&quot;world&quot;</td></tr></tbody></table></div>"
      ],
      "text/plain": [
       "shape: (4, 1)\n",
       "┌────────┐\n",
       "│ sen    │\n",
       "│ ---    │\n",
       "│ str    │\n",
       "╞════════╡\n",
       "│ go     │\n",
       "│ hello  │\n",
       "│ church │\n",
       "│ world  │\n",
       "└────────┘"
      ]
     },
     "execution_count": 13,
     "metadata": {},
     "output_type": "execute_result"
    }
   ],
   "source": [
    "df2.select(\n",
    "    pl.col(\"sen\").str.to_lowercase().str2.tokenize(stem=True).explode().unique()\n",
    ")"
   ]
  },
  {
   "cell_type": "code",
   "execution_count": 14,
   "id": "69237c02-5f9f-4e92-b68d-6ac43aad1a79",
   "metadata": {},
   "outputs": [
    {
     "data": {
      "text/html": [
       "<div><style>\n",
       ".dataframe > thead > tr,\n",
       ".dataframe > tbody > tr {\n",
       "  text-align: right;\n",
       "  white-space: pre-wrap;\n",
       "}\n",
       "</style>\n",
       "<small>shape: (5, 1)</small><table border=\"1\" class=\"dataframe\"><thead><tr><th>word</th></tr><tr><td>u32</td></tr></thead><tbody><tr><td>2</td></tr><tr><td>1</td></tr><tr><td>2</td></tr><tr><td>1</td></tr><tr><td>2</td></tr></tbody></table></div>"
      ],
      "text/plain": [
       "shape: (5, 1)\n",
       "┌──────┐\n",
       "│ word │\n",
       "│ ---  │\n",
       "│ u32  │\n",
       "╞══════╡\n",
       "│ 2    │\n",
       "│ 1    │\n",
       "│ 2    │\n",
       "│ 1    │\n",
       "│ 2    │\n",
       "└──────┘"
      ]
     },
     "execution_count": 14,
     "metadata": {},
     "output_type": "execute_result"
    }
   ],
   "source": [
    "df2.select(\n",
    "    pl.col(\"word\").str2.levenshtein(\"world\")\n",
    ").head()"
   ]
  },
  {
   "cell_type": "code",
   "execution_count": 15,
   "metadata": {},
   "outputs": [
    {
     "data": {
      "text/html": [
       "<div><style>\n",
       ".dataframe > thead > tr,\n",
       ".dataframe > tbody > tr {\n",
       "  text-align: right;\n",
       "  white-space: pre-wrap;\n",
       "}\n",
       "</style>\n",
       "<small>shape: (5, 1)</small><table border=\"1\" class=\"dataframe\"><thead><tr><th>word</th></tr><tr><td>u32</td></tr></thead><tbody><tr><td>2</td></tr><tr><td>1</td></tr><tr><td>2</td></tr><tr><td>1</td></tr><tr><td>2</td></tr></tbody></table></div>"
      ],
      "text/plain": [
       "shape: (5, 1)\n",
       "┌──────┐\n",
       "│ word │\n",
       "│ ---  │\n",
       "│ u32  │\n",
       "╞══════╡\n",
       "│ 2    │\n",
       "│ 1    │\n",
       "│ 2    │\n",
       "│ 1    │\n",
       "│ 2    │\n",
       "└──────┘"
      ]
     },
     "execution_count": 15,
     "metadata": {},
     "output_type": "execute_result"
    }
   ],
   "source": [
    "# Damerau-Levenshtein\n",
    "df2.select(\n",
    "    pl.col(\"word\").str2.d_levenshtein(\"world\")\n",
    ").head()"
   ]
  },
  {
   "cell_type": "code",
   "execution_count": 16,
   "metadata": {},
   "outputs": [
    {
     "data": {
      "text/html": [
       "<div><style>\n",
       ".dataframe > thead > tr,\n",
       ".dataframe > tbody > tr {\n",
       "  text-align: right;\n",
       "  white-space: pre-wrap;\n",
       "}\n",
       "</style>\n",
       "<small>shape: (5, 1)</small><table border=\"1\" class=\"dataframe\"><thead><tr><th>word</th></tr><tr><td>f64</td></tr></thead><tbody><tr><td>0.6</td></tr><tr><td>0.8</td></tr><tr><td>0.6</td></tr><tr><td>0.8</td></tr><tr><td>0.6</td></tr></tbody></table></div>"
      ],
      "text/plain": [
       "shape: (5, 1)\n",
       "┌──────┐\n",
       "│ word │\n",
       "│ ---  │\n",
       "│ f64  │\n",
       "╞══════╡\n",
       "│ 0.6  │\n",
       "│ 0.8  │\n",
       "│ 0.6  │\n",
       "│ 0.8  │\n",
       "│ 0.6  │\n",
       "└──────┘"
      ]
     },
     "execution_count": 16,
     "metadata": {},
     "output_type": "execute_result"
    }
   ],
   "source": [
    "df2.select(\n",
    "    pl.col(\"word\").str2.levenshtein(\"world\", return_sim = True)\n",
    ").head()"
   ]
  },
  {
   "cell_type": "code",
   "execution_count": 17,
   "id": "2dad7633-67fa-47f3-b86a-9f4cd097a650",
   "metadata": {},
   "outputs": [
    {
     "data": {
      "text/html": [
       "<div><style>\n",
       ".dataframe > thead > tr,\n",
       ".dataframe > tbody > tr {\n",
       "  text-align: right;\n",
       "  white-space: pre-wrap;\n",
       "}\n",
       "</style>\n",
       "<small>shape: (5, 2)</small><table border=\"1\" class=\"dataframe\"><thead><tr><th>sen</th><th>word</th></tr><tr><td>str</td><td>str</td></tr></thead><tbody><tr><td>&quot;Hello, world! …</td><td>&quot;word&quot;</td></tr><tr><td>&quot;Hello, world! …</td><td>&quot;word&quot;</td></tr><tr><td>&quot;Hello, world! …</td><td>&quot;word&quot;</td></tr><tr><td>&quot;Hello, world! …</td><td>&quot;word&quot;</td></tr><tr><td>&quot;Hello, world! …</td><td>&quot;word&quot;</td></tr></tbody></table></div>"
      ],
      "text/plain": [
       "shape: (5, 2)\n",
       "┌───────────────────────────────────┬──────┐\n",
       "│ sen                               ┆ word │\n",
       "│ ---                               ┆ ---  │\n",
       "│ str                               ┆ str  │\n",
       "╞═══════════════════════════════════╪══════╡\n",
       "│ Hello, world! I'm going to churc… ┆ word │\n",
       "│ Hello, world! I'm going to churc… ┆ word │\n",
       "│ Hello, world! I'm going to churc… ┆ word │\n",
       "│ Hello, world! I'm going to churc… ┆ word │\n",
       "│ Hello, world! I'm going to churc… ┆ word │\n",
       "└───────────────────────────────────┴──────┘"
      ]
     },
     "execution_count": 17,
     "metadata": {},
     "output_type": "execute_result"
    }
   ],
   "source": [
    "df2.filter(\n",
    "    pl.col(\"word\").str2.levenshtein(\"world\") == 1\n",
    ").head()"
   ]
  },
  {
   "cell_type": "code",
   "execution_count": 18,
   "id": "dc9477c1",
   "metadata": {},
   "outputs": [],
   "source": [
    "df = pl.DataFrame({\n",
    "    \"word\":[\"apple\", \"banana\", \"pineapple\", \"asasasas\", \"sasasass\"],\n",
    "    \"other_data\": [1,2,3,4,5]\n",
    "})\n",
    "gibberish = [\"asasasa\", \"sasaaasss\", \"asdasadadfa\"]"
   ]
  },
  {
   "cell_type": "code",
   "execution_count": 19,
   "id": "c50591e0",
   "metadata": {},
   "outputs": [
    {
     "data": {
      "text/html": [
       "<div><style>\n",
       ".dataframe > thead > tr,\n",
       ".dataframe > tbody > tr {\n",
       "  text-align: right;\n",
       "  white-space: pre-wrap;\n",
       "}\n",
       "</style>\n",
       "<small>shape: (2, 2)</small><table border=\"1\" class=\"dataframe\"><thead><tr><th>word</th><th>other_data</th></tr><tr><td>str</td><td>i64</td></tr></thead><tbody><tr><td>&quot;asasasas&quot;</td><td>4</td></tr><tr><td>&quot;sasasass&quot;</td><td>5</td></tr></tbody></table></div>"
      ],
      "text/plain": [
       "shape: (2, 2)\n",
       "┌──────────┬────────────┐\n",
       "│ word     ┆ other_data │\n",
       "│ ---      ┆ ---        │\n",
       "│ str      ┆ i64        │\n",
       "╞══════════╪════════════╡\n",
       "│ asasasas ┆ 4          │\n",
       "│ sasasass ┆ 5          │\n",
       "└──────────┴────────────┘"
      ]
     },
     "execution_count": 19,
     "metadata": {},
     "output_type": "execute_result"
    }
   ],
   "source": [
    "df.filter(\n",
    "    pl.col(\"word\").str2.similar_to_vocab(\n",
    "        vocab = gibberish,\n",
    "        threshold = 0.5,\n",
    "        metric = \"leven\", # Levenshtein similarity. Other options: dleven, osa, jw\n",
    "        strategy = \"any\" # True if the word is similar to any word in vocab. Other options: \"all\", \"avg\"\n",
    "    )\n",
    ")"
   ]
  },
  {
   "cell_type": "code",
   "execution_count": 20,
   "id": "7ece3794",
   "metadata": {},
   "outputs": [
    {
     "data": {
      "text/html": [
       "<div><style>\n",
       ".dataframe > thead > tr,\n",
       ".dataframe > tbody > tr {\n",
       "  text-align: right;\n",
       "  white-space: pre-wrap;\n",
       "}\n",
       "</style>\n",
       "<small>shape: (5, 6)</small><table border=\"1\" class=\"dataframe\"><thead><tr><th>asasasa</th><th>sasaaasss</th><th>asdasadadfa</th><th>LCS based Fuzz match - apples</th><th>Optimal String Alignment - apples</th><th>Jaro-Winkler - apples</th></tr><tr><td>f64</td><td>f64</td><td>f64</td><td>f64</td><td>f64</td><td>f64</td></tr></thead><tbody><tr><td>0.142857</td><td>0.111111</td><td>0.090909</td><td>0.833333</td><td>0.833333</td><td>0.966667</td></tr><tr><td>0.428571</td><td>0.333333</td><td>0.272727</td><td>0.166667</td><td>0.0</td><td>0.444444</td></tr><tr><td>0.111111</td><td>0.111111</td><td>0.090909</td><td>0.555556</td><td>0.444444</td><td>0.5</td></tr><tr><td>0.875</td><td>0.666667</td><td>0.545455</td><td>0.25</td><td>0.25</td><td>0.527778</td></tr><tr><td>0.75</td><td>0.777778</td><td>0.454545</td><td>0.25</td><td>0.25</td><td>0.527778</td></tr></tbody></table></div>"
      ],
      "text/plain": [
       "shape: (5, 6)\n",
       "┌──────────┬───────────┬─────────────┬────────────────┬───────────────────────────┬────────────────┐\n",
       "│ asasasa  ┆ sasaaasss ┆ asdasadadfa ┆ LCS based Fuzz ┆ Optimal String Alignment  ┆ Jaro-Winkler - │\n",
       "│ ---      ┆ ---       ┆ ---         ┆ match - apples ┆ - apple…                  ┆ apples         │\n",
       "│ f64      ┆ f64       ┆ f64         ┆ ---            ┆ ---                       ┆ ---            │\n",
       "│          ┆           ┆             ┆ f64            ┆ f64                       ┆ f64            │\n",
       "╞══════════╪═══════════╪═════════════╪════════════════╪═══════════════════════════╪════════════════╡\n",
       "│ 0.142857 ┆ 0.111111  ┆ 0.090909    ┆ 0.833333       ┆ 0.833333                  ┆ 0.966667       │\n",
       "│ 0.428571 ┆ 0.333333  ┆ 0.272727    ┆ 0.166667       ┆ 0.0                       ┆ 0.444444       │\n",
       "│ 0.111111 ┆ 0.111111  ┆ 0.090909    ┆ 0.555556       ┆ 0.444444                  ┆ 0.5            │\n",
       "│ 0.875    ┆ 0.666667  ┆ 0.545455    ┆ 0.25           ┆ 0.25                      ┆ 0.527778       │\n",
       "│ 0.75     ┆ 0.777778  ┆ 0.454545    ┆ 0.25           ┆ 0.25                      ┆ 0.527778       │\n",
       "└──────────┴───────────┴─────────────┴────────────────┴───────────────────────────┴────────────────┘"
      ]
     },
     "execution_count": 20,
     "metadata": {},
     "output_type": "execute_result"
    }
   ],
   "source": [
    "\n",
    "df.select(\n",
    "    pl.col(\"word\").str2.levenshtein(\"asasasa\", return_sim=True).alias(\"asasasa\"),\n",
    "    pl.col(\"word\").str2.levenshtein(\"sasaaasss\", return_sim=True).alias(\"sasaaasss\"),\n",
    "    pl.col(\"word\").str2.levenshtein(\"asdasadadfa\", return_sim=True).alias(\"asdasadadfa\"),\n",
    "    pl.col(\"word\").str2.fuzz(\"apples\").alias(\"LCS based Fuzz match - apples\"),\n",
    "    pl.col(\"word\").str2.osa(\"apples\", return_sim = True).alias(\"Optimal String Alignment - apples\"),\n",
    "    pl.col(\"word\").str2.jw(\"apples\").alias(\"Jaro-Winkler - apples\"),\n",
    ")\n"
   ]
  },
  {
   "cell_type": "markdown",
   "metadata": {},
   "source": [
    "# Stats Extension"
   ]
  },
  {
   "cell_type": "code",
   "execution_count": 21,
   "metadata": {},
   "outputs": [
    {
     "data": {
      "text/html": [
       "<div><style>\n",
       ".dataframe > thead > tr,\n",
       ".dataframe > tbody > tr {\n",
       "  text-align: right;\n",
       "  white-space: pre-wrap;\n",
       "}\n",
       "</style>\n",
       "<small>shape: (5, 1)</small><table border=\"1\" class=\"dataframe\"><thead><tr><th>a</th></tr><tr><td>f64</td></tr></thead><tbody><tr><td>null</td></tr><tr><td>null</td></tr><tr><td>0.375437</td></tr><tr><td>0.9494</td></tr><tr><td>-0.651141</td></tr></tbody></table></div>"
      ],
      "text/plain": [
       "shape: (5, 1)\n",
       "┌───────────┐\n",
       "│ a         │\n",
       "│ ---       │\n",
       "│ f64       │\n",
       "╞═══════════╡\n",
       "│ null      │\n",
       "│ null      │\n",
       "│ 0.375437  │\n",
       "│ 0.9494    │\n",
       "│ -0.651141 │\n",
       "└───────────┘"
      ]
     },
     "execution_count": 21,
     "metadata": {},
     "output_type": "execute_result"
    }
   ],
   "source": [
    "import numpy as np\n",
    "\n",
    "df = pl.DataFrame({\n",
    "    \"a\": [None, None] + list(np.random.normal(size = 998))\n",
    "})\n",
    "df.head()"
   ]
  },
  {
   "cell_type": "code",
   "execution_count": 22,
   "metadata": {},
   "outputs": [
    {
     "data": {
      "text/html": [
       "<div><style>\n",
       ".dataframe > thead > tr,\n",
       ".dataframe > tbody > tr {\n",
       "  text-align: right;\n",
       "  white-space: pre-wrap;\n",
       "}\n",
       "</style>\n",
       "<small>shape: (1_000, 2)</small><table border=\"1\" class=\"dataframe\"><thead><tr><th>a</th><th>random</th></tr><tr><td>f64</td><td>f64</td></tr></thead><tbody><tr><td>null</td><td>null</td></tr><tr><td>null</td><td>null</td></tr><tr><td>0.375437</td><td>0.771642</td></tr><tr><td>0.9494</td><td>0.545358</td></tr><tr><td>-0.651141</td><td>-1.091522</td></tr><tr><td>-1.834427</td><td>0.610844</td></tr><tr><td>-0.620926</td><td>1.264071</td></tr><tr><td>1.812079</td><td>-0.381095</td></tr><tr><td>2.110361</td><td>-0.321377</td></tr><tr><td>0.777085</td><td>1.193875</td></tr><tr><td>-0.876686</td><td>0.913566</td></tr><tr><td>-0.523285</td><td>-0.524509</td></tr><tr><td>&hellip;</td><td>&hellip;</td></tr><tr><td>0.112199</td><td>1.768952</td></tr><tr><td>-0.477742</td><td>-0.477829</td></tr><tr><td>-0.129456</td><td>1.431202</td></tr><tr><td>1.146672</td><td>-0.529259</td></tr><tr><td>-0.277331</td><td>0.138509</td></tr><tr><td>-1.206057</td><td>0.644518</td></tr><tr><td>0.33921</td><td>0.530259</td></tr><tr><td>-0.666568</td><td>-0.536235</td></tr><tr><td>-0.390784</td><td>-0.150115</td></tr><tr><td>0.182855</td><td>0.676322</td></tr><tr><td>-0.158676</td><td>0.551754</td></tr><tr><td>0.014593</td><td>0.556663</td></tr></tbody></table></div>"
      ],
      "text/plain": [
       "shape: (1_000, 2)\n",
       "┌───────────┬───────────┐\n",
       "│ a         ┆ random    │\n",
       "│ ---       ┆ ---       │\n",
       "│ f64       ┆ f64       │\n",
       "╞═══════════╪═══════════╡\n",
       "│ null      ┆ null      │\n",
       "│ null      ┆ null      │\n",
       "│ 0.375437  ┆ 0.771642  │\n",
       "│ 0.9494    ┆ 0.545358  │\n",
       "│ …         ┆ …         │\n",
       "│ -0.390784 ┆ -0.150115 │\n",
       "│ 0.182855  ┆ 0.676322  │\n",
       "│ -0.158676 ┆ 0.551754  │\n",
       "│ 0.014593  ┆ 0.556663  │\n",
       "└───────────┴───────────┘"
      ]
     },
     "execution_count": 22,
     "metadata": {},
     "output_type": "execute_result"
    }
   ],
   "source": [
    "# Genenrate random sample, respecting null positions in reference column (pl.col(\"a\"))\n",
    "df.with_columns(\n",
    "    pl.col(\"a\").stats.sample_normal(mean = 0.5, std = 1., respect_null=True).alias(\"random\")\n",
    ")"
   ]
  },
  {
   "cell_type": "code",
   "execution_count": 23,
   "metadata": {},
   "outputs": [
    {
     "data": {
      "text/html": [
       "<div><style>\n",
       ".dataframe > thead > tr,\n",
       ".dataframe > tbody > tr {\n",
       "  text-align: right;\n",
       "  white-space: pre-wrap;\n",
       "}\n",
       "</style>\n",
       "<small>shape: (1_000, 2)</small><table border=\"1\" class=\"dataframe\"><thead><tr><th>a</th><th>random_str</th></tr><tr><td>f64</td><td>str</td></tr></thead><tbody><tr><td>null</td><td>null</td></tr><tr><td>null</td><td>null</td></tr><tr><td>0.375437</td><td>&quot;QcAN&quot;</td></tr><tr><td>0.9494</td><td>&quot;9&quot;</td></tr><tr><td>-0.651141</td><td>&quot;wA&quot;</td></tr><tr><td>-1.834427</td><td>&quot;81&quot;</td></tr><tr><td>-0.620926</td><td>&quot;rhXk&quot;</td></tr><tr><td>1.812079</td><td>&quot;KfKa&quot;</td></tr><tr><td>2.110361</td><td>&quot;zs&quot;</td></tr><tr><td>0.777085</td><td>&quot;L&quot;</td></tr><tr><td>-0.876686</td><td>&quot;UMF&quot;</td></tr><tr><td>-0.523285</td><td>&quot;YmCw&quot;</td></tr><tr><td>&hellip;</td><td>&hellip;</td></tr><tr><td>0.112199</td><td>&quot;T&quot;</td></tr><tr><td>-0.477742</td><td>&quot;fAKV&quot;</td></tr><tr><td>-0.129456</td><td>&quot;xgUF&quot;</td></tr><tr><td>1.146672</td><td>&quot;9k&quot;</td></tr><tr><td>-0.277331</td><td>&quot;4M&quot;</td></tr><tr><td>-1.206057</td><td>&quot;Z&quot;</td></tr><tr><td>0.33921</td><td>&quot;unhi&quot;</td></tr><tr><td>-0.666568</td><td>&quot;wB&quot;</td></tr><tr><td>-0.390784</td><td>&quot;u&quot;</td></tr><tr><td>0.182855</td><td>&quot;WqkX&quot;</td></tr><tr><td>-0.158676</td><td>&quot;KD&quot;</td></tr><tr><td>0.014593</td><td>&quot;YZn3&quot;</td></tr></tbody></table></div>"
      ],
      "text/plain": [
       "shape: (1_000, 2)\n",
       "┌───────────┬────────────┐\n",
       "│ a         ┆ random_str │\n",
       "│ ---       ┆ ---        │\n",
       "│ f64       ┆ str        │\n",
       "╞═══════════╪════════════╡\n",
       "│ null      ┆ null       │\n",
       "│ null      ┆ null       │\n",
       "│ 0.375437  ┆ QcAN       │\n",
       "│ 0.9494    ┆ 9          │\n",
       "│ …         ┆ …          │\n",
       "│ -0.390784 ┆ u          │\n",
       "│ 0.182855  ┆ WqkX       │\n",
       "│ -0.158676 ┆ KD         │\n",
       "│ 0.014593  ┆ YZn3       │\n",
       "└───────────┴────────────┘"
      ]
     },
     "execution_count": 23,
     "metadata": {},
     "output_type": "execute_result"
    }
   ],
   "source": [
    "# Genenrate random string\n",
    "df.with_columns(\n",
    "    pl.col(\"a\").stats.rand_str(min_size = 1, max_size = 5, respect_null=True).alias(\"random_str\")\n",
    ")"
   ]
  },
  {
   "cell_type": "code",
   "execution_count": 24,
   "metadata": {},
   "outputs": [
    {
     "data": {
      "text/html": [
       "<div><style>\n",
       ".dataframe > thead > tr,\n",
       ".dataframe > tbody > tr {\n",
       "  text-align: right;\n",
       "  white-space: pre-wrap;\n",
       "}\n",
       "</style>\n",
       "<small>shape: (1_000, 2)</small><table border=\"1\" class=\"dataframe\"><thead><tr><th>a</th><th>random_str</th></tr><tr><td>f64</td><td>str</td></tr></thead><tbody><tr><td>null</td><td>null</td></tr><tr><td>null</td><td>null</td></tr><tr><td>0.375437</td><td>&quot;G35lQ&quot;</td></tr><tr><td>0.9494</td><td>&quot;m8OqI&quot;</td></tr><tr><td>-0.651141</td><td>&quot;S7CWK&quot;</td></tr><tr><td>-1.834427</td><td>&quot;IgOkR&quot;</td></tr><tr><td>-0.620926</td><td>&quot;NbTmT&quot;</td></tr><tr><td>1.812079</td><td>&quot;Trx1u&quot;</td></tr><tr><td>2.110361</td><td>&quot;VCvz1&quot;</td></tr><tr><td>0.777085</td><td>&quot;iNPCp&quot;</td></tr><tr><td>-0.876686</td><td>&quot;Wexmv&quot;</td></tr><tr><td>-0.523285</td><td>&quot;J6TII&quot;</td></tr><tr><td>&hellip;</td><td>&hellip;</td></tr><tr><td>0.112199</td><td>&quot;BxFXn&quot;</td></tr><tr><td>-0.477742</td><td>&quot;rLOKm&quot;</td></tr><tr><td>-0.129456</td><td>&quot;yyYQI&quot;</td></tr><tr><td>1.146672</td><td>&quot;TyGA0&quot;</td></tr><tr><td>-0.277331</td><td>&quot;0fCBu&quot;</td></tr><tr><td>-1.206057</td><td>&quot;ajFgx&quot;</td></tr><tr><td>0.33921</td><td>&quot;9x7wb&quot;</td></tr><tr><td>-0.666568</td><td>&quot;GQ9wB&quot;</td></tr><tr><td>-0.390784</td><td>&quot;zX288&quot;</td></tr><tr><td>0.182855</td><td>&quot;QZhnh&quot;</td></tr><tr><td>-0.158676</td><td>&quot;mHfiC&quot;</td></tr><tr><td>0.014593</td><td>&quot;txRJL&quot;</td></tr></tbody></table></div>"
      ],
      "text/plain": [
       "shape: (1_000, 2)\n",
       "┌───────────┬────────────┐\n",
       "│ a         ┆ random_str │\n",
       "│ ---       ┆ ---        │\n",
       "│ f64       ┆ str        │\n",
       "╞═══════════╪════════════╡\n",
       "│ null      ┆ null       │\n",
       "│ null      ┆ null       │\n",
       "│ 0.375437  ┆ G35lQ      │\n",
       "│ 0.9494    ┆ m8OqI      │\n",
       "│ …         ┆ …          │\n",
       "│ -0.390784 ┆ zX288      │\n",
       "│ 0.182855  ┆ QZhnh      │\n",
       "│ -0.158676 ┆ mHfiC      │\n",
       "│ 0.014593  ┆ txRJL      │\n",
       "└───────────┴────────────┘"
      ]
     },
     "execution_count": 24,
     "metadata": {},
     "output_type": "execute_result"
    }
   ],
   "source": [
    "# Genenrate fixed size random string\n",
    "df.with_columns(\n",
    "    pl.col(\"a\").stats.rand_str(min_size = 5, max_size = 5, respect_null=True).alias(\"random_str\")\n",
    ")"
   ]
  },
  {
   "cell_type": "code",
   "execution_count": 25,
   "id": "3d0c06a4",
   "metadata": {},
   "outputs": [
    {
     "data": {
      "text/html": [
       "<div><style>\n",
       ".dataframe > thead > tr,\n",
       ".dataframe > tbody > tr {\n",
       "  text-align: right;\n",
       "  white-space: pre-wrap;\n",
       "}\n",
       "</style>\n",
       "<small>shape: (5, 3)</small><table border=\"1\" class=\"dataframe\"><thead><tr><th>a</th><th>test1</th><th>test2</th></tr><tr><td>f64</td><td>f64</td><td>f64</td></tr></thead><tbody><tr><td>null</td><td>-0.316657</td><td>null</td></tr><tr><td>null</td><td>0.857924</td><td>null</td></tr><tr><td>0.375437</td><td>0.817816</td><td>0.840231</td></tr><tr><td>0.9494</td><td>-0.145348</td><td>1.610263</td></tr><tr><td>-0.651141</td><td>-1.057825</td><td>1.090286</td></tr></tbody></table></div>"
      ],
      "text/plain": [
       "shape: (5, 3)\n",
       "┌───────────┬───────────┬──────────┐\n",
       "│ a         ┆ test1     ┆ test2    │\n",
       "│ ---       ┆ ---       ┆ ---      │\n",
       "│ f64       ┆ f64       ┆ f64      │\n",
       "╞═══════════╪═══════════╪══════════╡\n",
       "│ null      ┆ -0.316657 ┆ null     │\n",
       "│ null      ┆ 0.857924  ┆ null     │\n",
       "│ 0.375437  ┆ 0.817816  ┆ 0.840231 │\n",
       "│ 0.9494    ┆ -0.145348 ┆ 1.610263 │\n",
       "│ -0.651141 ┆ -1.057825 ┆ 1.090286 │\n",
       "└───────────┴───────────┴──────────┘"
      ]
     },
     "execution_count": 25,
     "metadata": {},
     "output_type": "execute_result"
    }
   ],
   "source": [
    "df.with_columns(\n",
    "    # Sample from normal distribution, using reference column \"a\" 's mean and std\n",
    "    pl.col(\"a\").stats.sample_normal().alias(\"test1\") \n",
    "    # Sample from uniform distribution, with low = 0 and high = \"a\"'s max, and respect the nulls in \"a\"\n",
    "    , pl.col(\"a\").stats.sample_uniform(low = 0., high = None, respect_null=True).alias(\"test2\")\n",
    ").head()"
   ]
  },
  {
   "cell_type": "code",
   "execution_count": 26,
   "metadata": {},
   "outputs": [
    {
     "data": {
      "text/html": [
       "<div><style>\n",
       ".dataframe > thead > tr,\n",
       ".dataframe > tbody > tr {\n",
       "  text-align: right;\n",
       "  white-space: pre-wrap;\n",
       "}\n",
       "</style>\n",
       "<small>shape: (1, 4)</small><table border=\"1\" class=\"dataframe\"><thead><tr><th>t-tests: statistics</th><th>t-tests: pvalue</th><th>normality_test: statistics</th><th>normality_test: pvalue</th></tr><tr><td>f64</td><td>f64</td><td>f64</td><td>f64</td></tr></thead><tbody><tr><td>-0.340638</td><td>0.733424</td><td>0.489244</td><td>0.783001</td></tr></tbody></table></div>"
      ],
      "text/plain": [
       "shape: (1, 4)\n",
       "┌─────────────────────┬─────────────────┬────────────────────────────┬────────────────────────┐\n",
       "│ t-tests: statistics ┆ t-tests: pvalue ┆ normality_test: statistics ┆ normality_test: pvalue │\n",
       "│ ---                 ┆ ---             ┆ ---                        ┆ ---                    │\n",
       "│ f64                 ┆ f64             ┆ f64                        ┆ f64                    │\n",
       "╞═════════════════════╪═════════════════╪════════════════════════════╪════════════════════════╡\n",
       "│ -0.340638           ┆ 0.733424        ┆ 0.489244                   ┆ 0.783001               │\n",
       "└─────────────────────┴─────────────────┴────────────────────────────┴────────────────────────┘"
      ]
     },
     "execution_count": 26,
     "metadata": {},
     "output_type": "execute_result"
    }
   ],
   "source": [
    "# Genenrate 2 random sample, both normally distributed\n",
    "# Run Welch's t test on them, p value should be big since they have equal mean\n",
    "# Run a normality test. Again, p value should be big since they are normally distributed \n",
    "\n",
    "df.with_columns(\n",
    "    pl.col(\"a\").stats.sample_normal(mean = 0.5, std = 1.).alias(\"test1\")\n",
    "    , pl.col(\"a\").stats.sample_normal(mean = 0.5, std = 2.).alias(\"test2\")\n",
    ").select(\n",
    "    pl.col(\"test1\").stats.ttest_ind(pl.col(\"test2\"), equal_var = False).alias(\"t-test\")\n",
    "    , pl.col(\"test1\").stats.normal_test().alias(\"normality_test\")\n",
    ").select(\n",
    "    pl.col(\"t-test\").struct.field(\"statistic\").alias(\"t-tests: statistics\")\n",
    "    , pl.col(\"t-test\").struct.field(\"pvalue\").alias(\"t-tests: pvalue\")\n",
    "    , pl.col(\"normality_test\").struct.field(\"statistic\").alias(\"normality_test: statistics\")\n",
    "    , pl.col(\"normality_test\").struct.field(\"pvalue\").alias(\"normality_test: pvalue\")\n",
    ")"
   ]
  },
  {
   "cell_type": "code",
   "execution_count": 27,
   "id": "b46a72a5",
   "metadata": {},
   "outputs": [
    {
     "data": {
      "text/html": [
       "<div><style>\n",
       ".dataframe > thead > tr,\n",
       ".dataframe > tbody > tr {\n",
       "  text-align: right;\n",
       "  white-space: pre-wrap;\n",
       "}\n",
       "</style>\n",
       "<small>shape: (5, 5)</small><table border=\"1\" class=\"dataframe\"><thead><tr><th>market_id</th><th>group1</th><th>group2</th><th>category_1</th><th>category_2</th></tr><tr><td>i64</td><td>f64</td><td>f64</td><td>i64</td><td>i64</td></tr></thead><tbody><tr><td>0</td><td>0.279683</td><td>0.693541</td><td>3</td><td>7</td></tr><tr><td>1</td><td>0.165041</td><td>0.408362</td><td>3</td><td>7</td></tr><tr><td>2</td><td>0.36538</td><td>0.943691</td><td>1</td><td>5</td></tr><tr><td>0</td><td>0.182031</td><td>0.066145</td><td>1</td><td>8</td></tr><tr><td>1</td><td>0.451541</td><td>0.953597</td><td>3</td><td>1</td></tr></tbody></table></div>"
      ],
      "text/plain": [
       "shape: (5, 5)\n",
       "┌───────────┬──────────┬──────────┬────────────┬────────────┐\n",
       "│ market_id ┆ group1   ┆ group2   ┆ category_1 ┆ category_2 │\n",
       "│ ---       ┆ ---      ┆ ---      ┆ ---        ┆ ---        │\n",
       "│ i64       ┆ f64      ┆ f64      ┆ i64        ┆ i64        │\n",
       "╞═══════════╪══════════╪══════════╪════════════╪════════════╡\n",
       "│ 0         ┆ 0.279683 ┆ 0.693541 ┆ 3          ┆ 7          │\n",
       "│ 1         ┆ 0.165041 ┆ 0.408362 ┆ 3          ┆ 7          │\n",
       "│ 2         ┆ 0.36538  ┆ 0.943691 ┆ 1          ┆ 5          │\n",
       "│ 0         ┆ 0.182031 ┆ 0.066145 ┆ 1          ┆ 8          │\n",
       "│ 1         ┆ 0.451541 ┆ 0.953597 ┆ 3          ┆ 1          │\n",
       "└───────────┴──────────┴──────────┴────────────┴────────────┘"
      ]
     },
     "execution_count": 27,
     "metadata": {},
     "output_type": "execute_result"
    }
   ],
   "source": [
    "size = 5000\n",
    "df = pl.DataFrame({\n",
    "    \"market_id\": range(size),\n",
    "    \"group1\": np.random.random(size=size),\n",
    "    \"group2\": np.random.random(size=size),\n",
    "    \"category_1\": np.random.randint(low=0, high=5, size=size),\n",
    "    \"category_2\":np.random.randint(low=0, high=10, size=size)\n",
    "}).with_columns(\n",
    "    pl.col(\"market_id\").mod(3)\n",
    ")\n",
    "df.head(5)"
   ]
  },
  {
   "cell_type": "code",
   "execution_count": 28,
   "id": "adc4f66f",
   "metadata": {},
   "outputs": [
    {
     "name": "stdout",
     "output_type": "stream",
     "text": [
      "shape: (1, 3)\n",
      "┌──────────────────────┬──────────────────────┬─────────────────────┐\n",
      "│ t-test               ┆ chi2-test            ┆ f-test              │\n",
      "│ ---                  ┆ ---                  ┆ ---                 │\n",
      "│ struct[2]            ┆ struct[2]            ┆ struct[2]           │\n",
      "╞══════════════════════╪══════════════════════╪═════════════════════╡\n",
      "│ {-1.650504,0.098871} ┆ {36.895283,0.427337} ┆ {0.309968,0.871476} │\n",
      "└──────────────────────┴──────────────────────┴─────────────────────┘\n"
     ]
    }
   ],
   "source": [
    "# In dataframe statistical tests!\n",
    "print(df.select(\n",
    "    pl.col(\"group1\").stats.ttest_ind(pl.col(\"group2\"), equal_var = True).alias(\"t-test\"),\n",
    "    pl.col(\"category_1\").stats.chi2(pl.col(\"category_2\")).alias(\"chi2-test\"),\n",
    "    pl.col(\"category_1\").stats.f_test(pl.col(\"group1\")).alias(\"f-test\")\n",
    "))"
   ]
  },
  {
   "cell_type": "code",
   "execution_count": 29,
   "id": "65dbb6bd",
   "metadata": {},
   "outputs": [
    {
     "data": {
      "text/html": [
       "<div><style>\n",
       ".dataframe > thead > tr,\n",
       ".dataframe > tbody > tr {\n",
       "  text-align: right;\n",
       "  white-space: pre-wrap;\n",
       "}\n",
       "</style>\n",
       "<small>shape: (3, 4)</small><table border=\"1\" class=\"dataframe\"><thead><tr><th>market_id</th><th>t-test</th><th>chi2-test</th><th>f-test</th></tr><tr><td>i64</td><td>struct[2]</td><td>struct[2]</td><td>struct[2]</td></tr></thead><tbody><tr><td>0</td><td>{-1.237199,0.2161}</td><td>{32.480736,0.636743}</td><td>{-0.373944,-0.82735}</td></tr><tr><td>1</td><td>{0.056369,0.955051}</td><td>{42.838918,0.201173}</td><td>{-0.29107,-0.883896}</td></tr><tr><td>2</td><td>{-1.668119,0.095386}</td><td>{52.244235,0.039157}</td><td>{-0.690292,-0.598664}</td></tr></tbody></table></div>"
      ],
      "text/plain": [
       "shape: (3, 4)\n",
       "┌───────────┬──────────────────────┬──────────────────────┬───────────────────────┐\n",
       "│ market_id ┆ t-test               ┆ chi2-test            ┆ f-test                │\n",
       "│ ---       ┆ ---                  ┆ ---                  ┆ ---                   │\n",
       "│ i64       ┆ struct[2]            ┆ struct[2]            ┆ struct[2]             │\n",
       "╞═══════════╪══════════════════════╪══════════════════════╪═══════════════════════╡\n",
       "│ 0         ┆ {-1.237199,0.2161}   ┆ {32.480736,0.636743} ┆ {-0.373944,-0.82735}  │\n",
       "│ 1         ┆ {0.056369,0.955051}  ┆ {42.838918,0.201173} ┆ {-0.29107,-0.883896}  │\n",
       "│ 2         ┆ {-1.668119,0.095386} ┆ {52.244235,0.039157} ┆ {-0.690292,-0.598664} │\n",
       "└───────────┴──────────────────────┴──────────────────────┴───────────────────────┘"
      ]
     },
     "execution_count": 29,
     "metadata": {},
     "output_type": "execute_result"
    }
   ],
   "source": [
    "# Can also be done in group by context\n",
    "df.group_by(\"market_id\").agg(\n",
    "    pl.col(\"group1\").stats.ttest_ind(pl.col(\"group2\"), equal_var = False).alias(\"t-test\"),\n",
    "    pl.col(\"category_1\").stats.chi2(pl.col(\"category_2\")).alias(\"chi2-test\"),-\n",
    "    pl.col(\"category_1\").stats.f_test(pl.col(\"group1\")).alias(\"f-test\")\n",
    ")"
   ]
  },
  {
   "cell_type": "markdown",
   "id": "b232e4d7",
   "metadata": {},
   "source": [
    "# Nearest Neighbors Related Tasks\n",
    "\n",
    "These queries can be very slow when data/dimension gets huge, even when processed in parallel."
   ]
  },
  {
   "cell_type": "code",
   "execution_count": 30,
   "id": "87aff1ef",
   "metadata": {},
   "outputs": [],
   "source": [
    "import polars_ds as pld\n",
    "df = pl.DataFrame({\n",
    "    \"id\": range(1000),\n",
    "    \"val1\": np.random.random(size=1000), \n",
    "    \"val2\": np.random.random(size=1000), \n",
    "    \"val3\": np.random.random(size=1000),\n",
    "    \"r\": np.random.random(size=1000),\n",
    "    \"rh\": np.random.random(size=1000)*10,\n",
    "})"
   ]
  },
  {
   "cell_type": "code",
   "execution_count": 31,
   "id": "2fae4b5e",
   "metadata": {},
   "outputs": [
    {
     "data": {
      "text/html": [
       "<div><style>\n",
       ".dataframe > thead > tr,\n",
       ".dataframe > tbody > tr {\n",
       "  text-align: right;\n",
       "  white-space: pre-wrap;\n",
       "}\n",
       "</style>\n",
       "<small>shape: (5, 1)</small><table border=\"1\" class=\"dataframe\"><thead><tr><th></th></tr><tr><td>u32</td></tr></thead><tbody><tr><td>10</td></tr><tr><td>5</td></tr><tr><td>5</td></tr><tr><td>10</td></tr><tr><td>3</td></tr></tbody></table></div>"
      ],
      "text/plain": [
       "shape: (5, 1)\n",
       "┌─────┐\n",
       "│     │\n",
       "│ --- │\n",
       "│ u32 │\n",
       "╞═════╡\n",
       "│ 10  │\n",
       "│ 5   │\n",
       "│ 5   │\n",
       "│ 10  │\n",
       "│ 3   │\n",
       "└─────┘"
      ]
     },
     "execution_count": 31,
     "metadata": {},
     "output_type": "execute_result"
    }
   ],
   "source": [
    "# Get neighbor count. The point itself is always considered a neighbor to itself.\n",
    "df.select(\n",
    "    pld.query_nb_cnt(\n",
    "        0.1, # radius \n",
    "        pl.col(\"val1\"), pl.col(\"val2\"), pl.col(\"val3\"), # Columns used as the coordinates in n-d space\n",
    "        dist = \"inf\", # L Infinity distance \n",
    "        parallel = True \n",
    "    )\n",
    ").head()"
   ]
  },
  {
   "cell_type": "code",
   "execution_count": 32,
   "id": "69ad83d1",
   "metadata": {},
   "outputs": [
    {
     "data": {
      "text/html": [
       "<div><style>\n",
       ".dataframe > thead > tr,\n",
       ".dataframe > tbody > tr {\n",
       "  text-align: right;\n",
       "  white-space: pre-wrap;\n",
       "}\n",
       "</style>\n",
       "<small>shape: (5, 1)</small><table border=\"1\" class=\"dataframe\"><thead><tr><th>r</th></tr><tr><td>u32</td></tr></thead><tbody><tr><td>117</td></tr><tr><td>18</td></tr><tr><td>154</td></tr><tr><td>355</td></tr><tr><td>184</td></tr></tbody></table></div>"
      ],
      "text/plain": [
       "shape: (5, 1)\n",
       "┌─────┐\n",
       "│ r   │\n",
       "│ --- │\n",
       "│ u32 │\n",
       "╞═════╡\n",
       "│ 117 │\n",
       "│ 18  │\n",
       "│ 154 │\n",
       "│ 355 │\n",
       "│ 184 │\n",
       "└─────┘"
      ]
     },
     "execution_count": 32,
     "metadata": {},
     "output_type": "execute_result"
    }
   ],
   "source": [
    "df.select(\n",
    "    pld.query_nb_cnt(\n",
    "        pl.col(\"r\"), # radius be an expression too\n",
    "        pl.col(\"val1\"), pl.col(\"val2\"), pl.col(\"val3\"), # Columns used as the coordinates in n-d space\n",
    "        dist = \"l1\", # L 1 distance \n",
    "        parallel = True \n",
    "    )\n",
    ").head()"
   ]
  },
  {
   "cell_type": "code",
   "execution_count": 33,
   "id": "ce1a2c7a",
   "metadata": {},
   "outputs": [
    {
     "data": {
      "text/html": [
       "<div><style>\n",
       ".dataframe > thead > tr,\n",
       ".dataframe > tbody > tr {\n",
       "  text-align: right;\n",
       "  white-space: pre-wrap;\n",
       "}\n",
       "</style>\n",
       "<small>shape: (5, 7)</small><table border=\"1\" class=\"dataframe\"><thead><tr><th>id</th><th>val1</th><th>val2</th><th>val3</th><th>r</th><th>rh</th><th>best friends</th></tr><tr><td>i64</td><td>f64</td><td>f64</td><td>f64</td><td>f64</td><td>f64</td><td>list[u64]</td></tr></thead><tbody><tr><td>0</td><td>0.628277</td><td>0.24721</td><td>0.823609</td><td>0.401848</td><td>4.325744</td><td>[0, 629, … 857]</td></tr><tr><td>1</td><td>0.359997</td><td>0.586155</td><td>0.179896</td><td>0.06172</td><td>4.930872</td><td>[1, 399, … 635]</td></tr><tr><td>2</td><td>0.974186</td><td>0.90477</td><td>0.223832</td><td>0.119878</td><td>9.149884</td><td>[2, 902, … 53]</td></tr><tr><td>3</td><td>0.15599</td><td>0.46002</td><td>0.756781</td><td>0.680912</td><td>6.204805</td><td>[3, 391, … 898]</td></tr><tr><td>4</td><td>0.254709</td><td>0.305821</td><td>0.035771</td><td>0.770254</td><td>7.867602</td><td>[4, 94, … 816]</td></tr></tbody></table></div>"
      ],
      "text/plain": [
       "shape: (5, 7)\n",
       "┌─────┬──────────┬──────────┬──────────┬──────────┬──────────┬─────────────────┐\n",
       "│ id  ┆ val1     ┆ val2     ┆ val3     ┆ r        ┆ rh       ┆ best friends    │\n",
       "│ --- ┆ ---      ┆ ---      ┆ ---      ┆ ---      ┆ ---      ┆ ---             │\n",
       "│ i64 ┆ f64      ┆ f64      ┆ f64      ┆ f64      ┆ f64      ┆ list[u64]       │\n",
       "╞═════╪══════════╪══════════╪══════════╪══════════╪══════════╪═════════════════╡\n",
       "│ 0   ┆ 0.628277 ┆ 0.24721  ┆ 0.823609 ┆ 0.401848 ┆ 4.325744 ┆ [0, 629, … 857] │\n",
       "│ 1   ┆ 0.359997 ┆ 0.586155 ┆ 0.179896 ┆ 0.06172  ┆ 4.930872 ┆ [1, 399, … 635] │\n",
       "│ 2   ┆ 0.974186 ┆ 0.90477  ┆ 0.223832 ┆ 0.119878 ┆ 9.149884 ┆ [2, 902, … 53]  │\n",
       "│ 3   ┆ 0.15599  ┆ 0.46002  ┆ 0.756781 ┆ 0.680912 ┆ 6.204805 ┆ [3, 391, … 898] │\n",
       "│ 4   ┆ 0.254709 ┆ 0.305821 ┆ 0.035771 ┆ 0.770254 ┆ 7.867602 ┆ [4, 94, … 816]  │\n",
       "└─────┴──────────┴──────────┴──────────┴──────────┴──────────┴─────────────────┘"
      ]
     },
     "execution_count": 33,
     "metadata": {},
     "output_type": "execute_result"
    }
   ],
   "source": [
    "# Get ids of the k nearest neighbors. \n",
    "# The point itself is always considered a neighbor to itself, so k + 1 elements will be returned.\n",
    "df.with_columns(\n",
    "    pl.col(\"id\").num.knn_ptwise(\n",
    "        pl.col(\"val1\"), pl.col(\"val2\"), pl.col(\"val3\"), # Columns used as the coordinates in n-d space\n",
    "        k = 3, \n",
    "        dist = \"l2\", # actually this is squared l2\n",
    "        parallel = True\n",
    "    ).alias(\"best friends\")\n",
    ").head()"
   ]
  },
  {
   "cell_type": "code",
   "execution_count": 34,
   "id": "b5c69ae4",
   "metadata": {},
   "outputs": [
    {
     "data": {
      "text/html": [
       "<div><style>\n",
       ".dataframe > thead > tr,\n",
       ".dataframe > tbody > tr {\n",
       "  text-align: right;\n",
       "  white-space: pre-wrap;\n",
       "}\n",
       "</style>\n",
       "<small>shape: (5, 6)</small><table border=\"1\" class=\"dataframe\"><thead><tr><th>id</th><th>val1</th><th>val2</th><th>val3</th><th>r</th><th>rh</th></tr><tr><td>i64</td><td>f64</td><td>f64</td><td>f64</td><td>f64</td><td>f64</td></tr></thead><tbody><tr><td>0</td><td>0.628277</td><td>0.24721</td><td>0.823609</td><td>0.401848</td><td>4.325744</td></tr><tr><td>1</td><td>0.359997</td><td>0.586155</td><td>0.179896</td><td>0.06172</td><td>4.930872</td></tr><tr><td>3</td><td>0.15599</td><td>0.46002</td><td>0.756781</td><td>0.680912</td><td>6.204805</td></tr><tr><td>6</td><td>0.490409</td><td>0.513039</td><td>0.853946</td><td>0.568392</td><td>8.889839</td></tr><tr><td>8</td><td>0.728796</td><td>0.803011</td><td>0.33399</td><td>0.025543</td><td>1.634557</td></tr></tbody></table></div>"
      ],
      "text/plain": [
       "shape: (5, 6)\n",
       "┌─────┬──────────┬──────────┬──────────┬──────────┬──────────┐\n",
       "│ id  ┆ val1     ┆ val2     ┆ val3     ┆ r        ┆ rh       │\n",
       "│ --- ┆ ---      ┆ ---      ┆ ---      ┆ ---      ┆ ---      │\n",
       "│ i64 ┆ f64      ┆ f64      ┆ f64      ┆ f64      ┆ f64      │\n",
       "╞═════╪══════════╪══════════╪══════════╪══════════╪══════════╡\n",
       "│ 0   ┆ 0.628277 ┆ 0.24721  ┆ 0.823609 ┆ 0.401848 ┆ 4.325744 │\n",
       "│ 1   ┆ 0.359997 ┆ 0.586155 ┆ 0.179896 ┆ 0.06172  ┆ 4.930872 │\n",
       "│ 3   ┆ 0.15599  ┆ 0.46002  ┆ 0.756781 ┆ 0.680912 ┆ 6.204805 │\n",
       "│ 6   ┆ 0.490409 ┆ 0.513039 ┆ 0.853946 ┆ 0.568392 ┆ 8.889839 │\n",
       "│ 8   ┆ 0.728796 ┆ 0.803011 ┆ 0.33399  ┆ 0.025543 ┆ 1.634557 │\n",
       "└─────┴──────────┴──────────┴──────────┴──────────┴──────────┘"
      ]
     },
     "execution_count": 34,
     "metadata": {},
     "output_type": "execute_result"
    }
   ],
   "source": [
    "# Filter to only points near the given point\n",
    "df.filter(\n",
    "    pld.query_radius(\n",
    "        [0.5, 0.5, 0.5],\n",
    "        pl.col(\"val1\"), pl.col(\"val2\"), pl.col(\"val3\"), # Columns used as the coordinates in n-d space\n",
    "        radius = 0.2,\n",
    "        dist = \"l2\" # actually this is squared l2, so this is asking for squared l2 <= 0.2\n",
    "    )\n",
    ").head()"
   ]
  },
  {
   "cell_type": "code",
   "execution_count": 35,
   "id": "4ab9e8f8",
   "metadata": {},
   "outputs": [
    {
     "data": {
      "text/html": [
       "<div><style>\n",
       ".dataframe > thead > tr,\n",
       ".dataframe > tbody > tr {\n",
       "  text-align: right;\n",
       "  white-space: pre-wrap;\n",
       "}\n",
       "</style>\n",
       "<small>shape: (5, 6)</small><table border=\"1\" class=\"dataframe\"><thead><tr><th>id</th><th>val1</th><th>val2</th><th>val3</th><th>r</th><th>rh</th></tr><tr><td>i64</td><td>f64</td><td>f64</td><td>f64</td><td>f64</td><td>f64</td></tr></thead><tbody><tr><td>6</td><td>0.490409</td><td>0.513039</td><td>0.853946</td><td>0.568392</td><td>8.889839</td></tr><tr><td>12</td><td>0.424308</td><td>0.494102</td><td>0.532104</td><td>0.352054</td><td>4.542275</td></tr><tr><td>45</td><td>0.502154</td><td>0.583782</td><td>0.14791</td><td>0.25895</td><td>7.132816</td></tr><tr><td>65</td><td>0.544417</td><td>0.502539</td><td>0.229982</td><td>0.349951</td><td>2.068083</td></tr><tr><td>74</td><td>0.496812</td><td>0.421964</td><td>0.761863</td><td>0.979747</td><td>1.770039</td></tr></tbody></table></div>"
      ],
      "text/plain": [
       "shape: (5, 6)\n",
       "┌─────┬──────────┬──────────┬──────────┬──────────┬──────────┐\n",
       "│ id  ┆ val1     ┆ val2     ┆ val3     ┆ r        ┆ rh       │\n",
       "│ --- ┆ ---      ┆ ---      ┆ ---      ┆ ---      ┆ ---      │\n",
       "│ i64 ┆ f64      ┆ f64      ┆ f64      ┆ f64      ┆ f64      │\n",
       "╞═════╪══════════╪══════════╪══════════╪══════════╪══════════╡\n",
       "│ 6   ┆ 0.490409 ┆ 0.513039 ┆ 0.853946 ┆ 0.568392 ┆ 8.889839 │\n",
       "│ 12  ┆ 0.424308 ┆ 0.494102 ┆ 0.532104 ┆ 0.352054 ┆ 4.542275 │\n",
       "│ 45  ┆ 0.502154 ┆ 0.583782 ┆ 0.14791  ┆ 0.25895  ┆ 7.132816 │\n",
       "│ 65  ┆ 0.544417 ┆ 0.502539 ┆ 0.229982 ┆ 0.349951 ┆ 2.068083 │\n",
       "│ 74  ┆ 0.496812 ┆ 0.421964 ┆ 0.761863 ┆ 0.979747 ┆ 1.770039 │\n",
       "└─────┴──────────┴──────────┴──────────┴──────────┴──────────┘"
      ]
     },
     "execution_count": 35,
     "metadata": {},
     "output_type": "execute_result"
    }
   ],
   "source": [
    "# Haversine distance is available when dimension is 2\n",
    "df.filter(\n",
    "    pld.query_radius(\n",
    "        [0.5, 0.5],\n",
    "        pl.col(\"val1\"), pl.col(\"val2\"), # Columns used as the coordinates in n-d space\n",
    "        radius = 10, # in km\n",
    "        dist = \"h\" \n",
    "    )\n",
    ").head()"
   ]
  },
  {
   "cell_type": "code",
   "execution_count": 36,
   "id": "7d3f5ae4",
   "metadata": {},
   "outputs": [
    {
     "data": {
      "text/html": [
       "<div><style>\n",
       ".dataframe > thead > tr,\n",
       ".dataframe > tbody > tr {\n",
       "  text-align: right;\n",
       "  white-space: pre-wrap;\n",
       "}\n",
       "</style>\n",
       "<small>shape: (5, 6)</small><table border=\"1\" class=\"dataframe\"><thead><tr><th>id</th><th>val1</th><th>val2</th><th>val3</th><th>r</th><th>rh</th></tr><tr><td>i64</td><td>f64</td><td>f64</td><td>f64</td><td>f64</td><td>f64</td></tr></thead><tbody><tr><td>6</td><td>0.490409</td><td>0.513039</td><td>0.853946</td><td>0.568392</td><td>8.889839</td></tr><tr><td>133</td><td>0.498075</td><td>0.517661</td><td>0.196447</td><td>0.756156</td><td>9.906723</td></tr><tr><td>164</td><td>0.496588</td><td>0.493433</td><td>0.39586</td><td>0.202915</td><td>1.926145</td></tr><tr><td>215</td><td>0.490266</td><td>0.520783</td><td>0.488036</td><td>0.521546</td><td>5.905562</td></tr><tr><td>248</td><td>0.469321</td><td>0.526669</td><td>0.117629</td><td>0.563881</td><td>9.793812</td></tr></tbody></table></div>"
      ],
      "text/plain": [
       "shape: (5, 6)\n",
       "┌─────┬──────────┬──────────┬──────────┬──────────┬──────────┐\n",
       "│ id  ┆ val1     ┆ val2     ┆ val3     ┆ r        ┆ rh       │\n",
       "│ --- ┆ ---      ┆ ---      ┆ ---      ┆ ---      ┆ ---      │\n",
       "│ i64 ┆ f64      ┆ f64      ┆ f64      ┆ f64      ┆ f64      │\n",
       "╞═════╪══════════╪══════════╪══════════╪══════════╪══════════╡\n",
       "│ 6   ┆ 0.490409 ┆ 0.513039 ┆ 0.853946 ┆ 0.568392 ┆ 8.889839 │\n",
       "│ 133 ┆ 0.498075 ┆ 0.517661 ┆ 0.196447 ┆ 0.756156 ┆ 9.906723 │\n",
       "│ 164 ┆ 0.496588 ┆ 0.493433 ┆ 0.39586  ┆ 0.202915 ┆ 1.926145 │\n",
       "│ 215 ┆ 0.490266 ┆ 0.520783 ┆ 0.488036 ┆ 0.521546 ┆ 5.905562 │\n",
       "│ 248 ┆ 0.469321 ┆ 0.526669 ┆ 0.117629 ┆ 0.563881 ┆ 9.793812 │\n",
       "└─────┴──────────┴──────────┴──────────┴──────────┴──────────┘"
      ]
     },
     "execution_count": 36,
     "metadata": {},
     "output_type": "execute_result"
    }
   ],
   "source": [
    "df.filter(\n",
    "    pld.query_radius(\n",
    "        [0.5, 0.5],\n",
    "        # Columns used as the coordinates in n-d space\n",
    "        pl.col(\"val1\"), pl.col(\"val2\"), \n",
    "        # radius can also be an existing column in the dataframe.\n",
    "        radius = pl.col(\"rh\"), \n",
    "        dist = \"h\" \n",
    "    )\n",
    ").head()"
   ]
  }
 ],
 "metadata": {
  "kernelspec": {
   "display_name": "Python 3 (ipykernel)",
   "language": "python",
   "name": "python3"
  },
  "language_info": {
   "codemirror_mode": {
    "name": "ipython",
    "version": 3
   },
   "file_extension": ".py",
   "mimetype": "text/x-python",
   "name": "python",
   "nbconvert_exporter": "python",
   "pygments_lexer": "ipython3",
   "version": "3.11.6"
  }
 },
 "nbformat": 4,
 "nbformat_minor": 5
}
