{
 "cells": [
  {
   "cell_type": "code",
   "execution_count": 1,
   "id": "529f4422-5c3a-4bd6-abe0-a15edfc62abb",
   "metadata": {},
   "outputs": [],
   "source": [
    "import polars as pl\n",
    "import polars_ds as pds\n",
    "import numpy as np"
   ]
  },
  {
   "cell_type": "markdown",
   "id": "6a314316",
   "metadata": {},
   "source": [
    "# This notebook illustrates the basic usage of this package\n",
    "\n",
    "You need to create an environment with this package installed to run this notebook. (usually latest version)"
   ]
  },
  {
   "cell_type": "markdown",
   "id": "3aef5c69-fff3-4779-9b58-f939d725f0b0",
   "metadata": {},
   "source": [
    "# Num Extensions"
   ]
  },
  {
   "cell_type": "code",
   "execution_count": 2,
   "id": "430fec01-5d0b-422f-b099-c86037512b6d",
   "metadata": {},
   "outputs": [
    {
     "data": {
      "text/html": [
       "<div><style>\n",
       ".dataframe > thead > tr,\n",
       ".dataframe > tbody > tr {\n",
       "  text-align: right;\n",
       "  white-space: pre-wrap;\n",
       "}\n",
       "</style>\n",
       "<small>shape: (5, 11)</small><table border=\"1\" class=\"dataframe\"><thead><tr><th>f</th><th>time_idx</th><th>dummy</th><th>a</th><th>b</th><th>x1</th><th>x2</th><th>y</th><th>actual</th><th>predicted</th><th>dummy_groups</th></tr><tr><td>f64</td><td>i64</td><td>str</td><td>f64</td><td>f64</td><td>i64</td><td>i64</td><td>i64</td><td>i32</td><td>f64</td><td>str</td></tr></thead><tbody><tr><td>0.0</td><td>0</td><td>&quot;a&quot;</td><td>0.054144</td><td>0.537481</td><td>0</td><td>10000</td><td>-10000</td><td>0</td><td>0.967782</td><td>&quot;a&quot;</td></tr><tr><td>0.841471</td><td>1</td><td>&quot;a&quot;</td><td>0.606196</td><td>0.155927</td><td>1</td><td>10001</td><td>-9999</td><td>0</td><td>0.590443</td><td>&quot;a&quot;</td></tr><tr><td>0.909297</td><td>2</td><td>&quot;a&quot;</td><td>0.321204</td><td>0.743017</td><td>2</td><td>10002</td><td>-9998</td><td>0</td><td>0.065168</td><td>&quot;a&quot;</td></tr><tr><td>0.14112</td><td>3</td><td>&quot;a&quot;</td><td>0.706619</td><td>0.898496</td><td>3</td><td>10003</td><td>-9997</td><td>0</td><td>0.970606</td><td>&quot;a&quot;</td></tr><tr><td>-0.756802</td><td>4</td><td>&quot;a&quot;</td><td>0.592152</td><td>0.684254</td><td>4</td><td>10004</td><td>-9996</td><td>0</td><td>0.949184</td><td>&quot;a&quot;</td></tr></tbody></table></div>"
      ],
      "text/plain": [
       "shape: (5, 11)\n",
       "┌───────────┬──────────┬───────┬──────────┬───┬────────┬────────┬───────────┬──────────────┐\n",
       "│ f         ┆ time_idx ┆ dummy ┆ a        ┆ … ┆ y      ┆ actual ┆ predicted ┆ dummy_groups │\n",
       "│ ---       ┆ ---      ┆ ---   ┆ ---      ┆   ┆ ---    ┆ ---    ┆ ---       ┆ ---          │\n",
       "│ f64       ┆ i64      ┆ str   ┆ f64      ┆   ┆ i64    ┆ i32    ┆ f64       ┆ str          │\n",
       "╞═══════════╪══════════╪═══════╪══════════╪═══╪════════╪════════╪═══════════╪══════════════╡\n",
       "│ 0.0       ┆ 0        ┆ a     ┆ 0.054144 ┆ … ┆ -10000 ┆ 0      ┆ 0.967782  ┆ a            │\n",
       "│ 0.841471  ┆ 1        ┆ a     ┆ 0.606196 ┆ … ┆ -9999  ┆ 0      ┆ 0.590443  ┆ a            │\n",
       "│ 0.909297  ┆ 2        ┆ a     ┆ 0.321204 ┆ … ┆ -9998  ┆ 0      ┆ 0.065168  ┆ a            │\n",
       "│ 0.14112   ┆ 3        ┆ a     ┆ 0.706619 ┆ … ┆ -9997  ┆ 0      ┆ 0.970606  ┆ a            │\n",
       "│ -0.756802 ┆ 4        ┆ a     ┆ 0.592152 ┆ … ┆ -9996  ┆ 0      ┆ 0.949184  ┆ a            │\n",
       "└───────────┴──────────┴───────┴──────────┴───┴────────┴────────┴───────────┴──────────────┘"
      ]
     },
     "execution_count": 2,
     "metadata": {},
     "output_type": "execute_result"
    }
   ],
   "source": [
    "size = 10_000\n",
    "df = pl.DataFrame({\n",
    "    \"f\": np.sin(list(range(size)))\n",
    "    , \"time_idx\": range(size)\n",
    "    , \"dummy\": [\"a\"] * (size // 2) + [\"b\"] * (size // 2)\n",
    "    , \"a\": np.random.random(size = size)\n",
    "    , \"b\": np.random.random(size = size)\n",
    "    , \"x1\" : range(size)\n",
    "    , \"x2\" : range(size, size + size)\n",
    "    , \"y\": range(-size, 0)\n",
    "    , \"actual\": np.round(np.random.random(size=size)).astype(np.int32)\n",
    "    , \"predicted\": np.random.random(size=size)\n",
    "    , \"dummy_groups\":[\"a\"] * (size//2) + [\"b\"] * (size//2) \n",
    "})\n",
    "df.head()"
   ]
  },
  {
   "cell_type": "code",
   "execution_count": 3,
   "id": "b6f98453-34cd-4afc-b35d-db58fa60a69a",
   "metadata": {},
   "outputs": [
    {
     "data": {
      "text/html": [
       "<div><style>\n",
       ".dataframe > thead > tr,\n",
       ".dataframe > tbody > tr {\n",
       "  text-align: right;\n",
       "  white-space: pre-wrap;\n",
       "}\n",
       "</style>\n",
       "<small>shape: (1, 1)</small><table border=\"1\" class=\"dataframe\"><thead><tr><th>x1</th></tr><tr><td>f64</td></tr></thead><tbody><tr><td>0.0</td></tr></tbody></table></div>"
      ],
      "text/plain": [
       "shape: (1, 1)\n",
       "┌─────┐\n",
       "│ x1  │\n",
       "│ --- │\n",
       "│ f64 │\n",
       "╞═════╡\n",
       "│ 0.0 │\n",
       "└─────┘"
      ]
     },
     "execution_count": 3,
     "metadata": {},
     "output_type": "execute_result"
    }
   ],
   "source": [
    "# Column-wise Jaccard Similarity. Result should be 0 as they are distinct\n",
    "df.select(\n",
    "    pds.query_jaccard_col(\"x1\", pl.col(\"x2\"))\n",
    ")"
   ]
  },
  {
   "cell_type": "code",
   "execution_count": 4,
   "id": "416d5346-e75b-4769-a953-e898d6a4d84c",
   "metadata": {},
   "outputs": [
    {
     "data": {
      "text/html": [
       "<div><style>\n",
       ".dataframe > thead > tr,\n",
       ".dataframe > tbody > tr {\n",
       "  text-align: right;\n",
       "  white-space: pre-wrap;\n",
       "}\n",
       "</style>\n",
       "<small>shape: (5, 1)</small><table border=\"1\" class=\"dataframe\"><thead><tr><th>f</th></tr><tr><td>array[f64, 2]</td></tr></thead><tbody><tr><td>[1.939505, 0.0]</td></tr><tr><td>[1.939506, 0.000209]</td></tr><tr><td>[1.939508, 0.000418]</td></tr><tr><td>[1.939512, 0.000627]</td></tr><tr><td>[1.939518, 0.000835]</td></tr></tbody></table></div>"
      ],
      "text/plain": [
       "shape: (5, 1)\n",
       "┌──────────────────────┐\n",
       "│ f                    │\n",
       "│ ---                  │\n",
       "│ array[f64, 2]        │\n",
       "╞══════════════════════╡\n",
       "│ [1.939505, 0.0]      │\n",
       "│ [1.939506, 0.000209] │\n",
       "│ [1.939508, 0.000418] │\n",
       "│ [1.939512, 0.000627] │\n",
       "│ [1.939518, 0.000835] │\n",
       "└──────────────────────┘"
      ]
     },
     "execution_count": 4,
     "metadata": {},
     "output_type": "execute_result"
    }
   ],
   "source": [
    "# FFT. First is real part, second is complex part\n",
    "# By default, this behaves the same as np's rfft, which returns a non-redundant \n",
    "# compact representation of fft output.\n",
    "df.select(\n",
    "    pds.rfft(\"f\")\n",
    ").head()"
   ]
  },
  {
   "cell_type": "code",
   "execution_count": 5,
   "id": "71c76353",
   "metadata": {},
   "outputs": [
    {
     "data": {
      "text/plain": [
       "(10000, 1)"
      ]
     },
     "execution_count": 5,
     "metadata": {},
     "output_type": "execute_result"
    }
   ],
   "source": [
    "# FFT. But return the full length\n",
    "df.select(\n",
    "    pds.rfft(\"f\", return_full=True)\n",
    ").shape"
   ]
  },
  {
   "cell_type": "code",
   "execution_count": 6,
   "id": "cd6662d2",
   "metadata": {},
   "outputs": [
    {
     "data": {
      "text/html": [
       "<div><style>\n",
       ".dataframe > thead > tr,\n",
       ".dataframe > tbody > tr {\n",
       "  text-align: right;\n",
       "  white-space: pre-wrap;\n",
       "}\n",
       "</style>\n",
       "<small>shape: (5, 3)</small><table border=\"1\" class=\"dataframe\"><thead><tr><th>f</th><th>a</th><th>b</th></tr><tr><td>f64</td><td>f64</td><td>f64</td></tr></thead><tbody><tr><td>0.0</td><td>-0.054144</td><td>-0.537481</td></tr><tr><td>-0.841471</td><td>-0.606196</td><td>-0.155927</td></tr><tr><td>-0.909297</td><td>-0.321204</td><td>-0.743017</td></tr><tr><td>-0.14112</td><td>-0.706619</td><td>-0.898496</td></tr><tr><td>0.756802</td><td>-0.538007</td><td>-0.146773</td></tr></tbody></table></div>"
      ],
      "text/plain": [
       "shape: (5, 3)\n",
       "┌───────────┬───────────┬───────────┐\n",
       "│ f         ┆ a         ┆ b         │\n",
       "│ ---       ┆ ---       ┆ ---       │\n",
       "│ f64       ┆ f64       ┆ f64       │\n",
       "╞═══════════╪═══════════╪═══════════╡\n",
       "│ 0.0       ┆ -0.054144 ┆ -0.537481 │\n",
       "│ -0.841471 ┆ -0.606196 ┆ -0.155927 │\n",
       "│ -0.909297 ┆ -0.321204 ┆ -0.743017 │\n",
       "│ -0.14112  ┆ -0.706619 ┆ -0.898496 │\n",
       "│ 0.756802  ┆ -0.538007 ┆ -0.146773 │\n",
       "└───────────┴───────────┴───────────┘"
      ]
     },
     "execution_count": 6,
     "metadata": {},
     "output_type": "execute_result"
    }
   ],
   "source": [
    "# Convolution (by FFT). \n",
    "# Modes: `same`, `left` (left-aligned same), `right` (right-aligned same), `valid` or `full`\n",
    "# Currently slower than SciPy but provides parallelism because of Polars\n",
    "df.select(\n",
    "    pds.convolve(\"f\", [-1, 0, 0, 0, 1], mode = \"full\"),\n",
    "    pds.convolve(\"a\", [-1, 0, 0, 0, 1], mode = \"full\"),\n",
    "    pds.convolve(\"b\", [-1, 0, 0, 0, 1], mode = \"full\"),\n",
    ").head()"
   ]
  },
  {
   "cell_type": "code",
   "execution_count": 7,
   "id": "ed47b643-6bcc-43f6-9a25-82168c33e7fd",
   "metadata": {},
   "outputs": [
    {
     "data": {
      "text/html": [
       "<div><style>\n",
       ".dataframe > thead > tr,\n",
       ".dataframe > tbody > tr {\n",
       "  text-align: right;\n",
       "  white-space: pre-wrap;\n",
       "}\n",
       "</style>\n",
       "<small>shape: (1, 1)</small><table border=\"1\" class=\"dataframe\"><thead><tr><th>y</th></tr><tr><td>list[f64]</td></tr></thead><tbody><tr><td>[2.0, -1.0]</td></tr></tbody></table></div>"
      ],
      "text/plain": [
       "shape: (1, 1)\n",
       "┌─────────────┐\n",
       "│ y           │\n",
       "│ ---         │\n",
       "│ list[f64]   │\n",
       "╞═════════════╡\n",
       "│ [2.0, -1.0] │\n",
       "└─────────────┘"
      ]
     },
     "execution_count": 7,
     "metadata": {},
     "output_type": "execute_result"
    }
   ],
   "source": [
    "# Least Square (Linear Regression)\n",
    "df.select(\n",
    "    pds.query_lstsq(\n",
    "        pl.col(\"x1\"), pl.col(\"x2\"),\n",
    "        target = pl.col(\"y\"),\n",
    "        add_bias=False\n",
    "    )\n",
    ")"
   ]
  },
  {
   "cell_type": "code",
   "execution_count": 8,
   "id": "7e6da23d",
   "metadata": {},
   "outputs": [
    {
     "data": {
      "text/html": [
       "<div><style>\n",
       ".dataframe > thead > tr,\n",
       ".dataframe > tbody > tr {\n",
       "  text-align: right;\n",
       "  white-space: pre-wrap;\n",
       "}\n",
       "</style>\n",
       "<small>shape: (2, 5)</small><table border=\"1\" class=\"dataframe\"><thead><tr><th>idx</th><th>coeff</th><th>std_err</th><th>t</th><th>p&gt;|t|</th></tr><tr><td>u16</td><td>f64</td><td>f64</td><td>f64</td><td>f64</td></tr></thead><tbody><tr><td>0</td><td>2.0</td><td>2.3854e-16</td><td>8.3842e15</td><td>0.0</td></tr><tr><td>1</td><td>-1.0</td><td>9.0158e-17</td><td>-1.1092e16</td><td>0.0</td></tr></tbody></table></div>"
      ],
      "text/plain": [
       "shape: (2, 5)\n",
       "┌─────┬───────┬────────────┬────────────┬───────┐\n",
       "│ idx ┆ coeff ┆ std_err    ┆ t          ┆ p>|t| │\n",
       "│ --- ┆ ---   ┆ ---        ┆ ---        ┆ ---   │\n",
       "│ u16 ┆ f64   ┆ f64        ┆ f64        ┆ f64   │\n",
       "╞═════╪═══════╪════════════╪════════════╪═══════╡\n",
       "│ 0   ┆ 2.0   ┆ 2.3854e-16 ┆ 8.3842e15  ┆ 0.0   │\n",
       "│ 1   ┆ -1.0  ┆ 9.0158e-17 ┆ -1.1092e16 ┆ 0.0   │\n",
       "└─────┴───────┴────────────┴────────────┴───────┘"
      ]
     },
     "execution_count": 8,
     "metadata": {},
     "output_type": "execute_result"
    }
   ],
   "source": [
    "df.select(\n",
    "    pds.query_lstsq_report(\n",
    "        # str | pl.Expr\n",
    "        \"x1\", \"x2\",\n",
    "        target = pl.col(\"y\"),\n",
    "        add_bias=False\n",
    "    ).alias(\"report\")\n",
    ").unnest(\"report\")"
   ]
  },
  {
   "cell_type": "code",
   "execution_count": 9,
   "id": "4c34e7b2",
   "metadata": {},
   "outputs": [
    {
     "data": {
      "text/html": [
       "<div><style>\n",
       ".dataframe > thead > tr,\n",
       ".dataframe > tbody > tr {\n",
       "  text-align: right;\n",
       "  white-space: pre-wrap;\n",
       "}\n",
       "</style>\n",
       "<small>shape: (1, 1)</small><table border=\"1\" class=\"dataframe\"><thead><tr><th>y</th></tr><tr><td>list[f64]</td></tr></thead><tbody><tr><td>[2.0, -1.0]</td></tr></tbody></table></div>"
      ],
      "text/plain": [
       "shape: (1, 1)\n",
       "┌─────────────┐\n",
       "│ y           │\n",
       "│ ---         │\n",
       "│ list[f64]   │\n",
       "╞═════════════╡\n",
       "│ [2.0, -1.0] │\n",
       "└─────────────┘"
      ]
     },
     "execution_count": 9,
     "metadata": {},
     "output_type": "execute_result"
    }
   ],
   "source": [
    "df.lazy().select(\n",
    "    pds.query_lstsq(\n",
    "        pl.col(\"x1\"), pl.col(\"x2\"),\n",
    "        target = \"y\", # We can either put pl.col(\"y\") here or just the string \"y\"\n",
    "        add_bias=False\n",
    "    )\n",
    ").collect()"
   ]
  },
  {
   "cell_type": "code",
   "execution_count": 10,
   "id": "16511624-fc7f-45fc-b28e-ad9a91c1bfe9",
   "metadata": {},
   "outputs": [
    {
     "data": {
      "text/html": [
       "<div><style>\n",
       ".dataframe > thead > tr,\n",
       ".dataframe > tbody > tr {\n",
       "  text-align: right;\n",
       "  white-space: pre-wrap;\n",
       "}\n",
       "</style>\n",
       "<small>shape: (5, 2)</small><table border=\"1\" class=\"dataframe\"><thead><tr><th>dummy</th><th>coeffs</th></tr><tr><td>str</td><td>list[f64]</td></tr></thead><tbody><tr><td>&quot;a&quot;</td><td>[2.0, -1.0]</td></tr><tr><td>&quot;a&quot;</td><td>[2.0, -1.0]</td></tr><tr><td>&quot;a&quot;</td><td>[2.0, -1.0]</td></tr><tr><td>&quot;a&quot;</td><td>[2.0, -1.0]</td></tr><tr><td>&quot;a&quot;</td><td>[2.0, -1.0]</td></tr></tbody></table></div>"
      ],
      "text/plain": [
       "shape: (5, 2)\n",
       "┌───────┬─────────────┐\n",
       "│ dummy ┆ coeffs      │\n",
       "│ ---   ┆ ---         │\n",
       "│ str   ┆ list[f64]   │\n",
       "╞═══════╪═════════════╡\n",
       "│ a     ┆ [2.0, -1.0] │\n",
       "│ a     ┆ [2.0, -1.0] │\n",
       "│ a     ┆ [2.0, -1.0] │\n",
       "│ a     ┆ [2.0, -1.0] │\n",
       "│ a     ┆ [2.0, -1.0] │\n",
       "└───────┴─────────────┘"
      ]
     },
     "execution_count": 10,
     "metadata": {},
     "output_type": "execute_result"
    }
   ],
   "source": [
    "df.select(\n",
    "    \"dummy\",\n",
    "    pds.query_lstsq(\n",
    "        pl.col(\"x1\"), pl.col(\"x2\"),\n",
    "        target = pl.col(\"y\"),\n",
    "        add_bias=False\n",
    "    ).over(pl.col(\"dummy\"))\n",
    ").head() "
   ]
  },
  {
   "cell_type": "code",
   "execution_count": 11,
   "id": "f550c7c6",
   "metadata": {},
   "outputs": [
    {
     "data": {
      "text/html": [
       "<div><style>\n",
       ".dataframe > thead > tr,\n",
       ".dataframe > tbody > tr {\n",
       "  text-align: right;\n",
       "  white-space: pre-wrap;\n",
       "}\n",
       "</style>\n",
       "<small>shape: (5, 5)</small><table border=\"1\" class=\"dataframe\"><thead><tr><th>x1</th><th>x2</th><th>y</th><th>pred</th><th>resid</th></tr><tr><td>i64</td><td>i64</td><td>i64</td><td>f64</td><td>f64</td></tr></thead><tbody><tr><td>0</td><td>10000</td><td>-10000</td><td>-10000.0</td><td>5.8208e-11</td></tr><tr><td>1</td><td>10001</td><td>-9999</td><td>-9999.0</td><td>5.8208e-11</td></tr><tr><td>2</td><td>10002</td><td>-9998</td><td>-9998.0</td><td>5.8208e-11</td></tr><tr><td>3</td><td>10003</td><td>-9997</td><td>-9997.0</td><td>5.8208e-11</td></tr><tr><td>4</td><td>10004</td><td>-9996</td><td>-9996.0</td><td>5.8208e-11</td></tr></tbody></table></div>"
      ],
      "text/plain": [
       "shape: (5, 5)\n",
       "┌─────┬───────┬────────┬──────────┬────────────┐\n",
       "│ x1  ┆ x2    ┆ y      ┆ pred     ┆ resid      │\n",
       "│ --- ┆ ---   ┆ ---    ┆ ---      ┆ ---        │\n",
       "│ i64 ┆ i64   ┆ i64    ┆ f64      ┆ f64        │\n",
       "╞═════╪═══════╪════════╪══════════╪════════════╡\n",
       "│ 0   ┆ 10000 ┆ -10000 ┆ -10000.0 ┆ 5.8208e-11 │\n",
       "│ 1   ┆ 10001 ┆ -9999  ┆ -9999.0  ┆ 5.8208e-11 │\n",
       "│ 2   ┆ 10002 ┆ -9998  ┆ -9998.0  ┆ 5.8208e-11 │\n",
       "│ 3   ┆ 10003 ┆ -9997  ┆ -9997.0  ┆ 5.8208e-11 │\n",
       "│ 4   ┆ 10004 ┆ -9996  ┆ -9996.0  ┆ 5.8208e-11 │\n",
       "└─────┴───────┴────────┴──────────┴────────────┘"
      ]
     },
     "execution_count": 11,
     "metadata": {},
     "output_type": "execute_result"
    }
   ],
   "source": [
    "# If you want prediction and residue instead of coefficients\n",
    "df.select(\n",
    "    \"x1\",\n",
    "    \"x2\",\n",
    "    \"y\",\n",
    "    pds.query_lstsq(\n",
    "        \"x1\", pl.col(\"x2\"),\n",
    "        target = \"y\",\n",
    "        add_bias=False, \n",
    "        return_pred=True\n",
    "    ).alias(\"prediction\")\n",
    ").unnest(\"prediction\").head()"
   ]
  },
  {
   "cell_type": "code",
   "execution_count": 12,
   "id": "0e9fb061-340d-423d-9107-772387006ff2",
   "metadata": {},
   "outputs": [
    {
     "data": {
      "text/html": [
       "<div><style>\n",
       ".dataframe > thead > tr,\n",
       ".dataframe > tbody > tr {\n",
       "  text-align: right;\n",
       "  white-space: pre-wrap;\n",
       "}\n",
       "</style>\n",
       "<small>shape: (2, 2)</small><table border=\"1\" class=\"dataframe\"><thead><tr><th>dummy</th><th>coeffs</th></tr><tr><td>str</td><td>list[f64]</td></tr></thead><tbody><tr><td>&quot;a&quot;</td><td>[2.0, -1.0]</td></tr><tr><td>&quot;b&quot;</td><td>[2.0, -1.0]</td></tr></tbody></table></div>"
      ],
      "text/plain": [
       "shape: (2, 2)\n",
       "┌───────┬─────────────┐\n",
       "│ dummy ┆ coeffs      │\n",
       "│ ---   ┆ ---         │\n",
       "│ str   ┆ list[f64]   │\n",
       "╞═══════╪═════════════╡\n",
       "│ a     ┆ [2.0, -1.0] │\n",
       "│ b     ┆ [2.0, -1.0] │\n",
       "└───────┴─────────────┘"
      ]
     },
     "execution_count": 12,
     "metadata": {},
     "output_type": "execute_result"
    }
   ],
   "source": [
    "df.group_by(\"dummy\").agg(\n",
    "    pds.query_lstsq(\n",
    "        pl.col(\"x1\"), pl.col(\"x2\"),\n",
    "        target = pl.col(\"y\"),\n",
    "        add_bias=False\n",
    "    )\n",
    ")"
   ]
  },
  {
   "cell_type": "code",
   "execution_count": 13,
   "id": "765ff27b",
   "metadata": {},
   "outputs": [
    {
     "data": {
      "text/html": [
       "<div><style>\n",
       ".dataframe > thead > tr,\n",
       ".dataframe > tbody > tr {\n",
       "  text-align: right;\n",
       "  white-space: pre-wrap;\n",
       "}\n",
       "</style>\n",
       "<small>shape: (10, 2)</small><table border=\"1\" class=\"dataframe\"><thead><tr><th>time_idx</th><th>coefficients</th></tr><tr><td>i64</td><td>list[f64]</td></tr></thead><tbody><tr><td>30</td><td>[2.0, -1.0]</td></tr><tr><td>31</td><td>[2.0, -1.0]</td></tr><tr><td>32</td><td>[2.0, -1.0]</td></tr><tr><td>33</td><td>[2.0, -1.0]</td></tr><tr><td>34</td><td>[2.0, -1.0]</td></tr><tr><td>35</td><td>[2.0, -1.0]</td></tr><tr><td>36</td><td>[2.0, -1.0]</td></tr><tr><td>37</td><td>[2.0, -1.0]</td></tr><tr><td>38</td><td>[2.0, -1.0]</td></tr><tr><td>39</td><td>[2.0, -1.0]</td></tr></tbody></table></div>"
      ],
      "text/plain": [
       "shape: (10, 2)\n",
       "┌──────────┬──────────────┐\n",
       "│ time_idx ┆ coefficients │\n",
       "│ ---      ┆ ---          │\n",
       "│ i64      ┆ list[f64]    │\n",
       "╞══════════╪══════════════╡\n",
       "│ 30       ┆ [2.0, -1.0]  │\n",
       "│ 31       ┆ [2.0, -1.0]  │\n",
       "│ 32       ┆ [2.0, -1.0]  │\n",
       "│ 33       ┆ [2.0, -1.0]  │\n",
       "│ 34       ┆ [2.0, -1.0]  │\n",
       "│ 35       ┆ [2.0, -1.0]  │\n",
       "│ 36       ┆ [2.0, -1.0]  │\n",
       "│ 37       ┆ [2.0, -1.0]  │\n",
       "│ 38       ┆ [2.0, -1.0]  │\n",
       "│ 39       ┆ [2.0, -1.0]  │\n",
       "└──────────┴──────────────┘"
      ]
     },
     "execution_count": 13,
     "metadata": {},
     "output_type": "execute_result"
    }
   ],
   "source": [
    "# Rolling regression, kind of slow rn\n",
    "df.lazy().rolling(\n",
    "    index_column = pl.col(\"time_idx\").set_sorted(),\n",
    "    period = \"30i\",\n",
    "    # offset = \"-1i\"\n",
    ").agg(\n",
    "    pds.query_lstsq(pl.col(\"x1\"), pl.col(\"x2\"), target = pl.col(\"y\"), add_bias=False).alias(\"coefficients\")\n",
    ").slice(offset = 30).select(\n",
    "    \"time_idx\",\n",
    "    \"coefficients\",\n",
    ").collect().head(10)"
   ]
  },
  {
   "cell_type": "code",
   "execution_count": 14,
   "id": "d8fda8ca-57e7-4e02-a3f0-283ecce66a59",
   "metadata": {},
   "outputs": [
    {
     "data": {
      "text/html": [
       "<div><style>\n",
       ".dataframe > thead > tr,\n",
       ".dataframe > tbody > tr {\n",
       "  text-align: right;\n",
       "  white-space: pre-wrap;\n",
       "}\n",
       "</style>\n",
       "<small>shape: (1, 1)</small><table border=\"1\" class=\"dataframe\"><thead><tr><th>y</th></tr><tr><td>f64</td></tr></thead><tbody><tr><td>-0.0</td></tr></tbody></table></div>"
      ],
      "text/plain": [
       "shape: (1, 1)\n",
       "┌──────┐\n",
       "│ y    │\n",
       "│ ---  │\n",
       "│ f64  │\n",
       "╞══════╡\n",
       "│ -0.0 │\n",
       "└──────┘"
      ]
     },
     "execution_count": 14,
     "metadata": {},
     "output_type": "execute_result"
    }
   ],
   "source": [
    "# Conditional Entropy, should be 0 because x1 is an ID\n",
    "df.select(\n",
    "    pds.query_cond_entropy(\"y\", \"x1\")\n",
    ")"
   ]
  },
  {
   "cell_type": "code",
   "execution_count": 15,
   "id": "81def1cf",
   "metadata": {},
   "outputs": [
    {
     "data": {
      "text/html": [
       "<div><style>\n",
       ".dataframe > thead > tr,\n",
       ".dataframe > tbody > tr {\n",
       "  text-align: right;\n",
       "  white-space: pre-wrap;\n",
       "}\n",
       "</style>\n",
       "<small>shape: (1, 1)</small><table border=\"1\" class=\"dataframe\"><thead><tr><th>a</th></tr><tr><td>list[f64]</td></tr></thead><tbody><tr><td>[288675.133152, 28.933286, 28.605954]</td></tr></tbody></table></div>"
      ],
      "text/plain": [
       "shape: (1, 1)\n",
       "┌─────────────────────────────────┐\n",
       "│ a                               │\n",
       "│ ---                             │\n",
       "│ list[f64]                       │\n",
       "╞═════════════════════════════════╡\n",
       "│ [288675.133152, 28.933286, 28.… │\n",
       "└─────────────────────────────────┘"
      ]
     },
     "execution_count": 15,
     "metadata": {},
     "output_type": "execute_result"
    }
   ],
   "source": [
    "# Only want singular values (principal values?)\n",
    "df.select(\n",
    "    pds.query_singular_values(\"a\", \"b\", \"x1\")\n",
    ")"
   ]
  },
  {
   "cell_type": "code",
   "execution_count": 16,
   "id": "cc497383",
   "metadata": {},
   "outputs": [
    {
     "data": {
      "text/html": [
       "<div><style>\n",
       ".dataframe > thead > tr,\n",
       ".dataframe > tbody > tr {\n",
       "  text-align: right;\n",
       "  white-space: pre-wrap;\n",
       "}\n",
       "</style>\n",
       "<small>shape: (2, 2)</small><table border=\"1\" class=\"dataframe\"><thead><tr><th>singular_value</th><th>weight_vector</th></tr><tr><td>f64</td><td>list[f64]</td></tr></thead><tbody><tr><td>28.937997</td><td>[0.772503, -0.635012]</td></tr><tr><td>28.610044</td><td>[0.635012, 0.772503]</td></tr></tbody></table></div>"
      ],
      "text/plain": [
       "shape: (2, 2)\n",
       "┌────────────────┬───────────────────────┐\n",
       "│ singular_value ┆ weight_vector         │\n",
       "│ ---            ┆ ---                   │\n",
       "│ f64            ┆ list[f64]             │\n",
       "╞════════════════╪═══════════════════════╡\n",
       "│ 28.937997      ┆ [0.772503, -0.635012] │\n",
       "│ 28.610044      ┆ [0.635012, 0.772503]  │\n",
       "└────────────────┴───────────────────────┘"
      ]
     },
     "execution_count": 16,
     "metadata": {},
     "output_type": "execute_result"
    }
   ],
   "source": [
    "# Singular values + The principal components\n",
    "df.select(\n",
    "    pds.query_pca(\"a\", \"b\")\n",
    ").unnest(\"a\")"
   ]
  },
  {
   "cell_type": "markdown",
   "id": "1b2e036f",
   "metadata": {},
   "source": [
    "# ML Metrics"
   ]
  },
  {
   "cell_type": "code",
   "execution_count": 17,
   "id": "85d0d094-3c4c-4230-a589-1027c5690162",
   "metadata": {},
   "outputs": [
    {
     "data": {
      "text/html": [
       "<div><style>\n",
       ".dataframe > thead > tr,\n",
       ".dataframe > tbody > tr {\n",
       "  text-align: right;\n",
       "  white-space: pre-wrap;\n",
       "}\n",
       "</style>\n",
       "<small>shape: (2, 8)</small><table border=\"1\" class=\"dataframe\"><thead><tr><th>dummy_groups</th><th>l2</th><th>log loss</th><th>precision</th><th>recall</th><th>f</th><th>average_precision</th><th>roc_auc</th></tr><tr><td>str</td><td>f64</td><td>f64</td><td>f64</td><td>f64</td><td>f64</td><td>f64</td><td>f64</td></tr></thead><tbody><tr><td>&quot;b&quot;</td><td>0.324045</td><td>0.969983</td><td>0.505901</td><td>0.517089</td><td>0.511434</td><td>0.515914</td><td>0.520041</td></tr><tr><td>&quot;a&quot;</td><td>0.328885</td><td>0.978729</td><td>0.497013</td><td>0.505468</td><td>0.501205</td><td>0.500409</td><td>0.508019</td></tr></tbody></table></div>"
      ],
      "text/plain": [
       "shape: (2, 8)\n",
       "┌──────────────┬──────────┬──────────┬───────────┬──────────┬──────────┬────────────────┬──────────┐\n",
       "│ dummy_groups ┆ l2       ┆ log loss ┆ precision ┆ recall   ┆ f        ┆ average_precis ┆ roc_auc  │\n",
       "│ ---          ┆ ---      ┆ ---      ┆ ---       ┆ ---      ┆ ---      ┆ ion            ┆ ---      │\n",
       "│ str          ┆ f64      ┆ f64      ┆ f64       ┆ f64      ┆ f64      ┆ ---            ┆ f64      │\n",
       "│              ┆          ┆          ┆           ┆          ┆          ┆ f64            ┆          │\n",
       "╞══════════════╪══════════╪══════════╪═══════════╪══════════╪══════════╪════════════════╪══════════╡\n",
       "│ b            ┆ 0.324045 ┆ 0.969983 ┆ 0.505901  ┆ 0.517089 ┆ 0.511434 ┆ 0.515914       ┆ 0.520041 │\n",
       "│ a            ┆ 0.328885 ┆ 0.978729 ┆ 0.497013  ┆ 0.505468 ┆ 0.501205 ┆ 0.500409       ┆ 0.508019 │\n",
       "└──────────────┴──────────┴──────────┴───────────┴──────────┴──────────┴────────────────┴──────────┘"
      ]
     },
     "execution_count": 17,
     "metadata": {},
     "output_type": "execute_result"
    }
   ],
   "source": [
    "df.group_by(\"dummy_groups\").agg(\n",
    "    pds.query_l2(\"actual\", \"predicted\").alias(\"l2\"),\n",
    "    pds.query_log_loss(\"actual\", \"predicted\").alias(\"log loss\"),\n",
    "    pds.query_binary_metrics(actual=\"actual\", pred=\"predicted\").alias(\"combo\")\n",
    ").unnest(\"combo\")\n"
   ]
  },
  {
   "cell_type": "markdown",
   "id": "a8d7c6e3-0f1d-45f0-9fdb-cdb303b98556",
   "metadata": {},
   "source": [
    "# Str Extension"
   ]
  },
  {
   "cell_type": "code",
   "execution_count": 18,
   "id": "54ad36f9-264e-4a49-bf36-936639440edf",
   "metadata": {},
   "outputs": [
    {
     "data": {
      "text/html": [
       "<div><style>\n",
       ".dataframe > thead > tr,\n",
       ".dataframe > tbody > tr {\n",
       "  text-align: right;\n",
       "  white-space: pre-wrap;\n",
       "}\n",
       "</style>\n",
       "<small>shape: (5, 2)</small><table border=\"1\" class=\"dataframe\"><thead><tr><th>sen</th><th>word</th></tr><tr><td>str</td><td>str</td></tr></thead><tbody><tr><td>&quot;Hello, world! I&#x27;m going to chu…</td><td>&quot;words&quot;</td></tr><tr><td>&quot;Hello, world! I&#x27;m going to chu…</td><td>&quot;word&quot;</td></tr><tr><td>&quot;Hello, world! I&#x27;m going to chu…</td><td>&quot;words&quot;</td></tr><tr><td>&quot;Hello, world! I&#x27;m going to chu…</td><td>&quot;word&quot;</td></tr><tr><td>&quot;Hello, world! I&#x27;m going to chu…</td><td>&quot;words&quot;</td></tr></tbody></table></div>"
      ],
      "text/plain": [
       "shape: (5, 2)\n",
       "┌─────────────────────────────────┬───────┐\n",
       "│ sen                             ┆ word  │\n",
       "│ ---                             ┆ ---   │\n",
       "│ str                             ┆ str   │\n",
       "╞═════════════════════════════════╪═══════╡\n",
       "│ Hello, world! I'm going to chu… ┆ words │\n",
       "│ Hello, world! I'm going to chu… ┆ word  │\n",
       "│ Hello, world! I'm going to chu… ┆ words │\n",
       "│ Hello, world! I'm going to chu… ┆ word  │\n",
       "│ Hello, world! I'm going to chu… ┆ words │\n",
       "└─────────────────────────────────┴───────┘"
      ]
     },
     "execution_count": 18,
     "metadata": {},
     "output_type": "execute_result"
    }
   ],
   "source": [
    "size = 100_000\n",
    "df2 = pl.DataFrame({\n",
    "    \"sen\":[\"Hello, world! I'm going to church.\"] * size,\n",
    "    \"word\":[\"words\", \"word\"] * (size //2)\n",
    "})\n",
    "df2.head()"
   ]
  },
  {
   "cell_type": "code",
   "execution_count": 19,
   "id": "ee123a7e-7f9b-4f48-a5d5-6354799201ab",
   "metadata": {},
   "outputs": [
    {
     "data": {
      "text/html": [
       "<div><style>\n",
       ".dataframe > thead > tr,\n",
       ".dataframe > tbody > tr {\n",
       "  text-align: right;\n",
       "  white-space: pre-wrap;\n",
       "}\n",
       "</style>\n",
       "<small>shape: (5, 1)</small><table border=\"1\" class=\"dataframe\"><thead><tr><th>sen</th></tr><tr><td>str</td></tr></thead><tbody><tr><td>&quot;hello&quot;</td></tr><tr><td>&quot;to&quot;</td></tr><tr><td>&quot;world&quot;</td></tr><tr><td>&quot;going&quot;</td></tr><tr><td>&quot;church&quot;</td></tr></tbody></table></div>"
      ],
      "text/plain": [
       "shape: (5, 1)\n",
       "┌────────┐\n",
       "│ sen    │\n",
       "│ ---    │\n",
       "│ str    │\n",
       "╞════════╡\n",
       "│ hello  │\n",
       "│ to     │\n",
       "│ world  │\n",
       "│ going  │\n",
       "│ church │\n",
       "└────────┘"
      ]
     },
     "execution_count": 19,
     "metadata": {},
     "output_type": "execute_result"
    }
   ],
   "source": [
    "# Tokenize\n",
    "df2.select(\n",
    "    pds.str_tokenize(pl.col(\"sen\").str.to_lowercase()).explode().unique()\n",
    ")"
   ]
  },
  {
   "cell_type": "code",
   "execution_count": 20,
   "id": "f33017e3-17df-498b-93d9-1d656a344388",
   "metadata": {},
   "outputs": [
    {
     "data": {
      "text/html": [
       "<div><style>\n",
       ".dataframe > thead > tr,\n",
       ".dataframe > tbody > tr {\n",
       "  text-align: right;\n",
       "  white-space: pre-wrap;\n",
       "}\n",
       "</style>\n",
       "<small>shape: (5, 1)</small><table border=\"1\" class=\"dataframe\"><thead><tr><th>sen</th></tr><tr><td>str</td></tr></thead><tbody><tr><td>&quot;world&quot;</td></tr><tr><td>&quot;church&quot;</td></tr><tr><td>&quot;hello&quot;</td></tr><tr><td>&quot;go&quot;</td></tr><tr><td>&quot;&quot;</td></tr></tbody></table></div>"
      ],
      "text/plain": [
       "shape: (5, 1)\n",
       "┌────────┐\n",
       "│ sen    │\n",
       "│ ---    │\n",
       "│ str    │\n",
       "╞════════╡\n",
       "│ world  │\n",
       "│ church │\n",
       "│ hello  │\n",
       "│ go     │\n",
       "│        │\n",
       "└────────┘"
      ]
     },
     "execution_count": 20,
     "metadata": {},
     "output_type": "execute_result"
    }
   ],
   "source": [
    "df2.select(\n",
    "    pds.str_tokenize(pl.col(\"sen\").str.to_lowercase(), stem=True).explode().unique()\n",
    ")"
   ]
  },
  {
   "cell_type": "code",
   "execution_count": 21,
   "id": "69237c02-5f9f-4e92-b68d-6ac43aad1a79",
   "metadata": {},
   "outputs": [
    {
     "data": {
      "text/html": [
       "<div><style>\n",
       ".dataframe > thead > tr,\n",
       ".dataframe > tbody > tr {\n",
       "  text-align: right;\n",
       "  white-space: pre-wrap;\n",
       "}\n",
       "</style>\n",
       "<small>shape: (5, 1)</small><table border=\"1\" class=\"dataframe\"><thead><tr><th>word</th></tr><tr><td>u32</td></tr></thead><tbody><tr><td>2</td></tr><tr><td>1</td></tr><tr><td>2</td></tr><tr><td>1</td></tr><tr><td>2</td></tr></tbody></table></div>"
      ],
      "text/plain": [
       "shape: (5, 1)\n",
       "┌──────┐\n",
       "│ word │\n",
       "│ ---  │\n",
       "│ u32  │\n",
       "╞══════╡\n",
       "│ 2    │\n",
       "│ 1    │\n",
       "│ 2    │\n",
       "│ 1    │\n",
       "│ 2    │\n",
       "└──────┘"
      ]
     },
     "execution_count": 21,
     "metadata": {},
     "output_type": "execute_result"
    }
   ],
   "source": [
    "df2.select(\n",
    "    pds.str_leven(\"word\", pl.lit(\"world\"))\n",
    ").head()"
   ]
  },
  {
   "cell_type": "code",
   "execution_count": 22,
   "id": "2eba320c",
   "metadata": {},
   "outputs": [
    {
     "data": {
      "text/html": [
       "<div><style>\n",
       ".dataframe > thead > tr,\n",
       ".dataframe > tbody > tr {\n",
       "  text-align: right;\n",
       "  white-space: pre-wrap;\n",
       "}\n",
       "</style>\n",
       "<small>shape: (5, 1)</small><table border=\"1\" class=\"dataframe\"><thead><tr><th>word</th></tr><tr><td>u32</td></tr></thead><tbody><tr><td>2</td></tr><tr><td>1</td></tr><tr><td>2</td></tr><tr><td>1</td></tr><tr><td>2</td></tr></tbody></table></div>"
      ],
      "text/plain": [
       "shape: (5, 1)\n",
       "┌──────┐\n",
       "│ word │\n",
       "│ ---  │\n",
       "│ u32  │\n",
       "╞══════╡\n",
       "│ 2    │\n",
       "│ 1    │\n",
       "│ 2    │\n",
       "│ 1    │\n",
       "│ 2    │\n",
       "└──────┘"
      ]
     },
     "execution_count": 22,
     "metadata": {},
     "output_type": "execute_result"
    }
   ],
   "source": [
    "# Damerau-Levenshtein\n",
    "df2.select(\n",
    "    pds.str_d_leven(\"word\", pl.lit(\"world\"))\n",
    ").head()"
   ]
  },
  {
   "cell_type": "code",
   "execution_count": 23,
   "id": "795396dc",
   "metadata": {},
   "outputs": [
    {
     "data": {
      "text/html": [
       "<div><style>\n",
       ".dataframe > thead > tr,\n",
       ".dataframe > tbody > tr {\n",
       "  text-align: right;\n",
       "  white-space: pre-wrap;\n",
       "}\n",
       "</style>\n",
       "<small>shape: (5, 1)</small><table border=\"1\" class=\"dataframe\"><thead><tr><th>word</th></tr><tr><td>f64</td></tr></thead><tbody><tr><td>0.6</td></tr><tr><td>0.8</td></tr><tr><td>0.6</td></tr><tr><td>0.8</td></tr><tr><td>0.6</td></tr></tbody></table></div>"
      ],
      "text/plain": [
       "shape: (5, 1)\n",
       "┌──────┐\n",
       "│ word │\n",
       "│ ---  │\n",
       "│ f64  │\n",
       "╞══════╡\n",
       "│ 0.6  │\n",
       "│ 0.8  │\n",
       "│ 0.6  │\n",
       "│ 0.8  │\n",
       "│ 0.6  │\n",
       "└──────┘"
      ]
     },
     "execution_count": 23,
     "metadata": {},
     "output_type": "execute_result"
    }
   ],
   "source": [
    "df2.select( # column \"word\" vs. the word \"world\"\n",
    "    pds.str_leven(\"word\", pl.lit(\"world\"), return_sim = True)\n",
    ").head()"
   ]
  },
  {
   "cell_type": "code",
   "execution_count": 24,
   "id": "2dad7633-67fa-47f3-b86a-9f4cd097a650",
   "metadata": {},
   "outputs": [
    {
     "data": {
      "text/html": [
       "<div><style>\n",
       ".dataframe > thead > tr,\n",
       ".dataframe > tbody > tr {\n",
       "  text-align: right;\n",
       "  white-space: pre-wrap;\n",
       "}\n",
       "</style>\n",
       "<small>shape: (5, 2)</small><table border=\"1\" class=\"dataframe\"><thead><tr><th>sen</th><th>word</th></tr><tr><td>str</td><td>str</td></tr></thead><tbody><tr><td>&quot;Hello, world! I&#x27;m going to chu…</td><td>&quot;word&quot;</td></tr><tr><td>&quot;Hello, world! I&#x27;m going to chu…</td><td>&quot;word&quot;</td></tr><tr><td>&quot;Hello, world! I&#x27;m going to chu…</td><td>&quot;word&quot;</td></tr><tr><td>&quot;Hello, world! I&#x27;m going to chu…</td><td>&quot;word&quot;</td></tr><tr><td>&quot;Hello, world! I&#x27;m going to chu…</td><td>&quot;word&quot;</td></tr></tbody></table></div>"
      ],
      "text/plain": [
       "shape: (5, 2)\n",
       "┌─────────────────────────────────┬──────┐\n",
       "│ sen                             ┆ word │\n",
       "│ ---                             ┆ ---  │\n",
       "│ str                             ┆ str  │\n",
       "╞═════════════════════════════════╪══════╡\n",
       "│ Hello, world! I'm going to chu… ┆ word │\n",
       "│ Hello, world! I'm going to chu… ┆ word │\n",
       "│ Hello, world! I'm going to chu… ┆ word │\n",
       "│ Hello, world! I'm going to chu… ┆ word │\n",
       "│ Hello, world! I'm going to chu… ┆ word │\n",
       "└─────────────────────────────────┴──────┘"
      ]
     },
     "execution_count": 24,
     "metadata": {},
     "output_type": "execute_result"
    }
   ],
   "source": [
    "df2.filter(\n",
    "    # This is way faster than computing ditance and then doing a filter\n",
    "    pds.filter_by_levenshtein(pl.col(\"word\"), pl.lit(\"world\"), 1) # <= 1. \n",
    ").head()"
   ]
  },
  {
   "cell_type": "code",
   "execution_count": 25,
   "id": "dc9477c1",
   "metadata": {},
   "outputs": [],
   "source": [
    "df = pl.DataFrame({\n",
    "    \"word\":[\"apple\", \"banana\", \"pineapple\", \"asasasas\", \"sasasass\"],\n",
    "    \"other_data\": [1,2,3,4,5]\n",
    "})\n",
    "gibberish = [\"asasasa\", \"sasaaasss\", \"asdasadadfa\"]"
   ]
  },
  {
   "cell_type": "code",
   "execution_count": 26,
   "id": "c50591e0",
   "metadata": {},
   "outputs": [
    {
     "data": {
      "text/html": [
       "<div><style>\n",
       ".dataframe > thead > tr,\n",
       ".dataframe > tbody > tr {\n",
       "  text-align: right;\n",
       "  white-space: pre-wrap;\n",
       "}\n",
       "</style>\n",
       "<small>shape: (2, 2)</small><table border=\"1\" class=\"dataframe\"><thead><tr><th>word</th><th>other_data</th></tr><tr><td>str</td><td>i64</td></tr></thead><tbody><tr><td>&quot;asasasas&quot;</td><td>4</td></tr><tr><td>&quot;sasasass&quot;</td><td>5</td></tr></tbody></table></div>"
      ],
      "text/plain": [
       "shape: (2, 2)\n",
       "┌──────────┬────────────┐\n",
       "│ word     ┆ other_data │\n",
       "│ ---      ┆ ---        │\n",
       "│ str      ┆ i64        │\n",
       "╞══════════╪════════════╡\n",
       "│ asasasas ┆ 4          │\n",
       "│ sasasass ┆ 5          │\n",
       "└──────────┴────────────┘"
      ]
     },
     "execution_count": 26,
     "metadata": {},
     "output_type": "execute_result"
    }
   ],
   "source": [
    "df.filter(\n",
    "    pds.similar_to_vocab(\n",
    "        pl.col(\"word\"),\n",
    "        vocab = gibberish,\n",
    "        threshold = 0.5,\n",
    "        metric = \"lv\", # Levenshtein similarity. Other options: dleven, osa, jw\n",
    "        strategy = \"any\" # True if the word is similar to any word in vocab. Other options: \"all\", \"avg\"\n",
    "    )\n",
    ")"
   ]
  },
  {
   "cell_type": "code",
   "execution_count": 27,
   "id": "7ece3794",
   "metadata": {},
   "outputs": [
    {
     "data": {
      "text/html": [
       "<div><style>\n",
       ".dataframe > thead > tr,\n",
       ".dataframe > tbody > tr {\n",
       "  text-align: right;\n",
       "  white-space: pre-wrap;\n",
       "}\n",
       "</style>\n",
       "<small>shape: (5, 6)</small><table border=\"1\" class=\"dataframe\"><thead><tr><th>asasasa</th><th>sasaaasss</th><th>asdasadadfa</th><th>LCS based Fuzz match - apples</th><th>Optimal String Alignment - apples</th><th>Jaro-Winkler - apples</th></tr><tr><td>f64</td><td>f64</td><td>f64</td><td>f64</td><td>f64</td><td>f64</td></tr></thead><tbody><tr><td>0.142857</td><td>0.111111</td><td>0.090909</td><td>0.833333</td><td>0.833333</td><td>0.966667</td></tr><tr><td>0.428571</td><td>0.333333</td><td>0.272727</td><td>0.166667</td><td>0.0</td><td>0.444444</td></tr><tr><td>0.111111</td><td>0.111111</td><td>0.090909</td><td>0.555556</td><td>0.444444</td><td>0.5</td></tr><tr><td>0.875</td><td>0.666667</td><td>0.545455</td><td>0.25</td><td>0.25</td><td>0.527778</td></tr><tr><td>0.75</td><td>0.777778</td><td>0.454545</td><td>0.25</td><td>0.25</td><td>0.527778</td></tr></tbody></table></div>"
      ],
      "text/plain": [
       "shape: (5, 6)\n",
       "┌──────────┬───────────┬─────────────┬────────────────┬──────────────────┬─────────────────────────┐\n",
       "│ asasasa  ┆ sasaaasss ┆ asdasadadfa ┆ LCS based Fuzz ┆ Optimal String   ┆ Jaro-Winkler - apples   │\n",
       "│ ---      ┆ ---       ┆ ---         ┆ match - apples ┆ Alignment - app… ┆ ---                     │\n",
       "│ f64      ┆ f64       ┆ f64         ┆ ---            ┆ ---              ┆ f64                     │\n",
       "│          ┆           ┆             ┆ f64            ┆ f64              ┆                         │\n",
       "╞══════════╪═══════════╪═════════════╪════════════════╪══════════════════╪═════════════════════════╡\n",
       "│ 0.142857 ┆ 0.111111  ┆ 0.090909    ┆ 0.833333       ┆ 0.833333         ┆ 0.966667                │\n",
       "│ 0.428571 ┆ 0.333333  ┆ 0.272727    ┆ 0.166667       ┆ 0.0              ┆ 0.444444                │\n",
       "│ 0.111111 ┆ 0.111111  ┆ 0.090909    ┆ 0.555556       ┆ 0.444444         ┆ 0.5                     │\n",
       "│ 0.875    ┆ 0.666667  ┆ 0.545455    ┆ 0.25           ┆ 0.25             ┆ 0.527778                │\n",
       "│ 0.75     ┆ 0.777778  ┆ 0.454545    ┆ 0.25           ┆ 0.25             ┆ 0.527778                │\n",
       "└──────────┴───────────┴─────────────┴────────────────┴──────────────────┴─────────────────────────┘"
      ]
     },
     "execution_count": 27,
     "metadata": {},
     "output_type": "execute_result"
    }
   ],
   "source": [
    "df.select(\n",
    "    pds.str_leven(\"word\", pl.lit(\"asasasa\"), return_sim=True).alias(\"asasasa\"),\n",
    "    pds.str_leven(\"word\", pl.lit(\"sasaaasss\"), return_sim=True).alias(\"sasaaasss\"),\n",
    "    pds.str_leven(\"word\", pl.lit(\"asdasadadfa\"), return_sim=True).alias(\"asdasadadfa\"),\n",
    "    pds.str_fuzz(\"word\", pl.lit(\"apples\")).alias(\"LCS based Fuzz match - apples\"),\n",
    "    pds.str_osa(\"word\", pl.lit(\"apples\"), return_sim=True).alias(\"Optimal String Alignment - apples\"),\n",
    "    pds.str_jw(\"word\", pl.lit(\"apples\")).alias(\"Jaro-Winkler - apples\"),\n",
    ")\n"
   ]
  },
  {
   "cell_type": "markdown",
   "id": "8841f2a1",
   "metadata": {},
   "source": [
    "# Stats Extension"
   ]
  },
  {
   "cell_type": "code",
   "execution_count": 28,
   "id": "2c6171b0",
   "metadata": {},
   "outputs": [
    {
     "data": {
      "text/html": [
       "<div><style>\n",
       ".dataframe > thead > tr,\n",
       ".dataframe > tbody > tr {\n",
       "  text-align: right;\n",
       "  white-space: pre-wrap;\n",
       "}\n",
       "</style>\n",
       "<small>shape: (5, 1)</small><table border=\"1\" class=\"dataframe\"><thead><tr><th>a</th></tr><tr><td>f64</td></tr></thead><tbody><tr><td>null</td></tr><tr><td>null</td></tr><tr><td>-0.381959</td></tr><tr><td>-1.135527</td></tr><tr><td>-1.094359</td></tr></tbody></table></div>"
      ],
      "text/plain": [
       "shape: (5, 1)\n",
       "┌───────────┐\n",
       "│ a         │\n",
       "│ ---       │\n",
       "│ f64       │\n",
       "╞═══════════╡\n",
       "│ null      │\n",
       "│ null      │\n",
       "│ -0.381959 │\n",
       "│ -1.135527 │\n",
       "│ -1.094359 │\n",
       "└───────────┘"
      ]
     },
     "execution_count": 28,
     "metadata": {},
     "output_type": "execute_result"
    }
   ],
   "source": [
    "import numpy as np\n",
    "\n",
    "df = pl.DataFrame({\n",
    "    \"a\": [None, None] + list(np.random.normal(size = 998))\n",
    "})\n",
    "df.head()"
   ]
  },
  {
   "cell_type": "code",
   "execution_count": 29,
   "id": "2f6e7445",
   "metadata": {},
   "outputs": [
    {
     "data": {
      "text/html": [
       "<div><style>\n",
       ".dataframe > thead > tr,\n",
       ".dataframe > tbody > tr {\n",
       "  text-align: right;\n",
       "  white-space: pre-wrap;\n",
       "}\n",
       "</style>\n",
       "<small>shape: (5, 2)</small><table border=\"1\" class=\"dataframe\"><thead><tr><th>a</th><th>random</th></tr><tr><td>f64</td><td>f64</td></tr></thead><tbody><tr><td>null</td><td>null</td></tr><tr><td>null</td><td>null</td></tr><tr><td>-0.381959</td><td>0.243821</td></tr><tr><td>-1.135527</td><td>1.357345</td></tr><tr><td>-1.094359</td><td>-1.33992</td></tr></tbody></table></div>"
      ],
      "text/plain": [
       "shape: (5, 2)\n",
       "┌───────────┬──────────┐\n",
       "│ a         ┆ random   │\n",
       "│ ---       ┆ ---      │\n",
       "│ f64       ┆ f64      │\n",
       "╞═══════════╪══════════╡\n",
       "│ null      ┆ null     │\n",
       "│ null      ┆ null     │\n",
       "│ -0.381959 ┆ 0.243821 │\n",
       "│ -1.135527 ┆ 1.357345 │\n",
       "│ -1.094359 ┆ -1.33992 │\n",
       "└───────────┴──────────┘"
      ]
     },
     "execution_count": 29,
     "metadata": {},
     "output_type": "execute_result"
    }
   ],
   "source": [
    "# Genenrate random numbers, respecting null positions in reference column (pl.col(\"a\"))\n",
    "df.with_columns(\n",
    "    pl.col(\"a\").stats.rand_normal(mean = 0.5, std = 1., respect_null=True).alias(\"random\")\n",
    ").head()"
   ]
  },
  {
   "cell_type": "code",
   "execution_count": 30,
   "id": "11e13f55",
   "metadata": {},
   "outputs": [
    {
     "data": {
      "text/html": [
       "<div><style>\n",
       ".dataframe > thead > tr,\n",
       ".dataframe > tbody > tr {\n",
       "  text-align: right;\n",
       "  white-space: pre-wrap;\n",
       "}\n",
       "</style>\n",
       "<small>shape: (5, 2)</small><table border=\"1\" class=\"dataframe\"><thead><tr><th>a</th><th>random_str</th></tr><tr><td>f64</td><td>str</td></tr></thead><tbody><tr><td>null</td><td>null</td></tr><tr><td>null</td><td>null</td></tr><tr><td>-0.381959</td><td>&quot;PiEm&quot;</td></tr><tr><td>-1.135527</td><td>&quot;5g&quot;</td></tr><tr><td>-1.094359</td><td>&quot;j7&quot;</td></tr></tbody></table></div>"
      ],
      "text/plain": [
       "shape: (5, 2)\n",
       "┌───────────┬────────────┐\n",
       "│ a         ┆ random_str │\n",
       "│ ---       ┆ ---        │\n",
       "│ f64       ┆ str        │\n",
       "╞═══════════╪════════════╡\n",
       "│ null      ┆ null       │\n",
       "│ null      ┆ null       │\n",
       "│ -0.381959 ┆ PiEm       │\n",
       "│ -1.135527 ┆ 5g         │\n",
       "│ -1.094359 ┆ j7         │\n",
       "└───────────┴────────────┘"
      ]
     },
     "execution_count": 30,
     "metadata": {},
     "output_type": "execute_result"
    }
   ],
   "source": [
    "# Genenrate random string\n",
    "df.with_columns(\n",
    "    pl.col(\"a\").stats.rand_str(min_size = 1, max_size = 5, respect_null=True).alias(\"random_str\")\n",
    ").head()"
   ]
  },
  {
   "cell_type": "code",
   "execution_count": 31,
   "id": "43c37394",
   "metadata": {},
   "outputs": [
    {
     "data": {
      "text/html": [
       "<div><style>\n",
       ".dataframe > thead > tr,\n",
       ".dataframe > tbody > tr {\n",
       "  text-align: right;\n",
       "  white-space: pre-wrap;\n",
       "}\n",
       "</style>\n",
       "<small>shape: (5, 2)</small><table border=\"1\" class=\"dataframe\"><thead><tr><th>a</th><th>random_str</th></tr><tr><td>f64</td><td>str</td></tr></thead><tbody><tr><td>null</td><td>null</td></tr><tr><td>null</td><td>null</td></tr><tr><td>-0.381959</td><td>&quot;bokmZ&quot;</td></tr><tr><td>-1.135527</td><td>&quot;N8ySJ&quot;</td></tr><tr><td>-1.094359</td><td>&quot;w2SrK&quot;</td></tr></tbody></table></div>"
      ],
      "text/plain": [
       "shape: (5, 2)\n",
       "┌───────────┬────────────┐\n",
       "│ a         ┆ random_str │\n",
       "│ ---       ┆ ---        │\n",
       "│ f64       ┆ str        │\n",
       "╞═══════════╪════════════╡\n",
       "│ null      ┆ null       │\n",
       "│ null      ┆ null       │\n",
       "│ -0.381959 ┆ bokmZ      │\n",
       "│ -1.135527 ┆ N8ySJ      │\n",
       "│ -1.094359 ┆ w2SrK      │\n",
       "└───────────┴────────────┘"
      ]
     },
     "execution_count": 31,
     "metadata": {},
     "output_type": "execute_result"
    }
   ],
   "source": [
    "# Genenrate fixed size random string, while respecting column a's nulls\n",
    "df.with_columns(\n",
    "    pl.col(\"a\").stats.rand_str(min_size = 5, max_size = 5, respect_null=True).alias(\"random_str\")\n",
    ").head()"
   ]
  },
  {
   "cell_type": "code",
   "execution_count": 32,
   "id": "3d0c06a4",
   "metadata": {},
   "outputs": [
    {
     "data": {
      "text/html": [
       "<div><style>\n",
       ".dataframe > thead > tr,\n",
       ".dataframe > tbody > tr {\n",
       "  text-align: right;\n",
       "  white-space: pre-wrap;\n",
       "}\n",
       "</style>\n",
       "<small>shape: (5, 4)</small><table border=\"1\" class=\"dataframe\"><thead><tr><th>a</th><th>test1</th><th>test2</th><th>test1_perturbed</th></tr><tr><td>f64</td><td>f64</td><td>f64</td><td>f64</td></tr></thead><tbody><tr><td>null</td><td>-0.174788</td><td>null</td><td>-0.175259</td></tr><tr><td>null</td><td>-1.570141</td><td>null</td><td>-1.57064</td></tr><tr><td>-0.381959</td><td>-0.110646</td><td>1.838472</td><td>-0.110484</td></tr><tr><td>-1.135527</td><td>-1.06616</td><td>2.31124</td><td>-1.066418</td></tr><tr><td>-1.094359</td><td>1.939488</td><td>1.312479</td><td>1.939795</td></tr></tbody></table></div>"
      ],
      "text/plain": [
       "shape: (5, 4)\n",
       "┌───────────┬───────────┬──────────┬─────────────────┐\n",
       "│ a         ┆ test1     ┆ test2    ┆ test1_perturbed │\n",
       "│ ---       ┆ ---       ┆ ---      ┆ ---             │\n",
       "│ f64       ┆ f64       ┆ f64      ┆ f64             │\n",
       "╞═══════════╪═══════════╪══════════╪═════════════════╡\n",
       "│ null      ┆ -0.174788 ┆ null     ┆ -0.175259       │\n",
       "│ null      ┆ -1.570141 ┆ null     ┆ -1.57064        │\n",
       "│ -0.381959 ┆ -0.110646 ┆ 1.838472 ┆ -0.110484       │\n",
       "│ -1.135527 ┆ -1.06616  ┆ 2.31124  ┆ -1.066418       │\n",
       "│ -1.094359 ┆ 1.939488  ┆ 1.312479 ┆ 1.939795        │\n",
       "└───────────┴───────────┴──────────┴─────────────────┘"
      ]
     },
     "execution_count": 32,
     "metadata": {},
     "output_type": "execute_result"
    }
   ],
   "source": [
    "df.with_columns(\n",
    "    # Sample from a normal distribution, using reference column \"a\" 's mean and std\n",
    "    pl.col(\"a\").stats.rand_normal().alias(\"test1\") \n",
    "    # Sample from uniform distribution, with low = 0 and high = \"a\"'s max, and respect the nulls in \"a\"\n",
    "    , pl.col(\"a\").stats.rand_uniform(low = 0., high = None, respect_null=True).alias(\"test2\")\n",
    ").with_columns(\n",
    "    # Add a random pertubation to test1\n",
    "    pds.perturb(\"test1\", epsilon=0.001).alias(\"test1_perturbed\")\n",
    ").head()"
   ]
  },
  {
   "cell_type": "code",
   "execution_count": 33,
   "id": "67dc6583",
   "metadata": {},
   "outputs": [
    {
     "data": {
      "text/html": [
       "<div><style>\n",
       ".dataframe > thead > tr,\n",
       ".dataframe > tbody > tr {\n",
       "  text-align: right;\n",
       "  white-space: pre-wrap;\n",
       "}\n",
       "</style>\n",
       "<small>shape: (5, 4)</small><table border=\"1\" class=\"dataframe\"><thead><tr><th>a</th><th>[0, 1)</th><th>Normal</th><th>Int from [0, 10)</th></tr><tr><td>f64</td><td>f64</td><td>f64</td><td>i32</td></tr></thead><tbody><tr><td>null</td><td>0.821669</td><td>-0.709848</td><td>8</td></tr><tr><td>null</td><td>0.073896</td><td>-0.087471</td><td>2</td></tr><tr><td>-0.381959</td><td>0.529454</td><td>0.103241</td><td>6</td></tr><tr><td>-1.135527</td><td>0.815764</td><td>-0.37447</td><td>2</td></tr><tr><td>-1.094359</td><td>0.834425</td><td>-1.303005</td><td>9</td></tr></tbody></table></div>"
      ],
      "text/plain": [
       "shape: (5, 4)\n",
       "┌───────────┬──────────┬───────────┬──────────────────┐\n",
       "│ a         ┆ [0, 1)   ┆ Normal    ┆ Int from [0, 10) │\n",
       "│ ---       ┆ ---      ┆ ---       ┆ ---              │\n",
       "│ f64       ┆ f64      ┆ f64       ┆ i32              │\n",
       "╞═══════════╪══════════╪═══════════╪══════════════════╡\n",
       "│ null      ┆ 0.821669 ┆ -0.709848 ┆ 8                │\n",
       "│ null      ┆ 0.073896 ┆ -0.087471 ┆ 2                │\n",
       "│ -0.381959 ┆ 0.529454 ┆ 0.103241  ┆ 6                │\n",
       "│ -1.135527 ┆ 0.815764 ┆ -0.37447  ┆ 2                │\n",
       "│ -1.094359 ┆ 0.834425 ┆ -1.303005 ┆ 9                │\n",
       "└───────────┴──────────┴───────────┴──────────────────┘"
      ]
     },
     "execution_count": 33,
     "metadata": {},
     "output_type": "execute_result"
    }
   ],
   "source": [
    "# New in v0.3.5\n",
    "# This way, we don't have a reference column, so we cannot respect nulls, but is more convenient to use.\n",
    "df.with_columns(\n",
    "    pds.random().alias(\"[0, 1)\"),\n",
    "    pds.random_normal(pl.col(\"a\").mean(), pl.col(\"a\").std()).alias(\"Normal\"),\n",
    "    pds.random_int(0, 10).alias(\"Int from [0, 10)\"),\n",
    ").head()"
   ]
  },
  {
   "cell_type": "code",
   "execution_count": 34,
   "id": "7b63f636",
   "metadata": {},
   "outputs": [
    {
     "data": {
      "text/html": [
       "<div><style>\n",
       ".dataframe > thead > tr,\n",
       ".dataframe > tbody > tr {\n",
       "  text-align: right;\n",
       "  white-space: pre-wrap;\n",
       "}\n",
       "</style>\n",
       "<small>shape: (1, 4)</small><table border=\"1\" class=\"dataframe\"><thead><tr><th>t-tests: statistics</th><th>t-tests: pvalue</th><th>normality_test: statistics</th><th>normality_test: pvalue</th></tr><tr><td>f64</td><td>f64</td><td>f64</td><td>f64</td></tr></thead><tbody><tr><td>-0.513639</td><td>0.607579</td><td>0.299723</td><td>0.860827</td></tr></tbody></table></div>"
      ],
      "text/plain": [
       "shape: (1, 4)\n",
       "┌─────────────────────┬─────────────────┬────────────────────────────┬────────────────────────┐\n",
       "│ t-tests: statistics ┆ t-tests: pvalue ┆ normality_test: statistics ┆ normality_test: pvalue │\n",
       "│ ---                 ┆ ---             ┆ ---                        ┆ ---                    │\n",
       "│ f64                 ┆ f64             ┆ f64                        ┆ f64                    │\n",
       "╞═════════════════════╪═════════════════╪════════════════════════════╪════════════════════════╡\n",
       "│ -0.513639           ┆ 0.607579        ┆ 0.299723                   ┆ 0.860827               │\n",
       "└─────────────────────┴─────────────────┴────────────────────────────┴────────────────────────┘"
      ]
     },
     "execution_count": 34,
     "metadata": {},
     "output_type": "execute_result"
    }
   ],
   "source": [
    "# Genenrate 2 random sample, both normally distributed\n",
    "# Run Welch's t test on them, p value should be big since they have equal mean\n",
    "# Run a normality test. Again, p value should be big since they are normally distributed \n",
    "\n",
    "df.with_columns(\n",
    "    pds.random_normal(0.5, 1.0).alias(\"test1\"),\n",
    "    pds.random_normal(0.5, 2.0).alias(\"test2\"),\n",
    ").select(\n",
    "    pds.query_ttest_ind(\"test1\", \"test2\", equal_var=False).alias(\"t-test\"),\n",
    "    pds.normal_test(\"test1\").alias(\"normality_test\")\n",
    ").select(\n",
    "    pl.col(\"t-test\").struct.field(\"statistic\").alias(\"t-tests: statistics\")\n",
    "    , pl.col(\"t-test\").struct.field(\"pvalue\").alias(\"t-tests: pvalue\")\n",
    "    , pl.col(\"normality_test\").struct.field(\"statistic\").alias(\"normality_test: statistics\")\n",
    "    , pl.col(\"normality_test\").struct.field(\"pvalue\").alias(\"normality_test: pvalue\")\n",
    ")"
   ]
  },
  {
   "cell_type": "code",
   "execution_count": 35,
   "id": "b46a72a5",
   "metadata": {},
   "outputs": [
    {
     "data": {
      "text/html": [
       "<div><style>\n",
       ".dataframe > thead > tr,\n",
       ".dataframe > tbody > tr {\n",
       "  text-align: right;\n",
       "  white-space: pre-wrap;\n",
       "}\n",
       "</style>\n",
       "<small>shape: (5, 5)</small><table border=\"1\" class=\"dataframe\"><thead><tr><th>market_id</th><th>var1</th><th>var2</th><th>category_1</th><th>category_2</th></tr><tr><td>i64</td><td>f64</td><td>f64</td><td>i32</td><td>i32</td></tr></thead><tbody><tr><td>0</td><td>0.019473</td><td>0.171105</td><td>2</td><td>7</td></tr><tr><td>1</td><td>0.713692</td><td>0.382273</td><td>1</td><td>9</td></tr><tr><td>2</td><td>0.996417</td><td>0.297603</td><td>4</td><td>2</td></tr><tr><td>0</td><td>0.488364</td><td>0.674275</td><td>1</td><td>8</td></tr><tr><td>1</td><td>0.885527</td><td>0.395589</td><td>4</td><td>4</td></tr></tbody></table></div>"
      ],
      "text/plain": [
       "shape: (5, 5)\n",
       "┌───────────┬──────────┬──────────┬────────────┬────────────┐\n",
       "│ market_id ┆ var1     ┆ var2     ┆ category_1 ┆ category_2 │\n",
       "│ ---       ┆ ---      ┆ ---      ┆ ---        ┆ ---        │\n",
       "│ i64       ┆ f64      ┆ f64      ┆ i32        ┆ i32        │\n",
       "╞═══════════╪══════════╪══════════╪════════════╪════════════╡\n",
       "│ 0         ┆ 0.019473 ┆ 0.171105 ┆ 2          ┆ 7          │\n",
       "│ 1         ┆ 0.713692 ┆ 0.382273 ┆ 1          ┆ 9          │\n",
       "│ 2         ┆ 0.996417 ┆ 0.297603 ┆ 4          ┆ 2          │\n",
       "│ 0         ┆ 0.488364 ┆ 0.674275 ┆ 1          ┆ 8          │\n",
       "│ 1         ┆ 0.885527 ┆ 0.395589 ┆ 4          ┆ 4          │\n",
       "└───────────┴──────────┴──────────┴────────────┴────────────┘"
      ]
     },
     "execution_count": 35,
     "metadata": {},
     "output_type": "execute_result"
    }
   ],
   "source": [
    "size = 5_000\n",
    "df = pl.DataFrame({\n",
    "    \"market_id\": range(size),\n",
    "}).with_columns(\n",
    "    pl.col(\"market_id\").mod(3),\n",
    "    var1 = pds.random(),\n",
    "    var2 = pds.random(),\n",
    "    category_1 = pds.random_int(0, 5),\n",
    "    category_2 = pds.random_int(0, 10),\n",
    ")\n",
    "\n",
    "df.head(5)"
   ]
  },
  {
   "cell_type": "code",
   "execution_count": 36,
   "id": "adc4f66f",
   "metadata": {},
   "outputs": [
    {
     "data": {
      "text/html": [
       "<div><style>\n",
       ".dataframe > thead > tr,\n",
       ".dataframe > tbody > tr {\n",
       "  text-align: right;\n",
       "  white-space: pre-wrap;\n",
       "}\n",
       "</style>\n",
       "<small>shape: (1, 3)</small><table border=\"1\" class=\"dataframe\"><thead><tr><th>t-test</th><th>chi2-test</th><th>f-test</th></tr><tr><td>struct[2]</td><td>struct[2]</td><td>struct[2]</td></tr></thead><tbody><tr><td>{-0.126337,0.899467}</td><td>{33.962157,0.565845}</td><td>{0.180814,0.948419}</td></tr></tbody></table></div>"
      ],
      "text/plain": [
       "shape: (1, 3)\n",
       "┌──────────────────────┬──────────────────────┬─────────────────────┐\n",
       "│ t-test               ┆ chi2-test            ┆ f-test              │\n",
       "│ ---                  ┆ ---                  ┆ ---                 │\n",
       "│ struct[2]            ┆ struct[2]            ┆ struct[2]           │\n",
       "╞══════════════════════╪══════════════════════╪═════════════════════╡\n",
       "│ {-0.126337,0.899467} ┆ {33.962157,0.565845} ┆ {0.180814,0.948419} │\n",
       "└──────────────────────┴──────────────────────┴─────────────────────┘"
      ]
     },
     "execution_count": 36,
     "metadata": {},
     "output_type": "execute_result"
    }
   ],
   "source": [
    "# In dataframe statistical tests!\n",
    "df.select(\n",
    "    pds.query_ttest_ind(\"var1\", \"var2\", equal_var=True).alias(\"t-test\"),\n",
    "    pds.query_chi2(\"category_1\", \"category_2\").alias(\"chi2-test\"),\n",
    "    pds.query_f_test(\"var1\", group = \"category_1\").alias(\"f-test\")\n",
    ")"
   ]
  },
  {
   "cell_type": "code",
   "execution_count": 37,
   "id": "65dbb6bd",
   "metadata": {},
   "outputs": [
    {
     "data": {
      "text/html": [
       "<div><style>\n",
       ".dataframe > thead > tr,\n",
       ".dataframe > tbody > tr {\n",
       "  text-align: right;\n",
       "  white-space: pre-wrap;\n",
       "}\n",
       "</style>\n",
       "<small>shape: (3, 4)</small><table border=\"1\" class=\"dataframe\"><thead><tr><th>market_id</th><th>t-test</th><th>chi2-test</th><th>f-test</th></tr><tr><td>i64</td><td>struct[2]</td><td>struct[2]</td><td>struct[2]</td></tr></thead><tbody><tr><td>0</td><td>{-0.515361,0.606335}</td><td>{35.524924,0.491017}</td><td>{0.816046,0.514825}</td></tr><tr><td>1</td><td>{-0.268552,0.788291}</td><td>{32.910184,0.616334}</td><td>{0.435425,0.783105}</td></tr><tr><td>2</td><td>{0.565757,0.571597}</td><td>{27.054396,0.85915}</td><td>{0.250538,0.909424}</td></tr></tbody></table></div>"
      ],
      "text/plain": [
       "shape: (3, 4)\n",
       "┌───────────┬──────────────────────┬──────────────────────┬─────────────────────┐\n",
       "│ market_id ┆ t-test               ┆ chi2-test            ┆ f-test              │\n",
       "│ ---       ┆ ---                  ┆ ---                  ┆ ---                 │\n",
       "│ i64       ┆ struct[2]            ┆ struct[2]            ┆ struct[2]           │\n",
       "╞═══════════╪══════════════════════╪══════════════════════╪═════════════════════╡\n",
       "│ 0         ┆ {-0.515361,0.606335} ┆ {35.524924,0.491017} ┆ {0.816046,0.514825} │\n",
       "│ 1         ┆ {-0.268552,0.788291} ┆ {32.910184,0.616334} ┆ {0.435425,0.783105} │\n",
       "│ 2         ┆ {0.565757,0.571597}  ┆ {27.054396,0.85915}  ┆ {0.250538,0.909424} │\n",
       "└───────────┴──────────────────────┴──────────────────────┴─────────────────────┘"
      ]
     },
     "execution_count": 37,
     "metadata": {},
     "output_type": "execute_result"
    }
   ],
   "source": [
    "# Can also be done in group by context\n",
    "df.group_by(\"market_id\").agg(\n",
    "    pds.query_ttest_ind(\"var1\", \"var2\", equal_var=False).alias(\"t-test\"),\n",
    "    pds.query_chi2(\"category_1\", \"category_2\").alias(\"chi2-test\"),\n",
    "    pds.query_f_test(\"var1\", group = \"category_1\").alias(\"f-test\")\n",
    ")"
   ]
  },
  {
   "cell_type": "code",
   "execution_count": 38,
   "id": "843d54c5",
   "metadata": {},
   "outputs": [
    {
     "data": {
      "text/html": [
       "<div><style>\n",
       ".dataframe > thead > tr,\n",
       ".dataframe > tbody > tr {\n",
       "  text-align: right;\n",
       "  white-space: pre-wrap;\n",
       "}\n",
       "</style>\n",
       "<small>shape: (9, 2)</small><table border=\"1\" class=\"dataframe\"><thead><tr><th>first_digit_cnt</th><th>first_digit_distribution</th></tr><tr><td>u32</td><td>f64</td></tr></thead><tbody><tr><td>544</td><td>0.1088</td></tr><tr><td>583</td><td>0.1166</td></tr><tr><td>536</td><td>0.1072</td></tr><tr><td>545</td><td>0.109</td></tr><tr><td>560</td><td>0.112</td></tr><tr><td>520</td><td>0.104</td></tr><tr><td>602</td><td>0.1204</td></tr><tr><td>567</td><td>0.1134</td></tr><tr><td>543</td><td>0.1086</td></tr></tbody></table></div>"
      ],
      "text/plain": [
       "shape: (9, 2)\n",
       "┌─────────────────┬──────────────────────────┐\n",
       "│ first_digit_cnt ┆ first_digit_distribution │\n",
       "│ ---             ┆ ---                      │\n",
       "│ u32             ┆ f64                      │\n",
       "╞═════════════════╪══════════════════════════╡\n",
       "│ 544             ┆ 0.1088                   │\n",
       "│ 583             ┆ 0.1166                   │\n",
       "│ 536             ┆ 0.1072                   │\n",
       "│ 545             ┆ 0.109                    │\n",
       "│ 560             ┆ 0.112                    │\n",
       "│ 520             ┆ 0.104                    │\n",
       "│ 602             ┆ 0.1204                   │\n",
       "│ 567             ┆ 0.1134                   │\n",
       "│ 543             ┆ 0.1086                   │\n",
       "└─────────────────┴──────────────────────────┘"
      ]
     },
     "execution_count": 38,
     "metadata": {},
     "output_type": "execute_result"
    }
   ],
   "source": [
    "# Benford's law\n",
    "df.select(\n",
    "    first_digit_cnt = pds.query_first_digit_cnt(pl.col(\"var1\")).explode()\n",
    ").with_columns(\n",
    "    # This doesn't follow benford's law because it is random data\n",
    "    first_digit_distribution = pl.col(\"first_digit_cnt\") / pl.col(\"first_digit_cnt\").sum()\n",
    ")"
   ]
  },
  {
   "cell_type": "markdown",
   "id": "b232e4d7",
   "metadata": {},
   "source": [
    "# Nearest Neighbors Related Tasks\n",
    "\n",
    "These queries can be very slow when data/dimension gets huge, even when processed in parallel."
   ]
  },
  {
   "cell_type": "code",
   "execution_count": 39,
   "id": "87aff1ef",
   "metadata": {},
   "outputs": [],
   "source": [
    "import polars_ds as pds\n",
    "size = 2000\n",
    "df = pl.DataFrame({\n",
    "    \"id\": range(size), \n",
    "}).with_columns(\n",
    "    pds.random().alias(\"var1\"),\n",
    "    pds.random().alias(\"var2\"),\n",
    "    pds.random().alias(\"var3\"),\n",
    "    pds.random().alias(\"r\"),\n",
    "    (pds.random() * 10).alias(\"rh\"),\n",
    "    pl.col(\"id\").cast(pl.UInt32)\n",
    ")"
   ]
  },
  {
   "cell_type": "code",
   "execution_count": 40,
   "id": "2fae4b5e",
   "metadata": {},
   "outputs": [
    {
     "data": {
      "text/html": [
       "<div><style>\n",
       ".dataframe > thead > tr,\n",
       ".dataframe > tbody > tr {\n",
       "  text-align: right;\n",
       "  white-space: pre-wrap;\n",
       "}\n",
       "</style>\n",
       "<small>shape: (5, 7)</small><table border=\"1\" class=\"dataframe\"><thead><tr><th>id</th><th>var1</th><th>var2</th><th>var3</th><th>r</th><th>rh</th><th>nb_l_inf_cnt</th></tr><tr><td>u32</td><td>f64</td><td>f64</td><td>f64</td><td>f64</td><td>f64</td><td>u32</td></tr></thead><tbody><tr><td>0</td><td>0.924878</td><td>0.846702</td><td>0.674674</td><td>0.682754</td><td>6.99624</td><td>11</td></tr><tr><td>1</td><td>0.087599</td><td>0.579509</td><td>0.76727</td><td>0.463832</td><td>7.575222</td><td>18</td></tr><tr><td>2</td><td>0.741292</td><td>0.694109</td><td>0.9023</td><td>0.198394</td><td>7.669698</td><td>17</td></tr><tr><td>3</td><td>0.257977</td><td>0.693971</td><td>0.99771</td><td>0.482514</td><td>8.289207</td><td>13</td></tr><tr><td>4</td><td>0.384868</td><td>0.229558</td><td>0.976919</td><td>0.589701</td><td>7.770796</td><td>8</td></tr></tbody></table></div>"
      ],
      "text/plain": [
       "shape: (5, 7)\n",
       "┌─────┬──────────┬──────────┬──────────┬──────────┬──────────┬──────────────┐\n",
       "│ id  ┆ var1     ┆ var2     ┆ var3     ┆ r        ┆ rh       ┆ nb_l_inf_cnt │\n",
       "│ --- ┆ ---      ┆ ---      ┆ ---      ┆ ---      ┆ ---      ┆ ---          │\n",
       "│ u32 ┆ f64      ┆ f64      ┆ f64      ┆ f64      ┆ f64      ┆ u32          │\n",
       "╞═════╪══════════╪══════════╪══════════╪══════════╪══════════╪══════════════╡\n",
       "│ 0   ┆ 0.924878 ┆ 0.846702 ┆ 0.674674 ┆ 0.682754 ┆ 6.99624  ┆ 11           │\n",
       "│ 1   ┆ 0.087599 ┆ 0.579509 ┆ 0.76727  ┆ 0.463832 ┆ 7.575222 ┆ 18           │\n",
       "│ 2   ┆ 0.741292 ┆ 0.694109 ┆ 0.9023   ┆ 0.198394 ┆ 7.669698 ┆ 17           │\n",
       "│ 3   ┆ 0.257977 ┆ 0.693971 ┆ 0.99771  ┆ 0.482514 ┆ 8.289207 ┆ 13           │\n",
       "│ 4   ┆ 0.384868 ┆ 0.229558 ┆ 0.976919 ┆ 0.589701 ┆ 7.770796 ┆ 8            │\n",
       "└─────┴──────────┴──────────┴──────────┴──────────┴──────────┴──────────────┘"
      ]
     },
     "execution_count": 40,
     "metadata": {},
     "output_type": "execute_result"
    }
   ],
   "source": [
    "# Get neighbor count. The point itself is always considered a neighbor to itself.\n",
    "df.with_columns(\n",
    "    pds.query_nb_cnt(\n",
    "        0.1, # radius \n",
    "        pl.col(\"var1\"), \"var2\", \"var3\", # Columns used as the coordinates in n-d space, str | pl.Expr \n",
    "        dist = \"inf\", # L Infinity distance \n",
    "        parallel = True \n",
    "    ).alias(\"nb_l_inf_cnt\")\n",
    ").head() "
   ]
  },
  {
   "cell_type": "code",
   "execution_count": 41,
   "id": "69ad83d1",
   "metadata": {},
   "outputs": [
    {
     "data": {
      "text/html": [
       "<div><style>\n",
       ".dataframe > thead > tr,\n",
       ".dataframe > tbody > tr {\n",
       "  text-align: right;\n",
       "  white-space: pre-wrap;\n",
       "}\n",
       "</style>\n",
       "<small>shape: (5, 7)</small><table border=\"1\" class=\"dataframe\"><thead><tr><th>id</th><th>var1</th><th>var2</th><th>var3</th><th>r</th><th>rh</th><th>nb_l1_r_cnt</th></tr><tr><td>u32</td><td>f64</td><td>f64</td><td>f64</td><td>f64</td><td>f64</td><td>u32</td></tr></thead><tbody><tr><td>0</td><td>0.924878</td><td>0.846702</td><td>0.674674</td><td>0.682754</td><td>6.99624</td><td>385</td></tr><tr><td>1</td><td>0.087599</td><td>0.579509</td><td>0.76727</td><td>0.463832</td><td>7.575222</td><td>182</td></tr><tr><td>2</td><td>0.741292</td><td>0.694109</td><td>0.9023</td><td>0.198394</td><td>7.669698</td><td>19</td></tr><tr><td>3</td><td>0.257977</td><td>0.693971</td><td>0.99771</td><td>0.482514</td><td>8.289207</td><td>134</td></tr><tr><td>4</td><td>0.384868</td><td>0.229558</td><td>0.976919</td><td>0.589701</td><td>7.770796</td><td>240</td></tr></tbody></table></div>"
      ],
      "text/plain": [
       "shape: (5, 7)\n",
       "┌─────┬──────────┬──────────┬──────────┬──────────┬──────────┬─────────────┐\n",
       "│ id  ┆ var1     ┆ var2     ┆ var3     ┆ r        ┆ rh       ┆ nb_l1_r_cnt │\n",
       "│ --- ┆ ---      ┆ ---      ┆ ---      ┆ ---      ┆ ---      ┆ ---         │\n",
       "│ u32 ┆ f64      ┆ f64      ┆ f64      ┆ f64      ┆ f64      ┆ u32         │\n",
       "╞═════╪══════════╪══════════╪══════════╪══════════╪══════════╪═════════════╡\n",
       "│ 0   ┆ 0.924878 ┆ 0.846702 ┆ 0.674674 ┆ 0.682754 ┆ 6.99624  ┆ 385         │\n",
       "│ 1   ┆ 0.087599 ┆ 0.579509 ┆ 0.76727  ┆ 0.463832 ┆ 7.575222 ┆ 182         │\n",
       "│ 2   ┆ 0.741292 ┆ 0.694109 ┆ 0.9023   ┆ 0.198394 ┆ 7.669698 ┆ 19          │\n",
       "│ 3   ┆ 0.257977 ┆ 0.693971 ┆ 0.99771  ┆ 0.482514 ┆ 8.289207 ┆ 134         │\n",
       "│ 4   ┆ 0.384868 ┆ 0.229558 ┆ 0.976919 ┆ 0.589701 ┆ 7.770796 ┆ 240         │\n",
       "└─────┴──────────┴──────────┴──────────┴──────────┴──────────┴─────────────┘"
      ]
     },
     "execution_count": 41,
     "metadata": {},
     "output_type": "execute_result"
    }
   ],
   "source": [
    "df.with_columns(\n",
    "    pds.query_nb_cnt(\n",
    "        pl.col(\"r\"), # radius be an expression too\n",
    "        \"var1\", \"var2\", \"var3\", # Columns used as the coordinates in n-d space, str | pl.Expr \n",
    "        dist = \"l1\", # L 1 distance \n",
    "        parallel = True \n",
    "    ).alias(\"nb_l1_r_cnt\")\n",
    ").head()"
   ]
  },
  {
   "cell_type": "code",
   "execution_count": 42,
   "id": "ce1a2c7a",
   "metadata": {},
   "outputs": [
    {
     "data": {
      "text/html": [
       "<div><style>\n",
       ".dataframe > thead > tr,\n",
       ".dataframe > tbody > tr {\n",
       "  text-align: right;\n",
       "  white-space: pre-wrap;\n",
       "}\n",
       "</style>\n",
       "<small>shape: (5, 7)</small><table border=\"1\" class=\"dataframe\"><thead><tr><th>id</th><th>var1</th><th>var2</th><th>var3</th><th>r</th><th>rh</th><th>best friends</th></tr><tr><td>u32</td><td>f64</td><td>f64</td><td>f64</td><td>f64</td><td>f64</td><td>list[u32]</td></tr></thead><tbody><tr><td>0</td><td>0.924878</td><td>0.846702</td><td>0.674674</td><td>0.682754</td><td>6.99624</td><td>[0, 166, … 479]</td></tr><tr><td>1</td><td>0.087599</td><td>0.579509</td><td>0.76727</td><td>0.463832</td><td>7.575222</td><td>[1, 1918, … 22]</td></tr><tr><td>2</td><td>0.741292</td><td>0.694109</td><td>0.9023</td><td>0.198394</td><td>7.669698</td><td>[2, 639, … 1317]</td></tr><tr><td>3</td><td>0.257977</td><td>0.693971</td><td>0.99771</td><td>0.482514</td><td>8.289207</td><td>[3, 1998, … 1744]</td></tr><tr><td>4</td><td>0.384868</td><td>0.229558</td><td>0.976919</td><td>0.589701</td><td>7.770796</td><td>[4, 1176, … 1058]</td></tr></tbody></table></div>"
      ],
      "text/plain": [
       "shape: (5, 7)\n",
       "┌─────┬──────────┬──────────┬──────────┬──────────┬──────────┬───────────────────┐\n",
       "│ id  ┆ var1     ┆ var2     ┆ var3     ┆ r        ┆ rh       ┆ best friends      │\n",
       "│ --- ┆ ---      ┆ ---      ┆ ---      ┆ ---      ┆ ---      ┆ ---               │\n",
       "│ u32 ┆ f64      ┆ f64      ┆ f64      ┆ f64      ┆ f64      ┆ list[u32]         │\n",
       "╞═════╪══════════╪══════════╪══════════╪══════════╪══════════╪═══════════════════╡\n",
       "│ 0   ┆ 0.924878 ┆ 0.846702 ┆ 0.674674 ┆ 0.682754 ┆ 6.99624  ┆ [0, 166, … 479]   │\n",
       "│ 1   ┆ 0.087599 ┆ 0.579509 ┆ 0.76727  ┆ 0.463832 ┆ 7.575222 ┆ [1, 1918, … 22]   │\n",
       "│ 2   ┆ 0.741292 ┆ 0.694109 ┆ 0.9023   ┆ 0.198394 ┆ 7.669698 ┆ [2, 639, … 1317]  │\n",
       "│ 3   ┆ 0.257977 ┆ 0.693971 ┆ 0.99771  ┆ 0.482514 ┆ 8.289207 ┆ [3, 1998, … 1744] │\n",
       "│ 4   ┆ 0.384868 ┆ 0.229558 ┆ 0.976919 ┆ 0.589701 ┆ 7.770796 ┆ [4, 1176, … 1058] │\n",
       "└─────┴──────────┴──────────┴──────────┴──────────┴──────────┴───────────────────┘"
      ]
     },
     "execution_count": 42,
     "metadata": {},
     "output_type": "execute_result"
    }
   ],
   "source": [
    "# Get ids of the k nearest neighbors. \n",
    "# The point itself is always considered a neighbor to itself, so k + 1 elements will be returned.\n",
    "df.with_columns(\n",
    "    pds.query_knn_ptwise(\n",
    "        pl.col(\"var1\"), pl.col(\"var2\"), pl.col(\"var3\"), # Columns used as the coordinates in n-d space\n",
    "        index = \"id\",  # pl.col(\"id\"), str | pl.Expr\n",
    "        k = 3, \n",
    "        dist = \"l2\", # squared l2\n",
    "        parallel = True\n",
    "    ).alias(\"best friends\")\n",
    ").head() "
   ]
  },
  {
   "cell_type": "code",
   "execution_count": 43,
   "id": "67a769f3",
   "metadata": {},
   "outputs": [
    {
     "name": "stdout",
     "output_type": "stream",
     "text": [
      "shape: (5, 3)\n",
      "┌─────┬───────────────────┬────────────────────┐\n",
      "│ id  ┆ best friends      ┆ best friends count │\n",
      "│ --- ┆ ---               ┆ ---                │\n",
      "│ u32 ┆ list[u32]         ┆ u32                │\n",
      "╞═════╪═══════════════════╪════════════════════╡\n",
      "│ 0   ┆ [0, 166, … 437]   ┆ 154                │\n",
      "│ 1   ┆ [1, 1918, … 1747] ┆ 181                │\n",
      "│ 2   ┆ [2, 639, … 957]   ┆ 190                │\n",
      "│ 3   ┆ [3, 1998, … 25]   ┆ 131                │\n",
      "│ 4   ┆ [4, 1176, … 1450] ┆ 139                │\n",
      "└─────┴───────────────────┴────────────────────┘\n"
     ]
    }
   ],
   "source": [
    "# Get all neighbors within radius r\n",
    "# The point itself is always considered a neighbor to itself.\n",
    "print(df.select(\n",
    "    pl.col(\"id\"),\n",
    "    pds.query_radius_ptwise(\n",
    "        pl.col(\"var1\"), pl.col(\"var2\"), pl.col(\"var3\"), # Columns used as the coordinates in n-d space\n",
    "        index = pl.col(\"id\"),\n",
    "        r = 0.1, \n",
    "        dist = \"l2\", # actually this is squared l2\n",
    "        parallel = True\n",
    "    ).alias(\"best friends\"),\n",
    ").with_columns( # -1 to remove the point itself\n",
    "    (pl.col(\"best friends\").list.len() - 1).alias(\"best friends count\")\n",
    ").head())"
   ]
  },
  {
   "cell_type": "code",
   "execution_count": 44,
   "id": "06cd7fb2",
   "metadata": {},
   "outputs": [
    {
     "data": {
      "text/html": [
       "<div><style>\n",
       ".dataframe > thead > tr,\n",
       ".dataframe > tbody > tr {\n",
       "  text-align: right;\n",
       "  white-space: pre-wrap;\n",
       "}\n",
       "</style>\n",
       "<small>shape: (5, 8)</small><table border=\"1\" class=\"dataframe\"><thead><tr><th>id</th><th>var1</th><th>var2</th><th>var3</th><th>r</th><th>rh</th><th>idx</th><th>dist</th></tr><tr><td>u32</td><td>f64</td><td>f64</td><td>f64</td><td>f64</td><td>f64</td><td>list[u32]</td><td>list[f64]</td></tr></thead><tbody><tr><td>0</td><td>0.924878</td><td>0.846702</td><td>0.674674</td><td>0.682754</td><td>6.99624</td><td>[0, 166, … 479]</td><td>[0.0, 0.004763, … 0.006823]</td></tr><tr><td>1</td><td>0.087599</td><td>0.579509</td><td>0.76727</td><td>0.463832</td><td>7.575222</td><td>[1, 1918, … 22]</td><td>[0.0, 0.004356, … 0.007115]</td></tr><tr><td>2</td><td>0.741292</td><td>0.694109</td><td>0.9023</td><td>0.198394</td><td>7.669698</td><td>[2, 639, … 1317]</td><td>[0.0, 0.001451, … 0.005848]</td></tr><tr><td>3</td><td>0.257977</td><td>0.693971</td><td>0.99771</td><td>0.482514</td><td>8.289207</td><td>[3, 1998, … 1744]</td><td>[0.0, 0.000948, … 0.003535]</td></tr><tr><td>4</td><td>0.384868</td><td>0.229558</td><td>0.976919</td><td>0.589701</td><td>7.770796</td><td>[4, 1176, … 1058]</td><td>[0.0, 0.005996, … 0.009611]</td></tr></tbody></table></div>"
      ],
      "text/plain": [
       "shape: (5, 8)\n",
       "┌─────┬──────────┬──────────┬──────────┬──────────┬──────────┬──────────────────┬──────────────────┐\n",
       "│ id  ┆ var1     ┆ var2     ┆ var3     ┆ r        ┆ rh       ┆ idx              ┆ dist             │\n",
       "│ --- ┆ ---      ┆ ---      ┆ ---      ┆ ---      ┆ ---      ┆ ---              ┆ ---              │\n",
       "│ u32 ┆ f64      ┆ f64      ┆ f64      ┆ f64      ┆ f64      ┆ list[u32]        ┆ list[f64]        │\n",
       "╞═════╪══════════╪══════════╪══════════╪══════════╪══════════╪══════════════════╪══════════════════╡\n",
       "│ 0   ┆ 0.924878 ┆ 0.846702 ┆ 0.674674 ┆ 0.682754 ┆ 6.99624  ┆ [0, 166, … 479]  ┆ [0.0, 0.004763,  │\n",
       "│     ┆          ┆          ┆          ┆          ┆          ┆                  ┆ … 0.006823]      │\n",
       "│ 1   ┆ 0.087599 ┆ 0.579509 ┆ 0.76727  ┆ 0.463832 ┆ 7.575222 ┆ [1, 1918, … 22]  ┆ [0.0, 0.004356,  │\n",
       "│     ┆          ┆          ┆          ┆          ┆          ┆                  ┆ … 0.007115]      │\n",
       "│ 2   ┆ 0.741292 ┆ 0.694109 ┆ 0.9023   ┆ 0.198394 ┆ 7.669698 ┆ [2, 639, … 1317] ┆ [0.0, 0.001451,  │\n",
       "│     ┆          ┆          ┆          ┆          ┆          ┆                  ┆ … 0.005848]      │\n",
       "│ 3   ┆ 0.257977 ┆ 0.693971 ┆ 0.99771  ┆ 0.482514 ┆ 8.289207 ┆ [3, 1998, …      ┆ [0.0, 0.000948,  │\n",
       "│     ┆          ┆          ┆          ┆          ┆          ┆ 1744]            ┆ … 0.003535]      │\n",
       "│ 4   ┆ 0.384868 ┆ 0.229558 ┆ 0.976919 ┆ 0.589701 ┆ 7.770796 ┆ [4, 1176, …      ┆ [0.0, 0.005996,  │\n",
       "│     ┆          ┆          ┆          ┆          ┆          ┆ 1058]            ┆ … 0.009611]      │\n",
       "└─────┴──────────┴──────────┴──────────┴──────────┴──────────┴──────────────────┴──────────────────┘"
      ]
     },
     "execution_count": 44,
     "metadata": {},
     "output_type": "execute_result"
    }
   ],
   "source": [
    "# Get ids of the k nearest neighbors and distances\n",
    "# The point itself is always considered a neighbor to itself, so k + 1 elements will be returned.\n",
    "df.with_columns(\n",
    "    pds.query_knn_ptwise(\n",
    "        pl.col(\"var1\"), pl.col(\"var2\"), pl.col(\"var3\"), # Columns used as the coordinates in n-d space\n",
    "        index = pl.col(\"id\"),\n",
    "        k = 3, \n",
    "        dist = \"l2\", # actually this is squared l2\n",
    "        parallel = True,\n",
    "        return_dist = True\n",
    "    ).alias(\"best_friends_w_dist\")\n",
    ").unnest(\"best_friends_w_dist\").head()"
   ]
  },
  {
   "cell_type": "code",
   "execution_count": 45,
   "id": "b5c69ae4",
   "metadata": {},
   "outputs": [
    {
     "data": {
      "text/html": [
       "<div><style>\n",
       ".dataframe > thead > tr,\n",
       ".dataframe > tbody > tr {\n",
       "  text-align: right;\n",
       "  white-space: pre-wrap;\n",
       "}\n",
       "</style>\n",
       "<small>shape: (5, 6)</small><table border=\"1\" class=\"dataframe\"><thead><tr><th>id</th><th>var1</th><th>var2</th><th>var3</th><th>r</th><th>rh</th></tr><tr><td>u32</td><td>f64</td><td>f64</td><td>f64</td><td>f64</td><td>f64</td></tr></thead><tbody><tr><td>5</td><td>0.770442</td><td>0.56508</td><td>0.813079</td><td>0.782209</td><td>0.754296</td></tr><tr><td>7</td><td>0.556361</td><td>0.337339</td><td>0.563848</td><td>0.376518</td><td>0.936653</td></tr><tr><td>9</td><td>0.782435</td><td>0.27215</td><td>0.464622</td><td>0.580001</td><td>6.118336</td></tr><tr><td>10</td><td>0.629772</td><td>0.448287</td><td>0.791597</td><td>0.635306</td><td>2.524189</td></tr><tr><td>14</td><td>0.903241</td><td>0.450109</td><td>0.598315</td><td>0.13542</td><td>7.985892</td></tr></tbody></table></div>"
      ],
      "text/plain": [
       "shape: (5, 6)\n",
       "┌─────┬──────────┬──────────┬──────────┬──────────┬──────────┐\n",
       "│ id  ┆ var1     ┆ var2     ┆ var3     ┆ r        ┆ rh       │\n",
       "│ --- ┆ ---      ┆ ---      ┆ ---      ┆ ---      ┆ ---      │\n",
       "│ u32 ┆ f64      ┆ f64      ┆ f64      ┆ f64      ┆ f64      │\n",
       "╞═════╪══════════╪══════════╪══════════╪══════════╪══════════╡\n",
       "│ 5   ┆ 0.770442 ┆ 0.56508  ┆ 0.813079 ┆ 0.782209 ┆ 0.754296 │\n",
       "│ 7   ┆ 0.556361 ┆ 0.337339 ┆ 0.563848 ┆ 0.376518 ┆ 0.936653 │\n",
       "│ 9   ┆ 0.782435 ┆ 0.27215  ┆ 0.464622 ┆ 0.580001 ┆ 6.118336 │\n",
       "│ 10  ┆ 0.629772 ┆ 0.448287 ┆ 0.791597 ┆ 0.635306 ┆ 2.524189 │\n",
       "│ 14  ┆ 0.903241 ┆ 0.450109 ┆ 0.598315 ┆ 0.13542  ┆ 7.985892 │\n",
       "└─────┴──────────┴──────────┴──────────┴──────────┴──────────┘"
      ]
     },
     "execution_count": 45,
     "metadata": {},
     "output_type": "execute_result"
    }
   ],
   "source": [
    "# Filter to only points near the given point\n",
    "df.filter(\n",
    "    pds.query_within_dist_from(\n",
    "        pl.col(\"var1\"), pl.col(\"var2\"), pl.col(\"var3\"), # Columns used as the coordinates in n-d space\n",
    "        pt = [0.5, 0.5, 0.5],\n",
    "        r = 0.2,\n",
    "        dist = \"l2\" # actually this is squared l2, so this is asking for squared l2 <= 0.2\n",
    "    )\n",
    ").head()"
   ]
  },
  {
   "cell_type": "code",
   "execution_count": 46,
   "id": "4ab9e8f8",
   "metadata": {},
   "outputs": [
    {
     "data": {
      "text/html": [
       "<div><style>\n",
       ".dataframe > thead > tr,\n",
       ".dataframe > tbody > tr {\n",
       "  text-align: right;\n",
       "  white-space: pre-wrap;\n",
       "}\n",
       "</style>\n",
       "<small>shape: (5, 6)</small><table border=\"1\" class=\"dataframe\"><thead><tr><th>id</th><th>var1</th><th>var2</th><th>var3</th><th>r</th><th>rh</th></tr><tr><td>u32</td><td>f64</td><td>f64</td><td>f64</td><td>f64</td><td>f64</td></tr></thead><tbody><tr><td>17</td><td>0.570249</td><td>0.491009</td><td>0.670752</td><td>0.640805</td><td>0.885105</td></tr><tr><td>44</td><td>0.473745</td><td>0.43179</td><td>0.268898</td><td>0.220301</td><td>0.17448</td></tr><tr><td>90</td><td>0.447126</td><td>0.540316</td><td>0.067243</td><td>0.312103</td><td>3.966946</td></tr><tr><td>107</td><td>0.54189</td><td>0.420967</td><td>0.046989</td><td>0.132562</td><td>4.515198</td></tr><tr><td>185</td><td>0.505471</td><td>0.503478</td><td>0.892601</td><td>0.30589</td><td>2.428861</td></tr></tbody></table></div>"
      ],
      "text/plain": [
       "shape: (5, 6)\n",
       "┌─────┬──────────┬──────────┬──────────┬──────────┬──────────┐\n",
       "│ id  ┆ var1     ┆ var2     ┆ var3     ┆ r        ┆ rh       │\n",
       "│ --- ┆ ---      ┆ ---      ┆ ---      ┆ ---      ┆ ---      │\n",
       "│ u32 ┆ f64      ┆ f64      ┆ f64      ┆ f64      ┆ f64      │\n",
       "╞═════╪══════════╪══════════╪══════════╪══════════╪══════════╡\n",
       "│ 17  ┆ 0.570249 ┆ 0.491009 ┆ 0.670752 ┆ 0.640805 ┆ 0.885105 │\n",
       "│ 44  ┆ 0.473745 ┆ 0.43179  ┆ 0.268898 ┆ 0.220301 ┆ 0.17448  │\n",
       "│ 90  ┆ 0.447126 ┆ 0.540316 ┆ 0.067243 ┆ 0.312103 ┆ 3.966946 │\n",
       "│ 107 ┆ 0.54189  ┆ 0.420967 ┆ 0.046989 ┆ 0.132562 ┆ 4.515198 │\n",
       "│ 185 ┆ 0.505471 ┆ 0.503478 ┆ 0.892601 ┆ 0.30589  ┆ 2.428861 │\n",
       "└─────┴──────────┴──────────┴──────────┴──────────┴──────────┘"
      ]
     },
     "execution_count": 46,
     "metadata": {},
     "output_type": "execute_result"
    }
   ],
   "source": [
    "# Haversine distance is available when dimension is 2\n",
    "df.filter(\n",
    "    pds.query_within_dist_from(\n",
    "        pl.col(\"var1\"), pl.col(\"var2\"), # Columns used as the coordinates in n-d space\n",
    "        pt = [0.5, 0.5],\n",
    "        r = 10, # in km\n",
    "        dist = \"h\" \n",
    "    )\n",
    ").head()"
   ]
  },
  {
   "cell_type": "code",
   "execution_count": 47,
   "id": "7d3f5ae4",
   "metadata": {},
   "outputs": [
    {
     "data": {
      "text/html": [
       "<div><style>\n",
       ".dataframe > thead > tr,\n",
       ".dataframe > tbody > tr {\n",
       "  text-align: right;\n",
       "  white-space: pre-wrap;\n",
       "}\n",
       "</style>\n",
       "<small>shape: (5, 6)</small><table border=\"1\" class=\"dataframe\"><thead><tr><th>id</th><th>var1</th><th>var2</th><th>var3</th><th>r</th><th>rh</th></tr><tr><td>u32</td><td>f64</td><td>f64</td><td>f64</td><td>f64</td><td>f64</td></tr></thead><tbody><tr><td>185</td><td>0.505471</td><td>0.503478</td><td>0.892601</td><td>0.30589</td><td>2.428861</td></tr><tr><td>359</td><td>0.557685</td><td>0.557818</td><td>0.352646</td><td>0.464925</td><td>9.884207</td></tr><tr><td>489</td><td>0.465665</td><td>0.531837</td><td>0.498547</td><td>0.628882</td><td>8.555801</td></tr><tr><td>673</td><td>0.541532</td><td>0.502274</td><td>0.348954</td><td>0.411221</td><td>9.614708</td></tr><tr><td>1008</td><td>0.494714</td><td>0.497766</td><td>0.257609</td><td>0.152218</td><td>4.861743</td></tr></tbody></table></div>"
      ],
      "text/plain": [
       "shape: (5, 6)\n",
       "┌──────┬──────────┬──────────┬──────────┬──────────┬──────────┐\n",
       "│ id   ┆ var1     ┆ var2     ┆ var3     ┆ r        ┆ rh       │\n",
       "│ ---  ┆ ---      ┆ ---      ┆ ---      ┆ ---      ┆ ---      │\n",
       "│ u32  ┆ f64      ┆ f64      ┆ f64      ┆ f64      ┆ f64      │\n",
       "╞══════╪══════════╪══════════╪══════════╪══════════╪══════════╡\n",
       "│ 185  ┆ 0.505471 ┆ 0.503478 ┆ 0.892601 ┆ 0.30589  ┆ 2.428861 │\n",
       "│ 359  ┆ 0.557685 ┆ 0.557818 ┆ 0.352646 ┆ 0.464925 ┆ 9.884207 │\n",
       "│ 489  ┆ 0.465665 ┆ 0.531837 ┆ 0.498547 ┆ 0.628882 ┆ 8.555801 │\n",
       "│ 673  ┆ 0.541532 ┆ 0.502274 ┆ 0.348954 ┆ 0.411221 ┆ 9.614708 │\n",
       "│ 1008 ┆ 0.494714 ┆ 0.497766 ┆ 0.257609 ┆ 0.152218 ┆ 4.861743 │\n",
       "└──────┴──────────┴──────────┴──────────┴──────────┴──────────┘"
      ]
     },
     "execution_count": 47,
     "metadata": {},
     "output_type": "execute_result"
    }
   ],
   "source": [
    "df.filter(\n",
    "    pds.query_within_dist_from(\n",
    "        pl.col(\"var1\"), pl.col(\"var2\"), \n",
    "        pt = [0.5, 0.5],\n",
    "        # radius can also be an existing column in the dataframe.\n",
    "        r = pl.col(\"rh\"), \n",
    "        dist = \"h\" \n",
    "    )\n",
    ").head()"
   ]
  },
  {
   "cell_type": "code",
   "execution_count": 48,
   "id": "f14627bc",
   "metadata": {},
   "outputs": [
    {
     "data": {
      "text/html": [
       "<div><style>\n",
       ".dataframe > thead > tr,\n",
       ".dataframe > tbody > tr {\n",
       "  text-align: right;\n",
       "  white-space: pre-wrap;\n",
       "}\n",
       "</style>\n",
       "<small>shape: (5, 3)</small><table border=\"1\" class=\"dataframe\"><thead><tr><th>id</th><th>friends</th><th>count</th></tr><tr><td>u64</td><td>list[u32]</td><td>u32</td></tr></thead><tbody><tr><td>0</td><td>[0, 166, … 1917]</td><td>104</td></tr><tr><td>1</td><td>[1, 1063, … 1973]</td><td>111</td></tr><tr><td>2</td><td>[2, 556, … 223]</td><td>146</td></tr><tr><td>3</td><td>[3, 60, … 1055]</td><td>131</td></tr><tr><td>4</td><td>[4, 1223, … 187]</td><td>103</td></tr></tbody></table></div>"
      ],
      "text/plain": [
       "shape: (5, 3)\n",
       "┌─────┬───────────────────┬───────┐\n",
       "│ id  ┆ friends           ┆ count │\n",
       "│ --- ┆ ---               ┆ ---   │\n",
       "│ u64 ┆ list[u32]         ┆ u32   │\n",
       "╞═════╪═══════════════════╪═══════╡\n",
       "│ 0   ┆ [0, 166, … 1917]  ┆ 104   │\n",
       "│ 1   ┆ [1, 1063, … 1973] ┆ 111   │\n",
       "│ 2   ┆ [2, 556, … 223]   ┆ 146   │\n",
       "│ 3   ┆ [3, 60, … 1055]   ┆ 131   │\n",
       "│ 4   ┆ [4, 1223, … 187]  ┆ 103   │\n",
       "└─────┴───────────────────┴───────┘"
      ]
     },
     "execution_count": 48,
     "metadata": {},
     "output_type": "execute_result"
    }
   ],
   "source": [
    "friends = df.select(\n",
    "    pl.col(\"id\").cast(pl.UInt64),\n",
    "    pds.query_radius_ptwise(\n",
    "        # Columns used as the coordinates in n-d space\n",
    "        pl.col(\"var1\"), pl.col(\"var2\"), \n",
    "        index=pl.col(\"id\"),\n",
    "        r = 0.02, \n",
    "        dist = \"l2\",\n",
    "    ).alias(\"friends\")\n",
    ").with_columns(\n",
    "    pl.col(\"friends\").list.len().alias(\"count\")\n",
    ")\n",
    "friends.head()"
   ]
  },
  {
   "cell_type": "markdown",
   "id": "ea3e4400",
   "metadata": {},
   "source": [
    "# Simple Graph Queries\n",
    "\n",
    "There is limited functionality in the Graph module currently. E.g. Only constant cost per edge.\n",
    "\n",
    "Graph queries are very expensive."
   ]
  },
  {
   "cell_type": "code",
   "execution_count": 49,
   "id": "fba0149e",
   "metadata": {},
   "outputs": [],
   "source": [
    "# friends.select(\n",
    "#     pl.col(\"friends\").graph.eigen_centrality() # .arg_max()\n",
    "# ).head()"
   ]
  },
  {
   "cell_type": "code",
   "execution_count": 50,
   "id": "9d2b70d7",
   "metadata": {},
   "outputs": [
    {
     "data": {
      "text/html": [
       "<div><style>\n",
       ".dataframe > thead > tr,\n",
       ".dataframe > tbody > tr {\n",
       "  text-align: right;\n",
       "  white-space: pre-wrap;\n",
       "}\n",
       "</style>\n",
       "<small>shape: (5, 2)</small><table border=\"1\" class=\"dataframe\"><thead><tr><th>id</th><th>friends</th></tr><tr><td>u32</td><td>u32</td></tr></thead><tbody><tr><td>0</td><td>0</td></tr><tr><td>0</td><td>166</td></tr><tr><td>0</td><td>1382</td></tr><tr><td>0</td><td>1110</td></tr><tr><td>0</td><td>723</td></tr></tbody></table></div>"
      ],
      "text/plain": [
       "shape: (5, 2)\n",
       "┌─────┬─────────┐\n",
       "│ id  ┆ friends │\n",
       "│ --- ┆ ---     │\n",
       "│ u32 ┆ u32     │\n",
       "╞═════╪═════════╡\n",
       "│ 0   ┆ 0       │\n",
       "│ 0   ┆ 166     │\n",
       "│ 0   ┆ 1382    │\n",
       "│ 0   ┆ 1110    │\n",
       "│ 0   ┆ 723     │\n",
       "└─────┴─────────┘"
      ]
     },
     "execution_count": 50,
     "metadata": {},
     "output_type": "execute_result"
    }
   ],
   "source": [
    "# Turn friends to a table suitable for graph analytics\n",
    "df_graph = friends.select(\n",
    "    pl.col(\"id\"),\n",
    "    pl.col(\"friends\"),\n",
    ").explode(pl.col(\"friends\")).with_columns(\n",
    "    pl.col(\"id\").cast(pl.UInt32),\n",
    "    pl.col(\"friends\").cast(pl.UInt32),\n",
    ")\n",
    "df_graph.head()"
   ]
  },
  {
   "cell_type": "code",
   "execution_count": 51,
   "id": "8ff9aa74",
   "metadata": {},
   "outputs": [
    {
     "data": {
      "text/html": [
       "<div><style>\n",
       ".dataframe > thead > tr,\n",
       ".dataframe > tbody > tr {\n",
       "  text-align: right;\n",
       "  white-space: pre-wrap;\n",
       "}\n",
       "</style>\n",
       "<small>shape: (2_000, 2)</small><table border=\"1\" class=\"dataframe\"><thead><tr><th>id</th><th>path</th></tr><tr><td>u32</td><td>list[u32]</td></tr></thead><tbody><tr><td>0</td><td>[1686, 114, … 3]</td></tr><tr><td>1</td><td>[1973, 3]</td></tr><tr><td>2</td><td>[223, 1310, … 3]</td></tr><tr><td>3</td><td>[]</td></tr><tr><td>4</td><td>[187, 1073, … 3]</td></tr><tr><td>&hellip;</td><td>&hellip;</td></tr><tr><td>1995</td><td>[704, 1209, … 3]</td></tr><tr><td>1996</td><td>[673, 200, … 3]</td></tr><tr><td>1997</td><td>[380, 319, … 3]</td></tr><tr><td>1998</td><td>[3]</td></tr><tr><td>1999</td><td>[1904, 1360, … 3]</td></tr></tbody></table></div>"
      ],
      "text/plain": [
       "shape: (2_000, 2)\n",
       "┌──────┬───────────────────┐\n",
       "│ id   ┆ path              │\n",
       "│ ---  ┆ ---               │\n",
       "│ u32  ┆ list[u32]         │\n",
       "╞══════╪═══════════════════╡\n",
       "│ 0    ┆ [1686, 114, … 3]  │\n",
       "│ 1    ┆ [1973, 3]         │\n",
       "│ 2    ┆ [223, 1310, … 3]  │\n",
       "│ 3    ┆ []                │\n",
       "│ 4    ┆ [187, 1073, … 3]  │\n",
       "│ …    ┆ …                 │\n",
       "│ 1995 ┆ [704, 1209, … 3]  │\n",
       "│ 1996 ┆ [673, 200, … 3]   │\n",
       "│ 1997 ┆ [380, 319, … 3]   │\n",
       "│ 1998 ┆ [3]               │\n",
       "│ 1999 ┆ [1904, 1360, … 3] │\n",
       "└──────┴───────────────────┘"
      ]
     },
     "execution_count": 51,
     "metadata": {},
     "output_type": "execute_result"
    }
   ],
   "source": [
    "df_graph.select(\n",
    "    # Shortest path to the node with id = 3\n",
    "    # Node and link can be str | pl.Expr\n",
    "    pds.query_shortest_path(node = \"id\", link = pl.col(\"friends\"), target = 3, cost = None, parallel=True).alias(\"shortest_path\")\n",
    ").unnest(\"shortest_path\").sort(\"id\")"
   ]
  },
  {
   "cell_type": "code",
   "execution_count": 52,
   "id": "76d43fd5",
   "metadata": {},
   "outputs": [
    {
     "data": {
      "text/html": [
       "<div><style>\n",
       ".dataframe > thead > tr,\n",
       ".dataframe > tbody > tr {\n",
       "  text-align: right;\n",
       "  white-space: pre-wrap;\n",
       "}\n",
       "</style>\n",
       "<small>shape: (2_000, 3)</small><table border=\"1\" class=\"dataframe\"><thead><tr><th>id</th><th>reachable</th><th>steps</th></tr><tr><td>u32</td><td>bool</td><td>u32</td></tr></thead><tbody><tr><td>380</td><td>true</td><td>4</td></tr><tr><td>1114</td><td>true</td><td>6</td></tr><tr><td>1664</td><td>true</td><td>5</td></tr><tr><td>650</td><td>true</td><td>4</td></tr><tr><td>272</td><td>true</td><td>5</td></tr><tr><td>&hellip;</td><td>&hellip;</td><td>&hellip;</td></tr><tr><td>1055</td><td>true</td><td>1</td></tr><tr><td>1799</td><td>true</td><td>1</td></tr><tr><td>214</td><td>true</td><td>2</td></tr><tr><td>119</td><td>true</td><td>5</td></tr><tr><td>1337</td><td>true</td><td>1</td></tr></tbody></table></div>"
      ],
      "text/plain": [
       "shape: (2_000, 3)\n",
       "┌──────┬───────────┬───────┐\n",
       "│ id   ┆ reachable ┆ steps │\n",
       "│ ---  ┆ ---       ┆ ---   │\n",
       "│ u32  ┆ bool      ┆ u32   │\n",
       "╞══════╪═══════════╪═══════╡\n",
       "│ 380  ┆ true      ┆ 4     │\n",
       "│ 1114 ┆ true      ┆ 6     │\n",
       "│ 1664 ┆ true      ┆ 5     │\n",
       "│ 650  ┆ true      ┆ 4     │\n",
       "│ 272  ┆ true      ┆ 5     │\n",
       "│ …    ┆ …         ┆ …     │\n",
       "│ 1055 ┆ true      ┆ 1     │\n",
       "│ 1799 ┆ true      ┆ 1     │\n",
       "│ 214  ┆ true      ┆ 2     │\n",
       "│ 119  ┆ true      ┆ 5     │\n",
       "│ 1337 ┆ true      ┆ 1     │\n",
       "└──────┴───────────┴───────┘"
      ]
     },
     "execution_count": 52,
     "metadata": {},
     "output_type": "execute_result"
    }
   ],
   "source": [
    "df_graph.select(\n",
    "    # Almost every node can reach node 3, and the number is the number steps to reach it\n",
    "    # This is a way faster way to filter results if you don't need the actual path\n",
    "    pds.query_node_reachable(\"id\", \"friends\", target = 3).alias(\"reach\")\n",
    ").unnest(\"reach\")"
   ]
  },
  {
   "cell_type": "code",
   "execution_count": 53,
   "id": "4af6e6b7",
   "metadata": {},
   "outputs": [
    {
     "data": {
      "text/html": [
       "<div><style>\n",
       ".dataframe > thead > tr,\n",
       ".dataframe > tbody > tr {\n",
       "  text-align: right;\n",
       "  white-space: pre-wrap;\n",
       "}\n",
       "</style>\n",
       "<small>shape: (11, 3)</small><table border=\"1\" class=\"dataframe\"><thead><tr><th>id</th><th>connections</th><th>close-ness</th></tr><tr><td>u32</td><td>u32</td><td>f64</td></tr></thead><tbody><tr><td>0</td><td>1</td><td>0.4</td></tr><tr><td>0</td><td>2</td><td>0.3</td></tr><tr><td>0</td><td>3</td><td>0.2</td></tr><tr><td>0</td><td>4</td><td>0.1</td></tr><tr><td>1</td><td>2</td><td>0.1</td></tr><tr><td>&hellip;</td><td>&hellip;</td><td>&hellip;</td></tr><tr><td>2</td><td>4</td><td>0.5</td></tr><tr><td>3</td><td>0</td><td>0.1</td></tr><tr><td>3</td><td>1</td><td>0.1</td></tr><tr><td>3</td><td>2</td><td>0.1</td></tr><tr><td>4</td><td>1</td><td>0.1</td></tr></tbody></table></div>"
      ],
      "text/plain": [
       "shape: (11, 3)\n",
       "┌─────┬─────────────┬────────────┐\n",
       "│ id  ┆ connections ┆ close-ness │\n",
       "│ --- ┆ ---         ┆ ---        │\n",
       "│ u32 ┆ u32         ┆ f64        │\n",
       "╞═════╪═════════════╪════════════╡\n",
       "│ 0   ┆ 1           ┆ 0.4        │\n",
       "│ 0   ┆ 2           ┆ 0.3        │\n",
       "│ 0   ┆ 3           ┆ 0.2        │\n",
       "│ 0   ┆ 4           ┆ 0.1        │\n",
       "│ 1   ┆ 2           ┆ 0.1        │\n",
       "│ …   ┆ …           ┆ …          │\n",
       "│ 2   ┆ 4           ┆ 0.5        │\n",
       "│ 3   ┆ 0           ┆ 0.1        │\n",
       "│ 3   ┆ 1           ┆ 0.1        │\n",
       "│ 3   ┆ 2           ┆ 0.1        │\n",
       "│ 4   ┆ 1           ┆ 0.1        │\n",
       "└─────┴─────────────┴────────────┘"
      ]
     },
     "execution_count": 53,
     "metadata": {},
     "output_type": "execute_result"
    }
   ],
   "source": [
    "relationships = pl.DataFrame({\n",
    "    \"id\": range(5),\n",
    "    \"connections\":[[1,2,3,4], [2,3], [4], [0,1,2], [1]],\n",
    "    # Small values means closer\n",
    "    \"close-ness\":[[0.4, 0.3, 0.2, 0.1], [0.1, 1.0], [0.5], [0.1, 0.1, 0.1], [0.1]]\n",
    "}).with_columns(\n",
    "    pl.col(\"id\").cast(pl.UInt32),\n",
    "    pl.col(\"connections\").list.eval(pl.element().cast(pl.UInt32))\n",
    ").explode(\n",
    "    pl.col(\"connections\"), pl.col(\"close-ness\")\n",
    ")\n",
    "\n",
    "relationships.head(50)"
   ]
  },
  {
   "cell_type": "code",
   "execution_count": 54,
   "id": "239f4e85",
   "metadata": {},
   "outputs": [
    {
     "data": {
      "text/html": [
       "<div><style>\n",
       ".dataframe > thead > tr,\n",
       ".dataframe > tbody > tr {\n",
       "  text-align: right;\n",
       "  white-space: pre-wrap;\n",
       "}\n",
       "</style>\n",
       "<small>shape: (5, 3)</small><table border=\"1\" class=\"dataframe\"><thead><tr><th>id</th><th>path</th><th>cost</th></tr><tr><td>u32</td><td>list[u32]</td><td>f64</td></tr></thead><tbody><tr><td>3</td><td>[1]</td><td>0.1</td></tr><tr><td>2</td><td>[4, 1]</td><td>0.6</td></tr><tr><td>0</td><td>[4, 1]</td><td>0.2</td></tr><tr><td>1</td><td>[]</td><td>0.0</td></tr><tr><td>4</td><td>[1]</td><td>0.1</td></tr></tbody></table></div>"
      ],
      "text/plain": [
       "shape: (5, 3)\n",
       "┌─────┬───────────┬──────┐\n",
       "│ id  ┆ path      ┆ cost │\n",
       "│ --- ┆ ---       ┆ ---  │\n",
       "│ u32 ┆ list[u32] ┆ f64  │\n",
       "╞═════╪═══════════╪══════╡\n",
       "│ 3   ┆ [1]       ┆ 0.1  │\n",
       "│ 2   ┆ [4, 1]    ┆ 0.6  │\n",
       "│ 0   ┆ [4, 1]    ┆ 0.2  │\n",
       "│ 1   ┆ []        ┆ 0.0  │\n",
       "│ 4   ┆ [1]       ┆ 0.1  │\n",
       "└─────┴───────────┴──────┘"
      ]
     },
     "execution_count": 54,
     "metadata": {},
     "output_type": "execute_result"
    }
   ],
   "source": [
    "# To go to node at id = 1, node 0 would rather go to 4 first and then 1.\n",
    "relationships.select(\n",
    "    pds.query_shortest_path(\"id\", \"connections\", target = 1, cost = \"close-ness\").alias(\"path\")\n",
    ").unnest(\"path\").head()"
   ]
  },
  {
   "cell_type": "code",
   "execution_count": 55,
   "id": "df458bdd",
   "metadata": {},
   "outputs": [
    {
     "data": {
      "text/html": [
       "<div><style>\n",
       ".dataframe > thead > tr,\n",
       ".dataframe > tbody > tr {\n",
       "  text-align: right;\n",
       "  white-space: pre-wrap;\n",
       "}\n",
       "</style>\n",
       "<small>shape: (5, 2)</small><table border=\"1\" class=\"dataframe\"><thead><tr><th>node</th><th>deg</th></tr><tr><td>u32</td><td>u32</td></tr></thead><tbody><tr><td>3</td><td>3</td></tr><tr><td>2</td><td>1</td></tr><tr><td>0</td><td>4</td></tr><tr><td>1</td><td>2</td></tr><tr><td>4</td><td>1</td></tr></tbody></table></div>"
      ],
      "text/plain": [
       "shape: (5, 2)\n",
       "┌──────┬─────┐\n",
       "│ node ┆ deg │\n",
       "│ ---  ┆ --- │\n",
       "│ u32  ┆ u32 │\n",
       "╞══════╪═════╡\n",
       "│ 3    ┆ 3   │\n",
       "│ 2    ┆ 1   │\n",
       "│ 0    ┆ 4   │\n",
       "│ 1    ┆ 2   │\n",
       "│ 4    ┆ 1   │\n",
       "└──────┴─────┘"
      ]
     },
     "execution_count": 55,
     "metadata": {},
     "output_type": "execute_result"
    }
   ],
   "source": [
    "# In and out deg\n",
    "relationships.select(\n",
    "    pds.query_node_deg(\"id\", \"connections\", directed=True).alias(\"deg\")\n",
    ").unnest(\"deg\")"
   ]
  },
  {
   "cell_type": "markdown",
   "id": "9f8eabf1",
   "metadata": {},
   "source": [
    "# String Nearest Neighbors\n",
    "\n",
    "This might be very slow for very large vocab / column."
   ]
  },
  {
   "cell_type": "code",
   "execution_count": 56,
   "id": "f2c9ed80",
   "metadata": {},
   "outputs": [],
   "source": [
    "df = pl.DataFrame({\n",
    "    \"a\":[\"AAAAA\", \"ABCABC\", \"AAAADDD\", \"ADSDSDS\", \"WORD\"],\n",
    "    \"b\":[\"AAAAT\", \"ABCACD\", \"ADSSD\", \"APPLES\", \"WORLD\"] \n",
    "})"
   ]
  },
  {
   "cell_type": "code",
   "execution_count": 57,
   "id": "062fd694",
   "metadata": {},
   "outputs": [
    {
     "data": {
      "text/html": [
       "<div><style>\n",
       ".dataframe > thead > tr,\n",
       ".dataframe > tbody > tr {\n",
       "  text-align: right;\n",
       "  white-space: pre-wrap;\n",
       "}\n",
       "</style>\n",
       "<small>shape: (5, 1)</small><table border=\"1\" class=\"dataframe\"><thead><tr><th>similar_words_from_vocab</th></tr><tr><td>str</td></tr></thead><tbody><tr><td>&quot;AAAAT&quot;</td></tr><tr><td>&quot;ABCACD&quot;</td></tr><tr><td>&quot;AAAAT&quot;</td></tr><tr><td>&quot;ADSSD&quot;</td></tr><tr><td>&quot;WORLD&quot;</td></tr></tbody></table></div>"
      ],
      "text/plain": [
       "shape: (5, 1)\n",
       "┌──────────────────────────┐\n",
       "│ similar_words_from_vocab │\n",
       "│ ---                      │\n",
       "│ str                      │\n",
       "╞══════════════════════════╡\n",
       "│ AAAAT                    │\n",
       "│ ABCACD                   │\n",
       "│ AAAAT                    │\n",
       "│ ADSSD                    │\n",
       "│ WORLD                    │\n",
       "└──────────────────────────┘"
      ]
     },
     "execution_count": 57,
     "metadata": {},
     "output_type": "execute_result"
    }
   ],
   "source": [
    "# Use Levenshtein to find the nearest neighbor in vocab to word in column a\n",
    "df.select(\n",
    "    pds.query_similar_words(\n",
    "        \"a\",\n",
    "        vocab = pl.col(\"b\"),\n",
    "        k = 1, \n",
    "        metric = \"lv\"\n",
    "    ).alias(\"similar_words_from_vocab\"),\n",
    ")"
   ]
  },
  {
   "cell_type": "code",
   "execution_count": 58,
   "id": "29437b8b",
   "metadata": {},
   "outputs": [
    {
     "data": {
      "text/html": [
       "<div><style>\n",
       ".dataframe > thead > tr,\n",
       ".dataframe > tbody > tr {\n",
       "  text-align: right;\n",
       "  white-space: pre-wrap;\n",
       "}\n",
       "</style>\n",
       "<small>shape: (5, 1)</small><table border=\"1\" class=\"dataframe\"><thead><tr><th>similar_words_from_vocab</th></tr><tr><td>list[str]</td></tr></thead><tbody><tr><td>[&quot;AAAAT&quot;, &quot;ADSSD&quot;]</td></tr><tr><td>[&quot;ABCACD&quot;, &quot;AAAAT&quot;]</td></tr><tr><td>[&quot;AAAAT&quot;, &quot;ABCACD&quot;]</td></tr><tr><td>[&quot;ADSSD&quot;, &quot;APPLES&quot;]</td></tr><tr><td>[&quot;WORLD&quot;, &quot;ADSSD&quot;]</td></tr></tbody></table></div>"
      ],
      "text/plain": [
       "shape: (5, 1)\n",
       "┌──────────────────────────┐\n",
       "│ similar_words_from_vocab │\n",
       "│ ---                      │\n",
       "│ list[str]                │\n",
       "╞══════════════════════════╡\n",
       "│ [\"AAAAT\", \"ADSSD\"]       │\n",
       "│ [\"ABCACD\", \"AAAAT\"]      │\n",
       "│ [\"AAAAT\", \"ABCACD\"]      │\n",
       "│ [\"ADSSD\", \"APPLES\"]      │\n",
       "│ [\"WORLD\", \"ADSSD\"]       │\n",
       "└──────────────────────────┘"
      ]
     },
     "execution_count": 58,
     "metadata": {},
     "output_type": "execute_result"
    }
   ],
   "source": [
    "# Use Levenshtein to find 2 nearest neighbors\n",
    "df.select(\n",
    "    pds.query_similar_words(\n",
    "        \"a\",\n",
    "        vocab = pl.col(\"b\"),\n",
    "        k = 2, \n",
    "        metric = \"lv\"\n",
    "    ).alias(\"similar_words_from_vocab\"),\n",
    ")"
   ]
  },
  {
   "cell_type": "code",
   "execution_count": 59,
   "id": "9150bece",
   "metadata": {},
   "outputs": [
    {
     "data": {
      "text/html": [
       "<div><style>\n",
       ".dataframe > thead > tr,\n",
       ".dataframe > tbody > tr {\n",
       "  text-align: right;\n",
       "  white-space: pre-wrap;\n",
       "}\n",
       "</style>\n",
       "<small>shape: (5, 1)</small><table border=\"1\" class=\"dataframe\"><thead><tr><th>similar_words_from_vocab</th></tr><tr><td>list[str]</td></tr></thead><tbody><tr><td>[&quot;AAAAT&quot;, &quot;ADSSD&quot;]</td></tr><tr><td>[&quot;ABCACD&quot;]</td></tr><tr><td>[]</td></tr><tr><td>[]</td></tr><tr><td>[]</td></tr></tbody></table></div>"
      ],
      "text/plain": [
       "shape: (5, 1)\n",
       "┌──────────────────────────┐\n",
       "│ similar_words_from_vocab │\n",
       "│ ---                      │\n",
       "│ list[str]                │\n",
       "╞══════════════════════════╡\n",
       "│ [\"AAAAT\", \"ADSSD\"]       │\n",
       "│ [\"ABCACD\"]               │\n",
       "│ []                       │\n",
       "│ []                       │\n",
       "│ []                       │\n",
       "└──────────────────────────┘"
      ]
     },
     "execution_count": 59,
     "metadata": {},
     "output_type": "execute_result"
    }
   ],
   "source": [
    "# Currently only Levenshtein and hamming are implemented for this\n",
    "# Empty means nothing in vocab can be compared in the hamming sense with the corresponding word in a\n",
    "df.select(\n",
    "    pds.query_similar_words(\n",
    "        \"a\",\n",
    "        vocab = pl.col(\"b\"),\n",
    "        k = 2, \n",
    "        threshold = 4,\n",
    "        metric = \"hamming\"\n",
    "    ).alias(\"similar_words_from_vocab\"),\n",
    ")"
   ]
  },
  {
   "cell_type": "code",
   "execution_count": 60,
   "id": "b35776a1",
   "metadata": {},
   "outputs": [
    {
     "data": {
      "text/html": [
       "<div><style>\n",
       ".dataframe > thead > tr,\n",
       ".dataframe > tbody > tr {\n",
       "  text-align: right;\n",
       "  white-space: pre-wrap;\n",
       "}\n",
       "</style>\n",
       "<small>shape: (5, 2)</small><table border=\"1\" class=\"dataframe\"><thead><tr><th>a</th><th>similar_words_from_vocab</th></tr><tr><td>str</td><td>list[str]</td></tr></thead><tbody><tr><td>&quot;AAAAA&quot;</td><td>[&quot;AAAAA&quot;, &quot;ZIV&quot;, &quot;WORLD&quot;]</td></tr><tr><td>&quot;ABCABC&quot;</td><td>[&quot;ABCDEFG&quot;, &quot;AAAAA&quot;, &quot;ZIV&quot;]</td></tr><tr><td>&quot;AAAADDD&quot;</td><td>[&quot;AAAAA&quot;, &quot;WORLD&quot;, &quot;ABCDEFG&quot;]</td></tr><tr><td>&quot;ADSDSDS&quot;</td><td>[&quot;ABCDEFG&quot;, &quot;WORLD&quot;, &quot;AAAAA&quot;]</td></tr><tr><td>&quot;WORD&quot;</td><td>[&quot;WORLD&quot;, &quot;ZIV&quot;, &quot;TQQQ&quot;]</td></tr></tbody></table></div>"
      ],
      "text/plain": [
       "shape: (5, 2)\n",
       "┌─────────┬───────────────────────────────┐\n",
       "│ a       ┆ similar_words_from_vocab      │\n",
       "│ ---     ┆ ---                           │\n",
       "│ str     ┆ list[str]                     │\n",
       "╞═════════╪═══════════════════════════════╡\n",
       "│ AAAAA   ┆ [\"AAAAA\", \"ZIV\", \"WORLD\"]     │\n",
       "│ ABCABC  ┆ [\"ABCDEFG\", \"AAAAA\", \"ZIV\"]   │\n",
       "│ AAAADDD ┆ [\"AAAAA\", \"WORLD\", \"ABCDEFG\"] │\n",
       "│ ADSDSDS ┆ [\"ABCDEFG\", \"WORLD\", \"AAAAA\"] │\n",
       "│ WORD    ┆ [\"WORLD\", \"ZIV\", \"TQQQ\"]      │\n",
       "└─────────┴───────────────────────────────┘"
      ]
     },
     "execution_count": 60,
     "metadata": {},
     "output_type": "execute_result"
    }
   ],
   "source": [
    "# You may provide a vocab like this\n",
    "df.select(\n",
    "    pl.col(\"a\"),\n",
    "    pds.query_similar_words(\n",
    "        \"a\",\n",
    "        vocab = [\"WORLD\", \"AAAAA\", \"ABCDEFG\", \"ZIV\", \"TQQQ\"],\n",
    "        k = 3, \n",
    "        metric = \"lv\"\n",
    "    ).alias(\"similar_words_from_vocab\"),\n",
    ")"
   ]
  },
  {
   "cell_type": "code",
   "execution_count": null,
   "id": "0a42a771",
   "metadata": {},
   "outputs": [],
   "source": []
  }
 ],
 "metadata": {
  "kernelspec": {
   "display_name": "Python 3 (ipykernel)",
   "language": "python",
   "name": "python3"
  },
  "language_info": {
   "codemirror_mode": {
    "name": "ipython",
    "version": 3
   },
   "file_extension": ".py",
   "mimetype": "text/x-python",
   "name": "python",
   "nbconvert_exporter": "python",
   "pygments_lexer": "ipython3",
   "version": "3.12.3"
  }
 },
 "nbformat": 4,
 "nbformat_minor": 5
}
