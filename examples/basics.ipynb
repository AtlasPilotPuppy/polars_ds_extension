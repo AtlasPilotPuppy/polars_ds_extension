{
 "cells": [
  {
   "cell_type": "code",
   "execution_count": 1,
   "id": "529f4422-5c3a-4bd6-abe0-a15edfc62abb",
   "metadata": {},
   "outputs": [],
   "source": [
    "import polars_ds\n",
    "import polars as pl\n",
    "import numpy as np "
   ]
  },
  {
   "cell_type": "code",
   "execution_count": 2,
   "id": "7e836939",
   "metadata": {},
   "outputs": [],
   "source": [
    "# This runs on the latest, unpublished version.\n",
    "# If you are trying the examples using a downloaded version from pip,\n",
    "# you need to replace .str2 by .str_ext, .num by .num_ext, and .stats by .stats_ext"
   ]
  },
  {
   "cell_type": "markdown",
   "id": "3aef5c69-fff3-4779-9b58-f939d725f0b0",
   "metadata": {},
   "source": [
    "# Num Extensions"
   ]
  },
  {
   "cell_type": "code",
   "execution_count": 3,
   "id": "430fec01-5d0b-422f-b099-c86037512b6d",
   "metadata": {},
   "outputs": [
    {
     "data": {
      "text/html": [
       "<div><style>\n",
       ".dataframe > thead > tr,\n",
       ".dataframe > tbody > tr {\n",
       "  text-align: right;\n",
       "  white-space: pre-wrap;\n",
       "}\n",
       "</style>\n",
       "<small>shape: (5, 10)</small><table border=\"1\" class=\"dataframe\"><thead><tr><th>f</th><th>dummy</th><th>a</th><th>b</th><th>x1</th><th>x2</th><th>y</th><th>actual</th><th>predicted</th><th>dummy_groups</th></tr><tr><td>f64</td><td>str</td><td>f64</td><td>f64</td><td>i64</td><td>i64</td><td>i64</td><td>i32</td><td>f64</td><td>str</td></tr></thead><tbody><tr><td>0.0</td><td>&quot;a&quot;</td><td>0.911877</td><td>0.068489</td><td>0</td><td>100000</td><td>-100000</td><td>0</td><td>0.619805</td><td>&quot;a&quot;</td></tr><tr><td>0.841471</td><td>&quot;a&quot;</td><td>0.968602</td><td>0.638492</td><td>1</td><td>100001</td><td>-99999</td><td>1</td><td>0.379361</td><td>&quot;a&quot;</td></tr><tr><td>0.909297</td><td>&quot;a&quot;</td><td>0.929054</td><td>0.923851</td><td>2</td><td>100002</td><td>-99998</td><td>1</td><td>0.871658</td><td>&quot;a&quot;</td></tr><tr><td>0.14112</td><td>&quot;a&quot;</td><td>0.668724</td><td>0.631293</td><td>3</td><td>100003</td><td>-99997</td><td>1</td><td>0.305585</td><td>&quot;a&quot;</td></tr><tr><td>-0.756802</td><td>&quot;a&quot;</td><td>0.195627</td><td>0.578541</td><td>4</td><td>100004</td><td>-99996</td><td>1</td><td>0.145813</td><td>&quot;a&quot;</td></tr></tbody></table></div>"
      ],
      "text/plain": [
       "shape: (5, 10)\n",
       "┌───────────┬───────┬──────────┬──────────┬───┬─────────┬────────┬───────────┬──────────────┐\n",
       "│ f         ┆ dummy ┆ a        ┆ b        ┆ … ┆ y       ┆ actual ┆ predicted ┆ dummy_groups │\n",
       "│ ---       ┆ ---   ┆ ---      ┆ ---      ┆   ┆ ---     ┆ ---    ┆ ---       ┆ ---          │\n",
       "│ f64       ┆ str   ┆ f64      ┆ f64      ┆   ┆ i64     ┆ i32    ┆ f64       ┆ str          │\n",
       "╞═══════════╪═══════╪══════════╪══════════╪═══╪═════════╪════════╪═══════════╪══════════════╡\n",
       "│ 0.0       ┆ a     ┆ 0.911877 ┆ 0.068489 ┆ … ┆ -100000 ┆ 0      ┆ 0.619805  ┆ a            │\n",
       "│ 0.841471  ┆ a     ┆ 0.968602 ┆ 0.638492 ┆ … ┆ -99999  ┆ 1      ┆ 0.379361  ┆ a            │\n",
       "│ 0.909297  ┆ a     ┆ 0.929054 ┆ 0.923851 ┆ … ┆ -99998  ┆ 1      ┆ 0.871658  ┆ a            │\n",
       "│ 0.14112   ┆ a     ┆ 0.668724 ┆ 0.631293 ┆ … ┆ -99997  ┆ 1      ┆ 0.305585  ┆ a            │\n",
       "│ -0.756802 ┆ a     ┆ 0.195627 ┆ 0.578541 ┆ … ┆ -99996  ┆ 1      ┆ 0.145813  ┆ a            │\n",
       "└───────────┴───────┴──────────┴──────────┴───┴─────────┴────────┴───────────┴──────────────┘"
      ]
     },
     "execution_count": 3,
     "metadata": {},
     "output_type": "execute_result"
    }
   ],
   "source": [
    "size = 100_000\n",
    "df = pl.DataFrame({\n",
    "    \"f\": np.sin(list(range(size)))\n",
    "    , \"dummy\": [\"a\"] * (size // 2) + [\"b\"] * (size // 2)\n",
    "    , \"a\": np.random.random(size = size)\n",
    "    , \"b\": np.random.random(size = size)\n",
    "    , \"x1\" : range(size)\n",
    "    , \"x2\" : range(size, size + size)\n",
    "    , \"y\": range(-size, 0)\n",
    "    , \"actual\": np.round(np.random.random(size=100_000)).astype(np.int32)\n",
    "    , \"predicted\": np.random.random(size=100_000)\n",
    "    , \"dummy_groups\":[\"a\"] * (size//2) + [\"b\"] * (size//2) \n",
    "})\n",
    "df.head()"
   ]
  },
  {
   "cell_type": "code",
   "execution_count": 4,
   "id": "b6f98453-34cd-4afc-b35d-db58fa60a69a",
   "metadata": {},
   "outputs": [
    {
     "data": {
      "text/html": [
       "<div><style>\n",
       ".dataframe > thead > tr,\n",
       ".dataframe > tbody > tr {\n",
       "  text-align: right;\n",
       "  white-space: pre-wrap;\n",
       "}\n",
       "</style>\n",
       "<small>shape: (1, 1)</small><table border=\"1\" class=\"dataframe\"><thead><tr><th>x1</th></tr><tr><td>f64</td></tr></thead><tbody><tr><td>0.0</td></tr></tbody></table></div>"
      ],
      "text/plain": [
       "shape: (1, 1)\n",
       "┌─────┐\n",
       "│ x1  │\n",
       "│ --- │\n",
       "│ f64 │\n",
       "╞═════╡\n",
       "│ 0.0 │\n",
       "└─────┘"
      ]
     },
     "execution_count": 4,
     "metadata": {},
     "output_type": "execute_result"
    }
   ],
   "source": [
    "# Column-wise Jaccard Similarity. Result should be 0 as they are distinct\n",
    "df.select(\n",
    "    pl.col(\"x1\").num.jaccard(pl.col(\"x2\"))\n",
    ")"
   ]
  },
  {
   "cell_type": "code",
   "execution_count": 5,
   "id": "416d5346-e75b-4769-a953-e898d6a4d84c",
   "metadata": {},
   "outputs": [
    {
     "data": {
      "text/html": [
       "<div><style>\n",
       ".dataframe > thead > tr,\n",
       ".dataframe > tbody > tr {\n",
       "  text-align: right;\n",
       "  white-space: pre-wrap;\n",
       "}\n",
       "</style>\n",
       "<small>shape: (5, 1)</small><table border=\"1\" class=\"dataframe\"><thead><tr><th>f</th></tr><tr><td>list[f64]</td></tr></thead><tbody><tr><td>[1.812028, 0.0]</td></tr><tr><td>[1.812028, -0.000002]</td></tr><tr><td>[1.812028, -0.000005]</td></tr><tr><td>[1.812028, -0.000007]</td></tr><tr><td>[1.812028, -0.00001]</td></tr></tbody></table></div>"
      ],
      "text/plain": [
       "shape: (5, 1)\n",
       "┌───────────────────────┐\n",
       "│ f                     │\n",
       "│ ---                   │\n",
       "│ list[f64]             │\n",
       "╞═══════════════════════╡\n",
       "│ [1.812028, 0.0]       │\n",
       "│ [1.812028, -0.000002] │\n",
       "│ [1.812028, -0.000005] │\n",
       "│ [1.812028, -0.000007] │\n",
       "│ [1.812028, -0.00001]  │\n",
       "└───────────────────────┘"
      ]
     },
     "execution_count": 5,
     "metadata": {},
     "output_type": "execute_result"
    }
   ],
   "source": [
    "# FFT\n",
    "df.select(\n",
    "    pl.col(\"f\").num.rfft()\n",
    ").head()"
   ]
  },
  {
   "cell_type": "code",
   "execution_count": 6,
   "id": "ed47b643-6bcc-43f6-9a25-82168c33e7fd",
   "metadata": {},
   "outputs": [
    {
     "data": {
      "text/html": [
       "<div><style>\n",
       ".dataframe > thead > tr,\n",
       ".dataframe > tbody > tr {\n",
       "  text-align: right;\n",
       "  white-space: pre-wrap;\n",
       "}\n",
       "</style>\n",
       "<small>shape: (1, 1)</small><table border=\"1\" class=\"dataframe\"><thead><tr><th>y</th></tr><tr><td>list[f64]</td></tr></thead><tbody><tr><td>[2.0, -1.0]</td></tr></tbody></table></div>"
      ],
      "text/plain": [
       "shape: (1, 1)\n",
       "┌─────────────┐\n",
       "│ y           │\n",
       "│ ---         │\n",
       "│ list[f64]   │\n",
       "╞═════════════╡\n",
       "│ [2.0, -1.0] │\n",
       "└─────────────┘"
      ]
     },
     "execution_count": 6,
     "metadata": {},
     "output_type": "execute_result"
    }
   ],
   "source": [
    "# Least Square (Linear Regression)\n",
    "df.select(\n",
    "    pl.col(\"y\").num.lstsq(pl.col(\"x1\"), pl.col(\"x2\"), add_bias=False)\n",
    ")"
   ]
  },
  {
   "cell_type": "code",
   "execution_count": 7,
   "metadata": {},
   "outputs": [
    {
     "data": {
      "text/html": [
       "<div><style>\n",
       ".dataframe > thead > tr,\n",
       ".dataframe > tbody > tr {\n",
       "  text-align: right;\n",
       "  white-space: pre-wrap;\n",
       "}\n",
       "</style>\n",
       "<small>shape: (1, 1)</small><table border=\"1\" class=\"dataframe\"><thead><tr><th>y</th></tr><tr><td>list[f64]</td></tr></thead><tbody><tr><td>[2.0, -1.0]</td></tr></tbody></table></div>"
      ],
      "text/plain": [
       "shape: (1, 1)\n",
       "┌─────────────┐\n",
       "│ y           │\n",
       "│ ---         │\n",
       "│ list[f64]   │\n",
       "╞═════════════╡\n",
       "│ [2.0, -1.0] │\n",
       "└─────────────┘"
      ]
     },
     "execution_count": 7,
     "metadata": {},
     "output_type": "execute_result"
    }
   ],
   "source": [
    "df.lazy().select(\n",
    "    pl.col(\"y\").num.lstsq(pl.col(\"x1\"), pl.col(\"x2\"), add_bias=False)\n",
    ").collect()"
   ]
  },
  {
   "cell_type": "code",
   "execution_count": 8,
   "id": "16511624-fc7f-45fc-b28e-ad9a91c1bfe9",
   "metadata": {},
   "outputs": [
    {
     "data": {
      "text/html": [
       "<div><style>\n",
       ".dataframe > thead > tr,\n",
       ".dataframe > tbody > tr {\n",
       "  text-align: right;\n",
       "  white-space: pre-wrap;\n",
       "}\n",
       "</style>\n",
       "<small>shape: (5, 1)</small><table border=\"1\" class=\"dataframe\"><thead><tr><th>list_float</th></tr><tr><td>list[f64]</td></tr></thead><tbody><tr><td>[2.0, -1.0]</td></tr><tr><td>[2.0, -1.0]</td></tr><tr><td>[2.0, -1.0]</td></tr><tr><td>[2.0, -1.0]</td></tr><tr><td>[2.0, -1.0]</td></tr></tbody></table></div>"
      ],
      "text/plain": [
       "shape: (5, 1)\n",
       "┌─────────────┐\n",
       "│ list_float  │\n",
       "│ ---         │\n",
       "│ list[f64]   │\n",
       "╞═════════════╡\n",
       "│ [2.0, -1.0] │\n",
       "│ [2.0, -1.0] │\n",
       "│ [2.0, -1.0] │\n",
       "│ [2.0, -1.0] │\n",
       "│ [2.0, -1.0] │\n",
       "└─────────────┘"
      ]
     },
     "execution_count": 8,
     "metadata": {},
     "output_type": "execute_result"
    }
   ],
   "source": [
    "df.select(\n",
    "    pl.col(\"y\").num.lstsq(pl.col(\"x1\"), pl.col(\"x2\"), add_bias=False).over(pl.col(\"dummy\"))\n",
    ").head()"
   ]
  },
  {
   "cell_type": "code",
   "execution_count": 9,
   "id": "0e9fb061-340d-423d-9107-772387006ff2",
   "metadata": {},
   "outputs": [
    {
     "data": {
      "text/html": [
       "<div><style>\n",
       ".dataframe > thead > tr,\n",
       ".dataframe > tbody > tr {\n",
       "  text-align: right;\n",
       "  white-space: pre-wrap;\n",
       "}\n",
       "</style>\n",
       "<small>shape: (2, 2)</small><table border=\"1\" class=\"dataframe\"><thead><tr><th>dummy</th><th>list_float</th></tr><tr><td>str</td><td>list[f64]</td></tr></thead><tbody><tr><td>&quot;b&quot;</td><td>[2.0, -1.0]</td></tr><tr><td>&quot;a&quot;</td><td>[2.0, -1.0]</td></tr></tbody></table></div>"
      ],
      "text/plain": [
       "shape: (2, 2)\n",
       "┌───────┬─────────────┐\n",
       "│ dummy ┆ list_float  │\n",
       "│ ---   ┆ ---         │\n",
       "│ str   ┆ list[f64]   │\n",
       "╞═══════╪═════════════╡\n",
       "│ b     ┆ [2.0, -1.0] │\n",
       "│ a     ┆ [2.0, -1.0] │\n",
       "└───────┴─────────────┘"
      ]
     },
     "execution_count": 9,
     "metadata": {},
     "output_type": "execute_result"
    }
   ],
   "source": [
    "df.group_by(\"dummy\").agg(\n",
    "    pl.col(\"y\").num.lstsq(pl.col(\"x1\"), pl.col(\"x2\"), add_bias=False)\n",
    ")\n"
   ]
  },
  {
   "cell_type": "code",
   "execution_count": 10,
   "id": "d8fda8ca-57e7-4e02-a3f0-283ecce66a59",
   "metadata": {},
   "outputs": [
    {
     "data": {
      "text/html": [
       "<div><style>\n",
       ".dataframe > thead > tr,\n",
       ".dataframe > tbody > tr {\n",
       "  text-align: right;\n",
       "  white-space: pre-wrap;\n",
       "}\n",
       "</style>\n",
       "<small>shape: (1, 1)</small><table border=\"1\" class=\"dataframe\"><thead><tr><th>y</th></tr><tr><td>f64</td></tr></thead><tbody><tr><td>-0.0</td></tr></tbody></table></div>"
      ],
      "text/plain": [
       "shape: (1, 1)\n",
       "┌──────┐\n",
       "│ y    │\n",
       "│ ---  │\n",
       "│ f64  │\n",
       "╞══════╡\n",
       "│ -0.0 │\n",
       "└──────┘"
      ]
     },
     "execution_count": 10,
     "metadata": {},
     "output_type": "execute_result"
    }
   ],
   "source": [
    "# Conditional Entropy, should be 0 because x1 is an ID\n",
    "df.select(\n",
    "    pl.col(\"y\").num.cond_entropy(pl.col(\"x1\"))\n",
    ")"
   ]
  },
  {
   "cell_type": "code",
   "execution_count": 11,
   "id": "85d0d094-3c4c-4230-a589-1027c5690162",
   "metadata": {},
   "outputs": [
    {
     "data": {
      "text/html": [
       "<div><style>\n",
       ".dataframe > thead > tr,\n",
       ".dataframe > tbody > tr {\n",
       "  text-align: right;\n",
       "  white-space: pre-wrap;\n",
       "}\n",
       "</style>\n",
       "<small>shape: (2, 8)</small><table border=\"1\" class=\"dataframe\"><thead><tr><th>dummy_groups</th><th>l2</th><th>log loss</th><th>precision</th><th>recall</th><th>f</th><th>average_precision</th><th>roc_auc</th></tr><tr><td>str</td><td>f64</td><td>f64</td><td>f64</td><td>f64</td><td>f64</td><td>f64</td><td>f64</td></tr></thead><tbody><tr><td>&quot;b&quot;</td><td>0.334298</td><td>1.004893</td><td>0.5012</td><td>0.499522</td><td>0.25018</td><td>0.499373</td><td>0.498183</td></tr><tr><td>&quot;a&quot;</td><td>0.334039</td><td>1.001915</td><td>0.497427</td><td>0.49996</td><td>0.249345</td><td>0.496362</td><td>0.497893</td></tr></tbody></table></div>"
      ],
      "text/plain": [
       "shape: (2, 8)\n",
       "┌──────────────┬──────────┬──────────┬───────────┬──────────┬──────────┬────────────────┬──────────┐\n",
       "│ dummy_groups ┆ l2       ┆ log loss ┆ precision ┆ recall   ┆ f        ┆ average_precis ┆ roc_auc  │\n",
       "│ ---          ┆ ---      ┆ ---      ┆ ---       ┆ ---      ┆ ---      ┆ ion            ┆ ---      │\n",
       "│ str          ┆ f64      ┆ f64      ┆ f64       ┆ f64      ┆ f64      ┆ ---            ┆ f64      │\n",
       "│              ┆          ┆          ┆           ┆          ┆          ┆ f64            ┆          │\n",
       "╞══════════════╪══════════╪══════════╪═══════════╪══════════╪══════════╪════════════════╪══════════╡\n",
       "│ b            ┆ 0.334298 ┆ 1.004893 ┆ 0.5012    ┆ 0.499522 ┆ 0.25018  ┆ 0.499373       ┆ 0.498183 │\n",
       "│ a            ┆ 0.334039 ┆ 1.001915 ┆ 0.497427  ┆ 0.49996  ┆ 0.249345 ┆ 0.496362       ┆ 0.497893 │\n",
       "└──────────────┴──────────┴──────────┴───────────┴──────────┴──────────┴────────────────┴──────────┘"
      ]
     },
     "execution_count": 11,
     "metadata": {},
     "output_type": "execute_result"
    }
   ],
   "source": [
    "df.group_by(\"dummy_groups\").agg(\n",
    "    pl.col(\"actual\").num.l2_loss(pl.col(\"predicted\")).alias(\"l2\"),\n",
    "    pl.col(\"actual\").num.bce(pl.col(\"predicted\")).alias(\"log loss\"),\n",
    "    pl.col(\"actual\").num.binary_metrics_combo(pl.col(\"predicted\")).alias(\"combo\")\n",
    ").unnest(\"combo\")\n"
   ]
  },
  {
   "cell_type": "markdown",
   "id": "a8d7c6e3-0f1d-45f0-9fdb-cdb303b98556",
   "metadata": {},
   "source": [
    "# Str Extension"
   ]
  },
  {
   "cell_type": "code",
   "execution_count": 12,
   "id": "54ad36f9-264e-4a49-bf36-936639440edf",
   "metadata": {},
   "outputs": [
    {
     "data": {
      "text/html": [
       "<div><style>\n",
       ".dataframe > thead > tr,\n",
       ".dataframe > tbody > tr {\n",
       "  text-align: right;\n",
       "  white-space: pre-wrap;\n",
       "}\n",
       "</style>\n",
       "<small>shape: (5, 2)</small><table border=\"1\" class=\"dataframe\"><thead><tr><th>sen</th><th>word</th></tr><tr><td>str</td><td>str</td></tr></thead><tbody><tr><td>&quot;Hello, world! …</td><td>&quot;words&quot;</td></tr><tr><td>&quot;Hello, world! …</td><td>&quot;word&quot;</td></tr><tr><td>&quot;Hello, world! …</td><td>&quot;words&quot;</td></tr><tr><td>&quot;Hello, world! …</td><td>&quot;word&quot;</td></tr><tr><td>&quot;Hello, world! …</td><td>&quot;words&quot;</td></tr></tbody></table></div>"
      ],
      "text/plain": [
       "shape: (5, 2)\n",
       "┌───────────────────────────────────┬───────┐\n",
       "│ sen                               ┆ word  │\n",
       "│ ---                               ┆ ---   │\n",
       "│ str                               ┆ str   │\n",
       "╞═══════════════════════════════════╪═══════╡\n",
       "│ Hello, world! I'm going to churc… ┆ words │\n",
       "│ Hello, world! I'm going to churc… ┆ word  │\n",
       "│ Hello, world! I'm going to churc… ┆ words │\n",
       "│ Hello, world! I'm going to churc… ┆ word  │\n",
       "│ Hello, world! I'm going to churc… ┆ words │\n",
       "└───────────────────────────────────┴───────┘"
      ]
     },
     "execution_count": 12,
     "metadata": {},
     "output_type": "execute_result"
    }
   ],
   "source": [
    "size = 100_000\n",
    "df2 = pl.DataFrame({\n",
    "    \"sen\":[\"Hello, world! I'm going to church.\"] * size,\n",
    "    \"word\":[\"words\", \"word\"] * (size //2)\n",
    "})\n",
    "df2.head()"
   ]
  },
  {
   "cell_type": "code",
   "execution_count": 13,
   "id": "ee123a7e-7f9b-4f48-a5d5-6354799201ab",
   "metadata": {},
   "outputs": [
    {
     "data": {
      "text/html": [
       "<div><style>\n",
       ".dataframe > thead > tr,\n",
       ".dataframe > tbody > tr {\n",
       "  text-align: right;\n",
       "  white-space: pre-wrap;\n",
       "}\n",
       "</style>\n",
       "<small>shape: (5, 1)</small><table border=\"1\" class=\"dataframe\"><thead><tr><th>sen</th></tr><tr><td>str</td></tr></thead><tbody><tr><td>&quot;hello&quot;</td></tr><tr><td>&quot;church&quot;</td></tr><tr><td>&quot;going&quot;</td></tr><tr><td>&quot;world&quot;</td></tr><tr><td>&quot;to&quot;</td></tr></tbody></table></div>"
      ],
      "text/plain": [
       "shape: (5, 1)\n",
       "┌────────┐\n",
       "│ sen    │\n",
       "│ ---    │\n",
       "│ str    │\n",
       "╞════════╡\n",
       "│ hello  │\n",
       "│ church │\n",
       "│ going  │\n",
       "│ world  │\n",
       "│ to     │\n",
       "└────────┘"
      ]
     },
     "execution_count": 13,
     "metadata": {},
     "output_type": "execute_result"
    }
   ],
   "source": [
    "# Tokenize\n",
    "df2.select(\n",
    "    pl.col(\"sen\").str.to_lowercase().str2.tokenize().explode().unique()\n",
    ")"
   ]
  },
  {
   "cell_type": "code",
   "execution_count": 14,
   "id": "f33017e3-17df-498b-93d9-1d656a344388",
   "metadata": {},
   "outputs": [
    {
     "data": {
      "text/html": [
       "<div><style>\n",
       ".dataframe > thead > tr,\n",
       ".dataframe > tbody > tr {\n",
       "  text-align: right;\n",
       "  white-space: pre-wrap;\n",
       "}\n",
       "</style>\n",
       "<small>shape: (4, 1)</small><table border=\"1\" class=\"dataframe\"><thead><tr><th>sen</th></tr><tr><td>str</td></tr></thead><tbody><tr><td>&quot;church&quot;</td></tr><tr><td>&quot;go&quot;</td></tr><tr><td>&quot;world&quot;</td></tr><tr><td>&quot;hello&quot;</td></tr></tbody></table></div>"
      ],
      "text/plain": [
       "shape: (4, 1)\n",
       "┌────────┐\n",
       "│ sen    │\n",
       "│ ---    │\n",
       "│ str    │\n",
       "╞════════╡\n",
       "│ church │\n",
       "│ go     │\n",
       "│ world  │\n",
       "│ hello  │\n",
       "└────────┘"
      ]
     },
     "execution_count": 14,
     "metadata": {},
     "output_type": "execute_result"
    }
   ],
   "source": [
    "df2.select(\n",
    "    pl.col(\"sen\").str.to_lowercase().str2.tokenize(stem=True).explode().unique()\n",
    ")"
   ]
  },
  {
   "cell_type": "code",
   "execution_count": 15,
   "id": "69237c02-5f9f-4e92-b68d-6ac43aad1a79",
   "metadata": {},
   "outputs": [
    {
     "data": {
      "text/html": [
       "<div><style>\n",
       ".dataframe > thead > tr,\n",
       ".dataframe > tbody > tr {\n",
       "  text-align: right;\n",
       "  white-space: pre-wrap;\n",
       "}\n",
       "</style>\n",
       "<small>shape: (5, 1)</small><table border=\"1\" class=\"dataframe\"><thead><tr><th>word</th></tr><tr><td>u32</td></tr></thead><tbody><tr><td>2</td></tr><tr><td>1</td></tr><tr><td>2</td></tr><tr><td>1</td></tr><tr><td>2</td></tr></tbody></table></div>"
      ],
      "text/plain": [
       "shape: (5, 1)\n",
       "┌──────┐\n",
       "│ word │\n",
       "│ ---  │\n",
       "│ u32  │\n",
       "╞══════╡\n",
       "│ 2    │\n",
       "│ 1    │\n",
       "│ 2    │\n",
       "│ 1    │\n",
       "│ 2    │\n",
       "└──────┘"
      ]
     },
     "execution_count": 15,
     "metadata": {},
     "output_type": "execute_result"
    }
   ],
   "source": [
    "df2.select(\n",
    "    pl.col(\"word\").str2.levenshtein(\"world\")\n",
    ").head()"
   ]
  },
  {
   "cell_type": "code",
   "execution_count": 16,
   "metadata": {},
   "outputs": [
    {
     "data": {
      "text/html": [
       "<div><style>\n",
       ".dataframe > thead > tr,\n",
       ".dataframe > tbody > tr {\n",
       "  text-align: right;\n",
       "  white-space: pre-wrap;\n",
       "}\n",
       "</style>\n",
       "<small>shape: (5, 1)</small><table border=\"1\" class=\"dataframe\"><thead><tr><th>word</th></tr><tr><td>u32</td></tr></thead><tbody><tr><td>2</td></tr><tr><td>1</td></tr><tr><td>2</td></tr><tr><td>1</td></tr><tr><td>2</td></tr></tbody></table></div>"
      ],
      "text/plain": [
       "shape: (5, 1)\n",
       "┌──────┐\n",
       "│ word │\n",
       "│ ---  │\n",
       "│ u32  │\n",
       "╞══════╡\n",
       "│ 2    │\n",
       "│ 1    │\n",
       "│ 2    │\n",
       "│ 1    │\n",
       "│ 2    │\n",
       "└──────┘"
      ]
     },
     "execution_count": 16,
     "metadata": {},
     "output_type": "execute_result"
    }
   ],
   "source": [
    "# Damerau-Levenshtein\n",
    "df2.select(\n",
    "    pl.col(\"word\").str2.d_levenshtein(\"world\")\n",
    ").head()"
   ]
  },
  {
   "cell_type": "code",
   "execution_count": 17,
   "metadata": {},
   "outputs": [
    {
     "data": {
      "text/html": [
       "<div><style>\n",
       ".dataframe > thead > tr,\n",
       ".dataframe > tbody > tr {\n",
       "  text-align: right;\n",
       "  white-space: pre-wrap;\n",
       "}\n",
       "</style>\n",
       "<small>shape: (5, 1)</small><table border=\"1\" class=\"dataframe\"><thead><tr><th>word</th></tr><tr><td>f64</td></tr></thead><tbody><tr><td>0.6</td></tr><tr><td>0.8</td></tr><tr><td>0.6</td></tr><tr><td>0.8</td></tr><tr><td>0.6</td></tr></tbody></table></div>"
      ],
      "text/plain": [
       "shape: (5, 1)\n",
       "┌──────┐\n",
       "│ word │\n",
       "│ ---  │\n",
       "│ f64  │\n",
       "╞══════╡\n",
       "│ 0.6  │\n",
       "│ 0.8  │\n",
       "│ 0.6  │\n",
       "│ 0.8  │\n",
       "│ 0.6  │\n",
       "└──────┘"
      ]
     },
     "execution_count": 17,
     "metadata": {},
     "output_type": "execute_result"
    }
   ],
   "source": [
    "df2.select(\n",
    "    pl.col(\"word\").str2.levenshtein(\"world\", return_sim = True)\n",
    ").head()"
   ]
  },
  {
   "cell_type": "code",
   "execution_count": 18,
   "id": "2dad7633-67fa-47f3-b86a-9f4cd097a650",
   "metadata": {},
   "outputs": [
    {
     "data": {
      "text/html": [
       "<div><style>\n",
       ".dataframe > thead > tr,\n",
       ".dataframe > tbody > tr {\n",
       "  text-align: right;\n",
       "  white-space: pre-wrap;\n",
       "}\n",
       "</style>\n",
       "<small>shape: (5, 2)</small><table border=\"1\" class=\"dataframe\"><thead><tr><th>sen</th><th>word</th></tr><tr><td>str</td><td>str</td></tr></thead><tbody><tr><td>&quot;Hello, world! …</td><td>&quot;word&quot;</td></tr><tr><td>&quot;Hello, world! …</td><td>&quot;word&quot;</td></tr><tr><td>&quot;Hello, world! …</td><td>&quot;word&quot;</td></tr><tr><td>&quot;Hello, world! …</td><td>&quot;word&quot;</td></tr><tr><td>&quot;Hello, world! …</td><td>&quot;word&quot;</td></tr></tbody></table></div>"
      ],
      "text/plain": [
       "shape: (5, 2)\n",
       "┌───────────────────────────────────┬──────┐\n",
       "│ sen                               ┆ word │\n",
       "│ ---                               ┆ ---  │\n",
       "│ str                               ┆ str  │\n",
       "╞═══════════════════════════════════╪══════╡\n",
       "│ Hello, world! I'm going to churc… ┆ word │\n",
       "│ Hello, world! I'm going to churc… ┆ word │\n",
       "│ Hello, world! I'm going to churc… ┆ word │\n",
       "│ Hello, world! I'm going to churc… ┆ word │\n",
       "│ Hello, world! I'm going to churc… ┆ word │\n",
       "└───────────────────────────────────┴──────┘"
      ]
     },
     "execution_count": 18,
     "metadata": {},
     "output_type": "execute_result"
    }
   ],
   "source": [
    "df2.filter(\n",
    "    pl.col(\"word\").str2.levenshtein(\"world\") == 1\n",
    ").head()"
   ]
  },
  {
   "cell_type": "markdown",
   "metadata": {},
   "source": [
    "# Stats Extension"
   ]
  },
  {
   "cell_type": "code",
   "execution_count": 19,
   "metadata": {},
   "outputs": [
    {
     "data": {
      "text/html": [
       "<div><style>\n",
       ".dataframe > thead > tr,\n",
       ".dataframe > tbody > tr {\n",
       "  text-align: right;\n",
       "  white-space: pre-wrap;\n",
       "}\n",
       "</style>\n",
       "<small>shape: (5, 1)</small><table border=\"1\" class=\"dataframe\"><thead><tr><th>a</th></tr><tr><td>f64</td></tr></thead><tbody><tr><td>-1.380039</td></tr><tr><td>-0.200584</td></tr><tr><td>-0.100981</td></tr><tr><td>-0.413554</td></tr><tr><td>0.014094</td></tr></tbody></table></div>"
      ],
      "text/plain": [
       "shape: (5, 1)\n",
       "┌───────────┐\n",
       "│ a         │\n",
       "│ ---       │\n",
       "│ f64       │\n",
       "╞═══════════╡\n",
       "│ -1.380039 │\n",
       "│ -0.200584 │\n",
       "│ -0.100981 │\n",
       "│ -0.413554 │\n",
       "│ 0.014094  │\n",
       "└───────────┘"
      ]
     },
     "execution_count": 19,
     "metadata": {},
     "output_type": "execute_result"
    }
   ],
   "source": [
    "import numpy as np\n",
    "\n",
    "df = pl.DataFrame({\n",
    "    \"a\": list(np.random.normal(size = 998)) + [None, None]\n",
    "})\n",
    "df.head()"
   ]
  },
  {
   "cell_type": "code",
   "execution_count": 20,
   "metadata": {},
   "outputs": [
    {
     "data": {
      "text/html": [
       "<div><style>\n",
       ".dataframe > thead > tr,\n",
       ".dataframe > tbody > tr {\n",
       "  text-align: right;\n",
       "  white-space: pre-wrap;\n",
       "}\n",
       "</style>\n",
       "<small>shape: (1_000, 2)</small><table border=\"1\" class=\"dataframe\"><thead><tr><th>a</th><th>random</th></tr><tr><td>f64</td><td>f64</td></tr></thead><tbody><tr><td>-1.380039</td><td>0.846072</td></tr><tr><td>-0.200584</td><td>0.552485</td></tr><tr><td>-0.100981</td><td>0.706321</td></tr><tr><td>-0.413554</td><td>-0.205514</td></tr><tr><td>0.014094</td><td>1.00097</td></tr><tr><td>-0.731941</td><td>-0.246044</td></tr><tr><td>0.428756</td><td>0.721886</td></tr><tr><td>-0.779035</td><td>0.292412</td></tr><tr><td>-1.54478</td><td>2.116286</td></tr><tr><td>0.016704</td><td>0.137341</td></tr><tr><td>0.774037</td><td>-0.477099</td></tr><tr><td>0.550874</td><td>1.481822</td></tr><tr><td>&hellip;</td><td>&hellip;</td></tr><tr><td>1.57445</td><td>-1.786365</td></tr><tr><td>-0.219772</td><td>-0.649539</td></tr><tr><td>1.050712</td><td>1.545373</td></tr><tr><td>0.445107</td><td>0.696054</td></tr><tr><td>0.452407</td><td>-0.555928</td></tr><tr><td>-0.965761</td><td>3.530685</td></tr><tr><td>-0.738967</td><td>1.579904</td></tr><tr><td>1.365518</td><td>-2.268439</td></tr><tr><td>0.746657</td><td>-0.462054</td></tr><tr><td>-0.08</td><td>-0.443372</td></tr><tr><td>null</td><td>null</td></tr><tr><td>null</td><td>null</td></tr></tbody></table></div>"
      ],
      "text/plain": [
       "shape: (1_000, 2)\n",
       "┌───────────┬───────────┐\n",
       "│ a         ┆ random    │\n",
       "│ ---       ┆ ---       │\n",
       "│ f64       ┆ f64       │\n",
       "╞═══════════╪═══════════╡\n",
       "│ -1.380039 ┆ 0.846072  │\n",
       "│ -0.200584 ┆ 0.552485  │\n",
       "│ -0.100981 ┆ 0.706321  │\n",
       "│ -0.413554 ┆ -0.205514 │\n",
       "│ …         ┆ …         │\n",
       "│ 0.746657  ┆ -0.462054 │\n",
       "│ -0.08     ┆ -0.443372 │\n",
       "│ null      ┆ null      │\n",
       "│ null      ┆ null      │\n",
       "└───────────┴───────────┘"
      ]
     },
     "execution_count": 20,
     "metadata": {},
     "output_type": "execute_result"
    }
   ],
   "source": [
    "# Genenrate random sample, respecting null positions in reference column (pl.col(\"a\"))\n",
    "df.with_columns(\n",
    "    pl.col(\"a\").stats.sample_normal(mean = 0.5, std = 1., respect_null=True).alias(\"random\")\n",
    ")"
   ]
  },
  {
   "cell_type": "code",
   "execution_count": 21,
   "metadata": {},
   "outputs": [
    {
     "data": {
      "text/html": [
       "<div><style>\n",
       ".dataframe > thead > tr,\n",
       ".dataframe > tbody > tr {\n",
       "  text-align: right;\n",
       "  white-space: pre-wrap;\n",
       "}\n",
       "</style>\n",
       "<small>shape: (1_000, 2)</small><table border=\"1\" class=\"dataframe\"><thead><tr><th>a</th><th>random_str</th></tr><tr><td>f64</td><td>str</td></tr></thead><tbody><tr><td>-1.380039</td><td>&quot;0C&quot;</td></tr><tr><td>-0.200584</td><td>&quot;JEJ&quot;</td></tr><tr><td>-0.100981</td><td>&quot;ATRz&quot;</td></tr><tr><td>-0.413554</td><td>&quot;1&quot;</td></tr><tr><td>0.014094</td><td>&quot;of&quot;</td></tr><tr><td>-0.731941</td><td>&quot;toPG&quot;</td></tr><tr><td>0.428756</td><td>&quot;yQS&quot;</td></tr><tr><td>-0.779035</td><td>&quot;3UZN&quot;</td></tr><tr><td>-1.54478</td><td>&quot;ycz&quot;</td></tr><tr><td>0.016704</td><td>&quot;Jv&quot;</td></tr><tr><td>0.774037</td><td>&quot;JPJ&quot;</td></tr><tr><td>0.550874</td><td>&quot;ukse&quot;</td></tr><tr><td>&hellip;</td><td>&hellip;</td></tr><tr><td>1.57445</td><td>&quot;3m8&quot;</td></tr><tr><td>-0.219772</td><td>&quot;X&quot;</td></tr><tr><td>1.050712</td><td>&quot;a6TG&quot;</td></tr><tr><td>0.445107</td><td>&quot;22&quot;</td></tr><tr><td>0.452407</td><td>&quot;KY&quot;</td></tr><tr><td>-0.965761</td><td>&quot;H&quot;</td></tr><tr><td>-0.738967</td><td>&quot;M&quot;</td></tr><tr><td>1.365518</td><td>&quot;C&quot;</td></tr><tr><td>0.746657</td><td>&quot;dHn&quot;</td></tr><tr><td>-0.08</td><td>&quot;n&quot;</td></tr><tr><td>null</td><td>null</td></tr><tr><td>null</td><td>null</td></tr></tbody></table></div>"
      ],
      "text/plain": [
       "shape: (1_000, 2)\n",
       "┌───────────┬────────────┐\n",
       "│ a         ┆ random_str │\n",
       "│ ---       ┆ ---        │\n",
       "│ f64       ┆ str        │\n",
       "╞═══════════╪════════════╡\n",
       "│ -1.380039 ┆ 0C         │\n",
       "│ -0.200584 ┆ JEJ        │\n",
       "│ -0.100981 ┆ ATRz       │\n",
       "│ -0.413554 ┆ 1          │\n",
       "│ …         ┆ …          │\n",
       "│ 0.746657  ┆ dHn        │\n",
       "│ -0.08     ┆ n          │\n",
       "│ null      ┆ null       │\n",
       "│ null      ┆ null       │\n",
       "└───────────┴────────────┘"
      ]
     },
     "execution_count": 21,
     "metadata": {},
     "output_type": "execute_result"
    }
   ],
   "source": [
    "# Genenrate random string\n",
    "df.with_columns(\n",
    "    pl.col(\"a\").stats.rand_str(min_size = 1, max_size = 5, respect_null=True).alias(\"random_str\")\n",
    ")"
   ]
  },
  {
   "cell_type": "code",
   "execution_count": 22,
   "metadata": {},
   "outputs": [
    {
     "data": {
      "text/html": [
       "<div><style>\n",
       ".dataframe > thead > tr,\n",
       ".dataframe > tbody > tr {\n",
       "  text-align: right;\n",
       "  white-space: pre-wrap;\n",
       "}\n",
       "</style>\n",
       "<small>shape: (1_000, 2)</small><table border=\"1\" class=\"dataframe\"><thead><tr><th>a</th><th>random_str</th></tr><tr><td>f64</td><td>str</td></tr></thead><tbody><tr><td>-1.380039</td><td>&quot;87vkz&quot;</td></tr><tr><td>-0.200584</td><td>&quot;FhImg&quot;</td></tr><tr><td>-0.100981</td><td>&quot;zAaq2&quot;</td></tr><tr><td>-0.413554</td><td>&quot;wdiyR&quot;</td></tr><tr><td>0.014094</td><td>&quot;xXfxl&quot;</td></tr><tr><td>-0.731941</td><td>&quot;9nvFc&quot;</td></tr><tr><td>0.428756</td><td>&quot;foIrA&quot;</td></tr><tr><td>-0.779035</td><td>&quot;9l3cn&quot;</td></tr><tr><td>-1.54478</td><td>&quot;wFCEv&quot;</td></tr><tr><td>0.016704</td><td>&quot;SrEgl&quot;</td></tr><tr><td>0.774037</td><td>&quot;jZwKd&quot;</td></tr><tr><td>0.550874</td><td>&quot;SN8XG&quot;</td></tr><tr><td>&hellip;</td><td>&hellip;</td></tr><tr><td>1.57445</td><td>&quot;mQpW7&quot;</td></tr><tr><td>-0.219772</td><td>&quot;uH0BC&quot;</td></tr><tr><td>1.050712</td><td>&quot;oy9Dy&quot;</td></tr><tr><td>0.445107</td><td>&quot;ADwjJ&quot;</td></tr><tr><td>0.452407</td><td>&quot;Ify2a&quot;</td></tr><tr><td>-0.965761</td><td>&quot;ywaCT&quot;</td></tr><tr><td>-0.738967</td><td>&quot;e3Qos&quot;</td></tr><tr><td>1.365518</td><td>&quot;mkjTa&quot;</td></tr><tr><td>0.746657</td><td>&quot;hZFLE&quot;</td></tr><tr><td>-0.08</td><td>&quot;hrGxB&quot;</td></tr><tr><td>null</td><td>null</td></tr><tr><td>null</td><td>null</td></tr></tbody></table></div>"
      ],
      "text/plain": [
       "shape: (1_000, 2)\n",
       "┌───────────┬────────────┐\n",
       "│ a         ┆ random_str │\n",
       "│ ---       ┆ ---        │\n",
       "│ f64       ┆ str        │\n",
       "╞═══════════╪════════════╡\n",
       "│ -1.380039 ┆ 87vkz      │\n",
       "│ -0.200584 ┆ FhImg      │\n",
       "│ -0.100981 ┆ zAaq2      │\n",
       "│ -0.413554 ┆ wdiyR      │\n",
       "│ …         ┆ …          │\n",
       "│ 0.746657  ┆ hZFLE      │\n",
       "│ -0.08     ┆ hrGxB      │\n",
       "│ null      ┆ null       │\n",
       "│ null      ┆ null       │\n",
       "└───────────┴────────────┘"
      ]
     },
     "execution_count": 22,
     "metadata": {},
     "output_type": "execute_result"
    }
   ],
   "source": [
    "# Genenrate fixed size random string\n",
    "df.with_columns(\n",
    "    pl.col(\"a\").stats.rand_str(min_size = 5, max_size = 5, respect_null=True).alias(\"random_str\")\n",
    ")"
   ]
  },
  {
   "cell_type": "code",
   "execution_count": 23,
   "metadata": {},
   "outputs": [
    {
     "data": {
      "text/html": [
       "<div><style>\n",
       ".dataframe > thead > tr,\n",
       ".dataframe > tbody > tr {\n",
       "  text-align: right;\n",
       "  white-space: pre-wrap;\n",
       "}\n",
       "</style>\n",
       "<small>shape: (1, 4)</small><table border=\"1\" class=\"dataframe\"><thead><tr><th>t-tests: statistics</th><th>t-tests: pvalue</th><th>normality_test: statistics</th><th>normality_test: pvalue</th></tr><tr><td>f64</td><td>f64</td><td>f64</td><td>f64</td></tr></thead><tbody><tr><td>0.580348</td><td>0.561765</td><td>0.875448</td><td>0.645504</td></tr></tbody></table></div>"
      ],
      "text/plain": [
       "shape: (1, 4)\n",
       "┌─────────────────────┬─────────────────┬────────────────────────────┬────────────────────────┐\n",
       "│ t-tests: statistics ┆ t-tests: pvalue ┆ normality_test: statistics ┆ normality_test: pvalue │\n",
       "│ ---                 ┆ ---             ┆ ---                        ┆ ---                    │\n",
       "│ f64                 ┆ f64             ┆ f64                        ┆ f64                    │\n",
       "╞═════════════════════╪═════════════════╪════════════════════════════╪════════════════════════╡\n",
       "│ 0.580348            ┆ 0.561765        ┆ 0.875448                   ┆ 0.645504               │\n",
       "└─────────────────────┴─────────────────┴────────────────────────────┴────────────────────────┘"
      ]
     },
     "execution_count": 23,
     "metadata": {},
     "output_type": "execute_result"
    }
   ],
   "source": [
    "# Genenrate 2 random sample, both normally distributed\n",
    "# Run Welch's t test on them, p value should be big since they have equal mean\n",
    "# Run a normality test. Again, p value should be big since they are normally distributed \n",
    "\n",
    "df.with_columns(\n",
    "    pl.col(\"a\").stats.sample_normal(mean = 0.5, std = 1.).alias(\"test1\")\n",
    "    , pl.col(\"a\").stats.sample_normal(mean = 0.5, std = 2.).alias(\"test2\")\n",
    ").select(\n",
    "    pl.col(\"test1\").stats.ttest_ind(pl.col(\"test2\"), equal_var = False).alias(\"t-test\")\n",
    "    , pl.col(\"test1\").stats.normal_test().alias(\"normality_test\")\n",
    ").select(\n",
    "    pl.col(\"t-test\").struct.field(\"statistic\").alias(\"t-tests: statistics\")\n",
    "    , pl.col(\"t-test\").struct.field(\"pvalue\").alias(\"t-tests: pvalue\")\n",
    "    , pl.col(\"normality_test\").struct.field(\"statistic\").alias(\"normality_test: statistics\")\n",
    "    , pl.col(\"normality_test\").struct.field(\"pvalue\").alias(\"normality_test: pvalue\")\n",
    ")"
   ]
  }
 ],
 "metadata": {
  "kernelspec": {
   "display_name": "Python 3 (ipykernel)",
   "language": "python",
   "name": "python3"
  },
  "language_info": {
   "codemirror_mode": {
    "name": "ipython",
    "version": 3
   },
   "file_extension": ".py",
   "mimetype": "text/x-python",
   "name": "python",
   "nbconvert_exporter": "python",
   "pygments_lexer": "ipython3",
   "version": "3.11.6"
  }
 },
 "nbformat": 4,
 "nbformat_minor": 5
}
