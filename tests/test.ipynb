{
 "cells": [
  {
   "cell_type": "code",
   "execution_count": 1,
   "metadata": {},
   "outputs": [],
   "source": [
    "import polars as pl\n",
    "import polars_ds as pds"
   ]
  },
  {
   "cell_type": "code",
   "execution_count": 2,
   "metadata": {},
   "outputs": [
    {
     "data": {
      "text/html": [
       "<div><style>\n",
       ".dataframe > thead > tr,\n",
       ".dataframe > tbody > tr {\n",
       "  text-align: right;\n",
       "  white-space: pre-wrap;\n",
       "}\n",
       "</style>\n",
       "<small>shape: (5, 22)</small><table border=\"1\" class=\"dataframe\"><thead><tr><th>ID</th><th>Gender</th><th>DOB</th><th>Lead_Creation_Date</th><th>City_Code</th><th>City_Category</th><th>Employer_Code</th><th>Employer_Category1</th><th>Employer_Category2</th><th>Monthly_Income</th><th>Customer_Existing_Primary_Bank_Code</th><th>Primary_Bank_Type</th><th>Contacted</th><th>Source</th><th>Source_Category</th><th>Existing_EMI</th><th>Loan_Amount</th><th>Loan_Period</th><th>Interest_Rate</th><th>EMI</th><th>Var1</th><th>Approved</th></tr><tr><td>str</td><td>str</td><td>str</td><td>str</td><td>str</td><td>str</td><td>str</td><td>str</td><td>i64</td><td>f64</td><td>str</td><td>str</td><td>str</td><td>str</td><td>str</td><td>f64</td><td>i64</td><td>i64</td><td>f64</td><td>i64</td><td>i64</td><td>i64</td></tr></thead><tbody><tr><td>&quot;APPC90493171225&quot;</td><td>&quot;Female&quot;</td><td>&quot;23/07/79&quot;</td><td>&quot;15/07/16&quot;</td><td>&quot;C10001&quot;</td><td>&quot;A&quot;</td><td>&quot;COM0044082&quot;</td><td>&quot;A&quot;</td><td>4</td><td>2000.0</td><td>&quot;B001&quot;</td><td>&quot;P&quot;</td><td>&quot;N&quot;</td><td>&quot;S122&quot;</td><td>&quot;G&quot;</td><td>0.0</td><td>null</td><td>null</td><td>null</td><td>null</td><td>0</td><td>0</td></tr><tr><td>&quot;APPD40611263344&quot;</td><td>&quot;Male&quot;</td><td>&quot;07/12/86&quot;</td><td>&quot;04/07/16&quot;</td><td>&quot;C10003&quot;</td><td>&quot;A&quot;</td><td>&quot;COM0000002&quot;</td><td>&quot;C&quot;</td><td>1</td><td>3500.0</td><td>&quot;B002&quot;</td><td>&quot;P&quot;</td><td>&quot;Y&quot;</td><td>&quot;S122&quot;</td><td>&quot;G&quot;</td><td>0.0</td><td>20000</td><td>2</td><td>13.25</td><td>953</td><td>10</td><td>0</td></tr><tr><td>&quot;APPE70289249423&quot;</td><td>&quot;Male&quot;</td><td>&quot;10/12/82&quot;</td><td>&quot;19/07/16&quot;</td><td>&quot;C10125&quot;</td><td>&quot;C&quot;</td><td>&quot;COM0005267&quot;</td><td>&quot;C&quot;</td><td>4</td><td>2250.0</td><td>&quot;B003&quot;</td><td>&quot;G&quot;</td><td>&quot;Y&quot;</td><td>&quot;S143&quot;</td><td>&quot;B&quot;</td><td>0.0</td><td>45000</td><td>4</td><td>null</td><td>null</td><td>0</td><td>0</td></tr><tr><td>&quot;APPF80273865537&quot;</td><td>&quot;Male&quot;</td><td>&quot;30/01/89&quot;</td><td>&quot;09/07/16&quot;</td><td>&quot;C10477&quot;</td><td>&quot;C&quot;</td><td>&quot;COM0004143&quot;</td><td>&quot;A&quot;</td><td>4</td><td>3500.0</td><td>&quot;B003&quot;</td><td>&quot;G&quot;</td><td>&quot;Y&quot;</td><td>&quot;S143&quot;</td><td>&quot;B&quot;</td><td>0.0</td><td>92000</td><td>5</td><td>null</td><td>null</td><td>7</td><td>0</td></tr><tr><td>&quot;APPG60994436641&quot;</td><td>&quot;Male&quot;</td><td>&quot;19/04/85&quot;</td><td>&quot;20/07/16&quot;</td><td>&quot;C10002&quot;</td><td>&quot;A&quot;</td><td>&quot;COM0001781&quot;</td><td>&quot;A&quot;</td><td>4</td><td>10000.0</td><td>&quot;B001&quot;</td><td>&quot;P&quot;</td><td>&quot;Y&quot;</td><td>&quot;S134&quot;</td><td>&quot;B&quot;</td><td>2500.0</td><td>50000</td><td>2</td><td>null</td><td>null</td><td>10</td><td>0</td></tr></tbody></table></div>"
      ],
      "text/plain": [
       "shape: (5, 22)\n",
       "┌────────────────┬────────┬──────────┬────────────────┬───┬───────────────┬──────┬──────┬──────────┐\n",
       "│ ID             ┆ Gender ┆ DOB      ┆ Lead_Creation_ ┆ … ┆ Interest_Rate ┆ EMI  ┆ Var1 ┆ Approved │\n",
       "│ ---            ┆ ---    ┆ ---      ┆ Date           ┆   ┆ ---           ┆ ---  ┆ ---  ┆ ---      │\n",
       "│ str            ┆ str    ┆ str      ┆ ---            ┆   ┆ f64           ┆ i64  ┆ i64  ┆ i64      │\n",
       "│                ┆        ┆          ┆ str            ┆   ┆               ┆      ┆      ┆          │\n",
       "╞════════════════╪════════╪══════════╪════════════════╪═══╪═══════════════╪══════╪══════╪══════════╡\n",
       "│ APPC9049317122 ┆ Female ┆ 23/07/79 ┆ 15/07/16       ┆ … ┆ null          ┆ null ┆ 0    ┆ 0        │\n",
       "│ 5              ┆        ┆          ┆                ┆   ┆               ┆      ┆      ┆          │\n",
       "│ APPD4061126334 ┆ Male   ┆ 07/12/86 ┆ 04/07/16       ┆ … ┆ 13.25         ┆ 953  ┆ 10   ┆ 0        │\n",
       "│ 4              ┆        ┆          ┆                ┆   ┆               ┆      ┆      ┆          │\n",
       "│ APPE7028924942 ┆ Male   ┆ 10/12/82 ┆ 19/07/16       ┆ … ┆ null          ┆ null ┆ 0    ┆ 0        │\n",
       "│ 3              ┆        ┆          ┆                ┆   ┆               ┆      ┆      ┆          │\n",
       "│ APPF8027386553 ┆ Male   ┆ 30/01/89 ┆ 09/07/16       ┆ … ┆ null          ┆ null ┆ 7    ┆ 0        │\n",
       "│ 7              ┆        ┆          ┆                ┆   ┆               ┆      ┆      ┆          │\n",
       "│ APPG6099443664 ┆ Male   ┆ 19/04/85 ┆ 20/07/16       ┆ … ┆ null          ┆ null ┆ 10   ┆ 0        │\n",
       "│ 1              ┆        ┆          ┆                ┆   ┆               ┆      ┆      ┆          │\n",
       "└────────────────┴────────┴──────────┴────────────────┴───┴───────────────┴──────┴──────┴──────────┘"
      ]
     },
     "execution_count": 2,
     "metadata": {},
     "output_type": "execute_result"
    }
   ],
   "source": [
    "df = pl.read_parquet(\"../examples/dependency.parquet\")\n",
    "df.head()"
   ]
  },
  {
   "cell_type": "code",
   "execution_count": 5,
   "metadata": {},
   "outputs": [
    {
     "data": {
      "text/html": [
       "<div><style>\n",
       ".dataframe > thead > tr,\n",
       ".dataframe > tbody > tr {\n",
       "  text-align: right;\n",
       "  white-space: pre-wrap;\n",
       "}\n",
       "</style>\n",
       "<small>shape: (69_713, 11)</small><table border=\"1\" class=\"dataframe\"><thead><tr><th>employer_category2</th><th>monthly_income</th><th>existing_emi</th><th>loan_amount</th><th>loan_period</th><th>interest_rate</th><th>emi</th><th>var1</th><th>existing_emi_log1p</th><th>loan_amount_log1p</th><th>loan_amount_sqrt</th></tr><tr><td>f64</td><td>f64</td><td>f64</td><td>f64</td><td>f64</td><td>f64</td><td>f64</td><td>i64</td><td>f64</td><td>f64</td><td>f64</td></tr></thead><tbody><tr><td>1.0</td><td>0.000052</td><td>0.0</td><td>null</td><td>null</td><td>null</td><td>null</td><td>0</td><td>0.0</td><td>null</td><td>null</td></tr><tr><td>0.0</td><td>0.000091</td><td>0.0</td><td>0.050847</td><td>0.2</td><td>0.05038</td><td>0.062137</td><td>10</td><td>0.0</td><td>0.338567</td><td>0.148237</td></tr><tr><td>1.0</td><td>0.000059</td><td>0.0</td><td>0.135593</td><td>0.6</td><td>null</td><td>null</td><td>0</td><td>0.0</td><td>0.536631</td><td>0.296473</td></tr><tr><td>1.0</td><td>0.000091</td><td>0.0</td><td>0.294915</td><td>0.8</td><td>null</td><td>null</td><td>7</td><td>0.0</td><td>0.711299</td><td>0.487628</td></tr><tr><td>1.0</td><td>0.000261</td><td>0.004583</td><td>0.152542</td><td>0.2</td><td>null</td><td>null</td><td>10</td><td>7.824446</td><td>0.562365</td><td>0.320529</td></tr><tr><td>&hellip;</td><td>&hellip;</td><td>&hellip;</td><td>&hellip;</td><td>&hellip;</td><td>&hellip;</td><td>&hellip;</td><td>&hellip;</td><td>&hellip;</td><td>&hellip;</td><td>&hellip;</td></tr><tr><td>0.0</td><td>0.000128</td><td>0.0</td><td>null</td><td>null</td><td>null</td><td>null</td><td>10</td><td>0.0</td><td>null</td><td>null</td></tr><tr><td>1.0</td><td>0.000187</td><td>0.002658</td><td>null</td><td>null</td><td>null</td><td>null</td><td>7</td><td>7.280008</td><td>null</td><td>null</td></tr><tr><td>1.0</td><td>0.000042</td><td>0.0</td><td>0.064407</td><td>0.6</td><td>0.940024</td><td>0.061393</td><td>2</td><td>0.0</td><td>0.383097</td><td>0.176534</td></tr><tr><td>0.666667</td><td>0.000258</td><td>0.002504</td><td>0.254237</td><td>0.8</td><td>null</td><td>null</td><td>10</td><td>7.220374</td><td>0.677162</td><td>0.44471</td></tr><tr><td>0.0</td><td>0.00011</td><td>0.0</td><td>0.216949</td><td>0.6</td><td>0.079968</td><td>0.131493</td><td>10</td><td>0.0</td><td>0.641033</td><td>0.402438</td></tr></tbody></table></div>"
      ],
      "text/plain": [
       "shape: (69_713, 11)\n",
       "┌────────────┬────────────┬────────────┬────────────┬───┬──────┬───────────┬───────────┬───────────┐\n",
       "│ employer_c ┆ monthly_in ┆ existing_e ┆ loan_amoun ┆ … ┆ var1 ┆ existing_ ┆ loan_amou ┆ loan_amou │\n",
       "│ ategory2   ┆ come       ┆ mi         ┆ t          ┆   ┆ ---  ┆ emi_log1p ┆ nt_log1p  ┆ nt_sqrt   │\n",
       "│ ---        ┆ ---        ┆ ---        ┆ ---        ┆   ┆ i64  ┆ ---       ┆ ---       ┆ ---       │\n",
       "│ f64        ┆ f64        ┆ f64        ┆ f64        ┆   ┆      ┆ f64       ┆ f64       ┆ f64       │\n",
       "╞════════════╪════════════╪════════════╪════════════╪═══╪══════╪═══════════╪═══════════╪═══════════╡\n",
       "│ 1.0        ┆ 0.000052   ┆ 0.0        ┆ null       ┆ … ┆ 0    ┆ 0.0       ┆ null      ┆ null      │\n",
       "│ 0.0        ┆ 0.000091   ┆ 0.0        ┆ 0.050847   ┆ … ┆ 10   ┆ 0.0       ┆ 0.338567  ┆ 0.148237  │\n",
       "│ 1.0        ┆ 0.000059   ┆ 0.0        ┆ 0.135593   ┆ … ┆ 0    ┆ 0.0       ┆ 0.536631  ┆ 0.296473  │\n",
       "│ 1.0        ┆ 0.000091   ┆ 0.0        ┆ 0.294915   ┆ … ┆ 7    ┆ 0.0       ┆ 0.711299  ┆ 0.487628  │\n",
       "│ 1.0        ┆ 0.000261   ┆ 0.004583   ┆ 0.152542   ┆ … ┆ 10   ┆ 7.824446  ┆ 0.562365  ┆ 0.320529  │\n",
       "│ …          ┆ …          ┆ …          ┆ …          ┆ … ┆ …    ┆ …         ┆ …         ┆ …         │\n",
       "│ 0.0        ┆ 0.000128   ┆ 0.0        ┆ null       ┆ … ┆ 10   ┆ 0.0       ┆ null      ┆ null      │\n",
       "│ 1.0        ┆ 0.000187   ┆ 0.002658   ┆ null       ┆ … ┆ 7    ┆ 7.280008  ┆ null      ┆ null      │\n",
       "│ 1.0        ┆ 0.000042   ┆ 0.0        ┆ 0.064407   ┆ … ┆ 2    ┆ 0.0       ┆ 0.383097  ┆ 0.176534  │\n",
       "│ 0.666667   ┆ 0.000258   ┆ 0.002504   ┆ 0.254237   ┆ … ┆ 10   ┆ 7.220374  ┆ 0.677162  ┆ 0.44471   │\n",
       "│ 0.0        ┆ 0.00011    ┆ 0.0        ┆ 0.216949   ┆ … ┆ 10   ┆ 0.0       ┆ 0.641033  ┆ 0.402438  │\n",
       "└────────────┴────────────┴────────────┴────────────┴───┴──────┴───────────┴───────────┴───────────┘"
      ]
     },
     "execution_count": 5,
     "metadata": {},
     "output_type": "execute_result"
    }
   ],
   "source": [
    "from polars_ds.pipeline import Pipeline\n",
    "import polars.selectors as cs\n",
    "\n",
    "# df.select(pl.col(\"Existing_EMI\"))\n",
    "\n",
    "pipe = (\n",
    "    Pipeline(df)\n",
    "    .lowercase()\n",
    "    .impute([\"existing_emi\"], method = \"median\")\n",
    "    .select(cs.numeric())\n",
    "    .append_expr([\n",
    "        pl.col(\"existing_emi\").log1p().alias(\"existing_emi_log1p\"),\n",
    "        pl.col(\"loan_amount\").log1p().alias(\"loan_amount_log1p\"),\n",
    "        pl.col(\"loan_amount\").sqrt().alias(\"loan_amount_sqrt\"),\n",
    "    ])\n",
    "    .scale(\n",
    "        cs.numeric().exclude([\"var1\", \"existing_emi_log1p\"]), method = \"min_max\"\n",
    "    ).remove(\n",
    "        [\"approved\"]\n",
    "    )\n",
    ")\n",
    "\n",
    "pipe.fit()\n",
    "pipe.transform()"
   ]
  },
  {
   "cell_type": "code",
   "execution_count": 6,
   "metadata": {},
   "outputs": [
    {
     "data": {
      "image/svg+xml": [
       "<svg xmlns=\"http://www.w3.org/2000/svg\" xmlns:xlink=\"http://www.w3.org/1999/xlink\" width=\"987pt\" height=\"354pt\" viewBox=\"0.00 0.00 987.00 353.50\">\n",
       "<g id=\"graph0\" class=\"graph\" transform=\"scale(1 1) rotate(0) translate(4 349.5)\">\n",
       "<title>polars_query</title>\n",
       "<polygon fill=\"white\" stroke=\"none\" points=\"-4,4 -4,-349.5 983,-349.5 983,4 -4,4\"/>\n",
       "<!-- WITH COLUMNS [&quot;employer_category2&quot;,&quot;monthly_income&quot;,&quot;existing_emi&quot;,&quot;loan_amount&quot;,&quot;loan_period&quot;,&quot;interest_rate&quot;,&quot;emi&quot;,&quot;loan_amount_log1p&quot;,&quot;loan_amount_sqrt&quot;] [(0, 0)] -->\n",
       "<g id=\"node1\" class=\"node\">\n",
       "<title>WITH COLUMNS [&quot;employer_category2&quot;,&quot;monthly_income&quot;,&quot;existing_emi&quot;,&quot;loan_amount&quot;,&quot;loan_period&quot;,&quot;interest_rate&quot;,&quot;emi&quot;,&quot;loan_amount_log1p&quot;,&quot;loan_amount_sqrt&quot;] [(0, 0)]</title>\n",
       "<polygon fill=\"none\" stroke=\"black\" points=\"979,-345.5 0,-345.5 0,-309.5 979,-309.5 979,-345.5\"/>\n",
       "<text text-anchor=\"middle\" x=\"489.5\" y=\"-322.45\" font-family=\"Times,serif\" font-size=\"14.00\">WITH COLUMNS [&quot;employer_category2&quot;,&quot;monthly_income&quot;,&quot;existing_emi&quot;,&quot;loan_amount&quot;,&quot;loan_period&quot;,&quot;interest_rate&quot;,&quot;emi&quot;,&quot;loan_amount_log1p&quot;,&quot;loan_amount_sqrt&quot;]</text>\n",
       "</g>\n",
       "<!-- WITH COLUMNS [&quot;existing_emi_log1p&quot;,&quot;loan_amount_log1p&quot;,&quot;loan_amount_sqrt&quot;] [(0, 1)] -->\n",
       "<g id=\"node2\" class=\"node\">\n",
       "<title>WITH COLUMNS [&quot;existing_emi_log1p&quot;,&quot;loan_amount_log1p&quot;,&quot;loan_amount_sqrt&quot;] [(0, 1)]</title>\n",
       "<polygon fill=\"none\" stroke=\"black\" points=\"736.38,-273.5 242.63,-273.5 242.63,-237.5 736.38,-237.5 736.38,-273.5\"/>\n",
       "<text text-anchor=\"middle\" x=\"489.5\" y=\"-250.45\" font-family=\"Times,serif\" font-size=\"14.00\">WITH COLUMNS [&quot;existing_emi_log1p&quot;,&quot;loan_amount_log1p&quot;,&quot;loan_amount_sqrt&quot;]</text>\n",
       "</g>\n",
       "<!-- WITH COLUMNS [&quot;employer_category2&quot;,&quot;monthly_income&quot;,&quot;existing_emi&quot;,&quot;loan_amount&quot;,&quot;loan_period&quot;,&quot;interest_rate&quot;,&quot;emi&quot;,&quot;loan_amount_log1p&quot;,&quot;loan_amount_sqrt&quot;] [(0, 0)]&#45;&#45;WITH COLUMNS [&quot;existing_emi_log1p&quot;,&quot;loan_amount_log1p&quot;,&quot;loan_amount_sqrt&quot;] [(0, 1)] -->\n",
       "<g id=\"edge1\" class=\"edge\">\n",
       "<title>WITH COLUMNS [&quot;employer_category2&quot;,&quot;monthly_income&quot;,&quot;existing_emi&quot;,&quot;loan_amount&quot;,&quot;loan_period&quot;,&quot;interest_rate&quot;,&quot;emi&quot;,&quot;loan_amount_log1p&quot;,&quot;loan_amount_sqrt&quot;] [(0, 0)]--WITH COLUMNS [&quot;existing_emi_log1p&quot;,&quot;loan_amount_log1p&quot;,&quot;loan_amount_sqrt&quot;] [(0, 1)]</title>\n",
       "<path fill=\"none\" stroke=\"black\" d=\"M489.5,-309.2C489.5,-298.35 489.5,-284.42 489.5,-273.6\"/>\n",
       "</g>\n",
       "<!-- WITH COLUMNS [&quot;existing_emi&quot;] [(0, 2)] -->\n",
       "<g id=\"node3\" class=\"node\">\n",
       "<title>WITH COLUMNS [&quot;existing_emi&quot;] [(0, 2)]</title>\n",
       "<polygon fill=\"none\" stroke=\"black\" points=\"598.38,-201.5 380.62,-201.5 380.62,-165.5 598.38,-165.5 598.38,-201.5\"/>\n",
       "<text text-anchor=\"middle\" x=\"489.5\" y=\"-178.45\" font-family=\"Times,serif\" font-size=\"14.00\">WITH COLUMNS [&quot;existing_emi&quot;]</text>\n",
       "</g>\n",
       "<!-- WITH COLUMNS [&quot;existing_emi_log1p&quot;,&quot;loan_amount_log1p&quot;,&quot;loan_amount_sqrt&quot;] [(0, 1)]&#45;&#45;WITH COLUMNS [&quot;existing_emi&quot;] [(0, 2)] -->\n",
       "<g id=\"edge2\" class=\"edge\">\n",
       "<title>WITH COLUMNS [&quot;existing_emi_log1p&quot;,&quot;loan_amount_log1p&quot;,&quot;loan_amount_sqrt&quot;] [(0, 1)]--WITH COLUMNS [&quot;existing_emi&quot;] [(0, 2)]</title>\n",
       "<path fill=\"none\" stroke=\"black\" d=\"M489.5,-237.2C489.5,-226.35 489.5,-212.42 489.5,-201.6\"/>\n",
       "</g>\n",
       "<!-- π 8/8 [(0, 3)] -->\n",
       "<g id=\"node4\" class=\"node\">\n",
       "<title>π 8/8 [(0, 3)]</title>\n",
       "<polygon fill=\"none\" stroke=\"black\" points=\"516.5,-129.5 462.5,-129.5 462.5,-93.5 516.5,-93.5 516.5,-129.5\"/>\n",
       "<text text-anchor=\"middle\" x=\"489.5\" y=\"-106.45\" font-family=\"Times,serif\" font-size=\"14.00\">π 8/8</text>\n",
       "</g>\n",
       "<!-- WITH COLUMNS [&quot;existing_emi&quot;] [(0, 2)]&#45;&#45;π 8/8 [(0, 3)] -->\n",
       "<g id=\"edge3\" class=\"edge\">\n",
       "<title>WITH COLUMNS [&quot;existing_emi&quot;] [(0, 2)]--π 8/8 [(0, 3)]</title>\n",
       "<path fill=\"none\" stroke=\"black\" d=\"M489.5,-165.2C489.5,-154.35 489.5,-140.42 489.5,-129.6\"/>\n",
       "</g>\n",
       "<!-- TABLE\n",
       "π 8/22;\n",
       "σ &#45; [(0, 4)] -->\n",
       "<g id=\"node5\" class=\"node\">\n",
       "<title>TABLE\n",
       "π 8/22;\n",
       "σ - [(0, 4)]</title>\n",
       "<polygon fill=\"none\" stroke=\"black\" points=\"519.25,-57.5 459.75,-57.5 459.75,0 519.25,0 519.25,-57.5\"/>\n",
       "<text text-anchor=\"middle\" x=\"489.5\" y=\"-40.2\" font-family=\"Times,serif\" font-size=\"14.00\">TABLE</text>\n",
       "<text text-anchor=\"middle\" x=\"489.5\" y=\"-23.7\" font-family=\"Times,serif\" font-size=\"14.00\">π 8/22;</text>\n",
       "<text text-anchor=\"middle\" x=\"489.5\" y=\"-7.2\" font-family=\"Times,serif\" font-size=\"14.00\">σ -</text>\n",
       "</g>\n",
       "<!-- π 8/8 [(0, 3)]&#45;&#45;TABLE\n",
       "π 8/22;\n",
       "σ &#45; [(0, 4)] -->\n",
       "<g id=\"edge4\" class=\"edge\">\n",
       "<title>π 8/8 [(0, 3)]--TABLE\n",
       "π 8/22;\n",
       "σ - [(0, 4)]</title>\n",
       "<path fill=\"none\" stroke=\"black\" d=\"M489.5,-93.38C489.5,-83.1 489.5,-69.77 489.5,-57.97\"/>\n",
       "</g>\n",
       "</g>\n",
       "</svg>"
      ],
      "text/plain": [
       "<IPython.core.display.SVG object>"
      ]
     },
     "metadata": {},
     "output_type": "display_data"
    }
   ],
   "source": [
    "pipe.show_graph()"
   ]
  },
  {
   "cell_type": "code",
   "execution_count": null,
   "metadata": {},
   "outputs": [],
   "source": []
  },
  {
   "cell_type": "code",
   "execution_count": null,
   "metadata": {},
   "outputs": [],
   "source": []
  },
  {
   "cell_type": "code",
   "execution_count": null,
   "metadata": {},
   "outputs": [],
   "source": []
  },
  {
   "cell_type": "code",
   "execution_count": null,
   "metadata": {},
   "outputs": [],
   "source": [
    "df = pds.random_data(size=100_000, n_cols = 0).select(\n",
    "    pds.random_int(0, 200).alias(\"x\"),\n",
    "    pds.random_int(0, 200).alias(\"y\"),\n",
    "    pl.Series([1] * 50_000 + [2] * 50_000).alias(\"test\")\n",
    ")\n",
    "df.head()"
   ]
  },
  {
   "cell_type": "code",
   "execution_count": null,
   "metadata": {},
   "outputs": [],
   "source": [
    "df.select(\n",
    "    pds.query_lstsq_report(\"x\", target=\"y\", add_bias=True).alias(\"report\")\n",
    ")[\"report\"]"
   ]
  },
  {
   "cell_type": "code",
   "execution_count": null,
   "metadata": {},
   "outputs": [],
   "source": [
    "df.select(\n",
    "    pl.col(\"x\").qcut(10, left_closed=False, allow_duplicates=True, include_breaks=True)\n",
    "        .struct.field(\"brk\")\n",
    "        .value_counts()\n",
    "        .sort()\n",
    ").unnest(\"brk\")"
   ]
  },
  {
   "cell_type": "code",
   "execution_count": null,
   "metadata": {},
   "outputs": [],
   "source": []
  },
  {
   "cell_type": "code",
   "execution_count": null,
   "metadata": {},
   "outputs": [],
   "source": []
  },
  {
   "cell_type": "code",
   "execution_count": null,
   "metadata": {},
   "outputs": [],
   "source": [
    "df.select(\n",
    "    pl.corr(\"x\", \"y\")\n",
    ")"
   ]
  },
  {
   "cell_type": "code",
   "execution_count": null,
   "metadata": {},
   "outputs": [],
   "source": [
    "\n",
    "df.select(\n",
    "    pds.kendall_tau(\"x\", \"y\")\n",
    ")"
   ]
  },
  {
   "cell_type": "code",
   "execution_count": null,
   "metadata": {},
   "outputs": [],
   "source": [
    "from scipy.stats import kendalltau\n",
    "\n",
    "x = df[\"x\"].to_numpy()\n",
    "y = df[\"y\"].to_numpy()"
   ]
  },
  {
   "cell_type": "code",
   "execution_count": null,
   "metadata": {},
   "outputs": [],
   "source": [
    "%%timeit\n",
    "kendalltau(x,y, nan_policy=\"omit\")"
   ]
  },
  {
   "cell_type": "code",
   "execution_count": null,
   "metadata": {},
   "outputs": [],
   "source": [
    "df.sort(pl.col(\"x\").rank(method=\"random\")).select(\n",
    "    \"x\",\n",
    "    \"y\",\n",
    "    pl.col(\"y\").rank(method=\"max\").cast(pl.Float64).alias(\"r\"),\n",
    "    (-pl.col(\"y\")).rank(method=\"max\").cast(pl.Float64).alias(\"l\"),\n",
    ").with_columns(\n",
    "    pl.col(\"r\").diff().abs().alias(\"r_abs_diff\"),\n",
    "    (pl.col(\"l\") * (pl.len() - pl.col(\"l\"))).alias(\"l(n-l)\"),\n",
    ").select(\n",
    "    1 - (pl.len() / 2) * (pl.col(\"r_abs_diff\").sum() / pl.col(\"l(n-l)\").sum())\n",
    ")"
   ]
  }
 ],
 "metadata": {
  "kernelspec": {
   "display_name": ".venv",
   "language": "python",
   "name": "python3"
  },
  "language_info": {
   "codemirror_mode": {
    "name": "ipython",
    "version": 3
   },
   "file_extension": ".py",
   "mimetype": "text/x-python",
   "name": "python",
   "nbconvert_exporter": "python",
   "pygments_lexer": "ipython3",
   "version": "3.12.3"
  }
 },
 "nbformat": 4,
 "nbformat_minor": 2
}
