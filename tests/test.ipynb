{
 "cells": [
  {
   "cell_type": "code",
   "execution_count": 1,
   "metadata": {},
   "outputs": [],
   "source": [
    "import polars as pl\n",
    "import polars_ds as pds"
   ]
  },
  {
   "cell_type": "code",
   "execution_count": 2,
   "metadata": {},
   "outputs": [
    {
     "data": {
      "text/html": [
       "<div><style>\n",
       ".dataframe > thead > tr,\n",
       ".dataframe > tbody > tr {\n",
       "  text-align: right;\n",
       "  white-space: pre-wrap;\n",
       "}\n",
       "</style>\n",
       "<small>shape: (5, 3)</small><table border=\"1\" class=\"dataframe\"><thead><tr><th>a</th><th>b</th><th>c</th></tr><tr><td>str</td><td>i64</td><td>i32</td></tr></thead><tbody><tr><td>&quot;a&quot;</td><td>1</td><td>0</td></tr><tr><td>&quot;a&quot;</td><td>1</td><td>2</td></tr><tr><td>&quot;a&quot;</td><td>1</td><td>1</td></tr><tr><td>&quot;a&quot;</td><td>1</td><td>0</td></tr><tr><td>&quot;a&quot;</td><td>1</td><td>1</td></tr></tbody></table></div>"
      ],
      "text/plain": [
       "shape: (5, 3)\n",
       "┌─────┬─────┬─────┐\n",
       "│ a   ┆ b   ┆ c   │\n",
       "│ --- ┆ --- ┆ --- │\n",
       "│ str ┆ i64 ┆ i32 │\n",
       "╞═════╪═════╪═════╡\n",
       "│ a   ┆ 1   ┆ 0   │\n",
       "│ a   ┆ 1   ┆ 2   │\n",
       "│ a   ┆ 1   ┆ 1   │\n",
       "│ a   ┆ 1   ┆ 0   │\n",
       "│ a   ┆ 1   ┆ 1   │\n",
       "└─────┴─────┴─────┘"
      ]
     },
     "execution_count": 2,
     "metadata": {},
     "output_type": "execute_result"
    }
   ],
   "source": [
    "size = 100_000\n",
    "df = pl.DataFrame({\n",
    "    \"a\": ['a'] * 100 + ['b'] * 200 + ['c'] * 300,\n",
    "    \"b\": [1] * 100 + [2] * 200 + [3] * 300\n",
    "}).with_columns(\n",
    "    pds.random_int(0,3).alias(\"c\")\n",
    ")\n",
    "df.head()"
   ]
  },
  {
   "cell_type": "code",
   "execution_count": 10,
   "metadata": {},
   "outputs": [
    {
     "data": {
      "text/html": [
       "<div><style>\n",
       ".dataframe > thead > tr,\n",
       ".dataframe > tbody > tr {\n",
       "  text-align: right;\n",
       "  white-space: pre-wrap;\n",
       "}\n",
       "</style>\n",
       "<small>shape: (3, 3)</small><table border=\"1\" class=\"dataframe\"><thead><tr><th>a</th><th>min</th><th>max</th></tr><tr><td>str</td><td>i64</td><td>i64</td></tr></thead><tbody><tr><td>&quot;a&quot;</td><td>0</td><td>99</td></tr><tr><td>&quot;c&quot;</td><td>0</td><td>299</td></tr><tr><td>&quot;b&quot;</td><td>0</td><td>199</td></tr></tbody></table></div>"
      ],
      "text/plain": [
       "shape: (3, 3)\n",
       "┌─────┬─────┬─────┐\n",
       "│ a   ┆ min ┆ max │\n",
       "│ --- ┆ --- ┆ --- │\n",
       "│ str ┆ i64 ┆ i64 │\n",
       "╞═════╪═════╪═════╡\n",
       "│ a   ┆ 0   ┆ 99  │\n",
       "│ c   ┆ 0   ┆ 299 │\n",
       "│ b   ┆ 0   ┆ 199 │\n",
       "└─────┴─────┴─────┘"
      ]
     },
     "execution_count": 10,
     "metadata": {},
     "output_type": "execute_result"
    }
   ],
   "source": [
    "df.with_columns(\n",
    "    pl.int_range(0, pl.len()).shuffle().over(\"a\").alias(\"rank\")\n",
    ")\n",
    "\n",
    "# .group_by(\"a\").agg(\n",
    "#     pl.col(\"a\").alias(\"min\"),\n",
    "#     pl.col(\"a\").alias(\"max\"),\n",
    "# )"
   ]
  },
  {
   "cell_type": "code",
   "execution_count": null,
   "metadata": {},
   "outputs": [],
   "source": [
    "(\n",
    "    pl.concat(\n",
    "    [\n",
    "        df_sampled, \n",
    "        df_pl.select(pl.all().exclude([\"a\", \"row_idx\"]).take(df_sampled[\"row_idx\"]))\n",
    "    ], \n",
    "    how=\"horizontal\")\n",
    ")"
   ]
  },
  {
   "cell_type": "code",
   "execution_count": null,
   "metadata": {},
   "outputs": [],
   "source": [
    "(pl.concat([df_sampled, df_pl.select(pl.all().exclude([\"groups\", \"row_idx\"])\n",
    "                                     .take(df_sampled[\"row_idx\"]))], how=\"horizontal\"))"
   ]
  },
  {
   "cell_type": "code",
   "execution_count": null,
   "metadata": {},
   "outputs": [],
   "source": [
    "from typing import Optional\n",
    "def stratified_sample(df:pl.DataFrame, by:list[str], weights:Optional[str]) -> pl.DataFrame:\n",
    "\n",
    "\n",
    "    pass"
   ]
  },
  {
   "cell_type": "code",
   "execution_count": null,
   "metadata": {},
   "outputs": [],
   "source": []
  },
  {
   "cell_type": "code",
   "execution_count": null,
   "metadata": {},
   "outputs": [],
   "source": [
    "df = pl.DataFrame({\n",
    "    \"a\": [1,1,1,1,1,2,3,4,5],\n",
    "    \"b\": [1,2,3,4,5,6,7,8,9],\n",
    "})\n",
    "df"
   ]
  },
  {
   "cell_type": "code",
   "execution_count": null,
   "metadata": {},
   "outputs": [],
   "source": [
    "df.select(\n",
    "    pl.col(\"b\").rank(method=\"min\")\n",
    ")"
   ]
  },
  {
   "cell_type": "code",
   "execution_count": null,
   "metadata": {},
   "outputs": [],
   "source": []
  },
  {
   "cell_type": "code",
   "execution_count": null,
   "metadata": {},
   "outputs": [],
   "source": [
    "df = pl.DataFrame(\n",
    "    {\n",
    "        \"id\": [1, 2, 3],\n",
    "        \"val1\": [0.1, 0.2, 5.0],\n",
    "        \"val2\": [0.1, 0.3, 10.0],\n",
    "        \"val3\": [0.1, 0.4, 11.0],\n",
    "    }\n",
    ")\n",
    "df.head()"
   ]
  },
  {
   "cell_type": "code",
   "execution_count": null,
   "metadata": {},
   "outputs": [],
   "source": [
    "x = [0.5, 0.5, 0.5]\n",
    "dist = \"cosine\"\n",
    "k = 1\n",
    "\n",
    "test = df.filter(\n",
    "    pds.query_knn_filter(pl.col(\"val1\"), pl.col(\"val2\"), pl.col(\"val3\"), pt=x, dist=dist, k=k)\n",
    ").select(pl.col(\"id\"))\n",
    "test"
   ]
  },
  {
   "cell_type": "code",
   "execution_count": null,
   "metadata": {},
   "outputs": [],
   "source": []
  }
 ],
 "metadata": {
  "kernelspec": {
   "display_name": ".venv",
   "language": "python",
   "name": "python3"
  },
  "language_info": {
   "codemirror_mode": {
    "name": "ipython",
    "version": 3
   },
   "file_extension": ".py",
   "mimetype": "text/x-python",
   "name": "python",
   "nbconvert_exporter": "python",
   "pygments_lexer": "ipython3",
   "version": "3.12.3"
  }
 },
 "nbformat": 4,
 "nbformat_minor": 2
}
