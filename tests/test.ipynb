{
 "cells": [
  {
   "cell_type": "code",
   "execution_count": null,
   "metadata": {},
   "outputs": [],
   "source": [
    "import polars as pl\n",
    "import polars_ds as pds"
   ]
  },
  {
   "cell_type": "code",
   "execution_count": null,
   "metadata": {},
   "outputs": [],
   "source": [
    "df = pds.random_data(size=20_000, n_cols=0).select(\n",
    "    pds.random(0.0, 1.0).alias(\"x1\"),\n",
    "    pds.random(0.0, 1.0).alias(\"x2\"),\n",
    "    pds.random(0.0, 1.0).alias(\"x3\"),\n",
    "    pds.random(0.0, 1.0).alias(\"x4\"),\n",
    "    pds.random(0.0, 1.0).alias(\"x5\"),\n",
    "    pds.random_int(0, 3).cast(pl.String).alias(\"str\"),\n",
    "    pds.random_int(0, 100).alias(\"test\"),\n",
    ")\n",
    "df"
   ]
  },
  {
   "cell_type": "code",
   "execution_count": null,
   "metadata": {},
   "outputs": [],
   "source": [
    "# df = pl.DataFrame({\n",
    "#     \"a\": list(range(100))\n",
    "# })\n",
    "\n",
    "import numpy as np\n",
    "\n",
    "df = pl.DataFrame({\n",
    "    \"a\": np.sin(2 * np.pi * np.arange(3000) / 100)\n",
    "})"
   ]
  },
  {
   "cell_type": "code",
   "execution_count": null,
   "metadata": {},
   "outputs": [],
   "source": [
    "df.select(\n",
    "    pds.query_sample_entropy(\"a\")\n",
    ")"
   ]
  },
  {
   "cell_type": "code",
   "execution_count": null,
   "metadata": {},
   "outputs": [],
   "source": [
    "import tracemalloc"
   ]
  },
  {
   "cell_type": "code",
   "execution_count": null,
   "metadata": {},
   "outputs": [],
   "source": [
    "tracemalloc.start()\n",
    "df.with_columns(\n",
    "    pds.query_nb_cnt(\n",
    "        0.05, # radius \n",
    "        \"x1\", \"x2\", \"x3\", \"x4\", \"x5\", \n",
    "        dist = \"l2\",\n",
    "        parallel = True\n",
    "    ).alias(\"nb_cnt\")\n",
    ")\n",
    "print(tracemalloc.get_traced_memory())\n",
    "tracemalloc.stop()"
   ]
  },
  {
   "cell_type": "code",
   "execution_count": null,
   "metadata": {},
   "outputs": [],
   "source": [
    "\n",
    "df.with_columns(\n",
    "    pds.query_nb_cnt(\n",
    "        0.1, # radius \n",
    "        \"x1\", \"x2\", \"x3\", # \"x4\", \"x5\", \n",
    "        dist = \"l2\",\n",
    "        parallel = True\n",
    "    ).alias(\"nb_cnt\")\n",
    ")"
   ]
  },
  {
   "cell_type": "code",
   "execution_count": null,
   "metadata": {},
   "outputs": [],
   "source": [
    "tracemalloc.start()\n",
    "df.with_columns(\n",
    "    pds.query_nb_cnt2(\n",
    "        0.05, # radius \n",
    "        \"x1\", \"x2\", \"x3\", \"x4\", \"x5\", \n",
    "        dist = \"l2\",\n",
    "        parallel = True \n",
    "    ).alias(\"nb_cnt\")\n",
    ")\n",
    "print(tracemalloc.get_traced_memory())\n",
    "tracemalloc.stop()"
   ]
  },
  {
   "cell_type": "code",
   "execution_count": null,
   "metadata": {},
   "outputs": [],
   "source": [
    "\n",
    "df.with_columns(\n",
    "    pds.query_nb_cnt2(\n",
    "        0.1, # radius \n",
    "        \"x1\", \"x2\", \"x3\", # \"x4\", \"x5\", \n",
    "        dist = \"l2\",\n",
    "        parallel = True \n",
    "    ).alias(\"nb_cnt\")\n",
    ")"
   ]
  },
  {
   "cell_type": "code",
   "execution_count": null,
   "metadata": {},
   "outputs": [],
   "source": []
  }
 ],
 "metadata": {
  "kernelspec": {
   "display_name": ".venv",
   "language": "python",
   "name": "python3"
  },
  "language_info": {
   "codemirror_mode": {
    "name": "ipython",
    "version": 3
   },
   "file_extension": ".py",
   "mimetype": "text/x-python",
   "name": "python",
   "nbconvert_exporter": "python",
   "pygments_lexer": "ipython3",
   "version": "3.12.3"
  }
 },
 "nbformat": 4,
 "nbformat_minor": 2
}
