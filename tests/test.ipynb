{
 "cells": [
  {
   "cell_type": "code",
   "execution_count": 1,
   "metadata": {},
   "outputs": [],
   "source": [
    "import polars as pl\n",
    "import polars_ds as pds"
   ]
  },
  {
   "cell_type": "code",
   "execution_count": 2,
   "metadata": {},
   "outputs": [],
   "source": [
    "import numpy as np\n",
    "\n",
    "df = pl.DataFrame(\n",
    "    {\"x\": np.random.normal(size=500_000)}).with_row_index().with_columns(pl.lit(1).alias(\"const\")\n",
    ")\n",
    "\n",
    "kernel = np.array([1] * 100)"
   ]
  },
  {
   "cell_type": "code",
   "execution_count": 3,
   "metadata": {},
   "outputs": [
    {
     "data": {
      "text/html": [
       "<div><style>\n",
       ".dataframe > thead > tr,\n",
       ".dataframe > tbody > tr {\n",
       "  text-align: right;\n",
       "  white-space: pre-wrap;\n",
       "}\n",
       "</style>\n",
       "<small>shape: (500_099, 1)</small><table border=\"1\" class=\"dataframe\"><thead><tr><th>x</th></tr><tr><td>f64</td></tr></thead><tbody><tr><td>0.09674</td></tr><tr><td>0.098389</td></tr><tr><td>-0.832692</td></tr><tr><td>-2.528362</td></tr><tr><td>-2.449196</td></tr><tr><td>&hellip;</td></tr><tr><td>1.589634</td></tr><tr><td>0.713775</td></tr><tr><td>1.39032</td></tr><tr><td>-0.547153</td></tr><tr><td>0.244388</td></tr></tbody></table></div>"
      ],
      "text/plain": [
       "shape: (500_099, 1)\n",
       "┌───────────┐\n",
       "│ x         │\n",
       "│ ---       │\n",
       "│ f64       │\n",
       "╞═══════════╡\n",
       "│ 0.09674   │\n",
       "│ 0.098389  │\n",
       "│ -0.832692 │\n",
       "│ -2.528362 │\n",
       "│ -2.449196 │\n",
       "│ …         │\n",
       "│ 1.589634  │\n",
       "│ 0.713775  │\n",
       "│ 1.39032   │\n",
       "│ -0.547153 │\n",
       "│ 0.244388  │\n",
       "└───────────┘"
      ]
     },
     "execution_count": 3,
     "metadata": {},
     "output_type": "execute_result"
    }
   ],
   "source": [
    "df.select(pds.convolve(\"x\", kernel))\n"
   ]
  },
  {
   "cell_type": "code",
   "execution_count": 4,
   "metadata": {},
   "outputs": [
    {
     "data": {
      "text/html": [
       "<div><style>\n",
       ".dataframe > thead > tr,\n",
       ".dataframe > tbody > tr {\n",
       "  text-align: right;\n",
       "  white-space: pre-wrap;\n",
       "}\n",
       "</style>\n",
       "<small>shape: (500_099, 1)</small><table border=\"1\" class=\"dataframe\"><thead><tr><th>x</th></tr><tr><td>f64</td></tr></thead><tbody><tr><td>0.09674</td></tr><tr><td>0.098389</td></tr><tr><td>-0.832692</td></tr><tr><td>-2.528362</td></tr><tr><td>-2.449196</td></tr><tr><td>&hellip;</td></tr><tr><td>1.589634</td></tr><tr><td>0.713775</td></tr><tr><td>1.39032</td></tr><tr><td>-0.547153</td></tr><tr><td>0.244388</td></tr></tbody></table></div>"
      ],
      "text/plain": [
       "shape: (500_099, 1)\n",
       "┌───────────┐\n",
       "│ x         │\n",
       "│ ---       │\n",
       "│ f64       │\n",
       "╞═══════════╡\n",
       "│ 0.09674   │\n",
       "│ 0.098389  │\n",
       "│ -0.832692 │\n",
       "│ -2.528362 │\n",
       "│ -2.449196 │\n",
       "│ …         │\n",
       "│ 1.589634  │\n",
       "│ 0.713775  │\n",
       "│ 1.39032   │\n",
       "│ -0.547153 │\n",
       "│ 0.244388  │\n",
       "└───────────┘"
      ]
     },
     "execution_count": 4,
     "metadata": {},
     "output_type": "execute_result"
    }
   ],
   "source": [
    "df.select(pds.convolve(\"x\", kernel, parallel=True))"
   ]
  },
  {
   "cell_type": "code",
   "execution_count": 5,
   "metadata": {},
   "outputs": [],
   "source": [
    "from scipy.signal import convolve"
   ]
  },
  {
   "cell_type": "code",
   "execution_count": 6,
   "metadata": {},
   "outputs": [],
   "source": [
    "arr1 = df[\"x\"].to_numpy()\n",
    "arr2 = kernel"
   ]
  },
  {
   "cell_type": "code",
   "execution_count": 7,
   "metadata": {},
   "outputs": [
    {
     "data": {
      "text/plain": [
       "array([ 0.09673956,  0.0983889 , -0.83269205, ...,  1.39032038,\n",
       "       -0.5471529 ,  0.2443881 ])"
      ]
     },
     "execution_count": 7,
     "metadata": {},
     "output_type": "execute_result"
    }
   ],
   "source": [
    "convolve(arr1, arr2)"
   ]
  },
  {
   "cell_type": "code",
   "execution_count": 8,
   "metadata": {},
   "outputs": [
    {
     "name": "stdout",
     "output_type": "stream",
     "text": [
      "9.2 ms ± 37.3 µs per loop (mean ± std. dev. of 7 runs, 100 loops each)\n",
      "5.52 ms ± 38.2 µs per loop (mean ± std. dev. of 7 runs, 100 loops each)\n",
      "83.5 ms ± 246 µs per loop (mean ± std. dev. of 7 runs, 10 loops each)\n",
      "7.08 ms ± 35.7 µs per loop (mean ± std. dev. of 7 runs, 100 loops each)\n"
     ]
    }
   ],
   "source": [
    "%timeit df.select(pds.convolve(\"x\", kernel))\n",
    "%timeit df.select(pds.convolve(\"x\", kernel, parallel=True))\n",
    "%timeit df.select(pds.convolve(\"x\", kernel, method=\"fft\"))\n",
    "%timeit convolve(arr1, arr2)"
   ]
  },
  {
   "cell_type": "code",
   "execution_count": null,
   "metadata": {},
   "outputs": [],
   "source": []
  },
  {
   "cell_type": "code",
   "execution_count": null,
   "metadata": {},
   "outputs": [],
   "source": [
    "df = pds.random_data(size=100_000, n_cols = 0).select(\n",
    "    pds.random_int(0, 200).alias(\"x\"),\n",
    "    pds.random_int(0, 200).alias(\"y\"),\n",
    "    pl.Series([1] * 50_000 + list(range(50_000, 100_000))).alias(\"test\")\n",
    ")\n",
    "df.head()"
   ]
  },
  {
   "cell_type": "code",
   "execution_count": null,
   "metadata": {},
   "outputs": [],
   "source": [
    "df.select(\n",
    "    pl.col(\"x\").qcut(10, left_closed=False, allow_duplicates=True, include_breaks=True)\n",
    "        .struct.field(\"brk\")\n",
    "        .value_counts()\n",
    "        .sort()\n",
    ").unnest(\"brk\")"
   ]
  },
  {
   "cell_type": "code",
   "execution_count": null,
   "metadata": {},
   "outputs": [],
   "source": []
  },
  {
   "cell_type": "code",
   "execution_count": null,
   "metadata": {},
   "outputs": [],
   "source": []
  },
  {
   "cell_type": "code",
   "execution_count": null,
   "metadata": {},
   "outputs": [],
   "source": [
    "df.select(\n",
    "    pl.corr(\"x\", \"y\")\n",
    ")"
   ]
  },
  {
   "cell_type": "code",
   "execution_count": null,
   "metadata": {},
   "outputs": [],
   "source": [
    "\n",
    "df.select(\n",
    "    pds.kendall_tau(\"x\", \"y\")\n",
    ")"
   ]
  },
  {
   "cell_type": "code",
   "execution_count": null,
   "metadata": {},
   "outputs": [],
   "source": [
    "from scipy.stats import kendalltau\n",
    "\n",
    "x = df[\"x\"].to_numpy()\n",
    "y = df[\"y\"].to_numpy()"
   ]
  },
  {
   "cell_type": "code",
   "execution_count": null,
   "metadata": {},
   "outputs": [],
   "source": [
    "%%timeit\n",
    "kendalltau(x,y, nan_policy=\"omit\")"
   ]
  },
  {
   "cell_type": "code",
   "execution_count": null,
   "metadata": {},
   "outputs": [],
   "source": [
    "df.sort(pl.col(\"x\").rank(method=\"random\")).select(\n",
    "    \"x\",\n",
    "    \"y\",\n",
    "    pl.col(\"y\").rank(method=\"max\").cast(pl.Float64).alias(\"r\"),\n",
    "    (-pl.col(\"y\")).rank(method=\"max\").cast(pl.Float64).alias(\"l\"),\n",
    ").with_columns(\n",
    "    pl.col(\"r\").diff().abs().alias(\"r_abs_diff\"),\n",
    "    (pl.col(\"l\") * (pl.len() - pl.col(\"l\"))).alias(\"l(n-l)\"),\n",
    ").select(\n",
    "    1 - (pl.len() / 2) * (pl.col(\"r_abs_diff\").sum() / pl.col(\"l(n-l)\").sum())\n",
    ")"
   ]
  }
 ],
 "metadata": {
  "kernelspec": {
   "display_name": ".venv",
   "language": "python",
   "name": "python3"
  },
  "language_info": {
   "codemirror_mode": {
    "name": "ipython",
    "version": 3
   },
   "file_extension": ".py",
   "mimetype": "text/x-python",
   "name": "python",
   "nbconvert_exporter": "python",
   "pygments_lexer": "ipython3",
   "version": "3.12.3"
  }
 },
 "nbformat": 4,
 "nbformat_minor": 2
}
