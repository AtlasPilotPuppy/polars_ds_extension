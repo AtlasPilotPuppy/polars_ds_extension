{
 "cells": [
  {
   "cell_type": "code",
   "execution_count": 1,
   "metadata": {},
   "outputs": [],
   "source": [
    "import polars as pl\n",
    "import polars_ds as pds"
   ]
  },
  {
   "cell_type": "code",
   "execution_count": 2,
   "metadata": {},
   "outputs": [
    {
     "data": {
      "text/html": [
       "<div><style>\n",
       ".dataframe > thead > tr,\n",
       ".dataframe > tbody > tr {\n",
       "  text-align: right;\n",
       "  white-space: pre-wrap;\n",
       "}\n",
       "</style>\n",
       "<small>shape: (2_000, 5)</small><table border=\"1\" class=\"dataframe\"><thead><tr><th>x1</th><th>x2</th><th>x3</th><th>str</th><th>target</th></tr><tr><td>f64</td><td>f64</td><td>f64</td><td>str</td><td>i32</td></tr></thead><tbody><tr><td>0.135261</td><td>0.734492</td><td>0.138023</td><td>&quot;0&quot;</td><td>1</td></tr><tr><td>0.494527</td><td>0.424071</td><td>0.170102</td><td>&quot;0&quot;</td><td>1</td></tr><tr><td>0.867626</td><td>0.030233</td><td>0.040827</td><td>&quot;2&quot;</td><td>0</td></tr><tr><td>0.91988</td><td>0.390069</td><td>0.491981</td><td>&quot;0&quot;</td><td>0</td></tr><tr><td>0.539255</td><td>0.753887</td><td>0.278543</td><td>&quot;1&quot;</td><td>0</td></tr><tr><td>&hellip;</td><td>&hellip;</td><td>&hellip;</td><td>&hellip;</td><td>&hellip;</td></tr><tr><td>0.190402</td><td>0.149927</td><td>0.946048</td><td>&quot;2&quot;</td><td>1</td></tr><tr><td>0.274014</td><td>0.645709</td><td>0.909266</td><td>&quot;1&quot;</td><td>1</td></tr><tr><td>0.529722</td><td>0.203376</td><td>0.013951</td><td>&quot;0&quot;</td><td>0</td></tr><tr><td>0.894819</td><td>0.229344</td><td>0.991393</td><td>&quot;0&quot;</td><td>1</td></tr><tr><td>0.253267</td><td>0.155311</td><td>0.607711</td><td>&quot;1&quot;</td><td>0</td></tr></tbody></table></div>"
      ],
      "text/plain": [
       "shape: (2_000, 5)\n",
       "┌──────────┬──────────┬──────────┬─────┬────────┐\n",
       "│ x1       ┆ x2       ┆ x3       ┆ str ┆ target │\n",
       "│ ---      ┆ ---      ┆ ---      ┆ --- ┆ ---    │\n",
       "│ f64      ┆ f64      ┆ f64      ┆ str ┆ i32    │\n",
       "╞══════════╪══════════╪══════════╪═════╪════════╡\n",
       "│ 0.135261 ┆ 0.734492 ┆ 0.138023 ┆ 0   ┆ 1      │\n",
       "│ 0.494527 ┆ 0.424071 ┆ 0.170102 ┆ 0   ┆ 1      │\n",
       "│ 0.867626 ┆ 0.030233 ┆ 0.040827 ┆ 2   ┆ 0      │\n",
       "│ 0.91988  ┆ 0.390069 ┆ 0.491981 ┆ 0   ┆ 0      │\n",
       "│ 0.539255 ┆ 0.753887 ┆ 0.278543 ┆ 1   ┆ 0      │\n",
       "│ …        ┆ …        ┆ …        ┆ …   ┆ …      │\n",
       "│ 0.190402 ┆ 0.149927 ┆ 0.946048 ┆ 2   ┆ 1      │\n",
       "│ 0.274014 ┆ 0.645709 ┆ 0.909266 ┆ 1   ┆ 1      │\n",
       "│ 0.529722 ┆ 0.203376 ┆ 0.013951 ┆ 0   ┆ 0      │\n",
       "│ 0.894819 ┆ 0.229344 ┆ 0.991393 ┆ 0   ┆ 1      │\n",
       "│ 0.253267 ┆ 0.155311 ┆ 0.607711 ┆ 1   ┆ 0      │\n",
       "└──────────┴──────────┴──────────┴─────┴────────┘"
      ]
     },
     "execution_count": 2,
     "metadata": {},
     "output_type": "execute_result"
    }
   ],
   "source": [
    "df = pds.random_data(size=2000, n_cols=0).select(\n",
    "    pds.random(0.0, 1.0).alias(\"x1\"),\n",
    "    pds.random(0.0, 1.0).alias(\"x2\"),\n",
    "    pds.random(0.0, 1.0).alias(\"x3\"),\n",
    "    pds.random_int(0, 3).cast(pl.String).alias(\"str\"),\n",
    "    pds.random_int(0, 2).alias(\"target\"),\n",
    ")\n",
    "df"
   ]
  },
  {
   "cell_type": "code",
   "execution_count": 4,
   "metadata": {},
   "outputs": [
    {
     "data": {
      "text/html": [
       "<div><style>\n",
       ".dataframe > thead > tr,\n",
       ".dataframe > tbody > tr {\n",
       "  text-align: right;\n",
       "  white-space: pre-wrap;\n",
       "}\n",
       "</style>\n",
       "<small>shape: (2_000, 1)</small><table border=\"1\" class=\"dataframe\"><thead><tr><th>str</th></tr><tr><td>f64</td></tr></thead><tbody><tr><td>0.050045</td></tr><tr><td>0.050045</td></tr><tr><td>0.095077</td></tr><tr><td>0.050045</td></tr><tr><td>-0.145258</td></tr><tr><td>&hellip;</td></tr><tr><td>0.095077</td></tr><tr><td>-0.145258</td></tr><tr><td>0.050045</td></tr><tr><td>0.050045</td></tr><tr><td>-0.145258</td></tr></tbody></table></div>"
      ],
      "text/plain": [
       "shape: (2_000, 1)\n",
       "┌───────────┐\n",
       "│ str       │\n",
       "│ ---       │\n",
       "│ f64       │\n",
       "╞═══════════╡\n",
       "│ 0.050045  │\n",
       "│ 0.050045  │\n",
       "│ 0.095077  │\n",
       "│ 0.050045  │\n",
       "│ -0.145258 │\n",
       "│ …         │\n",
       "│ 0.095077  │\n",
       "│ -0.145258 │\n",
       "│ 0.050045  │\n",
       "│ 0.050045  │\n",
       "│ -0.145258 │\n",
       "└───────────┘"
      ]
     },
     "execution_count": 4,
     "metadata": {},
     "output_type": "execute_result"
    }
   ],
   "source": [
    "import polars_ds.transforms as t\n",
    "\n",
    "df1 = df.select(\n",
    "    t.woe_encode(df, [\"str\"], target = \"target\")\n",
    ")\n",
    "df1"
   ]
  },
  {
   "cell_type": "code",
   "execution_count": 7,
   "metadata": {},
   "outputs": [
    {
     "data": {
      "text/html": [
       "<div><style>\n",
       ".dataframe > thead > tr,\n",
       ".dataframe > tbody > tr {\n",
       "  text-align: right;\n",
       "  white-space: pre-wrap;\n",
       "}\n",
       "</style>\n",
       "<small>shape: (2_000, 1)</small><table border=\"1\" class=\"dataframe\"><thead><tr><th>str</th></tr><tr><td>f64</td></tr></thead><tbody><tr><td>0.050045</td></tr><tr><td>0.050045</td></tr><tr><td>0.095077</td></tr><tr><td>0.050045</td></tr><tr><td>-0.145258</td></tr><tr><td>&hellip;</td></tr><tr><td>0.095077</td></tr><tr><td>-0.145258</td></tr><tr><td>0.050045</td></tr><tr><td>0.050045</td></tr><tr><td>-0.145258</td></tr></tbody></table></div>"
      ],
      "text/plain": [
       "shape: (2_000, 1)\n",
       "┌───────────┐\n",
       "│ str       │\n",
       "│ ---       │\n",
       "│ f64       │\n",
       "╞═══════════╡\n",
       "│ 0.050045  │\n",
       "│ 0.050045  │\n",
       "│ 0.095077  │\n",
       "│ 0.050045  │\n",
       "│ -0.145258 │\n",
       "│ …         │\n",
       "│ 0.095077  │\n",
       "│ -0.145258 │\n",
       "│ 0.050045  │\n",
       "│ 0.050045  │\n",
       "│ -0.145258 │\n",
       "└───────────┘"
      ]
     },
     "execution_count": 7,
     "metadata": {},
     "output_type": "execute_result"
    }
   ],
   "source": [
    "from category_encoders import WOEEncoder\n",
    "\n",
    "X = df[\"str\"].to_numpy()\n",
    "y = df[\"target\"].to_numpy()\n",
    "\n",
    "enc = WOEEncoder()\n",
    "df2 = pl.from_pandas(enc.fit_transform(X, y))\n",
    "df2.columns = [\"str\"]\n",
    "df2"
   ]
  },
  {
   "cell_type": "code",
   "execution_count": null,
   "metadata": {},
   "outputs": [],
   "source": []
  },
  {
   "cell_type": "code",
   "execution_count": null,
   "metadata": {},
   "outputs": [],
   "source": [
    "df.select(\n",
    "    pds.query_woe_discrete(\"str\", \"target\")\n",
    ").unnest('str')"
   ]
  },
  {
   "cell_type": "code",
   "execution_count": null,
   "metadata": {},
   "outputs": [],
   "source": [
    "df.select(\n",
    "    pds.query_iv_discrete(\"str\", \"target\", return_sum = False)\n",
    ").unnest(\"str\")"
   ]
  },
  {
   "cell_type": "code",
   "execution_count": null,
   "metadata": {},
   "outputs": [],
   "source": [
    "df.select(\n",
    "    pds.query_iv(\"str\", \"target\", return_sum = False)\n",
    ")"
   ]
  },
  {
   "cell_type": "code",
   "execution_count": null,
   "metadata": {},
   "outputs": [],
   "source": [
    "df.select(\n",
    "    pl.col(\"str\")\n",
    ")"
   ]
  }
 ],
 "metadata": {
  "kernelspec": {
   "display_name": ".venv",
   "language": "python",
   "name": "python3"
  },
  "language_info": {
   "codemirror_mode": {
    "name": "ipython",
    "version": 3
   },
   "file_extension": ".py",
   "mimetype": "text/x-python",
   "name": "python",
   "nbconvert_exporter": "python",
   "pygments_lexer": "ipython3",
   "version": "3.12.3"
  }
 },
 "nbformat": 4,
 "nbformat_minor": 2
}
