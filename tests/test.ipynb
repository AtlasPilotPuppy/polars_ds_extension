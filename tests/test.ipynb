{
 "cells": [
  {
   "cell_type": "code",
   "execution_count": null,
   "id": "529f4422-5c3a-4bd6-abe0-a15edfc62abb",
   "metadata": {},
   "outputs": [],
   "source": [
    "import polars as pl\n",
    "import numpy as np\n",
    "import polars_ds as pld"
   ]
  },
  {
   "cell_type": "code",
   "execution_count": null,
   "id": "58cd3689",
   "metadata": {},
   "outputs": [],
   "source": [
    "df = pl.DataFrame({\n",
    "    \"id\": range(1000),\n",
    "    \"val1\": np.random.random(size=1000), \n",
    "    \"val2\": np.random.random(size=1000), \n",
    "    \"val3\": np.random.random(size=1000),\n",
    "    \"r\": np.random.random(size=1000),\n",
    "    \"rh\": np.random.random(size=1000)*10,\n",
    "})"
   ]
  },
  {
   "cell_type": "code",
   "execution_count": null,
   "id": "f15244a7",
   "metadata": {},
   "outputs": [],
   "source": [
    "df2 = df.with_columns(\n",
    "    pl.col(\"id\").num.query_radius_ptwise(\n",
    "        pl.col(\"val1\"), pl.col(\"val2\"), pl.col(\"val3\"), # Columns used as the coordinates in n-d space\n",
    "        r = 0.1, \n",
    "        dist = \"cosine\", # actually this is squared l2\n",
    "        parallel = True\n",
    "    ).alias(\"best friends\"),\n",
    "    \n",
    "    # pl.col(\"id\").cast(pl.UInt64)\n",
    ")\n",
    "df2.head()"
   ]
  },
  {
   "cell_type": "code",
   "execution_count": null,
   "id": "11011e91",
   "metadata": {},
   "outputs": [],
   "source": [
    "df2.select(\n",
    "    pl.col(\"best friends\").list.set_difference(pl.concat_list(pl.col(\"id\")))\n",
    ")"
   ]
  },
  {
   "cell_type": "code",
   "execution_count": null,
   "id": "cd1e7637",
   "metadata": {},
   "outputs": [],
   "source": [
    "df2.head()"
   ]
  },
  {
   "cell_type": "code",
   "execution_count": null,
   "id": "5a21dcc0",
   "metadata": {},
   "outputs": [],
   "source": [
    "df2.select(\n",
    "    pl.col(\"best friends\").graph.eigen_centrality().arg_max()\n",
    ")"
   ]
  },
  {
   "cell_type": "code",
   "execution_count": null,
   "id": "55d934a1",
   "metadata": {},
   "outputs": [],
   "source": []
  },
  {
   "cell_type": "code",
   "execution_count": null,
   "id": "b572c41c",
   "metadata": {},
   "outputs": [],
   "source": [
    "df = pl.DataFrame({\n",
    "    \"a\": range(1000),\n",
    "    \"b\": [\"cat\"] * 200 + [\"dogs\"] * 500 + [\"lizards\"] * 300,\n",
    "    \"y\": np.random.randint(0, high = 2, size = 1000)\n",
    "})\n",
    "df.head()"
   ]
  },
  {
   "cell_type": "code",
   "execution_count": null,
   "id": "7a317edf",
   "metadata": {},
   "outputs": [],
   "source": [
    "df = pl.DataFrame({\n",
    "    \"a\": range(5000),\n",
    "    \"b\": [np.sqrt(x) for x in range(5000)],\n",
    "    \"y\": 0.1 * np.random.random(size=5000) + np.array(list(range(5000)))\n",
    "})\n",
    "df.head()"
   ]
  },
  {
   "cell_type": "code",
   "execution_count": null,
   "id": "e9f08701",
   "metadata": {},
   "outputs": [],
   "source": [
    "\n",
    "df.select(\n",
    "    pl.col(\"y\").num.lstsq_report(\n",
    "        pl.col(\"a\"), pl.col(\"b\"),\n",
    "        add_bias = False\n",
    "    ).alias(\"report\")\n",
    ").unnest(\"report\")"
   ]
  },
  {
   "cell_type": "code",
   "execution_count": null,
   "id": "60dad133",
   "metadata": {},
   "outputs": [],
   "source": [
    "from statsmodels.api import OLS\n",
    "target = df[\"y\"].to_numpy()\n",
    "data = df.select(\"a\", \"b\").to_numpy()"
   ]
  },
  {
   "cell_type": "code",
   "execution_count": null,
   "id": "0a1e3725",
   "metadata": {},
   "outputs": [],
   "source": [
    "df.select(\n",
    "    pl.col(\"a1\").num.psi(pl.col(\"a2\"))\n",
    ").item(0,0)"
   ]
  },
  {
   "cell_type": "code",
   "execution_count": null,
   "id": "8cf1274d",
   "metadata": {},
   "outputs": [],
   "source": [
    "df.select(\n",
    "    pl.col(\"b\").num.psi_discrete(pl.col(\"a\"))\n",
    ")"
   ]
  },
  {
   "cell_type": "code",
   "execution_count": null,
   "id": "acc43165",
   "metadata": {},
   "outputs": [],
   "source": [
    "df.select(\n",
    "    pl.col(\"a\").value_counts()\n",
    ").unnest(\"a\")"
   ]
  },
  {
   "cell_type": "code",
   "execution_count": null,
   "id": "f6f9f5e6",
   "metadata": {},
   "outputs": [],
   "source": [
    "pl.col(\"a\").value_counts().name"
   ]
  }
 ],
 "metadata": {
  "kernelspec": {
   "display_name": "Python 3 (ipykernel)",
   "language": "python",
   "name": "python3"
  },
  "language_info": {
   "codemirror_mode": {
    "name": "ipython",
    "version": 3
   },
   "file_extension": ".py",
   "mimetype": "text/x-python",
   "name": "python",
   "nbconvert_exporter": "python",
   "pygments_lexer": "ipython3",
   "version": "3.11.6"
  }
 },
 "nbformat": 4,
 "nbformat_minor": 5
}
