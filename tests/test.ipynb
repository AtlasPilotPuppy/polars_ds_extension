{
 "cells": [
  {
   "cell_type": "code",
   "execution_count": 1,
   "metadata": {},
   "outputs": [],
   "source": [
    "import polars as pl\n",
    "import polars_ds as pds"
   ]
  },
  {
   "cell_type": "code",
   "execution_count": 2,
   "metadata": {},
   "outputs": [
    {
     "data": {
      "text/html": [
       "<div><style>\n",
       ".dataframe > thead > tr,\n",
       ".dataframe > tbody > tr {\n",
       "  text-align: right;\n",
       "  white-space: pre-wrap;\n",
       "}\n",
       "</style>\n",
       "<small>shape: (3, 4)</small><table border=\"1\" class=\"dataframe\"><thead><tr><th>id</th><th>val1</th><th>val2</th><th>val3</th></tr><tr><td>i64</td><td>f64</td><td>f64</td><td>f64</td></tr></thead><tbody><tr><td>1</td><td>0.1</td><td>0.1</td><td>0.1</td></tr><tr><td>2</td><td>0.2</td><td>0.3</td><td>0.4</td></tr><tr><td>3</td><td>5.0</td><td>10.0</td><td>11.0</td></tr></tbody></table></div>"
      ],
      "text/plain": [
       "shape: (3, 4)\n",
       "┌─────┬──────┬──────┬──────┐\n",
       "│ id  ┆ val1 ┆ val2 ┆ val3 │\n",
       "│ --- ┆ ---  ┆ ---  ┆ ---  │\n",
       "│ i64 ┆ f64  ┆ f64  ┆ f64  │\n",
       "╞═════╪══════╪══════╪══════╡\n",
       "│ 1   ┆ 0.1  ┆ 0.1  ┆ 0.1  │\n",
       "│ 2   ┆ 0.2  ┆ 0.3  ┆ 0.4  │\n",
       "│ 3   ┆ 5.0  ┆ 10.0 ┆ 11.0 │\n",
       "└─────┴──────┴──────┴──────┘"
      ]
     },
     "execution_count": 2,
     "metadata": {},
     "output_type": "execute_result"
    }
   ],
   "source": [
    "df = pl.DataFrame(\n",
    "    {\n",
    "        \"id\": [1, 2, 3],\n",
    "        \"val1\": [0.1, 0.2, 5.0],\n",
    "        \"val2\": [0.1, 0.3, 10.0],\n",
    "        \"val3\": [0.1, 0.4, 11.0],\n",
    "    }\n",
    ")\n",
    "df.head()"
   ]
  },
  {
   "cell_type": "code",
   "execution_count": null,
   "metadata": {},
   "outputs": [],
   "source": []
  },
  {
   "cell_type": "code",
   "execution_count": null,
   "metadata": {},
   "outputs": [],
   "source": []
  }
 ],
 "metadata": {
  "kernelspec": {
   "display_name": ".venv",
   "language": "python",
   "name": "python3"
  },
  "language_info": {
   "codemirror_mode": {
    "name": "ipython",
    "version": 3
   },
   "file_extension": ".py",
   "mimetype": "text/x-python",
   "name": "python",
   "nbconvert_exporter": "python",
   "pygments_lexer": "ipython3",
   "version": "3.12.3"
  }
 },
 "nbformat": 4,
 "nbformat_minor": 2
}
