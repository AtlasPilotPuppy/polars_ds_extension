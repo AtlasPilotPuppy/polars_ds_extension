{
 "cells": [
  {
   "cell_type": "code",
   "execution_count": 1,
   "id": "529f4422-5c3a-4bd6-abe0-a15edfc62abb",
   "metadata": {},
   "outputs": [],
   "source": [
    "import polars as pl\n",
    "import numpy as np\n",
    "import polars_ds as pld"
   ]
  },
  {
   "cell_type": "code",
   "execution_count": null,
   "id": "835d8bdf",
   "metadata": {},
   "outputs": [],
   "source": [
    "size = 2000\n",
    "df = pl.DataFrame({\n",
    "    \"a\": np.random.random(size=size),\n",
    "})\n",
    "df.head()"
   ]
  },
  {
   "cell_type": "code",
   "execution_count": null,
   "id": "074ddee9",
   "metadata": {},
   "outputs": [],
   "source": [
    "%%timeit\n",
    "df.select(\n",
    "    pl.col(\"a\").num.approximate_entropy(m=2, filtering_level = 0.9, parallel=True)\n",
    ")"
   ]
  },
  {
   "cell_type": "code",
   "execution_count": null,
   "id": "56265964",
   "metadata": {},
   "outputs": [],
   "source": [
    "\n",
    "df.select(\n",
    "    pl.col(\"test\").num.sample_entropy(m=2)\n",
    ")\n"
   ]
  },
  {
   "cell_type": "code",
   "execution_count": 2,
   "id": "0fbc1c14",
   "metadata": {},
   "outputs": [
    {
     "data": {
      "text/html": [
       "<div><style>\n",
       ".dataframe > thead > tr,\n",
       ".dataframe > tbody > tr {\n",
       "  text-align: right;\n",
       "  white-space: pre-wrap;\n",
       "}\n",
       "</style>\n",
       "<small>shape: (5, 5)</small><table border=\"1\" class=\"dataframe\"><thead><tr><th>market_id</th><th>group1</th><th>group2</th><th>category_1</th><th>category_2</th></tr><tr><td>i64</td><td>f64</td><td>f64</td><td>i64</td><td>i64</td></tr></thead><tbody><tr><td>0</td><td>0.863211</td><td>0.05146</td><td>2</td><td>0</td></tr><tr><td>1</td><td>0.375187</td><td>0.841213</td><td>0</td><td>4</td></tr><tr><td>2</td><td>0.731748</td><td>0.775747</td><td>2</td><td>2</td></tr><tr><td>0</td><td>0.366678</td><td>0.236327</td><td>1</td><td>3</td></tr><tr><td>1</td><td>0.521338</td><td>0.728827</td><td>3</td><td>6</td></tr></tbody></table></div>"
      ],
      "text/plain": [
       "shape: (5, 5)\n",
       "┌───────────┬──────────┬──────────┬────────────┬────────────┐\n",
       "│ market_id ┆ group1   ┆ group2   ┆ category_1 ┆ category_2 │\n",
       "│ ---       ┆ ---      ┆ ---      ┆ ---        ┆ ---        │\n",
       "│ i64       ┆ f64      ┆ f64      ┆ i64        ┆ i64        │\n",
       "╞═══════════╪══════════╪══════════╪════════════╪════════════╡\n",
       "│ 0         ┆ 0.863211 ┆ 0.05146  ┆ 2          ┆ 0          │\n",
       "│ 1         ┆ 0.375187 ┆ 0.841213 ┆ 0          ┆ 4          │\n",
       "│ 2         ┆ 0.731748 ┆ 0.775747 ┆ 2          ┆ 2          │\n",
       "│ 0         ┆ 0.366678 ┆ 0.236327 ┆ 1          ┆ 3          │\n",
       "│ 1         ┆ 0.521338 ┆ 0.728827 ┆ 3          ┆ 6          │\n",
       "└───────────┴──────────┴──────────┴────────────┴────────────┘"
      ]
     },
     "execution_count": 2,
     "metadata": {},
     "output_type": "execute_result"
    }
   ],
   "source": [
    "size = 5000\n",
    "df = pl.DataFrame({\n",
    "    \"market_id\": range(size),\n",
    "    \"group1\": np.random.random(size=size),\n",
    "    \"group2\": np.random.random(size=size),\n",
    "    \"category_1\": np.random.randint(low=0, high=5, size=size),\n",
    "    \"category_2\":np.random.randint(low=0, high=10, size=size)\n",
    "}).with_columns(\n",
    "    pl.col(\"market_id\").mod(3)\n",
    ")\n",
    "df.head(5)"
   ]
  },
  {
   "cell_type": "code",
   "execution_count": 3,
   "id": "1d84105b",
   "metadata": {},
   "outputs": [
    {
     "data": {
      "text/html": [
       "<div><style>\n",
       ".dataframe > thead > tr,\n",
       ".dataframe > tbody > tr {\n",
       "  text-align: right;\n",
       "  white-space: pre-wrap;\n",
       "}\n",
       "</style>\n",
       "<small>shape: (3, 4)</small><table border=\"1\" class=\"dataframe\"><thead><tr><th>market_id</th><th>t-test</th><th>chi2-test</th><th>f-test</th></tr><tr><td>i64</td><td>struct[2]</td><td>struct[2]</td><td>struct[2]</td></tr></thead><tbody><tr><td>0</td><td>{-0.678227,0.497675}</td><td>{27.55702,0.842609}</td><td>{3.304733,0.010454}</td></tr><tr><td>1</td><td>{1.049668,0.293947}</td><td>{28.920644,0.792821}</td><td>{1.081389,0.364112}</td></tr><tr><td>2</td><td>{0.246265,0.805493}</td><td>{27.843576,0.832729}</td><td>{0.851298,0.492663}</td></tr></tbody></table></div>"
      ],
      "text/plain": [
       "shape: (3, 4)\n",
       "┌───────────┬──────────────────────┬──────────────────────┬─────────────────────┐\n",
       "│ market_id ┆ t-test               ┆ chi2-test            ┆ f-test              │\n",
       "│ ---       ┆ ---                  ┆ ---                  ┆ ---                 │\n",
       "│ i64       ┆ struct[2]            ┆ struct[2]            ┆ struct[2]           │\n",
       "╞═══════════╪══════════════════════╪══════════════════════╪═════════════════════╡\n",
       "│ 0         ┆ {-0.678227,0.497675} ┆ {27.55702,0.842609}  ┆ {3.304733,0.010454} │\n",
       "│ 1         ┆ {1.049668,0.293947}  ┆ {28.920644,0.792821} ┆ {1.081389,0.364112} │\n",
       "│ 2         ┆ {0.246265,0.805493}  ┆ {27.843576,0.832729} ┆ {0.851298,0.492663} │\n",
       "└───────────┴──────────────────────┴──────────────────────┴─────────────────────┘"
      ]
     },
     "execution_count": 3,
     "metadata": {},
     "output_type": "execute_result"
    }
   ],
   "source": [
    "# In segment T-test, chi2 test, F test made easy!\n",
    "df.group_by(\"market_id\").agg(\n",
    "    pl.col(\"group1\").stats.ttest_ind(pl.col(\"group2\"), equal_var = True).alias(\"t-test\"),\n",
    "    pl.col(\"category_1\").stats.chi2(pl.col(\"category_2\")).alias(\"chi2-test\"),\n",
    "    pl.col(\"category_1\").stats.f_test(pl.col(\"group1\")).alias(\"f-test\")\n",
    ")"
   ]
  },
  {
   "cell_type": "code",
   "execution_count": null,
   "id": "99619f8b",
   "metadata": {},
   "outputs": [],
   "source": [
    "df.select(\n",
    "    pld.nb_cnt(\n",
    "        0.1, # distance is always the first argument\n",
    "        pl.col(\"val1\"), pl.col(\"val2\"), pl.col(\"val3\"), # Columns used as the coordinates in n-d space\n",
    "        dist = \"inf\", parallel = True \n",
    "    )\n",
    ")"
   ]
  },
  {
   "cell_type": "code",
   "execution_count": null,
   "id": "40379799",
   "metadata": {},
   "outputs": [],
   "source": [
    "df.select(\n",
    "    pld.haversine(pl.col(\"val1\"), pl.col(\"val2\"), pl.col(\"val3\"), pl.col(\"val4\"))\n",
    ")"
   ]
  },
  {
   "cell_type": "code",
   "execution_count": null,
   "id": "327a077c",
   "metadata": {},
   "outputs": [],
   "source": [
    "df.filter(\n",
    "    pld.query_radius(\n",
    "        [0,0],\n",
    "        pl.col(\"val1\"), pl.col(\"val2\"), # pl.col(\"val3\"),\n",
    "        radius = 10, dist = \"h\"\n",
    "    )\n",
    ")"
   ]
  },
  {
   "cell_type": "code",
   "execution_count": null,
   "id": "e6e6d2ed",
   "metadata": {},
   "outputs": [],
   "source": [
    "import polars_ds  # noqa: F811\n",
    "\n",
    "print(\n",
    "    df.with_columns(\n",
    "        pl.col(\"id\").cast(pl.UInt64).num.knn_ptwise(\n",
    "            pl.col(\"val1\"), pl.col(\"val2\"), \n",
    "            k = 3, dist = \"haversine\", parallel = True\n",
    "        ).alias(\"nearest neighbor ids\")\n",
    "    ).head()\n",
    ")"
   ]
  },
  {
   "cell_type": "code",
   "execution_count": null,
   "id": "2c00b757",
   "metadata": {},
   "outputs": [],
   "source": [
    "import numpy as np\n",
    "from scipy import signal\n",
    "rng = np.random.default_rng()\n",
    "\n",
    "npoints = 10\n",
    "\n",
    "noise = rng.standard_normal(npoints)\n",
    "\n",
    "x = 3 + 2*np.linspace(0, 1, npoints) + noise\n",
    "\n",
    "df = pl.DataFrame({\n",
    "    \"test\": x,\n",
    "    \"entity_id\": [1] *  5 + [2] * 5\n",
    "})\n",
    "df.head()"
   ]
  },
  {
   "cell_type": "code",
   "execution_count": null,
   "id": "a0a9731d",
   "metadata": {},
   "outputs": [],
   "source": [
    "import polars as pl\n",
    "import polars_ds\n",
    "\n",
    "df = pl.DataFrame({\n",
    "    \"test\": x,\n",
    "    \"entity_id\": [1] *  5 + [2] * 5\n",
    "})\n",
    "# And is 5x faster than Scipy.signal detrend on larger time series\n",
    "df.select(\n",
    "    pl.col(\"entity_id\"),\n",
    "    pl.col(\"test\").num.detrend().over(pl.col(\"entity_id\")).alias(\"test_detrended\") # linear detrend\n",
    ")"
   ]
  },
  {
   "cell_type": "code",
   "execution_count": null,
   "id": "b5263aa7",
   "metadata": {},
   "outputs": [],
   "source": [
    "%timeit signal.detrend(x)"
   ]
  },
  {
   "cell_type": "code",
   "execution_count": null,
   "id": "e62819c1",
   "metadata": {},
   "outputs": [],
   "source": [
    "%timeit df.select(pl.col(\"test\").num.detrend()).head()"
   ]
  },
  {
   "cell_type": "code",
   "execution_count": null,
   "id": "b258c159",
   "metadata": {},
   "outputs": [],
   "source": [
    "df.select(pl.col(\"test\").num.detrend2()).head()"
   ]
  },
  {
   "cell_type": "code",
   "execution_count": null,
   "id": "e00071b8",
   "metadata": {},
   "outputs": [],
   "source": [
    "df = pl.DataFrame({\n",
    "    \"c\":[[0.1, 0.2], [0.5, 0.5], [-2, 2]],\n",
    "    \"z\":[[0.1, 0.2], [0.5, 0.5], [-2, 2]]\n",
    "})\n",
    "df.head()"
   ]
  },
  {
   "cell_type": "code",
   "execution_count": null,
   "metadata": {},
   "outputs": [],
   "source": [
    "df = pl.DataFrame({\n",
    "    \"a\": list(range(10)) + [None] # Reference column\n",
    "}).with_columns(\n",
    "    pl.col(\"a\").stats.rand_int(low=1., high=10, respect_null=True).alias(\"rand_int\"),\n",
    "    pl.col(\"a\").stats.sample_uniform(low=1., high=3.).alias(\"uniform\"),\n",
    "    pl.col(\"a\").stats.sample_normal(respect_null=True).alias(\"normal1\"),\n",
    "    pl.col(\"a\").stats.sample_normal(mean = 2, std = 0.5).alias(\"normal2\"),\n",
    "    pl.col(\"a\").stats.sample_exp(lam = 1.0).alias(\"exp\"),\n",
    "    pl.col(\"a\").stats.sample_binomial(n = 10, p = 0.5).alias(\"binomial\"),\n",
    "    pl.col(\"a\").stats.rand_str(min_size = 1, max_size = 10, respect_null=True).alias(\"rand_str\")\n",
    ")\n",
    "df"
   ]
  },
  {
   "cell_type": "code",
   "execution_count": null,
   "id": "d59253e2",
   "metadata": {},
   "outputs": [],
   "source": [
    "df.select(\n",
    "    pl.col(\"a\").stats.f_stats(pl.col(\"b\"), pl.col(\"c\"))\n",
    ").item(0,0)"
   ]
  },
  {
   "cell_type": "code",
   "execution_count": null,
   "id": "bf70063f",
   "metadata": {},
   "outputs": [],
   "source": [
    "\n",
    "df.select(\n",
    "    pl.col(\"a\").stats.f_test(pl.col(\"b\"))\n",
    ").item(0,0)"
   ]
  },
  {
   "cell_type": "code",
   "execution_count": null,
   "id": "a7fc43a6",
   "metadata": {},
   "outputs": [],
   "source": [
    "from sklearn.feature_selection import f_regression, f_classif"
   ]
  },
  {
   "cell_type": "code",
   "execution_count": null,
   "id": "28dde110",
   "metadata": {},
   "outputs": [],
   "source": [
    "f_classif(df[\"b\"].to_numpy().reshape(-1,1), df[\"a\"].to_numpy())"
   ]
  },
  {
   "cell_type": "code",
   "execution_count": null,
   "id": "dabe70c2",
   "metadata": {},
   "outputs": [],
   "source": [
    "f_classif(df[\"c\"].to_numpy().reshape(-1,1), df[\"a\"].to_numpy())"
   ]
  },
  {
   "cell_type": "code",
   "execution_count": null,
   "metadata": {},
   "outputs": [],
   "source": [
    "df.select(\n",
    "    pl.col(\"a\").str.sorensen_dice(pl.col(\"b\"))\n",
    ")"
   ]
  },
  {
   "cell_type": "code",
   "execution_count": null,
   "metadata": {},
   "outputs": [],
   "source": [
    "df.select(\n",
    "    pl.col(\"a\").num.list_jaccard(pl.col(\"b\"))\n",
    ")"
   ]
  },
  {
   "cell_type": "code",
   "execution_count": null,
   "id": "a41a16a0-7559-4ec4-bddd-e98c40126f54",
   "metadata": {},
   "outputs": [],
   "source": [
    "df = pl.DataFrame({\n",
    "    \"a\":[\"a\", \"b\", \"c\", \"c\", \"c\", \"c\", \"c\", \"c\", \"c\", \"c\", \"c\", \"c\", \"c\", \"c\"],\n",
    "    \"b\":[\"a\", \"b\", \"c\", \"d\", \"d\", \"d\", \"d\", \"d\", \"d\", \"d\", \"d\", \"d\", \"d\", \"d\"]\n",
    "})\n",
    "df.head()"
   ]
  },
  {
   "cell_type": "code",
   "execution_count": null,
   "metadata": {},
   "outputs": [],
   "source": [
    "df.select(\n",
    "    pl.concat_str(pl.col(\"a\"), pl.col(\"b\"))\n",
    ")"
   ]
  },
  {
   "cell_type": "code",
   "execution_count": null,
   "metadata": {},
   "outputs": [],
   "source": [
    "df = pl.DataFrame({\n",
    "    \"a\":[\"a\", \"b\", \"c\", \"c\", \"c\", \"c\", \"c\", \"c\", \"c\", \"c\", \"c\", \"c\", \"c\", \"c\"],\n",
    "    \"b\":[\"a\", \"b\", \"c\", \"d\", \"d\", \"d\", \"d\", \"d\", \"d\", \"d\", \"d\", \"d\", \"d\", \"d\"]\n",
    "})\n",
    "vc = pl.col(\"a\").value_counts(parallel=False, sort=True)\n",
    "to_merge:pl.Expr = (\n",
    "    vc.filter(\n",
    "        vc.struct.field(\"counts\") < 3\n",
    "    ).struct.field(\"a\")\n",
    ")\n",
    "df.select(to_merge)"
   ]
  },
  {
   "cell_type": "code",
   "execution_count": null,
   "id": "2b9b48c6-c902-4b47-9fb6-698dce904eb9",
   "metadata": {},
   "outputs": [],
   "source": [
    "df.select(\n",
    "    pl.col(\"b\").str_ext.infer_infreq()\n",
    ")"
   ]
  },
  {
   "cell_type": "code",
   "execution_count": null,
   "id": "d3aa1de8-bb36-46c6-adb0-0ddbce8bcf4a",
   "metadata": {},
   "outputs": [],
   "source": []
  },
  {
   "cell_type": "code",
   "execution_count": null,
   "id": "d4f45d3d-d3b9-4fde-9ed5-b3d01d0fa1ba",
   "metadata": {},
   "outputs": [],
   "source": []
  }
 ],
 "metadata": {
  "kernelspec": {
   "display_name": "Python 3 (ipykernel)",
   "language": "python",
   "name": "python3"
  },
  "language_info": {
   "codemirror_mode": {
    "name": "ipython",
    "version": 3
   },
   "file_extension": ".py",
   "mimetype": "text/x-python",
   "name": "python",
   "nbconvert_exporter": "python",
   "pygments_lexer": "ipython3",
   "version": "3.11.6"
  }
 },
 "nbformat": 4,
 "nbformat_minor": 5
}
