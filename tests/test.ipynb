{
 "cells": [
  {
   "cell_type": "code",
   "execution_count": null,
   "id": "529f4422-5c3a-4bd6-abe0-a15edfc62abb",
   "metadata": {},
   "outputs": [],
   "source": [
    "import polars as pl\n",
    "import numpy as np\n",
    "import polars_ds as pld"
   ]
  },
  {
   "cell_type": "code",
   "execution_count": null,
   "id": "835d8bdf",
   "metadata": {},
   "outputs": [],
   "source": [
    "size = 5000\n",
    "df = pl.DataFrame({\n",
    "    \"a\": np.random.random(size=size),\n",
    "})\n",
    "df.head()"
   ]
  },
  {
   "cell_type": "code",
   "execution_count": null,
   "id": "d4e00aa2",
   "metadata": {},
   "outputs": [],
   "source": [
    "%%timeit\n",
    "df.select(\n",
    "    pl.col(\"a\").num.sample_entropy(\n",
    "        m = 2,\n",
    "        ratio = 0.2,\n",
    "        parallel = True,\n",
    "    )\n",
    ")"
   ]
  },
  {
   "cell_type": "code",
   "execution_count": null,
   "id": "9fc15916",
   "metadata": {},
   "outputs": [],
   "source": [
    "df.select(\n",
    "    pl.col(\"a\").num.approximate_entropy(\n",
    "        m = 2,\n",
    "        filtering_level = 0.9,\n",
    "        scale_by_std = True\n",
    "    )\n",
    ")"
   ]
  },
  {
   "cell_type": "code",
   "execution_count": null,
   "id": "bb1fa5c8",
   "metadata": {},
   "outputs": [],
   "source": [
    "df = pl.DataFrame({\"id\": range(5), \"val1\": range(5), \"val2\": range(5), \"val3\": range(5)})\n",
    "df.head()"
   ]
  },
  {
   "cell_type": "code",
   "execution_count": null,
   "id": "074ddee9",
   "metadata": {},
   "outputs": [],
   "source": [
    "df = pl.DataFrame({\"test\": np.sin(2 * np.pi * np.arange(100) / 100)})\n",
    "df.head()"
   ]
  },
  {
   "cell_type": "code",
   "execution_count": null,
   "id": "56265964",
   "metadata": {},
   "outputs": [],
   "source": [
    "\n",
    "df.select(\n",
    "    pl.col(\"test\").num.sample_entropy(m=2)\n",
    ")\n"
   ]
  },
  {
   "cell_type": "code",
   "execution_count": null,
   "id": "0fbc1c14",
   "metadata": {},
   "outputs": [],
   "source": [
    "size = 1000\n",
    "df = pl.DataFrame({\n",
    "    \"id\": range(size),\n",
    "    \"val1\": np.random.random(size=size),\n",
    "    \"val2\": np.random.random(size=size),\n",
    "    \"val3\": np.random.random(size=size),\n",
    "    \"val4\": np.random.random(size=size),\n",
    "}).with_columns(\n",
    "    pl.col(\"id\").mod(5)\n",
    ")\n",
    "df.head(10)"
   ]
  },
  {
   "cell_type": "code",
   "execution_count": null,
   "id": "99619f8b",
   "metadata": {},
   "outputs": [],
   "source": [
    "df.select(\n",
    "    pld.nb_cnt(\n",
    "        0.1, # distance is always the first argument\n",
    "        pl.col(\"val1\"), pl.col(\"val2\"), pl.col(\"val3\"), # Columns used as the coordinates in n-d space\n",
    "        dist = \"inf\", parallel = True \n",
    "    )\n",
    ")"
   ]
  },
  {
   "cell_type": "code",
   "execution_count": null,
   "id": "40379799",
   "metadata": {},
   "outputs": [],
   "source": [
    "df.select(\n",
    "    pld.haversine(pl.col(\"val1\"), pl.col(\"val2\"), pl.col(\"val3\"), pl.col(\"val4\"))\n",
    ")"
   ]
  },
  {
   "cell_type": "code",
   "execution_count": null,
   "id": "327a077c",
   "metadata": {},
   "outputs": [],
   "source": [
    "df.filter(\n",
    "    pld.query_radius(\n",
    "        [0,0],\n",
    "        pl.col(\"val1\"), pl.col(\"val2\"), # pl.col(\"val3\"),\n",
    "        radius = 10, dist = \"h\"\n",
    "    )\n",
    ")"
   ]
  },
  {
   "cell_type": "code",
   "execution_count": null,
   "id": "e6e6d2ed",
   "metadata": {},
   "outputs": [],
   "source": [
    "import polars_ds  # noqa: F811\n",
    "\n",
    "print(\n",
    "    df.with_columns(\n",
    "        pl.col(\"id\").cast(pl.UInt64).num.knn_ptwise(\n",
    "            pl.col(\"val1\"), pl.col(\"val2\"), \n",
    "            k = 3, dist = \"haversine\", parallel = True\n",
    "        ).alias(\"nearest neighbor ids\")\n",
    "    ).head()\n",
    ")"
   ]
  },
  {
   "cell_type": "code",
   "execution_count": null,
   "id": "2c00b757",
   "metadata": {},
   "outputs": [],
   "source": [
    "import numpy as np\n",
    "from scipy import signal\n",
    "rng = np.random.default_rng()\n",
    "\n",
    "npoints = 10\n",
    "\n",
    "noise = rng.standard_normal(npoints)\n",
    "\n",
    "x = 3 + 2*np.linspace(0, 1, npoints) + noise\n",
    "\n",
    "df = pl.DataFrame({\n",
    "    \"test\": x,\n",
    "    \"entity_id\": [1] *  5 + [2] * 5\n",
    "})\n",
    "df.head()"
   ]
  },
  {
   "cell_type": "code",
   "execution_count": null,
   "id": "a0a9731d",
   "metadata": {},
   "outputs": [],
   "source": [
    "import polars as pl\n",
    "import polars_ds\n",
    "\n",
    "df = pl.DataFrame({\n",
    "    \"test\": x,\n",
    "    \"entity_id\": [1] *  5 + [2] * 5\n",
    "})\n",
    "# And is 5x faster than Scipy.signal detrend on larger time series\n",
    "df.select(\n",
    "    pl.col(\"entity_id\"),\n",
    "    pl.col(\"test\").num.detrend().over(pl.col(\"entity_id\")).alias(\"test_detrended\") # linear detrend\n",
    ")"
   ]
  },
  {
   "cell_type": "code",
   "execution_count": null,
   "id": "b5263aa7",
   "metadata": {},
   "outputs": [],
   "source": [
    "%timeit signal.detrend(x)"
   ]
  },
  {
   "cell_type": "code",
   "execution_count": null,
   "id": "e62819c1",
   "metadata": {},
   "outputs": [],
   "source": [
    "%timeit df.select(pl.col(\"test\").num.detrend()).head()"
   ]
  },
  {
   "cell_type": "code",
   "execution_count": null,
   "id": "b258c159",
   "metadata": {},
   "outputs": [],
   "source": [
    "df.select(pl.col(\"test\").num.detrend2()).head()"
   ]
  },
  {
   "cell_type": "code",
   "execution_count": null,
   "id": "e00071b8",
   "metadata": {},
   "outputs": [],
   "source": [
    "df = pl.DataFrame({\n",
    "    \"c\":[[0.1, 0.2], [0.5, 0.5], [-2, 2]],\n",
    "    \"z\":[[0.1, 0.2], [0.5, 0.5], [-2, 2]]\n",
    "})\n",
    "df.head()"
   ]
  },
  {
   "cell_type": "code",
   "execution_count": null,
   "metadata": {},
   "outputs": [],
   "source": [
    "df = pl.DataFrame({\n",
    "    \"a\": list(range(10)) + [None] # Reference column\n",
    "}).with_columns(\n",
    "    pl.col(\"a\").stats.rand_int(low=1., high=10, respect_null=True).alias(\"rand_int\"),\n",
    "    pl.col(\"a\").stats.sample_uniform(low=1., high=3.).alias(\"uniform\"),\n",
    "    pl.col(\"a\").stats.sample_normal(respect_null=True).alias(\"normal1\"),\n",
    "    pl.col(\"a\").stats.sample_normal(mean = 2, std = 0.5).alias(\"normal2\"),\n",
    "    pl.col(\"a\").stats.sample_exp(lam = 1.0).alias(\"exp\"),\n",
    "    pl.col(\"a\").stats.sample_binomial(n = 10, p = 0.5).alias(\"binomial\"),\n",
    "    pl.col(\"a\").stats.rand_str(min_size = 1, max_size = 10, respect_null=True).alias(\"rand_str\")\n",
    ")\n",
    "df"
   ]
  },
  {
   "cell_type": "code",
   "execution_count": null,
   "id": "d59253e2",
   "metadata": {},
   "outputs": [],
   "source": [
    "df.select(\n",
    "    pl.col(\"a\").stats.f_stats(pl.col(\"b\"), pl.col(\"c\"))\n",
    ").item(0,0)"
   ]
  },
  {
   "cell_type": "code",
   "execution_count": null,
   "id": "bf70063f",
   "metadata": {},
   "outputs": [],
   "source": [
    "\n",
    "df.select(\n",
    "    pl.col(\"a\").stats.f_test(pl.col(\"b\"))\n",
    ").item(0,0)"
   ]
  },
  {
   "cell_type": "code",
   "execution_count": null,
   "id": "a7fc43a6",
   "metadata": {},
   "outputs": [],
   "source": [
    "from sklearn.feature_selection import f_regression, f_classif"
   ]
  },
  {
   "cell_type": "code",
   "execution_count": null,
   "id": "28dde110",
   "metadata": {},
   "outputs": [],
   "source": [
    "f_classif(df[\"b\"].to_numpy().reshape(-1,1), df[\"a\"].to_numpy())"
   ]
  },
  {
   "cell_type": "code",
   "execution_count": null,
   "id": "dabe70c2",
   "metadata": {},
   "outputs": [],
   "source": [
    "f_classif(df[\"c\"].to_numpy().reshape(-1,1), df[\"a\"].to_numpy())"
   ]
  },
  {
   "cell_type": "code",
   "execution_count": null,
   "metadata": {},
   "outputs": [],
   "source": [
    "df.select(\n",
    "    pl.col(\"a\").str.sorensen_dice(pl.col(\"b\"))\n",
    ")"
   ]
  },
  {
   "cell_type": "code",
   "execution_count": null,
   "metadata": {},
   "outputs": [],
   "source": [
    "df.select(\n",
    "    pl.col(\"a\").num.list_jaccard(pl.col(\"b\"))\n",
    ")"
   ]
  },
  {
   "cell_type": "code",
   "execution_count": null,
   "id": "a41a16a0-7559-4ec4-bddd-e98c40126f54",
   "metadata": {},
   "outputs": [],
   "source": [
    "df = pl.DataFrame({\n",
    "    \"a\":[\"a\", \"b\", \"c\", \"c\", \"c\", \"c\", \"c\", \"c\", \"c\", \"c\", \"c\", \"c\", \"c\", \"c\"],\n",
    "    \"b\":[\"a\", \"b\", \"c\", \"d\", \"d\", \"d\", \"d\", \"d\", \"d\", \"d\", \"d\", \"d\", \"d\", \"d\"]\n",
    "})\n",
    "df.head()"
   ]
  },
  {
   "cell_type": "code",
   "execution_count": null,
   "metadata": {},
   "outputs": [],
   "source": [
    "df.select(\n",
    "    pl.concat_str(pl.col(\"a\"), pl.col(\"b\"))\n",
    ")"
   ]
  },
  {
   "cell_type": "code",
   "execution_count": null,
   "metadata": {},
   "outputs": [],
   "source": [
    "df = pl.DataFrame({\n",
    "    \"a\":[\"a\", \"b\", \"c\", \"c\", \"c\", \"c\", \"c\", \"c\", \"c\", \"c\", \"c\", \"c\", \"c\", \"c\"],\n",
    "    \"b\":[\"a\", \"b\", \"c\", \"d\", \"d\", \"d\", \"d\", \"d\", \"d\", \"d\", \"d\", \"d\", \"d\", \"d\"]\n",
    "})\n",
    "vc = pl.col(\"a\").value_counts(parallel=False, sort=True)\n",
    "to_merge:pl.Expr = (\n",
    "    vc.filter(\n",
    "        vc.struct.field(\"counts\") < 3\n",
    "    ).struct.field(\"a\")\n",
    ")\n",
    "df.select(to_merge)"
   ]
  },
  {
   "cell_type": "code",
   "execution_count": null,
   "id": "2b9b48c6-c902-4b47-9fb6-698dce904eb9",
   "metadata": {},
   "outputs": [],
   "source": [
    "df.select(\n",
    "    pl.col(\"b\").str_ext.infer_infreq()\n",
    ")"
   ]
  },
  {
   "cell_type": "code",
   "execution_count": null,
   "id": "d3aa1de8-bb36-46c6-adb0-0ddbce8bcf4a",
   "metadata": {},
   "outputs": [],
   "source": []
  },
  {
   "cell_type": "code",
   "execution_count": null,
   "id": "d4f45d3d-d3b9-4fde-9ed5-b3d01d0fa1ba",
   "metadata": {},
   "outputs": [],
   "source": []
  }
 ],
 "metadata": {
  "kernelspec": {
   "display_name": "Python 3 (ipykernel)",
   "language": "python",
   "name": "python3"
  },
  "language_info": {
   "codemirror_mode": {
    "name": "ipython",
    "version": 3
   },
   "file_extension": ".py",
   "mimetype": "text/x-python",
   "name": "python",
   "nbconvert_exporter": "python",
   "pygments_lexer": "ipython3",
   "version": "3.11.6"
  }
 },
 "nbformat": 4,
 "nbformat_minor": 5
}
