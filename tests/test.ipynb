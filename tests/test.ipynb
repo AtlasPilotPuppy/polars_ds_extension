{
 "cells": [
  {
   "cell_type": "code",
   "execution_count": null,
   "id": "529f4422-5c3a-4bd6-abe0-a15edfc62abb",
   "metadata": {},
   "outputs": [],
   "source": [
    "import polars as pl\n",
    "import numpy as np\n",
    "import polars_ds as pld"
   ]
  },
  {
   "cell_type": "code",
   "execution_count": null,
   "id": "58cd3689",
   "metadata": {},
   "outputs": [],
   "source": [
    "size = 1000\n",
    "df = pl.DataFrame({\n",
    "    \"id\": range(size),\n",
    "    \"val1\": np.random.random(size=size), \n",
    "    \"val2\": np.random.random(size=size), \n",
    "    \"val3\": np.random.random(size=size),\n",
    "    \"r\": np.random.random(size=size),\n",
    "    \"rh\": np.random.random(size=size)*10,\n",
    "})"
   ]
  },
  {
   "cell_type": "code",
   "execution_count": null,
   "id": "71e64a5b",
   "metadata": {},
   "outputs": [],
   "source": [
    "df.select(\n",
    "    pl.col(\"val1\").num.rfft()\n",
    ")"
   ]
  },
  {
   "cell_type": "code",
   "execution_count": null,
   "id": "2a5e5980",
   "metadata": {},
   "outputs": [],
   "source": []
  },
  {
   "cell_type": "code",
   "execution_count": null,
   "id": "ab2550a5",
   "metadata": {},
   "outputs": [],
   "source": [
    "ts = df[\"val1\"].to_numpy()"
   ]
  },
  {
   "cell_type": "code",
   "execution_count": null,
   "id": "68a7d47c",
   "metadata": {},
   "outputs": [],
   "source": [
    "%%timeit\n",
    "np.fft.rfft(ts)"
   ]
  },
  {
   "cell_type": "code",
   "execution_count": null,
   "id": "a1fefd67",
   "metadata": {},
   "outputs": [],
   "source": [
    "len(np.fft.rfft(df[\"val1\"]))"
   ]
  },
  {
   "cell_type": "code",
   "execution_count": null,
   "id": "7fbf193d",
   "metadata": {},
   "outputs": [],
   "source": [
    "from scipy.fft import fft\n",
    "\n",
    "len(fft(df[\"val1\"].to_numpy()))"
   ]
  },
  {
   "cell_type": "code",
   "execution_count": null,
   "id": "76747c87",
   "metadata": {},
   "outputs": [],
   "source": [
    "df.select(\n",
    "    pl.col(\"val1\").num.rfft(n = 10)\n",
    ")"
   ]
  },
  {
   "cell_type": "code",
   "execution_count": null,
   "id": "48806f94",
   "metadata": {},
   "outputs": [],
   "source": [
    "fft(df[\"val1\"].to_numpy())"
   ]
  },
  {
   "cell_type": "code",
   "execution_count": null,
   "id": "1847b8d8",
   "metadata": {},
   "outputs": [],
   "source": []
  },
  {
   "cell_type": "code",
   "execution_count": null,
   "id": "f15244a7",
   "metadata": {},
   "outputs": [],
   "source": [
    "df2 = df.with_columns(\n",
    "    pl.col(\"id\").num.query_radius_ptwise(\n",
    "        pl.col(\"val1\"), pl.col(\"val2\"), pl.col(\"val3\"), # Columns used as the coordinates in n-d space\n",
    "        r = 0.03, \n",
    "        dist = \"cosine\", # actually this is squared l2\n",
    "        parallel = True\n",
    "    ).list.slice(offset=1).alias(\"edges\"),\n",
    ").with_columns(\n",
    "    pl.col(\"edges\").list.len().alias(\"connected node count\")\n",
    ")\n",
    "df2.head()"
   ]
  },
  {
   "cell_type": "code",
   "execution_count": null,
   "id": "81a51cb0",
   "metadata": {},
   "outputs": [],
   "source": [
    "df2.select(\n",
    "    pl.col(\"edges\").graph.shortest_path(105)\n",
    ")"
   ]
  },
  {
   "cell_type": "code",
   "execution_count": null,
   "id": "11011e91",
   "metadata": {},
   "outputs": [],
   "source": [
    "df2.select(\n",
    "    pl.col(\"best friends\").list.set_difference(pl.concat_list(pl.col(\"id\")))\n",
    ")"
   ]
  },
  {
   "cell_type": "code",
   "execution_count": null,
   "id": "cd1e7637",
   "metadata": {},
   "outputs": [],
   "source": [
    "df2.head()"
   ]
  },
  {
   "cell_type": "code",
   "execution_count": null,
   "id": "5a21dcc0",
   "metadata": {},
   "outputs": [],
   "source": [
    "df2.select(\n",
    "    pl.col(\"best friends\").graph.eigen_centrality().arg_max()\n",
    ")"
   ]
  },
  {
   "cell_type": "code",
   "execution_count": null,
   "id": "55d934a1",
   "metadata": {},
   "outputs": [],
   "source": []
  },
  {
   "cell_type": "code",
   "execution_count": null,
   "id": "b572c41c",
   "metadata": {},
   "outputs": [],
   "source": [
    "df = pl.DataFrame({\n",
    "    \"a\": range(1000),\n",
    "    \"b\": [\"cat\"] * 200 + [\"dogs\"] * 500 + [\"lizards\"] * 300,\n",
    "    \"y\": np.random.randint(0, high = 2, size = 1000)\n",
    "})\n",
    "df.head()"
   ]
  },
  {
   "cell_type": "code",
   "execution_count": null,
   "id": "7a317edf",
   "metadata": {},
   "outputs": [],
   "source": [
    "df = pl.DataFrame({\n",
    "    \"a\": range(5000),\n",
    "    \"b\": [np.sqrt(x) for x in range(5000)],\n",
    "    \"y\": 0.1 * np.random.random(size=5000) + np.array(list(range(5000)))\n",
    "})\n",
    "df.head()"
   ]
  },
  {
   "cell_type": "code",
   "execution_count": null,
   "id": "e9f08701",
   "metadata": {},
   "outputs": [],
   "source": [
    "\n",
    "df.select(\n",
    "    pl.col(\"y\").num.lstsq_report(\n",
    "        pl.col(\"a\"), pl.col(\"b\"),\n",
    "        add_bias = False\n",
    "    ).alias(\"report\")\n",
    ").unnest(\"report\")"
   ]
  },
  {
   "cell_type": "code",
   "execution_count": null,
   "id": "60dad133",
   "metadata": {},
   "outputs": [],
   "source": [
    "from statsmodels.api import OLS\n",
    "target = df[\"y\"].to_numpy()\n",
    "data = df.select(\"a\", \"b\").to_numpy()"
   ]
  },
  {
   "cell_type": "code",
   "execution_count": null,
   "id": "0a1e3725",
   "metadata": {},
   "outputs": [],
   "source": [
    "df.select(\n",
    "    pl.col(\"a1\").num.psi(pl.col(\"a2\"))\n",
    ").item(0,0)"
   ]
  },
  {
   "cell_type": "code",
   "execution_count": null,
   "id": "8cf1274d",
   "metadata": {},
   "outputs": [],
   "source": [
    "df.select(\n",
    "    pl.col(\"b\").num.psi_discrete(pl.col(\"a\"))\n",
    ")"
   ]
  },
  {
   "cell_type": "code",
   "execution_count": null,
   "id": "acc43165",
   "metadata": {},
   "outputs": [],
   "source": [
    "df.select(\n",
    "    pl.col(\"a\").value_counts()\n",
    ").unnest(\"a\")"
   ]
  },
  {
   "cell_type": "code",
   "execution_count": null,
   "id": "f6f9f5e6",
   "metadata": {},
   "outputs": [],
   "source": [
    "pl.col(\"a\").value_counts().name"
   ]
  }
 ],
 "metadata": {
  "kernelspec": {
   "display_name": "Python 3 (ipykernel)",
   "language": "python",
   "name": "python3"
  },
  "language_info": {
   "codemirror_mode": {
    "name": "ipython",
    "version": 3
   },
   "file_extension": ".py",
   "mimetype": "text/x-python",
   "name": "python",
   "nbconvert_exporter": "python",
   "pygments_lexer": "ipython3",
   "version": "3.11.6"
  }
 },
 "nbformat": 4,
 "nbformat_minor": 5
}
