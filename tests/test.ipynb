{
 "cells": [
  {
   "cell_type": "code",
   "execution_count": null,
   "id": "529f4422-5c3a-4bd6-abe0-a15edfc62abb",
   "metadata": {},
   "outputs": [],
   "source": [
    "import polars as pl\n",
    "import numpy as np\n",
    "import polars_ds"
   ]
  },
  {
   "cell_type": "code",
   "execution_count": null,
   "id": "9553a399",
   "metadata": {},
   "outputs": [],
   "source": [
    "test = pl.DataFrame({\n",
    "    \"x\": [\"a\"] * 200 + [\"b\"] * 300 + [\"c\"] * 500\n",
    "    , \"y\": [1] * 600 + [2] * 400\n",
    "})\n",
    "test.head()"
   ]
  },
  {
   "cell_type": "code",
   "execution_count": null,
   "id": "f77ba5f1",
   "metadata": {},
   "outputs": [],
   "source": [
    "test.select(\n",
    "    pl.col(\"x\").stats.chi2(pl.col(\"y\"))\n",
    ")"
   ]
  },
  {
   "cell_type": "code",
   "execution_count": null,
   "id": "0c533857",
   "metadata": {},
   "outputs": [],
   "source": [
    "import pandas as pd\n",
    "from scipy.stats import chi2_contingency"
   ]
  },
  {
   "cell_type": "code",
   "execution_count": null,
   "id": "d414eb0d",
   "metadata": {},
   "outputs": [],
   "source": [
    "df2 = test.to_pandas()\n",
    "contigency = pd.crosstab(index=df2['x'], columns=df2['y'])\n",
    "chi2_contingency(\n",
    "    contigency.to_numpy()\n",
    "    , correction = True\n",
    ")"
   ]
  },
  {
   "cell_type": "code",
   "execution_count": null,
   "id": "27a3bb83",
   "metadata": {},
   "outputs": [],
   "source": [
    "test.group_by([\"x\"]).agg(pl.count())"
   ]
  },
  {
   "cell_type": "code",
   "execution_count": null,
   "id": "e768dce0",
   "metadata": {},
   "outputs": [],
   "source": [
    "t1 = test.select(\n",
    "    pl.col(\"x\").value_counts().struct.field(\"x\"),\n",
    "    pl.col(\"x\").value_counts().struct.field(\"count\")\n",
    ")\n",
    "t2 = test.select(\n",
    "    pl.col(\"y\").value_counts().struct.field(\"y\"),\n",
    "    pl.col(\"y\").value_counts().struct.field(\"count\")\n",
    ")\n",
    "t3 = test.group_by([\"x\", \"y\"]).agg(pl.count().alias(\"ob\"))\n",
    "\n",
    "fake_contigency = (\n",
    "    t1.join(t2, left_on = \"x\", right_on = \"y\", how = \"cross\").select(\"x\", \"y\")\n",
    "    .join(t3, on = [\"x\", \"y\"], how = \"left\").with_columns(\n",
    "        pl.col(\"ob\").fill_null(0)\n",
    "    )\n",
    ")\n",
    "\n",
    "fake_contigency.with_columns(\n",
    "    (pl.col(\"ob\").sum().over(\"y\") * pl.col(\"ob\").sum().over(\"x\") / pl.col(\"ob\").sum()).alias(\"e\")\n",
    ").select(\n",
    "    ((pl.col(\"ob\") - pl.col(\"e\")).pow(2) / pl.col(\"e\")).sum()\n",
    ")\n"
   ]
  },
  {
   "cell_type": "code",
   "execution_count": null,
   "id": "a8f15969",
   "metadata": {},
   "outputs": [],
   "source": [
    "t3"
   ]
  },
  {
   "cell_type": "code",
   "execution_count": null,
   "id": "042a6d2e",
   "metadata": {},
   "outputs": [],
   "source": [
    "test.select(\n",
    "    pl.col(\"y\").value_counts().struct.field(\"y\"),\n",
    "    pl.col(\"y\").value_counts().struct.field(\"count\")\n",
    ")"
   ]
  },
  {
   "cell_type": "code",
   "execution_count": null,
   "id": "4106f8bb",
   "metadata": {},
   "outputs": [],
   "source": [
    "test.group_by([\"x\", \"y\"]).agg(\n",
    "    pl.count().alias(\"observed\")\n",
    ").with_columns(\n",
    "    pl.col(\"observed\").sum().over(\"y\").alias(\"y_sum\"),\n",
    "    pl.col(\"observed\").sum().over(\"x\").alias(\"x_sum\")\n",
    ").with_columns(\n",
    "    ((pl.col(\"y_sum\") * pl.col(\"x_sum\"))/pl.col(\"observed\").sum()).alias(\"expected\")\n",
    ")"
   ]
  },
  {
   "cell_type": "code",
   "execution_count": null,
   "id": "e02cd2b7",
   "metadata": {},
   "outputs": [],
   "source": [
    "test.group_by([\"x\", \"y\"]).agg(\n",
    "    pl.count().alias(\"observed\")\n",
    ").with_columns(\n",
    "    (pl.col(\"observed\").sum().over(\"y\") * pl.col(\"observed\").sum().over(\"x\") / pl.col(\"observed\").sum()).alias(\"expected\")\n",
    ").select(\n",
    "    ((pl.col(\"observed\") - pl.col(\"expected\")).pow(2) / pl.col(\"expected\")).sum()\n",
    ")"
   ]
  },
  {
   "cell_type": "code",
   "execution_count": null,
   "id": "37f185ea",
   "metadata": {},
   "outputs": [],
   "source": [
    "test.pivot(\n",
    "    values = \"x\",\n",
    "    index=\"x\",\n",
    "    columns=\"y\",\n",
    "    aggregate_function = \"count\"\n",
    ")"
   ]
  },
  {
   "cell_type": "code",
   "execution_count": null,
   "id": "4f312210",
   "metadata": {},
   "outputs": [],
   "source": [
    "test.select(\n",
    "    pl.col(\"a\").str2.to_pascal_case()\n",
    ")"
   ]
  },
  {
   "cell_type": "code",
   "execution_count": null,
   "id": "0fbc1c14",
   "metadata": {},
   "outputs": [],
   "source": []
  },
  {
   "cell_type": "code",
   "execution_count": null,
   "id": "2c00b757",
   "metadata": {},
   "outputs": [],
   "source": [
    "import numpy as np\n",
    "from scipy import signal\n",
    "rng = np.random.default_rng()\n",
    "\n",
    "npoints = 10\n",
    "\n",
    "noise = rng.standard_normal(npoints)\n",
    "\n",
    "x = 3 + 2*np.linspace(0, 1, npoints) + noise\n",
    "\n",
    "df = pl.DataFrame({\n",
    "    \"test\": x,\n",
    "    \"entity_id\": [1] *  5 + [2] * 5\n",
    "})\n",
    "df.head()"
   ]
  },
  {
   "cell_type": "code",
   "execution_count": null,
   "id": "a0a9731d",
   "metadata": {},
   "outputs": [],
   "source": [
    "import polars as pl\n",
    "import polars_ds\n",
    "\n",
    "df = pl.DataFrame({\n",
    "    \"test\": x,\n",
    "    \"entity_id\": [1] *  5 + [2] * 5\n",
    "})\n",
    "# And is 5x faster than Scipy.signal detrend on larger time series\n",
    "df.select(\n",
    "    pl.col(\"entity_id\"),\n",
    "    pl.col(\"test\").num.detrend().over(pl.col(\"entity_id\")).alias(\"test_detrended\") # linear detrend\n",
    ")"
   ]
  },
  {
   "cell_type": "code",
   "execution_count": null,
   "id": "b5263aa7",
   "metadata": {},
   "outputs": [],
   "source": [
    "%timeit signal.detrend(x)"
   ]
  },
  {
   "cell_type": "code",
   "execution_count": null,
   "id": "e62819c1",
   "metadata": {},
   "outputs": [],
   "source": [
    "%timeit df.select(pl.col(\"test\").num.detrend()).head()"
   ]
  },
  {
   "cell_type": "code",
   "execution_count": null,
   "id": "b258c159",
   "metadata": {},
   "outputs": [],
   "source": [
    "df.select(pl.col(\"test\").num.detrend2()).head()"
   ]
  },
  {
   "cell_type": "code",
   "execution_count": null,
   "id": "e00071b8",
   "metadata": {},
   "outputs": [],
   "source": [
    "df = pl.DataFrame({\n",
    "    \"c\":[[0.1, 0.2], [0.5, 0.5], [-2, 2]],\n",
    "    \"z\":[[0.1, 0.2], [0.5, 0.5], [-2, 2]]\n",
    "})\n",
    "df.head()"
   ]
  },
  {
   "cell_type": "code",
   "execution_count": null,
   "metadata": {},
   "outputs": [],
   "source": [
    "df = pl.DataFrame({\n",
    "    \"a\": list(range(10)) + [None] # Reference column\n",
    "}).with_columns(\n",
    "    pl.col(\"a\").stats.rand_int(low=1., high=10, respect_null=True).alias(\"rand_int\"),\n",
    "    pl.col(\"a\").stats.sample_uniform(low=1., high=3.).alias(\"uniform\"),\n",
    "    pl.col(\"a\").stats.sample_normal(respect_null=True).alias(\"normal1\"),\n",
    "    pl.col(\"a\").stats.sample_normal(mean = 2, std = 0.5).alias(\"normal2\"),\n",
    "    pl.col(\"a\").stats.sample_exp(lam = 1.0).alias(\"exp\"),\n",
    "    pl.col(\"a\").stats.sample_binomial(n = 10, p = 0.5).alias(\"binomial\"),\n",
    "    pl.col(\"a\").stats.rand_str(min_size = 1, max_size = 10, respect_null=True).alias(\"rand_str\")\n",
    ")\n",
    "df"
   ]
  },
  {
   "cell_type": "code",
   "execution_count": null,
   "id": "d59253e2",
   "metadata": {},
   "outputs": [],
   "source": [
    "df.select(\n",
    "    pl.col(\"a\").stats.f_stats(pl.col(\"b\"), pl.col(\"c\"))\n",
    ").item(0,0)"
   ]
  },
  {
   "cell_type": "code",
   "execution_count": null,
   "id": "bf70063f",
   "metadata": {},
   "outputs": [],
   "source": [
    "\n",
    "df.select(\n",
    "    pl.col(\"a\").stats.f_test(pl.col(\"b\"))\n",
    ").item(0,0)"
   ]
  },
  {
   "cell_type": "code",
   "execution_count": null,
   "id": "a7fc43a6",
   "metadata": {},
   "outputs": [],
   "source": [
    "from sklearn.feature_selection import f_regression, f_classif"
   ]
  },
  {
   "cell_type": "code",
   "execution_count": null,
   "id": "28dde110",
   "metadata": {},
   "outputs": [],
   "source": [
    "f_classif(df[\"b\"].to_numpy().reshape(-1,1), df[\"a\"].to_numpy())"
   ]
  },
  {
   "cell_type": "code",
   "execution_count": null,
   "id": "dabe70c2",
   "metadata": {},
   "outputs": [],
   "source": [
    "f_classif(df[\"c\"].to_numpy().reshape(-1,1), df[\"a\"].to_numpy())"
   ]
  },
  {
   "cell_type": "code",
   "execution_count": null,
   "metadata": {},
   "outputs": [],
   "source": [
    "df.select(\n",
    "    pl.col(\"a\").str.sorensen_dice(pl.col(\"b\"))\n",
    ")"
   ]
  },
  {
   "cell_type": "code",
   "execution_count": null,
   "metadata": {},
   "outputs": [],
   "source": [
    "df.select(\n",
    "    pl.col(\"a\").num.list_jaccard(pl.col(\"b\"))\n",
    ")"
   ]
  },
  {
   "cell_type": "code",
   "execution_count": null,
   "id": "a41a16a0-7559-4ec4-bddd-e98c40126f54",
   "metadata": {},
   "outputs": [],
   "source": [
    "df = pl.DataFrame({\n",
    "    \"a\":[\"a\", \"b\", \"c\", \"c\", \"c\", \"c\", \"c\", \"c\", \"c\", \"c\", \"c\", \"c\", \"c\", \"c\"],\n",
    "    \"b\":[\"a\", \"b\", \"c\", \"d\", \"d\", \"d\", \"d\", \"d\", \"d\", \"d\", \"d\", \"d\", \"d\", \"d\"]\n",
    "})\n",
    "df.head()"
   ]
  },
  {
   "cell_type": "code",
   "execution_count": null,
   "metadata": {},
   "outputs": [],
   "source": [
    "df.select(\n",
    "    pl.concat_str(pl.col(\"a\"), pl.col(\"b\"))\n",
    ")"
   ]
  },
  {
   "cell_type": "code",
   "execution_count": null,
   "metadata": {},
   "outputs": [],
   "source": [
    "df = pl.DataFrame({\n",
    "    \"a\":[\"a\", \"b\", \"c\", \"c\", \"c\", \"c\", \"c\", \"c\", \"c\", \"c\", \"c\", \"c\", \"c\", \"c\"],\n",
    "    \"b\":[\"a\", \"b\", \"c\", \"d\", \"d\", \"d\", \"d\", \"d\", \"d\", \"d\", \"d\", \"d\", \"d\", \"d\"]\n",
    "})\n",
    "vc = pl.col(\"a\").value_counts(parallel=False, sort=True)\n",
    "to_merge:pl.Expr = (\n",
    "    vc.filter(\n",
    "        vc.struct.field(\"counts\") < 3\n",
    "    ).struct.field(\"a\")\n",
    ")\n",
    "df.select(to_merge)"
   ]
  },
  {
   "cell_type": "code",
   "execution_count": null,
   "id": "2b9b48c6-c902-4b47-9fb6-698dce904eb9",
   "metadata": {},
   "outputs": [],
   "source": [
    "df.select(\n",
    "    pl.col(\"b\").str_ext.infer_infreq()\n",
    ")"
   ]
  },
  {
   "cell_type": "code",
   "execution_count": null,
   "id": "d3aa1de8-bb36-46c6-adb0-0ddbce8bcf4a",
   "metadata": {},
   "outputs": [],
   "source": []
  },
  {
   "cell_type": "code",
   "execution_count": null,
   "id": "d4f45d3d-d3b9-4fde-9ed5-b3d01d0fa1ba",
   "metadata": {},
   "outputs": [],
   "source": []
  }
 ],
 "metadata": {
  "kernelspec": {
   "display_name": "Python 3 (ipykernel)",
   "language": "python",
   "name": "python3"
  },
  "language_info": {
   "codemirror_mode": {
    "name": "ipython",
    "version": 3
   },
   "file_extension": ".py",
   "mimetype": "text/x-python",
   "name": "python",
   "nbconvert_exporter": "python",
   "pygments_lexer": "ipython3",
   "version": "3.11.6"
  }
 },
 "nbformat": 4,
 "nbformat_minor": 5
}
