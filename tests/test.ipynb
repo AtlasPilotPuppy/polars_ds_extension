{
 "cells": [
  {
   "cell_type": "code",
   "execution_count": 1,
   "id": "529f4422-5c3a-4bd6-abe0-a15edfc62abb",
   "metadata": {},
   "outputs": [],
   "source": [
    "import polars as pl\n",
    "import numpy as np\n",
    "import polars_ds as pld"
   ]
  },
  {
   "cell_type": "code",
   "execution_count": 2,
   "id": "58cd3689",
   "metadata": {},
   "outputs": [],
   "source": [
    "df = pl.DataFrame({\n",
    "    \"id\": range(1000),\n",
    "    \"val1\": np.random.random(size=1000), \n",
    "    \"val2\": np.random.random(size=1000), \n",
    "    \"val3\": np.random.random(size=1000),\n",
    "    \"r\": np.random.random(size=1000),\n",
    "    \"rh\": np.random.random(size=1000)*10,\n",
    "})"
   ]
  },
  {
   "cell_type": "code",
   "execution_count": 3,
   "id": "f15244a7",
   "metadata": {},
   "outputs": [],
   "source": [
    "df2 = df.with_columns(\n",
    "    pl.col(\"id\").num.query_radius_ptwise(\n",
    "        pl.col(\"val1\"), pl.col(\"val2\"), pl.col(\"val3\"), # Columns used as the coordinates in n-d space\n",
    "        r = 0.1, \n",
    "        dist = \"l2\", # actually this is squared l2\n",
    "        parallel = True\n",
    "    ).list.slice(offset = 1).alias(\"best friends\"),\n",
    "    \n",
    "    pl.col(\"id\").cast(pl.UInt64)\n",
    ")"
   ]
  },
  {
   "cell_type": "code",
   "execution_count": 4,
   "id": "cd1e7637",
   "metadata": {},
   "outputs": [
    {
     "data": {
      "text/html": [
       "<div><style>\n",
       ".dataframe > thead > tr,\n",
       ".dataframe > tbody > tr {\n",
       "  text-align: right;\n",
       "  white-space: pre-wrap;\n",
       "}\n",
       "</style>\n",
       "<small>shape: (5, 7)</small><table border=\"1\" class=\"dataframe\"><thead><tr><th>id</th><th>val1</th><th>val2</th><th>val3</th><th>r</th><th>rh</th><th>best friends</th></tr><tr><td>u64</td><td>f64</td><td>f64</td><td>f64</td><td>f64</td><td>f64</td><td>list[u64]</td></tr></thead><tbody><tr><td>0</td><td>0.412197</td><td>0.745551</td><td>0.7488</td><td>0.98582</td><td>2.623568</td><td>[376, 274, … 133]</td></tr><tr><td>1</td><td>0.441657</td><td>0.778822</td><td>0.16669</td><td>0.501126</td><td>8.679967</td><td>[243, 122, … 316]</td></tr><tr><td>2</td><td>0.108636</td><td>0.809123</td><td>0.441843</td><td>0.453452</td><td>5.023719</td><td>[327, 408, … 303]</td></tr><tr><td>3</td><td>0.608282</td><td>0.424983</td><td>0.838739</td><td>0.636821</td><td>1.229568</td><td>[125, 291, … 558]</td></tr><tr><td>4</td><td>0.957586</td><td>0.869677</td><td>0.705383</td><td>0.974019</td><td>7.89945</td><td>[541, 468, … 899]</td></tr></tbody></table></div>"
      ],
      "text/plain": [
       "shape: (5, 7)\n",
       "┌─────┬──────────┬──────────┬──────────┬──────────┬──────────┬───────────────────┐\n",
       "│ id  ┆ val1     ┆ val2     ┆ val3     ┆ r        ┆ rh       ┆ best friends      │\n",
       "│ --- ┆ ---      ┆ ---      ┆ ---      ┆ ---      ┆ ---      ┆ ---               │\n",
       "│ u64 ┆ f64      ┆ f64      ┆ f64      ┆ f64      ┆ f64      ┆ list[u64]         │\n",
       "╞═════╪══════════╪══════════╪══════════╪══════════╪══════════╪═══════════════════╡\n",
       "│ 0   ┆ 0.412197 ┆ 0.745551 ┆ 0.7488   ┆ 0.98582  ┆ 2.623568 ┆ [376, 274, … 133] │\n",
       "│ 1   ┆ 0.441657 ┆ 0.778822 ┆ 0.16669  ┆ 0.501126 ┆ 8.679967 ┆ [243, 122, … 316] │\n",
       "│ 2   ┆ 0.108636 ┆ 0.809123 ┆ 0.441843 ┆ 0.453452 ┆ 5.023719 ┆ [327, 408, … 303] │\n",
       "│ 3   ┆ 0.608282 ┆ 0.424983 ┆ 0.838739 ┆ 0.636821 ┆ 1.229568 ┆ [125, 291, … 558] │\n",
       "│ 4   ┆ 0.957586 ┆ 0.869677 ┆ 0.705383 ┆ 0.974019 ┆ 7.89945  ┆ [541, 468, … 899] │\n",
       "└─────┴──────────┴──────────┴──────────┴──────────┴──────────┴───────────────────┘"
      ]
     },
     "execution_count": 4,
     "metadata": {},
     "output_type": "execute_result"
    }
   ],
   "source": [
    "df2.head()"
   ]
  },
  {
   "cell_type": "code",
   "execution_count": 8,
   "id": "5a21dcc0",
   "metadata": {},
   "outputs": [
    {
     "data": {
      "text/html": [
       "<div><style>\n",
       ".dataframe > thead > tr,\n",
       ".dataframe > tbody > tr {\n",
       "  text-align: right;\n",
       "  white-space: pre-wrap;\n",
       "}\n",
       "</style>\n",
       "<small>shape: (1, 1)</small><table border=\"1\" class=\"dataframe\"><thead><tr><th>best friends</th></tr><tr><td>u32</td></tr></thead><tbody><tr><td>416</td></tr></tbody></table></div>"
      ],
      "text/plain": [
       "shape: (1, 1)\n",
       "┌──────────────┐\n",
       "│ best friends │\n",
       "│ ---          │\n",
       "│ u32          │\n",
       "╞══════════════╡\n",
       "│ 416          │\n",
       "└──────────────┘"
      ]
     },
     "execution_count": 8,
     "metadata": {},
     "output_type": "execute_result"
    }
   ],
   "source": [
    "df2.select(\n",
    "    pl.col(\"best friends\").graph.eigen_centrality().arg_max()\n",
    ")"
   ]
  },
  {
   "cell_type": "code",
   "execution_count": null,
   "id": "55d934a1",
   "metadata": {},
   "outputs": [],
   "source": []
  },
  {
   "cell_type": "code",
   "execution_count": null,
   "id": "b572c41c",
   "metadata": {},
   "outputs": [],
   "source": [
    "df = pl.DataFrame({\n",
    "    \"a\": range(1000),\n",
    "    \"b\": [\"cat\"] * 200 + [\"dogs\"] * 500 + [\"lizards\"] * 300,\n",
    "    \"y\": np.random.randint(0, high = 2, size = 1000)\n",
    "})\n",
    "df.head()"
   ]
  },
  {
   "cell_type": "code",
   "execution_count": null,
   "id": "7a317edf",
   "metadata": {},
   "outputs": [],
   "source": [
    "df = pl.DataFrame({\n",
    "    \"a\": range(5000),\n",
    "    \"b\": [np.sqrt(x) for x in range(5000)],\n",
    "    \"y\": 0.1 * np.random.random(size=5000) + np.array(list(range(5000)))\n",
    "})\n",
    "df.head()"
   ]
  },
  {
   "cell_type": "code",
   "execution_count": null,
   "id": "e9f08701",
   "metadata": {},
   "outputs": [],
   "source": [
    "\n",
    "df.select(\n",
    "    pl.col(\"y\").num.lstsq_report(\n",
    "        pl.col(\"a\"), pl.col(\"b\"),\n",
    "        add_bias = False\n",
    "    ).alias(\"report\")\n",
    ").unnest(\"report\")"
   ]
  },
  {
   "cell_type": "code",
   "execution_count": null,
   "id": "60dad133",
   "metadata": {},
   "outputs": [],
   "source": [
    "from statsmodels.api import OLS\n",
    "target = df[\"y\"].to_numpy()\n",
    "data = df.select(\"a\", \"b\").to_numpy()"
   ]
  },
  {
   "cell_type": "code",
   "execution_count": null,
   "id": "0a1e3725",
   "metadata": {},
   "outputs": [],
   "source": [
    "df.select(\n",
    "    pl.col(\"a1\").num.psi(pl.col(\"a2\"))\n",
    ").item(0,0)"
   ]
  },
  {
   "cell_type": "code",
   "execution_count": null,
   "id": "8cf1274d",
   "metadata": {},
   "outputs": [],
   "source": [
    "df.select(\n",
    "    pl.col(\"b\").num.psi_discrete(pl.col(\"a\"))\n",
    ")"
   ]
  },
  {
   "cell_type": "code",
   "execution_count": null,
   "id": "acc43165",
   "metadata": {},
   "outputs": [],
   "source": [
    "df.select(\n",
    "    pl.col(\"a\").value_counts()\n",
    ").unnest(\"a\")"
   ]
  },
  {
   "cell_type": "code",
   "execution_count": null,
   "id": "f6f9f5e6",
   "metadata": {},
   "outputs": [],
   "source": [
    "pl.col(\"a\").value_counts().name"
   ]
  }
 ],
 "metadata": {
  "kernelspec": {
   "display_name": "Python 3 (ipykernel)",
   "language": "python",
   "name": "python3"
  },
  "language_info": {
   "codemirror_mode": {
    "name": "ipython",
    "version": 3
   },
   "file_extension": ".py",
   "mimetype": "text/x-python",
   "name": "python",
   "nbconvert_exporter": "python",
   "pygments_lexer": "ipython3",
   "version": "3.11.6"
  }
 },
 "nbformat": 4,
 "nbformat_minor": 5
}
