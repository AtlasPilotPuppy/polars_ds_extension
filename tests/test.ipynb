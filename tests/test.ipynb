{
 "cells": [
  {
   "cell_type": "code",
   "execution_count": 1,
   "id": "529f4422-5c3a-4bd6-abe0-a15edfc62abb",
   "metadata": {},
   "outputs": [],
   "source": [
    "from polars_ds import StrExt, NumExt\n",
    "import polars as pl\n",
    "import numpy as np "
   ]
  },
  {
   "cell_type": "code",
   "execution_count": 2,
   "id": "c618480c-f9c1-44d0-967c-c56de1c1ead8",
   "metadata": {},
   "outputs": [],
   "source": [
    "size = 100_000\n",
    "df = pl.DataFrame({\n",
    "    \"a\": 2 + np.sin(np.array(range(size))),\n",
    "    \"1024\":pl.Series([1024] * size, dtype = pl.UInt32),\n",
    "    \"exp\": pl.Series([x % 100 for x in range(size)], dtype =  pl.UInt32),\n",
    "    \"exp2\": pl.Series(range(size), dtype =  pl.UInt32)\n",
    "})"
   ]
  },
  {
   "cell_type": "code",
   "execution_count": 3,
   "id": "430fec01-5d0b-422f-b099-c86037512b6d",
   "metadata": {},
   "outputs": [],
   "source": [
    "from polars.testing import assert_frame_equal\n",
    "\n",
    "f1 = df.select(pl.col(\"a\").pow(pl.lit(100, pl.Int32)))\n",
    "f2 = df.select(pl.col(\"a\").num_ext.powi(100))\n",
    "\n",
    "assert_frame_equal(f1,f2)"
   ]
  },
  {
   "cell_type": "code",
   "execution_count": 10,
   "id": "416d5346-e75b-4769-a953-e898d6a4d84c",
   "metadata": {},
   "outputs": [
    {
     "name": "stdout",
     "output_type": "stream",
     "text": [
      "1.14 ms ± 4.83 µs per loop (mean ± std. dev. of 7 runs, 1,000 loops each)\n",
      "556 µs ± 3.64 µs per loop (mean ± std. dev. of 7 runs, 1,000 loops each)\n"
     ]
    }
   ],
   "source": [
    "%timeit df.select(pl.col(\"a\").pow(pl.lit(100_000, pl.Int32)))\n",
    "%timeit df.select(pl.col(\"a\").num_ext.powi(100_000)) # case 1"
   ]
  },
  {
   "cell_type": "code",
   "execution_count": 11,
   "id": "3eb2f562-ca11-4be1-8cc6-b4f6e1a4a36a",
   "metadata": {},
   "outputs": [],
   "source": [
    "f1 = df.select(pl.col(\"a\").pow(pl.col(\"1024\")))\n",
    "f2 =  df.select(pl.col(\"a\").num_ext.powi(pl.col(\"1024\")))\n",
    "assert_frame_equal(f1,f2)"
   ]
  },
  {
   "cell_type": "code",
   "execution_count": 12,
   "id": "a28ed8fd-7840-45f9-9787-b2c55d5488a4",
   "metadata": {},
   "outputs": [
    {
     "name": "stdout",
     "output_type": "stream",
     "text": [
      "1.32 ms ± 5.3 µs per loop (mean ± std. dev. of 7 runs, 1,000 loops each)\n",
      "616 µs ± 4.31 µs per loop (mean ± std. dev. of 7 runs, 1,000 loops each)\n"
     ]
    }
   ],
   "source": [
    "%timeit df.select(pl.col(\"a\").pow(pl.col(\"1024\")))\n",
    "%timeit df.select(pl.col(\"a\").num_ext.powi(pl.col(\"1024\")))"
   ]
  },
  {
   "cell_type": "code",
   "execution_count": 14,
   "id": "06f54a9c-629a-4004-bb03-0eac043be706",
   "metadata": {},
   "outputs": [],
   "source": [
    "f1 = df.select(pl.col(\"a\").pow(pl.col(\"exp2\")))\n",
    "f2 =  df.select(pl.col(\"a\").num_ext.powi(pl.col(\"exp2\")))\n",
    "assert_frame_equal(f1,f2)"
   ]
  },
  {
   "cell_type": "code",
   "execution_count": 15,
   "id": "d38723a2-b447-40a6-bc2e-21b6b77e020f",
   "metadata": {},
   "outputs": [],
   "source": [
    "f1 = df.select(pl.col(\"a\").pow(pl.col(\"exp2\")))\n",
    "f2 =  df.select(pl.col(\"a\").num_ext.powi(pl.col(\"exp2\"))) \n",
    "assert_frame_equal(f1,f2)"
   ]
  },
  {
   "cell_type": "code",
   "execution_count": 16,
   "id": "97464e71-41e0-4c65-a5a5-0749c2cab0b0",
   "metadata": {},
   "outputs": [
    {
     "name": "stdout",
     "output_type": "stream",
     "text": [
      "1.22 ms ± 3.76 µs per loop (mean ± std. dev. of 7 runs, 1,000 loops each)\n",
      "3.82 ms ± 18.5 µs per loop (mean ± std. dev. of 7 runs, 100 loops each)\n"
     ]
    }
   ],
   "source": [
    "%timeit df.select(pl.col(\"a\").pow(pl.col(\"exp2\"))) # case 3\n",
    "%timeit df.select(pl.col(\"a\").num_ext.powi(pl.col(\"exp2\")))"
   ]
  },
  {
   "cell_type": "code",
   "execution_count": 12,
   "id": "df70c7fb-83d0-4f63-b39e-6436c2c84334",
   "metadata": {},
   "outputs": [
    {
     "data": {
      "text/html": [
       "<div><style>\n",
       ".dataframe > thead > tr > th,\n",
       ".dataframe > tbody > tr > td {\n",
       "  text-align: right;\n",
       "  white-space: pre-wrap;\n",
       "}\n",
       "</style>\n",
       "<small>shape: (100_000, 1)</small><table border=\"1\" class=\"dataframe\"><thead><tr><th>a</th></tr><tr><td>f64</td></tr></thead><tbody><tr><td>1.0</td></tr><tr><td>2.841471</td></tr><tr><td>8.464012</td></tr><tr><td>9.81574</td></tr><tr><td>2.388694</td></tr><tr><td>1.222958</td></tr><tr><td>25.945141</td></tr><tr><td>934.814731</td></tr><tr><td>6377.107152</td></tr><tr><td>2764.316284</td></tr><tr><td>42.810547</td></tr><tr><td>1.000108</td></tr><tr><td>&hellip;</td></tr><tr><td>inf</td></tr><tr><td>1.0913e35</td></tr><tr><td>inf</td></tr><tr><td>inf</td></tr><tr><td>inf</td></tr><tr><td>inf</td></tr><tr><td>inf</td></tr><tr><td>inf</td></tr><tr><td>inf</td></tr><tr><td>inf</td></tr><tr><td>inf</td></tr><tr><td>inf</td></tr></tbody></table></div>"
      ],
      "text/plain": [
       "shape: (100_000, 1)\n",
       "┌──────────┐\n",
       "│ a        │\n",
       "│ ---      │\n",
       "│ f64      │\n",
       "╞══════════╡\n",
       "│ 1.0      │\n",
       "│ 2.841471 │\n",
       "│ 8.464012 │\n",
       "│ 9.81574  │\n",
       "│ …        │\n",
       "│ inf      │\n",
       "│ inf      │\n",
       "│ inf      │\n",
       "│ inf      │\n",
       "└──────────┘"
      ]
     },
     "execution_count": 12,
     "metadata": {},
     "output_type": "execute_result"
    }
   ],
   "source": [
    "df.select(pl.col(\"a\").num_ext.powi(pl.col(\"exp\")))"
   ]
  },
  {
   "cell_type": "code",
   "execution_count": null,
   "id": "1b2680bf-c914-4922-abd5-b5ca6e95ca6c",
   "metadata": {},
   "outputs": [],
   "source": []
  },
  {
   "cell_type": "code",
   "execution_count": null,
   "id": "e72039da-3cc8-405f-aa86-aa5e2a71f1d0",
   "metadata": {},
   "outputs": [],
   "source": []
  },
  {
   "cell_type": "code",
   "execution_count": null,
   "id": "9ba7af60-a3c8-4d13-9737-19b1f283f92e",
   "metadata": {},
   "outputs": [],
   "source": [
    "df.select(pl.col(\"a\").num_ext.powi(pl.col(\"exp\")))"
   ]
  },
  {
   "cell_type": "code",
   "execution_count": null,
   "id": "f775ebef-ed35-4fef-8f67-83ec9f95c98e",
   "metadata": {},
   "outputs": [],
   "source": [
    "# size = 100_000\n",
    "# df = pl.DataFrame({\n",
    "#     \"a\": np.sin(np.array(range(size))),\n",
    "#     # \"b\": np.sin(np.array(range(size))),\n",
    "#     # \"c\": np.sin(np.array(range(size))),\n",
    "#     # \"d\": np.sin(np.array(range(size))),\n",
    "#     # \"e\": np.sin(np.array(range(size))),\n",
    "#     \"1024\":pl.Series([1024] * size, dtype = pl.Int32),\n",
    "#     \"exp\": pl.Series(range(size), dtype = pl.Int32)\n",
    "# })\n",
    "# # npa = df[\"a\"].to_numpy()\n",
    "# # npb = df[\"b\"].to_numpy()\n",
    "# # npc = df[\"c\"].to_numpy()\n",
    "# # npd = df[\"d\"].to_numpy()\n",
    "# # npe = df[\"e\"].to_numpy()"
   ]
  },
  {
   "cell_type": "code",
   "execution_count": null,
   "id": "fccc978c-8281-4526-b162-4d181e4cedf1",
   "metadata": {},
   "outputs": [],
   "source": []
  },
  {
   "cell_type": "code",
   "execution_count": null,
   "id": "5def88d8-7c33-4eb9-8ced-8a2892a6e754",
   "metadata": {},
   "outputs": [],
   "source": [
    "%%timeit\n",
    "np.fft.rfft(npa).real"
   ]
  },
  {
   "cell_type": "code",
   "execution_count": null,
   "id": "08e70184-72ab-4815-814c-e25f0b3c1d64",
   "metadata": {},
   "outputs": [],
   "source": [
    "%%timeit\n",
    "df.select(\n",
    "    pl.col(\"a\").num_ext.fft().struct.field(\"re\"),\n",
    ")"
   ]
  },
  {
   "cell_type": "code",
   "execution_count": null,
   "id": "87868f55-db7b-4b58-bfa7-56e6fbd1130d",
   "metadata": {},
   "outputs": [],
   "source": [
    "%%timeit\n",
    "df.select(\n",
    "    pl.col(\"a\").num_ext.fft(),\n",
    "     pl.col(\"b\").num_ext.fft(),\n",
    "     pl.col(\"c\").num_ext.fft(),\n",
    "     pl.col(\"d\").num_ext.fft(),\n",
    "     pl.col(\"e\").num_ext.fft()\n",
    ")"
   ]
  },
  {
   "cell_type": "code",
   "execution_count": null,
   "id": "78dae23d-f7aa-41f2-856f-18da70170828",
   "metadata": {},
   "outputs": [],
   "source": [
    "%%timeit \n",
    "_ = np.fft.rfft(npa)\n",
    "_ = np.fft.rfft(npb)\n",
    "_ = np.fft.rfft(npc)\n",
    "_ = np.fft.rfft(npd)\n",
    "_ = np.fft.rfft(npe)"
   ]
  },
  {
   "cell_type": "code",
   "execution_count": null,
   "id": "7d6379fb-b2f5-45e4-bb19-d66a21d4c86e",
   "metadata": {},
   "outputs": [],
   "source": []
  },
  {
   "cell_type": "code",
   "execution_count": 3,
   "id": "f82ebcaa-25df-4ddd-b166-55f06e979593",
   "metadata": {},
   "outputs": [
    {
     "data": {
      "text/html": [
       "<div><style>\n",
       ".dataframe > thead > tr > th,\n",
       ".dataframe > tbody > tr > td {\n",
       "  text-align: right;\n",
       "  white-space: pre-wrap;\n",
       "}\n",
       "</style>\n",
       "<small>shape: (5, 4)</small><table border=\"1\" class=\"dataframe\"><thead><tr><th>dummy</th><th>a</th><th>b</th><th>y</th></tr><tr><td>str</td><td>i64</td><td>i64</td><td>f64</td></tr></thead><tbody><tr><td>&quot;a&quot;</td><td>0</td><td>-100000</td><td>100000.5</td></tr><tr><td>&quot;a&quot;</td><td>1</td><td>-99999</td><td>100001.5</td></tr><tr><td>&quot;a&quot;</td><td>2</td><td>-99998</td><td>100002.5</td></tr><tr><td>&quot;a&quot;</td><td>3</td><td>-99997</td><td>100003.5</td></tr><tr><td>&quot;a&quot;</td><td>4</td><td>-99996</td><td>100004.5</td></tr></tbody></table></div>"
      ],
      "text/plain": [
       "shape: (5, 4)\n",
       "┌───────┬─────┬─────────┬──────────┐\n",
       "│ dummy ┆ a   ┆ b       ┆ y        │\n",
       "│ ---   ┆ --- ┆ ---     ┆ ---      │\n",
       "│ str   ┆ i64 ┆ i64     ┆ f64      │\n",
       "╞═══════╪═════╪═════════╪══════════╡\n",
       "│ a     ┆ 0   ┆ -100000 ┆ 100000.5 │\n",
       "│ a     ┆ 1   ┆ -99999  ┆ 100001.5 │\n",
       "│ a     ┆ 2   ┆ -99998  ┆ 100002.5 │\n",
       "│ a     ┆ 3   ┆ -99997  ┆ 100003.5 │\n",
       "│ a     ┆ 4   ┆ -99996  ┆ 100004.5 │\n",
       "└───────┴─────┴─────────┴──────────┘"
      ]
     },
     "execution_count": 3,
     "metadata": {},
     "output_type": "execute_result"
    }
   ],
   "source": [
    "df = pl.DataFrame({\n",
    "    \"dummy\": [\"a\"] * 50_000 + [\"b\"] * 50_000,\n",
    "    \"a\": range(100_000),\n",
    "    \"b\": range(-100_000, 0),\n",
    "    \"y\": pl.Series(range(100_000, 200_000)) + 0.5\n",
    "})\n",
    "\n",
    "df.head()"
   ]
  },
  {
   "cell_type": "code",
   "execution_count": 4,
   "id": "84fe99db-1729-46a3-b063-795ec7ea039d",
   "metadata": {},
   "outputs": [
    {
     "data": {
      "text/html": [
       "<div><style>\n",
       ".dataframe > thead > tr > th,\n",
       ".dataframe > tbody > tr > td {\n",
       "  text-align: right;\n",
       "  white-space: pre-wrap;\n",
       "}\n",
       "</style>\n",
       "<small>shape: (2, 2)</small><table border=\"1\" class=\"dataframe\"><thead><tr><th>dummy</th><th>list_float</th></tr><tr><td>str</td><td>list[f64]</td></tr></thead><tbody><tr><td>&quot;a&quot;</td><td>[2.000005, -1.000005]</td></tr><tr><td>&quot;b&quot;</td><td>[2.000005, -1.000005]</td></tr></tbody></table></div>"
      ],
      "text/plain": [
       "shape: (2, 2)\n",
       "┌───────┬───────────────────────┐\n",
       "│ dummy ┆ list_float            │\n",
       "│ ---   ┆ ---                   │\n",
       "│ str   ┆ list[f64]             │\n",
       "╞═══════╪═══════════════════════╡\n",
       "│ a     ┆ [2.000005, -1.000005] │\n",
       "│ b     ┆ [2.000005, -1.000005] │\n",
       "└───────┴───────────────────────┘"
      ]
     },
     "execution_count": 4,
     "metadata": {},
     "output_type": "execute_result"
    }
   ],
   "source": [
    "df.group_by(\"dummy\").agg(\n",
    "    pl.col(\"y\").num_ext.lstsq(pl.col(\"a\"), pl.col(\"b\"), add_bias=False)\n",
    ")"
   ]
  },
  {
   "cell_type": "code",
   "execution_count": null,
   "id": "665baa92-26a0-4e49-8c98-3cb55c628509",
   "metadata": {},
   "outputs": [],
   "source": [
    "df.select(\n",
    "    pl.col(\"a\").num_ext.cond_entropy(pl.col(\"dummy\"))\n",
    ")"
   ]
  },
  {
   "cell_type": "code",
   "execution_count": null,
   "id": "5821d4d0-fe4f-4864-9d56-0a2c0ef03334",
   "metadata": {},
   "outputs": [],
   "source": [
    "df.group_by(\"dummy\").agg(\n",
    "    pl.col(\"y\").num_ext.lstsq(pl.col(\"a\"), pl.col(\"b\"), add_bias = True)\n",
    ")"
   ]
  },
  {
   "cell_type": "code",
   "execution_count": 6,
   "id": "3f9ad447-c7bb-4830-b996-882a382f0854",
   "metadata": {},
   "outputs": [
    {
     "name": "stdout",
     "output_type": "stream",
     "text": [
      "725 µs ± 20.9 µs per loop (mean ± std. dev. of 7 runs, 1,000 loops each)\n"
     ]
    }
   ],
   "source": [
    "%timeit df.select(pl.col(\"y\").num_ext.lstsq(pl.col(\"a\"), pl.col(\"b\")))"
   ]
  },
  {
   "cell_type": "code",
   "execution_count": null,
   "id": "ff9b6b21-532a-4655-a8a4-e5396c760a67",
   "metadata": {},
   "outputs": [],
   "source": [
    "df.select(\n",
    "    pl.col(\"y\").num_ext.lstsq(pl.col(\"a\"), pl.col(\"b\")).over(\"dummy\")\n",
    ")"
   ]
  },
  {
   "cell_type": "code",
   "execution_count": null,
   "id": "9acfcf37-85f9-44d6-96b4-897cd3fca4e6",
   "metadata": {},
   "outputs": [],
   "source": []
  },
  {
   "cell_type": "code",
   "execution_count": null,
   "id": "803ba306-791f-4a1e-a5b6-a6d6b9b55447",
   "metadata": {},
   "outputs": [],
   "source": [
    "df.select(\n",
    "    pl.col(\"a\").str_ext.levenshtein_dist(\"b\")\n",
    ")"
   ]
  },
  {
   "cell_type": "code",
   "execution_count": null,
   "id": "ee123a7e-7f9b-4f48-a5d5-6354799201ab",
   "metadata": {},
   "outputs": [],
   "source": []
  }
 ],
 "metadata": {
  "kernelspec": {
   "display_name": "Python 3 (ipykernel)",
   "language": "python",
   "name": "python3"
  },
  "language_info": {
   "codemirror_mode": {
    "name": "ipython",
    "version": 3
   },
   "file_extension": ".py",
   "mimetype": "text/x-python",
   "name": "python",
   "nbconvert_exporter": "python",
   "pygments_lexer": "ipython3",
   "version": "3.11.5"
  }
 },
 "nbformat": 4,
 "nbformat_minor": 5
}
