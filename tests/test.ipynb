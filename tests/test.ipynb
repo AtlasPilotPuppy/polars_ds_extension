{
 "cells": [
  {
   "cell_type": "code",
   "execution_count": 3,
   "metadata": {},
   "outputs": [],
   "source": [
    "import polars as pl\n",
    "import polars_ds as pds"
   ]
  },
  {
   "cell_type": "code",
   "execution_count": 4,
   "metadata": {},
   "outputs": [
    {
     "data": {
      "text/html": [
       "<div><style>\n",
       ".dataframe > thead > tr,\n",
       ".dataframe > tbody > tr {\n",
       "  text-align: right;\n",
       "  white-space: pre-wrap;\n",
       "}\n",
       "</style>\n",
       "<small>shape: (5, 3)</small><table border=\"1\" class=\"dataframe\"><thead><tr><th>x</th><th>y</th><th>test</th></tr><tr><td>i32</td><td>i32</td><td>i64</td></tr></thead><tbody><tr><td>120</td><td>33</td><td>1</td></tr><tr><td>16</td><td>63</td><td>1</td></tr><tr><td>171</td><td>187</td><td>1</td></tr><tr><td>106</td><td>194</td><td>1</td></tr><tr><td>26</td><td>66</td><td>1</td></tr></tbody></table></div>"
      ],
      "text/plain": [
       "shape: (5, 3)\n",
       "┌─────┬─────┬──────┐\n",
       "│ x   ┆ y   ┆ test │\n",
       "│ --- ┆ --- ┆ ---  │\n",
       "│ i32 ┆ i32 ┆ i64  │\n",
       "╞═════╪═════╪══════╡\n",
       "│ 120 ┆ 33  ┆ 1    │\n",
       "│ 16  ┆ 63  ┆ 1    │\n",
       "│ 171 ┆ 187 ┆ 1    │\n",
       "│ 106 ┆ 194 ┆ 1    │\n",
       "│ 26  ┆ 66  ┆ 1    │\n",
       "└─────┴─────┴──────┘"
      ]
     },
     "execution_count": 4,
     "metadata": {},
     "output_type": "execute_result"
    }
   ],
   "source": [
    "df = pds.random_data(size=100_000, n_cols = 0).select(\n",
    "    pds.random_int(0, 200).alias(\"x\"),\n",
    "    pds.random_int(0, 200).alias(\"y\"),\n",
    "    pl.Series([1] * 50_000 + [2] * 50_000).alias(\"test\")\n",
    ")\n",
    "df.head()"
   ]
  },
  {
   "cell_type": "code",
   "execution_count": 6,
   "metadata": {},
   "outputs": [
    {
     "data": {
      "text/html": [
       "<div><style>\n",
       ".dataframe > thead > tr,\n",
       ".dataframe > tbody > tr {\n",
       "  text-align: right;\n",
       "  white-space: pre-wrap;\n",
       "}\n",
       "</style>\n",
       "<small>shape: (2,)</small><table border=\"1\" class=\"dataframe\"><thead><tr><th>report</th></tr><tr><td>struct[5]</td></tr></thead><tbody><tr><td>{0,-0.005646,0.003154,-1.790208,0.073424}</td></tr><tr><td>{1,100.142237,0.363677,275.36055,0.0}</td></tr></tbody></table></div>"
      ],
      "text/plain": [
       "shape: (2,)\n",
       "Series: 'report' [struct[5]]\n",
       "[\n",
       "\t{0,-0.005646,0.003154,-1.790208,0.073424}\n",
       "\t{1,100.142237,0.363677,275.36055,0.0}\n",
       "]"
      ]
     },
     "execution_count": 6,
     "metadata": {},
     "output_type": "execute_result"
    }
   ],
   "source": [
    "df.select(\n",
    "    pds.query_lstsq_report(\"x\", target=\"y\", add_bias=True).alias(\"report\")\n",
    ")[\"report\"]"
   ]
  },
  {
   "cell_type": "code",
   "execution_count": 7,
   "metadata": {},
   "outputs": [
    {
     "data": {
      "text/html": [
       "<div><style>\n",
       ".dataframe > thead > tr,\n",
       ".dataframe > tbody > tr {\n",
       "  text-align: right;\n",
       "  white-space: pre-wrap;\n",
       "}\n",
       "</style>\n",
       "<small>shape: (10, 2)</small><table border=\"1\" class=\"dataframe\"><thead><tr><th>brk</th><th>count</th></tr><tr><td>f64</td><td>u32</td></tr></thead><tbody><tr><td>19.0</td><td>10082</td></tr><tr><td>39.0</td><td>9942</td></tr><tr><td>60.0</td><td>10341</td></tr><tr><td>80.0</td><td>9954</td></tr><tr><td>100.0</td><td>9981</td></tr><tr><td>120.0</td><td>10046</td></tr><tr><td>140.0</td><td>9874</td></tr><tr><td>160.0</td><td>10095</td></tr><tr><td>180.0</td><td>10003</td></tr><tr><td>inf</td><td>9682</td></tr></tbody></table></div>"
      ],
      "text/plain": [
       "shape: (10, 2)\n",
       "┌───────┬───────┐\n",
       "│ brk   ┆ count │\n",
       "│ ---   ┆ ---   │\n",
       "│ f64   ┆ u32   │\n",
       "╞═══════╪═══════╡\n",
       "│ 19.0  ┆ 10082 │\n",
       "│ 39.0  ┆ 9942  │\n",
       "│ 60.0  ┆ 10341 │\n",
       "│ 80.0  ┆ 9954  │\n",
       "│ 100.0 ┆ 9981  │\n",
       "│ 120.0 ┆ 10046 │\n",
       "│ 140.0 ┆ 9874  │\n",
       "│ 160.0 ┆ 10095 │\n",
       "│ 180.0 ┆ 10003 │\n",
       "│ inf   ┆ 9682  │\n",
       "└───────┴───────┘"
      ]
     },
     "execution_count": 7,
     "metadata": {},
     "output_type": "execute_result"
    }
   ],
   "source": [
    "df.select(\n",
    "    pl.col(\"x\").qcut(10, left_closed=False, allow_duplicates=True, include_breaks=True)\n",
    "        .struct.field(\"brk\")\n",
    "        .value_counts()\n",
    "        .sort()\n",
    ").unnest(\"brk\")"
   ]
  },
  {
   "cell_type": "code",
   "execution_count": null,
   "metadata": {},
   "outputs": [],
   "source": []
  },
  {
   "cell_type": "code",
   "execution_count": null,
   "metadata": {},
   "outputs": [],
   "source": []
  },
  {
   "cell_type": "code",
   "execution_count": 8,
   "metadata": {},
   "outputs": [
    {
     "data": {
      "text/html": [
       "<div><style>\n",
       ".dataframe > thead > tr,\n",
       ".dataframe > tbody > tr {\n",
       "  text-align: right;\n",
       "  white-space: pre-wrap;\n",
       "}\n",
       "</style>\n",
       "<small>shape: (1, 1)</small><table border=\"1\" class=\"dataframe\"><thead><tr><th>x</th></tr><tr><td>f64</td></tr></thead><tbody><tr><td>-0.005661</td></tr></tbody></table></div>"
      ],
      "text/plain": [
       "shape: (1, 1)\n",
       "┌───────────┐\n",
       "│ x         │\n",
       "│ ---       │\n",
       "│ f64       │\n",
       "╞═══════════╡\n",
       "│ -0.005661 │\n",
       "└───────────┘"
      ]
     },
     "execution_count": 8,
     "metadata": {},
     "output_type": "execute_result"
    }
   ],
   "source": [
    "df.select(\n",
    "    pl.corr(\"x\", \"y\")\n",
    ")"
   ]
  },
  {
   "cell_type": "code",
   "execution_count": 9,
   "metadata": {},
   "outputs": [
    {
     "data": {
      "text/html": [
       "<div><style>\n",
       ".dataframe > thead > tr,\n",
       ".dataframe > tbody > tr {\n",
       "  text-align: right;\n",
       "  white-space: pre-wrap;\n",
       "}\n",
       "</style>\n",
       "<small>shape: (1, 1)</small><table border=\"1\" class=\"dataframe\"><thead><tr><th>x</th></tr><tr><td>f64</td></tr></thead><tbody><tr><td>-0.003788</td></tr></tbody></table></div>"
      ],
      "text/plain": [
       "shape: (1, 1)\n",
       "┌───────────┐\n",
       "│ x         │\n",
       "│ ---       │\n",
       "│ f64       │\n",
       "╞═══════════╡\n",
       "│ -0.003788 │\n",
       "└───────────┘"
      ]
     },
     "execution_count": 9,
     "metadata": {},
     "output_type": "execute_result"
    }
   ],
   "source": [
    "\n",
    "df.select(\n",
    "    pds.kendall_tau(\"x\", \"y\")\n",
    ")"
   ]
  },
  {
   "cell_type": "code",
   "execution_count": 10,
   "metadata": {},
   "outputs": [],
   "source": [
    "from scipy.stats import kendalltau\n",
    "\n",
    "x = df[\"x\"].to_numpy()\n",
    "y = df[\"y\"].to_numpy()"
   ]
  },
  {
   "cell_type": "code",
   "execution_count": 11,
   "metadata": {},
   "outputs": [
    {
     "name": "stdout",
     "output_type": "stream",
     "text": [
      "10.4 ms ± 78.5 µs per loop (mean ± std. dev. of 7 runs, 100 loops each)\n"
     ]
    }
   ],
   "source": [
    "%%timeit\n",
    "kendalltau(x,y, nan_policy=\"omit\")"
   ]
  },
  {
   "cell_type": "code",
   "execution_count": 12,
   "metadata": {},
   "outputs": [
    {
     "data": {
      "text/html": [
       "<div><style>\n",
       ".dataframe > thead > tr,\n",
       ".dataframe > tbody > tr {\n",
       "  text-align: right;\n",
       "  white-space: pre-wrap;\n",
       "}\n",
       "</style>\n",
       "<small>shape: (1, 1)</small><table border=\"1\" class=\"dataframe\"><thead><tr><th>literal</th></tr><tr><td>f64</td></tr></thead><tbody><tr><td>0.002151</td></tr></tbody></table></div>"
      ],
      "text/plain": [
       "shape: (1, 1)\n",
       "┌──────────┐\n",
       "│ literal  │\n",
       "│ ---      │\n",
       "│ f64      │\n",
       "╞══════════╡\n",
       "│ 0.002151 │\n",
       "└──────────┘"
      ]
     },
     "execution_count": 12,
     "metadata": {},
     "output_type": "execute_result"
    }
   ],
   "source": [
    "df.sort(pl.col(\"x\").rank(method=\"random\")).select(\n",
    "    \"x\",\n",
    "    \"y\",\n",
    "    pl.col(\"y\").rank(method=\"max\").cast(pl.Float64).alias(\"r\"),\n",
    "    (-pl.col(\"y\")).rank(method=\"max\").cast(pl.Float64).alias(\"l\"),\n",
    ").with_columns(\n",
    "    pl.col(\"r\").diff().abs().alias(\"r_abs_diff\"),\n",
    "    (pl.col(\"l\") * (pl.len() - pl.col(\"l\"))).alias(\"l(n-l)\"),\n",
    ").select(\n",
    "    1 - (pl.len() / 2) * (pl.col(\"r_abs_diff\").sum() / pl.col(\"l(n-l)\").sum())\n",
    ")"
   ]
  }
 ],
 "metadata": {
  "kernelspec": {
   "display_name": ".venv",
   "language": "python",
   "name": "python3"
  },
  "language_info": {
   "codemirror_mode": {
    "name": "ipython",
    "version": 3
   },
   "file_extension": ".py",
   "mimetype": "text/x-python",
   "name": "python",
   "nbconvert_exporter": "python",
   "pygments_lexer": "ipython3",
   "version": "3.12.3"
  }
 },
 "nbformat": 4,
 "nbformat_minor": 2
}
