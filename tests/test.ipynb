{
 "cells": [
  {
   "cell_type": "code",
   "execution_count": 1,
   "metadata": {},
   "outputs": [],
   "source": [
    "import polars as pl\n",
    "import polars_ds as pds\n",
    "import numpy as np\n",
    "import time "
   ]
  },
  {
   "cell_type": "code",
   "execution_count": 5,
   "metadata": {},
   "outputs": [
    {
     "data": {
      "text/html": [
       "<div><style>\n",
       ".dataframe > thead > tr,\n",
       ".dataframe > tbody > tr {\n",
       "  text-align: right;\n",
       "  white-space: pre-wrap;\n",
       "}\n",
       "</style>\n",
       "<small>shape: (1_000, 3)</small><table border=\"1\" class=\"dataframe\"><thead><tr><th>uniform_1</th><th>uniform_2</th><th>y</th></tr><tr><td>f64</td><td>f64</td><td>i32</td></tr></thead><tbody><tr><td>11.956342</td><td>6.867786</td><td>2</td></tr><tr><td>0.135718</td><td>6.121134</td><td>1</td></tr><tr><td>3.606572</td><td>8.805103</td><td>1</td></tr><tr><td>7.866923</td><td>11.636089</td><td>2</td></tr><tr><td>6.227454</td><td>1.131124</td><td>1</td></tr><tr><td>&hellip;</td><td>&hellip;</td><td>&hellip;</td></tr><tr><td>2.689617</td><td>2.955092</td><td>0</td></tr><tr><td>1.657503</td><td>9.267187</td><td>0</td></tr><tr><td>0.335418</td><td>3.588835</td><td>2</td></tr><tr><td>1.398693</td><td>8.503631</td><td>1</td></tr><tr><td>1.575119</td><td>0.008611</td><td>0</td></tr></tbody></table></div>"
      ],
      "text/plain": [
       "shape: (1_000, 3)\n",
       "┌───────────┬───────────┬─────┐\n",
       "│ uniform_1 ┆ uniform_2 ┆ y   │\n",
       "│ ---       ┆ ---       ┆ --- │\n",
       "│ f64       ┆ f64       ┆ i32 │\n",
       "╞═══════════╪═══════════╪═════╡\n",
       "│ 11.956342 ┆ 6.867786  ┆ 2   │\n",
       "│ 0.135718  ┆ 6.121134  ┆ 1   │\n",
       "│ 3.606572  ┆ 8.805103  ┆ 1   │\n",
       "│ 7.866923  ┆ 11.636089 ┆ 2   │\n",
       "│ 6.227454  ┆ 1.131124  ┆ 1   │\n",
       "│ …         ┆ …         ┆ …   │\n",
       "│ 2.689617  ┆ 2.955092  ┆ 0   │\n",
       "│ 1.657503  ┆ 9.267187  ┆ 0   │\n",
       "│ 0.335418  ┆ 3.588835  ┆ 2   │\n",
       "│ 1.398693  ┆ 8.503631  ┆ 1   │\n",
       "│ 1.575119  ┆ 0.008611  ┆ 0   │\n",
       "└───────────┴───────────┴─────┘"
      ]
     },
     "execution_count": 5,
     "metadata": {},
     "output_type": "execute_result"
    }
   ],
   "source": [
    "df = pds.random_data(size=1000, n_cols = 0).select(\n",
    "    pds.random(0.0, 12.0).alias(\"uniform_1\"),\n",
    "    pds.random(0.0, 12.0).alias(\"uniform_2\"),\n",
    "    pds.random_int(0,3).alias(\"y\")\n",
    ")\n",
    "df"
   ]
  },
  {
   "cell_type": "code",
   "execution_count": 6,
   "metadata": {},
   "outputs": [
    {
     "data": {
      "text/html": [
       "<div><style>\n",
       ".dataframe > thead > tr,\n",
       ".dataframe > tbody > tr {\n",
       "  text-align: right;\n",
       "  white-space: pre-wrap;\n",
       "}\n",
       "</style>\n",
       "<small>shape: (2, 1)</small><table border=\"1\" class=\"dataframe\"><thead><tr><th>y</th></tr><tr><td>struct[2]</td></tr></thead><tbody><tr><td>{0.048537,0.952624}</td></tr><tr><td>{0.044068,0.95689}</td></tr></tbody></table></div>"
      ],
      "text/plain": [
       "shape: (2, 1)\n",
       "┌─────────────────────┐\n",
       "│ y                   │\n",
       "│ ---                 │\n",
       "│ struct[2]           │\n",
       "╞═════════════════════╡\n",
       "│ {0.048537,0.952624} │\n",
       "│ {0.044068,0.95689}  │\n",
       "└─────────────────────┘"
      ]
     },
     "execution_count": 6,
     "metadata": {},
     "output_type": "execute_result"
    }
   ],
   "source": [
    "df.select(\n",
    "    pds.query_f_test(\"uniform_1\", \"uniform_2\", group = \"y\")\n",
    ")"
   ]
  },
  {
   "cell_type": "code",
   "execution_count": 7,
   "metadata": {},
   "outputs": [
    {
     "data": {
      "text/html": [
       "<div><style>\n",
       ".dataframe > thead > tr,\n",
       ".dataframe > tbody > tr {\n",
       "  text-align: right;\n",
       "  white-space: pre-wrap;\n",
       "}\n",
       "</style>\n",
       "<small>shape: (2, 1)</small><table border=\"1\" class=\"dataframe\"><thead><tr><th>y</th></tr><tr><td>struct[2]</td></tr></thead><tbody><tr><td>{0.048537,0.952624}</td></tr><tr><td>{0.044068,0.95689}</td></tr></tbody></table></div>"
      ],
      "text/plain": [
       "shape: (2, 1)\n",
       "┌─────────────────────┐\n",
       "│ y                   │\n",
       "│ ---                 │\n",
       "│ struct[2]           │\n",
       "╞═════════════════════╡\n",
       "│ {0.048537,0.952624} │\n",
       "│ {0.044068,0.95689}  │\n",
       "└─────────────────────┘"
      ]
     },
     "execution_count": 7,
     "metadata": {},
     "output_type": "execute_result"
    }
   ],
   "source": [
    "df.select(\n",
    "    pl.col(\"y\").stats.f_test(pl.col(\"uniform_1\"), pl.col(\"uniform_2\"))\n",
    ")"
   ]
  },
  {
   "cell_type": "code",
   "execution_count": null,
   "metadata": {},
   "outputs": [],
   "source": []
  },
  {
   "cell_type": "code",
   "execution_count": null,
   "metadata": {},
   "outputs": [],
   "source": [
    "detector.infer_corr()"
   ]
  },
  {
   "cell_type": "code",
   "execution_count": null,
   "metadata": {},
   "outputs": [],
   "source": [
    "detector.infer_dependency()"
   ]
  },
  {
   "cell_type": "code",
   "execution_count": null,
   "metadata": {},
   "outputs": [],
   "source": [
    "detector.plot_dependency()"
   ]
  },
  {
   "cell_type": "code",
   "execution_count": null,
   "metadata": {},
   "outputs": [],
   "source": []
  },
  {
   "cell_type": "code",
   "execution_count": null,
   "metadata": {},
   "outputs": [],
   "source": [
    "df = pds.random_data()\n",
    "df.head()"
   ]
  },
  {
   "cell_type": "code",
   "execution_count": null,
   "metadata": {},
   "outputs": [],
   "source": [
    "df.select(\n",
    "    pds.query_ks_2samp(\"feature_1\", \"feature_2\")\n",
    ").unnest(\"feature_1\")"
   ]
  },
  {
   "cell_type": "code",
   "execution_count": null,
   "metadata": {},
   "outputs": [],
   "source": []
  },
  {
   "cell_type": "code",
   "execution_count": null,
   "metadata": {},
   "outputs": [],
   "source": []
  },
  {
   "cell_type": "code",
   "execution_count": null,
   "metadata": {},
   "outputs": [],
   "source": [
    "df = pl.DataFrame(dict(x=[ 1,  2, 10], y=[ 2,  5, 10]))\n",
    "df"
   ]
  },
  {
   "cell_type": "code",
   "execution_count": null,
   "metadata": {},
   "outputs": [],
   "source": [
    "df.select(pl.col(\"x\").num._knn_entropy(pl.col('y'), k=1, dist = \"l2\")).item(0,0)"
   ]
  },
  {
   "cell_type": "code",
   "execution_count": null,
   "metadata": {},
   "outputs": [],
   "source": [
    "df.select(\n",
    "    pds.query_knn_entropy(\"x\", \"y\", k=1, dist = \"l2\").sqrt().alias(\"l2\"),\n",
    "    pds.query_knn_entropy(\"x\", \"y\", k=1, dist = \"inf\").alias(\"inf\"),\n",
    ")"
   ]
  },
  {
   "cell_type": "code",
   "execution_count": null,
   "metadata": {},
   "outputs": [],
   "source": [
    "def test_knn_entropy():\n",
    "    df = pl.DataFrame(dict(x=[ 1,  2, 10], y=[ 2,  5, 10]))\n",
    "    ent = df.select(pl.col.x.num.knn_entropy(pl.col('y'), k=1))\n",
    "    assert ent.item(0, 0) == pytest.approx(5.67, abs=0.01)"
   ]
  },
  {
   "cell_type": "code",
   "execution_count": null,
   "metadata": {},
   "outputs": [],
   "source": []
  },
  {
   "cell_type": "code",
   "execution_count": null,
   "metadata": {},
   "outputs": [],
   "source": []
  },
  {
   "cell_type": "code",
   "execution_count": null,
   "metadata": {},
   "outputs": [],
   "source": [
    "df = pl.DataFrame({\n",
    "    \"A\": pl.int_range(10000, eager=True),\n",
    "    \"B\": pl.int_range(10000, eager=True)+1,\n",
    "    \"CC\": [1] * 10000,\n",
    "}).with_row_index()\n",
    "\n",
    "df = df.with_columns(df.to_dummies('B'))\n",
    "df = df.with_columns(pl.col('A').rolling_mean(2).alias('C'))\n",
    "print(df)"
   ]
  },
  {
   "cell_type": "code",
   "execution_count": null,
   "metadata": {},
   "outputs": [],
   "source": [
    "from typing import List\n",
    "\n",
    "def residual_multiple(cols: List[pl.Series], add_constant: bool) -> pl.Series:\n",
    "    cols = [list(c.struct) if isinstance(c.dtype, pl.Struct) else [c] for c in cols]\n",
    "    cols = [i.to_numpy() for p in cols for i in p]\n",
    "    if add_constant:\n",
    "        cols += [np.ones_like(cols[0])]\n",
    "    yx = np.vstack(cols).T\n",
    "\n",
    "    # skip nan\n",
    "    mask = np.any(np.isnan(yx), axis=1)\n",
    "    yx_ = yx[~mask, :]\n",
    "\n",
    "    y = yx_[:, 0]\n",
    "    x = yx_[:, 1:]\n",
    "    coef = np.linalg.lstsq(x, y, rcond=None)[0]\n",
    "    y_hat = np.sum(x * coef, axis=1)\n",
    "    residual = y - y_hat\n",
    "\n",
    "    # refill\n",
    "    out = np.empty_like(yx[:, 0])\n",
    "    out[~mask] = residual\n",
    "    out[mask] = np.nan\n",
    "    return pl.Series(out, nan_to_null=True)\n",
    "\n",
    "\n",
    "def cs_neutralize_residual_multiple(y: pl.Expr, *more_x: pl.Expr, add_constant: bool = False) -> pl.Expr:\n",
    "    return pl.map_batches([y, *more_x], lambda xx: residual_multiple(xx, add_constant))\n",
    "\n",
    "x = df.with_columns([\n",
    "    cs_neutralize_residual_multiple(pl.col('A'), pl.col('C')).alias('resid1'),\n",
    "    pl.col('A').num.lstsq(pl.col('C'), return_pred=True, skip_null=True).struct.field('resid').alias('resid2'),\n",
    "])\n",
    "print(x)"
   ]
  },
  {
   "cell_type": "code",
   "execution_count": null,
   "metadata": {},
   "outputs": [],
   "source": [
    "df = df.select(\n",
    "    pl.col(\"feature_1\").alias(\"B_1\"),\n",
    "    pl.col(\"feature_2\").alias(\"B_2\"),\n",
    "    pl.col(\"feature_3\").alias(\"B_3\"),\n",
    "    pl.col(\"feature_4\").alias(\"A\"),\n",
    ")\n",
    "df.head()"
   ]
  },
  {
   "cell_type": "code",
   "execution_count": null,
   "metadata": {},
   "outputs": [],
   "source": [
    "df.select(\n",
    "    pds.query_lstsq(pl.col(\"B_1\"), pl.col(\"B_2\"), pl.col(\"B_3\"), target = pl.col(\"A\"), return_pred=True, add_bias=True)\n",
    ")"
   ]
  },
  {
   "cell_type": "code",
   "execution_count": null,
   "metadata": {},
   "outputs": [],
   "source": [
    "df.with_columns(\n",
    "    pl.col('A').num.lstsq(*[pl.col(c) for c in df.columns if c.startswith(\"B_\")], return_pred=True).struct.field('resid')\n",
    ")"
   ]
  },
  {
   "cell_type": "code",
   "execution_count": null,
   "metadata": {},
   "outputs": [],
   "source": [
    "# pl.col('A').num.lstsq(pl.col('^B_.*$'), return_pred=True).struct.field('resid')"
   ]
  },
  {
   "cell_type": "code",
   "execution_count": null,
   "metadata": {},
   "outputs": [],
   "source": [
    "print(df.columns)\n",
    "df.with_columns(\n",
    "    pl.col('A').num.lstsq(pl.col('^B_.*$'), return_pred=True) # .struct.field('resid')\n",
    ").head()"
   ]
  },
  {
   "cell_type": "code",
   "execution_count": null,
   "metadata": {},
   "outputs": [],
   "source": []
  },
  {
   "cell_type": "code",
   "execution_count": null,
   "metadata": {},
   "outputs": [],
   "source": []
  },
  {
   "cell_type": "code",
   "execution_count": null,
   "metadata": {},
   "outputs": [],
   "source": []
  },
  {
   "cell_type": "code",
   "execution_count": null,
   "metadata": {},
   "outputs": [],
   "source": [
    "print(\n",
    "    \n",
    "df.select(\n",
    "    pl.col(\"row_num\"),\n",
    "    pds.query_radius_ptwise(\n",
    "        pl.col(\"feature_1\"), pl.col(\"feature_2\"), pl.col(\"feature_3\"), # Columns used as the coordinates in n-d space\n",
    "        index = pl.col(\"row_num\"),\n",
    "        r = 0.1, \n",
    "        dist = \"l2\", # actually this is squared l2\n",
    "        parallel = True\n",
    "    ).alias(\"best friends\"),\n",
    ").with_columns( # -1 to remove the point itself\n",
    "    (pl.col(\"best friends\").list.len() - 1).alias(\"best friends count\")\n",
    ").head()\n",
    "\n",
    ")"
   ]
  },
  {
   "cell_type": "code",
   "execution_count": null,
   "metadata": {},
   "outputs": [],
   "source": [
    "        pl.col(\"val1\"), pl.col(\"val2\"), pl.col(\"val3\"), # Columns used as the coordinates in n-d space\n",
    "        r = 0.1, \n",
    "        dist = \"l2\", # actually this is squared l2\n",
    "        parallel = True"
   ]
  },
  {
   "cell_type": "code",
   "execution_count": null,
   "metadata": {},
   "outputs": [],
   "source": []
  },
  {
   "cell_type": "code",
   "execution_count": null,
   "metadata": {},
   "outputs": [],
   "source": []
  },
  {
   "cell_type": "code",
   "execution_count": null,
   "metadata": {},
   "outputs": [],
   "source": [
    "import scipy"
   ]
  },
  {
   "cell_type": "code",
   "execution_count": null,
   "metadata": {},
   "outputs": [],
   "source": [
    "df.select(pl.col(\"feature_1\").num.rfft())"
   ]
  },
  {
   "cell_type": "code",
   "execution_count": null,
   "metadata": {},
   "outputs": [],
   "source": [
    "df.select(pl.col(\"feature_1\").num.rfft2())"
   ]
  },
  {
   "cell_type": "code",
   "execution_count": null,
   "metadata": {},
   "outputs": [],
   "source": []
  },
  {
   "cell_type": "code",
   "execution_count": null,
   "metadata": {},
   "outputs": [],
   "source": [
    "import polars as pl\n",
    "import polars_ds as pld  # noqa\n",
    "from pandas._testing import makeTimeDataFrame"
   ]
  },
  {
   "cell_type": "code",
   "execution_count": null,
   "metadata": {},
   "outputs": [],
   "source": [
    "df = makeTimeDataFrame()\n",
    "df = df.rename(columns={'B': 'B_1', 'C': 'B_2', 'D': 'B_3', })\n",
    "df = pl.from_pandas(df, include_index=True)"
   ]
  }
 ],
 "metadata": {
  "kernelspec": {
   "display_name": ".venv",
   "language": "python",
   "name": "python3"
  },
  "language_info": {
   "codemirror_mode": {
    "name": "ipython",
    "version": 3
   },
   "file_extension": ".py",
   "mimetype": "text/x-python",
   "name": "python",
   "nbconvert_exporter": "python",
   "pygments_lexer": "ipython3",
   "version": "3.11.8"
  }
 },
 "nbformat": 4,
 "nbformat_minor": 2
}
