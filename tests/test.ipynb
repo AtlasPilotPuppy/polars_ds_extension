{
 "cells": [
  {
   "cell_type": "code",
   "execution_count": null,
   "id": "529f4422-5c3a-4bd6-abe0-a15edfc62abb",
   "metadata": {},
   "outputs": [],
   "source": [
    "from polars_ds import NumExt, StrExt\n",
    "import polars as pl\n",
    "import numpy as np"
   ]
  },
  {
   "cell_type": "markdown",
   "id": "3aef5c69-fff3-4779-9b58-f939d725f0b0",
   "metadata": {},
   "source": [
    "# Num Extensions"
   ]
  },
  {
   "cell_type": "code",
   "execution_count": null,
   "id": "430fec01-5d0b-422f-b099-c86037512b6d",
   "metadata": {},
   "outputs": [],
   "source": [
    "size = 100_000\n",
    "df = pl.DataFrame(\n",
    "    {\n",
    "        \"f\": np.sin(list(range(size))),\n",
    "        \"dummy\": [\"a\"] * (size // 2) + [\"b\"] * (size // 2),\n",
    "        \"a\": np.random.random(size=size),\n",
    "        \"b\": np.random.random(size=size),\n",
    "        \"x1\": pl.Series(range(size), dtype=pl.Int32),\n",
    "        \"x0\": pl.Series(range(size), dtype=pl.Int32),\n",
    "        \"x2\": pl.Series(range(size, size + size), dtype=pl.Int32),\n",
    "        \"y\": range(-size, 0),\n",
    "    }\n",
    ")\n",
    "df.head()"
   ]
  },
  {
   "cell_type": "code",
   "execution_count": null,
   "id": "26b9bf8c-5007-4571-b7f7-d04663b94e76",
   "metadata": {},
   "outputs": [],
   "source": []
  },
  {
   "cell_type": "code",
   "execution_count": null,
   "id": "dbf1f9b6-20f1-49b7-9cb5-7ad4d57ca819",
   "metadata": {},
   "outputs": [],
   "source": []
  },
  {
   "cell_type": "code",
   "execution_count": null,
   "id": "68a5a972-ab9b-410a-a717-2124f21346a5",
   "metadata": {},
   "outputs": [],
   "source": [
    "from polars.testing import assert_frame_equal\n",
    "\n",
    "f1 = df.select(pl.col(\"f\").num_ext.powi(100_000))\n",
    "f2 = df.select(pl.col(\"f\").pow(100_000))\n",
    "assert_frame_equal(f1, f2)"
   ]
  },
  {
   "cell_type": "code",
   "execution_count": null,
   "id": "ed14e014-2ff6-40cf-abb6-7bf2cf23c586",
   "metadata": {},
   "outputs": [],
   "source": [
    "%timeit df.select(pl.col(\"f\").pow(100_000))\n",
    "%timeit df.select(pl.col(\"f\").num_ext.powi(100_000))"
   ]
  },
  {
   "cell_type": "code",
   "execution_count": null,
   "id": "037ee859-b668-4590-bc41-7d34f9cf3438",
   "metadata": {},
   "outputs": [],
   "source": [
    "f1 = df.select(pl.col(\"f\").num_ext.powi(8))\n",
    "f2 = df.select(pl.col(\"f\").pow(8))\n",
    "assert_frame_equal(f1, f2)"
   ]
  },
  {
   "cell_type": "code",
   "execution_count": null,
   "id": "bf7b32b9-0d86-4bc6-8a8e-1971e402df38",
   "metadata": {},
   "outputs": [],
   "source": [
    "%timeit df.select(pl.col(\"f\").pow(8))\n",
    "%timeit df.select(pl.col(\"f\").num_ext.powi(8))"
   ]
  },
  {
   "cell_type": "code",
   "execution_count": null,
   "id": "4a0d7ed9-06d4-4a4d-ae2c-45002af870be",
   "metadata": {},
   "outputs": [],
   "source": [
    "f1 = df.select(pl.col(\"f\").num_ext.powi(16))\n",
    "f2 = df.select(pl.col(\"f\").pow(16))\n",
    "assert_frame_equal(f1, f2)"
   ]
  },
  {
   "cell_type": "code",
   "execution_count": null,
   "id": "38fe8a90-06e4-4dce-bf2e-cb8622b87e9d",
   "metadata": {},
   "outputs": [],
   "source": [
    "%timeit df.select(pl.col(\"f\").pow(16))\n",
    "%timeit df.select(pl.col(\"f\").num_ext.powi(16))"
   ]
  },
  {
   "cell_type": "code",
   "execution_count": null,
   "id": "366fd5a7-d7ce-4632-b793-6bf8ce9157eb",
   "metadata": {},
   "outputs": [],
   "source": [
    "# f1 = df.select(pl.col(\"f\").pow(pl.col(\"x1\")))\n",
    "# f2 = df.select(pl.col(\"f\").num_ext.powi(pl.col(\"x1\")))\n",
    "# assert_frame_equal(\n",
    "#     f1, f2\n",
    "# )"
   ]
  },
  {
   "cell_type": "code",
   "execution_count": null,
   "id": "a20e7cfa-ff4a-4af1-8a9e-75d0d03aa1b3",
   "metadata": {},
   "outputs": [],
   "source": [
    "%timeit df.select(pl.col(\"f\").pow(pl.col(\"x1\")))\n",
    "%timeit df.select(pl.col(\"f\").num_ext.powi(pl.col(\"x1\")))"
   ]
  },
  {
   "cell_type": "code",
   "execution_count": null,
   "id": "1600edff-3187-4ee8-aa7f-cb1ea7d5ef32",
   "metadata": {},
   "outputs": [],
   "source": []
  },
  {
   "cell_type": "code",
   "execution_count": null,
   "id": "b20356ee-03be-4afa-af38-2eaadcd0ff20",
   "metadata": {},
   "outputs": [],
   "source": []
  },
  {
   "cell_type": "code",
   "execution_count": null,
   "id": "1e8ee876-e049-477b-8eee-09c8cb023415",
   "metadata": {},
   "outputs": [],
   "source": []
  },
  {
   "cell_type": "code",
   "execution_count": null,
   "id": "93389503-eee4-4623-bd9c-673f298387e0",
   "metadata": {},
   "outputs": [],
   "source": []
  },
  {
   "cell_type": "code",
   "execution_count": null,
   "id": "a79e7d30-c57c-448d-93cd-e497de702610",
   "metadata": {},
   "outputs": [],
   "source": []
  },
  {
   "cell_type": "code",
   "execution_count": null,
   "id": "416d5346-e75b-4769-a953-e898d6a4d84c",
   "metadata": {},
   "outputs": [],
   "source": [
    "# FFT\n",
    "df.select(pl.col(\"f\").num_ext.fft()).unnest(\"f\").head()"
   ]
  },
  {
   "cell_type": "code",
   "execution_count": null,
   "id": "ed47b643-6bcc-43f6-9a25-82168c33e7fd",
   "metadata": {},
   "outputs": [],
   "source": [
    "# Least Square (Linear Regression)\n",
    "df.select(pl.col(\"y\").num_ext.lstsq(pl.col(\"x1\"), pl.col(\"x2\"), add_bias=False))"
   ]
  },
  {
   "cell_type": "code",
   "execution_count": null,
   "id": "0e9fb061-340d-423d-9107-772387006ff2",
   "metadata": {},
   "outputs": [],
   "source": [
    "df.group_by(\"dummy\").agg(pl.col(\"y\").num_ext.lstsq(pl.col(\"x1\"), pl.col(\"x2\"), add_bias=False))"
   ]
  },
  {
   "cell_type": "code",
   "execution_count": null,
   "id": "d8fda8ca-57e7-4e02-a3f0-283ecce66a59",
   "metadata": {},
   "outputs": [],
   "source": [
    "# Conditional Entropy, should be 0 because x1 is an ID\n",
    "df.select(pl.col(\"y\").num_ext.cond_entropy(pl.col(\"x1\")))"
   ]
  },
  {
   "cell_type": "code",
   "execution_count": null,
   "id": "cf55f007-a7c2-4a78-a93b-4d83bfefe95c",
   "metadata": {},
   "outputs": [],
   "source": [
    "# t statistics"
   ]
  },
  {
   "cell_type": "code",
   "execution_count": null,
   "id": "b78e8775-c50e-4d1f-a482-a5f76a358a9b",
   "metadata": {},
   "outputs": [],
   "source": [
    "df.select(pl.col(\"a\").num_ext.t_2samp(pl.col(\"b\")))"
   ]
  },
  {
   "cell_type": "code",
   "execution_count": null,
   "id": "bf70afa1-28f9-4227-a58f-aa49ed722e4a",
   "metadata": {},
   "outputs": [],
   "source": [
    "df.select(pl.col(\"a\").num_ext.welch_t(pl.col(\"b\"), return_df=True))"
   ]
  },
  {
   "cell_type": "code",
   "execution_count": null,
   "id": "f7c22e5e-b724-4ed9-827f-1a4f41870b8c",
   "metadata": {},
   "outputs": [],
   "source": [
    "df.group_by(\"dummy\").agg(pl.col(\"f\").num_ext.t_2samp(pl.col(\"b\")).alias(\"t\"))"
   ]
  },
  {
   "cell_type": "code",
   "execution_count": null,
   "id": "85d0d094-3c4c-4230-a589-1027c5690162",
   "metadata": {},
   "outputs": [],
   "source": []
  },
  {
   "cell_type": "markdown",
   "id": "a8d7c6e3-0f1d-45f0-9fdb-cdb303b98556",
   "metadata": {},
   "source": [
    "# Str Extension"
   ]
  },
  {
   "cell_type": "code",
   "execution_count": null,
   "id": "54ad36f9-264e-4a49-bf36-936639440edf",
   "metadata": {},
   "outputs": [],
   "source": [
    "size = 100_000\n",
    "df = pl.DataFrame({\"sen\": [\"Hello, world! I'm going to church.\"] * size, \"word\": [\"words\", \"word\"] * (size // 2)})\n",
    "df.head()"
   ]
  },
  {
   "cell_type": "code",
   "execution_count": null,
   "id": "ee123a7e-7f9b-4f48-a5d5-6354799201ab",
   "metadata": {},
   "outputs": [],
   "source": [
    "# Tokenize\n",
    "df2 = df.select(\n",
    "    pl.col(\"sen\").str.to_lowercase().str_ext.tokenize()  # .explode().unique()\n",
    ")"
   ]
  },
  {
   "cell_type": "code",
   "execution_count": null,
   "id": "33fd3141-8245-4792-a8a4-8c06713603b2",
   "metadata": {},
   "outputs": [],
   "source": [
    "df2.head()"
   ]
  },
  {
   "cell_type": "code",
   "execution_count": null,
   "id": "d4f45d3d-d3b9-4fde-9ed5-b3d01d0fa1ba",
   "metadata": {},
   "outputs": [],
   "source": []
  }
 ],
 "metadata": {
  "kernelspec": {
   "display_name": "Python 3 (ipykernel)",
   "language": "python",
   "name": "python3"
  },
  "language_info": {
   "codemirror_mode": {
    "name": "ipython",
    "version": 3
   },
   "file_extension": ".py",
   "mimetype": "text/x-python",
   "name": "python",
   "nbconvert_exporter": "python",
   "pygments_lexer": "ipython3",
   "version": "3.11.5"
  }
 },
 "nbformat": 4,
 "nbformat_minor": 5
}
