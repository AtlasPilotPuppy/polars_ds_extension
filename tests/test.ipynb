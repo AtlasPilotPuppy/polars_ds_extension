{
 "cells": [
  {
   "cell_type": "code",
   "execution_count": null,
   "metadata": {},
   "outputs": [],
   "source": [
    "import polars as pl\n",
    "import polars_ds as pds"
   ]
  },
  {
   "cell_type": "code",
   "execution_count": null,
   "metadata": {},
   "outputs": [],
   "source": [
    "df = pds.random_data(size=5_000, n_cols = 0).select(\n",
    "    pds.random(0.0, 1.0).alias(\"x1\"),\n",
    "    pds.random(0.0, 1.0).alias(\"x2\"),\n",
    "    pds.random(0.0, 1.0).alias(\"x3\"),\n",
    ")"
   ]
  },
  {
   "cell_type": "code",
   "execution_count": null,
   "metadata": {},
   "outputs": [],
   "source": [
    "df.select(\n",
    "    pds.query_transfer_entropy(\"x1\", \"x2\", k = 3)\n",
    ").item(0,0)"
   ]
  },
  {
   "cell_type": "code",
   "execution_count": null,
   "metadata": {},
   "outputs": [],
   "source": [
    "\n",
    "df = pl.DataFrame({\n",
    "    \"id\": [0,1,2,3],\n",
    "    \"a1\": [0.1, 0.2, 0.3, 0.4],\n",
    "    \"a2\": [0.1, 0.2, 0.3, 0.4],\n",
    "    \"a3\": [0.1, 0.2, 0.3, 0.4],\n",
    "    \"can_eval\": [1, 0, 1, 1]\n",
    "})"
   ]
  },
  {
   "cell_type": "code",
   "execution_count": null,
   "metadata": {},
   "outputs": [],
   "source": [
    "temp = df.with_columns(\n",
    "\n",
    "    pds.query_knn_ptwise(\n",
    "        \"a1\", \"a2\", \"a3\",\n",
    "        index = \"id\",  # pl.col(\"id\"), str | pl.Expr\n",
    "        k = 1, \n",
    "        dist = \"l2\", # squared l2\n",
    "        parallel = False,\n",
    "        eval_mask = pl.col(\"can_eval\") == 1,\n",
    "        data_mask = pl.col(\"can_eval\") == 1,\n",
    "        # data_mask = pl.col(\"can_select\") == 1\n",
    "    ).alias(\"best friends\")\n",
    "\n",
    ")\n",
    "temp"
   ]
  },
  {
   "cell_type": "code",
   "execution_count": null,
   "metadata": {},
   "outputs": [],
   "source": [
    "list(temp[\"best friends\"])[1] is None"
   ]
  },
  {
   "cell_type": "code",
   "execution_count": null,
   "metadata": {},
   "outputs": [],
   "source": [
    "df.select(\n",
    "    \"id\",\n",
    "    \"can_select\",\n",
    "    pds.query_knn_ptwise(\n",
    "        pl.col(\"var1\"), pl.col(\"var2\"), pl.col(\"var3\"), # Columns used as the coordinates in n-d space\n",
    "        index = \"id\",  # pl.col(\"id\"), str | pl.Expr\n",
    "        k = 3, \n",
    "        dist = \"l2\", # squared l2\n",
    "        parallel = True,\n",
    "        eval_mask = pl.col(\"can_select\") == 1,\n",
    "        # data_mask = pl.col(\"can_select\") == 1\n",
    "    ).alias(\"best friends\")\n",
    "\n",
    ")\n",
    "\n",
    "# .filter(\n",
    "#     pl.col(\"can_select\") == 1\n",
    "# )"
   ]
  },
  {
   "cell_type": "code",
   "execution_count": null,
   "metadata": {},
   "outputs": [],
   "source": [
    "df_test = df.lazy().select(\n",
    "    \"id\",\n",
    "    \"can_select\",\n",
    "    pl.when(\n",
    "        pl.col(\"can_select\") == 1\n",
    "    ).then(\n",
    "        pds.query_knn_ptwise(\n",
    "            *(pl.col(f\"var{i}\") for i in range(2)), # Columns used as the coordinates in n-d space\n",
    "            index = \"id\",  # pl.col(\"id\"), str | pl.Expr\n",
    "            k = 5000, \n",
    "            dist = \"l2\", # squared l2\n",
    "            parallel = True\n",
    "        )\n",
    "    ).otherwise(\n",
    "        None\n",
    "    )    \n",
    "    .alias(\"best friends\")\n",
    ").collect()"
   ]
  },
  {
   "cell_type": "code",
   "execution_count": null,
   "metadata": {},
   "outputs": [],
   "source": [
    "df_test"
   ]
  },
  {
   "cell_type": "code",
   "execution_count": null,
   "metadata": {},
   "outputs": [],
   "source": [
    "df_test.filter(\n",
    "    pl.col(\"can_select\") == 1\n",
    ")"
   ]
  },
  {
   "cell_type": "code",
   "execution_count": null,
   "metadata": {},
   "outputs": [],
   "source": [
    "pl.show_versions()"
   ]
  },
  {
   "cell_type": "code",
   "execution_count": null,
   "metadata": {},
   "outputs": [],
   "source": []
  }
 ],
 "metadata": {
  "kernelspec": {
   "display_name": ".venv",
   "language": "python",
   "name": "python3"
  },
  "language_info": {
   "codemirror_mode": {
    "name": "ipython",
    "version": 3
   },
   "file_extension": ".py",
   "mimetype": "text/x-python",
   "name": "python",
   "nbconvert_exporter": "python",
   "pygments_lexer": "ipython3",
   "version": "3.12.3"
  }
 },
 "nbformat": 4,
 "nbformat_minor": 2
}
