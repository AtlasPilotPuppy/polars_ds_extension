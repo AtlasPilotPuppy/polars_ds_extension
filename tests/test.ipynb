{
 "cells": [
  {
   "cell_type": "code",
   "execution_count": 1,
   "metadata": {},
   "outputs": [],
   "source": [
    "import polars as pl\n",
    "import polars_ds as pds"
   ]
  },
  {
   "cell_type": "code",
   "execution_count": 2,
   "metadata": {},
   "outputs": [
    {
     "data": {
      "text/html": [
       "<div><style>\n",
       ".dataframe > thead > tr,\n",
       ".dataframe > tbody > tr {\n",
       "  text-align: right;\n",
       "  white-space: pre-wrap;\n",
       "}\n",
       "</style>\n",
       "<small>shape: (2_000, 5)</small><table border=\"1\" class=\"dataframe\"><thead><tr><th>x1</th><th>x2</th><th>x3</th><th>str</th><th>target</th></tr><tr><td>f64</td><td>f64</td><td>f64</td><td>str</td><td>i32</td></tr></thead><tbody><tr><td>0.699954</td><td>0.235914</td><td>0.618727</td><td>&quot;2&quot;</td><td>1</td></tr><tr><td>0.219956</td><td>0.725589</td><td>0.918007</td><td>&quot;2&quot;</td><td>1</td></tr><tr><td>0.513334</td><td>0.091213</td><td>0.998667</td><td>&quot;0&quot;</td><td>1</td></tr><tr><td>0.509034</td><td>0.136349</td><td>0.171863</td><td>&quot;1&quot;</td><td>1</td></tr><tr><td>0.991826</td><td>0.786496</td><td>0.30152</td><td>&quot;2&quot;</td><td>0</td></tr><tr><td>&hellip;</td><td>&hellip;</td><td>&hellip;</td><td>&hellip;</td><td>&hellip;</td></tr><tr><td>0.902635</td><td>0.554049</td><td>0.836561</td><td>&quot;1&quot;</td><td>1</td></tr><tr><td>0.016233</td><td>0.443724</td><td>0.72131</td><td>&quot;2&quot;</td><td>1</td></tr><tr><td>0.986508</td><td>0.754194</td><td>0.927128</td><td>&quot;1&quot;</td><td>1</td></tr><tr><td>0.419934</td><td>0.737856</td><td>0.840619</td><td>&quot;1&quot;</td><td>0</td></tr><tr><td>0.206626</td><td>0.978167</td><td>0.77659</td><td>&quot;0&quot;</td><td>1</td></tr></tbody></table></div>"
      ],
      "text/plain": [
       "shape: (2_000, 5)\n",
       "┌──────────┬──────────┬──────────┬─────┬────────┐\n",
       "│ x1       ┆ x2       ┆ x3       ┆ str ┆ target │\n",
       "│ ---      ┆ ---      ┆ ---      ┆ --- ┆ ---    │\n",
       "│ f64      ┆ f64      ┆ f64      ┆ str ┆ i32    │\n",
       "╞══════════╪══════════╪══════════╪═════╪════════╡\n",
       "│ 0.699954 ┆ 0.235914 ┆ 0.618727 ┆ 2   ┆ 1      │\n",
       "│ 0.219956 ┆ 0.725589 ┆ 0.918007 ┆ 2   ┆ 1      │\n",
       "│ 0.513334 ┆ 0.091213 ┆ 0.998667 ┆ 0   ┆ 1      │\n",
       "│ 0.509034 ┆ 0.136349 ┆ 0.171863 ┆ 1   ┆ 1      │\n",
       "│ 0.991826 ┆ 0.786496 ┆ 0.30152  ┆ 2   ┆ 0      │\n",
       "│ …        ┆ …        ┆ …        ┆ …   ┆ …      │\n",
       "│ 0.902635 ┆ 0.554049 ┆ 0.836561 ┆ 1   ┆ 1      │\n",
       "│ 0.016233 ┆ 0.443724 ┆ 0.72131  ┆ 2   ┆ 1      │\n",
       "│ 0.986508 ┆ 0.754194 ┆ 0.927128 ┆ 1   ┆ 1      │\n",
       "│ 0.419934 ┆ 0.737856 ┆ 0.840619 ┆ 1   ┆ 0      │\n",
       "│ 0.206626 ┆ 0.978167 ┆ 0.77659  ┆ 0   ┆ 1      │\n",
       "└──────────┴──────────┴──────────┴─────┴────────┘"
      ]
     },
     "execution_count": 2,
     "metadata": {},
     "output_type": "execute_result"
    }
   ],
   "source": [
    "df = pds.random_data(size=2000, n_cols=0).select(\n",
    "    pds.random(0.0, 1.0).alias(\"x1\"),\n",
    "    pds.random(0.0, 1.0).alias(\"x2\"),\n",
    "    pds.random(0.0, 1.0).alias(\"x3\"),\n",
    "    pds.random_int(0, 3).cast(pl.String).alias(\"str\"),\n",
    "    pds.random_int(0, 2).alias(\"target\"),\n",
    ")\n",
    "df"
   ]
  },
  {
   "cell_type": "code",
   "execution_count": 3,
   "metadata": {},
   "outputs": [
    {
     "ename": "AttributeError",
     "evalue": "'DataFrame' object has no attribute 'collect'",
     "output_type": "error",
     "traceback": [
      "\u001b[0;31m---------------------------------------------------------------------------\u001b[0m",
      "\u001b[0;31mAttributeError\u001b[0m                            Traceback (most recent call last)",
      "\u001b[1;32m/home/abstractqqq/Desktop/MY/Projects/polars_ds_extension/tests/test.ipynb Cell 3\u001b[0m line \u001b[0;36m4\n\u001b[1;32m      <a href='vscode-notebook-cell:/home/abstractqqq/Desktop/MY/Projects/polars_ds_extension/tests/test.ipynb#X10sZmlsZQ%3D%3D?line=0'>1</a>\u001b[0m (\n\u001b[1;32m      <a href='vscode-notebook-cell:/home/abstractqqq/Desktop/MY/Projects/polars_ds_extension/tests/test.ipynb#X10sZmlsZQ%3D%3D?line=1'>2</a>\u001b[0m     df\n\u001b[1;32m      <a href='vscode-notebook-cell:/home/abstractqqq/Desktop/MY/Projects/polars_ds_extension/tests/test.ipynb#X10sZmlsZQ%3D%3D?line=2'>3</a>\u001b[0m     \u001b[39m.\u001b[39;49mselect(pds\u001b[39m.\u001b[39;49mquery_lstsq(\u001b[39m*\u001b[39;49m[\u001b[39m\"\u001b[39;49m\u001b[39mx1\u001b[39;49m\u001b[39m\"\u001b[39;49m, \u001b[39m\"\u001b[39;49m\u001b[39mx2\u001b[39;49m\u001b[39m\"\u001b[39;49m], target\u001b[39m=\u001b[39;49m\u001b[39m\"\u001b[39;49m\u001b[39mx3\u001b[39;49m\u001b[39m\"\u001b[39;49m, add_bias\u001b[39m=\u001b[39;49m\u001b[39mFalse\u001b[39;49;00m, skip_null\u001b[39m=\u001b[39;49m\u001b[39mTrue\u001b[39;49;00m))\n\u001b[0;32m----> <a href='vscode-notebook-cell:/home/abstractqqq/Desktop/MY/Projects/polars_ds_extension/tests/test.ipynb#X10sZmlsZQ%3D%3D?line=3'>4</a>\u001b[0m     \u001b[39m.\u001b[39;49mcollect()\n\u001b[1;32m      <a href='vscode-notebook-cell:/home/abstractqqq/Desktop/MY/Projects/polars_ds_extension/tests/test.ipynb#X10sZmlsZQ%3D%3D?line=4'>5</a>\u001b[0m )\n",
      "\u001b[0;31mAttributeError\u001b[0m: 'DataFrame' object has no attribute 'collect'"
     ]
    }
   ],
   "source": [
    "(\n",
    "    df\n",
    "    .select(pds.query_lstsq(*[\"x1\", \"x2\"], target=\"x3\", add_bias=False, skip_null=True))\n",
    ")"
   ]
  },
  {
   "cell_type": "code",
   "execution_count": 2,
   "metadata": {},
   "outputs": [],
   "source": [
    "df = pl.DataFrame({\n",
    "    \"a\": [1,2,3,4,5, None],\n",
    "})"
   ]
  },
  {
   "cell_type": "code",
   "execution_count": 3,
   "metadata": {},
   "outputs": [
    {
     "data": {
      "text/html": [
       "<div><style>\n",
       ".dataframe > thead > tr,\n",
       ".dataframe > tbody > tr {\n",
       "  text-align: right;\n",
       "  white-space: pre-wrap;\n",
       "}\n",
       "</style>\n",
       "<small>shape: (1, 2)</small><table border=\"1\" class=\"dataframe\"><thead><tr><th>&lt;=2</th><th>&lt;=6</th></tr><tr><td>i32</td><td>i32</td></tr></thead><tbody><tr><td>2</td><td>5</td></tr></tbody></table></div>"
      ],
      "text/plain": [
       "shape: (1, 2)\n",
       "┌─────┬─────┐\n",
       "│ <=2 ┆ <=6 │\n",
       "│ --- ┆ --- │\n",
       "│ i32 ┆ i32 │\n",
       "╞═════╪═════╡\n",
       "│ 2   ┆ 5   │\n",
       "└─────┴─────┘"
      ]
     },
     "execution_count": 3,
     "metadata": {},
     "output_type": "execute_result"
    }
   ],
   "source": [
    "df.select(\n",
    "    pds.query_longest_streak_below(\"a\", 2).alias(\"<=2\"),\n",
    "    pds.query_longest_streak_below(\"a\", 6).alias(\"<=6\"),\n",
    ")"
   ]
  },
  {
   "cell_type": "code",
   "execution_count": null,
   "metadata": {},
   "outputs": [],
   "source": [
    "df = pl.DataFrame({\"actual\": [1, 0, 1], \"pred\": [0.4, 0.6, 0.9]})"
   ]
  },
  {
   "cell_type": "code",
   "execution_count": null,
   "metadata": {},
   "outputs": [],
   "source": [
    "df.select(\n",
    "    pds.query_confusion_matrix(\"actual\", \"pred\").alias(\"metrics\")\n",
    ").unnest(\"metrics\")"
   ]
  },
  {
   "cell_type": "code",
   "execution_count": null,
   "metadata": {},
   "outputs": [],
   "source": []
  }
 ],
 "metadata": {
  "kernelspec": {
   "display_name": ".venv",
   "language": "python",
   "name": "python3"
  },
  "language_info": {
   "codemirror_mode": {
    "name": "ipython",
    "version": 3
   },
   "file_extension": ".py",
   "mimetype": "text/x-python",
   "name": "python",
   "nbconvert_exporter": "python",
   "pygments_lexer": "ipython3",
   "version": "3.12.3"
  }
 },
 "nbformat": 4,
 "nbformat_minor": 2
}
