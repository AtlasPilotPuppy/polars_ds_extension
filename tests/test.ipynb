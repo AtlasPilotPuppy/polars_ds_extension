{
 "cells": [
  {
   "cell_type": "code",
   "execution_count": 1,
   "metadata": {},
   "outputs": [],
   "source": [
    "import polars as pl\n",
    "import polars_ds as pds"
   ]
  },
  {
   "cell_type": "code",
   "execution_count": 2,
   "metadata": {},
   "outputs": [
    {
     "data": {
      "text/html": [
       "<div><style>\n",
       ".dataframe > thead > tr,\n",
       ".dataframe > tbody > tr {\n",
       "  text-align: right;\n",
       "  white-space: pre-wrap;\n",
       "}\n",
       "</style>\n",
       "<small>shape: (5, 22)</small><table border=\"1\" class=\"dataframe\"><thead><tr><th>ID</th><th>Gender</th><th>DOB</th><th>Lead_Creation_Date</th><th>City_Code</th><th>City_Category</th><th>Employer_Code</th><th>Employer_Category1</th><th>Employer_Category2</th><th>Monthly_Income</th><th>Customer_Existing_Primary_Bank_Code</th><th>Primary_Bank_Type</th><th>Contacted</th><th>Source</th><th>Source_Category</th><th>Existing_EMI</th><th>Loan_Amount</th><th>Loan_Period</th><th>Interest_Rate</th><th>EMI</th><th>Var1</th><th>Approved</th></tr><tr><td>str</td><td>str</td><td>str</td><td>str</td><td>str</td><td>str</td><td>str</td><td>str</td><td>i64</td><td>f64</td><td>str</td><td>str</td><td>str</td><td>str</td><td>str</td><td>f64</td><td>i64</td><td>i64</td><td>f64</td><td>i64</td><td>i64</td><td>i64</td></tr></thead><tbody><tr><td>&quot;APPC90493171225&quot;</td><td>&quot;Female&quot;</td><td>&quot;23/07/79&quot;</td><td>&quot;15/07/16&quot;</td><td>&quot;C10001&quot;</td><td>&quot;A&quot;</td><td>&quot;COM0044082&quot;</td><td>&quot;A&quot;</td><td>4</td><td>2000.0</td><td>&quot;B001&quot;</td><td>&quot;P&quot;</td><td>&quot;N&quot;</td><td>&quot;S122&quot;</td><td>&quot;G&quot;</td><td>0.0</td><td>null</td><td>null</td><td>null</td><td>null</td><td>0</td><td>0</td></tr><tr><td>&quot;APPD40611263344&quot;</td><td>&quot;Male&quot;</td><td>&quot;07/12/86&quot;</td><td>&quot;04/07/16&quot;</td><td>&quot;C10003&quot;</td><td>&quot;A&quot;</td><td>&quot;COM0000002&quot;</td><td>&quot;C&quot;</td><td>1</td><td>3500.0</td><td>&quot;B002&quot;</td><td>&quot;P&quot;</td><td>&quot;Y&quot;</td><td>&quot;S122&quot;</td><td>&quot;G&quot;</td><td>0.0</td><td>20000</td><td>2</td><td>13.25</td><td>953</td><td>10</td><td>0</td></tr><tr><td>&quot;APPE70289249423&quot;</td><td>&quot;Male&quot;</td><td>&quot;10/12/82&quot;</td><td>&quot;19/07/16&quot;</td><td>&quot;C10125&quot;</td><td>&quot;C&quot;</td><td>&quot;COM0005267&quot;</td><td>&quot;C&quot;</td><td>4</td><td>2250.0</td><td>&quot;B003&quot;</td><td>&quot;G&quot;</td><td>&quot;Y&quot;</td><td>&quot;S143&quot;</td><td>&quot;B&quot;</td><td>0.0</td><td>45000</td><td>4</td><td>null</td><td>null</td><td>0</td><td>0</td></tr><tr><td>&quot;APPF80273865537&quot;</td><td>&quot;Male&quot;</td><td>&quot;30/01/89&quot;</td><td>&quot;09/07/16&quot;</td><td>&quot;C10477&quot;</td><td>&quot;C&quot;</td><td>&quot;COM0004143&quot;</td><td>&quot;A&quot;</td><td>4</td><td>3500.0</td><td>&quot;B003&quot;</td><td>&quot;G&quot;</td><td>&quot;Y&quot;</td><td>&quot;S143&quot;</td><td>&quot;B&quot;</td><td>0.0</td><td>92000</td><td>5</td><td>null</td><td>null</td><td>7</td><td>0</td></tr><tr><td>&quot;APPG60994436641&quot;</td><td>&quot;Male&quot;</td><td>&quot;19/04/85&quot;</td><td>&quot;20/07/16&quot;</td><td>&quot;C10002&quot;</td><td>&quot;A&quot;</td><td>&quot;COM0001781&quot;</td><td>&quot;A&quot;</td><td>4</td><td>10000.0</td><td>&quot;B001&quot;</td><td>&quot;P&quot;</td><td>&quot;Y&quot;</td><td>&quot;S134&quot;</td><td>&quot;B&quot;</td><td>2500.0</td><td>50000</td><td>2</td><td>null</td><td>null</td><td>10</td><td>0</td></tr></tbody></table></div>"
      ],
      "text/plain": [
       "shape: (5, 22)\n",
       "┌────────────────┬────────┬──────────┬────────────────┬───┬───────────────┬──────┬──────┬──────────┐\n",
       "│ ID             ┆ Gender ┆ DOB      ┆ Lead_Creation_ ┆ … ┆ Interest_Rate ┆ EMI  ┆ Var1 ┆ Approved │\n",
       "│ ---            ┆ ---    ┆ ---      ┆ Date           ┆   ┆ ---           ┆ ---  ┆ ---  ┆ ---      │\n",
       "│ str            ┆ str    ┆ str      ┆ ---            ┆   ┆ f64           ┆ i64  ┆ i64  ┆ i64      │\n",
       "│                ┆        ┆          ┆ str            ┆   ┆               ┆      ┆      ┆          │\n",
       "╞════════════════╪════════╪══════════╪════════════════╪═══╪═══════════════╪══════╪══════╪══════════╡\n",
       "│ APPC9049317122 ┆ Female ┆ 23/07/79 ┆ 15/07/16       ┆ … ┆ null          ┆ null ┆ 0    ┆ 0        │\n",
       "│ 5              ┆        ┆          ┆                ┆   ┆               ┆      ┆      ┆          │\n",
       "│ APPD4061126334 ┆ Male   ┆ 07/12/86 ┆ 04/07/16       ┆ … ┆ 13.25         ┆ 953  ┆ 10   ┆ 0        │\n",
       "│ 4              ┆        ┆          ┆                ┆   ┆               ┆      ┆      ┆          │\n",
       "│ APPE7028924942 ┆ Male   ┆ 10/12/82 ┆ 19/07/16       ┆ … ┆ null          ┆ null ┆ 0    ┆ 0        │\n",
       "│ 3              ┆        ┆          ┆                ┆   ┆               ┆      ┆      ┆          │\n",
       "│ APPF8027386553 ┆ Male   ┆ 30/01/89 ┆ 09/07/16       ┆ … ┆ null          ┆ null ┆ 7    ┆ 0        │\n",
       "│ 7              ┆        ┆          ┆                ┆   ┆               ┆      ┆      ┆          │\n",
       "│ APPG6099443664 ┆ Male   ┆ 19/04/85 ┆ 20/07/16       ┆ … ┆ null          ┆ null ┆ 10   ┆ 0        │\n",
       "│ 1              ┆        ┆          ┆                ┆   ┆               ┆      ┆      ┆          │\n",
       "└────────────────┴────────┴──────────┴────────────────┴───┴───────────────┴──────┴──────┴──────────┘"
      ]
     },
     "execution_count": 2,
     "metadata": {},
     "output_type": "execute_result"
    }
   ],
   "source": [
    "df = pl.read_parquet(\"../examples/dependency.parquet\")\n",
    "df.head()"
   ]
  },
  {
   "cell_type": "code",
   "execution_count": 3,
   "metadata": {},
   "outputs": [
    {
     "data": {
      "text/html": [
       "<div><style>\n",
       ".dataframe > thead > tr,\n",
       ".dataframe > tbody > tr {\n",
       "  text-align: right;\n",
       "  white-space: pre-wrap;\n",
       "}\n",
       "</style>\n",
       "<small>shape: (69_713, 15)</small><table border=\"1\" class=\"dataframe\"><thead><tr><th>employer_category2</th><th>monthly_income</th><th>existing_emi</th><th>loan_amount</th><th>loan_period</th><th>interest_rate</th><th>emi</th><th>var1</th><th>approved</th><th>employer_category1</th><th>existing_emi_log1p</th><th>loan_amount_log1p</th><th>loan_amount_sqrt</th><th>gender_is_missing</th><th>gender_Male</th></tr><tr><td>f64</td><td>f64</td><td>f64</td><td>f64</td><td>f64</td><td>f64</td><td>f64</td><td>i64</td><td>f64</td><td>f64</td><td>f64</td><td>f64</td><td>f64</td><td>u8</td><td>u8</td></tr></thead><tbody><tr><td>0.346572</td><td>-0.020726</td><td>-0.157654</td><td>null</td><td>null</td><td>null</td><td>null</td><td>0</td><td>-0.121854</td><td>-0.031666</td><td>0.0</td><td>null</td><td>null</td><td>0</td><td>0</td></tr><tr><td>-3.369178</td><td>-0.012143</td><td>-0.157654</td><td>-0.63233</td><td>-1.619396</td><td>-1.019913</td><td>-0.197255</td><td>10</td><td>-0.121854</td><td>0.053992</td><td>0.0</td><td>-0.586098</td><td>-0.658017</td><td>0</td><td>1</td></tr><tr><td>0.346572</td><td>-0.019296</td><td>-0.157654</td><td>0.181271</td><td>0.09368</td><td>null</td><td>null</td><td>0</td><td>-0.121854</td><td>0.053992</td><td>0.0</td><td>0.53713</td><td>0.375943</td><td>0</td><td>1</td></tr><tr><td>0.346572</td><td>-0.012143</td><td>-0.157654</td><td>1.710841</td><td>0.950218</td><td>null</td><td>null</td><td>7</td><td>-0.121854</td><td>-0.031666</td><td>0.0</td><td>1.527677</td><td>1.709258</td><td>0</td><td>1</td></tr><tr><td>0.346572</td><td>0.025049</td><td>0.935146</td><td>0.343991</td><td>-1.619396</td><td>null</td><td>null</td><td>10</td><td>-0.121854</td><td>-0.031666</td><td>7.824446</td><td>0.683068</td><td>0.543732</td><td>0</td><td>1</td></tr><tr><td>&hellip;</td><td>&hellip;</td><td>&hellip;</td><td>&hellip;</td><td>&hellip;</td><td>&hellip;</td><td>&hellip;</td><td>&hellip;</td><td>&hellip;</td><td>&hellip;</td><td>&hellip;</td><td>&hellip;</td><td>&hellip;</td><td>&hellip;</td><td>&hellip;</td></tr><tr><td>-3.369178</td><td>-0.004133</td><td>-0.157654</td><td>null</td><td>null</td><td>null</td><td>null</td><td>10</td><td>-0.121854</td><td>-0.031666</td><td>0.0</td><td>null</td><td>null</td><td>0</td><td>0</td></tr><tr><td>0.346572</td><td>0.008971</td><td>0.47617</td><td>null</td><td>null</td><td>null</td><td>null</td><td>7</td><td>-0.121854</td><td>-0.031666</td><td>7.280008</td><td>null</td><td>null</td><td>0</td><td>0</td></tr><tr><td>0.346572</td><td>-0.023015</td><td>-0.157654</td><td>-0.502154</td><td>0.09368</td><td>2.785369</td><td>-0.210541</td><td>2</td><td>-0.121854</td><td>0.053992</td><td>0.0</td><td>-0.333565</td><td>-0.460644</td><td>0</td><td>0</td></tr><tr><td>-0.892011</td><td>0.024437</td><td>0.439452</td><td>1.320312</td><td>0.950218</td><td>null</td><td>null</td><td>10</td><td>-0.121854</td><td>0.053992</td><td>7.220374</td><td>1.334087</td><td>1.409903</td><td>0</td><td>1</td></tr><tr><td>-3.369178</td><td>-0.007967</td><td>-0.157654</td><td>0.962328</td><td>0.09368</td><td>-0.893355</td><td>1.041018</td><td>10</td><td>-0.121854</td><td>-0.031666</td><td>0.0</td><td>1.129197</td><td>1.115054</td><td>0</td><td>1</td></tr></tbody></table></div>"
      ],
      "text/plain": [
       "shape: (69_713, 15)\n",
       "┌───────────┬───────────┬───────────┬───────────┬───┬───────────┬───────────┬───────────┬──────────┐\n",
       "│ employer_ ┆ monthly_i ┆ existing_ ┆ loan_amou ┆ … ┆ loan_amou ┆ loan_amou ┆ gender_is ┆ gender_M │\n",
       "│ category2 ┆ ncome     ┆ emi       ┆ nt        ┆   ┆ nt_log1p  ┆ nt_sqrt   ┆ _missing  ┆ ale      │\n",
       "│ ---       ┆ ---       ┆ ---       ┆ ---       ┆   ┆ ---       ┆ ---       ┆ ---       ┆ ---      │\n",
       "│ f64       ┆ f64       ┆ f64       ┆ f64       ┆   ┆ f64       ┆ f64       ┆ u8        ┆ u8       │\n",
       "╞═══════════╪═══════════╪═══════════╪═══════════╪═══╪═══════════╪═══════════╪═══════════╪══════════╡\n",
       "│ 0.346572  ┆ -0.020726 ┆ -0.157654 ┆ null      ┆ … ┆ null      ┆ null      ┆ 0         ┆ 0        │\n",
       "│ -3.369178 ┆ -0.012143 ┆ -0.157654 ┆ -0.63233  ┆ … ┆ -0.586098 ┆ -0.658017 ┆ 0         ┆ 1        │\n",
       "│ 0.346572  ┆ -0.019296 ┆ -0.157654 ┆ 0.181271  ┆ … ┆ 0.53713   ┆ 0.375943  ┆ 0         ┆ 1        │\n",
       "│ 0.346572  ┆ -0.012143 ┆ -0.157654 ┆ 1.710841  ┆ … ┆ 1.527677  ┆ 1.709258  ┆ 0         ┆ 1        │\n",
       "│ 0.346572  ┆ 0.025049  ┆ 0.935146  ┆ 0.343991  ┆ … ┆ 0.683068  ┆ 0.543732  ┆ 0         ┆ 1        │\n",
       "│ …         ┆ …         ┆ …         ┆ …         ┆ … ┆ …         ┆ …         ┆ …         ┆ …        │\n",
       "│ -3.369178 ┆ -0.004133 ┆ -0.157654 ┆ null      ┆ … ┆ null      ┆ null      ┆ 0         ┆ 0        │\n",
       "│ 0.346572  ┆ 0.008971  ┆ 0.47617   ┆ null      ┆ … ┆ null      ┆ null      ┆ 0         ┆ 0        │\n",
       "│ 0.346572  ┆ -0.023015 ┆ -0.157654 ┆ -0.502154 ┆ … ┆ -0.333565 ┆ -0.460644 ┆ 0         ┆ 0        │\n",
       "│ -0.892011 ┆ 0.024437  ┆ 0.439452  ┆ 1.320312  ┆ … ┆ 1.334087  ┆ 1.409903  ┆ 0         ┆ 1        │\n",
       "│ -3.369178 ┆ -0.007967 ┆ -0.157654 ┆ 0.962328  ┆ … ┆ 1.129197  ┆ 1.115054  ┆ 0         ┆ 1        │\n",
       "└───────────┴───────────┴───────────┴───────────┴───┴───────────┴───────────┴───────────┴──────────┘"
      ]
     },
     "execution_count": 3,
     "metadata": {},
     "output_type": "execute_result"
    }
   ],
   "source": [
    "from polars_ds.pipeline import Pipeline\n",
    "import polars.selectors as cs\n",
    "\n",
    "# df.select(pl.col(\"Existing_EMI\"))\n",
    "\n",
    "pipe = (\n",
    "    Pipeline(df)\n",
    "    .lowercase() # lowercase all columns\n",
    "    .impute([\"existing_emi\"], method = \"median\")\n",
    "    .select(cs.numeric() | cs.by_name([\"gender\", \"employer_category1\"]))\n",
    "    .append_expr([\n",
    "        pl.col(\"existing_emi\").log1p().alias(\"existing_emi_log1p\"),\n",
    "        pl.col(\"loan_amount\").log1p().alias(\"loan_amount_log1p\"),\n",
    "        pl.col(\"loan_amount\").sqrt().alias(\"loan_amount_sqrt\"),\n",
    "    ])\n",
    "    .scale(\n",
    "        cs.numeric().exclude([\"var1\", \"existing_emi_log1p\"]), method = \"standard\"\n",
    "    ) # Scale the columns up to this point. The columns below won't be scaled\n",
    "    .append_expr(\n",
    "        pl.col(\"employer_category1\").is_null().cast(pl.UInt8).alias(\"gender_is_missing\")\n",
    "    )\n",
    "    .one_hot_encode(\"gender\", drop_first=True)\n",
    "    .target_encode(\"employer_category1\", target = \"approved\", min_samples_leaf = 20, smoothing = 10.0)\n",
    "    .finish() # or .fit()\n",
    ")\n",
    "\n",
    "pipe.transform(return_lazy=False)"
   ]
  },
  {
   "cell_type": "code",
   "execution_count": null,
   "metadata": {},
   "outputs": [],
   "source": [
    "pipe.transform()"
   ]
  },
  {
   "cell_type": "code",
   "execution_count": null,
   "metadata": {},
   "outputs": [],
   "source": [
    "pipe.show_graph()"
   ]
  },
  {
   "cell_type": "code",
   "execution_count": null,
   "metadata": {},
   "outputs": [],
   "source": []
  },
  {
   "cell_type": "code",
   "execution_count": null,
   "metadata": {},
   "outputs": [],
   "source": []
  },
  {
   "cell_type": "code",
   "execution_count": null,
   "metadata": {},
   "outputs": [],
   "source": []
  },
  {
   "cell_type": "code",
   "execution_count": null,
   "metadata": {},
   "outputs": [],
   "source": [
    "df = pds.random_data(size=100_000, n_cols = 0).select(\n",
    "    pds.random_int(0, 200).alias(\"x\"),\n",
    "    pds.random_int(0, 200).alias(\"y\"),\n",
    "    pl.Series([1] * 50_000 + [2] * 50_000).alias(\"test\")\n",
    ")\n",
    "df.head()"
   ]
  },
  {
   "cell_type": "code",
   "execution_count": null,
   "metadata": {},
   "outputs": [],
   "source": [
    "df.select(\n",
    "    pds.query_lstsq_report(\"x\", target=\"y\", add_bias=True).alias(\"report\")\n",
    ")[\"report\"]"
   ]
  },
  {
   "cell_type": "code",
   "execution_count": null,
   "metadata": {},
   "outputs": [],
   "source": [
    "df.select(\n",
    "    pl.col(\"x\").qcut(10, left_closed=False, allow_duplicates=True, include_breaks=True)\n",
    "        .struct.field(\"brk\")\n",
    "        .value_counts()\n",
    "        .sort()\n",
    ").unnest(\"brk\")"
   ]
  },
  {
   "cell_type": "code",
   "execution_count": null,
   "metadata": {},
   "outputs": [],
   "source": []
  },
  {
   "cell_type": "code",
   "execution_count": null,
   "metadata": {},
   "outputs": [],
   "source": []
  },
  {
   "cell_type": "code",
   "execution_count": null,
   "metadata": {},
   "outputs": [],
   "source": [
    "df.select(\n",
    "    pl.corr(\"x\", \"y\")\n",
    ")"
   ]
  },
  {
   "cell_type": "code",
   "execution_count": null,
   "metadata": {},
   "outputs": [],
   "source": [
    "\n",
    "df.select(\n",
    "    pds.kendall_tau(\"x\", \"y\")\n",
    ")"
   ]
  },
  {
   "cell_type": "code",
   "execution_count": null,
   "metadata": {},
   "outputs": [],
   "source": [
    "from scipy.stats import kendalltau\n",
    "\n",
    "x = df[\"x\"].to_numpy()\n",
    "y = df[\"y\"].to_numpy()"
   ]
  },
  {
   "cell_type": "code",
   "execution_count": null,
   "metadata": {},
   "outputs": [],
   "source": [
    "%%timeit\n",
    "kendalltau(x,y, nan_policy=\"omit\")"
   ]
  },
  {
   "cell_type": "code",
   "execution_count": null,
   "metadata": {},
   "outputs": [],
   "source": [
    "df.sort(pl.col(\"x\").rank(method=\"random\")).select(\n",
    "    \"x\",\n",
    "    \"y\",\n",
    "    pl.col(\"y\").rank(method=\"max\").cast(pl.Float64).alias(\"r\"),\n",
    "    (-pl.col(\"y\")).rank(method=\"max\").cast(pl.Float64).alias(\"l\"),\n",
    ").with_columns(\n",
    "    pl.col(\"r\").diff().abs().alias(\"r_abs_diff\"),\n",
    "    (pl.col(\"l\") * (pl.len() - pl.col(\"l\"))).alias(\"l(n-l)\"),\n",
    ").select(\n",
    "    1 - (pl.len() / 2) * (pl.col(\"r_abs_diff\").sum() / pl.col(\"l(n-l)\").sum())\n",
    ")"
   ]
  }
 ],
 "metadata": {
  "kernelspec": {
   "display_name": ".venv",
   "language": "python",
   "name": "python3"
  },
  "language_info": {
   "codemirror_mode": {
    "name": "ipython",
    "version": 3
   },
   "file_extension": ".py",
   "mimetype": "text/x-python",
   "name": "python",
   "nbconvert_exporter": "python",
   "pygments_lexer": "ipython3",
   "version": "3.12.3"
  }
 },
 "nbformat": 4,
 "nbformat_minor": 2
}
