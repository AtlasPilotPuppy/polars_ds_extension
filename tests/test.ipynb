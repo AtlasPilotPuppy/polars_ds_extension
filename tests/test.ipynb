{
 "cells": [
  {
   "cell_type": "code",
   "execution_count": null,
   "metadata": {},
   "outputs": [],
   "source": [
    "import polars as pl\n",
    "import polars_ds as pld\n",
    "import numpy as np"
   ]
  },
  {
   "cell_type": "code",
   "execution_count": null,
   "metadata": {},
   "outputs": [],
   "source": [
    "df = pl.DataFrame({\n",
    "    \"a\": [\"thank_ad\", \"thankAd\", \"ThankAd\"] * 2000\n",
    "}).with_columns(\n",
    "    pl.col(\"a\").stats.rand_str(min_size=4,max_size=6).alias(\"s1\"),\n",
    "    pl.col(\"a\").stats.rand_str(min_size=4,max_size=6).alias(\"s2\"),\n",
    ")\n",
    "df.head()"
   ]
  },
  {
   "cell_type": "code",
   "execution_count": null,
   "metadata": {},
   "outputs": [],
   "source": [
    "df.with_columns(\n",
    "    pl.col(\"s1\").str2.hamming(pl.col(\"s2\"), pad = True).alias(\"hamming pad\"),\n",
    "    pl.col(\"s1\").str2.hamming(pl.col(\"s2\"), pad = False).alias(\"hamming no pad\"),\n",
    ")"
   ]
  },
  {
   "cell_type": "code",
   "execution_count": null,
   "metadata": {},
   "outputs": [],
   "source": [
    "df.with_columns(\n",
    "    pl.col(\"s1\").str2.hamming(pl.col(\"s2\")).alias(\"hamming\")\n",
    ").filter(\n",
    "    pl.col(\"s1\").str2.hamming_filter(pl.col(\"s2\"), bound = 2)\n",
    ")"
   ]
  },
  {
   "cell_type": "code",
   "execution_count": null,
   "metadata": {},
   "outputs": [],
   "source": [
    "%%timeit\n",
    "df.select(\n",
    "    pl.col(\"s1\").str2.levenshtein(pl.col(\"s2\")) < 3\n",
    ") # 3.25ms"
   ]
  },
  {
   "cell_type": "code",
   "execution_count": null,
   "metadata": {},
   "outputs": [],
   "source": [
    "%%timeit\n",
    "df.select(\n",
    "    pl.col(\"s1\").str2.levenshtein_filter(pl.col(\"s2\"), 3)\n",
    ") # 2.43ms"
   ]
  },
  {
   "cell_type": "code",
   "execution_count": null,
   "metadata": {},
   "outputs": [],
   "source": []
  },
  {
   "cell_type": "code",
   "execution_count": null,
   "metadata": {},
   "outputs": [],
   "source": []
  }
 ],
 "metadata": {
  "kernelspec": {
   "display_name": ".venv",
   "language": "python",
   "name": "python3"
  },
  "language_info": {
   "codemirror_mode": {
    "name": "ipython",
    "version": 3
   },
   "file_extension": ".py",
   "mimetype": "text/x-python",
   "name": "python",
   "nbconvert_exporter": "python",
   "pygments_lexer": "ipython3",
   "version": "3.11.6"
  }
 },
 "nbformat": 4,
 "nbformat_minor": 2
}
