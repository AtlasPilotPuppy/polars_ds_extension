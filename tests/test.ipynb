{
 "cells": [
  {
   "cell_type": "code",
   "execution_count": null,
   "metadata": {},
   "outputs": [],
   "source": [
    "import polars as pl\n",
    "import polars_ds as pds"
   ]
  },
  {
   "cell_type": "code",
   "execution_count": null,
   "metadata": {},
   "outputs": [],
   "source": [
    "size = 20\n",
    "df = pl.DataFrame({\n",
    "    \"id\": range(size), \n",
    "}).with_columns(\n",
    "    *(pds.random().alias(f\"var{i}\") for i in range(2)),\n",
    "    pds.random_int(0, 6).alias(\"can_select\"),\n",
    "    pl.col(\"id\").cast(pl.UInt32)\n",
    ")\n",
    "df.head()"
   ]
  },
  {
   "cell_type": "code",
   "execution_count": null,
   "metadata": {},
   "outputs": [],
   "source": [
    "df_test = df.lazy().select(\n",
    "    \"id\",\n",
    "    \"can_select\",\n",
    "    pl.when(\n",
    "        pl.col(\"can_select\") == 1\n",
    "    ).then(\n",
    "        pds.query_knn_ptwise(\n",
    "            *(pl.col(f\"var{i}\") for i in range(2)), # Columns used as the coordinates in n-d space\n",
    "            index = \"id\",  # pl.col(\"id\"), str | pl.Expr\n",
    "            k = 5000, \n",
    "            dist = \"l2\", # squared l2\n",
    "            parallel = True\n",
    "        )\n",
    "    ).otherwise(\n",
    "        None\n",
    "    )    \n",
    "    .alias(\"best friends\")\n",
    ").collect()"
   ]
  },
  {
   "cell_type": "code",
   "execution_count": null,
   "metadata": {},
   "outputs": [],
   "source": [
    "df_test"
   ]
  },
  {
   "cell_type": "code",
   "execution_count": null,
   "metadata": {},
   "outputs": [],
   "source": [
    "df_test.filter(\n",
    "    pl.col(\"can_select\") == 1\n",
    ")"
   ]
  },
  {
   "cell_type": "code",
   "execution_count": null,
   "metadata": {},
   "outputs": [],
   "source": [
    "pl.show_versions()"
   ]
  },
  {
   "cell_type": "code",
   "execution_count": null,
   "metadata": {},
   "outputs": [],
   "source": []
  }
 ],
 "metadata": {
  "kernelspec": {
   "display_name": ".venv",
   "language": "python",
   "name": "python3"
  },
  "language_info": {
   "codemirror_mode": {
    "name": "ipython",
    "version": 3
   },
   "file_extension": ".py",
   "mimetype": "text/x-python",
   "name": "python",
   "nbconvert_exporter": "python",
   "pygments_lexer": "ipython3",
   "version": "3.12.3"
  }
 },
 "nbformat": 4,
 "nbformat_minor": 2
}
