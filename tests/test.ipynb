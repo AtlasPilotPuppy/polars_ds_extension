{
 "cells": [
  {
   "cell_type": "code",
   "execution_count": 1,
   "metadata": {},
   "outputs": [],
   "source": [
    "import polars as pl\n",
    "import polars_ds as pds\n",
    "import numpy as np"
   ]
  },
  {
   "cell_type": "code",
   "execution_count": 2,
   "metadata": {},
   "outputs": [
    {
     "data": {
      "text/html": [
       "<div><style>\n",
       ".dataframe > thead > tr,\n",
       ".dataframe > tbody > tr {\n",
       "  text-align: right;\n",
       "  white-space: pre-wrap;\n",
       "}\n",
       "</style>\n",
       "<small>shape: (5, 5)</small><table border=\"1\" class=\"dataframe\"><thead><tr><th>row_num</th><th>feature_1</th><th>feature_2</th><th>feature_3</th><th>feature_4</th></tr><tr><td>u64</td><td>f64</td><td>f64</td><td>f64</td><td>f64</td></tr></thead><tbody><tr><td>0</td><td>0.885231</td><td>0.42604</td><td>0.868292</td><td>0.153928</td></tr><tr><td>1</td><td>0.785083</td><td>0.344915</td><td>0.741281</td><td>0.602304</td></tr><tr><td>2</td><td>0.445297</td><td>0.532952</td><td>0.79264</td><td>0.466161</td></tr><tr><td>3</td><td>0.846072</td><td>0.459316</td><td>0.412093</td><td>0.318678</td></tr><tr><td>4</td><td>0.39145</td><td>0.650961</td><td>0.192166</td><td>0.754177</td></tr></tbody></table></div>"
      ],
      "text/plain": [
       "shape: (5, 5)\n",
       "┌─────────┬───────────┬───────────┬───────────┬───────────┐\n",
       "│ row_num ┆ feature_1 ┆ feature_2 ┆ feature_3 ┆ feature_4 │\n",
       "│ ---     ┆ ---       ┆ ---       ┆ ---       ┆ ---       │\n",
       "│ u64     ┆ f64       ┆ f64       ┆ f64       ┆ f64       │\n",
       "╞═════════╪═══════════╪═══════════╪═══════════╪═══════════╡\n",
       "│ 0       ┆ 0.885231  ┆ 0.42604   ┆ 0.868292  ┆ 0.153928  │\n",
       "│ 1       ┆ 0.785083  ┆ 0.344915  ┆ 0.741281  ┆ 0.602304  │\n",
       "│ 2       ┆ 0.445297  ┆ 0.532952  ┆ 0.79264   ┆ 0.466161  │\n",
       "│ 3       ┆ 0.846072  ┆ 0.459316  ┆ 0.412093  ┆ 0.318678  │\n",
       "│ 4       ┆ 0.39145   ┆ 0.650961  ┆ 0.192166  ┆ 0.754177  │\n",
       "└─────────┴───────────┴───────────┴───────────┴───────────┘"
      ]
     },
     "execution_count": 2,
     "metadata": {},
     "output_type": "execute_result"
    }
   ],
   "source": [
    "df = pds.random_data(15_000, n_cols=4)\n",
    "df.head()"
   ]
  },
  {
   "cell_type": "code",
   "execution_count": 3,
   "metadata": {},
   "outputs": [
    {
     "data": {
      "text/html": [
       "<div><style>\n",
       ".dataframe > thead > tr,\n",
       ".dataframe > tbody > tr {\n",
       "  text-align: right;\n",
       "  white-space: pre-wrap;\n",
       "}\n",
       "</style>\n",
       "<small>shape: (5, 4)</small><table border=\"1\" class=\"dataframe\"><thead><tr><th>B_1</th><th>B_2</th><th>B_3</th><th>A</th></tr><tr><td>f64</td><td>f64</td><td>f64</td><td>f64</td></tr></thead><tbody><tr><td>0.885231</td><td>0.42604</td><td>0.868292</td><td>0.153928</td></tr><tr><td>0.785083</td><td>0.344915</td><td>0.741281</td><td>0.602304</td></tr><tr><td>0.445297</td><td>0.532952</td><td>0.79264</td><td>0.466161</td></tr><tr><td>0.846072</td><td>0.459316</td><td>0.412093</td><td>0.318678</td></tr><tr><td>0.39145</td><td>0.650961</td><td>0.192166</td><td>0.754177</td></tr></tbody></table></div>"
      ],
      "text/plain": [
       "shape: (5, 4)\n",
       "┌──────────┬──────────┬──────────┬──────────┐\n",
       "│ B_1      ┆ B_2      ┆ B_3      ┆ A        │\n",
       "│ ---      ┆ ---      ┆ ---      ┆ ---      │\n",
       "│ f64      ┆ f64      ┆ f64      ┆ f64      │\n",
       "╞══════════╪══════════╪══════════╪══════════╡\n",
       "│ 0.885231 ┆ 0.42604  ┆ 0.868292 ┆ 0.153928 │\n",
       "│ 0.785083 ┆ 0.344915 ┆ 0.741281 ┆ 0.602304 │\n",
       "│ 0.445297 ┆ 0.532952 ┆ 0.79264  ┆ 0.466161 │\n",
       "│ 0.846072 ┆ 0.459316 ┆ 0.412093 ┆ 0.318678 │\n",
       "│ 0.39145  ┆ 0.650961 ┆ 0.192166 ┆ 0.754177 │\n",
       "└──────────┴──────────┴──────────┴──────────┘"
      ]
     },
     "execution_count": 3,
     "metadata": {},
     "output_type": "execute_result"
    }
   ],
   "source": [
    "df = df.select(\n",
    "    pl.col(\"feature_1\").alias(\"B_1\"),\n",
    "    pl.col(\"feature_2\").alias(\"B_2\"),\n",
    "    pl.col(\"feature_3\").alias(\"B_3\"),\n",
    "    pl.col(\"feature_4\").alias(\"A\"),\n",
    ")\n",
    "df.head()"
   ]
  },
  {
   "cell_type": "code",
   "execution_count": 6,
   "metadata": {},
   "outputs": [
    {
     "data": {
      "text/html": [
       "<div><style>\n",
       ".dataframe > thead > tr,\n",
       ".dataframe > tbody > tr {\n",
       "  text-align: right;\n",
       "  white-space: pre-wrap;\n",
       "}\n",
       "</style>\n",
       "<small>shape: (15_000, 1)</small><table border=\"1\" class=\"dataframe\"><thead><tr><th>A</th></tr><tr><td>struct[2]</td></tr></thead><tbody><tr><td>{0.507691,-0.353763}</td></tr><tr><td>{0.505482,0.096821}</td></tr><tr><td>{0.503406,-0.037246}</td></tr><tr><td>{0.505341,-0.186664}</td></tr><tr><td>{0.500792,0.253386}</td></tr><tr><td>&hellip;</td></tr><tr><td>{0.497394,-0.276583}</td></tr><tr><td>{0.505824,0.486579}</td></tr><tr><td>{0.50807,0.3807}</td></tr><tr><td>{0.508089,-0.08899}</td></tr><tr><td>{0.500552,-0.007496}</td></tr></tbody></table></div>"
      ],
      "text/plain": [
       "shape: (15_000, 1)\n",
       "┌──────────────────────┐\n",
       "│ A                    │\n",
       "│ ---                  │\n",
       "│ struct[2]            │\n",
       "╞══════════════════════╡\n",
       "│ {0.507691,-0.353763} │\n",
       "│ {0.505482,0.096821}  │\n",
       "│ {0.503406,-0.037246} │\n",
       "│ {0.505341,-0.186664} │\n",
       "│ {0.500792,0.253386}  │\n",
       "│ …                    │\n",
       "│ {0.497394,-0.276583} │\n",
       "│ {0.505824,0.486579}  │\n",
       "│ {0.50807,0.3807}     │\n",
       "│ {0.508089,-0.08899}  │\n",
       "│ {0.500552,-0.007496} │\n",
       "└──────────────────────┘"
      ]
     },
     "execution_count": 6,
     "metadata": {},
     "output_type": "execute_result"
    }
   ],
   "source": [
    "df.select(\n",
    "    pds.query_lstsq(pl.col(\"B_1\"), pl.col(\"B_2\"), pl.col(\"B_3\"), target = pl.col(\"A\"), return_pred=True, add_bias=True)\n",
    ")"
   ]
  },
  {
   "cell_type": "code",
   "execution_count": null,
   "metadata": {},
   "outputs": [],
   "source": [
    "df.with_columns(\n",
    "    pl.col('A').num.lstsq(*[pl.col(c) for c in df.columns if c.startswith(\"B_\")], return_pred=True).struct.field('resid')\n",
    ")"
   ]
  },
  {
   "cell_type": "code",
   "execution_count": null,
   "metadata": {},
   "outputs": [],
   "source": [
    "# pl.col('A').num.lstsq(pl.col('^B_.*$'), return_pred=True).struct.field('resid')"
   ]
  },
  {
   "cell_type": "code",
   "execution_count": null,
   "metadata": {},
   "outputs": [],
   "source": [
    "print(df.columns)\n",
    "df.with_columns(\n",
    "    pl.col('A').num.lstsq(pl.col('^B_.*$'), return_pred=True) # .struct.field('resid')\n",
    ").head()"
   ]
  },
  {
   "cell_type": "code",
   "execution_count": null,
   "metadata": {},
   "outputs": [],
   "source": []
  },
  {
   "cell_type": "code",
   "execution_count": null,
   "metadata": {},
   "outputs": [],
   "source": []
  },
  {
   "cell_type": "code",
   "execution_count": null,
   "metadata": {},
   "outputs": [],
   "source": []
  },
  {
   "cell_type": "code",
   "execution_count": null,
   "metadata": {},
   "outputs": [],
   "source": [
    "print(\n",
    "    \n",
    "df.select(\n",
    "    pl.col(\"row_num\"),\n",
    "    pds.query_radius_ptwise(\n",
    "        pl.col(\"feature_1\"), pl.col(\"feature_2\"), pl.col(\"feature_3\"), # Columns used as the coordinates in n-d space\n",
    "        index = pl.col(\"row_num\"),\n",
    "        r = 0.1, \n",
    "        dist = \"l2\", # actually this is squared l2\n",
    "        parallel = True\n",
    "    ).alias(\"best friends\"),\n",
    ").with_columns( # -1 to remove the point itself\n",
    "    (pl.col(\"best friends\").list.len() - 1).alias(\"best friends count\")\n",
    ").head()\n",
    "\n",
    ")"
   ]
  },
  {
   "cell_type": "code",
   "execution_count": null,
   "metadata": {},
   "outputs": [],
   "source": [
    "        pl.col(\"val1\"), pl.col(\"val2\"), pl.col(\"val3\"), # Columns used as the coordinates in n-d space\n",
    "        r = 0.1, \n",
    "        dist = \"l2\", # actually this is squared l2\n",
    "        parallel = True"
   ]
  },
  {
   "cell_type": "code",
   "execution_count": null,
   "metadata": {},
   "outputs": [],
   "source": []
  },
  {
   "cell_type": "code",
   "execution_count": null,
   "metadata": {},
   "outputs": [],
   "source": []
  },
  {
   "cell_type": "code",
   "execution_count": null,
   "metadata": {},
   "outputs": [],
   "source": [
    "import scipy"
   ]
  },
  {
   "cell_type": "code",
   "execution_count": null,
   "metadata": {},
   "outputs": [],
   "source": [
    "df.select(pl.col(\"feature_1\").num.rfft())"
   ]
  },
  {
   "cell_type": "code",
   "execution_count": null,
   "metadata": {},
   "outputs": [],
   "source": [
    "df.select(pl.col(\"feature_1\").num.rfft2())"
   ]
  },
  {
   "cell_type": "code",
   "execution_count": null,
   "metadata": {},
   "outputs": [],
   "source": []
  },
  {
   "cell_type": "code",
   "execution_count": null,
   "metadata": {},
   "outputs": [],
   "source": [
    "import polars as pl\n",
    "import polars_ds as pld  # noqa\n",
    "from pandas._testing import makeTimeDataFrame"
   ]
  },
  {
   "cell_type": "code",
   "execution_count": null,
   "metadata": {},
   "outputs": [],
   "source": [
    "df = makeTimeDataFrame()\n",
    "df = df.rename(columns={'B': 'B_1', 'C': 'B_2', 'D': 'B_3', })\n",
    "df = pl.from_pandas(df, include_index=True)"
   ]
  }
 ],
 "metadata": {
  "kernelspec": {
   "display_name": ".venv",
   "language": "python",
   "name": "python3"
  },
  "language_info": {
   "codemirror_mode": {
    "name": "ipython",
    "version": 3
   },
   "file_extension": ".py",
   "mimetype": "text/x-python",
   "name": "python",
   "nbconvert_exporter": "python",
   "pygments_lexer": "ipython3",
   "version": "3.11.7"
  }
 },
 "nbformat": 4,
 "nbformat_minor": 2
}
