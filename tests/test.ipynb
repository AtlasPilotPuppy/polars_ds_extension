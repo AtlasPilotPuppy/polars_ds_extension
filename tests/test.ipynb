{
 "cells": [
  {
   "cell_type": "code",
   "execution_count": 1,
   "metadata": {},
   "outputs": [],
   "source": [
    "import polars as pl\n",
    "import polars_ds as pds"
   ]
  },
  {
   "cell_type": "code",
   "execution_count": 2,
   "metadata": {},
   "outputs": [
    {
     "data": {
      "text/html": [
       "<div><style>\n",
       ".dataframe > thead > tr,\n",
       ".dataframe > tbody > tr {\n",
       "  text-align: right;\n",
       "  white-space: pre-wrap;\n",
       "}\n",
       "</style>\n",
       "<small>shape: (5, 2)</small><table border=\"1\" class=\"dataframe\"><thead><tr><th>x</th><th>y</th></tr><tr><td>i32</td><td>i32</td></tr></thead><tbody><tr><td>188</td><td>177</td></tr><tr><td>198</td><td>77</td></tr><tr><td>52</td><td>190</td></tr><tr><td>113</td><td>8</td></tr><tr><td>183</td><td>12</td></tr></tbody></table></div>"
      ],
      "text/plain": [
       "shape: (5, 2)\n",
       "┌─────┬─────┐\n",
       "│ x   ┆ y   │\n",
       "│ --- ┆ --- │\n",
       "│ i32 ┆ i32 │\n",
       "╞═════╪═════╡\n",
       "│ 188 ┆ 177 │\n",
       "│ 198 ┆ 77  │\n",
       "│ 52  ┆ 190 │\n",
       "│ 113 ┆ 8   │\n",
       "│ 183 ┆ 12  │\n",
       "└─────┴─────┘"
      ]
     },
     "execution_count": 2,
     "metadata": {},
     "output_type": "execute_result"
    }
   ],
   "source": [
    "df = pds.random_data(size=100_000, n_cols = 0).select(\n",
    "    pds.random_int(0, 200).alias(\"x\"),\n",
    "    pds.random_int(0, 200).alias(\"y\"),\n",
    ")\n",
    "df.head()"
   ]
  },
  {
   "cell_type": "code",
   "execution_count": null,
   "metadata": {},
   "outputs": [],
   "source": [
    "df.select(\n",
    "    pl.corr()\n",
    ")"
   ]
  },
  {
   "cell_type": "code",
   "execution_count": null,
   "metadata": {},
   "outputs": [],
   "source": [
    "\n",
    "df.select(\n",
    "    pds.kendall_tau(\"x\", \"y\")\n",
    ")"
   ]
  },
  {
   "cell_type": "code",
   "execution_count": null,
   "metadata": {},
   "outputs": [],
   "source": [
    "from scipy.stats import kendalltau\n",
    "\n",
    "x = df[\"x\"].to_numpy()\n",
    "y = df[\"y\"].to_numpy()"
   ]
  },
  {
   "cell_type": "code",
   "execution_count": null,
   "metadata": {},
   "outputs": [],
   "source": [
    "%%timeit\n",
    "kendalltau(x,y, nan_policy=\"omit\")"
   ]
  },
  {
   "cell_type": "code",
   "execution_count": null,
   "metadata": {},
   "outputs": [],
   "source": [
    "df.sort(pl.col(\"x\").rank(method=\"random\")).select(\n",
    "    \"x\",\n",
    "    \"y\",\n",
    "    pl.col(\"y\").rank(method=\"max\").cast(pl.Float64).alias(\"r\"),\n",
    "    (-pl.col(\"y\")).rank(method=\"max\").cast(pl.Float64).alias(\"l\"),\n",
    ").with_columns(\n",
    "    pl.col(\"r\").diff().abs().alias(\"r_abs_diff\"),\n",
    "    (pl.col(\"l\") * (pl.len() - pl.col(\"l\"))).alias(\"l(n-l)\"),\n",
    ").select(\n",
    "    1 - (pl.len() / 2) * (pl.col(\"r_abs_diff\").sum() / pl.col(\"l(n-l)\").sum())\n",
    ")"
   ]
  }
 ],
 "metadata": {
  "kernelspec": {
   "display_name": ".venv",
   "language": "python",
   "name": "python3"
  },
  "language_info": {
   "codemirror_mode": {
    "name": "ipython",
    "version": 3
   },
   "file_extension": ".py",
   "mimetype": "text/x-python",
   "name": "python",
   "nbconvert_exporter": "python",
   "pygments_lexer": "ipython3",
   "version": "3.11.8"
  }
 },
 "nbformat": 4,
 "nbformat_minor": 2
}
