{
 "cells": [
  {
   "cell_type": "code",
   "execution_count": 1,
   "metadata": {},
   "outputs": [],
   "source": [
    "import polars as pl\n",
    "import polars_ds as pds"
   ]
  },
  {
   "cell_type": "code",
   "execution_count": 2,
   "metadata": {},
   "outputs": [],
   "source": [
    "\n",
    "df = pl.DataFrame({\n",
    "    \"id\": [0,1,2,3],\n",
    "    \"a1\": [0.1, 0.1, 0.2, 0.3],\n",
    "    \"a2\": [0.1, 0.1, 0.2, 0.3],\n",
    "    \"a3\": [0.1, 0.11, 0.2, 0.3],\n",
    "    \"can_eval\": [1, 0, 1, 1]\n",
    "})"
   ]
  },
  {
   "cell_type": "code",
   "execution_count": 5,
   "metadata": {},
   "outputs": [
    {
     "data": {
      "text/html": [
       "<div><style>\n",
       ".dataframe > thead > tr,\n",
       ".dataframe > tbody > tr {\n",
       "  text-align: right;\n",
       "  white-space: pre-wrap;\n",
       "}\n",
       "</style>\n",
       "<small>shape: (4, 3)</small><table border=\"1\" class=\"dataframe\"><thead><tr><th>id</th><th>can_eval</th><th>best friends</th></tr><tr><td>i64</td><td>i64</td><td>list[u32]</td></tr></thead><tbody><tr><td>0</td><td>1</td><td>[0, 2]</td></tr><tr><td>1</td><td>0</td><td>null</td></tr><tr><td>2</td><td>1</td><td>[2, 3]</td></tr><tr><td>3</td><td>1</td><td>[3, 2]</td></tr></tbody></table></div>"
      ],
      "text/plain": [
       "shape: (4, 3)\n",
       "┌─────┬──────────┬──────────────┐\n",
       "│ id  ┆ can_eval ┆ best friends │\n",
       "│ --- ┆ ---      ┆ ---          │\n",
       "│ i64 ┆ i64      ┆ list[u32]    │\n",
       "╞═════╪══════════╪══════════════╡\n",
       "│ 0   ┆ 1        ┆ [0, 2]       │\n",
       "│ 1   ┆ 0        ┆ null         │\n",
       "│ 2   ┆ 1        ┆ [2, 3]       │\n",
       "│ 3   ┆ 1        ┆ [3, 2]       │\n",
       "└─────┴──────────┴──────────────┘"
      ]
     },
     "execution_count": 5,
     "metadata": {},
     "output_type": "execute_result"
    }
   ],
   "source": [
    "df.select(\n",
    "    \"id\",\n",
    "    \"can_eval\",\n",
    "    pds.query_knn_ptwise(\n",
    "        \"a1\", \"a2\", \"a3\",\n",
    "        index = \"id\",  # pl.col(\"id\"), str | pl.Expr\n",
    "        k = 1, \n",
    "        dist = \"l2\", # squared l2\n",
    "        parallel = False,\n",
    "        eval_mask = pl.col(\"can_eval\") == 1,\n",
    "        # data_mask = pl.col(\"can_select\") == 1\n",
    "    ).alias(\"best friends\")\n",
    "\n",
    ")"
   ]
  },
  {
   "cell_type": "code",
   "execution_count": null,
   "metadata": {},
   "outputs": [],
   "source": [
    "df.select(\n",
    "    \"id\",\n",
    "    \"can_select\",\n",
    "    pds.query_knn_ptwise(\n",
    "        pl.col(\"var1\"), pl.col(\"var2\"), pl.col(\"var3\"), # Columns used as the coordinates in n-d space\n",
    "        index = \"id\",  # pl.col(\"id\"), str | pl.Expr\n",
    "        k = 3, \n",
    "        dist = \"l2\", # squared l2\n",
    "        parallel = True,\n",
    "        eval_mask = pl.col(\"can_select\") == 1,\n",
    "        # data_mask = pl.col(\"can_select\") == 1\n",
    "    ).alias(\"best friends\")\n",
    "\n",
    ")\n",
    "\n",
    "# .filter(\n",
    "#     pl.col(\"can_select\") == 1\n",
    "# )"
   ]
  },
  {
   "cell_type": "code",
   "execution_count": null,
   "metadata": {},
   "outputs": [],
   "source": [
    "df_test = df.lazy().select(\n",
    "    \"id\",\n",
    "    \"can_select\",\n",
    "    pl.when(\n",
    "        pl.col(\"can_select\") == 1\n",
    "    ).then(\n",
    "        pds.query_knn_ptwise(\n",
    "            *(pl.col(f\"var{i}\") for i in range(2)), # Columns used as the coordinates in n-d space\n",
    "            index = \"id\",  # pl.col(\"id\"), str | pl.Expr\n",
    "            k = 5000, \n",
    "            dist = \"l2\", # squared l2\n",
    "            parallel = True\n",
    "        )\n",
    "    ).otherwise(\n",
    "        None\n",
    "    )    \n",
    "    .alias(\"best friends\")\n",
    ").collect()"
   ]
  },
  {
   "cell_type": "code",
   "execution_count": null,
   "metadata": {},
   "outputs": [],
   "source": [
    "df_test"
   ]
  },
  {
   "cell_type": "code",
   "execution_count": null,
   "metadata": {},
   "outputs": [],
   "source": [
    "df_test.filter(\n",
    "    pl.col(\"can_select\") == 1\n",
    ")"
   ]
  },
  {
   "cell_type": "code",
   "execution_count": null,
   "metadata": {},
   "outputs": [],
   "source": [
    "pl.show_versions()"
   ]
  },
  {
   "cell_type": "code",
   "execution_count": null,
   "metadata": {},
   "outputs": [],
   "source": []
  }
 ],
 "metadata": {
  "kernelspec": {
   "display_name": ".venv",
   "language": "python",
   "name": "python3"
  },
  "language_info": {
   "codemirror_mode": {
    "name": "ipython",
    "version": 3
   },
   "file_extension": ".py",
   "mimetype": "text/x-python",
   "name": "python",
   "nbconvert_exporter": "python",
   "pygments_lexer": "ipython3",
   "version": "3.12.3"
  }
 },
 "nbformat": 4,
 "nbformat_minor": 2
}
