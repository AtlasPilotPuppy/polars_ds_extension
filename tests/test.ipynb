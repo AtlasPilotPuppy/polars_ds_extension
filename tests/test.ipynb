{
 "cells": [
  {
   "cell_type": "code",
   "execution_count": 1,
   "metadata": {},
   "outputs": [],
   "source": [
    "import polars as pl\n",
    "import polars_ds as pds\n",
    "import numpy as np"
   ]
  },
  {
   "cell_type": "code",
   "execution_count": 2,
   "metadata": {},
   "outputs": [
    {
     "data": {
      "text/html": [
       "<div><style>\n",
       ".dataframe > thead > tr,\n",
       ".dataframe > tbody > tr {\n",
       "  text-align: right;\n",
       "  white-space: pre-wrap;\n",
       "}\n",
       "</style>\n",
       "<small>shape: (5, 4)</small><table border=\"1\" class=\"dataframe\"><thead><tr><th>row_num</th><th>feature_1</th><th>feature_2</th><th>feature_3</th></tr><tr><td>u64</td><td>f64</td><td>f64</td><td>f64</td></tr></thead><tbody><tr><td>0</td><td>0.119315</td><td>0.431571</td><td>0.784612</td></tr><tr><td>1</td><td>0.811068</td><td>0.711681</td><td>0.681357</td></tr><tr><td>2</td><td>0.223527</td><td>0.996492</td><td>0.043001</td></tr><tr><td>3</td><td>0.923635</td><td>0.796295</td><td>0.573309</td></tr><tr><td>4</td><td>0.299232</td><td>0.20504</td><td>0.732848</td></tr></tbody></table></div>"
      ],
      "text/plain": [
       "shape: (5, 4)\n",
       "┌─────────┬───────────┬───────────┬───────────┐\n",
       "│ row_num ┆ feature_1 ┆ feature_2 ┆ feature_3 │\n",
       "│ ---     ┆ ---       ┆ ---       ┆ ---       │\n",
       "│ u64     ┆ f64       ┆ f64       ┆ f64       │\n",
       "╞═════════╪═══════════╪═══════════╪═══════════╡\n",
       "│ 0       ┆ 0.119315  ┆ 0.431571  ┆ 0.784612  │\n",
       "│ 1       ┆ 0.811068  ┆ 0.711681  ┆ 0.681357  │\n",
       "│ 2       ┆ 0.223527  ┆ 0.996492  ┆ 0.043001  │\n",
       "│ 3       ┆ 0.923635  ┆ 0.796295  ┆ 0.573309  │\n",
       "│ 4       ┆ 0.299232  ┆ 0.20504   ┆ 0.732848  │\n",
       "└─────────┴───────────┴───────────┴───────────┘"
      ]
     },
     "execution_count": 2,
     "metadata": {},
     "output_type": "execute_result"
    }
   ],
   "source": [
    "df = pds.random_data(15_000)\n",
    "df.head()"
   ]
  },
  {
   "cell_type": "code",
   "execution_count": null,
   "metadata": {},
   "outputs": [],
   "source": [
    "print(\n",
    "    \n",
    "df.select(\n",
    "    pl.col(\"row_num\"),\n",
    "    pds.query_radius_ptwise(\n",
    "        pl.col(\"feature_1\"), pl.col(\"feature_2\"), pl.col(\"feature_3\"), # Columns used as the coordinates in n-d space\n",
    "        index = pl.col(\"row_num\"),\n",
    "        r = 0.1, \n",
    "        dist = \"l2\", # actually this is squared l2\n",
    "        parallel = True\n",
    "    ).alias(\"best friends\"),\n",
    ").with_columns( # -1 to remove the point itself\n",
    "    (pl.col(\"best friends\").list.len() - 1).alias(\"best friends count\")\n",
    ").head()\n",
    "\n",
    ")"
   ]
  },
  {
   "cell_type": "code",
   "execution_count": null,
   "metadata": {},
   "outputs": [],
   "source": [
    "        pl.col(\"val1\"), pl.col(\"val2\"), pl.col(\"val3\"), # Columns used as the coordinates in n-d space\n",
    "        r = 0.1, \n",
    "        dist = \"l2\", # actually this is squared l2\n",
    "        parallel = True"
   ]
  },
  {
   "cell_type": "code",
   "execution_count": null,
   "metadata": {},
   "outputs": [],
   "source": []
  },
  {
   "cell_type": "code",
   "execution_count": null,
   "metadata": {},
   "outputs": [],
   "source": []
  },
  {
   "cell_type": "code",
   "execution_count": null,
   "metadata": {},
   "outputs": [],
   "source": [
    "import scipy"
   ]
  },
  {
   "cell_type": "code",
   "execution_count": null,
   "metadata": {},
   "outputs": [],
   "source": [
    "df.select(pl.col(\"feature_1\").num.rfft())"
   ]
  },
  {
   "cell_type": "code",
   "execution_count": null,
   "metadata": {},
   "outputs": [],
   "source": [
    "df.select(pl.col(\"feature_1\").num.rfft2())"
   ]
  }
 ],
 "metadata": {
  "kernelspec": {
   "display_name": ".venv",
   "language": "python",
   "name": "python3"
  },
  "language_info": {
   "codemirror_mode": {
    "name": "ipython",
    "version": 3
   },
   "file_extension": ".py",
   "mimetype": "text/x-python",
   "name": "python",
   "nbconvert_exporter": "python",
   "pygments_lexer": "ipython3",
   "version": "3.11.7"
  }
 },
 "nbformat": 4,
 "nbformat_minor": 2
}
