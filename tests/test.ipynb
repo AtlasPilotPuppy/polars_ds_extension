{
 "cells": [
  {
   "cell_type": "code",
   "execution_count": null,
   "metadata": {},
   "outputs": [],
   "source": [
    "import polars as pl\n",
    "import polars_ds as pld\n",
    "import numpy as np"
   ]
  },
  {
   "cell_type": "code",
   "execution_count": null,
   "metadata": {},
   "outputs": [],
   "source": [
    "def get_random_data(size:int=2_000) -> pl.DataFrame: \n",
    "    df = pl.DataFrame({\n",
    "        \"id\": range(size), \n",
    "    }).with_columns(\n",
    "        pl.col(\"id\").cast(pl.UInt64),\n",
    "        pl.col(\"id\").stats.sample_uniform(low=0.0, high=1.0).alias(\"feature_1\"),\n",
    "        pl.col(\"id\").stats.sample_uniform(low=0.0, high=1.0).alias(\"feature_2\"),\n",
    "        pl.col(\"id\").stats.sample_uniform(low=0.0, high=1.0).alias(\"feature_3\"),\n",
    "        pl.col(\"id\").mod(3).alias(\"actuals\")\n",
    "    ).with_columns(\n",
    "        pl.col(\"val1\").stats.rand_null(0.2).alias(\"val1_nulls\")\n",
    "    )\n",
    "    return df\n",
    "\n",
    "    # return df.select(\n",
    "    #     pl.col(\"id\"),\n",
    "    #     pl.col(\"id\").num.query_radius_ptwise(\n",
    "    #         pl.col(\"val1\"), pl.col(\"val2\"), pl.col(\"val3\"), # Columns used as the coordinates in n-d space\n",
    "    #         r = 0.1, \n",
    "    #         dist = \"l2\", # actually this is squared l2\n",
    "    #         parallel = True\n",
    "    #     ).list.slice(offset=1).alias(\"friends\"),\n",
    "    # )\n"
   ]
  },
  {
   "cell_type": "code",
   "execution_count": null,
   "metadata": {},
   "outputs": [],
   "source": [
    "import stumpy\n",
    "import pandas as pd\n",
    "from scipy.signal import fftconvolve\n",
    "\n",
    "df = pld.random_data(100_000) # get_random_data(500_000)\n",
    "df.head()\n",
    "ts = pd.Series(df[\"feature_1\"])"
   ]
  },
  {
   "cell_type": "code",
   "execution_count": null,
   "metadata": {},
   "outputs": [],
   "source": [
    "a = fftconvolve(df[\"feature_1\"], [-1, 0, 1], mode=\"same\")\n",
    "len(a)"
   ]
  },
  {
   "cell_type": "code",
   "execution_count": null,
   "metadata": {},
   "outputs": [],
   "source": [
    "\n",
    "fftconvolve(df[\"feature_1\"], [-1, 0, 1], \"same\")"
   ]
  },
  {
   "cell_type": "code",
   "execution_count": null,
   "metadata": {},
   "outputs": [],
   "source": [
    "df = pl.DataFrame({\n",
    "    \"a\": [5, 6, 7, 8, 9]\n",
    "})\n",
    "\n",
    "df.select(\n",
    "    pl.col(\"a\").num.convolve([1, 0, -1], mode=\"valid\"),\n",
    ")"
   ]
  },
  {
   "cell_type": "code",
   "execution_count": null,
   "metadata": {},
   "outputs": [],
   "source": []
  },
  {
   "cell_type": "code",
   "execution_count": null,
   "metadata": {},
   "outputs": [],
   "source": [
    "df.select(\n",
    "    pl.col(\"feature_1\").shift(5).alias(\"s1\"),\n",
    ")"
   ]
  },
  {
   "cell_type": "code",
   "execution_count": null,
   "metadata": {},
   "outputs": [],
   "source": [
    "df.select(\n",
    "    pl.col(\"feature_1\").cum_sum().alias(\"s1\"),\n",
    "    pl.col(\"feature_1\").pow(2).cum_sum().alias(\"s2\"),\n",
    "    (pl.col(\"feature_1\").pow(2) -  pl.col(\"feature_1\")).cum_sum().alias(\"s3\"),\n",
    ").with_columns(\n",
    "    (pl.col(\"s2\") - pl.col(\"s1\")).alias(\"s4\")\n",
    ")"
   ]
  },
  {
   "cell_type": "code",
   "execution_count": null,
   "metadata": {},
   "outputs": [],
   "source": [
    "# %%timeit\n",
    "df.select(\n",
    "    pl.col(\"feature_1\").num.matrix_profile(m = 10, parallel=False)\n",
    ").unnest(\"feature_1\").with_columns(\n",
    "    pl.col(\"squared_znorm\").sqrt()\n",
    ").head(5) "
   ]
  },
  {
   "cell_type": "code",
   "execution_count": null,
   "metadata": {},
   "outputs": [],
   "source": [
    "%%timeit\n",
    "df.select(\n",
    "    pl.col(\"feature_1\").num.matrix_profile2(m = 30, parallel=False)\n",
    ").unnest(\"feature_1\").with_columns(\n",
    "    pl.col(\"squared_znorm\").sqrt()\n",
    ").head(5) # 100k size data, window size = 10, both compiled and parallel"
   ]
  },
  {
   "cell_type": "code",
   "execution_count": null,
   "metadata": {},
   "outputs": [],
   "source": [
    "%%timeit\n",
    "mp = stumpy.stump(ts, 10)\n",
    "mp[:5, :]"
   ]
  },
  {
   "cell_type": "code",
   "execution_count": null,
   "metadata": {},
   "outputs": [],
   "source": []
  }
 ],
 "metadata": {
  "kernelspec": {
   "display_name": ".venv",
   "language": "python",
   "name": "python3"
  },
  "language_info": {
   "codemirror_mode": {
    "name": "ipython",
    "version": 3
   },
   "file_extension": ".py",
   "mimetype": "text/x-python",
   "name": "python",
   "nbconvert_exporter": "python",
   "pygments_lexer": "ipython3",
   "version": "3.11.7"
  }
 },
 "nbformat": 4,
 "nbformat_minor": 2
}
