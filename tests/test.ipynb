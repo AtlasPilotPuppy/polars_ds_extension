{
 "cells": [
  {
   "cell_type": "code",
   "execution_count": null,
   "metadata": {},
   "outputs": [],
   "source": [
    "import polars as pl\n",
    "import polars_ds as pds"
   ]
  },
  {
   "cell_type": "code",
   "execution_count": null,
   "metadata": {},
   "outputs": [],
   "source": [
    "df = pds.random_data(size=20_000, n_cols=0).select(\n",
    "    pds.random(0.0, 1.0).alias(\"x1\"),\n",
    "    pds.random(0.0, 1.0).alias(\"x2\"),\n",
    "    pds.random(0.0, 1.0).alias(\"x3\"),\n",
    "    pds.random(0.0, 1.0).alias(\"x4\"),\n",
    "    pds.random(0.0, 1.0).alias(\"x5\"),\n",
    "    pds.random_int(0, 3).cast(pl.String).alias(\"str\"),\n",
    "    pds.random_int(0, 100).alias(\"test\"),\n",
    ")\n",
    "df"
   ]
  },
  {
   "cell_type": "code",
   "execution_count": null,
   "metadata": {},
   "outputs": [],
   "source": [
    "# df = pl.DataFrame({\n",
    "#     \"a\": list(range(100))\n",
    "# })\n",
    "\n",
    "import numpy as np\n",
    "\n",
    "df = pl.DataFrame({\n",
    "    \"a\": list(np.sin(2 * np.pi * np.arange(10_000) / 100))\n",
    "})\n",
    "\n",
    "def query_sample_entropy(\n",
    "    ts: pl.Expr, ratio: float = 0.2, m: int = 2, parallel: bool = False\n",
    ") -> list[pl.Expr]:\n",
    "\n",
    "    t = ts\n",
    "    r = ratio * t.std(ddof=0)\n",
    "    rows = t.count() - m + 1\n",
    "\n",
    "    data = [r, t.slice(0, length=rows).cast(pl.Float64).alias(\"\")]\n",
    "    # See rust code for more comment on why I put m + 1 here.\n",
    "    data.extend(\n",
    "        t.shift(-i).slice(0, length=rows).cast(pl.Float64).alias(str(i)) for i in range(1, m + 1)\n",
    "    )  # More errors are handled in Rust\n",
    "\n",
    "    return data"
   ]
  },
  {
   "cell_type": "code",
   "execution_count": null,
   "metadata": {},
   "outputs": [],
   "source": [
    "df.select(\n",
    "    query_sample_entropy(pl.col(\"a\"))\n",
    ")"
   ]
  },
  {
   "cell_type": "code",
   "execution_count": null,
   "metadata": {},
   "outputs": [],
   "source": []
  },
  {
   "cell_type": "code",
   "execution_count": null,
   "metadata": {},
   "outputs": [],
   "source": [
    "df.select(\n",
    "    pl.col(\"a\").min().alias(\"min\"),\n",
    "    pl.col(\"a\").max().alias(\"max\"),\n",
    ")"
   ]
  },
  {
   "cell_type": "code",
   "execution_count": null,
   "metadata": {},
   "outputs": [],
   "source": [
    "df.select(\n",
    "    pds.query_sample_entropy(pl.col(\"x1\").abs())\n",
    ")"
   ]
  },
  {
   "cell_type": "code",
   "execution_count": null,
   "metadata": {},
   "outputs": [],
   "source": [
    "import tracemalloc"
   ]
  },
  {
   "cell_type": "code",
   "execution_count": null,
   "metadata": {},
   "outputs": [],
   "source": [
    "tracemalloc.start()\n",
    "df.with_columns(\n",
    "    pds.query_nb_cnt(\n",
    "        0.05, # radius \n",
    "        \"x1\", \"x2\", \"x3\", \"x4\", \"x5\", \n",
    "        dist = \"l2\",\n",
    "        parallel = True\n",
    "    ).alias(\"nb_cnt\")\n",
    ")\n",
    "print(tracemalloc.get_traced_memory())\n",
    "tracemalloc.stop()"
   ]
  },
  {
   "cell_type": "code",
   "execution_count": null,
   "metadata": {},
   "outputs": [],
   "source": [
    "\n",
    "df.with_columns(\n",
    "    pds.query_nb_cnt(\n",
    "        0.1, # radius \n",
    "        \"x1\", \"x2\", \"x3\", # \"x4\", \"x5\", \n",
    "        dist = \"l2\",\n",
    "        parallel = True\n",
    "    ).alias(\"nb_cnt\")\n",
    ")"
   ]
  },
  {
   "cell_type": "code",
   "execution_count": null,
   "metadata": {},
   "outputs": [],
   "source": [
    "tracemalloc.start()\n",
    "df.with_columns(\n",
    "    pds.query_nb_cnt2(\n",
    "        0.05, # radius \n",
    "        \"x1\", \"x2\", \"x3\", \"x4\", \"x5\", \n",
    "        dist = \"l2\",\n",
    "        parallel = True \n",
    "    ).alias(\"nb_cnt\")\n",
    ")\n",
    "print(tracemalloc.get_traced_memory())\n",
    "tracemalloc.stop()"
   ]
  },
  {
   "cell_type": "code",
   "execution_count": null,
   "metadata": {},
   "outputs": [],
   "source": [
    "\n",
    "df.with_columns(\n",
    "    pds.query_nb_cnt2(\n",
    "        0.1, # radius \n",
    "        \"x1\", \"x2\", \"x3\", # \"x4\", \"x5\", \n",
    "        dist = \"l2\",\n",
    "        parallel = True \n",
    "    ).alias(\"nb_cnt\")\n",
    ")"
   ]
  },
  {
   "cell_type": "code",
   "execution_count": null,
   "metadata": {},
   "outputs": [],
   "source": []
  }
 ],
 "metadata": {
  "kernelspec": {
   "display_name": ".venv",
   "language": "python",
   "name": "python3"
  },
  "language_info": {
   "codemirror_mode": {
    "name": "ipython",
    "version": 3
   },
   "file_extension": ".py",
   "mimetype": "text/x-python",
   "name": "python",
   "nbconvert_exporter": "python",
   "pygments_lexer": "ipython3",
   "version": "3.12.3"
  }
 },
 "nbformat": 4,
 "nbformat_minor": 2
}
