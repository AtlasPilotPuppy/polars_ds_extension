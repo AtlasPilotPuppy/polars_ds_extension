{
 "cells": [
  {
   "cell_type": "code",
   "execution_count": null,
   "metadata": {},
   "outputs": [],
   "source": [
    "import polars as pl\n",
    "import polars_ds as pld\n",
    "import numpy as np"
   ]
  },
  {
   "cell_type": "code",
   "execution_count": null,
   "metadata": {},
   "outputs": [],
   "source": [
    "def get_random_data(size:int=4_000) -> pl.DataFrame: \n",
    "    df = pl.DataFrame({\n",
    "        \"id\": range(size), \n",
    "    }).with_columns(\n",
    "        pl.col(\"id\").cast(pl.UInt64),\n",
    "        pl.col(\"id\").stats.sample_uniform(low=0.0, high=1.0).alias(\"val1\"),\n",
    "        pl.col(\"id\").stats.sample_uniform(low=0.0, high=1.0).alias(\"val2\"),\n",
    "        pl.col(\"id\").stats.sample_uniform(low=0.0, high=1.0).alias(\"val3\"),\n",
    "        pl.col(\"id\").mod(3).alias(\"actuals\")\n",
    "    ).with_columns(\n",
    "        pl.col(\"val1\").stats.rand_null(0.2).alias(\"val1_nulls\")\n",
    "    )\n",
    "\n",

    "\n",
    "    # return df.select(\n",
    "    #     pl.col(\"id\"),\n",
    "    #     pl.col(\"id\").num.query_radius_ptwise(\n",
    "    #         pl.col(\"val1\"), pl.col(\"val2\"), pl.col(\"val3\"), # Columns used as the coordinates in n-d space\n",
    "    #         r = 0.1, \n",
    "    #         dist = \"l2\", # actually this is squared l2\n",
    "    #         parallel = True\n",
    "    #     ).list.slice(offset=1).alias(\"friends\"),\n",
    "    # )\n"
   ]
  },
  {
   "cell_type": "code",
   "execution_count": null,
   "metadata": {},
   "outputs": [],
   "source": [
    "df = pld.random_data(5000) # get_random_data(500_000)\n",
    "df.head()"
   ]
  },
  {
   "cell_type": "code",
   "execution_count": null,
   "metadata": {},
   "outputs": [],
   "source": []
  }
 ],
 "metadata": {
  "kernelspec": {
   "display_name": ".venv",
   "language": "python",
   "name": "python3"
  },
  "language_info": {
   "codemirror_mode": {
    "name": "ipython",
    "version": 3
   },
   "file_extension": ".py",
   "mimetype": "text/x-python",
   "name": "python",
   "nbconvert_exporter": "python",
   "pygments_lexer": "ipython3",
   "version": "3.11.7"
  }
 },
 "nbformat": 4,
 "nbformat_minor": 2
}
