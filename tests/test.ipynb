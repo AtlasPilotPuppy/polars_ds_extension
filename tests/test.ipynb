{
 "cells": [
  {
   "cell_type": "code",
   "execution_count": null,
   "id": "529f4422-5c3a-4bd6-abe0-a15edfc62abb",
   "metadata": {},
   "outputs": [],
   "source": [
    "import polars as pl\n",
    "import numpy as np\n",
    "import polars_ds as pld"
   ]
  },
  {
   "cell_type": "code",
   "execution_count": null,
   "id": "0baaa1b7",
   "metadata": {},
   "outputs": [],
   "source": [
    "import polars_ds as pld\n",
    "size = 100_000\n",
    "df = pl.DataFrame({\n",
    "    \"id\": range(size),\n",
    "    \"val1\": np.random.random(size=size), \n",
    "    \"val2\": np.random.random(size=size), \n",
    "    \"val3\": np.random.random(size=size),\n",
    "    \"r\": np.random.random(size=size),\n",
    "    \"rh\": np.random.random(size=size)*10,\n",
    "}).with_columns(\n",
    "    pl.col(\"id\").cast(pl.UInt64),\n",
    "    pl.col(\"id\").stats.rand_str().alias(\"s1\"),\n",
    "    pl.col(\"id\").stats.rand_str().alias(\"s2\"),\n",
    "    pl.col(\"id\").stats.rand_null(0.5)\n",
    ")"
   ]
  },
  {
   "cell_type": "code",
   "execution_count": null,
   "id": "939f0b5d",
   "metadata": {},
   "outputs": [],
   "source": [
    "df.head(20)"
   ]
  },
  {
   "cell_type": "code",
   "execution_count": null,
   "id": "4e5aabac",
   "metadata": {},
   "outputs": [],
   "source": [
    "df.head()"
   ]
  },
  {
   "cell_type": "code",
   "execution_count": null,
   "id": "9baba84d",
   "metadata": {},
   "outputs": [],
   "source": [
    "%%timeit\n",
    "df.select(\n",
    "    pl.col(\"s1\").str2.similar_words(pl.col(\"s2\"))\n",
    ") # 718"
   ]
  },
  {
   "cell_type": "code",
   "execution_count": null,
   "id": "88b7ef9f",
   "metadata": {},
   "outputs": [],
   "source": [
    "\n",
    "df.with_columns(\n",
    "    pld.query_nb_cnt(\n",
    "        0.1, # radius \n",
    "        pl.col(\"val1\"), pl.col(\"val2\"), pl.col(\"val3\"), # Columns used as the coordinates in n-d space\n",
    "        dist = \"inf\", # L Infinity distance \n",
    "        parallel = False \n",
    "    ).alias(\"nb_l_inf_cnt\")\n",
    ").head()"
   ]
  },
  {
   "cell_type": "code",
   "execution_count": null,
   "id": "9b47bfa7",
   "metadata": {},
   "outputs": [],
   "source": []
  }
 ],
 "metadata": {
  "kernelspec": {
   "display_name": "Python 3 (ipykernel)",
   "language": "python",
   "name": "python3"
  },
  "language_info": {
   "codemirror_mode": {
    "name": "ipython",
    "version": 3
   },
   "file_extension": ".py",
   "mimetype": "text/x-python",
   "name": "python",
   "nbconvert_exporter": "python",
   "pygments_lexer": "ipython3",
   "version": "3.11.6"
  }
 },
 "nbformat": 4,
 "nbformat_minor": 5
}
