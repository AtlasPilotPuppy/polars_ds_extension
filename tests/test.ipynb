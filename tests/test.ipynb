{
 "cells": [
  {
   "cell_type": "code",
   "execution_count": 1,
   "metadata": {},
   "outputs": [
    {
     "name": "stdout",
     "output_type": "stream",
     "text": [
      "0.6.0\n"
     ]
    }
   ],
   "source": [
    "import polars as pl\n",
    "import polars_ds as pds\n",
    "print(pds.__version__)"
   ]
  },
  {
   "cell_type": "code",
   "execution_count": 2,
   "metadata": {},
   "outputs": [],
   "source": [
    "size = 2000\n",
    "df = pl.DataFrame({\n",
    "    \"id\": range(size), \n",
    "}).with_columns(\n",
    "    *(pds.random().alias(f\"var{i}\") for i in range(3)),\n",
    "    pl.col(\"id\").cast(pl.UInt32)\n",
    ")"
   ]
  },
  {
   "cell_type": "code",
   "execution_count": 3,
   "metadata": {},
   "outputs": [
    {
     "data": {
      "text/plain": [
       "array([[0.40768747, 0.35909205, 0.77333555],\n",
       "       [0.83085056, 0.92485258, 0.00366485],\n",
       "       [0.92205152, 0.2352715 , 0.14691748],\n",
       "       ...,\n",
       "       [0.23470244, 0.15046415, 0.75287663],\n",
       "       [0.24936038, 0.53269045, 0.4955455 ],\n",
       "       [0.94465255, 0.61920718, 0.46988154]])"
      ]
     },
     "execution_count": 3,
     "metadata": {},
     "output_type": "execute_result"
    }
   ],
   "source": [
    "import numpy as np\n",
    "\n",
    "X = df.select(f\"var{i}\" for i in range(3)).to_numpy(order=\"c\")\n",
    "X"
   ]
  },
  {
   "cell_type": "code",
   "execution_count": 4,
   "metadata": {},
   "outputs": [],
   "source": [
    "from polars_ds.kdtree import KDTree as KDT\n",
    "\n",
    "kdt = KDT(X, distance = \"l2\")"
   ]
  },
  {
   "cell_type": "code",
   "execution_count": 8,
   "metadata": {},
   "outputs": [],
   "source": [
    "distances, indices = kdt.knn(X, k = 10, parallel = False)"
   ]
  },
  {
   "cell_type": "code",
   "execution_count": 6,
   "metadata": {},
   "outputs": [],
   "source": [
    "from scipy.spatial import KDTree\n",
    "tree = KDTree(X, copy_data=True)"
   ]
  },
  {
   "cell_type": "code",
   "execution_count": 9,
   "metadata": {},
   "outputs": [],
   "source": [
    "distances_1, indices_1 = tree.query(X, k = 10, p = 2, distance_upper_bound = 9999.0)"
   ]
  },
  {
   "cell_type": "code",
   "execution_count": 12,
   "metadata": {},
   "outputs": [
    {
     "data": {
      "text/plain": [
       "array([[0.        , 0.0012477 , 0.00146538, ..., 0.00810182, 0.00852522,\n",
       "        0.00953975],\n",
       "       [0.        , 0.01165835, 0.01271139, ..., 0.01822029, 0.01857419,\n",
       "        0.02045941],\n",
       "       [0.        , 0.00288911, 0.00351756, ..., 0.00971367, 0.00976531,\n",
       "        0.01059297],\n",
       "       ...,\n",
       "       [0.        , 0.0058365 , 0.01021808, ..., 0.01624001, 0.01649054,\n",
       "        0.01666143],\n",
       "       [0.        , 0.00153654, 0.00188582, ..., 0.00815991, 0.00923017,\n",
       "        0.00934023],\n",
       "       [0.        , 0.00335994, 0.00405591, ..., 0.01029638, 0.01143721,\n",
       "        0.01160589]])"
      ]
     },
     "execution_count": 12,
     "metadata": {},
     "output_type": "execute_result"
    }
   ],
   "source": [
    "distances"
   ]
  },
  {
   "cell_type": "code",
   "execution_count": 11,
   "metadata": {},
   "outputs": [
    {
     "data": {
      "text/plain": [
       "array([[0.        , 0.03532275, 0.03828032, ..., 0.0900101 , 0.09233212,\n",
       "        0.09767164],\n",
       "       [0.        , 0.10797383, 0.11274479, ..., 0.13498256, 0.13628715,\n",
       "        0.1430364 ],\n",
       "       [0.        , 0.05375043, 0.05930904, ..., 0.09855798, 0.09881959,\n",
       "        0.10292216],\n",
       "       ...,\n",
       "       [0.        , 0.076397  , 0.10108454, ..., 0.12743628, 0.1284155 ,\n",
       "        0.12907918],\n",
       "       [0.        , 0.03919877, 0.04342605, ..., 0.0903322 , 0.09607375,\n",
       "        0.09664488],\n",
       "       [0.        , 0.057965  , 0.063686  , ..., 0.10147108, 0.10694489,\n",
       "        0.10773063]])"
      ]
     },
     "execution_count": 11,
     "metadata": {},
     "output_type": "execute_result"
    }
   ],
   "source": [
    "distances_1"
   ]
  },
  {
   "cell_type": "code",
   "execution_count": null,
   "metadata": {},
   "outputs": [],
   "source": [
    "%timeit kdt.knn(X, k = 10, parallel = False)\n",
    "%timeit kdt.knn(X, k = 10, parallel = True)"
   ]
  },
  {
   "cell_type": "code",
   "execution_count": null,
   "metadata": {},
   "outputs": [],
   "source": [
    "from scipy.spatial import KDTree\n",
    "tree = KDTree(X, copy_data=True)"
   ]
  },
  {
   "cell_type": "code",
   "execution_count": null,
   "metadata": {},
   "outputs": [],
   "source": [
    "%timeit tree.query(X, k = 10, p = 2, distance_upper_bound = 9999.0)\n",
    "%timeit tree.query(X, k = 10, p = 2, workers=-1, distance_upper_bound = 9999.0)"
   ]
  },
  {
   "cell_type": "code",
   "execution_count": null,
   "metadata": {},
   "outputs": [],
   "source": [
    "kdt.within_count(X, r = 0.005, parallel=True) - 10"
   ]
  },
  {
   "cell_type": "code",
   "execution_count": null,
   "metadata": {},
   "outputs": [],
   "source": [
    "%timeit kdt.knn(X, k = 10, epsilon = 0., max_dist_bound = 9999.0, parallel = False)\n",
    "%timeit kdt.knn(X, k = 10, epsilon = 0., max_dist_bound = 9999.0, parallel = True)"
   ]
  },
  {
   "cell_type": "code",
   "execution_count": null,
   "metadata": {},
   "outputs": [],
   "source": [
    "from scipy.spatial import KDTree"
   ]
  },
  {
   "cell_type": "code",
   "execution_count": null,
   "metadata": {},
   "outputs": [],
   "source": [
    "tree = KDTree(X, copy_data=True)"
   ]
  },
  {
   "cell_type": "code",
   "execution_count": null,
   "metadata": {},
   "outputs": [],
   "source": [
    "%timeit tree.query(X, k = 10, p = 2, workers=-1, distance_upper_bound = 9999.0)"
   ]
  },
  {
   "cell_type": "code",
   "execution_count": null,
   "metadata": {},
   "outputs": [],
   "source": [
    "%timeit tree.query(X, k = 10, p = 2, distance_upper_bound = 9999.0)\n",
    "%timeit tree.query(X, k = 10, p = 2, workers=-1, distance_upper_bound = 9999.0)"
   ]
  },
  {
   "cell_type": "code",
   "execution_count": null,
   "metadata": {},
   "outputs": [],
   "source": []
  },
  {
   "cell_type": "code",
   "execution_count": null,
   "metadata": {},
   "outputs": [],
   "source": [
    "%%timeit\n",
    "df.select(\n",
    "    pds.convolve(\n",
    "        \"x1\",\n",
    "        kernel = [0.5] * 10,\n",
    "        method = \"fft\",\n",
    "        mode = \"valid\"\n",
    "    )\n",
    ") # 705"
   ]
  },
  {
   "cell_type": "code",
   "execution_count": null,
   "metadata": {},
   "outputs": [],
   "source": []
  },
  {
   "cell_type": "code",
   "execution_count": null,
   "metadata": {},
   "outputs": [],
   "source": [
    "df.select(\n",
    "    pds.query_lstsq(\n",
    "        \"x1\", \"x2\", \"x3\",\n",
    "        target = \"y\",\n",
    "        l1_reg = l1_reg,\n",
    "        l2_reg = l2_reg,\n",
    "        tol = 1e-6\n",
    "    )\n",
    ")"
   ]
  },
  {
   "cell_type": "code",
   "execution_count": null,
   "metadata": {},
   "outputs": [],
   "source": [
    "from sklearn.linear_model import ElasticNet\n",
    "x = df.select(\"x1\", \"x2\", \"x3\").to_numpy()\n",
    "y = df.select(\"y\").to_numpy()"
   ]
  },
  {
   "cell_type": "code",
   "execution_count": null,
   "metadata": {},
   "outputs": [],
   "source": [
    "model = ElasticNet(alpha = alpha, l1_ratio= l1_ratio, fit_intercept=False)"
   ]
  },
  {
   "cell_type": "code",
   "execution_count": null,
   "metadata": {},
   "outputs": [],
   "source": [
    "model.fit(x, y)"
   ]
  },
  {
   "cell_type": "code",
   "execution_count": null,
   "metadata": {},
   "outputs": [],
   "source": [
    "model.coef_"
   ]
  },
  {
   "cell_type": "code",
   "execution_count": null,
   "metadata": {},
   "outputs": [],
   "source": []
  },
  {
   "cell_type": "code",
   "execution_count": null,
   "metadata": {},
   "outputs": [],
   "source": [
    "import numpy as np\n",
    "\n",
    "x = df.select(\"x1\", \"x2\", \"x3\").to_numpy()\n",
    "y = df.select(\"y\").to_numpy()"
   ]
  },
  {
   "cell_type": "code",
   "execution_count": null,
   "metadata": {},
   "outputs": [],
   "source": [
    "np.linalg.lstsq(x, y, rcond = 0.5)"
   ]
  },
  {
   "cell_type": "code",
   "execution_count": null,
   "metadata": {},
   "outputs": [],
   "source": [
    "res = df.select(\n",
    "    pds.query_lstsq_w_rcond(\n",
    "        \"x1\", \"x2\", \"x3\",\n",
    "        target = \"y\",\n",
    "        rcond = 0.5,\n",
    "        method = \"l2\",\n",
    "    ).alias(\"result\")\n",
    ").unnest(\"result\")"
   ]
  },
  {
   "cell_type": "code",
   "execution_count": null,
   "metadata": {},
   "outputs": [],
   "source": [
    "res"
   ]
  },
  {
   "cell_type": "code",
   "execution_count": null,
   "metadata": {},
   "outputs": [],
   "source": [
    "coeffs = res[\"coeffs\"][0].to_numpy()\n",
    "svs = res[\"singular_values\"][0].to_numpy()\n",
    "\n",
    "coeffs"
   ]
  },
  {
   "cell_type": "code",
   "execution_count": null,
   "metadata": {},
   "outputs": [],
   "source": [
    "svs"
   ]
  },
  {
   "cell_type": "code",
   "execution_count": null,
   "metadata": {},
   "outputs": [],
   "source": [
    "np.sqrt(4144.9180)"
   ]
  },
  {
   "cell_type": "code",
   "execution_count": null,
   "metadata": {},
   "outputs": [],
   "source": [
    "from polars_ds.linear_models import LR, OnlineLR\n"
   ]
  },
  {
   "cell_type": "code",
   "execution_count": null,
   "metadata": {},
   "outputs": [],
   "source": [
    "X = df.select(\"x1\", \"x2\", \"x3\").to_numpy()\n",
    "y = df.select(\"y\").to_numpy()"
   ]
  },
  {
   "cell_type": "code",
   "execution_count": null,
   "metadata": {},
   "outputs": [],
   "source": [
    "import numpy as np"
   ]
  },
  {
   "cell_type": "code",
   "execution_count": null,
   "metadata": {},
   "outputs": [],
   "source": [
    "model = LR(lambda_=0.1, fit_bias=True) # Ridge Regression\n",
    "online_model = OnlineLR(fit_bias = True) # Normal, online regression with a bias term\n"
   ]
  },
  {
   "cell_type": "code",
   "execution_count": null,
   "metadata": {},
   "outputs": [],
   "source": [
    "online_model.fit(X[:10], y[:10])"
   ]
  },
  {
   "cell_type": "code",
   "execution_count": null,
   "metadata": {},
   "outputs": [],
   "source": [
    "np.linalg.lstsq(X[:10], y[:10])"
   ]
  },
  {
   "cell_type": "code",
   "execution_count": null,
   "metadata": {},
   "outputs": [],
   "source": [
    "query"
   ]
  },
  {
   "cell_type": "code",
   "execution_count": null,
   "metadata": {},
   "outputs": [],
   "source": [
    "df.select(\n",
    "    pds.query_similar_count(\n",
    "        query = query,\n",
    "        target = \"x1\",\n",
    "        metric = \"sql2\",\n",
    "        threshold = 0.5\n",
    "    )\n",
    ")"
   ]
  },
  {
   "cell_type": "code",
   "execution_count": null,
   "metadata": {},
   "outputs": [],
   "source": []
  },
  {
   "cell_type": "code",
   "execution_count": null,
   "metadata": {},
   "outputs": [],
   "source": []
  },
  {
   "cell_type": "code",
   "execution_count": null,
   "metadata": {},
   "outputs": [],
   "source": []
  },
  {
   "cell_type": "code",
   "execution_count": null,
   "metadata": {},
   "outputs": [],
   "source": [
    "df.select(\n",
    "    pds.query_similar_count(\n",
    "        query = [0.5, 0.5, 0.1, 0.1, 0.12, 0.22],\n",
    "        target = \"x1\",\n",
    "        metric = \"sql2\",\n",
    "        threshold = 0.1\n",
    "    )\n",
    ")"
   ]
  },
  {
   "cell_type": "code",
   "execution_count": null,
   "metadata": {},
   "outputs": [],
   "source": [
    "q = pl.Series([0.5, 1.0, 0.3])\n",
    "qq = pl.lit(q)\n",
    "df.select(\n",
    "    (qq - qq.mean()) / qq.std()\n",
    ")"
   ]
  },
  {
   "cell_type": "code",
   "execution_count": null,
   "metadata": {},
   "outputs": [],
   "source": []
  }
 ],
 "metadata": {
  "kernelspec": {
   "display_name": ".venv",
   "language": "python",
   "name": "python3"
  },
  "language_info": {
   "codemirror_mode": {
    "name": "ipython",
    "version": 3
   },
   "file_extension": ".py",
   "mimetype": "text/x-python",
   "name": "python",
   "nbconvert_exporter": "python",
   "pygments_lexer": "ipython3",
   "version": "3.12.4"
  }
 },
 "nbformat": 4,
 "nbformat_minor": 2
}
