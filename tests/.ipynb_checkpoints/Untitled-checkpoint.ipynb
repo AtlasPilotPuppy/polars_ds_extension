{
 "cells": [
  {
   "cell_type": "code",
   "execution_count": null,
   "id": "529f4422-5c3a-4bd6-abe0-a15edfc62abb",
   "metadata": {},
   "outputs": [],
   "source": [
    "from polars_ds.extensions import StrExt, NumExt\n",
    "import polars as pl\n",
    "import numpy as np "
   ]
  },
  {
   "cell_type": "code",
   "execution_count": null,
   "id": "f82ebcaa-25df-4ddd-b166-55f06e979593",
   "metadata": {},
   "outputs": [],
   "source": [
    "df = pl.DataFrame({\n",
    "    \"dummy\": [\"a\"] * 50_000 + [\"b\"] * 50_000,\n",
    "    \"a\": range(100_000),\n",
    "    \"b\": range(-100_000, 0),\n",
    "    \"y\": pl.Series(range(100_000, 200_000)) + 0.5\n",
    "})\n",
    "\n",
    "df.head()"
   ]
  },
  {
   "cell_type": "code",
   "execution_count": null,
   "id": "5821d4d0-fe4f-4864-9d56-0a2c0ef03334",
   "metadata": {},
   "outputs": [],
   "source": [
    "df.group_by(\"dummy\").agg(\n",
    "    pl.col(\"y\").num_ext.lstsq(pl.col(\"a\"), pl.col(\"b\"), add_bias = True)\n",
    ")"
   ]
  },
  {
   "cell_type": "code",
   "execution_count": null,
   "id": "3f9ad447-c7bb-4830-b996-882a382f0854",
   "metadata": {},
   "outputs": [],
   "source": [
    "df.select(pl.col(\"y\").num_ext.lstsq(pl.col(\"a\"), pl.col(\"b\")))"
   ]
  },
  {
   "cell_type": "code",
   "execution_count": null,
   "id": "ff9b6b21-532a-4655-a8a4-e5396c760a67",
   "metadata": {},
   "outputs": [],
   "source": [
    "df.select(\n",
    "    pl.col(\"y\").num_ext.lstsq(pl.col(\"a\"), pl.col(\"b\")).over(\"dummy\")\n",
    ")"
   ]
  },
  {
   "cell_type": "code",
   "execution_count": null,
   "id": "9acfcf37-85f9-44d6-96b4-897cd3fca4e6",
   "metadata": {},
   "outputs": [],
   "source": []
  },
  {
   "cell_type": "code",
   "execution_count": null,
   "id": "803ba306-791f-4a1e-a5b6-a6d6b9b55447",
   "metadata": {},
   "outputs": [],
   "source": []
  }
 ],
 "metadata": {
  "kernelspec": {
   "display_name": "Python 3 (ipykernel)",
   "language": "python",
   "name": "python3"
  },
  "language_info": {
   "codemirror_mode": {
    "name": "ipython",
    "version": 3
   },
   "file_extension": ".py",
   "mimetype": "text/x-python",
   "name": "python",
   "nbconvert_exporter": "python",
   "pygments_lexer": "ipython3",
   "version": "3.11.5"
  }
 },
 "nbformat": 4,
 "nbformat_minor": 5
}
