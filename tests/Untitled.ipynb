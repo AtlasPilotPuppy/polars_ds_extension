{
 "cells": [
  {
   "cell_type": "code",
   "execution_count": 1,
   "id": "529f4422-5c3a-4bd6-abe0-a15edfc62abb",
   "metadata": {},
   "outputs": [],
   "source": [
    "from polars_ds.extensions import StrExt, NumExt\n",
    "import polars as pl\n",
    "import numpy as np "
   ]
  },
  {
   "cell_type": "code",
   "execution_count": null,
   "id": "592cb462-ee66-49df-9f65-740116abcac2",
   "metadata": {},
   "outputs": [],
   "source": [
    "df = pl.DataFrame({\n",
    "    \"a\":[\"Atlanta\"] * 100_000,\n",
    "    \"b\":[\"Atlantis\"] * 100_000,\n",
    "})\n",
    "\n",
    "df.head()"
   ]
  },
  {
   "cell_type": "code",
   "execution_count": 2,
   "id": "f82ebcaa-25df-4ddd-b166-55f06e979593",
   "metadata": {},
   "outputs": [
    {
     "data": {
      "text/html": [
       "<div><style>\n",
       ".dataframe > thead > tr > th,\n",
       ".dataframe > tbody > tr > td {\n",
       "  text-align: right;\n",
       "  white-space: pre-wrap;\n",
       "}\n",
       "</style>\n",
       "<small>shape: (5, 4)</small><table border=\"1\" class=\"dataframe\"><thead><tr><th>dummy</th><th>a</th><th>b</th><th>y</th></tr><tr><td>str</td><td>i64</td><td>i64</td><td>f64</td></tr></thead><tbody><tr><td>&quot;a&quot;</td><td>0</td><td>-100000</td><td>100000.5</td></tr><tr><td>&quot;a&quot;</td><td>1</td><td>-99999</td><td>100001.5</td></tr><tr><td>&quot;a&quot;</td><td>2</td><td>-99998</td><td>100002.5</td></tr><tr><td>&quot;a&quot;</td><td>3</td><td>-99997</td><td>100003.5</td></tr><tr><td>&quot;a&quot;</td><td>4</td><td>-99996</td><td>100004.5</td></tr></tbody></table></div>"
      ],
      "text/plain": [
       "shape: (5, 4)\n",
       "┌───────┬─────┬─────────┬──────────┐\n",
       "│ dummy ┆ a   ┆ b       ┆ y        │\n",
       "│ ---   ┆ --- ┆ ---     ┆ ---      │\n",
       "│ str   ┆ i64 ┆ i64     ┆ f64      │\n",
       "╞═══════╪═════╪═════════╪══════════╡\n",
       "│ a     ┆ 0   ┆ -100000 ┆ 100000.5 │\n",
       "│ a     ┆ 1   ┆ -99999  ┆ 100001.5 │\n",
       "│ a     ┆ 2   ┆ -99998  ┆ 100002.5 │\n",
       "│ a     ┆ 3   ┆ -99997  ┆ 100003.5 │\n",
       "│ a     ┆ 4   ┆ -99996  ┆ 100004.5 │\n",
       "└───────┴─────┴─────────┴──────────┘"
      ]
     },
     "execution_count": 2,
     "metadata": {},
     "output_type": "execute_result"
    }
   ],
   "source": [
    "df = pl.DataFrame({\n",
    "    \"dummy\": [\"a\"] * 50_000 + [\"b\"] * 50_000,\n",
    "    \"a\": range(100_000),\n",
    "    \"b\": range(-100_000, 0),\n",
    "    \"y\": pl.Series(range(100_000, 200_000)) + 0.5\n",
    "})\n",
    "\n",
    "df.head()"
   ]
  },
  {
   "cell_type": "code",
   "execution_count": 3,
   "id": "5821d4d0-fe4f-4864-9d56-0a2c0ef03334",
   "metadata": {},
   "outputs": [
    {
     "data": {
      "text/html": [
       "<div><style>\n",
       ".dataframe > thead > tr > th,\n",
       ".dataframe > tbody > tr > td {\n",
       "  text-align: right;\n",
       "  white-space: pre-wrap;\n",
       "}\n",
       "</style>\n",
       "<small>shape: (2, 2)</small><table border=\"1\" class=\"dataframe\"><thead><tr><th>dummy</th><th>betas</th></tr><tr><td>str</td><td>list[f64]</td></tr></thead><tbody><tr><td>&quot;a&quot;</td><td>[0.668022, 0.331978, 133198.343417]</td></tr><tr><td>&quot;b&quot;</td><td>[-0.411356, 1.411356, 241136.143309]</td></tr></tbody></table></div>"
      ],
      "text/plain": [
       "shape: (2, 2)\n",
       "┌───────┬───────────────────────────────────┐\n",
       "│ dummy ┆ betas                             │\n",
       "│ ---   ┆ ---                               │\n",
       "│ str   ┆ list[f64]                         │\n",
       "╞═══════╪═══════════════════════════════════╡\n",
       "│ a     ┆ [0.668022, 0.331978, 133198.3434… │\n",
       "│ b     ┆ [-0.411356, 1.411356, 241136.143… │\n",
       "└───────┴───────────────────────────────────┘"
      ]
     },
     "execution_count": 3,
     "metadata": {},
     "output_type": "execute_result"
    }
   ],
   "source": [
    "df.group_by(\"dummy\").agg(\n",
    "    pl.col(\"y\").num_ext.lstsq([pl.col(\"a\"), pl.col(\"b\")], add_bias = True)\n",
    ")"
   ]
  },
  {
   "cell_type": "code",
   "execution_count": 4,
   "id": "3041be37-fa78-4fcc-bb04-a5d598aeedf8",
   "metadata": {},
   "outputs": [
    {
     "data": {
      "text/html": [
       "<div><style>\n",
       ".dataframe > thead > tr > th,\n",
       ".dataframe > tbody > tr > td {\n",
       "  text-align: right;\n",
       "  white-space: pre-wrap;\n",
       "}\n",
       "</style>\n",
       "<small>shape: (2, 2)</small><table border=\"1\" class=\"dataframe\"><thead><tr><th>dummy</th><th>betas</th></tr><tr><td>str</td><td>list[f64]</td></tr></thead><tbody><tr><td>&quot;a&quot;</td><td>[2.000005, -1.000005]</td></tr><tr><td>&quot;b&quot;</td><td>[2.000005, -1.000005]</td></tr></tbody></table></div>"
      ],
      "text/plain": [
       "shape: (2, 2)\n",
       "┌───────┬───────────────────────┐\n",
       "│ dummy ┆ betas                 │\n",
       "│ ---   ┆ ---                   │\n",
       "│ str   ┆ list[f64]             │\n",
       "╞═══════╪═══════════════════════╡\n",
       "│ a     ┆ [2.000005, -1.000005] │\n",
       "│ b     ┆ [2.000005, -1.000005] │\n",
       "└───────┴───────────────────────┘"
      ]
     },
     "execution_count": 4,
     "metadata": {},
     "output_type": "execute_result"
    }
   ],
   "source": [
    "df.group_by(\"dummy\").agg(\n",
    "    pl.col(\"y\").num_ext.lstsq([pl.col(\"a\"), pl.col(\"b\")], add_bias = False)\n",
    ")"
   ]
  },
  {
   "cell_type": "code",
   "execution_count": 6,
   "id": "3f9ad447-c7bb-4830-b996-882a382f0854",
   "metadata": {},
   "outputs": [
    {
     "name": "stdout",
     "output_type": "stream",
     "text": [
      "757 µs ± 19.6 µs per loop (mean ± std. dev. of 7 runs, 1,000 loops each)\n"
     ]
    }
   ],
   "source": [
    "%timeit df.select(pl.col(\"y\").num_ext.lstsq([pl.col(\"a\"), pl.col(\"b\")]))"
   ]
  },
  {
   "cell_type": "code",
   "execution_count": 8,
   "id": "ff9b6b21-532a-4655-a8a4-e5396c760a67",
   "metadata": {},
   "outputs": [
    {
     "ename": "ComputeError",
     "evalue": "the length of the window expression did not match that of the group\n> group: (\"a\")\n> group length: 1\n> output: 'shape: (2,)\nSeries: '' [f64]\n[\n\t2.000005\n\t-1.000005\n]'\n\nError originated in expression: 'col(\"y\")./home/abstractqqq/Desktop/MY/Projects/polars_ds_extension/.venv/lib/python3.11/site-packages/polars_ds/_polars_ds.cpython-311-x86_64-linux-gnu.so:pl_lstsq([false.strict_cast(Boolean), col(\"a\"), col(\"b\")]).over([col(\"dummy\")])'",
     "output_type": "error",
     "traceback": [
      "\u001b[0;31m---------------------------------------------------------------------------\u001b[0m",
      "\u001b[0;31mComputeError\u001b[0m                              Traceback (most recent call last)",
      "Cell \u001b[0;32mIn[8], line 1\u001b[0m\n\u001b[0;32m----> 1\u001b[0m \u001b[43mdf\u001b[49m\u001b[38;5;241;43m.\u001b[39;49m\u001b[43mselect\u001b[49m\u001b[43m(\u001b[49m\n\u001b[1;32m      2\u001b[0m \u001b[43m    \u001b[49m\u001b[43mpl\u001b[49m\u001b[38;5;241;43m.\u001b[39;49m\u001b[43mcol\u001b[49m\u001b[43m(\u001b[49m\u001b[38;5;124;43m\"\u001b[39;49m\u001b[38;5;124;43my\u001b[39;49m\u001b[38;5;124;43m\"\u001b[39;49m\u001b[43m)\u001b[49m\u001b[38;5;241;43m.\u001b[39;49m\u001b[43mnum_ext\u001b[49m\u001b[38;5;241;43m.\u001b[39;49m\u001b[43mlstsq\u001b[49m\u001b[43m(\u001b[49m\u001b[43m[\u001b[49m\u001b[43mpl\u001b[49m\u001b[38;5;241;43m.\u001b[39;49m\u001b[43mcol\u001b[49m\u001b[43m(\u001b[49m\u001b[38;5;124;43m\"\u001b[39;49m\u001b[38;5;124;43ma\u001b[39;49m\u001b[38;5;124;43m\"\u001b[39;49m\u001b[43m)\u001b[49m\u001b[43m,\u001b[49m\u001b[43m \u001b[49m\u001b[43mpl\u001b[49m\u001b[38;5;241;43m.\u001b[39;49m\u001b[43mcol\u001b[49m\u001b[43m(\u001b[49m\u001b[38;5;124;43m\"\u001b[39;49m\u001b[38;5;124;43mb\u001b[39;49m\u001b[38;5;124;43m\"\u001b[39;49m\u001b[43m)\u001b[49m\u001b[43m]\u001b[49m\u001b[43m)\u001b[49m\u001b[38;5;241;43m.\u001b[39;49m\u001b[43mover\u001b[49m\u001b[43m(\u001b[49m\u001b[38;5;124;43m\"\u001b[39;49m\u001b[38;5;124;43mdummy\u001b[39;49m\u001b[38;5;124;43m\"\u001b[39;49m\u001b[43m)\u001b[49m\n\u001b[1;32m      3\u001b[0m \u001b[43m)\u001b[49m\n",
      "File \u001b[0;32m~/Desktop/MY/Projects/polars_ds_extension/.venv/lib/python3.11/site-packages/polars/dataframe/frame.py:7766\u001b[0m, in \u001b[0;36mDataFrame.select\u001b[0;34m(self, *exprs, **named_exprs)\u001b[0m\n\u001b[1;32m   7664\u001b[0m \u001b[38;5;28;01mdef\u001b[39;00m \u001b[38;5;21mselect\u001b[39m(\n\u001b[1;32m   7665\u001b[0m     \u001b[38;5;28mself\u001b[39m, \u001b[38;5;241m*\u001b[39mexprs: IntoExpr \u001b[38;5;241m|\u001b[39m Iterable[IntoExpr], \u001b[38;5;241m*\u001b[39m\u001b[38;5;241m*\u001b[39mnamed_exprs: IntoExpr\n\u001b[1;32m   7666\u001b[0m ) \u001b[38;5;241m-\u001b[39m\u001b[38;5;241m>\u001b[39m DataFrame:\n\u001b[1;32m   7667\u001b[0m \u001b[38;5;250m    \u001b[39m\u001b[38;5;124;03m\"\"\"\u001b[39;00m\n\u001b[1;32m   7668\u001b[0m \u001b[38;5;124;03m    Select columns from this DataFrame.\u001b[39;00m\n\u001b[1;32m   7669\u001b[0m \n\u001b[0;32m   (...)\u001b[0m\n\u001b[1;32m   7764\u001b[0m \n\u001b[1;32m   7765\u001b[0m \u001b[38;5;124;03m    \"\"\"\u001b[39;00m\n\u001b[0;32m-> 7766\u001b[0m     \u001b[38;5;28;01mreturn\u001b[39;00m \u001b[38;5;28;43mself\u001b[39;49m\u001b[38;5;241;43m.\u001b[39;49m\u001b[43mlazy\u001b[49m\u001b[43m(\u001b[49m\u001b[43m)\u001b[49m\u001b[38;5;241;43m.\u001b[39;49m\u001b[43mselect\u001b[49m\u001b[43m(\u001b[49m\u001b[38;5;241;43m*\u001b[39;49m\u001b[43mexprs\u001b[49m\u001b[43m,\u001b[49m\u001b[43m \u001b[49m\u001b[38;5;241;43m*\u001b[39;49m\u001b[38;5;241;43m*\u001b[39;49m\u001b[43mnamed_exprs\u001b[49m\u001b[43m)\u001b[49m\u001b[38;5;241;43m.\u001b[39;49m\u001b[43mcollect\u001b[49m\u001b[43m(\u001b[49m\u001b[43m_eager\u001b[49m\u001b[38;5;241;43m=\u001b[39;49m\u001b[38;5;28;43;01mTrue\u001b[39;49;00m\u001b[43m)\u001b[49m\n",
      "File \u001b[0;32m~/Desktop/MY/Projects/polars_ds_extension/.venv/lib/python3.11/site-packages/polars/utils/deprecation.py:100\u001b[0m, in \u001b[0;36mdeprecate_renamed_parameter.<locals>.decorate.<locals>.wrapper\u001b[0;34m(*args, **kwargs)\u001b[0m\n\u001b[1;32m     95\u001b[0m \u001b[38;5;129m@wraps\u001b[39m(function)\n\u001b[1;32m     96\u001b[0m \u001b[38;5;28;01mdef\u001b[39;00m \u001b[38;5;21mwrapper\u001b[39m(\u001b[38;5;241m*\u001b[39margs: P\u001b[38;5;241m.\u001b[39margs, \u001b[38;5;241m*\u001b[39m\u001b[38;5;241m*\u001b[39mkwargs: P\u001b[38;5;241m.\u001b[39mkwargs) \u001b[38;5;241m-\u001b[39m\u001b[38;5;241m>\u001b[39m T:\n\u001b[1;32m     97\u001b[0m     _rename_keyword_argument(\n\u001b[1;32m     98\u001b[0m         old_name, new_name, kwargs, function\u001b[38;5;241m.\u001b[39m\u001b[38;5;18m__name__\u001b[39m, version\n\u001b[1;32m     99\u001b[0m     )\n\u001b[0;32m--> 100\u001b[0m     \u001b[38;5;28;01mreturn\u001b[39;00m \u001b[43mfunction\u001b[49m\u001b[43m(\u001b[49m\u001b[38;5;241;43m*\u001b[39;49m\u001b[43margs\u001b[49m\u001b[43m,\u001b[49m\u001b[43m \u001b[49m\u001b[38;5;241;43m*\u001b[39;49m\u001b[38;5;241;43m*\u001b[39;49m\u001b[43mkwargs\u001b[49m\u001b[43m)\u001b[49m\n",
      "File \u001b[0;32m~/Desktop/MY/Projects/polars_ds_extension/.venv/lib/python3.11/site-packages/polars/lazyframe/frame.py:1787\u001b[0m, in \u001b[0;36mLazyFrame.collect\u001b[0;34m(self, type_coercion, predicate_pushdown, projection_pushdown, simplify_expression, slice_pushdown, comm_subplan_elim, comm_subexpr_elim, no_optimization, streaming, _eager)\u001b[0m\n\u001b[1;32m   1774\u001b[0m     comm_subplan_elim \u001b[38;5;241m=\u001b[39m \u001b[38;5;28;01mFalse\u001b[39;00m\n\u001b[1;32m   1776\u001b[0m ldf \u001b[38;5;241m=\u001b[39m \u001b[38;5;28mself\u001b[39m\u001b[38;5;241m.\u001b[39m_ldf\u001b[38;5;241m.\u001b[39moptimization_toggle(\n\u001b[1;32m   1777\u001b[0m     type_coercion,\n\u001b[1;32m   1778\u001b[0m     predicate_pushdown,\n\u001b[0;32m   (...)\u001b[0m\n\u001b[1;32m   1785\u001b[0m     _eager,\n\u001b[1;32m   1786\u001b[0m )\n\u001b[0;32m-> 1787\u001b[0m \u001b[38;5;28;01mreturn\u001b[39;00m wrap_df(ldf\u001b[38;5;241m.\u001b[39mcollect())\n",
      "\u001b[0;31mComputeError\u001b[0m: the length of the window expression did not match that of the group\n> group: (\"a\")\n> group length: 1\n> output: 'shape: (2,)\nSeries: '' [f64]\n[\n\t2.000005\n\t-1.000005\n]'\n\nError originated in expression: 'col(\"y\")./home/abstractqqq/Desktop/MY/Projects/polars_ds_extension/.venv/lib/python3.11/site-packages/polars_ds/_polars_ds.cpython-311-x86_64-linux-gnu.so:pl_lstsq([false.strict_cast(Boolean), col(\"a\"), col(\"b\")]).over([col(\"dummy\")])'"
     ]
    }
   ],
   "source": [
    "df.select(\n",
    "    pl.col(\"y\").num_ext.lstsq([pl.col(\"a\"), pl.col(\"b\")]).over(\"dummy\")\n",
    ")"
   ]
  },
  {
   "cell_type": "code",
   "execution_count": null,
   "id": "2bbfd7a6-2edd-4406-9729-c6d649429d8f",
   "metadata": {},
   "outputs": [],
   "source": [
    "%timeit df.select(pl.col(\"y\").num_ext.lstsq2(pl.col(\"a\"), pl.col(\"b\")))"
   ]
  },
  {
   "cell_type": "code",
   "execution_count": null,
   "id": "86caf610-76c2-4a58-9199-71f05a3d5afb",
   "metadata": {},
   "outputs": [],
   "source": [
    "%timeit df.select(pl.col(\"y\").num_ext.lstsq(pl.col(\"a\"), pl.col(\"b\")))"
   ]
  },
  {
   "cell_type": "code",
   "execution_count": null,
   "id": "fe338708-1585-4682-937e-40099f895a76",
   "metadata": {},
   "outputs": [],
   "source": [
    "%timeit df.select(pl.col(\"a\").num_ext.gcd(15))\n",
    "%timeit df.select(pl.col(\"a\").num_ext.gcd(pl.col(\"b\")))"
   ]
  },
  {
   "cell_type": "code",
   "execution_count": null,
   "id": "275dac95-04ed-4c0e-9be9-4d9631e25a58",
   "metadata": {},
   "outputs": [],
   "source": [
    "df.select(pl.col(\"a\").num_ext.gcd2(pl.col(\"b\")))"
   ]
  },
  {
   "cell_type": "code",
   "execution_count": null,
   "id": "9acfcf37-85f9-44d6-96b4-897cd3fca4e6",
   "metadata": {},
   "outputs": [],
   "source": []
  },
  {
   "cell_type": "code",
   "execution_count": null,
   "id": "803ba306-791f-4a1e-a5b6-a6d6b9b55447",
   "metadata": {},
   "outputs": [],
   "source": []
  }
 ],
 "metadata": {
  "kernelspec": {
   "display_name": "Python 3 (ipykernel)",
   "language": "python",
   "name": "python3"
  },
  "language_info": {
   "codemirror_mode": {
    "name": "ipython",
    "version": 3
   },
   "file_extension": ".py",
   "mimetype": "text/x-python",
   "name": "python",
   "nbconvert_exporter": "python",
   "pygments_lexer": "ipython3",
   "version": "3.11.5"
  }
 },
 "nbformat": 4,
 "nbformat_minor": 5
}
