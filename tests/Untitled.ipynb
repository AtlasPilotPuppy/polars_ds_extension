{
 "cells": [
  {
   "cell_type": "code",
   "execution_count": 1,
   "id": "529f4422-5c3a-4bd6-abe0-a15edfc62abb",
   "metadata": {},
   "outputs": [],
   "source": [
    "from polars_ds.extensions import StrExt, NumExt\n",
    "import polars as pl\n",
    "import numpy as np "
   ]
  },
  {
   "cell_type": "code",
   "execution_count": 2,
   "id": "65b702bd-fbc3-447f-a870-7d7faa222ceb",
   "metadata": {},
   "outputs": [],
   "source": [
    "size = 2048\n",
    "df = pl.DataFrame({\n",
    "    \"a\": np.sin(np.array(range(size))),\n",
    "    \"b\": np.sin(np.array(range(size))),\n",
    "    \"c\": np.sin(np.array(range(size))),\n",
    "    \"d\": np.sin(np.array(range(size))),\n",
    "    \"e\": np.sin(np.array(range(size))),\n",
    "})\n",
    "npa = df[\"a\"].to_numpy()\n",
    "npb = df[\"b\"].to_numpy()\n",
    "npc = df[\"c\"].to_numpy()\n",
    "npd = df[\"d\"].to_numpy()\n",
    "npe = df[\"e\"].to_numpy()"
   ]
  },
  {
   "cell_type": "code",
   "execution_count": 5,
   "id": "5def88d8-7c33-4eb9-8ced-8a2892a6e754",
   "metadata": {},
   "outputs": [
    {
     "name": "stdout",
     "output_type": "stream",
     "text": [
      "12.4 µs ± 71.7 ns per loop (mean ± std. dev. of 7 runs, 100,000 loops each)\n"
     ]
    }
   ],
   "source": [
    "%%timeit\n",
    "np.fft.rfft(npa).real"
   ]
  },
  {
   "cell_type": "code",
   "execution_count": 4,
   "id": "08e70184-72ab-4815-814c-e25f0b3c1d64",
   "metadata": {},
   "outputs": [
    {
     "name": "stdout",
     "output_type": "stream",
     "text": [
      "114 µs ± 4.7 µs per loop (mean ± std. dev. of 7 runs, 10,000 loops each)\n"
     ]
    }
   ],
   "source": [
    "%%timeit\n",
    "df.select(\n",
    "    pl.col(\"a\").num_ext.fft().struct.field(\"re\"),\n",
    ")"
   ]
  },
  {
   "cell_type": "code",
   "execution_count": 8,
   "id": "87868f55-db7b-4b58-bfa7-56e6fbd1130d",
   "metadata": {},
   "outputs": [
    {
     "name": "stdout",
     "output_type": "stream",
     "text": [
      "216 µs ± 6.39 µs per loop (mean ± std. dev. of 7 runs, 1,000 loops each)\n"
     ]
    }
   ],
   "source": [
    "%%timeit\n",
    "df.select(\n",
    "    pl.col(\"a\").num_ext.fft(),\n",
    "     pl.col(\"b\").num_ext.fft(),\n",
    "     pl.col(\"c\").num_ext.fft(),\n",
    "     pl.col(\"d\").num_ext.fft(),\n",
    "     pl.col(\"e\").num_ext.fft()\n",
    ")"
   ]
  },
  {
   "cell_type": "code",
   "execution_count": 9,
   "id": "78dae23d-f7aa-41f2-856f-18da70170828",
   "metadata": {},
   "outputs": [
    {
     "name": "stdout",
     "output_type": "stream",
     "text": [
      "51.1 µs ± 312 ns per loop (mean ± std. dev. of 7 runs, 10,000 loops each)\n"
     ]
    }
   ],
   "source": [
    "%%timeit \n",
    "_ = np.fft.rfft(npa)\n",
    "_ = np.fft.rfft(npb)\n",
    "_ = np.fft.rfft(npc)\n",
    "_ = np.fft.rfft(npd)\n",
    "_ = np.fft.rfft(npe)"
   ]
  },
  {
   "cell_type": "code",
   "execution_count": null,
   "id": "7d6379fb-b2f5-45e4-bb19-d66a21d4c86e",
   "metadata": {},
   "outputs": [],
   "source": []
  },
  {
   "cell_type": "code",
   "execution_count": 10,
   "id": "f82ebcaa-25df-4ddd-b166-55f06e979593",
   "metadata": {},
   "outputs": [
    {
     "data": {
      "text/html": [
       "<div><style>\n",
       ".dataframe > thead > tr > th,\n",
       ".dataframe > tbody > tr > td {\n",
       "  text-align: right;\n",
       "  white-space: pre-wrap;\n",
       "}\n",
       "</style>\n",
       "<small>shape: (5, 4)</small><table border=\"1\" class=\"dataframe\"><thead><tr><th>dummy</th><th>a</th><th>b</th><th>y</th></tr><tr><td>str</td><td>i64</td><td>i64</td><td>f64</td></tr></thead><tbody><tr><td>&quot;a&quot;</td><td>0</td><td>-100000</td><td>100000.5</td></tr><tr><td>&quot;a&quot;</td><td>1</td><td>-99999</td><td>100001.5</td></tr><tr><td>&quot;a&quot;</td><td>2</td><td>-99998</td><td>100002.5</td></tr><tr><td>&quot;a&quot;</td><td>3</td><td>-99997</td><td>100003.5</td></tr><tr><td>&quot;a&quot;</td><td>4</td><td>-99996</td><td>100004.5</td></tr></tbody></table></div>"
      ],
      "text/plain": [
       "shape: (5, 4)\n",
       "┌───────┬─────┬─────────┬──────────┐\n",
       "│ dummy ┆ a   ┆ b       ┆ y        │\n",
       "│ ---   ┆ --- ┆ ---     ┆ ---      │\n",
       "│ str   ┆ i64 ┆ i64     ┆ f64      │\n",
       "╞═══════╪═════╪═════════╪══════════╡\n",
       "│ a     ┆ 0   ┆ -100000 ┆ 100000.5 │\n",
       "│ a     ┆ 1   ┆ -99999  ┆ 100001.5 │\n",
       "│ a     ┆ 2   ┆ -99998  ┆ 100002.5 │\n",
       "│ a     ┆ 3   ┆ -99997  ┆ 100003.5 │\n",
       "│ a     ┆ 4   ┆ -99996  ┆ 100004.5 │\n",
       "└───────┴─────┴─────────┴──────────┘"
      ]
     },
     "execution_count": 10,
     "metadata": {},
     "output_type": "execute_result"
    }
   ],
   "source": [
    "df = pl.DataFrame({\n",
    "    \"dummy\": [\"a\"] * 50_000 + [\"b\"] * 50_000,\n",
    "    \"a\": range(100_000),\n",
    "    \"b\": range(-100_000, 0),\n",
    "    \"y\": pl.Series(range(100_000, 200_000)) + 0.5\n",
    "})\n",
    "\n",
    "df.head()"
   ]
  },
  {
   "cell_type": "code",
   "execution_count": 12,
   "id": "84fe99db-1729-46a3-b063-795ec7ea039d",
   "metadata": {},
   "outputs": [
    {
     "name": "stdout",
     "output_type": "stream",
     "text": [
      "738 µs ± 12 µs per loop (mean ± std. dev. of 7 runs, 1,000 loops each)\n"
     ]
    }
   ],
   "source": [
    "%%timeit\n",
    "df.select(\n",
    "    pl.col(\"y\").num_ext.lstsq(pl.col(\"a\"), add_bias=True)\n",
    ")"
   ]
  },
  {
   "cell_type": "code",
   "execution_count": null,
   "id": "5821d4d0-fe4f-4864-9d56-0a2c0ef03334",
   "metadata": {},
   "outputs": [],
   "source": [
    "df.group_by(\"dummy\").agg(\n",
    "    pl.col(\"y\").num_ext.lstsq(pl.col(\"a\"), pl.col(\"b\"), add_bias = True)\n",
    ")"
   ]
  },
  {
   "cell_type": "code",
   "execution_count": null,
   "id": "3f9ad447-c7bb-4830-b996-882a382f0854",
   "metadata": {},
   "outputs": [],
   "source": [
    "df.select(pl.col(\"y\").num_ext.lstsq(pl.col(\"a\"), pl.col(\"b\")))"
   ]
  },
  {
   "cell_type": "code",
   "execution_count": null,
   "id": "ff9b6b21-532a-4655-a8a4-e5396c760a67",
   "metadata": {},
   "outputs": [],
   "source": [
    "df.select(\n",
    "    pl.col(\"y\").num_ext.lstsq(pl.col(\"a\"), pl.col(\"b\")).over(\"dummy\")\n",
    ")"
   ]
  },
  {
   "cell_type": "code",
   "execution_count": null,
   "id": "9acfcf37-85f9-44d6-96b4-897cd3fca4e6",
   "metadata": {},
   "outputs": [],
   "source": []
  },
  {
   "cell_type": "code",
   "execution_count": null,
   "id": "803ba306-791f-4a1e-a5b6-a6d6b9b55447",
   "metadata": {},
   "outputs": [],
   "source": []
  }
 ],
 "metadata": {
  "kernelspec": {
   "display_name": "Python 3 (ipykernel)",
   "language": "python",
   "name": "python3"
  },
  "language_info": {
   "codemirror_mode": {
    "name": "ipython",
    "version": 3
   },
   "file_extension": ".py",
   "mimetype": "text/x-python",
   "name": "python",
   "nbconvert_exporter": "python",
   "pygments_lexer": "ipython3",
   "version": "3.11.5"
  }
 },
 "nbformat": 4,
 "nbformat_minor": 5
}
