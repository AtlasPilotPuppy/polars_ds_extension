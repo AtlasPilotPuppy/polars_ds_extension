{
 "cells": [
  {
   "cell_type": "code",
   "execution_count": 1,
   "metadata": {},
   "outputs": [
    {
     "name": "stdout",
     "output_type": "stream",
     "text": [
      "0.5.1\n"
     ]
    }
   ],
   "source": [
    "import polars as pl\n",
    "import pandas as pd\n",
    "import polars_ds as pds\n",
    "# Requires version >= v0.5.1\n",
    "print(pds.__version__)"
   ]
  },
  {
   "cell_type": "code",
   "execution_count": 2,
   "metadata": {},
   "outputs": [
    {
     "data": {
      "text/html": [
       "<div><style>\n",
       ".dataframe > thead > tr,\n",
       ".dataframe > tbody > tr {\n",
       "  text-align: right;\n",
       "  white-space: pre-wrap;\n",
       "}\n",
       "</style>\n",
       "<small>shape: (5, 8)</small><table border=\"1\" class=\"dataframe\"><thead><tr><th>x1</th><th>x2</th><th>x3</th><th>x4</th><th>x5</th><th>code</th><th>id</th><th>y</th></tr><tr><td>f64</td><td>f64</td><td>f64</td><td>f64</td><td>f64</td><td>i32</td><td>i64</td><td>f64</td></tr></thead><tbody><tr><td>0.780329</td><td>0.906319</td><td>0.483095</td><td>0.733641</td><td>0.840432</td><td>1</td><td>0</td><td>0.581813</td></tr><tr><td>0.694766</td><td>0.03517</td><td>0.185673</td><td>0.96588</td><td>0.176611</td><td>0</td><td>1</td><td>0.498614</td></tr><tr><td>0.449586</td><td>0.339679</td><td>0.362334</td><td>0.969145</td><td>0.225008</td><td>3</td><td>2</td><td>0.419983</td></tr><tr><td>0.909177</td><td>0.642756</td><td>0.191692</td><td>0.605953</td><td>0.369132</td><td>1</td><td>3</td><td>0.659754</td></tr><tr><td>0.654544</td><td>0.785279</td><td>0.616813</td><td>0.266338</td><td>0.493515</td><td>2</td><td>4</td><td>0.420261</td></tr></tbody></table></div>"
      ],
      "text/plain": [
       "shape: (5, 8)\n",
       "┌──────────┬──────────┬──────────┬──────────┬──────────┬──────┬─────┬──────────┐\n",
       "│ x1       ┆ x2       ┆ x3       ┆ x4       ┆ x5       ┆ code ┆ id  ┆ y        │\n",
       "│ ---      ┆ ---      ┆ ---      ┆ ---      ┆ ---      ┆ ---  ┆ --- ┆ ---      │\n",
       "│ f64      ┆ f64      ┆ f64      ┆ f64      ┆ f64      ┆ i32  ┆ i64 ┆ f64      │\n",
       "╞══════════╪══════════╪══════════╪══════════╪══════════╪══════╪═════╪══════════╡\n",
       "│ 0.780329 ┆ 0.906319 ┆ 0.483095 ┆ 0.733641 ┆ 0.840432 ┆ 1    ┆ 0   ┆ 0.581813 │\n",
       "│ 0.694766 ┆ 0.03517  ┆ 0.185673 ┆ 0.96588  ┆ 0.176611 ┆ 0    ┆ 1   ┆ 0.498614 │\n",
       "│ 0.449586 ┆ 0.339679 ┆ 0.362334 ┆ 0.969145 ┆ 0.225008 ┆ 3    ┆ 2   ┆ 0.419983 │\n",
       "│ 0.909177 ┆ 0.642756 ┆ 0.191692 ┆ 0.605953 ┆ 0.369132 ┆ 1    ┆ 3   ┆ 0.659754 │\n",
       "│ 0.654544 ┆ 0.785279 ┆ 0.616813 ┆ 0.266338 ┆ 0.493515 ┆ 2    ┆ 4   ┆ 0.420261 │\n",
       "└──────────┴──────────┴──────────┴──────────┴──────────┴──────┴─────┴──────────┘"
      ]
     },
     "execution_count": 2,
     "metadata": {},
     "output_type": "execute_result"
    }
   ],
   "source": [
    "size = 50_000\n",
    "df = pds.random_data(size=size, n_cols=0).select(\n",
    "    pds.random(0.0, 1.0).alias(\"x1\"),\n",
    "    pds.random(0.0, 1.0).alias(\"x2\"),\n",
    "    pds.random(0.0, 1.0).alias(\"x3\"),\n",
    "    pds.random(0.0, 1.0).alias(\"x4\"),\n",
    "    pds.random(0.0, 1.0).alias(\"x5\"),\n",
    "    pds.random_int(0,4).alias(\"code\"),\n",
    "    pl.Series(name = \"id\", values = range(size))\n",
    ").with_columns(\n",
    "    y = pl.col(\"x1\") * 0.5 + pl.col(\"x2\") * 0.25 - pl.col(\"x3\") * 0.15 + pl.col(\"x4\") *0.2 - pl.col(\"x5\") * 0.13 + pds.random() * 0.0001,\n",
    ")\n",
    "df.head()"
   ]
  },
  {
   "cell_type": "code",
   "execution_count": 3,
   "metadata": {},
   "outputs": [],
   "source": [
    "# Prepare data for Scikit-learn. We assume the Scikit-learn + Pandas combination. \n",
    "# One can simply replace to_pandas() by to_numpy() to test the Scikit-learn + NumPy combination\n",
    "from sklearn.linear_model import Lasso, Ridge, LinearRegression\n",
    "df_x = df.select(\"x1\", \"x2\", \"x3\", \"x4\", \"x5\").to_pandas()\n",
    "df_y = df.select(\"y\").to_pandas()"
   ]
  },
  {
   "cell_type": "markdown",
   "metadata": {},
   "source": [
    "# Benchmarks \n",
    "\n",
    "I did not invent any of the algorithms that solves the linear regression problem. Not did I make any improvement to existing algorithms. I only rewrote them in Rust, using Faer, and brought the algorithms alive with Polars.\n",
    "\n",
    "1. Polars DS Linear Regression vs. Scikit learn LinearRegression\n",
    "2. Polars DS Ridge Regression vs. Scikit learn Ridge\n",
    "3. Polars DS Lasso Regression vs. Scikit learn Lasso"
   ]
  },
  {
   "cell_type": "code",
   "execution_count": 4,
   "metadata": {},
   "outputs": [
    {
     "name": "stdout",
     "output_type": "stream",
     "text": [
      "Polars DS:  shape: (5,)\n",
      "Series: '' [f64]\n",
      "[\n",
      "\t0.500019\n",
      "\t0.25002\n",
      "\t-0.149982\n",
      "\t0.200018\n",
      "\t-0.129981\n",
      "]\n",
      "Sklearn:  [[ 0.50001899  0.25001959 -0.14998199  0.20001838 -0.12998092]]\n"
     ]
    }
   ],
   "source": [
    "# Polars DS way\n",
    "print(\n",
    "    \"Polars DS: \",\n",
    "    df.select(\n",
    "        pds.query_lstsq(\n",
    "            \"x1\", \"x2\", \"x3\", \"x4\", \"x5\",\n",
    "            target = \"y\",\n",
    "            method = \"normal\",\n",
    "        )\n",
    "    ).item(0, 0)\n",
    ")\n",
    "\n",
    "# Sklearn\n",
    "reg = LinearRegression(fit_intercept=False)\n",
    "reg.fit(df_x, df_y)\n",
    "print(\"Sklearn: \", reg.coef_)"
   ]
  },
  {
   "cell_type": "code",
   "execution_count": 5,
   "metadata": {},
   "outputs": [
    {
     "name": "stdout",
     "output_type": "stream",
     "text": [
      "1.32 ms ± 2 µs per loop (mean ± std. dev. of 7 runs, 1,000 loops each)\n"
     ]
    }
   ],
   "source": [
    "%%timeit \n",
    "df.select(\n",
    "    pds.query_lstsq(\n",
    "        \"x1\", \"x2\", \"x3\", \"x4\", \"x5\",\n",
    "        target = \"y\",\n",
    "        method = \"normal\",\n",
    "    )\n",
    ")"
   ]
  },
  {
   "cell_type": "code",
   "execution_count": 6,
   "metadata": {},
   "outputs": [
    {
     "name": "stdout",
     "output_type": "stream",
     "text": [
      "2.89 ms ± 23.4 µs per loop (mean ± std. dev. of 7 runs, 100 loops each)\n"
     ]
    }
   ],
   "source": [
    "%%timeit\n",
    "reg = LinearRegression(fit_intercept=False)\n",
    "reg.fit(df_x, df_y)"
   ]
  },
  {
   "cell_type": "code",
   "execution_count": 7,
   "metadata": {},
   "outputs": [
    {
     "name": "stdout",
     "output_type": "stream",
     "text": [
      "Polars DS:  shape: (5,)\n",
      "Series: '' [f64]\n",
      "[\n",
      "\t0.292946\n",
      "\t0.04519\n",
      "\t0.0\n",
      "\t0.0\n",
      "\t0.0\n",
      "]\n",
      "Sklearn:  [0.29296963 0.0451728  0.         0.         0.        ]\n"
     ]
    }
   ],
   "source": [
    "# Polars DS way\n",
    "print(\n",
    "    \"Polars DS: \",\n",
    "    df.select(\n",
    "        pds.query_lstsq(\n",
    "            \"x1\", \"x2\", \"x3\", \"x4\", \"x5\",\n",
    "            target = \"y\",\n",
    "            method = \"l1\",\n",
    "            l1_reg = 0.1\n",
    "        )\n",
    "    ).item(0, 0)\n",
    ")\n",
    "\n",
    "# Sklearn\n",
    "reg = Lasso(alpha = 0.1, fit_intercept=False)\n",
    "reg.fit(df_x, df_y)\n",
    "print(\"Sklearn: \", reg.coef_)"
   ]
  },
  {
   "cell_type": "code",
   "execution_count": 8,
   "metadata": {},
   "outputs": [
    {
     "name": "stdout",
     "output_type": "stream",
     "text": [
      "557 µs ± 2.88 µs per loop (mean ± std. dev. of 7 runs, 1,000 loops each)\n"
     ]
    }
   ],
   "source": [
    "%%timeit\n",
    "df.select(\n",
    "    pds.query_lstsq(\n",
    "        \"x1\", \"x2\", \"x3\", \"x4\", \"x5\",\n",
    "        target = \"y\",\n",
    "        method = \"l1\",\n",
    "        l1_reg = 0.1\n",
    "    )\n",
    ")"
   ]
  },
  {
   "cell_type": "code",
   "execution_count": 9,
   "metadata": {},
   "outputs": [
    {
     "name": "stdout",
     "output_type": "stream",
     "text": [
      "2.61 ms ± 131 µs per loop (mean ± std. dev. of 7 runs, 100 loops each)\n"
     ]
    }
   ],
   "source": [
    "%%timeit\n",
    "reg = Lasso(alpha = 0.1, fit_intercept=False)\n",
    "reg.fit(df_x, df_y)"
   ]
  },
  {
   "cell_type": "code",
   "execution_count": 10,
   "metadata": {},
   "outputs": [
    {
     "name": "stdout",
     "output_type": "stream",
     "text": [
      "Polars DS:  shape: (5,)\n",
      "Series: '' [f64]\n",
      "[\n",
      "\t0.50001\n",
      "\t0.250017\n",
      "\t-0.149975\n",
      "\t0.200017\n",
      "\t-0.129975\n",
      "]\n",
      "Sklearn:  [[ 0.50001005  0.2500166  -0.14997534  0.20001654 -0.12997483]]\n"
     ]
    }
   ],
   "source": [
    "# Polars DS way\n",
    "print(\n",
    "    \"Polars DS: \",\n",
    "    df.select(\n",
    "        pds.query_lstsq(\n",
    "            \"x1\", \"x2\", \"x3\", \"x4\", \"x5\",\n",
    "            target = \"y\",\n",
    "            method = \"l2\",\n",
    "            l2_reg = 0.1\n",
    "        )\n",
    "    ).item(0, 0)\n",
    ")\n",
    "\n",
    "# Sklearn\n",
    "reg = Ridge(alpha = 0.1, fit_intercept=False)\n",
    "reg.fit(df_x, df_y)\n",
    "print(\"Sklearn: \", reg.coef_)"
   ]
  },
  {
   "cell_type": "code",
   "execution_count": 11,
   "metadata": {},
   "outputs": [
    {
     "name": "stdout",
     "output_type": "stream",
     "text": [
      "461 µs ± 2.69 µs per loop (mean ± std. dev. of 7 runs, 1,000 loops each)\n"
     ]
    }
   ],
   "source": [
    "%%timeit\n",
    "df.select(\n",
    "    pds.query_lstsq(\n",
    "        \"x1\", \"x2\", \"x3\", \"x4\", \"x5\",\n",
    "        target = \"y\",\n",
    "        method = \"l2\",\n",
    "        l2_reg = 0.1\n",
    "    )\n",
    ")"
   ]
  },
  {
   "cell_type": "code",
   "execution_count": 12,
   "metadata": {},
   "outputs": [
    {
     "name": "stdout",
     "output_type": "stream",
     "text": [
      "1.62 ms ± 10.1 µs per loop (mean ± std. dev. of 7 runs, 1,000 loops each)\n"
     ]
    }
   ],
   "source": [
    "%%timeit\n",
    "reg = Ridge(alpha = 0.1, fit_intercept=False)\n",
    "reg.fit(df_x, df_y)"
   ]
  },
  {
   "cell_type": "markdown",
   "metadata": {},
   "source": [
    "# What you can do with Polars DS but will be hard for Scikit-learn"
   ]
  },
  {
   "cell_type": "code",
   "execution_count": 13,
   "metadata": {},
   "outputs": [
    {
     "data": {
      "text/html": [
       "<div><style>\n",
       ".dataframe > thead > tr,\n",
       ".dataframe > tbody > tr {\n",
       "  text-align: right;\n",
       "  white-space: pre-wrap;\n",
       "}\n",
       "</style>\n",
       "<small>shape: (50_000, 3)</small><table border=\"1\" class=\"dataframe\"><thead><tr><th>id</th><th>pred</th><th>resid</th></tr><tr><td>i64</td><td>f64</td><td>f64</td></tr></thead><tbody><tr><td>0</td><td>0.581812</td><td>0.000001</td></tr><tr><td>1</td><td>0.498557</td><td>0.000056</td></tr><tr><td>2</td><td>0.419972</td><td>0.00001</td></tr><tr><td>3</td><td>0.659747</td><td>0.000007</td></tr><tr><td>4</td><td>0.420228</td><td>0.000033</td></tr><tr><td>&hellip;</td><td>&hellip;</td><td>&hellip;</td></tr><tr><td>49995</td><td>0.357613</td><td>-0.000018</td></tr><tr><td>49996</td><td>0.02648</td><td>-0.000021</td></tr><tr><td>49997</td><td>0.167804</td><td>-0.000018</td></tr><tr><td>49998</td><td>0.742988</td><td>0.000068</td></tr><tr><td>49999</td><td>0.14796</td><td>-0.000045</td></tr></tbody></table></div>"
      ],
      "text/plain": [
       "shape: (50_000, 3)\n",
       "┌───────┬──────────┬───────────┐\n",
       "│ id    ┆ pred     ┆ resid     │\n",
       "│ ---   ┆ ---      ┆ ---       │\n",
       "│ i64   ┆ f64      ┆ f64       │\n",
       "╞═══════╪══════════╪═══════════╡\n",
       "│ 0     ┆ 0.581812 ┆ 0.000001  │\n",
       "│ 1     ┆ 0.498557 ┆ 0.000056  │\n",
       "│ 2     ┆ 0.419972 ┆ 0.00001   │\n",
       "│ 3     ┆ 0.659747 ┆ 0.000007  │\n",
       "│ 4     ┆ 0.420228 ┆ 0.000033  │\n",
       "│ …     ┆ …        ┆ …         │\n",
       "│ 49995 ┆ 0.357613 ┆ -0.000018 │\n",
       "│ 49996 ┆ 0.02648  ┆ -0.000021 │\n",
       "│ 49997 ┆ 0.167804 ┆ -0.000018 │\n",
       "│ 49998 ┆ 0.742988 ┆ 0.000068  │\n",
       "│ 49999 ┆ 0.14796  ┆ -0.000045 │\n",
       "└───────┴──────────┴───────────┘"
      ]
     },
     "execution_count": 13,
     "metadata": {},
     "output_type": "execute_result"
    }
   ],
   "source": [
    "# Train a linear regression model on each category. And return the predictions\n",
    "df.select(\n",
    "    pl.col(\"id\"),\n",
    "    pds.query_lstsq(\n",
    "        \"x1\", \"x2\", \"x3\", \"x4\", \"x5\",\n",
    "        target = \"y\",\n",
    "        method = \"l2\",\n",
    "        l2_reg = 0.1,\n",
    "        return_pred = True\n",
    "    ).over(\"code\").alias(\"predictions\")\n",
    ").unnest(\"predictions\")"
   ]
  },
  {
   "cell_type": "code",
   "execution_count": 14,
   "metadata": {},
   "outputs": [
    {
     "data": {
      "text/html": [
       "<div><style>\n",
       ".dataframe > thead > tr,\n",
       ".dataframe > tbody > tr {\n",
       "  text-align: right;\n",
       "  white-space: pre-wrap;\n",
       "}\n",
       "</style>\n",
       "<small>shape: (4, 2)</small><table border=\"1\" class=\"dataframe\"><thead><tr><th>code</th><th>coeffs</th></tr><tr><td>i32</td><td>list[f64]</td></tr></thead><tbody><tr><td>0</td><td>[0.519924, 0.27129, -0.129133]</td></tr><tr><td>1</td><td>[0.518559, 0.273021, -0.129963]</td></tr><tr><td>2</td><td>[0.521785, 0.269559, -0.127931]</td></tr><tr><td>3</td><td>[0.521428, 0.269571, -0.129343]</td></tr></tbody></table></div>"
      ],
      "text/plain": [
       "shape: (4, 2)\n",
       "┌──────┬─────────────────────────────────┐\n",
       "│ code ┆ coeffs                          │\n",
       "│ ---  ┆ ---                             │\n",
       "│ i32  ┆ list[f64]                       │\n",
       "╞══════╪═════════════════════════════════╡\n",
       "│ 0    ┆ [0.519924, 0.27129, -0.129133]  │\n",
       "│ 1    ┆ [0.518559, 0.273021, -0.129963… │\n",
       "│ 2    ┆ [0.521785, 0.269559, -0.127931… │\n",
       "│ 3    ┆ [0.521428, 0.269571, -0.129343… │\n",
       "└──────┴─────────────────────────────────┘"
      ]
     },
     "execution_count": 14,
     "metadata": {},
     "output_type": "execute_result"
    }
   ],
   "source": [
    "# Train a linear regression model on each category. And return only the coefficients\n",
    "df.group_by(\"code\").agg(\n",
    "    pds.query_lstsq(\n",
    "        \"x1\", \"x2\", \"x3\",\n",
    "        target = \"y\",\n",
    "        method = \"l2\",\n",
    "        l2_reg = 0.1,\n",
    "    )\n",
    ").sort(\"code\")"
   ]
  },
  {
   "cell_type": "code",
   "execution_count": null,
   "metadata": {},
   "outputs": [],
   "source": []
  }
 ],
 "metadata": {
  "language_info": {
   "name": "python"
  }
 },
 "nbformat": 4,
 "nbformat_minor": 2
}
